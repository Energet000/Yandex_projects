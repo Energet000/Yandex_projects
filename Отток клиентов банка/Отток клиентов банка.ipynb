{
 "cells": [
  {
   "cell_type": "markdown",
   "metadata": {
    "toc": true
   },
   "source": [
    "<h1>Содержание<span class=\"tocSkip\"></span></h1>\n",
    "<div class=\"toc\"><ul class=\"toc-item\"><li><ul class=\"toc-item\"><li><span><a href=\"#Общее-впечатление\" data-toc-modified-id=\"Общее-впечатление-0.1\"><span class=\"toc-item-num\">0.1&nbsp;&nbsp;</span><font color=\"orange\">Общее впечатление</font></a></span></li><li><span><a href=\"#Общее-впечатление-(ревью-2)\" data-toc-modified-id=\"Общее-впечатление-(ревью-2)-0.2\"><span class=\"toc-item-num\">0.2&nbsp;&nbsp;</span><font color=\"orange\">Общее впечатление (ревью 2)</font></a></span></li></ul></li><li><span><a href=\"#Подготовка-данных\" data-toc-modified-id=\"Подготовка-данных-1\"><span class=\"toc-item-num\">1&nbsp;&nbsp;</span>Подготовка данных</a></span></li><li><span><a href=\"#Исследование-задачи\" data-toc-modified-id=\"Исследование-задачи-2\"><span class=\"toc-item-num\">2&nbsp;&nbsp;</span>Исследование задачи</a></span><ul class=\"toc-item\"><li><span><a href=\"#Логистическая-регрессия\" data-toc-modified-id=\"Логистическая-регрессия-2.1\"><span class=\"toc-item-num\">2.1&nbsp;&nbsp;</span>Логистическая регрессия</a></span></li><li><span><a href=\"#Дерево-решений\" data-toc-modified-id=\"Дерево-решений-2.2\"><span class=\"toc-item-num\">2.2&nbsp;&nbsp;</span>Дерево решений</a></span></li><li><span><a href=\"#Случайный-лес\" data-toc-modified-id=\"Случайный-лес-2.3\"><span class=\"toc-item-num\">2.3&nbsp;&nbsp;</span>Случайный лес</a></span></li></ul></li><li><span><a href=\"#Борьба-с-дисбалансом\" data-toc-modified-id=\"Борьба-с-дисбалансом-3\"><span class=\"toc-item-num\">3&nbsp;&nbsp;</span>Борьба с дисбалансом</a></span><ul class=\"toc-item\"><li><span><a href=\"#Взвешивание-классов\" data-toc-modified-id=\"Взвешивание-классов-3.1\"><span class=\"toc-item-num\">3.1&nbsp;&nbsp;</span>Взвешивание классов</a></span><ul class=\"toc-item\"><li><span><a href=\"#Логистическая-регрессия\" data-toc-modified-id=\"Логистическая-регрессия-3.1.1\"><span class=\"toc-item-num\">3.1.1&nbsp;&nbsp;</span>Логистическая регрессия</a></span></li><li><span><a href=\"#Дерево-решений\" data-toc-modified-id=\"Дерево-решений-3.1.2\"><span class=\"toc-item-num\">3.1.2&nbsp;&nbsp;</span>Дерево решений</a></span></li><li><span><a href=\"#Случайный-лес\" data-toc-modified-id=\"Случайный-лес-3.1.3\"><span class=\"toc-item-num\">3.1.3&nbsp;&nbsp;</span>Случайный лес</a></span></li></ul></li><li><span><a href=\"#Увеличение-выборки\" data-toc-modified-id=\"Увеличение-выборки-3.2\"><span class=\"toc-item-num\">3.2&nbsp;&nbsp;</span>Увеличение выборки</a></span><ul class=\"toc-item\"><li><span><a href=\"#Логистическая-регрессия\" data-toc-modified-id=\"Логистическая-регрессия-3.2.1\"><span class=\"toc-item-num\">3.2.1&nbsp;&nbsp;</span>Логистическая регрессия</a></span></li><li><span><a href=\"#Дерево-решений\" data-toc-modified-id=\"Дерево-решений-3.2.2\"><span class=\"toc-item-num\">3.2.2&nbsp;&nbsp;</span>Дерево решений</a></span></li><li><span><a href=\"#Случайный-лес\" data-toc-modified-id=\"Случайный-лес-3.2.3\"><span class=\"toc-item-num\">3.2.3&nbsp;&nbsp;</span>Случайный лес</a></span></li></ul></li></ul></li><li><span><a href=\"#Тестирование-модели\" data-toc-modified-id=\"Тестирование-модели-4\"><span class=\"toc-item-num\">4&nbsp;&nbsp;</span>Тестирование модели</a></span></li><li><span><a href=\"#Выводы\" data-toc-modified-id=\"Выводы-5\"><span class=\"toc-item-num\">5&nbsp;&nbsp;</span>Выводы</a></span></li><li><span><a href=\"#Чек-лист-готовности-проекта\" data-toc-modified-id=\"Чек-лист-готовности-проекта-6\"><span class=\"toc-item-num\">6&nbsp;&nbsp;</span>Чек-лист готовности проекта</a></span></li></ul></div>"
   ]
  },
  {
   "cell_type": "markdown",
   "metadata": {},
   "source": [
    "# Отток клиентов"
   ]
  },
  {
   "cell_type": "markdown",
   "metadata": {},
   "source": [
    "Из «Бета-Банка» стали уходить клиенты. Каждый месяц. Немного, но заметно. Банковские маркетологи посчитали: сохранять текущих клиентов дешевле, чем привлекать новых.\n",
    "\n",
    "Нужно спрогнозировать, уйдёт клиент из банка в ближайшее время или нет. Вам предоставлены исторические данные о поведении клиентов и расторжении договоров с банком. \n",
    "\n",
    "Постройте модель с предельно большим значением *F1*-меры. Чтобы сдать проект успешно, нужно довести метрику до 0.59. Проверьте *F1*-меру на тестовой выборке самостоятельно.\n",
    "\n",
    "Дополнительно измеряйте *AUC-ROC*, сравнивайте её значение с *F1*-мерой.\n",
    "\n",
    "Источник данных: [https://www.kaggle.com/barelydedicated/bank-customer-churn-modeling](https://www.kaggle.com/barelydedicated/bank-customer-churn-modeling)"
   ]
  },
  {
   "cell_type": "markdown",
   "metadata": {},
   "source": [
    "## Подготовка данных"
   ]
  },
  {
   "cell_type": "code",
   "execution_count": 1,
   "metadata": {},
   "outputs": [],
   "source": [
    "# Импортируем библиотек\n",
    "from tqdm import tqdm\n",
    "import pandas as pd\n",
    "from sklearn.linear_model import LogisticRegression\n",
    "from sklearn.tree import DecisionTreeClassifier\n",
    "from sklearn.ensemble import RandomForestClassifier\n",
    "from sklearn.metrics import f1_score, roc_auc_score\n",
    "from sklearn.model_selection import train_test_split, GridSearchCV\n",
    "from sklearn.utils import shuffle\n",
    "from sklearn.preprocessing import OneHotEncoder\n",
    "from sklearn.preprocessing import StandardScaler\n",
    "from sklearn.metrics import roc_curve\n",
    "import matplotlib.pyplot as plt\n",
    "\n",
    "import warnings\n",
    "warnings.filterwarnings(\"ignore\")"
   ]
  },
  {
   "cell_type": "code",
   "execution_count": 2,
   "metadata": {},
   "outputs": [
    {
     "data": {
      "text/html": [
       "<div>\n",
       "<style scoped>\n",
       "    .dataframe tbody tr th:only-of-type {\n",
       "        vertical-align: middle;\n",
       "    }\n",
       "\n",
       "    .dataframe tbody tr th {\n",
       "        vertical-align: top;\n",
       "    }\n",
       "\n",
       "    .dataframe thead th {\n",
       "        text-align: right;\n",
       "    }\n",
       "</style>\n",
       "<table border=\"1\" class=\"dataframe\">\n",
       "  <thead>\n",
       "    <tr style=\"text-align: right;\">\n",
       "      <th></th>\n",
       "      <th>RowNumber</th>\n",
       "      <th>CustomerId</th>\n",
       "      <th>Surname</th>\n",
       "      <th>CreditScore</th>\n",
       "      <th>Geography</th>\n",
       "      <th>Gender</th>\n",
       "      <th>Age</th>\n",
       "      <th>Tenure</th>\n",
       "      <th>Balance</th>\n",
       "      <th>NumOfProducts</th>\n",
       "      <th>HasCrCard</th>\n",
       "      <th>IsActiveMember</th>\n",
       "      <th>EstimatedSalary</th>\n",
       "      <th>Exited</th>\n",
       "    </tr>\n",
       "  </thead>\n",
       "  <tbody>\n",
       "    <tr>\n",
       "      <td>0</td>\n",
       "      <td>1</td>\n",
       "      <td>15634602</td>\n",
       "      <td>Hargrave</td>\n",
       "      <td>619</td>\n",
       "      <td>France</td>\n",
       "      <td>Female</td>\n",
       "      <td>42</td>\n",
       "      <td>2.0</td>\n",
       "      <td>0.00</td>\n",
       "      <td>1</td>\n",
       "      <td>1</td>\n",
       "      <td>1</td>\n",
       "      <td>101348.88</td>\n",
       "      <td>1</td>\n",
       "    </tr>\n",
       "    <tr>\n",
       "      <td>1</td>\n",
       "      <td>2</td>\n",
       "      <td>15647311</td>\n",
       "      <td>Hill</td>\n",
       "      <td>608</td>\n",
       "      <td>Spain</td>\n",
       "      <td>Female</td>\n",
       "      <td>41</td>\n",
       "      <td>1.0</td>\n",
       "      <td>83807.86</td>\n",
       "      <td>1</td>\n",
       "      <td>0</td>\n",
       "      <td>1</td>\n",
       "      <td>112542.58</td>\n",
       "      <td>0</td>\n",
       "    </tr>\n",
       "    <tr>\n",
       "      <td>2</td>\n",
       "      <td>3</td>\n",
       "      <td>15619304</td>\n",
       "      <td>Onio</td>\n",
       "      <td>502</td>\n",
       "      <td>France</td>\n",
       "      <td>Female</td>\n",
       "      <td>42</td>\n",
       "      <td>8.0</td>\n",
       "      <td>159660.80</td>\n",
       "      <td>3</td>\n",
       "      <td>1</td>\n",
       "      <td>0</td>\n",
       "      <td>113931.57</td>\n",
       "      <td>1</td>\n",
       "    </tr>\n",
       "    <tr>\n",
       "      <td>3</td>\n",
       "      <td>4</td>\n",
       "      <td>15701354</td>\n",
       "      <td>Boni</td>\n",
       "      <td>699</td>\n",
       "      <td>France</td>\n",
       "      <td>Female</td>\n",
       "      <td>39</td>\n",
       "      <td>1.0</td>\n",
       "      <td>0.00</td>\n",
       "      <td>2</td>\n",
       "      <td>0</td>\n",
       "      <td>0</td>\n",
       "      <td>93826.63</td>\n",
       "      <td>0</td>\n",
       "    </tr>\n",
       "    <tr>\n",
       "      <td>4</td>\n",
       "      <td>5</td>\n",
       "      <td>15737888</td>\n",
       "      <td>Mitchell</td>\n",
       "      <td>850</td>\n",
       "      <td>Spain</td>\n",
       "      <td>Female</td>\n",
       "      <td>43</td>\n",
       "      <td>2.0</td>\n",
       "      <td>125510.82</td>\n",
       "      <td>1</td>\n",
       "      <td>1</td>\n",
       "      <td>1</td>\n",
       "      <td>79084.10</td>\n",
       "      <td>0</td>\n",
       "    </tr>\n",
       "  </tbody>\n",
       "</table>\n",
       "</div>"
      ],
      "text/plain": [
       "   RowNumber  CustomerId   Surname  CreditScore Geography  Gender  Age  \\\n",
       "0          1    15634602  Hargrave          619    France  Female   42   \n",
       "1          2    15647311      Hill          608     Spain  Female   41   \n",
       "2          3    15619304      Onio          502    France  Female   42   \n",
       "3          4    15701354      Boni          699    France  Female   39   \n",
       "4          5    15737888  Mitchell          850     Spain  Female   43   \n",
       "\n",
       "   Tenure    Balance  NumOfProducts  HasCrCard  IsActiveMember  \\\n",
       "0     2.0       0.00              1          1               1   \n",
       "1     1.0   83807.86              1          0               1   \n",
       "2     8.0  159660.80              3          1               0   \n",
       "3     1.0       0.00              2          0               0   \n",
       "4     2.0  125510.82              1          1               1   \n",
       "\n",
       "   EstimatedSalary  Exited  \n",
       "0        101348.88       1  \n",
       "1        112542.58       0  \n",
       "2        113931.57       1  \n",
       "3         93826.63       0  \n",
       "4         79084.10       0  "
      ]
     },
     "metadata": {},
     "output_type": "display_data"
    },
    {
     "name": "stdout",
     "output_type": "stream",
     "text": [
      "Типы данных в столбцах\n"
     ]
    },
    {
     "data": {
      "text/plain": [
       "RowNumber            int64\n",
       "CustomerId           int64\n",
       "Surname             object\n",
       "CreditScore          int64\n",
       "Geography           object\n",
       "Gender              object\n",
       "Age                  int64\n",
       "Tenure             float64\n",
       "Balance            float64\n",
       "NumOfProducts        int64\n",
       "HasCrCard            int64\n",
       "IsActiveMember       int64\n",
       "EstimatedSalary    float64\n",
       "Exited               int64\n",
       "dtype: object"
      ]
     },
     "metadata": {},
     "output_type": "display_data"
    }
   ],
   "source": [
    "# Считаем данные\n",
    "data = pd.read_csv('/datasets/Churn.csv')\n",
    "# Посмотрим на данные\n",
    "display(data.head(5))\n",
    "print('Типы данных в столбцах')\n",
    "display(data.dtypes)"
   ]
  },
  {
   "cell_type": "markdown",
   "metadata": {},
   "source": [
    "**Выводы:** Столбец *RowNumber* дублирует индекс и не несет в себе полезной информации. Его не следует расматривать как признак для обчучения модели.\n",
    "\n",
    "Столбец *Customerid* также не несет полезной информации для модели. Его значения в некотором роде дублируют индекс\n",
    "\n",
    "Столбец *Surname*. Не думаю, что фамилия влияет на уход клиента, к тому же столбец имеет слишком много данных.\n",
    "\n",
    "Столбец *Geography*. Можно оставить, так как на банки может влиять политическая ситуация\n",
    "\n",
    "Остальные столбцы оставим в качестве признаков.\n",
    "\n",
    "Не совсем понятно какой клиент считается активным (столбец *IsActiveMember*), возможно это определяется временем проведенным в приложениях или на сайтах банка или по количеству активных финансовых операций."
   ]
  },
  {
   "cell_type": "code",
   "execution_count": 3,
   "metadata": {},
   "outputs": [
    {
     "data": {
      "text/plain": [
       "RowNumber          0.00\n",
       "CustomerId         0.00\n",
       "Surname            0.00\n",
       "CreditScore        0.00\n",
       "Geography          0.00\n",
       "Gender             0.00\n",
       "Age                0.00\n",
       "Tenure             9.09\n",
       "Balance            0.00\n",
       "NumOfProducts      0.00\n",
       "HasCrCard          0.00\n",
       "IsActiveMember     0.00\n",
       "EstimatedSalary    0.00\n",
       "Exited             0.00\n",
       "dtype: float64"
      ]
     },
     "execution_count": 3,
     "metadata": {},
     "output_type": "execute_result"
    }
   ],
   "source": [
    "# Проверим на наличие пропусков\n",
    "data.isnull().sum() / data.shape[0] * 100"
   ]
  },
  {
   "cell_type": "markdown",
   "metadata": {},
   "source": [
    "Пропуски в столбце *Tenure* составляют 9%, что достаточно много. Возможно пропуски возникли случайно из-за сбоя во время записи данных в базу. Заменим пропуски на медиану."
   ]
  },
  {
   "cell_type": "code",
   "execution_count": 4,
   "metadata": {},
   "outputs": [
    {
     "data": {
      "text/plain": [
       "RowNumber          0\n",
       "CustomerId         0\n",
       "Surname            0\n",
       "CreditScore        0\n",
       "Geography          0\n",
       "Gender             0\n",
       "Age                0\n",
       "Tenure             0\n",
       "Balance            0\n",
       "NumOfProducts      0\n",
       "HasCrCard          0\n",
       "IsActiveMember     0\n",
       "EstimatedSalary    0\n",
       "Exited             0\n",
       "dtype: int64"
      ]
     },
     "execution_count": 4,
     "metadata": {},
     "output_type": "execute_result"
    }
   ],
   "source": [
    "# Заполним пропуски\n",
    "data['Tenure'].fillna(data['Tenure'].median(), inplace=True)\n",
    "# Проверка\n",
    "data.isnull().sum()"
   ]
  },
  {
   "cell_type": "code",
   "execution_count": 5,
   "metadata": {},
   "outputs": [
    {
     "data": {
      "text/html": [
       "<div>\n",
       "<style scoped>\n",
       "    .dataframe tbody tr th:only-of-type {\n",
       "        vertical-align: middle;\n",
       "    }\n",
       "\n",
       "    .dataframe tbody tr th {\n",
       "        vertical-align: top;\n",
       "    }\n",
       "\n",
       "    .dataframe thead th {\n",
       "        text-align: right;\n",
       "    }\n",
       "</style>\n",
       "<table border=\"1\" class=\"dataframe\">\n",
       "  <thead>\n",
       "    <tr style=\"text-align: right;\">\n",
       "      <th></th>\n",
       "      <th>CreditScore</th>\n",
       "      <th>Geography</th>\n",
       "      <th>Gender</th>\n",
       "      <th>Age</th>\n",
       "      <th>Tenure</th>\n",
       "      <th>Balance</th>\n",
       "      <th>NumOfProducts</th>\n",
       "      <th>HasCrCard</th>\n",
       "      <th>IsActiveMember</th>\n",
       "      <th>EstimatedSalary</th>\n",
       "      <th>Exited</th>\n",
       "    </tr>\n",
       "  </thead>\n",
       "  <tbody>\n",
       "    <tr>\n",
       "      <td>0</td>\n",
       "      <td>619</td>\n",
       "      <td>France</td>\n",
       "      <td>Female</td>\n",
       "      <td>42</td>\n",
       "      <td>2.0</td>\n",
       "      <td>0.00</td>\n",
       "      <td>1</td>\n",
       "      <td>1</td>\n",
       "      <td>1</td>\n",
       "      <td>101348.88</td>\n",
       "      <td>1</td>\n",
       "    </tr>\n",
       "    <tr>\n",
       "      <td>1</td>\n",
       "      <td>608</td>\n",
       "      <td>Spain</td>\n",
       "      <td>Female</td>\n",
       "      <td>41</td>\n",
       "      <td>1.0</td>\n",
       "      <td>83807.86</td>\n",
       "      <td>1</td>\n",
       "      <td>0</td>\n",
       "      <td>1</td>\n",
       "      <td>112542.58</td>\n",
       "      <td>0</td>\n",
       "    </tr>\n",
       "    <tr>\n",
       "      <td>2</td>\n",
       "      <td>502</td>\n",
       "      <td>France</td>\n",
       "      <td>Female</td>\n",
       "      <td>42</td>\n",
       "      <td>8.0</td>\n",
       "      <td>159660.80</td>\n",
       "      <td>3</td>\n",
       "      <td>1</td>\n",
       "      <td>0</td>\n",
       "      <td>113931.57</td>\n",
       "      <td>1</td>\n",
       "    </tr>\n",
       "    <tr>\n",
       "      <td>3</td>\n",
       "      <td>699</td>\n",
       "      <td>France</td>\n",
       "      <td>Female</td>\n",
       "      <td>39</td>\n",
       "      <td>1.0</td>\n",
       "      <td>0.00</td>\n",
       "      <td>2</td>\n",
       "      <td>0</td>\n",
       "      <td>0</td>\n",
       "      <td>93826.63</td>\n",
       "      <td>0</td>\n",
       "    </tr>\n",
       "    <tr>\n",
       "      <td>4</td>\n",
       "      <td>850</td>\n",
       "      <td>Spain</td>\n",
       "      <td>Female</td>\n",
       "      <td>43</td>\n",
       "      <td>2.0</td>\n",
       "      <td>125510.82</td>\n",
       "      <td>1</td>\n",
       "      <td>1</td>\n",
       "      <td>1</td>\n",
       "      <td>79084.10</td>\n",
       "      <td>0</td>\n",
       "    </tr>\n",
       "    <tr>\n",
       "      <td>...</td>\n",
       "      <td>...</td>\n",
       "      <td>...</td>\n",
       "      <td>...</td>\n",
       "      <td>...</td>\n",
       "      <td>...</td>\n",
       "      <td>...</td>\n",
       "      <td>...</td>\n",
       "      <td>...</td>\n",
       "      <td>...</td>\n",
       "      <td>...</td>\n",
       "      <td>...</td>\n",
       "    </tr>\n",
       "    <tr>\n",
       "      <td>9995</td>\n",
       "      <td>771</td>\n",
       "      <td>France</td>\n",
       "      <td>Male</td>\n",
       "      <td>39</td>\n",
       "      <td>5.0</td>\n",
       "      <td>0.00</td>\n",
       "      <td>2</td>\n",
       "      <td>1</td>\n",
       "      <td>0</td>\n",
       "      <td>96270.64</td>\n",
       "      <td>0</td>\n",
       "    </tr>\n",
       "    <tr>\n",
       "      <td>9996</td>\n",
       "      <td>516</td>\n",
       "      <td>France</td>\n",
       "      <td>Male</td>\n",
       "      <td>35</td>\n",
       "      <td>10.0</td>\n",
       "      <td>57369.61</td>\n",
       "      <td>1</td>\n",
       "      <td>1</td>\n",
       "      <td>1</td>\n",
       "      <td>101699.77</td>\n",
       "      <td>0</td>\n",
       "    </tr>\n",
       "    <tr>\n",
       "      <td>9997</td>\n",
       "      <td>709</td>\n",
       "      <td>France</td>\n",
       "      <td>Female</td>\n",
       "      <td>36</td>\n",
       "      <td>7.0</td>\n",
       "      <td>0.00</td>\n",
       "      <td>1</td>\n",
       "      <td>0</td>\n",
       "      <td>1</td>\n",
       "      <td>42085.58</td>\n",
       "      <td>1</td>\n",
       "    </tr>\n",
       "    <tr>\n",
       "      <td>9998</td>\n",
       "      <td>772</td>\n",
       "      <td>Germany</td>\n",
       "      <td>Male</td>\n",
       "      <td>42</td>\n",
       "      <td>3.0</td>\n",
       "      <td>75075.31</td>\n",
       "      <td>2</td>\n",
       "      <td>1</td>\n",
       "      <td>0</td>\n",
       "      <td>92888.52</td>\n",
       "      <td>1</td>\n",
       "    </tr>\n",
       "    <tr>\n",
       "      <td>9999</td>\n",
       "      <td>792</td>\n",
       "      <td>France</td>\n",
       "      <td>Female</td>\n",
       "      <td>28</td>\n",
       "      <td>5.0</td>\n",
       "      <td>130142.79</td>\n",
       "      <td>1</td>\n",
       "      <td>1</td>\n",
       "      <td>0</td>\n",
       "      <td>38190.78</td>\n",
       "      <td>0</td>\n",
       "    </tr>\n",
       "  </tbody>\n",
       "</table>\n",
       "<p>10000 rows × 11 columns</p>\n",
       "</div>"
      ],
      "text/plain": [
       "      CreditScore Geography  Gender  Age  Tenure    Balance  NumOfProducts  \\\n",
       "0             619    France  Female   42     2.0       0.00              1   \n",
       "1             608     Spain  Female   41     1.0   83807.86              1   \n",
       "2             502    France  Female   42     8.0  159660.80              3   \n",
       "3             699    France  Female   39     1.0       0.00              2   \n",
       "4             850     Spain  Female   43     2.0  125510.82              1   \n",
       "...           ...       ...     ...  ...     ...        ...            ...   \n",
       "9995          771    France    Male   39     5.0       0.00              2   \n",
       "9996          516    France    Male   35    10.0   57369.61              1   \n",
       "9997          709    France  Female   36     7.0       0.00              1   \n",
       "9998          772   Germany    Male   42     3.0   75075.31              2   \n",
       "9999          792    France  Female   28     5.0  130142.79              1   \n",
       "\n",
       "      HasCrCard  IsActiveMember  EstimatedSalary  Exited  \n",
       "0             1               1        101348.88       1  \n",
       "1             0               1        112542.58       0  \n",
       "2             1               0        113931.57       1  \n",
       "3             0               0         93826.63       0  \n",
       "4             1               1         79084.10       0  \n",
       "...         ...             ...              ...     ...  \n",
       "9995          1               0         96270.64       0  \n",
       "9996          1               1        101699.77       0  \n",
       "9997          0               1         42085.58       1  \n",
       "9998          1               0         92888.52       1  \n",
       "9999          1               0         38190.78       0  \n",
       "\n",
       "[10000 rows x 11 columns]"
      ]
     },
     "execution_count": 5,
     "metadata": {},
     "output_type": "execute_result"
    }
   ],
   "source": [
    "#Уберем ненужные признаки\n",
    "droped_cols = ['RowNumber', 'CustomerId', 'Surname']\n",
    "data.drop(columns=droped_cols, inplace=True)\n",
    "data"
   ]
  },
  {
   "cell_type": "markdown",
   "metadata": {},
   "source": [
    "Обработаем категориальные признаки"
   ]
  },
  {
   "cell_type": "code",
   "execution_count": 6,
   "metadata": {},
   "outputs": [
    {
     "name": "stdout",
     "output_type": "stream",
     "text": [
      "(10000, 11)\n",
      "(10000,)\n"
     ]
    }
   ],
   "source": [
    "# Заменим строковые значения признаков на численные\n",
    "data_ohe = pd.get_dummies(data, drop_first=True)\n",
    "# Создадим таблицу с признаками и целевым признаком\n",
    "features = data_ohe.drop(columns=['Exited'])\n",
    "target = data_ohe['Exited']\n",
    "#Проверим размерности\n",
    "print(features.shape)\n",
    "print(target.shape)"
   ]
  },
  {
   "cell_type": "markdown",
   "metadata": {},
   "source": [
    "Обработаем количественные признаки, проведем их масштабирование "
   ]
  },
  {
   "cell_type": "code",
   "execution_count": 7,
   "metadata": {},
   "outputs": [
    {
     "name": "stdout",
     "output_type": "stream",
     "text": [
      "Размер тестовой выборки: 20%\n",
      "Размер валидационной выборки: 20%\n",
      "Размер тренировочной выборки: 60%\n"
     ]
    }
   ],
   "source": [
    "# Разобьем исходный датасет на тренировочный, валидационный и тестовый\n",
    "# Cначала розобьем датасет на тестовую (20%) и тренировочную выборки (80%)\n",
    "features_train, features_test, target_train, target_test = train_test_split(\n",
    "    features, target, test_size=0.2, random_state=12345\n",
    "    ) \n",
    "# Дополнительно разделим тренировочную выборку на тренировочную (25% от 80%) и валидационную (75% от 80%)\n",
    "features_train, features_valid, target_train, target_valid = train_test_split(\n",
    "    features_train, target_train, test_size=0.25, random_state=12345\n",
    "    )\n",
    "# Проверим разбиение\n",
    "print(f\"Размер тестовой выборки: {(features_test.shape[0] / data.shape[0]):.0%}\")\n",
    "print(f\"Размер валидационной выборки: {(features_valid.shape[0] / data.shape[0]):.0%}\")\n",
    "print(f\"Размер тренировочной выборки: {(features_train.shape[0] / data.shape[0]):.0%}\")"
   ]
  },
  {
   "cell_type": "code",
   "execution_count": 8,
   "metadata": {},
   "outputs": [],
   "source": [
    "# Нормализуем количественные признаки\n",
    "scaler = StandardScaler()\n",
    "# Запишем список столбцов с цисленными значениями, которые следует масштабировать\n",
    "numeric = ['CreditScore', 'Age', 'Tenure', 'Balance', 'NumOfProducts', 'EstimatedSalary',]\n",
    "scaler.fit(features_train[numeric])\n",
    "features_train[numeric] = scaler.transform(features_train[numeric])\n",
    "features_valid[numeric] = scaler.transform(features_valid[numeric])\n",
    "features_test[numeric] = scaler.transform(features_test[numeric])"
   ]
  },
  {
   "cell_type": "markdown",
   "metadata": {},
   "source": [
    "## Исследование задачи"
   ]
  },
  {
   "cell_type": "code",
   "execution_count": 9,
   "metadata": {},
   "outputs": [
    {
     "data": {
      "text/plain": [
       "0    0.796833\n",
       "1    0.203167\n",
       "Name: Exited, dtype: float64"
      ]
     },
     "execution_count": 9,
     "metadata": {},
     "output_type": "execute_result"
    }
   ],
   "source": [
    "# Оценим соотношения классов в целевой переменной\n",
    "target_train.value_counts(normalize=True)"
   ]
  },
  {
   "cell_type": "markdown",
   "metadata": {},
   "source": [
    "Видно, что только 20% людей ушли из банка. Тренировочная выборка сильно несбалансирована."
   ]
  },
  {
   "cell_type": "markdown",
   "metadata": {},
   "source": [
    "### Логистическая регрессия"
   ]
  },
  {
   "cell_type": "markdown",
   "metadata": {},
   "source": [
    "Обучим модель логиcтической регрессии и посчитаем значения F1 и AUC_ROC метрик"
   ]
  },
  {
   "cell_type": "code",
   "execution_count": 10,
   "metadata": {},
   "outputs": [
    {
     "name": "stdout",
     "output_type": "stream",
     "text": [
      "F1-мера модели LogisticRegression на валидационной выборке: 0.30\n",
      "AUC_ROC модели LogisticRegression на валидационной выборке: 0.77\n"
     ]
    }
   ],
   "source": [
    "LR = LogisticRegression(random_state=12345)\n",
    "LR.fit(features_train, target_train)\n",
    "predicted_valid = LR.predict(features_valid)\n",
    "f1 = f1_score(target_valid, predicted_valid)\n",
    "roc_auc = roc_auc_score(target_valid, LR.predict_proba(features_valid)[:,1])\n",
    "print(f\"F1-мера модели {type(LR).__name__} на валидационной выборке: {f1:.2f}\")\n",
    "print(f\"AUC_ROC модели {type(LR).__name__} на валидационной выборке: {roc_auc:.2f}\")"
   ]
  },
  {
   "cell_type": "markdown",
   "metadata": {},
   "source": [
    "### Дерево решений"
   ]
  },
  {
   "cell_type": "markdown",
   "metadata": {},
   "source": [
    "Определим оптимальные параметры и обучим дерево решений"
   ]
  },
  {
   "cell_type": "code",
   "execution_count": 11,
   "metadata": {},
   "outputs": [
    {
     "name": "stdout",
     "output_type": "stream",
     "text": [
      "F1-мера модели GridSearchCV с глубиной 7 на валидационной выборке: 0.56\n",
      "AUC_ROC модели GridSearchCV с глубиной 7 на валидационной выборке: 0.82\n"
     ]
    }
   ],
   "source": [
    "DT = DecisionTreeClassifier(random_state=12345)\n",
    "# Найдем оптимальное значение глубины с помошью метода GridSearchCV\n",
    "parameters = {'max_depth': range(1,20)}\n",
    "DT = GridSearchCV(DT, parameters, scoring='f1', cv=5)\n",
    "DT.fit(features_train, target_train)\n",
    "predicted_valid = DT.predict(features_valid)\n",
    "f1 = f1_score(target_valid, predicted_valid)\n",
    "roc_auc = roc_auc_score(target_valid, DT.predict_proba(features_valid)[:,1])\n",
    "print(f\"F1-мера модели {type(DT).__name__} с глубиной {DT.best_params_['max_depth']} на валидационной выборке: {f1:.2f}\")\n",
    "print(f\"AUC_ROC модели {type(DT).__name__} с глубиной {DT.best_params_['max_depth']} на валидационной выборке: {roc_auc:.2f}\")"
   ]
  },
  {
   "cell_type": "markdown",
   "metadata": {},
   "source": [
    "### Случайный лес"
   ]
  },
  {
   "cell_type": "markdown",
   "metadata": {},
   "source": [
    "Определим оптимальные параметры и обучим случайный лес"
   ]
  },
  {
   "cell_type": "code",
   "execution_count": 12,
   "metadata": {},
   "outputs": [],
   "source": [
    "# RFC = RandomForestClassifier(random_state=12345)\n",
    "# # Найдем оптимальное значение глубины и количества деревьев с помошью метода GridSearchCV\n",
    "# parameters = {'max_depth':range(1,20), 'n_estimators':range(1,81,2)}\n",
    "# RFC = GridSearchCV(RFC, parameters, scoring='f1', cv=5, verbose=10)\n",
    "# RFC.fit(features_train, target_train)\n",
    "# predicted_valid = RFC.predict(features_valid)\n",
    "# f1 = f1_score(target_valid, predicted_valid)\n",
    "# roc_auc = roc_auc_score(target_valid, RFC.predict_proba(features_valid)[:,1])\n",
    "# print(f\"F1-мера модели {type(RFC).__name__} c {RFC.best_params_['n_estimators']} деревьями с глубиной {RFC.best_params_['max_depth']} на валидационной выборке: {f1:.2f}\")\n",
    "# print(f\"AUC_ROC модели {type(RFC).__name__} c {RFC.best_params_['n_estimators']} деревьями с глубиной {RFC.best_params_['max_depth']} на валидационной выборке: {roc_auc:.2f}\")"
   ]
  },
  {
   "cell_type": "markdown",
   "metadata": {},
   "source": [
    "Код сверху закомментирован, так как подбор оптимальных значений достаточно длительный процесс. Чтобы не терять время снизу введена модель с оптимальными параметрами"
   ]
  },
  {
   "cell_type": "code",
   "execution_count": 13,
   "metadata": {},
   "outputs": [
    {
     "name": "stdout",
     "output_type": "stream",
     "text": [
      "F1-мера модели RandomForestClassifier c 65 деревьями с глубиной 14 на валидационной выборке: 0.56\n",
      "AUC_ROC модели RandomForestClassifier c  65 деревьями с глубиной 14 на валидационной выборке: 0.84\n"
     ]
    }
   ],
   "source": [
    "RFC = RandomForestClassifier(random_state=12345, n_estimators=65, max_depth=14)\n",
    "RFC.fit(features_train, target_train)\n",
    "predicted_valid = RFC.predict(features_valid)\n",
    "f1 = f1_score(target_valid, predicted_valid)\n",
    "roc_auc = roc_auc_score(target_valid, RFC.predict_proba(features_valid)[:,1])\n",
    "print(f\"F1-мера модели {type(RFC).__name__} c 65 деревьями с глубиной 14 на валидационной выборке: {f1:.2f}\")\n",
    "print(f\"AUC_ROC модели {type(RFC).__name__} c  65 деревьями с глубиной 14 на валидационной выборке: {roc_auc:.2f}\")"
   ]
  },
  {
   "cell_type": "markdown",
   "metadata": {},
   "source": [
    "**Выводы:** Ни одна модель не смогла достичь требуемого значения метрики. Для случайного леса и дерева решений значения F1 метрики оказались одинаковыми. Во всех случаях метрика AUC_ROC была больше 0,5, что свидетельствует о том, что модели отличаются от случайной"
   ]
  },
  {
   "cell_type": "markdown",
   "metadata": {},
   "source": [
    "## Борьба с дисбалансом"
   ]
  },
  {
   "cell_type": "markdown",
   "metadata": {},
   "source": [
    "Переобучим модели, уравновесив классы в целевом признаке. Для этого присвоим каждому классу вес в соответсвии с их долями в тренировочной выборке"
   ]
  },
  {
   "cell_type": "markdown",
   "metadata": {},
   "source": [
    "### Взвешивание классов"
   ]
  },
  {
   "cell_type": "markdown",
   "metadata": {},
   "source": [
    "#### Логистическая регрессия"
   ]
  },
  {
   "cell_type": "code",
   "execution_count": 14,
   "metadata": {},
   "outputs": [
    {
     "name": "stdout",
     "output_type": "stream",
     "text": [
      "F1-мера модели LogisticRegression на валидационной выборке: 0.47\n",
      "AUC_ROC модели LogisticRegression на валидационной выборке: 0.77\n"
     ]
    }
   ],
   "source": [
    "LR = LogisticRegression(random_state=12345, class_weight='balanced')\n",
    "LR.fit(features_train, target_train)\n",
    "predicted_valid = LR.predict(features_valid)\n",
    "f1 = f1_score(target_valid, predicted_valid)\n",
    "roc_auc = roc_auc_score(target_valid, LR.predict_proba(features_valid)[:,1])\n",
    "print(f\"F1-мера модели {type(LR).__name__} на валидационной выборке: {f1:.2f}\")\n",
    "print(f\"AUC_ROC модели {type(LR).__name__} на валидационной выборке: {roc_auc:.2f}\")"
   ]
  },
  {
   "cell_type": "markdown",
   "metadata": {},
   "source": [
    "#### Дерево решений"
   ]
  },
  {
   "cell_type": "code",
   "execution_count": 15,
   "metadata": {},
   "outputs": [
    {
     "name": "stdout",
     "output_type": "stream",
     "text": [
      "F1-мера модели GridSearchCV с глубиной 6 на валидационной выборке: 0.56\n",
      "AUC_ROC модели GridSearchCV с глубиной 6 на валидационной выборке: 0.81\n"
     ]
    }
   ],
   "source": [
    "DT = DecisionTreeClassifier(random_state=12345, class_weight='balanced')\n",
    "# Найдем оптимальное значение глубины с помошью метода GridSearchCV\n",
    "parameters = {'max_depth': range(1,20)}\n",
    "DT = GridSearchCV(DT, parameters, scoring='f1', cv=5)\n",
    "DT.fit(features_train, target_train)\n",
    "predicted_valid = DT.predict(features_valid)\n",
    "f1 = f1_score(target_valid, predicted_valid)\n",
    "roc_auc = roc_auc_score(target_valid, DT.predict_proba(features_valid)[:,1])\n",
    "print(f\"F1-мера модели {type(DT).__name__} с глубиной {DT.best_params_['max_depth']} на валидационной выборке: {f1:.2f}\")\n",
    "print(f\"AUC_ROC модели {type(DT).__name__} с глубиной {DT.best_params_['max_depth']} на валидационной выборке: {roc_auc:.2f}\")"
   ]
  },
  {
   "cell_type": "markdown",
   "metadata": {},
   "source": [
    "#### Случайный лес"
   ]
  },
  {
   "cell_type": "code",
   "execution_count": 16,
   "metadata": {},
   "outputs": [],
   "source": [
    "# RFC_B = RandomForestClassifier(random_state=12345, class_weight='balanced')\n",
    "# # Найдем оптимальное значение глубины и количества деревьев с помошью метода GridSearchCV\n",
    "# parameters = {'max_depth':range(1,20), 'n_estimators':range(1,81,2)}\n",
    "# RFC_B = GridSearchCV(RFC_B, parameters, scoring='f1', cv=5, verbose=10)\n",
    "# RFC_B.fit(features_train, target_train)\n",
    "# predicted_valid = RFC_B.predict(features_valid)\n",
    "# f1 = f1_score(target_valid, predicted_valid)\n",
    "# roc_auc = roc_auc_score(target_valid, RFC_B.predict_proba(features_valid)[:,1])\n",
    "# print(f\"F1-мера модели {type(RFC_B).__name__} c {RFC_B.best_params_['n_estimators']} деревьями с глубиной {RFC_B.best_params_['max_depth']} на валидационной выборке: {f1:.2f}\")\n",
    "# print(f\"AUC_ROC модели {type(RFC_B).__name__} c {RFC_B.best_params_['n_estimators']} деревьями с глубиной {RFC_B.best_params_['max_depth']} на валидационной выборке: {roc_auc:.2f}\")"
   ]
  },
  {
   "cell_type": "markdown",
   "metadata": {},
   "source": [
    "Код сверху закомментирован, так как подбор оптимальных значений достаточно длительный процесс. Чтобы не терять время, снизу введена модель с оптимальными параметрами"
   ]
  },
  {
   "cell_type": "code",
   "execution_count": 17,
   "metadata": {},
   "outputs": [
    {
     "name": "stdout",
     "output_type": "stream",
     "text": [
      "F1-мера модели RandomForestClassifier c 65 деревьями с глубиной 9 на валидационной выборке: 0.59\n",
      "AUC_ROC модели RandomForestClassifier c 65 деревьями с глубиной 9 на валидационной выборке: 0.84\n"
     ]
    }
   ],
   "source": [
    "RFC_B = RandomForestClassifier(random_state=12345, n_estimators=65, max_depth=9, class_weight='balanced')\n",
    "RFC_B.fit(features_train, target_train)\n",
    "predicted_valid = RFC_B.predict(features_valid)\n",
    "f1 = f1_score(target_valid, predicted_valid)\n",
    "roc_auc = roc_auc_score(target_valid, RFC.predict_proba(features_valid)[:,1])\n",
    "print(f\"F1-мера модели {type(RFC_B).__name__} c {RFC_B.get_params()['n_estimators']} деревьями с глубиной {RFC_B.get_params()['max_depth']} на валидационной выборке: {f1:.2f}\")\n",
    "print(f\"AUC_ROC модели {type(RFC_B).__name__} c {RFC_B.get_params()['n_estimators']} деревьями с глубиной {RFC_B.get_params()['max_depth']} на валидационной выборке: {roc_auc:.2f}\")"
   ]
  },
  {
   "cell_type": "markdown",
   "metadata": {},
   "source": [
    "**Выводы:** При балансировке классов значения метрик сильно улучшились для логистической регрессии и слабо увеличились для случайного леса и дерева решений. Только модель случайного леса смогла достигнуть требуемого уровня метрики."
   ]
  },
  {
   "cell_type": "markdown",
   "metadata": {},
   "source": [
    "### Увеличение выборки"
   ]
  },
  {
   "cell_type": "markdown",
   "metadata": {},
   "source": [
    "Посмотрим на дисбаланс классов."
   ]
  },
  {
   "cell_type": "code",
   "execution_count": 18,
   "metadata": {},
   "outputs": [
    {
     "data": {
      "text/plain": [
       "0    4781\n",
       "1    1219\n",
       "Name: Exited, dtype: int64"
      ]
     },
     "execution_count": 18,
     "metadata": {},
     "output_type": "execute_result"
    }
   ],
   "source": [
    "target_train.value_counts()"
   ]
  },
  {
   "cell_type": "markdown",
   "metadata": {},
   "source": [
    "Увеличим количество объектов 1го класса в 4 раза, чтобы выборка стала сбалансированной"
   ]
  },
  {
   "cell_type": "code",
   "execution_count": 19,
   "metadata": {},
   "outputs": [
    {
     "data": {
      "text/plain": [
       "1    4876\n",
       "0    4781\n",
       "Name: Exited, dtype: int64"
      ]
     },
     "execution_count": 19,
     "metadata": {},
     "output_type": "execute_result"
    }
   ],
   "source": [
    "repeat = 4\n",
    "features_ones = features_train[target_train == 1]\n",
    "features_zeros = features_train[target_train == 0]\n",
    "target_ones = target_train[target_train == 1]\n",
    "target_zeros = target_train[target_train == 0]\n",
    "features_train_up = pd.concat([features_zeros] + [features_ones] * repeat)\n",
    "target_train_up = pd.concat([target_zeros] + [target_ones] * repeat) \n",
    "features_train_up, target_train_up = shuffle(features_train_up, target_train_up, random_state=12345)\n",
    "# Проверка\n",
    "target_train_up.value_counts()"
   ]
  },
  {
   "cell_type": "markdown",
   "metadata": {},
   "source": [
    "#### Логистическая регрессия"
   ]
  },
  {
   "cell_type": "code",
   "execution_count": 20,
   "metadata": {},
   "outputs": [
    {
     "name": "stdout",
     "output_type": "stream",
     "text": [
      "F1-мера модели LogisticRegression на валидационной выборке: 0.48\n",
      "AUC_ROC модели LogisticRegression на валидационной выборке: 0.77\n"
     ]
    }
   ],
   "source": [
    "LR = LogisticRegression(random_state=12345)\n",
    "LR.fit(features_train_up, target_train_up)\n",
    "predicted_valid = LR.predict(features_valid)\n",
    "f1 = f1_score(target_valid, predicted_valid)\n",
    "roc_auc = roc_auc_score(target_valid, LR.predict_proba(features_valid)[:,1])\n",
    "print(f\"F1-мера модели {type(LR).__name__} на валидационной выборке: {f1:.2f}\")\n",
    "print(f\"AUC_ROC модели {type(LR).__name__} на валидационной выборке: {roc_auc:.2f}\")"
   ]
  },
  {
   "cell_type": "markdown",
   "metadata": {},
   "source": [
    "#### Дерево решений"
   ]
  },
  {
   "cell_type": "code",
   "execution_count": 21,
   "metadata": {},
   "outputs": [],
   "source": [
    "# DT = DecisionTreeClassifier(random_state=12345)\n",
    "# # Найдем оптимальное значение глубины с помошью метода GridSearchCV\n",
    "# parameters = {'max_depth': range(1,20)}\n",
    "# DT = GridSearchCV(DT, parameters, scoring='f1', cv=5)\n",
    "# DT.fit(features_train_up, target_train_up)\n",
    "# predicted_valid = DT.predict(features_valid)\n",
    "# f1 = f1_score(target_valid, predicted_valid)\n",
    "# roc_auc = roc_auc_score(target_valid, DT.predict_proba(features_valid)[:,1])\n",
    "# print(f\"F1-мера модели {type(DT).__name__} с глубиной {DT.best_params_['max_depth']} на валидационной выборке: {f1:.2f}\")\n",
    "# print(f\"AUC_ROC модели {type(DT).__name__} с глубиной {DT.best_params_['max_depth']} на валидационной выборке: {roc_auc:.2f}\")"
   ]
  },
  {
   "cell_type": "code",
   "execution_count": 22,
   "metadata": {},
   "outputs": [
    {
     "name": "stdout",
     "output_type": "stream",
     "text": [
      "F1-мера модели DecisionTreeClassifier с глубиной 6 на валидационной выборке: 0.56\n",
      "AUC_ROC модели DecisionTreeClassifier с глубиной 6 на валидационной выборке: 0.81\n"
     ]
    }
   ],
   "source": [
    "# Создадим модель класа DecisionTree и обучим ее, меняя гиперпараметры\n",
    "accuracy = []\n",
    "best_f1 = 0\n",
    "max_depth = 0\n",
    "best_DTC = None\n",
    "n = 20\n",
    "for depth in range(1,n):\n",
    "    model = DecisionTreeClassifier(random_state=12345, max_depth=depth)\n",
    "    model.fit(features_train_up, target_train_up)\n",
    "    predictions = model.predict(features_valid)\n",
    "    f1 = f1_score(target_valid, predictions)\n",
    "    accuracy.append(f1) \n",
    "    if f1 > best_f1:\n",
    "        best_DTC = model\n",
    "        best_f1 = f1\n",
    "        max_depth = depth\n",
    "roc_auc = roc_auc_score(target_valid, best_DTC.predict_proba(features_valid)[:,1])\n",
    "print(f\"F1-мера модели {type(model).__name__} с глубиной {max_depth} на валидационной выборке: {best_f1:.2f}\")\n",
    "print(f\"AUC_ROC модели {type(best_DTC).__name__} с глубиной {max_depth} на валидационной выборке: {roc_auc:.2f}\")"
   ]
  },
  {
   "cell_type": "markdown",
   "metadata": {},
   "source": [
    "#### Случайный лес"
   ]
  },
  {
   "cell_type": "code",
   "execution_count": 23,
   "metadata": {},
   "outputs": [],
   "source": [
    "# RFC_UP = RandomForestClassifier(random_state=12345)\n",
    "# # Найдем оптимальное значение глубины и количества деревьев с помошью метода GridSearchCV\n",
    "# parameters = {'max_depth':range(1,20), 'n_estimators':range(1,81,2)}\n",
    "# RFC_UP = GridSearchCV(RFC_UP, parameters, scoring='f1', cv=5, verbose=10)\n",
    "# RFC_UP.fit(features_train_up, target_train_up)\n",
    "# predicted_valid = RFC_UP.predict(features_valid)\n",
    "# f1 = f1_score(target_valid, predicted_valid)\n",
    "# roc_auc = roc_auc_score(target_valid, RFC_UP.predict_proba(features_valid)[:,1])\n",
    "# print(f\"F1-мера модели {type(RFC_UP).__name__} c {RFC_UP.best_params_['n_estimators']} деревьями с глубиной {RFC_UP.best_params_['max_depth']} на валидационной выборке: {f1:.2f}\")\n",
    "# print(f\"AUC_ROC модели {type(RFC_UP).__name__} c {RFC_UP.best_params_['n_estimators']} деревьями с глубиной {RFC_UP.best_params_['max_depth']} на валидационной выборке: {roc_auc:.2f}\")"
   ]
  },
  {
   "cell_type": "markdown",
   "metadata": {},
   "source": [
    "Код сверху закомментирован, так как подбор оптимальных значений достаточно длительный процесс. Чтобы не терять время, снизу введена модель с оптимальными параметрами"
   ]
  },
  {
   "cell_type": "code",
   "execution_count": 24,
   "metadata": {},
   "outputs": [
    {
     "name": "stdout",
     "output_type": "stream",
     "text": [
      "F1-мера модели RandomForestClassifier c 77 деревьями с глубиной 19 на валидационной выборке: 0.58\n",
      "AUC_ROC модели RandomForestClassifier c  77 деревьями с глубиной 19 на валидационной выборке: 0.84\n"
     ]
    }
   ],
   "source": [
    "RFC_UP = RandomForestClassifier(random_state=12345, n_estimators=77, max_depth=19)\n",
    "RFC_UP.fit(features_train_up, target_train_up)\n",
    "predicted_valid = RFC_UP.predict(features_valid)\n",
    "f1 = f1_score(target_valid, predicted_valid)\n",
    "roc_auc = roc_auc_score(target_valid, RFC.predict_proba(features_valid)[:,1])\n",
    "print(f\"F1-мера модели {type(RFC_UP).__name__} c {RFC_UP.get_params()['n_estimators']} деревьями с глубиной {RFC_UP.get_params()['max_depth']} на валидационной выборке: {f1:.2f}\")\n",
    "print(f\"AUC_ROC модели {type(RFC_UP).__name__} c  {RFC_UP.get_params()['n_estimators']} деревьями с глубиной {RFC_UP.get_params()['max_depth']} на валидационной выборке: {roc_auc:.2f}\")"
   ]
  },
  {
   "cell_type": "markdown",
   "metadata": {},
   "source": [
    "**Выводы:** Увеличение выборки привело к увеличению значений F1 метрики для логистической регрессии и случайного леса. В случае с деревом решений метрика, наоборот, уменьшилась. Аналогичная ситуация с метрикой AUC_ROC. Возможно, я поставил слишком большое число повторений объетов 1го класса и дерево решений не смогло уловить более глубокие зависимости между признаками и целевым признаком"
   ]
  },
  {
   "cell_type": "markdown",
   "metadata": {},
   "source": [
    "## Тестирование модели"
   ]
  },
  {
   "cell_type": "markdown",
   "metadata": {},
   "source": [
    "Для финального тестирования выберем модель случайного леса с учетом взешивания классов, так как эта модель создала меньше деревьев и с меньшей глубиной по сравнению с моделью случайного леса обученной на увеличенной выборке. При этом, значения метрик оказались близкими."
   ]
  },
  {
   "cell_type": "code",
   "execution_count": 25,
   "metadata": {},
   "outputs": [
    {
     "name": "stdout",
     "output_type": "stream",
     "text": [
      "F1-мера модели RandomForestClassifier c 65 деревьями с глубиной 9 на валидационной выборке: 0.64\n"
     ]
    }
   ],
   "source": [
    "predicted_test = RFC_B.predict(features_test)\n",
    "f1 = f1_score(target_test, predicted_test)\n",
    "print(f\"F1-мера модели {type(RFC_B).__name__} c {RFC_B.get_params()['n_estimators']} деревьями с глубиной {RFC_B.get_params()['max_depth']} на валидационной выборке: {f1:.2f}\")"
   ]
  },
  {
   "cell_type": "code",
   "execution_count": 26,
   "metadata": {},
   "outputs": [
    {
     "data": {
      "image/png": "[encoded data removed]",
      "text/plain": [
       "<Figure size 432x288 with 1 Axes>"
      ]
     },
     "metadata": {
      "needs_background": "light"
     },
     "output_type": "display_data"
    }
   ],
   "source": [
    "# Постоим ROC-кривую\n",
    "predicted_probas = RFC_B.predict_proba(features_test)\n",
    "roc_auc = roc_auc_score(target_test, predicted_probas[:,1])\n",
    "fpr, tpr, thresholds = roc_curve(target_test, predicted_probas[:,1])\n",
    "plt.figure()\n",
    "plt.plot(fpr, tpr)\n",
    "plt.plot([0, 1], [0, 1], linestyle='--')\n",
    "plt.xlim([0,1])\n",
    "plt.ylim([0,1])\n",
    "plt.xlabel(\"False Positive Rate\")\n",
    "plt.ylabel(\"True Positive Rate\")\n",
    "plt.title('ROC-кривая, AUC = ' + str(f'{roc_auc:.2f}'))\n",
    "plt.show()"
   ]
  },
  {
   "cell_type": "markdown",
   "metadata": {},
   "source": [
    "## Выводы"
   ]
  },
  {
   "cell_type": "markdown",
   "metadata": {},
   "source": [
    "В рамках данного проекта были расмотрены различные модели и способы борьбы с дисбалансом. В качестве итоговой модели был выбран случайный лес с 65 деревьями глубиной 9. \n",
    "\n",
    "Для борьбы с дисбалансом лучше подошло взвешивание классов во время обучения модели, а не увеличение тренировочной выборки. Модели случайного леса, которая обучалачь на увеличенной выборке, потребовалось потребовалось больше деревьев с увеличенной глубиной. Возможно, это было вызвано слишком большим коэффициентом повторения объектов меньшего класса и модель не смогла сразу выявить основные закономерности между признаками и целевым признаком.\n",
    "\n",
    "Во всех случаях метрика AUC_ROC была больше 0,5. Следовательно, все модели значительно отличались от случайной.\n",
    "\n",
    "Достигаемый уровень F1 метрики составил на тестовой выборке 0,64, что позволяет использовать данную модель для прогнозированния оттока клиентов."
   ]
  }
 ],
 "metadata": {
  "ExecuteTimeLog": [
   {
    "duration": 1401,
    "start_time": "2021-09-30T19:15:55.737Z"
   },
   {
    "duration": 666,
    "start_time": "2021-09-30T19:16:05.611Z"
   },
   {
    "duration": 4,
    "start_time": "2021-09-30T19:16:10.857Z"
   },
   {
    "duration": 9,
    "start_time": "2021-09-30T19:16:13.898Z"
   },
   {
    "duration": 5,
    "start_time": "2021-09-30T19:18:31.312Z"
   },
   {
    "duration": 4,
    "start_time": "2021-09-30T19:19:30.775Z"
   },
   {
    "duration": 5,
    "start_time": "2021-09-30T19:19:41.054Z"
   },
   {
    "duration": 125,
    "start_time": "2021-09-30T19:20:22.607Z"
   },
   {
    "duration": 33,
    "start_time": "2021-09-30T19:20:26.004Z"
   },
   {
    "duration": 56,
    "start_time": "2021-09-30T19:20:32.090Z"
   },
   {
    "duration": 35,
    "start_time": "2021-09-30T19:20:39.130Z"
   },
   {
    "duration": 49,
    "start_time": "2021-09-30T19:21:00.807Z"
   },
   {
    "duration": 59,
    "start_time": "2021-09-30T19:21:28.686Z"
   },
   {
    "duration": 55,
    "start_time": "2021-09-30T19:21:40.087Z"
   },
   {
    "duration": 7,
    "start_time": "2021-09-30T19:53:31.507Z"
   },
   {
    "duration": 25,
    "start_time": "2021-09-30T19:53:45.179Z"
   },
   {
    "duration": 369,
    "start_time": "2021-09-30T19:57:52.350Z"
   },
   {
    "duration": 10,
    "start_time": "2021-09-30T19:57:54.972Z"
   },
   {
    "duration": 215,
    "start_time": "2021-10-01T18:43:34.373Z"
   },
   {
    "duration": 996,
    "start_time": "2021-10-01T18:43:38.630Z"
   },
   {
    "duration": 47,
    "start_time": "2021-10-01T18:43:39.628Z"
   },
   {
    "duration": 225,
    "start_time": "2021-10-01T18:43:41.559Z"
   },
   {
    "duration": 17,
    "start_time": "2021-10-01T18:43:47.324Z"
   },
   {
    "duration": 21,
    "start_time": "2021-10-01T18:43:59.106Z"
   },
   {
    "duration": 5,
    "start_time": "2021-10-01T18:44:10.364Z"
   },
   {
    "duration": 208,
    "start_time": "2021-10-01T18:44:15.774Z"
   },
   {
    "duration": 195,
    "start_time": "2021-10-01T18:44:18.632Z"
   },
   {
    "duration": 19,
    "start_time": "2021-10-01T18:44:25.942Z"
   },
   {
    "duration": 4,
    "start_time": "2021-10-01T18:48:27.095Z"
   },
   {
    "duration": 5,
    "start_time": "2021-10-01T18:48:35.573Z"
   },
   {
    "duration": 6,
    "start_time": "2021-10-01T18:49:12.460Z"
   },
   {
    "duration": 5,
    "start_time": "2021-10-01T18:49:20.376Z"
   },
   {
    "duration": 17,
    "start_time": "2021-10-01T18:49:27.372Z"
   },
   {
    "duration": 4,
    "start_time": "2021-10-01T18:57:15.674Z"
   },
   {
    "duration": 5034,
    "start_time": "2021-10-01T18:57:43.195Z"
   },
   {
    "duration": 6,
    "start_time": "2021-10-01T18:57:53.161Z"
   },
   {
    "duration": 5,
    "start_time": "2021-10-01T18:57:59.317Z"
   },
   {
    "duration": 6,
    "start_time": "2021-10-01T19:01:59.295Z"
   },
   {
    "duration": 181,
    "start_time": "2021-10-01T19:02:36.383Z"
   },
   {
    "duration": 176,
    "start_time": "2021-10-01T19:02:59.937Z"
   },
   {
    "duration": 10,
    "start_time": "2021-10-01T19:03:33.364Z"
   },
   {
    "duration": 5,
    "start_time": "2021-10-01T19:05:05.908Z"
   },
   {
    "duration": 10,
    "start_time": "2021-10-01T19:05:15.196Z"
   },
   {
    "duration": 192,
    "start_time": "2021-10-01T19:05:27.669Z"
   },
   {
    "duration": 5,
    "start_time": "2021-10-01T19:05:32.148Z"
   },
   {
    "duration": 8,
    "start_time": "2021-10-01T19:05:57.163Z"
   },
   {
    "duration": 8,
    "start_time": "2021-10-01T19:06:00.870Z"
   },
   {
    "duration": 7,
    "start_time": "2021-10-01T19:06:14.886Z"
   },
   {
    "duration": 7,
    "start_time": "2021-10-01T19:06:15.934Z"
   },
   {
    "duration": 16,
    "start_time": "2021-10-01T19:07:33.934Z"
   },
   {
    "duration": 18,
    "start_time": "2021-10-01T19:07:40.056Z"
   },
   {
    "duration": 16,
    "start_time": "2021-10-01T19:14:23.176Z"
   },
   {
    "duration": 8,
    "start_time": "2021-10-01T19:14:27.277Z"
   },
   {
    "duration": 4304,
    "start_time": "2021-10-01T19:15:17.495Z"
   },
   {
    "duration": 18,
    "start_time": "2021-10-01T19:15:22.108Z"
   },
   {
    "duration": 7,
    "start_time": "2021-10-01T19:15:30.560Z"
   },
   {
    "duration": 7,
    "start_time": "2021-10-01T19:15:38.872Z"
   },
   {
    "duration": 19,
    "start_time": "2021-10-01T19:15:48.638Z"
   },
   {
    "duration": 4,
    "start_time": "2021-10-01T19:15:57.831Z"
   },
   {
    "duration": 6,
    "start_time": "2021-10-01T19:17:10.165Z"
   },
   {
    "duration": 241,
    "start_time": "2021-10-01T19:18:04.403Z"
   },
   {
    "duration": 6,
    "start_time": "2021-10-01T19:18:13.494Z"
   },
   {
    "duration": 6,
    "start_time": "2021-10-01T19:18:20.592Z"
   },
   {
    "duration": 5,
    "start_time": "2021-10-01T19:18:28.538Z"
   },
   {
    "duration": 7,
    "start_time": "2021-10-01T19:18:47.565Z"
   },
   {
    "duration": 8,
    "start_time": "2021-10-01T19:19:16.891Z"
   },
   {
    "duration": 1528,
    "start_time": "2021-10-02T06:26:28.889Z"
   },
   {
    "duration": 71,
    "start_time": "2021-10-02T06:26:30.420Z"
   },
   {
    "duration": 655,
    "start_time": "2021-10-02T06:26:30.495Z"
   },
   {
    "duration": 11,
    "start_time": "2021-10-02T06:26:38.134Z"
   },
   {
    "duration": 16,
    "start_time": "2021-10-02T06:27:33.009Z"
   },
   {
    "duration": 11,
    "start_time": "2021-10-02T06:28:00.601Z"
   },
   {
    "duration": 117,
    "start_time": "2021-10-02T06:29:48.517Z"
   },
   {
    "duration": 7,
    "start_time": "2021-10-02T06:29:51.645Z"
   },
   {
    "duration": 12,
    "start_time": "2021-10-02T06:29:57.000Z"
   },
   {
    "duration": 32,
    "start_time": "2021-10-02T06:30:30.254Z"
   },
   {
    "duration": 26,
    "start_time": "2021-10-02T06:31:05.773Z"
   },
   {
    "duration": 1435,
    "start_time": "2021-10-02T06:31:17.064Z"
   },
   {
    "duration": 62,
    "start_time": "2021-10-02T06:31:18.501Z"
   },
   {
    "duration": 10,
    "start_time": "2021-10-02T06:31:18.566Z"
   },
   {
    "duration": 10,
    "start_time": "2021-10-02T06:31:18.578Z"
   },
   {
    "duration": 28,
    "start_time": "2021-10-02T06:31:18.591Z"
   },
   {
    "duration": 58,
    "start_time": "2021-10-02T06:31:18.622Z"
   },
   {
    "duration": 26,
    "start_time": "2021-10-02T06:31:18.682Z"
   },
   {
    "duration": 27,
    "start_time": "2021-10-02T06:31:55.081Z"
   },
   {
    "duration": 9,
    "start_time": "2021-10-02T06:34:08.193Z"
   },
   {
    "duration": 1391,
    "start_time": "2021-10-02T06:36:09.752Z"
   },
   {
    "duration": 1469,
    "start_time": "2021-10-02T06:43:13.361Z"
   },
   {
    "duration": 411,
    "start_time": "2021-10-02T06:43:22.154Z"
   },
   {
    "duration": 5,
    "start_time": "2021-10-02T06:43:27.640Z"
   },
   {
    "duration": 83,
    "start_time": "2021-10-02T06:43:27.647Z"
   },
   {
    "duration": 18,
    "start_time": "2021-10-02T06:43:27.734Z"
   },
   {
    "duration": 15,
    "start_time": "2021-10-02T06:43:27.763Z"
   },
   {
    "duration": 30,
    "start_time": "2021-10-02T06:43:27.790Z"
   },
   {
    "duration": 50,
    "start_time": "2021-10-02T06:43:27.823Z"
   },
   {
    "duration": 425,
    "start_time": "2021-10-02T06:43:29.491Z"
   },
   {
    "duration": 16,
    "start_time": "2021-10-02T06:43:45.031Z"
   },
   {
    "duration": 26,
    "start_time": "2021-10-02T06:44:03.033Z"
   },
   {
    "duration": 25,
    "start_time": "2021-10-02T06:45:47.599Z"
   },
   {
    "duration": 6,
    "start_time": "2021-10-02T06:47:00.992Z"
   },
   {
    "duration": 10,
    "start_time": "2021-10-02T06:47:23.026Z"
   },
   {
    "duration": 20,
    "start_time": "2021-10-02T06:48:02.363Z"
   },
   {
    "duration": 35,
    "start_time": "2021-10-02T06:48:29.704Z"
   },
   {
    "duration": 27,
    "start_time": "2021-10-02T06:48:40.343Z"
   },
   {
    "duration": 24,
    "start_time": "2021-10-02T06:48:49.434Z"
   },
   {
    "duration": 28,
    "start_time": "2021-10-02T06:49:47.935Z"
   },
   {
    "duration": 27,
    "start_time": "2021-10-02T06:50:00.754Z"
   },
   {
    "duration": 23,
    "start_time": "2021-10-02T06:50:07.356Z"
   },
   {
    "duration": 39,
    "start_time": "2021-10-02T06:50:36.227Z"
   },
   {
    "duration": 24,
    "start_time": "2021-10-02T06:50:36.714Z"
   },
   {
    "duration": 25,
    "start_time": "2021-10-02T06:50:58.713Z"
   },
   {
    "duration": 32,
    "start_time": "2021-10-02T06:51:05.871Z"
   },
   {
    "duration": 24,
    "start_time": "2021-10-02T06:51:07.555Z"
   },
   {
    "duration": 24,
    "start_time": "2021-10-02T06:51:12.717Z"
   },
   {
    "duration": 1334,
    "start_time": "2021-10-02T06:51:32.062Z"
   },
   {
    "duration": 62,
    "start_time": "2021-10-02T06:51:33.399Z"
   },
   {
    "duration": 10,
    "start_time": "2021-10-02T06:51:33.465Z"
   },
   {
    "duration": 15,
    "start_time": "2021-10-02T06:51:33.478Z"
   },
   {
    "duration": 30,
    "start_time": "2021-10-02T06:51:33.496Z"
   },
   {
    "duration": 52,
    "start_time": "2021-10-02T06:51:33.528Z"
   },
   {
    "duration": 15,
    "start_time": "2021-10-02T06:51:33.583Z"
   },
   {
    "duration": 23,
    "start_time": "2021-10-02T06:51:33.600Z"
   },
   {
    "duration": 69,
    "start_time": "2021-10-02T06:51:33.626Z"
   },
   {
    "duration": 25,
    "start_time": "2021-10-02T06:51:33.697Z"
   },
   {
    "duration": 37,
    "start_time": "2021-10-02T06:51:33.725Z"
   },
   {
    "duration": 9,
    "start_time": "2021-10-02T06:51:49.033Z"
   },
   {
    "duration": 25,
    "start_time": "2021-10-02T06:51:54.068Z"
   },
   {
    "duration": 26,
    "start_time": "2021-10-02T06:51:58.173Z"
   },
   {
    "duration": 5,
    "start_time": "2021-10-02T06:52:54.552Z"
   },
   {
    "duration": 32,
    "start_time": "2021-10-02T06:52:57.790Z"
   },
   {
    "duration": 23,
    "start_time": "2021-10-02T06:53:02.829Z"
   },
   {
    "duration": 1352,
    "start_time": "2021-10-02T06:53:13.277Z"
   },
   {
    "duration": 65,
    "start_time": "2021-10-02T06:53:14.632Z"
   },
   {
    "duration": 11,
    "start_time": "2021-10-02T06:53:14.703Z"
   },
   {
    "duration": 11,
    "start_time": "2021-10-02T06:53:14.716Z"
   },
   {
    "duration": 31,
    "start_time": "2021-10-02T06:53:14.762Z"
   },
   {
    "duration": 25,
    "start_time": "2021-10-02T06:53:14.795Z"
   },
   {
    "duration": 46,
    "start_time": "2021-10-02T06:53:14.823Z"
   },
   {
    "duration": 26,
    "start_time": "2021-10-02T06:53:14.873Z"
   },
   {
    "duration": 68,
    "start_time": "2021-10-02T06:53:14.902Z"
   },
   {
    "duration": 10,
    "start_time": "2021-10-02T06:53:14.972Z"
   },
   {
    "duration": 530,
    "start_time": "2021-10-02T09:30:54.781Z"
   },
   {
    "duration": 3941,
    "start_time": "2021-10-02T09:31:03.893Z"
   },
   {
    "duration": 39,
    "start_time": "2021-10-02T09:31:30.023Z"
   },
   {
    "duration": 84,
    "start_time": "2021-10-02T09:33:27.079Z"
   },
   {
    "duration": 58,
    "start_time": "2021-10-02T09:33:37.306Z"
   },
   {
    "duration": 77,
    "start_time": "2021-10-02T09:33:42.992Z"
   },
   {
    "duration": 4,
    "start_time": "2021-10-02T09:41:12.783Z"
   },
   {
    "duration": 1050,
    "start_time": "2021-10-02T09:42:20.679Z"
   },
   {
    "duration": 1264,
    "start_time": "2021-10-02T09:42:47.894Z"
   },
   {
    "duration": 2525,
    "start_time": "2021-10-02T09:43:39.538Z"
   },
   {
    "duration": 2551,
    "start_time": "2021-10-02T09:43:56.389Z"
   },
   {
    "duration": 2587,
    "start_time": "2021-10-02T09:44:39.787Z"
   },
   {
    "duration": 6678,
    "start_time": "2021-10-02T09:45:00.688Z"
   },
   {
    "duration": 5,
    "start_time": "2021-10-02T09:46:03.788Z"
   },
   {
    "duration": 305,
    "start_time": "2021-10-02T09:46:28.951Z"
   },
   {
    "duration": 6,
    "start_time": "2021-10-02T09:46:34.357Z"
   },
   {
    "duration": 337,
    "start_time": "2021-10-02T09:46:39.499Z"
   },
   {
    "duration": 349,
    "start_time": "2021-10-02T09:46:48.568Z"
   },
   {
    "duration": 6,
    "start_time": "2021-10-02T09:46:56.631Z"
   },
   {
    "duration": 5,
    "start_time": "2021-10-02T09:47:01.781Z"
   },
   {
    "duration": 499,
    "start_time": "2021-10-02T09:47:14.908Z"
   },
   {
    "duration": 110,
    "start_time": "2021-10-02T09:47:20.511Z"
   },
   {
    "duration": 5,
    "start_time": "2021-10-02T09:48:04.524Z"
   },
   {
    "duration": 6537,
    "start_time": "2021-10-02T09:48:17.590Z"
   },
   {
    "duration": 6542,
    "start_time": "2021-10-02T09:49:00.174Z"
   },
   {
    "duration": 337,
    "start_time": "2021-10-02T09:52:55.940Z"
   },
   {
    "duration": 5,
    "start_time": "2021-10-02T09:52:58.543Z"
   },
   {
    "duration": 2663,
    "start_time": "2021-10-02T09:53:16.050Z"
   },
   {
    "duration": 317,
    "start_time": "2021-10-02T09:54:23.129Z"
   },
   {
    "duration": 398,
    "start_time": "2021-10-02T09:54:35.924Z"
   },
   {
    "duration": 158238,
    "start_time": "2021-10-02T09:54:42.576Z"
   },
   {
    "duration": 1006429,
    "start_time": "2021-10-02T09:57:41.240Z"
   },
   {
    "duration": 6,
    "start_time": "2021-10-02T10:33:04.547Z"
   },
   {
    "duration": 6,
    "start_time": "2021-10-02T10:33:13.729Z"
   },
   {
    "duration": 6,
    "start_time": "2021-10-02T10:33:39.960Z"
   },
   {
    "duration": 125,
    "start_time": "2021-10-02T10:38:34.537Z"
   },
   {
    "duration": 2602,
    "start_time": "2021-10-02T10:39:15.438Z"
   },
   {
    "duration": 1300,
    "start_time": "2021-10-02T10:42:08.696Z"
   },
   {
    "duration": 65,
    "start_time": "2021-10-02T10:42:09.998Z"
   },
   {
    "duration": 12,
    "start_time": "2021-10-02T10:42:10.066Z"
   },
   {
    "duration": 15,
    "start_time": "2021-10-02T10:42:10.080Z"
   },
   {
    "duration": 29,
    "start_time": "2021-10-02T10:42:10.098Z"
   },
   {
    "duration": 25,
    "start_time": "2021-10-02T10:42:10.162Z"
   },
   {
    "duration": 17,
    "start_time": "2021-10-02T10:42:10.189Z"
   },
   {
    "duration": 71,
    "start_time": "2021-10-02T10:42:10.210Z"
   },
   {
    "duration": 8,
    "start_time": "2021-10-02T10:42:10.287Z"
   },
   {
    "duration": 165,
    "start_time": "2021-10-02T10:42:10.299Z"
   },
   {
    "duration": 2622,
    "start_time": "2021-10-02T10:42:10.467Z"
   },
   {
    "duration": 1016412,
    "start_time": "2021-10-02T10:42:13.091Z"
   },
   {
    "duration": 6,
    "start_time": "2021-10-02T10:59:09.505Z"
   },
   {
    "duration": 149,
    "start_time": "2021-10-02T10:59:09.514Z"
   },
   {
    "duration": 2784,
    "start_time": "2021-10-02T10:59:09.667Z"
   },
   {
    "duration": 1084568,
    "start_time": "2021-10-02T10:59:12.454Z"
   },
   {
    "duration": 5,
    "start_time": "2021-10-02T11:17:17.024Z"
   },
   {
    "duration": 38,
    "start_time": "2021-10-02T11:19:46.674Z"
   },
   {
    "duration": 39,
    "start_time": "2021-10-02T11:20:25.070Z"
   },
   {
    "duration": 40,
    "start_time": "2021-10-02T11:20:33.104Z"
   },
   {
    "duration": 37,
    "start_time": "2021-10-02T11:20:58.085Z"
   },
   {
    "duration": 651,
    "start_time": "2021-10-02T11:21:05.388Z"
   },
   {
    "duration": 36,
    "start_time": "2021-10-02T11:21:10.589Z"
   },
   {
    "duration": 1345,
    "start_time": "2021-10-03T06:48:20.513Z"
   },
   {
    "duration": 64,
    "start_time": "2021-10-03T06:48:21.861Z"
   },
   {
    "duration": 11,
    "start_time": "2021-10-03T06:48:21.928Z"
   },
   {
    "duration": 19,
    "start_time": "2021-10-03T06:48:21.942Z"
   },
   {
    "duration": 39,
    "start_time": "2021-10-03T06:48:21.963Z"
   },
   {
    "duration": 24,
    "start_time": "2021-10-03T06:48:22.022Z"
   },
   {
    "duration": 14,
    "start_time": "2021-10-03T06:48:22.049Z"
   },
   {
    "duration": 60,
    "start_time": "2021-10-03T06:48:22.067Z"
   },
   {
    "duration": 11,
    "start_time": "2021-10-03T06:48:22.130Z"
   },
   {
    "duration": 86,
    "start_time": "2021-10-03T06:48:22.144Z"
   },
   {
    "duration": 2753,
    "start_time": "2021-10-03T06:48:22.233Z"
   },
   {
    "duration": 3,
    "start_time": "2021-10-03T06:48:24.989Z"
   },
   {
    "duration": 674,
    "start_time": "2021-10-03T06:48:24.994Z"
   },
   {
    "duration": 59,
    "start_time": "2021-10-03T06:48:25.670Z"
   },
   {
    "duration": 2707,
    "start_time": "2021-10-03T06:48:25.733Z"
   },
   {
    "duration": 4,
    "start_time": "2021-10-03T06:48:28.442Z"
   },
   {
    "duration": 529,
    "start_time": "2021-10-03T06:48:28.449Z"
   },
   {
    "duration": 468,
    "start_time": "2021-10-03T06:48:28.981Z"
   },
   {
    "duration": 34,
    "start_time": "2021-10-03T06:49:11.114Z"
   },
   {
    "duration": 1337,
    "start_time": "2021-10-03T06:49:44.955Z"
   },
   {
    "duration": 65,
    "start_time": "2021-10-03T06:49:46.295Z"
   },
   {
    "duration": 11,
    "start_time": "2021-10-03T06:49:46.363Z"
   },
   {
    "duration": 11,
    "start_time": "2021-10-03T06:49:46.377Z"
   },
   {
    "duration": 57,
    "start_time": "2021-10-03T06:49:46.391Z"
   },
   {
    "duration": 25,
    "start_time": "2021-10-03T06:49:46.451Z"
   },
   {
    "duration": 44,
    "start_time": "2021-10-03T06:49:46.478Z"
   },
   {
    "duration": 35,
    "start_time": "2021-10-03T06:49:46.526Z"
   },
   {
    "duration": 8,
    "start_time": "2021-10-03T06:49:46.563Z"
   },
   {
    "duration": 150,
    "start_time": "2021-10-03T06:49:46.573Z"
   },
   {
    "duration": 2617,
    "start_time": "2021-10-03T06:49:46.727Z"
   },
   {
    "duration": 3,
    "start_time": "2021-10-03T06:49:49.346Z"
   },
   {
    "duration": 695,
    "start_time": "2021-10-03T06:49:49.352Z"
   },
   {
    "duration": 274,
    "start_time": "2021-10-03T06:49:50.050Z"
   },
   {
    "duration": 3060,
    "start_time": "2021-10-03T06:49:50.328Z"
   },
   {
    "duration": 87889,
    "start_time": "2021-10-03T06:49:53.390Z"
   },
   {
    "duration": 986,
    "start_time": "2021-10-03T06:51:20.296Z"
   },
   {
    "duration": 986,
    "start_time": "2021-10-03T06:51:20.297Z"
   },
   {
    "duration": 986,
    "start_time": "2021-10-03T06:51:20.298Z"
   },
   {
    "duration": 508923,
    "start_time": "2021-10-03T06:51:25.706Z"
   },
   {
    "duration": 5,
    "start_time": "2021-10-03T06:59:54.632Z"
   },
   {
    "duration": 20,
    "start_time": "2021-10-03T06:59:54.640Z"
   },
   {
    "duration": 517,
    "start_time": "2021-10-03T07:01:04.223Z"
   },
   {
    "duration": 535,
    "start_time": "2021-10-03T07:01:32.417Z"
   },
   {
    "duration": 38,
    "start_time": "2021-10-03T07:01:36.566Z"
   },
   {
    "duration": 1366,
    "start_time": "2021-10-03T07:01:51.089Z"
   },
   {
    "duration": 66,
    "start_time": "2021-10-03T07:01:52.458Z"
   },
   {
    "duration": 13,
    "start_time": "2021-10-03T07:01:52.528Z"
   },
   {
    "duration": 14,
    "start_time": "2021-10-03T07:01:52.544Z"
   },
   {
    "duration": 75,
    "start_time": "2021-10-03T07:01:52.560Z"
   },
   {
    "duration": 28,
    "start_time": "2021-10-03T07:01:52.639Z"
   },
   {
    "duration": 21,
    "start_time": "2021-10-03T07:01:52.670Z"
   },
   {
    "duration": 36,
    "start_time": "2021-10-03T07:01:52.724Z"
   },
   {
    "duration": 10,
    "start_time": "2021-10-03T07:01:52.765Z"
   },
   {
    "duration": 143,
    "start_time": "2021-10-03T07:01:52.779Z"
   },
   {
    "duration": 2503,
    "start_time": "2021-10-03T07:01:52.926Z"
   },
   {
    "duration": 3,
    "start_time": "2021-10-03T07:01:55.431Z"
   },
   {
    "duration": 678,
    "start_time": "2021-10-03T07:01:55.437Z"
   },
   {
    "duration": 103,
    "start_time": "2021-10-03T07:01:56.122Z"
   },
   {
    "duration": 2662,
    "start_time": "2021-10-03T07:01:56.228Z"
   },
   {
    "duration": 3,
    "start_time": "2021-10-03T07:01:58.892Z"
   },
   {
    "duration": 544,
    "start_time": "2021-10-03T07:01:58.897Z"
   },
   {
    "duration": 36,
    "start_time": "2021-10-03T07:01:59.444Z"
   },
   {
    "duration": 418,
    "start_time": "2021-10-03T07:05:32.793Z"
   },
   {
    "duration": 10,
    "start_time": "2021-10-03T07:05:47.671Z"
   },
   {
    "duration": 14,
    "start_time": "2021-10-03T07:09:06.613Z"
   },
   {
    "duration": 19,
    "start_time": "2021-10-03T07:09:27.993Z"
   },
   {
    "duration": 4,
    "start_time": "2021-10-03T07:10:35.596Z"
   },
   {
    "duration": 5,
    "start_time": "2021-10-03T07:10:47.620Z"
   },
   {
    "duration": 8,
    "start_time": "2021-10-03T07:11:03.518Z"
   },
   {
    "duration": 1369,
    "start_time": "2021-10-03T07:11:18.088Z"
   },
   {
    "duration": 69,
    "start_time": "2021-10-03T07:11:19.460Z"
   },
   {
    "duration": 13,
    "start_time": "2021-10-03T07:11:19.533Z"
   },
   {
    "duration": 35,
    "start_time": "2021-10-03T07:11:19.550Z"
   },
   {
    "duration": 45,
    "start_time": "2021-10-03T07:11:19.588Z"
   },
   {
    "duration": 28,
    "start_time": "2021-10-03T07:11:19.637Z"
   },
   {
    "duration": 36,
    "start_time": "2021-10-03T07:11:19.668Z"
   },
   {
    "duration": 56,
    "start_time": "2021-10-03T07:11:19.707Z"
   },
   {
    "duration": 10,
    "start_time": "2021-10-03T07:11:19.769Z"
   },
   {
    "duration": 60,
    "start_time": "2021-10-03T07:11:19.782Z"
   },
   {
    "duration": 3126,
    "start_time": "2021-10-03T07:11:19.922Z"
   },
   {
    "duration": 3,
    "start_time": "2021-10-03T07:11:23.050Z"
   },
   {
    "duration": 670,
    "start_time": "2021-10-03T07:11:23.055Z"
   },
   {
    "duration": 102,
    "start_time": "2021-10-03T07:11:23.727Z"
   },
   {
    "duration": 2578,
    "start_time": "2021-10-03T07:11:23.921Z"
   },
   {
    "duration": 3,
    "start_time": "2021-10-03T07:11:26.501Z"
   },
   {
    "duration": 553,
    "start_time": "2021-10-03T07:11:26.506Z"
   },
   {
    "duration": 7,
    "start_time": "2021-10-03T07:11:27.061Z"
   },
   {
    "duration": 34,
    "start_time": "2021-10-03T07:11:27.070Z"
   },
   {
    "duration": 5,
    "start_time": "2021-10-03T07:11:27.106Z"
   },
   {
    "duration": 40,
    "start_time": "2021-10-03T07:11:27.124Z"
   },
   {
    "duration": 24,
    "start_time": "2021-10-03T07:12:26.008Z"
   },
   {
    "duration": 5,
    "start_time": "2021-10-03T07:12:26.742Z"
   },
   {
    "duration": 5,
    "start_time": "2021-10-03T07:12:34.197Z"
   },
   {
    "duration": 22,
    "start_time": "2021-10-03T07:12:45.209Z"
   },
   {
    "duration": 23,
    "start_time": "2021-10-03T07:12:48.111Z"
   },
   {
    "duration": 23,
    "start_time": "2021-10-03T07:13:05.848Z"
   },
   {
    "duration": 36,
    "start_time": "2021-10-03T07:13:07.758Z"
   },
   {
    "duration": 53,
    "start_time": "2021-10-03T07:13:09.354Z"
   },
   {
    "duration": 1378,
    "start_time": "2021-10-03T07:13:16.303Z"
   },
   {
    "duration": 64,
    "start_time": "2021-10-03T07:13:17.684Z"
   },
   {
    "duration": 11,
    "start_time": "2021-10-03T07:13:17.752Z"
   },
   {
    "duration": 13,
    "start_time": "2021-10-03T07:13:17.766Z"
   },
   {
    "duration": 67,
    "start_time": "2021-10-03T07:13:17.782Z"
   },
   {
    "duration": 31,
    "start_time": "2021-10-03T07:13:17.851Z"
   },
   {
    "duration": 41,
    "start_time": "2021-10-03T07:13:17.884Z"
   },
   {
    "duration": 36,
    "start_time": "2021-10-03T07:13:17.928Z"
   },
   {
    "duration": 9,
    "start_time": "2021-10-03T07:13:17.968Z"
   },
   {
    "duration": 145,
    "start_time": "2021-10-03T07:13:17.979Z"
   },
   {
    "duration": 2586,
    "start_time": "2021-10-03T07:13:18.128Z"
   },
   {
    "duration": 7,
    "start_time": "2021-10-03T07:13:20.717Z"
   },
   {
    "duration": 661,
    "start_time": "2021-10-03T07:13:20.726Z"
   },
   {
    "duration": 134,
    "start_time": "2021-10-03T07:13:21.389Z"
   },
   {
    "duration": 2862,
    "start_time": "2021-10-03T07:13:21.527Z"
   },
   {
    "duration": 5,
    "start_time": "2021-10-03T07:13:24.391Z"
   },
   {
    "duration": 534,
    "start_time": "2021-10-03T07:13:24.399Z"
   },
   {
    "duration": 8,
    "start_time": "2021-10-03T07:13:24.936Z"
   },
   {
    "duration": 42,
    "start_time": "2021-10-03T07:13:24.948Z"
   },
   {
    "duration": 74,
    "start_time": "2021-10-03T07:13:24.993Z"
   },
   {
    "duration": 110,
    "start_time": "2021-10-03T07:14:04.319Z"
   },
   {
    "duration": 3441,
    "start_time": "2021-10-03T07:14:31.684Z"
   },
   {
    "duration": 1372625,
    "start_time": "2021-10-03T07:17:07.686Z"
   },
   {
    "duration": 1368,
    "start_time": "2021-10-03T07:40:01.100Z"
   },
   {
    "duration": 359,
    "start_time": "2021-10-03T07:40:06.711Z"
   },
   {
    "duration": 290,
    "start_time": "2021-10-03T07:40:23.695Z"
   },
   {
    "duration": 7,
    "start_time": "2021-10-03T07:40:59.911Z"
   },
   {
    "duration": 6,
    "start_time": "2021-10-03T07:41:10.730Z"
   },
   {
    "duration": 6,
    "start_time": "2021-10-03T07:41:17.359Z"
   },
   {
    "duration": 6,
    "start_time": "2021-10-03T07:41:23.572Z"
   },
   {
    "duration": 315,
    "start_time": "2021-10-03T07:41:31.604Z"
   },
   {
    "duration": 1115,
    "start_time": "2021-10-03T07:41:53.353Z"
   },
   {
    "duration": 5,
    "start_time": "2021-10-03T07:42:24.784Z"
   },
   {
    "duration": 5,
    "start_time": "2021-10-03T07:42:33.738Z"
   },
   {
    "duration": 1100,
    "start_time": "2021-10-03T07:43:06.541Z"
   },
   {
    "duration": 759,
    "start_time": "2021-10-03T07:43:52.429Z"
   },
   {
    "duration": 752,
    "start_time": "2021-10-03T07:44:09.270Z"
   },
   {
    "duration": 790,
    "start_time": "2021-10-03T07:44:15.743Z"
   },
   {
    "duration": 812,
    "start_time": "2021-10-03T07:44:25.077Z"
   },
   {
    "duration": 986,
    "start_time": "2021-10-03T07:44:29.362Z"
   },
   {
    "duration": 891,
    "start_time": "2021-10-03T07:44:33.331Z"
   },
   {
    "duration": 822,
    "start_time": "2021-10-03T07:44:36.738Z"
   },
   {
    "duration": 781,
    "start_time": "2021-10-03T07:44:50.124Z"
   },
   {
    "duration": 817,
    "start_time": "2021-10-03T07:44:55.411Z"
   },
   {
    "duration": 39,
    "start_time": "2021-10-03T07:45:00.583Z"
   },
   {
    "duration": 39,
    "start_time": "2021-10-03T07:45:21.698Z"
   },
   {
    "duration": 1381,
    "start_time": "2021-10-03T07:50:38.442Z"
   },
   {
    "duration": 1217,
    "start_time": "2021-10-03T07:50:45.027Z"
   },
   {
    "duration": 1220,
    "start_time": "2021-10-03T07:50:55.471Z"
   },
   {
    "duration": 1131,
    "start_time": "2021-10-03T07:50:59.360Z"
   },
   {
    "duration": 1098,
    "start_time": "2021-10-03T07:51:07.887Z"
   },
   {
    "duration": 1116,
    "start_time": "2021-10-03T07:51:50.348Z"
   },
   {
    "duration": 813,
    "start_time": "2021-10-03T07:52:15.148Z"
   },
   {
    "duration": 783,
    "start_time": "2021-10-03T07:52:20.009Z"
   },
   {
    "duration": 777,
    "start_time": "2021-10-03T07:52:48.300Z"
   },
   {
    "duration": 1231,
    "start_time": "2021-10-03T07:52:56.629Z"
   },
   {
    "duration": 820,
    "start_time": "2021-10-03T07:53:27.566Z"
   },
   {
    "duration": 1122,
    "start_time": "2021-10-03T07:54:08.610Z"
   },
   {
    "duration": 1125,
    "start_time": "2021-10-03T07:54:51.618Z"
   },
   {
    "duration": 745,
    "start_time": "2021-10-03T07:57:32.957Z"
   },
   {
    "duration": 36,
    "start_time": "2021-10-03T07:57:35.688Z"
   },
   {
    "duration": 1113,
    "start_time": "2021-10-03T07:57:58.959Z"
   },
   {
    "duration": 767,
    "start_time": "2021-10-03T07:58:11.995Z"
   },
   {
    "duration": 1382472,
    "start_time": "2021-10-03T07:59:13.621Z"
   },
   {
    "duration": 1310,
    "start_time": "2021-10-03T08:30:24.154Z"
   },
   {
    "duration": 67,
    "start_time": "2021-10-03T08:30:25.467Z"
   },
   {
    "duration": 14,
    "start_time": "2021-10-03T08:30:25.538Z"
   },
   {
    "duration": 26,
    "start_time": "2021-10-03T08:30:25.555Z"
   },
   {
    "duration": 66,
    "start_time": "2021-10-03T08:30:25.584Z"
   },
   {
    "duration": 63,
    "start_time": "2021-10-03T08:30:25.652Z"
   },
   {
    "duration": 22,
    "start_time": "2021-10-03T08:30:25.718Z"
   },
   {
    "duration": 48,
    "start_time": "2021-10-03T08:30:25.743Z"
   },
   {
    "duration": 38,
    "start_time": "2021-10-03T08:30:25.795Z"
   },
   {
    "duration": 93,
    "start_time": "2021-10-03T08:30:25.836Z"
   },
   {
    "duration": 2997,
    "start_time": "2021-10-03T08:30:25.932Z"
   },
   {
    "duration": 3,
    "start_time": "2021-10-03T08:30:28.932Z"
   },
   {
    "duration": 659,
    "start_time": "2021-10-03T08:30:28.937Z"
   },
   {
    "duration": 124,
    "start_time": "2021-10-03T08:30:29.599Z"
   },
   {
    "duration": 3054,
    "start_time": "2021-10-03T08:30:29.726Z"
   },
   {
    "duration": 969553,
    "start_time": "2021-10-03T08:30:32.783Z"
   },
   {
    "duration": 557,
    "start_time": "2021-10-03T08:46:42.338Z"
   },
   {
    "duration": 7,
    "start_time": "2021-10-03T08:46:42.898Z"
   },
   {
    "duration": 35,
    "start_time": "2021-10-03T08:46:42.907Z"
   },
   {
    "duration": 180,
    "start_time": "2021-10-03T08:46:42.944Z"
   },
   {
    "duration": 3518,
    "start_time": "2021-10-03T08:46:43.128Z"
   },
   {
    "duration": 1373949,
    "start_time": "2021-10-03T08:46:46.648Z"
   },
   {
    "duration": 1150,
    "start_time": "2021-10-03T09:09:40.600Z"
   },
   {
    "duration": 36,
    "start_time": "2021-10-03T09:09:41.752Z"
   },
   {
    "duration": 1100,
    "start_time": "2021-10-03T09:14:52.903Z"
   },
   {
    "duration": 1159,
    "start_time": "2021-10-03T09:15:02.452Z"
   },
   {
    "duration": 1136,
    "start_time": "2021-10-03T09:15:15.326Z"
   },
   {
    "duration": 24,
    "start_time": "2021-10-03T09:31:53.538Z"
   },
   {
    "duration": 23,
    "start_time": "2021-10-03T09:32:02.175Z"
   },
   {
    "duration": 5,
    "start_time": "2021-10-03T09:33:10.357Z"
   },
   {
    "duration": 70,
    "start_time": "2021-10-03T09:33:11.003Z"
   },
   {
    "duration": 1308,
    "start_time": "2021-10-03T09:33:37.670Z"
   },
   {
    "duration": 65,
    "start_time": "2021-10-03T09:33:38.981Z"
   },
   {
    "duration": 11,
    "start_time": "2021-10-03T09:33:39.049Z"
   },
   {
    "duration": 35,
    "start_time": "2021-10-03T09:33:39.062Z"
   },
   {
    "duration": 36,
    "start_time": "2021-10-03T09:33:39.099Z"
   },
   {
    "duration": 24,
    "start_time": "2021-10-03T09:33:39.137Z"
   },
   {
    "duration": 27,
    "start_time": "2021-10-03T09:33:39.164Z"
   },
   {
    "duration": 49,
    "start_time": "2021-10-03T09:33:39.195Z"
   },
   {
    "duration": 8,
    "start_time": "2021-10-03T09:33:39.248Z"
   },
   {
    "duration": 165,
    "start_time": "2021-10-03T09:33:39.258Z"
   },
   {
    "duration": 2609,
    "start_time": "2021-10-03T09:33:39.425Z"
   },
   {
    "duration": 3,
    "start_time": "2021-10-03T09:33:42.037Z"
   },
   {
    "duration": 661,
    "start_time": "2021-10-03T09:33:42.042Z"
   },
   {
    "duration": 124,
    "start_time": "2021-10-03T09:33:42.705Z"
   },
   {
    "duration": 2654,
    "start_time": "2021-10-03T09:33:42.832Z"
   },
   {
    "duration": 3,
    "start_time": "2021-10-03T09:33:45.489Z"
   },
   {
    "duration": 551,
    "start_time": "2021-10-03T09:33:45.494Z"
   },
   {
    "duration": 8,
    "start_time": "2021-10-03T09:33:46.048Z"
   },
   {
    "duration": 24,
    "start_time": "2021-10-03T09:33:46.058Z"
   },
   {
    "duration": 144,
    "start_time": "2021-10-03T09:33:46.085Z"
   },
   {
    "duration": 3882,
    "start_time": "2021-10-03T09:33:46.232Z"
   },
   {
    "duration": 7,
    "start_time": "2021-10-03T09:33:50.116Z"
   },
   {
    "duration": 1126,
    "start_time": "2021-10-03T09:33:50.127Z"
   },
   {
    "duration": 35,
    "start_time": "2021-10-03T09:33:51.256Z"
   },
   {
    "duration": 1848,
    "start_time": "2021-10-03T11:18:31.977Z"
   },
   {
    "duration": 3375,
    "start_time": "2021-10-03T11:18:42.154Z"
   },
   {
    "duration": 1983,
    "start_time": "2021-10-03T11:28:42.625Z"
   },
   {
    "duration": 428,
    "start_time": "2021-10-03T11:29:06.321Z"
   },
   {
    "duration": 1054,
    "start_time": "2021-10-03T11:29:18.308Z"
   },
   {
    "duration": 1943,
    "start_time": "2021-10-03T11:29:27.492Z"
   },
   {
    "duration": 3474,
    "start_time": "2021-10-03T11:29:57.375Z"
   },
   {
    "duration": 709,
    "start_time": "2021-10-03T11:32:47.938Z"
   },
   {
    "duration": 271,
    "start_time": "2021-10-03T11:33:09.271Z"
   },
   {
    "duration": 310,
    "start_time": "2021-10-03T11:37:02.013Z"
   },
   {
    "duration": 3758,
    "start_time": "2021-10-03T11:37:11.181Z"
   },
   {
    "duration": 413,
    "start_time": "2021-10-03T11:40:26.651Z"
   },
   {
    "duration": 6,
    "start_time": "2021-10-03T11:41:48.207Z"
   },
   {
    "duration": 36,
    "start_time": "2021-10-03T11:41:54.056Z"
   },
   {
    "duration": 290,
    "start_time": "2021-10-03T11:42:10.008Z"
   },
   {
    "duration": 292,
    "start_time": "2021-10-03T11:42:47.479Z"
   },
   {
    "duration": 292,
    "start_time": "2021-10-03T11:43:18.884Z"
   },
   {
    "duration": 6,
    "start_time": "2021-10-03T11:43:34.321Z"
   },
   {
    "duration": 298,
    "start_time": "2021-10-03T11:45:20.468Z"
   },
   {
    "duration": 379,
    "start_time": "2021-10-03T11:45:44.442Z"
   },
   {
    "duration": 5,
    "start_time": "2021-10-03T11:46:39.428Z"
   },
   {
    "duration": 280,
    "start_time": "2021-10-03T11:47:33.680Z"
   },
   {
    "duration": 114,
    "start_time": "2021-10-03T11:48:08.583Z"
   },
   {
    "duration": 253,
    "start_time": "2021-10-03T11:48:15.205Z"
   },
   {
    "duration": 247,
    "start_time": "2021-10-03T11:48:55.461Z"
   },
   {
    "duration": 345,
    "start_time": "2021-10-03T11:59:09.243Z"
   },
   {
    "duration": 277,
    "start_time": "2021-10-03T11:59:19.939Z"
   },
   {
    "duration": 537,
    "start_time": "2021-10-03T12:01:03.541Z"
   },
   {
    "duration": 309,
    "start_time": "2021-10-03T12:01:13.151Z"
   },
   {
    "duration": 358,
    "start_time": "2021-10-03T12:01:19.797Z"
   },
   {
    "duration": 283,
    "start_time": "2021-10-03T12:01:50.200Z"
   },
   {
    "duration": 104,
    "start_time": "2021-10-03T12:02:01.118Z"
   },
   {
    "duration": 291,
    "start_time": "2021-10-03T12:02:13.342Z"
   },
   {
    "duration": 103,
    "start_time": "2021-10-03T12:02:20.553Z"
   },
   {
    "duration": 284,
    "start_time": "2021-10-03T12:02:23.364Z"
   },
   {
    "duration": 279,
    "start_time": "2021-10-03T12:02:37.051Z"
   },
   {
    "duration": 282,
    "start_time": "2021-10-03T12:02:46.934Z"
   },
   {
    "duration": 283,
    "start_time": "2021-10-03T12:51:37.196Z"
   },
   {
    "duration": 1023,
    "start_time": "2021-10-03T12:51:45.188Z"
   },
   {
    "duration": 1106,
    "start_time": "2021-10-03T12:51:56.501Z"
   },
   {
    "duration": 1199,
    "start_time": "2021-10-03T12:52:13.751Z"
   },
   {
    "duration": 1116,
    "start_time": "2021-10-03T12:52:30.243Z"
   },
   {
    "duration": 1103,
    "start_time": "2021-10-03T12:52:42.485Z"
   },
   {
    "duration": 1061,
    "start_time": "2021-10-03T12:52:48.673Z"
   },
   {
    "duration": 749,
    "start_time": "2021-10-03T13:01:13.112Z"
   },
   {
    "duration": 837,
    "start_time": "2021-10-03T13:01:48.192Z"
   },
   {
    "duration": 749,
    "start_time": "2021-10-03T14:05:08.293Z"
   },
   {
    "duration": 735,
    "start_time": "2021-10-03T14:05:51.438Z"
   },
   {
    "duration": 910,
    "start_time": "2021-10-03T14:06:08.561Z"
   },
   {
    "duration": 1042,
    "start_time": "2021-10-03T14:06:35.154Z"
   },
   {
    "duration": 1159,
    "start_time": "2021-10-03T14:06:44.603Z"
   },
   {
    "duration": 751,
    "start_time": "2021-10-03T14:06:57.867Z"
   },
   {
    "duration": 732,
    "start_time": "2021-10-03T14:07:08.899Z"
   },
   {
    "duration": 749,
    "start_time": "2021-10-03T14:07:26.163Z"
   },
   {
    "duration": 4,
    "start_time": "2021-10-03T14:38:05.067Z"
   },
   {
    "duration": 1563,
    "start_time": "2021-10-03T14:38:13.201Z"
   },
   {
    "duration": 62,
    "start_time": "2021-10-03T14:38:14.767Z"
   },
   {
    "duration": 14,
    "start_time": "2021-10-03T14:38:14.832Z"
   },
   {
    "duration": 19,
    "start_time": "2021-10-03T14:38:14.850Z"
   },
   {
    "duration": 52,
    "start_time": "2021-10-03T14:38:14.872Z"
   },
   {
    "duration": 28,
    "start_time": "2021-10-03T14:38:14.927Z"
   },
   {
    "duration": 19,
    "start_time": "2021-10-03T14:38:14.957Z"
   },
   {
    "duration": 67,
    "start_time": "2021-10-03T14:38:14.980Z"
   },
   {
    "duration": 8,
    "start_time": "2021-10-03T14:38:15.050Z"
   },
   {
    "duration": 70,
    "start_time": "2021-10-03T14:38:15.060Z"
   },
   {
    "duration": 2905,
    "start_time": "2021-10-03T14:38:15.134Z"
   },
   {
    "duration": 3,
    "start_time": "2021-10-03T14:38:18.042Z"
   },
   {
    "duration": 680,
    "start_time": "2021-10-03T14:38:18.048Z"
   },
   {
    "duration": 97,
    "start_time": "2021-10-03T14:38:18.732Z"
   },
   {
    "duration": 2908,
    "start_time": "2021-10-03T14:38:18.833Z"
   },
   {
    "duration": 4,
    "start_time": "2021-10-03T14:38:21.744Z"
   },
   {
    "duration": 674,
    "start_time": "2021-10-03T14:38:21.750Z"
   },
   {
    "duration": 10,
    "start_time": "2021-10-03T14:38:22.427Z"
   },
   {
    "duration": 84,
    "start_time": "2021-10-03T14:38:22.440Z"
   },
   {
    "duration": 196,
    "start_time": "2021-10-03T14:38:22.528Z"
   },
   {
    "duration": 6,
    "start_time": "2021-10-03T14:38:22.727Z"
   },
   {
    "duration": 1129,
    "start_time": "2021-10-03T14:38:22.736Z"
   },
   {
    "duration": 3,
    "start_time": "2021-10-03T14:38:23.869Z"
   },
   {
    "duration": 1223,
    "start_time": "2021-10-03T14:38:23.874Z"
   },
   {
    "duration": 49,
    "start_time": "2021-10-03T14:38:25.099Z"
   },
   {
    "duration": 331,
    "start_time": "2021-10-03T14:38:25.150Z"
   },
   {
    "duration": 1112,
    "start_time": "2021-10-13T19:03:26.333Z"
   },
   {
    "duration": 44,
    "start_time": "2021-10-13T19:03:27.447Z"
   },
   {
    "duration": 8,
    "start_time": "2021-10-13T19:03:27.493Z"
   },
   {
    "duration": 18,
    "start_time": "2021-10-13T19:03:27.503Z"
   },
   {
    "duration": 23,
    "start_time": "2021-10-13T19:03:27.522Z"
   },
   {
    "duration": 14,
    "start_time": "2021-10-13T19:03:27.547Z"
   },
   {
    "duration": 9,
    "start_time": "2021-10-13T19:03:27.563Z"
   },
   {
    "duration": 22,
    "start_time": "2021-10-13T19:03:27.574Z"
   },
   {
    "duration": 6,
    "start_time": "2021-10-13T19:03:27.598Z"
   },
   {
    "duration": 58,
    "start_time": "2021-10-13T19:03:27.605Z"
   },
   {
    "duration": 1705,
    "start_time": "2021-10-13T19:03:27.746Z"
   },
   {
    "duration": 2,
    "start_time": "2021-10-13T19:03:29.453Z"
   },
   {
    "duration": 429,
    "start_time": "2021-10-13T19:03:29.457Z"
   },
   {
    "duration": 61,
    "start_time": "2021-10-13T19:03:29.888Z"
   },
   {
    "duration": 1837,
    "start_time": "2021-10-13T19:03:29.951Z"
   },
   {
    "duration": 2,
    "start_time": "2021-10-13T19:03:31.790Z"
   },
   {
    "duration": 339,
    "start_time": "2021-10-13T19:03:31.793Z"
   },
   {
    "duration": 12,
    "start_time": "2021-10-13T19:03:32.133Z"
   },
   {
    "duration": 18,
    "start_time": "2021-10-13T19:03:32.146Z"
   },
   {
    "duration": 26,
    "start_time": "2021-10-13T19:03:32.167Z"
   },
   {
    "duration": 15,
    "start_time": "2021-10-13T19:03:43.013Z"
   }
  ],
  "kernelspec": {
   "display_name": "Python 3 (ipykernel)",
   "language": "python",
   "name": "python3"
  },
  "language_info": {
   "codemirror_mode": {
    "name": "ipython",
    "version": 3
   },
   "file_extension": ".py",
   "mimetype": "text/x-python",
   "name": "python",
   "nbconvert_exporter": "python",
   "pygments_lexer": "ipython3",
   "version": "3.7.6"
  },
  "toc": {
   "base_numbering": 1,
   "nav_menu": {},
   "number_sections": true,
   "sideBar": true,
   "skip_h1_title": true,
   "title_cell": "Содержание",
   "title_sidebar": "Contents",
   "toc_cell": true,
   "toc_position": {
    "height": "calc(100% - 180px)",
    "left": "10px",
    "top": "150px",
    "width": "315.014px"
   },
   "toc_section_display": true,
   "toc_window_display": false
  }
 },
 "nbformat": 4,
 "nbformat_minor": 2
}
