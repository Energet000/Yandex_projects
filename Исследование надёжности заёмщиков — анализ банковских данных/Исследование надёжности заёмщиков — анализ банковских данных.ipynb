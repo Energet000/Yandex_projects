{
 "cells": [
  {
   "cell_type": "markdown",
   "id": "48efee54",
   "metadata": {},
   "source": [
    "## Описание проекта"
   ]
  },
  {
   "cell_type": "markdown",
   "id": "1aba35ec",
   "metadata": {},
   "source": [
    "Заказчик — кредитный отдел банка. Нужно разобраться, влияет ли семейное положение и количество детей клиента на факт погашения кредита в срок. Входные данные от банка — статистика о платёжеспособности клиентов.\n",
    "\n",
    "Результаты исследования будут учтены при построении модели кредитного скоринга — специальной системы, которая оценивает способность потенциального заёмщика вернуть кредит банку."
   ]
  },
  {
   "cell_type": "code",
   "execution_count": 1,
   "id": "9134d9e0",
   "metadata": {},
   "outputs": [],
   "source": [
    "# Импорт библиотек\n",
    "import pandas as pd\n",
    "from pymystem3 import Mystem\n",
    "from collections import Counter\n",
    "import seaborn as sns\n",
    "from matplotlib import pyplot as plt\n",
    "\n",
    "# Настройка отображения чисел по умолчанию\n",
    "pd.set_option('display.float_format', '{:,.2f}'.format)"
   ]
  },
  {
   "cell_type": "markdown",
   "id": "d7e41566",
   "metadata": {},
   "source": [
    "## Шаг 1. Откройте таблицу и изучите общую информацию о данных"
   ]
  },
  {
   "cell_type": "code",
   "execution_count": 2,
   "id": "fdf5bfc2",
   "metadata": {},
   "outputs": [
    {
     "data": {
      "text/html": [
       "<div>\n",
       "<style scoped>\n",
       "    .dataframe tbody tr th:only-of-type {\n",
       "        vertical-align: middle;\n",
       "    }\n",
       "\n",
       "    .dataframe tbody tr th {\n",
       "        vertical-align: top;\n",
       "    }\n",
       "\n",
       "    .dataframe thead th {\n",
       "        text-align: right;\n",
       "    }\n",
       "</style>\n",
       "<table border=\"1\" class=\"dataframe\">\n",
       "  <thead>\n",
       "    <tr style=\"text-align: right;\">\n",
       "      <th></th>\n",
       "      <th>children</th>\n",
       "      <th>days_employed</th>\n",
       "      <th>dob_years</th>\n",
       "      <th>education</th>\n",
       "      <th>education_id</th>\n",
       "      <th>family_status</th>\n",
       "      <th>family_status_id</th>\n",
       "      <th>gender</th>\n",
       "      <th>income_type</th>\n",
       "      <th>debt</th>\n",
       "      <th>total_income</th>\n",
       "      <th>purpose</th>\n",
       "    </tr>\n",
       "  </thead>\n",
       "  <tbody>\n",
       "    <tr>\n",
       "      <td>0</td>\n",
       "      <td>1</td>\n",
       "      <td>-8,437.67</td>\n",
       "      <td>42</td>\n",
       "      <td>высшее</td>\n",
       "      <td>0</td>\n",
       "      <td>женат / замужем</td>\n",
       "      <td>0</td>\n",
       "      <td>F</td>\n",
       "      <td>сотрудник</td>\n",
       "      <td>0</td>\n",
       "      <td>253,875.64</td>\n",
       "      <td>покупка жилья</td>\n",
       "    </tr>\n",
       "    <tr>\n",
       "      <td>1</td>\n",
       "      <td>1</td>\n",
       "      <td>-4,024.80</td>\n",
       "      <td>36</td>\n",
       "      <td>среднее</td>\n",
       "      <td>1</td>\n",
       "      <td>женат / замужем</td>\n",
       "      <td>0</td>\n",
       "      <td>F</td>\n",
       "      <td>сотрудник</td>\n",
       "      <td>0</td>\n",
       "      <td>112,080.01</td>\n",
       "      <td>приобретение автомобиля</td>\n",
       "    </tr>\n",
       "    <tr>\n",
       "      <td>2</td>\n",
       "      <td>0</td>\n",
       "      <td>-5,623.42</td>\n",
       "      <td>33</td>\n",
       "      <td>Среднее</td>\n",
       "      <td>1</td>\n",
       "      <td>женат / замужем</td>\n",
       "      <td>0</td>\n",
       "      <td>M</td>\n",
       "      <td>сотрудник</td>\n",
       "      <td>0</td>\n",
       "      <td>145,885.95</td>\n",
       "      <td>покупка жилья</td>\n",
       "    </tr>\n",
       "    <tr>\n",
       "      <td>3</td>\n",
       "      <td>3</td>\n",
       "      <td>-4,124.75</td>\n",
       "      <td>32</td>\n",
       "      <td>среднее</td>\n",
       "      <td>1</td>\n",
       "      <td>женат / замужем</td>\n",
       "      <td>0</td>\n",
       "      <td>M</td>\n",
       "      <td>сотрудник</td>\n",
       "      <td>0</td>\n",
       "      <td>267,628.55</td>\n",
       "      <td>дополнительное образование</td>\n",
       "    </tr>\n",
       "    <tr>\n",
       "      <td>4</td>\n",
       "      <td>0</td>\n",
       "      <td>340,266.07</td>\n",
       "      <td>53</td>\n",
       "      <td>среднее</td>\n",
       "      <td>1</td>\n",
       "      <td>гражданский брак</td>\n",
       "      <td>1</td>\n",
       "      <td>F</td>\n",
       "      <td>пенсионер</td>\n",
       "      <td>0</td>\n",
       "      <td>158,616.08</td>\n",
       "      <td>сыграть свадьбу</td>\n",
       "    </tr>\n",
       "  </tbody>\n",
       "</table>\n",
       "</div>"
      ],
      "text/plain": [
       "   children  days_employed  dob_years education  education_id  \\\n",
       "0         1      -8,437.67         42    высшее             0   \n",
       "1         1      -4,024.80         36   среднее             1   \n",
       "2         0      -5,623.42         33   Среднее             1   \n",
       "3         3      -4,124.75         32   среднее             1   \n",
       "4         0     340,266.07         53   среднее             1   \n",
       "\n",
       "      family_status  family_status_id gender income_type  debt  total_income  \\\n",
       "0   женат / замужем                 0      F   сотрудник     0    253,875.64   \n",
       "1   женат / замужем                 0      F   сотрудник     0    112,080.01   \n",
       "2   женат / замужем                 0      M   сотрудник     0    145,885.95   \n",
       "3   женат / замужем                 0      M   сотрудник     0    267,628.55   \n",
       "4  гражданский брак                 1      F   пенсионер     0    158,616.08   \n",
       "\n",
       "                      purpose  \n",
       "0               покупка жилья  \n",
       "1     приобретение автомобиля  \n",
       "2               покупка жилья  \n",
       "3  дополнительное образование  \n",
       "4             сыграть свадьбу  "
      ]
     },
     "execution_count": 2,
     "metadata": {},
     "output_type": "execute_result"
    }
   ],
   "source": [
    "df = pd.read_csv('/datasets/data.csv')\n",
    "df.head()"
   ]
  },
  {
   "cell_type": "code",
   "execution_count": 3,
   "id": "84a8d1d5",
   "metadata": {},
   "outputs": [
    {
     "name": "stdout",
     "output_type": "stream",
     "text": [
      "<class 'pandas.core.frame.DataFrame'>\n",
      "RangeIndex: 21525 entries, 0 to 21524\n",
      "Data columns (total 12 columns):\n",
      "children            21525 non-null int64\n",
      "days_employed       19351 non-null float64\n",
      "dob_years           21525 non-null int64\n",
      "education           21525 non-null object\n",
      "education_id        21525 non-null int64\n",
      "family_status       21525 non-null object\n",
      "family_status_id    21525 non-null int64\n",
      "gender              21525 non-null object\n",
      "income_type         21525 non-null object\n",
      "debt                21525 non-null int64\n",
      "total_income        19351 non-null float64\n",
      "purpose             21525 non-null object\n",
      "dtypes: float64(2), int64(5), object(5)\n",
      "memory usage: 2.0+ MB\n"
     ]
    }
   ],
   "source": [
    "# Посмотрим общую информацию о столбцах\n",
    "df.info()"
   ]
  },
  {
   "cell_type": "code",
   "execution_count": 4,
   "id": "fa005af3",
   "metadata": {
    "scrolled": true
   },
   "outputs": [
    {
     "data": {
      "image/png": "[encoded data removed]",
      "text/plain": [
       "<Figure size 1152x288 with 1 Axes>"
      ]
     },
     "metadata": {
      "needs_background": "light"
     },
     "output_type": "display_data"
    },
    {
     "data": {
      "image/png": "[encoded data removed]",
      "text/plain": [
       "<Figure size 1152x288 with 1 Axes>"
      ]
     },
     "metadata": {
      "needs_background": "light"
     },
     "output_type": "display_data"
    },
    {
     "data": {
      "image/png": "[encoded data removed]",
      "text/plain": [
       "<Figure size 1152x288 with 1 Axes>"
      ]
     },
     "metadata": {
      "needs_background": "light"
     },
     "output_type": "display_data"
    },
    {
     "data": {
      "image/png": "[encoded data removed]",
      "text/plain": [
       "<Figure size 1152x288 with 1 Axes>"
      ]
     },
     "metadata": {
      "needs_background": "light"
     },
     "output_type": "display_data"
    },
    {
     "data": {
      "image/png": "[encoded data removed]",
      "text/plain": [
       "<Figure size 1152x288 with 1 Axes>"
      ]
     },
     "metadata": {
      "needs_background": "light"
     },
     "output_type": "display_data"
    },
    {
     "data": {
      "image/png": "[encoded data removed]",
      "text/plain": [
       "<Figure size 1152x288 with 1 Axes>"
      ]
     },
     "metadata": {
      "needs_background": "light"
     },
     "output_type": "display_data"
    },
    {
     "data": {
      "image/png": "[encoded data removed]",
      "text/plain": [
       "<Figure size 1152x288 with 1 Axes>"
      ]
     },
     "metadata": {
      "needs_background": "light"
     },
     "output_type": "display_data"
    },
    {
     "data": {
      "image/png": "[encoded data removed]",
      "text/plain": [
       "<Figure size 1152x288 with 1 Axes>"
      ]
     },
     "metadata": {
      "needs_background": "light"
     },
     "output_type": "display_data"
    },
    {
     "data": {
      "image/png": "[encoded data removed]",
      "text/plain": [
       "<Figure size 1152x288 with 1 Axes>"
      ]
     },
     "metadata": {
      "needs_background": "light"
     },
     "output_type": "display_data"
    },
    {
     "data": {
      "image/png": "[encoded data removed]",
      "text/plain": [
       "<Figure size 1152x288 with 1 Axes>"
      ]
     },
     "metadata": {
      "needs_background": "light"
     },
     "output_type": "display_data"
    },
    {
     "data": {
      "image/png": "[encoded data removed]",
      "text/plain": [
       "<Figure size 1152x288 with 1 Axes>"
      ]
     },
     "metadata": {
      "needs_background": "light"
     },
     "output_type": "display_data"
    },
    {
     "data": {
      "image/png": "[encoded data removed]",
      "text/plain": [
       "<Figure size 1152x288 with 1 Axes>"
      ]
     },
     "metadata": {
      "needs_background": "light"
     },
     "output_type": "display_data"
    }
   ],
   "source": [
    "# Построиим гистограммы для каждого столбца\n",
    "for col in df.columns:\n",
    "    fig, ax = plt.subplots(figsize=(16, 4))  \n",
    "    plt.title(col)\n",
    "    if (df[col].dtypes == 'float') | (df[col].dtypes == 'int'):\n",
    "        df[col].hist(ax=ax)        \n",
    "    else:\n",
    "        sns.countplot(df[col], ax=ax)"
   ]
  },
  {
   "cell_type": "code",
   "execution_count": 5,
   "id": "c95b0d1f",
   "metadata": {},
   "outputs": [
    {
     "name": "stdout",
     "output_type": "stream",
     "text": [
      "Уникальные значения столбца children:\n",
      "[ 1  0  3  2 -1  4 20  5]\n",
      "Количество вхождений каждого значения столбца children\n",
      " 0     14149\n",
      " 1      4818\n",
      " 2      2055\n",
      " 3       330\n",
      " 20       76\n",
      "-1        47\n",
      " 4        41\n",
      " 5         9\n",
      "Name: children, dtype: int64\n",
      "===================================================================================================================\n",
      "Уникальные значения столбца days_employed:\n",
      "[-8437.67302776 -4024.80375385 -5623.42261023 ... -2113.3468877\n",
      " -3112.4817052  -1984.50758853]\n",
      "Количество вхождений каждого значения столбца days_employed\n",
      "-986.93      1\n",
      "-7,026.36    1\n",
      "-4,236.27    1\n",
      "-6,620.40    1\n",
      "-1,238.56    1\n",
      "            ..\n",
      "-2,849.35    1\n",
      "-5,619.33    1\n",
      "-448.83      1\n",
      "-1,687.04    1\n",
      "-582.54      1\n",
      "Name: days_employed, Length: 19351, dtype: int64\n",
      "===================================================================================================================\n",
      "Уникальные значения столбца dob_years:\n",
      "[42 36 33 32 53 27 43 50 35 41 40 65 54 56 26 48 24 21 57 67 28 63 62 47\n",
      " 34 68 25 31 30 20 49 37 45 61 64 44 52 46 23 38 39 51  0 59 29 60 55 58\n",
      " 71 22 73 66 69 19 72 70 74 75]\n",
      "Количество вхождений каждого значения столбца dob_years\n",
      "35    617\n",
      "40    609\n",
      "41    607\n",
      "34    603\n",
      "38    598\n",
      "42    597\n",
      "33    581\n",
      "39    573\n",
      "31    560\n",
      "36    555\n",
      "44    547\n",
      "29    545\n",
      "30    540\n",
      "48    538\n",
      "37    537\n",
      "50    514\n",
      "43    513\n",
      "32    510\n",
      "49    508\n",
      "28    503\n",
      "45    497\n",
      "27    493\n",
      "56    487\n",
      "52    484\n",
      "47    480\n",
      "54    479\n",
      "46    475\n",
      "58    461\n",
      "57    460\n",
      "53    459\n",
      "51    448\n",
      "59    444\n",
      "55    443\n",
      "26    408\n",
      "60    377\n",
      "25    357\n",
      "61    355\n",
      "62    352\n",
      "63    269\n",
      "64    265\n",
      "24    264\n",
      "23    254\n",
      "65    194\n",
      "66    183\n",
      "22    183\n",
      "67    167\n",
      "21    111\n",
      "0     101\n",
      "68     99\n",
      "69     85\n",
      "70     65\n",
      "71     58\n",
      "20     51\n",
      "72     33\n",
      "19     14\n",
      "73      8\n",
      "74      6\n",
      "75      1\n",
      "Name: dob_years, dtype: int64\n",
      "===================================================================================================================\n",
      "Уникальные значения столбца education:\n",
      "['высшее' 'среднее' 'Среднее' 'СРЕДНЕЕ' 'ВЫСШЕЕ' 'неоконченное высшее'\n",
      " 'начальное' 'Высшее' 'НЕОКОНЧЕННОЕ ВЫСШЕЕ' 'Неоконченное высшее'\n",
      " 'НАЧАЛЬНОЕ' 'Начальное' 'Ученая степень' 'УЧЕНАЯ СТЕПЕНЬ'\n",
      " 'ученая степень']\n",
      "Количество вхождений каждого значения столбца education\n",
      "среднее                13750\n",
      "высшее                  4718\n",
      "СРЕДНЕЕ                  772\n",
      "Среднее                  711\n",
      "неоконченное высшее      668\n",
      "ВЫСШЕЕ                   274\n",
      "Высшее                   268\n",
      "начальное                250\n",
      "Неоконченное высшее       47\n",
      "НЕОКОНЧЕННОЕ ВЫСШЕЕ       29\n",
      "НАЧАЛЬНОЕ                 17\n",
      "Начальное                 15\n",
      "ученая степень             4\n",
      "Ученая степень             1\n",
      "УЧЕНАЯ СТЕПЕНЬ             1\n",
      "Name: education, dtype: int64\n",
      "===================================================================================================================\n",
      "Уникальные значения столбца education_id:\n",
      "[0 1 2 3 4]\n",
      "Количество вхождений каждого значения столбца education_id\n",
      "1    15233\n",
      "0     5260\n",
      "2      744\n",
      "3      282\n",
      "4        6\n",
      "Name: education_id, dtype: int64\n",
      "===================================================================================================================\n",
      "Уникальные значения столбца family_status:\n",
      "['женат / замужем' 'гражданский брак' 'вдовец / вдова' 'в разводе'\n",
      " 'Не женат / не замужем']\n",
      "Количество вхождений каждого значения столбца family_status\n",
      "женат / замужем          12380\n",
      "гражданский брак          4177\n",
      "Не женат / не замужем     2813\n",
      "в разводе                 1195\n",
      "вдовец / вдова             960\n",
      "Name: family_status, dtype: int64\n",
      "===================================================================================================================\n",
      "Уникальные значения столбца family_status_id:\n",
      "[0 1 2 3 4]\n",
      "Количество вхождений каждого значения столбца family_status_id\n",
      "0    12380\n",
      "1     4177\n",
      "4     2813\n",
      "3     1195\n",
      "2      960\n",
      "Name: family_status_id, dtype: int64\n",
      "===================================================================================================================\n",
      "Уникальные значения столбца gender:\n",
      "['F' 'M' 'XNA']\n",
      "Количество вхождений каждого значения столбца gender\n",
      "F      14236\n",
      "M       7288\n",
      "XNA        1\n",
      "Name: gender, dtype: int64\n",
      "===================================================================================================================\n",
      "Уникальные значения столбца income_type:\n",
      "['сотрудник' 'пенсионер' 'компаньон' 'госслужащий' 'безработный'\n",
      " 'предприниматель' 'студент' 'в декрете']\n",
      "Количество вхождений каждого значения столбца income_type\n",
      "сотрудник          11119\n",
      "компаньон           5085\n",
      "пенсионер           3856\n",
      "госслужащий         1459\n",
      "предприниматель        2\n",
      "безработный            2\n",
      "в декрете              1\n",
      "студент                1\n",
      "Name: income_type, dtype: int64\n",
      "===================================================================================================================\n",
      "Уникальные значения столбца debt:\n",
      "[0 1]\n",
      "Количество вхождений каждого значения столбца debt\n",
      "0    19784\n",
      "1     1741\n",
      "Name: debt, dtype: int64\n",
      "===================================================================================================================\n",
      "Уникальные значения столбца total_income:\n",
      "[253875.6394526  112080.01410244 145885.95229686 ...  89672.56115303\n",
      " 244093.05050043  82047.41889948]\n",
      "Количество вхождений каждого значения столбца total_income\n",
      "112,874.42    1\n",
      "133,912.27    1\n",
      "182,036.68    1\n",
      "122,421.96    1\n",
      "198,271.84    1\n",
      "             ..\n",
      "133,299.19    1\n",
      "115,080.78    1\n",
      "84,896.78     1\n",
      "153,838.84    1\n",
      "150,014.13    1\n",
      "Name: total_income, Length: 19351, dtype: int64\n",
      "===================================================================================================================\n",
      "Уникальные значения столбца purpose:\n",
      "['покупка жилья' 'приобретение автомобиля' 'дополнительное образование'\n",
      " 'сыграть свадьбу' 'операции с жильем' 'образование'\n",
      " 'на проведение свадьбы' 'покупка жилья для семьи' 'покупка недвижимости'\n",
      " 'покупка коммерческой недвижимости' 'покупка жилой недвижимости'\n",
      " 'строительство собственной недвижимости' 'недвижимость'\n",
      " 'строительство недвижимости' 'на покупку подержанного автомобиля'\n",
      " 'на покупку своего автомобиля' 'операции с коммерческой недвижимостью'\n",
      " 'строительство жилой недвижимости' 'жилье'\n",
      " 'операции со своей недвижимостью' 'автомобили' 'заняться образованием'\n",
      " 'сделка с подержанным автомобилем' 'получение образования' 'автомобиль'\n",
      " 'свадьба' 'получение дополнительного образования' 'покупка своего жилья'\n",
      " 'операции с недвижимостью' 'получение высшего образования'\n",
      " 'свой автомобиль' 'сделка с автомобилем' 'профильное образование'\n",
      " 'высшее образование' 'покупка жилья для сдачи' 'на покупку автомобиля'\n",
      " 'ремонт жилью' 'заняться высшим образованием']\n",
      "Количество вхождений каждого значения столбца purpose\n",
      "свадьба                                   797\n",
      "на проведение свадьбы                     777\n",
      "сыграть свадьбу                           774\n",
      "операции с недвижимостью                  676\n",
      "покупка коммерческой недвижимости         664\n",
      "операции с жильем                         653\n",
      "покупка жилья для сдачи                   653\n",
      "операции с коммерческой недвижимостью     651\n",
      "жилье                                     647\n",
      "покупка жилья                             647\n",
      "покупка жилья для семьи                   641\n",
      "строительство собственной недвижимости    635\n",
      "недвижимость                              634\n",
      "операции со своей недвижимостью           630\n",
      "строительство жилой недвижимости          626\n",
      "покупка недвижимости                      624\n",
      "покупка своего жилья                      620\n",
      "строительство недвижимости                620\n",
      "ремонт жилью                              612\n",
      "покупка жилой недвижимости                607\n",
      "на покупку своего автомобиля              505\n",
      "заняться высшим образованием              496\n",
      "автомобиль                                495\n",
      "сделка с подержанным автомобилем          489\n",
      "свой автомобиль                           480\n",
      "на покупку подержанного автомобиля        479\n",
      "автомобили                                478\n",
      "на покупку автомобиля                     472\n",
      "дополнительное образование                462\n",
      "приобретение автомобиля                   462\n",
      "сделка с автомобилем                      455\n",
      "высшее образование                        453\n",
      "образование                               447\n",
      "получение дополнительного образования     447\n",
      "получение образования                     443\n",
      "профильное образование                    436\n",
      "получение высшего образования             426\n",
      "заняться образованием                     412\n",
      "Name: purpose, dtype: int64\n",
      "===================================================================================================================\n"
     ]
    }
   ],
   "source": [
    "    # Проанализируем уникальные значения каждого столбца\n",
    "    for col in df.columns:\n",
    "        print(f'Уникальные значения столбца {col}:')\n",
    "        print(df[col].unique())\n",
    "        print(f'Количество вхождений каждого значения столбца {col}')\n",
    "        print(df[col].value_counts())\n",
    "        print('===================================================================================================================')"
   ]
  },
  {
   "cell_type": "markdown",
   "id": "d564303b",
   "metadata": {},
   "source": [
    "**Краткий итог предпросмотра данных**:\n",
    "\n",
    "Столбец *children*: Существуют значения 20 и -1, которые, скорее всего возникли в результате ошибки при вводе данных, можно предположить, что число 20 в действительности соответсвует 2,а -1 соотвествует 1.\n",
    "\n",
    "Столбец *days_employed*: Отрицательные значения. Причина - ошибка ввода данных на ПК. Помимо этого, стоит отметить наличие некоторых выбросов в диапазоне значений 300000 - 400000. Если перевести эти значения в годы, то получится стаж свыше 800 лет, что также не может отражать реальность и требует обработки. Причина - случайные нажатия.  \n",
    "\n",
    "Столбец *dob_years*: Возраст 0 не отражает действительности. Однако число 0 встречается 101 раз в таблице, что может являться не ошибкой ввода данных, а пропуском из-за нежелания писать свой возраст.\n",
    "\n",
    "Столбец *education*: Множество дубликатов из-за различных регистров написания.\n",
    "\n",
    "Столбец *education_id*: Аномалий не замечено.\n",
    "\n",
    "Столбец *family_status*: Привести написание к нижнему регистру.\n",
    "\n",
    "Столбец *family_status_id*: Аномалий не замечено.\n",
    "\n",
    "Столбец *gender*: Один раз попадается значение *xna*. Либо данный человек не относите себя ни к одному из двух гендеров, либо ошибка, возникшая при переносе и копировании данных.\n",
    "\n",
    "Столбец *income_type*: Аномалий не замечено.\n",
    "\n",
    "Столбец *debt*: Аномалий не замечено.\n",
    "\n",
    "Столбец *total_income*: Неравномерно распределены значения, есть небольшие выбросы со значениями больше 1М. Имеет смысл ввести новый столбец с подразделением людей по уровню дохода. В первом приближении можно выделить следующие диапазоны ЗП: 1) <=500К; 2) >500K & <=1M; 3) >1M.\n",
    "\n",
    "Столбец *purpose*: Много различных по написанию, но схожих по смыслу значений.."
   ]
  },
  {
   "cell_type": "markdown",
   "id": "5ec24bf8",
   "metadata": {},
   "source": [
    "## Шаг 2. Предобработка данных\n",
    "1. определите и заполните пропущенные значения: \n",
    "\n",
    "    - опишите, какие пропущенные значения вы обнаружили; \n",
    "    \n",
    "    - приведите возможные причины появления пропусков в данных; \n",
    "    \n",
    "    - объясните, по какому принципу заполнены пропуски;"
   ]
  },
  {
   "cell_type": "markdown",
   "id": "8e652272",
   "metadata": {},
   "source": [
    "Сначала разберемся с некорректными значениями."
   ]
  },
  {
   "cell_type": "markdown",
   "id": "89ac5a48",
   "metadata": {},
   "source": [
    "**Столбец *children***"
   ]
  },
  {
   "cell_type": "code",
   "execution_count": 6,
   "id": "113dd890",
   "metadata": {},
   "outputs": [
    {
     "data": {
      "text/plain": [
       "array([1, 0, 3, 2, 4, 5])"
      ]
     },
     "execution_count": 6,
     "metadata": {},
     "output_type": "execute_result"
    }
   ],
   "source": [
    "#Заменим неправильные значения на правильные\n",
    "df.loc[df['children'] == 20, 'children'] = 2\n",
    "df.loc[df['children'] == -1, 'children'] = 1\n",
    "#Проверим значения\n",
    "df['children'].unique()"
   ]
  },
  {
   "cell_type": "markdown",
   "id": "aee6e3ff",
   "metadata": {},
   "source": [
    "**Столбец *days_employed***"
   ]
  },
  {
   "cell_type": "code",
   "execution_count": 7,
   "id": "ee09527a",
   "metadata": {},
   "outputs": [
    {
     "data": {
      "text/plain": [
       "count    19,351.00\n",
       "mean     66,914.73\n",
       "std     139,030.88\n",
       "min          24.14\n",
       "25%         927.01\n",
       "50%       2,194.22\n",
       "75%       5,537.88\n",
       "max     401,755.40\n",
       "Name: days_employed, dtype: float64"
      ]
     },
     "execution_count": 7,
     "metadata": {},
     "output_type": "execute_result"
    }
   ],
   "source": [
    "# Домножим отрицательные значения на -1\n",
    "df.loc[df['days_employed'] < 0, 'days_employed'] = -1 * df['days_employed']\n",
    "# Проверим на наличе отрицательных чисел\n",
    "df['days_employed'].describe()"
   ]
  },
  {
   "cell_type": "markdown",
   "id": "dc5e8b51",
   "metadata": {},
   "source": [
    "Стаж свыше 300000 дней соответсвует 800 и более годам работы, скорее всего случайно нажали 2 лишние цифры, чтобы получить реальные цифры можно без отстака поделить некорректные значения на 100"
   ]
  },
  {
   "cell_type": "code",
   "execution_count": 8,
   "id": "988f3f03",
   "metadata": {},
   "outputs": [
    {
     "data": {
      "text/plain": [
       "<matplotlib.axes._subplots.AxesSubplot at 0x7fa443433810>"
      ]
     },
     "execution_count": 8,
     "metadata": {},
     "output_type": "execute_result"
    },
    {
     "data": {
      "image/png": "[encoded data removed]",
      "text/plain": [
       "<Figure size 432x288 with 1 Axes>"
      ]
     },
     "metadata": {
      "needs_background": "light"
     },
     "output_type": "display_data"
    }
   ],
   "source": [
    "# Заменим значения больше 300000 на результат целочисленного деления на 100\n",
    "df.loc[df['days_employed'] > 300000, 'days_employed'] = df['days_employed'] // 100\n",
    "# Проверим значения\n",
    "df['days_employed'].hist()"
   ]
  },
  {
   "cell_type": "code",
   "execution_count": 9,
   "id": "9a3b178c",
   "metadata": {},
   "outputs": [
    {
     "data": {
      "text/plain": [
       "count   19,351.00\n",
       "mean     2,583.83\n",
       "std      2,148.99\n",
       "min         24.14\n",
       "25%        927.01\n",
       "50%      2,194.22\n",
       "75%      3,658.22\n",
       "max     18,388.95\n",
       "Name: days_employed, dtype: float64"
      ]
     },
     "execution_count": 9,
     "metadata": {},
     "output_type": "execute_result"
    }
   ],
   "source": [
    "# Проверим значения\n",
    "df['days_employed'].describe()"
   ]
  },
  {
   "cell_type": "markdown",
   "id": "8d9f096d",
   "metadata": {},
   "source": [
    "**Столбец *dob_years***"
   ]
  },
  {
   "cell_type": "code",
   "execution_count": 11,
   "id": "b9dbc9c7",
   "metadata": {},
   "outputs": [
    {
     "name": "stdout",
     "output_type": "stream",
     "text": [
      "Доля некорректных значений 0.47%\n"
     ]
    }
   ],
   "source": [
    "# Подсчитаем долю значений равных 0\n",
    "print('Доля некорректных значений {:.2%}'.format(df[df['dob_years'] == 0]['dob_years'].count() / df.shape[0]))"
   ]
  },
  {
   "cell_type": "markdown",
   "id": "59096681",
   "metadata": {},
   "source": [
    "Доля меньше 0,5%, поэтому можно удалить такие значения, чтобы не создавать ложные данные и прогнозы"
   ]
  },
  {
   "cell_type": "code",
   "execution_count": 12,
   "id": "92433fbb",
   "metadata": {},
   "outputs": [],
   "source": [
    "# Удалим все строки с нулевым значением\n",
    "df.drop(df[df['dob_years'] == 0].index, inplace=True)\n",
    "df.reset_index(drop=True, inplace=True)"
   ]
  },
  {
   "cell_type": "code",
   "execution_count": 13,
   "id": "ce763370",
   "metadata": {},
   "outputs": [
    {
     "data": {
      "text/plain": [
       "array([42, 36, 33, 32, 53, 27, 43, 50, 35, 41, 40, 65, 54, 56, 26, 48, 24,\n",
       "       21, 57, 67, 28, 63, 62, 47, 34, 68, 25, 31, 30, 20, 49, 37, 45, 61,\n",
       "       64, 44, 52, 46, 23, 38, 39, 51, 59, 29, 60, 55, 58, 71, 22, 73, 66,\n",
       "       69, 19, 72, 70, 74, 75])"
      ]
     },
     "execution_count": 13,
     "metadata": {},
     "output_type": "execute_result"
    }
   ],
   "source": [
    "# Проверка\n",
    "df['dob_years'].unique()"
   ]
  },
  {
   "cell_type": "markdown",
   "id": "9e1d867d",
   "metadata": {},
   "source": [
    "**Столбец *gender***"
   ]
  },
  {
   "cell_type": "code",
   "execution_count": 14,
   "id": "19b3ee3b",
   "metadata": {
    "scrolled": true
   },
   "outputs": [
    {
     "data": {
      "text/plain": [
       "F      14164\n",
       "M       7259\n",
       "XNA        1\n",
       "Name: gender, dtype: int64"
      ]
     },
     "execution_count": 14,
     "metadata": {},
     "output_type": "execute_result"
    }
   ],
   "source": [
    "df['gender'].value_counts()"
   ]
  },
  {
   "cell_type": "markdown",
   "id": "d1f3eb75",
   "metadata": {},
   "source": [
    "Так как только одно некорректное значени в столбце, то его можно удалить."
   ]
  },
  {
   "cell_type": "code",
   "execution_count": 15,
   "id": "67dd3cff",
   "metadata": {},
   "outputs": [
    {
     "data": {
      "text/plain": [
       "F    14164\n",
       "M     7259\n",
       "Name: gender, dtype: int64"
      ]
     },
     "execution_count": 15,
     "metadata": {},
     "output_type": "execute_result"
    }
   ],
   "source": [
    "# Удалим строку с неправильным значением\n",
    "df.drop(df[df.gender == 'XNA'].index, inplace=True)\n",
    "df.reset_index(drop=True, inplace=True)\n",
    "# Проверим значения\n",
    "df['gender'].value_counts()"
   ]
  },
  {
   "cell_type": "markdown",
   "id": "05a34fa4",
   "metadata": {},
   "source": [
    "**Обработка пропусков**"
   ]
  },
  {
   "cell_type": "code",
   "execution_count": 16,
   "id": "8bda6d29",
   "metadata": {},
   "outputs": [
    {
     "name": "stdout",
     "output_type": "stream",
     "text": [
      "children               0\n",
      "days_employed       2164\n",
      "dob_years              0\n",
      "education              0\n",
      "education_id           0\n",
      "family_status          0\n",
      "family_status_id       0\n",
      "gender                 0\n",
      "income_type            0\n",
      "debt                   0\n",
      "total_income        2164\n",
      "purpose                0\n",
      "dtype: int64\n"
     ]
    }
   ],
   "source": [
    "# Подсчитаем количество пропусков\n",
    "print(df.isnull().sum())"
   ]
  },
  {
   "cell_type": "code",
   "execution_count": 17,
   "id": "a0c1737a",
   "metadata": {},
   "outputs": [
    {
     "name": "stdout",
     "output_type": "stream",
     "text": [
      "children           0.00\n",
      "days_employed      0.10\n",
      "dob_years          0.00\n",
      "education          0.00\n",
      "education_id       0.00\n",
      "family_status      0.00\n",
      "family_status_id   0.00\n",
      "gender             0.00\n",
      "income_type        0.00\n",
      "debt               0.00\n",
      "total_income       0.10\n",
      "purpose            0.00\n",
      "dtype: float64\n"
     ]
    }
   ],
   "source": [
    "# Подсчитаем долю пропусков\n",
    "print(df.isnull().mean())"
   ]
  },
  {
   "cell_type": "markdown",
   "id": "41b300f8",
   "metadata": {},
   "source": [
    "Пропуски в столбцах *days_employed* и *total_income* составляют 10%. В случае с первым столбцом пропуски могут быть вызваны тем, что люди или не помнят точную дату начала работы (или уволнения), или не хотят указывать на то, что они безработные. В случае со столбцом про доход пропуски могут быть вызваны тем, что клиенты или не имеют дохода постоянного, или считают, что данная информация личная. "
   ]
  },
  {
   "cell_type": "code",
   "execution_count": 18,
   "id": "a8a10c33",
   "metadata": {},
   "outputs": [
    {
     "data": {
      "text/plain": [
       "<matplotlib.axes._subplots.AxesSubplot at 0x7fa44335e210>"
      ]
     },
     "execution_count": 18,
     "metadata": {},
     "output_type": "execute_result"
    },
    {
     "data": {
      "image/png": "[encoded data removed]",
      "text/plain": [
       "<Figure size 1152x576 with 1 Axes>"
      ]
     },
     "metadata": {
      "needs_background": "light"
     },
     "output_type": "display_data"
    }
   ],
   "source": [
    "# Посмотрим на гистограммы обрабоатываемых величин\n",
    "plt.figure(figsize=(16,8))\n",
    "df['days_employed'].hist()"
   ]
  },
  {
   "cell_type": "markdown",
   "id": "624eeaa7",
   "metadata": {},
   "source": [
    "Для заполнения пропусков в столбце *days_employed* только среднее не подходит, так как данные не равномерны и большинство значений находятся до 5000. Логично, что трудовой стаж должен коррелировать с возрастом. Можно выделить три возрастные группы: 1) до 25; 2) от 25 до 60 и 3) от 60 и заполнить пропуски средним в зависимости от возраста."
   ]
  },
  {
   "cell_type": "code",
   "execution_count": 19,
   "id": "926ed92c",
   "metadata": {},
   "outputs": [
    {
     "name": "stdout",
     "output_type": "stream",
     "text": [
      "Средний стаж для тех, кто старше 25: 925 дней\n",
      "Средний стаж для тех, кто старше 25, но младше 60: 2567 дней\n",
      "Средний стаж для тех, кто старше 60: 3698 дней\n"
     ]
    }
   ],
   "source": [
    "# Заполним пропуски для тех, кто младше 25\n",
    "mean = df.loc[df['dob_years'] <= 25, 'days_employed'].mean()\n",
    "df.loc[df['dob_years'] <= 25, 'days_employed'] = df.loc[df['dob_years'] <= 25, 'days_employed'].fillna(mean)\n",
    "print(f'Средний стаж для тех, кто старше 25: {mean:.0f} дней')\n",
    "\n",
    "# Заполним пропуски для тех, кто старше 25, но младше 60\n",
    "mean = df.loc[(df['dob_years'] > 25) & (df['dob_years'] <= 60), 'days_employed'].mean()\n",
    "df.loc[(df['dob_years'] > 25) & (df['dob_years'] <= 60), 'days_employed'] = df.loc[(df['dob_years'] > 25) & (df['dob_years'] <= 60), 'days_employed'].fillna(mean)\n",
    "print(f'Средний стаж для тех, кто старше 25, но младше 60: {mean:.0f} дней')\n",
    "\n",
    "# Заполним пропуски для тех, кто старше 60\n",
    "mean = df.loc[df['dob_years'] > 60, 'days_employed'].mean()\n",
    "df.loc[df['dob_years'] > 60, 'days_employed'] = df.loc[df['dob_years'] > 60, 'days_employed'].fillna(mean)\n",
    "print(f'Средний стаж для тех, кто старше 60: {mean:.0f} дней')"
   ]
  },
  {
   "cell_type": "markdown",
   "id": "31eadd77",
   "metadata": {},
   "source": [
    "Посмотрим на значения столбца *total_income*"
   ]
  },
  {
   "cell_type": "code",
   "execution_count": 20,
   "id": "24c8e562",
   "metadata": {},
   "outputs": [
    {
     "data": {
      "text/plain": [
       "<matplotlib.axes._subplots.AxesSubplot at 0x7fa4433ae0d0>"
      ]
     },
     "execution_count": 20,
     "metadata": {},
     "output_type": "execute_result"
    },
    {
     "data": {
      "image/png": "[encoded data removed]",
      "text/plain": [
       "<Figure size 1152x576 with 1 Axes>"
      ]
     },
     "metadata": {
      "needs_background": "light"
     },
     "output_type": "display_data"
    }
   ],
   "source": [
    "# Построим гистограмму\n",
    "plt.figure(figsize=(16,8))\n",
    "df['total_income'].hist()"
   ]
  },
  {
   "cell_type": "code",
   "execution_count": 21,
   "id": "f6aa96c7",
   "metadata": {},
   "outputs": [
    {
     "data": {
      "text/plain": [
       "<matplotlib.axes._subplots.AxesSubplot at 0x7fa4432b2d50>"
      ]
     },
     "execution_count": 21,
     "metadata": {},
     "output_type": "execute_result"
    },
    {
     "data": {
      "image/png": "[encoded data removed]",
      "text/plain": [
       "<Figure size 1152x576 with 1 Axes>"
      ]
     },
     "metadata": {
      "needs_background": "light"
     },
     "output_type": "display_data"
    }
   ],
   "source": [
    "# Посмотрим зависимость уровня дохода от должности\n",
    "plt.figure(figsize=(16,8))\n",
    "sns.boxplot(x='income_type', y='total_income', data=df)"
   ]
  },
  {
   "cell_type": "markdown",
   "id": "64a02e6b",
   "metadata": {},
   "source": [
    "По графикам видно, что моды значений дохода для разных должностей похожи. Однако, должности \"компаньон\" и \"сотрудник\" имеют наиболее значимые выбросы. Имеет смысл заполянть пропуски медианой в зависимости от должности."
   ]
  },
  {
   "cell_type": "code",
   "execution_count": 22,
   "id": "f014718a",
   "metadata": {},
   "outputs": [],
   "source": [
    "# Рассчитаем для каждой должности медиану и заполним пропуски\n",
    "for position in df['income_type'].unique():\n",
    "    med = df.loc[df['income_type'] == position, 'total_income'].median()\n",
    "    df.loc[df['income_type'] == position, 'total_income'] = df.loc[df['income_type'] == position, 'total_income'].fillna(med)"
   ]
  },
  {
   "cell_type": "code",
   "execution_count": 23,
   "id": "5e6043b8",
   "metadata": {
    "scrolled": true
   },
   "outputs": [
    {
     "name": "stdout",
     "output_type": "stream",
     "text": [
      "children            0\n",
      "days_employed       0\n",
      "dob_years           0\n",
      "education           0\n",
      "education_id        0\n",
      "family_status       0\n",
      "family_status_id    0\n",
      "gender              0\n",
      "income_type         0\n",
      "debt                0\n",
      "total_income        0\n",
      "purpose             0\n",
      "dtype: int64\n"
     ]
    }
   ],
   "source": [
    "# Подсчитаем количество пропусков\n",
    "print(df.isnull().sum())"
   ]
  },
  {
   "cell_type": "markdown",
   "id": "1db0f1e1",
   "metadata": {},
   "source": [
    "2. замените вещественный тип данных на целочисленный:\n",
    "\n",
    "    - поясните, как выбирали метод для изменения типа данных;"
   ]
  },
  {
   "cell_type": "markdown",
   "id": "b38f2a6e",
   "metadata": {},
   "source": [
    "Сначала выделил все стольбцы с нужным типом данных. Затем с помощью метода astype() измених их тип и перезаписал старые слотбцы, чтобы сохранить результат."
   ]
  },
  {
   "cell_type": "code",
   "execution_count": 24,
   "id": "3a8d7eff",
   "metadata": {},
   "outputs": [
    {
     "name": "stdout",
     "output_type": "stream",
     "text": [
      "<class 'pandas.core.frame.DataFrame'>\n",
      "RangeIndex: 21423 entries, 0 to 21422\n",
      "Data columns (total 12 columns):\n",
      "children            21423 non-null int64\n",
      "days_employed       21423 non-null int64\n",
      "dob_years           21423 non-null int64\n",
      "education           21423 non-null object\n",
      "education_id        21423 non-null int64\n",
      "family_status       21423 non-null object\n",
      "family_status_id    21423 non-null int64\n",
      "gender              21423 non-null object\n",
      "income_type         21423 non-null object\n",
      "debt                21423 non-null int64\n",
      "total_income        21423 non-null int64\n",
      "purpose             21423 non-null object\n",
      "dtypes: int64(7), object(5)\n",
      "memory usage: 2.0+ MB\n"
     ]
    }
   ],
   "source": [
    "df.loc[:,df.dtypes == 'float64'] = df.loc[:,df.dtypes == 'float64'].astype(int)\n",
    "df.info()"
   ]
  },
  {
   "cell_type": "markdown",
   "id": "76c4c510",
   "metadata": {},
   "source": [
    "3. удалите дубликаты:\n",
    "    - поясните, как выбирали метод для поиска и удаления дубликатов в данных;\n",
    "    - приведите возможные причины появления дубликатов;"
   ]
  },
  {
   "cell_type": "code",
   "execution_count": 25,
   "id": "c800b2e0",
   "metadata": {},
   "outputs": [
    {
     "name": "stdout",
     "output_type": "stream",
     "text": [
      "['высшее' 'среднее' 'неоконченное высшее' 'начальное' 'ученая степень']\n",
      "['женат / замужем' 'гражданский брак' 'вдовец / вдова' 'в разводе'\n",
      " 'не женат / не замужем']\n",
      "['f' 'm']\n",
      "['сотрудник' 'пенсионер' 'компаньон' 'госслужащий' 'безработный'\n",
      " 'предприниматель' 'студент' 'в декрете']\n",
      "['покупка жилья' 'приобретение автомобиля' 'дополнительное образование'\n",
      " 'сыграть свадьбу' 'операции с жильем' 'образование'\n",
      " 'на проведение свадьбы' 'покупка жилья для семьи' 'покупка недвижимости'\n",
      " 'покупка коммерческой недвижимости' 'покупка жилой недвижимости'\n",
      " 'строительство собственной недвижимости' 'недвижимость'\n",
      " 'строительство недвижимости' 'на покупку подержанного автомобиля'\n",
      " 'на покупку своего автомобиля' 'операции с коммерческой недвижимостью'\n",
      " 'строительство жилой недвижимости' 'жилье'\n",
      " 'операции со своей недвижимостью' 'автомобили' 'заняться образованием'\n",
      " 'сделка с подержанным автомобилем' 'получение образования' 'автомобиль'\n",
      " 'свадьба' 'получение дополнительного образования' 'покупка своего жилья'\n",
      " 'операции с недвижимостью' 'получение высшего образования'\n",
      " 'свой автомобиль' 'сделка с автомобилем' 'профильное образование'\n",
      " 'высшее образование' 'покупка жилья для сдачи' 'на покупку автомобиля'\n",
      " 'ремонт жилью' 'заняться высшим образованием']\n"
     ]
    }
   ],
   "source": [
    "# Приведем все категориальные признаки к одному виду (нижний регистр)\n",
    "for col in df.columns:\n",
    "    if df[col].dtypes == 'O':\n",
    "        df[col] = df[col].str.lower()\n",
    "        # Проверим на грамматические ошибки\n",
    "        print(df[col].unique())"
   ]
  },
  {
   "cell_type": "markdown",
   "id": "e5c22953",
   "metadata": {},
   "source": [
    "Поиск дубликатов выполнил с помощью метода duplicated(), а удаление с помощью метода drop_duplicates(). Дубликаты могли появится из-за ошибки повторного ввода данных в систему."
   ]
  },
  {
   "cell_type": "code",
   "execution_count": 26,
   "id": "0d858ccc",
   "metadata": {},
   "outputs": [
    {
     "name": "stdout",
     "output_type": "stream",
     "text": [
      "71\n"
     ]
    }
   ],
   "source": [
    "# Подсчитаем количество простых дубликатов\n",
    "print(df.duplicated().sum())"
   ]
  },
  {
   "cell_type": "code",
   "execution_count": 27,
   "id": "073c795c",
   "metadata": {},
   "outputs": [
    {
     "name": "stdout",
     "output_type": "stream",
     "text": [
      "0\n"
     ]
    }
   ],
   "source": [
    "# Удалим все дубликаты\n",
    "df = df.drop_duplicates().reset_index(drop=True)\n",
    "# Проверим, что все сработало\n",
    "print(df.duplicated().sum())"
   ]
  },
  {
   "cell_type": "markdown",
   "id": "ebd0a9af",
   "metadata": {},
   "source": [
    "4. выделите леммы в значениях столбца с целями получения кредита:\n",
    "    - опишите, как вы проводили лемматизацию целей кредита;"
   ]
  },
  {
   "cell_type": "code",
   "execution_count": 28,
   "id": "080c8894",
   "metadata": {},
   "outputs": [
    {
     "name": "stdout",
     "output_type": "stream",
     "text": [
      "покупка жилья,приобретение автомобиля,дополнительное образование,сыграть свадьбу,операции с жильем,образование,на проведение свадьбы,покупка жилья для семьи,покупка недвижимости,покупка коммерческой недвижимости,покупка жилой недвижимости,строительство собственной недвижимости,недвижимость,строительство недвижимости,на покупку подержанного автомобиля,на покупку своего автомобиля,операции с коммерческой недвижимостью,строительство жилой недвижимости,жилье,операции со своей недвижимостью,автомобили,заняться образованием,сделка с подержанным автомобилем,получение образования,автомобиль,свадьба,получение дополнительного образования,покупка своего жилья,операции с недвижимостью,получение высшего образования,свой автомобиль,сделка с автомобилем,профильное образование,высшее образование,покупка жилья для сдачи,на покупку автомобиля,ремонт жилью,заняться высшим образованием\n",
      "=============================================================================================\n",
      "['покупка', ' ', 'жилье', ',', 'приобретение', ' ', 'автомобиль', ',', 'дополнительный', ' ', 'образование', ',', 'сыграть', ' ', 'свадьба', ',', 'операция', ' ', 'с', ' ', 'жилье', ',', 'образование', ',', 'на', ' ', 'проведение', ' ', 'свадьба', ',', 'покупка', ' ', 'жилье', ' ', 'для', ' ', 'семья', ',', 'покупка', ' ', 'недвижимость', ',', 'покупка', ' ', 'коммерческий', ' ', 'недвижимость', ',', 'покупка', ' ', 'жилой', ' ', 'недвижимость', ',', 'строительство', ' ', 'собственный', ' ', 'недвижимость', ',', 'недвижимость', ',', 'строительство', ' ', 'недвижимость', ',', 'на', ' ', 'покупка', ' ', 'подержать', ' ', 'автомобиль', ',', 'на', ' ', 'покупка', ' ', 'свой', ' ', 'автомобиль', ',', 'операция', ' ', 'с', ' ', 'коммерческий', ' ', 'недвижимость', ',', 'строительство', ' ', 'жилой', ' ', 'недвижимость', ',', 'жилье', ',', 'операция', ' ', 'со', ' ', 'свой', ' ', 'недвижимость', ',', 'автомобиль', ',', 'заниматься', ' ', 'образование', ',', 'сделка', ' ', 'с', ' ', 'подержать', ' ', 'автомобиль', ',', 'получение', ' ', 'образование', ',', 'автомобиль', ',', 'свадьба', ',', 'получение', ' ', 'дополнительный', ' ', 'образование', ',', 'покупка', ' ', 'свой', ' ', 'жилье', ',', 'операция', ' ', 'с', ' ', 'недвижимость', ',', 'получение', ' ', 'высокий', ' ', 'образование', ',', 'свой', ' ', 'автомобиль', ',', 'сделка', ' ', 'с', ' ', 'автомобиль', ',', 'профильный', ' ', 'образование', ',', 'высокий', ' ', 'образование', ',', 'покупка', ' ', 'жилье', ' ', 'для', ' ', 'сдача', ',', 'на', ' ', 'покупка', ' ', 'автомобиль', ',', 'ремонт', ' ', 'жилье', ',', 'заниматься', ' ', 'высокий', ' ', 'образование', '\\n']\n"
     ]
    }
   ],
   "source": [
    "#Конвертируем список уникальных значений столбца purpose в строку, разделив цели запятой, \n",
    "# и проведем лемматизацию\n",
    "m = Mystem()\n",
    "purposes = ','.join(df['purpose'].unique())\n",
    "print(purposes)\n",
    "print('=============================================================================================')\n",
    "lemmas = m.lemmatize(purposes)\n",
    "print(lemmas)"
   ]
  },
  {
   "cell_type": "code",
   "execution_count": 29,
   "id": "03a072b0",
   "metadata": {},
   "outputs": [
    {
     "name": "stdout",
     "output_type": "stream",
     "text": [
      "Counter({' ': 59, ',': 37, 'покупка': 10, 'недвижимость': 10, 'автомобиль': 9, 'образование': 9, 'жилье': 7, 'с': 5, 'операция': 4, 'на': 4, 'свой': 4, 'свадьба': 3, 'строительство': 3, 'получение': 3, 'высокий': 3, 'дополнительный': 2, 'для': 2, 'коммерческий': 2, 'жилой': 2, 'подержать': 2, 'заниматься': 2, 'сделка': 2, 'приобретение': 1, 'сыграть': 1, 'проведение': 1, 'семья': 1, 'собственный': 1, 'со': 1, 'профильный': 1, 'сдача': 1, 'ремонт': 1, '\\n': 1})\n"
     ]
    }
   ],
   "source": [
    "#Подсчитаем количество вхождений каждого слова в список с леммами\n",
    "print(Counter(lemmas))"
   ]
  },
  {
   "cell_type": "markdown",
   "id": "05684ac9",
   "metadata": {},
   "source": [
    "Порядок лемматизации следующий: сначала я собрал все уникальные значения столбца *purpose* и конвертировал список значений в строку, разделив элементы запятой; затем я использовал метод *lemmatize()* из класса *Mystem* и получил спесок лемм для каждого слова; в конце подсчитал количество вхождений каждого слова, используя контейнер *Counter*. \n",
    "\n",
    "По результатам анализа можно выявить четыре группы: 1) связанные с операциями с недвижимостью или жильем; 2) с операциями с автомобилем; 3) с получением образование; 4) с организацией свадьбы."
   ]
  },
  {
   "cell_type": "markdown",
   "id": "509cead3",
   "metadata": {},
   "source": [
    "Реализуем функцию, которая будет заменять цели их леммами"
   ]
  },
  {
   "cell_type": "code",
   "execution_count": 30,
   "id": "eda0d48c",
   "metadata": {},
   "outputs": [
    {
     "data": {
      "text/html": [
       "<div>\n",
       "<style scoped>\n",
       "    .dataframe tbody tr th:only-of-type {\n",
       "        vertical-align: middle;\n",
       "    }\n",
       "\n",
       "    .dataframe tbody tr th {\n",
       "        vertical-align: top;\n",
       "    }\n",
       "\n",
       "    .dataframe thead th {\n",
       "        text-align: right;\n",
       "    }\n",
       "</style>\n",
       "<table border=\"1\" class=\"dataframe\">\n",
       "  <thead>\n",
       "    <tr style=\"text-align: right;\">\n",
       "      <th></th>\n",
       "      <th>children</th>\n",
       "      <th>days_employed</th>\n",
       "      <th>dob_years</th>\n",
       "      <th>education</th>\n",
       "      <th>education_id</th>\n",
       "      <th>family_status</th>\n",
       "      <th>family_status_id</th>\n",
       "      <th>gender</th>\n",
       "      <th>income_type</th>\n",
       "      <th>debt</th>\n",
       "      <th>total_income</th>\n",
       "      <th>purpose</th>\n",
       "    </tr>\n",
       "  </thead>\n",
       "  <tbody>\n",
       "    <tr>\n",
       "      <td>0</td>\n",
       "      <td>1</td>\n",
       "      <td>8437</td>\n",
       "      <td>42</td>\n",
       "      <td>высшее</td>\n",
       "      <td>0</td>\n",
       "      <td>женат / замужем</td>\n",
       "      <td>0</td>\n",
       "      <td>f</td>\n",
       "      <td>сотрудник</td>\n",
       "      <td>0</td>\n",
       "      <td>253875</td>\n",
       "      <td>недвижимость</td>\n",
       "    </tr>\n",
       "    <tr>\n",
       "      <td>1</td>\n",
       "      <td>1</td>\n",
       "      <td>4024</td>\n",
       "      <td>36</td>\n",
       "      <td>среднее</td>\n",
       "      <td>1</td>\n",
       "      <td>женат / замужем</td>\n",
       "      <td>0</td>\n",
       "      <td>f</td>\n",
       "      <td>сотрудник</td>\n",
       "      <td>0</td>\n",
       "      <td>112080</td>\n",
       "      <td>автомобиль</td>\n",
       "    </tr>\n",
       "    <tr>\n",
       "      <td>2</td>\n",
       "      <td>0</td>\n",
       "      <td>5623</td>\n",
       "      <td>33</td>\n",
       "      <td>среднее</td>\n",
       "      <td>1</td>\n",
       "      <td>женат / замужем</td>\n",
       "      <td>0</td>\n",
       "      <td>m</td>\n",
       "      <td>сотрудник</td>\n",
       "      <td>0</td>\n",
       "      <td>145885</td>\n",
       "      <td>недвижимость</td>\n",
       "    </tr>\n",
       "    <tr>\n",
       "      <td>3</td>\n",
       "      <td>3</td>\n",
       "      <td>4124</td>\n",
       "      <td>32</td>\n",
       "      <td>среднее</td>\n",
       "      <td>1</td>\n",
       "      <td>женат / замужем</td>\n",
       "      <td>0</td>\n",
       "      <td>m</td>\n",
       "      <td>сотрудник</td>\n",
       "      <td>0</td>\n",
       "      <td>267628</td>\n",
       "      <td>образование</td>\n",
       "    </tr>\n",
       "    <tr>\n",
       "      <td>4</td>\n",
       "      <td>0</td>\n",
       "      <td>3402</td>\n",
       "      <td>53</td>\n",
       "      <td>среднее</td>\n",
       "      <td>1</td>\n",
       "      <td>гражданский брак</td>\n",
       "      <td>1</td>\n",
       "      <td>f</td>\n",
       "      <td>пенсионер</td>\n",
       "      <td>0</td>\n",
       "      <td>158616</td>\n",
       "      <td>свадьба</td>\n",
       "    </tr>\n",
       "    <tr>\n",
       "      <td>5</td>\n",
       "      <td>0</td>\n",
       "      <td>926</td>\n",
       "      <td>27</td>\n",
       "      <td>высшее</td>\n",
       "      <td>0</td>\n",
       "      <td>гражданский брак</td>\n",
       "      <td>1</td>\n",
       "      <td>m</td>\n",
       "      <td>компаньон</td>\n",
       "      <td>0</td>\n",
       "      <td>255763</td>\n",
       "      <td>недвижимость</td>\n",
       "    </tr>\n",
       "    <tr>\n",
       "      <td>6</td>\n",
       "      <td>0</td>\n",
       "      <td>2879</td>\n",
       "      <td>43</td>\n",
       "      <td>высшее</td>\n",
       "      <td>0</td>\n",
       "      <td>женат / замужем</td>\n",
       "      <td>0</td>\n",
       "      <td>f</td>\n",
       "      <td>компаньон</td>\n",
       "      <td>0</td>\n",
       "      <td>240525</td>\n",
       "      <td>недвижимость</td>\n",
       "    </tr>\n",
       "    <tr>\n",
       "      <td>7</td>\n",
       "      <td>0</td>\n",
       "      <td>152</td>\n",
       "      <td>50</td>\n",
       "      <td>среднее</td>\n",
       "      <td>1</td>\n",
       "      <td>женат / замужем</td>\n",
       "      <td>0</td>\n",
       "      <td>m</td>\n",
       "      <td>сотрудник</td>\n",
       "      <td>0</td>\n",
       "      <td>135823</td>\n",
       "      <td>образование</td>\n",
       "    </tr>\n",
       "    <tr>\n",
       "      <td>8</td>\n",
       "      <td>2</td>\n",
       "      <td>6929</td>\n",
       "      <td>35</td>\n",
       "      <td>высшее</td>\n",
       "      <td>0</td>\n",
       "      <td>гражданский брак</td>\n",
       "      <td>1</td>\n",
       "      <td>f</td>\n",
       "      <td>сотрудник</td>\n",
       "      <td>0</td>\n",
       "      <td>95856</td>\n",
       "      <td>свадьба</td>\n",
       "    </tr>\n",
       "    <tr>\n",
       "      <td>9</td>\n",
       "      <td>0</td>\n",
       "      <td>2188</td>\n",
       "      <td>41</td>\n",
       "      <td>среднее</td>\n",
       "      <td>1</td>\n",
       "      <td>женат / замужем</td>\n",
       "      <td>0</td>\n",
       "      <td>m</td>\n",
       "      <td>сотрудник</td>\n",
       "      <td>0</td>\n",
       "      <td>144425</td>\n",
       "      <td>недвижимость</td>\n",
       "    </tr>\n",
       "  </tbody>\n",
       "</table>\n",
       "</div>"
      ],
      "text/plain": [
       "   children  days_employed  dob_years education  education_id  \\\n",
       "0         1           8437         42    высшее             0   \n",
       "1         1           4024         36   среднее             1   \n",
       "2         0           5623         33   среднее             1   \n",
       "3         3           4124         32   среднее             1   \n",
       "4         0           3402         53   среднее             1   \n",
       "5         0            926         27    высшее             0   \n",
       "6         0           2879         43    высшее             0   \n",
       "7         0            152         50   среднее             1   \n",
       "8         2           6929         35    высшее             0   \n",
       "9         0           2188         41   среднее             1   \n",
       "\n",
       "      family_status  family_status_id gender income_type  debt  total_income  \\\n",
       "0   женат / замужем                 0      f   сотрудник     0        253875   \n",
       "1   женат / замужем                 0      f   сотрудник     0        112080   \n",
       "2   женат / замужем                 0      m   сотрудник     0        145885   \n",
       "3   женат / замужем                 0      m   сотрудник     0        267628   \n",
       "4  гражданский брак                 1      f   пенсионер     0        158616   \n",
       "5  гражданский брак                 1      m   компаньон     0        255763   \n",
       "6   женат / замужем                 0      f   компаньон     0        240525   \n",
       "7   женат / замужем                 0      m   сотрудник     0        135823   \n",
       "8  гражданский брак                 1      f   сотрудник     0         95856   \n",
       "9   женат / замужем                 0      m   сотрудник     0        144425   \n",
       "\n",
       "        purpose  \n",
       "0  недвижимость  \n",
       "1    автомобиль  \n",
       "2  недвижимость  \n",
       "3   образование  \n",
       "4       свадьба  \n",
       "5  недвижимость  \n",
       "6  недвижимость  \n",
       "7   образование  \n",
       "8       свадьба  \n",
       "9  недвижимость  "
      ]
     },
     "execution_count": 30,
     "metadata": {},
     "output_type": "execute_result"
    }
   ],
   "source": [
    "#Заменим цели для кредита на полученные леммы\n",
    "#Напишем функцию, которая на вход принимает столбец *purpose*, а на выходе возвращает одну из четырех групп\n",
    "def get_purpose(purpose):\n",
    "    lemmas = m.lemmatize(purpose)\n",
    "    if ('недвижимость' in lemmas) or ('жилье' in lemmas):\n",
    "        return 'недвижимость'\n",
    "    elif 'автомобиль' in lemmas:\n",
    "        return 'автомобиль'\n",
    "    elif 'свадьба' in lemmas:\n",
    "        return 'свадьба'\n",
    "    else:\n",
    "        return 'образование'\n",
    "    \n",
    "    \n",
    "#Применим написанную функцию и заменим цели полученными леммами\n",
    "df['purpose'] = df['purpose'].apply(get_purpose)\n",
    "df.head(10)"
   ]
  },
  {
   "cell_type": "code",
   "execution_count": 31,
   "id": "25b86598",
   "metadata": {},
   "outputs": [
    {
     "data": {
      "text/plain": [
       "array(['недвижимость', 'автомобиль', 'образование', 'свадьба'],\n",
       "      dtype=object)"
      ]
     },
     "execution_count": 31,
     "metadata": {},
     "output_type": "execute_result"
    }
   ],
   "source": [
    "# Проверим уникальные значения столюца purpose\n",
    "df['purpose'].unique()"
   ]
  },
  {
   "cell_type": "markdown",
   "id": "b98fcb5f",
   "metadata": {},
   "source": [
    "5. категоризируйте данные:\n",
    "    - перечислите, какие «словари» вы выделили для этого набора данных, и объясните, почему."
   ]
  },
  {
   "cell_type": "code",
   "execution_count": 33,
   "id": "a06253f6",
   "metadata": {},
   "outputs": [
    {
     "data": {
      "text/html": [
       "<div>\n",
       "<style scoped>\n",
       "    .dataframe tbody tr th:only-of-type {\n",
       "        vertical-align: middle;\n",
       "    }\n",
       "\n",
       "    .dataframe tbody tr th {\n",
       "        vertical-align: top;\n",
       "    }\n",
       "\n",
       "    .dataframe thead th {\n",
       "        text-align: right;\n",
       "    }\n",
       "</style>\n",
       "<table border=\"1\" class=\"dataframe\">\n",
       "  <thead>\n",
       "    <tr style=\"text-align: right;\">\n",
       "      <th></th>\n",
       "      <th>children</th>\n",
       "      <th>days_employed</th>\n",
       "      <th>dob_years</th>\n",
       "      <th>education</th>\n",
       "      <th>education_id</th>\n",
       "      <th>family_status</th>\n",
       "      <th>family_status_id</th>\n",
       "      <th>gender</th>\n",
       "      <th>income_type</th>\n",
       "      <th>debt</th>\n",
       "      <th>total_income</th>\n",
       "      <th>purpose</th>\n",
       "    </tr>\n",
       "  </thead>\n",
       "  <tbody>\n",
       "    <tr>\n",
       "      <td>0</td>\n",
       "      <td>1</td>\n",
       "      <td>8437</td>\n",
       "      <td>42</td>\n",
       "      <td>высшее</td>\n",
       "      <td>0</td>\n",
       "      <td>женат / замужем</td>\n",
       "      <td>0</td>\n",
       "      <td>f</td>\n",
       "      <td>сотрудник</td>\n",
       "      <td>0</td>\n",
       "      <td>253875</td>\n",
       "      <td>недвижимость</td>\n",
       "    </tr>\n",
       "    <tr>\n",
       "      <td>1</td>\n",
       "      <td>1</td>\n",
       "      <td>4024</td>\n",
       "      <td>36</td>\n",
       "      <td>среднее</td>\n",
       "      <td>1</td>\n",
       "      <td>женат / замужем</td>\n",
       "      <td>0</td>\n",
       "      <td>f</td>\n",
       "      <td>сотрудник</td>\n",
       "      <td>0</td>\n",
       "      <td>112080</td>\n",
       "      <td>автомобиль</td>\n",
       "    </tr>\n",
       "    <tr>\n",
       "      <td>2</td>\n",
       "      <td>0</td>\n",
       "      <td>5623</td>\n",
       "      <td>33</td>\n",
       "      <td>среднее</td>\n",
       "      <td>1</td>\n",
       "      <td>женат / замужем</td>\n",
       "      <td>0</td>\n",
       "      <td>m</td>\n",
       "      <td>сотрудник</td>\n",
       "      <td>0</td>\n",
       "      <td>145885</td>\n",
       "      <td>недвижимость</td>\n",
       "    </tr>\n",
       "    <tr>\n",
       "      <td>3</td>\n",
       "      <td>3</td>\n",
       "      <td>4124</td>\n",
       "      <td>32</td>\n",
       "      <td>среднее</td>\n",
       "      <td>1</td>\n",
       "      <td>женат / замужем</td>\n",
       "      <td>0</td>\n",
       "      <td>m</td>\n",
       "      <td>сотрудник</td>\n",
       "      <td>0</td>\n",
       "      <td>267628</td>\n",
       "      <td>образование</td>\n",
       "    </tr>\n",
       "    <tr>\n",
       "      <td>4</td>\n",
       "      <td>0</td>\n",
       "      <td>3402</td>\n",
       "      <td>53</td>\n",
       "      <td>среднее</td>\n",
       "      <td>1</td>\n",
       "      <td>гражданский брак</td>\n",
       "      <td>1</td>\n",
       "      <td>f</td>\n",
       "      <td>пенсионер</td>\n",
       "      <td>0</td>\n",
       "      <td>158616</td>\n",
       "      <td>свадьба</td>\n",
       "    </tr>\n",
       "  </tbody>\n",
       "</table>\n",
       "</div>"
      ],
      "text/plain": [
       "   children  days_employed  dob_years education  education_id  \\\n",
       "0         1           8437         42    высшее             0   \n",
       "1         1           4024         36   среднее             1   \n",
       "2         0           5623         33   среднее             1   \n",
       "3         3           4124         32   среднее             1   \n",
       "4         0           3402         53   среднее             1   \n",
       "\n",
       "      family_status  family_status_id gender income_type  debt  total_income  \\\n",
       "0   женат / замужем                 0      f   сотрудник     0        253875   \n",
       "1   женат / замужем                 0      f   сотрудник     0        112080   \n",
       "2   женат / замужем                 0      m   сотрудник     0        145885   \n",
       "3   женат / замужем                 0      m   сотрудник     0        267628   \n",
       "4  гражданский брак                 1      f   пенсионер     0        158616   \n",
       "\n",
       "        purpose  \n",
       "0  недвижимость  \n",
       "1    автомобиль  \n",
       "2  недвижимость  \n",
       "3   образование  \n",
       "4       свадьба  "
      ]
     },
     "execution_count": 33,
     "metadata": {},
     "output_type": "execute_result"
    }
   ],
   "source": [
    "df.head()"
   ]
  },
  {
   "cell_type": "markdown",
   "id": "4e58822a",
   "metadata": {},
   "source": [
    "Можно выделить следующие словари ['family_status', 'family_status_id'] и ['education', 'education_id'], помимо этого, чтобы уменьшить размер таблицы можно составить словарь для столбцов *income_type* и *purpose*, заменив буквенные обозначения дискретынми численными. Дополнительно можно заменить численные значения в столбцах *dob_years* и *total_income* на возрастные и доходные группы для упрощения анализа результатов."
   ]
  },
  {
   "cell_type": "markdown",
   "id": "ff7d45c6",
   "metadata": {},
   "source": [
    "Заменим непрерывные значения в столбцах *dob_years* и *total_income* на возрастные и доходные группы для упрощения анализа результатов."
   ]
  },
  {
   "cell_type": "code",
   "execution_count": 34,
   "id": "fafecaa3",
   "metadata": {},
   "outputs": [],
   "source": [
    "# Напишем функцию, которая в соотвествии возрасту возвращет группу\n",
    "def get_age_group(age):\n",
    "    if age <= 25:\n",
    "        return 'молодой'\n",
    "    if age > 60:\n",
    "        return 'пенсионер'\n",
    "    return 'взрослый'\n",
    "\n",
    "# Применим функции и создадим новый столбец\n",
    "df['age_group'] = df['dob_years'].apply(get_age_group)"
   ]
  },
  {
   "cell_type": "code",
   "execution_count": 35,
   "id": "52dc7de2",
   "metadata": {},
   "outputs": [],
   "source": [
    "# Напишем функцию, которая в соотвествии заработку возвращет группу\n",
    "def get_age_group(income):\n",
    "    if income <= 500000:\n",
    "        return '<=500K'\n",
    "    if income > 1000000:\n",
    "        return '>1M'\n",
    "    return '>500K & <=1M'\n",
    "\n",
    "# Применим функции и создадим новый столбец\n",
    "df['income_group'] = df['total_income'].apply(get_age_group)"
   ]
  },
  {
   "cell_type": "code",
   "execution_count": 36,
   "id": "9863d52e",
   "metadata": {},
   "outputs": [
    {
     "data": {
      "text/html": [
       "<div>\n",
       "<style scoped>\n",
       "    .dataframe tbody tr th:only-of-type {\n",
       "        vertical-align: middle;\n",
       "    }\n",
       "\n",
       "    .dataframe tbody tr th {\n",
       "        vertical-align: top;\n",
       "    }\n",
       "\n",
       "    .dataframe thead th {\n",
       "        text-align: right;\n",
       "    }\n",
       "</style>\n",
       "<table border=\"1\" class=\"dataframe\">\n",
       "  <thead>\n",
       "    <tr style=\"text-align: right;\">\n",
       "      <th></th>\n",
       "      <th>children</th>\n",
       "      <th>days_employed</th>\n",
       "      <th>dob_years</th>\n",
       "      <th>education</th>\n",
       "      <th>education_id</th>\n",
       "      <th>family_status</th>\n",
       "      <th>family_status_id</th>\n",
       "      <th>gender</th>\n",
       "      <th>income_type</th>\n",
       "      <th>debt</th>\n",
       "      <th>total_income</th>\n",
       "      <th>purpose</th>\n",
       "      <th>age_group</th>\n",
       "      <th>income_group</th>\n",
       "    </tr>\n",
       "  </thead>\n",
       "  <tbody>\n",
       "    <tr>\n",
       "      <td>0</td>\n",
       "      <td>1</td>\n",
       "      <td>8437</td>\n",
       "      <td>42</td>\n",
       "      <td>высшее</td>\n",
       "      <td>0</td>\n",
       "      <td>женат / замужем</td>\n",
       "      <td>0</td>\n",
       "      <td>f</td>\n",
       "      <td>сотрудник</td>\n",
       "      <td>0</td>\n",
       "      <td>253875</td>\n",
       "      <td>недвижимость</td>\n",
       "      <td>взрослый</td>\n",
       "      <td>&lt;=500K</td>\n",
       "    </tr>\n",
       "    <tr>\n",
       "      <td>1</td>\n",
       "      <td>1</td>\n",
       "      <td>4024</td>\n",
       "      <td>36</td>\n",
       "      <td>среднее</td>\n",
       "      <td>1</td>\n",
       "      <td>женат / замужем</td>\n",
       "      <td>0</td>\n",
       "      <td>f</td>\n",
       "      <td>сотрудник</td>\n",
       "      <td>0</td>\n",
       "      <td>112080</td>\n",
       "      <td>автомобиль</td>\n",
       "      <td>взрослый</td>\n",
       "      <td>&lt;=500K</td>\n",
       "    </tr>\n",
       "    <tr>\n",
       "      <td>2</td>\n",
       "      <td>0</td>\n",
       "      <td>5623</td>\n",
       "      <td>33</td>\n",
       "      <td>среднее</td>\n",
       "      <td>1</td>\n",
       "      <td>женат / замужем</td>\n",
       "      <td>0</td>\n",
       "      <td>m</td>\n",
       "      <td>сотрудник</td>\n",
       "      <td>0</td>\n",
       "      <td>145885</td>\n",
       "      <td>недвижимость</td>\n",
       "      <td>взрослый</td>\n",
       "      <td>&lt;=500K</td>\n",
       "    </tr>\n",
       "    <tr>\n",
       "      <td>3</td>\n",
       "      <td>3</td>\n",
       "      <td>4124</td>\n",
       "      <td>32</td>\n",
       "      <td>среднее</td>\n",
       "      <td>1</td>\n",
       "      <td>женат / замужем</td>\n",
       "      <td>0</td>\n",
       "      <td>m</td>\n",
       "      <td>сотрудник</td>\n",
       "      <td>0</td>\n",
       "      <td>267628</td>\n",
       "      <td>образование</td>\n",
       "      <td>взрослый</td>\n",
       "      <td>&lt;=500K</td>\n",
       "    </tr>\n",
       "    <tr>\n",
       "      <td>4</td>\n",
       "      <td>0</td>\n",
       "      <td>3402</td>\n",
       "      <td>53</td>\n",
       "      <td>среднее</td>\n",
       "      <td>1</td>\n",
       "      <td>гражданский брак</td>\n",
       "      <td>1</td>\n",
       "      <td>f</td>\n",
       "      <td>пенсионер</td>\n",
       "      <td>0</td>\n",
       "      <td>158616</td>\n",
       "      <td>свадьба</td>\n",
       "      <td>взрослый</td>\n",
       "      <td>&lt;=500K</td>\n",
       "    </tr>\n",
       "  </tbody>\n",
       "</table>\n",
       "</div>"
      ],
      "text/plain": [
       "   children  days_employed  dob_years education  education_id  \\\n",
       "0         1           8437         42    высшее             0   \n",
       "1         1           4024         36   среднее             1   \n",
       "2         0           5623         33   среднее             1   \n",
       "3         3           4124         32   среднее             1   \n",
       "4         0           3402         53   среднее             1   \n",
       "\n",
       "      family_status  family_status_id gender income_type  debt  total_income  \\\n",
       "0   женат / замужем                 0      f   сотрудник     0        253875   \n",
       "1   женат / замужем                 0      f   сотрудник     0        112080   \n",
       "2   женат / замужем                 0      m   сотрудник     0        145885   \n",
       "3   женат / замужем                 0      m   сотрудник     0        267628   \n",
       "4  гражданский брак                 1      f   пенсионер     0        158616   \n",
       "\n",
       "        purpose age_group income_group  \n",
       "0  недвижимость  взрослый       <=500K  \n",
       "1    автомобиль  взрослый       <=500K  \n",
       "2  недвижимость  взрослый       <=500K  \n",
       "3   образование  взрослый       <=500K  \n",
       "4       свадьба  взрослый       <=500K  "
      ]
     },
     "execution_count": 36,
     "metadata": {},
     "output_type": "execute_result"
    }
   ],
   "source": [
    "df.head()"
   ]
  },
  {
   "cell_type": "markdown",
   "id": "6a5ed562",
   "metadata": {},
   "source": [
    "## Шаг 3. Ответьте на вопросы"
   ]
  },
  {
   "cell_type": "markdown",
   "id": "c9e6a8cf",
   "metadata": {},
   "source": [
    "**Есть ли зависимость между наличием детей и возвратом кредита в срок?**"
   ]
  },
  {
   "cell_type": "code",
   "execution_count": 37,
   "id": "916be64a",
   "metadata": {},
   "outputs": [
    {
     "name": "stdout",
     "output_type": "stream",
     "text": [
      "Доля людей без детей без задолжности по кредиту: 92.45%\n",
      "Доля людей с детьми без задолжности по кредиту: 90.79%\n"
     ]
    }
   ],
   "source": [
    "#Подсчитаем долю людей с детьми и без задолжностей \n",
    "people_without_children = df[(df['children'] == 0) & (df['debt'] == 0)].debt.count() \\\n",
    "/ df[df['children'] == 0].debt.count()\n",
    "print(f'Доля людей без детей без задолжности по кредиту: {people_without_children:.2%}')\n",
    "#Подсчитаем долю людей без детей и без задолжностей\n",
    "people_with_children = df[(df['children'] != 0) & (df['debt'] == 0)].debt.count() \\\n",
    "/ df[df['children'] != 0].debt.count()\n",
    "print(f'Доля людей с детьми без задолжности по кредиту: {people_with_children:.2%}')"
   ]
  },
  {
   "cell_type": "markdown",
   "id": "c7447e35",
   "metadata": {},
   "source": [
    "Оценим как количество детей влияет на возврат кредитов"
   ]
  },
  {
   "cell_type": "code",
   "execution_count": 38,
   "id": "2dea1338",
   "metadata": {},
   "outputs": [
    {
     "name": "stdout",
     "output_type": "stream",
     "text": [
      "Доля людей с 0 детьми и без задолжности равна 92.45%\n",
      "\n",
      "Доля людей с 1 детьми и без задолжности равна 90.87%\n",
      "\n",
      "Доля людей с 2 детьми и без задолжности равна 90.44%\n",
      "\n",
      "Доля людей с 3 детьми и без задолжности равна 91.77%\n",
      "\n",
      "Доля людей с 4 детьми и без задолжности равна 90.24%\n",
      "\n",
      "Доля людей с 5 детьми и без задолжности равна 100.00%\n",
      "\n"
     ]
    }
   ],
   "source": [
    "# Создадим список значений семейных положений\n",
    "numbers = sorted(df['children'].unique())\n",
    "# Для каждого варианта посчитаем долю людей без задолжности \n",
    "for number in numbers:\n",
    "    ratio = df[(df['children'] == number) & (df['debt'] == 0)].debt.count() \\\n",
    "    / df[df['children'] == number].debt.count()\n",
    "    print(f'Доля людей с {number} детьми и без задолжности равна {ratio:.2%}')\n",
    "    print()"
   ]
  },
  {
   "cell_type": "markdown",
   "id": "ec686fc8",
   "metadata": {},
   "source": [
    "<div class=\"alert alert-warning\">\n",
    "<b>Комментарий ревьюера V2:</b>\n",
    "    \n",
    "- Хорошоо, только у тебя значения очень близки друг другу, попробуй сделать выделение хотябы до 2 знаков после запятой.\n",
    "</div>"
   ]
  },
  {
   "cell_type": "markdown",
   "id": "a2fc39a2",
   "metadata": {},
   "source": [
    "**Вывод: наличие детей не влияет на возникновение задолжностей**"
   ]
  },
  {
   "cell_type": "markdown",
   "id": "49ec8f38",
   "metadata": {},
   "source": [
    "**Есть ли зависимость между семейным положением и возвратом кредита в срок?**"
   ]
  },
  {
   "cell_type": "code",
   "execution_count": 39,
   "id": "abfe2945",
   "metadata": {},
   "outputs": [
    {
     "name": "stdout",
     "output_type": "stream",
     "text": [
      "Доля людей со статусом \"женат / замужем\" и без задолжности равна 92.46%\n",
      "\n",
      "Доля людей со статусом \"гражданский брак\" и без задолжности равна 90.65%\n",
      "\n",
      "Доля людей со статусом \"вдовец / вдова\" и без задолжности равна 93.50%\n",
      "\n",
      "Доля людей со статусом \"в разводе\" и без задолжности равна 92.83%\n",
      "\n",
      "Доля людей со статусом \"не женат / не замужем\" и без задолжности равна 90.23%\n",
      "\n"
     ]
    }
   ],
   "source": [
    "# Создадим список значений семейных положений\n",
    "family_status = df['family_status'].unique()\n",
    "# Для каждого варианта посчитаем долю людей без задолжности \n",
    "for status in family_status:\n",
    "    ratio = df[(df['family_status'] == status) & (df['debt'] == 0)].debt.count() \\\n",
    "    / df[df['family_status'] == status].debt.count()\n",
    "    print(f'Доля людей со статусом \"{status}\" и без задолжности равна {ratio:.2%}')\n",
    "    print()"
   ]
  },
  {
   "cell_type": "markdown",
   "id": "2a36c4bf",
   "metadata": {},
   "source": [
    "**Вывод: В целом значения близки. Однако, реже всех возвращают кредит те, кто никода не был в браке. Зтем идут люди, которые состоят в обычном или гражданском браке, прирост в возвращаемости кредитов может быть вызван финансовой помощью со стороны супруга/супруги и обчщим бюджетом. Наиболее надежны люди в разводе и вдовы/вдовцы. Их высокая платежеспособность вероятнее всего вызвана наличием аллиментов или наследства от почившего супруга.**"
   ]
  },
  {
   "cell_type": "markdown",
   "id": "5f7cb2e6",
   "metadata": {},
   "source": [
    "**Есть ли зависимость между уровнем дохода и возвратом кредита в срок?**"
   ]
  },
  {
   "cell_type": "code",
   "execution_count": 40,
   "id": "3f9b161b",
   "metadata": {},
   "outputs": [
    {
     "name": "stdout",
     "output_type": "stream",
     "text": [
      "Доля людей с ЗП <=500K и без задолжности по кредиту: 91.86%\n",
      "Доля людей с ЗП >500K & <=1M и без задолжности по кредиту: 93.91%\n",
      "Доля людей с ЗП >1M и без задолжности по кредиту: 92.00%\n"
     ]
    }
   ],
   "source": [
    "# Рассмотрим процент возврата кредита без задолженностей для каждой группы доходности\n",
    "for group in df['income_group'].unique():\n",
    "    ratio = df[(df['income_group'] == group) & (df['debt'] == 0)].debt.count() / df[df['income_group'] == group].debt.count()\n",
    "    print(f'Доля людей с ЗП {group} и без задолжности по кредиту: {ratio:.2%}')"
   ]
  },
  {
   "cell_type": "markdown",
   "id": "6bfde271",
   "metadata": {},
   "source": [
    "**Вывод: Самые надежные клиенты - люди с уровенем дохода между 500К и 1М. Может быть, такие люди правильно расчитывают свои возможности и берут кредит на то, что им под силу**"
   ]
  },
  {
   "cell_type": "markdown",
   "id": "1cdae709",
   "metadata": {},
   "source": [
    "**Как разные цели кредита влияют на его возврат в срок?**"
   ]
  },
  {
   "cell_type": "code",
   "execution_count": 41,
   "id": "660b9fa8",
   "metadata": {},
   "outputs": [
    {
     "name": "stdout",
     "output_type": "stream",
     "text": [
      "Доля людей с целью \"недвижимость\" и без задолженности равна 92.76%\n",
      "\n",
      "Доля людей с целью \"автомобиль\" и без задолженности равна 90.66%\n",
      "\n",
      "Доля людей с целью \"образование\" и без задолженности равна 90.74%\n",
      "\n",
      "Доля людей с целью \"свадьба\" и без задолженности равна 92.03%\n",
      "\n"
     ]
    }
   ],
   "source": [
    "# Создадим список значений целей для кредита\n",
    "purposes = df['purpose'].unique()\n",
    "# Для каждого варианта посчитаем долю людей без задолжности \n",
    "for purpose in purposes:\n",
    "    ratio = df[(df['purpose'] == purpose) & (df['debt'] == 0)].debt.count() \\\n",
    "    / df[df['purpose'] == purpose].debt.count()\n",
    "    print(f'Доля людей с целью \"{purpose}\" и без задолженности равна {ratio:.2%}')\n",
    "    print()"
   ]
  },
  {
   "cell_type": "markdown",
   "id": "31b343cb",
   "metadata": {},
   "source": [
    "**Вывод: Меньше всего задолжностей по кредитам на недвижимость. Это может быть вызвано тем, что цены на жилье высоки и выплачивать придеться достаточно долго, поэтому люди серьезно подходят в этому вопросу и грамотно оценивают свои возможности. Низкие задолженности по свадьбам являются результатом объединения бюджетов мужа и жены, а также финансовым приливом за счет подарков на свадьбу.Что касается цели \"образование\", люди обычно идут учиться, чтобы получить более оплачиваемую работу. Поэтому задолженности вызваны тем, что люди пока не нашли лучшую работу или из-за нехватки времени у них возникли проблемы с текущей. Касательно кредитов на автомобиль, задолженности вызваны желанием купить машину по-дороже и современнее, при этом некоторые не могут рассчитать свои финансовые возможности.**"
   ]
  },
  {
   "cell_type": "markdown",
   "id": "f266e601",
   "metadata": {},
   "source": [
    "## Шаг 4 Напишите общий вывод"
   ]
  },
  {
   "cell_type": "markdown",
   "id": "46c5f6c1",
   "metadata": {},
   "source": [
    "В данном проекте были реализованы различные методы для обработки ошибоки дубликатов данных, была проведена категоризация данных и лемматизация целей взятия кредита. Перечисленные действия направлены на улучшения качества данных и упрощения анализа данных.\n",
    "\n",
    "По результату анализа из полученных данных следуют следующие утверждения:\n",
    "\n",
    "1) Наличие детей не влияет на возврат кредита;\n",
    "\n",
    "2) Лучше всех возвращают кредиты те, кто был в браке или потерял супруга. С другой стороны, одинокие люди чаще задерживают выплаты по кредиту;\n",
    "\n",
    "3) Надежнее люди с доходом от 500К до 1М;\n",
    "\n",
    "4) Те, кто берут кредиты для свадьбы или недвижимости, более платежеспособные, чем те, кто берут кредит на обучение и автомобиль"
   ]
  }
 ],
 "metadata": {
  "ExecuteTimeLog": [
   {
    "duration": 1419,
    "start_time": "2021-07-24T07:06:10.690Z"
   },
   {
    "duration": 2113,
    "start_time": "2021-07-24T07:06:12.111Z"
   },
   {
    "duration": -1964,
    "start_time": "2021-07-24T07:06:16.192Z"
   },
   {
    "duration": -1971,
    "start_time": "2021-07-24T07:06:16.200Z"
   },
   {
    "duration": -1974,
    "start_time": "2021-07-24T07:06:16.204Z"
   },
   {
    "duration": -1974,
    "start_time": "2021-07-24T07:06:16.206Z"
   },
   {
    "duration": -1985,
    "start_time": "2021-07-24T07:06:16.218Z"
   },
   {
    "duration": -1987,
    "start_time": "2021-07-24T07:06:16.221Z"
   },
   {
    "duration": -1987,
    "start_time": "2021-07-24T07:06:16.223Z"
   },
   {
    "duration": -1987,
    "start_time": "2021-07-24T07:06:16.224Z"
   },
   {
    "duration": -1988,
    "start_time": "2021-07-24T07:06:16.226Z"
   },
   {
    "duration": -1987,
    "start_time": "2021-07-24T07:06:16.227Z"
   },
   {
    "duration": -1987,
    "start_time": "2021-07-24T07:06:16.228Z"
   },
   {
    "duration": -1988,
    "start_time": "2021-07-24T07:06:16.230Z"
   },
   {
    "duration": -1989,
    "start_time": "2021-07-24T07:06:16.232Z"
   },
   {
    "duration": -1989,
    "start_time": "2021-07-24T07:06:16.234Z"
   },
   {
    "duration": -1989,
    "start_time": "2021-07-24T07:06:16.235Z"
   },
   {
    "duration": -1989,
    "start_time": "2021-07-24T07:06:16.236Z"
   },
   {
    "duration": -1989,
    "start_time": "2021-07-24T07:06:16.238Z"
   },
   {
    "duration": -2033,
    "start_time": "2021-07-24T07:06:16.283Z"
   },
   {
    "duration": -2037,
    "start_time": "2021-07-24T07:06:16.288Z"
   },
   {
    "duration": -2037,
    "start_time": "2021-07-24T07:06:16.289Z"
   },
   {
    "duration": -2037,
    "start_time": "2021-07-24T07:06:16.291Z"
   },
   {
    "duration": -2037,
    "start_time": "2021-07-24T07:06:16.292Z"
   },
   {
    "duration": -2037,
    "start_time": "2021-07-24T07:06:16.293Z"
   },
   {
    "duration": -2038,
    "start_time": "2021-07-24T07:06:16.295Z"
   },
   {
    "duration": -2037,
    "start_time": "2021-07-24T07:06:16.296Z"
   },
   {
    "duration": 326,
    "start_time": "2021-07-24T10:39:05.997Z"
   },
   {
    "duration": 1511,
    "start_time": "2021-07-24T10:39:11.155Z"
   },
   {
    "duration": 86,
    "start_time": "2021-07-24T10:39:13.821Z"
   },
   {
    "duration": 1710,
    "start_time": "2021-07-24T10:48:41.182Z"
   },
   {
    "duration": 91,
    "start_time": "2021-07-24T10:48:42.895Z"
   },
   {
    "duration": 23,
    "start_time": "2021-07-24T10:48:42.994Z"
   },
   {
    "duration": 49,
    "start_time": "2021-07-24T10:48:43.019Z"
   },
   {
    "duration": 12,
    "start_time": "2021-07-24T10:48:43.070Z"
   },
   {
    "duration": 18,
    "start_time": "2021-07-24T10:48:43.085Z"
   },
   {
    "duration": 68,
    "start_time": "2021-07-24T10:48:43.107Z"
   },
   {
    "duration": 17,
    "start_time": "2021-07-24T10:48:43.179Z"
   },
   {
    "duration": 109,
    "start_time": "2021-07-24T10:48:43.198Z"
   },
   {
    "duration": 52,
    "start_time": "2021-07-24T10:48:43.310Z"
   },
   {
    "duration": 56,
    "start_time": "2021-07-24T10:48:43.365Z"
   },
   {
    "duration": 1006,
    "start_time": "2021-07-24T10:48:43.424Z"
   },
   {
    "duration": 5,
    "start_time": "2021-07-24T10:48:44.433Z"
   },
   {
    "duration": 6,
    "start_time": "2021-07-24T10:48:44.456Z"
   },
   {
    "duration": 18,
    "start_time": "2021-07-24T10:48:44.465Z"
   },
   {
    "duration": 69,
    "start_time": "2021-07-24T10:48:44.486Z"
   },
   {
    "duration": 18,
    "start_time": "2021-07-24T10:48:44.558Z"
   },
   {
    "duration": 18,
    "start_time": "2021-07-24T10:48:44.580Z"
   },
   {
    "duration": 12,
    "start_time": "2021-07-24T10:48:44.602Z"
   },
   {
    "duration": 16,
    "start_time": "2021-07-24T10:48:44.654Z"
   },
   {
    "duration": 26,
    "start_time": "2021-07-24T10:48:44.672Z"
   },
   {
    "duration": 71,
    "start_time": "2021-07-24T10:48:44.706Z"
   },
   {
    "duration": 74,
    "start_time": "2021-07-24T10:48:44.780Z"
   },
   {
    "duration": 6,
    "start_time": "2021-07-24T10:48:44.857Z"
   },
   {
    "duration": 14,
    "start_time": "2021-07-24T10:48:44.865Z"
   },
   {
    "duration": 76,
    "start_time": "2021-07-24T10:48:44.882Z"
   },
   {
    "duration": 48,
    "start_time": "2021-07-24T10:48:44.960Z"
   },
   {
    "duration": 8,
    "start_time": "2021-07-24T10:49:21.841Z"
   },
   {
    "duration": 2051,
    "start_time": "2021-07-24T10:49:30.420Z"
   },
   {
    "duration": 120,
    "start_time": "2021-07-24T10:49:32.475Z"
   },
   {
    "duration": 24,
    "start_time": "2021-07-24T10:49:32.599Z"
   },
   {
    "duration": 49,
    "start_time": "2021-07-24T10:49:32.626Z"
   },
   {
    "duration": 34,
    "start_time": "2021-07-24T10:49:32.678Z"
   },
   {
    "duration": 42,
    "start_time": "2021-07-24T10:49:32.715Z"
   },
   {
    "duration": 10,
    "start_time": "2021-07-24T10:49:32.761Z"
   },
   {
    "duration": 24,
    "start_time": "2021-07-24T10:49:32.775Z"
   },
   {
    "duration": 128,
    "start_time": "2021-07-24T10:49:32.803Z"
   },
   {
    "duration": 53,
    "start_time": "2021-07-24T10:49:32.934Z"
   },
   {
    "duration": 102,
    "start_time": "2021-07-24T10:49:32.990Z"
   },
   {
    "duration": 1414,
    "start_time": "2021-07-24T10:49:33.095Z"
   },
   {
    "duration": 7,
    "start_time": "2021-07-24T10:49:34.512Z"
   },
   {
    "duration": 29,
    "start_time": "2021-07-24T10:49:34.526Z"
   },
   {
    "duration": 11,
    "start_time": "2021-07-24T10:49:34.558Z"
   },
   {
    "duration": 31,
    "start_time": "2021-07-24T10:49:34.572Z"
   },
   {
    "duration": 67,
    "start_time": "2021-07-24T10:49:34.606Z"
   },
   {
    "duration": 17,
    "start_time": "2021-07-24T10:49:34.676Z"
   },
   {
    "duration": 18,
    "start_time": "2021-07-24T10:49:34.695Z"
   },
   {
    "duration": 41,
    "start_time": "2021-07-24T10:49:34.716Z"
   },
   {
    "duration": 25,
    "start_time": "2021-07-24T10:49:34.760Z"
   },
   {
    "duration": 85,
    "start_time": "2021-07-24T10:49:34.790Z"
   },
   {
    "duration": 56,
    "start_time": "2021-07-24T10:49:34.878Z"
   },
   {
    "duration": 6,
    "start_time": "2021-07-24T10:49:34.955Z"
   },
   {
    "duration": 14,
    "start_time": "2021-07-24T10:49:34.964Z"
   },
   {
    "duration": 86,
    "start_time": "2021-07-24T10:49:34.981Z"
   },
   {
    "duration": 56,
    "start_time": "2021-07-24T10:49:35.070Z"
   },
   {
    "duration": 1493,
    "start_time": "2021-07-24T10:53:10.034Z"
   },
   {
    "duration": 81,
    "start_time": "2021-07-24T10:53:11.529Z"
   },
   {
    "duration": 17,
    "start_time": "2021-07-24T10:53:11.613Z"
   },
   {
    "duration": 20,
    "start_time": "2021-07-24T10:53:11.654Z"
   },
   {
    "duration": 16,
    "start_time": "2021-07-24T10:53:11.678Z"
   },
   {
    "duration": 67,
    "start_time": "2021-07-24T10:53:11.698Z"
   },
   {
    "duration": 13,
    "start_time": "2021-07-24T10:53:11.769Z"
   },
   {
    "duration": 19,
    "start_time": "2021-07-24T10:53:11.788Z"
   },
   {
    "duration": 106,
    "start_time": "2021-07-24T10:53:11.812Z"
   },
   {
    "duration": 60,
    "start_time": "2021-07-24T10:53:11.921Z"
   },
   {
    "duration": 78,
    "start_time": "2021-07-24T10:53:11.985Z"
   },
   {
    "duration": 936,
    "start_time": "2021-07-24T10:53:12.067Z"
   },
   {
    "duration": 6,
    "start_time": "2021-07-24T10:53:13.007Z"
   },
   {
    "duration": 6,
    "start_time": "2021-07-24T10:53:13.016Z"
   },
   {
    "duration": 13,
    "start_time": "2021-07-24T10:53:13.056Z"
   },
   {
    "duration": 36,
    "start_time": "2021-07-24T10:53:13.072Z"
   },
   {
    "duration": 47,
    "start_time": "2021-07-24T10:53:13.111Z"
   },
   {
    "duration": 23,
    "start_time": "2021-07-24T10:53:13.162Z"
   },
   {
    "duration": 16,
    "start_time": "2021-07-24T10:53:13.188Z"
   },
   {
    "duration": 62,
    "start_time": "2021-07-24T10:53:13.208Z"
   },
   {
    "duration": 29,
    "start_time": "2021-07-24T10:53:13.273Z"
   },
   {
    "duration": 85,
    "start_time": "2021-07-24T10:53:13.305Z"
   },
   {
    "duration": 80,
    "start_time": "2021-07-24T10:53:13.397Z"
   },
   {
    "duration": 7,
    "start_time": "2021-07-24T10:53:13.481Z"
   },
   {
    "duration": 14,
    "start_time": "2021-07-24T10:53:13.492Z"
   },
   {
    "duration": 70,
    "start_time": "2021-07-24T10:53:13.508Z"
   },
   {
    "duration": 41,
    "start_time": "2021-07-24T10:53:13.580Z"
   },
   {
    "duration": 2562,
    "start_time": "2021-07-24T11:32:11.880Z"
   },
   {
    "duration": 86,
    "start_time": "2021-07-24T11:32:14.445Z"
   },
   {
    "duration": 32,
    "start_time": "2021-07-24T11:32:14.535Z"
   },
   {
    "duration": 24,
    "start_time": "2021-07-24T11:32:14.570Z"
   },
   {
    "duration": 30,
    "start_time": "2021-07-24T11:32:14.597Z"
   },
   {
    "duration": 39,
    "start_time": "2021-07-24T11:32:14.630Z"
   },
   {
    "duration": 25,
    "start_time": "2021-07-24T11:32:14.672Z"
   },
   {
    "duration": 83,
    "start_time": "2021-07-24T11:32:14.702Z"
   },
   {
    "duration": 106,
    "start_time": "2021-07-24T11:32:14.789Z"
   },
   {
    "duration": 43,
    "start_time": "2021-07-24T11:32:14.897Z"
   },
   {
    "duration": 78,
    "start_time": "2021-07-24T11:32:14.943Z"
   },
   {
    "duration": 1021,
    "start_time": "2021-07-24T11:32:15.025Z"
   },
   {
    "duration": 4,
    "start_time": "2021-07-24T11:32:16.049Z"
   },
   {
    "duration": 21,
    "start_time": "2021-07-24T11:32:16.063Z"
   },
   {
    "duration": 18,
    "start_time": "2021-07-24T11:32:16.087Z"
   },
   {
    "duration": 40,
    "start_time": "2021-07-24T11:32:16.107Z"
   },
   {
    "duration": 19,
    "start_time": "2021-07-24T11:32:16.163Z"
   },
   {
    "duration": 27,
    "start_time": "2021-07-24T11:32:16.185Z"
   },
   {
    "duration": 17,
    "start_time": "2021-07-24T11:32:16.215Z"
   },
   {
    "duration": 48,
    "start_time": "2021-07-24T11:32:16.235Z"
   },
   {
    "duration": 37,
    "start_time": "2021-07-24T11:32:16.286Z"
   },
   {
    "duration": 80,
    "start_time": "2021-07-24T11:32:16.326Z"
   },
   {
    "duration": 102,
    "start_time": "2021-07-24T11:32:16.412Z"
   },
   {
    "duration": 7,
    "start_time": "2021-07-24T11:32:16.517Z"
   },
   {
    "duration": 37,
    "start_time": "2021-07-24T11:32:16.527Z"
   },
   {
    "duration": 37,
    "start_time": "2021-07-24T11:32:16.568Z"
   },
   {
    "duration": 83,
    "start_time": "2021-07-24T11:32:16.609Z"
   },
   {
    "duration": 558,
    "start_time": "2021-07-24T12:02:25.409Z"
   },
   {
    "duration": 1111,
    "start_time": "2021-07-24T20:11:05.139Z"
   },
   {
    "duration": 60,
    "start_time": "2021-07-24T20:11:06.252Z"
   },
   {
    "duration": 10,
    "start_time": "2021-07-24T20:11:06.314Z"
   },
   {
    "duration": 17,
    "start_time": "2021-07-24T20:11:06.326Z"
   },
   {
    "duration": 8,
    "start_time": "2021-07-24T20:11:06.344Z"
   },
   {
    "duration": 11,
    "start_time": "2021-07-24T20:11:06.353Z"
   },
   {
    "duration": 6,
    "start_time": "2021-07-24T20:11:06.366Z"
   },
   {
    "duration": 10,
    "start_time": "2021-07-24T20:11:06.374Z"
   },
   {
    "duration": 69,
    "start_time": "2021-07-24T20:11:06.385Z"
   },
   {
    "duration": 24,
    "start_time": "2021-07-24T20:11:06.455Z"
   },
   {
    "duration": 31,
    "start_time": "2021-07-24T20:11:06.481Z"
   },
   {
    "duration": 636,
    "start_time": "2021-07-24T20:11:06.513Z"
   },
   {
    "duration": 3,
    "start_time": "2021-07-24T20:11:07.151Z"
   },
   {
    "duration": 2503,
    "start_time": "2021-07-24T20:11:44.662Z"
   },
   {
    "duration": 2540,
    "start_time": "2021-07-24T20:12:03.713Z"
   },
   {
    "duration": 6,
    "start_time": "2021-07-24T20:13:25.002Z"
   },
   {
    "duration": 8,
    "start_time": "2021-07-24T20:13:34.790Z"
   },
   {
    "duration": 7,
    "start_time": "2021-07-24T20:13:42.706Z"
   },
   {
    "duration": 4,
    "start_time": "2021-07-24T20:13:48.526Z"
   },
   {
    "duration": 2667,
    "start_time": "2021-07-24T20:16:44.698Z"
   },
   {
    "duration": 5,
    "start_time": "2021-07-24T20:17:03.584Z"
   },
   {
    "duration": 3,
    "start_time": "2021-07-24T20:18:38.391Z"
   },
   {
    "duration": 59,
    "start_time": "2021-07-24T20:18:38.396Z"
   },
   {
    "duration": 10,
    "start_time": "2021-07-24T20:18:38.457Z"
   },
   {
    "duration": 11,
    "start_time": "2021-07-24T20:18:38.469Z"
   },
   {
    "duration": 8,
    "start_time": "2021-07-24T20:18:38.481Z"
   },
   {
    "duration": 10,
    "start_time": "2021-07-24T20:18:38.490Z"
   },
   {
    "duration": 6,
    "start_time": "2021-07-24T20:18:38.502Z"
   },
   {
    "duration": 40,
    "start_time": "2021-07-24T20:18:38.510Z"
   },
   {
    "duration": 43,
    "start_time": "2021-07-24T20:18:38.551Z"
   },
   {
    "duration": 23,
    "start_time": "2021-07-24T20:18:38.596Z"
   },
   {
    "duration": 32,
    "start_time": "2021-07-24T20:18:38.640Z"
   },
   {
    "duration": 649,
    "start_time": "2021-07-24T20:18:38.673Z"
   },
   {
    "duration": 3,
    "start_time": "2021-07-24T20:18:39.325Z"
   },
   {
    "duration": 2673,
    "start_time": "2021-07-24T20:18:41.104Z"
   },
   {
    "duration": 3,
    "start_time": "2021-07-24T21:11:39.533Z"
   },
   {
    "duration": 29,
    "start_time": "2021-07-24T21:15:10.533Z"
   },
   {
    "duration": 13,
    "start_time": "2021-07-24T21:15:44.233Z"
   },
   {
    "duration": 8,
    "start_time": "2021-07-24T21:16:55.294Z"
   },
   {
    "duration": 8,
    "start_time": "2021-07-24T21:17:53.701Z"
   },
   {
    "duration": 1058,
    "start_time": "2021-07-24T21:18:14.679Z"
   },
   {
    "duration": 57,
    "start_time": "2021-07-24T21:18:15.741Z"
   },
   {
    "duration": 10,
    "start_time": "2021-07-24T21:18:15.800Z"
   },
   {
    "duration": 8,
    "start_time": "2021-07-24T21:18:15.812Z"
   },
   {
    "duration": 20,
    "start_time": "2021-07-24T21:18:15.821Z"
   },
   {
    "duration": 12,
    "start_time": "2021-07-24T21:18:15.842Z"
   },
   {
    "duration": 7,
    "start_time": "2021-07-24T21:18:15.856Z"
   },
   {
    "duration": 10,
    "start_time": "2021-07-24T21:18:15.866Z"
   },
   {
    "duration": 6,
    "start_time": "2021-07-24T21:18:15.878Z"
   },
   {
    "duration": 10,
    "start_time": "2021-07-24T21:18:15.886Z"
   },
   {
    "duration": 73,
    "start_time": "2021-07-24T21:18:15.897Z"
   },
   {
    "duration": 24,
    "start_time": "2021-07-24T21:18:15.972Z"
   },
   {
    "duration": 51,
    "start_time": "2021-07-24T21:18:15.998Z"
   },
   {
    "duration": 644,
    "start_time": "2021-07-24T21:18:16.051Z"
   },
   {
    "duration": 4,
    "start_time": "2021-07-24T21:18:16.697Z"
   },
   {
    "duration": 2597,
    "start_time": "2021-07-24T21:18:16.703Z"
   },
   {
    "duration": 5,
    "start_time": "2021-07-24T21:18:19.302Z"
   },
   {
    "duration": 40,
    "start_time": "2021-07-24T21:18:19.309Z"
   },
   {
    "duration": 4,
    "start_time": "2021-07-24T21:18:19.351Z"
   },
   {
    "duration": 11,
    "start_time": "2021-07-24T21:18:19.356Z"
   },
   {
    "duration": 6,
    "start_time": "2021-07-24T21:18:19.369Z"
   },
   {
    "duration": 11,
    "start_time": "2021-07-24T21:18:19.376Z"
   },
   {
    "duration": 19,
    "start_time": "2021-07-24T21:18:19.390Z"
   },
   {
    "duration": 55,
    "start_time": "2021-07-24T21:18:19.410Z"
   },
   {
    "duration": 34,
    "start_time": "2021-07-24T21:18:19.467Z"
   },
   {
    "duration": 4,
    "start_time": "2021-07-24T21:18:19.502Z"
   },
   {
    "duration": 33,
    "start_time": "2021-07-24T21:18:19.508Z"
   },
   {
    "duration": 22,
    "start_time": "2021-07-24T21:18:19.542Z"
   },
   {
    "duration": 30,
    "start_time": "2021-07-24T21:18:19.566Z"
   },
   {
    "duration": 172,
    "start_time": "2021-07-24T21:19:28.056Z"
   },
   {
    "duration": 1060,
    "start_time": "2021-07-24T21:19:58.798Z"
   },
   {
    "duration": 62,
    "start_time": "2021-07-24T21:19:59.860Z"
   },
   {
    "duration": 11,
    "start_time": "2021-07-24T21:19:59.935Z"
   },
   {
    "duration": 8,
    "start_time": "2021-07-24T21:20:00.132Z"
   },
   {
    "duration": 195,
    "start_time": "2021-07-24T21:20:00.317Z"
   },
   {
    "duration": 342,
    "start_time": "2021-07-24T21:20:55.963Z"
   },
   {
    "duration": 309,
    "start_time": "2021-07-24T21:21:05.767Z"
   },
   {
    "duration": 413,
    "start_time": "2021-07-24T21:21:48.771Z"
   },
   {
    "duration": 91,
    "start_time": "2021-07-24T21:25:57.547Z"
   },
   {
    "duration": 161,
    "start_time": "2021-07-24T21:26:00.959Z"
   },
   {
    "duration": 175,
    "start_time": "2021-07-24T21:26:08.055Z"
   },
   {
    "duration": 163,
    "start_time": "2021-07-24T21:26:14.884Z"
   },
   {
    "duration": 176,
    "start_time": "2021-07-24T21:26:32.645Z"
   },
   {
    "duration": 248,
    "start_time": "2021-07-24T21:26:41.220Z"
   },
   {
    "duration": 148,
    "start_time": "2021-07-24T21:26:46.856Z"
   },
   {
    "duration": 170,
    "start_time": "2021-07-24T21:26:55.282Z"
   },
   {
    "duration": 163,
    "start_time": "2021-07-24T21:27:06.082Z"
   },
   {
    "duration": 175,
    "start_time": "2021-07-24T21:27:09.420Z"
   },
   {
    "duration": 170,
    "start_time": "2021-07-24T21:27:19.067Z"
   },
   {
    "duration": 174,
    "start_time": "2021-07-24T21:27:23.696Z"
   },
   {
    "duration": 161,
    "start_time": "2021-07-24T21:27:27.486Z"
   },
   {
    "duration": 156,
    "start_time": "2021-07-24T21:27:41.431Z"
   },
   {
    "duration": 8,
    "start_time": "2021-07-24T21:31:19.229Z"
   },
   {
    "duration": 179,
    "start_time": "2021-07-24T21:31:25.936Z"
   },
   {
    "duration": 158,
    "start_time": "2021-07-24T21:31:53.098Z"
   },
   {
    "duration": 228,
    "start_time": "2021-07-24T21:31:57.515Z"
   },
   {
    "duration": 163,
    "start_time": "2021-07-24T21:32:13.094Z"
   },
   {
    "duration": 171,
    "start_time": "2021-07-24T21:32:42.802Z"
   },
   {
    "duration": 86,
    "start_time": "2021-07-24T21:33:15.687Z"
   },
   {
    "duration": 165,
    "start_time": "2021-07-24T21:33:21.525Z"
   },
   {
    "duration": 265,
    "start_time": "2021-07-24T21:36:46.561Z"
   },
   {
    "duration": 268,
    "start_time": "2021-07-24T21:36:52.459Z"
   },
   {
    "duration": 246,
    "start_time": "2021-07-24T21:37:54.163Z"
   },
   {
    "duration": 253,
    "start_time": "2021-07-24T21:38:08.471Z"
   },
   {
    "duration": 270,
    "start_time": "2021-07-24T21:39:22.211Z"
   },
   {
    "duration": 648,
    "start_time": "2021-07-24T21:39:55.808Z"
   },
   {
    "duration": 501,
    "start_time": "2021-07-24T21:40:09.304Z"
   },
   {
    "duration": 350,
    "start_time": "2021-07-24T21:40:16.276Z"
   },
   {
    "duration": 472,
    "start_time": "2021-07-24T21:40:23.024Z"
   },
   {
    "duration": 392,
    "start_time": "2021-07-24T21:40:27.094Z"
   },
   {
    "duration": 382,
    "start_time": "2021-07-24T21:43:39.772Z"
   },
   {
    "duration": 400,
    "start_time": "2021-07-24T21:43:58.252Z"
   },
   {
    "duration": 384,
    "start_time": "2021-07-24T21:49:05.392Z"
   },
   {
    "duration": 505,
    "start_time": "2021-07-24T21:49:21.194Z"
   },
   {
    "duration": 413,
    "start_time": "2021-07-24T21:51:50.292Z"
   },
   {
    "duration": 394,
    "start_time": "2021-07-24T21:51:56.897Z"
   },
   {
    "duration": 400,
    "start_time": "2021-07-24T21:52:02.074Z"
   },
   {
    "duration": 420,
    "start_time": "2021-07-24T21:52:20.433Z"
   },
   {
    "duration": 426,
    "start_time": "2021-07-24T21:52:32.234Z"
   },
   {
    "duration": 391,
    "start_time": "2021-07-24T21:53:43.195Z"
   },
   {
    "duration": 380,
    "start_time": "2021-07-24T21:53:51.912Z"
   },
   {
    "duration": 501,
    "start_time": "2021-07-24T21:55:07.058Z"
   },
   {
    "duration": 657,
    "start_time": "2021-07-24T21:58:01.078Z"
   },
   {
    "duration": 1505,
    "start_time": "2021-07-25T08:32:31.290Z"
   },
   {
    "duration": 85,
    "start_time": "2021-07-25T08:32:32.798Z"
   },
   {
    "duration": 15,
    "start_time": "2021-07-25T08:32:32.886Z"
   },
   {
    "duration": 113,
    "start_time": "2021-07-25T08:32:32.904Z"
   },
   {
    "duration": 298,
    "start_time": "2021-07-25T08:32:33.446Z"
   },
   {
    "duration": 12,
    "start_time": "2021-07-25T08:32:35.312Z"
   },
   {
    "duration": 294,
    "start_time": "2021-07-25T08:32:35.874Z"
   },
   {
    "duration": 923,
    "start_time": "2021-07-25T08:32:38.530Z"
   },
   {
    "duration": 1417,
    "start_time": "2021-07-25T08:32:47.753Z"
   },
   {
    "duration": 1657,
    "start_time": "2021-07-25T08:35:24.106Z"
   },
   {
    "duration": 377,
    "start_time": "2021-07-25T08:35:32.171Z"
   },
   {
    "duration": 108,
    "start_time": "2021-07-25T08:36:09.201Z"
   },
   {
    "duration": 371,
    "start_time": "2021-07-25T08:36:13.407Z"
   },
   {
    "duration": 16,
    "start_time": "2021-07-25T08:37:03.559Z"
   },
   {
    "duration": 6,
    "start_time": "2021-07-25T08:37:33.108Z"
   },
   {
    "duration": 13,
    "start_time": "2021-07-25T08:38:35.417Z"
   },
   {
    "duration": 11,
    "start_time": "2021-07-25T08:39:04.977Z"
   },
   {
    "duration": 19,
    "start_time": "2021-07-25T08:40:41.586Z"
   },
   {
    "duration": 18,
    "start_time": "2021-07-25T08:40:45.328Z"
   },
   {
    "duration": 16,
    "start_time": "2021-07-25T08:40:50.268Z"
   },
   {
    "duration": 742,
    "start_time": "2021-07-25T08:41:04.700Z"
   },
   {
    "duration": 303,
    "start_time": "2021-07-25T08:41:17.590Z"
   },
   {
    "duration": 351,
    "start_time": "2021-07-25T08:41:28.599Z"
   },
   {
    "duration": 313,
    "start_time": "2021-07-25T08:41:36.547Z"
   },
   {
    "duration": 17,
    "start_time": "2021-07-25T08:41:45.599Z"
   },
   {
    "duration": 322,
    "start_time": "2021-07-25T08:42:01.242Z"
   },
   {
    "duration": 7852,
    "start_time": "2021-07-25T08:42:38.964Z"
   },
   {
    "duration": 7280,
    "start_time": "2021-07-25T08:42:48.818Z"
   },
   {
    "duration": 7,
    "start_time": "2021-07-25T08:43:10.553Z"
   },
   {
    "duration": 6,
    "start_time": "2021-07-25T08:43:24.559Z"
   },
   {
    "duration": 9,
    "start_time": "2021-07-25T08:43:44.485Z"
   },
   {
    "duration": 333,
    "start_time": "2021-07-25T08:44:36.288Z"
   },
   {
    "duration": 311,
    "start_time": "2021-07-25T08:44:39.542Z"
   },
   {
    "duration": 17,
    "start_time": "2021-07-25T08:44:47.383Z"
   },
   {
    "duration": 23,
    "start_time": "2021-07-25T08:45:04.573Z"
   },
   {
    "duration": 11,
    "start_time": "2021-07-25T08:45:08.400Z"
   },
   {
    "duration": 298,
    "start_time": "2021-07-25T08:46:37.115Z"
   },
   {
    "duration": 337,
    "start_time": "2021-07-25T08:46:49.100Z"
   },
   {
    "duration": 339,
    "start_time": "2021-07-25T08:46:54.182Z"
   },
   {
    "duration": 477,
    "start_time": "2021-07-25T08:47:11.988Z"
   },
   {
    "duration": 38267,
    "start_time": "2021-07-25T08:48:47.419Z"
   },
   {
    "duration": 1024,
    "start_time": "2021-07-25T08:50:31.934Z"
   },
   {
    "duration": 4302,
    "start_time": "2021-07-25T08:51:23.497Z"
   },
   {
    "duration": 4779,
    "start_time": "2021-07-25T08:51:40.316Z"
   },
   {
    "duration": 622,
    "start_time": "2021-07-25T08:52:48.282Z"
   },
   {
    "duration": 4458,
    "start_time": "2021-07-25T08:53:58.586Z"
   },
   {
    "duration": 4779,
    "start_time": "2021-07-25T08:56:12.756Z"
   },
   {
    "duration": 11,
    "start_time": "2021-07-25T08:56:40.628Z"
   },
   {
    "duration": 4511,
    "start_time": "2021-07-25T08:57:05.386Z"
   },
   {
    "duration": 24,
    "start_time": "2021-07-25T09:00:02.535Z"
   },
   {
    "duration": 24,
    "start_time": "2021-07-25T09:00:15.461Z"
   },
   {
    "duration": 24,
    "start_time": "2021-07-25T09:00:22.107Z"
   },
   {
    "duration": 23,
    "start_time": "2021-07-25T09:00:34.357Z"
   },
   {
    "duration": 26,
    "start_time": "2021-07-25T09:00:59.511Z"
   },
   {
    "duration": 27,
    "start_time": "2021-07-25T09:01:05.203Z"
   },
   {
    "duration": 315,
    "start_time": "2021-07-25T09:01:28.217Z"
   },
   {
    "duration": 90,
    "start_time": "2021-07-25T09:01:57.320Z"
   },
   {
    "duration": 28,
    "start_time": "2021-07-25T09:02:13.749Z"
   },
   {
    "duration": 68,
    "start_time": "2021-07-25T09:07:06.032Z"
   },
   {
    "duration": 86,
    "start_time": "2021-07-25T09:07:45.761Z"
   },
   {
    "duration": 69,
    "start_time": "2021-07-25T09:08:17.042Z"
   },
   {
    "duration": 65,
    "start_time": "2021-07-25T09:08:39.143Z"
   },
   {
    "duration": 83,
    "start_time": "2021-07-25T11:12:31.183Z"
   },
   {
    "duration": 15,
    "start_time": "2021-07-25T11:21:39.117Z"
   },
   {
    "duration": 12,
    "start_time": "2021-07-25T11:29:39.880Z"
   },
   {
    "duration": 22,
    "start_time": "2021-07-25T11:48:50.474Z"
   },
   {
    "duration": 300,
    "start_time": "2021-07-25T14:54:14.687Z"
   },
   {
    "duration": 320,
    "start_time": "2021-07-25T14:54:24.865Z"
   },
   {
    "duration": 9,
    "start_time": "2021-07-25T14:54:40.908Z"
   },
   {
    "duration": 9,
    "start_time": "2021-07-25T14:55:14.102Z"
   },
   {
    "duration": 300,
    "start_time": "2021-07-25T14:56:26.619Z"
   },
   {
    "duration": 302,
    "start_time": "2021-07-25T14:57:16.325Z"
   },
   {
    "duration": 1807,
    "start_time": "2021-07-25T14:57:32.559Z"
   },
   {
    "duration": 124,
    "start_time": "2021-07-25T14:57:34.369Z"
   },
   {
    "duration": 17,
    "start_time": "2021-07-25T14:57:34.497Z"
   },
   {
    "duration": 5142,
    "start_time": "2021-07-25T14:57:34.517Z"
   },
   {
    "duration": 75,
    "start_time": "2021-07-25T14:57:39.661Z"
   },
   {
    "duration": 14,
    "start_time": "2021-07-25T14:57:39.738Z"
   },
   {
    "duration": 43,
    "start_time": "2021-07-25T14:57:39.754Z"
   },
   {
    "duration": 388,
    "start_time": "2021-07-25T14:57:39.800Z"
   },
   {
    "duration": 14,
    "start_time": "2021-07-25T15:01:29.785Z"
   },
   {
    "duration": 12,
    "start_time": "2021-07-25T15:01:46.224Z"
   },
   {
    "duration": 12,
    "start_time": "2021-07-25T15:01:54.801Z"
   },
   {
    "duration": 14,
    "start_time": "2021-07-25T15:04:04.364Z"
   },
   {
    "duration": 8,
    "start_time": "2021-07-25T15:04:20.877Z"
   },
   {
    "duration": 100,
    "start_time": "2021-07-25T15:04:59.825Z"
   },
   {
    "duration": 170,
    "start_time": "2021-07-25T15:05:04.555Z"
   },
   {
    "duration": 118,
    "start_time": "2021-07-25T15:05:13.318Z"
   },
   {
    "duration": 310,
    "start_time": "2021-07-25T15:05:43.579Z"
   },
   {
    "duration": 7,
    "start_time": "2021-07-25T15:05:47.730Z"
   },
   {
    "duration": 13,
    "start_time": "2021-07-25T15:07:37.225Z"
   },
   {
    "duration": 6,
    "start_time": "2021-07-25T15:07:46.526Z"
   },
   {
    "duration": 5,
    "start_time": "2021-07-25T15:08:33.023Z"
   },
   {
    "duration": 1424,
    "start_time": "2021-07-25T15:08:51.519Z"
   },
   {
    "duration": 86,
    "start_time": "2021-07-25T15:08:52.947Z"
   },
   {
    "duration": 15,
    "start_time": "2021-07-25T15:08:53.036Z"
   },
   {
    "duration": 4734,
    "start_time": "2021-07-25T15:08:53.054Z"
   },
   {
    "duration": 67,
    "start_time": "2021-07-25T15:08:57.791Z"
   },
   {
    "duration": 16,
    "start_time": "2021-07-25T15:08:57.886Z"
   },
   {
    "duration": 29,
    "start_time": "2021-07-25T15:08:57.905Z"
   },
   {
    "duration": 316,
    "start_time": "2021-07-25T15:08:57.937Z"
   },
   {
    "duration": 11,
    "start_time": "2021-07-25T15:08:58.255Z"
   },
   {
    "duration": 8,
    "start_time": "2021-07-25T15:08:58.285Z"
   },
   {
    "duration": 21,
    "start_time": "2021-07-25T15:08:58.295Z"
   },
   {
    "duration": 22,
    "start_time": "2021-07-25T15:08:58.319Z"
   },
   {
    "duration": 12,
    "start_time": "2021-07-25T15:08:58.343Z"
   },
   {
    "duration": 14,
    "start_time": "2021-07-25T15:08:58.357Z"
   },
   {
    "duration": 21,
    "start_time": "2021-07-25T15:08:58.374Z"
   },
   {
    "duration": 78,
    "start_time": "2021-07-25T15:08:58.397Z"
   },
   {
    "duration": 16,
    "start_time": "2021-07-25T15:08:58.479Z"
   },
   {
    "duration": 17,
    "start_time": "2021-07-25T15:08:58.500Z"
   },
   {
    "duration": 22,
    "start_time": "2021-07-25T15:08:58.520Z"
   },
   {
    "duration": 108,
    "start_time": "2021-07-25T15:08:58.544Z"
   },
   {
    "duration": 45,
    "start_time": "2021-07-25T15:08:58.654Z"
   },
   {
    "duration": 47,
    "start_time": "2021-07-25T15:08:58.701Z"
   },
   {
    "duration": 1071,
    "start_time": "2021-07-25T15:08:58.750Z"
   },
   {
    "duration": 5,
    "start_time": "2021-07-25T15:08:59.824Z"
   },
   {
    "duration": 3665,
    "start_time": "2021-07-25T15:08:59.831Z"
   },
   {
    "duration": 7,
    "start_time": "2021-07-25T15:09:03.498Z"
   },
   {
    "duration": 6,
    "start_time": "2021-07-25T15:09:03.508Z"
   },
   {
    "duration": 36,
    "start_time": "2021-07-25T15:09:03.516Z"
   },
   {
    "duration": 49,
    "start_time": "2021-07-25T15:09:03.555Z"
   },
   {
    "duration": 40,
    "start_time": "2021-07-25T15:09:03.607Z"
   },
   {
    "duration": 74,
    "start_time": "2021-07-25T15:09:03.650Z"
   },
   {
    "duration": 7,
    "start_time": "2021-07-25T15:09:03.726Z"
   },
   {
    "duration": 15,
    "start_time": "2021-07-25T15:09:03.736Z"
   },
   {
    "duration": 59,
    "start_time": "2021-07-25T15:09:03.754Z"
   },
   {
    "duration": 46,
    "start_time": "2021-07-25T15:09:03.816Z"
   },
   {
    "duration": 8,
    "start_time": "2021-07-25T15:09:35.376Z"
   },
   {
    "duration": 14,
    "start_time": "2021-07-25T15:09:35.485Z"
   },
   {
    "duration": 434,
    "start_time": "2021-07-25T15:09:54.194Z"
   },
   {
    "duration": 7,
    "start_time": "2021-07-25T15:09:58.941Z"
   },
   {
    "duration": 5,
    "start_time": "2021-07-25T15:10:26.798Z"
   },
   {
    "duration": 5,
    "start_time": "2021-07-25T15:10:31.473Z"
   },
   {
    "duration": 5,
    "start_time": "2021-07-25T15:10:43.467Z"
   },
   {
    "duration": 4,
    "start_time": "2021-07-25T15:10:47.154Z"
   },
   {
    "duration": 8,
    "start_time": "2021-07-25T15:10:48.822Z"
   },
   {
    "duration": 5,
    "start_time": "2021-07-25T15:11:03.757Z"
   },
   {
    "duration": 5,
    "start_time": "2021-07-25T15:11:28.136Z"
   },
   {
    "duration": 455,
    "start_time": "2021-07-25T15:11:30.937Z"
   },
   {
    "duration": 5,
    "start_time": "2021-07-25T15:11:42.090Z"
   },
   {
    "duration": 5,
    "start_time": "2021-07-25T15:11:44.773Z"
   },
   {
    "duration": 7,
    "start_time": "2021-07-25T15:12:06.977Z"
   },
   {
    "duration": 293,
    "start_time": "2021-07-25T15:20:12.765Z"
   },
   {
    "duration": 432,
    "start_time": "2021-07-25T15:21:13.334Z"
   },
   {
    "duration": 557,
    "start_time": "2021-07-25T15:22:13.877Z"
   },
   {
    "duration": 466,
    "start_time": "2021-07-25T15:26:44.830Z"
   },
   {
    "duration": 276,
    "start_time": "2021-07-25T15:26:54.629Z"
   },
   {
    "duration": 456,
    "start_time": "2021-07-25T15:26:59.017Z"
   },
   {
    "duration": 588,
    "start_time": "2021-07-25T15:27:06.057Z"
   },
   {
    "duration": 291,
    "start_time": "2021-07-25T16:26:28.636Z"
   },
   {
    "duration": 6,
    "start_time": "2021-07-25T16:32:15.303Z"
   },
   {
    "duration": 8,
    "start_time": "2021-07-25T16:32:18.089Z"
   },
   {
    "duration": 10,
    "start_time": "2021-07-25T16:32:24.614Z"
   },
   {
    "duration": 14,
    "start_time": "2021-07-25T16:33:39.696Z"
   },
   {
    "duration": 1436,
    "start_time": "2021-07-25T16:33:50.620Z"
   },
   {
    "duration": 80,
    "start_time": "2021-07-25T16:33:52.058Z"
   },
   {
    "duration": 14,
    "start_time": "2021-07-25T16:33:52.142Z"
   },
   {
    "duration": 4923,
    "start_time": "2021-07-25T16:33:52.159Z"
   },
   {
    "duration": 74,
    "start_time": "2021-07-25T16:33:57.084Z"
   },
   {
    "duration": 36,
    "start_time": "2021-07-25T16:33:57.161Z"
   },
   {
    "duration": 27,
    "start_time": "2021-07-25T16:33:57.199Z"
   },
   {
    "duration": 306,
    "start_time": "2021-07-25T16:33:57.230Z"
   },
   {
    "duration": 11,
    "start_time": "2021-07-25T16:33:57.539Z"
   },
   {
    "duration": 7,
    "start_time": "2021-07-25T16:33:57.552Z"
   },
   {
    "duration": 31,
    "start_time": "2021-07-25T16:33:57.561Z"
   },
   {
    "duration": 6,
    "start_time": "2021-07-25T16:33:57.595Z"
   },
   {
    "duration": 18,
    "start_time": "2021-07-25T16:33:57.603Z"
   },
   {
    "duration": 14,
    "start_time": "2021-07-25T16:35:55.770Z"
   },
   {
    "duration": 12,
    "start_time": "2021-07-25T16:36:01.773Z"
   },
   {
    "duration": 9,
    "start_time": "2021-07-25T16:36:36.074Z"
   },
   {
    "duration": 12,
    "start_time": "2021-07-25T16:36:42.285Z"
   },
   {
    "duration": 12,
    "start_time": "2021-07-25T16:37:03.825Z"
   },
   {
    "duration": 11,
    "start_time": "2021-07-25T16:37:20.386Z"
   },
   {
    "duration": 11,
    "start_time": "2021-07-25T16:37:23.081Z"
   },
   {
    "duration": 1694,
    "start_time": "2021-07-25T16:38:29.350Z"
   },
   {
    "duration": 114,
    "start_time": "2021-07-25T16:38:31.048Z"
   },
   {
    "duration": 30,
    "start_time": "2021-07-25T16:38:31.164Z"
   },
   {
    "duration": 4820,
    "start_time": "2021-07-25T16:38:31.197Z"
   },
   {
    "duration": 88,
    "start_time": "2021-07-25T16:38:36.019Z"
   },
   {
    "duration": 16,
    "start_time": "2021-07-25T16:38:36.111Z"
   },
   {
    "duration": 23,
    "start_time": "2021-07-25T16:38:36.130Z"
   },
   {
    "duration": 334,
    "start_time": "2021-07-25T16:38:36.155Z"
   },
   {
    "duration": 11,
    "start_time": "2021-07-25T16:38:36.492Z"
   },
   {
    "duration": 7,
    "start_time": "2021-07-25T16:38:36.506Z"
   },
   {
    "duration": 18,
    "start_time": "2021-07-25T16:38:36.515Z"
   },
   {
    "duration": 6,
    "start_time": "2021-07-25T16:38:36.536Z"
   },
   {
    "duration": 45,
    "start_time": "2021-07-25T16:38:36.545Z"
   },
   {
    "duration": 12,
    "start_time": "2021-07-25T16:38:36.592Z"
   },
   {
    "duration": 500,
    "start_time": "2021-07-25T16:38:36.607Z"
   },
   {
    "duration": 11,
    "start_time": "2021-07-25T16:38:37.109Z"
   },
   {
    "duration": 12,
    "start_time": "2021-07-25T16:38:40.345Z"
   },
   {
    "duration": 8,
    "start_time": "2021-07-25T16:38:54.728Z"
   },
   {
    "duration": 1494,
    "start_time": "2021-07-25T16:40:01.087Z"
   },
   {
    "duration": 83,
    "start_time": "2021-07-25T16:40:02.586Z"
   },
   {
    "duration": 25,
    "start_time": "2021-07-25T16:40:02.673Z"
   },
   {
    "duration": 4786,
    "start_time": "2021-07-25T16:40:02.702Z"
   },
   {
    "duration": 110,
    "start_time": "2021-07-25T16:40:07.491Z"
   },
   {
    "duration": 15,
    "start_time": "2021-07-25T16:40:07.604Z"
   },
   {
    "duration": 27,
    "start_time": "2021-07-25T16:40:07.622Z"
   },
   {
    "duration": 550,
    "start_time": "2021-07-25T16:40:07.654Z"
   },
   {
    "duration": 11,
    "start_time": "2021-07-25T16:40:08.207Z"
   },
   {
    "duration": 8,
    "start_time": "2021-07-25T16:40:08.220Z"
   },
   {
    "duration": 17,
    "start_time": "2021-07-25T16:40:08.230Z"
   },
   {
    "duration": 38,
    "start_time": "2021-07-25T16:40:08.250Z"
   },
   {
    "duration": 22,
    "start_time": "2021-07-25T16:40:08.291Z"
   },
   {
    "duration": 21,
    "start_time": "2021-07-25T16:40:08.317Z"
   },
   {
    "duration": 546,
    "start_time": "2021-07-25T16:40:08.341Z"
   },
   {
    "duration": 9,
    "start_time": "2021-07-25T16:40:11.231Z"
   },
   {
    "duration": 9,
    "start_time": "2021-07-25T16:40:12.673Z"
   },
   {
    "duration": 23,
    "start_time": "2021-07-25T16:40:15.333Z"
   },
   {
    "duration": 18,
    "start_time": "2021-07-25T17:35:35.713Z"
   },
   {
    "duration": 23,
    "start_time": "2021-07-25T17:35:36.199Z"
   },
   {
    "duration": 16,
    "start_time": "2021-07-25T17:35:38.870Z"
   },
   {
    "duration": 21,
    "start_time": "2021-07-25T17:35:39.021Z"
   },
   {
    "duration": 19,
    "start_time": "2021-07-25T17:36:04.435Z"
   },
   {
    "duration": 11,
    "start_time": "2021-07-25T17:36:26.948Z"
   },
   {
    "duration": 20,
    "start_time": "2021-07-25T17:36:28.768Z"
   },
   {
    "duration": 27,
    "start_time": "2021-07-25T17:36:54.441Z"
   },
   {
    "duration": 22,
    "start_time": "2021-07-25T17:36:55.434Z"
   },
   {
    "duration": 1450,
    "start_time": "2021-07-25T17:37:15.807Z"
   },
   {
    "duration": 83,
    "start_time": "2021-07-25T17:37:17.260Z"
   },
   {
    "duration": 17,
    "start_time": "2021-07-25T17:37:17.348Z"
   },
   {
    "duration": 4657,
    "start_time": "2021-07-25T17:37:17.386Z"
   },
   {
    "duration": 85,
    "start_time": "2021-07-25T17:37:22.046Z"
   },
   {
    "duration": 14,
    "start_time": "2021-07-25T17:37:22.133Z"
   },
   {
    "duration": 44,
    "start_time": "2021-07-25T17:37:22.149Z"
   },
   {
    "duration": 309,
    "start_time": "2021-07-25T17:37:22.197Z"
   },
   {
    "duration": 11,
    "start_time": "2021-07-25T17:37:22.509Z"
   },
   {
    "duration": 6,
    "start_time": "2021-07-25T17:37:22.523Z"
   },
   {
    "duration": 14,
    "start_time": "2021-07-25T17:37:22.531Z"
   },
   {
    "duration": 44,
    "start_time": "2021-07-25T17:37:22.547Z"
   },
   {
    "duration": 17,
    "start_time": "2021-07-25T17:37:22.593Z"
   },
   {
    "duration": 10,
    "start_time": "2021-07-25T17:37:22.612Z"
   },
   {
    "duration": 495,
    "start_time": "2021-07-25T17:37:22.625Z"
   },
   {
    "duration": 28,
    "start_time": "2021-07-25T17:37:25.316Z"
   },
   {
    "duration": 13,
    "start_time": "2021-07-25T17:37:26.364Z"
   },
   {
    "duration": 30,
    "start_time": "2021-07-25T17:37:58.409Z"
   },
   {
    "duration": 31,
    "start_time": "2021-07-25T17:38:15.864Z"
   },
   {
    "duration": 12,
    "start_time": "2021-07-25T17:38:32.533Z"
   },
   {
    "duration": 30,
    "start_time": "2021-07-25T17:38:34.769Z"
   },
   {
    "duration": 12,
    "start_time": "2021-07-25T17:38:34.989Z"
   },
   {
    "duration": 20,
    "start_time": "2021-07-25T17:38:50.145Z"
   },
   {
    "duration": 1460,
    "start_time": "2021-07-25T17:39:00.199Z"
   },
   {
    "duration": 81,
    "start_time": "2021-07-25T17:39:01.662Z"
   },
   {
    "duration": 15,
    "start_time": "2021-07-25T17:39:01.746Z"
   },
   {
    "duration": 4695,
    "start_time": "2021-07-25T17:39:01.764Z"
   },
   {
    "duration": 77,
    "start_time": "2021-07-25T17:39:06.462Z"
   },
   {
    "duration": 15,
    "start_time": "2021-07-25T17:39:06.541Z"
   },
   {
    "duration": 46,
    "start_time": "2021-07-25T17:39:06.558Z"
   },
   {
    "duration": 293,
    "start_time": "2021-07-25T17:39:06.608Z"
   },
   {
    "duration": 13,
    "start_time": "2021-07-25T17:39:06.904Z"
   },
   {
    "duration": 8,
    "start_time": "2021-07-25T17:39:06.919Z"
   },
   {
    "duration": 13,
    "start_time": "2021-07-25T17:39:06.929Z"
   },
   {
    "duration": 41,
    "start_time": "2021-07-25T17:39:06.944Z"
   },
   {
    "duration": 12,
    "start_time": "2021-07-25T17:39:06.988Z"
   },
   {
    "duration": 14,
    "start_time": "2021-07-25T17:39:07.003Z"
   },
   {
    "duration": 502,
    "start_time": "2021-07-25T17:39:07.020Z"
   },
   {
    "duration": 29,
    "start_time": "2021-07-25T17:39:10.339Z"
   },
   {
    "duration": 12,
    "start_time": "2021-07-25T17:39:12.523Z"
   },
   {
    "duration": 30,
    "start_time": "2021-07-25T17:40:12.126Z"
   },
   {
    "duration": 1427,
    "start_time": "2021-07-25T17:40:50.813Z"
   },
   {
    "duration": 82,
    "start_time": "2021-07-25T17:40:52.242Z"
   },
   {
    "duration": 14,
    "start_time": "2021-07-25T17:40:52.327Z"
   },
   {
    "duration": 4563,
    "start_time": "2021-07-25T17:40:52.345Z"
   },
   {
    "duration": 85,
    "start_time": "2021-07-25T17:40:56.911Z"
   },
   {
    "duration": 15,
    "start_time": "2021-07-25T17:40:56.999Z"
   },
   {
    "duration": 22,
    "start_time": "2021-07-25T17:40:57.017Z"
   },
   {
    "duration": 301,
    "start_time": "2021-07-25T17:40:57.043Z"
   },
   {
    "duration": 12,
    "start_time": "2021-07-25T17:40:57.347Z"
   },
   {
    "duration": 26,
    "start_time": "2021-07-25T17:40:57.361Z"
   },
   {
    "duration": 13,
    "start_time": "2021-07-25T17:40:57.389Z"
   },
   {
    "duration": 6,
    "start_time": "2021-07-25T17:40:57.404Z"
   },
   {
    "duration": 14,
    "start_time": "2021-07-25T17:40:57.412Z"
   },
   {
    "duration": 11,
    "start_time": "2021-07-25T17:40:57.428Z"
   },
   {
    "duration": 493,
    "start_time": "2021-07-25T17:40:57.441Z"
   },
   {
    "duration": 30,
    "start_time": "2021-07-25T17:40:57.938Z"
   },
   {
    "duration": 13,
    "start_time": "2021-07-25T17:40:58.955Z"
   },
   {
    "duration": 1426,
    "start_time": "2021-07-25T17:42:07.730Z"
   },
   {
    "duration": 83,
    "start_time": "2021-07-25T17:42:09.159Z"
   },
   {
    "duration": 13,
    "start_time": "2021-07-25T17:42:09.245Z"
   },
   {
    "duration": 4682,
    "start_time": "2021-07-25T17:42:09.261Z"
   },
   {
    "duration": 86,
    "start_time": "2021-07-25T17:42:13.946Z"
   },
   {
    "duration": 16,
    "start_time": "2021-07-25T17:42:14.035Z"
   },
   {
    "duration": 50,
    "start_time": "2021-07-25T17:42:14.054Z"
   },
   {
    "duration": 306,
    "start_time": "2021-07-25T17:42:14.108Z"
   },
   {
    "duration": 11,
    "start_time": "2021-07-25T17:42:14.417Z"
   },
   {
    "duration": 6,
    "start_time": "2021-07-25T17:42:14.431Z"
   },
   {
    "duration": 17,
    "start_time": "2021-07-25T17:42:14.439Z"
   },
   {
    "duration": 31,
    "start_time": "2021-07-25T17:42:14.458Z"
   },
   {
    "duration": 17,
    "start_time": "2021-07-25T17:42:14.491Z"
   },
   {
    "duration": 10,
    "start_time": "2021-07-25T17:42:14.510Z"
   },
   {
    "duration": 496,
    "start_time": "2021-07-25T17:42:14.522Z"
   },
   {
    "duration": 22,
    "start_time": "2021-07-25T17:42:15.020Z"
   },
   {
    "duration": 12,
    "start_time": "2021-07-25T17:42:15.646Z"
   },
   {
    "duration": 30,
    "start_time": "2021-07-25T17:42:32.623Z"
   },
   {
    "duration": 14,
    "start_time": "2021-07-25T17:42:33.017Z"
   },
   {
    "duration": 31,
    "start_time": "2021-07-25T17:45:06.271Z"
   },
   {
    "duration": 33,
    "start_time": "2021-07-25T17:45:35.447Z"
   },
   {
    "duration": 31,
    "start_time": "2021-07-25T17:47:42.082Z"
   },
   {
    "duration": 32,
    "start_time": "2021-07-25T17:48:49.513Z"
   },
   {
    "duration": 13,
    "start_time": "2021-07-25T17:49:05.473Z"
   },
   {
    "duration": 277,
    "start_time": "2021-07-25T17:51:57.035Z"
   },
   {
    "duration": 26,
    "start_time": "2021-07-25T17:53:03.993Z"
   },
   {
    "duration": 13,
    "start_time": "2021-07-25T17:53:19.888Z"
   },
   {
    "duration": 25,
    "start_time": "2021-07-25T17:53:27.162Z"
   },
   {
    "duration": 446,
    "start_time": "2021-07-25T17:54:18.071Z"
   },
   {
    "duration": 6,
    "start_time": "2021-07-25T17:54:23.032Z"
   },
   {
    "duration": 319,
    "start_time": "2021-07-25T17:54:35.133Z"
   },
   {
    "duration": 25,
    "start_time": "2021-07-25T17:54:40.552Z"
   },
   {
    "duration": 9,
    "start_time": "2021-07-25T17:55:09.443Z"
   },
   {
    "duration": 10,
    "start_time": "2021-07-25T17:56:32.668Z"
   },
   {
    "duration": 16,
    "start_time": "2021-07-25T17:56:50.067Z"
   },
   {
    "duration": 30,
    "start_time": "2021-07-25T17:57:05.466Z"
   },
   {
    "duration": 31,
    "start_time": "2021-07-25T17:57:08.574Z"
   },
   {
    "duration": 12,
    "start_time": "2021-07-25T17:57:39.195Z"
   },
   {
    "duration": 35,
    "start_time": "2021-07-25T17:58:05.243Z"
   },
   {
    "duration": 20,
    "start_time": "2021-07-25T17:58:08.938Z"
   },
   {
    "duration": 47,
    "start_time": "2021-07-25T17:58:12.303Z"
   },
   {
    "duration": 12,
    "start_time": "2021-07-25T17:58:23.422Z"
   },
   {
    "duration": 1573,
    "start_time": "2021-07-25T17:58:41.418Z"
   },
   {
    "duration": 84,
    "start_time": "2021-07-25T17:58:42.994Z"
   },
   {
    "duration": 16,
    "start_time": "2021-07-25T17:58:43.081Z"
   },
   {
    "duration": 4778,
    "start_time": "2021-07-25T17:58:43.101Z"
   },
   {
    "duration": 65,
    "start_time": "2021-07-25T17:58:47.885Z"
   },
   {
    "duration": 39,
    "start_time": "2021-07-25T17:58:47.952Z"
   },
   {
    "duration": 23,
    "start_time": "2021-07-25T17:58:47.994Z"
   },
   {
    "duration": 321,
    "start_time": "2021-07-25T17:58:48.022Z"
   },
   {
    "duration": 13,
    "start_time": "2021-07-25T17:58:48.347Z"
   },
   {
    "duration": 30,
    "start_time": "2021-07-25T17:58:48.363Z"
   },
   {
    "duration": 12,
    "start_time": "2021-07-25T17:58:48.397Z"
   },
   {
    "duration": 8,
    "start_time": "2021-07-25T17:58:48.412Z"
   },
   {
    "duration": 18,
    "start_time": "2021-07-25T17:58:48.423Z"
   },
   {
    "duration": 51,
    "start_time": "2021-07-25T17:58:48.444Z"
   },
   {
    "duration": 478,
    "start_time": "2021-07-25T17:58:48.497Z"
   },
   {
    "duration": 32,
    "start_time": "2021-07-25T17:58:48.986Z"
   },
   {
    "duration": 11,
    "start_time": "2021-07-25T18:00:06.104Z"
   },
   {
    "duration": 106,
    "start_time": "2021-07-25T18:00:15.762Z"
   },
   {
    "duration": 623,
    "start_time": "2021-07-25T18:01:38.811Z"
   },
   {
    "duration": 334,
    "start_time": "2021-07-25T18:01:43.205Z"
   },
   {
    "duration": 12,
    "start_time": "2021-07-25T18:03:11.867Z"
   },
   {
    "duration": 11,
    "start_time": "2021-07-25T18:03:18.296Z"
   },
   {
    "duration": 13,
    "start_time": "2021-07-25T18:03:29.714Z"
   },
   {
    "duration": 10,
    "start_time": "2021-07-25T18:03:30.084Z"
   },
   {
    "duration": 10,
    "start_time": "2021-07-25T18:04:13.275Z"
   },
   {
    "duration": 12,
    "start_time": "2021-07-25T18:04:14.009Z"
   },
   {
    "duration": 11,
    "start_time": "2021-07-25T18:04:14.371Z"
   },
   {
    "duration": 12,
    "start_time": "2021-07-25T18:04:19.927Z"
   },
   {
    "duration": 310,
    "start_time": "2021-07-25T18:04:20.321Z"
   },
   {
    "duration": 301,
    "start_time": "2021-07-25T18:04:45.289Z"
   },
   {
    "duration": 2053,
    "start_time": "2021-07-25T18:04:43.539Z"
   },
   {
    "duration": 1531,
    "start_time": "2021-07-25T18:04:56.642Z"
   },
   {
    "duration": 86,
    "start_time": "2021-07-25T18:04:58.176Z"
   },
   {
    "duration": 28,
    "start_time": "2021-07-25T18:04:58.266Z"
   },
   {
    "duration": 4706,
    "start_time": "2021-07-25T18:04:58.298Z"
   },
   {
    "duration": 83,
    "start_time": "2021-07-25T18:05:03.006Z"
   },
   {
    "duration": 14,
    "start_time": "2021-07-25T18:05:03.091Z"
   },
   {
    "duration": 27,
    "start_time": "2021-07-25T18:05:03.108Z"
   },
   {
    "duration": 315,
    "start_time": "2021-07-25T18:05:03.138Z"
   },
   {
    "duration": 12,
    "start_time": "2021-07-25T18:05:03.456Z"
   },
   {
    "duration": 20,
    "start_time": "2021-07-25T18:05:03.470Z"
   },
   {
    "duration": 24,
    "start_time": "2021-07-25T18:05:03.493Z"
   },
   {
    "duration": 15,
    "start_time": "2021-07-25T18:05:03.519Z"
   },
   {
    "duration": 11,
    "start_time": "2021-07-25T18:05:05.264Z"
   },
   {
    "duration": 16,
    "start_time": "2021-07-25T18:05:06.457Z"
   },
   {
    "duration": 9,
    "start_time": "2021-07-25T18:05:06.861Z"
   },
   {
    "duration": 33,
    "start_time": "2021-07-25T18:05:17.207Z"
   },
   {
    "duration": 2214,
    "start_time": "2021-07-25T18:05:42.962Z"
   },
   {
    "duration": 89,
    "start_time": "2021-07-25T18:05:45.179Z"
   },
   {
    "duration": 20,
    "start_time": "2021-07-25T18:05:45.271Z"
   },
   {
    "duration": 4944,
    "start_time": "2021-07-25T18:05:45.295Z"
   },
   {
    "duration": 81,
    "start_time": "2021-07-25T18:05:50.242Z"
   },
   {
    "duration": 14,
    "start_time": "2021-07-25T18:05:50.325Z"
   },
   {
    "duration": 46,
    "start_time": "2021-07-25T18:05:50.341Z"
   },
   {
    "duration": 307,
    "start_time": "2021-07-25T18:05:50.390Z"
   },
   {
    "duration": 10,
    "start_time": "2021-07-25T18:05:50.700Z"
   },
   {
    "duration": 9,
    "start_time": "2021-07-25T18:05:50.712Z"
   },
   {
    "duration": 24,
    "start_time": "2021-07-25T18:05:50.724Z"
   },
   {
    "duration": 11,
    "start_time": "2021-07-25T18:05:50.750Z"
   },
   {
    "duration": 27,
    "start_time": "2021-07-25T18:05:50.763Z"
   },
   {
    "duration": 29,
    "start_time": "2021-07-25T18:05:51.644Z"
   },
   {
    "duration": 34,
    "start_time": "2021-07-25T18:05:52.651Z"
   },
   {
    "duration": 10,
    "start_time": "2021-07-25T18:06:08.633Z"
   },
   {
    "duration": 1486,
    "start_time": "2021-07-25T18:08:28.992Z"
   },
   {
    "duration": 83,
    "start_time": "2021-07-25T18:08:30.481Z"
   },
   {
    "duration": 18,
    "start_time": "2021-07-25T18:08:30.567Z"
   },
   {
    "duration": 4955,
    "start_time": "2021-07-25T18:08:30.588Z"
   },
   {
    "duration": 87,
    "start_time": "2021-07-25T18:08:35.546Z"
   },
   {
    "duration": 14,
    "start_time": "2021-07-25T18:08:35.636Z"
   },
   {
    "duration": 44,
    "start_time": "2021-07-25T18:08:35.652Z"
   },
   {
    "duration": 332,
    "start_time": "2021-07-25T18:08:35.700Z"
   },
   {
    "duration": 10,
    "start_time": "2021-07-25T18:08:36.035Z"
   },
   {
    "duration": 6,
    "start_time": "2021-07-25T18:08:36.048Z"
   },
   {
    "duration": 46,
    "start_time": "2021-07-25T18:08:36.057Z"
   },
   {
    "duration": 7,
    "start_time": "2021-07-25T18:08:36.105Z"
   },
   {
    "duration": 12,
    "start_time": "2021-07-25T18:08:36.114Z"
   },
   {
    "duration": 14,
    "start_time": "2021-07-25T18:09:13.178Z"
   },
   {
    "duration": 32,
    "start_time": "2021-07-25T18:09:13.934Z"
   },
   {
    "duration": 10,
    "start_time": "2021-07-25T18:09:22.396Z"
   },
   {
    "duration": 12,
    "start_time": "2021-07-25T18:09:32.371Z"
   },
   {
    "duration": 4,
    "start_time": "2021-07-25T18:09:33.417Z"
   },
   {
    "duration": 454,
    "start_time": "2021-07-25T18:09:36.864Z"
   },
   {
    "duration": 4,
    "start_time": "2021-07-25T18:09:40.622Z"
   },
   {
    "duration": 309,
    "start_time": "2021-07-25T18:09:45.091Z"
   },
   {
    "duration": 2056,
    "start_time": "2021-07-25T18:09:43.348Z"
   },
   {
    "duration": 1488,
    "start_time": "2021-07-25T18:10:43.793Z"
   },
   {
    "duration": 85,
    "start_time": "2021-07-25T18:10:45.285Z"
   },
   {
    "duration": 20,
    "start_time": "2021-07-25T18:10:45.374Z"
   },
   {
    "duration": 4633,
    "start_time": "2021-07-25T18:10:45.397Z"
   },
   {
    "duration": 82,
    "start_time": "2021-07-25T18:10:50.033Z"
   },
   {
    "duration": 16,
    "start_time": "2021-07-25T18:10:50.118Z"
   },
   {
    "duration": 29,
    "start_time": "2021-07-25T18:10:50.136Z"
   },
   {
    "duration": 300,
    "start_time": "2021-07-25T18:10:50.188Z"
   },
   {
    "duration": 11,
    "start_time": "2021-07-25T18:10:50.490Z"
   },
   {
    "duration": 10,
    "start_time": "2021-07-25T18:10:50.503Z"
   },
   {
    "duration": 17,
    "start_time": "2021-07-25T18:10:50.515Z"
   },
   {
    "duration": 9,
    "start_time": "2021-07-25T18:10:50.534Z"
   },
   {
    "duration": 44,
    "start_time": "2021-07-25T18:10:50.545Z"
   },
   {
    "duration": 10,
    "start_time": "2021-07-25T18:10:56.133Z"
   },
   {
    "duration": 12,
    "start_time": "2021-07-25T18:10:58.219Z"
   },
   {
    "duration": 36,
    "start_time": "2021-07-25T18:10:58.842Z"
   },
   {
    "duration": 11,
    "start_time": "2021-07-25T18:11:03.358Z"
   },
   {
    "duration": 1447,
    "start_time": "2021-07-25T18:11:57.510Z"
   },
   {
    "duration": 85,
    "start_time": "2021-07-25T18:11:58.960Z"
   },
   {
    "duration": 15,
    "start_time": "2021-07-25T18:11:59.048Z"
   },
   {
    "duration": 4761,
    "start_time": "2021-07-25T18:11:59.066Z"
   },
   {
    "duration": 81,
    "start_time": "2021-07-25T18:12:03.830Z"
   },
   {
    "duration": 14,
    "start_time": "2021-07-25T18:12:03.914Z"
   },
   {
    "duration": 28,
    "start_time": "2021-07-25T18:12:03.931Z"
   },
   {
    "duration": 307,
    "start_time": "2021-07-25T18:12:03.986Z"
   },
   {
    "duration": 12,
    "start_time": "2021-07-25T18:12:04.295Z"
   },
   {
    "duration": 7,
    "start_time": "2021-07-25T18:12:04.309Z"
   },
   {
    "duration": 14,
    "start_time": "2021-07-25T18:12:04.319Z"
   },
   {
    "duration": 7,
    "start_time": "2021-07-25T18:12:04.336Z"
   },
   {
    "duration": 50,
    "start_time": "2021-07-25T18:12:04.346Z"
   },
   {
    "duration": 10,
    "start_time": "2021-07-25T18:12:07.814Z"
   },
   {
    "duration": 18,
    "start_time": "2021-07-25T18:12:10.875Z"
   },
   {
    "duration": 18,
    "start_time": "2021-07-25T18:12:19.147Z"
   },
   {
    "duration": 1465,
    "start_time": "2021-07-25T18:12:48.851Z"
   },
   {
    "duration": 80,
    "start_time": "2021-07-25T18:12:50.319Z"
   },
   {
    "duration": 14,
    "start_time": "2021-07-25T18:12:50.402Z"
   },
   {
    "duration": 4575,
    "start_time": "2021-07-25T18:12:50.419Z"
   },
   {
    "duration": 114,
    "start_time": "2021-07-25T18:12:54.997Z"
   },
   {
    "duration": 17,
    "start_time": "2021-07-25T18:12:55.113Z"
   },
   {
    "duration": 23,
    "start_time": "2021-07-25T18:12:55.133Z"
   },
   {
    "duration": 300,
    "start_time": "2021-07-25T18:12:55.189Z"
   },
   {
    "duration": 13,
    "start_time": "2021-07-25T18:12:55.493Z"
   },
   {
    "duration": 8,
    "start_time": "2021-07-25T18:12:55.509Z"
   },
   {
    "duration": 12,
    "start_time": "2021-07-25T18:12:55.520Z"
   },
   {
    "duration": 54,
    "start_time": "2021-07-25T18:12:55.535Z"
   },
   {
    "duration": 14,
    "start_time": "2021-07-25T18:12:55.592Z"
   },
   {
    "duration": 19,
    "start_time": "2021-07-25T18:12:55.609Z"
   },
   {
    "duration": 19,
    "start_time": "2021-07-25T18:12:55.631Z"
   },
   {
    "duration": 19,
    "start_time": "2021-07-25T18:13:03.665Z"
   },
   {
    "duration": 18,
    "start_time": "2021-07-25T18:13:03.948Z"
   },
   {
    "duration": 6,
    "start_time": "2021-07-25T18:13:14.099Z"
   },
   {
    "duration": 1457,
    "start_time": "2021-07-25T18:14:15.382Z"
   },
   {
    "duration": 78,
    "start_time": "2021-07-25T18:14:16.842Z"
   },
   {
    "duration": 17,
    "start_time": "2021-07-25T18:14:16.923Z"
   },
   {
    "duration": 4554,
    "start_time": "2021-07-25T18:14:16.944Z"
   },
   {
    "duration": 87,
    "start_time": "2021-07-25T18:14:21.501Z"
   },
   {
    "duration": 14,
    "start_time": "2021-07-25T18:14:21.590Z"
   },
   {
    "duration": 24,
    "start_time": "2021-07-25T18:14:21.607Z"
   },
   {
    "duration": 306,
    "start_time": "2021-07-25T18:14:21.635Z"
   },
   {
    "duration": 12,
    "start_time": "2021-07-25T18:14:21.943Z"
   },
   {
    "duration": 30,
    "start_time": "2021-07-25T18:14:21.957Z"
   },
   {
    "duration": 14,
    "start_time": "2021-07-25T18:14:21.989Z"
   },
   {
    "duration": 7,
    "start_time": "2021-07-25T18:14:22.005Z"
   },
   {
    "duration": 20,
    "start_time": "2021-07-25T18:14:22.014Z"
   },
   {
    "duration": 23,
    "start_time": "2021-07-25T18:14:22.036Z"
   },
   {
    "duration": 547,
    "start_time": "2021-07-25T18:14:22.061Z"
   },
   {
    "duration": 311,
    "start_time": "2021-07-25T18:15:13.127Z"
   },
   {
    "duration": 1446,
    "start_time": "2021-07-25T18:15:23.822Z"
   },
   {
    "duration": 80,
    "start_time": "2021-07-25T18:15:25.271Z"
   },
   {
    "duration": 14,
    "start_time": "2021-07-25T18:15:25.354Z"
   },
   {
    "duration": 4830,
    "start_time": "2021-07-25T18:15:25.386Z"
   },
   {
    "duration": 94,
    "start_time": "2021-07-25T18:15:30.219Z"
   },
   {
    "duration": 18,
    "start_time": "2021-07-25T18:15:30.316Z"
   },
   {
    "duration": 52,
    "start_time": "2021-07-25T18:15:30.337Z"
   },
   {
    "duration": 313,
    "start_time": "2021-07-25T18:15:30.392Z"
   },
   {
    "duration": 12,
    "start_time": "2021-07-25T18:15:30.708Z"
   },
   {
    "duration": 16,
    "start_time": "2021-07-25T18:15:30.722Z"
   },
   {
    "duration": 15,
    "start_time": "2021-07-25T18:15:30.741Z"
   },
   {
    "duration": 37,
    "start_time": "2021-07-25T18:15:30.759Z"
   },
   {
    "duration": 22,
    "start_time": "2021-07-25T18:15:30.799Z"
   },
   {
    "duration": 35,
    "start_time": "2021-07-25T18:15:30.824Z"
   },
   {
    "duration": 595,
    "start_time": "2021-07-25T18:15:33.398Z"
   },
   {
    "duration": 21,
    "start_time": "2021-07-25T18:15:48.821Z"
   },
   {
    "duration": 17,
    "start_time": "2021-07-25T18:15:50.700Z"
   },
   {
    "duration": 20,
    "start_time": "2021-07-25T18:16:05.473Z"
   },
   {
    "duration": 17,
    "start_time": "2021-07-25T18:16:05.818Z"
   },
   {
    "duration": 18,
    "start_time": "2021-07-25T18:16:21.179Z"
   },
   {
    "duration": 17,
    "start_time": "2021-07-25T18:16:21.521Z"
   },
   {
    "duration": 21,
    "start_time": "2021-07-25T18:16:29.078Z"
   },
   {
    "duration": 17,
    "start_time": "2021-07-25T18:16:29.395Z"
   },
   {
    "duration": 1520,
    "start_time": "2021-07-25T18:16:52.351Z"
   },
   {
    "duration": 81,
    "start_time": "2021-07-25T18:16:53.874Z"
   },
   {
    "duration": 15,
    "start_time": "2021-07-25T18:16:53.958Z"
   },
   {
    "duration": 5038,
    "start_time": "2021-07-25T18:16:53.986Z"
   },
   {
    "duration": 89,
    "start_time": "2021-07-25T18:16:59.026Z"
   },
   {
    "duration": 15,
    "start_time": "2021-07-25T18:16:59.117Z"
   },
   {
    "duration": 22,
    "start_time": "2021-07-25T18:16:59.134Z"
   },
   {
    "duration": 326,
    "start_time": "2021-07-25T18:16:59.159Z"
   },
   {
    "duration": 11,
    "start_time": "2021-07-25T18:16:59.488Z"
   },
   {
    "duration": 8,
    "start_time": "2021-07-25T18:16:59.502Z"
   },
   {
    "duration": 19,
    "start_time": "2021-07-25T18:16:59.512Z"
   },
   {
    "duration": 8,
    "start_time": "2021-07-25T18:16:59.534Z"
   },
   {
    "duration": 43,
    "start_time": "2021-07-25T18:16:59.544Z"
   },
   {
    "duration": 20,
    "start_time": "2021-07-25T18:16:59.589Z"
   },
   {
    "duration": 19,
    "start_time": "2021-07-25T18:17:03.017Z"
   },
   {
    "duration": 17,
    "start_time": "2021-07-25T18:17:07.472Z"
   },
   {
    "duration": 457,
    "start_time": "2021-07-25T18:17:15.305Z"
   },
   {
    "duration": 17,
    "start_time": "2021-07-25T18:17:18.472Z"
   },
   {
    "duration": 8,
    "start_time": "2021-07-25T18:17:41.274Z"
   },
   {
    "duration": 17,
    "start_time": "2021-07-25T18:17:55.345Z"
   },
   {
    "duration": 1497,
    "start_time": "2021-07-25T18:18:09.672Z"
   },
   {
    "duration": 79,
    "start_time": "2021-07-25T18:18:11.172Z"
   },
   {
    "duration": 15,
    "start_time": "2021-07-25T18:18:11.254Z"
   },
   {
    "duration": 4803,
    "start_time": "2021-07-25T18:18:11.286Z"
   },
   {
    "duration": 66,
    "start_time": "2021-07-25T18:18:16.091Z"
   },
   {
    "duration": 35,
    "start_time": "2021-07-25T18:18:16.160Z"
   },
   {
    "duration": 36,
    "start_time": "2021-07-25T18:18:16.198Z"
   },
   {
    "duration": 313,
    "start_time": "2021-07-25T18:18:16.238Z"
   },
   {
    "duration": 11,
    "start_time": "2021-07-25T18:18:16.554Z"
   },
   {
    "duration": 27,
    "start_time": "2021-07-25T18:18:16.567Z"
   },
   {
    "duration": 22,
    "start_time": "2021-07-25T18:18:16.597Z"
   },
   {
    "duration": 13,
    "start_time": "2021-07-25T18:18:16.621Z"
   },
   {
    "duration": 24,
    "start_time": "2021-07-25T18:18:16.636Z"
   },
   {
    "duration": 25,
    "start_time": "2021-07-25T18:18:16.662Z"
   },
   {
    "duration": 447,
    "start_time": "2021-07-25T18:18:19.841Z"
   },
   {
    "duration": 21,
    "start_time": "2021-07-25T18:18:30.324Z"
   },
   {
    "duration": 16,
    "start_time": "2021-07-25T18:18:31.205Z"
   },
   {
    "duration": 12,
    "start_time": "2021-07-25T18:19:00.107Z"
   },
   {
    "duration": 12,
    "start_time": "2021-07-25T18:19:01.151Z"
   },
   {
    "duration": 473,
    "start_time": "2021-07-25T18:19:03.941Z"
   },
   {
    "duration": 31,
    "start_time": "2021-07-25T18:19:06.736Z"
   },
   {
    "duration": 301,
    "start_time": "2021-07-25T18:19:09.703Z"
   },
   {
    "duration": 705,
    "start_time": "2021-07-25T18:20:10.328Z"
   },
   {
    "duration": 665,
    "start_time": "2021-07-25T18:20:30.094Z"
   },
   {
    "duration": 775,
    "start_time": "2021-07-25T18:21:10.105Z"
   },
   {
    "duration": 9,
    "start_time": "2021-07-25T18:22:19.765Z"
   },
   {
    "duration": 10,
    "start_time": "2021-07-25T18:22:44.167Z"
   },
   {
    "duration": 7,
    "start_time": "2021-07-25T18:23:12.642Z"
   },
   {
    "duration": 8,
    "start_time": "2021-07-25T18:23:20.553Z"
   },
   {
    "duration": 565,
    "start_time": "2021-07-25T18:23:37.613Z"
   },
   {
    "duration": 2521,
    "start_time": "2021-07-25T18:24:55.396Z"
   },
   {
    "duration": 12,
    "start_time": "2021-07-25T18:31:28.042Z"
   },
   {
    "duration": 7,
    "start_time": "2021-07-25T18:31:43.026Z"
   },
   {
    "duration": 304,
    "start_time": "2021-07-25T18:31:56.223Z"
   },
   {
    "duration": 12,
    "start_time": "2021-07-25T18:32:00.566Z"
   },
   {
    "duration": 85,
    "start_time": "2021-07-25T18:42:11.753Z"
   },
   {
    "duration": 13,
    "start_time": "2021-07-25T18:42:19.631Z"
   },
   {
    "duration": 90,
    "start_time": "2021-07-25T18:42:29.554Z"
   },
   {
    "duration": 306,
    "start_time": "2021-07-25T18:42:42.332Z"
   },
   {
    "duration": 1463,
    "start_time": "2021-07-25T18:44:16.412Z"
   },
   {
    "duration": 83,
    "start_time": "2021-07-25T18:44:17.878Z"
   },
   {
    "duration": 27,
    "start_time": "2021-07-25T18:44:17.964Z"
   },
   {
    "duration": 4860,
    "start_time": "2021-07-25T18:44:17.998Z"
   },
   {
    "duration": 86,
    "start_time": "2021-07-25T18:44:22.861Z"
   },
   {
    "duration": 13,
    "start_time": "2021-07-25T18:44:22.949Z"
   },
   {
    "duration": 25,
    "start_time": "2021-07-25T18:44:22.994Z"
   },
   {
    "duration": 343,
    "start_time": "2021-07-25T18:44:23.023Z"
   },
   {
    "duration": 22,
    "start_time": "2021-07-25T18:44:23.369Z"
   },
   {
    "duration": 8,
    "start_time": "2021-07-25T18:44:23.395Z"
   },
   {
    "duration": 12,
    "start_time": "2021-07-25T18:44:23.406Z"
   },
   {
    "duration": 6,
    "start_time": "2021-07-25T18:44:23.420Z"
   },
   {
    "duration": 19,
    "start_time": "2021-07-25T18:44:23.429Z"
   },
   {
    "duration": 60,
    "start_time": "2021-07-25T18:44:23.450Z"
   },
   {
    "duration": 13,
    "start_time": "2021-07-25T18:44:23.513Z"
   },
   {
    "duration": 14,
    "start_time": "2021-07-25T18:44:23.528Z"
   },
   {
    "duration": 520,
    "start_time": "2021-07-25T18:44:23.545Z"
   },
   {
    "duration": 41,
    "start_time": "2021-07-25T18:44:24.068Z"
   },
   {
    "duration": 328,
    "start_time": "2021-07-25T18:44:24.115Z"
   },
   {
    "duration": 646,
    "start_time": "2021-07-25T18:44:24.446Z"
   },
   {
    "duration": 94,
    "start_time": "2021-07-25T18:44:25.095Z"
   },
   {
    "duration": 501,
    "start_time": "2021-07-25T18:44:35.660Z"
   },
   {
    "duration": 12,
    "start_time": "2021-07-25T18:44:43.798Z"
   },
   {
    "duration": 1518,
    "start_time": "2021-07-25T18:51:24.563Z"
   },
   {
    "duration": 79,
    "start_time": "2021-07-25T18:51:26.086Z"
   },
   {
    "duration": 21,
    "start_time": "2021-07-25T18:51:26.168Z"
   },
   {
    "duration": 5016,
    "start_time": "2021-07-25T18:51:26.192Z"
   },
   {
    "duration": 101,
    "start_time": "2021-07-25T18:51:31.211Z"
   },
   {
    "duration": 16,
    "start_time": "2021-07-25T18:51:31.315Z"
   },
   {
    "duration": 33,
    "start_time": "2021-07-25T18:51:31.334Z"
   },
   {
    "duration": 328,
    "start_time": "2021-07-25T18:51:31.389Z"
   },
   {
    "duration": 10,
    "start_time": "2021-07-25T18:51:31.720Z"
   },
   {
    "duration": 11,
    "start_time": "2021-07-25T18:51:31.733Z"
   },
   {
    "duration": 18,
    "start_time": "2021-07-25T18:51:31.746Z"
   },
   {
    "duration": 13,
    "start_time": "2021-07-25T18:51:31.786Z"
   },
   {
    "duration": 22,
    "start_time": "2021-07-25T18:51:31.802Z"
   },
   {
    "duration": 30,
    "start_time": "2021-07-25T18:51:31.827Z"
   },
   {
    "duration": 37,
    "start_time": "2021-07-25T18:51:31.861Z"
   },
   {
    "duration": 27,
    "start_time": "2021-07-25T18:51:31.902Z"
   },
   {
    "duration": 507,
    "start_time": "2021-07-25T18:51:31.931Z"
   },
   {
    "duration": 28,
    "start_time": "2021-07-25T18:51:32.441Z"
   },
   {
    "duration": 507,
    "start_time": "2021-07-25T18:51:32.486Z"
   },
   {
    "duration": 641,
    "start_time": "2021-07-25T18:51:32.996Z"
   },
   {
    "duration": 93,
    "start_time": "2021-07-25T18:51:33.639Z"
   },
   {
    "duration": 11,
    "start_time": "2021-07-25T18:51:33.735Z"
   },
   {
    "duration": 39,
    "start_time": "2021-07-25T18:51:33.748Z"
   },
   {
    "duration": 125,
    "start_time": "2021-07-25T18:51:33.791Z"
   },
   {
    "duration": 35,
    "start_time": "2021-07-25T18:51:33.920Z"
   },
   {
    "duration": 81,
    "start_time": "2021-07-25T18:51:33.963Z"
   },
   {
    "duration": 990,
    "start_time": "2021-07-25T18:51:34.047Z"
   },
   {
    "duration": 5,
    "start_time": "2021-07-25T18:51:35.040Z"
   },
   {
    "duration": 3869,
    "start_time": "2021-07-25T18:51:35.048Z"
   },
   {
    "duration": 8,
    "start_time": "2021-07-25T18:51:38.921Z"
   },
   {
    "duration": 5,
    "start_time": "2021-07-25T18:51:38.932Z"
   },
   {
    "duration": 18,
    "start_time": "2021-07-25T18:51:46.619Z"
   },
   {
    "duration": 14,
    "start_time": "2021-07-25T18:54:09.483Z"
   },
   {
    "duration": 27,
    "start_time": "2021-07-25T18:54:12.006Z"
   },
   {
    "duration": 483,
    "start_time": "2021-07-25T18:54:32.982Z"
   },
   {
    "duration": 18,
    "start_time": "2021-07-25T18:54:33.692Z"
   },
   {
    "duration": 1628,
    "start_time": "2021-07-25T18:54:42.947Z"
   },
   {
    "duration": 83,
    "start_time": "2021-07-25T18:54:44.579Z"
   },
   {
    "duration": 22,
    "start_time": "2021-07-25T18:54:44.664Z"
   },
   {
    "duration": 4882,
    "start_time": "2021-07-25T18:54:44.690Z"
   },
   {
    "duration": 80,
    "start_time": "2021-07-25T18:54:49.576Z"
   },
   {
    "duration": 45,
    "start_time": "2021-07-25T18:54:49.659Z"
   },
   {
    "duration": 22,
    "start_time": "2021-07-25T18:54:49.710Z"
   },
   {
    "duration": 324,
    "start_time": "2021-07-25T18:54:49.736Z"
   },
   {
    "duration": 29,
    "start_time": "2021-07-25T18:54:50.063Z"
   },
   {
    "duration": 9,
    "start_time": "2021-07-25T18:54:50.096Z"
   },
   {
    "duration": 16,
    "start_time": "2021-07-25T18:54:50.108Z"
   },
   {
    "duration": 20,
    "start_time": "2021-07-25T18:54:50.126Z"
   },
   {
    "duration": 16,
    "start_time": "2021-07-25T18:54:50.149Z"
   },
   {
    "duration": 42,
    "start_time": "2021-07-25T18:54:50.167Z"
   },
   {
    "duration": 12,
    "start_time": "2021-07-25T18:54:50.211Z"
   },
   {
    "duration": 22,
    "start_time": "2021-07-25T18:54:50.226Z"
   },
   {
    "duration": 515,
    "start_time": "2021-07-25T18:54:50.251Z"
   },
   {
    "duration": 37,
    "start_time": "2021-07-25T18:54:50.769Z"
   },
   {
    "duration": 504,
    "start_time": "2021-07-25T18:54:50.809Z"
   },
   {
    "duration": 626,
    "start_time": "2021-07-25T18:54:51.316Z"
   },
   {
    "duration": 92,
    "start_time": "2021-07-25T18:54:51.945Z"
   },
   {
    "duration": 11,
    "start_time": "2021-07-25T18:54:52.039Z"
   },
   {
    "duration": 46,
    "start_time": "2021-07-25T18:54:52.052Z"
   },
   {
    "duration": 105,
    "start_time": "2021-07-25T18:54:52.101Z"
   },
   {
    "duration": 23,
    "start_time": "2021-07-25T18:54:52.211Z"
   },
   {
    "duration": 77,
    "start_time": "2021-07-25T18:54:52.237Z"
   },
   {
    "duration": 944,
    "start_time": "2021-07-25T18:54:52.317Z"
   },
   {
    "duration": 4,
    "start_time": "2021-07-25T18:54:53.264Z"
   },
   {
    "duration": 3865,
    "start_time": "2021-07-25T18:54:53.290Z"
   },
   {
    "duration": 9,
    "start_time": "2021-07-25T18:54:57.158Z"
   },
   {
    "duration": 20,
    "start_time": "2021-07-25T18:54:57.170Z"
   },
   {
    "duration": 29,
    "start_time": "2021-07-25T18:54:57.193Z"
   },
   {
    "duration": 32,
    "start_time": "2021-07-25T18:54:57.225Z"
   },
   {
    "duration": 1471,
    "start_time": "2021-07-25T18:58:43.509Z"
   },
   {
    "duration": 85,
    "start_time": "2021-07-25T18:58:44.983Z"
   },
   {
    "duration": 26,
    "start_time": "2021-07-25T18:58:45.072Z"
   },
   {
    "duration": 4770,
    "start_time": "2021-07-25T18:58:45.101Z"
   },
   {
    "duration": 83,
    "start_time": "2021-07-25T18:58:49.874Z"
   },
   {
    "duration": 31,
    "start_time": "2021-07-25T18:58:49.960Z"
   },
   {
    "duration": 26,
    "start_time": "2021-07-25T18:58:49.994Z"
   },
   {
    "duration": 324,
    "start_time": "2021-07-25T18:58:50.024Z"
   },
   {
    "duration": 11,
    "start_time": "2021-07-25T18:58:50.352Z"
   },
   {
    "duration": 23,
    "start_time": "2021-07-25T18:58:50.366Z"
   },
   {
    "duration": 13,
    "start_time": "2021-07-25T18:58:50.391Z"
   },
   {
    "duration": 7,
    "start_time": "2021-07-25T18:58:50.406Z"
   },
   {
    "duration": 11,
    "start_time": "2021-07-25T18:58:50.415Z"
   },
   {
    "duration": 59,
    "start_time": "2021-07-25T18:58:50.428Z"
   },
   {
    "duration": 12,
    "start_time": "2021-07-25T18:58:50.490Z"
   },
   {
    "duration": 14,
    "start_time": "2021-07-25T18:58:50.505Z"
   },
   {
    "duration": 506,
    "start_time": "2021-07-25T18:58:50.523Z"
   },
   {
    "duration": 30,
    "start_time": "2021-07-25T18:58:51.031Z"
   },
   {
    "duration": 490,
    "start_time": "2021-07-25T18:58:51.064Z"
   },
   {
    "duration": 572,
    "start_time": "2021-07-25T18:58:51.556Z"
   },
   {
    "duration": 83,
    "start_time": "2021-07-25T18:58:52.131Z"
   },
   {
    "duration": 11,
    "start_time": "2021-07-25T18:58:52.217Z"
   },
   {
    "duration": 20,
    "start_time": "2021-07-25T18:58:52.233Z"
   },
   {
    "duration": 115,
    "start_time": "2021-07-25T18:58:52.256Z"
   },
   {
    "duration": 24,
    "start_time": "2021-07-25T18:58:52.386Z"
   },
   {
    "duration": 43,
    "start_time": "2021-07-25T18:58:52.413Z"
   },
   {
    "duration": 947,
    "start_time": "2021-07-25T18:58:52.459Z"
   },
   {
    "duration": 5,
    "start_time": "2021-07-25T18:58:53.409Z"
   },
   {
    "duration": 3703,
    "start_time": "2021-07-25T18:58:53.417Z"
   },
   {
    "duration": 8,
    "start_time": "2021-07-25T18:58:57.122Z"
   },
   {
    "duration": 5,
    "start_time": "2021-07-25T18:58:57.133Z"
   },
   {
    "duration": 46,
    "start_time": "2021-07-25T18:58:57.141Z"
   },
   {
    "duration": 4,
    "start_time": "2021-07-25T19:03:11.908Z"
   },
   {
    "duration": 11,
    "start_time": "2021-07-25T19:04:23.255Z"
   },
   {
    "duration": 18,
    "start_time": "2021-07-25T19:04:28.369Z"
   },
   {
    "duration": 10,
    "start_time": "2021-07-25T19:04:41.795Z"
   },
   {
    "duration": 20,
    "start_time": "2021-07-25T19:05:05.843Z"
   },
   {
    "duration": 12,
    "start_time": "2021-07-25T19:05:19.426Z"
   },
   {
    "duration": 23,
    "start_time": "2021-07-25T19:05:23.281Z"
   },
   {
    "duration": 12,
    "start_time": "2021-07-25T19:08:27.320Z"
   },
   {
    "duration": 456,
    "start_time": "2021-07-25T19:08:34.267Z"
   },
   {
    "duration": 20,
    "start_time": "2021-07-25T19:08:38.831Z"
   },
   {
    "duration": 10,
    "start_time": "2021-07-25T19:08:58.739Z"
   },
   {
    "duration": 10,
    "start_time": "2021-07-25T19:09:03.891Z"
   },
   {
    "duration": 6,
    "start_time": "2021-07-25T19:09:08.506Z"
   },
   {
    "duration": 19,
    "start_time": "2021-07-25T19:10:34.690Z"
   },
   {
    "duration": 17,
    "start_time": "2021-07-25T19:11:11.342Z"
   },
   {
    "duration": 16,
    "start_time": "2021-07-25T19:11:11.697Z"
   },
   {
    "duration": 22,
    "start_time": "2021-07-25T19:11:29.868Z"
   },
   {
    "duration": 38,
    "start_time": "2021-07-25T19:11:31.793Z"
   },
   {
    "duration": 7546,
    "start_time": "2021-07-25T19:13:25.946Z"
   },
   {
    "duration": 1460,
    "start_time": "2021-07-25T19:13:59.395Z"
   },
   {
    "duration": 82,
    "start_time": "2021-07-25T19:14:00.858Z"
   },
   {
    "duration": 15,
    "start_time": "2021-07-25T19:14:00.943Z"
   },
   {
    "duration": 4649,
    "start_time": "2021-07-25T19:14:00.961Z"
   },
   {
    "duration": 87,
    "start_time": "2021-07-25T19:14:05.613Z"
   },
   {
    "duration": 15,
    "start_time": "2021-07-25T19:14:05.703Z"
   },
   {
    "duration": 33,
    "start_time": "2021-07-25T19:14:05.722Z"
   },
   {
    "duration": 304,
    "start_time": "2021-07-25T19:14:05.759Z"
   },
   {
    "duration": 24,
    "start_time": "2021-07-25T19:14:06.066Z"
   },
   {
    "duration": 7,
    "start_time": "2021-07-25T19:14:06.092Z"
   },
   {
    "duration": 26,
    "start_time": "2021-07-25T19:14:06.101Z"
   },
   {
    "duration": 11,
    "start_time": "2021-07-25T19:14:06.129Z"
   },
   {
    "duration": 21,
    "start_time": "2021-07-25T19:14:06.142Z"
   },
   {
    "duration": 29,
    "start_time": "2021-07-25T19:14:06.166Z"
   },
   {
    "duration": 20,
    "start_time": "2021-07-25T19:14:06.198Z"
   },
   {
    "duration": 12,
    "start_time": "2021-07-25T19:14:06.220Z"
   },
   {
    "duration": 467,
    "start_time": "2021-07-25T19:14:06.235Z"
   },
   {
    "duration": 31,
    "start_time": "2021-07-25T19:14:06.704Z"
   },
   {
    "duration": 480,
    "start_time": "2021-07-25T19:14:06.737Z"
   },
   {
    "duration": 586,
    "start_time": "2021-07-25T19:14:07.219Z"
   },
   {
    "duration": 84,
    "start_time": "2021-07-25T19:14:07.807Z"
   },
   {
    "duration": 10,
    "start_time": "2021-07-25T19:14:07.894Z"
   },
   {
    "duration": 20,
    "start_time": "2021-07-25T19:14:07.907Z"
   },
   {
    "duration": 123,
    "start_time": "2021-07-25T19:14:07.929Z"
   },
   {
    "duration": 35,
    "start_time": "2021-07-25T19:14:08.058Z"
   },
   {
    "duration": 45,
    "start_time": "2021-07-25T19:14:08.096Z"
   },
   {
    "duration": 1043,
    "start_time": "2021-07-25T19:14:08.144Z"
   },
   {
    "duration": 5,
    "start_time": "2021-07-25T19:14:09.190Z"
   },
   {
    "duration": 3599,
    "start_time": "2021-07-25T19:14:09.198Z"
   },
   {
    "duration": 7,
    "start_time": "2021-07-25T19:14:12.800Z"
   },
   {
    "duration": 13,
    "start_time": "2021-07-25T19:14:12.809Z"
   },
   {
    "duration": 34,
    "start_time": "2021-07-25T19:14:12.824Z"
   },
   {
    "duration": 25,
    "start_time": "2021-07-25T19:14:12.860Z"
   },
   {
    "duration": 12,
    "start_time": "2021-07-25T19:14:12.888Z"
   },
   {
    "duration": 14,
    "start_time": "2021-07-25T19:14:12.902Z"
   },
   {
    "duration": 29,
    "start_time": "2021-07-25T19:14:12.918Z"
   },
   {
    "duration": 42,
    "start_time": "2021-07-25T19:14:12.950Z"
   },
   {
    "duration": 38,
    "start_time": "2021-07-25T19:14:12.995Z"
   },
   {
    "duration": 80,
    "start_time": "2021-07-25T19:14:13.037Z"
   },
   {
    "duration": 33,
    "start_time": "2021-07-25T19:24:01.932Z"
   },
   {
    "duration": 40,
    "start_time": "2021-07-25T19:28:53.842Z"
   },
   {
    "duration": 43,
    "start_time": "2021-07-25T19:28:59.772Z"
   },
   {
    "duration": 43,
    "start_time": "2021-07-25T19:35:39.364Z"
   },
   {
    "duration": 49,
    "start_time": "2021-07-25T19:35:43.066Z"
   },
   {
    "duration": 1438,
    "start_time": "2021-07-25T19:57:53.048Z"
   },
   {
    "duration": 81,
    "start_time": "2021-07-25T19:57:54.489Z"
   },
   {
    "duration": 27,
    "start_time": "2021-07-25T19:57:54.574Z"
   },
   {
    "duration": 4988,
    "start_time": "2021-07-25T19:57:54.605Z"
   },
   {
    "duration": 67,
    "start_time": "2021-07-25T19:57:59.596Z"
   },
   {
    "duration": 30,
    "start_time": "2021-07-25T19:57:59.665Z"
   },
   {
    "duration": 17,
    "start_time": "2021-07-25T19:57:59.698Z"
   },
   {
    "duration": 295,
    "start_time": "2021-07-25T19:57:59.719Z"
   },
   {
    "duration": 11,
    "start_time": "2021-07-25T19:58:00.017Z"
   },
   {
    "duration": 11,
    "start_time": "2021-07-25T19:58:00.030Z"
   },
   {
    "duration": 30,
    "start_time": "2021-07-25T19:58:00.043Z"
   },
   {
    "duration": 17,
    "start_time": "2021-07-25T19:58:00.076Z"
   },
   {
    "duration": 30,
    "start_time": "2021-07-25T19:58:00.095Z"
   },
   {
    "duration": 38,
    "start_time": "2021-07-25T19:58:00.127Z"
   },
   {
    "duration": 25,
    "start_time": "2021-07-25T19:58:00.167Z"
   },
   {
    "duration": 28,
    "start_time": "2021-07-25T19:58:00.194Z"
   },
   {
    "duration": 453,
    "start_time": "2021-07-25T19:58:00.224Z"
   },
   {
    "duration": 35,
    "start_time": "2021-07-25T19:58:00.680Z"
   },
   {
    "duration": 577,
    "start_time": "2021-07-25T19:58:00.718Z"
   },
   {
    "duration": 578,
    "start_time": "2021-07-25T19:58:01.297Z"
   },
   {
    "duration": 79,
    "start_time": "2021-07-25T19:58:01.877Z"
   },
   {
    "duration": 11,
    "start_time": "2021-07-25T19:58:01.958Z"
   },
   {
    "duration": 22,
    "start_time": "2021-07-25T19:58:01.987Z"
   },
   {
    "duration": 110,
    "start_time": "2021-07-25T19:58:02.012Z"
   },
   {
    "duration": 23,
    "start_time": "2021-07-25T19:58:02.125Z"
   },
   {
    "duration": 68,
    "start_time": "2021-07-25T19:58:02.150Z"
   },
   {
    "duration": 933,
    "start_time": "2021-07-25T19:58:02.221Z"
   },
   {
    "duration": 4,
    "start_time": "2021-07-25T19:58:03.157Z"
   },
   {
    "duration": 3752,
    "start_time": "2021-07-25T19:58:03.164Z"
   },
   {
    "duration": 7,
    "start_time": "2021-07-25T19:58:06.919Z"
   },
   {
    "duration": 5,
    "start_time": "2021-07-25T19:58:06.928Z"
   },
   {
    "duration": 22,
    "start_time": "2021-07-25T19:58:06.935Z"
   },
   {
    "duration": 12,
    "start_time": "2021-07-25T19:58:06.985Z"
   },
   {
    "duration": 13,
    "start_time": "2021-07-25T19:58:06.999Z"
   },
   {
    "duration": 11,
    "start_time": "2021-07-25T19:58:07.014Z"
   },
   {
    "duration": 20,
    "start_time": "2021-07-25T19:58:07.027Z"
   },
   {
    "duration": 55,
    "start_time": "2021-07-25T19:58:07.050Z"
   },
   {
    "duration": 37,
    "start_time": "2021-07-25T19:58:07.108Z"
   },
   {
    "duration": 79,
    "start_time": "2021-07-25T19:58:07.148Z"
   },
   {
    "duration": 30,
    "start_time": "2021-07-25T19:58:07.229Z"
   },
   {
    "duration": 7664,
    "start_time": "2021-07-25T19:58:07.262Z"
   },
   {
    "duration": 2085,
    "start_time": "2021-07-25T19:58:12.844Z"
   },
   {
    "duration": 1540,
    "start_time": "2021-07-25T21:13:43.048Z"
   },
   {
    "duration": 83,
    "start_time": "2021-07-25T21:13:44.591Z"
   },
   {
    "duration": 21,
    "start_time": "2021-07-25T21:13:44.677Z"
   },
   {
    "duration": 4862,
    "start_time": "2021-07-25T21:13:44.702Z"
   },
   {
    "duration": 77,
    "start_time": "2021-07-25T21:13:49.567Z"
   },
   {
    "duration": 14,
    "start_time": "2021-07-25T21:13:49.646Z"
   },
   {
    "duration": 42,
    "start_time": "2021-07-25T21:13:49.662Z"
   },
   {
    "duration": 303,
    "start_time": "2021-07-25T21:13:49.708Z"
   },
   {
    "duration": 11,
    "start_time": "2021-07-25T21:13:50.014Z"
   },
   {
    "duration": 7,
    "start_time": "2021-07-25T21:13:50.027Z"
   },
   {
    "duration": 13,
    "start_time": "2021-07-25T21:13:50.036Z"
   },
   {
    "duration": 40,
    "start_time": "2021-07-25T21:13:50.051Z"
   },
   {
    "duration": 13,
    "start_time": "2021-07-25T21:13:50.093Z"
   },
   {
    "duration": 23,
    "start_time": "2021-07-25T21:13:50.108Z"
   },
   {
    "duration": 11,
    "start_time": "2021-07-25T21:13:50.134Z"
   },
   {
    "duration": 45,
    "start_time": "2021-07-25T21:13:50.147Z"
   },
   {
    "duration": 480,
    "start_time": "2021-07-25T21:13:50.194Z"
   },
   {
    "duration": 35,
    "start_time": "2021-07-25T21:13:50.676Z"
   },
   {
    "duration": 488,
    "start_time": "2021-07-25T21:13:50.714Z"
   },
   {
    "duration": 588,
    "start_time": "2021-07-25T21:13:51.204Z"
   },
   {
    "duration": 91,
    "start_time": "2021-07-25T21:13:51.794Z"
   },
   {
    "duration": 12,
    "start_time": "2021-07-25T21:13:51.887Z"
   },
   {
    "duration": 26,
    "start_time": "2021-07-25T21:13:51.904Z"
   },
   {
    "duration": 111,
    "start_time": "2021-07-25T21:13:51.933Z"
   },
   {
    "duration": 23,
    "start_time": "2021-07-25T21:13:52.047Z"
   },
   {
    "duration": 48,
    "start_time": "2021-07-25T21:13:52.086Z"
   },
   {
    "duration": 948,
    "start_time": "2021-07-25T21:13:52.137Z"
   },
   {
    "duration": 4,
    "start_time": "2021-07-25T21:13:53.088Z"
   },
   {
    "duration": 3722,
    "start_time": "2021-07-25T21:13:53.095Z"
   },
   {
    "duration": 7,
    "start_time": "2021-07-25T21:13:56.820Z"
   },
   {
    "duration": 4,
    "start_time": "2021-07-25T21:13:56.829Z"
   },
   {
    "duration": 23,
    "start_time": "2021-07-25T21:13:56.835Z"
   },
   {
    "duration": 33,
    "start_time": "2021-07-25T21:13:56.861Z"
   },
   {
    "duration": 14,
    "start_time": "2021-07-25T21:13:56.897Z"
   },
   {
    "duration": 11,
    "start_time": "2021-07-25T21:13:56.913Z"
   },
   {
    "duration": 23,
    "start_time": "2021-07-25T21:13:56.927Z"
   },
   {
    "duration": 58,
    "start_time": "2021-07-25T21:13:56.953Z"
   },
   {
    "duration": 40,
    "start_time": "2021-07-25T21:13:57.015Z"
   },
   {
    "duration": 77,
    "start_time": "2021-07-25T21:13:57.058Z"
   },
   {
    "duration": 62,
    "start_time": "2021-07-25T21:13:57.138Z"
   },
   {
    "duration": 7485,
    "start_time": "2021-07-25T21:13:57.203Z"
   },
   {
    "duration": 2169,
    "start_time": "2021-07-25T21:14:02.522Z"
   },
   {
    "duration": 1522,
    "start_time": "2021-07-25T21:20:29.963Z"
   },
   {
    "duration": 85,
    "start_time": "2021-07-25T21:20:31.488Z"
   },
   {
    "duration": 16,
    "start_time": "2021-07-25T21:20:31.576Z"
   },
   {
    "duration": 4999,
    "start_time": "2021-07-25T21:20:31.595Z"
   },
   {
    "duration": 93,
    "start_time": "2021-07-25T21:20:36.596Z"
   },
   {
    "duration": 15,
    "start_time": "2021-07-25T21:20:36.692Z"
   },
   {
    "duration": 24,
    "start_time": "2021-07-25T21:20:36.709Z"
   },
   {
    "duration": 326,
    "start_time": "2021-07-25T21:20:36.736Z"
   },
   {
    "duration": 27,
    "start_time": "2021-07-25T21:20:37.066Z"
   },
   {
    "duration": 6,
    "start_time": "2021-07-25T21:20:37.095Z"
   },
   {
    "duration": 13,
    "start_time": "2021-07-25T21:20:37.103Z"
   },
   {
    "duration": 7,
    "start_time": "2021-07-25T21:20:37.118Z"
   },
   {
    "duration": 12,
    "start_time": "2021-07-25T21:20:37.128Z"
   },
   {
    "duration": 57,
    "start_time": "2021-07-25T21:20:37.142Z"
   },
   {
    "duration": 13,
    "start_time": "2021-07-25T21:20:37.201Z"
   },
   {
    "duration": 11,
    "start_time": "2021-07-25T21:20:37.216Z"
   },
   {
    "duration": 601,
    "start_time": "2021-07-25T21:20:37.230Z"
   },
   {
    "duration": 30,
    "start_time": "2021-07-25T21:20:37.833Z"
   },
   {
    "duration": 532,
    "start_time": "2021-07-25T21:20:37.866Z"
   },
   {
    "duration": 601,
    "start_time": "2021-07-25T21:20:38.401Z"
   },
   {
    "duration": 90,
    "start_time": "2021-07-25T21:20:39.004Z"
   },
   {
    "duration": 12,
    "start_time": "2021-07-25T21:20:39.096Z"
   },
   {
    "duration": 25,
    "start_time": "2021-07-25T21:20:39.112Z"
   },
   {
    "duration": 106,
    "start_time": "2021-07-25T21:20:39.140Z"
   },
   {
    "duration": 40,
    "start_time": "2021-07-25T21:20:39.248Z"
   },
   {
    "duration": 46,
    "start_time": "2021-07-25T21:20:39.291Z"
   },
   {
    "duration": 1088,
    "start_time": "2021-07-25T21:20:39.340Z"
   },
   {
    "duration": 4,
    "start_time": "2021-07-25T21:20:40.431Z"
   },
   {
    "duration": 3530,
    "start_time": "2021-07-25T21:20:40.438Z"
   },
   {
    "duration": 16,
    "start_time": "2021-07-25T21:20:43.971Z"
   },
   {
    "duration": 4,
    "start_time": "2021-07-25T21:20:43.989Z"
   },
   {
    "duration": 21,
    "start_time": "2021-07-25T21:20:43.995Z"
   },
   {
    "duration": 15,
    "start_time": "2021-07-25T21:20:44.019Z"
   },
   {
    "duration": 49,
    "start_time": "2021-07-25T21:20:44.036Z"
   },
   {
    "duration": 19,
    "start_time": "2021-07-25T21:20:44.088Z"
   },
   {
    "duration": 30,
    "start_time": "2021-07-25T21:20:44.109Z"
   },
   {
    "duration": 69,
    "start_time": "2021-07-25T21:20:44.142Z"
   },
   {
    "duration": 51,
    "start_time": "2021-07-25T21:20:44.214Z"
   },
   {
    "duration": 33,
    "start_time": "2021-07-25T21:20:44.285Z"
   },
   {
    "duration": 9237,
    "start_time": "2021-07-25T21:20:44.320Z"
   },
   {
    "duration": 2156,
    "start_time": "2021-07-25T21:20:51.404Z"
   },
   {
    "duration": 31,
    "start_time": "2021-07-25T21:22:17.508Z"
   },
   {
    "duration": 12,
    "start_time": "2021-07-25T21:24:17.312Z"
   },
   {
    "duration": 22,
    "start_time": "2021-07-25T21:24:19.233Z"
   },
   {
    "duration": 39,
    "start_time": "2021-07-25T21:24:24.103Z"
   },
   {
    "duration": 11,
    "start_time": "2021-07-25T21:24:54.056Z"
   },
   {
    "duration": 18,
    "start_time": "2021-07-25T21:24:54.543Z"
   },
   {
    "duration": 49,
    "start_time": "2021-07-25T21:24:58.203Z"
   },
   {
    "duration": 34,
    "start_time": "2021-07-25T21:25:00.995Z"
   },
   {
    "duration": 41,
    "start_time": "2021-07-25T21:25:12.726Z"
   },
   {
    "duration": 1485,
    "start_time": "2021-07-25T21:25:23.902Z"
   },
   {
    "duration": 82,
    "start_time": "2021-07-25T21:25:25.393Z"
   },
   {
    "duration": 19,
    "start_time": "2021-07-25T21:25:25.478Z"
   },
   {
    "duration": 4846,
    "start_time": "2021-07-25T21:25:25.500Z"
   },
   {
    "duration": 88,
    "start_time": "2021-07-25T21:25:30.349Z"
   },
   {
    "duration": 17,
    "start_time": "2021-07-25T21:25:30.440Z"
   },
   {
    "duration": 45,
    "start_time": "2021-07-25T21:25:30.461Z"
   },
   {
    "duration": 320,
    "start_time": "2021-07-25T21:25:30.509Z"
   },
   {
    "duration": 12,
    "start_time": "2021-07-25T21:25:30.831Z"
   },
   {
    "duration": 19,
    "start_time": "2021-07-25T21:25:30.846Z"
   },
   {
    "duration": 30,
    "start_time": "2021-07-25T21:25:30.869Z"
   },
   {
    "duration": 23,
    "start_time": "2021-07-25T21:25:30.902Z"
   },
   {
    "duration": 24,
    "start_time": "2021-07-25T21:25:30.928Z"
   },
   {
    "duration": 30,
    "start_time": "2021-07-25T21:25:30.955Z"
   },
   {
    "duration": 14,
    "start_time": "2021-07-25T21:25:30.987Z"
   },
   {
    "duration": 29,
    "start_time": "2021-07-25T21:25:31.003Z"
   },
   {
    "duration": 477,
    "start_time": "2021-07-25T21:25:31.034Z"
   },
   {
    "duration": 30,
    "start_time": "2021-07-25T21:25:31.513Z"
   },
   {
    "duration": 505,
    "start_time": "2021-07-25T21:25:31.545Z"
   },
   {
    "duration": 622,
    "start_time": "2021-07-25T21:25:32.054Z"
   },
   {
    "duration": 75,
    "start_time": "2021-07-25T21:25:32.686Z"
   },
   {
    "duration": 24,
    "start_time": "2021-07-25T21:25:32.766Z"
   },
   {
    "duration": 21,
    "start_time": "2021-07-25T21:25:32.792Z"
   },
   {
    "duration": 115,
    "start_time": "2021-07-25T21:25:32.816Z"
   },
   {
    "duration": 23,
    "start_time": "2021-07-25T21:25:32.933Z"
   },
   {
    "duration": 66,
    "start_time": "2021-07-25T21:25:32.958Z"
   },
   {
    "duration": 990,
    "start_time": "2021-07-25T21:25:33.026Z"
   },
   {
    "duration": 6,
    "start_time": "2021-07-25T21:25:34.020Z"
   },
   {
    "duration": 3573,
    "start_time": "2021-07-25T21:25:34.028Z"
   },
   {
    "duration": 8,
    "start_time": "2021-07-25T21:25:37.604Z"
   },
   {
    "duration": 11,
    "start_time": "2021-07-25T21:25:37.614Z"
   },
   {
    "duration": 22,
    "start_time": "2021-07-25T21:25:37.628Z"
   },
   {
    "duration": 36,
    "start_time": "2021-07-25T21:25:37.652Z"
   },
   {
    "duration": 11,
    "start_time": "2021-07-25T21:25:37.691Z"
   },
   {
    "duration": 25,
    "start_time": "2021-07-25T21:25:37.704Z"
   },
   {
    "duration": 30,
    "start_time": "2021-07-25T21:25:37.731Z"
   },
   {
    "duration": 38,
    "start_time": "2021-07-25T21:25:37.786Z"
   },
   {
    "duration": 75,
    "start_time": "2021-07-25T21:25:37.826Z"
   },
   {
    "duration": 33,
    "start_time": "2021-07-25T21:25:37.904Z"
   },
   {
    "duration": 64,
    "start_time": "2021-07-25T21:25:37.940Z"
   },
   {
    "duration": 1786,
    "start_time": "2021-07-26T08:41:03.810Z"
   },
   {
    "duration": 80,
    "start_time": "2021-07-26T08:41:05.598Z"
   },
   {
    "duration": 14,
    "start_time": "2021-07-26T08:41:05.681Z"
   },
   {
    "duration": 5177,
    "start_time": "2021-07-26T08:41:05.698Z"
   },
   {
    "duration": 68,
    "start_time": "2021-07-26T08:41:10.878Z"
   },
   {
    "duration": 42,
    "start_time": "2021-07-26T08:41:10.949Z"
   },
   {
    "duration": 24,
    "start_time": "2021-07-26T08:41:10.993Z"
   },
   {
    "duration": 330,
    "start_time": "2021-07-26T08:41:11.020Z"
   },
   {
    "duration": 11,
    "start_time": "2021-07-26T08:41:11.354Z"
   },
   {
    "duration": 8,
    "start_time": "2021-07-26T08:41:11.383Z"
   },
   {
    "duration": 22,
    "start_time": "2021-07-26T08:41:11.393Z"
   },
   {
    "duration": 10,
    "start_time": "2021-07-26T08:41:11.418Z"
   },
   {
    "duration": 12,
    "start_time": "2021-07-26T08:41:11.430Z"
   },
   {
    "duration": 53,
    "start_time": "2021-07-26T08:41:11.445Z"
   },
   {
    "duration": 12,
    "start_time": "2021-07-26T08:41:11.501Z"
   },
   {
    "duration": 15,
    "start_time": "2021-07-26T08:41:11.515Z"
   },
   {
    "duration": 534,
    "start_time": "2021-07-26T08:41:11.533Z"
   },
   {
    "duration": 39,
    "start_time": "2021-07-26T08:41:12.070Z"
   },
   {
    "duration": 504,
    "start_time": "2021-07-26T08:41:12.111Z"
   },
   {
    "duration": 621,
    "start_time": "2021-07-26T08:41:12.618Z"
   },
   {
    "duration": 86,
    "start_time": "2021-07-26T08:41:13.241Z"
   },
   {
    "duration": 11,
    "start_time": "2021-07-26T08:41:13.329Z"
   },
   {
    "duration": 21,
    "start_time": "2021-07-26T08:41:13.343Z"
   },
   {
    "duration": 98,
    "start_time": "2021-07-26T08:41:13.384Z"
   },
   {
    "duration": 24,
    "start_time": "2021-07-26T08:41:13.485Z"
   },
   {
    "duration": 72,
    "start_time": "2021-07-26T08:41:13.511Z"
   },
   {
    "duration": 920,
    "start_time": "2021-07-26T08:41:13.588Z"
   },
   {
    "duration": 5,
    "start_time": "2021-07-26T08:41:14.512Z"
   },
   {
    "duration": 3941,
    "start_time": "2021-07-26T08:41:14.520Z"
   },
   {
    "duration": 20,
    "start_time": "2021-07-26T08:41:18.464Z"
   },
   {
    "duration": 3,
    "start_time": "2021-07-26T08:41:18.486Z"
   },
   {
    "duration": 26,
    "start_time": "2021-07-26T08:41:18.492Z"
   },
   {
    "duration": 13,
    "start_time": "2021-07-26T08:41:18.520Z"
   },
   {
    "duration": 11,
    "start_time": "2021-07-26T08:41:18.535Z"
   },
   {
    "duration": 49,
    "start_time": "2021-07-26T08:41:18.548Z"
   },
   {
    "duration": 29,
    "start_time": "2021-07-26T08:41:18.600Z"
   },
   {
    "duration": 74,
    "start_time": "2021-07-26T08:41:18.632Z"
   },
   {
    "duration": 49,
    "start_time": "2021-07-26T08:41:18.708Z"
   },
   {
    "duration": 52,
    "start_time": "2021-07-26T08:41:18.760Z"
   },
   {
    "duration": 41,
    "start_time": "2021-07-26T08:41:18.815Z"
   },
   {
    "duration": 2043,
    "start_time": "2021-07-26T08:44:04.118Z"
   },
   {
    "duration": 116,
    "start_time": "2021-07-26T08:44:06.164Z"
   },
   {
    "duration": 23,
    "start_time": "2021-07-26T08:44:06.284Z"
   },
   {
    "duration": 7184,
    "start_time": "2021-07-26T08:44:06.311Z"
   },
   {
    "duration": 100,
    "start_time": "2021-07-26T08:44:13.497Z"
   },
   {
    "duration": 14,
    "start_time": "2021-07-26T08:44:13.600Z"
   },
   {
    "duration": 25,
    "start_time": "2021-07-26T08:44:13.616Z"
   },
   {
    "duration": 464,
    "start_time": "2021-07-26T08:44:13.646Z"
   },
   {
    "duration": 14,
    "start_time": "2021-07-26T08:44:14.114Z"
   },
   {
    "duration": 16,
    "start_time": "2021-07-26T08:44:14.131Z"
   },
   {
    "duration": 34,
    "start_time": "2021-07-26T08:44:14.149Z"
   },
   {
    "duration": 15,
    "start_time": "2021-07-26T08:44:14.187Z"
   },
   {
    "duration": 8,
    "start_time": "2021-07-26T08:44:14.205Z"
   },
   {
    "duration": 16,
    "start_time": "2021-07-26T08:44:14.216Z"
   },
   {
    "duration": 56,
    "start_time": "2021-07-26T08:44:14.235Z"
   },
   {
    "duration": 15,
    "start_time": "2021-07-26T08:44:14.294Z"
   },
   {
    "duration": 11,
    "start_time": "2021-07-26T08:44:14.312Z"
   },
   {
    "duration": 511,
    "start_time": "2021-07-26T08:44:14.325Z"
   },
   {
    "duration": 29,
    "start_time": "2021-07-26T08:44:14.838Z"
   },
   {
    "duration": 487,
    "start_time": "2021-07-26T08:44:14.883Z"
   },
   {
    "duration": 604,
    "start_time": "2021-07-26T08:44:15.381Z"
   },
   {
    "duration": 74,
    "start_time": "2021-07-26T08:44:15.988Z"
   },
   {
    "duration": 25,
    "start_time": "2021-07-26T08:44:16.067Z"
   },
   {
    "duration": 21,
    "start_time": "2021-07-26T08:44:16.095Z"
   },
   {
    "duration": 132,
    "start_time": "2021-07-26T08:44:16.119Z"
   },
   {
    "duration": 43,
    "start_time": "2021-07-26T08:44:16.254Z"
   },
   {
    "duration": 64,
    "start_time": "2021-07-26T08:44:16.300Z"
   },
   {
    "duration": 1327,
    "start_time": "2021-07-26T08:44:16.367Z"
   },
   {
    "duration": 5,
    "start_time": "2021-07-26T08:44:17.698Z"
   },
   {
    "duration": 4519,
    "start_time": "2021-07-26T08:44:17.706Z"
   },
   {
    "duration": 8,
    "start_time": "2021-07-26T08:44:22.228Z"
   },
   {
    "duration": 11,
    "start_time": "2021-07-26T08:44:22.239Z"
   },
   {
    "duration": 50,
    "start_time": "2021-07-26T08:44:22.253Z"
   },
   {
    "duration": 22,
    "start_time": "2021-07-26T08:44:22.306Z"
   },
   {
    "duration": 17,
    "start_time": "2021-07-26T08:44:22.331Z"
   },
   {
    "duration": 55,
    "start_time": "2021-07-26T08:44:22.351Z"
   },
   {
    "duration": 30,
    "start_time": "2021-07-26T08:44:22.408Z"
   },
   {
    "duration": 64,
    "start_time": "2021-07-26T08:44:22.442Z"
   },
   {
    "duration": 48,
    "start_time": "2021-07-26T08:44:22.508Z"
   },
   {
    "duration": 50,
    "start_time": "2021-07-26T08:44:22.559Z"
   },
   {
    "duration": 78,
    "start_time": "2021-07-26T08:44:22.612Z"
   },
   {
    "duration": 15,
    "start_time": "2021-07-26T08:44:51.662Z"
   },
   {
    "duration": 1732,
    "start_time": "2021-07-26T08:44:59.133Z"
   },
   {
    "duration": 79,
    "start_time": "2021-07-26T08:45:00.867Z"
   },
   {
    "duration": 33,
    "start_time": "2021-07-26T08:45:00.950Z"
   },
   {
    "duration": 5842,
    "start_time": "2021-07-26T08:45:00.986Z"
   },
   {
    "duration": 89,
    "start_time": "2021-07-26T08:45:06.831Z"
   },
   {
    "duration": 17,
    "start_time": "2021-07-26T08:45:06.923Z"
   },
   {
    "duration": 51,
    "start_time": "2021-07-26T08:45:06.943Z"
   },
   {
    "duration": 338,
    "start_time": "2021-07-26T08:45:06.997Z"
   },
   {
    "duration": 12,
    "start_time": "2021-07-26T08:45:07.339Z"
   },
   {
    "duration": 33,
    "start_time": "2021-07-26T08:45:07.355Z"
   },
   {
    "duration": 8,
    "start_time": "2021-07-26T08:45:07.391Z"
   },
   {
    "duration": 13,
    "start_time": "2021-07-26T08:45:07.403Z"
   },
   {
    "duration": 12,
    "start_time": "2021-07-26T08:45:07.419Z"
   },
   {
    "duration": 52,
    "start_time": "2021-07-26T08:45:07.434Z"
   },
   {
    "duration": 38,
    "start_time": "2021-07-26T08:45:07.489Z"
   },
   {
    "duration": 18,
    "start_time": "2021-07-26T08:45:07.530Z"
   },
   {
    "duration": 32,
    "start_time": "2021-07-26T08:45:07.551Z"
   },
   {
    "duration": 509,
    "start_time": "2021-07-26T08:45:07.586Z"
   },
   {
    "duration": 35,
    "start_time": "2021-07-26T08:45:08.098Z"
   },
   {
    "duration": 592,
    "start_time": "2021-07-26T08:45:08.136Z"
   },
   {
    "duration": 701,
    "start_time": "2021-07-26T08:45:08.732Z"
   },
   {
    "duration": 87,
    "start_time": "2021-07-26T08:45:09.436Z"
   },
   {
    "duration": 12,
    "start_time": "2021-07-26T08:45:09.526Z"
   },
   {
    "duration": 43,
    "start_time": "2021-07-26T08:45:09.540Z"
   },
   {
    "duration": 158,
    "start_time": "2021-07-26T08:45:09.586Z"
   },
   {
    "duration": 46,
    "start_time": "2021-07-26T08:45:09.747Z"
   },
   {
    "duration": 66,
    "start_time": "2021-07-26T08:45:09.800Z"
   },
   {
    "duration": 951,
    "start_time": "2021-07-26T08:45:09.882Z"
   },
   {
    "duration": 5,
    "start_time": "2021-07-26T08:45:10.835Z"
   },
   {
    "duration": 4093,
    "start_time": "2021-07-26T08:45:10.843Z"
   },
   {
    "duration": 8,
    "start_time": "2021-07-26T08:45:14.939Z"
   },
   {
    "duration": 33,
    "start_time": "2021-07-26T08:45:14.950Z"
   },
   {
    "duration": 23,
    "start_time": "2021-07-26T08:45:14.986Z"
   },
   {
    "duration": 19,
    "start_time": "2021-07-26T08:45:15.012Z"
   },
   {
    "duration": 21,
    "start_time": "2021-07-26T08:45:15.033Z"
   },
   {
    "duration": 42,
    "start_time": "2021-07-26T08:45:15.057Z"
   },
   {
    "duration": 36,
    "start_time": "2021-07-26T08:45:15.102Z"
   },
   {
    "duration": 72,
    "start_time": "2021-07-26T08:45:15.141Z"
   },
   {
    "duration": 51,
    "start_time": "2021-07-26T08:45:15.215Z"
   },
   {
    "duration": 34,
    "start_time": "2021-07-26T08:45:15.283Z"
   },
   {
    "duration": 68,
    "start_time": "2021-07-26T08:45:15.319Z"
   }
  ],
  "kernelspec": {
   "display_name": "Python 3 (ipykernel)",
   "language": "python",
   "name": "python3"
  },
  "language_info": {
   "codemirror_mode": {
    "name": "ipython",
    "version": 3
   },
   "file_extension": ".py",
   "mimetype": "text/x-python",
   "name": "python",
   "nbconvert_exporter": "python",
   "pygments_lexer": "ipython3",
   "version": "3.7.6"
  },
  "toc": {
   "base_numbering": 1,
   "nav_menu": {},
   "number_sections": true,
   "sideBar": true,
   "skip_h1_title": true,
   "title_cell": "Table of Contents",
   "title_sidebar": "Contents",
   "toc_cell": false,
   "toc_position": {},
   "toc_section_display": true,
   "toc_window_display": false
  }
 },
 "nbformat": 4,
 "nbformat_minor": 5
}
