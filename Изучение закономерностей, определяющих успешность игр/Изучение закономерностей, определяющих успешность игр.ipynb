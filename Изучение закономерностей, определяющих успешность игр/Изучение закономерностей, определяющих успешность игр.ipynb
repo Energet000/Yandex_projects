{
 "cells": [
  {
   "cell_type": "markdown",
   "metadata": {},
   "source": [
    "# Описание проекта\n",
    "\n",
    "Вы работаете в интернет-магазине «Стримчик», который продаёт по всему миру компьютерные игры. Из открытых источников доступны исторические данные о продажах игр, оценки пользователей и экспертов, жанры и платформы (например, Xbox или PlayStation). Вам нужно выявить определяющие успешность игры закономерности. Это позволит сделать ставку на потенциально популярный продукт и спланировать рекламные кампании.\n",
    "\n",
    "Перед вами данные до 2016 года. Представим, что сейчас декабрь 2016 г., и вы планируете кампанию на 2017-й. Нужно отработать принцип работы с данными. Неважно, прогнозируете ли вы продажи на 2017 год по данным 2016-го или же 2027-й — по данным 2026 года.\n",
    "\n",
    "В наборе данных попадается аббревиатура ESRB (Entertainment Software Rating Board) — это ассоциация, определяющая возрастной рейтинг компьютерных игр. ESRB оценивает игровой контент и присваивает ему подходящую возрастную категорию, например, «Для взрослых», «Для детей младшего возраста» или «Для подростков»."
   ]
  },
  {
   "cell_type": "markdown",
   "metadata": {},
   "source": [
    "# Описание данных\n",
    "- Name — название игры\n",
    "- Platform — платформа\n",
    "- Year_of_Release — год выпуска\n",
    "- Genre — жанр игры\n",
    "- NA_sales — продажи в Северной Америке (миллионы проданных копий)\n",
    "- EU_sales — продажи в Европе (миллионы проданных копий)\n",
    "- JP_sales — продажи в Японии (миллионы проданных копий)\n",
    "- Other_sales — продажи в других странах (миллионы проданных копий)\n",
    "- Critic_Score — оценка критиков (максимум 100)\n",
    "- User_Score — оценка пользователей (максимум 10)\n",
    "- Rating — рейтинг от организации ESRB (англ. Entertainment Software Rating Board). Эта ассоциация определяет рейтинг компьютерных игр и присваивает им подходящую возрастную категорию."
   ]
  },
  {
   "cell_type": "markdown",
   "metadata": {},
   "source": [
    "## Знакомство с данными"
   ]
  },
  {
   "cell_type": "code",
   "execution_count": 1,
   "metadata": {},
   "outputs": [],
   "source": [
    "# Импортируем необходимые библиотеки\n",
    "import pandas as pd\n",
    "import seaborn as sns\n",
    "from scipy import stats as st\n",
    "from matplotlib import pyplot as plt\n",
    "import numpy as np\n",
    "%matplotlib inline"
   ]
  },
  {
   "cell_type": "code",
   "execution_count": 2,
   "metadata": {},
   "outputs": [
    {
     "data": {
      "text/html": [
       "<div>\n",
       "<style scoped>\n",
       "    .dataframe tbody tr th:only-of-type {\n",
       "        vertical-align: middle;\n",
       "    }\n",
       "\n",
       "    .dataframe tbody tr th {\n",
       "        vertical-align: top;\n",
       "    }\n",
       "\n",
       "    .dataframe thead th {\n",
       "        text-align: right;\n",
       "    }\n",
       "</style>\n",
       "<table border=\"1\" class=\"dataframe\">\n",
       "  <thead>\n",
       "    <tr style=\"text-align: right;\">\n",
       "      <th></th>\n",
       "      <th>Name</th>\n",
       "      <th>Platform</th>\n",
       "      <th>Year_of_Release</th>\n",
       "      <th>Genre</th>\n",
       "      <th>NA_sales</th>\n",
       "      <th>EU_sales</th>\n",
       "      <th>JP_sales</th>\n",
       "      <th>Other_sales</th>\n",
       "      <th>Critic_Score</th>\n",
       "      <th>User_Score</th>\n",
       "      <th>Rating</th>\n",
       "    </tr>\n",
       "  </thead>\n",
       "  <tbody>\n",
       "    <tr>\n",
       "      <td>0</td>\n",
       "      <td>Wii Sports</td>\n",
       "      <td>Wii</td>\n",
       "      <td>2006.0</td>\n",
       "      <td>Sports</td>\n",
       "      <td>41.36</td>\n",
       "      <td>28.96</td>\n",
       "      <td>3.77</td>\n",
       "      <td>8.45</td>\n",
       "      <td>76.0</td>\n",
       "      <td>8</td>\n",
       "      <td>E</td>\n",
       "    </tr>\n",
       "    <tr>\n",
       "      <td>1</td>\n",
       "      <td>Super Mario Bros.</td>\n",
       "      <td>NES</td>\n",
       "      <td>1985.0</td>\n",
       "      <td>Platform</td>\n",
       "      <td>29.08</td>\n",
       "      <td>3.58</td>\n",
       "      <td>6.81</td>\n",
       "      <td>0.77</td>\n",
       "      <td>NaN</td>\n",
       "      <td>NaN</td>\n",
       "      <td>NaN</td>\n",
       "    </tr>\n",
       "    <tr>\n",
       "      <td>2</td>\n",
       "      <td>Mario Kart Wii</td>\n",
       "      <td>Wii</td>\n",
       "      <td>2008.0</td>\n",
       "      <td>Racing</td>\n",
       "      <td>15.68</td>\n",
       "      <td>12.76</td>\n",
       "      <td>3.79</td>\n",
       "      <td>3.29</td>\n",
       "      <td>82.0</td>\n",
       "      <td>8.3</td>\n",
       "      <td>E</td>\n",
       "    </tr>\n",
       "    <tr>\n",
       "      <td>3</td>\n",
       "      <td>Wii Sports Resort</td>\n",
       "      <td>Wii</td>\n",
       "      <td>2009.0</td>\n",
       "      <td>Sports</td>\n",
       "      <td>15.61</td>\n",
       "      <td>10.93</td>\n",
       "      <td>3.28</td>\n",
       "      <td>2.95</td>\n",
       "      <td>80.0</td>\n",
       "      <td>8</td>\n",
       "      <td>E</td>\n",
       "    </tr>\n",
       "    <tr>\n",
       "      <td>4</td>\n",
       "      <td>Pokemon Red/Pokemon Blue</td>\n",
       "      <td>GB</td>\n",
       "      <td>1996.0</td>\n",
       "      <td>Role-Playing</td>\n",
       "      <td>11.27</td>\n",
       "      <td>8.89</td>\n",
       "      <td>10.22</td>\n",
       "      <td>1.00</td>\n",
       "      <td>NaN</td>\n",
       "      <td>NaN</td>\n",
       "      <td>NaN</td>\n",
       "    </tr>\n",
       "  </tbody>\n",
       "</table>\n",
       "</div>"
      ],
      "text/plain": [
       "                       Name Platform  Year_of_Release         Genre  NA_sales  \\\n",
       "0                Wii Sports      Wii           2006.0        Sports     41.36   \n",
       "1         Super Mario Bros.      NES           1985.0      Platform     29.08   \n",
       "2            Mario Kart Wii      Wii           2008.0        Racing     15.68   \n",
       "3         Wii Sports Resort      Wii           2009.0        Sports     15.61   \n",
       "4  Pokemon Red/Pokemon Blue       GB           1996.0  Role-Playing     11.27   \n",
       "\n",
       "   EU_sales  JP_sales  Other_sales  Critic_Score User_Score Rating  \n",
       "0     28.96      3.77         8.45          76.0          8      E  \n",
       "1      3.58      6.81         0.77           NaN        NaN    NaN  \n",
       "2     12.76      3.79         3.29          82.0        8.3      E  \n",
       "3     10.93      3.28         2.95          80.0          8      E  \n",
       "4      8.89     10.22         1.00           NaN        NaN    NaN  "
      ]
     },
     "metadata": {},
     "output_type": "display_data"
    },
    {
     "name": "stdout",
     "output_type": "stream",
     "text": [
      "<class 'pandas.core.frame.DataFrame'>\n",
      "RangeIndex: 16715 entries, 0 to 16714\n",
      "Data columns (total 11 columns):\n",
      "Name               16713 non-null object\n",
      "Platform           16715 non-null object\n",
      "Year_of_Release    16446 non-null float64\n",
      "Genre              16713 non-null object\n",
      "NA_sales           16715 non-null float64\n",
      "EU_sales           16715 non-null float64\n",
      "JP_sales           16715 non-null float64\n",
      "Other_sales        16715 non-null float64\n",
      "Critic_Score       8137 non-null float64\n",
      "User_Score         10014 non-null object\n",
      "Rating             9949 non-null object\n",
      "dtypes: float64(6), object(5)\n",
      "memory usage: 1.4+ MB\n"
     ]
    }
   ],
   "source": [
    "# Посмотрим на датасет\n",
    "df = pd.read_csv('/datasets/games.csv')\n",
    "display(df.head())\n",
    "df.info()"
   ]
  },
  {
   "cell_type": "markdown",
   "metadata": {},
   "source": [
    "Стоит изменить тип в столбце *Year_of_Release* на *int* и в столбце *User_Score* на *float*, чтобы было проще анализировать оценки. "
   ]
  },
  {
   "cell_type": "code",
   "execution_count": 3,
   "metadata": {
    "scrolled": true
   },
   "outputs": [
    {
     "name": "stdout",
     "output_type": "stream",
     "text": [
      "Уникальные значения столбца Name:\n",
      "['Wii Sports' 'Super Mario Bros.' 'Mario Kart Wii' ...\n",
      " 'Woody Woodpecker in Crazy Castle 5' 'LMA Manager 2007'\n",
      " 'Haitaka no Psychedelica']\n",
      "Количество вхождений каждого значения столбца Name\n",
      "Need for Speed: Most Wanted              12\n",
      "FIFA 14                                   9\n",
      "Ratatouille                               9\n",
      "Madden NFL 07                             9\n",
      "LEGO Marvel Super Heroes                  9\n",
      "                                         ..\n",
      "Inazuma Eleven Strikers 2012 Xtreme       1\n",
      "Fire Emblem: The Sacred Stones            1\n",
      "Tokimeki Memorial: Private Collection     1\n",
      "Domino Rally                              1\n",
      "D.Gray-man: Sousha no Shikaku             1\n",
      "Name: Name, Length: 11560, dtype: int64\n",
      "===================================================================================================================\n",
      "Уникальные значения столбца Platform:\n",
      "['Wii' 'NES' 'GB' 'DS' 'X360' 'PS3' 'PS2' 'SNES' 'GBA' 'PS4' '3DS' 'N64'\n",
      " 'PS' 'XB' 'PC' '2600' 'PSP' 'XOne' 'WiiU' 'GC' 'GEN' 'DC' 'PSV' 'SAT'\n",
      " 'SCD' 'WS' 'NG' 'TG16' '3DO' 'GG' 'PCFX']\n",
      "Количество вхождений каждого значения столбца Platform\n",
      "PS2     2161\n",
      "DS      2151\n",
      "PS3     1331\n",
      "Wii     1320\n",
      "X360    1262\n",
      "PSP     1209\n",
      "PS      1197\n",
      "PC       974\n",
      "XB       824\n",
      "GBA      822\n",
      "GC       556\n",
      "3DS      520\n",
      "PSV      430\n",
      "PS4      392\n",
      "N64      319\n",
      "XOne     247\n",
      "SNES     239\n",
      "SAT      173\n",
      "WiiU     147\n",
      "2600     133\n",
      "NES       98\n",
      "GB        98\n",
      "DC        52\n",
      "GEN       29\n",
      "NG        12\n",
      "WS         6\n",
      "SCD        6\n",
      "3DO        3\n",
      "TG16       2\n",
      "GG         1\n",
      "PCFX       1\n",
      "Name: Platform, dtype: int64\n",
      "===================================================================================================================\n",
      "Уникальные значения столбца Year_of_Release:\n",
      "[2006. 1985. 2008. 2009. 1996. 1989. 1984. 2005. 1999. 2007. 2010. 2013.\n",
      " 2004. 1990. 1988. 2002. 2001. 2011. 1998. 2015. 2012. 2014. 1992. 1997.\n",
      " 1993. 1994. 1982. 2016. 2003. 1986. 2000.   nan 1995. 1991. 1981. 1987.\n",
      " 1980. 1983.]\n",
      "Количество вхождений каждого значения столбца Year_of_Release\n",
      "2008.0    1427\n",
      "2009.0    1426\n",
      "2010.0    1255\n",
      "2007.0    1197\n",
      "2011.0    1136\n",
      "2006.0    1006\n",
      "2005.0     939\n",
      "2002.0     829\n",
      "2003.0     775\n",
      "2004.0     762\n",
      "2012.0     653\n",
      "2015.0     606\n",
      "2014.0     581\n",
      "2013.0     544\n",
      "2016.0     502\n",
      "2001.0     482\n",
      "1998.0     379\n",
      "2000.0     350\n",
      "1999.0     338\n",
      "1997.0     289\n",
      "NaN        269\n",
      "1996.0     263\n",
      "1995.0     219\n",
      "1994.0     121\n",
      "1993.0      62\n",
      "1981.0      46\n",
      "1992.0      43\n",
      "1991.0      41\n",
      "1982.0      36\n",
      "1986.0      21\n",
      "1989.0      17\n",
      "1983.0      17\n",
      "1987.0      16\n",
      "1990.0      16\n",
      "1988.0      15\n",
      "1985.0      14\n",
      "1984.0      14\n",
      "1980.0       9\n",
      "Name: Year_of_Release, dtype: int64\n",
      "===================================================================================================================\n",
      "Уникальные значения столбца Genre:\n",
      "['Sports' 'Platform' 'Racing' 'Role-Playing' 'Puzzle' 'Misc' 'Shooter'\n",
      " 'Simulation' 'Action' 'Fighting' 'Adventure' 'Strategy' nan]\n",
      "Количество вхождений каждого значения столбца Genre\n",
      "Action          3369\n",
      "Sports          2348\n",
      "Misc            1750\n",
      "Role-Playing    1498\n",
      "Shooter         1323\n",
      "Adventure       1303\n",
      "Racing          1249\n",
      "Platform         888\n",
      "Simulation       873\n",
      "Fighting         849\n",
      "Strategy         683\n",
      "Puzzle           580\n",
      "NaN                2\n",
      "Name: Genre, dtype: int64\n",
      "===================================================================================================================\n",
      "Уникальные значения столбца NA_sales:\n",
      "[4.136e+01 2.908e+01 1.568e+01 1.561e+01 1.127e+01 2.320e+01 1.128e+01\n",
      " 1.396e+01 1.444e+01 2.693e+01 9.050e+00 9.710e+00 9.000e+00 8.920e+00\n",
      " 1.500e+01 9.010e+00 7.020e+00 9.430e+00 1.278e+01 4.740e+00 6.380e+00\n",
      " 1.083e+01 9.540e+00 9.660e+00 8.410e+00 6.060e+00 3.430e+00 5.510e+00\n",
      " 6.850e+00 9.040e+00 5.890e+00 6.030e+00 9.700e+00 5.280e+00 4.990e+00\n",
      " 8.250e+00 8.520e+00 5.540e+00 6.990e+00 6.620e+00 5.030e+00 5.990e+00\n",
      " 3.960e+00 2.500e+00 7.970e+00 6.910e+00 4.340e+00 4.350e+00 3.010e+00\n",
      " 6.160e+00 6.760e+00 4.020e+00 4.890e+00 2.960e+00 4.760e+00 5.010e+00\n",
      " 6.730e+00 5.950e+00 3.660e+00 5.550e+00 7.040e+00 6.650e+00 3.880e+00\n",
      " 5.800e+00 4.100e+00 5.930e+00 4.360e+00 5.700e+00 2.030e+00 4.400e+00\n",
      " 5.050e+00 3.540e+00 1.120e+00 6.820e+00 1.750e+00 3.740e+00 1.060e+00\n",
      " 2.790e+00 2.910e+00 9.900e-01 2.570e+00 2.990e+00 2.280e+00 7.280e+00\n",
      " 2.760e+00 2.900e+00 2.810e+00 6.600e-01 3.780e+00 3.270e+00 3.560e+00\n",
      " 5.390e+00 4.590e+00 4.810e+00 4.460e+00 3.480e+00 2.850e+00 2.530e+00\n",
      " 2.980e+00 3.680e+00 3.150e+00 4.410e+00 4.120e+00 2.710e+00 2.930e+00\n",
      " 3.230e+00 4.050e+00 4.150e+00 2.770e+00 3.450e+00 3.110e+00 8.400e-01\n",
      " 1.660e+00 7.800e-01 2.640e+00 3.170e+00 4.980e+00 2.550e+00 3.640e+00\n",
      " 3.700e+00 4.010e+00 2.470e+00 8.000e-02 3.920e+00 8.000e-01 2.450e+00\n",
      " 4.470e+00 3.180e+00 2.630e+00 1.880e+00 2.410e+00 2.800e+00 6.300e-01\n",
      " 2.260e+00 2.490e+00 3.570e+00 3.070e+00 2.970e+00 2.950e+00 2.540e+00\n",
      " 3.280e+00 3.140e+00 4.700e-01 2.620e+00 3.210e+00 2.070e+00 2.730e+00\n",
      " 1.850e+00 2.180e+00 1.740e+00 3.020e+00 1.620e+00 3.130e+00 1.920e+00\n",
      " 3.330e+00 3.220e+00 2.300e+00 4.260e+00 9.700e-01 6.500e-01 1.210e+00\n",
      " 1.090e+00 2.100e+00 2.440e+00 1.980e+00 3.810e+00 3.590e+00 1.630e+00\n",
      " 1.960e+00 3.400e+00 6.100e-01 2.050e+00 1.700e+00 3.420e+00 3.360e+00\n",
      " 3.490e+00 3.050e+00 1.830e+00 2.310e+00 3.980e+00 0.000e+00 2.600e+00\n",
      " 1.910e+00 2.740e+00 2.830e+00 2.360e+00 1.730e+00 1.940e+00 2.290e+00\n",
      " 1.820e+00 2.420e+00 3.040e+00 1.800e+00 2.080e+00 1.870e+00 4.180e+00\n",
      " 3.190e+00 4.210e+00 3.630e+00 2.780e+00 2.000e-01 1.610e+00 1.540e+00\n",
      " 2.520e+00 2.660e+00 1.000e-01 2.820e+00 2.190e+00 1.560e+00 3.030e+00\n",
      " 2.200e+00 2.090e+00 2.110e+00 1.480e+00 4.000e+00 5.800e-01 2.510e+00\n",
      " 3.000e+00 2.240e+00 1.460e+00 1.410e+00 9.200e-01 8.800e-01 1.280e+00\n",
      " 2.250e+00 3.380e+00 2.040e+00 3.790e+00 4.030e+00 1.650e+00 7.100e-01\n",
      " 1.420e+00 1.100e+00 2.320e+00 1.200e-01 2.350e+00 2.120e+00 1.400e+00\n",
      " 1.680e+00 1.130e+00 1.220e+00 2.670e+00 1.020e+00 1.190e+00 1.530e+00\n",
      " 2.150e+00 9.000e-01 1.970e+00 6.800e-01 1.160e+00 9.300e-01 1.440e+00\n",
      " 1.600e-01 2.130e+00 2.210e+00 1.780e+00 8.600e-01 1.350e+00 1.050e+00\n",
      " 2.230e+00 2.400e+00 1.370e+00 1.300e+00 1.950e+00 1.930e+00 1.330e+00\n",
      " 1.490e+00 1.580e+00 5.000e-02 6.000e-01 2.020e+00 2.380e+00 1.600e+00\n",
      " 2.010e+00 1.570e+00 1.230e+00 1.900e+00 2.140e+00 1.170e+00 2.270e+00\n",
      " 1.640e+00 5.900e-01 1.550e+00 4.600e-01 8.100e-01 1.450e+00 2.700e-01\n",
      " 1.470e+00 1.990e+00 1.500e+00 9.000e-02 2.610e+00 1.890e+00 5.000e-01\n",
      " 8.900e-01 9.500e-01 2.340e+00 7.200e-01 1.720e+00 1.180e+00 1.760e+00\n",
      " 7.300e-01 1.270e+00 2.060e+00 5.500e-01 1.520e+00 1.690e+00 2.170e+00\n",
      " 5.100e-01 1.000e+00 1.290e+00 1.380e+00 1.150e+00 1.670e+00 1.360e+00\n",
      " 1.010e+00 1.040e+00 1.840e+00 2.220e+00 7.900e-01 1.510e+00 1.070e+00\n",
      " 1.320e+00 1.590e+00 2.000e-02 2.900e-01 1.250e+00 2.560e+00 1.430e+00\n",
      " 1.200e+00 4.100e-01 2.800e-01 4.300e-01 6.900e-01 2.000e+00 7.600e-01\n",
      " 1.860e+00 4.800e-01 6.200e-01 1.310e+00 3.700e-01 1.500e-01 6.400e-01\n",
      " 2.600e-01 4.900e-01 1.110e+00 1.300e-01 1.810e+00 1.030e+00 1.260e+00\n",
      " 8.700e-01 7.700e-01 9.600e-01 1.390e+00 1.080e+00 8.500e-01 9.100e-01\n",
      " 3.000e-01 3.800e-01 9.400e-01 7.000e-02 1.340e+00 1.240e+00 3.400e-01\n",
      " 1.400e-01 1.000e-02 5.200e-01 8.200e-01 8.300e-01 1.100e-01 2.500e-01\n",
      " 1.770e+00 3.600e-01 7.500e-01 7.400e-01 1.800e-01 2.200e-01 5.300e-01\n",
      " 4.200e-01 3.200e-01 3.900e-01 2.400e-01 2.300e-01 6.000e-02 4.500e-01\n",
      " 7.000e-01 6.700e-01 3.500e-01 5.600e-01 1.140e+00 9.800e-01 5.700e-01\n",
      " 5.400e-01 4.000e-02 1.700e-01 4.400e-01 3.000e-02 3.300e-01 3.100e-01\n",
      " 4.000e-01 2.100e-01 1.900e-01]\n",
      "Количество вхождений каждого значения столбца NA_sales\n",
      "0.00    4508\n",
      "0.02     576\n",
      "0.03     561\n",
      "0.04     549\n",
      "0.01     545\n",
      "        ... \n",
      "4.98       1\n",
      "4.21       1\n",
      "6.82       1\n",
      "5.05       1\n",
      "9.00       1\n",
      "Name: NA_sales, Length: 402, dtype: int64\n",
      "===================================================================================================================\n",
      "Уникальные значения столбца EU_sales:\n",
      "[2.896e+01 3.580e+00 1.276e+01 1.093e+01 8.890e+00 2.260e+00 9.140e+00\n",
      " 9.180e+00 6.940e+00 6.300e-01 1.095e+01 7.470e+00 6.180e+00 8.030e+00\n",
      " 4.890e+00 8.490e+00 9.090e+00 4.000e-01 3.750e+00 9.200e+00 4.460e+00\n",
      " 2.710e+00 3.440e+00 5.140e+00 5.490e+00 3.900e+00 5.350e+00 3.170e+00\n",
      " 5.090e+00 4.240e+00 5.040e+00 5.860e+00 3.680e+00 4.190e+00 5.730e+00\n",
      " 3.590e+00 4.510e+00 2.550e+00 4.020e+00 4.370e+00 6.310e+00 3.450e+00\n",
      " 2.810e+00 2.850e+00 3.490e+00 1.000e-02 3.350e+00 2.040e+00 3.070e+00\n",
      " 3.870e+00 3.000e+00 4.820e+00 3.640e+00 2.150e+00 3.690e+00 2.650e+00\n",
      " 2.560e+00 3.110e+00 3.140e+00 1.940e+00 1.950e+00 2.470e+00 2.280e+00\n",
      " 3.420e+00 3.630e+00 2.360e+00 1.710e+00 1.850e+00 2.790e+00 1.240e+00\n",
      " 6.120e+00 1.530e+00 3.470e+00 2.240e+00 5.010e+00 2.010e+00 1.720e+00\n",
      " 2.070e+00 6.420e+00 3.860e+00 4.500e-01 3.480e+00 1.890e+00 5.750e+00\n",
      " 2.170e+00 1.370e+00 2.350e+00 1.180e+00 2.110e+00 1.880e+00 2.830e+00\n",
      " 2.990e+00 2.890e+00 3.270e+00 2.220e+00 2.140e+00 1.450e+00 1.750e+00\n",
      " 1.040e+00 1.770e+00 3.020e+00 2.750e+00 2.160e+00 1.900e+00 2.590e+00\n",
      " 2.200e+00 4.300e+00 9.300e-01 2.530e+00 2.520e+00 1.790e+00 1.300e+00\n",
      " 2.600e+00 1.580e+00 1.200e+00 1.560e+00 1.340e+00 1.260e+00 8.300e-01\n",
      " 6.210e+00 2.800e+00 1.590e+00 1.730e+00 4.330e+00 1.830e+00 0.000e+00\n",
      " 2.180e+00 1.980e+00 1.470e+00 6.700e-01 1.550e+00 1.910e+00 6.900e-01\n",
      " 6.000e-01 1.930e+00 1.640e+00 5.500e-01 2.190e+00 1.110e+00 2.290e+00\n",
      " 2.500e+00 9.600e-01 1.210e+00 1.120e+00 7.700e-01 1.690e+00 1.080e+00\n",
      " 7.900e-01 2.370e+00 2.460e+00 2.600e-01 7.500e-01 1.250e+00 2.430e+00\n",
      " 9.800e-01 7.400e-01 2.230e+00 6.100e-01 2.450e+00 1.410e+00 1.800e+00\n",
      " 3.280e+00 1.160e+00 1.990e+00 1.380e+00 1.360e+00 1.170e+00 1.190e+00\n",
      " 9.900e-01 1.680e+00 2.000e+00 1.330e+00 1.570e+00 1.480e+00 2.100e+00\n",
      " 1.270e+00 1.970e+00 9.100e-01 1.390e+00 1.960e+00 2.400e-01 1.510e+00\n",
      " 1.400e-01 1.290e+00 2.390e+00 1.030e+00 5.000e-01 5.800e-01 1.310e+00\n",
      " 2.020e+00 1.320e+00 1.010e+00 2.270e+00 2.300e+00 1.820e+00 2.780e+00\n",
      " 4.400e-01 4.800e-01 2.700e-01 2.100e-01 2.480e+00 5.100e-01 1.520e+00\n",
      " 4.000e-02 2.800e-01 1.350e+00 8.700e-01 2.130e+00 1.130e+00 1.760e+00\n",
      " 7.600e-01 2.120e+00 6.600e-01 1.600e+00 1.440e+00 1.430e+00 1.700e+00\n",
      " 4.700e-01 1.870e+00 8.600e-01 7.300e-01 1.280e+00 8.100e-01 1.090e+00\n",
      " 6.800e-01 1.220e+00 1.400e+00 1.020e+00 1.490e+00 1.140e+00 4.900e-01\n",
      " 9.000e-01 3.800e-01 1.420e+00 9.500e-01 1.620e+00 7.100e-01 1.050e+00\n",
      " 9.200e-01 3.300e-01 3.000e-01 1.670e+00 1.000e+00 8.900e-01 1.000e-01\n",
      " 7.200e-01 5.900e-01 5.600e-01 1.600e-01 9.700e-01 6.200e-01 8.500e-01\n",
      " 9.400e-01 8.800e-01 8.400e-01 1.060e+00 2.000e-01 1.150e+00 8.000e-01\n",
      " 1.100e+00 7.000e-01 1.920e+00 3.200e-01 1.500e-01 5.300e-01 9.000e-02\n",
      " 1.460e+00 2.900e-01 2.200e-01 1.230e+00 7.000e-02 1.700e-01 5.400e-01\n",
      " 3.600e-01 3.100e-01 1.840e+00 5.200e-01 1.100e-01 6.400e-01 1.200e-01\n",
      " 2.050e+00 1.630e+00 8.200e-01 8.000e-02 5.700e-01 1.650e+00 1.900e-01\n",
      " 2.000e-02 4.300e-01 2.500e-01 1.500e+00 1.800e-01 3.900e-01 1.300e-01\n",
      " 1.070e+00 4.600e-01 4.100e-01 6.000e-02 3.000e-02 3.700e-01 5.000e-02\n",
      " 2.300e-01 6.500e-01 4.200e-01 3.400e-01 3.500e-01 7.800e-01]\n",
      "Количество вхождений каждого значения столбца EU_sales\n",
      "0.00    5870\n",
      "0.01    1494\n",
      "0.02    1308\n",
      "0.03     926\n",
      "0.04     709\n",
      "        ... \n",
      "3.59       1\n",
      "4.02       1\n",
      "2.24       1\n",
      "2.27       1\n",
      "3.75       1\n",
      "Name: EU_sales, Length: 307, dtype: int64\n",
      "===================================================================================================================\n",
      "Уникальные значения столбца JP_sales:\n",
      "[3.770e+00 6.810e+00 3.790e+00 3.280e+00 1.022e+01 4.220e+00 6.500e+00\n",
      " 2.930e+00 4.700e+00 2.800e-01 1.930e+00 4.130e+00 7.200e+00 3.600e+00\n",
      " 2.400e-01 2.530e+00 9.800e-01 4.100e-01 3.540e+00 4.160e+00 6.040e+00\n",
      " 4.180e+00 3.840e+00 6.000e-02 4.700e-01 5.380e+00 5.320e+00 5.650e+00\n",
      " 1.870e+00 1.300e-01 3.120e+00 3.600e-01 1.100e-01 4.350e+00 6.500e-01\n",
      " 7.000e-02 8.000e-02 4.900e-01 3.000e-01 2.660e+00 2.690e+00 4.800e-01\n",
      " 3.800e-01 5.330e+00 1.910e+00 3.960e+00 3.100e+00 1.100e+00 1.200e+00\n",
      " 1.400e-01 2.540e+00 2.140e+00 8.100e-01 2.120e+00 4.400e-01 3.150e+00\n",
      " 1.250e+00 4.000e-02 0.000e+00 2.470e+00 2.230e+00 1.690e+00 1.000e-02\n",
      " 3.000e+00 2.000e-02 4.390e+00 1.980e+00 1.000e-01 3.810e+00 5.000e-02\n",
      " 2.490e+00 1.580e+00 3.140e+00 2.730e+00 6.600e-01 2.200e-01 3.630e+00\n",
      " 1.450e+00 1.310e+00 2.430e+00 7.000e-01 3.500e-01 1.400e+00 6.000e-01\n",
      " 2.260e+00 1.420e+00 1.280e+00 1.390e+00 8.700e-01 1.700e-01 9.400e-01\n",
      " 1.900e-01 2.100e-01 1.600e+00 1.600e-01 1.030e+00 2.500e-01 2.060e+00\n",
      " 1.490e+00 1.290e+00 9.000e-02 2.870e+00 3.000e-02 7.800e-01 8.300e-01\n",
      " 2.330e+00 2.020e+00 1.360e+00 1.810e+00 1.970e+00 9.100e-01 9.900e-01\n",
      " 9.500e-01 2.000e+00 1.010e+00 2.780e+00 2.110e+00 1.090e+00 2.000e-01\n",
      " 1.900e+00 1.270e+00 3.610e+00 1.570e+00 2.200e+00 1.700e+00 1.080e+00\n",
      " 1.500e-01 1.110e+00 2.900e-01 1.540e+00 1.200e-01 8.900e-01 4.870e+00\n",
      " 1.520e+00 1.320e+00 1.150e+00 4.100e+00 1.460e+00 4.600e-01 1.050e+00\n",
      " 1.610e+00 2.600e-01 1.380e+00 6.200e-01 7.300e-01 5.700e-01 3.100e-01\n",
      " 5.800e-01 1.760e+00 2.100e+00 9.000e-01 5.100e-01 6.400e-01 2.460e+00\n",
      " 2.300e-01 3.700e-01 9.200e-01 1.070e+00 2.620e+00 1.120e+00 5.400e-01\n",
      " 2.700e-01 5.900e-01 3.670e+00 5.500e-01 1.750e+00 3.440e+00 3.300e-01\n",
      " 2.550e+00 2.320e+00 2.790e+00 7.400e-01 3.180e+00 8.200e-01 7.700e-01\n",
      " 4.000e-01 2.350e+00 3.190e+00 8.000e-01 7.600e-01 3.030e+00 8.800e-01\n",
      " 4.500e-01 1.160e+00 3.400e-01 1.190e+00 1.130e+00 2.130e+00 1.960e+00\n",
      " 7.100e-01 1.040e+00 2.680e+00 6.800e-01 2.650e+00 9.600e-01 2.410e+00\n",
      " 5.200e-01 1.800e-01 1.340e+00 1.480e+00 2.340e+00 1.060e+00 1.210e+00\n",
      " 2.290e+00 1.630e+00 2.050e+00 2.170e+00 1.560e+00 1.350e+00 1.330e+00\n",
      " 6.300e-01 7.900e-01 7.500e-01 5.300e-01 1.530e+00 1.300e+00 3.900e-01\n",
      " 6.900e-01 4.200e-01 9.300e-01 5.600e-01 8.400e-01 7.200e-01 3.200e-01\n",
      " 1.710e+00 1.650e+00 6.100e-01 1.510e+00 1.500e+00 1.440e+00 1.240e+00\n",
      " 1.180e+00 1.370e+00 1.000e+00 1.260e+00 8.500e-01 4.300e-01 6.700e-01\n",
      " 1.140e+00 8.600e-01 1.170e+00 5.000e-01 1.020e+00 9.700e-01]\n",
      "Количество вхождений каждого значения столбца JP_sales\n",
      "0.00    10514\n",
      "0.02      741\n",
      "0.01      706\n",
      "0.03      546\n",
      "0.04      397\n",
      "        ...  \n",
      "1.16        1\n",
      "2.12        1\n",
      "7.20        1\n",
      "2.17        1\n",
      "6.50        1\n",
      "Name: JP_sales, Length: 244, dtype: int64\n",
      "===================================================================================================================\n",
      "Уникальные значения столбца Other_sales:\n",
      "[8.450e+00 7.700e-01 3.290e+00 2.950e+00 1.000e+00 5.800e-01 2.880e+00\n",
      " 2.840e+00 2.240e+00 4.700e-01 2.740e+00 1.900e+00 7.100e-01 2.150e+00\n",
      " 1.690e+00 1.770e+00 3.960e+00 1.057e+01 5.500e-01 2.040e+00 1.360e+00\n",
      " 4.200e-01 4.600e-01 1.410e+00 1.780e+00 5.000e-01 1.180e+00 8.000e-01\n",
      " 1.160e+00 1.320e+00 5.900e-01 2.380e+00 1.130e+00 7.800e-01 2.420e+00\n",
      " 1.120e+00 1.280e+00 1.570e+00 1.300e+00 1.010e+00 9.100e-01 1.790e+00\n",
      " 1.970e+00 8.600e-01 1.210e+00 2.300e-01 7.600e-01 7.400e-01 7.530e+00\n",
      " 2.900e-01 1.030e+00 5.200e-01 2.110e+00 1.600e+00 1.610e+00 3.500e-01\n",
      " 9.700e-01 1.060e+00 6.300e-01 1.500e-01 7.900e-01 9.600e-01 1.250e+00\n",
      " 9.000e-01 8.100e-01 3.900e-01 6.800e-01 8.500e-01 1.800e-01 8.000e-02\n",
      " 6.700e-01 7.000e-01 4.100e-01 3.300e-01 6.000e-01 5.400e-01 1.730e+00\n",
      " 1.230e+00 1.600e-01 1.110e+00 3.100e-01 4.800e-01 6.200e-01 1.900e-01\n",
      " 6.900e-01 1.020e+00 7.300e-01 1.080e+00 4.500e-01 2.800e-01 5.100e-01\n",
      " 2.200e-01 1.090e+00 9.900e-01 3.000e-01 6.400e-01 6.600e-01 9.800e-01\n",
      " 1.390e+00 1.400e-01 1.370e+00 7.000e-02 2.100e-01 6.100e-01 1.700e-01\n",
      " 1.200e-01 0.000e+00 7.200e-01 2.400e-01 8.200e-01 1.740e+00 8.700e-01\n",
      " 9.200e-01 5.700e-01 1.100e-01 4.000e-02 5.600e-01 2.000e-01 3.400e-01\n",
      " 9.000e-02 8.300e-01 4.400e-01 6.000e-02 3.200e-01 3.800e-01 1.480e+00\n",
      " 3.700e-01 1.000e-01 2.500e-01 3.600e-01 1.300e-01 4.300e-01 5.000e-02\n",
      " 2.000e-02 2.600e-01 4.000e-01 7.500e-01 1.930e+00 8.400e-01 5.300e-01\n",
      " 8.900e-01 1.670e+00 2.700e-01 2.930e+00 4.900e-01 1.000e-02 2.460e+00\n",
      " 3.000e-02 1.510e+00 2.050e+00 1.680e+00 1.820e+00 1.330e+00 9.400e-01\n",
      " 9.300e-01]\n",
      "Количество вхождений каждого значения столбца Other_sales\n",
      "0.00    6601\n",
      "0.01    3464\n",
      "0.02    1618\n",
      "0.03     926\n",
      "0.04     654\n",
      "        ... \n",
      "0.96       1\n",
      "1.93       1\n",
      "0.97       1\n",
      "1.37       1\n",
      "1.06       1\n",
      "Name: Other_sales, Length: 155, dtype: int64\n",
      "===================================================================================================================\n",
      "Уникальные значения столбца Critic_Score:\n",
      "[76. nan 82. 80. 89. 58. 87. 91. 61. 97. 95. 77. 88. 83. 94. 93. 85. 86.\n",
      " 98. 96. 90. 84. 73. 74. 78. 92. 71. 72. 68. 62. 49. 67. 81. 66. 56. 79.\n",
      " 70. 59. 64. 75. 60. 63. 69. 50. 25. 42. 44. 55. 48. 57. 29. 47. 65. 54.\n",
      " 20. 53. 37. 38. 33. 52. 30. 32. 43. 45. 51. 40. 46. 39. 34. 35. 41. 36.\n",
      " 28. 31. 27. 26. 19. 23. 24. 21. 17. 22. 13.]\n",
      "Количество вхождений каждого значения столбца Critic_Score\n",
      "NaN     8578\n",
      "70.0     256\n",
      "71.0     254\n",
      "75.0     245\n",
      "78.0     240\n",
      "        ... \n",
      "20.0       3\n",
      "13.0       1\n",
      "17.0       1\n",
      "22.0       1\n",
      "21.0       1\n",
      "Name: Critic_Score, Length: 83, dtype: int64\n",
      "===================================================================================================================\n"
     ]
    },
    {
     "name": "stdout",
     "output_type": "stream",
     "text": [
      "Уникальные значения столбца User_Score:\n",
      "['8' nan '8.3' '8.5' '6.6' '8.4' '8.6' '7.7' '6.3' '7.4' '8.2' '9' '7.9'\n",
      " '8.1' '8.7' '7.1' '3.4' '5.3' '4.8' '3.2' '8.9' '6.4' '7.8' '7.5' '2.6'\n",
      " '7.2' '9.2' '7' '7.3' '4.3' '7.6' '5.7' '5' '9.1' '6.5' 'tbd' '8.8' '6.9'\n",
      " '9.4' '6.8' '6.1' '6.7' '5.4' '4' '4.9' '4.5' '9.3' '6.2' '4.2' '6' '3.7'\n",
      " '4.1' '5.8' '5.6' '5.5' '4.4' '4.6' '5.9' '3.9' '3.1' '2.9' '5.2' '3.3'\n",
      " '4.7' '5.1' '3.5' '2.5' '1.9' '3' '2.7' '2.2' '2' '9.5' '2.1' '3.6' '2.8'\n",
      " '1.8' '3.8' '0' '1.6' '9.6' '2.4' '1.7' '1.1' '0.3' '1.5' '0.7' '1.2'\n",
      " '2.3' '0.5' '1.3' '0.2' '0.6' '1.4' '0.9' '1' '9.7']\n",
      "Количество вхождений каждого значения столбца User_Score\n",
      "NaN    6701\n",
      "tbd    2424\n",
      "7.8     324\n",
      "8       290\n",
      "8.2     282\n",
      "       ... \n",
      "1.5       2\n",
      "0.7       2\n",
      "0.3       2\n",
      "0         1\n",
      "9.7       1\n",
      "Name: User_Score, Length: 97, dtype: int64\n",
      "===================================================================================================================\n",
      "Уникальные значения столбца Rating:\n",
      "['E' nan 'M' 'T' 'E10+' 'K-A' 'AO' 'EC' 'RP']\n",
      "Количество вхождений каждого значения столбца Rating\n",
      "NaN     6766\n",
      "E       3990\n",
      "T       2961\n",
      "M       1563\n",
      "E10+    1420\n",
      "EC         8\n",
      "RP         3\n",
      "K-A        3\n",
      "AO         1\n",
      "Name: Rating, dtype: int64\n",
      "===================================================================================================================\n"
     ]
    },
    {
     "data": {
      "image/png": "[encoded data removed]",
      "text/plain": [
       "<Figure size 720x360 with 1 Axes>"
      ]
     },
     "metadata": {
      "needs_background": "light"
     },
     "output_type": "display_data"
    },
    {
     "data": {
      "image/png": "[encoded data removed]",
      "text/plain": [
       "<Figure size 720x360 with 1 Axes>"
      ]
     },
     "metadata": {
      "needs_background": "light"
     },
     "output_type": "display_data"
    },
    {
     "data": {
      "image/png": "[encoded data removed]",
      "text/plain": [
       "<Figure size 720x360 with 1 Axes>"
      ]
     },
     "metadata": {
      "needs_background": "light"
     },
     "output_type": "display_data"
    },
    {
     "data": {
      "image/png": "[encoded data removed]",
      "text/plain": [
       "<Figure size 720x360 with 1 Axes>"
      ]
     },
     "metadata": {
      "needs_background": "light"
     },
     "output_type": "display_data"
    },
    {
     "data": {
      "image/png": "[encoded data removed]",
      "text/plain": [
       "<Figure size 720x360 with 1 Axes>"
      ]
     },
     "metadata": {
      "needs_background": "light"
     },
     "output_type": "display_data"
    },
    {
     "data": {
      "image/png": "[encoded data removed]",
      "text/plain": [
       "<Figure size 720x360 with 1 Axes>"
      ]
     },
     "metadata": {
      "needs_background": "light"
     },
     "output_type": "display_data"
    },
    {
     "data": {
      "image/png": "[encoded data removed]",
      "text/plain": [
       "<Figure size 720x360 with 1 Axes>"
      ]
     },
     "metadata": {
      "needs_background": "light"
     },
     "output_type": "display_data"
    },
    {
     "data": {
      "image/png": "[encoded data removed]",
      "text/plain": [
       "<Figure size 720x360 with 1 Axes>"
      ]
     },
     "metadata": {
      "needs_background": "light"
     },
     "output_type": "display_data"
    },
    {
     "data": {
      "image/png": "[encoded data removed]",
      "text/plain": [
       "<Figure size 720x360 with 1 Axes>"
      ]
     },
     "metadata": {
      "needs_background": "light"
     },
     "output_type": "display_data"
    },
    {
     "data": {
      "image/png": "[encoded data removed]",
      "text/plain": [
       "<Figure size 720x360 with 1 Axes>"
      ]
     },
     "metadata": {
      "needs_background": "light"
     },
     "output_type": "display_data"
    },
    {
     "data": {
      "image/png": "[encoded data removed]",
      "text/plain": [
       "<Figure size 720x360 with 1 Axes>"
      ]
     },
     "metadata": {
      "needs_background": "light"
     },
     "output_type": "display_data"
    }
   ],
   "source": [
    "for col in df.columns:\n",
    "    _, ax = plt.subplots(figsize=(10, 5))\n",
    "    plt.title(col)\n",
    "    print(f'Уникальные значения столбца {col}:')\n",
    "    print(df[col].unique())\n",
    "    print(f'Количество вхождений каждого значения столбца {col}')\n",
    "    print(df[col].value_counts(dropna=False))\n",
    "    print('===================================================================================================================')\n",
    "    if (df[col].dtypes == 'float') | (df[col].dtypes == 'int'):\n",
    "        df[col].hist(ax=ax)\n",
    "    else:        \n",
    "        df[col].value_counts().plot(ax=ax, kind='hist')        "
   ]
  },
  {
   "cell_type": "markdown",
   "metadata": {},
   "source": [
    "**Выводы:**\n",
    "\n",
    "Столбец *Name*: В таблице много игр, которые были 1, 2 или 3 платформах. При этом есть серии игр, которые были выпущены на 9 или даже на 12 платформах\n",
    "\n",
    "Столбец *Platform*: Есть редкие, выбивающееся значения (2 очень популярные платформы), возможно их следует убрать из датасета\n",
    "\n",
    "Столбец *Year_of_Release*: Имеются пропуски, возможно игры были настолько старыми, что не нашлось записей об их выходе. Распределение имеет тяжелый левый хвост.\n",
    "\n",
    "Столбец *Genre*: Имеются пропуски. Возможно было тяжело определить конкретный жанр или попросту забыли его указать.\n",
    "\n",
    "Столбец *NA_sales*: Присутствуют нулевые значения. Скорее всего такие игры не выпускали в Северной Америке. Сильно неравномерное распределение\n",
    "\n",
    "Столбцец *EU_sales*:  Присутствуют нулевые значения. Скорее всего такие игры не выпускали в Европе. Сильно неравномерное распределение\n",
    "\n",
    "Столбец *JP_sales*: Присутствуют нулевые значения. Скорее всего такие игры не выпускали в Японии. Сильно неравномерное распределение\n",
    "\n",
    "Столбец *Critic_score*: Имеются пропуски, скорее всего эти игры были выпущены, когда статистика не велась и не было игровых критиков\n",
    "\n",
    "Столбец *User_Score*: Имеются пропуски, скорее всего эти игры были выпущены, когда статистика не велась и не было игроки не ставили оценки. Присутсвует странное и частое значение *tbd*, возможно расшивровывется как *to be determined* и означает, что игра вышла, но еще не прошло достаточно времени, чтобы набрать статистику оценок или же попросту не хватает оценок игры. На распределении есть выброс, соотвесвующий количеству вхождений значения *tbd*.\n",
    "\n",
    "Столбец *Rating*: Имеются пропуски. Возможно игры вышли, когда рейтинговое агенство отсутствовало, или агенство не смогло присвить рейтинг, или просто забыли вписать в базу. "
   ]
  },
  {
   "cell_type": "markdown",
   "metadata": {},
   "source": [
    "## Подготовка данных"
   ]
  },
  {
   "cell_type": "markdown",
   "metadata": {},
   "source": [
    "### Изменение регистров"
   ]
  },
  {
   "cell_type": "code",
   "execution_count": 4,
   "metadata": {},
   "outputs": [
    {
     "data": {
      "text/html": [
       "<div>\n",
       "<style scoped>\n",
       "    .dataframe tbody tr th:only-of-type {\n",
       "        vertical-align: middle;\n",
       "    }\n",
       "\n",
       "    .dataframe tbody tr th {\n",
       "        vertical-align: top;\n",
       "    }\n",
       "\n",
       "    .dataframe thead th {\n",
       "        text-align: right;\n",
       "    }\n",
       "</style>\n",
       "<table border=\"1\" class=\"dataframe\">\n",
       "  <thead>\n",
       "    <tr style=\"text-align: right;\">\n",
       "      <th></th>\n",
       "      <th>name</th>\n",
       "      <th>platform</th>\n",
       "      <th>year_of_release</th>\n",
       "      <th>genre</th>\n",
       "      <th>na_sales</th>\n",
       "      <th>eu_sales</th>\n",
       "      <th>jp_sales</th>\n",
       "      <th>other_sales</th>\n",
       "      <th>critic_score</th>\n",
       "      <th>user_score</th>\n",
       "      <th>rating</th>\n",
       "    </tr>\n",
       "  </thead>\n",
       "  <tbody>\n",
       "    <tr>\n",
       "      <td>0</td>\n",
       "      <td>Wii Sports</td>\n",
       "      <td>Wii</td>\n",
       "      <td>2006.0</td>\n",
       "      <td>Sports</td>\n",
       "      <td>41.36</td>\n",
       "      <td>28.96</td>\n",
       "      <td>3.77</td>\n",
       "      <td>8.45</td>\n",
       "      <td>76.0</td>\n",
       "      <td>8</td>\n",
       "      <td>E</td>\n",
       "    </tr>\n",
       "    <tr>\n",
       "      <td>1</td>\n",
       "      <td>Super Mario Bros.</td>\n",
       "      <td>NES</td>\n",
       "      <td>1985.0</td>\n",
       "      <td>Platform</td>\n",
       "      <td>29.08</td>\n",
       "      <td>3.58</td>\n",
       "      <td>6.81</td>\n",
       "      <td>0.77</td>\n",
       "      <td>NaN</td>\n",
       "      <td>NaN</td>\n",
       "      <td>NaN</td>\n",
       "    </tr>\n",
       "    <tr>\n",
       "      <td>2</td>\n",
       "      <td>Mario Kart Wii</td>\n",
       "      <td>Wii</td>\n",
       "      <td>2008.0</td>\n",
       "      <td>Racing</td>\n",
       "      <td>15.68</td>\n",
       "      <td>12.76</td>\n",
       "      <td>3.79</td>\n",
       "      <td>3.29</td>\n",
       "      <td>82.0</td>\n",
       "      <td>8.3</td>\n",
       "      <td>E</td>\n",
       "    </tr>\n",
       "    <tr>\n",
       "      <td>3</td>\n",
       "      <td>Wii Sports Resort</td>\n",
       "      <td>Wii</td>\n",
       "      <td>2009.0</td>\n",
       "      <td>Sports</td>\n",
       "      <td>15.61</td>\n",
       "      <td>10.93</td>\n",
       "      <td>3.28</td>\n",
       "      <td>2.95</td>\n",
       "      <td>80.0</td>\n",
       "      <td>8</td>\n",
       "      <td>E</td>\n",
       "    </tr>\n",
       "    <tr>\n",
       "      <td>4</td>\n",
       "      <td>Pokemon Red/Pokemon Blue</td>\n",
       "      <td>GB</td>\n",
       "      <td>1996.0</td>\n",
       "      <td>Role-Playing</td>\n",
       "      <td>11.27</td>\n",
       "      <td>8.89</td>\n",
       "      <td>10.22</td>\n",
       "      <td>1.00</td>\n",
       "      <td>NaN</td>\n",
       "      <td>NaN</td>\n",
       "      <td>NaN</td>\n",
       "    </tr>\n",
       "  </tbody>\n",
       "</table>\n",
       "</div>"
      ],
      "text/plain": [
       "                       name platform  year_of_release         genre  na_sales  \\\n",
       "0                Wii Sports      Wii           2006.0        Sports     41.36   \n",
       "1         Super Mario Bros.      NES           1985.0      Platform     29.08   \n",
       "2            Mario Kart Wii      Wii           2008.0        Racing     15.68   \n",
       "3         Wii Sports Resort      Wii           2009.0        Sports     15.61   \n",
       "4  Pokemon Red/Pokemon Blue       GB           1996.0  Role-Playing     11.27   \n",
       "\n",
       "   eu_sales  jp_sales  other_sales  critic_score user_score rating  \n",
       "0     28.96      3.77         8.45          76.0          8      E  \n",
       "1      3.58      6.81         0.77           NaN        NaN    NaN  \n",
       "2     12.76      3.79         3.29          82.0        8.3      E  \n",
       "3     10.93      3.28         2.95          80.0          8      E  \n",
       "4      8.89     10.22         1.00           NaN        NaN    NaN  "
      ]
     },
     "execution_count": 4,
     "metadata": {},
     "output_type": "execute_result"
    }
   ],
   "source": [
    "# Используем метод lower\n",
    "df.columns = df.columns.str.lower()\n",
    "df.head()"
   ]
  },
  {
   "cell_type": "markdown",
   "metadata": {},
   "source": [
    "### Изменение типов данных"
   ]
  },
  {
   "cell_type": "markdown",
   "metadata": {},
   "source": [
    "Изменим тип *year_of_release* на *int*, потому что год выхода всегда целочислен. В столбце *user_score*  изменим на *float*, чтобы было проще анализировать оценки."
   ]
  },
  {
   "cell_type": "code",
   "execution_count": 5,
   "metadata": {},
   "outputs": [],
   "source": [
    "# Так как столбец year_of_release содержит пропуски конвертируем в тип Int64, который допускает наличие пропусков\n",
    "df['year_of_release'] = df['year_of_release'].astype('Int64')"
   ]
  },
  {
   "cell_type": "markdown",
   "metadata": {},
   "source": [
    "Предварительно разберемся со значением *tbd* в столбце *user_score*, его можно заменить на пропуски и затем заполнить."
   ]
  },
  {
   "cell_type": "code",
   "execution_count": 6,
   "metadata": {},
   "outputs": [],
   "source": [
    "df.loc[df['user_score'] == 'tbd', 'user_score'] = np.nan\n",
    "# Изменим тип\n",
    "df['user_score'] = df['user_score'].astype('float')"
   ]
  },
  {
   "cell_type": "markdown",
   "metadata": {},
   "source": [
    "### Обработка пропусков"
   ]
  },
  {
   "cell_type": "code",
   "execution_count": 7,
   "metadata": {},
   "outputs": [
    {
     "data": {
      "text/plain": [
       "name                  2\n",
       "platform              0\n",
       "year_of_release     269\n",
       "genre                 2\n",
       "na_sales              0\n",
       "eu_sales              0\n",
       "jp_sales              0\n",
       "other_sales           0\n",
       "critic_score       8578\n",
       "user_score         9125\n",
       "rating             6766\n",
       "dtype: int64"
      ]
     },
     "execution_count": 7,
     "metadata": {},
     "output_type": "execute_result"
    }
   ],
   "source": [
    "# Посмотрим какие столбцы содержат пропуски\n",
    "df.isnull().sum()"
   ]
  },
  {
   "cell_type": "markdown",
   "metadata": {},
   "source": [
    "**Столбецы *name* и *genre***\n",
    "\n",
    "Пропусков всего два в каждом столбце из 16715 строк, поэтому их можно удалить."
   ]
  },
  {
   "cell_type": "code",
   "execution_count": 8,
   "metadata": {},
   "outputs": [],
   "source": [
    "df.dropna(axis=0, subset=['name', 'genre'], inplace=True)"
   ]
  },
  {
   "cell_type": "markdown",
   "metadata": {},
   "source": [
    "**Столбец *year_of_release***\n",
    "\n",
    "Так как консоли не вечны, и старым моделям приходят на смену новые, то пропуски можно заполнить средними значениями для каждой консоли. Напишем функцию, которая будет заполнять пропуски в одном столбце на основе группировки по другому столбцу"
   ]
  },
  {
   "cell_type": "code",
   "execution_count": 9,
   "metadata": {},
   "outputs": [],
   "source": [
    "# На вход функция будет принимать датасет, столбец, где нужно заполнить пропуски (target), \n",
    "# и столбец, по которому будет идти группировка (pattern)\n",
    "def fill_na(df, target, pattern):\n",
    "    \"\"\"\n",
    "    На вход функция будет принимать датасет, столбец, где нужно заполнить пропуски (target), \n",
    "    и столбец, по которому будет идти группировка (pattern).     \n",
    "    \"\"\"\n",
    "    values = df[pattern].unique()\n",
    "    # Пройдемся в цикле по всем значениям столбца pattern\n",
    "    for value in values:\n",
    "            # В зависимости от тип данных в столбце target будем искать среднее или моду\n",
    "        if (df[target].dtypes == 'float') or (df[target].dtypes == 'Int64') or (df[target].dtypes == 'int'):\n",
    "            # Найдем среднее значение столбца target для каждой группы столбца pattern\n",
    "            mean_value = round(df.loc[df[pattern] == value, target].mean())\n",
    "        else:\n",
    "            # Найдем моду столбца target для каждой группы столбца pattern\n",
    "            mean_value = df.loc[df[pattern] == value, target].mode()[0]\n",
    "        # Заполним пропуски\n",
    "        df.loc[df[pattern] == value, target] = df.loc[df[pattern] == value, target].fillna(mean_value)\n",
    "    return df"
   ]
  },
  {
   "cell_type": "code",
   "execution_count": 10,
   "metadata": {},
   "outputs": [],
   "source": [
    "# Проведем заполнение пропусков на основе группировки по платформам\n",
    "df = fill_na(df,'year_of_release', 'platform')"
   ]
  },
  {
   "cell_type": "markdown",
   "metadata": {},
   "source": [
    "**Столбцы *critic_score* и *user_score***\n",
    "\n",
    "При проставлении оценок игроки и критики могут быть предвзяты и субъективны, что не отражает действительной оценки игры. В последнее время есть множество примеров, когда игроки массово занижали оценки разным играм, потому что им не понравилось отсутвие родного языка, плоха оптимизация и т.д. В связи с этим пропуски в столбцах можно оставить, чтобы не портить статистику."
   ]
  },
  {
   "cell_type": "code",
   "execution_count": 11,
   "metadata": {},
   "outputs": [],
   "source": [
    "# # Заполним пропуски с оценками на основе группировки по жанру\n",
    "# df = fill_na(df, 'critic_score', 'genre')\n",
    "# df = fill_na(df, 'user_score', 'genre')"
   ]
  },
  {
   "cell_type": "markdown",
   "metadata": {},
   "source": [
    "**Столбец *rating***\n",
    "\n",
    "Не похоже, что пропуски случайны (их слишком много). Скорее всего пропуски в столбцах с рейтингом и оценками появились осознанно, возможно, что в год когда вышла игра никто не фиксировал рейтинги и не переносил в цифровой формат. "
   ]
  },
  {
   "cell_type": "code",
   "execution_count": 12,
   "metadata": {},
   "outputs": [],
   "source": [
    "# Заполним пропуски с оценками маркерное значение\n",
    "df['rating'].fillna('no_rating', inplace=True)"
   ]
  },
  {
   "cell_type": "code",
   "execution_count": 13,
   "metadata": {},
   "outputs": [
    {
     "data": {
      "text/plain": [
       "name                  0\n",
       "platform              0\n",
       "year_of_release       0\n",
       "genre                 0\n",
       "na_sales              0\n",
       "eu_sales              0\n",
       "jp_sales              0\n",
       "other_sales           0\n",
       "critic_score       8576\n",
       "user_score         9123\n",
       "rating                0\n",
       "dtype: int64"
      ]
     },
     "execution_count": 13,
     "metadata": {},
     "output_type": "execute_result"
    }
   ],
   "source": [
    "# Проверка\n",
    "df.isnull().sum()"
   ]
  },
  {
   "cell_type": "markdown",
   "metadata": {},
   "source": [
    "### Добавление нового столбца"
   ]
  },
  {
   "cell_type": "code",
   "execution_count": 14,
   "metadata": {},
   "outputs": [],
   "source": [
    "# Добавим новый столбец с суммарными продажами\n",
    "df['total_sales'] = df['na_sales'] + df['eu_sales'] + df['jp_sales'] + df['other_sales']"
   ]
  },
  {
   "cell_type": "markdown",
   "metadata": {},
   "source": [
    "### Обработка дубликатов"
   ]
  },
  {
   "cell_type": "code",
   "execution_count": 15,
   "metadata": {},
   "outputs": [
    {
     "data": {
      "text/plain": [
       "0"
      ]
     },
     "execution_count": 15,
     "metadata": {},
     "output_type": "execute_result"
    }
   ],
   "source": [
    "# Проверим есть ли дубликаты\n",
    "df.duplicated().sum()"
   ]
  },
  {
   "cell_type": "markdown",
   "metadata": {},
   "source": [
    "На первый взгляд повторов нет, но если изучить аббревиатуры рейтингов, то окажется, что рейтинги *E* и *K-A* означают одно и то же (рейтинг *E* заменил *K-A*). Для удобства заменим значения в столбце *rating*, кроме *RP*, так как оно означает, что рейтинг еще не присвоое. "
   ]
  },
  {
   "cell_type": "code",
   "execution_count": 16,
   "metadata": {},
   "outputs": [
    {
     "data": {
      "text/plain": [
       "array(['>6', 'no_rating', '>17', '>13', '>10', '>18', '>3', 'RP'],\n",
       "      dtype=object)"
      ]
     },
     "execution_count": 16,
     "metadata": {},
     "output_type": "execute_result"
    }
   ],
   "source": [
    "df.replace({'E':'>6', 'K-A':'>6', 'T':'>13', 'M':'>17', 'E10+':'>10', 'AO':'>18', 'EC':'>3'}, inplace=True)\n",
    "# Проверка\n",
    "df['rating'].unique()"
   ]
  },
  {
   "cell_type": "markdown",
   "metadata": {},
   "source": [
    "## Исследовательский анализ данных"
   ]
  },
  {
   "cell_type": "markdown",
   "metadata": {},
   "source": [
    "Посмотрим, сколько игр выпускались в разные годы"
   ]
  },
  {
   "cell_type": "code",
   "execution_count": 17,
   "metadata": {},
   "outputs": [
    {
     "data": {
      "text/html": [
       "<div>\n",
       "<style scoped>\n",
       "    .dataframe tbody tr th:only-of-type {\n",
       "        vertical-align: middle;\n",
       "    }\n",
       "\n",
       "    .dataframe tbody tr th {\n",
       "        vertical-align: top;\n",
       "    }\n",
       "\n",
       "    .dataframe thead th {\n",
       "        text-align: right;\n",
       "    }\n",
       "</style>\n",
       "<table border=\"1\" class=\"dataframe\">\n",
       "  <thead>\n",
       "    <tr style=\"text-align: right;\">\n",
       "      <th></th>\n",
       "      <th>count_of_games</th>\n",
       "    </tr>\n",
       "    <tr>\n",
       "      <th>year_of_release</th>\n",
       "      <th></th>\n",
       "    </tr>\n",
       "  </thead>\n",
       "  <tbody>\n",
       "    <tr>\n",
       "      <td>1980</td>\n",
       "      <td>9</td>\n",
       "    </tr>\n",
       "    <tr>\n",
       "      <td>1981</td>\n",
       "      <td>46</td>\n",
       "    </tr>\n",
       "    <tr>\n",
       "      <td>1982</td>\n",
       "      <td>53</td>\n",
       "    </tr>\n",
       "    <tr>\n",
       "      <td>1983</td>\n",
       "      <td>17</td>\n",
       "    </tr>\n",
       "    <tr>\n",
       "      <td>1984</td>\n",
       "      <td>14</td>\n",
       "    </tr>\n",
       "  </tbody>\n",
       "</table>\n",
       "</div>"
      ],
      "text/plain": [
       "                 count_of_games\n",
       "year_of_release                \n",
       "1980                          9\n",
       "1981                         46\n",
       "1982                         53\n",
       "1983                         17\n",
       "1984                         14"
      ]
     },
     "metadata": {},
     "output_type": "display_data"
    },
    {
     "data": {
      "text/plain": [
       "[Text(0, 0.5, 'Количество игр'), Text(0.5, 0, 'Год выхода')]"
      ]
     },
     "execution_count": 17,
     "metadata": {},
     "output_type": "execute_result"
    },
    {
     "data": {
      "image/png": "[encoded data removed]",
      "text/plain": [
       "<Figure size 720x288 with 1 Axes>"
      ]
     },
     "metadata": {
      "needs_background": "light"
     },
     "output_type": "display_data"
    }
   ],
   "source": [
    "# Создадим сводную таблицу\n",
    "sales_per_year = df.pivot_table(index='year_of_release', values='total_sales', aggfunc='count')\n",
    "# Переименуем столбец\n",
    "sales_per_year.columns = ['count_of_games']\n",
    "display(sales_per_year.head())\n",
    "# Простоим гистограмму\n",
    "_, ax = plt.subplots(figsize=(10,4))\n",
    "ax.tick_params(axis='x', rotation=90)\n",
    "plt.title('Распределение продаж игр по годам')\n",
    "sns.barplot(x=sales_per_year.index, y='count_of_games', data=sales_per_year, ax=ax)\n",
    "ax.set(xlabel='Год выхода', ylabel='Количество игр')"
   ]
  },
  {
   "cell_type": "markdown",
   "metadata": {},
   "source": [
    "**Вывод:** До 1995 игровая индустрия выпускала менее 200 игр в год. Игровой период до 1995 года можно отбросить, чтобы не учитывать статистические выбросы. К тому же индустрия значительно изменилась с 1980 года и не стоит планировать расходы на основе данных почти 40 летней давности. В 2008 и 2009 произошел игровой бум, когда выпускалось более 1400 игр в год."
   ]
  },
  {
   "cell_type": "markdown",
   "metadata": {},
   "source": [
    "Посмотрим, как менялись продажи по платформам"
   ]
  },
  {
   "cell_type": "code",
   "execution_count": 18,
   "metadata": {},
   "outputs": [
    {
     "data": {
      "text/plain": [
       "Text(0, 0.5, 'Суммарные продажи, млн. копий')"
      ]
     },
     "execution_count": 18,
     "metadata": {},
     "output_type": "execute_result"
    },
    {
     "data": {
      "image/png": "[encoded data removed]",
      "text/plain": [
       "<Figure size 1080x432 with 1 Axes>"
      ]
     },
     "metadata": {
      "needs_background": "light"
     },
     "output_type": "display_data"
    }
   ],
   "source": [
    "# Создадим сводную таблицу с суммарными продажами для каждой платформы\n",
    "sales_per_platform = df.pivot_table(\n",
    "    index='platform', values='total_sales', aggfunc='sum'\n",
    ").sort_values('total_sales', ascending=False)\n",
    "plt.figure(figsize=(15,6))\n",
    "sns.barplot(data=sales_per_platform, x=sales_per_platform.index, y='total_sales')\n",
    "plt.title('Распределение продаж по платформам')\n",
    "plt.xlabel('Платформа')\n",
    "plt.ylabel('Суммарные продажи, млн. копий')"
   ]
  },
  {
   "cell_type": "markdown",
   "metadata": {},
   "source": [
    "Самыми популярными можно считать 6 консолей, так как после PS виден резкий спад популярности"
   ]
  },
  {
   "cell_type": "code",
   "execution_count": 19,
   "metadata": {
    "scrolled": true
   },
   "outputs": [
    {
     "data": {
      "text/plain": [
       "Text(0, 0.5, 'Суммарные продажи, млн. копий')"
      ]
     },
     "execution_count": 19,
     "metadata": {},
     "output_type": "execute_result"
    },
    {
     "data": {
      "image/png": "[encoded data removed]",
      "text/plain": [
       "<Figure size 720x288 with 1 Axes>"
      ]
     },
     "metadata": {
      "needs_background": "light"
     },
     "output_type": "display_data"
    }
   ],
   "source": [
    "# Создадим список названий популярных платформ\n",
    "top_list = sales_per_platform.head(6).index.to_list()\n",
    "# Создадим новую таблицу, которая содержит только 6 популярных консолей\n",
    "top_sales = df[df['platform'].isin(top_list)].pivot_table(\n",
    "    index=['platform', 'year_of_release'], values='total_sales', aggfunc='sum'\n",
    ").reset_index().rename_axis(None, axis=1)\n",
    "# Постоим линейны график изменения прибыли для каждой консоли\n",
    "plt.figure(figsize=(10,4))\n",
    "plt.xlim((1990, 2016))\n",
    "sns.lineplot(data=top_sales, x='year_of_release', y='total_sales', hue='platform')\n",
    "plt.title('Распределение прибыли топ-6 платформ по годам')\n",
    "plt.xlabel('Год выхода игры')\n",
    "plt.ylabel('Суммарные продажи, млн. копий')"
   ]
  },
  {
   "cell_type": "markdown",
   "metadata": {},
   "source": [
    "**Выводы:** Наглядно сезонность выхода новых платформ можно оценить по консолям фирмы Playstation. В среднем новые консоли выходят каждые 5-6 лет. При этом в среднем консоли живут по 10 лет с пиком популярности в середине жизненного цикла. Спад популярности старых консолей вызван анонсом новых моделей. Возьмем за актуальный период время начиная с 2012, когда стабилизировались продажи игр"
   ]
  },
  {
   "cell_type": "markdown",
   "metadata": {},
   "source": [
    "Посмотрим на прибыльность консолей начиная с 2012"
   ]
  },
  {
   "cell_type": "code",
   "execution_count": 20,
   "metadata": {},
   "outputs": [
    {
     "data": {
      "image/png": "[encoded data removed]",
      "text/plain": [
       "<Figure size 1080x432 with 1 Axes>"
      ]
     },
     "metadata": {
      "needs_background": "light"
     },
     "output_type": "display_data"
    }
   ],
   "source": [
    "# Создадим сводную таблицу с данными от 2012 года\n",
    "actual_period = df.loc[df['year_of_release'] >= 2012].pivot_table(\n",
    "    index=['platform', 'year_of_release'], values='total_sales', aggfunc='sum'\n",
    ").reset_index().rename_axis(None, axis=1)\n",
    "# Построим графики прибыли для актуального периода\n",
    "_, ax = plt.subplots(figsize=(15,6))\n",
    "# plt.title('Profit for the actual period')\n",
    "for platform in actual_period['platform'].unique():\n",
    "    # Условие необходимо, чтобы убрать платформы, которые перестали приносить прибыль к 2016 году\n",
    "    if actual_period.loc[actual_period['platform']==platform , 'year_of_release'].max() == 2016:\n",
    "         actual_period.loc[actual_period['platform']==platform].plot(x='year_of_release', y='total_sales', ax=ax, label=platform)\n",
    "plt.legend()\n",
    "plt.title('Количество проданных копий для каждой платформы за актуальный период')\n",
    "plt.xlabel('Год выхода игры')\n",
    "plt.ylabel('Суммарные продажи, млн. копий')\n",
    "plt.show()"
   ]
  },
  {
   "cell_type": "markdown",
   "metadata": {},
   "source": [
    "**Вывод:** На момент составления прогноза (2016 год) больше всего прибыли приносили 3 платформы (PS4, XOne и 3DS). При этом для всех платформ наблюдался спад прибыли. К этому списку можно добавить PC и тогда у нас будут охвачены все игровые сегменты: портативные платформы (3DS), игровые домашние консоли (PS4, XOne) и компьютеры (PC). PC показывает низкие продажи или из-за непопулярности как игровой платформы (видимо большинство измпользуют компьютеры для работы), или из-за скачивания игроками игр с торрентов, которые не учитываются как продажи. \n",
    "\n",
    "Другие версии игровых приставок (PS3, X360, PSV, Wii и WiiU) можно убрать, так как их срок жизни подошел к концу (PS3, X360) или они не набрали популярности по всему миру (PSV, Wii и WiiU)."
   ]
  },
  {
   "cell_type": "code",
   "execution_count": 21,
   "metadata": {},
   "outputs": [
    {
     "data": {
      "text/html": [
       "<div>\n",
       "<style scoped>\n",
       "    .dataframe tbody tr th:only-of-type {\n",
       "        vertical-align: middle;\n",
       "    }\n",
       "\n",
       "    .dataframe tbody tr th {\n",
       "        vertical-align: top;\n",
       "    }\n",
       "\n",
       "    .dataframe thead th {\n",
       "        text-align: right;\n",
       "    }\n",
       "</style>\n",
       "<table border=\"1\" class=\"dataframe\">\n",
       "  <thead>\n",
       "    <tr style=\"text-align: right;\">\n",
       "      <th></th>\n",
       "      <th>index</th>\n",
       "      <th>name</th>\n",
       "      <th>platform</th>\n",
       "      <th>year_of_release</th>\n",
       "      <th>genre</th>\n",
       "      <th>na_sales</th>\n",
       "      <th>eu_sales</th>\n",
       "      <th>jp_sales</th>\n",
       "      <th>other_sales</th>\n",
       "      <th>critic_score</th>\n",
       "      <th>user_score</th>\n",
       "      <th>rating</th>\n",
       "      <th>total_sales</th>\n",
       "    </tr>\n",
       "  </thead>\n",
       "  <tbody>\n",
       "    <tr>\n",
       "      <td>0</td>\n",
       "      <td>31</td>\n",
       "      <td>Call of Duty: Black Ops 3</td>\n",
       "      <td>PS4</td>\n",
       "      <td>2015</td>\n",
       "      <td>Shooter</td>\n",
       "      <td>6.03</td>\n",
       "      <td>5.86</td>\n",
       "      <td>0.36</td>\n",
       "      <td>2.38</td>\n",
       "      <td>NaN</td>\n",
       "      <td>NaN</td>\n",
       "      <td>no_rating</td>\n",
       "      <td>14.63</td>\n",
       "    </tr>\n",
       "    <tr>\n",
       "      <td>1</td>\n",
       "      <td>33</td>\n",
       "      <td>Pokemon X/Pokemon Y</td>\n",
       "      <td>3DS</td>\n",
       "      <td>2013</td>\n",
       "      <td>Role-Playing</td>\n",
       "      <td>5.28</td>\n",
       "      <td>4.19</td>\n",
       "      <td>4.35</td>\n",
       "      <td>0.78</td>\n",
       "      <td>NaN</td>\n",
       "      <td>NaN</td>\n",
       "      <td>no_rating</td>\n",
       "      <td>14.60</td>\n",
       "    </tr>\n",
       "    <tr>\n",
       "      <td>2</td>\n",
       "      <td>42</td>\n",
       "      <td>Grand Theft Auto V</td>\n",
       "      <td>PS4</td>\n",
       "      <td>2014</td>\n",
       "      <td>Action</td>\n",
       "      <td>3.96</td>\n",
       "      <td>6.31</td>\n",
       "      <td>0.38</td>\n",
       "      <td>1.97</td>\n",
       "      <td>97.0</td>\n",
       "      <td>8.3</td>\n",
       "      <td>&gt;17</td>\n",
       "      <td>12.62</td>\n",
       "    </tr>\n",
       "    <tr>\n",
       "      <td>3</td>\n",
       "      <td>47</td>\n",
       "      <td>Pokemon Omega Ruby/Pokemon Alpha Sapphire</td>\n",
       "      <td>3DS</td>\n",
       "      <td>2014</td>\n",
       "      <td>Role-Playing</td>\n",
       "      <td>4.35</td>\n",
       "      <td>3.49</td>\n",
       "      <td>3.10</td>\n",
       "      <td>0.74</td>\n",
       "      <td>NaN</td>\n",
       "      <td>NaN</td>\n",
       "      <td>no_rating</td>\n",
       "      <td>11.68</td>\n",
       "    </tr>\n",
       "    <tr>\n",
       "      <td>4</td>\n",
       "      <td>62</td>\n",
       "      <td>New Super Mario Bros. 2</td>\n",
       "      <td>3DS</td>\n",
       "      <td>2012</td>\n",
       "      <td>Platform</td>\n",
       "      <td>3.66</td>\n",
       "      <td>3.14</td>\n",
       "      <td>2.47</td>\n",
       "      <td>0.63</td>\n",
       "      <td>78.0</td>\n",
       "      <td>7.2</td>\n",
       "      <td>&gt;6</td>\n",
       "      <td>9.90</td>\n",
       "    </tr>\n",
       "  </tbody>\n",
       "</table>\n",
       "</div>"
      ],
      "text/plain": [
       "   index                                       name platform  year_of_release  \\\n",
       "0     31                  Call of Duty: Black Ops 3      PS4             2015   \n",
       "1     33                        Pokemon X/Pokemon Y      3DS             2013   \n",
       "2     42                         Grand Theft Auto V      PS4             2014   \n",
       "3     47  Pokemon Omega Ruby/Pokemon Alpha Sapphire      3DS             2014   \n",
       "4     62                    New Super Mario Bros. 2      3DS             2012   \n",
       "\n",
       "          genre  na_sales  eu_sales  jp_sales  other_sales  critic_score  \\\n",
       "0       Shooter      6.03      5.86      0.36         2.38           NaN   \n",
       "1  Role-Playing      5.28      4.19      4.35         0.78           NaN   \n",
       "2        Action      3.96      6.31      0.38         1.97          97.0   \n",
       "3  Role-Playing      4.35      3.49      3.10         0.74           NaN   \n",
       "4      Platform      3.66      3.14      2.47         0.63          78.0   \n",
       "\n",
       "   user_score     rating  total_sales  \n",
       "0         NaN  no_rating        14.63  \n",
       "1         NaN  no_rating        14.60  \n",
       "2         8.3        >17        12.62  \n",
       "3         NaN  no_rating        11.68  \n",
       "4         7.2         >6         9.90  "
      ]
     },
     "execution_count": 21,
     "metadata": {},
     "output_type": "execute_result"
    }
   ],
   "source": [
    "# Создадим датасет с актуальными данными для потенциально прибыльных платформ\n",
    "top_list = ['3DS', 'PS4', 'XOne','PC']\n",
    "actual_platforms = df.loc[(df['year_of_release'] >= 2012) & (df['platform'].isin(top_list))].reset_index()\n",
    "actual_platforms.head()"
   ]
  },
  {
   "cell_type": "markdown",
   "metadata": {},
   "source": [
    "Построим график «ящик с усами» по глобальным продажам игр в разбивке по платформам"
   ]
  },
  {
   "cell_type": "code",
   "execution_count": 22,
   "metadata": {},
   "outputs": [
    {
     "data": {
      "text/plain": [
       "Text(0, 0.5, 'Суммарные продажи, млн. копий')"
      ]
     },
     "execution_count": 22,
     "metadata": {},
     "output_type": "execute_result"
    },
    {
     "data": {
      "image/png": "[encoded data removed]",
      "text/plain": [
       "<Figure size 1080x288 with 1 Axes>"
      ]
     },
     "metadata": {
      "needs_background": "light"
     },
     "output_type": "display_data"
    }
   ],
   "source": [
    "plt.figure(figsize=(15,4))\n",
    "plt.ylim(top=2)\n",
    "sns.boxplot(data=actual_platforms, x='platform', y='total_sales')\n",
    "plt.title('Количество проданных копий для перспективных платформ за актуальный период')\n",
    "plt.xlabel('Платформа')\n",
    "plt.ylabel('Суммарные продажи, млн. копий')"
   ]
  },
  {
   "cell_type": "markdown",
   "metadata": {},
   "source": [
    "**Выводы:** Графики для *PS4* и *XOne* очень похожи и в среднем приносят больше продаж игр (почти 0.25 млн копий). В целом игры, которые набрали более 1,75 млн. копий, являются выбросами и своего рода бестселлерами на платформах *PS4* и *XOne*. При этом продажи для 3DS в среднем были чуть ниже и был меньше разброс. Игры для платформа *3DS* можно считать бестселлерами при более скромных показателях (начиная с 0,75 мнл. проданных копий). Меньше всего приносил PC с наименьшим разбросом продаж для компьютеров игра считается выдающейся, если она продалась в тираже больше 0,5 млн. копий. "
   ]
  },
  {
   "cell_type": "markdown",
   "metadata": {},
   "source": [
    "Посмотрим, как влияют на продажи внутри одной популярной платформы (PS4) отзывы пользователей и критиков"
   ]
  },
  {
   "cell_type": "code",
   "execution_count": 23,
   "metadata": {},
   "outputs": [
    {
     "data": {
      "image/png": "[encoded data removed]",
      "text/plain": [
       "<Figure size 432x288 with 1 Axes>"
      ]
     },
     "metadata": {
      "needs_background": "light"
     },
     "output_type": "display_data"
    },
    {
     "data": {
      "image/png": "[encoded data removed]",
      "text/plain": [
       "<Figure size 432x288 with 1 Axes>"
      ]
     },
     "metadata": {
      "needs_background": "light"
     },
     "output_type": "display_data"
    },
    {
     "data": {
      "text/plain": [
       "<matplotlib.axes._subplots.AxesSubplot at 0x7f97b7739a50>"
      ]
     },
     "execution_count": 23,
     "metadata": {},
     "output_type": "execute_result"
    },
    {
     "data": {
      "image/png": "[encoded data removed]",
      "text/plain": [
       "<Figure size 432x288 with 2 Axes>"
      ]
     },
     "metadata": {
      "needs_background": "light"
     },
     "output_type": "display_data"
    }
   ],
   "source": [
    "# Построим диаграммы рассеяния в зависимости от отзывово критиков и игроков\n",
    "df.loc[(df['platform'] == 'PS4') & (df['year_of_release'] >= 2012)].plot(\n",
    "    x='user_score', y='total_sales',kind='scatter',color='r', title='Users_influence'\n",
    ")\n",
    "plt.title('Зависимость продаж игры от оценки игроков для PS4')\n",
    "plt.xlabel('Оценка игроков')\n",
    "plt.ylabel('Суммарные продажи, млн. копий')\n",
    "plt.show()\n",
    "df.loc[(df['platform'] == 'PS4') & (df['year_of_release'] >= 2012)].plot(\n",
    "    x='critic_score', y='total_sales', kind='scatter',color='b', title='Critics_influence'\n",
    ")\n",
    "plt.title('Зависимость продаж игры от оценки критиков для PS4')\n",
    "plt.xlabel('Оценка критиков')\n",
    "plt.ylabel('Суммарные продажи, млн. копий')\n",
    "plt.show()\n",
    "# Посчитаем кореляцию\n",
    "sns.heatmap(df.loc[(df['platform'] == 'PS4') & (df['year_of_release'] >= 2012)].corr(), annot=True)"
   ]
  },
  {
   "cell_type": "markdown",
   "metadata": {},
   "source": [
    "На продажи игр на PS4 критики оказывали куда большее влияние, чем игроки. Они вообще негативно влияли на продажи."
   ]
  },
  {
   "cell_type": "markdown",
   "metadata": {},
   "source": [
    "Сравним данные для других платформ"
   ]
  },
  {
   "cell_type": "code",
   "execution_count": 24,
   "metadata": {},
   "outputs": [
    {
     "data": {
      "image/png": "[encoded data removed]",
      "text/plain": [
       "<Figure size 432x288 with 2 Axes>"
      ]
     },
     "metadata": {
      "needs_background": "light"
     },
     "output_type": "display_data"
    },
    {
     "name": "stdout",
     "output_type": "stream",
     "text": [
      "Влияние критиков на продажи для 3DS:0.323 \n",
      "Влияние игроков на продажи для 3DS:0.204 \n"
     ]
    },
    {
     "data": {
      "image/png": "[encoded data removed]",
      "text/plain": [
       "<Figure size 432x288 with 2 Axes>"
      ]
     },
     "metadata": {
      "needs_background": "light"
     },
     "output_type": "display_data"
    },
    {
     "name": "stdout",
     "output_type": "stream",
     "text": [
      "Влияние критиков на продажи для PS4:0.407 \n",
      "Влияние игроков на продажи для PS4:-0.032 \n"
     ]
    },
    {
     "data": {
      "image/png": "[encoded data removed]",
      "text/plain": [
       "<Figure size 432x288 with 2 Axes>"
      ]
     },
     "metadata": {
      "needs_background": "light"
     },
     "output_type": "display_data"
    },
    {
     "name": "stdout",
     "output_type": "stream",
     "text": [
      "Влияние критиков на продажи для XOne:0.417 \n",
      "Влияние игроков на продажи для XOne:-0.069 \n"
     ]
    },
    {
     "data": {
      "image/png": "[encoded data removed]",
      "text/plain": [
       "<Figure size 432x288 with 2 Axes>"
      ]
     },
     "metadata": {
      "needs_background": "light"
     },
     "output_type": "display_data"
    },
    {
     "name": "stdout",
     "output_type": "stream",
     "text": [
      "Влияние критиков на продажи для PC:0.237 \n",
      "Влияние игроков на продажи для PC:-0.122 \n"
     ]
    }
   ],
   "source": [
    "for platform in top_list:\n",
    "    corr = df.loc[(df['platform'] == platform) & (df['year_of_release'] >= 2012)].corr()\n",
    "    plt.title(f'Продажи для {platform}')\n",
    "    sns.heatmap(corr, annot=True)\n",
    "    plt.show()\n",
    "    print(f\"Влияние критиков на продажи для {platform}:{corr.loc['critic_score','total_sales']:.3f} \")\n",
    "    print(f\"Влияние игроков на продажи для {platform}:{corr.loc['user_score','total_sales']:.3f} \")"
   ]
  },
  {
   "cell_type": "markdown",
   "metadata": {},
   "source": [
    "**Выводы:** Для всех потенциальных платформ критики оказывали больше влияния на продажи, чем игроки. В это легко поверить, потому что людям при выборе игры легче доверится экспертному мнению, чем мнению незнакомых, неопытных людей. Интересно, что в Японии не купили ни одной игры для PC за рассматриваемый период"
   ]
  },
  {
   "cell_type": "markdown",
   "metadata": {},
   "source": [
    "Посмотрим на общее распределение игр по жанрам"
   ]
  },
  {
   "cell_type": "code",
   "execution_count": 25,
   "metadata": {},
   "outputs": [
    {
     "data": {
      "text/plain": [
       "Text(0, 0.5, 'Количество игр')"
      ]
     },
     "execution_count": 25,
     "metadata": {},
     "output_type": "execute_result"
    },
    {
     "data": {
      "image/png": "[encoded data removed]",
      "text/plain": [
       "<Figure size 1080x288 with 1 Axes>"
      ]
     },
     "metadata": {
      "needs_background": "light"
     },
     "output_type": "display_data"
    }
   ],
   "source": [
    "actual = df.loc[df['year_of_release'] >= 2012]\n",
    "plt.figure(figsize=(15,4))\n",
    "sns.countplot(data=actual, x='genre', order = actual['genre'].value_counts().index)\n",
    "plt.title('Распределение игр по жанрам')\n",
    "plt.xlabel('Жанр')\n",
    "plt.ylabel('Количество игр')"
   ]
  },
  {
   "cell_type": "markdown",
   "metadata": {},
   "source": [
    "**Вывод:** Абсолютным лидером являлись игры в жанре *Action*, затем шли жанры *Role-Playing*,*Adventure*, *Sports*,  *Shooter* и *Misc*. Абсолютным аутсайдером являлись пазлы."
   ]
  },
  {
   "cell_type": "markdown",
   "metadata": {},
   "source": [
    "Посмоторим на распределение прибыли по жанрам."
   ]
  },
  {
   "cell_type": "code",
   "execution_count": 26,
   "metadata": {},
   "outputs": [
    {
     "data": {
      "text/plain": [
       "Text(0, 0.5, 'Количество проданных копий, млн.')"
      ]
     },
     "execution_count": 26,
     "metadata": {},
     "output_type": "execute_result"
    },
    {
     "data": {
      "image/png": "[encoded data removed]",
      "text/plain": [
       "<Figure size 1080x432 with 1 Axes>"
      ]
     },
     "metadata": {
      "needs_background": "light"
     },
     "output_type": "display_data"
    }
   ],
   "source": [
    "top_genres = actual.pivot_table(index='genre', values='total_sales', aggfunc='sum').sort_values('total_sales', ascending=False)\n",
    "plt.figure(figsize=(15,6))\n",
    "sns.barplot(data=top_genres, x=top_genres.index, y='total_sales')\n",
    "plt.title('Успешность в продажах каждого жанра')\n",
    "plt.xlabel('Жанр')\n",
    "plt.ylabel('Количество проданных копий, млн.')"
   ]
  },
  {
   "cell_type": "markdown",
   "metadata": {},
   "source": [
    "**Выводы:** 4 жанра из топ-5 самых популярных совпадают. Выбивается жанр *Shooter*, которые занял место *Adventures*. Концы списков похожи. Для большинства жанров выполняется закономерность: чем популярнее жанр, тем он продаваемее. Различия в порядке жанров отсортированных по популярности и прибыли могут быть вызваны тем, что стоимость продажи жанров с разными позициями в списках отличаются от стоимости продажи их соседей."
   ]
  },
  {
   "cell_type": "markdown",
   "metadata": {},
   "source": [
    "Посмотрим на среднюю продаваемость игр для каждого жанра"
   ]
  },
  {
   "cell_type": "code",
   "execution_count": 27,
   "metadata": {},
   "outputs": [
    {
     "data": {
      "text/plain": [
       "Text(0, 0.5, 'Количество проданных копий, млн.')"
      ]
     },
     "execution_count": 27,
     "metadata": {},
     "output_type": "execute_result"
    },
    {
     "data": {
      "image/png": "[encoded data removed]",
      "text/plain": [
       "<Figure size 1080x432 with 1 Axes>"
      ]
     },
     "metadata": {
      "needs_background": "light"
     },
     "output_type": "display_data"
    }
   ],
   "source": [
    "top_genres = actual.pivot_table(index='genre', values='total_sales', aggfunc='mean').sort_values('total_sales', ascending=False)\n",
    "plt.figure(figsize=(15,6))\n",
    "sns.barplot(data=top_genres, x=top_genres.index, y='total_sales')\n",
    "plt.title('Средние продажи одной игры каждого жанра')\n",
    "plt.xlabel('Жанр')\n",
    "plt.ylabel('Количество проданных копий, млн.')"
   ]
  },
  {
   "cell_type": "markdown",
   "metadata": {},
   "source": [
    "**Вывод:** Сравнив графики средних продаж и суммарных, можно сказать, сами по себе шутеры продаваемее. Однако экшен-игр выходят в разы больше, что делает их наиболее продаваемыми."
   ]
  },
  {
   "cell_type": "markdown",
   "metadata": {},
   "source": [
    "## Составим портрет пользователя каждого региона"
   ]
  },
  {
   "cell_type": "markdown",
   "metadata": {},
   "source": [
    "Определим рейтинги популярности платформ, жанров и рейтингов для каждого региона"
   ]
  },
  {
   "cell_type": "code",
   "execution_count": 28,
   "metadata": {},
   "outputs": [],
   "source": [
    "# Напишем функцию\n",
    "def get_popularity_rating(df, target):\n",
    "    \"\"\"\n",
    "    target - столбец по которому мы хотим построить рейтинг\n",
    "    \"\"\"\n",
    "    regions = ['na_sales', 'eu_sales', 'jp_sales']\n",
    "    regions_df = df.pivot_table(index=target, values=regions, aggfunc='sum').reset_index().rename_axis(None, axis=1)\n",
    "    for region in regions:\n",
    "        regions_df\n",
    "        regions_df.sort_values(region,ascending=False, inplace=True)\n",
    "        plt.figure(figsize=(12,4))\n",
    "        plt.title(f\"Рейтинг популярности {target} в {region.split('_')[0].upper()}\")\n",
    "        sns.barplot(data=regions_df.head(5), x=target, y=region)\n",
    "        plt.show()"
   ]
  },
  {
   "cell_type": "markdown",
   "metadata": {},
   "source": [
    "Построим популярность платформ по регионам."
   ]
  },
  {
   "cell_type": "code",
   "execution_count": 29,
   "metadata": {},
   "outputs": [
    {
     "data": {
      "image/png": "[encoded data removed]",
      "text/plain": [
       "<Figure size 864x288 with 1 Axes>"
      ]
     },
     "metadata": {
      "needs_background": "light"
     },
     "output_type": "display_data"
    },
    {
     "data": {
      "image/png": "[encoded data removed]",
      "text/plain": [
       "<Figure size 864x288 with 1 Axes>"
      ]
     },
     "metadata": {
      "needs_background": "light"
     },
     "output_type": "display_data"
    },
    {
     "data": {
      "image/png": "[encoded data removed]",
      "text/plain": [
       "<Figure size 864x288 with 1 Axes>"
      ]
     },
     "metadata": {
      "needs_background": "light"
     },
     "output_type": "display_data"
    }
   ],
   "source": [
    "get_popularity_rating(actual, 'platform')"
   ]
  },
  {
   "cell_type": "markdown",
   "metadata": {},
   "source": [
    "**Вывод:** Список популярных платформ для Европы и Америки схожи, не считая того, что в Европе лидирует *PS4*, а в Америке *X360* (видимо они поддерживают родного производителя). В Японии совершенно иная ситуация, в рейтинге присутсвуют платформы только Японских компаний причем лидер - портативная консоль, видимо Японцы не прочь поиграть по пути на работу в метро. "
   ]
  },
  {
   "cell_type": "markdown",
   "metadata": {},
   "source": [
    "Построим популярность жанров по регионам."
   ]
  },
  {
   "cell_type": "code",
   "execution_count": 30,
   "metadata": {},
   "outputs": [
    {
     "data": {
      "image/png": "[encoded data removed]",
      "text/plain": [
       "<Figure size 864x288 with 1 Axes>"
      ]
     },
     "metadata": {
      "needs_background": "light"
     },
     "output_type": "display_data"
    },
    {
     "data": {
      "image/png": "[encoded data removed]",
      "text/plain": [
       "<Figure size 864x288 with 1 Axes>"
      ]
     },
     "metadata": {
      "needs_background": "light"
     },
     "output_type": "display_data"
    },
    {
     "data": {
      "image/png": "[encoded data removed]",
      "text/plain": [
       "<Figure size 864x288 with 1 Axes>"
      ]
     },
     "metadata": {
      "needs_background": "light"
     },
     "output_type": "display_data"
    }
   ],
   "source": [
    "get_popularity_rating(actual, 'genre')"
   ]
  },
  {
   "cell_type": "markdown",
   "metadata": {},
   "source": [
    "**Выводы:** США и Европа предпочитают одинаковые жанры, с единственным отличием Американцы предпочитают *Misc* игры гоночным симуляторам, как принято в Европе. В Японии снова полностью иная ситуация, Японцы тоже любят жанры *Action* и *Misc**, но не в такой степени как Американцы и жители Европы. В стране восходящего солнца ,больше всего пользуются популярностью ролевые игры и замыкают топ-5 файтинги."
   ]
  },
  {
   "cell_type": "markdown",
   "metadata": {},
   "source": [
    "Построим популярность рейтингов по регионам."
   ]
  },
  {
   "cell_type": "code",
   "execution_count": 31,
   "metadata": {},
   "outputs": [
    {
     "data": {
      "image/png": "[encoded data removed]",
      "text/plain": [
       "<Figure size 864x288 with 1 Axes>"
      ]
     },
     "metadata": {
      "needs_background": "light"
     },
     "output_type": "display_data"
    },
    {
     "data": {
      "image/png": "[encoded data removed]",
      "text/plain": [
       "<Figure size 864x288 with 1 Axes>"
      ]
     },
     "metadata": {
      "needs_background": "light"
     },
     "output_type": "display_data"
    },
    {
     "data": {
      "image/png": "[encoded data removed]",
      "text/plain": [
       "<Figure size 864x288 with 1 Axes>"
      ]
     },
     "metadata": {
      "needs_background": "light"
     },
     "output_type": "display_data"
    }
   ],
   "source": [
    "get_popularity_rating(actual, 'rating')"
   ]
  },
  {
   "cell_type": "markdown",
   "metadata": {},
   "source": [
    "**Выводы:** И снова Америка и Европа показывают схожие тенденции, и там и там популярны игры для детей от 17 лет и присутствуют игры без рейтинга в достаточно большем объеме. В Японии ситуация снова отличается, первое место занимают игры без рейтинга, дальше с большим отрывом идут игры от 6 и 13 лет. Менее популряны игры от 17 и 10 лет. \n",
    "\n",
    "Присутсвие игр без рейтинга в большем объеме можно объяснить следующими причинами:\n",
    " 1. Работники магазина не любят заносить возрастной рейтинг в базу\n",
    " 2. Рейтинговая компания не поспевает обрабатывать все запросы\n",
    " 3. Не всех разработчиков заботит какой рейтинг у их игры , и поэтому не отправляют в агенство игры на оценку\n",
    " 4. Игре присвоила рейтинг другая компания\n",
    " 5. Компания не смогла присвоить рейтинг"
   ]
  },
  {
   "cell_type": "markdown",
   "metadata": {},
   "source": [
    "## Проверим гипотезы"
   ]
  },
  {
   "cell_type": "markdown",
   "metadata": {},
   "source": [
    "### Средние пользовательские рейтинги платформ Xbox One и PC одинаковые"
   ]
  },
  {
   "cell_type": "markdown",
   "metadata": {},
   "source": [
    "Сравним нулевую гипотезу:Средние пользовательские рейтинги платформ Xbox One и PC одинаковые\n",
    "\n",
    "Против альтернативной гипотезы: Средние пользовательские рейтинги платформ Xbox One и PC Не равны\n",
    "\n",
    "Для сравнение используем величину достигаемого уровня значимости p-value, которая показывает вероятность получить значение случайной величины более экстремальное, чем выбранное значение статистики при условии, что нулевая гипотеза верна."
   ]
  },
  {
   "cell_type": "code",
   "execution_count": 32,
   "metadata": {},
   "outputs": [
    {
     "data": {
      "text/plain": [
       "array(['PS3', 'X360', 'PS4', '3DS', 'DS', 'XOne', 'WiiU', 'Wii', 'PC',\n",
       "       'PSV', 'PSP'], dtype=object)"
      ]
     },
     "execution_count": 32,
     "metadata": {},
     "output_type": "execute_result"
    }
   ],
   "source": [
    "actual['platform'].unique()"
   ]
  },
  {
   "cell_type": "code",
   "execution_count": 33,
   "metadata": {},
   "outputs": [
    {
     "name": "stdout",
     "output_type": "stream",
     "text": [
      "Достигаемый уровень значимости: 0.5535080500643661\n",
      "Не отвергаем нулевую гипотезу. Пользовательские рейтинги платформ Xbox One и PC считаем одинаковыми\n"
     ]
    }
   ],
   "source": [
    "# Создадим выборки с нужными значениями\n",
    "pc_user_score = actual.loc[actual['platform'] == 'PC', 'user_score'].dropna()\n",
    "xone_user_score = actual.loc[actual['platform'] == 'XOne', 'user_score'].dropna()\n",
    "# Пороговый уровень значимости\n",
    "alpha = 0.05\n",
    "results = st.ttest_ind(pc_user_score,xone_user_score)\n",
    "print(f\"Достигаемый уровень значимости: {results.pvalue}\")\n",
    "if results.pvalue < alpha:\n",
    "    print('Отвергаем нулевую гипотезу. Пользовательские рейтинги платформ Xbox One и PC не равны')\n",
    "else:\n",
    "    print('Не отвергаем нулевую гипотезу. Пользовательские рейтинги платформ Xbox One и PC считаем одинаковыми')"
   ]
  },
  {
   "cell_type": "markdown",
   "metadata": {},
   "source": [
    "**Вывод:** Не отвергаем нулевую гипотезу. Значит вероятность получить одинаковые рейтинги для двух платформ сравнительно высока."
   ]
  },
  {
   "cell_type": "markdown",
   "metadata": {},
   "source": [
    "### Средние пользовательские рейтинги жанров Action и Sports разные."
   ]
  },
  {
   "cell_type": "markdown",
   "metadata": {},
   "source": [
    "Сравним нулевую гипотезу: Средние пользовательские рейтинги жанров Action и Sports одинаковые\n",
    "\n",
    "Против альтернативной гипотезы: Средние пользовательские рейтинги жанров Action и Sports разные\n",
    "\n",
    "Для сравнение используем величину достигаемого уровня значимости p-value, которая показывает вероятность получить значение случайной величины более экстремальное, чем выбранное значение статистики при условии, что нулевая гипотеза верна."
   ]
  },
  {
   "cell_type": "code",
   "execution_count": 34,
   "metadata": {},
   "outputs": [
    {
     "name": "stdout",
     "output_type": "stream",
     "text": [
      "Достигаемый уровень значимости: 3.517102771333629e-26\n",
      "Отвергаем нулевую гипотезу. Пользовательские рейтинги жанров Action и Sports разные\n"
     ]
    }
   ],
   "source": [
    "# Создадим выборки с нужными значениями\n",
    "action_user_score = actual.loc[actual['genre'] == 'Action', 'user_score'].dropna()\n",
    "sports_user_score = actual.loc[actual['genre'] == 'Sports', 'user_score'].dropna()\n",
    "# Пороговый уровень значимости\n",
    "alpha = 0.05\n",
    "results = st.ttest_ind(action_user_score, sports_user_score)\n",
    "print(f\"Достигаемый уровень значимости: {results.pvalue}\")\n",
    "if results.pvalue < alpha:\n",
    "    print('Отвергаем нулевую гипотезу. Пользовательские рейтинги жанров Action и Sports разные')\n",
    "else:\n",
    "    print('Не отвергаем нулевую гипотезу. Пользовательские рейтинги жанров Action и Sports считаем одинаковыми')"
   ]
  },
  {
   "cell_type": "markdown",
   "metadata": {},
   "source": [
    "**Вывод:** Отвергаем нулевую гипотезу. Значит вероятность получить одинаковые рейтинги для двух жанров мала."
   ]
  },
  {
   "cell_type": "markdown",
   "metadata": {},
   "source": [
    "## Общий вывод"
   ]
  },
  {
   "cell_type": "markdown",
   "metadata": {},
   "source": [
    "В процессе выполнения проекты были отработаны и применены различные методы предобработки данных, были обработаны пропуски и дубликаты, преобразованы существующие данные и добавлены новые.\n",
    "\n",
    "По выполнении проекты были получены следующие выводы:\n",
    "- Активные рост игровой индустрии начался в 1995, когда начали выпускать более 200 игр в год. В 2008 и 2009 наблюдались пики с примерно 1400 играми в год;\n",
    "- За весь собранные период наиболее популярные платформы - *PS2*, *X360*, *PS3*, *Wii* ,*DS* и *PS*.\n",
    "- Согласно анализу популярных консолей срок жизни в среднем 10 лет, а новые консоли появляются каждые 5 лет\n",
    "- По столбчатой диаграмме продаж видно, что после 2012 зависимость более-менее стабильна, поэтому для разработки стратегии на 2017, стоит анализировать данные с 2012 года;\n",
    "- 2016 является одним из переходных лет, когда старое поколение консолей находится на минимуме популярности, а платформы нового поколения только появились и еще не набрали популярность;\n",
    "- К потенциальным платформам можно отнести портативную консоль *3DS*, игровые домашние консоли *PS4* и *XOne* (наравне друг с другом приносят больше продаж), а также стоит уделить внимание компьютерам, но в меньшей мере. *PC* стоит оставить, чтобы полностью охватить весь рынок платформ, но так как *PC* стабильно приносит небольшую прибыль по сравнению с другими, то не стоит закупать слишком много игр на продажу для *PC*;\n",
    "- Для всех перспективных платформ оценки критиков оказывали большее влияние на объемы продаж, чем пользовательские;\n",
    "- По миру самым популярным жанром является *Action* и самым прибыльным тоже. В целом чем популярнее жанр, тем больше продаж. Выбиваются жанры *Shooter* и *Adventures*. Различия в порядке жанров отсортированных по популярности и прибыли могут быть вызваны тем, что стоимость продажи жанров с разными позициями в списках отличаются от стоимости продажи их соседей. При этом в среднем одна игра жанра шутер продается минимум в 1,5 раза лучше других жанров;\n",
    "- Что касается количества продаваемых консолей, то США и Европа идут нога в ногу, а за ними Япония;\n",
    "- Касательно региональных особенностей, то в США и Европе схожие тенденции: популярность жанра *Action*, игр для детей от 17 лет. Единственное различие - платформы, в США предпочитают *X360*, в Европе - *PS4*. В Японии ситуация координально отличается: самым популярный жанр - *Role-playing*, популярные игры имеет рейтинг от 13 или от 6 лет, в качестве игровых платформ используют консоли от Японских компаний *Playstation* и *Nintendo*;\n",
    "- После проверки гипотез можно сказать, что пользовательские рейтинги платформ Xbox One и PC равны и пользовательские рейтинги жанров Action и Sports разные.\n",
    "\n",
    "На основе полученных выводов можно сделать следующие предположения касательно планов на 2017 год:\n",
    "\n",
    " - 2017 также приходится на период смены поколений платформ. В связи с этим следует переходить на продажу игр для консолей нового поколения, но при этом в меньшей мере закупать игры для консолей старого поколения (потому что их срок  жизни еще не подошел к концу и они могут принести прибыль) и компьютеров (чтобы охватить весь рынок и они приносят низкую, но стабильную прибыль);\n",
    " - Именно на основе оценок критиков, а не игроков предсказывать какие игры будут покупаться чаще и ,соответсвенно, планировать объемы закупок;\n",
    " - Можно сделать для Японии отдельный сайт или направлять им другую рекламу игр. Не стоит рекламировать игры на *X360* и *XOne* в японии, так как американские консоли не популярны. Для Японии помимо акцентирования внимания на игры для платформ компании *Playsation*, также стоит рекламировать консоли *Nintendo*. Что касается жанров, то для Японии в больших объемах следует закупать игры жанра *Role-playing* и игры без рейтинга. Для Америки и Европы сайты и рекламу можно оставить одинаковыми. Для этих регионов стоит закупать побольше *Action* игр и игр для детей от 17 лет."
   ]
  },
  {
   "cell_type": "code",
   "execution_count": null,
   "metadata": {},
   "outputs": [],
   "source": []
  }
 ],
 "metadata": {
  "ExecuteTimeLog": [
   {
    "duration": 1113,
    "start_time": "2021-08-30T16:54:17.395Z"
   },
   {
    "duration": 316,
    "start_time": "2021-08-30T16:55:13.527Z"
   },
   {
    "duration": 184,
    "start_time": "2021-08-30T16:55:44.344Z"
   },
   {
    "duration": 22649,
    "start_time": "2021-08-30T16:55:51.989Z"
   },
   {
    "duration": 241,
    "start_time": "2021-08-30T16:56:14.640Z"
   },
   {
    "duration": 13187,
    "start_time": "2021-08-30T16:56:35.061Z"
   },
   {
    "duration": 12482,
    "start_time": "2021-08-30T16:56:59.813Z"
   },
   {
    "duration": 214,
    "start_time": "2021-08-30T16:57:23.965Z"
   },
   {
    "duration": 12124,
    "start_time": "2021-08-30T16:57:51.599Z"
   },
   {
    "duration": 12353,
    "start_time": "2021-08-30T16:58:42.058Z"
   },
   {
    "duration": 14149,
    "start_time": "2021-08-30T16:59:09.302Z"
   },
   {
    "duration": 12509,
    "start_time": "2021-08-30T17:00:40.388Z"
   },
   {
    "duration": 13933,
    "start_time": "2021-08-30T17:01:33.567Z"
   },
   {
    "duration": 14148,
    "start_time": "2021-08-30T17:02:18.541Z"
   },
   {
    "duration": 3,
    "start_time": "2021-08-30T17:02:59.800Z"
   },
   {
    "duration": 50,
    "start_time": "2021-08-30T17:03:53.208Z"
   },
   {
    "duration": 53,
    "start_time": "2021-08-30T17:05:48.677Z"
   },
   {
    "duration": 53,
    "start_time": "2021-08-30T17:05:54.630Z"
   },
   {
    "duration": 54,
    "start_time": "2021-08-30T17:06:02.340Z"
   },
   {
    "duration": 690,
    "start_time": "2021-08-30T17:06:07.411Z"
   },
   {
    "duration": 4,
    "start_time": "2021-08-30T17:07:15.461Z"
   },
   {
    "duration": 4,
    "start_time": "2021-08-30T17:07:21.700Z"
   },
   {
    "duration": 3,
    "start_time": "2021-08-30T17:11:25.483Z"
   },
   {
    "duration": 52,
    "start_time": "2021-08-30T17:11:26.450Z"
   },
   {
    "duration": 348,
    "start_time": "2021-08-30T17:13:21.155Z"
   },
   {
    "duration": 2234,
    "start_time": "2021-08-30T17:13:30.438Z"
   },
   {
    "duration": 50081,
    "start_time": "2021-08-30T17:13:56.208Z"
   },
   {
    "duration": 2194,
    "start_time": "2021-08-30T17:15:16.727Z"
   },
   {
    "duration": 366,
    "start_time": "2021-08-30T17:15:24.520Z"
   },
   {
    "duration": 2203,
    "start_time": "2021-08-30T17:15:29.786Z"
   },
   {
    "duration": 2166,
    "start_time": "2021-08-30T17:15:41.442Z"
   },
   {
    "duration": 4574,
    "start_time": "2021-08-30T17:15:58.663Z"
   },
   {
    "duration": 11,
    "start_time": "2021-08-30T17:16:06.265Z"
   },
   {
    "duration": 23056,
    "start_time": "2021-08-30T17:17:09.509Z"
   },
   {
    "duration": 39676,
    "start_time": "2021-08-30T17:17:35.389Z"
   },
   {
    "duration": 981,
    "start_time": "2021-08-30T17:19:38.545Z"
   },
   {
    "duration": 56,
    "start_time": "2021-08-30T17:19:39.528Z"
   },
   {
    "duration": 2167,
    "start_time": "2021-08-30T17:19:39.587Z"
   },
   {
    "duration": 20040,
    "start_time": "2021-08-30T17:19:41.756Z"
   },
   {
    "duration": 857,
    "start_time": "2021-08-30T17:20:01.797Z"
   },
   {
    "duration": 5,
    "start_time": "2021-08-30T17:20:24.406Z"
   },
   {
    "duration": 6,
    "start_time": "2021-08-30T17:20:34.319Z"
   },
   {
    "duration": 180,
    "start_time": "2021-08-30T17:20:43.144Z"
   },
   {
    "duration": 2267,
    "start_time": "2021-08-30T17:22:19.008Z"
   },
   {
    "duration": 20,
    "start_time": "2021-08-30T17:35:21.057Z"
   },
   {
    "duration": 22,
    "start_time": "2021-08-30T17:35:28.863Z"
   },
   {
    "duration": 200,
    "start_time": "2021-08-30T17:54:54.539Z"
   },
   {
    "duration": 196,
    "start_time": "2021-08-30T17:55:30.381Z"
   },
   {
    "duration": 5,
    "start_time": "2021-08-30T17:55:44.211Z"
   },
   {
    "duration": 2,
    "start_time": "2021-08-30T17:57:19.638Z"
   },
   {
    "duration": 4,
    "start_time": "2021-08-30T18:01:33.823Z"
   },
   {
    "duration": 172,
    "start_time": "2021-08-30T18:01:38.959Z"
   },
   {
    "duration": 65,
    "start_time": "2021-08-30T18:01:44.492Z"
   },
   {
    "duration": 6,
    "start_time": "2021-08-30T18:01:46.688Z"
   },
   {
    "duration": 3,
    "start_time": "2021-08-30T18:01:55.391Z"
   },
   {
    "duration": 3,
    "start_time": "2021-08-30T18:01:59.025Z"
   },
   {
    "duration": 19,
    "start_time": "2021-08-30T18:02:01.600Z"
   },
   {
    "duration": 13,
    "start_time": "2021-08-30T18:02:27.138Z"
   },
   {
    "duration": 182,
    "start_time": "2021-08-30T18:06:18.917Z"
   },
   {
    "duration": 19,
    "start_time": "2021-08-30T18:19:36.702Z"
   },
   {
    "duration": 20,
    "start_time": "2021-08-30T18:19:50.136Z"
   },
   {
    "duration": 20,
    "start_time": "2021-08-30T18:19:57.308Z"
   },
   {
    "duration": 5,
    "start_time": "2021-08-30T18:20:02.909Z"
   },
   {
    "duration": 20,
    "start_time": "2021-08-30T18:20:15.018Z"
   },
   {
    "duration": 8,
    "start_time": "2021-08-30T18:20:41.270Z"
   },
   {
    "duration": 10,
    "start_time": "2021-08-30T18:20:47.685Z"
   },
   {
    "duration": 12,
    "start_time": "2021-08-30T18:20:55.123Z"
   },
   {
    "duration": 3,
    "start_time": "2021-08-30T18:21:36.660Z"
   },
   {
    "duration": 167,
    "start_time": "2021-08-30T18:21:46.723Z"
   },
   {
    "duration": 4,
    "start_time": "2021-08-30T18:21:52.407Z"
   },
   {
    "duration": 3,
    "start_time": "2021-08-30T18:21:59.452Z"
   },
   {
    "duration": 170,
    "start_time": "2021-08-30T18:22:05.409Z"
   },
   {
    "duration": 4,
    "start_time": "2021-08-30T18:22:10.095Z"
   },
   {
    "duration": 9,
    "start_time": "2021-08-30T18:22:50.848Z"
   },
   {
    "duration": 4,
    "start_time": "2021-08-30T18:24:39.421Z"
   },
   {
    "duration": 10,
    "start_time": "2021-08-30T18:24:41.910Z"
   },
   {
    "duration": 13,
    "start_time": "2021-08-30T18:24:47.676Z"
   },
   {
    "duration": 7,
    "start_time": "2021-08-30T18:25:35.923Z"
   },
   {
    "duration": 6,
    "start_time": "2021-08-30T18:25:45.432Z"
   },
   {
    "duration": 20,
    "start_time": "2021-08-30T18:25:52.526Z"
   },
   {
    "duration": 136,
    "start_time": "2021-08-30T18:27:40.721Z"
   },
   {
    "duration": 8,
    "start_time": "2021-08-30T18:27:44.588Z"
   },
   {
    "duration": 5,
    "start_time": "2021-08-30T18:30:06.097Z"
   },
   {
    "duration": 9,
    "start_time": "2021-08-30T18:30:55.293Z"
   },
   {
    "duration": 4,
    "start_time": "2021-08-30T18:31:15.995Z"
   },
   {
    "duration": 3,
    "start_time": "2021-08-30T18:33:29.320Z"
   },
   {
    "duration": 9,
    "start_time": "2021-08-30T18:34:35.263Z"
   },
   {
    "duration": 9,
    "start_time": "2021-08-30T18:34:39.079Z"
   },
   {
    "duration": 4,
    "start_time": "2021-08-30T18:35:27.069Z"
   },
   {
    "duration": 63,
    "start_time": "2021-08-30T18:41:40.994Z"
   },
   {
    "duration": 4,
    "start_time": "2021-08-30T18:47:52.860Z"
   },
   {
    "duration": 344,
    "start_time": "2021-08-30T18:48:17.206Z"
   },
   {
    "duration": 5,
    "start_time": "2021-08-30T18:49:04.456Z"
   },
   {
    "duration": 10,
    "start_time": "2021-08-30T18:50:05.383Z"
   },
   {
    "duration": 9,
    "start_time": "2021-08-30T18:50:10.067Z"
   },
   {
    "duration": 3,
    "start_time": "2021-08-30T18:50:13.513Z"
   },
   {
    "duration": 5,
    "start_time": "2021-08-30T18:50:14.608Z"
   },
   {
    "duration": 420,
    "start_time": "2021-08-30T18:50:15.125Z"
   },
   {
    "duration": 593,
    "start_time": "2021-08-30T18:50:50.666Z"
   },
   {
    "duration": 1061,
    "start_time": "2021-08-30T18:51:30.928Z"
   },
   {
    "duration": 60,
    "start_time": "2021-08-30T18:51:31.990Z"
   },
   {
    "duration": 2332,
    "start_time": "2021-08-30T18:51:32.055Z"
   },
   {
    "duration": 12,
    "start_time": "2021-08-30T18:51:34.388Z"
   },
   {
    "duration": 6,
    "start_time": "2021-08-30T18:51:34.402Z"
   },
   {
    "duration": 10,
    "start_time": "2021-08-30T18:51:34.409Z"
   },
   {
    "duration": 7,
    "start_time": "2021-08-30T18:51:34.422Z"
   },
   {
    "duration": 4,
    "start_time": "2021-08-30T18:51:34.431Z"
   },
   {
    "duration": 9,
    "start_time": "2021-08-30T18:51:34.437Z"
   },
   {
    "duration": 56,
    "start_time": "2021-08-30T18:51:34.448Z"
   },
   {
    "duration": 9,
    "start_time": "2021-08-30T18:51:51.853Z"
   },
   {
    "duration": 3,
    "start_time": "2021-08-30T18:52:03.100Z"
   },
   {
    "duration": 5,
    "start_time": "2021-08-30T18:52:03.440Z"
   },
   {
    "duration": 35,
    "start_time": "2021-08-30T18:52:04.040Z"
   },
   {
    "duration": 9,
    "start_time": "2021-08-30T18:52:05.367Z"
   },
   {
    "duration": 4,
    "start_time": "2021-08-30T18:52:27.381Z"
   },
   {
    "duration": 5,
    "start_time": "2021-08-30T18:52:27.585Z"
   },
   {
    "duration": 129,
    "start_time": "2021-08-30T18:52:27.877Z"
   },
   {
    "duration": 8,
    "start_time": "2021-08-30T18:52:28.288Z"
   },
   {
    "duration": 1069,
    "start_time": "2021-08-30T18:52:47.460Z"
   },
   {
    "duration": 57,
    "start_time": "2021-08-30T18:52:48.530Z"
   },
   {
    "duration": 2253,
    "start_time": "2021-08-30T18:52:48.588Z"
   },
   {
    "duration": 13,
    "start_time": "2021-08-30T18:52:50.843Z"
   },
   {
    "duration": 12,
    "start_time": "2021-08-30T18:52:50.858Z"
   },
   {
    "duration": 27,
    "start_time": "2021-08-30T18:52:50.872Z"
   },
   {
    "duration": 17,
    "start_time": "2021-08-30T18:52:50.901Z"
   },
   {
    "duration": 6,
    "start_time": "2021-08-30T18:52:50.921Z"
   },
   {
    "duration": 21,
    "start_time": "2021-08-30T18:52:50.929Z"
   },
   {
    "duration": 66,
    "start_time": "2021-08-30T18:52:50.952Z"
   },
   {
    "duration": 10,
    "start_time": "2021-08-30T18:52:51.020Z"
   },
   {
    "duration": 1038,
    "start_time": "2021-08-30T18:53:02.535Z"
   },
   {
    "duration": 55,
    "start_time": "2021-08-30T18:53:03.575Z"
   },
   {
    "duration": 2286,
    "start_time": "2021-08-30T18:53:03.632Z"
   },
   {
    "duration": 13,
    "start_time": "2021-08-30T18:53:05.919Z"
   },
   {
    "duration": 7,
    "start_time": "2021-08-30T18:53:05.933Z"
   },
   {
    "duration": 10,
    "start_time": "2021-08-30T18:53:05.941Z"
   },
   {
    "duration": 9,
    "start_time": "2021-08-30T18:53:05.952Z"
   },
   {
    "duration": 4,
    "start_time": "2021-08-30T18:53:05.962Z"
   },
   {
    "duration": 4,
    "start_time": "2021-08-30T18:53:05.985Z"
   },
   {
    "duration": 535,
    "start_time": "2021-08-30T18:53:05.991Z"
   },
   {
    "duration": 152,
    "start_time": "2021-08-30T18:53:06.376Z"
   },
   {
    "duration": 358,
    "start_time": "2021-08-30T18:55:02.705Z"
   },
   {
    "duration": 1066,
    "start_time": "2021-08-30T18:55:11.000Z"
   },
   {
    "duration": 54,
    "start_time": "2021-08-30T18:55:12.067Z"
   },
   {
    "duration": 2263,
    "start_time": "2021-08-30T18:55:12.123Z"
   },
   {
    "duration": 12,
    "start_time": "2021-08-30T18:55:14.388Z"
   },
   {
    "duration": 8,
    "start_time": "2021-08-30T18:55:14.402Z"
   },
   {
    "duration": 16,
    "start_time": "2021-08-30T18:55:14.411Z"
   },
   {
    "duration": 8,
    "start_time": "2021-08-30T18:55:14.428Z"
   },
   {
    "duration": 3,
    "start_time": "2021-08-30T18:55:14.438Z"
   },
   {
    "duration": 76,
    "start_time": "2021-08-30T18:55:14.442Z"
   },
   {
    "duration": 8,
    "start_time": "2021-08-30T18:55:14.519Z"
   },
   {
    "duration": 1046,
    "start_time": "2021-08-30T19:02:07.454Z"
   },
   {
    "duration": 56,
    "start_time": "2021-08-30T19:02:08.502Z"
   },
   {
    "duration": 2380,
    "start_time": "2021-08-30T19:02:08.563Z"
   },
   {
    "duration": 13,
    "start_time": "2021-08-30T19:02:10.945Z"
   },
   {
    "duration": 6,
    "start_time": "2021-08-30T19:02:10.959Z"
   },
   {
    "duration": 22,
    "start_time": "2021-08-30T19:02:10.966Z"
   },
   {
    "duration": 10,
    "start_time": "2021-08-30T19:02:10.989Z"
   },
   {
    "duration": 5,
    "start_time": "2021-08-30T19:02:11.001Z"
   },
   {
    "duration": 170,
    "start_time": "2021-08-30T19:02:11.008Z"
   },
   {
    "duration": 8,
    "start_time": "2021-08-30T19:02:11.180Z"
   },
   {
    "duration": 581,
    "start_time": "2021-08-30T19:25:44.021Z"
   },
   {
    "duration": 1112,
    "start_time": "2021-08-30T19:26:05.883Z"
   },
   {
    "duration": 57,
    "start_time": "2021-08-30T19:26:06.997Z"
   },
   {
    "duration": 2246,
    "start_time": "2021-08-30T19:26:07.055Z"
   },
   {
    "duration": 12,
    "start_time": "2021-08-30T19:26:09.303Z"
   },
   {
    "duration": 7,
    "start_time": "2021-08-30T19:26:09.316Z"
   },
   {
    "duration": 17,
    "start_time": "2021-08-30T19:26:09.324Z"
   },
   {
    "duration": 12,
    "start_time": "2021-08-30T19:26:09.342Z"
   },
   {
    "duration": 3,
    "start_time": "2021-08-30T19:26:09.356Z"
   },
   {
    "duration": 161,
    "start_time": "2021-08-30T19:26:09.361Z"
   },
   {
    "duration": 592,
    "start_time": "2021-08-30T19:26:09.523Z"
   },
   {
    "duration": 166,
    "start_time": "2021-08-30T19:26:09.951Z"
   },
   {
    "duration": 948,
    "start_time": "2021-08-30T19:28:08.747Z"
   },
   {
    "duration": 56,
    "start_time": "2021-08-30T19:28:09.696Z"
   },
   {
    "duration": 2281,
    "start_time": "2021-08-30T19:28:09.754Z"
   },
   {
    "duration": 12,
    "start_time": "2021-08-30T19:28:12.037Z"
   },
   {
    "duration": 5,
    "start_time": "2021-08-30T19:28:12.050Z"
   },
   {
    "duration": 9,
    "start_time": "2021-08-30T19:28:12.057Z"
   },
   {
    "duration": 23,
    "start_time": "2021-08-30T19:28:12.068Z"
   },
   {
    "duration": 4,
    "start_time": "2021-08-30T19:28:12.092Z"
   },
   {
    "duration": 155,
    "start_time": "2021-08-30T19:28:12.098Z"
   },
   {
    "duration": 63,
    "start_time": "2021-08-30T19:28:12.255Z"
   },
   {
    "duration": 9,
    "start_time": "2021-08-30T19:28:12.320Z"
   },
   {
    "duration": 519,
    "start_time": "2021-08-30T19:28:27.174Z"
   },
   {
    "duration": 364,
    "start_time": "2021-08-30T19:29:15.129Z"
   },
   {
    "duration": 22,
    "start_time": "2021-08-30T19:29:27.436Z"
   },
   {
    "duration": 20,
    "start_time": "2021-08-30T19:29:37.266Z"
   },
   {
    "duration": 4,
    "start_time": "2021-08-30T19:31:36.956Z"
   },
   {
    "duration": 9,
    "start_time": "2021-08-30T19:31:43.205Z"
   },
   {
    "duration": 1055,
    "start_time": "2021-08-30T19:32:04.225Z"
   },
   {
    "duration": 56,
    "start_time": "2021-08-30T19:32:05.282Z"
   },
   {
    "duration": 2315,
    "start_time": "2021-08-30T19:32:05.340Z"
   },
   {
    "duration": 11,
    "start_time": "2021-08-30T19:32:07.657Z"
   },
   {
    "duration": 16,
    "start_time": "2021-08-30T19:32:07.670Z"
   },
   {
    "duration": 20,
    "start_time": "2021-08-30T19:32:07.687Z"
   },
   {
    "duration": 11,
    "start_time": "2021-08-30T19:32:07.708Z"
   },
   {
    "duration": 5,
    "start_time": "2021-08-30T19:32:07.720Z"
   },
   {
    "duration": 158,
    "start_time": "2021-08-30T19:32:07.727Z"
   },
   {
    "duration": 57,
    "start_time": "2021-08-30T19:32:07.887Z"
   },
   {
    "duration": 94,
    "start_time": "2021-08-30T19:32:07.945Z"
   },
   {
    "duration": 13,
    "start_time": "2021-08-30T19:32:08.041Z"
   },
   {
    "duration": 261,
    "start_time": "2021-08-30T19:32:17.583Z"
   },
   {
    "duration": 953,
    "start_time": "2021-08-30T19:32:57.832Z"
   },
   {
    "duration": 6,
    "start_time": "2021-08-30T19:33:51.315Z"
   },
   {
    "duration": 18,
    "start_time": "2021-08-30T19:33:53.937Z"
   },
   {
    "duration": 5,
    "start_time": "2021-08-30T19:34:09.579Z"
   },
   {
    "duration": 22,
    "start_time": "2021-08-30T19:34:23.583Z"
   },
   {
    "duration": 10,
    "start_time": "2021-08-30T19:34:34.295Z"
   },
   {
    "duration": 1034,
    "start_time": "2021-08-30T19:34:42.823Z"
   },
   {
    "duration": 56,
    "start_time": "2021-08-30T19:34:43.858Z"
   },
   {
    "duration": 2258,
    "start_time": "2021-08-30T19:34:43.917Z"
   },
   {
    "duration": 13,
    "start_time": "2021-08-30T19:34:46.177Z"
   },
   {
    "duration": 5,
    "start_time": "2021-08-30T19:34:46.191Z"
   },
   {
    "duration": 10,
    "start_time": "2021-08-30T19:34:46.198Z"
   },
   {
    "duration": 9,
    "start_time": "2021-08-30T19:34:46.209Z"
   },
   {
    "duration": 7,
    "start_time": "2021-08-30T19:34:46.220Z"
   },
   {
    "duration": 164,
    "start_time": "2021-08-30T19:34:46.229Z"
   },
   {
    "duration": 59,
    "start_time": "2021-08-30T19:34:46.395Z"
   },
   {
    "duration": 88,
    "start_time": "2021-08-30T19:34:46.455Z"
   },
   {
    "duration": 10,
    "start_time": "2021-08-30T19:34:46.544Z"
   },
   {
    "duration": 9,
    "start_time": "2021-08-30T19:34:51.277Z"
   },
   {
    "duration": 3,
    "start_time": "2021-08-30T19:35:08.123Z"
   },
   {
    "duration": 55,
    "start_time": "2021-08-30T19:35:08.128Z"
   },
   {
    "duration": 2274,
    "start_time": "2021-08-30T19:35:08.185Z"
   },
   {
    "duration": 13,
    "start_time": "2021-08-30T19:35:10.461Z"
   },
   {
    "duration": 9,
    "start_time": "2021-08-30T19:35:10.476Z"
   },
   {
    "duration": 11,
    "start_time": "2021-08-30T19:35:10.487Z"
   },
   {
    "duration": 12,
    "start_time": "2021-08-30T19:35:10.499Z"
   },
   {
    "duration": 3,
    "start_time": "2021-08-30T19:35:10.513Z"
   },
   {
    "duration": 154,
    "start_time": "2021-08-30T19:35:10.518Z"
   },
   {
    "duration": 18,
    "start_time": "2021-08-30T19:35:11.245Z"
   },
   {
    "duration": 9,
    "start_time": "2021-08-30T19:35:15.459Z"
   },
   {
    "duration": 260,
    "start_time": "2021-08-30T19:35:21.299Z"
   },
   {
    "duration": 6,
    "start_time": "2021-08-30T19:35:32.017Z"
   },
   {
    "duration": 22,
    "start_time": "2021-08-30T19:35:41.164Z"
   },
   {
    "duration": 5,
    "start_time": "2021-08-30T19:35:49.474Z"
   },
   {
    "duration": 19,
    "start_time": "2021-08-30T19:35:51.865Z"
   },
   {
    "duration": 4,
    "start_time": "2021-08-30T19:35:58.911Z"
   },
   {
    "duration": 58,
    "start_time": "2021-08-30T19:35:58.917Z"
   },
   {
    "duration": 2370,
    "start_time": "2021-08-30T19:35:58.977Z"
   },
   {
    "duration": 12,
    "start_time": "2021-08-30T19:36:01.349Z"
   },
   {
    "duration": 10,
    "start_time": "2021-08-30T19:36:01.363Z"
   },
   {
    "duration": 16,
    "start_time": "2021-08-30T19:36:01.375Z"
   },
   {
    "duration": 15,
    "start_time": "2021-08-30T19:36:01.393Z"
   },
   {
    "duration": 12,
    "start_time": "2021-08-30T19:36:01.409Z"
   },
   {
    "duration": 221,
    "start_time": "2021-08-30T19:36:01.423Z"
   },
   {
    "duration": 92,
    "start_time": "2021-08-30T19:36:01.646Z"
   },
   {
    "duration": 6,
    "start_time": "2021-08-30T19:36:01.740Z"
   },
   {
    "duration": 23,
    "start_time": "2021-08-30T19:36:01.747Z"
   },
   {
    "duration": 6,
    "start_time": "2021-08-30T19:38:48.788Z"
   },
   {
    "duration": 3,
    "start_time": "2021-08-30T19:41:12.793Z"
   },
   {
    "duration": 7,
    "start_time": "2021-08-30T19:41:16.815Z"
   },
   {
    "duration": 7,
    "start_time": "2021-08-30T19:41:28.051Z"
   },
   {
    "duration": 398,
    "start_time": "2021-08-30T19:41:59.497Z"
   },
   {
    "duration": 431,
    "start_time": "2021-08-30T19:42:46.957Z"
   },
   {
    "duration": 10,
    "start_time": "2021-08-30T19:43:24.320Z"
   },
   {
    "duration": 6,
    "start_time": "2021-08-30T19:45:34.986Z"
   },
   {
    "duration": 8,
    "start_time": "2021-08-30T19:45:40.282Z"
   },
   {
    "duration": 1113,
    "start_time": "2021-08-30T19:45:58.855Z"
   },
   {
    "duration": 57,
    "start_time": "2021-08-30T19:45:59.970Z"
   },
   {
    "duration": 2410,
    "start_time": "2021-08-30T19:46:00.031Z"
   },
   {
    "duration": 13,
    "start_time": "2021-08-30T19:46:02.442Z"
   },
   {
    "duration": 9,
    "start_time": "2021-08-30T19:46:02.456Z"
   },
   {
    "duration": 280,
    "start_time": "2021-08-30T19:46:02.467Z"
   },
   {
    "duration": 196,
    "start_time": "2021-08-30T19:46:02.553Z"
   },
   {
    "duration": 196,
    "start_time": "2021-08-30T19:46:02.554Z"
   },
   {
    "duration": 195,
    "start_time": "2021-08-30T19:46:02.556Z"
   },
   {
    "duration": 195,
    "start_time": "2021-08-30T19:46:02.557Z"
   },
   {
    "duration": 195,
    "start_time": "2021-08-30T19:46:02.558Z"
   },
   {
    "duration": 193,
    "start_time": "2021-08-30T19:46:02.561Z"
   },
   {
    "duration": 192,
    "start_time": "2021-08-30T19:46:02.563Z"
   },
   {
    "duration": 192,
    "start_time": "2021-08-30T19:46:02.564Z"
   },
   {
    "duration": 192,
    "start_time": "2021-08-30T19:46:02.565Z"
   },
   {
    "duration": 7,
    "start_time": "2021-08-30T19:46:24.731Z"
   },
   {
    "duration": 5,
    "start_time": "2021-08-30T19:46:28.188Z"
   },
   {
    "duration": 7,
    "start_time": "2021-08-30T19:46:30.001Z"
   },
   {
    "duration": 10,
    "start_time": "2021-08-30T19:46:43.068Z"
   },
   {
    "duration": 4,
    "start_time": "2021-08-30T19:46:49.207Z"
   },
   {
    "duration": 9,
    "start_time": "2021-08-30T19:46:51.027Z"
   },
   {
    "duration": 5,
    "start_time": "2021-08-30T19:47:15.691Z"
   },
   {
    "duration": 8,
    "start_time": "2021-08-30T19:47:17.438Z"
   },
   {
    "duration": 4,
    "start_time": "2021-08-30T19:47:46.357Z"
   },
   {
    "duration": 7,
    "start_time": "2021-08-30T19:47:48.185Z"
   },
   {
    "duration": 77,
    "start_time": "2021-08-30T19:47:52.102Z"
   },
   {
    "duration": 9,
    "start_time": "2021-08-30T19:47:56.494Z"
   },
   {
    "duration": 1052,
    "start_time": "2021-08-30T19:48:04.527Z"
   },
   {
    "duration": 58,
    "start_time": "2021-08-30T19:48:05.581Z"
   },
   {
    "duration": 2321,
    "start_time": "2021-08-30T19:48:05.643Z"
   },
   {
    "duration": 19,
    "start_time": "2021-08-30T19:48:07.966Z"
   },
   {
    "duration": 5,
    "start_time": "2021-08-30T19:48:07.986Z"
   },
   {
    "duration": 7,
    "start_time": "2021-08-30T19:48:07.993Z"
   },
   {
    "duration": 12,
    "start_time": "2021-08-30T19:48:08.001Z"
   },
   {
    "duration": 8,
    "start_time": "2021-08-30T19:48:08.015Z"
   },
   {
    "duration": 4,
    "start_time": "2021-08-30T19:48:08.024Z"
   },
   {
    "duration": 505,
    "start_time": "2021-08-30T19:48:08.030Z"
   },
   {
    "duration": 181,
    "start_time": "2021-08-30T19:48:08.356Z"
   },
   {
    "duration": 179,
    "start_time": "2021-08-30T19:48:08.359Z"
   },
   {
    "duration": 1071,
    "start_time": "2021-08-30T19:48:50.118Z"
   },
   {
    "duration": 55,
    "start_time": "2021-08-30T19:48:51.191Z"
   },
   {
    "duration": 2253,
    "start_time": "2021-08-30T19:48:51.248Z"
   },
   {
    "duration": 13,
    "start_time": "2021-08-30T19:48:53.503Z"
   },
   {
    "duration": 9,
    "start_time": "2021-08-30T19:48:53.517Z"
   },
   {
    "duration": 9,
    "start_time": "2021-08-30T19:48:53.527Z"
   },
   {
    "duration": 12,
    "start_time": "2021-08-30T19:48:53.537Z"
   },
   {
    "duration": 8,
    "start_time": "2021-08-30T19:48:53.551Z"
   },
   {
    "duration": 4,
    "start_time": "2021-08-30T19:48:53.561Z"
   },
   {
    "duration": 163,
    "start_time": "2021-08-30T19:48:53.567Z"
   },
   {
    "duration": 192,
    "start_time": "2021-08-30T19:48:53.732Z"
   },
   {
    "duration": 8,
    "start_time": "2021-08-30T19:48:53.925Z"
   },
   {
    "duration": 1063,
    "start_time": "2021-08-30T19:50:31.925Z"
   },
   {
    "duration": 57,
    "start_time": "2021-08-30T19:50:32.990Z"
   },
   {
    "duration": 2333,
    "start_time": "2021-08-30T19:50:33.051Z"
   },
   {
    "duration": 12,
    "start_time": "2021-08-30T19:50:35.386Z"
   },
   {
    "duration": 21,
    "start_time": "2021-08-30T19:50:35.399Z"
   },
   {
    "duration": 18,
    "start_time": "2021-08-30T19:50:35.421Z"
   },
   {
    "duration": 13,
    "start_time": "2021-08-30T19:50:35.441Z"
   },
   {
    "duration": 8,
    "start_time": "2021-08-30T19:50:35.456Z"
   },
   {
    "duration": 4,
    "start_time": "2021-08-30T19:50:35.466Z"
   },
   {
    "duration": 237,
    "start_time": "2021-08-30T19:50:35.471Z"
   },
   {
    "duration": 125,
    "start_time": "2021-08-30T19:50:35.709Z"
   },
   {
    "duration": 8,
    "start_time": "2021-08-30T19:50:35.835Z"
   },
   {
    "duration": 4348,
    "start_time": "2021-08-30T19:51:06.659Z"
   },
   {
    "duration": 6,
    "start_time": "2021-08-30T19:51:20.164Z"
   },
   {
    "duration": 1067,
    "start_time": "2021-08-30T19:52:28.418Z"
   },
   {
    "duration": 60,
    "start_time": "2021-08-30T19:52:29.486Z"
   },
   {
    "duration": 2319,
    "start_time": "2021-08-30T19:52:29.548Z"
   },
   {
    "duration": 16,
    "start_time": "2021-08-30T19:52:31.869Z"
   },
   {
    "duration": 7,
    "start_time": "2021-08-30T19:52:31.887Z"
   },
   {
    "duration": 9,
    "start_time": "2021-08-30T19:52:31.895Z"
   },
   {
    "duration": 15,
    "start_time": "2021-08-30T19:52:31.906Z"
   },
   {
    "duration": 10,
    "start_time": "2021-08-30T19:52:31.923Z"
   },
   {
    "duration": 4,
    "start_time": "2021-08-30T19:52:31.935Z"
   },
   {
    "duration": 433,
    "start_time": "2021-08-30T19:52:31.940Z"
   },
   {
    "duration": 215,
    "start_time": "2021-08-30T19:52:32.160Z"
   },
   {
    "duration": 214,
    "start_time": "2021-08-30T19:52:32.162Z"
   },
   {
    "duration": 214,
    "start_time": "2021-08-30T19:52:32.163Z"
   },
   {
    "duration": 1032,
    "start_time": "2021-08-30T19:53:39.734Z"
   },
   {
    "duration": 56,
    "start_time": "2021-08-30T19:53:40.767Z"
   },
   {
    "duration": 2314,
    "start_time": "2021-08-30T19:53:40.825Z"
   },
   {
    "duration": 13,
    "start_time": "2021-08-30T19:53:43.141Z"
   },
   {
    "duration": 6,
    "start_time": "2021-08-30T19:53:43.155Z"
   },
   {
    "duration": 24,
    "start_time": "2021-08-30T19:53:43.162Z"
   },
   {
    "duration": 9,
    "start_time": "2021-08-30T19:53:43.187Z"
   },
   {
    "duration": 8,
    "start_time": "2021-08-30T19:53:43.198Z"
   },
   {
    "duration": 4,
    "start_time": "2021-08-30T19:53:43.208Z"
   },
   {
    "duration": 233,
    "start_time": "2021-08-30T19:53:43.214Z"
   },
   {
    "duration": 119,
    "start_time": "2021-08-30T19:53:43.449Z"
   },
   {
    "duration": 5,
    "start_time": "2021-08-30T19:53:43.570Z"
   },
   {
    "duration": 7,
    "start_time": "2021-08-30T19:53:43.585Z"
   },
   {
    "duration": 4,
    "start_time": "2021-08-30T19:53:52.973Z"
   },
   {
    "duration": 397,
    "start_time": "2021-08-30T19:53:55.874Z"
   },
   {
    "duration": 195,
    "start_time": "2021-08-30T19:53:58.833Z"
   },
   {
    "duration": 220,
    "start_time": "2021-08-30T19:54:07.798Z"
   },
   {
    "duration": 5,
    "start_time": "2021-08-30T19:54:21.377Z"
   },
   {
    "duration": 1435,
    "start_time": "2021-08-31T16:41:38.491Z"
   },
   {
    "duration": 77,
    "start_time": "2021-08-31T16:41:39.928Z"
   },
   {
    "duration": 3863,
    "start_time": "2021-08-31T16:41:40.008Z"
   },
   {
    "duration": 19,
    "start_time": "2021-08-31T16:41:43.873Z"
   },
   {
    "duration": 10,
    "start_time": "2021-08-31T16:41:43.894Z"
   },
   {
    "duration": 10,
    "start_time": "2021-08-31T16:41:43.906Z"
   },
   {
    "duration": 16,
    "start_time": "2021-08-31T16:41:43.919Z"
   },
   {
    "duration": 12,
    "start_time": "2021-08-31T16:41:43.963Z"
   },
   {
    "duration": 9,
    "start_time": "2021-08-31T16:41:43.978Z"
   },
   {
    "duration": 320,
    "start_time": "2021-08-31T16:41:43.990Z"
   },
   {
    "duration": 184,
    "start_time": "2021-08-31T16:41:44.313Z"
   },
   {
    "duration": 11,
    "start_time": "2021-08-31T16:41:44.499Z"
   },
   {
    "duration": 6,
    "start_time": "2021-08-31T17:05:42.338Z"
   },
   {
    "duration": 5,
    "start_time": "2021-08-31T17:05:48.677Z"
   },
   {
    "duration": 406,
    "start_time": "2021-08-31T17:05:56.005Z"
   },
   {
    "duration": 5,
    "start_time": "2021-08-31T17:06:01.442Z"
   },
   {
    "duration": 6,
    "start_time": "2021-08-31T17:06:10.986Z"
   },
   {
    "duration": 5,
    "start_time": "2021-08-31T17:06:17.223Z"
   },
   {
    "duration": 6,
    "start_time": "2021-08-31T17:06:32.585Z"
   },
   {
    "duration": 6,
    "start_time": "2021-08-31T17:06:37.480Z"
   },
   {
    "duration": 5,
    "start_time": "2021-08-31T17:06:40.628Z"
   },
   {
    "duration": 10,
    "start_time": "2021-08-31T17:08:56.807Z"
   },
   {
    "duration": 10,
    "start_time": "2021-08-31T17:09:00.538Z"
   },
   {
    "duration": 97,
    "start_time": "2021-08-31T17:09:06.443Z"
   },
   {
    "duration": 10,
    "start_time": "2021-08-31T17:09:08.905Z"
   },
   {
    "duration": 7,
    "start_time": "2021-08-31T17:09:12.917Z"
   },
   {
    "duration": 7,
    "start_time": "2021-08-31T17:09:15.813Z"
   },
   {
    "duration": 8,
    "start_time": "2021-08-31T17:09:20.375Z"
   },
   {
    "duration": 7,
    "start_time": "2021-08-31T17:09:24.472Z"
   },
   {
    "duration": 12,
    "start_time": "2021-08-31T17:09:33.543Z"
   },
   {
    "duration": 309,
    "start_time": "2021-08-31T17:09:46.433Z"
   },
   {
    "duration": 8,
    "start_time": "2021-08-31T17:10:20.927Z"
   },
   {
    "duration": 7,
    "start_time": "2021-08-31T17:10:25.029Z"
   },
   {
    "duration": 341,
    "start_time": "2021-08-31T17:10:28.200Z"
   },
   {
    "duration": 7,
    "start_time": "2021-08-31T17:10:31.675Z"
   },
   {
    "duration": 673,
    "start_time": "2021-08-31T17:13:09.032Z"
   },
   {
    "duration": 1405,
    "start_time": "2021-08-31T17:13:29.905Z"
   },
   {
    "duration": 74,
    "start_time": "2021-08-31T17:13:31.313Z"
   },
   {
    "duration": 4926,
    "start_time": "2021-08-31T17:13:31.390Z"
   },
   {
    "duration": 20,
    "start_time": "2021-08-31T17:13:36.319Z"
   },
   {
    "duration": 23,
    "start_time": "2021-08-31T17:13:36.341Z"
   },
   {
    "duration": 13,
    "start_time": "2021-08-31T17:13:36.366Z"
   },
   {
    "duration": 21,
    "start_time": "2021-08-31T17:13:36.381Z"
   },
   {
    "duration": 15,
    "start_time": "2021-08-31T17:13:36.405Z"
   },
   {
    "duration": 103,
    "start_time": "2021-08-31T17:13:36.422Z"
   },
   {
    "duration": 239,
    "start_time": "2021-08-31T17:13:36.527Z"
   },
   {
    "duration": 182,
    "start_time": "2021-08-31T17:13:36.769Z"
   },
   {
    "duration": 938,
    "start_time": "2021-08-31T17:13:36.953Z"
   },
   {
    "duration": 6,
    "start_time": "2021-08-31T17:13:53.865Z"
   },
   {
    "duration": 220,
    "start_time": "2021-08-31T17:13:54.160Z"
   },
   {
    "duration": 168,
    "start_time": "2021-08-31T17:13:54.735Z"
   },
   {
    "duration": 103,
    "start_time": "2021-08-31T17:13:55.325Z"
   },
   {
    "duration": 11,
    "start_time": "2021-08-31T17:14:05.389Z"
   },
   {
    "duration": 7,
    "start_time": "2021-08-31T17:14:21.291Z"
   },
   {
    "duration": 228,
    "start_time": "2021-08-31T17:14:21.650Z"
   },
   {
    "duration": 173,
    "start_time": "2021-08-31T17:14:22.195Z"
   },
   {
    "duration": 98,
    "start_time": "2021-08-31T17:14:22.794Z"
   },
   {
    "duration": 10,
    "start_time": "2021-08-31T17:14:23.771Z"
   },
   {
    "duration": 1461,
    "start_time": "2021-08-31T17:14:32.753Z"
   },
   {
    "duration": 74,
    "start_time": "2021-08-31T17:14:34.216Z"
   },
   {
    "duration": 3771,
    "start_time": "2021-08-31T17:14:34.293Z"
   },
   {
    "duration": 19,
    "start_time": "2021-08-31T17:14:38.067Z"
   },
   {
    "duration": 8,
    "start_time": "2021-08-31T17:14:38.089Z"
   },
   {
    "duration": 11,
    "start_time": "2021-08-31T17:14:38.099Z"
   },
   {
    "duration": 20,
    "start_time": "2021-08-31T17:14:38.113Z"
   },
   {
    "duration": 12,
    "start_time": "2021-08-31T17:14:38.162Z"
   },
   {
    "duration": 98,
    "start_time": "2021-08-31T17:14:38.177Z"
   },
   {
    "duration": 365,
    "start_time": "2021-08-31T17:14:38.278Z"
   },
   {
    "duration": 287,
    "start_time": "2021-08-31T17:14:38.646Z"
   },
   {
    "duration": 161,
    "start_time": "2021-08-31T17:14:38.936Z"
   },
   {
    "duration": 16,
    "start_time": "2021-08-31T17:14:39.100Z"
   },
   {
    "duration": 1548,
    "start_time": "2021-08-31T17:15:39.931Z"
   },
   {
    "duration": 79,
    "start_time": "2021-08-31T17:15:41.485Z"
   },
   {
    "duration": 3769,
    "start_time": "2021-08-31T17:15:41.566Z"
   },
   {
    "duration": 28,
    "start_time": "2021-08-31T17:15:45.337Z"
   },
   {
    "duration": 11,
    "start_time": "2021-08-31T17:15:45.368Z"
   },
   {
    "duration": 12,
    "start_time": "2021-08-31T17:15:45.382Z"
   },
   {
    "duration": 20,
    "start_time": "2021-08-31T17:15:45.398Z"
   },
   {
    "duration": 13,
    "start_time": "2021-08-31T17:15:45.420Z"
   },
   {
    "duration": 115,
    "start_time": "2021-08-31T17:15:45.435Z"
   },
   {
    "duration": 233,
    "start_time": "2021-08-31T17:15:45.553Z"
   },
   {
    "duration": 177,
    "start_time": "2021-08-31T17:15:45.788Z"
   },
   {
    "duration": 102,
    "start_time": "2021-08-31T17:15:45.967Z"
   },
   {
    "duration": 10,
    "start_time": "2021-08-31T17:15:46.071Z"
   },
   {
    "duration": 1408,
    "start_time": "2021-08-31T17:16:05.015Z"
   },
   {
    "duration": 74,
    "start_time": "2021-08-31T17:16:06.426Z"
   },
   {
    "duration": 3624,
    "start_time": "2021-08-31T17:16:06.503Z"
   },
   {
    "duration": 19,
    "start_time": "2021-08-31T17:16:10.129Z"
   },
   {
    "duration": 14,
    "start_time": "2021-08-31T17:16:10.162Z"
   },
   {
    "duration": 35,
    "start_time": "2021-08-31T17:16:10.179Z"
   },
   {
    "duration": 23,
    "start_time": "2021-08-31T17:16:10.217Z"
   },
   {
    "duration": 53,
    "start_time": "2021-08-31T17:16:10.243Z"
   },
   {
    "duration": 9,
    "start_time": "2021-08-31T17:16:29.877Z"
   },
   {
    "duration": 5,
    "start_time": "2021-08-31T17:16:49.532Z"
   },
   {
    "duration": 84,
    "start_time": "2021-08-31T17:16:49.539Z"
   },
   {
    "duration": 3856,
    "start_time": "2021-08-31T17:16:49.626Z"
   },
   {
    "duration": 20,
    "start_time": "2021-08-31T17:16:53.485Z"
   },
   {
    "duration": 14,
    "start_time": "2021-08-31T17:16:53.507Z"
   },
   {
    "duration": 17,
    "start_time": "2021-08-31T17:16:53.523Z"
   },
   {
    "duration": 12,
    "start_time": "2021-08-31T17:16:53.562Z"
   },
   {
    "duration": 15,
    "start_time": "2021-08-31T17:16:53.576Z"
   },
   {
    "duration": 17,
    "start_time": "2021-08-31T17:16:53.595Z"
   },
   {
    "duration": 15,
    "start_time": "2021-08-31T17:16:53.615Z"
   },
   {
    "duration": 9,
    "start_time": "2021-08-31T17:17:16.565Z"
   },
   {
    "duration": 14,
    "start_time": "2021-08-31T17:17:27.580Z"
   },
   {
    "duration": 80,
    "start_time": "2021-08-31T17:17:27.602Z"
   },
   {
    "duration": 3782,
    "start_time": "2021-08-31T17:17:27.685Z"
   },
   {
    "duration": 19,
    "start_time": "2021-08-31T17:17:31.470Z"
   },
   {
    "duration": 12,
    "start_time": "2021-08-31T17:17:31.492Z"
   },
   {
    "duration": 15,
    "start_time": "2021-08-31T17:17:31.506Z"
   },
   {
    "duration": 38,
    "start_time": "2021-08-31T17:17:31.524Z"
   },
   {
    "duration": 9,
    "start_time": "2021-08-31T17:17:31.564Z"
   },
   {
    "duration": 15,
    "start_time": "2021-08-31T17:17:31.576Z"
   },
   {
    "duration": 16,
    "start_time": "2021-08-31T17:17:31.593Z"
   },
   {
    "duration": 7,
    "start_time": "2021-08-31T17:18:08.523Z"
   },
   {
    "duration": 4,
    "start_time": "2021-08-31T17:18:14.583Z"
   },
   {
    "duration": 76,
    "start_time": "2021-08-31T17:18:14.590Z"
   },
   {
    "duration": 3795,
    "start_time": "2021-08-31T17:18:14.669Z"
   },
   {
    "duration": 21,
    "start_time": "2021-08-31T17:18:18.468Z"
   },
   {
    "duration": 8,
    "start_time": "2021-08-31T17:18:18.492Z"
   },
   {
    "duration": 17,
    "start_time": "2021-08-31T17:18:18.503Z"
   },
   {
    "duration": 49,
    "start_time": "2021-08-31T17:18:18.523Z"
   },
   {
    "duration": 11,
    "start_time": "2021-08-31T17:18:29.365Z"
   },
   {
    "duration": 10,
    "start_time": "2021-08-31T17:18:36.225Z"
   },
   {
    "duration": 5,
    "start_time": "2021-08-31T17:18:50.981Z"
   },
   {
    "duration": 12,
    "start_time": "2021-08-31T17:18:58.834Z"
   },
   {
    "duration": 5,
    "start_time": "2021-08-31T17:19:08.123Z"
   },
   {
    "duration": 11,
    "start_time": "2021-08-31T17:19:08.759Z"
   },
   {
    "duration": 12,
    "start_time": "2021-08-31T17:19:09.720Z"
   },
   {
    "duration": 479,
    "start_time": "2021-08-31T17:19:57.144Z"
   },
   {
    "duration": 357,
    "start_time": "2021-08-31T17:20:06.851Z"
   },
   {
    "duration": 304,
    "start_time": "2021-08-31T17:20:16.882Z"
   },
   {
    "duration": 5,
    "start_time": "2021-08-31T17:20:58.619Z"
   },
   {
    "duration": 14,
    "start_time": "2021-08-31T17:21:09.891Z"
   },
   {
    "duration": 1425,
    "start_time": "2021-08-31T17:21:25.686Z"
   },
   {
    "duration": 73,
    "start_time": "2021-08-31T17:21:27.113Z"
   },
   {
    "duration": 3713,
    "start_time": "2021-08-31T17:21:27.189Z"
   },
   {
    "duration": 19,
    "start_time": "2021-08-31T17:21:30.905Z"
   },
   {
    "duration": 29,
    "start_time": "2021-08-31T17:21:30.926Z"
   },
   {
    "duration": 45,
    "start_time": "2021-08-31T17:21:30.957Z"
   },
   {
    "duration": 46,
    "start_time": "2021-08-31T17:21:31.004Z"
   },
   {
    "duration": 27,
    "start_time": "2021-08-31T17:21:31.053Z"
   },
   {
    "duration": 35,
    "start_time": "2021-08-31T17:21:31.084Z"
   },
   {
    "duration": 38,
    "start_time": "2021-08-31T17:21:31.121Z"
   },
   {
    "duration": 30,
    "start_time": "2021-08-31T17:21:31.161Z"
   },
   {
    "duration": 20,
    "start_time": "2021-08-31T17:21:31.193Z"
   },
   {
    "duration": 97,
    "start_time": "2021-08-31T17:21:31.215Z"
   },
   {
    "duration": 235,
    "start_time": "2021-08-31T17:21:31.314Z"
   },
   {
    "duration": 188,
    "start_time": "2021-08-31T17:21:31.551Z"
   },
   {
    "duration": 113,
    "start_time": "2021-08-31T17:21:31.741Z"
   },
   {
    "duration": 12,
    "start_time": "2021-08-31T17:21:31.862Z"
   },
   {
    "duration": 1399,
    "start_time": "2021-08-31T17:22:58.289Z"
   },
   {
    "duration": 76,
    "start_time": "2021-08-31T17:22:59.691Z"
   },
   {
    "duration": 3657,
    "start_time": "2021-08-31T17:22:59.771Z"
   },
   {
    "duration": 31,
    "start_time": "2021-08-31T17:23:03.431Z"
   },
   {
    "duration": 6,
    "start_time": "2021-08-31T17:23:03.464Z"
   },
   {
    "duration": 19,
    "start_time": "2021-08-31T17:23:03.472Z"
   },
   {
    "duration": 17,
    "start_time": "2021-08-31T17:23:03.494Z"
   },
   {
    "duration": 12,
    "start_time": "2021-08-31T17:23:03.514Z"
   },
   {
    "duration": 41,
    "start_time": "2021-08-31T17:23:03.529Z"
   },
   {
    "duration": 13,
    "start_time": "2021-08-31T17:23:03.572Z"
   },
   {
    "duration": 108,
    "start_time": "2021-08-31T17:23:03.587Z"
   },
   {
    "duration": 232,
    "start_time": "2021-08-31T17:23:03.697Z"
   },
   {
    "duration": 176,
    "start_time": "2021-08-31T17:23:03.931Z"
   },
   {
    "duration": 104,
    "start_time": "2021-08-31T17:23:04.109Z"
   },
   {
    "duration": 10,
    "start_time": "2021-08-31T17:23:04.216Z"
   },
   {
    "duration": 8,
    "start_time": "2021-08-31T17:23:27.276Z"
   },
   {
    "duration": 1447,
    "start_time": "2021-08-31T17:23:38.568Z"
   },
   {
    "duration": 77,
    "start_time": "2021-08-31T17:23:40.018Z"
   },
   {
    "duration": 3998,
    "start_time": "2021-08-31T17:23:40.101Z"
   },
   {
    "duration": 21,
    "start_time": "2021-08-31T17:23:44.101Z"
   },
   {
    "duration": 11,
    "start_time": "2021-08-31T17:23:44.124Z"
   },
   {
    "duration": 31,
    "start_time": "2021-08-31T17:23:44.138Z"
   },
   {
    "duration": 10,
    "start_time": "2021-08-31T17:23:44.173Z"
   },
   {
    "duration": 10,
    "start_time": "2021-08-31T17:23:44.186Z"
   },
   {
    "duration": 15,
    "start_time": "2021-08-31T17:23:44.198Z"
   },
   {
    "duration": 16,
    "start_time": "2021-08-31T17:23:44.215Z"
   },
   {
    "duration": 39,
    "start_time": "2021-08-31T17:23:44.233Z"
   },
   {
    "duration": 106,
    "start_time": "2021-08-31T17:23:44.274Z"
   },
   {
    "duration": 242,
    "start_time": "2021-08-31T17:23:44.383Z"
   },
   {
    "duration": 177,
    "start_time": "2021-08-31T17:23:44.627Z"
   },
   {
    "duration": 106,
    "start_time": "2021-08-31T17:23:44.806Z"
   },
   {
    "duration": 10,
    "start_time": "2021-08-31T17:23:44.915Z"
   },
   {
    "duration": 1445,
    "start_time": "2021-08-31T17:24:36.662Z"
   },
   {
    "duration": 173,
    "start_time": "2021-08-31T17:24:38.110Z"
   },
   {
    "duration": 3717,
    "start_time": "2021-08-31T17:24:38.286Z"
   },
   {
    "duration": 20,
    "start_time": "2021-08-31T17:24:42.006Z"
   },
   {
    "duration": 6,
    "start_time": "2021-08-31T17:24:42.029Z"
   },
   {
    "duration": 34,
    "start_time": "2021-08-31T17:24:42.037Z"
   },
   {
    "duration": 11,
    "start_time": "2021-08-31T17:24:42.073Z"
   },
   {
    "duration": 9,
    "start_time": "2021-08-31T17:24:42.087Z"
   },
   {
    "duration": 8,
    "start_time": "2021-08-31T17:24:42.100Z"
   },
   {
    "duration": 11,
    "start_time": "2021-08-31T17:24:42.111Z"
   },
   {
    "duration": 49,
    "start_time": "2021-08-31T17:24:42.124Z"
   },
   {
    "duration": 15,
    "start_time": "2021-08-31T17:24:42.175Z"
   },
   {
    "duration": 476,
    "start_time": "2021-08-31T17:24:42.192Z"
   },
   {
    "duration": 60,
    "start_time": "2021-08-31T17:24:42.610Z"
   },
   {
    "duration": 61,
    "start_time": "2021-08-31T17:24:42.611Z"
   },
   {
    "duration": 61,
    "start_time": "2021-08-31T17:24:42.612Z"
   },
   {
    "duration": 95,
    "start_time": "2021-08-31T17:24:48.575Z"
   },
   {
    "duration": 226,
    "start_time": "2021-08-31T17:24:48.928Z"
   },
   {
    "duration": 170,
    "start_time": "2021-08-31T17:24:49.500Z"
   },
   {
    "duration": 97,
    "start_time": "2021-08-31T17:24:50.189Z"
   },
   {
    "duration": 11,
    "start_time": "2021-08-31T17:24:53.249Z"
   },
   {
    "duration": 1427,
    "start_time": "2021-08-31T17:26:59.091Z"
   },
   {
    "duration": 76,
    "start_time": "2021-08-31T17:27:00.520Z"
   },
   {
    "duration": 3733,
    "start_time": "2021-08-31T17:27:00.599Z"
   },
   {
    "duration": 28,
    "start_time": "2021-08-31T17:27:04.335Z"
   },
   {
    "duration": 8,
    "start_time": "2021-08-31T17:27:04.366Z"
   },
   {
    "duration": 14,
    "start_time": "2021-08-31T17:27:04.376Z"
   },
   {
    "duration": 26,
    "start_time": "2021-08-31T17:27:04.392Z"
   },
   {
    "duration": 26,
    "start_time": "2021-08-31T17:27:04.421Z"
   },
   {
    "duration": 29,
    "start_time": "2021-08-31T17:27:04.449Z"
   },
   {
    "duration": 15,
    "start_time": "2021-08-31T17:27:04.480Z"
   },
   {
    "duration": 12,
    "start_time": "2021-08-31T17:27:04.497Z"
   },
   {
    "duration": 99,
    "start_time": "2021-08-31T17:27:04.512Z"
   },
   {
    "duration": 251,
    "start_time": "2021-08-31T17:27:04.613Z"
   },
   {
    "duration": 183,
    "start_time": "2021-08-31T17:27:04.866Z"
   },
   {
    "duration": 100,
    "start_time": "2021-08-31T17:27:05.051Z"
   },
   {
    "duration": 11,
    "start_time": "2021-08-31T17:27:05.163Z"
   },
   {
    "duration": 1501,
    "start_time": "2021-08-31T17:27:21.930Z"
   },
   {
    "duration": 79,
    "start_time": "2021-08-31T17:27:23.434Z"
   },
   {
    "duration": 3837,
    "start_time": "2021-08-31T17:27:23.515Z"
   },
   {
    "duration": 20,
    "start_time": "2021-08-31T17:27:27.363Z"
   },
   {
    "duration": 12,
    "start_time": "2021-08-31T17:27:27.385Z"
   },
   {
    "duration": 20,
    "start_time": "2021-08-31T17:27:27.399Z"
   },
   {
    "duration": 9,
    "start_time": "2021-08-31T17:27:27.422Z"
   },
   {
    "duration": 36,
    "start_time": "2021-08-31T17:27:27.434Z"
   },
   {
    "duration": 16,
    "start_time": "2021-08-31T17:27:27.473Z"
   },
   {
    "duration": 9,
    "start_time": "2021-08-31T17:27:27.491Z"
   },
   {
    "duration": 12,
    "start_time": "2021-08-31T17:27:27.502Z"
   },
   {
    "duration": 121,
    "start_time": "2021-08-31T17:27:27.517Z"
   },
   {
    "duration": 6,
    "start_time": "2021-08-31T17:27:27.640Z"
   },
   {
    "duration": 246,
    "start_time": "2021-08-31T17:27:27.661Z"
   },
   {
    "duration": 188,
    "start_time": "2021-08-31T17:27:27.909Z"
   },
   {
    "duration": 115,
    "start_time": "2021-08-31T17:27:28.099Z"
   },
   {
    "duration": 11,
    "start_time": "2021-08-31T17:27:28.216Z"
   },
   {
    "duration": 1482,
    "start_time": "2021-08-31T17:28:11.738Z"
   },
   {
    "duration": 76,
    "start_time": "2021-08-31T17:28:13.223Z"
   },
   {
    "duration": 3598,
    "start_time": "2021-08-31T17:28:13.303Z"
   },
   {
    "duration": 19,
    "start_time": "2021-08-31T17:28:16.904Z"
   },
   {
    "duration": 8,
    "start_time": "2021-08-31T17:28:16.925Z"
   },
   {
    "duration": 31,
    "start_time": "2021-08-31T17:28:16.935Z"
   },
   {
    "duration": 13,
    "start_time": "2021-08-31T17:28:16.968Z"
   },
   {
    "duration": 11,
    "start_time": "2021-08-31T17:28:16.985Z"
   },
   {
    "duration": 108,
    "start_time": "2021-08-31T17:28:16.999Z"
   },
   {
    "duration": 235,
    "start_time": "2021-08-31T17:28:17.109Z"
   },
   {
    "duration": 192,
    "start_time": "2021-08-31T17:28:17.346Z"
   },
   {
    "duration": 23,
    "start_time": "2021-08-31T17:28:17.541Z"
   },
   {
    "duration": 116,
    "start_time": "2021-08-31T17:28:17.566Z"
   },
   {
    "duration": 12,
    "start_time": "2021-08-31T17:28:17.684Z"
   },
   {
    "duration": 1338,
    "start_time": "2021-08-31T17:28:35.593Z"
   },
   {
    "duration": 77,
    "start_time": "2021-08-31T17:28:36.933Z"
   },
   {
    "duration": 3694,
    "start_time": "2021-08-31T17:28:37.013Z"
   },
   {
    "duration": 19,
    "start_time": "2021-08-31T17:28:40.710Z"
   },
   {
    "duration": 30,
    "start_time": "2021-08-31T17:28:40.732Z"
   },
   {
    "duration": 11,
    "start_time": "2021-08-31T17:28:40.764Z"
   },
   {
    "duration": 13,
    "start_time": "2021-08-31T17:28:40.778Z"
   },
   {
    "duration": 12,
    "start_time": "2021-08-31T17:28:40.794Z"
   },
   {
    "duration": 106,
    "start_time": "2021-08-31T17:28:40.808Z"
   },
   {
    "duration": 233,
    "start_time": "2021-08-31T17:28:40.917Z"
   },
   {
    "duration": 16,
    "start_time": "2021-08-31T17:28:41.152Z"
   },
   {
    "duration": 191,
    "start_time": "2021-08-31T17:28:41.171Z"
   },
   {
    "duration": 107,
    "start_time": "2021-08-31T17:28:41.365Z"
   },
   {
    "duration": 11,
    "start_time": "2021-08-31T17:28:41.474Z"
   },
   {
    "duration": 1486,
    "start_time": "2021-08-31T17:29:15.422Z"
   },
   {
    "duration": 75,
    "start_time": "2021-08-31T17:29:16.911Z"
   },
   {
    "duration": 3644,
    "start_time": "2021-08-31T17:29:16.989Z"
   },
   {
    "duration": 28,
    "start_time": "2021-08-31T17:29:20.636Z"
   },
   {
    "duration": 9,
    "start_time": "2021-08-31T17:29:20.667Z"
   },
   {
    "duration": 14,
    "start_time": "2021-08-31T17:29:20.679Z"
   },
   {
    "duration": 20,
    "start_time": "2021-08-31T17:29:20.696Z"
   },
   {
    "duration": 12,
    "start_time": "2021-08-31T17:29:20.719Z"
   },
   {
    "duration": 109,
    "start_time": "2021-08-31T17:29:20.734Z"
   },
   {
    "duration": 247,
    "start_time": "2021-08-31T17:29:20.846Z"
   },
   {
    "duration": 179,
    "start_time": "2021-08-31T17:29:21.095Z"
   },
   {
    "duration": 114,
    "start_time": "2021-08-31T17:29:21.277Z"
   },
   {
    "duration": 10,
    "start_time": "2021-08-31T17:29:21.394Z"
   },
   {
    "duration": 15,
    "start_time": "2021-08-31T17:29:39.295Z"
   },
   {
    "duration": 20,
    "start_time": "2021-08-31T17:33:04.046Z"
   },
   {
    "duration": 11,
    "start_time": "2021-08-31T17:33:22.386Z"
   },
   {
    "duration": 21,
    "start_time": "2021-08-31T17:33:25.264Z"
   },
   {
    "duration": 24,
    "start_time": "2021-08-31T17:38:20.371Z"
   },
   {
    "duration": 46,
    "start_time": "2021-08-31T17:38:23.466Z"
   },
   {
    "duration": 16,
    "start_time": "2021-08-31T17:39:33.522Z"
   },
   {
    "duration": 21,
    "start_time": "2021-08-31T17:39:40.084Z"
   },
   {
    "duration": 2369,
    "start_time": "2021-08-31T17:40:04.464Z"
   },
   {
    "duration": 22,
    "start_time": "2021-08-31T17:40:12.265Z"
   },
   {
    "duration": 23,
    "start_time": "2021-08-31T17:40:45.723Z"
   },
   {
    "duration": 24,
    "start_time": "2021-08-31T17:40:49.348Z"
   },
   {
    "duration": 20,
    "start_time": "2021-08-31T17:40:57.885Z"
   },
   {
    "duration": 7,
    "start_time": "2021-08-31T17:41:10.387Z"
   },
   {
    "duration": 23,
    "start_time": "2021-08-31T17:41:16.525Z"
   },
   {
    "duration": 431,
    "start_time": "2021-08-31T17:41:23.904Z"
   },
   {
    "duration": 310,
    "start_time": "2021-08-31T17:41:25.671Z"
   },
   {
    "duration": 370,
    "start_time": "2021-08-31T17:41:41.312Z"
   },
   {
    "duration": 310,
    "start_time": "2021-08-31T17:41:54.808Z"
   },
   {
    "duration": 303,
    "start_time": "2021-08-31T17:42:07.290Z"
   },
   {
    "duration": 478,
    "start_time": "2021-08-31T17:42:34.506Z"
   },
   {
    "duration": 335,
    "start_time": "2021-08-31T17:43:02.721Z"
   },
   {
    "duration": 716,
    "start_time": "2021-08-31T17:43:14.056Z"
   },
   {
    "duration": 527,
    "start_time": "2021-08-31T17:43:30.889Z"
   },
   {
    "duration": 813,
    "start_time": "2021-08-31T17:43:36.464Z"
   },
   {
    "duration": 581,
    "start_time": "2021-08-31T17:44:05.835Z"
   },
   {
    "duration": 320,
    "start_time": "2021-08-31T17:44:52.893Z"
   },
   {
    "duration": 358,
    "start_time": "2021-08-31T17:45:35.028Z"
   },
   {
    "duration": 592,
    "start_time": "2021-08-31T17:45:46.048Z"
   },
   {
    "duration": 586,
    "start_time": "2021-08-31T17:46:05.901Z"
   },
   {
    "duration": 658,
    "start_time": "2021-08-31T17:46:17.818Z"
   },
   {
    "duration": 598,
    "start_time": "2021-08-31T17:46:25.083Z"
   },
   {
    "duration": 611,
    "start_time": "2021-08-31T17:46:35.333Z"
   },
   {
    "duration": 367,
    "start_time": "2021-08-31T17:47:34.054Z"
   },
   {
    "duration": 334,
    "start_time": "2021-08-31T17:47:51.965Z"
   },
   {
    "duration": 765,
    "start_time": "2021-08-31T17:48:00.259Z"
   },
   {
    "duration": 334,
    "start_time": "2021-08-31T17:48:18.354Z"
   },
   {
    "duration": 347,
    "start_time": "2021-08-31T17:48:38.455Z"
   },
   {
    "duration": 545,
    "start_time": "2021-08-31T17:48:55.237Z"
   },
   {
    "duration": 98,
    "start_time": "2021-08-31T17:49:41.336Z"
   },
   {
    "duration": 707,
    "start_time": "2021-08-31T17:49:45.831Z"
   },
   {
    "duration": 661,
    "start_time": "2021-08-31T17:50:03.633Z"
   },
   {
    "duration": 155,
    "start_time": "2021-08-31T17:50:42.623Z"
   },
   {
    "duration": 134,
    "start_time": "2021-08-31T17:50:50.894Z"
   },
   {
    "duration": 352,
    "start_time": "2021-08-31T17:51:09.148Z"
   },
   {
    "duration": 442,
    "start_time": "2021-08-31T17:51:14.136Z"
   },
   {
    "duration": 915,
    "start_time": "2021-08-31T17:51:21.402Z"
   },
   {
    "duration": 656,
    "start_time": "2021-08-31T17:52:06.625Z"
   },
   {
    "duration": 1209,
    "start_time": "2021-08-31T17:52:40.256Z"
   },
   {
    "duration": 1440,
    "start_time": "2021-08-31T17:52:50.043Z"
   },
   {
    "duration": 1367,
    "start_time": "2021-08-31T17:52:55.444Z"
   },
   {
    "duration": 946,
    "start_time": "2021-08-31T17:53:02.988Z"
   },
   {
    "duration": 326,
    "start_time": "2021-08-31T17:53:56.049Z"
   },
   {
    "duration": 675,
    "start_time": "2021-08-31T17:54:33.064Z"
   },
   {
    "duration": 5,
    "start_time": "2021-08-31T17:56:14.708Z"
   },
   {
    "duration": 21,
    "start_time": "2021-08-31T18:03:25.743Z"
   },
   {
    "duration": 5,
    "start_time": "2021-08-31T18:03:34.650Z"
   },
   {
    "duration": 6,
    "start_time": "2021-08-31T18:03:44.081Z"
   },
   {
    "duration": 693,
    "start_time": "2021-08-31T18:04:00.995Z"
   },
   {
    "duration": 648,
    "start_time": "2021-08-31T18:04:06.940Z"
   },
   {
    "duration": 20,
    "start_time": "2021-08-31T18:04:20.829Z"
   },
   {
    "duration": 19,
    "start_time": "2021-08-31T18:05:23.917Z"
   },
   {
    "duration": 374,
    "start_time": "2021-08-31T18:06:03.429Z"
   },
   {
    "duration": 19,
    "start_time": "2021-08-31T18:06:22.227Z"
   },
   {
    "duration": 20,
    "start_time": "2021-08-31T18:06:33.702Z"
   },
   {
    "duration": 21,
    "start_time": "2021-08-31T18:06:40.217Z"
   },
   {
    "duration": 21,
    "start_time": "2021-08-31T18:07:01.085Z"
   },
   {
    "duration": 22,
    "start_time": "2021-08-31T18:07:12.931Z"
   },
   {
    "duration": 20,
    "start_time": "2021-08-31T18:07:37.291Z"
   },
   {
    "duration": 20,
    "start_time": "2021-08-31T18:10:10.169Z"
   },
   {
    "duration": 353,
    "start_time": "2021-08-31T18:27:18.256Z"
   },
   {
    "duration": 29,
    "start_time": "2021-08-31T18:27:28.277Z"
   },
   {
    "duration": 35,
    "start_time": "2021-08-31T18:28:06.556Z"
   },
   {
    "duration": 368,
    "start_time": "2021-08-31T18:30:10.667Z"
   },
   {
    "duration": 9,
    "start_time": "2021-08-31T18:30:18.874Z"
   },
   {
    "duration": 9,
    "start_time": "2021-08-31T18:31:18.641Z"
   },
   {
    "duration": 9,
    "start_time": "2021-08-31T18:31:26.162Z"
   },
   {
    "duration": 348,
    "start_time": "2021-08-31T18:31:54.185Z"
   },
   {
    "duration": 34,
    "start_time": "2021-08-31T18:33:26.796Z"
   },
   {
    "duration": 396,
    "start_time": "2021-08-31T18:35:21.720Z"
   },
   {
    "duration": 32,
    "start_time": "2021-08-31T18:35:40.555Z"
   },
   {
    "duration": 1474,
    "start_time": "2021-08-31T18:37:20.659Z"
   },
   {
    "duration": 179,
    "start_time": "2021-08-31T18:37:22.135Z"
   },
   {
    "duration": 3888,
    "start_time": "2021-08-31T18:37:22.319Z"
   },
   {
    "duration": 24,
    "start_time": "2021-08-31T18:37:26.210Z"
   },
   {
    "duration": 28,
    "start_time": "2021-08-31T18:37:26.236Z"
   },
   {
    "duration": 25,
    "start_time": "2021-08-31T18:37:26.267Z"
   },
   {
    "duration": 37,
    "start_time": "2021-08-31T18:37:26.295Z"
   },
   {
    "duration": 13,
    "start_time": "2021-08-31T18:37:26.334Z"
   },
   {
    "duration": 87,
    "start_time": "2021-08-31T18:37:26.351Z"
   },
   {
    "duration": 229,
    "start_time": "2021-08-31T18:37:26.440Z"
   },
   {
    "duration": 178,
    "start_time": "2021-08-31T18:37:26.671Z"
   },
   {
    "duration": 94,
    "start_time": "2021-08-31T18:37:26.851Z"
   },
   {
    "duration": 22,
    "start_time": "2021-08-31T18:37:26.947Z"
   },
   {
    "duration": 14,
    "start_time": "2021-08-31T18:37:26.972Z"
   },
   {
    "duration": 659,
    "start_time": "2021-08-31T18:37:26.988Z"
   },
   {
    "duration": 28,
    "start_time": "2021-08-31T18:37:27.649Z"
   },
   {
    "duration": 5,
    "start_time": "2021-08-31T18:37:32.410Z"
   },
   {
    "duration": 6,
    "start_time": "2021-08-31T18:37:41.243Z"
   },
   {
    "duration": 6,
    "start_time": "2021-08-31T18:37:48.955Z"
   },
   {
    "duration": 6,
    "start_time": "2021-08-31T18:37:51.498Z"
   },
   {
    "duration": 434,
    "start_time": "2021-08-31T18:38:47.355Z"
   },
   {
    "duration": 22,
    "start_time": "2021-08-31T18:40:25.471Z"
   },
   {
    "duration": 22,
    "start_time": "2021-08-31T18:41:18.783Z"
   },
   {
    "duration": 8,
    "start_time": "2021-08-31T18:41:35.325Z"
   },
   {
    "duration": 33,
    "start_time": "2021-08-31T18:41:39.944Z"
   },
   {
    "duration": 45,
    "start_time": "2021-08-31T18:41:45.576Z"
   },
   {
    "duration": 8,
    "start_time": "2021-08-31T18:45:11.977Z"
   },
   {
    "duration": 32,
    "start_time": "2021-08-31T18:45:12.163Z"
   },
   {
    "duration": 3503,
    "start_time": "2021-08-31T18:48:08.499Z"
   },
   {
    "duration": 932,
    "start_time": "2021-08-31T18:50:23.506Z"
   },
   {
    "duration": 964,
    "start_time": "2021-08-31T18:50:35.041Z"
   },
   {
    "duration": 630,
    "start_time": "2021-08-31T18:51:27.402Z"
   },
   {
    "duration": 2052,
    "start_time": "2021-08-31T18:51:42.836Z"
   },
   {
    "duration": 34,
    "start_time": "2021-08-31T18:52:26.023Z"
   },
   {
    "duration": 1186,
    "start_time": "2021-09-01T17:02:56.768Z"
   },
   {
    "duration": 59,
    "start_time": "2021-09-01T17:02:57.956Z"
   },
   {
    "duration": 2578,
    "start_time": "2021-09-01T17:02:58.017Z"
   },
   {
    "duration": 13,
    "start_time": "2021-09-01T17:03:00.597Z"
   },
   {
    "duration": 23,
    "start_time": "2021-09-01T17:03:00.612Z"
   },
   {
    "duration": 14,
    "start_time": "2021-09-01T17:03:00.637Z"
   },
   {
    "duration": 29,
    "start_time": "2021-09-01T17:03:00.653Z"
   },
   {
    "duration": 18,
    "start_time": "2021-09-01T17:03:00.684Z"
   },
   {
    "duration": 77,
    "start_time": "2021-09-01T17:03:00.705Z"
   },
   {
    "duration": 175,
    "start_time": "2021-09-01T17:03:00.785Z"
   },
   {
    "duration": 131,
    "start_time": "2021-09-01T17:03:00.962Z"
   },
   {
    "duration": 71,
    "start_time": "2021-09-01T17:03:01.095Z"
   },
   {
    "duration": 10,
    "start_time": "2021-09-01T17:03:01.177Z"
   },
   {
    "duration": 18,
    "start_time": "2021-09-01T17:03:01.189Z"
   },
   {
    "duration": 421,
    "start_time": "2021-09-01T17:03:01.208Z"
   },
   {
    "duration": 15,
    "start_time": "2021-09-01T17:03:01.630Z"
   },
   {
    "duration": 1542,
    "start_time": "2021-09-01T17:03:01.647Z"
   },
   {
    "duration": 21,
    "start_time": "2021-09-01T17:03:03.191Z"
   },
   {
    "duration": 16,
    "start_time": "2021-09-01T17:03:43.403Z"
   },
   {
    "duration": 177,
    "start_time": "2021-09-01T17:04:00.915Z"
   },
   {
    "duration": 15,
    "start_time": "2021-09-01T17:04:10.000Z"
   },
   {
    "duration": 171,
    "start_time": "2021-09-01T17:04:10.337Z"
   },
   {
    "duration": 219,
    "start_time": "2021-09-01T17:04:37.224Z"
   },
   {
    "duration": 482,
    "start_time": "2021-09-01T17:04:44.360Z"
   },
   {
    "duration": 687,
    "start_time": "2021-09-01T17:05:50.629Z"
   },
   {
    "duration": 240,
    "start_time": "2021-09-01T17:07:06.624Z"
   },
   {
    "duration": 406,
    "start_time": "2021-09-01T17:08:05.815Z"
   },
   {
    "duration": 1094,
    "start_time": "2021-09-01T17:09:16.587Z"
   },
   {
    "duration": 505,
    "start_time": "2021-09-01T17:09:24.311Z"
   },
   {
    "duration": 1094,
    "start_time": "2021-09-01T17:09:29.865Z"
   },
   {
    "duration": 13,
    "start_time": "2021-09-01T17:09:43.001Z"
   },
   {
    "duration": 369,
    "start_time": "2021-09-01T17:09:43.435Z"
   },
   {
    "duration": 698,
    "start_time": "2021-09-01T17:09:43.971Z"
   },
   {
    "duration": 15,
    "start_time": "2021-09-01T17:10:00.087Z"
   },
   {
    "duration": 408,
    "start_time": "2021-09-01T17:10:00.578Z"
   },
   {
    "duration": 1477,
    "start_time": "2021-09-01T17:10:01.068Z"
   },
   {
    "duration": 5724,
    "start_time": "2021-09-01T17:10:10.083Z"
   },
   {
    "duration": 5905,
    "start_time": "2021-09-01T17:10:32.663Z"
   },
   {
    "duration": 1643,
    "start_time": "2021-09-01T17:10:59.493Z"
   },
   {
    "duration": 15,
    "start_time": "2021-09-01T17:15:36.435Z"
   },
   {
    "duration": 367,
    "start_time": "2021-09-01T17:15:38.521Z"
   },
   {
    "duration": 935,
    "start_time": "2021-09-01T17:15:41.270Z"
   },
   {
    "duration": 864,
    "start_time": "2021-09-01T17:15:46.657Z"
   },
   {
    "duration": 969,
    "start_time": "2021-09-01T17:17:36.839Z"
   },
   {
    "duration": 625,
    "start_time": "2021-09-01T17:17:49.049Z"
   },
   {
    "duration": 10,
    "start_time": "2021-09-01T17:19:11.238Z"
   },
   {
    "duration": 7321,
    "start_time": "2021-09-01T17:19:33.530Z"
   },
   {
    "duration": 7813,
    "start_time": "2021-09-01T17:21:03.249Z"
   },
   {
    "duration": 7347,
    "start_time": "2021-09-01T17:21:23.875Z"
   },
   {
    "duration": 2472,
    "start_time": "2021-09-01T17:21:41.979Z"
   },
   {
    "duration": 313,
    "start_time": "2021-09-01T17:24:53.494Z"
   },
   {
    "duration": 358,
    "start_time": "2021-09-01T17:25:11.166Z"
   },
   {
    "duration": 374,
    "start_time": "2021-09-01T17:25:16.034Z"
   },
   {
    "duration": 1377,
    "start_time": "2021-09-01T17:25:52.478Z"
   },
   {
    "duration": 1500,
    "start_time": "2021-09-01T17:26:37.605Z"
   },
   {
    "duration": 1537,
    "start_time": "2021-09-01T17:26:40.377Z"
   },
   {
    "duration": 1365,
    "start_time": "2021-09-01T17:26:53.868Z"
   },
   {
    "duration": 1490,
    "start_time": "2021-09-01T17:27:00.294Z"
   },
   {
    "duration": 1378,
    "start_time": "2021-09-01T17:27:16.939Z"
   },
   {
    "duration": 1364,
    "start_time": "2021-09-01T17:29:22.491Z"
   },
   {
    "duration": 24,
    "start_time": "2021-09-01T17:29:26.990Z"
   },
   {
    "duration": 14112,
    "start_time": "2021-09-01T17:32:26.300Z"
   },
   {
    "duration": 145,
    "start_time": "2021-09-01T17:32:40.269Z"
   },
   {
    "duration": 463,
    "start_time": "2021-09-01T17:32:42.139Z"
   },
   {
    "duration": 8162,
    "start_time": "2021-09-01T17:32:46.298Z"
   },
   {
    "duration": 9361,
    "start_time": "2021-09-01T17:33:05.824Z"
   },
   {
    "duration": 5,
    "start_time": "2021-09-01T17:33:18.711Z"
   },
   {
    "duration": 15,
    "start_time": "2021-09-01T17:37:05.949Z"
   },
   {
    "duration": 10,
    "start_time": "2021-09-01T17:37:10.046Z"
   },
   {
    "duration": 17,
    "start_time": "2021-09-01T17:37:21.670Z"
   },
   {
    "duration": 11,
    "start_time": "2021-09-01T17:37:22.123Z"
   },
   {
    "duration": 9,
    "start_time": "2021-09-01T17:37:31.680Z"
   },
   {
    "duration": 277,
    "start_time": "2021-09-01T17:37:37.520Z"
   },
   {
    "duration": 272,
    "start_time": "2021-09-01T17:37:43.790Z"
   },
   {
    "duration": 290,
    "start_time": "2021-09-01T17:37:51.365Z"
   },
   {
    "duration": 18,
    "start_time": "2021-09-01T17:39:26.595Z"
   },
   {
    "duration": 8,
    "start_time": "2021-09-01T17:39:27.189Z"
   },
   {
    "duration": 299,
    "start_time": "2021-09-01T17:39:27.708Z"
   },
   {
    "duration": 300,
    "start_time": "2021-09-01T17:39:36.186Z"
   },
   {
    "duration": 305,
    "start_time": "2021-09-01T17:39:45.041Z"
   },
   {
    "duration": 313,
    "start_time": "2021-09-01T17:40:13.562Z"
   },
   {
    "duration": 331,
    "start_time": "2021-09-01T17:43:43.714Z"
   },
   {
    "duration": 332,
    "start_time": "2021-09-01T17:44:04.075Z"
   },
   {
    "duration": 325,
    "start_time": "2021-09-01T17:44:10.619Z"
   },
   {
    "duration": 321,
    "start_time": "2021-09-01T17:44:26.043Z"
   },
   {
    "duration": 322,
    "start_time": "2021-09-01T17:44:41.348Z"
   },
   {
    "duration": 509,
    "start_time": "2021-09-01T17:44:48.289Z"
   },
   {
    "duration": 371,
    "start_time": "2021-09-01T17:44:56.995Z"
   },
   {
    "duration": 424,
    "start_time": "2021-09-01T17:45:01.870Z"
   },
   {
    "duration": 374,
    "start_time": "2021-09-01T17:49:30.805Z"
   },
   {
    "duration": 9,
    "start_time": "2021-09-01T18:01:46.976Z"
   },
   {
    "duration": 21,
    "start_time": "2021-09-01T18:01:50.600Z"
   },
   {
    "duration": 25,
    "start_time": "2021-09-01T18:01:58.862Z"
   },
   {
    "duration": 9,
    "start_time": "2021-09-01T18:02:05.871Z"
   },
   {
    "duration": 24,
    "start_time": "2021-09-01T18:02:08.882Z"
   },
   {
    "duration": 21,
    "start_time": "2021-09-01T18:03:50.763Z"
   },
   {
    "duration": 18,
    "start_time": "2021-09-01T18:13:04.645Z"
   },
   {
    "duration": 33,
    "start_time": "2021-09-01T18:13:08.668Z"
   },
   {
    "duration": 19,
    "start_time": "2021-09-01T18:13:14.260Z"
   },
   {
    "duration": 182,
    "start_time": "2021-09-01T18:14:37.536Z"
   },
   {
    "duration": 161,
    "start_time": "2021-09-01T18:15:17.286Z"
   },
   {
    "duration": 178,
    "start_time": "2021-09-01T18:15:24.406Z"
   },
   {
    "duration": 174,
    "start_time": "2021-09-01T18:17:39.657Z"
   },
   {
    "duration": 179,
    "start_time": "2021-09-01T18:17:46.031Z"
   },
   {
    "duration": 172,
    "start_time": "2021-09-01T18:18:12.887Z"
   },
   {
    "duration": 348,
    "start_time": "2021-09-01T18:20:45.798Z"
   },
   {
    "duration": 313,
    "start_time": "2021-09-01T18:21:40.500Z"
   },
   {
    "duration": 481,
    "start_time": "2021-09-01T18:22:18.518Z"
   },
   {
    "duration": 312,
    "start_time": "2021-09-01T18:22:26.651Z"
   },
   {
    "duration": 281,
    "start_time": "2021-09-01T18:22:58.276Z"
   },
   {
    "duration": 344,
    "start_time": "2021-09-01T18:23:07.216Z"
   },
   {
    "duration": 419,
    "start_time": "2021-09-01T18:23:13.999Z"
   },
   {
    "duration": 323,
    "start_time": "2021-09-01T18:23:19.641Z"
   },
   {
    "duration": 355,
    "start_time": "2021-09-01T18:23:25.123Z"
   },
   {
    "duration": 360,
    "start_time": "2021-09-01T18:26:34.506Z"
   },
   {
    "duration": 353,
    "start_time": "2021-09-01T18:26:42.021Z"
   },
   {
    "duration": 360,
    "start_time": "2021-09-01T18:26:48.995Z"
   },
   {
    "duration": 285,
    "start_time": "2021-09-01T18:27:11.986Z"
   },
   {
    "duration": 381,
    "start_time": "2021-09-01T18:27:37.499Z"
   },
   {
    "duration": 987,
    "start_time": "2021-09-01T18:28:16.849Z"
   },
   {
    "duration": 718,
    "start_time": "2021-09-01T18:29:57.028Z"
   },
   {
    "duration": 711,
    "start_time": "2021-09-01T18:31:12.483Z"
   },
   {
    "duration": 682,
    "start_time": "2021-09-01T18:31:21.825Z"
   },
   {
    "duration": 764,
    "start_time": "2021-09-01T18:31:27.470Z"
   },
   {
    "duration": 881,
    "start_time": "2021-09-01T18:31:53.090Z"
   },
   {
    "duration": 854,
    "start_time": "2021-09-01T18:33:22.799Z"
   },
   {
    "duration": 888,
    "start_time": "2021-09-01T18:33:59.284Z"
   },
   {
    "duration": 595,
    "start_time": "2021-09-01T18:35:39.260Z"
   },
   {
    "duration": 542,
    "start_time": "2021-09-01T18:35:52.845Z"
   },
   {
    "duration": 959,
    "start_time": "2021-09-01T18:36:07.321Z"
   },
   {
    "duration": 1404,
    "start_time": "2021-09-01T18:38:15.059Z"
   },
   {
    "duration": 62,
    "start_time": "2021-09-01T18:38:16.465Z"
   },
   {
    "duration": 2538,
    "start_time": "2021-09-01T18:38:16.529Z"
   },
   {
    "duration": 18,
    "start_time": "2021-09-01T18:38:19.069Z"
   },
   {
    "duration": 8,
    "start_time": "2021-09-01T18:38:19.089Z"
   },
   {
    "duration": 12,
    "start_time": "2021-09-01T18:38:19.099Z"
   },
   {
    "duration": 10,
    "start_time": "2021-09-01T18:38:19.113Z"
   },
   {
    "duration": 8,
    "start_time": "2021-09-01T18:38:19.125Z"
   },
   {
    "duration": 115,
    "start_time": "2021-09-01T18:38:19.135Z"
   },
   {
    "duration": 175,
    "start_time": "2021-09-01T18:38:19.252Z"
   },
   {
    "duration": 135,
    "start_time": "2021-09-01T18:38:19.429Z"
   },
   {
    "duration": 81,
    "start_time": "2021-09-01T18:38:19.566Z"
   },
   {
    "duration": 8,
    "start_time": "2021-09-01T18:38:19.648Z"
   },
   {
    "duration": 23,
    "start_time": "2021-09-01T18:38:19.657Z"
   },
   {
    "duration": 549,
    "start_time": "2021-09-01T18:38:19.683Z"
   },
   {
    "duration": 429,
    "start_time": "2021-09-01T18:38:20.234Z"
   },
   {
    "duration": 345,
    "start_time": "2021-09-01T18:38:20.665Z"
   },
   {
    "duration": 19,
    "start_time": "2021-09-01T18:38:21.013Z"
   },
   {
    "duration": 366,
    "start_time": "2021-09-01T18:38:21.034Z"
   },
   {
    "duration": 707,
    "start_time": "2021-09-01T18:38:21.402Z"
   },
   {
    "duration": 727,
    "start_time": "2021-09-01T18:38:42.821Z"
   },
   {
    "duration": 998,
    "start_time": "2021-09-01T18:38:48.747Z"
   },
   {
    "duration": 841,
    "start_time": "2021-09-01T18:39:14.000Z"
   },
   {
    "duration": 884,
    "start_time": "2021-09-01T18:39:26.144Z"
   },
   {
    "duration": 1122,
    "start_time": "2021-09-01T18:40:01.227Z"
   },
   {
    "duration": 4,
    "start_time": "2021-09-01T18:41:06.169Z"
   },
   {
    "duration": 1095,
    "start_time": "2021-09-01T18:41:06.631Z"
   },
   {
    "duration": 15,
    "start_time": "2021-09-01T18:41:46.542Z"
   },
   {
    "duration": 18,
    "start_time": "2021-09-01T18:44:59.981Z"
   },
   {
    "duration": 1359,
    "start_time": "2021-09-01T18:45:37.698Z"
   },
   {
    "duration": 1187,
    "start_time": "2021-09-01T18:45:47.822Z"
   },
   {
    "duration": 1664,
    "start_time": "2021-09-01T18:45:55.578Z"
   },
   {
    "duration": 1989,
    "start_time": "2021-09-01T18:46:31.390Z"
   },
   {
    "duration": 1753,
    "start_time": "2021-09-01T18:46:43.580Z"
   },
   {
    "duration": 13,
    "start_time": "2021-09-01T18:48:30.845Z"
   },
   {
    "duration": 7215,
    "start_time": "2021-09-01T18:48:38.547Z"
   },
   {
    "duration": 15,
    "start_time": "2021-09-01T18:48:53.743Z"
   },
   {
    "duration": 10,
    "start_time": "2021-09-01T18:49:09.505Z"
   },
   {
    "duration": 1720,
    "start_time": "2021-09-01T18:49:40.713Z"
   },
   {
    "duration": 1936,
    "start_time": "2021-09-01T18:49:58.222Z"
   },
   {
    "duration": 1785,
    "start_time": "2021-09-01T18:50:09.759Z"
   },
   {
    "duration": 126,
    "start_time": "2021-09-01T18:55:29.016Z"
   },
   {
    "duration": 797,
    "start_time": "2021-09-01T18:56:00.761Z"
   },
   {
    "duration": 721,
    "start_time": "2021-09-01T18:56:04.400Z"
   },
   {
    "duration": 270,
    "start_time": "2021-09-01T18:56:14.858Z"
   },
   {
    "duration": 5,
    "start_time": "2021-09-01T18:56:36.314Z"
   },
   {
    "duration": 6,
    "start_time": "2021-09-01T18:56:38.813Z"
   },
   {
    "duration": 6,
    "start_time": "2021-09-01T18:56:43.034Z"
   },
   {
    "duration": 7,
    "start_time": "2021-09-01T18:56:48.695Z"
   },
   {
    "duration": 86,
    "start_time": "2021-09-01T18:56:56.391Z"
   },
   {
    "duration": 133,
    "start_time": "2021-09-01T18:56:59.318Z"
   },
   {
    "duration": 173,
    "start_time": "2021-09-01T18:57:08.541Z"
   },
   {
    "duration": 178,
    "start_time": "2021-09-01T18:57:19.747Z"
   },
   {
    "duration": 181,
    "start_time": "2021-09-01T18:57:55.250Z"
   },
   {
    "duration": 199,
    "start_time": "2021-09-01T18:58:12.929Z"
   },
   {
    "duration": 212,
    "start_time": "2021-09-01T18:58:17.869Z"
   },
   {
    "duration": 508,
    "start_time": "2021-09-01T19:03:11.632Z"
   },
   {
    "duration": 2553,
    "start_time": "2021-09-01T19:03:13.741Z"
   },
   {
    "duration": 1703,
    "start_time": "2021-09-02T16:20:10.528Z"
   },
   {
    "duration": 84,
    "start_time": "2021-09-02T16:20:12.233Z"
   },
   {
    "duration": 3891,
    "start_time": "2021-09-02T16:20:12.320Z"
   },
   {
    "duration": 20,
    "start_time": "2021-09-02T16:20:16.215Z"
   },
   {
    "duration": 23,
    "start_time": "2021-09-02T16:20:16.238Z"
   },
   {
    "duration": 19,
    "start_time": "2021-09-02T16:20:16.264Z"
   },
   {
    "duration": 22,
    "start_time": "2021-09-02T16:20:16.286Z"
   },
   {
    "duration": 13,
    "start_time": "2021-09-02T16:20:16.310Z"
   },
   {
    "duration": 111,
    "start_time": "2021-09-02T16:20:16.327Z"
   },
   {
    "duration": 244,
    "start_time": "2021-09-02T16:20:16.441Z"
   },
   {
    "duration": 187,
    "start_time": "2021-09-02T16:20:16.687Z"
   },
   {
    "duration": 114,
    "start_time": "2021-09-02T16:20:16.876Z"
   },
   {
    "duration": 10,
    "start_time": "2021-09-02T16:20:16.993Z"
   },
   {
    "duration": 27,
    "start_time": "2021-09-02T16:20:17.006Z"
   },
   {
    "duration": 687,
    "start_time": "2021-09-02T16:20:17.036Z"
   },
   {
    "duration": 671,
    "start_time": "2021-09-02T16:20:17.725Z"
   },
   {
    "duration": 495,
    "start_time": "2021-09-02T16:20:18.399Z"
   },
   {
    "duration": 30,
    "start_time": "2021-09-02T16:20:18.896Z"
   },
   {
    "duration": 559,
    "start_time": "2021-09-02T16:20:18.929Z"
   },
   {
    "duration": 1651,
    "start_time": "2021-09-02T16:20:19.491Z"
   },
   {
    "duration": 2570,
    "start_time": "2021-09-02T16:20:21.144Z"
   },
   {
    "duration": 379,
    "start_time": "2021-09-02T16:20:23.716Z"
   },
   {
    "duration": 482,
    "start_time": "2021-09-02T16:28:28.116Z"
   },
   {
    "duration": 511,
    "start_time": "2021-09-02T16:29:00.624Z"
   },
   {
    "duration": 1341,
    "start_time": "2021-09-02T16:32:00.917Z"
   },
   {
    "duration": 944,
    "start_time": "2021-09-02T16:32:08.671Z"
   },
   {
    "duration": 732,
    "start_time": "2021-09-02T16:32:39.100Z"
   },
   {
    "duration": 813,
    "start_time": "2021-09-02T16:32:55.842Z"
   },
   {
    "duration": 1253,
    "start_time": "2021-09-02T16:33:38.164Z"
   },
   {
    "duration": 808,
    "start_time": "2021-09-02T16:33:52.885Z"
   },
   {
    "duration": 6,
    "start_time": "2021-09-02T16:35:06.163Z"
   },
   {
    "duration": 289,
    "start_time": "2021-09-02T16:59:45.689Z"
   },
   {
    "duration": 445,
    "start_time": "2021-09-02T16:59:52.231Z"
   },
   {
    "duration": 2880,
    "start_time": "2021-09-02T17:00:25.860Z"
   },
   {
    "duration": 2825,
    "start_time": "2021-09-02T17:00:54.487Z"
   },
   {
    "duration": 3230,
    "start_time": "2021-09-02T17:01:48.129Z"
   },
   {
    "duration": 12,
    "start_time": "2021-09-02T17:03:03.735Z"
   },
   {
    "duration": 3016,
    "start_time": "2021-09-02T17:03:09.101Z"
   },
   {
    "duration": 900,
    "start_time": "2021-09-02T17:04:49.047Z"
   },
   {
    "duration": 824,
    "start_time": "2021-09-02T17:05:13.148Z"
   },
   {
    "duration": 902,
    "start_time": "2021-09-02T17:05:40.795Z"
   },
   {
    "duration": 524,
    "start_time": "2021-09-02T17:05:51.390Z"
   },
   {
    "duration": 542,
    "start_time": "2021-09-02T17:06:47.200Z"
   },
   {
    "duration": 734,
    "start_time": "2021-09-02T17:06:58.659Z"
   },
   {
    "duration": 616,
    "start_time": "2021-09-02T17:07:13.654Z"
   },
   {
    "duration": 15,
    "start_time": "2021-09-02T17:21:35.430Z"
   },
   {
    "duration": 19,
    "start_time": "2021-09-02T17:22:23.677Z"
   },
   {
    "duration": 28,
    "start_time": "2021-09-02T17:22:29.061Z"
   },
   {
    "duration": 38,
    "start_time": "2021-09-02T17:22:34.035Z"
   },
   {
    "duration": 28,
    "start_time": "2021-09-02T17:22:38.218Z"
   },
   {
    "duration": 516,
    "start_time": "2021-09-02T17:23:16.916Z"
   },
   {
    "duration": 606,
    "start_time": "2021-09-02T17:23:36.180Z"
   },
   {
    "duration": 590,
    "start_time": "2021-09-02T17:26:06.680Z"
   },
   {
    "duration": 365,
    "start_time": "2021-09-02T17:26:28.122Z"
   },
   {
    "duration": 67,
    "start_time": "2021-09-02T17:26:33.529Z"
   },
   {
    "duration": 382,
    "start_time": "2021-09-02T17:26:39.774Z"
   },
   {
    "duration": 351,
    "start_time": "2021-09-02T17:26:44.310Z"
   },
   {
    "duration": 1728,
    "start_time": "2021-09-02T17:30:49.711Z"
   },
   {
    "duration": 1657,
    "start_time": "2021-09-02T17:31:00.264Z"
   },
   {
    "duration": 3131,
    "start_time": "2021-09-02T17:31:53.290Z"
   },
   {
    "duration": 342,
    "start_time": "2021-09-02T17:33:15.229Z"
   },
   {
    "duration": 349,
    "start_time": "2021-09-02T17:34:34.354Z"
   },
   {
    "duration": 7,
    "start_time": "2021-09-02T17:40:00.960Z"
   },
   {
    "duration": 9,
    "start_time": "2021-09-02T17:40:05.861Z"
   },
   {
    "duration": 731,
    "start_time": "2021-09-02T17:41:35.535Z"
   },
   {
    "duration": 7,
    "start_time": "2021-09-02T17:42:06.203Z"
   },
   {
    "duration": 574,
    "start_time": "2021-09-02T17:42:14.238Z"
   },
   {
    "duration": 480,
    "start_time": "2021-09-02T17:42:45.950Z"
   },
   {
    "duration": 10,
    "start_time": "2021-09-02T17:43:00.202Z"
   },
   {
    "duration": 10,
    "start_time": "2021-09-02T17:54:20.937Z"
   },
   {
    "duration": 7,
    "start_time": "2021-09-02T17:54:27.013Z"
   },
   {
    "duration": 301,
    "start_time": "2021-09-02T17:54:52.275Z"
   },
   {
    "duration": 467,
    "start_time": "2021-09-02T17:54:56.065Z"
   },
   {
    "duration": 11,
    "start_time": "2021-09-02T17:55:37.561Z"
   },
   {
    "duration": 340,
    "start_time": "2021-09-02T17:57:08.971Z"
   },
   {
    "duration": 355,
    "start_time": "2021-09-02T17:57:27.401Z"
   },
   {
    "duration": 449,
    "start_time": "2021-09-02T17:57:34.031Z"
   },
   {
    "duration": 363,
    "start_time": "2021-09-02T17:59:23.851Z"
   },
   {
    "duration": 1714,
    "start_time": "2021-09-02T18:35:52.621Z"
   },
   {
    "duration": 76,
    "start_time": "2021-09-02T18:35:54.338Z"
   },
   {
    "duration": 4342,
    "start_time": "2021-09-02T18:35:54.417Z"
   },
   {
    "duration": 19,
    "start_time": "2021-09-02T18:35:58.763Z"
   },
   {
    "duration": 10,
    "start_time": "2021-09-02T18:35:58.784Z"
   },
   {
    "duration": 15,
    "start_time": "2021-09-02T18:35:58.796Z"
   },
   {
    "duration": 44,
    "start_time": "2021-09-02T18:35:58.813Z"
   },
   {
    "duration": 12,
    "start_time": "2021-09-02T18:35:58.859Z"
   },
   {
    "duration": 8,
    "start_time": "2021-09-02T18:35:58.875Z"
   },
   {
    "duration": 256,
    "start_time": "2021-09-02T18:35:58.886Z"
   },
   {
    "duration": 184,
    "start_time": "2021-09-02T18:35:59.144Z"
   },
   {
    "duration": 112,
    "start_time": "2021-09-02T18:35:59.330Z"
   },
   {
    "duration": 16,
    "start_time": "2021-09-02T18:35:59.444Z"
   },
   {
    "duration": 19,
    "start_time": "2021-09-02T18:35:59.463Z"
   },
   {
    "duration": 753,
    "start_time": "2021-09-02T18:35:59.484Z"
   },
   {
    "duration": 719,
    "start_time": "2021-09-02T18:36:00.239Z"
   },
   {
    "duration": 564,
    "start_time": "2021-09-02T18:36:00.961Z"
   },
   {
    "duration": 6,
    "start_time": "2021-09-02T18:36:01.528Z"
   },
   {
    "duration": 676,
    "start_time": "2021-09-02T18:36:01.536Z"
   },
   {
    "duration": 53,
    "start_time": "2021-09-02T18:36:02.215Z"
   },
   {
    "duration": 420,
    "start_time": "2021-09-02T18:36:02.271Z"
   },
   {
    "duration": 1765,
    "start_time": "2021-09-02T18:36:02.693Z"
   },
   {
    "duration": 3182,
    "start_time": "2021-09-02T18:36:04.460Z"
   },
   {
    "duration": 497,
    "start_time": "2021-09-02T18:36:07.655Z"
   },
   {
    "duration": 489,
    "start_time": "2021-09-02T18:36:08.154Z"
   },
   {
    "duration": 5,
    "start_time": "2021-09-02T18:36:08.645Z"
   },
   {
    "duration": 1058,
    "start_time": "2021-09-03T16:53:11.861Z"
   },
   {
    "duration": 56,
    "start_time": "2021-09-03T16:53:12.921Z"
   },
   {
    "duration": 2652,
    "start_time": "2021-09-03T16:53:12.979Z"
   },
   {
    "duration": 13,
    "start_time": "2021-09-03T16:53:15.633Z"
   },
   {
    "duration": 12,
    "start_time": "2021-09-03T16:53:15.648Z"
   },
   {
    "duration": 11,
    "start_time": "2021-09-03T16:53:15.662Z"
   },
   {
    "duration": 25,
    "start_time": "2021-09-03T16:53:15.675Z"
   },
   {
    "duration": 12,
    "start_time": "2021-09-03T16:53:15.702Z"
   },
   {
    "duration": 5,
    "start_time": "2021-09-03T16:53:15.718Z"
   },
   {
    "duration": 175,
    "start_time": "2021-09-03T16:53:15.725Z"
   },
   {
    "duration": 135,
    "start_time": "2021-09-03T16:53:15.902Z"
   },
   {
    "duration": 75,
    "start_time": "2021-09-03T16:53:16.039Z"
   },
   {
    "duration": 9,
    "start_time": "2021-09-03T16:53:16.116Z"
   },
   {
    "duration": 9,
    "start_time": "2021-09-03T16:53:16.127Z"
   },
   {
    "duration": 463,
    "start_time": "2021-09-03T16:53:16.138Z"
   },
   {
    "duration": 446,
    "start_time": "2021-09-03T16:53:16.603Z"
   },
   {
    "duration": 354,
    "start_time": "2021-09-03T16:53:17.051Z"
   },
   {
    "duration": 5,
    "start_time": "2021-09-03T16:53:17.407Z"
   },
   {
    "duration": 393,
    "start_time": "2021-09-03T16:53:17.415Z"
   },
   {
    "duration": 20,
    "start_time": "2021-09-03T16:53:17.811Z"
   },
   {
    "duration": 235,
    "start_time": "2021-09-03T16:53:17.833Z"
   },
   {
    "duration": 1556,
    "start_time": "2021-09-03T16:53:18.070Z"
   },
   {
    "duration": 2800,
    "start_time": "2021-09-03T16:53:19.628Z"
   },
   {
    "duration": 347,
    "start_time": "2021-09-03T16:53:22.429Z"
   },
   {
    "duration": 300,
    "start_time": "2021-09-03T16:53:22.778Z"
   },
   {
    "duration": 343,
    "start_time": "2021-09-03T17:17:38.817Z"
   },
   {
    "duration": 17,
    "start_time": "2021-09-03T17:17:53.771Z"
   },
   {
    "duration": 21,
    "start_time": "2021-09-03T17:18:56.495Z"
   },
   {
    "duration": 1792,
    "start_time": "2021-09-03T17:23:03.949Z"
   },
   {
    "duration": 2696,
    "start_time": "2021-09-03T17:23:19.347Z"
   },
   {
    "duration": 3166,
    "start_time": "2021-09-03T17:23:37.659Z"
   },
   {
    "duration": 1991,
    "start_time": "2021-09-03T17:23:45.982Z"
   },
   {
    "duration": 2007,
    "start_time": "2021-09-03T17:24:25.579Z"
   },
   {
    "duration": 1992,
    "start_time": "2021-09-03T17:24:35.653Z"
   },
   {
    "duration": 1939,
    "start_time": "2021-09-03T17:24:46.427Z"
   },
   {
    "duration": 2563,
    "start_time": "2021-09-03T17:25:04.973Z"
   },
   {
    "duration": 5,
    "start_time": "2021-09-03T17:26:54.574Z"
   },
   {
    "duration": 23,
    "start_time": "2021-09-03T17:32:51.277Z"
   },
   {
    "duration": 24,
    "start_time": "2021-09-03T17:33:32.997Z"
   },
   {
    "duration": 40,
    "start_time": "2021-09-03T17:47:00.029Z"
   },
   {
    "duration": 6,
    "start_time": "2021-09-03T17:47:07.638Z"
   },
   {
    "duration": 38,
    "start_time": "2021-09-03T17:47:20.819Z"
   },
   {
    "duration": 5,
    "start_time": "2021-09-03T17:47:21.175Z"
   },
   {
    "duration": 1217,
    "start_time": "2021-09-03T17:47:30.152Z"
   },
   {
    "duration": 68,
    "start_time": "2021-09-03T17:47:31.371Z"
   },
   {
    "duration": 2939,
    "start_time": "2021-09-03T17:47:31.444Z"
   },
   {
    "duration": 19,
    "start_time": "2021-09-03T17:47:34.391Z"
   },
   {
    "duration": 8,
    "start_time": "2021-09-03T17:47:34.412Z"
   },
   {
    "duration": 11,
    "start_time": "2021-09-03T17:47:34.422Z"
   },
   {
    "duration": 13,
    "start_time": "2021-09-03T17:47:34.435Z"
   },
   {
    "duration": 9,
    "start_time": "2021-09-03T17:47:34.450Z"
   },
   {
    "duration": 32,
    "start_time": "2021-09-03T17:47:34.462Z"
   },
   {
    "duration": 178,
    "start_time": "2021-09-03T17:47:34.497Z"
   },
   {
    "duration": 148,
    "start_time": "2021-09-03T17:47:34.676Z"
   },
   {
    "duration": 86,
    "start_time": "2021-09-03T17:47:34.827Z"
   },
   {
    "duration": 9,
    "start_time": "2021-09-03T17:47:34.915Z"
   },
   {
    "duration": 12,
    "start_time": "2021-09-03T17:47:34.925Z"
   },
   {
    "duration": 16,
    "start_time": "2021-09-03T17:47:34.939Z"
   },
   {
    "duration": 70,
    "start_time": "2021-09-03T17:47:34.956Z"
   },
   {
    "duration": 5,
    "start_time": "2021-09-03T17:47:35.029Z"
   },
   {
    "duration": 506,
    "start_time": "2021-09-03T17:47:35.035Z"
   },
   {
    "duration": 451,
    "start_time": "2021-09-03T17:47:35.542Z"
   },
   {
    "duration": 366,
    "start_time": "2021-09-03T17:47:35.997Z"
   },
   {
    "duration": 5,
    "start_time": "2021-09-03T17:47:36.365Z"
   },
   {
    "duration": 427,
    "start_time": "2021-09-03T17:47:36.371Z"
   },
   {
    "duration": 25,
    "start_time": "2021-09-03T17:47:36.800Z"
   },
   {
    "duration": 271,
    "start_time": "2021-09-03T17:47:36.827Z"
   },
   {
    "duration": 1332,
    "start_time": "2021-09-03T17:47:37.101Z"
   },
   {
    "duration": 2307,
    "start_time": "2021-09-03T17:47:38.436Z"
   },
   {
    "duration": 368,
    "start_time": "2021-09-03T17:47:40.745Z"
   },
   {
    "duration": 365,
    "start_time": "2021-09-03T17:47:41.116Z"
   },
   {
    "duration": 1685,
    "start_time": "2021-09-03T17:47:41.482Z"
   },
   {
    "duration": 28,
    "start_time": "2021-09-03T17:47:43.168Z"
   },
   {
    "duration": 51,
    "start_time": "2021-09-03T17:48:03.696Z"
   },
   {
    "duration": 335,
    "start_time": "2021-09-03T17:52:40.916Z"
   },
   {
    "duration": 4,
    "start_time": "2021-09-03T17:52:44.767Z"
   },
   {
    "duration": 748,
    "start_time": "2021-09-03T17:52:45.038Z"
   },
   {
    "duration": 5,
    "start_time": "2021-09-03T17:53:11.859Z"
   },
   {
    "duration": 694,
    "start_time": "2021-09-03T17:53:15.565Z"
   },
   {
    "duration": 1284,
    "start_time": "2021-09-03T17:55:50.361Z"
   },
   {
    "duration": 67,
    "start_time": "2021-09-03T17:55:51.647Z"
   },
   {
    "duration": 3081,
    "start_time": "2021-09-03T17:55:51.717Z"
   },
   {
    "duration": 22,
    "start_time": "2021-09-03T17:55:54.801Z"
   },
   {
    "duration": 5,
    "start_time": "2021-09-03T17:55:54.825Z"
   },
   {
    "duration": 16,
    "start_time": "2021-09-03T17:55:54.832Z"
   },
   {
    "duration": 20,
    "start_time": "2021-09-03T17:55:54.850Z"
   },
   {
    "duration": 27,
    "start_time": "2021-09-03T17:55:54.872Z"
   },
   {
    "duration": 15,
    "start_time": "2021-09-03T17:55:54.903Z"
   },
   {
    "duration": 197,
    "start_time": "2021-09-03T17:55:54.921Z"
   },
   {
    "duration": 150,
    "start_time": "2021-09-03T17:55:55.124Z"
   },
   {
    "duration": 88,
    "start_time": "2021-09-03T17:55:55.276Z"
   },
   {
    "duration": 7,
    "start_time": "2021-09-03T17:55:55.365Z"
   },
   {
    "duration": 21,
    "start_time": "2021-09-03T17:55:55.374Z"
   },
   {
    "duration": 29,
    "start_time": "2021-09-03T17:55:55.398Z"
   },
   {
    "duration": 51,
    "start_time": "2021-09-03T17:55:55.429Z"
   },
   {
    "duration": 579,
    "start_time": "2021-09-03T17:55:55.482Z"
   },
   {
    "duration": 501,
    "start_time": "2021-09-03T17:55:56.063Z"
   },
   {
    "duration": 373,
    "start_time": "2021-09-03T17:55:56.566Z"
   },
   {
    "duration": 6,
    "start_time": "2021-09-03T17:55:56.941Z"
   },
   {
    "duration": 423,
    "start_time": "2021-09-03T17:55:56.948Z"
   },
   {
    "duration": 22,
    "start_time": "2021-09-03T17:55:57.373Z"
   },
   {
    "duration": 268,
    "start_time": "2021-09-03T17:55:57.397Z"
   },
   {
    "duration": 1397,
    "start_time": "2021-09-03T17:55:57.666Z"
   },
   {
    "duration": 2416,
    "start_time": "2021-09-03T17:55:59.065Z"
   },
   {
    "duration": 386,
    "start_time": "2021-09-03T17:56:01.484Z"
   },
   {
    "duration": 338,
    "start_time": "2021-09-03T17:56:01.873Z"
   },
   {
    "duration": 7,
    "start_time": "2021-09-03T17:56:02.213Z"
   },
   {
    "duration": 601,
    "start_time": "2021-09-03T17:56:02.225Z"
   },
   {
    "duration": 617,
    "start_time": "2021-09-03T17:56:44.282Z"
   },
   {
    "duration": 585,
    "start_time": "2021-09-03T18:05:04.815Z"
   },
   {
    "duration": 684,
    "start_time": "2021-09-03T18:11:40.322Z"
   },
   {
    "duration": 89,
    "start_time": "2021-09-03T18:19:49.702Z"
   },
   {
    "duration": 10,
    "start_time": "2021-09-03T18:19:54.304Z"
   },
   {
    "duration": 12,
    "start_time": "2021-09-03T18:28:48.887Z"
   },
   {
    "duration": 14,
    "start_time": "2021-09-03T18:31:46.487Z"
   },
   {
    "duration": 217,
    "start_time": "2021-09-03T18:32:21.683Z"
   },
   {
    "duration": 230,
    "start_time": "2021-09-03T18:32:31.886Z"
   },
   {
    "duration": 340,
    "start_time": "2021-09-03T18:32:39.634Z"
   },
   {
    "duration": 381,
    "start_time": "2021-09-03T18:32:54.247Z"
   },
   {
    "duration": 239,
    "start_time": "2021-09-03T18:33:46.716Z"
   },
   {
    "duration": 9,
    "start_time": "2021-09-03T18:35:27.688Z"
   },
   {
    "duration": 8,
    "start_time": "2021-09-03T18:35:33.075Z"
   },
   {
    "duration": 9,
    "start_time": "2021-09-03T18:35:39.572Z"
   },
   {
    "duration": 5,
    "start_time": "2021-09-03T18:35:47.320Z"
   },
   {
    "duration": 5,
    "start_time": "2021-09-03T18:36:01.765Z"
   },
   {
    "duration": 9,
    "start_time": "2021-09-03T18:38:08.071Z"
   },
   {
    "duration": 1539,
    "start_time": "2021-09-04T06:41:14.518Z"
   },
   {
    "duration": 81,
    "start_time": "2021-09-04T06:41:16.060Z"
   },
   {
    "duration": 4347,
    "start_time": "2021-09-04T06:41:16.148Z"
   },
   {
    "duration": 21,
    "start_time": "2021-09-04T06:41:20.497Z"
   },
   {
    "duration": 8,
    "start_time": "2021-09-04T06:41:20.521Z"
   },
   {
    "duration": 34,
    "start_time": "2021-09-04T06:41:20.532Z"
   },
   {
    "duration": 19,
    "start_time": "2021-09-04T06:41:20.571Z"
   },
   {
    "duration": 12,
    "start_time": "2021-09-04T06:41:20.593Z"
   },
   {
    "duration": 10,
    "start_time": "2021-09-04T06:41:20.608Z"
   },
   {
    "duration": 260,
    "start_time": "2021-09-04T06:41:20.620Z"
   },
   {
    "duration": 186,
    "start_time": "2021-09-04T06:41:20.883Z"
   },
   {
    "duration": 117,
    "start_time": "2021-09-04T06:41:21.072Z"
   },
   {
    "duration": 13,
    "start_time": "2021-09-04T06:41:21.192Z"
   },
   {
    "duration": 24,
    "start_time": "2021-09-04T06:41:21.208Z"
   },
   {
    "duration": 39,
    "start_time": "2021-09-04T06:41:21.234Z"
   },
   {
    "duration": 82,
    "start_time": "2021-09-04T06:41:21.275Z"
   },
   {
    "duration": 762,
    "start_time": "2021-09-04T06:41:21.360Z"
   },
   {
    "duration": 789,
    "start_time": "2021-09-04T06:41:22.125Z"
   },
   {
    "duration": 656,
    "start_time": "2021-09-04T06:41:22.917Z"
   },
   {
    "duration": 7,
    "start_time": "2021-09-04T06:41:23.575Z"
   },
   {
    "duration": 634,
    "start_time": "2021-09-04T06:41:23.584Z"
   },
   {
    "duration": 42,
    "start_time": "2021-09-04T06:41:24.222Z"
   },
   {
    "duration": 499,
    "start_time": "2021-09-04T06:41:24.267Z"
   },
   {
    "duration": 1851,
    "start_time": "2021-09-04T06:41:24.769Z"
   },
   {
    "duration": 3201,
    "start_time": "2021-09-04T06:41:26.623Z"
   },
   {
    "duration": 502,
    "start_time": "2021-09-04T06:41:29.827Z"
   },
   {
    "duration": 501,
    "start_time": "2021-09-04T06:41:30.331Z"
   },
   {
    "duration": 8,
    "start_time": "2021-09-04T06:41:30.835Z"
   },
   {
    "duration": 916,
    "start_time": "2021-09-04T06:41:30.856Z"
   },
   {
    "duration": 919,
    "start_time": "2021-09-04T06:41:31.775Z"
   },
   {
    "duration": 885,
    "start_time": "2021-09-04T06:41:32.697Z"
   },
   {
    "duration": 12,
    "start_time": "2021-09-04T06:41:33.584Z"
   },
   {
    "duration": 11,
    "start_time": "2021-09-04T06:41:33.598Z"
   },
   {
    "duration": 1393,
    "start_time": "2021-09-04T07:30:10.527Z"
   },
   {
    "duration": 78,
    "start_time": "2021-09-04T07:30:11.923Z"
   },
   {
    "duration": 4214,
    "start_time": "2021-09-04T07:30:12.004Z"
   },
   {
    "duration": 20,
    "start_time": "2021-09-04T07:30:16.221Z"
   },
   {
    "duration": 6,
    "start_time": "2021-09-04T07:30:16.256Z"
   },
   {
    "duration": 25,
    "start_time": "2021-09-04T07:30:16.264Z"
   },
   {
    "duration": 17,
    "start_time": "2021-09-04T07:30:16.292Z"
   },
   {
    "duration": 12,
    "start_time": "2021-09-04T07:30:16.312Z"
   },
   {
    "duration": 33,
    "start_time": "2021-09-04T07:30:16.326Z"
   },
   {
    "duration": 246,
    "start_time": "2021-09-04T07:30:16.362Z"
   },
   {
    "duration": 186,
    "start_time": "2021-09-04T07:30:16.611Z"
   },
   {
    "duration": 113,
    "start_time": "2021-09-04T07:30:16.800Z"
   },
   {
    "duration": 13,
    "start_time": "2021-09-04T07:30:16.917Z"
   },
   {
    "duration": 27,
    "start_time": "2021-09-04T07:30:16.932Z"
   },
   {
    "duration": 32,
    "start_time": "2021-09-04T07:30:16.961Z"
   },
   {
    "duration": 74,
    "start_time": "2021-09-04T07:30:16.996Z"
   },
   {
    "duration": 750,
    "start_time": "2021-09-04T07:30:17.073Z"
   },
   {
    "duration": 705,
    "start_time": "2021-09-04T07:30:17.826Z"
   },
   {
    "duration": 547,
    "start_time": "2021-09-04T07:30:18.534Z"
   },
   {
    "duration": 632,
    "start_time": "2021-09-04T07:30:19.084Z"
   },
   {
    "duration": 40,
    "start_time": "2021-09-04T07:30:19.718Z"
   },
   {
    "duration": 380,
    "start_time": "2021-09-04T07:30:19.760Z"
   },
   {
    "duration": 1779,
    "start_time": "2021-09-04T07:30:20.145Z"
   },
   {
    "duration": 3281,
    "start_time": "2021-09-04T07:30:21.928Z"
   },
   {
    "duration": 530,
    "start_time": "2021-09-04T07:30:25.212Z"
   },
   {
    "duration": 485,
    "start_time": "2021-09-04T07:30:25.745Z"
   },
   {
    "duration": 6,
    "start_time": "2021-09-04T07:30:26.233Z"
   },
   {
    "duration": 964,
    "start_time": "2021-09-04T07:30:26.241Z"
   },
   {
    "duration": 891,
    "start_time": "2021-09-04T07:30:27.209Z"
   },
   {
    "duration": 828,
    "start_time": "2021-09-04T07:30:28.103Z"
   },
   {
    "duration": 23,
    "start_time": "2021-09-04T07:30:28.933Z"
   },
   {
    "duration": 11,
    "start_time": "2021-09-04T07:30:28.959Z"
   },
   {
    "duration": 1196,
    "start_time": "2021-09-04T08:08:03.116Z"
   },
   {
    "duration": 62,
    "start_time": "2021-09-04T08:08:04.314Z"
   },
   {
    "duration": 3032,
    "start_time": "2021-09-04T08:08:04.379Z"
   },
   {
    "duration": 15,
    "start_time": "2021-09-04T08:08:07.413Z"
   },
   {
    "duration": 7,
    "start_time": "2021-09-04T08:08:07.430Z"
   },
   {
    "duration": 11,
    "start_time": "2021-09-04T08:08:07.439Z"
   },
   {
    "duration": 32,
    "start_time": "2021-09-04T08:08:07.452Z"
   },
   {
    "duration": 11,
    "start_time": "2021-09-04T08:08:07.492Z"
   },
   {
    "duration": 6,
    "start_time": "2021-09-04T08:08:07.506Z"
   },
   {
    "duration": 220,
    "start_time": "2021-09-04T08:08:07.514Z"
   },
   {
    "duration": 164,
    "start_time": "2021-09-04T08:08:07.736Z"
   },
   {
    "duration": 98,
    "start_time": "2021-09-04T08:08:07.902Z"
   },
   {
    "duration": 9,
    "start_time": "2021-09-04T08:08:08.002Z"
   },
   {
    "duration": 12,
    "start_time": "2021-09-04T08:08:08.013Z"
   },
   {
    "duration": 17,
    "start_time": "2021-09-04T08:08:08.027Z"
   },
   {
    "duration": 80,
    "start_time": "2021-09-04T08:08:08.046Z"
   },
   {
    "duration": 575,
    "start_time": "2021-09-04T08:08:08.127Z"
   },
   {
    "duration": 520,
    "start_time": "2021-09-04T08:08:08.704Z"
   },
   {
    "duration": 407,
    "start_time": "2021-09-04T08:08:09.225Z"
   },
   {
    "duration": 448,
    "start_time": "2021-09-04T08:08:09.634Z"
   },
   {
    "duration": 21,
    "start_time": "2021-09-04T08:08:10.084Z"
   },
   {
    "duration": 288,
    "start_time": "2021-09-04T08:08:10.107Z"
   },
   {
    "duration": 1401,
    "start_time": "2021-09-04T08:08:10.397Z"
   },
   {
    "duration": 2466,
    "start_time": "2021-09-04T08:08:11.800Z"
   },
   {
    "duration": 387,
    "start_time": "2021-09-04T08:08:14.268Z"
   },
   {
    "duration": 345,
    "start_time": "2021-09-04T08:08:14.657Z"
   },
   {
    "duration": 5,
    "start_time": "2021-09-04T08:08:15.006Z"
   },
   {
    "duration": 655,
    "start_time": "2021-09-04T08:08:15.013Z"
   },
   {
    "duration": 619,
    "start_time": "2021-09-04T08:08:15.670Z"
   },
   {
    "duration": 586,
    "start_time": "2021-09-04T08:08:16.290Z"
   },
   {
    "duration": 9,
    "start_time": "2021-09-04T08:08:16.879Z"
   },
   {
    "duration": 11,
    "start_time": "2021-09-04T08:08:16.891Z"
   },
   {
    "duration": 23,
    "start_time": "2021-09-04T09:18:55.104Z"
   },
   {
    "duration": 411,
    "start_time": "2021-09-04T10:11:30.204Z"
   },
   {
    "duration": 1463,
    "start_time": "2021-09-04T10:11:38.727Z"
   },
   {
    "duration": 75,
    "start_time": "2021-09-04T10:11:40.192Z"
   },
   {
    "duration": 4353,
    "start_time": "2021-09-04T10:11:40.270Z"
   },
   {
    "duration": 19,
    "start_time": "2021-09-04T10:11:44.625Z"
   },
   {
    "duration": 19,
    "start_time": "2021-09-04T10:11:44.646Z"
   },
   {
    "duration": 15,
    "start_time": "2021-09-04T10:11:44.668Z"
   },
   {
    "duration": 19,
    "start_time": "2021-09-04T10:11:44.686Z"
   },
   {
    "duration": 12,
    "start_time": "2021-09-04T10:11:44.709Z"
   },
   {
    "duration": 9,
    "start_time": "2021-09-04T10:11:44.724Z"
   },
   {
    "duration": 233,
    "start_time": "2021-09-04T10:11:44.761Z"
   },
   {
    "duration": 190,
    "start_time": "2021-09-04T10:11:44.996Z"
   },
   {
    "duration": 104,
    "start_time": "2021-09-04T10:11:45.189Z"
   },
   {
    "duration": 10,
    "start_time": "2021-09-04T10:11:45.296Z"
   },
   {
    "duration": 11,
    "start_time": "2021-09-04T10:11:45.309Z"
   },
   {
    "duration": 49,
    "start_time": "2021-09-04T10:11:45.322Z"
   },
   {
    "duration": 57,
    "start_time": "2021-09-04T10:11:45.373Z"
   },
   {
    "duration": 703,
    "start_time": "2021-09-04T10:11:45.433Z"
   },
   {
    "duration": 776,
    "start_time": "2021-09-04T10:11:46.463Z"
   },
   {
    "duration": 886,
    "start_time": "2021-09-04T10:11:54.571Z"
   },
   {
    "duration": 766,
    "start_time": "2021-09-04T10:11:59.425Z"
   },
   {
    "duration": 640,
    "start_time": "2021-09-04T10:12:22.910Z"
   },
   {
    "duration": 779,
    "start_time": "2021-09-04T10:12:43.260Z"
   },
   {
    "duration": 871,
    "start_time": "2021-09-04T10:13:33.578Z"
   },
   {
    "duration": 115,
    "start_time": "2021-09-04T10:14:09.953Z"
   },
   {
    "duration": 105,
    "start_time": "2021-09-04T10:14:13.042Z"
   },
   {
    "duration": 103,
    "start_time": "2021-09-04T10:14:17.505Z"
   },
   {
    "duration": 728,
    "start_time": "2021-09-04T10:15:00.460Z"
   },
   {
    "duration": 1050,
    "start_time": "2021-09-04T10:15:25.684Z"
   },
   {
    "duration": 718,
    "start_time": "2021-09-04T10:16:01.094Z"
   },
   {
    "duration": 724,
    "start_time": "2021-09-04T10:16:33.702Z"
   },
   {
    "duration": 557,
    "start_time": "2021-09-04T10:18:19.151Z"
   },
   {
    "duration": 555,
    "start_time": "2021-09-04T10:18:27.636Z"
   },
   {
    "duration": 722,
    "start_time": "2021-09-04T10:22:38.996Z"
   },
   {
    "duration": 652,
    "start_time": "2021-09-04T10:22:44.444Z"
   },
   {
    "duration": 758,
    "start_time": "2021-09-04T10:25:07.367Z"
   },
   {
    "duration": 775,
    "start_time": "2021-09-04T10:25:27.509Z"
   },
   {
    "duration": 756,
    "start_time": "2021-09-04T10:26:45.282Z"
   },
   {
    "duration": 667,
    "start_time": "2021-09-04T10:27:56.203Z"
   },
   {
    "duration": 29,
    "start_time": "2021-09-04T10:28:39.890Z"
   },
   {
    "duration": 386,
    "start_time": "2021-09-04T10:28:44.655Z"
   },
   {
    "duration": 1840,
    "start_time": "2021-09-04T10:30:57.035Z"
   },
   {
    "duration": 401,
    "start_time": "2021-09-04T10:44:13.574Z"
   },
   {
    "duration": 1420,
    "start_time": "2021-09-04T10:44:20.216Z"
   },
   {
    "duration": 75,
    "start_time": "2021-09-04T10:44:21.638Z"
   },
   {
    "duration": 4134,
    "start_time": "2021-09-04T10:44:21.716Z"
   },
   {
    "duration": 25,
    "start_time": "2021-09-04T10:44:25.853Z"
   },
   {
    "duration": 9,
    "start_time": "2021-09-04T10:44:25.881Z"
   },
   {
    "duration": 14,
    "start_time": "2021-09-04T10:44:25.892Z"
   },
   {
    "duration": 15,
    "start_time": "2021-09-04T10:44:25.909Z"
   },
   {
    "duration": 43,
    "start_time": "2021-09-04T10:44:25.927Z"
   },
   {
    "duration": 8,
    "start_time": "2021-09-04T10:44:25.973Z"
   },
   {
    "duration": 253,
    "start_time": "2021-09-04T10:44:25.983Z"
   },
   {
    "duration": 191,
    "start_time": "2021-09-04T10:44:26.238Z"
   },
   {
    "duration": 108,
    "start_time": "2021-09-04T10:44:26.431Z"
   },
   {
    "duration": 21,
    "start_time": "2021-09-04T10:44:26.541Z"
   },
   {
    "duration": 11,
    "start_time": "2021-09-04T10:44:26.564Z"
   },
   {
    "duration": 36,
    "start_time": "2021-09-04T10:44:26.578Z"
   },
   {
    "duration": 77,
    "start_time": "2021-09-04T10:44:26.616Z"
   },
   {
    "duration": 772,
    "start_time": "2021-09-04T10:44:26.696Z"
   },
   {
    "duration": 742,
    "start_time": "2021-09-04T10:44:27.470Z"
   },
   {
    "duration": 542,
    "start_time": "2021-09-04T10:44:28.214Z"
   },
   {
    "duration": 638,
    "start_time": "2021-09-04T10:44:28.762Z"
   },
   {
    "duration": 26,
    "start_time": "2021-09-04T10:44:29.402Z"
   },
   {
    "duration": 400,
    "start_time": "2021-09-04T10:44:29.430Z"
   },
   {
    "duration": 1773,
    "start_time": "2021-09-04T10:44:29.834Z"
   },
   {
    "duration": 3057,
    "start_time": "2021-09-04T10:44:31.610Z"
   },
   {
    "duration": 392,
    "start_time": "2021-09-04T10:44:34.669Z"
   },
   {
    "duration": 578,
    "start_time": "2021-09-04T10:44:35.064Z"
   },
   {
    "duration": 5,
    "start_time": "2021-09-04T10:44:35.645Z"
   },
   {
    "duration": 867,
    "start_time": "2021-09-04T10:44:35.653Z"
   },
   {
    "duration": 888,
    "start_time": "2021-09-04T10:44:36.523Z"
   },
   {
    "duration": 7929,
    "start_time": "2021-09-04T10:44:37.414Z"
   },
   {
    "duration": 10,
    "start_time": "2021-09-04T10:44:45.336Z"
   },
   {
    "duration": 9,
    "start_time": "2021-09-04T10:44:45.338Z"
   },
   {
    "duration": 9,
    "start_time": "2021-09-04T10:44:45.340Z"
   },
   {
    "duration": 7,
    "start_time": "2021-09-04T10:44:47.543Z"
   },
   {
    "duration": 775,
    "start_time": "2021-09-04T10:45:06.571Z"
   },
   {
    "duration": 1502,
    "start_time": "2021-09-04T16:44:05.465Z"
   },
   {
    "duration": 75,
    "start_time": "2021-09-04T16:44:06.970Z"
   },
   {
    "duration": 4372,
    "start_time": "2021-09-04T16:44:07.051Z"
   },
   {
    "duration": 20,
    "start_time": "2021-09-04T16:44:11.425Z"
   },
   {
    "duration": 7,
    "start_time": "2021-09-04T16:44:11.462Z"
   },
   {
    "duration": 21,
    "start_time": "2021-09-04T16:44:11.472Z"
   },
   {
    "duration": 13,
    "start_time": "2021-09-04T16:44:11.497Z"
   },
   {
    "duration": 12,
    "start_time": "2021-09-04T16:44:11.513Z"
   },
   {
    "duration": 36,
    "start_time": "2021-09-04T16:44:11.528Z"
   },
   {
    "duration": 250,
    "start_time": "2021-09-04T16:44:11.566Z"
   },
   {
    "duration": 191,
    "start_time": "2021-09-04T16:44:11.819Z"
   },
   {
    "duration": 107,
    "start_time": "2021-09-04T16:44:12.013Z"
   },
   {
    "duration": 13,
    "start_time": "2021-09-04T16:44:12.124Z"
   },
   {
    "duration": 30,
    "start_time": "2021-09-04T16:44:12.140Z"
   },
   {
    "duration": 26,
    "start_time": "2021-09-04T16:44:12.173Z"
   },
   {
    "duration": 86,
    "start_time": "2021-09-04T16:44:12.202Z"
   },
   {
    "duration": 812,
    "start_time": "2021-09-04T16:44:12.292Z"
   },
   {
    "duration": 714,
    "start_time": "2021-09-04T16:44:13.106Z"
   },
   {
    "duration": 546,
    "start_time": "2021-09-04T16:44:13.823Z"
   },
   {
    "duration": 640,
    "start_time": "2021-09-04T16:44:14.371Z"
   },
   {
    "duration": 27,
    "start_time": "2021-09-04T16:44:15.014Z"
   },
   {
    "duration": 389,
    "start_time": "2021-09-04T16:44:15.062Z"
   },
   {
    "duration": 1757,
    "start_time": "2021-09-04T16:44:15.454Z"
   },
   {
    "duration": 3040,
    "start_time": "2021-09-04T16:44:17.214Z"
   },
   {
    "duration": 380,
    "start_time": "2021-09-04T16:44:20.261Z"
   },
   {
    "duration": 598,
    "start_time": "2021-09-04T16:44:20.643Z"
   },
   {
    "duration": 6,
    "start_time": "2021-09-04T16:44:21.243Z"
   },
   {
    "duration": 857,
    "start_time": "2021-09-04T16:44:21.252Z"
   },
   {
    "duration": 858,
    "start_time": "2021-09-04T16:44:22.112Z"
   },
   {
    "duration": 813,
    "start_time": "2021-09-04T16:44:22.973Z"
   },
   {
    "duration": 10,
    "start_time": "2021-09-04T16:44:23.788Z"
   },
   {
    "duration": 17,
    "start_time": "2021-09-04T16:44:23.800Z"
   },
   {
    "duration": 7,
    "start_time": "2021-09-04T16:45:16.599Z"
   },
   {
    "duration": 9,
    "start_time": "2021-09-04T16:45:53.607Z"
   },
   {
    "duration": 655,
    "start_time": "2021-09-04T17:00:02.570Z"
   },
   {
    "duration": 402,
    "start_time": "2021-09-04T17:02:00.178Z"
   },
   {
    "duration": 1743,
    "start_time": "2021-09-04T17:03:24.989Z"
   },
   {
    "duration": 1511,
    "start_time": "2021-09-04T17:04:03.815Z"
   },
   {
    "duration": 73,
    "start_time": "2021-09-04T17:04:05.328Z"
   },
   {
    "duration": 4491,
    "start_time": "2021-09-04T17:04:05.404Z"
   },
   {
    "duration": 21,
    "start_time": "2021-09-04T17:04:09.899Z"
   },
   {
    "duration": 12,
    "start_time": "2021-09-04T17:04:09.923Z"
   },
   {
    "duration": 35,
    "start_time": "2021-09-04T17:04:09.937Z"
   },
   {
    "duration": 20,
    "start_time": "2021-09-04T17:04:09.975Z"
   },
   {
    "duration": 13,
    "start_time": "2021-09-04T17:04:09.998Z"
   },
   {
    "duration": 15,
    "start_time": "2021-09-04T17:04:10.017Z"
   },
   {
    "duration": 263,
    "start_time": "2021-09-04T17:04:10.036Z"
   },
   {
    "duration": 185,
    "start_time": "2021-09-04T17:04:10.301Z"
   },
   {
    "duration": 110,
    "start_time": "2021-09-04T17:04:10.488Z"
   },
   {
    "duration": 12,
    "start_time": "2021-09-04T17:04:10.600Z"
   },
   {
    "duration": 11,
    "start_time": "2021-09-04T17:04:10.615Z"
   },
   {
    "duration": 50,
    "start_time": "2021-09-04T17:04:10.628Z"
   },
   {
    "duration": 59,
    "start_time": "2021-09-04T17:04:10.680Z"
   },
   {
    "duration": 782,
    "start_time": "2021-09-04T17:04:10.742Z"
   },
   {
    "duration": 738,
    "start_time": "2021-09-04T17:04:11.527Z"
   },
   {
    "duration": 629,
    "start_time": "2021-09-04T17:04:12.268Z"
   },
   {
    "duration": 675,
    "start_time": "2021-09-04T17:04:12.900Z"
   },
   {
    "duration": 30,
    "start_time": "2021-09-04T17:04:13.578Z"
   },
   {
    "duration": 424,
    "start_time": "2021-09-04T17:04:13.611Z"
   },
   {
    "duration": 1779,
    "start_time": "2021-09-04T17:04:14.038Z"
   },
   {
    "duration": 3035,
    "start_time": "2021-09-04T17:04:15.820Z"
   },
   {
    "duration": 405,
    "start_time": "2021-09-04T17:04:18.857Z"
   },
   {
    "duration": 579,
    "start_time": "2021-09-04T17:04:19.265Z"
   },
   {
    "duration": 13,
    "start_time": "2021-09-04T17:04:19.849Z"
   },
   {
    "duration": 862,
    "start_time": "2021-09-04T17:04:19.864Z"
   },
   {
    "duration": 876,
    "start_time": "2021-09-04T17:04:20.728Z"
   },
   {
    "duration": 802,
    "start_time": "2021-09-04T17:04:21.606Z"
   },
   {
    "duration": 10,
    "start_time": "2021-09-04T17:04:22.410Z"
   },
   {
    "duration": 12,
    "start_time": "2021-09-04T17:04:22.422Z"
   },
   {
    "duration": 13,
    "start_time": "2021-09-04T17:05:31.478Z"
   },
   {
    "duration": 11,
    "start_time": "2021-09-04T17:05:36.444Z"
   },
   {
    "duration": 379,
    "start_time": "2021-09-04T17:06:34.499Z"
   },
   {
    "duration": 472,
    "start_time": "2021-09-04T17:07:24.394Z"
   },
   {
    "duration": 487,
    "start_time": "2021-09-04T17:08:46.605Z"
   },
   {
    "duration": 588,
    "start_time": "2021-09-04T17:09:40.300Z"
   },
   {
    "duration": 485,
    "start_time": "2021-09-04T17:09:52.650Z"
   },
   {
    "duration": 528,
    "start_time": "2021-09-04T17:10:40.863Z"
   },
   {
    "duration": 115,
    "start_time": "2021-09-04T17:20:11.906Z"
   },
   {
    "duration": 6,
    "start_time": "2021-09-04T17:20:18.744Z"
   },
   {
    "duration": 1131,
    "start_time": "2021-09-04T17:20:21.535Z"
   },
   {
    "duration": 1080,
    "start_time": "2021-09-04T17:20:27.986Z"
   },
   {
    "duration": 861,
    "start_time": "2021-09-04T17:20:34.100Z"
   },
   {
    "duration": 6,
    "start_time": "2021-09-04T17:23:17.488Z"
   },
   {
    "duration": 6,
    "start_time": "2021-09-04T17:23:37.999Z"
   },
   {
    "duration": 1419,
    "start_time": "2021-09-04T17:25:05.809Z"
   },
   {
    "duration": 77,
    "start_time": "2021-09-04T17:25:07.231Z"
   },
   {
    "duration": 4340,
    "start_time": "2021-09-04T17:25:07.311Z"
   },
   {
    "duration": 25,
    "start_time": "2021-09-04T17:25:11.653Z"
   },
   {
    "duration": 11,
    "start_time": "2021-09-04T17:25:11.681Z"
   },
   {
    "duration": 13,
    "start_time": "2021-09-04T17:25:11.695Z"
   },
   {
    "duration": 21,
    "start_time": "2021-09-04T17:25:11.711Z"
   },
   {
    "duration": 36,
    "start_time": "2021-09-04T17:25:11.734Z"
   },
   {
    "duration": 8,
    "start_time": "2021-09-04T17:25:11.774Z"
   },
   {
    "duration": 257,
    "start_time": "2021-09-04T17:25:11.785Z"
   },
   {
    "duration": 184,
    "start_time": "2021-09-04T17:25:12.045Z"
   },
   {
    "duration": 3,
    "start_time": "2021-09-04T17:25:12.231Z"
   },
   {
    "duration": 26,
    "start_time": "2021-09-04T17:25:12.237Z"
   },
   {
    "duration": 12,
    "start_time": "2021-09-04T17:25:12.266Z"
   },
   {
    "duration": 24,
    "start_time": "2021-09-04T17:25:12.280Z"
   },
   {
    "duration": 83,
    "start_time": "2021-09-04T17:25:12.306Z"
   },
   {
    "duration": 743,
    "start_time": "2021-09-04T17:25:12.391Z"
   },
   {
    "duration": 708,
    "start_time": "2021-09-04T17:25:13.137Z"
   },
   {
    "duration": 550,
    "start_time": "2021-09-04T17:25:13.848Z"
   },
   {
    "duration": 663,
    "start_time": "2021-09-04T17:25:14.400Z"
   },
   {
    "duration": 26,
    "start_time": "2021-09-04T17:25:15.065Z"
   },
   {
    "duration": 417,
    "start_time": "2021-09-04T17:25:15.093Z"
   },
   {
    "duration": 1798,
    "start_time": "2021-09-04T17:25:15.512Z"
   },
   {
    "duration": 3068,
    "start_time": "2021-09-04T17:25:17.312Z"
   },
   {
    "duration": 507,
    "start_time": "2021-09-04T17:25:20.383Z"
   },
   {
    "duration": 589,
    "start_time": "2021-09-04T17:25:20.892Z"
   },
   {
    "duration": 518,
    "start_time": "2021-09-04T17:25:21.486Z"
   },
   {
    "duration": 7,
    "start_time": "2021-09-04T17:25:22.006Z"
   },
   {
    "duration": 857,
    "start_time": "2021-09-04T17:25:22.015Z"
   },
   {
    "duration": 880,
    "start_time": "2021-09-04T17:25:22.875Z"
   },
   {
    "duration": 8,
    "start_time": "2021-09-04T17:25:23.757Z"
   },
   {
    "duration": 808,
    "start_time": "2021-09-04T17:25:23.767Z"
   },
   {
    "duration": 9,
    "start_time": "2021-09-04T17:25:24.578Z"
   },
   {
    "duration": 15,
    "start_time": "2021-09-04T17:25:24.590Z"
   },
   {
    "duration": 7,
    "start_time": "2021-09-04T17:25:32.657Z"
   },
   {
    "duration": 810,
    "start_time": "2021-09-04T17:25:33.475Z"
   },
   {
    "duration": 24771,
    "start_time": "2021-09-04T17:30:46.845Z"
   },
   {
    "duration": 731,
    "start_time": "2021-09-04T17:31:17.890Z"
   },
   {
    "duration": 741,
    "start_time": "2021-09-04T17:32:30.588Z"
   },
   {
    "duration": 863,
    "start_time": "2021-09-04T17:32:42.242Z"
   },
   {
    "duration": 722,
    "start_time": "2021-09-04T17:32:57.596Z"
   },
   {
    "duration": 6,
    "start_time": "2021-09-04T17:33:50.468Z"
   },
   {
    "duration": 1437,
    "start_time": "2021-09-04T17:33:57.208Z"
   },
   {
    "duration": 75,
    "start_time": "2021-09-04T17:33:58.648Z"
   },
   {
    "duration": 4343,
    "start_time": "2021-09-04T17:33:58.727Z"
   },
   {
    "duration": 21,
    "start_time": "2021-09-04T17:34:03.073Z"
   },
   {
    "duration": 23,
    "start_time": "2021-09-04T17:34:03.097Z"
   },
   {
    "duration": 38,
    "start_time": "2021-09-04T17:34:03.122Z"
   },
   {
    "duration": 42,
    "start_time": "2021-09-04T17:34:03.162Z"
   },
   {
    "duration": 13,
    "start_time": "2021-09-04T17:34:03.208Z"
   },
   {
    "duration": 10,
    "start_time": "2021-09-04T17:34:03.224Z"
   },
   {
    "duration": 236,
    "start_time": "2021-09-04T17:34:03.236Z"
   },
   {
    "duration": 3,
    "start_time": "2021-09-04T17:34:03.474Z"
   },
   {
    "duration": 122,
    "start_time": "2021-09-04T17:34:03.480Z"
   },
   {
    "duration": 11,
    "start_time": "2021-09-04T17:34:03.604Z"
   },
   {
    "duration": 34,
    "start_time": "2021-09-04T17:34:03.617Z"
   },
   {
    "duration": 27,
    "start_time": "2021-09-04T17:34:03.654Z"
   },
   {
    "duration": 59,
    "start_time": "2021-09-04T17:34:03.683Z"
   },
   {
    "duration": 800,
    "start_time": "2021-09-04T17:34:03.744Z"
   },
   {
    "duration": 731,
    "start_time": "2021-09-04T17:34:04.547Z"
   },
   {
    "duration": 582,
    "start_time": "2021-09-04T17:34:05.280Z"
   },
   {
    "duration": 745,
    "start_time": "2021-09-04T17:34:05.865Z"
   },
   {
    "duration": 26,
    "start_time": "2021-09-04T17:34:06.612Z"
   },
   {
    "duration": 417,
    "start_time": "2021-09-04T17:34:06.640Z"
   },
   {
    "duration": 1979,
    "start_time": "2021-09-04T17:34:07.065Z"
   },
   {
    "duration": 3035,
    "start_time": "2021-09-04T17:34:09.047Z"
   },
   {
    "duration": 427,
    "start_time": "2021-09-04T17:34:12.085Z"
   },
   {
    "duration": 642,
    "start_time": "2021-09-04T17:34:12.514Z"
   },
   {
    "duration": 530,
    "start_time": "2021-09-04T17:34:13.162Z"
   },
   {
    "duration": 6,
    "start_time": "2021-09-04T17:34:13.694Z"
   },
   {
    "duration": 896,
    "start_time": "2021-09-04T17:34:13.703Z"
   },
   {
    "duration": 983,
    "start_time": "2021-09-04T17:34:14.602Z"
   },
   {
    "duration": 7,
    "start_time": "2021-09-04T17:34:15.589Z"
   },
   {
    "duration": 858,
    "start_time": "2021-09-04T17:34:15.599Z"
   },
   {
    "duration": 9,
    "start_time": "2021-09-04T17:34:16.463Z"
   },
   {
    "duration": 15,
    "start_time": "2021-09-04T17:34:16.474Z"
   },
   {
    "duration": 1466,
    "start_time": "2021-09-04T17:39:52.042Z"
   },
   {
    "duration": 83,
    "start_time": "2021-09-04T17:39:53.511Z"
   },
   {
    "duration": 4224,
    "start_time": "2021-09-04T17:39:53.597Z"
   },
   {
    "duration": 19,
    "start_time": "2021-09-04T17:39:57.824Z"
   },
   {
    "duration": 22,
    "start_time": "2021-09-04T17:39:57.845Z"
   },
   {
    "duration": 12,
    "start_time": "2021-09-04T17:39:57.869Z"
   },
   {
    "duration": 19,
    "start_time": "2021-09-04T17:39:57.884Z"
   },
   {
    "duration": 12,
    "start_time": "2021-09-04T17:39:57.906Z"
   },
   {
    "duration": 8,
    "start_time": "2021-09-04T17:39:57.921Z"
   },
   {
    "duration": 232,
    "start_time": "2021-09-04T17:39:57.963Z"
   },
   {
    "duration": 3,
    "start_time": "2021-09-04T17:39:58.198Z"
   },
   {
    "duration": 118,
    "start_time": "2021-09-04T17:39:58.203Z"
   },
   {
    "duration": 10,
    "start_time": "2021-09-04T17:39:58.323Z"
   },
   {
    "duration": 27,
    "start_time": "2021-09-04T17:39:58.335Z"
   },
   {
    "duration": 26,
    "start_time": "2021-09-04T17:39:58.364Z"
   },
   {
    "duration": 72,
    "start_time": "2021-09-04T17:39:58.392Z"
   },
   {
    "duration": 772,
    "start_time": "2021-09-04T17:39:58.467Z"
   },
   {
    "duration": 727,
    "start_time": "2021-09-04T17:39:59.241Z"
   },
   {
    "duration": 584,
    "start_time": "2021-09-04T17:39:59.970Z"
   },
   {
    "duration": 686,
    "start_time": "2021-09-04T17:40:00.557Z"
   },
   {
    "duration": 43,
    "start_time": "2021-09-04T17:40:01.245Z"
   },
   {
    "duration": 417,
    "start_time": "2021-09-04T17:40:01.290Z"
   },
   {
    "duration": 1839,
    "start_time": "2021-09-04T17:40:01.712Z"
   },
   {
    "duration": 3338,
    "start_time": "2021-09-04T17:40:03.561Z"
   },
   {
    "duration": 392,
    "start_time": "2021-09-04T17:40:06.901Z"
   },
   {
    "duration": 619,
    "start_time": "2021-09-04T17:40:07.296Z"
   },
   {
    "duration": 734,
    "start_time": "2021-09-04T17:40:07.919Z"
   },
   {
    "duration": 10,
    "start_time": "2021-09-04T17:40:08.656Z"
   },
   {
    "duration": 834,
    "start_time": "2021-09-04T17:40:08.668Z"
   },
   {
    "duration": 895,
    "start_time": "2021-09-04T17:40:09.505Z"
   },
   {
    "duration": 7,
    "start_time": "2021-09-04T17:40:10.403Z"
   },
   {
    "duration": 831,
    "start_time": "2021-09-04T17:40:10.413Z"
   },
   {
    "duration": 16,
    "start_time": "2021-09-04T17:40:11.246Z"
   },
   {
    "duration": 17,
    "start_time": "2021-09-04T17:40:11.264Z"
   },
   {
    "duration": 8,
    "start_time": "2021-09-04T17:40:35.494Z"
   },
   {
    "duration": 9,
    "start_time": "2021-09-04T17:40:40.132Z"
   },
   {
    "duration": 8,
    "start_time": "2021-09-04T17:40:52.063Z"
   },
   {
    "duration": 8,
    "start_time": "2021-09-04T17:41:00.022Z"
   },
   {
    "duration": 10,
    "start_time": "2021-09-04T17:41:05.599Z"
   },
   {
    "duration": 10,
    "start_time": "2021-09-04T17:41:10.742Z"
   },
   {
    "duration": 9,
    "start_time": "2021-09-04T17:41:18.167Z"
   },
   {
    "duration": 8,
    "start_time": "2021-09-04T17:41:23.034Z"
   },
   {
    "duration": 7,
    "start_time": "2021-09-04T17:41:26.480Z"
   },
   {
    "duration": 7,
    "start_time": "2021-09-04T17:42:08.318Z"
   },
   {
    "duration": 32,
    "start_time": "2021-09-04T17:42:20.022Z"
   },
   {
    "duration": 9,
    "start_time": "2021-09-04T17:43:07.445Z"
   },
   {
    "duration": 1472,
    "start_time": "2021-09-04T17:45:42.665Z"
   },
   {
    "duration": 75,
    "start_time": "2021-09-04T17:45:44.140Z"
   },
   {
    "duration": 4428,
    "start_time": "2021-09-04T17:45:44.218Z"
   },
   {
    "duration": 30,
    "start_time": "2021-09-04T17:45:48.650Z"
   },
   {
    "duration": 9,
    "start_time": "2021-09-04T17:45:48.683Z"
   },
   {
    "duration": 13,
    "start_time": "2021-09-04T17:45:48.695Z"
   },
   {
    "duration": 16,
    "start_time": "2021-09-04T17:45:48.711Z"
   },
   {
    "duration": 37,
    "start_time": "2021-09-04T17:45:48.730Z"
   },
   {
    "duration": 7,
    "start_time": "2021-09-04T17:45:48.770Z"
   },
   {
    "duration": 240,
    "start_time": "2021-09-04T17:45:48.779Z"
   },
   {
    "duration": 3,
    "start_time": "2021-09-04T17:45:49.021Z"
   },
   {
    "duration": 11,
    "start_time": "2021-09-04T17:45:49.026Z"
   },
   {
    "duration": 30,
    "start_time": "2021-09-04T17:45:49.039Z"
   },
   {
    "duration": 12,
    "start_time": "2021-09-04T17:45:49.071Z"
   },
   {
    "duration": 26,
    "start_time": "2021-09-04T17:45:49.085Z"
   },
   {
    "duration": 86,
    "start_time": "2021-09-04T17:45:49.113Z"
   },
   {
    "duration": 745,
    "start_time": "2021-09-04T17:45:49.201Z"
   },
   {
    "duration": 720,
    "start_time": "2021-09-04T17:45:49.948Z"
   },
   {
    "duration": 545,
    "start_time": "2021-09-04T17:45:50.670Z"
   },
   {
    "duration": 671,
    "start_time": "2021-09-04T17:45:51.217Z"
   },
   {
    "duration": 30,
    "start_time": "2021-09-04T17:45:51.891Z"
   },
   {
    "duration": 434,
    "start_time": "2021-09-04T17:45:51.923Z"
   },
   {
    "duration": 1737,
    "start_time": "2021-09-04T17:45:52.364Z"
   },
   {
    "duration": 3049,
    "start_time": "2021-09-04T17:45:54.104Z"
   },
   {
    "duration": 407,
    "start_time": "2021-09-04T17:45:57.161Z"
   },
   {
    "duration": 605,
    "start_time": "2021-09-04T17:45:57.570Z"
   },
   {
    "duration": 502,
    "start_time": "2021-09-04T17:45:58.177Z"
   },
   {
    "duration": 6,
    "start_time": "2021-09-04T17:45:58.681Z"
   },
   {
    "duration": 826,
    "start_time": "2021-09-04T17:45:58.690Z"
   },
   {
    "duration": 868,
    "start_time": "2021-09-04T17:45:59.518Z"
   },
   {
    "duration": 8,
    "start_time": "2021-09-04T17:46:00.389Z"
   },
   {
    "duration": 35,
    "start_time": "2021-09-04T17:46:00.400Z"
   },
   {
    "duration": 788,
    "start_time": "2021-09-04T17:46:00.437Z"
   },
   {
    "duration": 9,
    "start_time": "2021-09-04T17:46:01.228Z"
   },
   {
    "duration": 35,
    "start_time": "2021-09-04T17:46:01.240Z"
   },
   {
    "duration": 7,
    "start_time": "2021-09-04T17:48:40.908Z"
   },
   {
    "duration": 474,
    "start_time": "2021-09-04T17:48:51.217Z"
   },
   {
    "duration": 1399,
    "start_time": "2021-09-04T17:49:30.714Z"
   },
   {
    "duration": 81,
    "start_time": "2021-09-04T17:49:32.116Z"
   },
   {
    "duration": 4244,
    "start_time": "2021-09-04T17:49:32.206Z"
   },
   {
    "duration": 26,
    "start_time": "2021-09-04T17:49:36.453Z"
   },
   {
    "duration": 25,
    "start_time": "2021-09-04T17:49:36.482Z"
   },
   {
    "duration": 15,
    "start_time": "2021-09-04T17:49:36.510Z"
   },
   {
    "duration": 13,
    "start_time": "2021-09-04T17:49:36.527Z"
   },
   {
    "duration": 29,
    "start_time": "2021-09-04T17:49:36.543Z"
   },
   {
    "duration": 7,
    "start_time": "2021-09-04T17:49:36.575Z"
   },
   {
    "duration": 249,
    "start_time": "2021-09-04T17:49:36.584Z"
   },
   {
    "duration": 3,
    "start_time": "2021-09-04T17:49:36.835Z"
   },
   {
    "duration": 9,
    "start_time": "2021-09-04T17:49:36.840Z"
   },
   {
    "duration": 525,
    "start_time": "2021-09-04T17:49:36.863Z"
   },
   {
    "duration": 256,
    "start_time": "2021-09-04T17:49:37.135Z"
   },
   {
    "duration": 254,
    "start_time": "2021-09-04T17:49:37.138Z"
   },
   {
    "duration": 254,
    "start_time": "2021-09-04T17:49:37.140Z"
   },
   {
    "duration": 253,
    "start_time": "2021-09-04T17:49:37.142Z"
   },
   {
    "duration": 253,
    "start_time": "2021-09-04T17:49:37.144Z"
   },
   {
    "duration": 253,
    "start_time": "2021-09-04T17:49:37.145Z"
   },
   {
    "duration": 252,
    "start_time": "2021-09-04T17:49:37.147Z"
   },
   {
    "duration": 251,
    "start_time": "2021-09-04T17:49:37.149Z"
   },
   {
    "duration": 247,
    "start_time": "2021-09-04T17:49:37.155Z"
   },
   {
    "duration": 246,
    "start_time": "2021-09-04T17:49:37.157Z"
   },
   {
    "duration": 245,
    "start_time": "2021-09-04T17:49:37.159Z"
   },
   {
    "duration": 245,
    "start_time": "2021-09-04T17:49:37.161Z"
   },
   {
    "duration": 243,
    "start_time": "2021-09-04T17:49:37.164Z"
   },
   {
    "duration": 243,
    "start_time": "2021-09-04T17:49:37.165Z"
   },
   {
    "duration": 243,
    "start_time": "2021-09-04T17:49:37.167Z"
   },
   {
    "duration": 242,
    "start_time": "2021-09-04T17:49:37.169Z"
   },
   {
    "duration": 241,
    "start_time": "2021-09-04T17:49:37.171Z"
   },
   {
    "duration": 242,
    "start_time": "2021-09-04T17:49:37.172Z"
   },
   {
    "duration": 241,
    "start_time": "2021-09-04T17:49:37.174Z"
   },
   {
    "duration": 236,
    "start_time": "2021-09-04T17:49:37.180Z"
   },
   {
    "duration": 236,
    "start_time": "2021-09-04T17:49:37.182Z"
   },
   {
    "duration": 228,
    "start_time": "2021-09-04T17:49:37.191Z"
   },
   {
    "duration": 6,
    "start_time": "2021-09-04T17:50:17.167Z"
   },
   {
    "duration": 79,
    "start_time": "2021-09-04T17:50:17.176Z"
   },
   {
    "duration": 4207,
    "start_time": "2021-09-04T17:50:17.262Z"
   },
   {
    "duration": 20,
    "start_time": "2021-09-04T17:50:21.472Z"
   },
   {
    "duration": 10,
    "start_time": "2021-09-04T17:50:21.495Z"
   },
   {
    "duration": 18,
    "start_time": "2021-09-04T17:50:21.507Z"
   },
   {
    "duration": 39,
    "start_time": "2021-09-04T17:50:21.527Z"
   },
   {
    "duration": 14,
    "start_time": "2021-09-04T17:50:21.569Z"
   },
   {
    "duration": 7,
    "start_time": "2021-09-04T17:50:21.587Z"
   },
   {
    "duration": 265,
    "start_time": "2021-09-04T17:50:21.597Z"
   },
   {
    "duration": 3,
    "start_time": "2021-09-04T17:50:21.864Z"
   },
   {
    "duration": 23,
    "start_time": "2021-09-04T17:50:21.869Z"
   },
   {
    "duration": 1553,
    "start_time": "2021-09-04T17:51:26.428Z"
   },
   {
    "duration": 81,
    "start_time": "2021-09-04T17:51:27.984Z"
   },
   {
    "duration": 4357,
    "start_time": "2021-09-04T17:51:28.068Z"
   },
   {
    "duration": 20,
    "start_time": "2021-09-04T17:51:32.428Z"
   },
   {
    "duration": 6,
    "start_time": "2021-09-04T17:51:32.463Z"
   },
   {
    "duration": 17,
    "start_time": "2021-09-04T17:51:32.471Z"
   },
   {
    "duration": 20,
    "start_time": "2021-09-04T17:51:32.490Z"
   },
   {
    "duration": 11,
    "start_time": "2021-09-04T17:51:32.513Z"
   },
   {
    "duration": 7,
    "start_time": "2021-09-04T17:51:32.561Z"
   },
   {
    "duration": 267,
    "start_time": "2021-09-04T17:51:32.572Z"
   },
   {
    "duration": 3,
    "start_time": "2021-09-04T17:51:32.841Z"
   },
   {
    "duration": 17,
    "start_time": "2021-09-04T17:51:32.847Z"
   },
   {
    "duration": 18,
    "start_time": "2021-09-04T17:51:32.866Z"
   },
   {
    "duration": 10,
    "start_time": "2021-09-04T17:51:32.886Z"
   },
   {
    "duration": 24,
    "start_time": "2021-09-04T17:51:32.899Z"
   },
   {
    "duration": 88,
    "start_time": "2021-09-04T17:51:32.926Z"
   },
   {
    "duration": 754,
    "start_time": "2021-09-04T17:51:33.017Z"
   },
   {
    "duration": 712,
    "start_time": "2021-09-04T17:51:33.773Z"
   },
   {
    "duration": 546,
    "start_time": "2021-09-04T17:51:34.488Z"
   },
   {
    "duration": 667,
    "start_time": "2021-09-04T17:51:35.036Z"
   },
   {
    "duration": 26,
    "start_time": "2021-09-04T17:51:35.706Z"
   },
   {
    "duration": 423,
    "start_time": "2021-09-04T17:51:35.734Z"
   },
   {
    "duration": 1749,
    "start_time": "2021-09-04T17:51:36.162Z"
   },
   {
    "duration": 3025,
    "start_time": "2021-09-04T17:51:37.914Z"
   },
   {
    "duration": 418,
    "start_time": "2021-09-04T17:51:40.941Z"
   },
   {
    "duration": 608,
    "start_time": "2021-09-04T17:51:41.363Z"
   },
   {
    "duration": 535,
    "start_time": "2021-09-04T17:51:41.976Z"
   },
   {
    "duration": 6,
    "start_time": "2021-09-04T17:51:42.514Z"
   },
   {
    "duration": 885,
    "start_time": "2021-09-04T17:51:42.524Z"
   },
   {
    "duration": 883,
    "start_time": "2021-09-04T17:51:43.412Z"
   },
   {
    "duration": 9,
    "start_time": "2021-09-04T17:51:44.297Z"
   },
   {
    "duration": 8,
    "start_time": "2021-09-04T17:51:44.309Z"
   },
   {
    "duration": 883,
    "start_time": "2021-09-04T17:51:44.320Z"
   },
   {
    "duration": 10,
    "start_time": "2021-09-04T17:51:45.205Z"
   },
   {
    "duration": 26,
    "start_time": "2021-09-04T17:51:45.218Z"
   },
   {
    "duration": 9,
    "start_time": "2021-09-04T18:12:14.270Z"
   },
   {
    "duration": 474,
    "start_time": "2021-09-04T18:14:12.331Z"
   },
   {
    "duration": 10,
    "start_time": "2021-09-04T18:14:15.896Z"
   },
   {
    "duration": 1476,
    "start_time": "2021-09-04T18:29:15.137Z"
   },
   {
    "duration": 72,
    "start_time": "2021-09-04T18:29:16.615Z"
   },
   {
    "duration": 4160,
    "start_time": "2021-09-04T18:29:16.690Z"
   },
   {
    "duration": 24,
    "start_time": "2021-09-04T18:29:20.853Z"
   },
   {
    "duration": 11,
    "start_time": "2021-09-04T18:29:20.879Z"
   },
   {
    "duration": 13,
    "start_time": "2021-09-04T18:29:20.892Z"
   },
   {
    "duration": 14,
    "start_time": "2021-09-04T18:29:20.907Z"
   },
   {
    "duration": 44,
    "start_time": "2021-09-04T18:29:20.924Z"
   },
   {
    "duration": 10,
    "start_time": "2021-09-04T18:29:20.973Z"
   },
   {
    "duration": 251,
    "start_time": "2021-09-04T18:29:20.987Z"
   },
   {
    "duration": 3,
    "start_time": "2021-09-04T18:29:21.240Z"
   },
   {
    "duration": 16,
    "start_time": "2021-09-04T18:29:21.246Z"
   },
   {
    "duration": 21,
    "start_time": "2021-09-04T18:29:21.264Z"
   },
   {
    "duration": 10,
    "start_time": "2021-09-04T18:29:21.288Z"
   },
   {
    "duration": 26,
    "start_time": "2021-09-04T18:29:21.300Z"
   },
   {
    "duration": 83,
    "start_time": "2021-09-04T18:29:21.329Z"
   },
   {
    "duration": 734,
    "start_time": "2021-09-04T18:29:21.415Z"
   },
   {
    "duration": 729,
    "start_time": "2021-09-04T18:29:22.152Z"
   },
   {
    "duration": 559,
    "start_time": "2021-09-04T18:29:22.884Z"
   },
   {
    "duration": 679,
    "start_time": "2021-09-04T18:29:23.446Z"
   },
   {
    "duration": 39,
    "start_time": "2021-09-04T18:29:24.127Z"
   },
   {
    "duration": 439,
    "start_time": "2021-09-04T18:29:24.168Z"
   },
   {
    "duration": 1795,
    "start_time": "2021-09-04T18:29:24.609Z"
   },
   {
    "duration": 3060,
    "start_time": "2021-09-04T18:29:26.407Z"
   },
   {
    "duration": 505,
    "start_time": "2021-09-04T18:29:29.470Z"
   },
   {
    "duration": 615,
    "start_time": "2021-09-04T18:29:29.978Z"
   },
   {
    "duration": 525,
    "start_time": "2021-09-04T18:29:30.598Z"
   },
   {
    "duration": 6,
    "start_time": "2021-09-04T18:29:31.126Z"
   },
   {
    "duration": 870,
    "start_time": "2021-09-04T18:29:31.134Z"
   },
   {
    "duration": 907,
    "start_time": "2021-09-04T18:29:32.006Z"
   },
   {
    "duration": 852,
    "start_time": "2021-09-04T18:29:32.916Z"
   },
   {
    "duration": 9,
    "start_time": "2021-09-04T18:29:33.771Z"
   },
   {
    "duration": 24,
    "start_time": "2021-09-04T18:29:33.782Z"
   },
   {
    "duration": 276,
    "start_time": "2021-09-04T18:38:02.501Z"
   },
   {
    "duration": 6,
    "start_time": "2021-09-04T18:38:06.048Z"
   },
   {
    "duration": 36,
    "start_time": "2021-09-04T18:38:19.020Z"
   },
   {
    "duration": 11,
    "start_time": "2021-09-04T18:38:47.261Z"
   },
   {
    "duration": 14,
    "start_time": "2021-09-04T18:38:50.766Z"
   },
   {
    "duration": 1501,
    "start_time": "2021-09-04T18:39:14.422Z"
   },
   {
    "duration": 75,
    "start_time": "2021-09-04T18:39:15.926Z"
   },
   {
    "duration": 4274,
    "start_time": "2021-09-04T18:39:16.004Z"
   },
   {
    "duration": 21,
    "start_time": "2021-09-04T18:39:20.281Z"
   },
   {
    "duration": 9,
    "start_time": "2021-09-04T18:39:20.304Z"
   },
   {
    "duration": 15,
    "start_time": "2021-09-04T18:39:20.315Z"
   },
   {
    "duration": 40,
    "start_time": "2021-09-04T18:39:20.332Z"
   },
   {
    "duration": 12,
    "start_time": "2021-09-04T18:39:20.375Z"
   },
   {
    "duration": 8,
    "start_time": "2021-09-04T18:39:20.390Z"
   },
   {
    "duration": 254,
    "start_time": "2021-09-04T18:39:20.400Z"
   },
   {
    "duration": 5,
    "start_time": "2021-09-04T18:39:20.657Z"
   },
   {
    "duration": 14,
    "start_time": "2021-09-04T18:39:20.665Z"
   },
   {
    "duration": 22,
    "start_time": "2021-09-04T18:39:20.682Z"
   },
   {
    "duration": 18,
    "start_time": "2021-09-04T18:39:20.706Z"
   },
   {
    "duration": 35,
    "start_time": "2021-09-04T18:39:20.727Z"
   },
   {
    "duration": 62,
    "start_time": "2021-09-04T18:39:20.764Z"
   },
   {
    "duration": 760,
    "start_time": "2021-09-04T18:39:20.828Z"
   },
   {
    "duration": 725,
    "start_time": "2021-09-04T18:39:21.591Z"
   },
   {
    "duration": 556,
    "start_time": "2021-09-04T18:39:22.319Z"
   },
   {
    "duration": 686,
    "start_time": "2021-09-04T18:39:22.878Z"
   },
   {
    "duration": 26,
    "start_time": "2021-09-04T18:39:23.566Z"
   },
   {
    "duration": 440,
    "start_time": "2021-09-04T18:39:23.595Z"
   },
   {
    "duration": 1776,
    "start_time": "2021-09-04T18:39:24.039Z"
   },
   {
    "duration": 3193,
    "start_time": "2021-09-04T18:39:25.818Z"
   },
   {
    "duration": 409,
    "start_time": "2021-09-04T18:39:29.014Z"
   },
   {
    "duration": 623,
    "start_time": "2021-09-04T18:39:29.425Z"
   },
   {
    "duration": 519,
    "start_time": "2021-09-04T18:39:30.050Z"
   },
   {
    "duration": 6,
    "start_time": "2021-09-04T18:39:30.572Z"
   },
   {
    "duration": 974,
    "start_time": "2021-09-04T18:39:30.581Z"
   },
   {
    "duration": 1013,
    "start_time": "2021-09-04T18:39:31.561Z"
   },
   {
    "duration": 854,
    "start_time": "2021-09-04T18:39:32.576Z"
   },
   {
    "duration": 6,
    "start_time": "2021-09-04T18:39:33.433Z"
   },
   {
    "duration": 29,
    "start_time": "2021-09-04T18:39:33.441Z"
   },
   {
    "duration": 16,
    "start_time": "2021-09-04T18:39:33.472Z"
   }
  ],
  "kernelspec": {
   "display_name": "Python 3 (ipykernel)",
   "language": "python",
   "name": "python3"
  },
  "language_info": {
   "codemirror_mode": {
    "name": "ipython",
    "version": 3
   },
   "file_extension": ".py",
   "mimetype": "text/x-python",
   "name": "python",
   "nbconvert_exporter": "python",
   "pygments_lexer": "ipython3",
   "version": "3.7.6"
  },
  "toc": {
   "base_numbering": 1,
   "nav_menu": {},
   "number_sections": true,
   "sideBar": true,
   "skip_h1_title": true,
   "title_cell": "Table of Contents",
   "title_sidebar": "Contents",
   "toc_cell": false,
   "toc_position": {
    "height": "calc(100% - 180px)",
    "left": "10px",
    "top": "150px",
    "width": "165px"
   },
   "toc_section_display": true,
   "toc_window_display": false
  }
 },
 "nbformat": 4,
 "nbformat_minor": 2
}
