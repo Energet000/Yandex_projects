{
 "cells": [
  {
   "cell_type": "markdown",
   "metadata": {},
   "source": [
    "# Выбор локации для скважины"
   ]
  },
  {
   "cell_type": "markdown",
   "metadata": {},
   "source": [
    "Допустим, вы работаете в добывающей компании «ГлавРосГосНефть». Нужно решить, где бурить новую скважину.\n",
    "\n",
    "Вам предоставлены пробы нефти в трёх регионах: в каждом 100 000 месторождений, где измерили качество нефти и объём её запасов. Постройте модель машинного обучения, которая поможет определить регион, где добыча принесёт наибольшую прибыль. Проанализируйте возможную прибыль и риски техникой *Bootstrap.*\n",
    "\n",
    "Шаги для выбора локации:\n",
    "\n",
    "- В избранном регионе ищут месторождения, для каждого определяют значения признаков;\n",
    "- Строят модель и оценивают объём запасов;\n",
    "- Выбирают месторождения с самым высокими оценками значений. Количество месторождений зависит от бюджета компании и стоимости разработки одной скважины;\n",
    "- Прибыль равна суммарной прибыли отобранных месторождений."
   ]
  },
  {
   "cell_type": "markdown",
   "metadata": {},
   "source": [
    "## Загрузка и подготовка данных"
   ]
  },
  {
   "cell_type": "code",
   "execution_count": 1,
   "metadata": {},
   "outputs": [],
   "source": [
    "# Импортируем библиотеки \n",
    "import pandas as pd\n",
    "from sklearn.model_selection import cross_val_score, train_test_split, cross_val_predict\n",
    "from sklearn.linear_model import LinearRegression\n",
    "import matplotlib.pyplot as plt\n",
    "from sklearn.utils import shuffle\n",
    "from sklearn.metrics import mean_squared_error\n",
    "from sklearn.preprocessing import StandardScaler\n",
    "import numpy as np"
   ]
  },
  {
   "cell_type": "code",
   "execution_count": 2,
   "metadata": {},
   "outputs": [
    {
     "data": {
      "text/html": [
       "<div>\n",
       "<style scoped>\n",
       "    .dataframe tbody tr th:only-of-type {\n",
       "        vertical-align: middle;\n",
       "    }\n",
       "\n",
       "    .dataframe tbody tr th {\n",
       "        vertical-align: top;\n",
       "    }\n",
       "\n",
       "    .dataframe thead th {\n",
       "        text-align: right;\n",
       "    }\n",
       "</style>\n",
       "<table border=\"1\" class=\"dataframe\">\n",
       "  <thead>\n",
       "    <tr style=\"text-align: right;\">\n",
       "      <th></th>\n",
       "      <th>id</th>\n",
       "      <th>f0</th>\n",
       "      <th>f1</th>\n",
       "      <th>f2</th>\n",
       "      <th>product</th>\n",
       "    </tr>\n",
       "  </thead>\n",
       "  <tbody>\n",
       "    <tr>\n",
       "      <td>0</td>\n",
       "      <td>txEyH</td>\n",
       "      <td>0.705745</td>\n",
       "      <td>-0.497823</td>\n",
       "      <td>1.221170</td>\n",
       "      <td>105.280062</td>\n",
       "    </tr>\n",
       "    <tr>\n",
       "      <td>1</td>\n",
       "      <td>2acmU</td>\n",
       "      <td>1.334711</td>\n",
       "      <td>-0.340164</td>\n",
       "      <td>4.365080</td>\n",
       "      <td>73.037750</td>\n",
       "    </tr>\n",
       "    <tr>\n",
       "      <td>2</td>\n",
       "      <td>409Wp</td>\n",
       "      <td>1.022732</td>\n",
       "      <td>0.151990</td>\n",
       "      <td>1.419926</td>\n",
       "      <td>85.265647</td>\n",
       "    </tr>\n",
       "    <tr>\n",
       "      <td>3</td>\n",
       "      <td>iJLyR</td>\n",
       "      <td>-0.032172</td>\n",
       "      <td>0.139033</td>\n",
       "      <td>2.978566</td>\n",
       "      <td>168.620776</td>\n",
       "    </tr>\n",
       "    <tr>\n",
       "      <td>4</td>\n",
       "      <td>Xdl7t</td>\n",
       "      <td>1.988431</td>\n",
       "      <td>0.155413</td>\n",
       "      <td>4.751769</td>\n",
       "      <td>154.036647</td>\n",
       "    </tr>\n",
       "  </tbody>\n",
       "</table>\n",
       "</div>"
      ],
      "text/plain": [
       "      id        f0        f1        f2     product\n",
       "0  txEyH  0.705745 -0.497823  1.221170  105.280062\n",
       "1  2acmU  1.334711 -0.340164  4.365080   73.037750\n",
       "2  409Wp  1.022732  0.151990  1.419926   85.265647\n",
       "3  iJLyR -0.032172  0.139033  2.978566  168.620776\n",
       "4  Xdl7t  1.988431  0.155413  4.751769  154.036647"
      ]
     },
     "metadata": {},
     "output_type": "display_data"
    },
    {
     "data": {
      "text/html": [
       "<div>\n",
       "<style scoped>\n",
       "    .dataframe tbody tr th:only-of-type {\n",
       "        vertical-align: middle;\n",
       "    }\n",
       "\n",
       "    .dataframe tbody tr th {\n",
       "        vertical-align: top;\n",
       "    }\n",
       "\n",
       "    .dataframe thead th {\n",
       "        text-align: right;\n",
       "    }\n",
       "</style>\n",
       "<table border=\"1\" class=\"dataframe\">\n",
       "  <thead>\n",
       "    <tr style=\"text-align: right;\">\n",
       "      <th></th>\n",
       "      <th>id</th>\n",
       "      <th>f0</th>\n",
       "      <th>f1</th>\n",
       "      <th>f2</th>\n",
       "      <th>product</th>\n",
       "    </tr>\n",
       "  </thead>\n",
       "  <tbody>\n",
       "    <tr>\n",
       "      <td>0</td>\n",
       "      <td>kBEdx</td>\n",
       "      <td>-15.001348</td>\n",
       "      <td>-8.276000</td>\n",
       "      <td>-0.005876</td>\n",
       "      <td>3.179103</td>\n",
       "    </tr>\n",
       "    <tr>\n",
       "      <td>1</td>\n",
       "      <td>62mP7</td>\n",
       "      <td>14.272088</td>\n",
       "      <td>-3.475083</td>\n",
       "      <td>0.999183</td>\n",
       "      <td>26.953261</td>\n",
       "    </tr>\n",
       "    <tr>\n",
       "      <td>2</td>\n",
       "      <td>vyE1P</td>\n",
       "      <td>6.263187</td>\n",
       "      <td>-5.948386</td>\n",
       "      <td>5.001160</td>\n",
       "      <td>134.766305</td>\n",
       "    </tr>\n",
       "    <tr>\n",
       "      <td>3</td>\n",
       "      <td>KcrkZ</td>\n",
       "      <td>-13.081196</td>\n",
       "      <td>-11.506057</td>\n",
       "      <td>4.999415</td>\n",
       "      <td>137.945408</td>\n",
       "    </tr>\n",
       "    <tr>\n",
       "      <td>4</td>\n",
       "      <td>AHL4O</td>\n",
       "      <td>12.702195</td>\n",
       "      <td>-8.147433</td>\n",
       "      <td>5.004363</td>\n",
       "      <td>134.766305</td>\n",
       "    </tr>\n",
       "  </tbody>\n",
       "</table>\n",
       "</div>"
      ],
      "text/plain": [
       "      id         f0         f1        f2     product\n",
       "0  kBEdx -15.001348  -8.276000 -0.005876    3.179103\n",
       "1  62mP7  14.272088  -3.475083  0.999183   26.953261\n",
       "2  vyE1P   6.263187  -5.948386  5.001160  134.766305\n",
       "3  KcrkZ -13.081196 -11.506057  4.999415  137.945408\n",
       "4  AHL4O  12.702195  -8.147433  5.004363  134.766305"
      ]
     },
     "metadata": {},
     "output_type": "display_data"
    },
    {
     "data": {
      "text/html": [
       "<div>\n",
       "<style scoped>\n",
       "    .dataframe tbody tr th:only-of-type {\n",
       "        vertical-align: middle;\n",
       "    }\n",
       "\n",
       "    .dataframe tbody tr th {\n",
       "        vertical-align: top;\n",
       "    }\n",
       "\n",
       "    .dataframe thead th {\n",
       "        text-align: right;\n",
       "    }\n",
       "</style>\n",
       "<table border=\"1\" class=\"dataframe\">\n",
       "  <thead>\n",
       "    <tr style=\"text-align: right;\">\n",
       "      <th></th>\n",
       "      <th>id</th>\n",
       "      <th>f0</th>\n",
       "      <th>f1</th>\n",
       "      <th>f2</th>\n",
       "      <th>product</th>\n",
       "    </tr>\n",
       "  </thead>\n",
       "  <tbody>\n",
       "    <tr>\n",
       "      <td>0</td>\n",
       "      <td>fwXo0</td>\n",
       "      <td>-1.146987</td>\n",
       "      <td>0.963328</td>\n",
       "      <td>-0.828965</td>\n",
       "      <td>27.758673</td>\n",
       "    </tr>\n",
       "    <tr>\n",
       "      <td>1</td>\n",
       "      <td>WJtFt</td>\n",
       "      <td>0.262778</td>\n",
       "      <td>0.269839</td>\n",
       "      <td>-2.530187</td>\n",
       "      <td>56.069697</td>\n",
       "    </tr>\n",
       "    <tr>\n",
       "      <td>2</td>\n",
       "      <td>ovLUW</td>\n",
       "      <td>0.194587</td>\n",
       "      <td>0.289035</td>\n",
       "      <td>-5.586433</td>\n",
       "      <td>62.871910</td>\n",
       "    </tr>\n",
       "    <tr>\n",
       "      <td>3</td>\n",
       "      <td>q6cA6</td>\n",
       "      <td>2.236060</td>\n",
       "      <td>-0.553760</td>\n",
       "      <td>0.930038</td>\n",
       "      <td>114.572842</td>\n",
       "    </tr>\n",
       "    <tr>\n",
       "      <td>4</td>\n",
       "      <td>WPMUX</td>\n",
       "      <td>-0.515993</td>\n",
       "      <td>1.716266</td>\n",
       "      <td>5.899011</td>\n",
       "      <td>149.600746</td>\n",
       "    </tr>\n",
       "  </tbody>\n",
       "</table>\n",
       "</div>"
      ],
      "text/plain": [
       "      id        f0        f1        f2     product\n",
       "0  fwXo0 -1.146987  0.963328 -0.828965   27.758673\n",
       "1  WJtFt  0.262778  0.269839 -2.530187   56.069697\n",
       "2  ovLUW  0.194587  0.289035 -5.586433   62.871910\n",
       "3  q6cA6  2.236060 -0.553760  0.930038  114.572842\n",
       "4  WPMUX -0.515993  1.716266  5.899011  149.600746"
      ]
     },
     "metadata": {},
     "output_type": "display_data"
    }
   ],
   "source": [
    "# Ознакомимся с данными\n",
    "data_0 = pd.read_csv(\"/datasets/geo_data_0.csv\")\n",
    "data_1 = pd.read_csv(\"/datasets/geo_data_1.csv\")\n",
    "data_2 = pd.read_csv(\"/datasets/geo_data_2.csv\")\n",
    "display(data_0.head())\n",
    "display(data_1.head())\n",
    "display(data_2.head())"
   ]
  },
  {
   "cell_type": "markdown",
   "metadata": {},
   "source": [
    "Каждая из таблиц содержит столбец *id*, который не несет полезной информации и дублирует индекс, удалим эти столбцы."
   ]
  },
  {
   "cell_type": "code",
   "execution_count": 3,
   "metadata": {},
   "outputs": [],
   "source": [
    "names = [data_0, data_1, data_2]\n",
    "for name in names:\n",
    "    name.drop(columns=['id'], inplace=True)"
   ]
  },
  {
   "cell_type": "code",
   "execution_count": 4,
   "metadata": {},
   "outputs": [
    {
     "name": "stdout",
     "output_type": "stream",
     "text": [
      "Количество строк: 100000\n",
      "Количество пропусков:\n",
      "f0         0\n",
      "f1         0\n",
      "f2         0\n",
      "product    0\n",
      "dtype: int64\n",
      "\n",
      "Количество дубликатов:\n",
      "0\n",
      "=========================================================\n",
      "Количество строк: 100000\n",
      "Количество пропусков:\n",
      "f0         0\n",
      "f1         0\n",
      "f2         0\n",
      "product    0\n",
      "dtype: int64\n",
      "\n",
      "Количество дубликатов:\n",
      "0\n",
      "=========================================================\n",
      "Количество строк: 100000\n",
      "Количество пропусков:\n",
      "f0         0\n",
      "f1         0\n",
      "f2         0\n",
      "product    0\n",
      "dtype: int64\n",
      "\n",
      "Количество дубликатов:\n",
      "0\n",
      "=========================================================\n"
     ]
    }
   ],
   "source": [
    "# Проверим на пропуски и дубли\n",
    "for name in names:\n",
    "    print(f'Количество строк: {name.shape[0]}')\n",
    "    print('Количество пропусков:')\n",
    "    print(name.isnull().sum())\n",
    "    print()\n",
    "    print('Количество дубликатов:')\n",
    "    print(name.duplicated().sum())\n",
    "    print('=========================================================')"
   ]
  },
  {
   "cell_type": "markdown",
   "metadata": {},
   "source": [
    "Прекрасно, проблем с данными нет. Посмотрим на значения численных признаков."
   ]
  },
  {
   "cell_type": "code",
   "execution_count": 5,
   "metadata": {},
   "outputs": [
    {
     "data": {
      "image/png": "[encoded data removed]",
      "text/plain": [
       "<Figure size 432x288 with 1 Axes>"
      ]
     },
     "metadata": {
      "needs_background": "light"
     },
     "output_type": "display_data"
    },
    {
     "data": {
      "image/png": "[encoded data removed]",
      "text/plain": [
       "<Figure size 432x288 with 1 Axes>"
      ]
     },
     "metadata": {
      "needs_background": "light"
     },
     "output_type": "display_data"
    },
    {
     "data": {
      "image/png": "[encoded data removed]",
      "text/plain": [
       "<Figure size 432x288 with 1 Axes>"
      ]
     },
     "metadata": {
      "needs_background": "light"
     },
     "output_type": "display_data"
    }
   ],
   "source": [
    "datasets = [data_0, data_1, data_2]\n",
    "for i in range(len(datasets)):\n",
    "    plt.title('Регион '+ str(i))\n",
    "    for col in ['f0', 'f1', 'f2']:\n",
    "        datasets[i][col].hist(label='Параметр ' + str(col), alpha=0.5, density=True)\n",
    "    plt.legend()\n",
    "    plt.xlabel('Значение признака')\n",
    "    plt.ylabel('Доля значений')\n",
    "    plt.show()"
   ]
  },
  {
   "cell_type": "markdown",
   "metadata": {},
   "source": [
    "В целом можно сказать, что признаки имеют одинаковый масштаб. "
   ]
  },
  {
   "cell_type": "markdown",
   "metadata": {},
   "source": [
    "## Обучение и проверка модели"
   ]
  },
  {
   "cell_type": "markdown",
   "metadata": {},
   "source": [
    "Так как у нас три датасета, то напишем функию для экономии времени и места, которая будет разбивать выборку, обучать модель и определять значения метрики"
   ]
  },
  {
   "cell_type": "code",
   "execution_count": 6,
   "metadata": {},
   "outputs": [],
   "source": [
    "def run_model(data):\n",
    "    '''\n",
    "    Функция принимает на вход датасет, подготовлявает признаки, обучает модель \n",
    "    и выдает предсказанные значения, истинные значения и RMSE\n",
    "    '''\n",
    "    # Создадим датасеты с признаками и целевым признаком. \n",
    "    # Затем разделим их на тренировочную и валидационную выборки.\n",
    "    features = data.drop(columns=['product'])\n",
    "    target = data['product']\n",
    "    features_train, features_valid, target_train, target_valid = train_test_split(\n",
    "    features, target, test_size=0.25, random_state=12345)\n",
    "    # Подготовим и обучим модель\n",
    "    model = LinearRegression()\n",
    "    model.fit(features_train, target_train)\n",
    "    predictions = pd.Series(model.predict(features_valid), index=target_valid.index)\n",
    "    rmse = mean_squared_error(target_valid, predictions) ** 0.5\n",
    "    return predictions, target_valid, rmse"
   ]
  },
  {
   "cell_type": "markdown",
   "metadata": {},
   "source": [
    "Получим результаты для каждого региона"
   ]
  },
  {
   "cell_type": "code",
   "execution_count": 7,
   "metadata": {},
   "outputs": [
    {
     "name": "stdout",
     "output_type": "stream",
     "text": [
      "Результаты модели для региона 0:\n",
      "Средний запас предсказанного сырья = 92.59 тыс.баррелей\n",
      "Средний запас сырья массива истинных значений = 92.08 тыс.баррелей\n",
      "RMSE модели на валидационной выборке = 37.58 тыс.баррелей\n",
      "====================================================================\n",
      "Результаты модели для региона 1:\n",
      "Средний запас предсказанного сырья = 68.73 тыс.баррелей\n",
      "Средний запас сырья массива истинных значений = 68.72 тыс.баррелей\n",
      "RMSE модели на валидационной выборке = 0.89 тыс.баррелей\n",
      "====================================================================\n",
      "Результаты модели для региона 2:\n",
      "Средний запас предсказанного сырья = 94.97 тыс.баррелей\n",
      "Средний запас сырья массива истинных значений = 94.88 тыс.баррелей\n",
      "RMSE модели на валидационной выборке = 40.03 тыс.баррелей\n",
      "====================================================================\n"
     ]
    }
   ],
   "source": [
    "datasets = [data_0, data_1, data_2]\n",
    "predictions = []\n",
    "targets = []\n",
    "rmses = []\n",
    "for i in range(len(datasets)):\n",
    "    pred, target, rmse = run_model(datasets[i])\n",
    "    predictions.append(pred)\n",
    "    targets.append(target)\n",
    "    rmses.append(rmse)\n",
    "    print(f\"Результаты модели для региона {i}:\")\n",
    "    print(f\"Средний запас предсказанного сырья = {pred.mean():.2f} тыс.баррелей\")\n",
    "    print(f\"Средний запас сырья массива истинных значений = {target.mean():.2f} тыс.баррелей\")\n",
    "    print(f\"RMSE модели на валидационной выборке = {rmse:.2f} тыс.баррелей\")\n",
    "    print('====================================================================')"
   ]
  },
  {
   "cell_type": "markdown",
   "metadata": {},
   "source": [
    "Посмотрим на распределение значений целевого признака"
   ]
  },
  {
   "cell_type": "code",
   "execution_count": 8,
   "metadata": {},
   "outputs": [
    {
     "name": "stdout",
     "output_type": "stream",
     "text": [
      "Доля отрицательных предсказанных значений для региона 0= 0.004%\n",
      "Доля отрицательных предсказанных значений для региона 1= 2.156%\n",
      "Доля отрицательных предсказанных значений для региона 2= 0.000%\n"
     ]
    },
    {
     "data": {
      "image/png": "[encoded data removed]",
      "text/plain": [
       "<Figure size 576x432 with 1 Axes>"
      ]
     },
     "metadata": {
      "needs_background": "light"
     },
     "output_type": "display_data"
    },
    {
     "data": {
      "image/png": "[encoded data removed]",
      "text/plain": [
       "<Figure size 576x432 with 1 Axes>"
      ]
     },
     "metadata": {
      "needs_background": "light"
     },
     "output_type": "display_data"
    },
    {
     "data": {
      "image/png": "[encoded data removed]",
      "text/plain": [
       "<Figure size 576x432 with 1 Axes>"
      ]
     },
     "metadata": {
      "needs_background": "light"
     },
     "output_type": "display_data"
    }
   ],
   "source": [
    "for i in range(len(predictions)):\n",
    "    plt.figure(figsize=(8,6))\n",
    "    plt.hist(predictions[i], label='Предсказания')\n",
    "    plt.hist(targets[i], label='Истинные значения', alpha=0.7)\n",
    "    plt.legend()\n",
    "    plt.title(\"Сравнение предсказанных и истинных значений для региона \" + str(i))\n",
    "    plt.xlabel(\"Запас производимого сырья, тыс. баррелей\")\n",
    "    plt.ylabel('Количество скважин')\n",
    "    print(f\"Доля отрицательных предсказанных значений для региона {i}= {(predictions[i]< 0).sum() / len(predictions[i]):.3%}\")"
   ]
  },
  {
   "cell_type": "markdown",
   "metadata": {},
   "source": [
    "**Выводы:** Средние значения предсказанных выборок близки к средним истинных значений. Наибольшая точность наблюдается у модели для региона 1, однако стоит отметить, что распределение величин не похоже на нормальное и порядка 2% предсказанных значений отрицательные. Модели для региона 0 и 2 имеют приблизительно одиннаковое качество в виде средних квадратичных отклонений в 37,58 и 40,03 тыс. баррелей соответственно. Также распределения значений имеют более легкие хвосты по сравнению с истинными данными."
   ]
  },
  {
   "cell_type": "markdown",
   "metadata": {},
   "source": [
    "## Подготовка к расчёту прибыли"
   ]
  },
  {
   "cell_type": "markdown",
   "metadata": {},
   "source": [
    "Рассчитаем достаточный объём сырья для безубыточной разработки новой скважины и сравним полученный объём сырья со средним запасом в каждом регионе. "
   ]
  },
  {
   "cell_type": "code",
   "execution_count": 9,
   "metadata": {},
   "outputs": [
    {
     "name": "stdout",
     "output_type": "stream",
     "text": [
      "Средний объем сырья для региона 0 = 92.59 тыс.баррелей\n",
      "Средний объем сырья для региона 1 = 68.73 тыс.баррелей\n",
      "Средний объем сырья для региона 2 = 94.97 тыс.баррелей\n",
      "Требуемый объем сырья = 111.11 тыс.баррелей\n"
     ]
    }
   ],
   "source": [
    "# Бюджет на разработку скважин в 1м регионе\n",
    "BUDGET = 10e9\n",
    "# Выручка с 1 единицы сырья\n",
    "PROFIT = 450e3\n",
    "# Количество лучших скважин в регионе\n",
    "N_WELLS = 200\n",
    "# Рассчитаем сколько должна в среднем приносить 1 скважина для безубыточной разработки\n",
    "INCOME_OF_WELL = BUDGET / N_WELLS / PROFIT\n",
    "# Сравним требуемую производительсность со срединими предсказанными значениями для каждого региона\n",
    "for i in range(len(predictions)):\n",
    "    print(f\"Средний объем сырья для региона {i} = {predictions[i].mean():.2f} тыс.баррелей\")\n",
    "print(f\"Требуемый объем сырья = {INCOME_OF_WELL:.2f} тыс.баррелей\")"
   ]
  },
  {
   "cell_type": "markdown",
   "metadata": {},
   "source": [
    "Рассмотрим расспределение производительности скважин по регионам"
   ]
  },
  {
   "cell_type": "code",
   "execution_count": 10,
   "metadata": {},
   "outputs": [
    {
     "data": {
      "text/plain": [
       "<matplotlib.collections.LineCollection at 0x7f7bd474d750>"
      ]
     },
     "execution_count": 10,
     "metadata": {},
     "output_type": "execute_result"
    },
    {
     "data": {
      "image/png": "[encoded data removed]",
      "text/plain": [
       "<Figure size 432x288 with 1 Axes>"
      ]
     },
     "metadata": {
      "needs_background": "light"
     },
     "output_type": "display_data"
    }
   ],
   "source": [
    "plt.hist(predictions[0], label='Регион_0')\n",
    "plt.hist(predictions[1], label='Регион_1', alpha=0.8)\n",
    "plt.hist(predictions[2], label='Регион_2', alpha=0.7)\n",
    "plt.legend()\n",
    "plt.title(\"Сравнение объема сырья по регионам\")\n",
    "plt.xlabel(\"Запас производимого сырья, тыс. баррелей\")\n",
    "plt.ylabel('Количество скважин')\n",
    "# Нарисуем линию, которая показывает требуемый уровень добычи\n",
    "plt.vlines(x=INCOME_OF_WELL, ymin=0, ymax=7000, colors='r')"
   ]
  },
  {
   "cell_type": "markdown",
   "metadata": {},
   "source": [
    "**Выводы:** Предварительно по средним значениям ни один регион не выполнит норму, хотя наиболее перспективным является регион 2. В таком случае необходимо или увеличить количество скважин, или поднять цены на сырье при сохранении бюджета на разработку скважин. \n",
    "Однако, в каждом регионе есть более 200 скважин с производительностью больше требуемой. Чтобы подробнее изучить все картину, необходимо рассмотреть возможные прибыли и убытки."
   ]
  },
  {
   "cell_type": "markdown",
   "metadata": {},
   "source": [
    "## Расчёт прибыли и рисков "
   ]
  },
  {
   "cell_type": "markdown",
   "metadata": {},
   "source": [
    "Напишием функцию для расчёта прибыли по выбранным скважинам и предсказаниям модели"
   ]
  },
  {
   "cell_type": "code",
   "execution_count": 11,
   "metadata": {},
   "outputs": [],
   "source": [
    "def calc_profit(pred, target, n_points=200, profit=450e3):\n",
    "    \"\"\"\n",
    "    Функция принимает на вход массив с предсказанным объемом сырья для каждого региона (pred), истинные значения (target),\n",
    "    количество рассматриваемых скважин (n_points) и прибыль с одной единицы сырья (profit). \n",
    "    На выход подается итоговая прибыль с n_points самых прибыльных скважин\n",
    "    \"\"\"\n",
    "    # Найдем топ 200 скважин в регионе\n",
    "    top_wells = pred.sort_values(ascending=False)[0:n_points]\n",
    "    # Посчитаем суммарую выручку\n",
    "    total_income = target[top_wells.index].sum() * profit\n",
    "    return total_income"
   ]
  },
  {
   "cell_type": "markdown",
   "metadata": {},
   "source": [
    "Посчитаем риски и прибыль для каждого региона"
   ]
  },
  {
   "cell_type": "code",
   "execution_count": 12,
   "metadata": {},
   "outputs": [
    {
     "name": "stdout",
     "output_type": "stream",
     "text": [
      "Средняя выручка для региона 0 = 0.40 млрд. рублей\n",
      "95% доверительные интервал для региона 0 составлят от -0.11  млрд. рублей до 0.91  млрд. рублей\n",
      "Риски убытков для региона 0 = 6.90%\n",
      "================================================================================\n",
      "Средняя выручка для региона 1 = 0.46 млрд. рублей\n",
      "95% доверительные интервал для региона 1 составлят от 0.08  млрд. рублей до 0.86  млрд. рублей\n",
      "Риски убытков для региона 1 = 0.70%\n",
      "================================================================================\n",
      "Средняя выручка для региона 2 = 0.39 млрд. рублей\n",
      "95% доверительные интервал для региона 2 составлят от -0.11  млрд. рублей до 0.93  млрд. рублей\n",
      "Риски убытков для региона 2 = 6.50%\n",
      "================================================================================\n"
     ]
    }
   ],
   "source": [
    "# Бюджет на разработку скважин в 1м регионе\n",
    "BUDGET = 10e9\n",
    "# Количество выборок для Bootstrap метода\n",
    "BOOTSTRAP_STEPS = 1000\n",
    "# Количество скважин для рассмотрения в каждом регионе\n",
    "N_WELLS = 500\n",
    "# Пройдемся циклом по всем регионам\n",
    "state = np.random.RandomState(12345)\n",
    "for i in range(len(predictions)):\n",
    "    values = []\n",
    "    for j in range(BOOTSTRAP_STEPS):\n",
    "        subsample = predictions[i].sample(frac=N_WELLS/len(predictions[i]), replace=True, random_state=state)\n",
    "        income = calc_profit(subsample, targets[i])\n",
    "        total_income = income - BUDGET\n",
    "        values.append(total_income)\n",
    "    values = pd.Series(values)\n",
    "    # Среднее значение выручки\n",
    "    mean_income = values.mean()\n",
    "    # Найдем границы 95% доверительного интервала\n",
    "    lower = values.quantile(0.025)\n",
    "    upper = values.quantile(0.975)\n",
    "    # Расчитаем риски убытков, т.е. долю измерений с отрицательной прибылью\n",
    "    risks = (values < 0).mean()\n",
    "    print(f\"Средняя выручка для региона {i} = {mean_income / 1e9:.2f} млрд. рублей\")\n",
    "    print(f\"95% доверительные интервал для региона {i} составлят от {lower/ 1e9:.2f}  млрд. рублей до {upper/ 1e9:.2f}  млрд. рублей\")\n",
    "    print(f\"Риски убытков для региона {i} = {risks:.2%}\")\n",
    "    print('================================================================================')"
   ]
  },
  {
   "cell_type": "markdown",
   "metadata": {},
   "source": [
    "## Выводы"
   ]
  },
  {
   "cell_type": "markdown",
   "metadata": {},
   "source": [
    "Согласно проведенным исследованиям и результатам обучения модели, наиболее выгодным регионом для разработки является регион №1. Средняя валовая прибыль с 200 скважин этого региона за вычетом 10 млрд. рублей на развитие региона составляет 0.46 млрд.рублей с 95% доверительнм интервалом [0.08, 0.86] млрд. рублей. Риски убытков составляют 0.7%.\n",
    "\n",
    "Регионы №0 и №2 обладают рисками в 6,9% и 6,5% соотвественно. Средние прибыли - 0,40 и 0,39 млрд. рублей с интервалами [-0.11, 0.91] и [-0.11, 0.93].\n",
    "\n",
    "Таким образом, несмотря на то, что у региона №1 самое низкое среднее значение объема продукции, он является наиболее перспективным регионом для развития."
   ]
  }
 ],
 "metadata": {
  "ExecuteTimeLog": [
   {
    "duration": 1357,
    "start_time": "2021-10-13T16:32:00.689Z"
   },
   {
    "duration": 2,
    "start_time": "2021-10-13T16:32:22.227Z"
   },
   {
    "duration": 16,
    "start_time": "2021-10-13T16:33:30.370Z"
   },
   {
    "duration": 393,
    "start_time": "2021-10-13T18:07:22.613Z"
   },
   {
    "duration": 8,
    "start_time": "2021-10-13T18:09:00.051Z"
   },
   {
    "duration": 4,
    "start_time": "2021-10-13T18:09:23.171Z"
   },
   {
    "duration": 3,
    "start_time": "2021-10-13T18:09:25.492Z"
   },
   {
    "duration": 10,
    "start_time": "2021-10-13T18:10:25.255Z"
   },
   {
    "duration": 42,
    "start_time": "2021-10-13T18:10:33.624Z"
   },
   {
    "duration": 14,
    "start_time": "2021-10-13T18:10:55.907Z"
   },
   {
    "duration": 10,
    "start_time": "2021-10-13T18:11:01.611Z"
   },
   {
    "duration": 336,
    "start_time": "2021-10-13T18:15:02.535Z"
   },
   {
    "duration": 707,
    "start_time": "2021-10-13T18:15:30.126Z"
   },
   {
    "duration": 282,
    "start_time": "2021-10-13T18:15:59.886Z"
   },
   {
    "duration": 123,
    "start_time": "2021-10-13T18:16:07.900Z"
   },
   {
    "duration": 117,
    "start_time": "2021-10-13T18:16:17.617Z"
   },
   {
    "duration": 123,
    "start_time": "2021-10-13T18:16:29.974Z"
   },
   {
    "duration": 114,
    "start_time": "2021-10-13T18:16:36.085Z"
   },
   {
    "duration": 114,
    "start_time": "2021-10-13T18:16:40.794Z"
   },
   {
    "duration": 118,
    "start_time": "2021-10-13T18:17:03.626Z"
   },
   {
    "duration": 126,
    "start_time": "2021-10-13T18:17:19.949Z"
   },
   {
    "duration": 124,
    "start_time": "2021-10-13T18:17:27.121Z"
   },
   {
    "duration": 120,
    "start_time": "2021-10-13T18:17:35.365Z"
   },
   {
    "duration": 261,
    "start_time": "2021-10-13T18:18:59.335Z"
   },
   {
    "duration": 8,
    "start_time": "2021-10-13T18:21:16.668Z"
   },
   {
    "duration": 279,
    "start_time": "2021-10-13T18:22:14.953Z"
   },
   {
    "duration": 478,
    "start_time": "2021-10-13T18:22:19.603Z"
   },
   {
    "duration": 463,
    "start_time": "2021-10-13T18:22:26.480Z"
   },
   {
    "duration": 2,
    "start_time": "2021-10-13T18:22:56.437Z"
   },
   {
    "duration": 135,
    "start_time": "2021-10-13T18:22:59.078Z"
   },
   {
    "duration": 1688,
    "start_time": "2021-10-13T18:23:01.131Z"
   },
   {
    "duration": 17,
    "start_time": "2021-10-13T18:33:39.370Z"
   },
   {
    "duration": 10,
    "start_time": "2021-10-13T18:33:43.921Z"
   },
   {
    "duration": 582,
    "start_time": "2021-10-13T18:37:52.413Z"
   },
   {
    "duration": 8,
    "start_time": "2021-10-13T18:38:21.474Z"
   },
   {
    "duration": 4,
    "start_time": "2021-10-13T18:38:28.902Z"
   },
   {
    "duration": 2,
    "start_time": "2021-10-13T18:39:18.982Z"
   },
   {
    "duration": 4,
    "start_time": "2021-10-13T18:39:21.740Z"
   },
   {
    "duration": 3,
    "start_time": "2021-10-13T18:40:05.893Z"
   },
   {
    "duration": 14,
    "start_time": "2021-10-13T18:40:38.934Z"
   },
   {
    "duration": 3,
    "start_time": "2021-10-13T18:40:45.527Z"
   },
   {
    "duration": 4,
    "start_time": "2021-10-13T18:41:12.916Z"
   },
   {
    "duration": 4,
    "start_time": "2021-10-13T18:41:15.944Z"
   },
   {
    "duration": 4,
    "start_time": "2021-10-13T18:41:19.102Z"
   },
   {
    "duration": 4,
    "start_time": "2021-10-13T18:41:25.862Z"
   },
   {
    "duration": 5,
    "start_time": "2021-10-13T18:41:29.010Z"
   },
   {
    "duration": 4,
    "start_time": "2021-10-13T18:41:40.426Z"
   },
   {
    "duration": 3,
    "start_time": "2021-10-13T18:41:43.949Z"
   },
   {
    "duration": 4,
    "start_time": "2021-10-13T18:42:00.631Z"
   },
   {
    "duration": 5,
    "start_time": "2021-10-13T18:42:08.929Z"
   },
   {
    "duration": 6,
    "start_time": "2021-10-13T18:42:15.167Z"
   },
   {
    "duration": 71,
    "start_time": "2021-10-13T18:42:33.835Z"
   },
   {
    "duration": 10,
    "start_time": "2021-10-13T18:42:37.286Z"
   },
   {
    "duration": 330,
    "start_time": "2021-10-13T18:49:36.438Z"
   },
   {
    "duration": 70,
    "start_time": "2021-10-13T18:49:41.849Z"
   },
   {
    "duration": 11,
    "start_time": "2021-10-13T18:49:46.939Z"
   },
   {
    "duration": 71,
    "start_time": "2021-10-13T18:51:29.958Z"
   },
   {
    "duration": 12,
    "start_time": "2021-10-13T18:51:30.393Z"
   },
   {
    "duration": 67,
    "start_time": "2021-10-13T18:52:10.893Z"
   },
   {
    "duration": 60,
    "start_time": "2021-10-13T18:52:25.859Z"
   },
   {
    "duration": 72,
    "start_time": "2021-10-13T18:53:18.972Z"
   },
   {
    "duration": 2,
    "start_time": "2021-10-13T18:53:19.340Z"
   },
   {
    "duration": 2,
    "start_time": "2021-10-13T18:53:23.442Z"
   },
   {
    "duration": 3,
    "start_time": "2021-10-13T18:53:28.713Z"
   },
   {
    "duration": 16,
    "start_time": "2021-10-13T18:53:41.555Z"
   },
   {
    "duration": 4,
    "start_time": "2021-10-13T18:53:46.149Z"
   },
   {
    "duration": 3,
    "start_time": "2021-10-13T18:53:49.668Z"
   },
   {
    "duration": 419,
    "start_time": "2021-10-13T18:53:49.673Z"
   },
   {
    "duration": 11,
    "start_time": "2021-10-13T18:53:50.094Z"
   },
   {
    "duration": 76,
    "start_time": "2021-10-13T18:53:50.107Z"
   },
   {
    "duration": 96,
    "start_time": "2021-10-13T18:53:50.185Z"
   },
   {
    "duration": 79,
    "start_time": "2021-10-13T18:53:55.261Z"
   },
   {
    "duration": 2,
    "start_time": "2021-10-13T18:53:55.900Z"
   },
   {
    "duration": 4,
    "start_time": "2021-10-13T18:53:59.941Z"
   },
   {
    "duration": 381,
    "start_time": "2021-10-13T18:53:59.947Z"
   },
   {
    "duration": 20,
    "start_time": "2021-10-13T18:54:00.330Z"
   },
   {
    "duration": 78,
    "start_time": "2021-10-13T18:54:00.354Z"
   },
   {
    "duration": 80,
    "start_time": "2021-10-13T18:54:00.434Z"
   },
   {
    "duration": 2,
    "start_time": "2021-10-13T18:54:00.516Z"
   },
   {
    "duration": 3,
    "start_time": "2021-10-13T18:54:08.599Z"
   },
   {
    "duration": 403,
    "start_time": "2021-10-13T18:54:08.604Z"
   },
   {
    "duration": 13,
    "start_time": "2021-10-13T18:54:09.009Z"
   },
   {
    "duration": 75,
    "start_time": "2021-10-13T18:54:09.024Z"
   },
   {
    "duration": 85,
    "start_time": "2021-10-13T18:54:09.100Z"
   },
   {
    "duration": 10,
    "start_time": "2021-10-13T18:54:09.186Z"
   },
   {
    "duration": 2,
    "start_time": "2021-10-13T18:55:21.312Z"
   },
   {
    "duration": 402,
    "start_time": "2021-10-13T18:55:21.316Z"
   },
   {
    "duration": 14,
    "start_time": "2021-10-13T18:55:21.720Z"
   },
   {
    "duration": 68,
    "start_time": "2021-10-13T18:55:21.735Z"
   },
   {
    "duration": 50,
    "start_time": "2021-10-13T18:55:21.805Z"
   },
   {
    "duration": 41,
    "start_time": "2021-10-13T18:55:27.669Z"
   },
   {
    "duration": 13,
    "start_time": "2021-10-13T18:55:28.356Z"
   },
   {
    "duration": 285,
    "start_time": "2021-10-13T18:55:50.356Z"
   },
   {
    "duration": 12,
    "start_time": "2021-10-13T18:55:50.704Z"
   },
   {
    "duration": 54,
    "start_time": "2021-10-13T18:55:54.321Z"
   },
   {
    "duration": 11,
    "start_time": "2021-10-13T18:55:54.723Z"
   },
   {
    "duration": 42,
    "start_time": "2021-10-13T18:55:59.008Z"
   },
   {
    "duration": 10,
    "start_time": "2021-10-13T18:55:59.326Z"
   },
   {
    "duration": 3,
    "start_time": "2021-10-13T18:58:10.495Z"
   },
   {
    "duration": 31,
    "start_time": "2021-10-13T18:59:14.741Z"
   },
   {
    "duration": 11,
    "start_time": "2021-10-13T18:59:21.195Z"
   },
   {
    "duration": 31,
    "start_time": "2021-10-13T18:59:43.376Z"
   },
   {
    "duration": 10,
    "start_time": "2021-10-13T18:59:43.916Z"
   },
   {
    "duration": 30,
    "start_time": "2021-10-13T19:02:13.903Z"
   },
   {
    "duration": 11,
    "start_time": "2021-10-13T19:02:14.171Z"
   },
   {
    "duration": 41,
    "start_time": "2021-10-13T19:02:17.341Z"
   },
   {
    "duration": 14,
    "start_time": "2021-10-13T19:02:17.549Z"
   },
   {
    "duration": 33,
    "start_time": "2021-10-13T19:02:25.959Z"
   },
   {
    "duration": 11,
    "start_time": "2021-10-13T19:02:26.316Z"
   },
   {
    "duration": 12,
    "start_time": "2021-10-13T19:02:32.800Z"
   },
   {
    "duration": 3,
    "start_time": "2021-10-13T19:02:37.486Z"
   },
   {
    "duration": 362,
    "start_time": "2021-10-13T19:02:37.491Z"
   },
   {
    "duration": 12,
    "start_time": "2021-10-13T19:02:37.855Z"
   },
   {
    "duration": 59,
    "start_time": "2021-10-13T19:02:37.869Z"
   },
   {
    "duration": 44,
    "start_time": "2021-10-13T19:02:37.943Z"
   },
   {
    "duration": 10,
    "start_time": "2021-10-13T19:02:37.989Z"
   },
   {
    "duration": 26,
    "start_time": "2021-10-13T19:02:42.064Z"
   },
   {
    "duration": 13,
    "start_time": "2021-10-13T19:02:42.375Z"
   },
   {
    "duration": 27,
    "start_time": "2021-10-13T19:02:49.776Z"
   },
   {
    "duration": 11,
    "start_time": "2021-10-13T19:02:49.980Z"
   },
   {
    "duration": 28,
    "start_time": "2021-10-13T19:02:51.684Z"
   },
   {
    "duration": 10,
    "start_time": "2021-10-13T19:02:51.856Z"
   },
   {
    "duration": 216,
    "start_time": "2021-10-13T19:05:58.256Z"
   },
   {
    "duration": 475,
    "start_time": "2021-10-13T19:06:20.382Z"
   },
   {
    "duration": 293,
    "start_time": "2021-10-13T19:06:25.566Z"
   },
   {
    "duration": 243,
    "start_time": "2021-10-13T19:06:37.976Z"
   },
   {
    "duration": 17,
    "start_time": "2021-10-13T19:07:21.657Z"
   },
   {
    "duration": 40,
    "start_time": "2021-10-13T19:10:24.720Z"
   },
   {
    "duration": 3,
    "start_time": "2021-10-13T19:10:41.636Z"
   },
   {
    "duration": 3,
    "start_time": "2021-10-13T19:10:55.814Z"
   },
   {
    "duration": 62,
    "start_time": "2021-10-13T19:14:18.330Z"
   },
   {
    "duration": 62,
    "start_time": "2021-10-13T19:14:22.781Z"
   },
   {
    "duration": 61,
    "start_time": "2021-10-13T19:14:25.892Z"
   },
   {
    "duration": 1118,
    "start_time": "2021-10-14T16:23:06.547Z"
   },
   {
    "duration": 371,
    "start_time": "2021-10-14T16:23:07.666Z"
   },
   {
    "duration": 14,
    "start_time": "2021-10-14T16:23:08.039Z"
   },
   {
    "duration": 80,
    "start_time": "2021-10-14T16:23:08.055Z"
   },
   {
    "duration": 63,
    "start_time": "2021-10-14T16:23:08.137Z"
   },
   {
    "duration": 249,
    "start_time": "2021-10-14T16:23:08.202Z"
   },
   {
    "duration": 52,
    "start_time": "2021-10-14T16:23:08.452Z"
   },
   {
    "duration": 448,
    "start_time": "2021-10-14T16:28:42.199Z"
   },
   {
    "duration": 328,
    "start_time": "2021-10-14T16:29:05.221Z"
   },
   {
    "duration": 1105,
    "start_time": "2021-10-14T16:29:11.558Z"
   },
   {
    "duration": 382,
    "start_time": "2021-10-14T16:29:12.665Z"
   },
   {
    "duration": 26,
    "start_time": "2021-10-14T16:29:13.050Z"
   },
   {
    "duration": 78,
    "start_time": "2021-10-14T16:29:13.078Z"
   },
   {
    "duration": 69,
    "start_time": "2021-10-14T16:29:13.158Z"
   },
   {
    "duration": 266,
    "start_time": "2021-10-14T16:29:13.229Z"
   },
   {
    "duration": 47,
    "start_time": "2021-10-14T16:29:13.496Z"
   },
   {
    "duration": 415,
    "start_time": "2021-10-14T16:29:13.544Z"
   },
   {
    "duration": 871,
    "start_time": "2021-10-14T16:30:01.739Z"
   },
   {
    "duration": 879,
    "start_time": "2021-10-14T16:31:56.298Z"
   },
   {
    "duration": 937,
    "start_time": "2021-10-14T16:32:11.140Z"
   },
   {
    "duration": 1255,
    "start_time": "2021-10-14T16:33:18.238Z"
   },
   {
    "duration": 3,
    "start_time": "2021-10-14T16:36:27.850Z"
   },
   {
    "duration": 1917,
    "start_time": "2021-10-14T16:36:59.261Z"
   },
   {
    "duration": 347,
    "start_time": "2021-10-14T16:37:06.032Z"
   },
   {
    "duration": 4,
    "start_time": "2021-10-14T16:37:12.803Z"
   },
   {
    "duration": 4,
    "start_time": "2021-10-14T16:37:18.699Z"
   },
   {
    "duration": 31,
    "start_time": "2021-10-14T16:42:57.182Z"
   },
   {
    "duration": 506,
    "start_time": "2021-10-14T16:43:30.439Z"
   },
   {
    "duration": 3,
    "start_time": "2021-10-14T16:43:35.833Z"
   },
   {
    "duration": 28,
    "start_time": "2021-10-14T16:45:09.739Z"
   },
   {
    "duration": 28,
    "start_time": "2021-10-14T16:45:17.548Z"
   },
   {
    "duration": 28,
    "start_time": "2021-10-14T16:45:31.952Z"
   },
   {
    "duration": 28,
    "start_time": "2021-10-14T16:45:37.730Z"
   },
   {
    "duration": 31,
    "start_time": "2021-10-14T16:46:42.732Z"
   },
   {
    "duration": 31,
    "start_time": "2021-10-14T16:47:48.863Z"
   },
   {
    "duration": 109,
    "start_time": "2021-10-14T16:47:59.462Z"
   },
   {
    "duration": 3,
    "start_time": "2021-10-14T16:48:05.034Z"
   },
   {
    "duration": 316,
    "start_time": "2021-10-14T16:48:14.525Z"
   },
   {
    "duration": 330,
    "start_time": "2021-10-14T16:48:34.593Z"
   },
   {
    "duration": 508,
    "start_time": "2021-10-14T16:48:40.024Z"
   },
   {
    "duration": 153,
    "start_time": "2021-10-14T16:49:09.569Z"
   },
   {
    "duration": 169,
    "start_time": "2021-10-14T16:50:21.569Z"
   },
   {
    "duration": 11,
    "start_time": "2021-10-14T16:50:52.880Z"
   },
   {
    "duration": 11,
    "start_time": "2021-10-14T16:51:04.210Z"
   },
   {
    "duration": 3,
    "start_time": "2021-10-14T16:51:14.493Z"
   },
   {
    "duration": 1241,
    "start_time": "2021-10-14T16:51:41.567Z"
   },
   {
    "duration": 187,
    "start_time": "2021-10-14T16:51:42.890Z"
   },
   {
    "duration": 4,
    "start_time": "2021-10-14T16:52:00.536Z"
   },
   {
    "duration": 4,
    "start_time": "2021-10-14T16:52:16.302Z"
   },
   {
    "duration": 4,
    "start_time": "2021-10-14T16:52:22.494Z"
   },
   {
    "duration": 240,
    "start_time": "2021-10-14T16:52:23.188Z"
   },
   {
    "duration": 1175,
    "start_time": "2021-10-14T16:52:36.580Z"
   },
   {
    "duration": 35,
    "start_time": "2021-10-14T16:52:41.547Z"
   },
   {
    "duration": 164,
    "start_time": "2021-10-14T16:52:50.939Z"
   },
   {
    "duration": 193,
    "start_time": "2021-10-14T16:55:55.287Z"
   },
   {
    "duration": 195,
    "start_time": "2021-10-14T16:57:16.276Z"
   },
   {
    "duration": 187,
    "start_time": "2021-10-14T16:57:22.984Z"
   },
   {
    "duration": 190,
    "start_time": "2021-10-14T16:57:45.850Z"
   },
   {
    "duration": 187,
    "start_time": "2021-10-14T16:57:51.598Z"
   },
   {
    "duration": 186,
    "start_time": "2021-10-14T16:58:10.841Z"
   },
   {
    "duration": 210,
    "start_time": "2021-10-14T16:58:44.082Z"
   },
   {
    "duration": 197,
    "start_time": "2021-10-14T16:59:45.948Z"
   },
   {
    "duration": 201,
    "start_time": "2021-10-14T17:00:35.564Z"
   },
   {
    "duration": 42,
    "start_time": "2021-10-14T17:01:03.940Z"
   },
   {
    "duration": 38,
    "start_time": "2021-10-14T17:01:09.740Z"
   },
   {
    "duration": 291,
    "start_time": "2021-10-14T17:02:00.552Z"
   },
   {
    "duration": 67,
    "start_time": "2021-10-14T17:06:57.811Z"
   },
   {
    "duration": 38,
    "start_time": "2021-10-14T17:07:00.321Z"
   },
   {
    "duration": 238,
    "start_time": "2021-10-14T17:07:01.345Z"
   },
   {
    "duration": 208,
    "start_time": "2021-10-14T17:07:46.769Z"
   },
   {
    "duration": 204,
    "start_time": "2021-10-14T17:07:51.167Z"
   },
   {
    "duration": 250,
    "start_time": "2021-10-14T17:08:15.351Z"
   },
   {
    "duration": 235,
    "start_time": "2021-10-14T17:08:23.676Z"
   },
   {
    "duration": 555,
    "start_time": "2021-10-14T17:08:57.005Z"
   },
   {
    "duration": 384,
    "start_time": "2021-10-14T17:09:05.092Z"
   },
   {
    "duration": 362,
    "start_time": "2021-10-14T17:09:11.640Z"
   },
   {
    "duration": 224,
    "start_time": "2021-10-14T17:09:19.155Z"
   },
   {
    "duration": 300,
    "start_time": "2021-10-14T17:09:26.007Z"
   },
   {
    "duration": 217,
    "start_time": "2021-10-14T17:09:33.488Z"
   },
   {
    "duration": 1690,
    "start_time": "2021-10-14T17:10:25.143Z"
   },
   {
    "duration": 3047,
    "start_time": "2021-10-14T17:10:47.490Z"
   },
   {
    "duration": 3,
    "start_time": "2021-10-14T17:12:52.062Z"
   },
   {
    "duration": 1055,
    "start_time": "2021-10-14T17:14:33.001Z"
   },
   {
    "duration": 373,
    "start_time": "2021-10-14T17:14:34.058Z"
   },
   {
    "duration": 18,
    "start_time": "2021-10-14T17:14:34.433Z"
   },
   {
    "duration": 76,
    "start_time": "2021-10-14T17:14:34.453Z"
   },
   {
    "duration": 62,
    "start_time": "2021-10-14T17:14:34.531Z"
   },
   {
    "duration": 275,
    "start_time": "2021-10-14T17:14:34.595Z"
   },
   {
    "duration": 87,
    "start_time": "2021-10-14T17:14:34.877Z"
   },
   {
    "duration": 103,
    "start_time": "2021-10-14T17:14:34.976Z"
   },
   {
    "duration": 352,
    "start_time": "2021-10-14T17:14:35.082Z"
   },
   {
    "duration": 240,
    "start_time": "2021-10-14T17:15:12.955Z"
   },
   {
    "duration": 1145,
    "start_time": "2021-10-14T17:15:42.021Z"
   },
   {
    "duration": 393,
    "start_time": "2021-10-14T17:15:43.168Z"
   },
   {
    "duration": 17,
    "start_time": "2021-10-14T17:15:43.563Z"
   },
   {
    "duration": 84,
    "start_time": "2021-10-14T17:15:43.582Z"
   },
   {
    "duration": 63,
    "start_time": "2021-10-14T17:15:43.667Z"
   },
   {
    "duration": 305,
    "start_time": "2021-10-14T17:15:43.732Z"
   },
   {
    "duration": 212,
    "start_time": "2021-10-14T17:15:44.039Z"
   },
   {
    "duration": 274,
    "start_time": "2021-10-14T17:15:44.252Z"
   },
   {
    "duration": 57,
    "start_time": "2021-10-14T17:15:44.528Z"
   },
   {
    "duration": 333,
    "start_time": "2021-10-14T17:15:44.678Z"
   },
   {
    "duration": 45,
    "start_time": "2021-10-14T17:16:01.571Z"
   },
   {
    "duration": 33,
    "start_time": "2021-10-14T17:16:05.007Z"
   },
   {
    "duration": 222,
    "start_time": "2021-10-14T17:16:06.411Z"
   },
   {
    "duration": 31,
    "start_time": "2021-10-14T17:17:55.133Z"
   },
   {
    "duration": 1414,
    "start_time": "2021-10-14T17:21:05.052Z"
   },
   {
    "duration": 342,
    "start_time": "2021-10-14T17:21:29.181Z"
   },
   {
    "duration": 330,
    "start_time": "2021-10-14T17:22:11.315Z"
   },
   {
    "duration": 1042,
    "start_time": "2021-10-14T17:22:36.952Z"
   },
   {
    "duration": 988,
    "start_time": "2021-10-14T17:23:03.601Z"
   },
   {
    "duration": 392,
    "start_time": "2021-10-14T17:23:34.447Z"
   },
   {
    "duration": 1029,
    "start_time": "2021-10-14T17:23:37.863Z"
   },
   {
    "duration": 1071,
    "start_time": "2021-10-14T17:23:51.020Z"
   },
   {
    "duration": 223,
    "start_time": "2021-10-14T17:25:23.339Z"
   },
   {
    "duration": 228,
    "start_time": "2021-10-14T17:25:35.303Z"
   },
   {
    "duration": 303,
    "start_time": "2021-10-14T17:25:38.640Z"
   },
   {
    "duration": 232,
    "start_time": "2021-10-14T17:25:42.698Z"
   },
   {
    "duration": 11,
    "start_time": "2021-10-14T18:39:29.154Z"
   },
   {
    "duration": 743,
    "start_time": "2021-10-14T18:42:25.679Z"
   },
   {
    "duration": 347,
    "start_time": "2021-10-14T18:42:34.729Z"
   },
   {
    "duration": 5,
    "start_time": "2021-10-14T18:42:44.426Z"
   },
   {
    "duration": 4,
    "start_time": "2021-10-14T18:42:48.629Z"
   },
   {
    "duration": 7,
    "start_time": "2021-10-14T18:43:21.322Z"
   },
   {
    "duration": 4,
    "start_time": "2021-10-14T18:43:29.956Z"
   },
   {
    "duration": 4,
    "start_time": "2021-10-14T18:43:35.730Z"
   },
   {
    "duration": 4,
    "start_time": "2021-10-14T18:43:39.815Z"
   },
   {
    "duration": 4,
    "start_time": "2021-10-14T18:44:00.233Z"
   },
   {
    "duration": 4,
    "start_time": "2021-10-14T18:44:07.613Z"
   },
   {
    "duration": 4,
    "start_time": "2021-10-14T18:44:19.131Z"
   },
   {
    "duration": 8,
    "start_time": "2021-10-14T18:44:27.673Z"
   },
   {
    "duration": 3,
    "start_time": "2021-10-14T18:51:25.404Z"
   },
   {
    "duration": 4,
    "start_time": "2021-10-14T18:51:28.964Z"
   },
   {
    "duration": 328,
    "start_time": "2021-10-14T18:52:26.334Z"
   },
   {
    "duration": 3,
    "start_time": "2021-10-14T18:52:29.098Z"
   },
   {
    "duration": 3,
    "start_time": "2021-10-14T18:55:30.820Z"
   },
   {
    "duration": 4,
    "start_time": "2021-10-14T18:55:34.847Z"
   },
   {
    "duration": 5,
    "start_time": "2021-10-14T18:58:38.912Z"
   },
   {
    "duration": 5,
    "start_time": "2021-10-14T18:58:44.564Z"
   },
   {
    "duration": 6,
    "start_time": "2021-10-14T18:59:20.155Z"
   },
   {
    "duration": 5,
    "start_time": "2021-10-14T18:59:23.681Z"
   },
   {
    "duration": 5,
    "start_time": "2021-10-14T19:07:23.421Z"
   },
   {
    "duration": 3,
    "start_time": "2021-10-14T19:14:54.993Z"
   },
   {
    "duration": 4,
    "start_time": "2021-10-14T19:15:44.070Z"
   },
   {
    "duration": 4,
    "start_time": "2021-10-14T19:15:49.590Z"
   },
   {
    "duration": 3,
    "start_time": "2021-10-14T19:15:52.116Z"
   },
   {
    "duration": 4,
    "start_time": "2021-10-14T19:15:56.112Z"
   },
   {
    "duration": 347,
    "start_time": "2021-10-14T19:16:23.702Z"
   },
   {
    "duration": 3,
    "start_time": "2021-10-14T19:16:28.279Z"
   },
   {
    "duration": 3,
    "start_time": "2021-10-14T19:17:03.782Z"
   },
   {
    "duration": 342,
    "start_time": "2021-10-14T19:17:09.800Z"
   },
   {
    "duration": 4,
    "start_time": "2021-10-14T19:17:15.800Z"
   },
   {
    "duration": 5,
    "start_time": "2021-10-14T19:17:25.590Z"
   },
   {
    "duration": 338,
    "start_time": "2021-10-14T19:17:25.884Z"
   },
   {
    "duration": 458,
    "start_time": "2021-10-14T19:17:48.209Z"
   },
   {
    "duration": 4,
    "start_time": "2021-10-14T19:17:59.313Z"
   },
   {
    "duration": 3,
    "start_time": "2021-10-14T19:18:03.714Z"
   },
   {
    "duration": 6,
    "start_time": "2021-10-14T19:18:09.831Z"
   },
   {
    "duration": 1376,
    "start_time": "2021-10-14T19:18:17.370Z"
   },
   {
    "duration": 370,
    "start_time": "2021-10-14T19:18:18.748Z"
   },
   {
    "duration": 15,
    "start_time": "2021-10-14T19:18:19.120Z"
   },
   {
    "duration": 76,
    "start_time": "2021-10-14T19:18:19.137Z"
   },
   {
    "duration": 50,
    "start_time": "2021-10-14T19:18:19.214Z"
   },
   {
    "duration": 264,
    "start_time": "2021-10-14T19:18:19.265Z"
   },
   {
    "duration": 51,
    "start_time": "2021-10-14T19:18:19.531Z"
   },
   {
    "duration": 1011,
    "start_time": "2021-10-14T19:18:19.584Z"
   },
   {
    "duration": 331,
    "start_time": "2021-10-14T19:18:20.676Z"
   },
   {
    "duration": 7,
    "start_time": "2021-10-14T19:18:21.009Z"
   },
   {
    "duration": 9,
    "start_time": "2021-10-14T19:18:21.017Z"
   },
   {
    "duration": 21,
    "start_time": "2021-10-14T19:18:21.028Z"
   },
   {
    "duration": 4,
    "start_time": "2021-10-14T19:18:21.051Z"
   },
   {
    "duration": 4,
    "start_time": "2021-10-14T19:18:27.029Z"
   },
   {
    "duration": 474,
    "start_time": "2021-10-14T19:18:41.370Z"
   },
   {
    "duration": 12,
    "start_time": "2021-10-14T19:18:51.818Z"
   },
   {
    "duration": 4,
    "start_time": "2021-10-14T19:18:57.140Z"
   },
   {
    "duration": 13,
    "start_time": "2021-10-14T19:19:02.671Z"
   },
   {
    "duration": 4,
    "start_time": "2021-10-14T19:19:31.365Z"
   },
   {
    "duration": 3,
    "start_time": "2021-10-14T19:19:38.320Z"
   },
   {
    "duration": 10,
    "start_time": "2021-10-14T19:19:45.386Z"
   },
   {
    "duration": 15,
    "start_time": "2021-10-14T19:19:49.316Z"
   },
   {
    "duration": 4,
    "start_time": "2021-10-14T19:20:05.398Z"
   },
   {
    "duration": 15,
    "start_time": "2021-10-14T19:20:06.518Z"
   },
   {
    "duration": 12,
    "start_time": "2021-10-14T19:20:39.429Z"
   },
   {
    "duration": 10,
    "start_time": "2021-10-14T19:20:43.888Z"
   },
   {
    "duration": 4,
    "start_time": "2021-10-14T19:20:53.900Z"
   },
   {
    "duration": 3,
    "start_time": "2021-10-14T19:20:55.836Z"
   },
   {
    "duration": 1057,
    "start_time": "2021-10-14T19:21:04.993Z"
   },
   {
    "duration": 389,
    "start_time": "2021-10-14T19:21:06.052Z"
   },
   {
    "duration": 17,
    "start_time": "2021-10-14T19:21:06.443Z"
   },
   {
    "duration": 72,
    "start_time": "2021-10-14T19:21:06.463Z"
   },
   {
    "duration": 69,
    "start_time": "2021-10-14T19:21:06.537Z"
   },
   {
    "duration": 251,
    "start_time": "2021-10-14T19:21:06.608Z"
   },
   {
    "duration": 52,
    "start_time": "2021-10-14T19:21:06.861Z"
   },
   {
    "duration": 1162,
    "start_time": "2021-10-14T19:21:06.915Z"
   },
   {
    "duration": 330,
    "start_time": "2021-10-14T19:21:08.081Z"
   },
   {
    "duration": 11,
    "start_time": "2021-10-14T19:21:08.412Z"
   },
   {
    "duration": 422,
    "start_time": "2021-10-14T19:21:08.424Z"
   },
   {
    "duration": 1136,
    "start_time": "2021-10-14T19:21:07.712Z"
   },
   {
    "duration": 1134,
    "start_time": "2021-10-14T19:21:07.715Z"
   },
   {
    "duration": 336,
    "start_time": "2021-10-14T19:21:24.123Z"
   },
   {
    "duration": 7,
    "start_time": "2021-10-14T19:22:10.432Z"
   },
   {
    "duration": 10,
    "start_time": "2021-10-14T19:22:11.149Z"
   },
   {
    "duration": 326,
    "start_time": "2021-10-14T19:22:17.346Z"
   },
   {
    "duration": 3,
    "start_time": "2021-10-14T19:23:27.330Z"
   },
   {
    "duration": 352,
    "start_time": "2021-10-14T19:23:31.076Z"
   },
   {
    "duration": 367,
    "start_time": "2021-10-14T19:23:37.846Z"
   },
   {
    "duration": 491,
    "start_time": "2021-10-14T19:23:41.392Z"
   },
   {
    "duration": 3,
    "start_time": "2021-10-14T19:23:59.115Z"
   },
   {
    "duration": 7,
    "start_time": "2021-10-14T19:24:09.009Z"
   },
   {
    "duration": 6,
    "start_time": "2021-10-14T19:25:08.028Z"
   },
   {
    "duration": 8,
    "start_time": "2021-10-14T19:25:27.211Z"
   },
   {
    "duration": 6,
    "start_time": "2021-10-14T19:25:35.235Z"
   },
   {
    "duration": 7,
    "start_time": "2021-10-14T19:26:43.357Z"
   },
   {
    "duration": 6,
    "start_time": "2021-10-14T19:26:56.515Z"
   },
   {
    "duration": 4,
    "start_time": "2021-10-14T19:28:31.076Z"
   },
   {
    "duration": 4,
    "start_time": "2021-10-14T19:29:03.463Z"
   },
   {
    "duration": 5,
    "start_time": "2021-10-14T19:29:17.803Z"
   },
   {
    "duration": 4,
    "start_time": "2021-10-14T19:29:27.640Z"
   },
   {
    "duration": 5,
    "start_time": "2021-10-14T19:29:39.770Z"
   },
   {
    "duration": 5,
    "start_time": "2021-10-14T19:29:53.660Z"
   },
   {
    "duration": 4,
    "start_time": "2021-10-14T19:30:00.253Z"
   },
   {
    "duration": 4,
    "start_time": "2021-10-14T19:30:07.748Z"
   },
   {
    "duration": 4,
    "start_time": "2021-10-14T19:30:08.111Z"
   },
   {
    "duration": 5,
    "start_time": "2021-10-14T19:30:08.830Z"
   },
   {
    "duration": 5,
    "start_time": "2021-10-14T19:30:09.304Z"
   },
   {
    "duration": 7,
    "start_time": "2021-10-14T19:30:38.827Z"
   },
   {
    "duration": 8,
    "start_time": "2021-10-14T19:30:44.182Z"
   },
   {
    "duration": 9,
    "start_time": "2021-10-14T19:30:52.132Z"
   },
   {
    "duration": 6,
    "start_time": "2021-10-14T19:31:18.384Z"
   },
   {
    "duration": 5,
    "start_time": "2021-10-14T19:31:24.230Z"
   },
   {
    "duration": 5,
    "start_time": "2021-10-14T19:31:27.632Z"
   },
   {
    "duration": 7,
    "start_time": "2021-10-14T19:31:33.589Z"
   },
   {
    "duration": 3,
    "start_time": "2021-10-14T19:32:39.296Z"
   },
   {
    "duration": 4,
    "start_time": "2021-10-14T19:33:18.617Z"
   },
   {
    "duration": 7,
    "start_time": "2021-10-14T19:33:36.868Z"
   },
   {
    "duration": 5,
    "start_time": "2021-10-14T19:33:59.252Z"
   },
   {
    "duration": 4,
    "start_time": "2021-10-14T19:34:13.456Z"
   },
   {
    "duration": 4,
    "start_time": "2021-10-14T19:34:41.785Z"
   },
   {
    "duration": 5,
    "start_time": "2021-10-14T19:34:48.427Z"
   },
   {
    "duration": 158,
    "start_time": "2021-10-14T19:35:18.034Z"
   },
   {
    "duration": 196,
    "start_time": "2021-10-14T19:36:50.917Z"
   },
   {
    "duration": 192,
    "start_time": "2021-10-14T19:37:00.653Z"
   },
   {
    "duration": 546,
    "start_time": "2021-10-14T19:37:11.255Z"
   },
   {
    "duration": 583,
    "start_time": "2021-10-14T19:37:16.769Z"
   },
   {
    "duration": 192,
    "start_time": "2021-10-14T19:37:20.297Z"
   },
   {
    "duration": 216,
    "start_time": "2021-10-14T19:37:33.186Z"
   },
   {
    "duration": 224,
    "start_time": "2021-10-14T19:37:45.352Z"
   },
   {
    "duration": 216,
    "start_time": "2021-10-14T19:37:47.916Z"
   },
   {
    "duration": 222,
    "start_time": "2021-10-14T19:37:50.982Z"
   },
   {
    "duration": 232,
    "start_time": "2021-10-14T19:38:21.689Z"
   },
   {
    "duration": 240,
    "start_time": "2021-10-14T19:38:31.211Z"
   },
   {
    "duration": 231,
    "start_time": "2021-10-14T19:40:49.607Z"
   },
   {
    "duration": 248,
    "start_time": "2021-10-14T19:41:03.639Z"
   },
   {
    "duration": 251,
    "start_time": "2021-10-14T19:41:06.725Z"
   },
   {
    "duration": 237,
    "start_time": "2021-10-14T19:41:32.525Z"
   },
   {
    "duration": 241,
    "start_time": "2021-10-14T19:41:36.852Z"
   },
   {
    "duration": 377,
    "start_time": "2021-10-14T19:41:42.604Z"
   },
   {
    "duration": 235,
    "start_time": "2021-10-14T19:45:16.295Z"
   },
   {
    "duration": 4,
    "start_time": "2021-10-14T19:46:04.648Z"
   },
   {
    "duration": 4,
    "start_time": "2021-10-14T19:46:13.014Z"
   },
   {
    "duration": 3,
    "start_time": "2021-10-14T19:46:40.565Z"
   },
   {
    "duration": 237,
    "start_time": "2021-10-14T19:46:44.839Z"
   },
   {
    "duration": 1131,
    "start_time": "2021-10-14T19:46:50.669Z"
   },
   {
    "duration": 379,
    "start_time": "2021-10-14T19:46:51.802Z"
   },
   {
    "duration": 15,
    "start_time": "2021-10-14T19:46:52.184Z"
   },
   {
    "duration": 87,
    "start_time": "2021-10-14T19:46:52.201Z"
   },
   {
    "duration": 52,
    "start_time": "2021-10-14T19:46:52.289Z"
   },
   {
    "duration": 277,
    "start_time": "2021-10-14T19:46:52.343Z"
   },
   {
    "duration": 60,
    "start_time": "2021-10-14T19:46:52.622Z"
   },
   {
    "duration": 1009,
    "start_time": "2021-10-14T19:46:52.684Z"
   },
   {
    "duration": 399,
    "start_time": "2021-10-14T19:46:53.697Z"
   },
   {
    "duration": 7,
    "start_time": "2021-10-14T19:46:54.097Z"
   },
   {
    "duration": 11,
    "start_time": "2021-10-14T19:46:54.105Z"
   },
   {
    "duration": 252,
    "start_time": "2021-10-14T19:46:54.118Z"
   },
   {
    "duration": 3,
    "start_time": "2021-10-14T19:46:54.376Z"
   },
   {
    "duration": 403,
    "start_time": "2021-10-15T20:20:42.842Z"
   },
   {
    "duration": 449,
    "start_time": "2021-10-15T20:20:58.264Z"
   },
   {
    "duration": 1459,
    "start_time": "2021-10-15T20:21:06.155Z"
   },
   {
    "duration": 479,
    "start_time": "2021-10-15T20:21:07.616Z"
   },
   {
    "duration": 19,
    "start_time": "2021-10-15T20:21:08.099Z"
   },
   {
    "duration": 141,
    "start_time": "2021-10-15T20:21:08.121Z"
   },
   {
    "duration": 75,
    "start_time": "2021-10-15T20:21:08.264Z"
   },
   {
    "duration": 455,
    "start_time": "2021-10-15T20:21:08.342Z"
   },
   {
    "duration": 65,
    "start_time": "2021-10-15T20:21:08.799Z"
   },
   {
    "duration": 1090,
    "start_time": "2021-10-15T20:21:08.868Z"
   },
   {
    "duration": 508,
    "start_time": "2021-10-15T20:21:09.962Z"
   },
   {
    "duration": 11,
    "start_time": "2021-10-15T20:21:10.474Z"
   },
   {
    "duration": 9,
    "start_time": "2021-10-15T20:21:10.488Z"
   },
   {
    "duration": 458,
    "start_time": "2021-10-15T20:21:10.499Z"
   },
   {
    "duration": 5,
    "start_time": "2021-10-15T20:21:10.960Z"
   },
   {
    "duration": 600,
    "start_time": "2021-10-15T20:21:10.967Z"
   },
   {
    "duration": 403,
    "start_time": "2021-10-15T20:21:53.508Z"
   },
   {
    "duration": 1420,
    "start_time": "2021-10-15T20:22:59.156Z"
   },
   {
    "duration": 501,
    "start_time": "2021-10-15T20:23:00.578Z"
   },
   {
    "duration": 20,
    "start_time": "2021-10-15T20:23:01.082Z"
   },
   {
    "duration": 169,
    "start_time": "2021-10-15T20:23:01.104Z"
   },
   {
    "duration": 88,
    "start_time": "2021-10-15T20:23:01.275Z"
   },
   {
    "duration": 446,
    "start_time": "2021-10-15T20:23:01.366Z"
   },
   {
    "duration": 70,
    "start_time": "2021-10-15T20:23:01.816Z"
   },
   {
    "duration": 1169,
    "start_time": "2021-10-15T20:23:01.889Z"
   },
   {
    "duration": 497,
    "start_time": "2021-10-15T20:23:03.064Z"
   },
   {
    "duration": 10,
    "start_time": "2021-10-15T20:23:03.563Z"
   },
   {
    "duration": 36,
    "start_time": "2021-10-15T20:23:03.575Z"
   },
   {
    "duration": 411,
    "start_time": "2021-10-15T20:23:03.615Z"
   },
   {
    "duration": 6,
    "start_time": "2021-10-15T20:23:04.029Z"
   },
   {
    "duration": 1262,
    "start_time": "2021-10-15T20:23:04.038Z"
   },
   {
    "duration": 1227,
    "start_time": "2021-10-15T20:23:18.011Z"
   },
   {
    "duration": 1298,
    "start_time": "2021-10-15T20:23:26.863Z"
   },
   {
    "duration": 1232,
    "start_time": "2021-10-15T20:24:49.143Z"
   },
   {
    "duration": 1223,
    "start_time": "2021-10-15T20:25:03.138Z"
   },
   {
    "duration": 1223,
    "start_time": "2021-10-15T20:25:22.273Z"
   },
   {
    "duration": 1217,
    "start_time": "2021-10-15T20:25:42.919Z"
   },
   {
    "duration": 1209,
    "start_time": "2021-10-15T20:26:02.311Z"
   },
   {
    "duration": 1204,
    "start_time": "2021-10-15T20:30:16.886Z"
   },
   {
    "duration": 6,
    "start_time": "2021-10-15T20:53:15.631Z"
   },
   {
    "duration": 5,
    "start_time": "2021-10-15T20:53:21.023Z"
   },
   {
    "duration": 5,
    "start_time": "2021-10-15T20:53:23.998Z"
   },
   {
    "duration": 6,
    "start_time": "2021-10-15T20:53:44.735Z"
   },
   {
    "duration": 6,
    "start_time": "2021-10-15T20:54:10.309Z"
   },
   {
    "duration": 1274,
    "start_time": "2021-10-15T20:54:20.602Z"
   },
   {
    "duration": 1219,
    "start_time": "2021-10-15T20:54:27.711Z"
   },
   {
    "duration": 7,
    "start_time": "2021-10-15T20:54:48.359Z"
   },
   {
    "duration": 6,
    "start_time": "2021-10-15T20:54:56.555Z"
   },
   {
    "duration": 10,
    "start_time": "2021-10-15T20:55:58.847Z"
   },
   {
    "duration": 510,
    "start_time": "2021-10-15T20:56:06.041Z"
   },
   {
    "duration": 402,
    "start_time": "2021-10-15T20:56:10.575Z"
   },
   {
    "duration": 404,
    "start_time": "2021-10-15T20:56:14.989Z"
   },
   {
    "duration": 17,
    "start_time": "2021-10-15T20:56:18.558Z"
   },
   {
    "duration": 395,
    "start_time": "2021-10-15T20:56:25.526Z"
   },
   {
    "duration": 11,
    "start_time": "2021-10-15T20:56:49.849Z"
   },
   {
    "duration": 13,
    "start_time": "2021-10-15T20:56:54.330Z"
   },
   {
    "duration": 1489,
    "start_time": "2021-10-15T20:57:28.368Z"
   },
   {
    "duration": 504,
    "start_time": "2021-10-15T20:57:29.860Z"
   },
   {
    "duration": 20,
    "start_time": "2021-10-15T20:57:30.370Z"
   },
   {
    "duration": 173,
    "start_time": "2021-10-15T20:57:30.393Z"
   },
   {
    "duration": 89,
    "start_time": "2021-10-15T20:57:30.569Z"
   },
   {
    "duration": 467,
    "start_time": "2021-10-15T20:57:30.660Z"
   },
   {
    "duration": 69,
    "start_time": "2021-10-15T20:57:31.130Z"
   },
   {
    "duration": 1154,
    "start_time": "2021-10-15T20:57:31.203Z"
   },
   {
    "duration": 517,
    "start_time": "2021-10-15T20:57:32.361Z"
   },
   {
    "duration": 12,
    "start_time": "2021-10-15T20:57:32.881Z"
   },
   {
    "duration": 23,
    "start_time": "2021-10-15T20:57:32.896Z"
   },
   {
    "duration": 479,
    "start_time": "2021-10-15T20:57:32.922Z"
   },
   {
    "duration": 5,
    "start_time": "2021-10-15T20:57:33.403Z"
   },
   {
    "duration": 3677,
    "start_time": "2021-10-15T20:57:33.410Z"
   },
   {
    "duration": 12,
    "start_time": "2021-10-15T20:58:15.860Z"
   },
   {
    "duration": 13,
    "start_time": "2021-10-15T20:58:20.372Z"
   },
   {
    "duration": 10,
    "start_time": "2021-10-15T20:58:30.952Z"
   },
   {
    "duration": 3874,
    "start_time": "2021-10-15T20:59:24.587Z"
   },
   {
    "duration": 3651,
    "start_time": "2021-10-15T20:59:36.987Z"
   },
   {
    "duration": 1657,
    "start_time": "2021-10-15T21:00:15.337Z"
   },
   {
    "duration": 742,
    "start_time": "2021-10-15T21:00:16.998Z"
   },
   {
    "duration": 37,
    "start_time": "2021-10-15T21:00:17.744Z"
   },
   {
    "duration": 180,
    "start_time": "2021-10-15T21:00:17.785Z"
   },
   {
    "duration": 140,
    "start_time": "2021-10-15T21:00:17.968Z"
   },
   {
    "duration": 473,
    "start_time": "2021-10-15T21:00:18.111Z"
   },
   {
    "duration": 71,
    "start_time": "2021-10-15T21:00:18.586Z"
   },
   {
    "duration": 1024,
    "start_time": "2021-10-15T21:00:18.660Z"
   },
   {
    "duration": 575,
    "start_time": "2021-10-15T21:00:19.688Z"
   },
   {
    "duration": 11,
    "start_time": "2021-10-15T21:00:20.266Z"
   },
   {
    "duration": 11,
    "start_time": "2021-10-15T21:00:20.279Z"
   },
   {
    "duration": 486,
    "start_time": "2021-10-15T21:00:20.293Z"
   },
   {
    "duration": 6,
    "start_time": "2021-10-15T21:00:20.782Z"
   },
   {
    "duration": 4349,
    "start_time": "2021-10-15T21:00:20.790Z"
   },
   {
    "duration": 1935,
    "start_time": "2021-10-15T21:01:22.922Z"
   },
   {
    "duration": 529,
    "start_time": "2021-10-15T21:01:24.861Z"
   },
   {
    "duration": 21,
    "start_time": "2021-10-15T21:01:25.393Z"
   },
   {
    "duration": 182,
    "start_time": "2021-10-15T21:01:25.418Z"
   },
   {
    "duration": 88,
    "start_time": "2021-10-15T21:01:25.602Z"
   },
   {
    "duration": 454,
    "start_time": "2021-10-15T21:01:25.692Z"
   },
   {
    "duration": 56,
    "start_time": "2021-10-15T21:01:26.148Z"
   },
   {
    "duration": 1252,
    "start_time": "2021-10-15T21:01:26.206Z"
   },
   {
    "duration": 474,
    "start_time": "2021-10-15T21:01:27.461Z"
   },
   {
    "duration": 26,
    "start_time": "2021-10-15T21:01:27.937Z"
   },
   {
    "duration": 3,
    "start_time": "2021-10-15T21:01:27.965Z"
   },
   {
    "duration": 14,
    "start_time": "2021-10-15T21:01:27.970Z"
   },
   {
    "duration": 486,
    "start_time": "2021-10-15T21:01:27.987Z"
   },
   {
    "duration": 5,
    "start_time": "2021-10-15T21:01:28.476Z"
   },
   {
    "duration": 4274,
    "start_time": "2021-10-15T21:01:28.484Z"
   },
   {
    "duration": 1507,
    "start_time": "2021-10-15T21:02:42.063Z"
   },
   {
    "duration": 493,
    "start_time": "2021-10-15T21:02:43.574Z"
   },
   {
    "duration": 20,
    "start_time": "2021-10-15T21:02:44.071Z"
   },
   {
    "duration": 158,
    "start_time": "2021-10-15T21:02:44.094Z"
   },
   {
    "duration": 76,
    "start_time": "2021-10-15T21:02:44.254Z"
   },
   {
    "duration": 450,
    "start_time": "2021-10-15T21:02:44.332Z"
   },
   {
    "duration": 52,
    "start_time": "2021-10-15T21:02:44.784Z"
   },
   {
    "duration": 1045,
    "start_time": "2021-10-15T21:02:44.839Z"
   },
   {
    "duration": 505,
    "start_time": "2021-10-15T21:02:45.957Z"
   },
   {
    "duration": 3,
    "start_time": "2021-10-15T21:02:46.465Z"
   },
   {
    "duration": 16,
    "start_time": "2021-10-15T21:02:46.470Z"
   },
   {
    "duration": 10,
    "start_time": "2021-10-15T21:02:46.488Z"
   },
   {
    "duration": 461,
    "start_time": "2021-10-15T21:02:46.500Z"
   },
   {
    "duration": 5,
    "start_time": "2021-10-15T21:02:46.964Z"
   },
   {
    "duration": 4343,
    "start_time": "2021-10-15T21:02:46.972Z"
   },
   {
    "duration": 6,
    "start_time": "2021-10-15T21:03:41.564Z"
   },
   {
    "duration": 5,
    "start_time": "2021-10-15T21:03:45.807Z"
   },
   {
    "duration": 1215,
    "start_time": "2021-10-15T21:04:37.571Z"
   },
   {
    "duration": 1509,
    "start_time": "2021-10-16T09:35:49.015Z"
   },
   {
    "duration": 503,
    "start_time": "2021-10-16T09:35:50.527Z"
   },
   {
    "duration": 22,
    "start_time": "2021-10-16T09:35:51.033Z"
   },
   {
    "duration": 146,
    "start_time": "2021-10-16T09:35:51.058Z"
   },
   {
    "duration": 75,
    "start_time": "2021-10-16T09:35:51.207Z"
   },
   {
    "duration": 455,
    "start_time": "2021-10-16T09:35:51.284Z"
   },
   {
    "duration": 68,
    "start_time": "2021-10-16T09:35:51.741Z"
   },
   {
    "duration": 1090,
    "start_time": "2021-10-16T09:35:51.811Z"
   },
   {
    "duration": 603,
    "start_time": "2021-10-16T09:35:52.906Z"
   },
   {
    "duration": 3,
    "start_time": "2021-10-16T09:35:53.512Z"
   },
   {
    "duration": 14,
    "start_time": "2021-10-16T09:35:53.517Z"
   },
   {
    "duration": 8,
    "start_time": "2021-10-16T09:35:53.533Z"
   },
   {
    "duration": 468,
    "start_time": "2021-10-16T09:35:53.544Z"
   },
   {
    "duration": 5,
    "start_time": "2021-10-16T09:35:54.015Z"
   },
   {
    "duration": 4026,
    "start_time": "2021-10-16T09:35:54.022Z"
   },
   {
    "duration": 85,
    "start_time": "2021-10-16T09:37:06.626Z"
   },
   {
    "duration": 73,
    "start_time": "2021-10-16T09:37:16.323Z"
   },
   {
    "duration": 74,
    "start_time": "2021-10-16T09:37:19.659Z"
   },
   {
    "duration": 1094,
    "start_time": "2021-10-16T09:38:18.407Z"
   },
   {
    "duration": 6,
    "start_time": "2021-10-16T09:49:41.017Z"
   },
   {
    "duration": 3979,
    "start_time": "2021-10-16T09:57:50.958Z"
   },
   {
    "duration": 1482,
    "start_time": "2021-10-16T10:01:14.945Z"
   },
   {
    "duration": 508,
    "start_time": "2021-10-16T10:01:16.430Z"
   },
   {
    "duration": 21,
    "start_time": "2021-10-16T10:01:16.941Z"
   },
   {
    "duration": 155,
    "start_time": "2021-10-16T10:01:16.965Z"
   },
   {
    "duration": 97,
    "start_time": "2021-10-16T10:01:17.123Z"
   },
   {
    "duration": 453,
    "start_time": "2021-10-16T10:01:17.223Z"
   },
   {
    "duration": 63,
    "start_time": "2021-10-16T10:01:17.678Z"
   },
   {
    "duration": 1158,
    "start_time": "2021-10-16T10:01:17.743Z"
   },
   {
    "duration": 502,
    "start_time": "2021-10-16T10:01:18.907Z"
   },
   {
    "duration": 10,
    "start_time": "2021-10-16T10:01:19.412Z"
   },
   {
    "duration": 8,
    "start_time": "2021-10-16T10:01:19.424Z"
   },
   {
    "duration": 461,
    "start_time": "2021-10-16T10:01:19.434Z"
   },
   {
    "duration": 5,
    "start_time": "2021-10-16T10:01:19.901Z"
   },
   {
    "duration": 4045,
    "start_time": "2021-10-16T10:01:19.908Z"
   },
   {
    "duration": 163,
    "start_time": "2021-10-16T16:18:46.612Z"
   },
   {
    "duration": 412,
    "start_time": "2021-10-16T16:18:50.805Z"
   },
   {
    "duration": 1112,
    "start_time": "2021-10-16T16:18:55.735Z"
   },
   {
    "duration": 359,
    "start_time": "2021-10-16T16:18:56.849Z"
   },
   {
    "duration": 14,
    "start_time": "2021-10-16T16:18:57.210Z"
   },
   {
    "duration": 83,
    "start_time": "2021-10-16T16:18:57.226Z"
   },
   {
    "duration": 2,
    "start_time": "2021-10-16T16:18:57.311Z"
   },
   {
    "duration": 415,
    "start_time": "2021-10-16T16:18:57.314Z"
   },
   {
    "duration": 681,
    "start_time": "2021-10-16T16:19:13.181Z"
   },
   {
    "duration": 883,
    "start_time": "2021-10-16T16:19:29.989Z"
   },
   {
    "duration": 824,
    "start_time": "2021-10-16T16:20:09.370Z"
   },
   {
    "duration": 697,
    "start_time": "2021-10-16T16:20:38.464Z"
   },
   {
    "duration": 10,
    "start_time": "2021-10-16T16:23:07.625Z"
   },
   {
    "duration": 1660,
    "start_time": "2021-10-16T16:24:44.711Z"
   },
   {
    "duration": 4,
    "start_time": "2021-10-16T16:24:48.322Z"
   },
   {
    "duration": 379,
    "start_time": "2021-10-16T16:24:48.328Z"
   },
   {
    "duration": 13,
    "start_time": "2021-10-16T16:24:48.709Z"
   },
   {
    "duration": 73,
    "start_time": "2021-10-16T16:24:48.724Z"
   },
   {
    "duration": 3,
    "start_time": "2021-10-16T16:24:48.798Z"
   },
   {
    "duration": 703,
    "start_time": "2021-10-16T16:24:49.753Z"
   },
   {
    "duration": 826,
    "start_time": "2021-10-16T16:25:47.774Z"
   },
   {
    "duration": 3,
    "start_time": "2021-10-16T16:26:46.810Z"
   },
   {
    "duration": 4,
    "start_time": "2021-10-16T16:26:53.952Z"
   },
   {
    "duration": 4,
    "start_time": "2021-10-16T16:27:01.308Z"
   },
   {
    "duration": 43,
    "start_time": "2021-10-16T16:28:24.623Z"
   },
   {
    "duration": 3,
    "start_time": "2021-10-16T16:34:29.220Z"
   },
   {
    "duration": 414,
    "start_time": "2021-10-16T16:39:35.166Z"
   },
   {
    "duration": 355,
    "start_time": "2021-10-16T16:39:44.928Z"
   },
   {
    "duration": 2,
    "start_time": "2021-10-16T16:40:37.316Z"
   },
   {
    "duration": 3,
    "start_time": "2021-10-16T16:40:43.887Z"
   },
   {
    "duration": 4,
    "start_time": "2021-10-16T16:42:23.750Z"
   },
   {
    "duration": 103,
    "start_time": "2021-10-16T16:44:00.826Z"
   },
   {
    "duration": 575,
    "start_time": "2021-10-16T16:44:13.304Z"
   },
   {
    "duration": 778,
    "start_time": "2021-10-16T16:44:27.374Z"
   },
   {
    "duration": 743,
    "start_time": "2021-10-16T16:45:00.000Z"
   },
   {
    "duration": 428,
    "start_time": "2021-10-16T16:46:07.966Z"
   },
   {
    "duration": 409,
    "start_time": "2021-10-16T16:46:14.174Z"
   },
   {
    "duration": 10,
    "start_time": "2021-10-16T16:46:23.563Z"
   },
   {
    "duration": 809,
    "start_time": "2021-10-16T16:47:09.846Z"
   },
   {
    "duration": 733,
    "start_time": "2021-10-16T16:47:15.200Z"
   },
   {
    "duration": 842,
    "start_time": "2021-10-16T16:47:20.650Z"
   },
   {
    "duration": 738,
    "start_time": "2021-10-16T16:47:31.183Z"
   },
   {
    "duration": 604,
    "start_time": "2021-10-16T16:56:17.289Z"
   },
   {
    "duration": 3,
    "start_time": "2021-10-16T16:56:22.427Z"
   },
   {
    "duration": 375,
    "start_time": "2021-10-16T16:56:22.432Z"
   },
   {
    "duration": 14,
    "start_time": "2021-10-16T16:56:22.809Z"
   },
   {
    "duration": 72,
    "start_time": "2021-10-16T16:56:22.825Z"
   },
   {
    "duration": 3,
    "start_time": "2021-10-16T16:56:22.899Z"
   },
   {
    "duration": 816,
    "start_time": "2021-10-16T16:56:22.903Z"
   },
   {
    "duration": 3,
    "start_time": "2021-10-16T16:56:23.721Z"
   },
   {
    "duration": 363,
    "start_time": "2021-10-16T16:56:23.726Z"
   },
   {
    "duration": 937,
    "start_time": "2021-10-16T16:56:24.091Z"
   },
   {
    "duration": 347,
    "start_time": "2021-10-16T16:56:25.029Z"
   },
   {
    "duration": 864,
    "start_time": "2021-10-16T16:56:24.515Z"
   },
   {
    "duration": 5,
    "start_time": "2021-10-16T16:56:49.954Z"
   },
   {
    "duration": 237,
    "start_time": "2021-10-16T16:56:54.304Z"
   },
   {
    "duration": 247,
    "start_time": "2021-10-16T16:57:03.600Z"
   },
   {
    "duration": 3,
    "start_time": "2021-10-16T17:03:37.898Z"
   },
   {
    "duration": 4,
    "start_time": "2021-10-16T17:03:43.624Z"
   },
   {
    "duration": 3,
    "start_time": "2021-10-16T17:03:46.385Z"
   },
   {
    "duration": 3,
    "start_time": "2021-10-16T17:03:53.614Z"
   },
   {
    "duration": 4,
    "start_time": "2021-10-16T17:04:20.872Z"
   },
   {
    "duration": 411,
    "start_time": "2021-10-16T17:04:21.670Z"
   },
   {
    "duration": 3,
    "start_time": "2021-10-16T17:04:23.872Z"
   },
   {
    "duration": 3,
    "start_time": "2021-10-16T17:04:24.264Z"
   },
   {
    "duration": 3,
    "start_time": "2021-10-16T17:04:31.876Z"
   },
   {
    "duration": 356,
    "start_time": "2021-10-16T17:04:31.880Z"
   },
   {
    "duration": 14,
    "start_time": "2021-10-16T17:04:32.239Z"
   },
   {
    "duration": 77,
    "start_time": "2021-10-16T17:04:32.255Z"
   },
   {
    "duration": 3,
    "start_time": "2021-10-16T17:04:32.334Z"
   },
   {
    "duration": 804,
    "start_time": "2021-10-16T17:04:32.339Z"
   },
   {
    "duration": 4,
    "start_time": "2021-10-16T17:04:33.145Z"
   },
   {
    "duration": 339,
    "start_time": "2021-10-16T17:04:33.152Z"
   },
   {
    "duration": 1019,
    "start_time": "2021-10-16T17:04:33.493Z"
   },
   {
    "duration": 7,
    "start_time": "2021-10-16T17:04:34.514Z"
   },
   {
    "duration": 278,
    "start_time": "2021-10-16T17:04:34.523Z"
   },
   {
    "duration": 3,
    "start_time": "2021-10-16T17:04:39.695Z"
   },
   {
    "duration": 5,
    "start_time": "2021-10-16T17:05:29.439Z"
   },
   {
    "duration": 3,
    "start_time": "2021-10-16T17:05:35.610Z"
   },
   {
    "duration": 1114,
    "start_time": "2021-10-16T17:05:47.737Z"
   },
   {
    "duration": 359,
    "start_time": "2021-10-16T17:05:48.853Z"
   },
   {
    "duration": 14,
    "start_time": "2021-10-16T17:05:49.214Z"
   },
   {
    "duration": 81,
    "start_time": "2021-10-16T17:05:49.230Z"
   },
   {
    "duration": 3,
    "start_time": "2021-10-16T17:05:49.313Z"
   },
   {
    "duration": 707,
    "start_time": "2021-10-16T17:05:49.318Z"
   },
   {
    "duration": 4,
    "start_time": "2021-10-16T17:05:50.028Z"
   },
   {
    "duration": 448,
    "start_time": "2021-10-16T17:05:50.034Z"
   },
   {
    "duration": 927,
    "start_time": "2021-10-16T17:05:50.485Z"
   },
   {
    "duration": 6,
    "start_time": "2021-10-16T17:05:51.414Z"
   },
   {
    "duration": 332,
    "start_time": "2021-10-16T17:05:51.421Z"
   },
   {
    "duration": 3,
    "start_time": "2021-10-16T17:05:51.755Z"
   },
   {
    "duration": 2274,
    "start_time": "2021-10-16T17:05:51.760Z"
   },
   {
    "duration": 2197,
    "start_time": "2021-10-16T17:10:52.870Z"
   },
   {
    "duration": 4,
    "start_time": "2021-10-16T17:11:08.201Z"
   },
   {
    "duration": 3,
    "start_time": "2021-10-16T17:13:07.733Z"
   },
   {
    "duration": 1394,
    "start_time": "2021-10-16T17:13:14.260Z"
   },
   {
    "duration": 496,
    "start_time": "2021-10-16T17:13:15.656Z"
   },
   {
    "duration": 27,
    "start_time": "2021-10-16T17:13:16.157Z"
   },
   {
    "duration": 99,
    "start_time": "2021-10-16T17:13:16.187Z"
   },
   {
    "duration": 2,
    "start_time": "2021-10-16T17:13:16.289Z"
   },
   {
    "duration": 916,
    "start_time": "2021-10-16T17:13:16.293Z"
   },
   {
    "duration": 6,
    "start_time": "2021-10-16T17:13:17.211Z"
   },
   {
    "duration": 365,
    "start_time": "2021-10-16T17:13:17.220Z"
   },
   {
    "duration": 950,
    "start_time": "2021-10-16T17:13:17.588Z"
   },
   {
    "duration": 7,
    "start_time": "2021-10-16T17:13:18.540Z"
   },
   {
    "duration": 491,
    "start_time": "2021-10-16T17:13:18.549Z"
   },
   {
    "duration": 5,
    "start_time": "2021-10-16T17:13:19.042Z"
   },
   {
    "duration": 434,
    "start_time": "2021-10-16T17:13:19.048Z"
   },
   {
    "duration": 5364,
    "start_time": "2021-10-16T17:13:46.243Z"
   },
   {
    "duration": 865,
    "start_time": "2021-10-16T17:14:21.056Z"
   },
   {
    "duration": 5,
    "start_time": "2021-10-16T17:14:39.628Z"
   },
   {
    "duration": 5,
    "start_time": "2021-10-16T17:14:44.667Z"
   },
   {
    "duration": 3,
    "start_time": "2021-10-16T17:16:00.769Z"
   },
   {
    "duration": 3989,
    "start_time": "2021-10-16T17:16:03.818Z"
   },
   {
    "duration": 379,
    "start_time": "2021-10-16T17:16:43.628Z"
   },
   {
    "duration": 10,
    "start_time": "2021-10-16T17:16:49.348Z"
   },
   {
    "duration": 5,
    "start_time": "2021-10-16T17:18:55.354Z"
   },
   {
    "duration": 629,
    "start_time": "2021-10-16T17:19:01.090Z"
   },
   {
    "duration": 606,
    "start_time": "2021-10-16T17:19:15.335Z"
   },
   {
    "duration": 121,
    "start_time": "2021-10-16T17:19:46.650Z"
   },
   {
    "duration": 356,
    "start_time": "2021-10-16T17:19:49.094Z"
   },
   {
    "duration": 6,
    "start_time": "2021-10-16T17:20:40.471Z"
   },
   {
    "duration": 1109,
    "start_time": "2021-10-16T17:22:53.335Z"
   },
   {
    "duration": 363,
    "start_time": "2021-10-16T17:22:54.446Z"
   },
   {
    "duration": 14,
    "start_time": "2021-10-16T17:22:54.811Z"
   },
   {
    "duration": 77,
    "start_time": "2021-10-16T17:22:54.827Z"
   },
   {
    "duration": 2,
    "start_time": "2021-10-16T17:22:54.906Z"
   },
   {
    "duration": 748,
    "start_time": "2021-10-16T17:22:54.909Z"
   },
   {
    "duration": 4,
    "start_time": "2021-10-16T17:22:55.659Z"
   },
   {
    "duration": 323,
    "start_time": "2021-10-16T17:22:55.665Z"
   },
   {
    "duration": 948,
    "start_time": "2021-10-16T17:22:55.990Z"
   },
   {
    "duration": 5,
    "start_time": "2021-10-16T17:22:56.940Z"
   },
   {
    "duration": 345,
    "start_time": "2021-10-16T17:22:56.947Z"
   },
   {
    "duration": 4,
    "start_time": "2021-10-16T17:22:57.293Z"
   },
   {
    "duration": 4323,
    "start_time": "2021-10-16T17:22:57.299Z"
   },
   {
    "duration": 1124,
    "start_time": "2021-10-16T17:53:01.685Z"
   },
   {
    "duration": 362,
    "start_time": "2021-10-16T17:53:02.811Z"
   },
   {
    "duration": 15,
    "start_time": "2021-10-16T17:53:03.176Z"
   },
   {
    "duration": 72,
    "start_time": "2021-10-16T17:53:03.193Z"
   },
   {
    "duration": 2,
    "start_time": "2021-10-16T17:53:03.276Z"
   },
   {
    "duration": 706,
    "start_time": "2021-10-16T17:53:03.280Z"
   },
   {
    "duration": 4,
    "start_time": "2021-10-16T17:53:03.987Z"
   },
   {
    "duration": 389,
    "start_time": "2021-10-16T17:53:03.993Z"
   },
   {
    "duration": 936,
    "start_time": "2021-10-16T17:53:04.386Z"
   },
   {
    "duration": 7,
    "start_time": "2021-10-16T17:53:05.324Z"
   },
   {
    "duration": 352,
    "start_time": "2021-10-16T17:53:05.332Z"
   },
   {
    "duration": 4,
    "start_time": "2021-10-16T17:53:05.686Z"
   },
   {
    "duration": 4012,
    "start_time": "2021-10-16T17:53:05.692Z"
   },
   {
    "duration": 6,
    "start_time": "2021-10-16T17:54:49.906Z"
   },
   {
    "duration": 6,
    "start_time": "2021-10-16T17:54:54.664Z"
   },
   {
    "duration": 1089,
    "start_time": "2021-10-16T17:59:13.567Z"
   },
   {
    "duration": 369,
    "start_time": "2021-10-16T17:59:14.657Z"
   },
   {
    "duration": 16,
    "start_time": "2021-10-16T17:59:15.029Z"
   },
   {
    "duration": 78,
    "start_time": "2021-10-16T17:59:15.048Z"
   },
   {
    "duration": 717,
    "start_time": "2021-10-16T17:59:15.129Z"
   },
   {
    "duration": 4,
    "start_time": "2021-10-16T17:59:15.848Z"
   },
   {
    "duration": 338,
    "start_time": "2021-10-16T17:59:15.854Z"
   },
   {
    "duration": 953,
    "start_time": "2021-10-16T17:59:16.194Z"
   },
   {
    "duration": 6,
    "start_time": "2021-10-16T17:59:17.149Z"
   },
   {
    "duration": 350,
    "start_time": "2021-10-16T17:59:17.157Z"
   },
   {
    "duration": 4,
    "start_time": "2021-10-16T17:59:17.509Z"
   },
   {
    "duration": 4203,
    "start_time": "2021-10-16T17:59:17.515Z"
   },
   {
    "duration": 10,
    "start_time": "2021-10-16T18:00:05.229Z"
   },
   {
    "duration": 1100,
    "start_time": "2021-10-16T18:00:12.963Z"
   },
   {
    "duration": 360,
    "start_time": "2021-10-16T18:00:14.064Z"
   },
   {
    "duration": 14,
    "start_time": "2021-10-16T18:00:14.426Z"
   },
   {
    "duration": 82,
    "start_time": "2021-10-16T18:00:14.442Z"
   },
   {
    "duration": 712,
    "start_time": "2021-10-16T18:00:14.526Z"
   },
   {
    "duration": 4,
    "start_time": "2021-10-16T18:00:15.240Z"
   },
   {
    "duration": 442,
    "start_time": "2021-10-16T18:00:15.246Z"
   },
   {
    "duration": 902,
    "start_time": "2021-10-16T18:00:15.691Z"
   },
   {
    "duration": 6,
    "start_time": "2021-10-16T18:00:16.596Z"
   },
   {
    "duration": 331,
    "start_time": "2021-10-16T18:00:16.603Z"
   },
   {
    "duration": 4,
    "start_time": "2021-10-16T18:00:16.935Z"
   },
   {
    "duration": 3877,
    "start_time": "2021-10-16T18:00:16.940Z"
   }
  ],
  "kernelspec": {
   "display_name": "Python 3 (ipykernel)",
   "language": "python",
   "name": "python3"
  },
  "language_info": {
   "codemirror_mode": {
    "name": "ipython",
    "version": 3
   },
   "file_extension": ".py",
   "mimetype": "text/x-python",
   "name": "python",
   "nbconvert_exporter": "python",
   "pygments_lexer": "ipython3",
   "version": "3.7.6"
  },
  "toc": {
   "base_numbering": 1,
   "nav_menu": {},
   "number_sections": true,
   "sideBar": true,
   "skip_h1_title": true,
   "title_cell": "Table of Contents",
   "title_sidebar": "Contents",
   "toc_cell": false,
   "toc_position": {},
   "toc_section_display": true,
   "toc_window_display": false
  }
 },
 "nbformat": 4,
 "nbformat_minor": 2
}
