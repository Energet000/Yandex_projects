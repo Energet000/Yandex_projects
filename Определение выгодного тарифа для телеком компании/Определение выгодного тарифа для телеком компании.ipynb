{
 "cells": [
  {
   "cell_type": "markdown",
   "metadata": {},
   "source": [
    "# Описание проекта\n",
    "\n",
    "Вы аналитик компании «Мегалайн» — федерального оператора сотовой связи. Клиентам предлагают два тарифных плана: «Смарт» и «Ультра». Чтобы скорректировать рекламный бюджет, коммерческий департамент хочет понять, какой тариф приносит больше денег.\n",
    "\n",
    "Вам предстоит сделать предварительный анализ тарифов на небольшой выборке клиентов. В вашем распоряжении данные 500 пользователей «Мегалайна»: кто они, откуда, каким тарифом пользуются, сколько звонков и сообщений каждый отправил за 2018 год. Нужно проанализировать поведение клиентов и сделать вывод — какой тариф лучше."
   ]
  },
  {
   "cell_type": "markdown",
   "metadata": {},
   "source": [
    "# Описание тарифов\n",
    "\n",
    "**Тариф «Смарт»**\n",
    "\n",
    " - Ежемесячная плата: 550 рублей\n",
    "\n",
    " - Включено 500 минут разговора, 50 сообщений и 15 Гб интернет-трафика\n",
    "\n",
    " - Стоимость услуг сверх тарифного пакета: 1. минута разговора: 3 рубля («Мегалайн» всегда округляет вверх значения минут и мегабайтов. Если пользователь проговорил всего 1 секунду, в тарифе засчитывается целая минута); 2. сообщение: 3 рубля; 3. 1 Гб интернет-трафика: 200 рублей.\n",
    " \n",
    "**Тариф «Ультра»**\n",
    " \n",
    " - Ежемесячная плата: 1950 рублей\n",
    "\n",
    " - Включено 3000 минут разговора, 1000 сообщений и 30 Гб интернет-трафика\n",
    "\n",
    " - Стоимость услуг сверх тарифного пакета: 1. минута разговора: 1 рубль; 2. сообщение: 1 рубль; 3. 1 Гб интернет-трафика: 150 рублей."
   ]
  },
  {
   "cell_type": "markdown",
   "metadata": {},
   "source": [
    "# Примечание:\n",
    "\n",
    "«Мегалайн» всегда округляет секунды до минут, а мегабайты — до гигабайт. Каждый звонок округляется отдельно: даже если он длился всего 1 секунду, будет засчитан как 1 минута.\n",
    "Для веб-трафика отдельные сессии не считаются. Вместо этого общая сумма за месяц округляется в бо́льшую сторону. Если абонент использует 1025 мегабайт в этом месяце, с него возьмут плату за 2 гигабайта."
   ]
  },
  {
   "cell_type": "markdown",
   "metadata": {},
   "source": [
    "# Описание данных\n",
    "\n",
    "**Таблица users (информация о пользователях):**\n",
    "\n",
    " - user_id — уникальный идентификатор пользователя\n",
    " \n",
    " - first_name — имя пользователя\n",
    " \n",
    " - last_name — фамилия пользователя\n",
    " \n",
    " - age — возраст пользователя (годы)\n",
    " \n",
    " - reg_date — дата подключения тарифа (день, месяц, год)\n",
    " \n",
    " - churn_date — дата прекращения пользования тарифом (если значение пропущено, то тариф ещё действовал на момент выгрузки данных)\n",
    " \n",
    " - city — город проживания пользователя\n",
    " \n",
    " - tarif — название тарифного плана\n",
    " \n",
    "**Таблица calls (информация о звонках):**\n",
    "\n",
    " - id — уникальный номер звонка\n",
    " \n",
    " - call_date — дата звонка\n",
    " \n",
    " - duration — длительность звонка в минутах\n",
    " \n",
    " - user_id — идентификатор пользователя, сделавшего звонок\n",
    " \n",
    "**Таблица messages (информация о сообщениях):**\n",
    "\n",
    " - id — уникальный номер сообщения\n",
    " \n",
    " - message_date — дата сообщения\n",
    " \n",
    " - user_id — идентификатор пользователя, отправившего сообщение\n",
    " \n",
    "**Таблица internet (информация об интернет-сессиях):**\n",
    "\n",
    " - id — уникальный номер сессии\n",
    " \n",
    " - mb_used — объём потраченного за сессию интернет-трафика (в мегабайтах)\n",
    " \n",
    " - session_date — дата интернет-сессии\n",
    " \n",
    " - user_id — идентификатор пользователя\n",
    " \n",
    "**Таблица tariffs (информация о тарифах):**\n",
    "\n",
    " - tariff_name — название тарифа\n",
    " \n",
    " - rub_monthly_fee — ежемесячная абонентская плата в рублях\n",
    " \n",
    " - minutes_included — количество минут разговора в месяц, включённых в абонентскую плату\n",
    " \n",
    " - messages_included — количество сообщений в месяц, включённых в абонентскую плату\n",
    " \n",
    " - mb_per_month_included — объём интернет-трафика, включённого в абонентскую плату (в мегабайтах)\n",
    " \n",
    " - rub_per_minute — стоимость минуты разговора сверх тарифного пакета (например, если в тарифе 100 минут разговора в месяц, то со 101 минуты будет взиматься плата)\n",
    " \n",
    " - rub_per_message — стоимость отправки сообщения сверх тарифного пакета\n",
    " \n",
    " - rub_per_gb — стоимость дополнительного гигабайта интернет-трафика сверх тарифного пакета (1 гигабайт = 1024 мегабайта)"
   ]
  },
  {
   "cell_type": "markdown",
   "metadata": {},
   "source": [
    "## Изучение данных из файла"
   ]
  },
  {
   "cell_type": "code",
   "execution_count": 1,
   "metadata": {},
   "outputs": [],
   "source": [
    "# Импорт библиотек\n",
    "import pandas as pd\n",
    "import numpy as np\n",
    "from scipy import stats as st\n",
    "import seaborn as sns\n",
    "import matplotlib.pyplot as plt\n",
    "import math\n",
    "\n",
    "# Натсройка отображения чисел по умолчанию\n",
    "pd.set_option('display.float_format', '{:,.3f}'.format)"
   ]
  },
  {
   "cell_type": "code",
   "execution_count": 2,
   "metadata": {},
   "outputs": [],
   "source": [
    "# Загрузим все датасеты\n",
    "calls = pd.read_csv('/datasets/calls.csv')\n",
    "# Используем атрибут index_col, так как данные были неккоректно записаны в csv файл\n",
    "internet = pd.read_csv('/datasets/internet.csv', index_col=0)\n",
    "messages = pd.read_csv('/datasets/messages.csv')\n",
    "tariffs = pd.read_csv('/datasets/tariffs.csv')\n",
    "users = pd.read_csv('/datasets/users.csv')"
   ]
  },
  {
   "cell_type": "code",
   "execution_count": 3,
   "metadata": {},
   "outputs": [
    {
     "data": {
      "text/html": [
       "<div>\n",
       "<style scoped>\n",
       "    .dataframe tbody tr th:only-of-type {\n",
       "        vertical-align: middle;\n",
       "    }\n",
       "\n",
       "    .dataframe tbody tr th {\n",
       "        vertical-align: top;\n",
       "    }\n",
       "\n",
       "    .dataframe thead th {\n",
       "        text-align: right;\n",
       "    }\n",
       "</style>\n",
       "<table border=\"1\" class=\"dataframe\">\n",
       "  <thead>\n",
       "    <tr style=\"text-align: right;\">\n",
       "      <th></th>\n",
       "      <th>id</th>\n",
       "      <th>call_date</th>\n",
       "      <th>duration</th>\n",
       "      <th>user_id</th>\n",
       "    </tr>\n",
       "  </thead>\n",
       "  <tbody>\n",
       "    <tr>\n",
       "      <td>0</td>\n",
       "      <td>1000_0</td>\n",
       "      <td>2018-07-25</td>\n",
       "      <td>0.000</td>\n",
       "      <td>1000</td>\n",
       "    </tr>\n",
       "    <tr>\n",
       "      <td>1</td>\n",
       "      <td>1000_1</td>\n",
       "      <td>2018-08-17</td>\n",
       "      <td>0.000</td>\n",
       "      <td>1000</td>\n",
       "    </tr>\n",
       "    <tr>\n",
       "      <td>2</td>\n",
       "      <td>1000_2</td>\n",
       "      <td>2018-06-11</td>\n",
       "      <td>2.850</td>\n",
       "      <td>1000</td>\n",
       "    </tr>\n",
       "    <tr>\n",
       "      <td>3</td>\n",
       "      <td>1000_3</td>\n",
       "      <td>2018-09-21</td>\n",
       "      <td>13.800</td>\n",
       "      <td>1000</td>\n",
       "    </tr>\n",
       "    <tr>\n",
       "      <td>4</td>\n",
       "      <td>1000_4</td>\n",
       "      <td>2018-12-15</td>\n",
       "      <td>5.180</td>\n",
       "      <td>1000</td>\n",
       "    </tr>\n",
       "  </tbody>\n",
       "</table>\n",
       "</div>"
      ],
      "text/plain": [
       "       id   call_date  duration  user_id\n",
       "0  1000_0  2018-07-25     0.000     1000\n",
       "1  1000_1  2018-08-17     0.000     1000\n",
       "2  1000_2  2018-06-11     2.850     1000\n",
       "3  1000_3  2018-09-21    13.800     1000\n",
       "4  1000_4  2018-12-15     5.180     1000"
      ]
     },
     "metadata": {},
     "output_type": "display_data"
    },
    {
     "name": "stdout",
     "output_type": "stream",
     "text": [
      "\n"
     ]
    },
    {
     "data": {
      "text/html": [
       "<div>\n",
       "<style scoped>\n",
       "    .dataframe tbody tr th:only-of-type {\n",
       "        vertical-align: middle;\n",
       "    }\n",
       "\n",
       "    .dataframe tbody tr th {\n",
       "        vertical-align: top;\n",
       "    }\n",
       "\n",
       "    .dataframe thead th {\n",
       "        text-align: right;\n",
       "    }\n",
       "</style>\n",
       "<table border=\"1\" class=\"dataframe\">\n",
       "  <thead>\n",
       "    <tr style=\"text-align: right;\">\n",
       "      <th></th>\n",
       "      <th>id</th>\n",
       "      <th>mb_used</th>\n",
       "      <th>session_date</th>\n",
       "      <th>user_id</th>\n",
       "    </tr>\n",
       "  </thead>\n",
       "  <tbody>\n",
       "    <tr>\n",
       "      <td>0</td>\n",
       "      <td>1000_0</td>\n",
       "      <td>112.950</td>\n",
       "      <td>2018-11-25</td>\n",
       "      <td>1000</td>\n",
       "    </tr>\n",
       "    <tr>\n",
       "      <td>1</td>\n",
       "      <td>1000_1</td>\n",
       "      <td>1,052.810</td>\n",
       "      <td>2018-09-07</td>\n",
       "      <td>1000</td>\n",
       "    </tr>\n",
       "    <tr>\n",
       "      <td>2</td>\n",
       "      <td>1000_2</td>\n",
       "      <td>1,197.260</td>\n",
       "      <td>2018-06-25</td>\n",
       "      <td>1000</td>\n",
       "    </tr>\n",
       "    <tr>\n",
       "      <td>3</td>\n",
       "      <td>1000_3</td>\n",
       "      <td>550.270</td>\n",
       "      <td>2018-08-22</td>\n",
       "      <td>1000</td>\n",
       "    </tr>\n",
       "    <tr>\n",
       "      <td>4</td>\n",
       "      <td>1000_4</td>\n",
       "      <td>302.560</td>\n",
       "      <td>2018-09-24</td>\n",
       "      <td>1000</td>\n",
       "    </tr>\n",
       "  </tbody>\n",
       "</table>\n",
       "</div>"
      ],
      "text/plain": [
       "       id   mb_used session_date  user_id\n",
       "0  1000_0   112.950   2018-11-25     1000\n",
       "1  1000_1 1,052.810   2018-09-07     1000\n",
       "2  1000_2 1,197.260   2018-06-25     1000\n",
       "3  1000_3   550.270   2018-08-22     1000\n",
       "4  1000_4   302.560   2018-09-24     1000"
      ]
     },
     "metadata": {},
     "output_type": "display_data"
    },
    {
     "name": "stdout",
     "output_type": "stream",
     "text": [
      "\n"
     ]
    },
    {
     "data": {
      "text/html": [
       "<div>\n",
       "<style scoped>\n",
       "    .dataframe tbody tr th:only-of-type {\n",
       "        vertical-align: middle;\n",
       "    }\n",
       "\n",
       "    .dataframe tbody tr th {\n",
       "        vertical-align: top;\n",
       "    }\n",
       "\n",
       "    .dataframe thead th {\n",
       "        text-align: right;\n",
       "    }\n",
       "</style>\n",
       "<table border=\"1\" class=\"dataframe\">\n",
       "  <thead>\n",
       "    <tr style=\"text-align: right;\">\n",
       "      <th></th>\n",
       "      <th>id</th>\n",
       "      <th>message_date</th>\n",
       "      <th>user_id</th>\n",
       "    </tr>\n",
       "  </thead>\n",
       "  <tbody>\n",
       "    <tr>\n",
       "      <td>0</td>\n",
       "      <td>1000_0</td>\n",
       "      <td>2018-06-27</td>\n",
       "      <td>1000</td>\n",
       "    </tr>\n",
       "    <tr>\n",
       "      <td>1</td>\n",
       "      <td>1000_1</td>\n",
       "      <td>2018-10-08</td>\n",
       "      <td>1000</td>\n",
       "    </tr>\n",
       "    <tr>\n",
       "      <td>2</td>\n",
       "      <td>1000_2</td>\n",
       "      <td>2018-08-04</td>\n",
       "      <td>1000</td>\n",
       "    </tr>\n",
       "    <tr>\n",
       "      <td>3</td>\n",
       "      <td>1000_3</td>\n",
       "      <td>2018-06-16</td>\n",
       "      <td>1000</td>\n",
       "    </tr>\n",
       "    <tr>\n",
       "      <td>4</td>\n",
       "      <td>1000_4</td>\n",
       "      <td>2018-12-05</td>\n",
       "      <td>1000</td>\n",
       "    </tr>\n",
       "  </tbody>\n",
       "</table>\n",
       "</div>"
      ],
      "text/plain": [
       "       id message_date  user_id\n",
       "0  1000_0   2018-06-27     1000\n",
       "1  1000_1   2018-10-08     1000\n",
       "2  1000_2   2018-08-04     1000\n",
       "3  1000_3   2018-06-16     1000\n",
       "4  1000_4   2018-12-05     1000"
      ]
     },
     "metadata": {},
     "output_type": "display_data"
    },
    {
     "name": "stdout",
     "output_type": "stream",
     "text": [
      "\n"
     ]
    },
    {
     "data": {
      "text/html": [
       "<div>\n",
       "<style scoped>\n",
       "    .dataframe tbody tr th:only-of-type {\n",
       "        vertical-align: middle;\n",
       "    }\n",
       "\n",
       "    .dataframe tbody tr th {\n",
       "        vertical-align: top;\n",
       "    }\n",
       "\n",
       "    .dataframe thead th {\n",
       "        text-align: right;\n",
       "    }\n",
       "</style>\n",
       "<table border=\"1\" class=\"dataframe\">\n",
       "  <thead>\n",
       "    <tr style=\"text-align: right;\">\n",
       "      <th></th>\n",
       "      <th>messages_included</th>\n",
       "      <th>mb_per_month_included</th>\n",
       "      <th>minutes_included</th>\n",
       "      <th>rub_monthly_fee</th>\n",
       "      <th>rub_per_gb</th>\n",
       "      <th>rub_per_message</th>\n",
       "      <th>rub_per_minute</th>\n",
       "      <th>tariff_name</th>\n",
       "    </tr>\n",
       "  </thead>\n",
       "  <tbody>\n",
       "    <tr>\n",
       "      <td>0</td>\n",
       "      <td>50</td>\n",
       "      <td>15360</td>\n",
       "      <td>500</td>\n",
       "      <td>550</td>\n",
       "      <td>200</td>\n",
       "      <td>3</td>\n",
       "      <td>3</td>\n",
       "      <td>smart</td>\n",
       "    </tr>\n",
       "    <tr>\n",
       "      <td>1</td>\n",
       "      <td>1000</td>\n",
       "      <td>30720</td>\n",
       "      <td>3000</td>\n",
       "      <td>1950</td>\n",
       "      <td>150</td>\n",
       "      <td>1</td>\n",
       "      <td>1</td>\n",
       "      <td>ultra</td>\n",
       "    </tr>\n",
       "  </tbody>\n",
       "</table>\n",
       "</div>"
      ],
      "text/plain": [
       "   messages_included  mb_per_month_included  minutes_included  \\\n",
       "0                 50                  15360               500   \n",
       "1               1000                  30720              3000   \n",
       "\n",
       "   rub_monthly_fee  rub_per_gb  rub_per_message  rub_per_minute tariff_name  \n",
       "0              550         200                3               3       smart  \n",
       "1             1950         150                1               1       ultra  "
      ]
     },
     "metadata": {},
     "output_type": "display_data"
    },
    {
     "name": "stdout",
     "output_type": "stream",
     "text": [
      "\n"
     ]
    },
    {
     "data": {
      "text/html": [
       "<div>\n",
       "<style scoped>\n",
       "    .dataframe tbody tr th:only-of-type {\n",
       "        vertical-align: middle;\n",
       "    }\n",
       "\n",
       "    .dataframe tbody tr th {\n",
       "        vertical-align: top;\n",
       "    }\n",
       "\n",
       "    .dataframe thead th {\n",
       "        text-align: right;\n",
       "    }\n",
       "</style>\n",
       "<table border=\"1\" class=\"dataframe\">\n",
       "  <thead>\n",
       "    <tr style=\"text-align: right;\">\n",
       "      <th></th>\n",
       "      <th>user_id</th>\n",
       "      <th>age</th>\n",
       "      <th>churn_date</th>\n",
       "      <th>city</th>\n",
       "      <th>first_name</th>\n",
       "      <th>last_name</th>\n",
       "      <th>reg_date</th>\n",
       "      <th>tariff</th>\n",
       "    </tr>\n",
       "  </thead>\n",
       "  <tbody>\n",
       "    <tr>\n",
       "      <td>0</td>\n",
       "      <td>1000</td>\n",
       "      <td>52</td>\n",
       "      <td>NaN</td>\n",
       "      <td>Краснодар</td>\n",
       "      <td>Рафаил</td>\n",
       "      <td>Верещагин</td>\n",
       "      <td>2018-05-25</td>\n",
       "      <td>ultra</td>\n",
       "    </tr>\n",
       "    <tr>\n",
       "      <td>1</td>\n",
       "      <td>1001</td>\n",
       "      <td>41</td>\n",
       "      <td>NaN</td>\n",
       "      <td>Москва</td>\n",
       "      <td>Иван</td>\n",
       "      <td>Ежов</td>\n",
       "      <td>2018-11-01</td>\n",
       "      <td>smart</td>\n",
       "    </tr>\n",
       "    <tr>\n",
       "      <td>2</td>\n",
       "      <td>1002</td>\n",
       "      <td>59</td>\n",
       "      <td>NaN</td>\n",
       "      <td>Стерлитамак</td>\n",
       "      <td>Евгений</td>\n",
       "      <td>Абрамович</td>\n",
       "      <td>2018-06-17</td>\n",
       "      <td>smart</td>\n",
       "    </tr>\n",
       "    <tr>\n",
       "      <td>3</td>\n",
       "      <td>1003</td>\n",
       "      <td>23</td>\n",
       "      <td>NaN</td>\n",
       "      <td>Москва</td>\n",
       "      <td>Белла</td>\n",
       "      <td>Белякова</td>\n",
       "      <td>2018-08-17</td>\n",
       "      <td>ultra</td>\n",
       "    </tr>\n",
       "    <tr>\n",
       "      <td>4</td>\n",
       "      <td>1004</td>\n",
       "      <td>68</td>\n",
       "      <td>NaN</td>\n",
       "      <td>Новокузнецк</td>\n",
       "      <td>Татьяна</td>\n",
       "      <td>Авдеенко</td>\n",
       "      <td>2018-05-14</td>\n",
       "      <td>ultra</td>\n",
       "    </tr>\n",
       "  </tbody>\n",
       "</table>\n",
       "</div>"
      ],
      "text/plain": [
       "   user_id  age churn_date         city first_name  last_name    reg_date  \\\n",
       "0     1000   52        NaN    Краснодар     Рафаил  Верещагин  2018-05-25   \n",
       "1     1001   41        NaN       Москва       Иван       Ежов  2018-11-01   \n",
       "2     1002   59        NaN  Стерлитамак    Евгений  Абрамович  2018-06-17   \n",
       "3     1003   23        NaN       Москва      Белла   Белякова  2018-08-17   \n",
       "4     1004   68        NaN  Новокузнецк    Татьяна   Авдеенко  2018-05-14   \n",
       "\n",
       "  tariff  \n",
       "0  ultra  \n",
       "1  smart  \n",
       "2  smart  \n",
       "3  ultra  \n",
       "4  ultra  "
      ]
     },
     "metadata": {},
     "output_type": "display_data"
    },
    {
     "name": "stdout",
     "output_type": "stream",
     "text": [
      "\n"
     ]
    }
   ],
   "source": [
    "# Посмотрим на данные\n",
    "datasets = [calls, internet, messages, tariffs, users]\n",
    "for dataset in datasets:\n",
    "    display(dataset.head())\n",
    "    print()"
   ]
  },
  {
   "cell_type": "code",
   "execution_count": 4,
   "metadata": {},
   "outputs": [],
   "source": [
    "# Напишем функцию для предпросотра данных\n",
    "def get_info(df):\n",
    "    # Получим информацию о столбцах\n",
    "    df.info()\n",
    "    print('===================================================================================================================')\n",
    "    # Построиим гистограммы для каждого столбца\n",
    "    for col in df.columns:\n",
    "        fig, ax = plt.subplots(figsize=(16, 4))  \n",
    "        plt.title(col)\n",
    "        if (df[col].dtypes == 'float') | (df[col].dtypes == 'int'):\n",
    "            df[col].hist(ax=ax)        \n",
    "        else:\n",
    "            df[col].value_counts().plot(ax=ax, kind='hist') \n",
    "    print('===================================================================================================================')        \n",
    "    # Проанализируем уникальные значения каждого столбца\n",
    "    for col in df.columns:\n",
    "        print(f'Уникальные значения столбца {col}:')\n",
    "        print(df[col].unique())\n",
    "        print(f'Количество вхождений каждого значения столбца {col}')\n",
    "        print(df[col].value_counts(dropna=False))\n",
    "        print('===================================================================================================================')\n",
    "    "
   ]
  },
  {
   "cell_type": "markdown",
   "metadata": {},
   "source": [
    "**Таблица *calls***"
   ]
  },
  {
   "cell_type": "code",
   "execution_count": 5,
   "metadata": {},
   "outputs": [
    {
     "name": "stdout",
     "output_type": "stream",
     "text": [
      "<class 'pandas.core.frame.DataFrame'>\n",
      "RangeIndex: 202607 entries, 0 to 202606\n",
      "Data columns (total 4 columns):\n",
      "id           202607 non-null object\n",
      "call_date    202607 non-null object\n",
      "duration     202607 non-null float64\n",
      "user_id      202607 non-null int64\n",
      "dtypes: float64(1), int64(1), object(2)\n",
      "memory usage: 6.2+ MB\n",
      "===================================================================================================================\n",
      "===================================================================================================================\n",
      "Уникальные значения столбца id:\n",
      "['1000_0' '1000_1' '1000_2' ... '1499_217' '1499_218' '1499_219']\n",
      "Количество вхождений каждого значения столбца id\n",
      "1277_320    1\n",
      "1378_720    1\n",
      "1260_348    1\n",
      "1393_363    1\n",
      "1453_186    1\n",
      "           ..\n",
      "1127_95     1\n",
      "1331_567    1\n",
      "1000_346    1\n",
      "1395_348    1\n",
      "1099_493    1\n",
      "Name: id, Length: 202607, dtype: int64\n",
      "===================================================================================================================\n",
      "Уникальные значения столбца call_date:\n",
      "['2018-07-25' '2018-08-17' '2018-06-11' '2018-09-21' '2018-12-15'\n",
      " '2018-11-02' '2018-10-18' '2018-08-22' '2018-09-15' '2018-08-15'\n",
      " '2018-05-28' '2018-07-05' '2018-09-29' '2018-12-11' '2018-07-27'\n",
      " '2018-08-11' '2018-08-02' '2018-06-15' '2018-12-04' '2018-08-20'\n",
      " '2018-09-25' '2018-07-21' '2018-08-27' '2018-08-25' '2018-12-12'\n",
      " '2018-07-19' '2018-11-14' '2018-12-26' '2018-12-02' '2018-10-08'\n",
      " '2018-09-23' '2018-10-09' '2018-05-25' '2018-06-13' '2018-10-25'\n",
      " '2018-12-29' '2018-07-12' '2018-11-20' '2018-06-05' '2018-10-13'\n",
      " '2018-06-26' '2018-07-14' '2018-07-20' '2018-12-01' '2018-06-17'\n",
      " '2018-10-24' '2018-11-26' '2018-09-19' '2018-05-30' '2018-12-21'\n",
      " '2018-12-23' '2018-07-03' '2018-10-04' '2018-09-16' '2018-11-21'\n",
      " '2018-10-28' '2018-08-29' '2018-08-13' '2018-07-18' '2018-06-03'\n",
      " '2018-09-03' '2018-08-14' '2018-11-01' '2018-05-26' '2018-11-23'\n",
      " '2018-09-30' '2018-11-09' '2018-08-01' '2018-06-18' '2018-10-20'\n",
      " '2018-11-07' '2018-08-04' '2018-09-06' '2018-10-27' '2018-10-15'\n",
      " '2018-10-26' '2018-11-18' '2018-07-30' '2018-10-06' '2018-12-17'\n",
      " '2018-08-24' '2018-09-28' '2018-07-06' '2018-06-02' '2018-09-02'\n",
      " '2018-12-10' '2018-11-03' '2018-07-28' '2018-09-27' '2018-12-24'\n",
      " '2018-07-29' '2018-12-18' '2018-10-16' '2018-10-07' '2018-11-12'\n",
      " '2018-07-23' '2018-08-26' '2018-09-07' '2018-09-14' '2018-07-15'\n",
      " '2018-09-17' '2018-09-09' '2018-10-02' '2018-07-02' '2018-10-21'\n",
      " '2018-07-10' '2018-09-10' '2018-07-11' '2018-09-20' '2018-11-04'\n",
      " '2018-12-05' '2018-06-22' '2018-07-04' '2018-08-09' '2018-12-25'\n",
      " '2018-06-12' '2018-12-22' '2018-07-17' '2018-09-18' '2018-10-14'\n",
      " '2018-11-15' '2018-06-19' '2018-06-07' '2018-11-25' '2018-12-07'\n",
      " '2018-05-31' '2018-06-27' '2018-12-03' '2018-06-28' '2018-09-13'\n",
      " '2018-11-19' '2018-09-11' '2018-06-21' '2018-11-27' '2018-08-10'\n",
      " '2018-08-07' '2018-09-24' '2018-10-01' '2018-06-20' '2018-10-19'\n",
      " '2018-07-26' '2018-09-12' '2018-11-24' '2018-12-09' '2018-06-10'\n",
      " '2018-06-14' '2018-06-24' '2018-11-11' '2018-11-05' '2018-06-29'\n",
      " '2018-09-05' '2018-08-23' '2018-08-19' '2018-08-03' '2018-06-25'\n",
      " '2018-05-27' '2018-07-07' '2018-11-16' '2018-09-08' '2018-10-11'\n",
      " '2018-05-29' '2018-12-19' '2018-08-30' '2018-07-24' '2018-10-03'\n",
      " '2018-12-08' '2018-06-08' '2018-10-05' '2018-11-28' '2018-10-29'\n",
      " '2018-12-27' '2018-11-29' '2018-10-30' '2018-11-08' '2018-07-08'\n",
      " '2018-06-23' '2018-12-06' '2018-12-13' '2018-11-13' '2018-12-14'\n",
      " '2018-12-30' '2018-11-22' '2018-12-28' '2018-12-20' '2018-11-10'\n",
      " '2018-11-30' '2018-12-16' '2018-11-17' '2018-12-31' '2018-08-18'\n",
      " '2018-07-09' '2018-07-16' '2018-08-05' '2018-08-06' '2018-10-31'\n",
      " '2018-09-04' '2018-07-31' '2018-11-06' '2018-10-17' '2018-10-22'\n",
      " '2018-09-26' '2018-10-23' '2018-09-22' '2018-09-01' '2018-08-28'\n",
      " '2018-08-08' '2018-08-12' '2018-07-01' '2018-07-22' '2018-08-31'\n",
      " '2018-10-12' '2018-10-10' '2018-08-21' '2018-08-16' '2018-06-30'\n",
      " '2018-05-14' '2018-05-18' '2018-05-24' '2018-07-13' '2018-06-06'\n",
      " '2018-05-19' '2018-05-23' '2018-05-17' '2018-03-21' '2018-04-09'\n",
      " '2018-05-13' '2018-04-05' '2018-04-12' '2018-01-28' '2018-03-06'\n",
      " '2018-04-23' '2018-03-15' '2018-03-04' '2018-03-09' '2018-02-27'\n",
      " '2018-03-27' '2018-06-16' '2018-03-12' '2018-04-21' '2018-05-09'\n",
      " '2018-03-11' '2018-04-14' '2018-03-07' '2018-01-27' '2018-02-18'\n",
      " '2018-03-01' '2018-02-24' '2018-05-10' '2018-03-08' '2018-02-23'\n",
      " '2018-03-03' '2018-04-22' '2018-02-09' '2018-01-31' '2018-02-19'\n",
      " '2018-03-13' '2018-03-30' '2018-05-08' '2018-04-17' '2018-04-18'\n",
      " '2018-01-29' '2018-04-19' '2018-04-02' '2018-05-05' '2018-04-10'\n",
      " '2018-03-19' '2018-04-06' '2018-04-24' '2018-03-10' '2018-05-22'\n",
      " '2018-03-16' '2018-02-12' '2018-05-01' '2018-02-13' '2018-01-26'\n",
      " '2018-02-01' '2018-02-02' '2018-04-26' '2018-02-10' '2018-04-04'\n",
      " '2018-06-09' '2018-03-18' '2018-03-31' '2018-04-01' '2018-02-20'\n",
      " '2018-02-03' '2018-02-07' '2018-04-16' '2018-02-04' '2018-05-21'\n",
      " '2018-05-02' '2018-04-08' '2018-06-04' '2018-03-20' '2018-02-17'\n",
      " '2018-03-23' '2018-05-04' '2018-05-11' '2018-03-22' '2018-05-03'\n",
      " '2018-02-08' '2018-02-06' '2018-02-15' '2018-05-20' '2018-03-26'\n",
      " '2018-03-28' '2018-03-24' '2018-04-15' '2018-04-30' '2018-02-25'\n",
      " '2018-04-25' '2018-03-25' '2018-05-15' '2018-03-29' '2018-02-22'\n",
      " '2018-04-28' '2018-04-03' '2018-03-17' '2018-04-13' '2018-03-05'\n",
      " '2018-04-11' '2018-01-30' '2018-05-07' '2018-06-01' '2018-02-11'\n",
      " '2018-05-16' '2018-02-16' '2018-04-27' '2018-01-25' '2018-05-06'\n",
      " '2018-02-21' '2018-04-29' '2018-04-07' '2018-02-28' '2018-02-14'\n",
      " '2018-03-02' '2018-03-14' '2018-02-26' '2018-04-20' '2018-05-12'\n",
      " '2018-01-05' '2018-01-13' '2018-01-18' '2018-01-12' '2018-01-20'\n",
      " '2018-01-24' '2018-01-21' '2018-01-22' '2018-01-15' '2018-01-16'\n",
      " '2018-02-05' '2018-01-10' '2018-01-11' '2018-01-08' '2018-01-14'\n",
      " '2018-01-19' '2018-01-04' '2018-01-09' '2018-01-07' '2018-01-02'\n",
      " '2018-01-06' '2018-01-17' '2018-01-03' '2018-01-23' '2018-01-01']\n",
      "Количество вхождений каждого значения столбца call_date\n",
      "2018-12-31    1435\n",
      "2018-12-29    1202\n",
      "2018-12-30    1192\n",
      "2018-12-22    1158\n",
      "2018-12-26    1149\n",
      "              ... \n",
      "2018-01-05      20\n",
      "2018-01-07      18\n",
      "2018-01-02       9\n",
      "2018-01-03       7\n",
      "2018-01-01       5\n",
      "Name: call_date, Length: 365, dtype: int64\n",
      "===================================================================================================================\n",
      "Уникальные значения столбца duration:\n",
      "[ 0.    2.85 13.8  ... 24.36 24.5  26.9 ]\n",
      "Количество вхождений каждого значения столбца duration\n",
      "0.000     39613\n",
      "4.490       142\n",
      "5.500       142\n",
      "6.150       141\n",
      "6.380       141\n",
      "          ...  \n",
      "27.020        1\n",
      "26.190        1\n",
      "25.340        1\n",
      "27.130        1\n",
      "24.280        1\n",
      "Name: duration, Length: 2871, dtype: int64\n",
      "===================================================================================================================\n",
      "Уникальные значения столбца user_id:\n",
      "[1000 1001 1002 1003 1004 1005 1006 1007 1008 1009 1010 1011 1012 1013\n",
      " 1014 1015 1016 1017 1018 1019 1020 1021 1022 1023 1024 1025 1026 1027\n",
      " 1028 1029 1030 1031 1032 1033 1034 1035 1036 1037 1038 1039 1040 1041\n",
      " 1042 1043 1044 1045 1046 1047 1048 1049 1050 1051 1052 1053 1054 1055\n",
      " 1056 1057 1058 1059 1060 1061 1062 1063 1064 1065 1066 1067 1068 1069\n",
      " 1070 1071 1072 1073 1074 1075 1076 1077 1078 1079 1080 1081 1082 1083\n",
      " 1084 1085 1086 1087 1088 1089 1090 1092 1093 1094 1095 1096 1097 1098\n",
      " 1099 1100 1101 1102 1103 1104 1105 1107 1108 1109 1110 1111 1112 1113\n",
      " 1114 1115 1116 1117 1118 1119 1120 1121 1122 1123 1124 1125 1126 1127\n",
      " 1129 1130 1131 1132 1133 1134 1135 1136 1137 1138 1139 1140 1141 1142\n",
      " 1143 1144 1145 1146 1147 1148 1149 1150 1151 1152 1153 1154 1155 1156\n",
      " 1157 1158 1159 1160 1161 1162 1163 1164 1165 1166 1167 1168 1169 1170\n",
      " 1171 1172 1173 1174 1175 1176 1177 1178 1179 1180 1181 1182 1183 1184\n",
      " 1185 1186 1187 1188 1189 1190 1191 1192 1193 1194 1195 1196 1197 1198\n",
      " 1199 1200 1201 1202 1203 1204 1205 1206 1207 1208 1209 1210 1211 1212\n",
      " 1213 1214 1215 1216 1217 1218 1219 1220 1221 1222 1223 1224 1225 1226\n",
      " 1227 1228 1229 1230 1232 1233 1234 1235 1236 1237 1238 1239 1240 1241\n",
      " 1242 1243 1244 1245 1246 1247 1248 1249 1250 1251 1252 1253 1254 1255\n",
      " 1256 1257 1258 1259 1260 1261 1262 1263 1264 1265 1266 1267 1268 1269\n",
      " 1270 1271 1272 1273 1274 1275 1276 1277 1278 1279 1280 1281 1282 1283\n",
      " 1284 1285 1286 1287 1288 1289 1290 1291 1292 1293 1294 1295 1296 1297\n",
      " 1298 1299 1300 1301 1302 1303 1304 1305 1306 1307 1308 1309 1310 1311\n",
      " 1312 1313 1314 1315 1316 1317 1318 1319 1320 1321 1322 1323 1324 1325\n",
      " 1326 1327 1329 1330 1331 1332 1333 1334 1335 1336 1337 1338 1339 1340\n",
      " 1341 1342 1343 1344 1345 1346 1347 1348 1349 1350 1351 1352 1353 1354\n",
      " 1355 1356 1357 1358 1359 1360 1361 1362 1363 1364 1365 1366 1367 1368\n",
      " 1369 1370 1372 1373 1374 1375 1376 1377 1378 1379 1380 1381 1382 1383\n",
      " 1384 1385 1386 1387 1388 1389 1390 1391 1392 1393 1394 1395 1396 1397\n",
      " 1398 1399 1400 1401 1402 1403 1404 1405 1406 1407 1408 1409 1410 1411\n",
      " 1412 1413 1414 1415 1416 1417 1418 1419 1420 1421 1422 1423 1424 1425\n",
      " 1426 1427 1428 1429 1430 1431 1432 1433 1434 1435 1436 1437 1438 1439\n",
      " 1440 1441 1442 1443 1444 1445 1446 1447 1448 1449 1450 1451 1452 1453\n",
      " 1454 1455 1456 1457 1458 1459 1460 1461 1462 1463 1464 1465 1466 1467\n",
      " 1468 1469 1470 1471 1472 1474 1475 1476 1477 1478 1479 1480 1481 1482\n",
      " 1483 1484 1485 1486 1487 1488 1490 1491 1492 1493 1494 1495 1496 1497\n",
      " 1498 1499]\n",
      "Количество вхождений каждого значения столбца user_id\n",
      "1377    1760\n",
      "1168    1692\n",
      "1375    1560\n",
      "1453    1440\n",
      "1196    1240\n",
      "        ... \n",
      "1397      33\n",
      "1442      28\n",
      "1373      24\n",
      "1016      20\n",
      "1257      14\n",
      "Name: user_id, Length: 492, dtype: int64\n",
      "===================================================================================================================\n"
     ]
    },
    {
     "data": {
      "text/html": [
       "<div>\n",
       "<style scoped>\n",
       "    .dataframe tbody tr th:only-of-type {\n",
       "        vertical-align: middle;\n",
       "    }\n",
       "\n",
       "    .dataframe tbody tr th {\n",
       "        vertical-align: top;\n",
       "    }\n",
       "\n",
       "    .dataframe thead th {\n",
       "        text-align: right;\n",
       "    }\n",
       "</style>\n",
       "<table border=\"1\" class=\"dataframe\">\n",
       "  <thead>\n",
       "    <tr style=\"text-align: right;\">\n",
       "      <th></th>\n",
       "      <th>duration</th>\n",
       "      <th>user_id</th>\n",
       "    </tr>\n",
       "  </thead>\n",
       "  <tbody>\n",
       "    <tr>\n",
       "      <td>count</td>\n",
       "      <td>202,607.000</td>\n",
       "      <td>202,607.000</td>\n",
       "    </tr>\n",
       "    <tr>\n",
       "      <td>mean</td>\n",
       "      <td>6.756</td>\n",
       "      <td>1,253.941</td>\n",
       "    </tr>\n",
       "    <tr>\n",
       "      <td>std</td>\n",
       "      <td>5.843</td>\n",
       "      <td>144.723</td>\n",
       "    </tr>\n",
       "    <tr>\n",
       "      <td>min</td>\n",
       "      <td>0.000</td>\n",
       "      <td>1,000.000</td>\n",
       "    </tr>\n",
       "    <tr>\n",
       "      <td>25%</td>\n",
       "      <td>1.300</td>\n",
       "      <td>1,126.000</td>\n",
       "    </tr>\n",
       "    <tr>\n",
       "      <td>50%</td>\n",
       "      <td>6.000</td>\n",
       "      <td>1,260.000</td>\n",
       "    </tr>\n",
       "    <tr>\n",
       "      <td>75%</td>\n",
       "      <td>10.700</td>\n",
       "      <td>1,379.000</td>\n",
       "    </tr>\n",
       "    <tr>\n",
       "      <td>max</td>\n",
       "      <td>38.000</td>\n",
       "      <td>1,499.000</td>\n",
       "    </tr>\n",
       "  </tbody>\n",
       "</table>\n",
       "</div>"
      ],
      "text/plain": [
       "         duration     user_id\n",
       "count 202,607.000 202,607.000\n",
       "mean        6.756   1,253.941\n",
       "std         5.843     144.723\n",
       "min         0.000   1,000.000\n",
       "25%         1.300   1,126.000\n",
       "50%         6.000   1,260.000\n",
       "75%        10.700   1,379.000\n",
       "max        38.000   1,499.000"
      ]
     },
     "execution_count": 5,
     "metadata": {},
     "output_type": "execute_result"
    },
    {
     "data": {
      "image/png": "[encoded data removed]",
      "text/plain": [
       "<Figure size 1152x288 with 1 Axes>"
      ]
     },
     "metadata": {
      "needs_background": "light"
     },
     "output_type": "display_data"
    },
    {
     "data": {
      "image/png": "[encoded data removed]",
      "text/plain": [
       "<Figure size 1152x288 with 1 Axes>"
      ]
     },
     "metadata": {
      "needs_background": "light"
     },
     "output_type": "display_data"
    },
    {
     "data": {
      "image/png": "[encoded data removed]",
      "text/plain": [
       "<Figure size 1152x288 with 1 Axes>"
      ]
     },
     "metadata": {
      "needs_background": "light"
     },
     "output_type": "display_data"
    },
    {
     "data": {
      "image/png": "[encoded data removed]",
      "text/plain": [
       "<Figure size 1152x288 with 1 Axes>"
      ]
     },
     "metadata": {
      "needs_background": "light"
     },
     "output_type": "display_data"
    }
   ],
   "source": [
    "get_info(calls)\n",
    "calls.describe()"
   ]
  },
  {
   "cell_type": "markdown",
   "metadata": {},
   "source": [
    "**Выводы:**\n",
    "\n",
    "Стобец *id*: Без замечаний\n",
    "\n",
    "Столбец *call_date*: Поменять тип на *datetime*\n",
    "\n",
    "Столбец *duration*: Округлить значения в большую сторону и перевести в тип int, так как при расчете стоимости и так округляется до минут\n",
    "\n",
    "Столбец *user_id*: Без замечаний"
   ]
  },
  {
   "cell_type": "markdown",
   "metadata": {},
   "source": [
    "**Таблица *internet***"
   ]
  },
  {
   "cell_type": "code",
   "execution_count": 6,
   "metadata": {},
   "outputs": [
    {
     "name": "stdout",
     "output_type": "stream",
     "text": [
      "<class 'pandas.core.frame.DataFrame'>\n",
      "Int64Index: 149396 entries, 0 to 149395\n",
      "Data columns (total 4 columns):\n",
      "id              149396 non-null object\n",
      "mb_used         149396 non-null float64\n",
      "session_date    149396 non-null object\n",
      "user_id         149396 non-null int64\n",
      "dtypes: float64(1), int64(1), object(2)\n",
      "memory usage: 5.7+ MB\n",
      "===================================================================================================================\n",
      "===================================================================================================================\n",
      "Уникальные значения столбца id:\n",
      "['1000_0' '1000_1' '1000_2' ... '1499_154' '1499_155' '1499_156']\n",
      "Количество вхождений каждого значения столбца id\n",
      "1354_270    1\n",
      "1480_97     1\n",
      "1415_71     1\n",
      "1180_156    1\n",
      "1049_52     1\n",
      "           ..\n",
      "1453_184    1\n",
      "1465_421    1\n",
      "1465_303    1\n",
      "1137_28     1\n",
      "1075_103    1\n",
      "Name: id, Length: 149396, dtype: int64\n",
      "===================================================================================================================\n",
      "Уникальные значения столбца mb_used:\n",
      "[ 112.95 1052.81 1197.26 ...  460.75  247.59   23.72]\n",
      "Количество вхождений каждого значения столбца mb_used\n",
      "0.000      19598\n",
      "197.560        9\n",
      "447.300        9\n",
      "335.910        9\n",
      "108.950        8\n",
      "           ...  \n",
      "72.490         1\n",
      "846.220        1\n",
      "429.170        1\n",
      "899.030        1\n",
      "483.870        1\n",
      "Name: mb_used, Length: 70003, dtype: int64\n",
      "===================================================================================================================\n",
      "Уникальные значения столбца session_date:\n",
      "['2018-11-25' '2018-09-07' '2018-06-25' '2018-08-22' '2018-09-24'\n",
      " '2018-10-02' '2018-07-11' '2018-10-08' '2018-09-03' '2018-09-27'\n",
      " '2018-08-28' '2018-06-20' '2018-08-09' '2018-08-11' '2018-07-21'\n",
      " '2018-06-09' '2018-06-03' '2018-11-01' '2018-11-28' '2018-08-20'\n",
      " '2018-12-06' '2018-07-02' '2018-10-19' '2018-10-30' '2018-06-17'\n",
      " '2018-11-06' '2018-09-14' '2018-11-15' '2018-08-26' '2018-10-15'\n",
      " '2018-11-27' '2018-10-17' '2018-10-07' '2018-08-05' '2018-07-06'\n",
      " '2018-10-03' '2018-11-02' '2018-06-30' '2018-11-17' '2018-06-06'\n",
      " '2018-11-20' '2018-05-31' '2018-10-29' '2018-12-10' '2018-07-04'\n",
      " '2018-12-28' '2018-05-28' '2018-09-15' '2018-09-09' '2018-09-17'\n",
      " '2018-09-01' '2018-11-03' '2018-11-04' '2018-06-16' '2018-12-07'\n",
      " '2018-08-25' '2018-06-15' '2018-06-26' '2018-10-06' '2018-12-01'\n",
      " '2018-10-14' '2018-06-07' '2018-12-15' '2018-10-04' '2018-08-13'\n",
      " '2018-07-10' '2018-07-07' '2018-08-17' '2018-06-28' '2018-08-07'\n",
      " '2018-06-29' '2018-07-13' '2018-07-27' '2018-11-30' '2018-07-26'\n",
      " '2018-05-26' '2018-11-16' '2018-11-13' '2018-11-11' '2018-12-18'\n",
      " '2018-06-18' '2018-12-02' '2018-06-14' '2018-12-25' '2018-06-24'\n",
      " '2018-12-05' '2018-06-10' '2018-10-16' '2018-10-21' '2018-07-09'\n",
      " '2018-07-17' '2018-08-04' '2018-06-01' '2018-06-13' '2018-06-27'\n",
      " '2018-11-14' '2018-06-19' '2018-12-29' '2018-07-08' '2018-11-23'\n",
      " '2018-07-25' '2018-06-21' '2018-07-23' '2018-08-31' '2018-09-08'\n",
      " '2018-07-14' '2018-07-29' '2018-06-05' '2018-12-21' '2018-12-24'\n",
      " '2018-09-19' '2018-12-19' '2018-09-06' '2018-10-13' '2018-09-04'\n",
      " '2018-09-30' '2018-07-28' '2018-10-22' '2018-08-02' '2018-11-07'\n",
      " '2018-11-08' '2018-08-21' '2018-08-30' '2018-07-31' '2018-12-30'\n",
      " '2018-06-08' '2018-12-03' '2018-09-16' '2018-09-26' '2018-08-27'\n",
      " '2018-06-23' '2018-08-14' '2018-12-16' '2018-11-22' '2018-11-18'\n",
      " '2018-12-08' '2018-11-29' '2018-12-13' '2018-12-26' '2018-11-26'\n",
      " '2018-12-09' '2018-11-09' '2018-12-04' '2018-11-19' '2018-11-12'\n",
      " '2018-12-20' '2018-11-21' '2018-12-22' '2018-12-23' '2018-08-24'\n",
      " '2018-12-17' '2018-10-23' '2018-09-12' '2018-10-25' '2018-09-10'\n",
      " '2018-12-27' '2018-09-11' '2018-09-20' '2018-08-06' '2018-11-24'\n",
      " '2018-07-15' '2018-12-31' '2018-07-18' '2018-07-30' '2018-12-11'\n",
      " '2018-10-24' '2018-08-29' '2018-06-22' '2018-07-24' '2018-09-05'\n",
      " '2018-08-01' '2018-07-22' '2018-10-01' '2018-09-23' '2018-09-13'\n",
      " '2018-08-23' '2018-07-03' '2018-11-10' '2018-08-12' '2018-09-22'\n",
      " '2018-07-20' '2018-10-09' '2018-07-12' '2018-10-20' '2018-10-11'\n",
      " '2018-10-05' '2018-08-08' '2018-09-29' '2018-08-15' '2018-09-21'\n",
      " '2018-07-16' '2018-09-25' '2018-08-03' '2018-10-26' '2018-09-02'\n",
      " '2018-09-28' '2018-10-18' '2018-10-27' '2018-07-01' '2018-12-12'\n",
      " '2018-12-14' '2018-08-10' '2018-08-16' '2018-08-18' '2018-10-31'\n",
      " '2018-10-28' '2018-10-10' '2018-10-12' '2018-06-11' '2018-05-27'\n",
      " '2018-06-02' '2018-08-19' '2018-05-18' '2018-05-15' '2018-05-16'\n",
      " '2018-05-14' '2018-06-12' '2018-09-18' '2018-05-20' '2018-05-19'\n",
      " '2018-06-04' '2018-05-23' '2018-05-30' '2018-05-21' '2018-07-05'\n",
      " '2018-05-22' '2018-07-19' '2018-02-09' '2018-03-10' '2018-04-12'\n",
      " '2018-03-30' '2018-03-15' '2018-01-28' '2018-04-03' '2018-03-09'\n",
      " '2018-03-06' '2018-02-24' '2018-04-26' '2018-03-05' '2018-05-12'\n",
      " '2018-04-21' '2018-04-24' '2018-03-02' '2018-02-16' '2018-05-03'\n",
      " '2018-03-07' '2018-02-20' '2018-03-19' '2018-01-30' '2018-05-09'\n",
      " '2018-02-07' '2018-03-12' '2018-11-05' '2018-04-01' '2018-04-07'\n",
      " '2018-01-29' '2018-03-16' '2018-03-14' '2018-02-01' '2018-04-29'\n",
      " '2018-02-02' '2018-04-30' '2018-03-17' '2018-04-17' '2018-05-29'\n",
      " '2018-02-27' '2018-03-26' '2018-04-08' '2018-04-02' '2018-02-18'\n",
      " '2018-01-27' '2018-05-01' '2018-02-11' '2018-04-19' '2018-04-25'\n",
      " '2018-02-13' '2018-02-21' '2018-02-04' '2018-03-28' '2018-03-21'\n",
      " '2018-04-11' '2018-03-31' '2018-05-07' '2018-02-17' '2018-03-04'\n",
      " '2018-02-12' '2018-02-14' '2018-05-10' '2018-03-23' '2018-03-22'\n",
      " '2018-04-09' '2018-05-25' '2018-04-22' '2018-04-05' '2018-04-23'\n",
      " '2018-04-14' '2018-04-13' '2018-05-04' '2018-04-20' '2018-03-13'\n",
      " '2018-04-28' '2018-05-08' '2018-03-27' '2018-03-01' '2018-05-02'\n",
      " '2018-04-18' '2018-02-26' '2018-05-24' '2018-04-16' '2018-05-13'\n",
      " '2018-05-06' '2018-03-18' '2018-03-24' '2018-02-28' '2018-04-15'\n",
      " '2018-05-11' '2018-04-06' '2018-03-25' '2018-05-17' '2018-05-05'\n",
      " '2018-04-04' '2018-03-03' '2018-04-27' '2018-03-29' '2018-04-10'\n",
      " '2018-03-20' '2018-01-13' '2018-01-19' '2018-01-23' '2018-01-20'\n",
      " '2018-01-12' '2018-02-23' '2018-01-05' '2018-01-21' '2018-01-31'\n",
      " '2018-01-10' '2018-02-10' '2018-01-15' '2018-01-09' '2018-03-08'\n",
      " '2018-01-18' '2018-02-19' '2018-02-25' '2018-03-11' '2018-01-25'\n",
      " '2018-02-08' '2018-01-22' '2018-02-06' '2018-02-05' '2018-01-06'\n",
      " '2018-01-08' '2018-01-17' '2018-01-11' '2018-01-04' '2018-01-24'\n",
      " '2018-01-26' '2018-01-16' '2018-02-15' '2018-02-22' '2018-02-03'\n",
      " '2018-01-03' '2018-01-14' '2018-01-02' '2018-01-07' '2018-01-01']\n",
      "Количество вхождений каждого значения столбца session_date\n",
      "2018-12-31    1057\n",
      "2018-12-30     903\n",
      "2018-12-25     859\n",
      "2018-12-26     844\n",
      "2018-12-22     834\n",
      "              ... \n",
      "2018-01-05      14\n",
      "2018-01-04       9\n",
      "2018-01-03       6\n",
      "2018-01-01       3\n",
      "2018-01-02       3\n",
      "Name: session_date, Length: 365, dtype: int64\n",
      "===================================================================================================================\n",
      "Уникальные значения столбца user_id:\n",
      "[1000 1001 1002 1003 1004 1005 1006 1007 1008 1009 1010 1011 1012 1013\n",
      " 1014 1015 1016 1017 1018 1019 1020 1021 1022 1023 1024 1025 1026 1027\n",
      " 1028 1029 1030 1031 1032 1033 1034 1035 1036 1037 1038 1039 1040 1041\n",
      " 1042 1043 1044 1045 1046 1047 1048 1049 1050 1051 1052 1053 1054 1055\n",
      " 1056 1057 1058 1059 1060 1061 1062 1063 1064 1065 1066 1067 1068 1069\n",
      " 1070 1071 1072 1073 1074 1075 1076 1077 1078 1079 1080 1081 1082 1083\n",
      " 1084 1085 1086 1087 1088 1089 1090 1091 1092 1093 1094 1095 1096 1097\n",
      " 1098 1099 1100 1101 1102 1103 1104 1105 1106 1107 1108 1109 1110 1111\n",
      " 1112 1113 1114 1115 1116 1117 1118 1119 1120 1121 1122 1123 1124 1125\n",
      " 1126 1127 1129 1130 1131 1132 1133 1134 1135 1136 1137 1138 1139 1140\n",
      " 1141 1142 1143 1144 1145 1146 1147 1148 1149 1150 1151 1152 1153 1154\n",
      " 1155 1156 1157 1158 1159 1160 1161 1162 1163 1164 1165 1166 1167 1168\n",
      " 1169 1170 1171 1172 1173 1174 1175 1176 1177 1178 1179 1180 1181 1182\n",
      " 1183 1184 1185 1186 1187 1188 1189 1190 1191 1192 1193 1194 1195 1196\n",
      " 1197 1198 1199 1200 1201 1202 1203 1204 1205 1206 1207 1208 1209 1210\n",
      " 1211 1212 1213 1214 1215 1216 1217 1218 1219 1220 1221 1222 1223 1224\n",
      " 1225 1226 1227 1228 1229 1230 1231 1232 1233 1234 1235 1236 1237 1238\n",
      " 1239 1240 1241 1242 1243 1244 1245 1246 1247 1248 1249 1250 1251 1252\n",
      " 1253 1254 1255 1256 1257 1258 1259 1260 1261 1262 1263 1264 1265 1266\n",
      " 1267 1268 1269 1270 1271 1272 1274 1275 1276 1277 1278 1279 1280 1281\n",
      " 1282 1283 1284 1285 1286 1287 1288 1289 1290 1291 1292 1293 1294 1295\n",
      " 1296 1297 1298 1299 1300 1301 1302 1303 1304 1305 1306 1307 1308 1309\n",
      " 1310 1311 1312 1313 1314 1315 1316 1317 1318 1319 1320 1321 1322 1323\n",
      " 1324 1325 1326 1327 1328 1329 1330 1331 1332 1333 1334 1335 1336 1337\n",
      " 1338 1339 1340 1341 1342 1343 1344 1345 1346 1347 1348 1349 1350 1351\n",
      " 1352 1353 1354 1355 1356 1357 1358 1359 1360 1361 1362 1363 1364 1365\n",
      " 1366 1367 1368 1369 1370 1372 1373 1374 1375 1376 1377 1378 1379 1380\n",
      " 1381 1382 1383 1384 1385 1386 1387 1388 1389 1390 1391 1392 1393 1394\n",
      " 1395 1396 1397 1398 1399 1400 1401 1402 1403 1404 1405 1406 1407 1408\n",
      " 1409 1410 1411 1412 1413 1414 1415 1416 1417 1418 1419 1420 1421 1422\n",
      " 1423 1424 1425 1426 1427 1428 1429 1430 1431 1432 1433 1434 1435 1436\n",
      " 1437 1438 1439 1440 1441 1442 1443 1444 1445 1446 1447 1448 1449 1450\n",
      " 1451 1452 1453 1454 1455 1456 1457 1458 1459 1460 1461 1462 1463 1464\n",
      " 1465 1466 1467 1468 1469 1470 1471 1472 1473 1474 1475 1476 1477 1478\n",
      " 1479 1480 1481 1482 1483 1484 1485 1486 1487 1488 1489 1490 1491 1492\n",
      " 1493 1494 1495 1496 1497 1498 1499]\n",
      "Количество вхождений каждого значения столбца user_id\n",
      "1496    834\n",
      "1227    812\n",
      "1204    789\n",
      "1240    764\n",
      "1251    759\n",
      "       ... \n",
      "1151     35\n",
      "1467     27\n",
      "1343     26\n",
      "1192     22\n",
      "1399      8\n",
      "Name: user_id, Length: 497, dtype: int64\n",
      "===================================================================================================================\n"
     ]
    },
    {
     "data": {
      "text/html": [
       "<div>\n",
       "<style scoped>\n",
       "    .dataframe tbody tr th:only-of-type {\n",
       "        vertical-align: middle;\n",
       "    }\n",
       "\n",
       "    .dataframe tbody tr th {\n",
       "        vertical-align: top;\n",
       "    }\n",
       "\n",
       "    .dataframe thead th {\n",
       "        text-align: right;\n",
       "    }\n",
       "</style>\n",
       "<table border=\"1\" class=\"dataframe\">\n",
       "  <thead>\n",
       "    <tr style=\"text-align: right;\">\n",
       "      <th></th>\n",
       "      <th>mb_used</th>\n",
       "      <th>user_id</th>\n",
       "    </tr>\n",
       "  </thead>\n",
       "  <tbody>\n",
       "    <tr>\n",
       "      <td>count</td>\n",
       "      <td>149,396.000</td>\n",
       "      <td>149,396.000</td>\n",
       "    </tr>\n",
       "    <tr>\n",
       "      <td>mean</td>\n",
       "      <td>370.192</td>\n",
       "      <td>1,252.100</td>\n",
       "    </tr>\n",
       "    <tr>\n",
       "      <td>std</td>\n",
       "      <td>278.301</td>\n",
       "      <td>144.051</td>\n",
       "    </tr>\n",
       "    <tr>\n",
       "      <td>min</td>\n",
       "      <td>0.000</td>\n",
       "      <td>1,000.000</td>\n",
       "    </tr>\n",
       "    <tr>\n",
       "      <td>25%</td>\n",
       "      <td>138.188</td>\n",
       "      <td>1,130.000</td>\n",
       "    </tr>\n",
       "    <tr>\n",
       "      <td>50%</td>\n",
       "      <td>348.015</td>\n",
       "      <td>1,251.000</td>\n",
       "    </tr>\n",
       "    <tr>\n",
       "      <td>75%</td>\n",
       "      <td>559.553</td>\n",
       "      <td>1,380.000</td>\n",
       "    </tr>\n",
       "    <tr>\n",
       "      <td>max</td>\n",
       "      <td>1,724.830</td>\n",
       "      <td>1,499.000</td>\n",
       "    </tr>\n",
       "  </tbody>\n",
       "</table>\n",
       "</div>"
      ],
      "text/plain": [
       "          mb_used     user_id\n",
       "count 149,396.000 149,396.000\n",
       "mean      370.192   1,252.100\n",
       "std       278.301     144.051\n",
       "min         0.000   1,000.000\n",
       "25%       138.188   1,130.000\n",
       "50%       348.015   1,251.000\n",
       "75%       559.553   1,380.000\n",
       "max     1,724.830   1,499.000"
      ]
     },
     "execution_count": 6,
     "metadata": {},
     "output_type": "execute_result"
    },
    {
     "data": {
      "image/png": "[encoded data removed]",
      "text/plain": [
       "<Figure size 1152x288 with 1 Axes>"
      ]
     },
     "metadata": {
      "needs_background": "light"
     },
     "output_type": "display_data"
    },
    {
     "data": {
      "image/png": "[encoded data removed]",
      "text/plain": [
       "<Figure size 1152x288 with 1 Axes>"
      ]
     },
     "metadata": {
      "needs_background": "light"
     },
     "output_type": "display_data"
    },
    {
     "data": {
      "image/png": "[encoded data removed]",
      "text/plain": [
       "<Figure size 1152x288 with 1 Axes>"
      ]
     },
     "metadata": {
      "needs_background": "light"
     },
     "output_type": "display_data"
    },
    {
     "data": {
      "image/png": "[encoded data removed]",
      "text/plain": [
       "<Figure size 1152x288 with 1 Axes>"
      ]
     },
     "metadata": {
      "needs_background": "light"
     },
     "output_type": "display_data"
    }
   ],
   "source": [
    "get_info(internet)\n",
    "internet.describe()"
   ]
  },
  {
   "cell_type": "markdown",
   "metadata": {},
   "source": [
    "**Выводы:**\n",
    "\n",
    "Столбец *id*: Без замечаний\n",
    "\n",
    "Столбец *mb_used*: Округлить до гигабайт в большую сторону и перевести в тип *int*\n",
    "\n",
    "Столбец *session_date*: Конвертировать в тип *datetime*\n",
    "\n",
    "Столбец *user_id*: Без замечаний"
   ]
  },
  {
   "cell_type": "markdown",
   "metadata": {},
   "source": [
    "**Таблица *messages***"
   ]
  },
  {
   "cell_type": "code",
   "execution_count": 7,
   "metadata": {},
   "outputs": [
    {
     "name": "stdout",
     "output_type": "stream",
     "text": [
      "<class 'pandas.core.frame.DataFrame'>\n",
      "RangeIndex: 123036 entries, 0 to 123035\n",
      "Data columns (total 3 columns):\n",
      "id              123036 non-null object\n",
      "message_date    123036 non-null object\n",
      "user_id         123036 non-null int64\n",
      "dtypes: int64(1), object(2)\n",
      "memory usage: 2.8+ MB\n",
      "===================================================================================================================\n",
      "===================================================================================================================\n",
      "Уникальные значения столбца id:\n",
      "['1000_0' '1000_1' '1000_2' ... '1499_181' '1499_182' '1499_183']\n",
      "Количество вхождений каждого значения столбца id\n",
      "1354_270    1\n",
      "1015_116    1\n",
      "1271_131    1\n",
      "1054_98     1\n",
      "1282_216    1\n",
      "           ..\n",
      "1265_150    1\n",
      "1145_304    1\n",
      "1302_76     1\n",
      "1484_416    1\n",
      "1076_804    1\n",
      "Name: id, Length: 123036, dtype: int64\n",
      "===================================================================================================================\n",
      "Уникальные значения столбца message_date:\n",
      "['2018-06-27' '2018-10-08' '2018-08-04' '2018-06-16' '2018-12-05'\n",
      " '2018-06-20' '2018-11-19' '2018-10-29' '2018-06-25' '2018-12-18'\n",
      " '2018-05-30' '2018-07-06' '2018-08-20' '2018-10-30' '2018-09-14'\n",
      " '2018-08-28' '2018-06-29' '2018-07-07' '2018-05-29' '2018-05-28'\n",
      " '2018-08-15' '2018-07-29' '2018-12-07' '2018-12-25' '2018-10-31'\n",
      " '2018-07-30' '2018-11-05' '2018-12-15' '2018-12-04' '2018-06-30'\n",
      " '2018-12-22' '2018-10-02' '2018-08-29' '2018-09-09' '2018-07-19'\n",
      " '2018-09-04' '2018-07-15' '2018-10-25' '2018-12-08' '2018-06-01'\n",
      " '2018-06-12' '2018-12-21' '2018-10-07' '2018-08-30' '2018-06-04'\n",
      " '2018-10-01' '2018-06-22' '2018-10-12' '2018-10-15' '2018-10-24'\n",
      " '2018-09-20' '2018-08-22' '2018-09-17' '2018-08-27' '2018-07-26'\n",
      " '2018-06-05' '2018-11-16' '2018-09-06' '2018-11-26' '2018-11-18'\n",
      " '2018-09-21' '2018-07-11' '2018-07-16' '2018-11-08' '2018-07-25'\n",
      " '2018-09-13' '2018-08-13' '2018-12-31' '2018-06-10' '2018-06-28'\n",
      " '2018-09-18' '2018-10-11' '2018-12-12' '2018-07-12' '2018-09-01'\n",
      " '2018-07-23' '2018-09-22' '2018-08-17' '2018-09-29' '2018-07-22'\n",
      " '2018-06-18' '2018-06-14' '2018-12-10' '2018-11-29' '2018-11-21'\n",
      " '2018-12-28' '2018-11-30' '2018-08-31' '2018-06-26' '2018-07-21'\n",
      " '2018-11-15' '2018-10-06' '2018-06-13' '2018-12-29' '2018-11-10'\n",
      " '2018-08-24' '2018-11-07' '2018-09-19' '2018-08-10' '2018-07-08'\n",
      " '2018-05-25' '2018-08-21' '2018-07-28' '2018-07-31' '2018-11-03'\n",
      " '2018-11-04' '2018-10-26' '2018-07-01' '2018-09-23' '2018-08-25'\n",
      " '2018-07-18' '2018-11-02' '2018-05-27' '2018-12-03' '2018-11-23'\n",
      " '2018-10-05' '2018-11-12' '2018-07-10' '2018-06-24' '2018-10-17'\n",
      " '2018-11-22' '2018-11-09' '2018-11-24' '2018-10-23' '2018-10-19'\n",
      " '2018-09-30' '2018-06-09' '2018-12-06' '2018-12-11' '2018-12-01'\n",
      " '2018-12-19' '2018-09-02' '2018-10-22' '2018-08-03' '2018-11-06'\n",
      " '2018-12-26' '2018-09-24' '2018-09-07' '2018-08-12' '2018-10-20'\n",
      " '2018-12-27' '2018-12-23' '2018-07-02' '2018-12-02' '2018-09-11'\n",
      " '2018-07-27' '2018-09-26' '2018-08-14' '2018-11-28' '2018-07-13'\n",
      " '2018-08-26' '2018-08-09' '2018-10-28' '2018-10-18' '2018-06-03'\n",
      " '2018-08-23' '2018-12-16' '2018-10-13' '2018-12-14' '2018-09-08'\n",
      " '2018-08-05' '2018-12-30' '2018-08-08' '2018-06-23' '2018-12-24'\n",
      " '2018-07-14' '2018-09-28' '2018-07-04' '2018-10-27' '2018-10-14'\n",
      " '2018-08-02' '2018-11-17' '2018-08-18' '2018-07-24' '2018-06-17'\n",
      " '2018-09-16' '2018-06-07' '2018-09-15' '2018-10-21' '2018-08-01'\n",
      " '2018-06-11' '2018-07-20' '2018-12-17' '2018-10-03' '2018-06-08'\n",
      " '2018-12-13' '2018-11-01' '2018-05-31' '2018-09-03' '2018-08-16'\n",
      " '2018-07-09' '2018-11-27' '2018-10-16' '2018-11-11' '2018-07-03'\n",
      " '2018-11-14' '2018-12-09' '2018-08-07' '2018-10-09' '2018-11-25'\n",
      " '2018-09-27' '2018-06-19' '2018-08-06' '2018-09-25' '2018-09-12'\n",
      " '2018-11-20' '2018-12-20' '2018-11-13' '2018-10-10' '2018-09-05'\n",
      " '2018-10-04' '2018-09-10' '2018-08-19' '2018-05-21' '2018-06-15'\n",
      " '2018-05-14' '2018-05-16' '2018-05-15' '2018-07-17' '2018-05-24'\n",
      " '2018-08-11' '2018-05-26' '2018-07-05' '2018-05-17' '2018-05-19'\n",
      " '2018-06-02' '2018-05-18' '2018-05-23' '2018-06-21' '2018-05-22'\n",
      " '2018-05-20' '2018-06-06' '2018-03-03' '2018-04-10' '2018-02-24'\n",
      " '2018-02-08' '2018-02-25' '2018-04-27' '2018-03-10' '2018-03-25'\n",
      " '2018-04-15' '2018-03-19' '2018-03-01' '2018-02-15' '2018-04-05'\n",
      " '2018-02-23' '2018-05-02' '2018-05-07' '2018-05-13' '2018-03-17'\n",
      " '2018-03-20' '2018-02-20' '2018-01-25' '2018-04-19' '2018-02-13'\n",
      " '2018-02-26' '2018-01-26' '2018-03-07' '2018-04-07' '2018-01-28'\n",
      " '2018-02-28' '2018-02-17' '2018-03-21' '2018-03-15' '2018-03-13'\n",
      " '2018-04-01' '2018-03-08' '2018-04-04' '2018-04-12' '2018-03-22'\n",
      " '2018-04-24' '2018-04-06' '2018-04-08' '2018-03-14' '2018-03-05'\n",
      " '2018-05-04' '2018-03-02' '2018-02-14' '2018-04-20' '2018-02-19'\n",
      " '2018-04-21' '2018-03-29' '2018-05-05' '2018-04-14' '2018-02-09'\n",
      " '2018-02-21' '2018-04-13' '2018-03-16' '2018-05-12' '2018-04-03'\n",
      " '2018-03-30' '2018-02-10' '2018-03-24' '2018-03-06' '2018-02-07'\n",
      " '2018-04-22' '2018-02-03' '2018-03-27' '2018-05-09' '2018-02-16'\n",
      " '2018-03-04' '2018-04-09' '2018-03-26' '2018-03-09' '2018-04-26'\n",
      " '2018-05-10' '2018-04-16' '2018-05-08' '2018-04-25' '2018-02-06'\n",
      " '2018-04-02' '2018-01-29' '2018-02-02' '2018-02-05' '2018-04-29'\n",
      " '2018-02-22' '2018-01-27' '2018-02-18' '2018-04-11' '2018-05-01'\n",
      " '2018-04-23' '2018-04-28' '2018-05-03' '2018-05-11' '2018-04-17'\n",
      " '2018-03-28' '2018-04-30' '2018-05-06' '2018-03-23' '2018-04-18'\n",
      " '2018-03-31' '2018-01-23' '2018-01-04' '2018-01-14' '2018-01-19'\n",
      " '2018-01-30' '2018-01-11' '2018-03-18' '2018-01-16' '2018-02-01'\n",
      " '2018-01-18' '2018-01-10' '2018-01-21' '2018-03-11' '2018-01-09'\n",
      " '2018-02-04' '2018-01-17' '2018-01-15' '2018-01-12' '2018-01-20'\n",
      " '2018-01-07' '2018-01-05' '2018-02-11' '2018-03-12' '2018-01-08'\n",
      " '2018-01-31' '2018-02-27' '2018-02-12' '2018-01-03' '2018-01-02'\n",
      " '2018-01-22' '2018-01-24' '2018-01-13' '2018-01-06']\n",
      "Количество вхождений каждого значения столбца message_date\n",
      "2018-12-31    859\n",
      "2018-12-30    765\n",
      "2018-12-21    712\n",
      "2018-12-29    702\n",
      "2018-12-28    699\n",
      "             ... \n",
      "2018-01-07     12\n",
      "2018-01-02     10\n",
      "2018-01-04     10\n",
      "2018-01-05     10\n",
      "2018-01-03      4\n",
      "Name: message_date, Length: 364, dtype: int64\n",
      "===================================================================================================================\n",
      "Уникальные значения столбца user_id:\n",
      "[1000 1002 1003 1004 1005 1007 1008 1009 1011 1012 1013 1014 1015 1016\n",
      " 1018 1019 1020 1021 1022 1023 1025 1026 1027 1028 1029 1030 1031 1032\n",
      " 1033 1034 1035 1036 1037 1038 1039 1041 1042 1043 1044 1045 1046 1047\n",
      " 1048 1050 1051 1052 1054 1055 1056 1057 1058 1059 1060 1061 1062 1064\n",
      " 1065 1066 1067 1068 1069 1070 1071 1072 1073 1074 1075 1076 1077 1079\n",
      " 1080 1081 1082 1083 1084 1086 1087 1088 1089 1090 1091 1092 1093 1094\n",
      " 1096 1097 1098 1099 1100 1102 1103 1104 1105 1106 1108 1109 1110 1111\n",
      " 1112 1113 1115 1119 1121 1122 1123 1124 1125 1126 1127 1130 1131 1133\n",
      " 1134 1135 1136 1137 1138 1139 1140 1141 1142 1144 1145 1146 1147 1148\n",
      " 1149 1150 1151 1154 1155 1156 1158 1159 1160 1161 1163 1164 1165 1166\n",
      " 1167 1168 1169 1170 1171 1172 1173 1174 1176 1178 1180 1181 1182 1183\n",
      " 1184 1186 1187 1188 1189 1190 1191 1192 1193 1194 1196 1197 1198 1199\n",
      " 1200 1202 1203 1205 1206 1207 1209 1211 1212 1213 1214 1215 1216 1217\n",
      " 1218 1219 1221 1222 1223 1226 1227 1229 1230 1231 1232 1233 1234 1235\n",
      " 1236 1237 1238 1239 1241 1243 1244 1245 1246 1247 1249 1250 1251 1252\n",
      " 1253 1256 1257 1258 1259 1261 1262 1263 1264 1265 1266 1267 1268 1269\n",
      " 1270 1271 1272 1273 1274 1275 1276 1277 1278 1279 1280 1281 1282 1283\n",
      " 1284 1285 1286 1287 1288 1289 1293 1294 1295 1296 1298 1299 1300 1302\n",
      " 1303 1304 1307 1308 1309 1310 1311 1312 1313 1314 1315 1316 1317 1318\n",
      " 1319 1320 1321 1323 1324 1325 1326 1327 1328 1329 1330 1331 1332 1333\n",
      " 1335 1336 1337 1338 1340 1341 1342 1343 1344 1345 1346 1347 1348 1349\n",
      " 1350 1351 1352 1353 1354 1355 1356 1357 1358 1359 1361 1362 1364 1365\n",
      " 1366 1368 1369 1372 1373 1374 1375 1377 1378 1379 1380 1381 1382 1383\n",
      " 1384 1385 1386 1387 1389 1390 1391 1392 1393 1394 1395 1396 1398 1399\n",
      " 1400 1401 1402 1403 1404 1405 1406 1407 1408 1409 1410 1411 1412 1413\n",
      " 1414 1415 1416 1417 1418 1419 1420 1421 1422 1423 1424 1425 1426 1427\n",
      " 1430 1431 1432 1433 1434 1436 1437 1438 1439 1440 1441 1443 1444 1445\n",
      " 1446 1447 1448 1449 1450 1451 1452 1453 1454 1455 1457 1458 1459 1460\n",
      " 1461 1463 1464 1465 1467 1468 1470 1471 1472 1473 1474 1475 1476 1477\n",
      " 1478 1480 1481 1482 1483 1484 1485 1486 1487 1488 1489 1490 1491 1492\n",
      " 1493 1495 1496 1497 1498 1499]\n",
      "Количество вхождений каждого значения столбца user_id\n",
      "1277    1463\n",
      "1089    1408\n",
      "1231    1384\n",
      "1385    1380\n",
      "1356    1224\n",
      "        ... \n",
      "1389       6\n",
      "1279       5\n",
      "1074       3\n",
      "1159       2\n",
      "1141       1\n",
      "Name: user_id, Length: 426, dtype: int64\n",
      "===================================================================================================================\n"
     ]
    },
    {
     "data": {
      "text/html": [
       "<div>\n",
       "<style scoped>\n",
       "    .dataframe tbody tr th:only-of-type {\n",
       "        vertical-align: middle;\n",
       "    }\n",
       "\n",
       "    .dataframe tbody tr th {\n",
       "        vertical-align: top;\n",
       "    }\n",
       "\n",
       "    .dataframe thead th {\n",
       "        text-align: right;\n",
       "    }\n",
       "</style>\n",
       "<table border=\"1\" class=\"dataframe\">\n",
       "  <thead>\n",
       "    <tr style=\"text-align: right;\">\n",
       "      <th></th>\n",
       "      <th>user_id</th>\n",
       "    </tr>\n",
       "  </thead>\n",
       "  <tbody>\n",
       "    <tr>\n",
       "      <td>count</td>\n",
       "      <td>123,036.000</td>\n",
       "    </tr>\n",
       "    <tr>\n",
       "      <td>mean</td>\n",
       "      <td>1,256.989</td>\n",
       "    </tr>\n",
       "    <tr>\n",
       "      <td>std</td>\n",
       "      <td>143.524</td>\n",
       "    </tr>\n",
       "    <tr>\n",
       "      <td>min</td>\n",
       "      <td>1,000.000</td>\n",
       "    </tr>\n",
       "    <tr>\n",
       "      <td>25%</td>\n",
       "      <td>1,134.000</td>\n",
       "    </tr>\n",
       "    <tr>\n",
       "      <td>50%</td>\n",
       "      <td>1,271.000</td>\n",
       "    </tr>\n",
       "    <tr>\n",
       "      <td>75%</td>\n",
       "      <td>1,381.000</td>\n",
       "    </tr>\n",
       "    <tr>\n",
       "      <td>max</td>\n",
       "      <td>1,499.000</td>\n",
       "    </tr>\n",
       "  </tbody>\n",
       "</table>\n",
       "</div>"
      ],
      "text/plain": [
       "          user_id\n",
       "count 123,036.000\n",
       "mean    1,256.989\n",
       "std       143.524\n",
       "min     1,000.000\n",
       "25%     1,134.000\n",
       "50%     1,271.000\n",
       "75%     1,381.000\n",
       "max     1,499.000"
      ]
     },
     "execution_count": 7,
     "metadata": {},
     "output_type": "execute_result"
    },
    {
     "data": {
      "image/png": "[encoded data removed]",
      "text/plain": [
       "<Figure size 1152x288 with 1 Axes>"
      ]
     },
     "metadata": {
      "needs_background": "light"
     },
     "output_type": "display_data"
    },
    {
     "data": {
      "image/png": "[encoded data removed]",
      "text/plain": [
       "<Figure size 1152x288 with 1 Axes>"
      ]
     },
     "metadata": {
      "needs_background": "light"
     },
     "output_type": "display_data"
    },
    {
     "data": {
      "image/png": "[encoded data removed]",
      "text/plain": [
       "<Figure size 1152x288 with 1 Axes>"
      ]
     },
     "metadata": {
      "needs_background": "light"
     },
     "output_type": "display_data"
    }
   ],
   "source": [
    "get_info(messages)\n",
    "messages.describe()"
   ]
  },
  {
   "cell_type": "markdown",
   "metadata": {},
   "source": [
    "**Выводы:**\n",
    "\n",
    "Столбец *id*: Без замечаний\n",
    "\n",
    "Столбец *message_date*: Конвертировать в тип *datetime*\n",
    "\n",
    "Столбец *user_id*: Без замечаний"
   ]
  },
  {
   "cell_type": "markdown",
   "metadata": {},
   "source": [
    "**Таблица *tariffs***"
   ]
  },
  {
   "cell_type": "code",
   "execution_count": 8,
   "metadata": {},
   "outputs": [
    {
     "name": "stdout",
     "output_type": "stream",
     "text": [
      "<class 'pandas.core.frame.DataFrame'>\n",
      "RangeIndex: 2 entries, 0 to 1\n",
      "Data columns (total 8 columns):\n",
      "messages_included        2 non-null int64\n",
      "mb_per_month_included    2 non-null int64\n",
      "minutes_included         2 non-null int64\n",
      "rub_monthly_fee          2 non-null int64\n",
      "rub_per_gb               2 non-null int64\n",
      "rub_per_message          2 non-null int64\n",
      "rub_per_minute           2 non-null int64\n",
      "tariff_name              2 non-null object\n",
      "dtypes: int64(7), object(1)\n",
      "memory usage: 256.0+ bytes\n",
      "===================================================================================================================\n",
      "===================================================================================================================\n",
      "Уникальные значения столбца messages_included:\n",
      "[  50 1000]\n",
      "Количество вхождений каждого значения столбца messages_included\n",
      "50      1\n",
      "1000    1\n",
      "Name: messages_included, dtype: int64\n",
      "===================================================================================================================\n",
      "Уникальные значения столбца mb_per_month_included:\n",
      "[15360 30720]\n",
      "Количество вхождений каждого значения столбца mb_per_month_included\n",
      "30720    1\n",
      "15360    1\n",
      "Name: mb_per_month_included, dtype: int64\n",
      "===================================================================================================================\n",
      "Уникальные значения столбца minutes_included:\n",
      "[ 500 3000]\n",
      "Количество вхождений каждого значения столбца minutes_included\n",
      "3000    1\n",
      "500     1\n",
      "Name: minutes_included, dtype: int64\n",
      "===================================================================================================================\n",
      "Уникальные значения столбца rub_monthly_fee:\n",
      "[ 550 1950]\n",
      "Количество вхождений каждого значения столбца rub_monthly_fee\n",
      "550     1\n",
      "1950    1\n",
      "Name: rub_monthly_fee, dtype: int64\n",
      "===================================================================================================================\n",
      "Уникальные значения столбца rub_per_gb:\n",
      "[200 150]\n",
      "Количество вхождений каждого значения столбца rub_per_gb\n",
      "150    1\n",
      "200    1\n",
      "Name: rub_per_gb, dtype: int64\n",
      "===================================================================================================================\n",
      "Уникальные значения столбца rub_per_message:\n",
      "[3 1]\n",
      "Количество вхождений каждого значения столбца rub_per_message\n",
      "3    1\n",
      "1    1\n",
      "Name: rub_per_message, dtype: int64\n",
      "===================================================================================================================\n",
      "Уникальные значения столбца rub_per_minute:\n",
      "[3 1]\n",
      "Количество вхождений каждого значения столбца rub_per_minute\n",
      "3    1\n",
      "1    1\n",
      "Name: rub_per_minute, dtype: int64\n",
      "===================================================================================================================\n",
      "Уникальные значения столбца tariff_name:\n",
      "['smart' 'ultra']\n",
      "Количество вхождений каждого значения столбца tariff_name\n",
      "smart    1\n",
      "ultra    1\n",
      "Name: tariff_name, dtype: int64\n",
      "===================================================================================================================\n"
     ]
    },
    {
     "data": {
      "text/html": [
       "<div>\n",
       "<style scoped>\n",
       "    .dataframe tbody tr th:only-of-type {\n",
       "        vertical-align: middle;\n",
       "    }\n",
       "\n",
       "    .dataframe tbody tr th {\n",
       "        vertical-align: top;\n",
       "    }\n",
       "\n",
       "    .dataframe thead th {\n",
       "        text-align: right;\n",
       "    }\n",
       "</style>\n",
       "<table border=\"1\" class=\"dataframe\">\n",
       "  <thead>\n",
       "    <tr style=\"text-align: right;\">\n",
       "      <th></th>\n",
       "      <th>messages_included</th>\n",
       "      <th>mb_per_month_included</th>\n",
       "      <th>minutes_included</th>\n",
       "      <th>rub_monthly_fee</th>\n",
       "      <th>rub_per_gb</th>\n",
       "      <th>rub_per_message</th>\n",
       "      <th>rub_per_minute</th>\n",
       "    </tr>\n",
       "  </thead>\n",
       "  <tbody>\n",
       "    <tr>\n",
       "      <td>count</td>\n",
       "      <td>2.000</td>\n",
       "      <td>2.000</td>\n",
       "      <td>2.000</td>\n",
       "      <td>2.000</td>\n",
       "      <td>2.000</td>\n",
       "      <td>2.000</td>\n",
       "      <td>2.000</td>\n",
       "    </tr>\n",
       "    <tr>\n",
       "      <td>mean</td>\n",
       "      <td>525.000</td>\n",
       "      <td>23,040.000</td>\n",
       "      <td>1,750.000</td>\n",
       "      <td>1,250.000</td>\n",
       "      <td>175.000</td>\n",
       "      <td>2.000</td>\n",
       "      <td>2.000</td>\n",
       "    </tr>\n",
       "    <tr>\n",
       "      <td>std</td>\n",
       "      <td>671.751</td>\n",
       "      <td>10,861.160</td>\n",
       "      <td>1,767.767</td>\n",
       "      <td>989.949</td>\n",
       "      <td>35.355</td>\n",
       "      <td>1.414</td>\n",
       "      <td>1.414</td>\n",
       "    </tr>\n",
       "    <tr>\n",
       "      <td>min</td>\n",
       "      <td>50.000</td>\n",
       "      <td>15,360.000</td>\n",
       "      <td>500.000</td>\n",
       "      <td>550.000</td>\n",
       "      <td>150.000</td>\n",
       "      <td>1.000</td>\n",
       "      <td>1.000</td>\n",
       "    </tr>\n",
       "    <tr>\n",
       "      <td>25%</td>\n",
       "      <td>287.500</td>\n",
       "      <td>19,200.000</td>\n",
       "      <td>1,125.000</td>\n",
       "      <td>900.000</td>\n",
       "      <td>162.500</td>\n",
       "      <td>1.500</td>\n",
       "      <td>1.500</td>\n",
       "    </tr>\n",
       "    <tr>\n",
       "      <td>50%</td>\n",
       "      <td>525.000</td>\n",
       "      <td>23,040.000</td>\n",
       "      <td>1,750.000</td>\n",
       "      <td>1,250.000</td>\n",
       "      <td>175.000</td>\n",
       "      <td>2.000</td>\n",
       "      <td>2.000</td>\n",
       "    </tr>\n",
       "    <tr>\n",
       "      <td>75%</td>\n",
       "      <td>762.500</td>\n",
       "      <td>26,880.000</td>\n",
       "      <td>2,375.000</td>\n",
       "      <td>1,600.000</td>\n",
       "      <td>187.500</td>\n",
       "      <td>2.500</td>\n",
       "      <td>2.500</td>\n",
       "    </tr>\n",
       "    <tr>\n",
       "      <td>max</td>\n",
       "      <td>1,000.000</td>\n",
       "      <td>30,720.000</td>\n",
       "      <td>3,000.000</td>\n",
       "      <td>1,950.000</td>\n",
       "      <td>200.000</td>\n",
       "      <td>3.000</td>\n",
       "      <td>3.000</td>\n",
       "    </tr>\n",
       "  </tbody>\n",
       "</table>\n",
       "</div>"
      ],
      "text/plain": [
       "       messages_included  mb_per_month_included  minutes_included  \\\n",
       "count              2.000                  2.000             2.000   \n",
       "mean             525.000             23,040.000         1,750.000   \n",
       "std              671.751             10,861.160         1,767.767   \n",
       "min               50.000             15,360.000           500.000   \n",
       "25%              287.500             19,200.000         1,125.000   \n",
       "50%              525.000             23,040.000         1,750.000   \n",
       "75%              762.500             26,880.000         2,375.000   \n",
       "max            1,000.000             30,720.000         3,000.000   \n",
       "\n",
       "       rub_monthly_fee  rub_per_gb  rub_per_message  rub_per_minute  \n",
       "count            2.000       2.000            2.000           2.000  \n",
       "mean         1,250.000     175.000            2.000           2.000  \n",
       "std            989.949      35.355            1.414           1.414  \n",
       "min            550.000     150.000            1.000           1.000  \n",
       "25%            900.000     162.500            1.500           1.500  \n",
       "50%          1,250.000     175.000            2.000           2.000  \n",
       "75%          1,600.000     187.500            2.500           2.500  \n",
       "max          1,950.000     200.000            3.000           3.000  "
      ]
     },
     "execution_count": 8,
     "metadata": {},
     "output_type": "execute_result"
    },
    {
     "data": {
      "image/png": "[encoded data removed]",
      "text/plain": [
       "<Figure size 1152x288 with 1 Axes>"
      ]
     },
     "metadata": {
      "needs_background": "light"
     },
     "output_type": "display_data"
    },
    {
     "data": {
      "image/png": "[encoded data removed]",
      "text/plain": [
       "<Figure size 1152x288 with 1 Axes>"
      ]
     },
     "metadata": {
      "needs_background": "light"
     },
     "output_type": "display_data"
    },
    {
     "data": {
      "image/png": "[encoded data removed]",
      "text/plain": [
       "<Figure size 1152x288 with 1 Axes>"
      ]
     },
     "metadata": {
      "needs_background": "light"
     },
     "output_type": "display_data"
    },
    {
     "data": {
      "image/png": "[encoded data removed]",
      "text/plain": [
       "<Figure size 1152x288 with 1 Axes>"
      ]
     },
     "metadata": {
      "needs_background": "light"
     },
     "output_type": "display_data"
    },
    {
     "data": {
      "image/png": "[encoded data removed]",
      "text/plain": [
       "<Figure size 1152x288 with 1 Axes>"
      ]
     },
     "metadata": {
      "needs_background": "light"
     },
     "output_type": "display_data"
    },
    {
     "data": {
      "image/png": "[encoded data removed]",
      "text/plain": [
       "<Figure size 1152x288 with 1 Axes>"
      ]
     },
     "metadata": {
      "needs_background": "light"
     },
     "output_type": "display_data"
    },
    {
     "data": {
      "image/png": "[encoded data removed]",
      "text/plain": [
       "<Figure size 1152x288 with 1 Axes>"
      ]
     },
     "metadata": {
      "needs_background": "light"
     },
     "output_type": "display_data"
    },
    {
     "data": {
      "image/png": "[encoded data removed]",
      "text/plain": [
       "<Figure size 1152x288 with 1 Axes>"
      ]
     },
     "metadata": {
      "needs_background": "light"
     },
     "output_type": "display_data"
    }
   ],
   "source": [
    "get_info(tariffs)\n",
    "tariffs.describe()"
   ]
  },
  {
   "cell_type": "markdown",
   "metadata": {},
   "source": [
    "**Выводы:**\n",
    "\n",
    "Все столбцы: Без замечаний"
   ]
  },
  {
   "cell_type": "markdown",
   "metadata": {},
   "source": [
    "**Таблица *users***"
   ]
  },
  {
   "cell_type": "code",
   "execution_count": 9,
   "metadata": {},
   "outputs": [
    {
     "name": "stdout",
     "output_type": "stream",
     "text": [
      "<class 'pandas.core.frame.DataFrame'>\n",
      "RangeIndex: 500 entries, 0 to 499\n",
      "Data columns (total 8 columns):\n",
      "user_id       500 non-null int64\n",
      "age           500 non-null int64\n",
      "churn_date    38 non-null object\n",
      "city          500 non-null object\n",
      "first_name    500 non-null object\n",
      "last_name     500 non-null object\n",
      "reg_date      500 non-null object\n",
      "tariff        500 non-null object\n",
      "dtypes: int64(2), object(6)\n",
      "memory usage: 31.4+ KB\n",
      "===================================================================================================================\n",
      "===================================================================================================================\n",
      "Уникальные значения столбца user_id:\n",
      "[1000 1001 1002 1003 1004 1005 1006 1007 1008 1009 1010 1011 1012 1013\n",
      " 1014 1015 1016 1017 1018 1019 1020 1021 1022 1023 1024 1025 1026 1027\n",
      " 1028 1029 1030 1031 1032 1033 1034 1035 1036 1037 1038 1039 1040 1041\n",
      " 1042 1043 1044 1045 1046 1047 1048 1049 1050 1051 1052 1053 1054 1055\n",
      " 1056 1057 1058 1059 1060 1061 1062 1063 1064 1065 1066 1067 1068 1069\n",
      " 1070 1071 1072 1073 1074 1075 1076 1077 1078 1079 1080 1081 1082 1083\n",
      " 1084 1085 1086 1087 1088 1089 1090 1091 1092 1093 1094 1095 1096 1097\n",
      " 1098 1099 1100 1101 1102 1103 1104 1105 1106 1107 1108 1109 1110 1111\n",
      " 1112 1113 1114 1115 1116 1117 1118 1119 1120 1121 1122 1123 1124 1125\n",
      " 1126 1127 1128 1129 1130 1131 1132 1133 1134 1135 1136 1137 1138 1139\n",
      " 1140 1141 1142 1143 1144 1145 1146 1147 1148 1149 1150 1151 1152 1153\n",
      " 1154 1155 1156 1157 1158 1159 1160 1161 1162 1163 1164 1165 1166 1167\n",
      " 1168 1169 1170 1171 1172 1173 1174 1175 1176 1177 1178 1179 1180 1181\n",
      " 1182 1183 1184 1185 1186 1187 1188 1189 1190 1191 1192 1193 1194 1195\n",
      " 1196 1197 1198 1199 1200 1201 1202 1203 1204 1205 1206 1207 1208 1209\n",
      " 1210 1211 1212 1213 1214 1215 1216 1217 1218 1219 1220 1221 1222 1223\n",
      " 1224 1225 1226 1227 1228 1229 1230 1231 1232 1233 1234 1235 1236 1237\n",
      " 1238 1239 1240 1241 1242 1243 1244 1245 1246 1247 1248 1249 1250 1251\n",
      " 1252 1253 1254 1255 1256 1257 1258 1259 1260 1261 1262 1263 1264 1265\n",
      " 1266 1267 1268 1269 1270 1271 1272 1273 1274 1275 1276 1277 1278 1279\n",
      " 1280 1281 1282 1283 1284 1285 1286 1287 1288 1289 1290 1291 1292 1293\n",
      " 1294 1295 1296 1297 1298 1299 1300 1301 1302 1303 1304 1305 1306 1307\n",
      " 1308 1309 1310 1311 1312 1313 1314 1315 1316 1317 1318 1319 1320 1321\n",
      " 1322 1323 1324 1325 1326 1327 1328 1329 1330 1331 1332 1333 1334 1335\n",
      " 1336 1337 1338 1339 1340 1341 1342 1343 1344 1345 1346 1347 1348 1349\n",
      " 1350 1351 1352 1353 1354 1355 1356 1357 1358 1359 1360 1361 1362 1363\n",
      " 1364 1365 1366 1367 1368 1369 1370 1371 1372 1373 1374 1375 1376 1377\n",
      " 1378 1379 1380 1381 1382 1383 1384 1385 1386 1387 1388 1389 1390 1391\n",
      " 1392 1393 1394 1395 1396 1397 1398 1399 1400 1401 1402 1403 1404 1405\n",
      " 1406 1407 1408 1409 1410 1411 1412 1413 1414 1415 1416 1417 1418 1419\n",
      " 1420 1421 1422 1423 1424 1425 1426 1427 1428 1429 1430 1431 1432 1433\n",
      " 1434 1435 1436 1437 1438 1439 1440 1441 1442 1443 1444 1445 1446 1447\n",
      " 1448 1449 1450 1451 1452 1453 1454 1455 1456 1457 1458 1459 1460 1461\n",
      " 1462 1463 1464 1465 1466 1467 1468 1469 1470 1471 1472 1473 1474 1475\n",
      " 1476 1477 1478 1479 1480 1481 1482 1483 1484 1485 1486 1487 1488 1489\n",
      " 1490 1491 1492 1493 1494 1495 1496 1497 1498 1499]\n",
      "Количество вхождений каждого значения столбца user_id\n",
      "1023    1\n",
      "1194    1\n",
      "1181    1\n",
      "1182    1\n",
      "1183    1\n",
      "       ..\n",
      "1362    1\n",
      "1363    1\n",
      "1364    1\n",
      "1365    1\n",
      "1024    1\n",
      "Name: user_id, Length: 500, dtype: int64\n",
      "===================================================================================================================\n",
      "Уникальные значения столбца age:\n",
      "[52 41 59 23 68 67 21 65 63 24 26 44 38 36 64 58 73 71 61 72 42 56 32 62\n",
      " 20 51 28 66 31 37 47 40 69 48 33 39 43 46 45 55 53 34 49 25 18 70 50 19\n",
      " 54 60 29 27 74 22 30 75 57 35]\n",
      "Количество вхождений каждого значения столбца age\n",
      "53    14\n",
      "42    14\n",
      "63    13\n",
      "71    13\n",
      "64    13\n",
      "73    12\n",
      "21    12\n",
      "40    12\n",
      "39    11\n",
      "47    11\n",
      "29    11\n",
      "26    11\n",
      "37    11\n",
      "41    10\n",
      "36    10\n",
      "58    10\n",
      "45    10\n",
      "70    10\n",
      "52    10\n",
      "51     9\n",
      "27     9\n",
      "48     9\n",
      "50     9\n",
      "28     9\n",
      "30     9\n",
      "24     9\n",
      "20     9\n",
      "19     9\n",
      "56     9\n",
      "23     9\n",
      "68     9\n",
      "66     9\n",
      "65     9\n",
      "69     8\n",
      "62     8\n",
      "60     8\n",
      "44     8\n",
      "55     8\n",
      "25     7\n",
      "43     7\n",
      "67     7\n",
      "35     7\n",
      "74     7\n",
      "32     7\n",
      "31     7\n",
      "46     7\n",
      "75     6\n",
      "54     6\n",
      "59     6\n",
      "18     6\n",
      "33     5\n",
      "34     5\n",
      "38     5\n",
      "22     5\n",
      "72     5\n",
      "49     4\n",
      "57     4\n",
      "61     3\n",
      "Name: age, dtype: int64\n",
      "===================================================================================================================\n",
      "Уникальные значения столбца churn_date:\n",
      "[nan '2018-10-05' '2018-12-18' '2018-11-21' '2018-10-03' '2018-10-14'\n",
      " '2018-12-09' '2018-12-11' '2018-12-26' '2018-08-31' '2018-12-03'\n",
      " '2018-12-23' '2018-11-07' '2018-12-16' '2018-12-20' '2018-11-30'\n",
      " '2018-12-21' '2018-08-17' '2018-09-02' '2018-10-04' '2018-11-13'\n",
      " '2018-11-22' '2018-10-28' '2018-11-26' '2018-11-27' '2018-11-16'\n",
      " '2018-10-27' '2018-12-30' '2018-09-27' '2018-12-25' '2018-12-14'\n",
      " '2018-12-24' '2018-09-26' '2018-10-25']\n",
      "Количество вхождений каждого значения столбца churn_date\n",
      "NaN           462\n",
      "2018-12-03      2\n",
      "2018-10-03      2\n",
      "2018-12-21      2\n",
      "2018-12-09      2\n",
      "2018-10-14      2\n",
      "2018-12-11      1\n",
      "2018-12-25      1\n",
      "2018-11-07      1\n",
      "2018-11-27      1\n",
      "2018-12-23      1\n",
      "2018-11-30      1\n",
      "2018-12-16      1\n",
      "2018-08-17      1\n",
      "2018-11-16      1\n",
      "2018-10-25      1\n",
      "2018-10-28      1\n",
      "2018-09-26      1\n",
      "2018-12-14      1\n",
      "2018-10-04      1\n",
      "2018-12-26      1\n",
      "2018-12-24      1\n",
      "2018-11-26      1\n",
      "2018-10-05      1\n",
      "2018-10-27      1\n",
      "2018-11-13      1\n",
      "2018-08-31      1\n",
      "2018-11-21      1\n",
      "2018-09-27      1\n",
      "2018-12-30      1\n",
      "2018-12-18      1\n",
      "2018-11-22      1\n",
      "2018-09-02      1\n",
      "2018-12-20      1\n",
      "Name: churn_date, dtype: int64\n",
      "===================================================================================================================\n",
      "Уникальные значения столбца city:\n",
      "['Краснодар' 'Москва' 'Стерлитамак' 'Новокузнецк' 'Набережные Челны'\n",
      " 'Ульяновск' 'Челябинск' 'Пермь' 'Тюмень' 'Самара' 'Санкт-Петербург'\n",
      " 'Иваново' 'Чебоксары' 'Омск' 'Уфа' 'Томск' 'Чита' 'Мурманск'\n",
      " 'Петрозаводск' 'Тверь' 'Екатеринбург' 'Махачкала' 'Вологда' 'Череповец'\n",
      " 'Ярославль' 'Сочи' 'Хабаровск' 'Ставрополь' 'Рязань' 'Улан-Удэ' 'Тула'\n",
      " 'Саратов' 'Ростов-на-Дону' 'Казань' 'Иркутск' 'Курск' 'Калуга' 'Якутск'\n",
      " 'Астрахань' 'Химки' 'Владикавказ' 'Волгоград' 'Саранск' 'Ижевск'\n",
      " 'Новосибирск' 'Брянск' 'Тольятти' 'Нижний Тагил' 'Орёл' 'Белгород'\n",
      " 'Воронеж' 'Волжский' 'Курган' 'Барнаул' 'Красноярск' 'Архангельск'\n",
      " 'Липецк' 'Кемерово' 'Киров' 'Сургут' 'Пенза' 'Магнитогорск'\n",
      " 'Нижний Новгород' 'Кострома' 'Владивосток' 'Тамбов' 'Балашиха'\n",
      " 'Севастополь' 'Калининград' 'Оренбург' 'Смоленск' 'Нижневартовск'\n",
      " 'Владимир' 'Новороссийск' 'Грозный' 'Подольск']\n",
      "Количество вхождений каждого значения столбца city\n",
      "Москва             99\n",
      "Санкт-Петербург    39\n",
      "Новосибирск        16\n",
      "Омск               14\n",
      "Казань             14\n",
      "                   ..\n",
      "Иваново             1\n",
      "Химки               1\n",
      "Подольск            1\n",
      "Нижневартовск       1\n",
      "Архангельск         1\n",
      "Name: city, Length: 76, dtype: int64\n",
      "===================================================================================================================\n",
      "Уникальные значения столбца first_name:\n",
      "['Рафаил' 'Иван' 'Евгений' 'Белла' 'Татьяна' 'Афанасий' 'Леонид' 'Юна'\n",
      " 'Рустэм' 'Василиса' 'Эдуард' 'Веселина' 'Варлам' 'Борис' 'Яков' 'Рузана'\n",
      " 'Марица' 'Мария' 'Матвей' 'Игнатий' 'Тала' 'Святослав' 'Людмила' 'Иулиан'\n",
      " 'Владислав' 'Рустем' 'Алексей' 'Мариетта' 'Лаврентий' 'Инна' 'Лия'\n",
      " 'Розалия' 'Анжелика' 'Изольда' 'Агнесса' 'Юрий' 'Михаил' 'Константин'\n",
      " 'Марианна' 'Иннокентий' 'Джемма' 'Екатерина' 'Милица' 'Лола' 'Габриель'\n",
      " 'Кристина' 'Павел' 'Ренальд' 'Луиза' 'Радислав' 'Динара' 'Лукий' 'Глеб'\n",
      " 'Тамара' 'Александр' 'Таира' 'Роза' 'Исак' 'Юзефа' 'Ким' 'Гордей' 'Эльза'\n",
      " 'Гектор' 'Андрей' 'Рафаэль' 'Фёдор' 'Харитон' 'Еремей' 'Всеволод' 'Софья'\n",
      " 'Авксентий' 'Виолетта' 'Ириней' 'Гелена' 'Ксения' 'Вера' 'Вениамин'\n",
      " 'Вероника' 'Даниэла' 'Алла' 'Элеонора' 'Аюна' 'Руслан' 'Онисим' 'Марта'\n",
      " 'Эльвира' 'Габриэль' 'Исаак' 'Милана' 'Арнольд' 'Маргарита' 'Рашид'\n",
      " 'Альберта' 'Дана' 'Олег' 'Альбин' 'Сабина' 'Яна' 'Анвар' 'Инара' 'Нина'\n",
      " 'Надежда' 'Марьяна' 'Милена' 'Пётр' 'Леся' 'Светлана' 'Клариса' 'Симона'\n",
      " 'Арсен' 'Ефим' 'Юлий' 'Владимир' 'Евдокия' 'Алиса' 'Майя' 'Лариса'\n",
      " 'Марина' 'Валерий' 'Виктория' 'Игорь' 'Эльга' 'Лев' 'Геральд' 'Клавдия'\n",
      " 'Лилия' 'Георгина' 'Вадим' 'Каролина' 'Алан' 'Агафья' 'Лолита' 'Радим'\n",
      " 'Наталья' 'Рем' 'Снежана' 'Мануэла' 'Рэм' 'Виталий' 'Рауль' 'Степан'\n",
      " 'Егор' 'Демьян' 'Агата' 'Геннадий' 'Адам' 'Мирослава' 'Елена' 'Ева'\n",
      " 'Евфросинья' 'Арина' 'Гайдар' 'Артемий' 'Рустам' 'Ермолай' 'Кузьма'\n",
      " 'Рубен' 'Ахмет' 'Раиса' 'Денис' 'Нелли' 'Касьян' 'Сара' 'Роксана' 'Леон'\n",
      " 'Алина' 'Даниил' 'Зинаида' 'Артём' 'Анатолий' 'Лейла' 'Александра'\n",
      " 'Серафима' 'Алевтина' 'Эмилия' 'Мадина' 'Антонина' 'Саида' 'Трофим'\n",
      " 'Аким' 'Мальвина' 'Аурелия' 'Мстислав' 'Аксён' 'Семён' 'Валерия'\n",
      " 'Григорий' 'Таисия' 'Арсений' 'Эдита' 'Дебора' 'Олеся' 'Альфред' 'Тихон'\n",
      " 'Наида' 'Илья' 'Инесса' 'Юлия' 'Рудольф' 'Максим' 'Инга' 'Эсмеральда'\n",
      " 'Дайна' 'Джозефина' 'Тимофей' 'Виктор' 'Валентина' 'Анита' 'Илзе'\n",
      " 'Галина' 'Варвара' 'Анфиса' 'Доминика' 'Лаура' 'Рената' 'Оксана'\n",
      " 'Георгий' 'Лидия' 'Евгения' 'Фаддей' 'Герасим' 'Радомир' 'Ренат'\n",
      " 'Владислава' 'Роберт' 'Элина' 'Станислав' 'Элла' 'Гарри' 'Берта' 'Геодар'\n",
      " 'Эльмира' 'Клара' 'Камилла' 'Джулия' 'Карина' 'Нателла' 'Леонтий'\n",
      " 'Ростислав' 'Ангелина' 'Алёна' 'Ринат' 'Эллада' 'Николай' 'Руслана'\n",
      " 'Трифон']\n",
      "Количество вхождений каждого значения столбца first_name\n",
      "Радим       6\n",
      "Пётр        5\n",
      "Леонид      5\n",
      "Клавдия     4\n",
      "Матвей      4\n",
      "           ..\n",
      "Ринат       1\n",
      "Сабина      1\n",
      "Геннадий    1\n",
      "Семён       1\n",
      "Денис       1\n",
      "Name: first_name, Length: 246, dtype: int64\n",
      "===================================================================================================================\n",
      "Уникальные значения столбца last_name:\n",
      "['Верещагин' 'Ежов' 'Абрамович' 'Белякова' 'Авдеенко' 'Горлов' 'Ермолаев'\n",
      " 'Березина' 'Пономарёв' 'Блинова' 'Кононов' 'Алёшко' 'Соловьев'\n",
      " 'Андреенко' 'Акинфьев' 'Алюшина' 'Сазонова' 'Аленникова' 'Золотов'\n",
      " 'Круглов' 'Костина' 'Тихонов' 'Трофимова' 'Мельникова' 'Антипов' 'Акинин'\n",
      " 'Бородин' 'Авдеев' 'Евсеев' 'Селезнев' 'Русанова' 'Тимофеев' 'Игнатьева'\n",
      " 'Бабушкина' 'Бондарев' 'Аракина' 'Андропова' 'Архипова' 'Денисова'\n",
      " 'Одинцов' 'Кравцов' 'Добрынин' 'Родионова' 'Рябов' 'Карасева'\n",
      " 'Александрова' 'Меркулова' 'Мясникова' 'Ларин' 'Аничкина' 'Сомова'\n",
      " 'Панов' 'Фёдоров' 'Платонова' 'Артемьев' 'Дьячкова' 'Глушков' 'Свиридов'\n",
      " 'Рудаков' 'Ситникова' 'Коршунов' 'Климова' 'Алфеева' 'Игнатова' 'Малахов'\n",
      " 'Абашкина' 'Демьянов' 'Кочетов' 'Селиванова' 'Чумаков' 'Андрейкин'\n",
      " 'Павловский' 'Никулин' 'Шарапов' 'Кольцова' 'Литвинов' 'Авроров'\n",
      " 'Игнатьев' 'Терехова' 'Малышев' 'Галкин' 'Спиридонова' 'Дорофеева'\n",
      " 'Аксёнов' 'Абалакова' 'Нечаева' 'Астафьева' 'Суслова' 'Амельченко'\n",
      " 'Лапина' 'Пугачева' 'Кабанова' 'Кулешова' 'Озерова' 'Сергеева'\n",
      " 'Красильников' 'Колобов' 'Королькова' 'Лобанова' 'Поляков' 'Рыбакова'\n",
      " 'Костин' 'Воронин' 'Болдырев' 'Андрющенко' 'Александрович' 'Макарова'\n",
      " 'Казанцев' 'Булгаков' 'Колесова' 'Толкачев' 'Шевцова' 'Латышева'\n",
      " 'Сухарев' 'Абдулина' 'Афанасова' 'Устинов' 'Андрианов' 'Арсенкова'\n",
      " 'Ильина' 'Агаева' 'Морозов' 'Крюкова' 'Афонасьева' 'Алехина' 'Аникина'\n",
      " 'Авросимова' 'Воронина' 'Левин' 'Артёшин' 'Ерофеева' 'Корнеева'\n",
      " 'Ахматулин' 'Короткова' 'Алешкова' 'Покровский' 'Ефремов' 'Алешин'\n",
      " 'Никонов' 'Синицын' 'Киреева' 'Алексеенко' 'Муравьева' 'Молчанова'\n",
      " 'Щербакова' 'Одинцова' 'Тихомирова' 'Чернов' 'Белоусова' 'Андрейчук'\n",
      " 'Авдонюшкин' 'Голованова' 'Минаева' 'Вишневский' 'Лебедев' 'Медведев'\n",
      " 'Жданов' 'Ананьева' 'Карташова' 'Козлов' 'Иванова' 'Карасев' 'Григорьева'\n",
      " 'Розанова' 'Марков' 'Куприянов' 'Жарова' 'Астапенко' 'Мишин' 'Аврорин'\n",
      " 'Агаев' 'Тарасова' 'Родина' 'Абакумов' 'Овчинников' 'Соколов' 'Зубкова'\n",
      " 'Абоимов' 'Акиндинов' 'Мальцев' 'Безруков' 'Наумов' 'Петухова' 'Чернышев'\n",
      " 'Черняев' 'Швецов' 'Демьянова' 'Ларионова' 'Веселов' 'Адаменко'\n",
      " 'Григорьев' 'Лазарева' 'Семина' 'Шарапова' 'Зеленина' 'Сахарова'\n",
      " 'Сорокин' 'Серебрякова' 'Азимова' 'Пономарев' 'Муравьёв' 'Алиев'\n",
      " 'Малинин' 'Сазонов' 'Мамонтова' 'Некрасов' 'Астапов' 'Сафонова'\n",
      " 'Панфилов' 'Тарасов' 'Горбачева' 'Бобылёв' 'Калинина' 'Алфимов'\n",
      " 'Капустин' 'Авдюков' 'Ларина' 'Алфимова' 'Алексеева' 'Басова' 'Демидов'\n",
      " 'Кошелева' 'Ёрохов' 'Шарова' 'Федосеев' 'Леонтьев' 'Макеев' 'Коновалова'\n",
      " 'Минаев' 'Авдушева' 'Ракова' 'Тетерина' 'Масленникова' 'Сухарева'\n",
      " 'Пономарева' 'Панфилова' 'Беляев' 'Третьякова' 'Горбунов' 'Пантелеева'\n",
      " 'Зайцев' 'Жукова' 'Адамов' 'Антропова' 'Седова' 'Трошин' 'Ахмадулин'\n",
      " 'Вешнякова' 'Чижова' 'Корнилов' 'Еремин' 'Елизаров' 'Крюков' 'Троицкий'\n",
      " 'Худяков' 'Зимина' 'Аракчеев' 'Крючков' 'Давыдов' 'Богданова' 'Анищенко'\n",
      " 'Дубинина' 'Асафьева' 'Черный' 'Абрамцев' 'Чеснокова' 'Симонова'\n",
      " 'Азерников' 'Авраменко' 'Абаимов' 'Абакшина' 'Соловьёв' 'Лаптева' 'Попов'\n",
      " 'Авсейкина' 'Корнилова' 'Касьянова' 'Нестеров' 'Крылова' 'Поликарпова'\n",
      " 'Суслов' 'Амелишко' 'Агапеева' 'Алымова' 'Зыков' 'Парфенов' 'Киселёв'\n",
      " 'Софронов' 'Сальников' 'Носкова' 'Барсуков' 'Севастьянова' 'Аркадьев'\n",
      " 'Золотова' 'Малинина' 'Антонова' 'Алексеичев' 'Орлов' 'Алютин' 'Кузнецов'\n",
      " 'Казакова' 'Верещагина' 'Ёркина' 'Антропов' 'Фокина' 'Громова' 'Курочкин'\n",
      " 'Козырева' 'Румянцева' 'Кулагина' 'Абрикосова' 'Гончаров' 'Ермилов'\n",
      " 'Логинов' 'Абашкин' 'Болдырева' 'Вишняков' 'Фетисова' 'Антоненко'\n",
      " 'Гришина' 'Сысоев' 'Трофимов' 'Авраамова' 'Афанасенко' 'Акимычева'\n",
      " 'Акимов' 'Семин' 'Бычкова' 'Кочергина' 'Нестерова' 'Родионов' 'Зуев'\n",
      " 'Беляева' 'Беликова' 'Зубков' 'Кондратов' 'Савельева' 'Чистякова'\n",
      " 'Ахмедов' 'Абрашина' 'Артёмов' 'Васильева' 'Измайлова' 'Амелин' 'Уваров'\n",
      " 'Белова' 'Семёнов' 'Пирогова' 'Кукушкин' 'Ильин' 'Прокофьева' 'Афонин'\n",
      " 'Фролов' 'Лукин' 'Ёлчина' 'Макаров' 'Ахматов' 'Яшина' 'Корольков'\n",
      " 'Устинова' 'Силин' 'Ёрохова' 'Фомин' 'Азаров' 'Добрынина' 'Тимофеева'\n",
      " 'Кочетков' 'Алёшкова' 'Субботина' 'Ерофеев' 'Селезнева' 'Бородина'\n",
      " 'Афонина' 'Матвеев' 'Белозёров' 'Ковалева' 'Афинин' 'Иванов' 'Артемчук'\n",
      " 'Алешина' 'Дроздов' 'Новикова' 'Козлова' 'Завьялова' 'Абалдуева'\n",
      " 'Акуленко' 'Авринский' 'Авчинникова' 'Абрамычева' 'Авросинова' 'Ёркин'\n",
      " 'Шевцов' 'Александрюк' 'Авдышев' 'Абалкин' 'Лосева' 'Гаврилова' 'Боброва'\n",
      " 'Любимов' 'Фадеева' 'Семенова' 'Серов' 'Константинова' 'Богданов'\n",
      " 'Емельянова' 'Блохина' 'Борисова' 'Сухова' 'Моргунов' 'Кириллов'\n",
      " 'Филатов' 'Алесин' 'Артёменко' 'Ахматулина' 'Андропов' 'Фокин' 'Блохин'\n",
      " 'Агеева' 'Акимчин']\n",
      "Количество вхождений каждого значения столбца last_name\n",
      "Андреенко     5\n",
      "Аничкина      3\n",
      "Абашкина      3\n",
      "Соловьев      3\n",
      "Булгаков      3\n",
      "             ..\n",
      "Азерников     1\n",
      "Денисова      1\n",
      "Терехова      1\n",
      "Пирогова      1\n",
      "Абрикосова    1\n",
      "Name: last_name, Length: 419, dtype: int64\n",
      "===================================================================================================================\n",
      "Уникальные значения столбца reg_date:\n",
      "['2018-05-25' '2018-11-01' '2018-06-17' '2018-08-17' '2018-05-14'\n",
      " '2018-01-25' '2018-02-26' '2018-04-19' '2018-12-19' '2018-03-22'\n",
      " '2018-08-05' '2018-03-19' '2018-03-28' '2018-11-14' '2018-05-15'\n",
      " '2018-04-30' '2018-11-21' '2018-05-22' '2018-04-01' '2018-05-16'\n",
      " '2018-10-22' '2018-04-26' '2018-12-01' '2018-10-31' '2018-03-15'\n",
      " '2018-10-06' '2018-04-10' '2018-10-02' '2018-09-15' '2018-05-23'\n",
      " '2018-11-02' '2018-01-04' '2018-07-15' '2018-08-26' '2018-04-03'\n",
      " '2018-07-14' '2018-10-13' '2018-10-07' '2018-06-21' '2018-06-08'\n",
      " '2018-11-29' '2018-11-25' '2018-07-08' '2018-05-09' '2018-01-30'\n",
      " '2018-08-20' '2018-10-29' '2018-08-19' '2018-03-10' '2018-06-16'\n",
      " '2018-05-28' '2018-07-27' '2018-09-30' '2018-03-20' '2018-01-02'\n",
      " '2018-04-13' '2018-03-12' '2018-04-14' '2018-11-24' '2018-11-16'\n",
      " '2018-04-12' '2018-03-17' '2018-03-08' '2018-06-24' '2018-04-09'\n",
      " '2018-07-16' '2018-12-10' '2018-08-07' '2018-01-09' '2018-02-20'\n",
      " '2018-10-04' '2018-12-30' '2018-10-23' '2018-06-19' '2018-08-12'\n",
      " '2018-03-25' '2018-10-05' '2018-04-24' '2018-12-13' '2018-06-12'\n",
      " '2018-10-03' '2018-06-04' '2018-02-24' '2018-10-11' '2018-05-08'\n",
      " '2018-06-29' '2018-12-23' '2018-06-25' '2018-06-23' '2018-03-16'\n",
      " '2018-07-02' '2018-05-21' '2018-12-04' '2018-02-21' '2018-09-29'\n",
      " '2018-07-20' '2018-02-23' '2018-05-06' '2018-09-04' '2018-01-24'\n",
      " '2018-07-26' '2018-07-28' '2018-04-17' '2018-03-06' '2018-04-22'\n",
      " '2018-05-04' '2018-11-07' '2018-03-18' '2018-09-24' '2018-09-01'\n",
      " '2018-01-19' '2018-04-11' '2018-12-15' '2018-12-17' '2018-12-08'\n",
      " '2018-10-19' '2018-01-16' '2018-01-29' '2018-11-19' '2018-12-02'\n",
      " '2018-07-13' '2018-11-09' '2018-12-31' '2018-03-24' '2018-04-27'\n",
      " '2018-04-29' '2018-07-09' '2018-05-19' '2018-02-05' '2018-10-18'\n",
      " '2018-06-02' '2018-11-12' '2018-02-03' '2018-11-28' '2018-07-03'\n",
      " '2018-10-09' '2018-11-03' '2018-10-14' '2018-12-20' '2018-05-05'\n",
      " '2018-02-17' '2018-04-08' '2018-01-20' '2018-02-02' '2018-11-23'\n",
      " '2018-07-12' '2018-09-03' '2018-08-22' '2018-02-04' '2018-12-07'\n",
      " '2018-06-30' '2018-01-01' '2018-12-03' '2018-06-18' '2018-08-15'\n",
      " '2018-09-10' '2018-04-28' '2018-08-06' '2018-09-20' '2018-03-13'\n",
      " '2018-10-21' '2018-07-29' '2018-06-20' '2018-07-05' '2018-01-21'\n",
      " '2018-11-22' '2018-06-03' '2018-08-30' '2018-12-12' '2018-06-01'\n",
      " '2018-12-22' '2018-11-04' '2018-01-08' '2018-02-27' '2018-05-02'\n",
      " '2018-11-18' '2018-09-26' '2018-08-14' '2018-02-13' '2018-02-19'\n",
      " '2018-09-28' '2018-10-30' '2018-07-17' '2018-07-01' '2018-08-29'\n",
      " '2018-05-03' '2018-08-13' '2018-07-18' '2018-06-09' '2018-09-07'\n",
      " '2018-11-27' '2018-09-23' '2018-09-09' '2018-05-11' '2018-02-08'\n",
      " '2018-09-05' '2018-09-19' '2018-06-05' '2018-01-27' '2018-09-27'\n",
      " '2018-01-23' '2018-07-25' '2018-11-05' '2018-10-25' '2018-11-30'\n",
      " '2018-08-03' '2018-10-24' '2018-03-04' '2018-08-24' '2018-08-02'\n",
      " '2018-05-29' '2018-10-16' '2018-10-08' '2018-06-26' '2018-01-15'\n",
      " '2018-06-22' '2018-12-18' '2018-07-21' '2018-04-18' '2018-09-02'\n",
      " '2018-06-14' '2018-09-14' '2018-12-14' '2018-08-18' '2018-02-06'\n",
      " '2018-12-25' '2018-01-17' '2018-05-31' '2018-02-25' '2018-08-09'\n",
      " '2018-05-07' '2018-01-13' '2018-03-26' '2018-12-21' '2018-08-27'\n",
      " '2018-07-30' '2018-05-12' '2018-01-12' '2018-01-06' '2018-12-06'\n",
      " '2018-11-06' '2018-03-09' '2018-05-20' '2018-05-27' '2018-03-14'\n",
      " '2018-08-28' '2018-07-19' '2018-02-22' '2018-10-12' '2018-08-25'\n",
      " '2018-01-26' '2018-04-23' '2018-08-04' '2018-01-05' '2018-04-04'\n",
      " '2018-11-13' '2018-09-17' '2018-12-29' '2018-08-31' '2018-09-13'\n",
      " '2018-09-16' '2018-10-10' '2018-04-06' '2018-02-28' '2018-02-11'\n",
      " '2018-07-06' '2018-01-18' '2018-11-11' '2018-02-14' '2018-04-25']\n",
      "Количество вхождений каждого значения столбца reg_date\n",
      "2018-05-28    8\n",
      "2018-10-05    5\n",
      "2018-01-04    5\n",
      "2018-11-16    5\n",
      "2018-07-16    5\n",
      "             ..\n",
      "2018-05-29    1\n",
      "2018-03-28    1\n",
      "2018-01-05    1\n",
      "2018-06-14    1\n",
      "2018-01-17    1\n",
      "Name: reg_date, Length: 270, dtype: int64\n",
      "===================================================================================================================\n",
      "Уникальные значения столбца tariff:\n",
      "['ultra' 'smart']\n",
      "Количество вхождений каждого значения столбца tariff\n",
      "smart    351\n",
      "ultra    149\n",
      "Name: tariff, dtype: int64\n",
      "===================================================================================================================\n"
     ]
    },
    {
     "data": {
      "text/html": [
       "<div>\n",
       "<style scoped>\n",
       "    .dataframe tbody tr th:only-of-type {\n",
       "        vertical-align: middle;\n",
       "    }\n",
       "\n",
       "    .dataframe tbody tr th {\n",
       "        vertical-align: top;\n",
       "    }\n",
       "\n",
       "    .dataframe thead th {\n",
       "        text-align: right;\n",
       "    }\n",
       "</style>\n",
       "<table border=\"1\" class=\"dataframe\">\n",
       "  <thead>\n",
       "    <tr style=\"text-align: right;\">\n",
       "      <th></th>\n",
       "      <th>user_id</th>\n",
       "      <th>age</th>\n",
       "    </tr>\n",
       "  </thead>\n",
       "  <tbody>\n",
       "    <tr>\n",
       "      <td>count</td>\n",
       "      <td>500.000</td>\n",
       "      <td>500.000</td>\n",
       "    </tr>\n",
       "    <tr>\n",
       "      <td>mean</td>\n",
       "      <td>1,249.500</td>\n",
       "      <td>46.588</td>\n",
       "    </tr>\n",
       "    <tr>\n",
       "      <td>std</td>\n",
       "      <td>144.482</td>\n",
       "      <td>16.668</td>\n",
       "    </tr>\n",
       "    <tr>\n",
       "      <td>min</td>\n",
       "      <td>1,000.000</td>\n",
       "      <td>18.000</td>\n",
       "    </tr>\n",
       "    <tr>\n",
       "      <td>25%</td>\n",
       "      <td>1,124.750</td>\n",
       "      <td>32.000</td>\n",
       "    </tr>\n",
       "    <tr>\n",
       "      <td>50%</td>\n",
       "      <td>1,249.500</td>\n",
       "      <td>46.000</td>\n",
       "    </tr>\n",
       "    <tr>\n",
       "      <td>75%</td>\n",
       "      <td>1,374.250</td>\n",
       "      <td>62.000</td>\n",
       "    </tr>\n",
       "    <tr>\n",
       "      <td>max</td>\n",
       "      <td>1,499.000</td>\n",
       "      <td>75.000</td>\n",
       "    </tr>\n",
       "  </tbody>\n",
       "</table>\n",
       "</div>"
      ],
      "text/plain": [
       "        user_id     age\n",
       "count   500.000 500.000\n",
       "mean  1,249.500  46.588\n",
       "std     144.482  16.668\n",
       "min   1,000.000  18.000\n",
       "25%   1,124.750  32.000\n",
       "50%   1,249.500  46.000\n",
       "75%   1,374.250  62.000\n",
       "max   1,499.000  75.000"
      ]
     },
     "execution_count": 9,
     "metadata": {},
     "output_type": "execute_result"
    },
    {
     "data": {
      "image/png": "[encoded data removed]",
      "text/plain": [
       "<Figure size 1152x288 with 1 Axes>"
      ]
     },
     "metadata": {
      "needs_background": "light"
     },
     "output_type": "display_data"
    },
    {
     "data": {
      "image/png": "[encoded data removed]",
      "text/plain": [
       "<Figure size 1152x288 with 1 Axes>"
      ]
     },
     "metadata": {
      "needs_background": "light"
     },
     "output_type": "display_data"
    },
    {
     "data": {
      "image/png": "[encoded data removed]",
      "text/plain": [
       "<Figure size 1152x288 with 1 Axes>"
      ]
     },
     "metadata": {
      "needs_background": "light"
     },
     "output_type": "display_data"
    },
    {
     "data": {
      "image/png": "[encoded data removed]",
      "text/plain": [
       "<Figure size 1152x288 with 1 Axes>"
      ]
     },
     "metadata": {
      "needs_background": "light"
     },
     "output_type": "display_data"
    },
    {
     "data": {
      "image/png": "[encoded data removed]",
      "text/plain": [
       "<Figure size 1152x288 with 1 Axes>"
      ]
     },
     "metadata": {
      "needs_background": "light"
     },
     "output_type": "display_data"
    },
    {
     "data": {
      "image/png": "[encoded data removed]",
      "text/plain": [
       "<Figure size 1152x288 with 1 Axes>"
      ]
     },
     "metadata": {
      "needs_background": "light"
     },
     "output_type": "display_data"
    },
    {
     "data": {
      "image/png": "[encoded data removed]",
      "text/plain": [
       "<Figure size 1152x288 with 1 Axes>"
      ]
     },
     "metadata": {
      "needs_background": "light"
     },
     "output_type": "display_data"
    },
    {
     "data": {
      "image/png": "[encoded data removed]",
      "text/plain": [
       "<Figure size 1152x288 with 1 Axes>"
      ]
     },
     "metadata": {
      "needs_background": "light"
     },
     "output_type": "display_data"
    }
   ],
   "source": [
    "get_info(users)\n",
    "users.describe()"
   ]
  },
  {
   "cell_type": "markdown",
   "metadata": {},
   "source": [
    "**Выводы:**\n",
    "\n",
    "Столбец *user_id*: Без замечаний\n",
    "\n",
    "Столбец *age*: Без замечаний\n",
    "\n",
    "Столбец *churn_date*: Конвертировать в тип *datetime*. Присутсвуют осознанные пропуски.\n",
    "\n",
    "Столбец *city*: Без замечаний\n",
    "\n",
    "Столбец *first_name*: Без замечаний\n",
    "\n",
    "Столбец *last_name*: Без замечаний\n",
    "\n",
    "Столбец *reg_date*: Конвертировать в тип *datetime*\n",
    "\n",
    "Столбец *tariff*: Без замечаний"
   ]
  },
  {
   "cell_type": "markdown",
   "metadata": {},
   "source": [
    "## Подготовка данных"
   ]
  },
  {
   "cell_type": "markdown",
   "metadata": {},
   "source": [
    "### Изменение типов данных"
   ]
  },
  {
   "cell_type": "markdown",
   "metadata": {},
   "source": [
    "Имеет смысл создать в таблице calls новый столбец с окгруленным в большую сторону значениями минут,а старый столбец не трогать, чтобы не терять данные для оценки среднеко и медианы. В таблице internet не стоит оглуглять трафик с сессий сразу, лучше сделать это когда будет рассчитываться оплата за месяц."
   ]
  },
  {
   "cell_type": "code",
   "execution_count": 10,
   "metadata": {},
   "outputs": [],
   "source": [
    "# Столбец duration в таблице calls\n",
    "calls['minutes'] = calls['duration'].apply(np.ceil)"
   ]
  },
  {
   "cell_type": "code",
   "execution_count": 11,
   "metadata": {},
   "outputs": [],
   "source": [
    "# Изменениv типs данных на дату создадим столбец с месяцем\n",
    "users['reg_date'] = pd.to_datetime(users['reg_date'], format='%Y-%m-%d')\n",
    "users['churn_date'] = pd.to_datetime(users['churn_date'], format='%Y-%m-%d')\n",
    "calls['call_date'] = pd.to_datetime(calls['call_date'], format='%Y-%m-%d')\n",
    "messages['message_date'] = pd.to_datetime(messages['message_date'], format='%Y-%m-%d')\n",
    "internet['session_date'] = pd.to_datetime(internet['session_date'], format='%Y-%m-%d')\n",
    "\n",
    "users['month'] = users['reg_date'].dt.month\n",
    "users['month'] = users['churn_date'].dt.month\n",
    "calls['month'] = calls['call_date'].dt.month\n",
    "messages['month'] = messages['message_date'].dt.month\n",
    "internet['month'] = internet['session_date'].dt.month"
   ]
  },
  {
   "cell_type": "markdown",
   "metadata": {},
   "source": [
    "### Поиск и исправление ошибок в данных (если есть)"
   ]
  },
  {
   "cell_type": "markdown",
   "metadata": {},
   "source": [
    "**Проверка на дубликаты и пропуски**"
   ]
  },
  {
   "cell_type": "code",
   "execution_count": 12,
   "metadata": {},
   "outputs": [
    {
     "name": "stdout",
     "output_type": "stream",
     "text": [
      "Таблица calls имеет 0 повторов\n",
      "Количество пропусков по столбцам:\n",
      "id           0\n",
      "call_date    0\n",
      "duration     0\n",
      "user_id      0\n",
      "minutes      0\n",
      "month        0\n",
      "dtype: int64\n",
      "===================================================================================================================\n",
      "Таблица internet имеет 0 повторов\n",
      "Количество пропусков по столбцам:\n",
      "id              0\n",
      "mb_used         0\n",
      "session_date    0\n",
      "user_id         0\n",
      "month           0\n",
      "dtype: int64\n",
      "===================================================================================================================\n",
      "Таблица messages имеет 0 повторов\n",
      "Количество пропусков по столбцам:\n",
      "id              0\n",
      "message_date    0\n",
      "user_id         0\n",
      "month           0\n",
      "dtype: int64\n",
      "===================================================================================================================\n",
      "Таблица tariffs имеет 0 повторов\n",
      "Количество пропусков по столбцам:\n",
      "messages_included        0\n",
      "mb_per_month_included    0\n",
      "minutes_included         0\n",
      "rub_monthly_fee          0\n",
      "rub_per_gb               0\n",
      "rub_per_message          0\n",
      "rub_per_minute           0\n",
      "tariff_name              0\n",
      "dtype: int64\n",
      "===================================================================================================================\n",
      "Таблица users имеет 0 повторов\n",
      "Количество пропусков по столбцам:\n",
      "user_id         0\n",
      "age             0\n",
      "churn_date    462\n",
      "city            0\n",
      "first_name      0\n",
      "last_name       0\n",
      "reg_date        0\n",
      "tariff          0\n",
      "month         462\n",
      "dtype: int64\n",
      "===================================================================================================================\n"
     ]
    }
   ],
   "source": [
    "datasets_name = ['calls', 'internet', 'messages', 'tariffs', 'users']\n",
    "for i in range(5):\n",
    "    print(f\"Таблица {datasets_name[i]} имеет {datasets[i].duplicated().sum()} повторов\")\n",
    "    print(f\"Количество пропусков по столбцам:\\n{datasets[i].isnull().sum()}\")\n",
    "    print('===================================================================================================================')"
   ]
  },
  {
   "cell_type": "markdown",
   "metadata": {},
   "source": [
    "Ранее было сказано, что пропуски в столбце *churn_date* означаются активный статус подключения тарифа на момент выгрузки данных, поэтому оставим пропуски."
   ]
  },
  {
   "cell_type": "markdown",
   "metadata": {},
   "source": [
    "**Выбросы**"
   ]
  },
  {
   "cell_type": "markdown",
   "metadata": {},
   "source": [
    "Рассмотрим гистрограммы длительности звонков и использованного трафика"
   ]
  },
  {
   "cell_type": "code",
   "execution_count": 13,
   "metadata": {},
   "outputs": [
    {
     "data": {
      "image/png": "[encoded data removed]",
      "text/plain": [
       "<Figure size 432x288 with 1 Axes>"
      ]
     },
     "metadata": {
      "needs_background": "light"
     },
     "output_type": "display_data"
    },
    {
     "data": {
      "image/png": "[encoded data removed]",
      "text/plain": [
       "<Figure size 432x288 with 1 Axes>"
      ]
     },
     "metadata": {
      "needs_background": "light"
     },
     "output_type": "display_data"
    }
   ],
   "source": [
    "plt.title('Calls duration')\n",
    "calls['duration'].hist(bins=38)\n",
    "plt.show()\n",
    "plt.title('MB used')\n",
    "internet['mb_used'].hist(bins=50)\n",
    "plt.show()"
   ]
  },
  {
   "cell_type": "markdown",
   "metadata": {},
   "source": [
    "По гистограммам видно, что присутсвуют достаточно много пропущенных звонков, которые влияют на среднее и являются выбросами. Также много пользователей не использовали интернет. Создадим новые таблицы для анализа только времени звонков и только используемого трафика, чтобы нулевые значения не портили выборку, изменяя среднюю и медиану."
   ]
  },
  {
   "cell_type": "code",
   "execution_count": 14,
   "metadata": {},
   "outputs": [],
   "source": [
    "calls = calls.loc[calls['duration'] != 0]\n",
    "internet = internet.loc[internet['mb_used'] != 0]"
   ]
  },
  {
   "cell_type": "markdown",
   "metadata": {},
   "source": [
    "### Расчет значений для каждого пользователя"
   ]
  },
  {
   "cell_type": "code",
   "execution_count": 15,
   "metadata": {},
   "outputs": [
    {
     "name": "stdout",
     "output_type": "stream",
     "text": [
      "Общее количество пользователей: 500\n",
      "Количество уникальных пользователей в calls: 492\n",
      "Количество уникальных пользователей в internet: 497\n",
      "Количество уникальных пользователей в messages: 426\n"
     ]
    }
   ],
   "source": [
    "print(f\"Общее количество пользователей: {users.shape[0]}\")\n",
    "print(f\"Количество уникальных пользователей в calls: {calls['user_id'].nunique()}\")\n",
    "print(f\"Количество уникальных пользователей в internet: {internet['user_id'].nunique()}\")\n",
    "print(f\"Количество уникальных пользователей в messages: {messages['user_id'].nunique()}\")"
   ]
  },
  {
   "cell_type": "markdown",
   "metadata": {},
   "source": [
    "Можно сказать, что не все пользовались своим тарифом по полной: кто-то не звонил, а кто-то не использовал интернет. Однако, их стоит вставить в соответсвующие таблицы, чтобы не терять данные."
   ]
  },
  {
   "cell_type": "markdown",
   "metadata": {},
   "source": [
    "**Количество сделанных звонков и израсходованных минут разговора по месяцам**"
   ]
  },
  {
   "cell_type": "code",
   "execution_count": 16,
   "metadata": {
    "scrolled": true
   },
   "outputs": [
    {
     "data": {
      "text/html": [
       "<div>\n",
       "<style scoped>\n",
       "    .dataframe tbody tr th:only-of-type {\n",
       "        vertical-align: middle;\n",
       "    }\n",
       "\n",
       "    .dataframe tbody tr th {\n",
       "        vertical-align: top;\n",
       "    }\n",
       "\n",
       "    .dataframe thead th {\n",
       "        text-align: right;\n",
       "    }\n",
       "</style>\n",
       "<table border=\"1\" class=\"dataframe\">\n",
       "  <thead>\n",
       "    <tr style=\"text-align: right;\">\n",
       "      <th></th>\n",
       "      <th></th>\n",
       "      <th>number_of_calls</th>\n",
       "      <th>total_spent_time</th>\n",
       "    </tr>\n",
       "    <tr>\n",
       "      <th>user_id</th>\n",
       "      <th>month</th>\n",
       "      <th></th>\n",
       "      <th></th>\n",
       "    </tr>\n",
       "  </thead>\n",
       "  <tbody>\n",
       "    <tr>\n",
       "      <td rowspan=\"8\" valign=\"top\">1000</td>\n",
       "      <td>5</td>\n",
       "      <td>17</td>\n",
       "      <td>150.060</td>\n",
       "    </tr>\n",
       "    <tr>\n",
       "      <td>6</td>\n",
       "      <td>28</td>\n",
       "      <td>158.900</td>\n",
       "    </tr>\n",
       "    <tr>\n",
       "      <td>7</td>\n",
       "      <td>41</td>\n",
       "      <td>318.800</td>\n",
       "    </tr>\n",
       "    <tr>\n",
       "      <td>8</td>\n",
       "      <td>42</td>\n",
       "      <td>389.870</td>\n",
       "    </tr>\n",
       "    <tr>\n",
       "      <td>9</td>\n",
       "      <td>46</td>\n",
       "      <td>440.140</td>\n",
       "    </tr>\n",
       "    <tr>\n",
       "      <td>10</td>\n",
       "      <td>44</td>\n",
       "      <td>328.450</td>\n",
       "    </tr>\n",
       "    <tr>\n",
       "      <td>11</td>\n",
       "      <td>37</td>\n",
       "      <td>319.040</td>\n",
       "    </tr>\n",
       "    <tr>\n",
       "      <td>12</td>\n",
       "      <td>38</td>\n",
       "      <td>312.980</td>\n",
       "    </tr>\n",
       "    <tr>\n",
       "      <td rowspan=\"2\" valign=\"top\">1001</td>\n",
       "      <td>11</td>\n",
       "      <td>45</td>\n",
       "      <td>408.120</td>\n",
       "    </tr>\n",
       "    <tr>\n",
       "      <td>12</td>\n",
       "      <td>47</td>\n",
       "      <td>391.340</td>\n",
       "    </tr>\n",
       "  </tbody>\n",
       "</table>\n",
       "</div>"
      ],
      "text/plain": [
       "               number_of_calls  total_spent_time\n",
       "user_id month                                   \n",
       "1000    5                   17           150.060\n",
       "        6                   28           158.900\n",
       "        7                   41           318.800\n",
       "        8                   42           389.870\n",
       "        9                   46           440.140\n",
       "        10                  44           328.450\n",
       "        11                  37           319.040\n",
       "        12                  38           312.980\n",
       "1001    11                  45           408.120\n",
       "        12                  47           391.340"
      ]
     },
     "execution_count": 16,
     "metadata": {},
     "output_type": "execute_result"
    }
   ],
   "source": [
    "# Создадим сводную таблицу\n",
    "calls_history = pd.pivot_table(calls, index=['user_id', 'month'], values='duration', aggfunc=['count', 'sum'])\n",
    "# Переименуем столбцы\n",
    "calls_history = calls_history.rename(columns={'count':'number_of_calls', 'sum':'total_spent_time'})\n",
    "calls_history.columns = calls_history.columns.droplevel(1)\n",
    "calls_history.head(10)"
   ]
  },
  {
   "cell_type": "markdown",
   "metadata": {},
   "source": [
    "<div class=\"alert alert-warning\">\n",
    "    \n",
    "<b> Комментарий от ревьюера 2</b>\n",
    "    \n",
    "Если ты округлил длительность разговоров в новый признак `minutes`, то стоило использовать его группировки данных\n",
    "</div>\n"
   ]
  },
  {
   "cell_type": "markdown",
   "metadata": {},
   "source": [
    "**Количество отправленных сообщений по месяцам**"
   ]
  },
  {
   "cell_type": "code",
   "execution_count": 17,
   "metadata": {},
   "outputs": [
    {
     "data": {
      "text/html": [
       "<div>\n",
       "<style scoped>\n",
       "    .dataframe tbody tr th:only-of-type {\n",
       "        vertical-align: middle;\n",
       "    }\n",
       "\n",
       "    .dataframe tbody tr th {\n",
       "        vertical-align: top;\n",
       "    }\n",
       "\n",
       "    .dataframe thead th {\n",
       "        text-align: right;\n",
       "    }\n",
       "</style>\n",
       "<table border=\"1\" class=\"dataframe\">\n",
       "  <thead>\n",
       "    <tr style=\"text-align: right;\">\n",
       "      <th></th>\n",
       "      <th></th>\n",
       "      <th>number_of_messages</th>\n",
       "    </tr>\n",
       "    <tr>\n",
       "      <th>user_id</th>\n",
       "      <th>month</th>\n",
       "      <th></th>\n",
       "    </tr>\n",
       "  </thead>\n",
       "  <tbody>\n",
       "    <tr>\n",
       "      <td rowspan=\"8\" valign=\"top\">1000</td>\n",
       "      <td>5</td>\n",
       "      <td>22</td>\n",
       "    </tr>\n",
       "    <tr>\n",
       "      <td>6</td>\n",
       "      <td>60</td>\n",
       "    </tr>\n",
       "    <tr>\n",
       "      <td>7</td>\n",
       "      <td>75</td>\n",
       "    </tr>\n",
       "    <tr>\n",
       "      <td>8</td>\n",
       "      <td>81</td>\n",
       "    </tr>\n",
       "    <tr>\n",
       "      <td>9</td>\n",
       "      <td>57</td>\n",
       "    </tr>\n",
       "    <tr>\n",
       "      <td>10</td>\n",
       "      <td>73</td>\n",
       "    </tr>\n",
       "    <tr>\n",
       "      <td>11</td>\n",
       "      <td>58</td>\n",
       "    </tr>\n",
       "    <tr>\n",
       "      <td>12</td>\n",
       "      <td>70</td>\n",
       "    </tr>\n",
       "    <tr>\n",
       "      <td rowspan=\"2\" valign=\"top\">1002</td>\n",
       "      <td>6</td>\n",
       "      <td>4</td>\n",
       "    </tr>\n",
       "    <tr>\n",
       "      <td>7</td>\n",
       "      <td>11</td>\n",
       "    </tr>\n",
       "  </tbody>\n",
       "</table>\n",
       "</div>"
      ],
      "text/plain": [
       "               number_of_messages\n",
       "user_id month                    \n",
       "1000    5                      22\n",
       "        6                      60\n",
       "        7                      75\n",
       "        8                      81\n",
       "        9                      57\n",
       "        10                     73\n",
       "        11                     58\n",
       "        12                     70\n",
       "1002    6                       4\n",
       "        7                      11"
      ]
     },
     "execution_count": 17,
     "metadata": {},
     "output_type": "execute_result"
    }
   ],
   "source": [
    "# Создадим сводную таблицу\n",
    "messages_history = pd.pivot_table(messages, index=['user_id', 'month'], values='message_date', aggfunc='count')\n",
    "messages_history.rename(columns={'message_date':'number_of_messages'}, inplace=True)\n",
    "messages_history.head(10)"
   ]
  },
  {
   "cell_type": "markdown",
   "metadata": {},
   "source": [
    "**Объем израсходованного интернет-трафика по месяцам**"
   ]
  },
  {
   "cell_type": "code",
   "execution_count": 18,
   "metadata": {},
   "outputs": [
    {
     "data": {
      "text/html": [
       "<div>\n",
       "<style scoped>\n",
       "    .dataframe tbody tr th:only-of-type {\n",
       "        vertical-align: middle;\n",
       "    }\n",
       "\n",
       "    .dataframe tbody tr th {\n",
       "        vertical-align: top;\n",
       "    }\n",
       "\n",
       "    .dataframe thead th {\n",
       "        text-align: right;\n",
       "    }\n",
       "</style>\n",
       "<table border=\"1\" class=\"dataframe\">\n",
       "  <thead>\n",
       "    <tr style=\"text-align: right;\">\n",
       "      <th></th>\n",
       "      <th></th>\n",
       "      <th>mb_used</th>\n",
       "    </tr>\n",
       "    <tr>\n",
       "      <th>user_id</th>\n",
       "      <th>month</th>\n",
       "      <th></th>\n",
       "    </tr>\n",
       "  </thead>\n",
       "  <tbody>\n",
       "    <tr>\n",
       "      <td rowspan=\"5\" valign=\"top\">1000</td>\n",
       "      <td>5</td>\n",
       "      <td>2,253.490</td>\n",
       "    </tr>\n",
       "    <tr>\n",
       "      <td>6</td>\n",
       "      <td>23,233.770</td>\n",
       "    </tr>\n",
       "    <tr>\n",
       "      <td>7</td>\n",
       "      <td>14,003.640</td>\n",
       "    </tr>\n",
       "    <tr>\n",
       "      <td>8</td>\n",
       "      <td>14,055.930</td>\n",
       "    </tr>\n",
       "    <tr>\n",
       "      <td>9</td>\n",
       "      <td>14,568.910</td>\n",
       "    </tr>\n",
       "  </tbody>\n",
       "</table>\n",
       "</div>"
      ],
      "text/plain": [
       "                 mb_used\n",
       "user_id month           \n",
       "1000    5      2,253.490\n",
       "        6     23,233.770\n",
       "        7     14,003.640\n",
       "        8     14,055.930\n",
       "        9     14,568.910"
      ]
     },
     "execution_count": 18,
     "metadata": {},
     "output_type": "execute_result"
    }
   ],
   "source": [
    "# Создадим сводную таблицу\n",
    "internet_history = pd.pivot_table(internet, index=['user_id', 'month'], values='mb_used', aggfunc='sum')\n",
    "internet_history.head()"
   ]
  },
  {
   "cell_type": "markdown",
   "metadata": {},
   "source": [
    "**Помесячная выручка с каждого пользователя (вычтите бесплатный лимит из суммарного количества звонков, сообщений и интернет-трафика; остаток умножьте на значение из тарифного плана; прибавьте абонентскую плату, соответствующую тарифному плану)**"
   ]
  },
  {
   "cell_type": "code",
   "execution_count": 19,
   "metadata": {},
   "outputs": [
    {
     "data": {
      "text/html": [
       "<div>\n",
       "<style scoped>\n",
       "    .dataframe tbody tr th:only-of-type {\n",
       "        vertical-align: middle;\n",
       "    }\n",
       "\n",
       "    .dataframe tbody tr th {\n",
       "        vertical-align: top;\n",
       "    }\n",
       "\n",
       "    .dataframe thead th {\n",
       "        text-align: right;\n",
       "    }\n",
       "</style>\n",
       "<table border=\"1\" class=\"dataframe\">\n",
       "  <thead>\n",
       "    <tr style=\"text-align: right;\">\n",
       "      <th></th>\n",
       "      <th></th>\n",
       "      <th>minutes</th>\n",
       "    </tr>\n",
       "    <tr>\n",
       "      <th>user_id</th>\n",
       "      <th>month</th>\n",
       "      <th></th>\n",
       "    </tr>\n",
       "  </thead>\n",
       "  <tbody>\n",
       "    <tr>\n",
       "      <td rowspan=\"5\" valign=\"top\">1000</td>\n",
       "      <td>5</td>\n",
       "      <td>159.000</td>\n",
       "    </tr>\n",
       "    <tr>\n",
       "      <td>6</td>\n",
       "      <td>172.000</td>\n",
       "    </tr>\n",
       "    <tr>\n",
       "      <td>7</td>\n",
       "      <td>340.000</td>\n",
       "    </tr>\n",
       "    <tr>\n",
       "      <td>8</td>\n",
       "      <td>408.000</td>\n",
       "    </tr>\n",
       "    <tr>\n",
       "      <td>9</td>\n",
       "      <td>466.000</td>\n",
       "    </tr>\n",
       "  </tbody>\n",
       "</table>\n",
       "</div>"
      ],
      "text/plain": [
       "               minutes\n",
       "user_id month         \n",
       "1000    5      159.000\n",
       "        6      172.000\n",
       "        7      340.000\n",
       "        8      408.000\n",
       "        9      466.000"
      ]
     },
     "execution_count": 19,
     "metadata": {},
     "output_type": "execute_result"
    }
   ],
   "source": [
    "# Создадим сводную таблицу для значений минут и подсчитаем только общее время звонков\n",
    "calls_history_min = pd.pivot_table(calls, index=['user_id', 'month'], values='minutes', aggfunc='sum')\n",
    "# Переименуем столбцы\n",
    "calls_history_min = calls_history_min.rename(columns={'sum':'total_spent_time'})\n",
    "calls_history_min.head()"
   ]
  },
  {
   "cell_type": "markdown",
   "metadata": {},
   "source": [
    "Посчитаем помесячную выручку от каждого абонента. написав для этого функцию"
   ]
  },
  {
   "cell_type": "code",
   "execution_count": 20,
   "metadata": {},
   "outputs": [
    {
     "data": {
      "text/html": [
       "<div>\n",
       "<style scoped>\n",
       "    .dataframe tbody tr th:only-of-type {\n",
       "        vertical-align: middle;\n",
       "    }\n",
       "\n",
       "    .dataframe tbody tr th {\n",
       "        vertical-align: top;\n",
       "    }\n",
       "\n",
       "    .dataframe thead th {\n",
       "        text-align: right;\n",
       "    }\n",
       "</style>\n",
       "<table border=\"1\" class=\"dataframe\">\n",
       "  <thead>\n",
       "    <tr style=\"text-align: right;\">\n",
       "      <th></th>\n",
       "      <th></th>\n",
       "      <th>minutes</th>\n",
       "      <th>number_of_messages</th>\n",
       "      <th>mb_used</th>\n",
       "      <th>income</th>\n",
       "    </tr>\n",
       "    <tr>\n",
       "      <th>user_id</th>\n",
       "      <th>month</th>\n",
       "      <th></th>\n",
       "      <th></th>\n",
       "      <th></th>\n",
       "      <th></th>\n",
       "    </tr>\n",
       "  </thead>\n",
       "  <tbody>\n",
       "    <tr>\n",
       "      <td rowspan=\"5\" valign=\"top\">1000</td>\n",
       "      <td>5</td>\n",
       "      <td>159.000</td>\n",
       "      <td>22.000</td>\n",
       "      <td>2,253.490</td>\n",
       "      <td>1950</td>\n",
       "    </tr>\n",
       "    <tr>\n",
       "      <td>6</td>\n",
       "      <td>172.000</td>\n",
       "      <td>60.000</td>\n",
       "      <td>23,233.770</td>\n",
       "      <td>1950</td>\n",
       "    </tr>\n",
       "    <tr>\n",
       "      <td>7</td>\n",
       "      <td>340.000</td>\n",
       "      <td>75.000</td>\n",
       "      <td>14,003.640</td>\n",
       "      <td>1950</td>\n",
       "    </tr>\n",
       "    <tr>\n",
       "      <td>8</td>\n",
       "      <td>408.000</td>\n",
       "      <td>81.000</td>\n",
       "      <td>14,055.930</td>\n",
       "      <td>1950</td>\n",
       "    </tr>\n",
       "    <tr>\n",
       "      <td>9</td>\n",
       "      <td>466.000</td>\n",
       "      <td>57.000</td>\n",
       "      <td>14,568.910</td>\n",
       "      <td>1950</td>\n",
       "    </tr>\n",
       "  </tbody>\n",
       "</table>\n",
       "</div>"
      ],
      "text/plain": [
       "               minutes  number_of_messages    mb_used  income\n",
       "user_id month                                                \n",
       "1000    5      159.000              22.000  2,253.490    1950\n",
       "        6      172.000              60.000 23,233.770    1950\n",
       "        7      340.000              75.000 14,003.640    1950\n",
       "        8      408.000              81.000 14,055.930    1950\n",
       "        9      466.000              57.000 14,568.910    1950"
      ]
     },
     "execution_count": 20,
     "metadata": {},
     "output_type": "execute_result"
    }
   ],
   "source": [
    "# Создадим сводную таблину с общей статистикой\n",
    "total_history = calls_history_min.merge(messages_history, on=['user_id', 'month'], how='outer').merge(\n",
    "    internet_history, on=['user_id', 'month'], how='outer'\n",
    ")\n",
    "# Создадим списки месяцев и услуг \n",
    "def get_income(row):    \n",
    "    # Индекс пользователя\n",
    "    user_id = row.name[0]\n",
    "    # Название тарифа\n",
    "    t_name = list(users.loc[users['user_id'] == user_id, 'tariff'])[0]\n",
    "    # Ежемесячная плата и лимиты по звонкам, СМС и интернету\n",
    "    fee = float(tariffs.loc[tariffs['tariff_name'] == t_name, 'rub_monthly_fee'])\n",
    "    calls_limit = float(tariffs.loc[tariffs['tariff_name'] == t_name, 'minutes_included'])\n",
    "    internet_limit= float(tariffs.loc[tariffs['tariff_name'] == t_name, 'mb_per_month_included'])\n",
    "    messages_limit = float(tariffs.loc[tariffs['tariff_name'] == t_name, 'messages_included'])\n",
    "    calls_price = float(tariffs.loc[tariffs['tariff_name'] == t_name, 'rub_per_minute'])\n",
    "    internet_price = float(tariffs.loc[tariffs['tariff_name'] == t_name, 'rub_per_gb'])\n",
    "    messages_price = float(tariffs.loc[tariffs['tariff_name'] == t_name, 'rub_per_message'])\n",
    "        \n",
    "    calls = row['minutes']\n",
    "    messages = row['number_of_messages']\n",
    "    internet = row['mb_used']\n",
    "    income = fee + max(0, calls - calls_limit) * calls_price + max(0, np.ceil((internet - internet_limit) / 1024)) \\\n",
    "    * internet_price + max(0, messages - messages_limit) * messages_price\n",
    "    return int(income)\n",
    "        \n",
    "total_history['income'] = total_history.apply(get_income, axis=1) \n",
    "total_history.head()"
   ]
  },
  {
   "cell_type": "markdown",
   "metadata": {},
   "source": [
    "## Анализ данных"
   ]
  },
  {
   "cell_type": "code",
   "execution_count": 21,
   "metadata": {},
   "outputs": [
    {
     "data": {
      "text/html": [
       "<div>\n",
       "<style scoped>\n",
       "    .dataframe tbody tr th:only-of-type {\n",
       "        vertical-align: middle;\n",
       "    }\n",
       "\n",
       "    .dataframe tbody tr th {\n",
       "        vertical-align: top;\n",
       "    }\n",
       "\n",
       "    .dataframe thead th {\n",
       "        text-align: right;\n",
       "    }\n",
       "</style>\n",
       "<table border=\"1\" class=\"dataframe\">\n",
       "  <thead>\n",
       "    <tr style=\"text-align: right;\">\n",
       "      <th></th>\n",
       "      <th>minutes</th>\n",
       "      <th>number_of_messages</th>\n",
       "      <th>mb_used</th>\n",
       "      <th>income</th>\n",
       "      <th>tariff</th>\n",
       "    </tr>\n",
       "    <tr>\n",
       "      <th>user_id</th>\n",
       "      <th></th>\n",
       "      <th></th>\n",
       "      <th></th>\n",
       "      <th></th>\n",
       "      <th></th>\n",
       "    </tr>\n",
       "  </thead>\n",
       "  <tbody>\n",
       "    <tr>\n",
       "      <td>1000</td>\n",
       "      <td>159.000</td>\n",
       "      <td>22.000</td>\n",
       "      <td>2,253.490</td>\n",
       "      <td>1950</td>\n",
       "      <td>ultra</td>\n",
       "    </tr>\n",
       "    <tr>\n",
       "      <td>1000</td>\n",
       "      <td>172.000</td>\n",
       "      <td>60.000</td>\n",
       "      <td>23,233.770</td>\n",
       "      <td>1950</td>\n",
       "      <td>ultra</td>\n",
       "    </tr>\n",
       "    <tr>\n",
       "      <td>1000</td>\n",
       "      <td>340.000</td>\n",
       "      <td>75.000</td>\n",
       "      <td>14,003.640</td>\n",
       "      <td>1950</td>\n",
       "      <td>ultra</td>\n",
       "    </tr>\n",
       "    <tr>\n",
       "      <td>1000</td>\n",
       "      <td>408.000</td>\n",
       "      <td>81.000</td>\n",
       "      <td>14,055.930</td>\n",
       "      <td>1950</td>\n",
       "      <td>ultra</td>\n",
       "    </tr>\n",
       "    <tr>\n",
       "      <td>1000</td>\n",
       "      <td>466.000</td>\n",
       "      <td>57.000</td>\n",
       "      <td>14,568.910</td>\n",
       "      <td>1950</td>\n",
       "      <td>ultra</td>\n",
       "    </tr>\n",
       "  </tbody>\n",
       "</table>\n",
       "</div>"
      ],
      "text/plain": [
       "         minutes  number_of_messages    mb_used  income tariff\n",
       "user_id                                                       \n",
       "1000     159.000              22.000  2,253.490    1950  ultra\n",
       "1000     172.000              60.000 23,233.770    1950  ultra\n",
       "1000     340.000              75.000 14,003.640    1950  ultra\n",
       "1000     408.000              81.000 14,055.930    1950  ultra\n",
       "1000     466.000              57.000 14,568.910    1950  ultra"
      ]
     },
     "execution_count": 21,
     "metadata": {},
     "output_type": "execute_result"
    }
   ],
   "source": [
    "# Переназначил название здесь, чтобы не менять в других местах\n",
    "total_stat = total_history\n",
    "# Добавим название тарифа\n",
    "total_stat = total_stat.merge(users[['user_id', 'tariff']], on='user_id', how='left').set_index('user_id')\n",
    "total_stat.head()"
   ]
  },
  {
   "cell_type": "code",
   "execution_count": 22,
   "metadata": {
    "scrolled": false
   },
   "outputs": [
    {
     "name": "stdout",
     "output_type": "stream",
     "text": [
      "Параметры тарифа ultra\n",
      "Среднее значение: 547.7550\n",
      "Дисперсия: 93338.4283\n",
      "Стандартное отклонение: 305.5134\n",
      "\n",
      "Параметры тарифа smart\n",
      "Среднее значение: 419.4403\n",
      "Дисперсия: 35718.1285\n",
      "Стандартное отклонение: 188.9924\n",
      "\n"
     ]
    },
    {
     "data": {
      "image/png": "[encoded data removed]",
      "text/plain": [
       "<Figure size 432x288 with 1 Axes>"
      ]
     },
     "metadata": {
      "needs_background": "light"
     },
     "output_type": "display_data"
    },
    {
     "name": "stdout",
     "output_type": "stream",
     "text": [
      "Параметры тарифа ultra\n",
      "Среднее значение: 19688.6788\n",
      "Дисперсия: 98567864.3284\n",
      "Стандартное отклонение: 9928.1350\n",
      "\n",
      "Параметры тарифа smart\n",
      "Среднее значение: 16222.9432\n",
      "Дисперсия: 34257208.7307\n",
      "Стандартное отклонение: 5852.9658\n",
      "\n"
     ]
    },
    {
     "data": {
      "image/png": "[encoded data removed]",
      "text/plain": [
       "<Figure size 432x288 with 1 Axes>"
      ]
     },
     "metadata": {
      "needs_background": "light"
     },
     "output_type": "display_data"
    },
    {
     "name": "stdout",
     "output_type": "stream",
     "text": [
      "Параметры тарифа ultra\n",
      "Среднее значение: 61.1610\n",
      "Дисперсия: 2109.6592\n",
      "Стандартное отклонение: 45.9310\n",
      "\n",
      "Параметры тарифа smart\n",
      "Среднее значение: 38.7164\n",
      "Дисперсия: 717.5942\n",
      "Стандартное отклонение: 26.7879\n",
      "\n"
     ]
    },
    {
     "data": {
      "image/png": "[encoded data removed]",
      "text/plain": [
       "<Figure size 432x288 with 1 Axes>"
      ]
     },
     "metadata": {
      "needs_background": "light"
     },
     "output_type": "display_data"
    }
   ],
   "source": [
    "services = ['minutes','mb_used', 'number_of_messages']\n",
    "tariffs_list = users['tariff'].unique()\n",
    "for service in services:    \n",
    "    plt.show()\n",
    "    for tariff in tariffs_list:\n",
    "        # Построим распределения\n",
    "        sns.distplot(total_stat.loc[total_stat['tariff'] == tariff, service], label=tariff,bins=15)\n",
    "        print(f\"Параметры тарифа {tariff}\")\n",
    "        print(f\"Среднее значение: {total_stat.loc[total_stat['tariff'] == tariff, service].mean():.4f}\")\n",
    "        print(f\"Дисперсия: {total_stat.loc[total_stat['tariff'] == tariff, service].var():.4f}\")\n",
    "        print(f\"Стандартное отклонение: {total_stat.loc[total_stat['tariff'] == tariff, service].std():.4f}\")\n",
    "        print()\n",
    "    plt.legend()\n",
    "    plt.title(service)\n",
    "    plt.show()"
   ]
  },
  {
   "cell_type": "markdown",
   "metadata": {},
   "source": [
    "**Выводы:** \n",
    "\n",
    "В среднем пользователи тарифа *ultra* тратят на 2 часа в месяц больше на разговоры. В дополнение размах почти в 2 раза больше, чем у пользователей *smart*. Распределения близки к нормальному, но присутсвуют небольше скосы влево для *smart* и вправо для *ultra*.\n",
    "\n",
    "В среднем пользователи *ultra* потребляют на 3,5 Гб больше трафика, а размах больше, чем в 2 раза. В целом оба распределения близки к нормальному.\n",
    "\n",
    "Пользователи *ultra* пишут СМС в 1,7 чаще с размахом в 2 раза больше. Для обоих тарифов распределения явно скошены вправо"
   ]
  },
  {
   "cell_type": "markdown",
   "metadata": {},
   "source": [
    "## Проверка гипотез"
   ]
  },
  {
   "cell_type": "markdown",
   "metadata": {},
   "source": [
    "### Средняя выручка пользователей тарифов «Ультра» и «Смарт» различаются"
   ]
  },
  {
   "cell_type": "code",
   "execution_count": 23,
   "metadata": {},
   "outputs": [],
   "source": [
    "# Создадим выборки с выручкой от разных тарифов\n",
    "income_smart = total_stat.loc[total_stat['tariff'] == 'smart', 'income']\n",
    "income_ultra = total_stat.loc[total_stat['tariff'] == 'ultra', 'income']"
   ]
  },
  {
   "cell_type": "markdown",
   "metadata": {},
   "source": [
    "Нулевая гипотеза: средняя выручка пользователей тарифов «Ультра» и «Смарт» не различаются\n",
    "\n",
    "Альтернативная одностороняя гипотеза: средняя выручка пользователей тарифа «Ультра» больше, чем у «Смарт»\n",
    "\n",
    "Будем использовать t-критерий Стьюдента для сравнения среднего двух выборок."
   ]
  },
  {
   "cell_type": "code",
   "execution_count": 24,
   "metadata": {},
   "outputs": [
    {
     "name": "stdout",
     "output_type": "stream",
     "text": [
      "р-значение = 1.4229814360764067e-160\n",
      "Отвергаем нулевую гипотезу. Тариф ultra приносит больше прибыли на 780 рублей в среднем в месяц\n"
     ]
    }
   ],
   "source": [
    "alpha = 0.05\n",
    "results = st.ttest_ind(income_smart, income_ultra)\n",
    "print(f\"р-значение = {results.pvalue}\")\n",
    "if (results.pvalue / 2 < alpha) & (income_ultra.mean() > income_smart.mean()):\n",
    "    print(f\"Отвергаем нулевую гипотезу. Тариф ultra приносит больше прибыли на {abs(income_smart.mean() - income_ultra.mean()):.0f} рублей в среднем в месяц\")\n",
    "else:\n",
    "    print(\"Не отвергаем нулевую гипотезу, средние выручки считаем равными.\")"
   ]
  },
  {
   "cell_type": "markdown",
   "metadata": {},
   "source": [
    "### Cредняя выручка пользователи из Москвы отличается от выручки пользователей из других регионов."
   ]
  },
  {
   "cell_type": "code",
   "execution_count": 25,
   "metadata": {},
   "outputs": [
    {
     "data": {
      "text/html": [
       "<div>\n",
       "<style scoped>\n",
       "    .dataframe tbody tr th:only-of-type {\n",
       "        vertical-align: middle;\n",
       "    }\n",
       "\n",
       "    .dataframe tbody tr th {\n",
       "        vertical-align: top;\n",
       "    }\n",
       "\n",
       "    .dataframe thead th {\n",
       "        text-align: right;\n",
       "    }\n",
       "</style>\n",
       "<table border=\"1\" class=\"dataframe\">\n",
       "  <thead>\n",
       "    <tr style=\"text-align: right;\">\n",
       "      <th></th>\n",
       "      <th>user_id</th>\n",
       "      <th>minutes</th>\n",
       "      <th>number_of_messages</th>\n",
       "      <th>mb_used</th>\n",
       "      <th>income</th>\n",
       "      <th>tariff</th>\n",
       "      <th>city</th>\n",
       "    </tr>\n",
       "  </thead>\n",
       "  <tbody>\n",
       "    <tr>\n",
       "      <td>0</td>\n",
       "      <td>1000</td>\n",
       "      <td>159.000</td>\n",
       "      <td>22.000</td>\n",
       "      <td>2,253.490</td>\n",
       "      <td>1950</td>\n",
       "      <td>ultra</td>\n",
       "      <td>Краснодар</td>\n",
       "    </tr>\n",
       "    <tr>\n",
       "      <td>1</td>\n",
       "      <td>1000</td>\n",
       "      <td>172.000</td>\n",
       "      <td>60.000</td>\n",
       "      <td>23,233.770</td>\n",
       "      <td>1950</td>\n",
       "      <td>ultra</td>\n",
       "      <td>Краснодар</td>\n",
       "    </tr>\n",
       "    <tr>\n",
       "      <td>2</td>\n",
       "      <td>1000</td>\n",
       "      <td>340.000</td>\n",
       "      <td>75.000</td>\n",
       "      <td>14,003.640</td>\n",
       "      <td>1950</td>\n",
       "      <td>ultra</td>\n",
       "      <td>Краснодар</td>\n",
       "    </tr>\n",
       "    <tr>\n",
       "      <td>3</td>\n",
       "      <td>1000</td>\n",
       "      <td>408.000</td>\n",
       "      <td>81.000</td>\n",
       "      <td>14,055.930</td>\n",
       "      <td>1950</td>\n",
       "      <td>ultra</td>\n",
       "      <td>Краснодар</td>\n",
       "    </tr>\n",
       "    <tr>\n",
       "      <td>4</td>\n",
       "      <td>1000</td>\n",
       "      <td>466.000</td>\n",
       "      <td>57.000</td>\n",
       "      <td>14,568.910</td>\n",
       "      <td>1950</td>\n",
       "      <td>ultra</td>\n",
       "      <td>Краснодар</td>\n",
       "    </tr>\n",
       "  </tbody>\n",
       "</table>\n",
       "</div>"
      ],
      "text/plain": [
       "   user_id  minutes  number_of_messages    mb_used  income tariff       city\n",
       "0     1000  159.000              22.000  2,253.490    1950  ultra  Краснодар\n",
       "1     1000  172.000              60.000 23,233.770    1950  ultra  Краснодар\n",
       "2     1000  340.000              75.000 14,003.640    1950  ultra  Краснодар\n",
       "3     1000  408.000              81.000 14,055.930    1950  ultra  Краснодар\n",
       "4     1000  466.000              57.000 14,568.910    1950  ultra  Краснодар"
      ]
     },
     "execution_count": 25,
     "metadata": {},
     "output_type": "execute_result"
    }
   ],
   "source": [
    "# Добавим столбец с городом пользователя\n",
    "total_stat = total_stat.merge(users[['user_id', 'city']], on='user_id', how='left')\n",
    "total_stat.head()"
   ]
  },
  {
   "cell_type": "code",
   "execution_count": 26,
   "metadata": {},
   "outputs": [],
   "source": [
    "# Создадим выборки с выручкой от Москвы и остальных городов\n",
    "income_Moscow = total_stat.loc[total_stat['city'] == 'Москва', 'income']\n",
    "income_others = total_stat.loc[total_stat['city'] != 'Москва', 'income']"
   ]
  },
  {
   "cell_type": "markdown",
   "metadata": {},
   "source": [
    "Нулевая гипотеза: средняя выручка пользователей из Москвы НЕ отличатеся от выручки с других городов\n",
    "\n",
    "Альтернативная гипотеза: средняя выручка пользователей из Москвы отличатеся от выручки с других городов\n",
    "\n",
    "Будем использовать t-критерий Стьюдента для сравнения среднего двух выборок."
   ]
  },
  {
   "cell_type": "code",
   "execution_count": 27,
   "metadata": {},
   "outputs": [
    {
     "name": "stdout",
     "output_type": "stream",
     "text": [
      "р-значение = 0.5440152911670224\n",
      "Не отвергаем нулевую гипотезу, доход от Москвы и других городов равны.\n"
     ]
    }
   ],
   "source": [
    "alpha = 0.05\n",
    "results = st.ttest_ind(income_Moscow, income_others)\n",
    "print(f\"р-значение = {results.pvalue}\")\n",
    "if results.pvalue < alpha:\n",
    "    print(\"Отвергаем нулевую гипотезу, доход от Москвы и других городов отличаются.\")\n",
    "else:\n",
    "    print(\"Не отвергаем нулевую гипотезу, доход от Москвы и других городов равны.\")"
   ]
  },
  {
   "cell_type": "markdown",
   "metadata": {},
   "source": [
    "## Выводы"
   ]
  },
  {
   "cell_type": "markdown",
   "metadata": {},
   "source": [
    "В данном проекте были реализованы методы предобработки данных, методы графического анализа и методы проверок гипотез.\n",
    "\n",
    "По результатам сравнения тарифов можно выделить следующие основные моменты:\n",
    "\n",
    " - В среднем пользователи тарифа *ultra* звонят на 2 часа в месяц больше при среднем времени 540 мин, на 3,5 ГБ больше используют интернет трафик при среднем значении 19,7 Гб и пишут на 30 СМС больше при среднем 64. Для всех услуг разброс для тарифа *ultra* приблизительно в 2 раза больше.\n",
    " \n",
    " - В среднем в месяц тариф *ultra* приносит на 780 рублей больше \n",
    " \n",
    " - Распределения среднего интернет трафика и помесячной длительности звонков близки к нормальному, распределение использования СМС явно скошено вправо\n",
    " \n",
    " - Гипотеза о равенстве выручки с двух тарифов отвергнута при уровне значимости 5%, значит не зря делали второй тариф\n",
    " \n",
    " - Гипотезе о равенсте выручки с Москвы и других городов не отвергнута при уровне значимости 5%"
   ]
  }
 ],
 "metadata": {
  "ExecuteTimeLog": [
   {
    "duration": 909,
    "start_time": "2021-08-18T18:58:32.916Z"
   },
   {
    "duration": 198,
    "start_time": "2021-08-18T18:58:43.922Z"
   },
   {
    "duration": 3,
    "start_time": "2021-08-18T18:59:48.856Z"
   },
   {
    "duration": 3,
    "start_time": "2021-08-18T19:00:29.962Z"
   },
   {
    "duration": 168,
    "start_time": "2021-08-18T19:01:31.474Z"
   },
   {
    "duration": 459,
    "start_time": "2021-08-18T19:04:50.334Z"
   },
   {
    "duration": 12,
    "start_time": "2021-08-18T19:04:57.359Z"
   },
   {
    "duration": 11,
    "start_time": "2021-08-18T19:05:03.240Z"
   },
   {
    "duration": 12,
    "start_time": "2021-08-18T19:05:15.995Z"
   },
   {
    "duration": 18,
    "start_time": "2021-08-18T19:05:32.877Z"
   },
   {
    "duration": 9,
    "start_time": "2021-08-18T19:05:41.984Z"
   },
   {
    "duration": 13,
    "start_time": "2021-08-18T19:05:46.729Z"
   },
   {
    "duration": 11,
    "start_time": "2021-08-18T19:05:49.835Z"
   },
   {
    "duration": 15,
    "start_time": "2021-08-18T19:05:57.425Z"
   },
   {
    "duration": 9,
    "start_time": "2021-08-18T19:06:46.849Z"
   },
   {
    "duration": 474,
    "start_time": "2021-08-18T19:07:30.082Z"
   },
   {
    "duration": 7,
    "start_time": "2021-08-18T19:07:30.558Z"
   },
   {
    "duration": 414,
    "start_time": "2021-08-18T19:07:36.602Z"
   },
   {
    "duration": 452,
    "start_time": "2021-08-18T19:08:08.406Z"
   },
   {
    "duration": 9,
    "start_time": "2021-08-18T19:08:09.277Z"
   },
   {
    "duration": 185,
    "start_time": "2021-08-18T19:08:44.678Z"
   },
   {
    "duration": 9,
    "start_time": "2021-08-18T19:08:50.277Z"
   },
   {
    "duration": 2,
    "start_time": "2021-08-18T19:08:58.824Z"
   },
   {
    "duration": 622,
    "start_time": "2021-08-18T19:09:03.502Z"
   },
   {
    "duration": 329,
    "start_time": "2021-08-18T19:09:09.585Z"
   },
   {
    "duration": 427,
    "start_time": "2021-08-18T19:09:15.073Z"
   },
   {
    "duration": 184,
    "start_time": "2021-08-18T19:09:22.275Z"
   },
   {
    "duration": 426,
    "start_time": "2021-08-18T19:09:26.733Z"
   },
   {
    "duration": 181,
    "start_time": "2021-08-18T19:09:27.160Z"
   },
   {
    "duration": 5,
    "start_time": "2021-08-18T19:09:30.417Z"
   },
   {
    "duration": 191,
    "start_time": "2021-08-18T19:10:19.439Z"
   },
   {
    "duration": 1636,
    "start_time": "2021-08-18T19:10:27.082Z"
   },
   {
    "duration": 15,
    "start_time": "2021-08-18T19:10:35.057Z"
   },
   {
    "duration": 421,
    "start_time": "2021-08-18T19:13:09.434Z"
   },
   {
    "duration": 217,
    "start_time": "2021-08-18T19:13:17.086Z"
   },
   {
    "duration": 9,
    "start_time": "2021-08-18T19:13:21.070Z"
   },
   {
    "duration": 437,
    "start_time": "2021-08-18T19:13:30.394Z"
   },
   {
    "duration": 9,
    "start_time": "2021-08-18T19:13:30.833Z"
   },
   {
    "duration": 458,
    "start_time": "2021-08-18T19:14:16.464Z"
   },
   {
    "duration": 7,
    "start_time": "2021-08-18T19:14:16.924Z"
   },
   {
    "duration": 182,
    "start_time": "2021-08-18T19:14:50.531Z"
   },
   {
    "duration": 14,
    "start_time": "2021-08-18T19:14:54.916Z"
   },
   {
    "duration": 196,
    "start_time": "2021-08-18T19:15:09.984Z"
   },
   {
    "duration": 3,
    "start_time": "2021-08-18T19:15:31.222Z"
   },
   {
    "duration": 438,
    "start_time": "2021-08-18T19:15:32.043Z"
   },
   {
    "duration": 20,
    "start_time": "2021-08-18T19:15:32.519Z"
   },
   {
    "duration": 14,
    "start_time": "2021-08-18T19:15:37.007Z"
   },
   {
    "duration": 22,
    "start_time": "2021-08-18T19:16:12.831Z"
   },
   {
    "duration": 18,
    "start_time": "2021-08-18T19:16:16.190Z"
   },
   {
    "duration": 13,
    "start_time": "2021-08-18T19:16:26.718Z"
   },
   {
    "duration": 9,
    "start_time": "2021-08-19T17:03:30.646Z"
   },
   {
    "duration": 380,
    "start_time": "2021-08-19T17:03:45.366Z"
   },
   {
    "duration": 1404,
    "start_time": "2021-08-19T17:03:52.998Z"
   },
   {
    "duration": 490,
    "start_time": "2021-08-19T17:03:54.405Z"
   },
   {
    "duration": 23,
    "start_time": "2021-08-19T17:03:54.898Z"
   },
   {
    "duration": 7,
    "start_time": "2021-08-19T17:03:54.924Z"
   },
   {
    "duration": 2028,
    "start_time": "2021-08-19T17:03:54.934Z"
   },
   {
    "duration": 7,
    "start_time": "2021-08-19T17:04:36.344Z"
   },
   {
    "duration": 1982,
    "start_time": "2021-08-19T17:04:36.561Z"
   },
   {
    "duration": 38,
    "start_time": "2021-08-19T17:04:56.284Z"
   },
   {
    "duration": 52,
    "start_time": "2021-08-19T17:05:11.307Z"
   },
   {
    "duration": 52,
    "start_time": "2021-08-19T17:05:23.726Z"
   },
   {
    "duration": 8,
    "start_time": "2021-08-19T17:06:19.178Z"
   },
   {
    "duration": 54,
    "start_time": "2021-08-19T17:06:19.862Z"
   },
   {
    "duration": 2056,
    "start_time": "2021-08-19T17:06:20.463Z"
   },
   {
    "duration": 7,
    "start_time": "2021-08-19T17:06:50.446Z"
   },
   {
    "duration": 54,
    "start_time": "2021-08-19T17:06:50.630Z"
   },
   {
    "duration": 1954,
    "start_time": "2021-08-19T17:06:53.667Z"
   },
   {
    "duration": 2042,
    "start_time": "2021-08-19T17:09:18.719Z"
   },
   {
    "duration": 8,
    "start_time": "2021-08-19T17:09:55.120Z"
   },
   {
    "duration": 2048,
    "start_time": "2021-08-19T17:09:55.584Z"
   },
   {
    "duration": 11,
    "start_time": "2021-08-19T17:10:21.535Z"
   },
   {
    "duration": 2219,
    "start_time": "2021-08-19T17:10:21.549Z"
   },
   {
    "duration": 1720,
    "start_time": "2021-08-19T17:20:19.328Z"
   },
   {
    "duration": 1318,
    "start_time": "2021-08-19T17:28:44.257Z"
   },
   {
    "duration": 2850,
    "start_time": "2021-08-19T17:32:41.235Z"
   },
   {
    "duration": 2716,
    "start_time": "2021-08-19T17:34:52.798Z"
   },
   {
    "duration": 7,
    "start_time": "2021-08-19T19:31:55.437Z"
   },
   {
    "duration": 8,
    "start_time": "2021-08-19T19:34:53.537Z"
   },
   {
    "duration": 27,
    "start_time": "2021-08-19T19:35:05.533Z"
   },
   {
    "duration": 7,
    "start_time": "2021-08-19T19:35:19.651Z"
   },
   {
    "duration": 36,
    "start_time": "2021-08-19T19:35:20.123Z"
   },
   {
    "duration": 7,
    "start_time": "2021-08-19T19:37:48.345Z"
   },
   {
    "duration": 5,
    "start_time": "2021-08-19T19:37:59.659Z"
   },
   {
    "duration": 503,
    "start_time": "2021-08-19T19:37:59.667Z"
   },
   {
    "duration": 37,
    "start_time": "2021-08-19T19:38:00.173Z"
   },
   {
    "duration": 8,
    "start_time": "2021-08-19T19:38:00.212Z"
   },
   {
    "duration": 2225,
    "start_time": "2021-08-19T19:38:00.223Z"
   },
   {
    "duration": 1835,
    "start_time": "2021-08-19T19:38:02.452Z"
   },
   {
    "duration": 1306,
    "start_time": "2021-08-19T19:38:04.289Z"
   },
   {
    "duration": 2821,
    "start_time": "2021-08-19T19:38:05.598Z"
   },
   {
    "duration": 2888,
    "start_time": "2021-08-19T19:38:08.422Z"
   },
   {
    "duration": 7,
    "start_time": "2021-08-19T19:38:11.314Z"
   },
   {
    "duration": 9,
    "start_time": "2021-08-19T19:38:23.782Z"
   },
   {
    "duration": 5,
    "start_time": "2021-08-19T19:38:40.686Z"
   },
   {
    "duration": 492,
    "start_time": "2021-08-19T19:38:40.693Z"
   },
   {
    "duration": 35,
    "start_time": "2021-08-19T19:38:41.188Z"
   },
   {
    "duration": 8,
    "start_time": "2021-08-19T19:38:41.226Z"
   },
   {
    "duration": 1967,
    "start_time": "2021-08-19T19:38:41.236Z"
   },
   {
    "duration": 1759,
    "start_time": "2021-08-19T19:38:43.205Z"
   },
   {
    "duration": 1261,
    "start_time": "2021-08-19T19:38:44.966Z"
   },
   {
    "duration": 2955,
    "start_time": "2021-08-19T19:38:46.229Z"
   },
   {
    "duration": 2745,
    "start_time": "2021-08-19T19:38:49.187Z"
   },
   {
    "duration": 3,
    "start_time": "2021-08-19T19:38:51.934Z"
   },
   {
    "duration": 3,
    "start_time": "2021-08-19T19:39:10.737Z"
   },
   {
    "duration": 86,
    "start_time": "2021-08-19T19:39:29.379Z"
   },
   {
    "duration": 6,
    "start_time": "2021-08-19T19:39:33.416Z"
   },
   {
    "duration": 28,
    "start_time": "2021-08-19T19:39:46.076Z"
   },
   {
    "duration": 5,
    "start_time": "2021-08-19T19:40:06.144Z"
   },
   {
    "duration": 491,
    "start_time": "2021-08-19T19:40:06.151Z"
   },
   {
    "duration": 35,
    "start_time": "2021-08-19T19:40:06.644Z"
   },
   {
    "duration": 9,
    "start_time": "2021-08-19T19:40:06.682Z"
   },
   {
    "duration": 2109,
    "start_time": "2021-08-19T19:40:06.693Z"
   },
   {
    "duration": 1752,
    "start_time": "2021-08-19T19:40:08.805Z"
   },
   {
    "duration": 1350,
    "start_time": "2021-08-19T19:40:10.560Z"
   },
   {
    "duration": 2887,
    "start_time": "2021-08-19T19:40:11.912Z"
   },
   {
    "duration": 2861,
    "start_time": "2021-08-19T19:40:14.801Z"
   },
   {
    "duration": 4,
    "start_time": "2021-08-19T19:40:17.665Z"
   },
   {
    "duration": 39,
    "start_time": "2021-08-19T19:40:17.684Z"
   },
   {
    "duration": 8,
    "start_time": "2021-08-19T19:40:17.727Z"
   },
   {
    "duration": 112,
    "start_time": "2021-08-19T19:40:17.737Z"
   },
   {
    "duration": 8,
    "start_time": "2021-08-19T19:40:17.851Z"
   },
   {
    "duration": 49,
    "start_time": "2021-08-19T19:40:17.861Z"
   },
   {
    "duration": 4,
    "start_time": "2021-08-19T19:40:29.604Z"
   },
   {
    "duration": 22,
    "start_time": "2021-08-19T19:42:40.750Z"
   },
   {
    "duration": 7,
    "start_time": "2021-08-19T19:42:43.489Z"
   },
   {
    "duration": 123,
    "start_time": "2021-08-19T19:42:47.441Z"
   },
   {
    "duration": 8,
    "start_time": "2021-08-19T19:42:49.607Z"
   },
   {
    "duration": 132,
    "start_time": "2021-08-19T19:44:02.228Z"
   },
   {
    "duration": 7,
    "start_time": "2021-08-19T19:44:02.637Z"
   },
   {
    "duration": 13,
    "start_time": "2021-08-19T19:47:15.015Z"
   },
   {
    "duration": 147,
    "start_time": "2021-08-19T19:48:56.453Z"
   },
   {
    "duration": 7,
    "start_time": "2021-08-19T19:48:57.149Z"
   },
   {
    "duration": 11,
    "start_time": "2021-08-19T19:49:06.542Z"
   },
   {
    "duration": 129,
    "start_time": "2021-08-19T19:49:20.975Z"
   },
   {
    "duration": 11,
    "start_time": "2021-08-19T19:49:21.989Z"
   },
   {
    "duration": 7,
    "start_time": "2021-08-19T19:49:47.296Z"
   },
   {
    "duration": 4,
    "start_time": "2021-08-19T19:50:06.113Z"
   },
   {
    "duration": 477,
    "start_time": "2021-08-19T19:50:06.120Z"
   },
   {
    "duration": 29,
    "start_time": "2021-08-19T19:50:06.600Z"
   },
   {
    "duration": 7,
    "start_time": "2021-08-19T19:50:06.632Z"
   },
   {
    "duration": 1947,
    "start_time": "2021-08-19T19:50:06.642Z"
   },
   {
    "duration": 1838,
    "start_time": "2021-08-19T19:50:08.592Z"
   },
   {
    "duration": 1259,
    "start_time": "2021-08-19T19:50:10.432Z"
   },
   {
    "duration": 2742,
    "start_time": "2021-08-19T19:50:11.693Z"
   },
   {
    "duration": 2918,
    "start_time": "2021-08-19T19:50:14.438Z"
   },
   {
    "duration": 31,
    "start_time": "2021-08-19T19:50:17.358Z"
   },
   {
    "duration": 10,
    "start_time": "2021-08-19T19:50:17.392Z"
   },
   {
    "duration": 239,
    "start_time": "2021-08-19T19:50:17.404Z"
   },
   {
    "duration": 25,
    "start_time": "2021-08-19T19:50:17.659Z"
   },
   {
    "duration": 31,
    "start_time": "2021-08-19T19:50:17.687Z"
   },
   {
    "duration": 8820,
    "start_time": "2021-08-19T19:51:07.064Z"
   },
   {
    "duration": 5,
    "start_time": "2021-08-19T19:51:25.177Z"
   },
   {
    "duration": 468,
    "start_time": "2021-08-19T19:51:25.184Z"
   },
   {
    "duration": 30,
    "start_time": "2021-08-19T19:51:25.655Z"
   },
   {
    "duration": 8,
    "start_time": "2021-08-19T19:51:25.688Z"
   },
   {
    "duration": 2029,
    "start_time": "2021-08-19T19:51:25.699Z"
   },
   {
    "duration": 1798,
    "start_time": "2021-08-19T19:51:27.730Z"
   },
   {
    "duration": 1272,
    "start_time": "2021-08-19T19:51:29.530Z"
   },
   {
    "duration": 2958,
    "start_time": "2021-08-19T19:51:30.806Z"
   },
   {
    "duration": 2733,
    "start_time": "2021-08-19T19:51:33.767Z"
   },
   {
    "duration": 193,
    "start_time": "2021-08-19T19:51:36.502Z"
   },
   {
    "duration": 8327,
    "start_time": "2021-08-19T19:52:15.064Z"
   },
   {
    "duration": 73,
    "start_time": "2021-08-19T19:52:35.937Z"
   },
   {
    "duration": 5,
    "start_time": "2021-08-19T19:52:55.924Z"
   },
   {
    "duration": 475,
    "start_time": "2021-08-19T19:52:55.931Z"
   },
   {
    "duration": 29,
    "start_time": "2021-08-19T19:52:56.408Z"
   },
   {
    "duration": 9,
    "start_time": "2021-08-19T19:52:56.441Z"
   },
   {
    "duration": 2076,
    "start_time": "2021-08-19T19:52:56.452Z"
   },
   {
    "duration": 1744,
    "start_time": "2021-08-19T19:52:58.530Z"
   },
   {
    "duration": 1337,
    "start_time": "2021-08-19T19:53:00.277Z"
   },
   {
    "duration": 2840,
    "start_time": "2021-08-19T19:53:01.617Z"
   },
   {
    "duration": 2831,
    "start_time": "2021-08-19T19:53:04.460Z"
   },
   {
    "duration": 145,
    "start_time": "2021-08-19T19:53:10.506Z"
   },
   {
    "duration": 6,
    "start_time": "2021-08-19T19:53:27.628Z"
   },
   {
    "duration": 485,
    "start_time": "2021-08-19T19:53:27.637Z"
   },
   {
    "duration": 35,
    "start_time": "2021-08-19T19:53:28.125Z"
   },
   {
    "duration": 7,
    "start_time": "2021-08-19T19:53:28.163Z"
   },
   {
    "duration": 2058,
    "start_time": "2021-08-19T19:53:28.173Z"
   },
   {
    "duration": 1780,
    "start_time": "2021-08-19T19:53:30.234Z"
   },
   {
    "duration": 1387,
    "start_time": "2021-08-19T19:53:32.017Z"
   },
   {
    "duration": 2807,
    "start_time": "2021-08-19T19:53:33.409Z"
   },
   {
    "duration": 2904,
    "start_time": "2021-08-19T19:53:36.219Z"
   },
   {
    "duration": 169,
    "start_time": "2021-08-19T19:53:39.125Z"
   },
   {
    "duration": 76,
    "start_time": "2021-08-19T19:58:59.012Z"
   },
   {
    "duration": 75,
    "start_time": "2021-08-19T20:00:27.282Z"
   },
   {
    "duration": 345,
    "start_time": "2021-08-20T17:38:15.608Z"
   },
   {
    "duration": 1473,
    "start_time": "2021-08-20T17:38:21.207Z"
   },
   {
    "duration": 531,
    "start_time": "2021-08-20T17:38:22.683Z"
   },
   {
    "duration": 22,
    "start_time": "2021-08-20T17:38:23.217Z"
   },
   {
    "duration": 8,
    "start_time": "2021-08-20T17:38:23.241Z"
   },
   {
    "duration": 2200,
    "start_time": "2021-08-20T17:38:23.252Z"
   },
   {
    "duration": 1885,
    "start_time": "2021-08-20T17:38:25.455Z"
   },
   {
    "duration": 1536,
    "start_time": "2021-08-20T17:38:27.342Z"
   },
   {
    "duration": 3086,
    "start_time": "2021-08-20T17:38:28.881Z"
   },
   {
    "duration": 2938,
    "start_time": "2021-08-20T17:38:31.970Z"
   },
   {
    "duration": 209,
    "start_time": "2021-08-20T17:38:34.910Z"
   },
   {
    "duration": 85,
    "start_time": "2021-08-20T17:38:35.122Z"
   },
   {
    "duration": 338,
    "start_time": "2021-08-20T17:38:35.209Z"
   },
   {
    "duration": 199,
    "start_time": "2021-08-20T17:39:16.545Z"
   },
   {
    "duration": 30,
    "start_time": "2021-08-20T17:39:49.537Z"
   },
   {
    "duration": 19,
    "start_time": "2021-08-20T17:40:00.255Z"
   },
   {
    "duration": 367,
    "start_time": "2021-08-20T17:40:25.991Z"
   },
   {
    "duration": 311,
    "start_time": "2021-08-20T17:41:30.998Z"
   },
   {
    "duration": 175,
    "start_time": "2021-08-20T17:42:30.482Z"
   },
   {
    "duration": 29,
    "start_time": "2021-08-20T17:42:48.186Z"
   },
   {
    "duration": 15,
    "start_time": "2021-08-20T17:42:52.992Z"
   },
   {
    "duration": 214,
    "start_time": "2021-08-20T17:43:44.404Z"
   },
   {
    "duration": 309,
    "start_time": "2021-08-20T17:45:39.044Z"
   },
   {
    "duration": 372,
    "start_time": "2021-08-20T17:45:42.167Z"
   },
   {
    "duration": 314,
    "start_time": "2021-08-20T17:52:15.081Z"
   },
   {
    "duration": 218,
    "start_time": "2021-08-20T17:53:23.994Z"
   },
   {
    "duration": 215,
    "start_time": "2021-08-20T17:53:34.945Z"
   },
   {
    "duration": 293,
    "start_time": "2021-08-20T17:54:21.476Z"
   },
   {
    "duration": 58,
    "start_time": "2021-08-20T17:54:27.825Z"
   },
   {
    "duration": 4,
    "start_time": "2021-08-20T17:57:35.999Z"
   },
   {
    "duration": 4,
    "start_time": "2021-08-20T17:57:39.957Z"
   },
   {
    "duration": 276,
    "start_time": "2021-08-20T17:58:05.512Z"
   },
   {
    "duration": 273,
    "start_time": "2021-08-20T17:58:24.088Z"
   },
   {
    "duration": 7,
    "start_time": "2021-08-20T19:25:25.007Z"
   },
   {
    "duration": 11,
    "start_time": "2021-08-20T19:25:33.467Z"
   },
   {
    "duration": 7,
    "start_time": "2021-08-20T19:25:52.720Z"
   },
   {
    "duration": 8,
    "start_time": "2021-08-20T19:26:02.502Z"
   },
   {
    "duration": 7,
    "start_time": "2021-08-20T19:26:15.219Z"
   },
   {
    "duration": 18,
    "start_time": "2021-08-20T19:26:19.806Z"
   },
   {
    "duration": 20,
    "start_time": "2021-08-20T19:26:58.513Z"
   },
   {
    "duration": 21,
    "start_time": "2021-08-20T19:27:10.529Z"
   },
   {
    "duration": 11,
    "start_time": "2021-08-20T19:27:44.484Z"
   },
   {
    "duration": 17,
    "start_time": "2021-08-20T19:27:52.133Z"
   },
   {
    "duration": 13,
    "start_time": "2021-08-20T19:28:05.540Z"
   },
   {
    "duration": 6,
    "start_time": "2021-08-20T19:29:45.986Z"
   },
   {
    "duration": 7644,
    "start_time": "2021-08-20T19:30:21.027Z"
   },
   {
    "duration": 5,
    "start_time": "2021-08-20T19:30:32.053Z"
   },
   {
    "duration": 580,
    "start_time": "2021-08-20T19:30:32.061Z"
   },
   {
    "duration": 21,
    "start_time": "2021-08-20T19:30:32.644Z"
   },
   {
    "duration": 12,
    "start_time": "2021-08-20T19:30:32.667Z"
   },
   {
    "duration": 2240,
    "start_time": "2021-08-20T19:30:32.682Z"
   },
   {
    "duration": 1891,
    "start_time": "2021-08-20T19:30:34.924Z"
   },
   {
    "duration": 1496,
    "start_time": "2021-08-20T19:30:36.817Z"
   },
   {
    "duration": 3106,
    "start_time": "2021-08-20T19:30:38.315Z"
   },
   {
    "duration": 2899,
    "start_time": "2021-08-20T19:30:41.425Z"
   },
   {
    "duration": 8,
    "start_time": "2021-08-20T19:30:44.327Z"
   },
   {
    "duration": 6,
    "start_time": "2021-08-20T19:30:44.337Z"
   },
   {
    "duration": 9,
    "start_time": "2021-08-20T19:30:50.170Z"
   },
   {
    "duration": 5,
    "start_time": "2021-08-20T19:31:08.159Z"
   },
   {
    "duration": 553,
    "start_time": "2021-08-20T19:31:08.166Z"
   },
   {
    "duration": 35,
    "start_time": "2021-08-20T19:31:08.722Z"
   },
   {
    "duration": 11,
    "start_time": "2021-08-20T19:31:08.760Z"
   },
   {
    "duration": 2251,
    "start_time": "2021-08-20T19:31:08.774Z"
   },
   {
    "duration": 1979,
    "start_time": "2021-08-20T19:31:11.027Z"
   },
   {
    "duration": 1433,
    "start_time": "2021-08-20T19:31:13.008Z"
   },
   {
    "duration": 3023,
    "start_time": "2021-08-20T19:31:14.443Z"
   },
   {
    "duration": 3117,
    "start_time": "2021-08-20T19:31:17.469Z"
   },
   {
    "duration": 10,
    "start_time": "2021-08-20T19:31:20.590Z"
   },
   {
    "duration": 5,
    "start_time": "2021-08-20T19:31:20.603Z"
   },
   {
    "duration": 117,
    "start_time": "2021-08-20T19:31:20.611Z"
   },
   {
    "duration": 303,
    "start_time": "2021-08-20T19:31:20.731Z"
   },
   {
    "duration": 24,
    "start_time": "2021-08-20T19:31:21.037Z"
   },
   {
    "duration": 32,
    "start_time": "2021-08-20T19:31:21.064Z"
   },
   {
    "duration": 8247,
    "start_time": "2021-08-20T19:31:21.100Z"
   },
   {
    "duration": 720,
    "start_time": "2021-08-20T19:31:28.629Z"
   },
   {
    "duration": 719,
    "start_time": "2021-08-20T19:31:28.632Z"
   },
   {
    "duration": 718,
    "start_time": "2021-08-20T19:31:28.634Z"
   },
   {
    "duration": 15,
    "start_time": "2021-08-20T19:31:39.702Z"
   },
   {
    "duration": 10,
    "start_time": "2021-08-20T19:31:55.887Z"
   },
   {
    "duration": 14,
    "start_time": "2021-08-20T19:31:56.177Z"
   },
   {
    "duration": 709,
    "start_time": "2021-08-20T19:32:03.218Z"
   },
   {
    "duration": 710,
    "start_time": "2021-08-20T19:32:03.219Z"
   },
   {
    "duration": 711,
    "start_time": "2021-08-20T19:32:03.220Z"
   },
   {
    "duration": 6,
    "start_time": "2021-08-20T19:32:21.463Z"
   },
   {
    "duration": 21,
    "start_time": "2021-08-20T19:32:27.167Z"
   },
   {
    "duration": 7,
    "start_time": "2021-08-20T19:32:27.447Z"
   },
   {
    "duration": 10,
    "start_time": "2021-08-20T19:32:27.804Z"
   },
   {
    "duration": 22,
    "start_time": "2021-08-20T19:32:46.004Z"
   },
   {
    "duration": 7,
    "start_time": "2021-08-20T19:32:46.222Z"
   },
   {
    "duration": 11,
    "start_time": "2021-08-20T19:32:46.564Z"
   },
   {
    "duration": 325,
    "start_time": "2021-08-20T19:35:53.597Z"
   },
   {
    "duration": 391,
    "start_time": "2021-08-20T19:36:38.282Z"
   },
   {
    "duration": 595,
    "start_time": "2021-08-20T19:37:01.777Z"
   },
   {
    "duration": 312,
    "start_time": "2021-08-20T19:37:15.500Z"
   },
   {
    "duration": 4748,
    "start_time": "2021-08-20T19:37:22.747Z"
   },
   {
    "duration": 853,
    "start_time": "2021-08-20T19:37:33.414Z"
   },
   {
    "duration": 688,
    "start_time": "2021-08-20T19:38:02.000Z"
   },
   {
    "duration": 405,
    "start_time": "2021-08-20T19:41:19.940Z"
   },
   {
    "duration": 543,
    "start_time": "2021-08-20T19:41:31.253Z"
   },
   {
    "duration": 408,
    "start_time": "2021-08-20T19:41:35.241Z"
   },
   {
    "duration": 402,
    "start_time": "2021-08-20T19:41:39.086Z"
   },
   {
    "duration": 388,
    "start_time": "2021-08-20T19:41:43.606Z"
   },
   {
    "duration": 383,
    "start_time": "2021-08-20T19:41:46.800Z"
   },
   {
    "duration": 119,
    "start_time": "2021-08-20T19:41:57.644Z"
   },
   {
    "duration": 544,
    "start_time": "2021-08-20T19:42:01.206Z"
   },
   {
    "duration": 791,
    "start_time": "2021-08-20T19:42:18.180Z"
   },
   {
    "duration": 1044,
    "start_time": "2021-08-20T19:42:24.501Z"
   },
   {
    "duration": 1034,
    "start_time": "2021-08-20T19:42:31.974Z"
   },
   {
    "duration": 626,
    "start_time": "2021-08-20T19:42:42.170Z"
   },
   {
    "duration": 1014,
    "start_time": "2021-08-20T19:42:48.043Z"
   },
   {
    "duration": 783,
    "start_time": "2021-08-20T19:43:12.202Z"
   },
   {
    "duration": 891,
    "start_time": "2021-08-20T19:43:29.269Z"
   },
   {
    "duration": 773,
    "start_time": "2021-08-20T19:43:33.478Z"
   },
   {
    "duration": 20,
    "start_time": "2021-08-20T19:46:30.605Z"
   },
   {
    "duration": 15,
    "start_time": "2021-08-20T19:46:35.383Z"
   },
   {
    "duration": 16,
    "start_time": "2021-08-20T19:46:40.484Z"
   },
   {
    "duration": 5785,
    "start_time": "2021-08-20T19:48:32.187Z"
   },
   {
    "duration": 38,
    "start_time": "2021-08-20T19:48:48.857Z"
   },
   {
    "duration": 18,
    "start_time": "2021-08-20T19:48:52.569Z"
   },
   {
    "duration": 6,
    "start_time": "2021-08-20T19:49:55.801Z"
   },
   {
    "duration": 9,
    "start_time": "2021-08-20T19:50:00.447Z"
   },
   {
    "duration": 7,
    "start_time": "2021-08-20T19:50:13.335Z"
   },
   {
    "duration": 9,
    "start_time": "2021-08-20T19:50:18.543Z"
   },
   {
    "duration": 323,
    "start_time": "2021-08-20T20:02:25.060Z"
   },
   {
    "duration": 6,
    "start_time": "2021-08-20T20:02:48.362Z"
   },
   {
    "duration": 83,
    "start_time": "2021-08-20T20:03:02.027Z"
   },
   {
    "duration": 6,
    "start_time": "2021-08-20T20:03:32.560Z"
   },
   {
    "duration": 28,
    "start_time": "2021-08-20T20:03:42.494Z"
   },
   {
    "duration": 8,
    "start_time": "2021-08-20T20:05:08.937Z"
   },
   {
    "duration": 7,
    "start_time": "2021-08-20T20:05:38.482Z"
   },
   {
    "duration": 6,
    "start_time": "2021-08-20T20:05:44.569Z"
   },
   {
    "duration": 313,
    "start_time": "2021-08-20T20:05:54.894Z"
   },
   {
    "duration": 6,
    "start_time": "2021-08-20T20:05:55.238Z"
   },
   {
    "duration": 80,
    "start_time": "2021-08-20T20:06:01.792Z"
   },
   {
    "duration": 6,
    "start_time": "2021-08-20T20:06:02.511Z"
   },
   {
    "duration": 78,
    "start_time": "2021-08-20T20:06:12.610Z"
   },
   {
    "duration": 77,
    "start_time": "2021-08-20T20:06:29.384Z"
   },
   {
    "duration": 5,
    "start_time": "2021-08-20T20:06:29.575Z"
   },
   {
    "duration": 294,
    "start_time": "2021-08-20T20:07:46.321Z"
   },
   {
    "duration": 4,
    "start_time": "2021-08-20T20:07:49.407Z"
   },
   {
    "duration": 78,
    "start_time": "2021-08-20T20:07:49.585Z"
   },
   {
    "duration": 6,
    "start_time": "2021-08-20T20:07:51.791Z"
   },
   {
    "duration": 80,
    "start_time": "2021-08-20T20:09:16.326Z"
   },
   {
    "duration": 83,
    "start_time": "2021-08-20T20:09:22.026Z"
   },
   {
    "duration": 5,
    "start_time": "2021-08-20T20:09:54.729Z"
   },
   {
    "duration": 574,
    "start_time": "2021-08-20T20:09:54.736Z"
   },
   {
    "duration": 24,
    "start_time": "2021-08-20T20:09:55.312Z"
   },
   {
    "duration": 7,
    "start_time": "2021-08-20T20:09:55.339Z"
   },
   {
    "duration": 2231,
    "start_time": "2021-08-20T20:09:55.349Z"
   },
   {
    "duration": 1937,
    "start_time": "2021-08-20T20:09:57.582Z"
   },
   {
    "duration": 1433,
    "start_time": "2021-08-20T20:09:59.522Z"
   },
   {
    "duration": 3249,
    "start_time": "2021-08-20T20:10:00.959Z"
   },
   {
    "duration": 2983,
    "start_time": "2021-08-20T20:10:04.211Z"
   },
   {
    "duration": 9,
    "start_time": "2021-08-20T20:10:07.196Z"
   },
   {
    "duration": 4,
    "start_time": "2021-08-20T20:10:07.207Z"
   },
   {
    "duration": 125,
    "start_time": "2021-08-20T20:10:07.213Z"
   },
   {
    "duration": 9,
    "start_time": "2021-08-20T20:10:33.857Z"
   },
   {
    "duration": 7,
    "start_time": "2021-08-20T20:10:38.026Z"
   },
   {
    "duration": 5,
    "start_time": "2021-08-20T20:10:40.606Z"
   },
   {
    "duration": 8,
    "start_time": "2021-08-20T20:10:51.960Z"
   },
   {
    "duration": 5,
    "start_time": "2021-08-20T20:11:03.796Z"
   },
   {
    "duration": 560,
    "start_time": "2021-08-20T20:11:03.803Z"
   },
   {
    "duration": 22,
    "start_time": "2021-08-20T20:11:04.366Z"
   },
   {
    "duration": 14,
    "start_time": "2021-08-20T20:11:04.391Z"
   },
   {
    "duration": 2150,
    "start_time": "2021-08-20T20:11:04.407Z"
   },
   {
    "duration": 1935,
    "start_time": "2021-08-20T20:11:06.559Z"
   },
   {
    "duration": 1582,
    "start_time": "2021-08-20T20:11:08.497Z"
   },
   {
    "duration": 3207,
    "start_time": "2021-08-20T20:11:10.081Z"
   },
   {
    "duration": 2995,
    "start_time": "2021-08-20T20:11:13.293Z"
   },
   {
    "duration": 11,
    "start_time": "2021-08-20T20:11:16.292Z"
   },
   {
    "duration": 7,
    "start_time": "2021-08-20T20:11:16.306Z"
   },
   {
    "duration": 130,
    "start_time": "2021-08-20T20:11:16.315Z"
   },
   {
    "duration": 25,
    "start_time": "2021-08-20T20:11:16.460Z"
   },
   {
    "duration": 6,
    "start_time": "2021-08-20T20:11:20.349Z"
   },
   {
    "duration": 6,
    "start_time": "2021-08-20T20:11:22.668Z"
   },
   {
    "duration": 6,
    "start_time": "2021-08-20T20:11:23.160Z"
   },
   {
    "duration": 8,
    "start_time": "2021-08-20T20:12:14.763Z"
   },
   {
    "duration": 318,
    "start_time": "2021-08-20T20:12:32.909Z"
   },
   {
    "duration": 82,
    "start_time": "2021-08-20T20:14:28.781Z"
   },
   {
    "duration": 5,
    "start_time": "2021-08-20T20:14:35.357Z"
   },
   {
    "duration": 83,
    "start_time": "2021-08-20T20:15:53.047Z"
   },
   {
    "duration": 8,
    "start_time": "2021-08-20T20:16:14.917Z"
   },
   {
    "duration": 82,
    "start_time": "2021-08-20T20:16:17.404Z"
   },
   {
    "duration": 88,
    "start_time": "2021-08-20T20:17:27.002Z"
   },
   {
    "duration": 4,
    "start_time": "2021-08-20T20:17:37.968Z"
   },
   {
    "duration": 22,
    "start_time": "2021-08-20T20:17:41.399Z"
   },
   {
    "duration": 5,
    "start_time": "2021-08-20T20:17:43.561Z"
   },
   {
    "duration": 8,
    "start_time": "2021-08-20T20:17:55.650Z"
   },
   {
    "duration": 10,
    "start_time": "2021-08-20T20:18:11.469Z"
   },
   {
    "duration": 8,
    "start_time": "2021-08-20T20:18:13.131Z"
   },
   {
    "duration": 5,
    "start_time": "2021-08-20T20:18:52.708Z"
   },
   {
    "duration": 537,
    "start_time": "2021-08-20T20:18:52.715Z"
   },
   {
    "duration": 36,
    "start_time": "2021-08-20T20:18:53.255Z"
   },
   {
    "duration": 7,
    "start_time": "2021-08-20T20:18:53.295Z"
   },
   {
    "duration": 2163,
    "start_time": "2021-08-20T20:18:53.305Z"
   },
   {
    "duration": 1856,
    "start_time": "2021-08-20T20:18:55.470Z"
   },
   {
    "duration": 1378,
    "start_time": "2021-08-20T20:18:57.328Z"
   },
   {
    "duration": 3237,
    "start_time": "2021-08-20T20:18:58.708Z"
   },
   {
    "duration": 3088,
    "start_time": "2021-08-20T20:19:01.950Z"
   },
   {
    "duration": 9,
    "start_time": "2021-08-20T20:19:05.040Z"
   },
   {
    "duration": 11,
    "start_time": "2021-08-20T20:19:05.051Z"
   },
   {
    "duration": 107,
    "start_time": "2021-08-20T20:19:05.064Z"
   },
   {
    "duration": 3,
    "start_time": "2021-08-20T20:19:05.173Z"
   },
   {
    "duration": 261,
    "start_time": "2021-08-20T20:19:05.187Z"
   },
   {
    "duration": 792,
    "start_time": "2021-08-20T20:19:05.451Z"
   },
   {
    "duration": 46,
    "start_time": "2021-08-20T20:19:06.246Z"
   },
   {
    "duration": 6,
    "start_time": "2021-08-20T20:19:06.295Z"
   },
   {
    "duration": 2747,
    "start_time": "2021-08-20T20:19:06.304Z"
   },
   {
    "duration": 34,
    "start_time": "2021-08-20T20:19:22.544Z"
   },
   {
    "duration": 34,
    "start_time": "2021-08-20T20:19:41.770Z"
   },
   {
    "duration": 32,
    "start_time": "2021-08-20T20:20:37.066Z"
   },
   {
    "duration": 7,
    "start_time": "2021-08-20T20:20:41.282Z"
   },
   {
    "duration": 17,
    "start_time": "2021-08-20T20:20:46.753Z"
   },
   {
    "duration": 2351,
    "start_time": "2021-08-20T20:20:57.645Z"
   },
   {
    "duration": 156,
    "start_time": "2021-08-20T20:21:36.917Z"
   },
   {
    "duration": 32,
    "start_time": "2021-08-20T20:21:39.399Z"
   },
   {
    "duration": 99,
    "start_time": "2021-08-20T20:21:39.576Z"
   },
   {
    "duration": 309,
    "start_time": "2021-08-20T20:21:48.240Z"
   },
   {
    "duration": 35,
    "start_time": "2021-08-20T20:21:52.243Z"
   },
   {
    "duration": 31,
    "start_time": "2021-08-20T20:21:53.116Z"
   },
   {
    "duration": 323,
    "start_time": "2021-08-20T20:21:53.387Z"
   },
   {
    "duration": 2367,
    "start_time": "2021-08-20T20:22:22.056Z"
   },
   {
    "duration": 2552,
    "start_time": "2021-08-20T20:22:38.683Z"
   },
   {
    "duration": 311,
    "start_time": "2021-08-20T20:22:53.711Z"
   },
   {
    "duration": 332,
    "start_time": "2021-08-20T20:23:24.905Z"
   },
   {
    "duration": 364,
    "start_time": "2021-08-20T20:24:27.811Z"
   },
   {
    "duration": 348,
    "start_time": "2021-08-20T20:25:11.015Z"
   },
   {
    "duration": 344,
    "start_time": "2021-08-20T20:25:18.940Z"
   },
   {
    "duration": 113,
    "start_time": "2021-08-20T20:27:47.512Z"
   },
   {
    "duration": 351,
    "start_time": "2021-08-20T20:27:50.530Z"
   },
   {
    "duration": 350,
    "start_time": "2021-08-20T20:28:28.875Z"
   },
   {
    "duration": 337,
    "start_time": "2021-08-20T20:28:35.507Z"
   },
   {
    "duration": 334,
    "start_time": "2021-08-20T20:29:31.025Z"
   },
   {
    "duration": 403,
    "start_time": "2021-08-20T20:30:04.140Z"
   },
   {
    "duration": 352,
    "start_time": "2021-08-20T20:30:09.160Z"
   },
   {
    "duration": 419,
    "start_time": "2021-08-20T20:31:36.525Z"
   },
   {
    "duration": 350,
    "start_time": "2021-08-20T20:32:16.465Z"
   },
   {
    "duration": 75,
    "start_time": "2021-08-20T20:32:29.173Z"
   },
   {
    "duration": 43,
    "start_time": "2021-08-20T20:32:35.995Z"
   },
   {
    "duration": 83,
    "start_time": "2021-08-20T20:33:08.239Z"
   },
   {
    "duration": 39,
    "start_time": "2021-08-20T20:33:09.028Z"
   },
   {
    "duration": 5,
    "start_time": "2021-08-20T20:33:20.478Z"
   },
   {
    "duration": 563,
    "start_time": "2021-08-20T20:33:20.486Z"
   },
   {
    "duration": 26,
    "start_time": "2021-08-20T20:33:21.052Z"
   },
   {
    "duration": 35,
    "start_time": "2021-08-20T20:33:21.081Z"
   },
   {
    "duration": 2398,
    "start_time": "2021-08-20T20:33:21.119Z"
   },
   {
    "duration": 2078,
    "start_time": "2021-08-20T20:33:23.521Z"
   },
   {
    "duration": 1500,
    "start_time": "2021-08-20T20:33:25.601Z"
   },
   {
    "duration": 3033,
    "start_time": "2021-08-20T20:33:27.106Z"
   },
   {
    "duration": 2985,
    "start_time": "2021-08-20T20:33:30.142Z"
   },
   {
    "duration": 9,
    "start_time": "2021-08-20T20:33:33.129Z"
   },
   {
    "duration": 37,
    "start_time": "2021-08-20T20:33:33.140Z"
   },
   {
    "duration": 140,
    "start_time": "2021-08-20T20:33:33.180Z"
   },
   {
    "duration": 3,
    "start_time": "2021-08-20T20:33:33.322Z"
   },
   {
    "duration": 265,
    "start_time": "2021-08-20T20:33:33.327Z"
   },
   {
    "duration": 801,
    "start_time": "2021-08-20T20:33:33.594Z"
   },
   {
    "duration": 31,
    "start_time": "2021-08-20T20:33:34.456Z"
   },
   {
    "duration": 31,
    "start_time": "2021-08-20T20:33:35.005Z"
   },
   {
    "duration": 16,
    "start_time": "2021-08-20T20:33:40.579Z"
   },
   {
    "duration": 18,
    "start_time": "2021-08-20T20:33:45.525Z"
   },
   {
    "duration": 36,
    "start_time": "2021-08-20T20:34:14.923Z"
   },
   {
    "duration": 31,
    "start_time": "2021-08-20T20:34:17.277Z"
   },
   {
    "duration": 16,
    "start_time": "2021-08-20T20:34:17.676Z"
   },
   {
    "duration": 17,
    "start_time": "2021-08-20T20:34:21.281Z"
   },
   {
    "duration": 337,
    "start_time": "2021-08-20T20:35:08.599Z"
   },
   {
    "duration": 39,
    "start_time": "2021-08-20T20:35:08.998Z"
   },
   {
    "duration": 81,
    "start_time": "2021-08-20T20:35:16.077Z"
   },
   {
    "duration": 39,
    "start_time": "2021-08-20T20:35:16.294Z"
   },
   {
    "duration": 77,
    "start_time": "2021-08-20T20:35:21.177Z"
   },
   {
    "duration": 6,
    "start_time": "2021-08-20T20:35:25.013Z"
   },
   {
    "duration": 550,
    "start_time": "2021-08-20T20:35:25.022Z"
   },
   {
    "duration": 29,
    "start_time": "2021-08-20T20:35:25.576Z"
   },
   {
    "duration": 8,
    "start_time": "2021-08-20T20:35:25.608Z"
   },
   {
    "duration": 2211,
    "start_time": "2021-08-20T20:35:25.618Z"
   },
   {
    "duration": 1946,
    "start_time": "2021-08-20T20:35:27.831Z"
   },
   {
    "duration": 1439,
    "start_time": "2021-08-20T20:35:29.780Z"
   },
   {
    "duration": 2958,
    "start_time": "2021-08-20T20:35:31.221Z"
   },
   {
    "duration": 3224,
    "start_time": "2021-08-20T20:35:34.189Z"
   },
   {
    "duration": 10,
    "start_time": "2021-08-20T20:35:37.416Z"
   },
   {
    "duration": 13,
    "start_time": "2021-08-20T20:35:37.429Z"
   },
   {
    "duration": 115,
    "start_time": "2021-08-20T20:35:37.445Z"
   },
   {
    "duration": 3,
    "start_time": "2021-08-20T20:35:37.562Z"
   },
   {
    "duration": 285,
    "start_time": "2021-08-20T20:35:37.567Z"
   },
   {
    "duration": 852,
    "start_time": "2021-08-20T20:35:37.854Z"
   },
   {
    "duration": 41,
    "start_time": "2021-08-20T20:35:38.709Z"
   },
   {
    "duration": 93,
    "start_time": "2021-08-20T20:35:38.753Z"
   },
   {
    "duration": 51,
    "start_time": "2021-08-20T20:35:38.848Z"
   },
   {
    "duration": 16,
    "start_time": "2021-08-20T20:35:42.855Z"
   },
   {
    "duration": 17,
    "start_time": "2021-08-20T20:35:47.452Z"
   },
   {
    "duration": 345,
    "start_time": "2021-08-20T20:36:06.197Z"
   },
   {
    "duration": 91,
    "start_time": "2021-08-20T20:36:19.079Z"
   },
   {
    "duration": 42,
    "start_time": "2021-08-20T20:36:19.277Z"
   },
   {
    "duration": 88,
    "start_time": "2021-08-20T20:36:56.041Z"
   },
   {
    "duration": 41,
    "start_time": "2021-08-20T20:36:56.349Z"
   },
   {
    "duration": 1229,
    "start_time": "2021-08-20T20:37:37.953Z"
   },
   {
    "duration": 748,
    "start_time": "2021-08-20T20:37:38.436Z"
   },
   {
    "duration": 84,
    "start_time": "2021-08-20T20:39:29.808Z"
   },
   {
    "duration": 40,
    "start_time": "2021-08-20T20:39:30.622Z"
   },
   {
    "duration": 10,
    "start_time": "2021-08-20T20:41:36.673Z"
   },
   {
    "duration": 40,
    "start_time": "2021-08-20T20:41:40.276Z"
   },
   {
    "duration": 5,
    "start_time": "2021-08-20T20:41:58.887Z"
   },
   {
    "duration": 562,
    "start_time": "2021-08-20T20:41:58.895Z"
   },
   {
    "duration": 29,
    "start_time": "2021-08-20T20:41:59.460Z"
   },
   {
    "duration": 8,
    "start_time": "2021-08-20T20:41:59.492Z"
   },
   {
    "duration": 2262,
    "start_time": "2021-08-20T20:41:59.503Z"
   },
   {
    "duration": 2029,
    "start_time": "2021-08-20T20:42:01.767Z"
   },
   {
    "duration": 1510,
    "start_time": "2021-08-20T20:42:03.799Z"
   },
   {
    "duration": 3063,
    "start_time": "2021-08-20T20:42:05.313Z"
   },
   {
    "duration": 3203,
    "start_time": "2021-08-20T20:42:08.389Z"
   },
   {
    "duration": 10,
    "start_time": "2021-08-20T20:42:11.595Z"
   },
   {
    "duration": 9,
    "start_time": "2021-08-20T20:42:11.608Z"
   },
   {
    "duration": 115,
    "start_time": "2021-08-20T20:42:11.620Z"
   },
   {
    "duration": 3,
    "start_time": "2021-08-20T20:42:11.738Z"
   },
   {
    "duration": 249,
    "start_time": "2021-08-20T20:42:11.744Z"
   },
   {
    "duration": 807,
    "start_time": "2021-08-20T20:42:11.995Z"
   },
   {
    "duration": 2,
    "start_time": "2021-08-20T20:42:12.805Z"
   },
   {
    "duration": 110,
    "start_time": "2021-08-20T20:42:12.810Z"
   },
   {
    "duration": 41,
    "start_time": "2021-08-20T20:42:12.922Z"
   },
   {
    "duration": 28,
    "start_time": "2021-08-20T20:42:30.240Z"
   },
   {
    "duration": 5,
    "start_time": "2021-08-20T20:42:41.166Z"
   },
   {
    "duration": 7,
    "start_time": "2021-08-20T20:43:06.327Z"
   },
   {
    "duration": 5,
    "start_time": "2021-08-20T20:43:24.251Z"
   },
   {
    "duration": 529,
    "start_time": "2021-08-20T20:43:24.259Z"
   },
   {
    "duration": 33,
    "start_time": "2021-08-20T20:43:24.791Z"
   },
   {
    "duration": 12,
    "start_time": "2021-08-20T20:43:24.826Z"
   },
   {
    "duration": 5,
    "start_time": "2021-08-20T20:43:31.819Z"
   },
   {
    "duration": 8,
    "start_time": "2021-08-20T20:43:55.823Z"
   },
   {
    "duration": 6,
    "start_time": "2021-08-20T20:44:03.632Z"
   },
   {
    "duration": 15,
    "start_time": "2021-08-20T20:45:12.305Z"
   },
   {
    "duration": 168,
    "start_time": "2021-08-20T20:48:50.018Z"
   },
   {
    "duration": 331,
    "start_time": "2021-08-20T20:50:30.508Z"
   },
   {
    "duration": 36,
    "start_time": "2021-08-20T20:50:44.290Z"
   },
   {
    "duration": 15,
    "start_time": "2021-08-20T20:50:45.931Z"
   },
   {
    "duration": 42,
    "start_time": "2021-08-20T20:50:51.093Z"
   },
   {
    "duration": 37,
    "start_time": "2021-08-20T20:51:11.178Z"
   },
   {
    "duration": 19,
    "start_time": "2021-08-20T20:51:11.742Z"
   },
   {
    "duration": 103,
    "start_time": "2021-08-20T20:51:36.269Z"
   },
   {
    "duration": 308,
    "start_time": "2021-08-20T20:51:52.166Z"
   },
   {
    "duration": 19,
    "start_time": "2021-08-20T20:51:53.411Z"
   },
   {
    "duration": 36,
    "start_time": "2021-08-20T20:52:01.742Z"
   },
   {
    "duration": 40,
    "start_time": "2021-08-20T20:52:03.380Z"
   },
   {
    "duration": 18,
    "start_time": "2021-08-20T20:52:12.623Z"
   },
   {
    "duration": 40,
    "start_time": "2021-08-20T20:52:31.890Z"
   },
   {
    "duration": 22,
    "start_time": "2021-08-20T20:52:33.353Z"
   },
   {
    "duration": 28,
    "start_time": "2021-08-20T20:52:43.776Z"
   },
   {
    "duration": 20,
    "start_time": "2021-08-20T20:52:44.743Z"
   },
   {
    "duration": 37,
    "start_time": "2021-08-20T20:52:52.111Z"
   },
   {
    "duration": 19,
    "start_time": "2021-08-20T20:52:52.470Z"
   },
   {
    "duration": 47,
    "start_time": "2021-08-20T20:53:21.230Z"
   },
   {
    "duration": 1517,
    "start_time": "2021-08-21T08:15:25.311Z"
   },
   {
    "duration": 570,
    "start_time": "2021-08-21T08:15:26.831Z"
   },
   {
    "duration": 23,
    "start_time": "2021-08-21T08:15:27.405Z"
   },
   {
    "duration": 18,
    "start_time": "2021-08-21T08:15:27.431Z"
   },
   {
    "duration": 2151,
    "start_time": "2021-08-21T08:15:27.452Z"
   },
   {
    "duration": 1873,
    "start_time": "2021-08-21T08:15:29.606Z"
   },
   {
    "duration": 1484,
    "start_time": "2021-08-21T08:15:31.482Z"
   },
   {
    "duration": 2897,
    "start_time": "2021-08-21T08:15:32.968Z"
   },
   {
    "duration": 2913,
    "start_time": "2021-08-21T08:15:35.868Z"
   },
   {
    "duration": 19,
    "start_time": "2021-08-21T08:15:38.784Z"
   },
   {
    "duration": 3,
    "start_time": "2021-08-21T08:15:38.807Z"
   },
   {
    "duration": 192,
    "start_time": "2021-08-21T08:15:38.814Z"
   },
   {
    "duration": 3,
    "start_time": "2021-08-21T08:15:39.008Z"
   },
   {
    "duration": 400,
    "start_time": "2021-08-21T08:15:39.014Z"
   },
   {
    "duration": 900,
    "start_time": "2021-08-21T08:15:39.416Z"
   },
   {
    "duration": 28,
    "start_time": "2021-08-21T08:15:40.318Z"
   },
   {
    "duration": 126,
    "start_time": "2021-08-21T08:15:40.349Z"
   },
   {
    "duration": 62,
    "start_time": "2021-08-21T08:15:40.479Z"
   },
   {
    "duration": 26,
    "start_time": "2021-08-21T08:15:40.544Z"
   },
   {
    "duration": 37,
    "start_time": "2021-08-21T08:15:40.572Z"
   },
   {
    "duration": 19,
    "start_time": "2021-08-21T08:15:41.293Z"
   },
   {
    "duration": 16,
    "start_time": "2021-08-21T08:15:58.484Z"
   },
   {
    "duration": 423,
    "start_time": "2021-08-21T08:16:54.590Z"
   },
   {
    "duration": 5,
    "start_time": "2021-08-21T08:16:57.229Z"
   },
   {
    "duration": 5,
    "start_time": "2021-08-21T08:17:02.214Z"
   },
   {
    "duration": 91,
    "start_time": "2021-08-21T08:17:43.350Z"
   },
   {
    "duration": 6,
    "start_time": "2021-08-21T08:17:52.928Z"
   },
   {
    "duration": 10,
    "start_time": "2021-08-21T08:18:26.382Z"
   },
   {
    "duration": 98,
    "start_time": "2021-08-21T08:22:39.373Z"
   },
   {
    "duration": 283,
    "start_time": "2021-08-21T08:22:43.335Z"
   },
   {
    "duration": 304,
    "start_time": "2021-08-21T08:24:38.778Z"
   },
   {
    "duration": 312,
    "start_time": "2021-08-21T08:24:57.804Z"
   },
   {
    "duration": 53,
    "start_time": "2021-08-21T08:26:59.920Z"
   },
   {
    "duration": 7,
    "start_time": "2021-08-21T08:27:16.988Z"
   },
   {
    "duration": 34,
    "start_time": "2021-08-21T08:27:23.320Z"
   },
   {
    "duration": 128,
    "start_time": "2021-08-21T08:28:58.565Z"
   },
   {
    "duration": 34,
    "start_time": "2021-08-21T08:28:58.771Z"
   },
   {
    "duration": 5,
    "start_time": "2021-08-21T08:29:16.852Z"
   },
   {
    "duration": 556,
    "start_time": "2021-08-21T08:29:16.860Z"
   },
   {
    "duration": 23,
    "start_time": "2021-08-21T08:29:17.419Z"
   },
   {
    "duration": 12,
    "start_time": "2021-08-21T08:29:17.444Z"
   },
   {
    "duration": 2091,
    "start_time": "2021-08-21T08:29:17.459Z"
   },
   {
    "duration": 1863,
    "start_time": "2021-08-21T08:29:19.553Z"
   },
   {
    "duration": 1364,
    "start_time": "2021-08-21T08:29:21.418Z"
   },
   {
    "duration": 2969,
    "start_time": "2021-08-21T08:29:22.786Z"
   },
   {
    "duration": 2988,
    "start_time": "2021-08-21T08:29:25.758Z"
   },
   {
    "duration": 12,
    "start_time": "2021-08-21T08:29:28.749Z"
   },
   {
    "duration": 4,
    "start_time": "2021-08-21T08:29:28.764Z"
   },
   {
    "duration": 169,
    "start_time": "2021-08-21T08:29:28.800Z"
   },
   {
    "duration": 4,
    "start_time": "2021-08-21T08:29:28.971Z"
   },
   {
    "duration": 288,
    "start_time": "2021-08-21T08:29:28.978Z"
   },
   {
    "duration": 798,
    "start_time": "2021-08-21T08:29:29.269Z"
   },
   {
    "duration": 51,
    "start_time": "2021-08-21T08:29:30.070Z"
   },
   {
    "duration": 9,
    "start_time": "2021-08-21T08:29:30.123Z"
   },
   {
    "duration": 44,
    "start_time": "2021-08-21T08:29:30.134Z"
   },
   {
    "duration": 53,
    "start_time": "2021-08-21T08:29:30.180Z"
   },
   {
    "duration": 7,
    "start_time": "2021-08-21T08:29:33.099Z"
   },
   {
    "duration": 7,
    "start_time": "2021-08-21T08:29:37.266Z"
   },
   {
    "duration": 78,
    "start_time": "2021-08-21T08:29:46.343Z"
   },
   {
    "duration": 34,
    "start_time": "2021-08-21T08:29:46.873Z"
   },
   {
    "duration": 6493,
    "start_time": "2021-08-21T08:29:49.119Z"
   },
   {
    "duration": 41,
    "start_time": "2021-08-21T08:29:56.272Z"
   },
   {
    "duration": 151,
    "start_time": "2021-08-21T08:30:16.563Z"
   },
   {
    "duration": 35,
    "start_time": "2021-08-21T08:30:16.755Z"
   },
   {
    "duration": 4,
    "start_time": "2021-08-21T08:30:23.216Z"
   },
   {
    "duration": 548,
    "start_time": "2021-08-21T08:30:23.223Z"
   },
   {
    "duration": 30,
    "start_time": "2021-08-21T08:30:23.774Z"
   },
   {
    "duration": 7,
    "start_time": "2021-08-21T08:30:23.807Z"
   },
   {
    "duration": 2100,
    "start_time": "2021-08-21T08:30:23.816Z"
   },
   {
    "duration": 1883,
    "start_time": "2021-08-21T08:30:25.919Z"
   },
   {
    "duration": 1338,
    "start_time": "2021-08-21T08:30:27.805Z"
   },
   {
    "duration": 3065,
    "start_time": "2021-08-21T08:30:29.147Z"
   },
   {
    "duration": 2934,
    "start_time": "2021-08-21T08:30:32.215Z"
   },
   {
    "duration": 10,
    "start_time": "2021-08-21T08:30:35.151Z"
   },
   {
    "duration": 6,
    "start_time": "2021-08-21T08:30:35.164Z"
   },
   {
    "duration": 200,
    "start_time": "2021-08-21T08:30:35.172Z"
   },
   {
    "duration": 4,
    "start_time": "2021-08-21T08:30:35.375Z"
   },
   {
    "duration": 255,
    "start_time": "2021-08-21T08:30:35.381Z"
   },
   {
    "duration": 835,
    "start_time": "2021-08-21T08:30:35.639Z"
   },
   {
    "duration": 46,
    "start_time": "2021-08-21T08:30:36.477Z"
   },
   {
    "duration": 12,
    "start_time": "2021-08-21T08:30:36.526Z"
   },
   {
    "duration": 18,
    "start_time": "2021-08-21T08:30:59.584Z"
   },
   {
    "duration": 7,
    "start_time": "2021-08-21T08:31:06.789Z"
   },
   {
    "duration": 18,
    "start_time": "2021-08-21T08:31:12.486Z"
   },
   {
    "duration": 17,
    "start_time": "2021-08-21T08:31:17.661Z"
   },
   {
    "duration": 4,
    "start_time": "2021-08-21T08:31:30.750Z"
   },
   {
    "duration": 548,
    "start_time": "2021-08-21T08:31:30.757Z"
   },
   {
    "duration": 37,
    "start_time": "2021-08-21T08:31:31.309Z"
   },
   {
    "duration": 13,
    "start_time": "2021-08-21T08:31:31.350Z"
   },
   {
    "duration": 2294,
    "start_time": "2021-08-21T08:31:31.366Z"
   },
   {
    "duration": 1893,
    "start_time": "2021-08-21T08:31:33.663Z"
   },
   {
    "duration": 1541,
    "start_time": "2021-08-21T08:31:35.559Z"
   },
   {
    "duration": 4288,
    "start_time": "2021-08-21T08:31:37.103Z"
   },
   {
    "duration": 3314,
    "start_time": "2021-08-21T08:31:41.404Z"
   },
   {
    "duration": 9,
    "start_time": "2021-08-21T08:31:44.723Z"
   },
   {
    "duration": 3,
    "start_time": "2021-08-21T08:31:44.735Z"
   },
   {
    "duration": 196,
    "start_time": "2021-08-21T08:31:44.741Z"
   },
   {
    "duration": 4,
    "start_time": "2021-08-21T08:31:44.939Z"
   },
   {
    "duration": 261,
    "start_time": "2021-08-21T08:31:44.946Z"
   },
   {
    "duration": 796,
    "start_time": "2021-08-21T08:31:45.210Z"
   },
   {
    "duration": 32,
    "start_time": "2021-08-21T08:31:46.008Z"
   },
   {
    "duration": 9,
    "start_time": "2021-08-21T08:31:46.043Z"
   },
   {
    "duration": 303,
    "start_time": "2021-08-21T08:31:46.055Z"
   },
   {
    "duration": 698,
    "start_time": "2021-08-21T08:31:45.664Z"
   },
   {
    "duration": 699,
    "start_time": "2021-08-21T08:31:45.665Z"
   },
   {
    "duration": 699,
    "start_time": "2021-08-21T08:31:45.667Z"
   },
   {
    "duration": 15,
    "start_time": "2021-08-21T08:32:37.390Z"
   },
   {
    "duration": 4,
    "start_time": "2021-08-21T08:32:45.035Z"
   },
   {
    "duration": 751,
    "start_time": "2021-08-21T08:32:45.043Z"
   },
   {
    "duration": 36,
    "start_time": "2021-08-21T08:32:45.798Z"
   },
   {
    "duration": 8,
    "start_time": "2021-08-21T08:32:45.837Z"
   },
   {
    "duration": 2200,
    "start_time": "2021-08-21T08:32:45.847Z"
   },
   {
    "duration": 1959,
    "start_time": "2021-08-21T08:32:48.050Z"
   },
   {
    "duration": 1426,
    "start_time": "2021-08-21T08:32:50.012Z"
   },
   {
    "duration": 3069,
    "start_time": "2021-08-21T08:32:51.440Z"
   },
   {
    "duration": 3042,
    "start_time": "2021-08-21T08:32:54.513Z"
   },
   {
    "duration": 9,
    "start_time": "2021-08-21T08:32:57.558Z"
   },
   {
    "duration": 3,
    "start_time": "2021-08-21T08:32:57.570Z"
   },
   {
    "duration": 188,
    "start_time": "2021-08-21T08:32:57.575Z"
   },
   {
    "duration": 3,
    "start_time": "2021-08-21T08:32:57.766Z"
   },
   {
    "duration": 261,
    "start_time": "2021-08-21T08:32:57.772Z"
   },
   {
    "duration": 807,
    "start_time": "2021-08-21T08:32:58.035Z"
   },
   {
    "duration": 35,
    "start_time": "2021-08-21T08:32:58.845Z"
   },
   {
    "duration": 24,
    "start_time": "2021-08-21T08:32:58.882Z"
   },
   {
    "duration": 17,
    "start_time": "2021-08-21T08:32:58.909Z"
   },
   {
    "duration": 16,
    "start_time": "2021-08-21T08:32:58.929Z"
   },
   {
    "duration": 7,
    "start_time": "2021-08-21T08:32:58.947Z"
   },
   {
    "duration": 20,
    "start_time": "2021-08-21T08:33:03.278Z"
   },
   {
    "duration": 7,
    "start_time": "2021-08-21T08:33:13.488Z"
   },
   {
    "duration": 318,
    "start_time": "2021-08-21T08:34:38.784Z"
   },
   {
    "duration": 425,
    "start_time": "2021-08-21T08:34:49.368Z"
   },
   {
    "duration": 324,
    "start_time": "2021-08-21T08:34:58.770Z"
   },
   {
    "duration": 95,
    "start_time": "2021-08-21T08:36:14.415Z"
   },
   {
    "duration": 16,
    "start_time": "2021-08-21T08:36:18.824Z"
   },
   {
    "duration": 38,
    "start_time": "2021-08-21T08:36:23.293Z"
   },
   {
    "duration": 43,
    "start_time": "2021-08-21T08:36:41.176Z"
   },
   {
    "duration": 19,
    "start_time": "2021-08-21T08:36:41.968Z"
   },
   {
    "duration": 16,
    "start_time": "2021-08-21T08:36:58.220Z"
   },
   {
    "duration": 36,
    "start_time": "2021-08-21T08:37:01.703Z"
   },
   {
    "duration": 19,
    "start_time": "2021-08-21T08:37:01.878Z"
   },
   {
    "duration": 127,
    "start_time": "2021-08-21T08:37:38.939Z"
   },
   {
    "duration": 134,
    "start_time": "2021-08-21T08:37:45.079Z"
   },
   {
    "duration": 135,
    "start_time": "2021-08-21T08:37:56.972Z"
   },
   {
    "duration": 20,
    "start_time": "2021-08-21T08:38:08.359Z"
   },
   {
    "duration": 139,
    "start_time": "2021-08-21T08:38:49.892Z"
   },
   {
    "duration": 6,
    "start_time": "2021-08-21T08:39:13.969Z"
   },
   {
    "duration": 516,
    "start_time": "2021-08-21T08:39:13.977Z"
   },
   {
    "duration": 26,
    "start_time": "2021-08-21T08:39:14.497Z"
   },
   {
    "duration": 10,
    "start_time": "2021-08-21T08:39:14.527Z"
   },
   {
    "duration": 2087,
    "start_time": "2021-08-21T08:39:14.539Z"
   },
   {
    "duration": 1818,
    "start_time": "2021-08-21T08:39:16.629Z"
   },
   {
    "duration": 1428,
    "start_time": "2021-08-21T08:39:18.450Z"
   },
   {
    "duration": 3009,
    "start_time": "2021-08-21T08:39:19.881Z"
   },
   {
    "duration": 3200,
    "start_time": "2021-08-21T08:39:22.900Z"
   },
   {
    "duration": 9,
    "start_time": "2021-08-21T08:39:26.103Z"
   },
   {
    "duration": 3,
    "start_time": "2021-08-21T08:39:26.115Z"
   },
   {
    "duration": 231,
    "start_time": "2021-08-21T08:39:26.121Z"
   },
   {
    "duration": 4,
    "start_time": "2021-08-21T08:39:26.355Z"
   },
   {
    "duration": 321,
    "start_time": "2021-08-21T08:39:26.362Z"
   },
   {
    "duration": 952,
    "start_time": "2021-08-21T08:39:26.685Z"
   },
   {
    "duration": 45,
    "start_time": "2021-08-21T08:39:27.640Z"
   },
   {
    "duration": 14,
    "start_time": "2021-08-21T08:39:27.702Z"
   },
   {
    "duration": 209,
    "start_time": "2021-08-21T08:39:27.719Z"
   },
   {
    "duration": 29,
    "start_time": "2021-08-21T08:39:27.931Z"
   },
   {
    "duration": 41,
    "start_time": "2021-08-21T08:39:38.028Z"
   },
   {
    "duration": 29,
    "start_time": "2021-08-21T08:39:41.350Z"
   },
   {
    "duration": 9,
    "start_time": "2021-08-21T08:39:53.652Z"
   },
   {
    "duration": 25,
    "start_time": "2021-08-21T08:40:04.860Z"
   },
   {
    "duration": 141,
    "start_time": "2021-08-21T08:40:09.101Z"
   },
   {
    "duration": 133,
    "start_time": "2021-08-21T08:41:27.898Z"
   },
   {
    "duration": 21,
    "start_time": "2021-08-21T08:41:31.230Z"
   },
   {
    "duration": 4,
    "start_time": "2021-08-21T08:41:36.648Z"
   },
   {
    "duration": 583,
    "start_time": "2021-08-21T08:41:36.655Z"
   },
   {
    "duration": 40,
    "start_time": "2021-08-21T08:41:37.242Z"
   },
   {
    "duration": 10,
    "start_time": "2021-08-21T08:41:37.285Z"
   },
   {
    "duration": 3064,
    "start_time": "2021-08-21T08:41:37.298Z"
   },
   {
    "duration": 2724,
    "start_time": "2021-08-21T08:41:40.365Z"
   },
   {
    "duration": 2001,
    "start_time": "2021-08-21T08:41:43.092Z"
   },
   {
    "duration": 3338,
    "start_time": "2021-08-21T08:41:45.096Z"
   },
   {
    "duration": 2881,
    "start_time": "2021-08-21T08:41:48.438Z"
   },
   {
    "duration": 10,
    "start_time": "2021-08-21T08:41:51.322Z"
   },
   {
    "duration": 12,
    "start_time": "2021-08-21T08:41:51.334Z"
   },
   {
    "duration": 189,
    "start_time": "2021-08-21T08:41:51.348Z"
   },
   {
    "duration": 3,
    "start_time": "2021-08-21T08:41:51.540Z"
   },
   {
    "duration": 250,
    "start_time": "2021-08-21T08:41:51.545Z"
   },
   {
    "duration": 882,
    "start_time": "2021-08-21T08:41:51.801Z"
   },
   {
    "duration": 42,
    "start_time": "2021-08-21T08:41:52.685Z"
   },
   {
    "duration": 9,
    "start_time": "2021-08-21T08:41:52.730Z"
   },
   {
    "duration": 150,
    "start_time": "2021-08-21T08:41:52.741Z"
   },
   {
    "duration": 21,
    "start_time": "2021-08-21T08:41:52.901Z"
   },
   {
    "duration": 313,
    "start_time": "2021-08-21T08:42:15.266Z"
   },
   {
    "duration": 128,
    "start_time": "2021-08-21T08:42:21.583Z"
   },
   {
    "duration": 91,
    "start_time": "2021-08-21T08:42:37.118Z"
   },
   {
    "duration": 137,
    "start_time": "2021-08-21T08:42:52.177Z"
   },
   {
    "duration": 133,
    "start_time": "2021-08-21T08:42:57.296Z"
   },
   {
    "duration": 106,
    "start_time": "2021-08-21T08:43:24.813Z"
   },
   {
    "duration": 110,
    "start_time": "2021-08-21T08:43:36.712Z"
   },
   {
    "duration": 187,
    "start_time": "2021-08-21T08:43:41.507Z"
   },
   {
    "duration": 10,
    "start_time": "2021-08-21T08:43:52.916Z"
   },
   {
    "duration": 6,
    "start_time": "2021-08-21T08:44:00.830Z"
   },
   {
    "duration": 6,
    "start_time": "2021-08-21T08:44:09.852Z"
   },
   {
    "duration": 24,
    "start_time": "2021-08-21T08:44:14.172Z"
   },
   {
    "duration": 62,
    "start_time": "2021-08-21T08:44:39.773Z"
   },
   {
    "duration": 92,
    "start_time": "2021-08-21T08:44:45.174Z"
   },
   {
    "duration": 325,
    "start_time": "2021-08-21T08:45:02.239Z"
   },
   {
    "duration": 130,
    "start_time": "2021-08-21T08:45:14.043Z"
   },
   {
    "duration": 291,
    "start_time": "2021-08-21T08:45:37.447Z"
   },
   {
    "duration": 132,
    "start_time": "2021-08-21T08:45:43.545Z"
   },
   {
    "duration": 117,
    "start_time": "2021-08-21T08:46:12.668Z"
   },
   {
    "duration": 183,
    "start_time": "2021-08-21T08:46:16.226Z"
   },
   {
    "duration": 9,
    "start_time": "2021-08-21T08:46:33.134Z"
   },
   {
    "duration": 6,
    "start_time": "2021-08-21T08:47:01.398Z"
   },
   {
    "duration": 7543,
    "start_time": "2021-08-21T08:47:14.075Z"
   },
   {
    "duration": 285,
    "start_time": "2021-08-21T08:47:32.049Z"
   },
   {
    "duration": 32,
    "start_time": "2021-08-21T08:47:35.713Z"
   },
   {
    "duration": 54,
    "start_time": "2021-08-21T08:47:41.224Z"
   },
   {
    "duration": 9,
    "start_time": "2021-08-21T08:48:12.720Z"
   },
   {
    "duration": 6,
    "start_time": "2021-08-21T08:48:54.299Z"
   },
   {
    "duration": 171,
    "start_time": "2021-08-21T08:49:12.175Z"
   },
   {
    "duration": 128,
    "start_time": "2021-08-21T08:49:46.538Z"
   },
   {
    "duration": 26,
    "start_time": "2021-08-21T08:50:11.121Z"
   },
   {
    "duration": 18,
    "start_time": "2021-08-21T08:50:28.029Z"
   },
   {
    "duration": 16,
    "start_time": "2021-08-21T08:50:33.058Z"
   },
   {
    "duration": 25,
    "start_time": "2021-08-21T08:50:37.655Z"
   },
   {
    "duration": 6,
    "start_time": "2021-08-21T08:51:16.663Z"
   },
   {
    "duration": 6,
    "start_time": "2021-08-21T08:51:20.900Z"
   },
   {
    "duration": 11,
    "start_time": "2021-08-21T08:52:04.554Z"
   },
   {
    "duration": 10,
    "start_time": "2021-08-21T08:52:09.752Z"
   },
   {
    "duration": 8,
    "start_time": "2021-08-21T08:52:40.743Z"
   },
   {
    "duration": 8,
    "start_time": "2021-08-21T08:52:48.099Z"
   },
   {
    "duration": 7141,
    "start_time": "2021-08-21T08:53:00.522Z"
   },
   {
    "duration": 156,
    "start_time": "2021-08-21T08:53:11.556Z"
   },
   {
    "duration": 123,
    "start_time": "2021-08-21T08:53:21.063Z"
   },
   {
    "duration": 2497,
    "start_time": "2021-08-21T08:58:16.371Z"
   },
   {
    "duration": 1496,
    "start_time": "2021-08-21T08:58:32.524Z"
   },
   {
    "duration": 1943,
    "start_time": "2021-08-21T08:58:57.179Z"
   },
   {
    "duration": 1238,
    "start_time": "2021-08-21T09:00:11.011Z"
   },
   {
    "duration": 1194,
    "start_time": "2021-08-21T09:00:33.959Z"
   },
   {
    "duration": 1234,
    "start_time": "2021-08-21T09:00:39.463Z"
   },
   {
    "duration": 863,
    "start_time": "2021-08-21T09:00:56.168Z"
   },
   {
    "duration": 292,
    "start_time": "2021-08-21T09:01:01.885Z"
   },
   {
    "duration": 919,
    "start_time": "2021-08-21T09:01:10.967Z"
   },
   {
    "duration": 5,
    "start_time": "2021-08-21T09:01:20.984Z"
   },
   {
    "duration": 564,
    "start_time": "2021-08-21T09:01:20.992Z"
   },
   {
    "duration": 27,
    "start_time": "2021-08-21T09:01:21.560Z"
   },
   {
    "duration": 7,
    "start_time": "2021-08-21T09:01:21.590Z"
   },
   {
    "duration": 2119,
    "start_time": "2021-08-21T09:01:21.600Z"
   },
   {
    "duration": 1860,
    "start_time": "2021-08-21T09:01:23.722Z"
   },
   {
    "duration": 1339,
    "start_time": "2021-08-21T09:01:25.584Z"
   },
   {
    "duration": 3080,
    "start_time": "2021-08-21T09:01:26.926Z"
   },
   {
    "duration": 2982,
    "start_time": "2021-08-21T09:01:30.010Z"
   },
   {
    "duration": 11,
    "start_time": "2021-08-21T09:01:32.995Z"
   },
   {
    "duration": 4,
    "start_time": "2021-08-21T09:01:33.008Z"
   },
   {
    "duration": 199,
    "start_time": "2021-08-21T09:01:33.015Z"
   },
   {
    "duration": 3,
    "start_time": "2021-08-21T09:01:33.217Z"
   },
   {
    "duration": 266,
    "start_time": "2021-08-21T09:01:33.222Z"
   },
   {
    "duration": 810,
    "start_time": "2021-08-21T09:01:33.490Z"
   },
   {
    "duration": 34,
    "start_time": "2021-08-21T09:01:34.302Z"
   },
   {
    "duration": 10,
    "start_time": "2021-08-21T09:01:34.338Z"
   },
   {
    "duration": 123,
    "start_time": "2021-08-21T09:01:34.350Z"
   },
   {
    "duration": 1468,
    "start_time": "2021-08-21T09:01:49.486Z"
   },
   {
    "duration": 318,
    "start_time": "2021-08-21T09:01:57.217Z"
   },
   {
    "duration": 788,
    "start_time": "2021-08-21T09:02:29.136Z"
   },
   {
    "duration": 4,
    "start_time": "2021-08-21T09:02:49.424Z"
   },
   {
    "duration": 560,
    "start_time": "2021-08-21T09:02:49.431Z"
   },
   {
    "duration": 33,
    "start_time": "2021-08-21T09:02:49.995Z"
   },
   {
    "duration": 8,
    "start_time": "2021-08-21T09:02:50.031Z"
   },
   {
    "duration": 2342,
    "start_time": "2021-08-21T09:02:50.042Z"
   },
   {
    "duration": 1914,
    "start_time": "2021-08-21T09:02:52.387Z"
   },
   {
    "duration": 1384,
    "start_time": "2021-08-21T09:02:54.303Z"
   },
   {
    "duration": 3142,
    "start_time": "2021-08-21T09:02:55.690Z"
   },
   {
    "duration": 2964,
    "start_time": "2021-08-21T09:02:58.836Z"
   },
   {
    "duration": 10,
    "start_time": "2021-08-21T09:03:01.803Z"
   },
   {
    "duration": 9,
    "start_time": "2021-08-21T09:03:01.816Z"
   },
   {
    "duration": 205,
    "start_time": "2021-08-21T09:03:01.828Z"
   },
   {
    "duration": 3,
    "start_time": "2021-08-21T09:03:02.036Z"
   },
   {
    "duration": 283,
    "start_time": "2021-08-21T09:03:02.041Z"
   },
   {
    "duration": 842,
    "start_time": "2021-08-21T09:03:02.327Z"
   },
   {
    "duration": 49,
    "start_time": "2021-08-21T09:03:03.172Z"
   },
   {
    "duration": 10,
    "start_time": "2021-08-21T09:03:03.223Z"
   },
   {
    "duration": 112,
    "start_time": "2021-08-21T09:03:03.236Z"
   },
   {
    "duration": 1392,
    "start_time": "2021-08-21T09:03:24.000Z"
   },
   {
    "duration": 330,
    "start_time": "2021-08-21T09:03:30.312Z"
   },
   {
    "duration": 5,
    "start_time": "2021-08-21T09:03:54.661Z"
   },
   {
    "duration": 540,
    "start_time": "2021-08-21T09:03:54.669Z"
   },
   {
    "duration": 30,
    "start_time": "2021-08-21T09:03:55.213Z"
   },
   {
    "duration": 8,
    "start_time": "2021-08-21T09:03:55.246Z"
   },
   {
    "duration": 2245,
    "start_time": "2021-08-21T09:03:55.257Z"
   },
   {
    "duration": 2684,
    "start_time": "2021-08-21T09:03:57.505Z"
   },
   {
    "duration": 1400,
    "start_time": "2021-08-21T09:04:00.192Z"
   },
   {
    "duration": 3092,
    "start_time": "2021-08-21T09:04:01.600Z"
   },
   {
    "duration": 2968,
    "start_time": "2021-08-21T09:04:04.699Z"
   },
   {
    "duration": 9,
    "start_time": "2021-08-21T09:04:07.669Z"
   },
   {
    "duration": 21,
    "start_time": "2021-08-21T09:04:07.680Z"
   },
   {
    "duration": 179,
    "start_time": "2021-08-21T09:04:07.704Z"
   },
   {
    "duration": 3,
    "start_time": "2021-08-21T09:04:07.885Z"
   },
   {
    "duration": 251,
    "start_time": "2021-08-21T09:04:07.900Z"
   },
   {
    "duration": 803,
    "start_time": "2021-08-21T09:04:08.153Z"
   },
   {
    "duration": 52,
    "start_time": "2021-08-21T09:04:08.958Z"
   },
   {
    "duration": 10,
    "start_time": "2021-08-21T09:04:09.012Z"
   },
   {
    "duration": 158,
    "start_time": "2021-08-21T09:04:09.025Z"
   },
   {
    "duration": 2215,
    "start_time": "2021-08-21T09:04:58.410Z"
   },
   {
    "duration": 315,
    "start_time": "2021-08-21T09:05:21.540Z"
   },
   {
    "duration": 4,
    "start_time": "2021-08-21T09:05:25.841Z"
   },
   {
    "duration": 534,
    "start_time": "2021-08-21T09:05:25.849Z"
   },
   {
    "duration": 41,
    "start_time": "2021-08-21T09:05:26.387Z"
   },
   {
    "duration": 10,
    "start_time": "2021-08-21T09:05:26.432Z"
   },
   {
    "duration": 2466,
    "start_time": "2021-08-21T09:05:26.445Z"
   },
   {
    "duration": 1953,
    "start_time": "2021-08-21T09:05:28.913Z"
   },
   {
    "duration": 1586,
    "start_time": "2021-08-21T09:05:30.870Z"
   },
   {
    "duration": 3123,
    "start_time": "2021-08-21T09:05:32.458Z"
   },
   {
    "duration": 2969,
    "start_time": "2021-08-21T09:05:35.585Z"
   },
   {
    "duration": 9,
    "start_time": "2021-08-21T09:05:38.556Z"
   },
   {
    "duration": 8,
    "start_time": "2021-08-21T09:05:38.567Z"
   },
   {
    "duration": 189,
    "start_time": "2021-08-21T09:05:38.577Z"
   },
   {
    "duration": 3,
    "start_time": "2021-08-21T09:05:38.769Z"
   },
   {
    "duration": 249,
    "start_time": "2021-08-21T09:05:38.774Z"
   },
   {
    "duration": 811,
    "start_time": "2021-08-21T09:05:39.026Z"
   },
   {
    "duration": 38,
    "start_time": "2021-08-21T09:05:39.840Z"
   },
   {
    "duration": 26,
    "start_time": "2021-08-21T09:05:39.880Z"
   },
   {
    "duration": 1441,
    "start_time": "2021-08-21T09:05:39.909Z"
   },
   {
    "duration": 94,
    "start_time": "2021-08-21T09:05:51.050Z"
   },
   {
    "duration": 5,
    "start_time": "2021-08-21T09:05:55.100Z"
   },
   {
    "duration": 540,
    "start_time": "2021-08-21T09:05:55.108Z"
   },
   {
    "duration": 29,
    "start_time": "2021-08-21T09:05:55.651Z"
   },
   {
    "duration": 12,
    "start_time": "2021-08-21T09:05:55.683Z"
   },
   {
    "duration": 2224,
    "start_time": "2021-08-21T09:05:55.697Z"
   },
   {
    "duration": 1964,
    "start_time": "2021-08-21T09:05:57.924Z"
   },
   {
    "duration": 1401,
    "start_time": "2021-08-21T09:05:59.890Z"
   },
   {
    "duration": 3150,
    "start_time": "2021-08-21T09:06:01.302Z"
   },
   {
    "duration": 2998,
    "start_time": "2021-08-21T09:06:04.456Z"
   },
   {
    "duration": 11,
    "start_time": "2021-08-21T09:06:07.458Z"
   },
   {
    "duration": 31,
    "start_time": "2021-08-21T09:06:07.471Z"
   },
   {
    "duration": 179,
    "start_time": "2021-08-21T09:06:07.505Z"
   },
   {
    "duration": 13,
    "start_time": "2021-08-21T09:06:07.686Z"
   },
   {
    "duration": 264,
    "start_time": "2021-08-21T09:06:07.702Z"
   },
   {
    "duration": 811,
    "start_time": "2021-08-21T09:06:07.968Z"
   },
   {
    "duration": 50,
    "start_time": "2021-08-21T09:06:08.781Z"
   },
   {
    "duration": 8,
    "start_time": "2021-08-21T09:06:08.834Z"
   },
   {
    "duration": 117,
    "start_time": "2021-08-21T09:06:08.844Z"
   },
   {
    "duration": 1359,
    "start_time": "2021-08-21T09:06:36.675Z"
   },
   {
    "duration": 5,
    "start_time": "2021-08-21T09:06:44.322Z"
   },
   {
    "duration": 517,
    "start_time": "2021-08-21T09:06:44.329Z"
   },
   {
    "duration": 31,
    "start_time": "2021-08-21T09:06:44.849Z"
   },
   {
    "duration": 10,
    "start_time": "2021-08-21T09:06:44.884Z"
   },
   {
    "duration": 3087,
    "start_time": "2021-08-21T09:06:44.898Z"
   },
   {
    "duration": 2718,
    "start_time": "2021-08-21T09:06:47.988Z"
   },
   {
    "duration": 1560,
    "start_time": "2021-08-21T09:06:50.709Z"
   },
   {
    "duration": 3092,
    "start_time": "2021-08-21T09:06:52.274Z"
   },
   {
    "duration": 4109,
    "start_time": "2021-08-21T09:06:55.370Z"
   },
   {
    "duration": 21,
    "start_time": "2021-08-21T09:06:59.483Z"
   },
   {
    "duration": 4,
    "start_time": "2021-08-21T09:06:59.507Z"
   },
   {
    "duration": 253,
    "start_time": "2021-08-21T09:06:59.514Z"
   },
   {
    "duration": 4,
    "start_time": "2021-08-21T09:06:59.770Z"
   },
   {
    "duration": 348,
    "start_time": "2021-08-21T09:06:59.777Z"
   },
   {
    "duration": 1236,
    "start_time": "2021-08-21T09:07:00.129Z"
   },
   {
    "duration": 56,
    "start_time": "2021-08-21T09:07:01.369Z"
   },
   {
    "duration": 12,
    "start_time": "2021-08-21T09:07:01.427Z"
   },
   {
    "duration": 122,
    "start_time": "2021-08-21T09:07:01.442Z"
   },
   {
    "duration": 67,
    "start_time": "2021-08-21T09:07:01.567Z"
   },
   {
    "duration": 43,
    "start_time": "2021-08-21T09:08:32.754Z"
   },
   {
    "duration": 14,
    "start_time": "2021-08-21T09:09:03.180Z"
   },
   {
    "duration": 24,
    "start_time": "2021-08-21T09:09:07.122Z"
   },
   {
    "duration": 25,
    "start_time": "2021-08-21T09:09:55.389Z"
   },
   {
    "duration": 1227,
    "start_time": "2021-08-21T09:10:53.218Z"
   },
   {
    "duration": 27,
    "start_time": "2021-08-21T09:11:02.334Z"
   },
   {
    "duration": 357,
    "start_time": "2021-08-21T09:11:14.784Z"
   },
   {
    "duration": 372,
    "start_time": "2021-08-21T09:11:51.414Z"
   },
   {
    "duration": 384,
    "start_time": "2021-08-21T09:12:11.721Z"
   },
   {
    "duration": 106,
    "start_time": "2021-08-21T09:12:28.094Z"
   },
   {
    "duration": 58,
    "start_time": "2021-08-21T09:13:10.396Z"
   },
   {
    "duration": 61,
    "start_time": "2021-08-21T09:13:20.312Z"
   },
   {
    "duration": 100,
    "start_time": "2021-08-21T09:13:25.724Z"
   },
   {
    "duration": 51,
    "start_time": "2021-08-21T09:13:53.523Z"
   },
   {
    "duration": 269,
    "start_time": "2021-08-21T09:19:00.762Z"
   },
   {
    "duration": 26,
    "start_time": "2021-08-21T09:19:03.063Z"
   },
   {
    "duration": 5,
    "start_time": "2021-08-21T09:19:30.616Z"
   },
   {
    "duration": 518,
    "start_time": "2021-08-21T09:19:30.624Z"
   },
   {
    "duration": 26,
    "start_time": "2021-08-21T09:19:31.146Z"
   },
   {
    "duration": 10,
    "start_time": "2021-08-21T09:19:31.175Z"
   },
   {
    "duration": 2185,
    "start_time": "2021-08-21T09:19:31.187Z"
   },
   {
    "duration": 1945,
    "start_time": "2021-08-21T09:19:33.375Z"
   },
   {
    "duration": 1380,
    "start_time": "2021-08-21T09:19:35.323Z"
   },
   {
    "duration": 2977,
    "start_time": "2021-08-21T09:19:36.707Z"
   },
   {
    "duration": 3099,
    "start_time": "2021-08-21T09:19:39.687Z"
   },
   {
    "duration": 18,
    "start_time": "2021-08-21T09:19:42.789Z"
   },
   {
    "duration": 4,
    "start_time": "2021-08-21T09:19:42.810Z"
   },
   {
    "duration": 196,
    "start_time": "2021-08-21T09:19:42.818Z"
   },
   {
    "duration": 4,
    "start_time": "2021-08-21T09:19:43.017Z"
   },
   {
    "duration": 268,
    "start_time": "2021-08-21T09:19:43.025Z"
   },
   {
    "duration": 817,
    "start_time": "2021-08-21T09:19:43.300Z"
   },
   {
    "duration": 39,
    "start_time": "2021-08-21T09:19:44.120Z"
   },
   {
    "duration": 13,
    "start_time": "2021-08-21T09:19:44.161Z"
   },
   {
    "duration": 119,
    "start_time": "2021-08-21T09:19:44.202Z"
   },
   {
    "duration": 78,
    "start_time": "2021-08-21T09:19:44.324Z"
   },
   {
    "duration": 54,
    "start_time": "2021-08-21T09:19:44.405Z"
   },
   {
    "duration": 48,
    "start_time": "2021-08-21T09:19:44.462Z"
   },
   {
    "duration": 128,
    "start_time": "2021-08-21T09:23:12.441Z"
   },
   {
    "duration": 6,
    "start_time": "2021-08-21T09:23:15.646Z"
   },
   {
    "duration": 500,
    "start_time": "2021-08-21T09:23:15.655Z"
   },
   {
    "duration": 27,
    "start_time": "2021-08-21T09:23:16.158Z"
   },
   {
    "duration": 9,
    "start_time": "2021-08-21T09:23:16.190Z"
   },
   {
    "duration": 2220,
    "start_time": "2021-08-21T09:23:16.201Z"
   },
   {
    "duration": 1934,
    "start_time": "2021-08-21T09:23:18.423Z"
   },
   {
    "duration": 1452,
    "start_time": "2021-08-21T09:23:20.359Z"
   },
   {
    "duration": 3112,
    "start_time": "2021-08-21T09:23:21.829Z"
   },
   {
    "duration": 3014,
    "start_time": "2021-08-21T09:23:24.944Z"
   },
   {
    "duration": 160,
    "start_time": "2021-08-21T09:23:27.960Z"
   },
   {
    "duration": 17,
    "start_time": "2021-08-21T09:23:28.123Z"
   },
   {
    "duration": 21,
    "start_time": "2021-08-21T09:23:28.143Z"
   },
   {
    "duration": 307,
    "start_time": "2021-08-21T09:28:24.918Z"
   },
   {
    "duration": 1154,
    "start_time": "2021-08-21T09:28:37.486Z"
   },
   {
    "duration": 304,
    "start_time": "2021-08-21T09:28:54.811Z"
   },
   {
    "duration": 312,
    "start_time": "2021-08-21T09:31:28.349Z"
   },
   {
    "duration": 6,
    "start_time": "2021-08-21T09:35:35.512Z"
   },
   {
    "duration": 22,
    "start_time": "2021-08-21T09:36:17.179Z"
   },
   {
    "duration": 35,
    "start_time": "2021-08-21T09:36:23.498Z"
   },
   {
    "duration": 11,
    "start_time": "2021-08-21T09:36:38.551Z"
   },
   {
    "duration": 12,
    "start_time": "2021-08-21T09:36:55.492Z"
   },
   {
    "duration": 38,
    "start_time": "2021-08-21T09:37:03.146Z"
   },
   {
    "duration": 24,
    "start_time": "2021-08-21T09:37:32.643Z"
   },
   {
    "duration": 55,
    "start_time": "2021-08-21T09:37:38.778Z"
   },
   {
    "duration": 311,
    "start_time": "2021-08-21T09:39:13.597Z"
   },
   {
    "duration": 53,
    "start_time": "2021-08-21T09:39:49.978Z"
   },
   {
    "duration": 65,
    "start_time": "2021-08-21T09:41:52.882Z"
   },
   {
    "duration": 29,
    "start_time": "2021-08-21T09:42:02.717Z"
   },
   {
    "duration": 23,
    "start_time": "2021-08-21T09:43:20.869Z"
   },
   {
    "duration": 44,
    "start_time": "2021-08-21T09:43:46.389Z"
   },
   {
    "duration": 354,
    "start_time": "2021-08-21T09:49:01.359Z"
   },
   {
    "duration": 6,
    "start_time": "2021-08-21T09:49:32.475Z"
   },
   {
    "duration": 574,
    "start_time": "2021-08-21T09:49:32.484Z"
   },
   {
    "duration": 32,
    "start_time": "2021-08-21T09:49:33.061Z"
   },
   {
    "duration": 11,
    "start_time": "2021-08-21T09:49:33.096Z"
   },
   {
    "duration": 2440,
    "start_time": "2021-08-21T09:49:33.110Z"
   },
   {
    "duration": 2057,
    "start_time": "2021-08-21T09:49:35.554Z"
   },
   {
    "duration": 1402,
    "start_time": "2021-08-21T09:49:37.615Z"
   },
   {
    "duration": 2980,
    "start_time": "2021-08-21T09:49:39.020Z"
   },
   {
    "duration": 3111,
    "start_time": "2021-08-21T09:49:42.003Z"
   },
   {
    "duration": 319,
    "start_time": "2021-08-21T09:49:45.118Z"
   },
   {
    "duration": 222,
    "start_time": "2021-08-21T09:49:45.440Z"
   },
   {
    "duration": 3,
    "start_time": "2021-08-21T09:49:45.665Z"
   },
   {
    "duration": 407,
    "start_time": "2021-08-21T09:49:45.670Z"
   },
   {
    "duration": 1493,
    "start_time": "2021-08-21T09:49:46.080Z"
   },
   {
    "duration": 60,
    "start_time": "2021-08-21T09:49:47.577Z"
   },
   {
    "duration": 20,
    "start_time": "2021-08-21T09:49:47.640Z"
   },
   {
    "duration": 140,
    "start_time": "2021-08-21T09:49:47.663Z"
   },
   {
    "duration": 57,
    "start_time": "2021-08-21T09:49:54.963Z"
   },
   {
    "duration": 51,
    "start_time": "2021-08-21T09:49:57.907Z"
   },
   {
    "duration": 43,
    "start_time": "2021-08-21T09:50:01.540Z"
   },
   {
    "duration": 21,
    "start_time": "2021-08-21T09:50:14.841Z"
   },
   {
    "duration": 400,
    "start_time": "2021-08-21T09:51:15.740Z"
   },
   {
    "duration": 69,
    "start_time": "2021-08-21T09:51:26.299Z"
   },
   {
    "duration": 12,
    "start_time": "2021-08-21T09:54:47.202Z"
   },
   {
    "duration": 106,
    "start_time": "2021-08-21T09:55:16.111Z"
   },
   {
    "duration": 378,
    "start_time": "2021-08-21T09:55:36.028Z"
   },
   {
    "duration": 357,
    "start_time": "2021-08-21T09:55:39.109Z"
   },
   {
    "duration": 107,
    "start_time": "2021-08-21T09:55:45.887Z"
   },
   {
    "duration": 22,
    "start_time": "2021-08-21T09:56:10.070Z"
   },
   {
    "duration": 39,
    "start_time": "2021-08-21T09:56:28.354Z"
   },
   {
    "duration": 6,
    "start_time": "2021-08-21T09:56:43.132Z"
   },
   {
    "duration": 38,
    "start_time": "2021-08-21T09:57:00.363Z"
   },
   {
    "duration": 6,
    "start_time": "2021-08-21T09:57:02.945Z"
   },
   {
    "duration": 20,
    "start_time": "2021-08-21T10:00:57.362Z"
   },
   {
    "duration": 325,
    "start_time": "2021-08-21T10:01:06.051Z"
   },
   {
    "duration": 372,
    "start_time": "2021-08-21T10:01:18.211Z"
   },
   {
    "duration": 28,
    "start_time": "2021-08-21T10:04:41.334Z"
   },
   {
    "duration": 56,
    "start_time": "2021-08-21T10:08:12.240Z"
   },
   {
    "duration": 48,
    "start_time": "2021-08-21T10:10:09.115Z"
   },
   {
    "duration": 6,
    "start_time": "2021-08-21T10:13:33.071Z"
   },
   {
    "duration": 748,
    "start_time": "2021-08-21T10:13:33.080Z"
   },
   {
    "duration": 38,
    "start_time": "2021-08-21T10:13:33.832Z"
   },
   {
    "duration": 7,
    "start_time": "2021-08-21T10:13:33.874Z"
   },
   {
    "duration": 2453,
    "start_time": "2021-08-21T10:13:33.885Z"
   },
   {
    "duration": 1879,
    "start_time": "2021-08-21T10:13:36.341Z"
   },
   {
    "duration": 1395,
    "start_time": "2021-08-21T10:13:38.223Z"
   },
   {
    "duration": 4750,
    "start_time": "2021-08-21T10:13:39.624Z"
   },
   {
    "duration": 3427,
    "start_time": "2021-08-21T10:13:44.377Z"
   },
   {
    "duration": 109,
    "start_time": "2021-08-21T10:13:47.807Z"
   },
   {
    "duration": 176,
    "start_time": "2021-08-21T10:13:47.918Z"
   },
   {
    "duration": 5,
    "start_time": "2021-08-21T10:13:48.096Z"
   },
   {
    "duration": 290,
    "start_time": "2021-08-21T10:13:48.104Z"
   },
   {
    "duration": 1252,
    "start_time": "2021-08-21T10:13:48.397Z"
   },
   {
    "duration": 60,
    "start_time": "2021-08-21T10:13:49.653Z"
   },
   {
    "duration": 13,
    "start_time": "2021-08-21T10:13:49.716Z"
   },
   {
    "duration": 186,
    "start_time": "2021-08-21T10:13:49.732Z"
   },
   {
    "duration": 101,
    "start_time": "2021-08-21T10:13:49.921Z"
   },
   {
    "duration": 51,
    "start_time": "2021-08-21T10:13:50.025Z"
   },
   {
    "duration": 73,
    "start_time": "2021-08-21T10:13:50.079Z"
   },
   {
    "duration": 22,
    "start_time": "2021-08-21T10:13:57.115Z"
   },
   {
    "duration": 387,
    "start_time": "2021-08-21T10:14:10.082Z"
   },
   {
    "duration": 485,
    "start_time": "2021-08-21T10:14:31.273Z"
   },
   {
    "duration": 301,
    "start_time": "2021-08-21T10:15:02.614Z"
   },
   {
    "duration": 355,
    "start_time": "2021-08-21T10:15:15.248Z"
   },
   {
    "duration": 313,
    "start_time": "2021-08-21T10:15:25.137Z"
   },
   {
    "duration": 1192,
    "start_time": "2021-08-21T10:16:55.757Z"
   },
   {
    "duration": 1135,
    "start_time": "2021-08-21T10:17:11.117Z"
   },
   {
    "duration": 1227,
    "start_time": "2021-08-21T10:19:40.216Z"
   },
   {
    "duration": 1284,
    "start_time": "2021-08-21T10:19:47.424Z"
   },
   {
    "duration": 1747,
    "start_time": "2021-08-21T10:21:21.952Z"
   },
   {
    "duration": 24,
    "start_time": "2021-08-21T10:25:49.297Z"
   },
   {
    "duration": 12,
    "start_time": "2021-08-21T10:25:57.750Z"
   },
   {
    "duration": 19,
    "start_time": "2021-08-21T10:26:05.527Z"
   },
   {
    "duration": 9,
    "start_time": "2021-08-21T10:26:24.423Z"
   },
   {
    "duration": 305,
    "start_time": "2021-08-21T10:26:28.726Z"
   },
   {
    "duration": 295,
    "start_time": "2021-08-21T10:26:40.718Z"
   },
   {
    "duration": 297,
    "start_time": "2021-08-21T10:27:02.486Z"
   },
   {
    "duration": 288,
    "start_time": "2021-08-21T10:27:11.670Z"
   },
   {
    "duration": 312,
    "start_time": "2021-08-21T10:27:19.876Z"
   },
   {
    "duration": 279,
    "start_time": "2021-08-21T10:27:24.492Z"
   },
   {
    "duration": 5,
    "start_time": "2021-08-21T10:27:38.198Z"
   },
   {
    "duration": 527,
    "start_time": "2021-08-21T10:27:38.206Z"
   },
   {
    "duration": 30,
    "start_time": "2021-08-21T10:27:38.736Z"
   },
   {
    "duration": 10,
    "start_time": "2021-08-21T10:27:38.769Z"
   },
   {
    "duration": 2319,
    "start_time": "2021-08-21T10:27:38.781Z"
   },
   {
    "duration": 1993,
    "start_time": "2021-08-21T10:27:41.103Z"
   },
   {
    "duration": 1625,
    "start_time": "2021-08-21T10:27:43.101Z"
   },
   {
    "duration": 3254,
    "start_time": "2021-08-21T10:27:44.728Z"
   },
   {
    "duration": 2900,
    "start_time": "2021-08-21T10:27:47.986Z"
   },
   {
    "duration": 110,
    "start_time": "2021-08-21T10:27:50.890Z"
   },
   {
    "duration": 177,
    "start_time": "2021-08-21T10:27:51.002Z"
   },
   {
    "duration": 3,
    "start_time": "2021-08-21T10:27:51.182Z"
   },
   {
    "duration": 280,
    "start_time": "2021-08-21T10:27:51.187Z"
   },
   {
    "duration": 810,
    "start_time": "2021-08-21T10:27:51.469Z"
   },
   {
    "duration": 51,
    "start_time": "2021-08-21T10:27:52.281Z"
   },
   {
    "duration": 11,
    "start_time": "2021-08-21T10:27:52.335Z"
   },
   {
    "duration": 334,
    "start_time": "2021-08-21T10:27:52.349Z"
   },
   {
    "duration": 67,
    "start_time": "2021-08-21T10:27:52.686Z"
   },
   {
    "duration": 68,
    "start_time": "2021-08-21T10:27:52.756Z"
   },
   {
    "duration": 73,
    "start_time": "2021-08-21T10:27:52.827Z"
   },
   {
    "duration": 15,
    "start_time": "2021-08-21T10:27:52.903Z"
   },
   {
    "duration": 919,
    "start_time": "2021-08-21T10:27:57.908Z"
   },
   {
    "duration": 13,
    "start_time": "2021-08-21T10:28:03.036Z"
   },
   {
    "duration": 6,
    "start_time": "2021-08-21T10:28:12.476Z"
   },
   {
    "duration": 574,
    "start_time": "2021-08-21T10:28:12.491Z"
   },
   {
    "duration": 33,
    "start_time": "2021-08-21T10:28:13.067Z"
   },
   {
    "duration": 9,
    "start_time": "2021-08-21T10:28:13.103Z"
   },
   {
    "duration": 2212,
    "start_time": "2021-08-21T10:28:13.115Z"
   },
   {
    "duration": 1859,
    "start_time": "2021-08-21T10:28:15.330Z"
   },
   {
    "duration": 1378,
    "start_time": "2021-08-21T10:28:17.193Z"
   },
   {
    "duration": 2941,
    "start_time": "2021-08-21T10:28:18.573Z"
   },
   {
    "duration": 3215,
    "start_time": "2021-08-21T10:28:21.516Z"
   },
   {
    "duration": 102,
    "start_time": "2021-08-21T10:28:24.737Z"
   },
   {
    "duration": 176,
    "start_time": "2021-08-21T10:28:24.842Z"
   },
   {
    "duration": 4,
    "start_time": "2021-08-21T10:28:25.020Z"
   },
   {
    "duration": 297,
    "start_time": "2021-08-21T10:28:25.027Z"
   },
   {
    "duration": 815,
    "start_time": "2021-08-21T10:28:25.326Z"
   },
   {
    "duration": 40,
    "start_time": "2021-08-21T10:28:26.143Z"
   },
   {
    "duration": 11,
    "start_time": "2021-08-21T10:28:26.200Z"
   },
   {
    "duration": 144,
    "start_time": "2021-08-21T10:28:26.214Z"
   },
   {
    "duration": 75,
    "start_time": "2021-08-21T10:28:26.361Z"
   },
   {
    "duration": 96,
    "start_time": "2021-08-21T10:28:26.439Z"
   },
   {
    "duration": 105,
    "start_time": "2021-08-21T10:28:26.538Z"
   },
   {
    "duration": 14,
    "start_time": "2021-08-21T10:28:26.646Z"
   },
   {
    "duration": 39,
    "start_time": "2021-08-21T10:28:26.663Z"
   },
   {
    "duration": 5,
    "start_time": "2021-08-21T10:28:49.155Z"
   },
   {
    "duration": 515,
    "start_time": "2021-08-21T10:28:49.163Z"
   },
   {
    "duration": 30,
    "start_time": "2021-08-21T10:28:49.681Z"
   },
   {
    "duration": 9,
    "start_time": "2021-08-21T10:28:49.714Z"
   },
   {
    "duration": 2319,
    "start_time": "2021-08-21T10:28:49.726Z"
   },
   {
    "duration": 1981,
    "start_time": "2021-08-21T10:28:52.047Z"
   },
   {
    "duration": 1391,
    "start_time": "2021-08-21T10:28:54.030Z"
   },
   {
    "duration": 3283,
    "start_time": "2021-08-21T10:28:55.426Z"
   },
   {
    "duration": 2938,
    "start_time": "2021-08-21T10:28:58.713Z"
   },
   {
    "duration": 97,
    "start_time": "2021-08-21T10:29:01.653Z"
   },
   {
    "duration": 176,
    "start_time": "2021-08-21T10:29:01.752Z"
   },
   {
    "duration": 3,
    "start_time": "2021-08-21T10:29:01.931Z"
   },
   {
    "duration": 303,
    "start_time": "2021-08-21T10:29:01.936Z"
   },
   {
    "duration": 830,
    "start_time": "2021-08-21T10:29:02.241Z"
   },
   {
    "duration": 52,
    "start_time": "2021-08-21T10:29:03.074Z"
   },
   {
    "duration": 9,
    "start_time": "2021-08-21T10:29:03.129Z"
   },
   {
    "duration": 128,
    "start_time": "2021-08-21T10:29:03.140Z"
   },
   {
    "duration": 70,
    "start_time": "2021-08-21T10:29:03.271Z"
   },
   {
    "duration": 63,
    "start_time": "2021-08-21T10:29:03.344Z"
   },
   {
    "duration": 58,
    "start_time": "2021-08-21T10:29:03.410Z"
   },
   {
    "duration": 35,
    "start_time": "2021-08-21T10:29:03.470Z"
   },
   {
    "duration": 26,
    "start_time": "2021-08-21T10:29:03.508Z"
   },
   {
    "duration": 27,
    "start_time": "2021-08-21T10:29:03.539Z"
   },
   {
    "duration": 4,
    "start_time": "2021-08-21T10:29:42.040Z"
   },
   {
    "duration": 585,
    "start_time": "2021-08-21T10:29:42.047Z"
   },
   {
    "duration": 33,
    "start_time": "2021-08-21T10:29:42.635Z"
   },
   {
    "duration": 7,
    "start_time": "2021-08-21T10:29:42.671Z"
   },
   {
    "duration": 2388,
    "start_time": "2021-08-21T10:29:42.681Z"
   },
   {
    "duration": 2056,
    "start_time": "2021-08-21T10:29:45.071Z"
   },
   {
    "duration": 1393,
    "start_time": "2021-08-21T10:29:47.130Z"
   },
   {
    "duration": 2991,
    "start_time": "2021-08-21T10:29:48.526Z"
   },
   {
    "duration": 3251,
    "start_time": "2021-08-21T10:29:51.523Z"
   },
   {
    "duration": 181,
    "start_time": "2021-08-21T10:29:54.779Z"
   },
   {
    "duration": 263,
    "start_time": "2021-08-21T10:29:54.963Z"
   },
   {
    "duration": 3,
    "start_time": "2021-08-21T10:29:55.229Z"
   },
   {
    "duration": 416,
    "start_time": "2021-08-21T10:29:55.235Z"
   },
   {
    "duration": 822,
    "start_time": "2021-08-21T10:29:55.653Z"
   },
   {
    "duration": 49,
    "start_time": "2021-08-21T10:29:56.479Z"
   },
   {
    "duration": 9,
    "start_time": "2021-08-21T10:29:56.531Z"
   },
   {
    "duration": 131,
    "start_time": "2021-08-21T10:29:56.542Z"
   },
   {
    "duration": 64,
    "start_time": "2021-08-21T10:29:56.676Z"
   },
   {
    "duration": 67,
    "start_time": "2021-08-21T10:29:56.742Z"
   },
   {
    "duration": 56,
    "start_time": "2021-08-21T10:29:56.812Z"
   },
   {
    "duration": 40,
    "start_time": "2021-08-21T10:29:56.870Z"
   },
   {
    "duration": 5,
    "start_time": "2021-08-21T10:29:56.912Z"
   },
   {
    "duration": 19,
    "start_time": "2021-08-21T10:29:56.920Z"
   },
   {
    "duration": 7,
    "start_time": "2021-08-21T10:30:28.661Z"
   },
   {
    "duration": 20,
    "start_time": "2021-08-21T10:30:29.342Z"
   },
   {
    "duration": 14,
    "start_time": "2021-08-21T10:30:38.328Z"
   },
   {
    "duration": 20,
    "start_time": "2021-08-21T10:30:39.212Z"
   },
   {
    "duration": 28,
    "start_time": "2021-08-21T10:30:52.266Z"
   },
   {
    "duration": 18,
    "start_time": "2021-08-21T10:30:53.502Z"
   },
   {
    "duration": 26,
    "start_time": "2021-08-21T10:30:53.647Z"
   },
   {
    "duration": 84,
    "start_time": "2021-08-21T10:31:31.675Z"
   },
   {
    "duration": 7,
    "start_time": "2021-08-21T10:32:04.301Z"
   },
   {
    "duration": 5,
    "start_time": "2021-08-21T10:33:41.411Z"
   },
   {
    "duration": 538,
    "start_time": "2021-08-21T10:33:41.418Z"
   },
   {
    "duration": 35,
    "start_time": "2021-08-21T10:33:41.959Z"
   },
   {
    "duration": 8,
    "start_time": "2021-08-21T10:33:41.997Z"
   },
   {
    "duration": 2178,
    "start_time": "2021-08-21T10:33:42.008Z"
   },
   {
    "duration": 1881,
    "start_time": "2021-08-21T10:33:44.188Z"
   },
   {
    "duration": 1531,
    "start_time": "2021-08-21T10:33:46.072Z"
   },
   {
    "duration": 3164,
    "start_time": "2021-08-21T10:33:47.606Z"
   },
   {
    "duration": 2927,
    "start_time": "2021-08-21T10:33:50.776Z"
   },
   {
    "duration": 99,
    "start_time": "2021-08-21T10:33:53.706Z"
   },
   {
    "duration": 176,
    "start_time": "2021-08-21T10:33:53.807Z"
   },
   {
    "duration": 2,
    "start_time": "2021-08-21T10:33:53.986Z"
   },
   {
    "duration": 294,
    "start_time": "2021-08-21T10:33:53.991Z"
   },
   {
    "duration": 815,
    "start_time": "2021-08-21T10:33:54.289Z"
   },
   {
    "duration": 42,
    "start_time": "2021-08-21T10:33:55.107Z"
   },
   {
    "duration": 11,
    "start_time": "2021-08-21T10:33:55.152Z"
   },
   {
    "duration": 147,
    "start_time": "2021-08-21T10:33:55.166Z"
   },
   {
    "duration": 57,
    "start_time": "2021-08-21T10:33:55.316Z"
   },
   {
    "duration": 69,
    "start_time": "2021-08-21T10:33:55.377Z"
   },
   {
    "duration": 69,
    "start_time": "2021-08-21T10:33:55.449Z"
   },
   {
    "duration": 295,
    "start_time": "2021-08-21T10:34:04.185Z"
   },
   {
    "duration": 4,
    "start_time": "2021-08-21T10:35:23.752Z"
   },
   {
    "duration": 19,
    "start_time": "2021-08-21T10:35:23.938Z"
   },
   {
    "duration": 27,
    "start_time": "2021-08-21T10:35:35.877Z"
   },
   {
    "duration": 4,
    "start_time": "2021-08-21T10:35:38.403Z"
   },
   {
    "duration": 5,
    "start_time": "2021-08-21T10:35:42.169Z"
   },
   {
    "duration": 19,
    "start_time": "2021-08-21T10:35:42.466Z"
   },
   {
    "duration": 10,
    "start_time": "2021-08-21T10:35:54.678Z"
   },
   {
    "duration": 20,
    "start_time": "2021-08-21T10:35:55.096Z"
   },
   {
    "duration": 10,
    "start_time": "2021-08-21T10:36:21.951Z"
   },
   {
    "duration": 18,
    "start_time": "2021-08-21T10:36:22.163Z"
   },
   {
    "duration": 21,
    "start_time": "2021-08-21T10:37:06.852Z"
   },
   {
    "duration": 60,
    "start_time": "2021-08-21T10:37:41.673Z"
   },
   {
    "duration": 39,
    "start_time": "2021-08-21T10:38:17.225Z"
   },
   {
    "duration": 54,
    "start_time": "2021-08-21T10:38:37.631Z"
   },
   {
    "duration": 52,
    "start_time": "2021-08-21T10:38:44.134Z"
   },
   {
    "duration": 22,
    "start_time": "2021-08-21T10:38:48.523Z"
   },
   {
    "duration": 50,
    "start_time": "2021-08-21T10:39:09.565Z"
   },
   {
    "duration": 24,
    "start_time": "2021-08-21T10:39:15.533Z"
   },
   {
    "duration": 38,
    "start_time": "2021-08-21T10:39:53.556Z"
   },
   {
    "duration": 314,
    "start_time": "2021-08-21T10:39:58.923Z"
   },
   {
    "duration": 34,
    "start_time": "2021-08-21T10:40:07.249Z"
   },
   {
    "duration": 6,
    "start_time": "2021-08-21T10:40:18.251Z"
   },
   {
    "duration": 304,
    "start_time": "2021-08-21T10:41:00.093Z"
   },
   {
    "duration": 5,
    "start_time": "2021-08-21T10:41:04.448Z"
   },
   {
    "duration": 7,
    "start_time": "2021-08-21T10:41:06.653Z"
   },
   {
    "duration": 5,
    "start_time": "2021-08-21T10:41:11.313Z"
   },
   {
    "duration": 1459,
    "start_time": "2021-08-21T10:41:32.447Z"
   },
   {
    "duration": 6,
    "start_time": "2021-08-21T10:42:15.001Z"
   },
   {
    "duration": 520,
    "start_time": "2021-08-21T10:42:15.010Z"
   },
   {
    "duration": 32,
    "start_time": "2021-08-21T10:42:15.534Z"
   },
   {
    "duration": 13,
    "start_time": "2021-08-21T10:42:15.569Z"
   },
   {
    "duration": 2250,
    "start_time": "2021-08-21T10:42:15.584Z"
   },
   {
    "duration": 2071,
    "start_time": "2021-08-21T10:42:17.837Z"
   },
   {
    "duration": 1711,
    "start_time": "2021-08-21T10:42:19.911Z"
   },
   {
    "duration": 3610,
    "start_time": "2021-08-21T10:42:21.625Z"
   },
   {
    "duration": 4291,
    "start_time": "2021-08-21T10:42:25.240Z"
   },
   {
    "duration": 98,
    "start_time": "2021-08-21T10:42:29.534Z"
   },
   {
    "duration": 174,
    "start_time": "2021-08-21T10:42:29.634Z"
   },
   {
    "duration": 4,
    "start_time": "2021-08-21T10:42:29.811Z"
   },
   {
    "duration": 524,
    "start_time": "2021-08-21T10:42:29.818Z"
   },
   {
    "duration": 1261,
    "start_time": "2021-08-21T10:42:30.344Z"
   },
   {
    "duration": 42,
    "start_time": "2021-08-21T10:42:31.609Z"
   },
   {
    "duration": 10,
    "start_time": "2021-08-21T10:42:31.654Z"
   },
   {
    "duration": 140,
    "start_time": "2021-08-21T10:42:31.667Z"
   },
   {
    "duration": 60,
    "start_time": "2021-08-21T10:42:31.810Z"
   },
   {
    "duration": 71,
    "start_time": "2021-08-21T10:42:31.872Z"
   },
   {
    "duration": 76,
    "start_time": "2021-08-21T10:42:31.946Z"
   },
   {
    "duration": 22,
    "start_time": "2021-08-21T10:42:32.024Z"
   },
   {
    "duration": 58,
    "start_time": "2021-08-21T10:42:32.049Z"
   },
   {
    "duration": 47,
    "start_time": "2021-08-21T10:42:52.298Z"
   },
   {
    "duration": 56,
    "start_time": "2021-08-21T10:43:03.031Z"
   },
   {
    "duration": 102,
    "start_time": "2021-08-21T10:43:08.186Z"
   },
   {
    "duration": 31,
    "start_time": "2021-08-21T10:43:43.866Z"
   },
   {
    "duration": 5,
    "start_time": "2021-08-21T10:44:58.908Z"
   },
   {
    "duration": 513,
    "start_time": "2021-08-21T10:44:58.916Z"
   },
   {
    "duration": 31,
    "start_time": "2021-08-21T10:44:59.432Z"
   },
   {
    "duration": 8,
    "start_time": "2021-08-21T10:44:59.466Z"
   },
   {
    "duration": 2310,
    "start_time": "2021-08-21T10:44:59.477Z"
   },
   {
    "duration": 1920,
    "start_time": "2021-08-21T10:45:01.789Z"
   },
   {
    "duration": 1368,
    "start_time": "2021-08-21T10:45:03.712Z"
   },
   {
    "duration": 3097,
    "start_time": "2021-08-21T10:45:05.082Z"
   },
   {
    "duration": 2963,
    "start_time": "2021-08-21T10:45:08.182Z"
   },
   {
    "duration": 6,
    "start_time": "2021-08-21T10:45:11.147Z"
   },
   {
    "duration": 159,
    "start_time": "2021-08-21T10:45:16.075Z"
   },
   {
    "duration": 3,
    "start_time": "2021-08-21T10:45:18.162Z"
   },
   {
    "duration": 275,
    "start_time": "2021-08-21T10:45:18.681Z"
   },
   {
    "duration": 830,
    "start_time": "2021-08-21T10:45:19.242Z"
   },
   {
    "duration": 56,
    "start_time": "2021-08-21T10:45:20.075Z"
   },
   {
    "duration": 8,
    "start_time": "2021-08-21T10:45:20.134Z"
   },
   {
    "duration": 121,
    "start_time": "2021-08-21T10:45:20.188Z"
   },
   {
    "duration": 57,
    "start_time": "2021-08-21T10:45:20.453Z"
   },
   {
    "duration": 47,
    "start_time": "2021-08-21T10:45:20.728Z"
   },
   {
    "duration": 51,
    "start_time": "2021-08-21T10:45:21.148Z"
   },
   {
    "duration": 22,
    "start_time": "2021-08-21T10:45:21.326Z"
   },
   {
    "duration": 33,
    "start_time": "2021-08-21T10:45:21.485Z"
   },
   {
    "duration": 7,
    "start_time": "2021-08-21T10:45:21.649Z"
   },
   {
    "duration": 56,
    "start_time": "2021-08-21T12:29:36.017Z"
   },
   {
    "duration": 53,
    "start_time": "2021-08-21T12:29:47.682Z"
   },
   {
    "duration": 319,
    "start_time": "2021-08-21T12:29:53.228Z"
   },
   {
    "duration": 55,
    "start_time": "2021-08-21T12:30:02.560Z"
   },
   {
    "duration": 45,
    "start_time": "2021-08-21T12:30:52.866Z"
   },
   {
    "duration": 50,
    "start_time": "2021-08-21T12:31:01.553Z"
   },
   {
    "duration": 50,
    "start_time": "2021-08-21T12:31:25.258Z"
   },
   {
    "duration": 20,
    "start_time": "2021-08-21T12:31:58.251Z"
   },
   {
    "duration": 5,
    "start_time": "2021-08-21T12:47:09.682Z"
   },
   {
    "duration": 1148,
    "start_time": "2021-08-21T12:47:37.919Z"
   },
   {
    "duration": 35,
    "start_time": "2021-08-21T12:47:46.789Z"
   },
   {
    "duration": 325,
    "start_time": "2021-08-21T12:47:51.944Z"
   },
   {
    "duration": 34,
    "start_time": "2021-08-21T12:47:54.877Z"
   },
   {
    "duration": 6,
    "start_time": "2021-08-21T12:47:55.242Z"
   },
   {
    "duration": 6,
    "start_time": "2021-08-21T12:48:50.456Z"
   },
   {
    "duration": 5,
    "start_time": "2021-08-21T12:48:56.785Z"
   },
   {
    "duration": 7,
    "start_time": "2021-08-21T12:49:00.216Z"
   },
   {
    "duration": 296,
    "start_time": "2021-08-21T12:49:40.007Z"
   },
   {
    "duration": 1122,
    "start_time": "2021-08-21T12:49:43.281Z"
   },
   {
    "duration": 45,
    "start_time": "2021-08-21T12:50:06.215Z"
   },
   {
    "duration": 5,
    "start_time": "2021-08-21T12:50:13.794Z"
   },
   {
    "duration": 491,
    "start_time": "2021-08-21T12:50:13.802Z"
   },
   {
    "duration": 31,
    "start_time": "2021-08-21T12:50:14.296Z"
   },
   {
    "duration": 14,
    "start_time": "2021-08-21T12:50:14.330Z"
   },
   {
    "duration": 2168,
    "start_time": "2021-08-21T12:50:14.347Z"
   },
   {
    "duration": 2188,
    "start_time": "2021-08-21T12:50:16.518Z"
   },
   {
    "duration": 1323,
    "start_time": "2021-08-21T12:50:18.708Z"
   },
   {
    "duration": 2914,
    "start_time": "2021-08-21T12:50:20.034Z"
   },
   {
    "duration": 2858,
    "start_time": "2021-08-21T12:50:22.952Z"
   },
   {
    "duration": 5,
    "start_time": "2021-08-21T12:50:25.813Z"
   },
   {
    "duration": 179,
    "start_time": "2021-08-21T12:50:25.821Z"
   },
   {
    "duration": 4,
    "start_time": "2021-08-21T12:50:26.002Z"
   },
   {
    "duration": 285,
    "start_time": "2021-08-21T12:50:26.009Z"
   },
   {
    "duration": 1016,
    "start_time": "2021-08-21T12:50:26.301Z"
   },
   {
    "duration": 39,
    "start_time": "2021-08-21T12:50:27.320Z"
   },
   {
    "duration": 10,
    "start_time": "2021-08-21T12:50:27.362Z"
   },
   {
    "duration": 128,
    "start_time": "2021-08-21T12:50:27.374Z"
   },
   {
    "duration": 50,
    "start_time": "2021-08-21T12:50:27.504Z"
   },
   {
    "duration": 65,
    "start_time": "2021-08-21T12:50:27.556Z"
   },
   {
    "duration": 48,
    "start_time": "2021-08-21T12:50:27.624Z"
   },
   {
    "duration": 42,
    "start_time": "2021-08-21T12:50:27.674Z"
   },
   {
    "duration": 32,
    "start_time": "2021-08-21T12:50:27.718Z"
   },
   {
    "duration": 284,
    "start_time": "2021-08-21T12:51:05.197Z"
   },
   {
    "duration": 33,
    "start_time": "2021-08-21T13:10:03.379Z"
   },
   {
    "duration": 47,
    "start_time": "2021-08-21T13:11:00.039Z"
   },
   {
    "duration": 1099,
    "start_time": "2021-08-21T13:11:48.028Z"
   },
   {
    "duration": 1428,
    "start_time": "2021-08-21T13:11:57.842Z"
   },
   {
    "duration": 88,
    "start_time": "2021-08-21T13:12:08.594Z"
   },
   {
    "duration": 3553,
    "start_time": "2021-08-21T13:13:32.498Z"
   },
   {
    "duration": 401,
    "start_time": "2021-08-21T13:13:45.255Z"
   },
   {
    "duration": 3768,
    "start_time": "2021-08-21T13:13:53.105Z"
   },
   {
    "duration": 3024,
    "start_time": "2021-08-21T13:14:42.844Z"
   },
   {
    "duration": 44,
    "start_time": "2021-08-21T13:14:50.375Z"
   },
   {
    "duration": 1142,
    "start_time": "2021-08-21T13:16:38.748Z"
   },
   {
    "duration": 2507,
    "start_time": "2021-08-21T13:19:03.047Z"
   },
   {
    "duration": 2042,
    "start_time": "2021-08-21T13:19:13.877Z"
   },
   {
    "duration": 5,
    "start_time": "2021-08-21T13:19:26.577Z"
   },
   {
    "duration": 5,
    "start_time": "2021-08-21T13:19:37.089Z"
   },
   {
    "duration": 1251,
    "start_time": "2021-08-21T13:19:41.463Z"
   },
   {
    "duration": 7,
    "start_time": "2021-08-21T13:19:45.340Z"
   },
   {
    "duration": 6,
    "start_time": "2021-08-21T13:19:45.713Z"
   },
   {
    "duration": 7,
    "start_time": "2021-08-21T13:19:55.670Z"
   },
   {
    "duration": 2840,
    "start_time": "2021-08-21T13:20:05.572Z"
   },
   {
    "duration": 6,
    "start_time": "2021-08-21T13:20:08.572Z"
   },
   {
    "duration": 6,
    "start_time": "2021-08-21T13:20:09.075Z"
   },
   {
    "duration": 6,
    "start_time": "2021-08-21T13:20:09.315Z"
   },
   {
    "duration": 70,
    "start_time": "2021-08-21T13:20:21.800Z"
   },
   {
    "duration": 7,
    "start_time": "2021-08-21T13:20:22.139Z"
   },
   {
    "duration": 55,
    "start_time": "2021-08-21T13:21:05.129Z"
   },
   {
    "duration": 50,
    "start_time": "2021-08-21T13:21:08.674Z"
   },
   {
    "duration": 8,
    "start_time": "2021-08-21T13:21:19.357Z"
   },
   {
    "duration": 294,
    "start_time": "2021-08-21T13:22:59.133Z"
   },
   {
    "duration": 49,
    "start_time": "2021-08-21T13:23:03.086Z"
   },
   {
    "duration": 330,
    "start_time": "2021-08-21T13:23:37.461Z"
   },
   {
    "duration": 49,
    "start_time": "2021-08-21T13:24:01.057Z"
   },
   {
    "duration": 140,
    "start_time": "2021-08-21T13:24:13.693Z"
   },
   {
    "duration": 52,
    "start_time": "2021-08-21T13:24:17.717Z"
   },
   {
    "duration": 51,
    "start_time": "2021-08-21T13:25:45.121Z"
   },
   {
    "duration": 50,
    "start_time": "2021-08-21T13:25:55.990Z"
   },
   {
    "duration": 51,
    "start_time": "2021-08-21T13:26:40.256Z"
   },
   {
    "duration": 7,
    "start_time": "2021-08-21T13:26:59.366Z"
   },
   {
    "duration": 5,
    "start_time": "2021-08-21T13:27:07.300Z"
   },
   {
    "duration": 35,
    "start_time": "2021-08-21T13:27:14.090Z"
   },
   {
    "duration": 10,
    "start_time": "2021-08-21T13:27:59.998Z"
   },
   {
    "duration": 37,
    "start_time": "2021-08-21T13:28:00.295Z"
   },
   {
    "duration": 62,
    "start_time": "2021-08-21T13:28:52.129Z"
   },
   {
    "duration": 10,
    "start_time": "2021-08-21T13:29:24.359Z"
   },
   {
    "duration": 272,
    "start_time": "2021-08-21T13:29:33.700Z"
   },
   {
    "duration": 365,
    "start_time": "2021-08-21T13:29:43.743Z"
   },
   {
    "duration": 7,
    "start_time": "2021-08-21T13:29:48.886Z"
   },
   {
    "duration": 6,
    "start_time": "2021-08-21T13:29:54.007Z"
   },
   {
    "duration": 7,
    "start_time": "2021-08-21T13:29:57.378Z"
   },
   {
    "duration": 6,
    "start_time": "2021-08-21T13:30:03.051Z"
   },
   {
    "duration": 5,
    "start_time": "2021-08-21T13:30:07.650Z"
   },
   {
    "duration": 7,
    "start_time": "2021-08-21T13:30:14.721Z"
   },
   {
    "duration": 5,
    "start_time": "2021-08-21T13:30:52.942Z"
   },
   {
    "duration": 519,
    "start_time": "2021-08-21T13:30:52.950Z"
   },
   {
    "duration": 31,
    "start_time": "2021-08-21T13:30:53.472Z"
   },
   {
    "duration": 13,
    "start_time": "2021-08-21T13:30:53.506Z"
   },
   {
    "duration": 2175,
    "start_time": "2021-08-21T13:30:53.522Z"
   },
   {
    "duration": 1965,
    "start_time": "2021-08-21T13:30:55.701Z"
   },
   {
    "duration": 1441,
    "start_time": "2021-08-21T13:30:57.669Z"
   },
   {
    "duration": 3272,
    "start_time": "2021-08-21T13:30:59.113Z"
   },
   {
    "duration": 2948,
    "start_time": "2021-08-21T13:31:02.387Z"
   },
   {
    "duration": 6,
    "start_time": "2021-08-21T13:31:05.337Z"
   },
   {
    "duration": 282,
    "start_time": "2021-08-21T13:31:05.345Z"
   },
   {
    "duration": 3,
    "start_time": "2021-08-21T13:31:05.630Z"
   },
   {
    "duration": 307,
    "start_time": "2021-08-21T13:31:05.635Z"
   },
   {
    "duration": 890,
    "start_time": "2021-08-21T13:31:05.944Z"
   },
   {
    "duration": 42,
    "start_time": "2021-08-21T13:31:06.837Z"
   },
   {
    "duration": 26,
    "start_time": "2021-08-21T13:31:06.882Z"
   },
   {
    "duration": 159,
    "start_time": "2021-08-21T13:31:06.912Z"
   },
   {
    "duration": 89,
    "start_time": "2021-08-21T13:31:07.074Z"
   },
   {
    "duration": 66,
    "start_time": "2021-08-21T13:31:07.169Z"
   },
   {
    "duration": 63,
    "start_time": "2021-08-21T13:31:07.239Z"
   },
   {
    "duration": 23,
    "start_time": "2021-08-21T13:31:07.305Z"
   },
   {
    "duration": 87,
    "start_time": "2021-08-21T13:31:07.331Z"
   },
   {
    "duration": 348,
    "start_time": "2021-08-21T13:31:09.254Z"
   },
   {
    "duration": 665,
    "start_time": "2021-08-21T13:31:12.701Z"
   },
   {
    "duration": 305,
    "start_time": "2021-08-21T13:31:20.012Z"
   },
   {
    "duration": 311,
    "start_time": "2021-08-21T13:31:21.844Z"
   },
   {
    "duration": 8,
    "start_time": "2021-08-21T13:31:25.349Z"
   },
   {
    "duration": 3,
    "start_time": "2021-08-21T13:32:36.110Z"
   },
   {
    "duration": 4,
    "start_time": "2021-08-21T13:33:40.286Z"
   },
   {
    "duration": 5,
    "start_time": "2021-08-21T13:33:44.827Z"
   },
   {
    "duration": 287,
    "start_time": "2021-08-21T13:33:51.965Z"
   },
   {
    "duration": 4,
    "start_time": "2021-08-21T13:34:05.538Z"
   },
   {
    "duration": 311,
    "start_time": "2021-08-21T13:34:06.364Z"
   },
   {
    "duration": 6,
    "start_time": "2021-08-21T13:34:10.011Z"
   },
   {
    "duration": 6,
    "start_time": "2021-08-21T13:34:15.857Z"
   },
   {
    "duration": 7,
    "start_time": "2021-08-21T13:36:23.353Z"
   },
   {
    "duration": 5,
    "start_time": "2021-08-21T13:36:55.864Z"
   },
   {
    "duration": 7,
    "start_time": "2021-08-21T13:37:03.153Z"
   },
   {
    "duration": 5,
    "start_time": "2021-08-21T13:37:10.448Z"
   },
   {
    "duration": 305,
    "start_time": "2021-08-21T13:37:16.107Z"
   },
   {
    "duration": 8,
    "start_time": "2021-08-21T13:37:28.216Z"
   },
   {
    "duration": 7,
    "start_time": "2021-08-21T13:37:39.773Z"
   },
   {
    "duration": 4,
    "start_time": "2021-08-21T13:38:15.848Z"
   },
   {
    "duration": 5,
    "start_time": "2021-08-21T13:38:20.598Z"
   },
   {
    "duration": 6,
    "start_time": "2021-08-21T13:38:24.735Z"
   },
   {
    "duration": 5,
    "start_time": "2021-08-21T13:39:19.318Z"
   },
   {
    "duration": 5,
    "start_time": "2021-08-21T13:39:22.092Z"
   },
   {
    "duration": 9447,
    "start_time": "2021-08-21T13:41:08.413Z"
   },
   {
    "duration": 306,
    "start_time": "2021-08-21T13:41:27.466Z"
   },
   {
    "duration": 25,
    "start_time": "2021-08-21T13:41:49.427Z"
   },
   {
    "duration": 315,
    "start_time": "2021-08-21T13:42:21.852Z"
   },
   {
    "duration": 50,
    "start_time": "2021-08-21T13:42:44.700Z"
   },
   {
    "duration": 289,
    "start_time": "2021-08-21T13:42:57.990Z"
   },
   {
    "duration": 308,
    "start_time": "2021-08-21T13:43:50.407Z"
   },
   {
    "duration": 323,
    "start_time": "2021-08-21T13:44:07.422Z"
   },
   {
    "duration": 72,
    "start_time": "2021-08-21T13:44:19.445Z"
   },
   {
    "duration": 279,
    "start_time": "2021-08-21T13:44:52.050Z"
   },
   {
    "duration": 12,
    "start_time": "2021-08-21T13:44:55.111Z"
   },
   {
    "duration": 6,
    "start_time": "2021-08-21T13:47:22.332Z"
   },
   {
    "duration": 7,
    "start_time": "2021-08-21T13:48:30.765Z"
   },
   {
    "duration": 6,
    "start_time": "2021-08-21T13:48:34.121Z"
   },
   {
    "duration": 7,
    "start_time": "2021-08-21T13:55:34.484Z"
   },
   {
    "duration": 8806,
    "start_time": "2021-08-21T13:55:54.618Z"
   },
   {
    "duration": 7,
    "start_time": "2021-08-21T13:56:05.809Z"
   },
   {
    "duration": 305,
    "start_time": "2021-08-21T13:57:02.831Z"
   },
   {
    "duration": 862,
    "start_time": "2021-08-21T13:57:15.836Z"
   },
   {
    "duration": 7058,
    "start_time": "2021-08-21T13:57:18.530Z"
   },
   {
    "duration": 418,
    "start_time": "2021-08-21T13:57:32.030Z"
   },
   {
    "duration": 8,
    "start_time": "2021-08-21T13:57:45.397Z"
   },
   {
    "duration": 8,
    "start_time": "2021-08-21T13:58:01.146Z"
   },
   {
    "duration": 283,
    "start_time": "2021-08-21T13:58:43.012Z"
   },
   {
    "duration": 8,
    "start_time": "2021-08-21T13:58:47.134Z"
   },
   {
    "duration": 8,
    "start_time": "2021-08-21T13:58:51.210Z"
   },
   {
    "duration": 7,
    "start_time": "2021-08-21T13:58:58.791Z"
   },
   {
    "duration": 7,
    "start_time": "2021-08-21T14:00:13.160Z"
   },
   {
    "duration": 13,
    "start_time": "2021-08-21T14:00:49.065Z"
   },
   {
    "duration": 7513,
    "start_time": "2021-08-21T14:02:12.828Z"
   },
   {
    "duration": 7,
    "start_time": "2021-08-21T14:02:38.935Z"
   },
   {
    "duration": 4451,
    "start_time": "2021-08-21T14:02:50.198Z"
   },
   {
    "duration": 7,
    "start_time": "2021-08-21T14:02:56.404Z"
   },
   {
    "duration": 27,
    "start_time": "2021-08-21T14:03:31.389Z"
   },
   {
    "duration": 99,
    "start_time": "2021-08-21T14:05:06.102Z"
   },
   {
    "duration": 7081,
    "start_time": "2021-08-21T14:05:12.203Z"
   },
   {
    "duration": 6,
    "start_time": "2021-08-21T14:05:31.649Z"
   },
   {
    "duration": 10,
    "start_time": "2021-08-21T14:05:43.305Z"
   },
   {
    "duration": 12,
    "start_time": "2021-08-21T14:05:46.076Z"
   },
   {
    "duration": 17,
    "start_time": "2021-08-21T14:10:07.461Z"
   },
   {
    "duration": 6,
    "start_time": "2021-08-21T14:14:28.857Z"
   },
   {
    "duration": 6,
    "start_time": "2021-08-21T14:14:32.328Z"
   },
   {
    "duration": 8,
    "start_time": "2021-08-21T14:17:31.593Z"
   },
   {
    "duration": 4575,
    "start_time": "2021-08-21T14:17:34.953Z"
   },
   {
    "duration": 7,
    "start_time": "2021-08-21T14:17:52.423Z"
   },
   {
    "duration": 8,
    "start_time": "2021-08-21T14:18:00.006Z"
   },
   {
    "duration": 6,
    "start_time": "2021-08-21T14:18:12.489Z"
   },
   {
    "duration": 7,
    "start_time": "2021-08-21T14:18:18.463Z"
   },
   {
    "duration": 7073,
    "start_time": "2021-08-21T14:22:56.823Z"
   },
   {
    "duration": 7702,
    "start_time": "2021-08-21T14:23:25.971Z"
   },
   {
    "duration": 6943,
    "start_time": "2021-08-21T14:24:37.294Z"
   },
   {
    "duration": 5278,
    "start_time": "2021-08-21T14:25:01.957Z"
   },
   {
    "duration": 7,
    "start_time": "2021-08-21T14:25:42.489Z"
   },
   {
    "duration": 4678,
    "start_time": "2021-08-21T14:25:47.090Z"
   },
   {
    "duration": 8,
    "start_time": "2021-08-21T14:25:58.891Z"
   },
   {
    "duration": 7,
    "start_time": "2021-08-21T14:26:11.971Z"
   },
   {
    "duration": 7,
    "start_time": "2021-08-21T14:26:28.930Z"
   },
   {
    "duration": 8,
    "start_time": "2021-08-21T14:26:34.716Z"
   },
   {
    "duration": 7,
    "start_time": "2021-08-21T14:26:46.616Z"
   },
   {
    "duration": 8,
    "start_time": "2021-08-21T14:28:19.191Z"
   },
   {
    "duration": 8,
    "start_time": "2021-08-21T14:28:29.814Z"
   },
   {
    "duration": 4845,
    "start_time": "2021-08-21T14:28:38.278Z"
   },
   {
    "duration": 7,
    "start_time": "2021-08-21T14:28:50.773Z"
   },
   {
    "duration": 7,
    "start_time": "2021-08-21T14:28:59.504Z"
   },
   {
    "duration": 8,
    "start_time": "2021-08-21T14:29:12.693Z"
   },
   {
    "duration": 8,
    "start_time": "2021-08-21T14:29:28.786Z"
   },
   {
    "duration": 7,
    "start_time": "2021-08-21T14:29:34.901Z"
   },
   {
    "duration": 7,
    "start_time": "2021-08-21T14:29:40.513Z"
   },
   {
    "duration": 8,
    "start_time": "2021-08-21T14:29:49.661Z"
   },
   {
    "duration": 7,
    "start_time": "2021-08-21T14:30:00.594Z"
   },
   {
    "duration": 6,
    "start_time": "2021-08-21T14:30:08.875Z"
   },
   {
    "duration": 7,
    "start_time": "2021-08-21T14:30:14.311Z"
   },
   {
    "duration": 349,
    "start_time": "2021-08-21T14:30:35.114Z"
   },
   {
    "duration": 89,
    "start_time": "2021-08-21T14:30:38.997Z"
   },
   {
    "duration": 7,
    "start_time": "2021-08-21T14:30:40.603Z"
   },
   {
    "duration": 280,
    "start_time": "2021-08-21T14:30:43.285Z"
   },
   {
    "duration": 7,
    "start_time": "2021-08-21T14:31:09.531Z"
   },
   {
    "duration": 493,
    "start_time": "2021-08-21T14:31:23.944Z"
   },
   {
    "duration": 473,
    "start_time": "2021-08-21T14:31:47.502Z"
   },
   {
    "duration": 492,
    "start_time": "2021-08-21T14:32:04.241Z"
   },
   {
    "duration": 504,
    "start_time": "2021-08-21T14:32:45.689Z"
   },
   {
    "duration": 6,
    "start_time": "2021-08-21T14:33:05.088Z"
   },
   {
    "duration": 281,
    "start_time": "2021-08-21T14:33:26.614Z"
   },
   {
    "duration": 6,
    "start_time": "2021-08-21T14:33:32.768Z"
   },
   {
    "duration": 4523,
    "start_time": "2021-08-21T14:33:38.660Z"
   },
   {
    "duration": 39,
    "start_time": "2021-08-21T14:33:55.358Z"
   },
   {
    "duration": 4393,
    "start_time": "2021-08-21T14:34:20.509Z"
   },
   {
    "duration": 36,
    "start_time": "2021-08-21T14:34:24.905Z"
   },
   {
    "duration": 32224,
    "start_time": "2021-08-21T14:36:08.724Z"
   },
   {
    "duration": 54,
    "start_time": "2021-08-21T14:36:40.951Z"
   },
   {
    "duration": 32258,
    "start_time": "2021-08-21T14:37:09.945Z"
   },
   {
    "duration": 48,
    "start_time": "2021-08-21T14:37:42.206Z"
   },
   {
    "duration": 5,
    "start_time": "2021-08-21T14:38:20.555Z"
   },
   {
    "duration": 488,
    "start_time": "2021-08-21T14:38:20.563Z"
   },
   {
    "duration": 29,
    "start_time": "2021-08-21T14:38:21.054Z"
   },
   {
    "duration": 8,
    "start_time": "2021-08-21T14:38:21.086Z"
   },
   {
    "duration": 2242,
    "start_time": "2021-08-21T14:38:21.097Z"
   },
   {
    "duration": 1806,
    "start_time": "2021-08-21T14:38:23.341Z"
   },
   {
    "duration": 1535,
    "start_time": "2021-08-21T14:38:25.150Z"
   },
   {
    "duration": 3024,
    "start_time": "2021-08-21T14:38:26.689Z"
   },
   {
    "duration": 2903,
    "start_time": "2021-08-21T14:38:29.716Z"
   },
   {
    "duration": 5,
    "start_time": "2021-08-21T14:38:32.622Z"
   },
   {
    "duration": 184,
    "start_time": "2021-08-21T14:38:32.630Z"
   },
   {
    "duration": 2,
    "start_time": "2021-08-21T14:38:32.817Z"
   },
   {
    "duration": 313,
    "start_time": "2021-08-21T14:38:32.822Z"
   },
   {
    "duration": 882,
    "start_time": "2021-08-21T14:38:33.137Z"
   },
   {
    "duration": 39,
    "start_time": "2021-08-21T14:38:34.022Z"
   },
   {
    "duration": 9,
    "start_time": "2021-08-21T14:38:34.064Z"
   },
   {
    "duration": 109,
    "start_time": "2021-08-21T14:38:34.101Z"
   },
   {
    "duration": 52,
    "start_time": "2021-08-21T14:38:34.213Z"
   },
   {
    "duration": 64,
    "start_time": "2021-08-21T14:38:34.268Z"
   },
   {
    "duration": 65,
    "start_time": "2021-08-21T14:38:34.335Z"
   },
   {
    "duration": 53,
    "start_time": "2021-08-21T14:38:34.403Z"
   },
   {
    "duration": 50,
    "start_time": "2021-08-21T14:38:34.459Z"
   },
   {
    "duration": 15,
    "start_time": "2021-08-21T14:38:34.513Z"
   },
   {
    "duration": 7,
    "start_time": "2021-08-21T14:38:34.530Z"
   },
   {
    "duration": 65,
    "start_time": "2021-08-21T14:38:34.539Z"
   },
   {
    "duration": 15,
    "start_time": "2021-08-21T14:39:55.712Z"
   },
   {
    "duration": 8014,
    "start_time": "2021-08-21T14:40:09.182Z"
   },
   {
    "duration": 867,
    "start_time": "2021-08-21T14:40:16.332Z"
   },
   {
    "duration": 14,
    "start_time": "2021-08-21T14:40:51.990Z"
   },
   {
    "duration": 17763,
    "start_time": "2021-08-21T14:41:34.568Z"
   },
   {
    "duration": 864,
    "start_time": "2021-08-21T14:41:51.471Z"
   },
   {
    "duration": 5,
    "start_time": "2021-08-21T14:41:56.200Z"
   },
   {
    "duration": 38,
    "start_time": "2021-08-21T14:42:00.049Z"
   },
   {
    "duration": 6,
    "start_time": "2021-08-21T14:42:17.311Z"
   },
   {
    "duration": 41,
    "start_time": "2021-08-21T14:42:17.572Z"
   },
   {
    "duration": 5,
    "start_time": "2021-08-21T14:42:29.812Z"
   },
   {
    "duration": 518,
    "start_time": "2021-08-21T14:42:29.821Z"
   },
   {
    "duration": 32,
    "start_time": "2021-08-21T14:42:30.343Z"
   },
   {
    "duration": 12,
    "start_time": "2021-08-21T14:42:30.379Z"
   },
   {
    "duration": 2451,
    "start_time": "2021-08-21T14:42:30.393Z"
   },
   {
    "duration": 2092,
    "start_time": "2021-08-21T14:42:32.846Z"
   },
   {
    "duration": 1636,
    "start_time": "2021-08-21T14:42:34.941Z"
   },
   {
    "duration": 2967,
    "start_time": "2021-08-21T14:42:36.580Z"
   },
   {
    "duration": 3056,
    "start_time": "2021-08-21T14:42:39.552Z"
   },
   {
    "duration": 5,
    "start_time": "2021-08-21T14:42:42.612Z"
   },
   {
    "duration": 176,
    "start_time": "2021-08-21T14:42:42.620Z"
   },
   {
    "duration": 3,
    "start_time": "2021-08-21T14:42:42.801Z"
   },
   {
    "duration": 272,
    "start_time": "2021-08-21T14:42:42.806Z"
   },
   {
    "duration": 771,
    "start_time": "2021-08-21T14:42:43.081Z"
   },
   {
    "duration": 52,
    "start_time": "2021-08-21T14:42:43.854Z"
   },
   {
    "duration": 9,
    "start_time": "2021-08-21T14:42:43.909Z"
   },
   {
    "duration": 118,
    "start_time": "2021-08-21T14:42:43.920Z"
   },
   {
    "duration": 61,
    "start_time": "2021-08-21T14:42:44.041Z"
   },
   {
    "duration": 46,
    "start_time": "2021-08-21T14:42:44.104Z"
   },
   {
    "duration": 75,
    "start_time": "2021-08-21T14:42:44.152Z"
   },
   {
    "duration": 48,
    "start_time": "2021-08-21T14:42:44.229Z"
   },
   {
    "duration": 43,
    "start_time": "2021-08-21T14:42:44.279Z"
   },
   {
    "duration": 10,
    "start_time": "2021-08-21T14:42:44.324Z"
   },
   {
    "duration": 9,
    "start_time": "2021-08-21T14:42:44.336Z"
   },
   {
    "duration": 32822,
    "start_time": "2021-08-21T14:42:44.347Z"
   },
   {
    "duration": 50,
    "start_time": "2021-08-21T14:43:17.171Z"
   },
   {
    "duration": 32161,
    "start_time": "2021-08-21T14:43:38.243Z"
   },
   {
    "duration": 37,
    "start_time": "2021-08-21T14:44:10.407Z"
   },
   {
    "duration": 8,
    "start_time": "2021-08-21T14:45:00.505Z"
   },
   {
    "duration": 6,
    "start_time": "2021-08-21T14:45:10.638Z"
   },
   {
    "duration": 9,
    "start_time": "2021-08-21T14:45:18.406Z"
   },
   {
    "duration": 6914,
    "start_time": "2021-08-21T14:45:59.618Z"
   },
   {
    "duration": 10,
    "start_time": "2021-08-21T14:46:13.208Z"
   },
   {
    "duration": 316,
    "start_time": "2021-08-21T14:46:23.706Z"
   },
   {
    "duration": 8,
    "start_time": "2021-08-21T14:46:30.348Z"
   },
   {
    "duration": 16,
    "start_time": "2021-08-21T14:46:51.750Z"
   },
   {
    "duration": 5,
    "start_time": "2021-08-21T14:47:17.293Z"
   },
   {
    "duration": 7,
    "start_time": "2021-08-21T14:47:21.924Z"
   },
   {
    "duration": 31642,
    "start_time": "2021-08-21T14:47:36.374Z"
   },
   {
    "duration": 36,
    "start_time": "2021-08-21T14:48:08.019Z"
   },
   {
    "duration": 8,
    "start_time": "2021-08-21T14:48:52.700Z"
   },
   {
    "duration": 38,
    "start_time": "2021-08-21T14:49:06.567Z"
   },
   {
    "duration": 15,
    "start_time": "2021-08-21T14:50:01.207Z"
   },
   {
    "duration": 31339,
    "start_time": "2021-08-21T14:52:03.839Z"
   },
   {
    "duration": 26,
    "start_time": "2021-08-21T14:52:35.181Z"
   },
   {
    "duration": 47,
    "start_time": "2021-08-21T14:52:37.966Z"
   },
   {
    "duration": 19,
    "start_time": "2021-08-21T14:56:11.283Z"
   },
   {
    "duration": 14,
    "start_time": "2021-08-21T14:57:29.720Z"
   },
   {
    "duration": 34,
    "start_time": "2021-08-21T14:57:37.384Z"
   },
   {
    "duration": 32087,
    "start_time": "2021-08-21T14:59:47.952Z"
   },
   {
    "duration": 24,
    "start_time": "2021-08-21T15:00:20.042Z"
   },
   {
    "duration": 41,
    "start_time": "2021-08-21T15:00:20.069Z"
   },
   {
    "duration": 56,
    "start_time": "2021-08-21T15:00:30.353Z"
   },
   {
    "duration": 5,
    "start_time": "2021-08-21T15:01:27.633Z"
   },
   {
    "duration": 511,
    "start_time": "2021-08-21T15:01:27.641Z"
   },
   {
    "duration": 31,
    "start_time": "2021-08-21T15:01:28.155Z"
   },
   {
    "duration": 9,
    "start_time": "2021-08-21T15:01:28.189Z"
   },
   {
    "duration": 2251,
    "start_time": "2021-08-21T15:01:28.201Z"
   },
   {
    "duration": 1941,
    "start_time": "2021-08-21T15:01:30.454Z"
   },
   {
    "duration": 1462,
    "start_time": "2021-08-21T15:01:32.401Z"
   },
   {
    "duration": 3272,
    "start_time": "2021-08-21T15:01:33.869Z"
   },
   {
    "duration": 3392,
    "start_time": "2021-08-21T15:01:37.146Z"
   },
   {
    "duration": 5,
    "start_time": "2021-08-21T15:01:40.540Z"
   },
   {
    "duration": 183,
    "start_time": "2021-08-21T15:01:40.548Z"
   },
   {
    "duration": 2,
    "start_time": "2021-08-21T15:01:40.734Z"
   },
   {
    "duration": 310,
    "start_time": "2021-08-21T15:01:40.739Z"
   },
   {
    "duration": 820,
    "start_time": "2021-08-21T15:01:41.051Z"
   },
   {
    "duration": 56,
    "start_time": "2021-08-21T15:01:41.873Z"
   },
   {
    "duration": 8,
    "start_time": "2021-08-21T15:01:41.932Z"
   },
   {
    "duration": 122,
    "start_time": "2021-08-21T15:01:41.943Z"
   },
   {
    "duration": 65,
    "start_time": "2021-08-21T15:01:42.067Z"
   },
   {
    "duration": 68,
    "start_time": "2021-08-21T15:01:42.134Z"
   },
   {
    "duration": 67,
    "start_time": "2021-08-21T15:01:42.205Z"
   },
   {
    "duration": 71,
    "start_time": "2021-08-21T15:01:42.274Z"
   },
   {
    "duration": 43907,
    "start_time": "2021-08-21T15:01:42.348Z"
   },
   {
    "duration": 102,
    "start_time": "2021-08-21T15:02:26.261Z"
   },
   {
    "duration": 19,
    "start_time": "2021-08-21T15:02:43.806Z"
   },
   {
    "duration": 11,
    "start_time": "2021-08-21T15:02:58.059Z"
   },
   {
    "duration": 33280,
    "start_time": "2021-08-21T15:22:41.492Z"
   },
   {
    "duration": 20,
    "start_time": "2021-08-21T15:30:34.371Z"
   },
   {
    "duration": 22,
    "start_time": "2021-08-21T15:31:55.044Z"
   },
   {
    "duration": 22,
    "start_time": "2021-08-21T15:32:00.354Z"
   },
   {
    "duration": 7,
    "start_time": "2021-08-21T15:54:34.062Z"
   },
   {
    "duration": 337,
    "start_time": "2021-08-21T15:54:38.195Z"
   },
   {
    "duration": 9,
    "start_time": "2021-08-21T15:54:46.709Z"
   },
   {
    "duration": 9,
    "start_time": "2021-08-21T15:54:54.189Z"
   },
   {
    "duration": 6,
    "start_time": "2021-08-21T15:55:06.747Z"
   },
   {
    "duration": 8,
    "start_time": "2021-08-21T15:55:12.839Z"
   },
   {
    "duration": 7,
    "start_time": "2021-08-21T15:56:46.845Z"
   },
   {
    "duration": 36,
    "start_time": "2021-08-21T15:59:12.192Z"
   },
   {
    "duration": 325,
    "start_time": "2021-08-21T15:59:26.944Z"
   },
   {
    "duration": 21,
    "start_time": "2021-08-21T15:59:37.394Z"
   },
   {
    "duration": 315,
    "start_time": "2021-08-21T16:00:01.961Z"
   },
   {
    "duration": 319,
    "start_time": "2021-08-21T16:00:28.898Z"
   },
   {
    "duration": 25,
    "start_time": "2021-08-21T16:01:02.465Z"
   },
   {
    "duration": 26,
    "start_time": "2021-08-21T16:01:09.101Z"
   },
   {
    "duration": 18,
    "start_time": "2021-08-21T16:02:42.937Z"
   },
   {
    "duration": 82,
    "start_time": "2021-08-21T16:02:57.197Z"
   },
   {
    "duration": 42,
    "start_time": "2021-08-21T16:03:01.382Z"
   },
   {
    "duration": 5,
    "start_time": "2021-08-21T16:03:10.716Z"
   },
   {
    "duration": 568,
    "start_time": "2021-08-21T16:03:10.724Z"
   },
   {
    "duration": 32,
    "start_time": "2021-08-21T16:03:11.296Z"
   },
   {
    "duration": 8,
    "start_time": "2021-08-21T16:03:11.330Z"
   },
   {
    "duration": 2463,
    "start_time": "2021-08-21T16:03:11.341Z"
   },
   {
    "duration": 2060,
    "start_time": "2021-08-21T16:03:13.807Z"
   },
   {
    "duration": 1346,
    "start_time": "2021-08-21T16:03:15.870Z"
   },
   {
    "duration": 2911,
    "start_time": "2021-08-21T16:03:17.219Z"
   },
   {
    "duration": 2900,
    "start_time": "2021-08-21T16:03:20.134Z"
   },
   {
    "duration": 6,
    "start_time": "2021-08-21T16:03:23.037Z"
   },
   {
    "duration": 205,
    "start_time": "2021-08-21T16:03:23.046Z"
   },
   {
    "duration": 3,
    "start_time": "2021-08-21T16:03:23.253Z"
   },
   {
    "duration": 315,
    "start_time": "2021-08-21T16:03:23.258Z"
   },
   {
    "duration": 1014,
    "start_time": "2021-08-21T16:03:23.575Z"
   },
   {
    "duration": 44,
    "start_time": "2021-08-21T16:03:24.592Z"
   },
   {
    "duration": 9,
    "start_time": "2021-08-21T16:03:24.639Z"
   },
   {
    "duration": 136,
    "start_time": "2021-08-21T16:03:24.651Z"
   },
   {
    "duration": 58,
    "start_time": "2021-08-21T16:03:24.790Z"
   },
   {
    "duration": 65,
    "start_time": "2021-08-21T16:03:24.851Z"
   },
   {
    "duration": 49,
    "start_time": "2021-08-21T16:03:24.919Z"
   },
   {
    "duration": 73,
    "start_time": "2021-08-21T16:03:24.970Z"
   },
   {
    "duration": 31411,
    "start_time": "2021-08-21T16:03:25.047Z"
   },
   {
    "duration": 41,
    "start_time": "2021-08-21T16:03:56.461Z"
   },
   {
    "duration": 21,
    "start_time": "2021-08-21T16:03:56.504Z"
   },
   {
    "duration": 105,
    "start_time": "2021-08-21T16:03:56.527Z"
   },
   {
    "duration": 40,
    "start_time": "2021-08-21T16:04:02.867Z"
   },
   {
    "duration": 8334,
    "start_time": "2021-08-21T16:04:34.726Z"
   },
   {
    "duration": 14,
    "start_time": "2021-08-21T16:04:49.081Z"
   },
   {
    "duration": 74,
    "start_time": "2021-08-21T16:04:56.257Z"
   },
   {
    "duration": 42,
    "start_time": "2021-08-21T16:04:57.926Z"
   },
   {
    "duration": 5,
    "start_time": "2021-08-21T16:05:03.186Z"
   },
   {
    "duration": 539,
    "start_time": "2021-08-21T16:05:03.194Z"
   },
   {
    "duration": 31,
    "start_time": "2021-08-21T16:05:03.737Z"
   },
   {
    "duration": 12,
    "start_time": "2021-08-21T16:05:03.771Z"
   },
   {
    "duration": 2139,
    "start_time": "2021-08-21T16:05:03.786Z"
   },
   {
    "duration": 1873,
    "start_time": "2021-08-21T16:05:05.928Z"
   },
   {
    "duration": 1368,
    "start_time": "2021-08-21T16:05:07.803Z"
   },
   {
    "duration": 3270,
    "start_time": "2021-08-21T16:05:09.174Z"
   },
   {
    "duration": 3155,
    "start_time": "2021-08-21T16:05:12.448Z"
   },
   {
    "duration": 6,
    "start_time": "2021-08-21T16:05:15.607Z"
   },
   {
    "duration": 180,
    "start_time": "2021-08-21T16:05:15.615Z"
   },
   {
    "duration": 3,
    "start_time": "2021-08-21T16:05:15.798Z"
   },
   {
    "duration": 283,
    "start_time": "2021-08-21T16:05:15.803Z"
   },
   {
    "duration": 862,
    "start_time": "2021-08-21T16:05:16.088Z"
   },
   {
    "duration": 50,
    "start_time": "2021-08-21T16:05:16.953Z"
   },
   {
    "duration": 8,
    "start_time": "2021-08-21T16:05:17.006Z"
   },
   {
    "duration": 134,
    "start_time": "2021-08-21T16:05:17.016Z"
   },
   {
    "duration": 67,
    "start_time": "2021-08-21T16:05:17.152Z"
   },
   {
    "duration": 45,
    "start_time": "2021-08-21T16:05:17.222Z"
   },
   {
    "duration": 75,
    "start_time": "2021-08-21T16:05:17.269Z"
   },
   {
    "duration": 66,
    "start_time": "2021-08-21T16:05:17.346Z"
   },
   {
    "duration": 31924,
    "start_time": "2021-08-21T16:05:17.415Z"
   },
   {
    "duration": 25,
    "start_time": "2021-08-21T16:05:49.342Z"
   },
   {
    "duration": 46,
    "start_time": "2021-08-21T16:05:49.369Z"
   },
   {
    "duration": 41,
    "start_time": "2021-08-21T16:05:49.418Z"
   },
   {
    "duration": 49,
    "start_time": "2021-08-21T16:05:49.462Z"
   },
   {
    "duration": 77,
    "start_time": "2021-08-21T16:06:05.051Z"
   },
   {
    "duration": 4,
    "start_time": "2021-08-21T16:06:11.306Z"
   },
   {
    "duration": 646,
    "start_time": "2021-08-21T16:06:11.314Z"
   },
   {
    "duration": 32,
    "start_time": "2021-08-21T16:06:11.963Z"
   },
   {
    "duration": 12,
    "start_time": "2021-08-21T16:06:11.997Z"
   },
   {
    "duration": 2168,
    "start_time": "2021-08-21T16:06:12.011Z"
   },
   {
    "duration": 1858,
    "start_time": "2021-08-21T16:06:14.182Z"
   },
   {
    "duration": 1579,
    "start_time": "2021-08-21T16:06:16.042Z"
   },
   {
    "duration": 2958,
    "start_time": "2021-08-21T16:06:17.626Z"
   },
   {
    "duration": 2928,
    "start_time": "2021-08-21T16:06:20.587Z"
   },
   {
    "duration": 5,
    "start_time": "2021-08-21T16:06:23.518Z"
   },
   {
    "duration": 180,
    "start_time": "2021-08-21T16:06:23.526Z"
   },
   {
    "duration": 3,
    "start_time": "2021-08-21T16:06:23.709Z"
   },
   {
    "duration": 289,
    "start_time": "2021-08-21T16:06:23.715Z"
   },
   {
    "duration": 874,
    "start_time": "2021-08-21T16:06:24.006Z"
   },
   {
    "duration": 47,
    "start_time": "2021-08-21T16:06:24.882Z"
   },
   {
    "duration": 9,
    "start_time": "2021-08-21T16:06:24.932Z"
   },
   {
    "duration": 140,
    "start_time": "2021-08-21T16:06:24.944Z"
   },
   {
    "duration": 59,
    "start_time": "2021-08-21T16:06:25.087Z"
   },
   {
    "duration": 61,
    "start_time": "2021-08-21T16:06:25.149Z"
   },
   {
    "duration": 50,
    "start_time": "2021-08-21T16:06:25.213Z"
   },
   {
    "duration": 72,
    "start_time": "2021-08-21T16:06:25.266Z"
   },
   {
    "duration": 32974,
    "start_time": "2021-08-21T16:06:25.340Z"
   },
   {
    "duration": 25,
    "start_time": "2021-08-21T16:06:58.318Z"
   },
   {
    "duration": 20,
    "start_time": "2021-08-21T16:06:58.345Z"
   },
   {
    "duration": 45,
    "start_time": "2021-08-21T16:07:07.025Z"
   },
   {
    "duration": 662,
    "start_time": "2021-08-21T16:40:44.055Z"
   },
   {
    "duration": 405,
    "start_time": "2021-08-21T16:40:55.657Z"
   },
   {
    "duration": 409,
    "start_time": "2021-08-21T16:41:02.373Z"
   },
   {
    "duration": 655,
    "start_time": "2021-08-21T16:41:06.225Z"
   },
   {
    "duration": 647,
    "start_time": "2021-08-21T16:41:12.767Z"
   },
   {
    "duration": 283,
    "start_time": "2021-08-21T16:41:59.025Z"
   },
   {
    "duration": 276,
    "start_time": "2021-08-21T16:43:15.841Z"
   },
   {
    "duration": 292,
    "start_time": "2021-08-21T16:43:20.635Z"
   },
   {
    "duration": 521,
    "start_time": "2021-08-21T16:43:36.417Z"
   },
   {
    "duration": 286,
    "start_time": "2021-08-21T16:43:49.584Z"
   },
   {
    "duration": 276,
    "start_time": "2021-08-21T16:44:10.893Z"
   },
   {
    "duration": 274,
    "start_time": "2021-08-21T16:44:16.445Z"
   },
   {
    "duration": 327,
    "start_time": "2021-08-21T16:45:03.146Z"
   },
   {
    "duration": 494,
    "start_time": "2021-08-21T16:45:07.894Z"
   },
   {
    "duration": 542,
    "start_time": "2021-08-21T16:45:53.112Z"
   },
   {
    "duration": 590,
    "start_time": "2021-08-21T16:46:07.732Z"
   },
   {
    "duration": 692,
    "start_time": "2021-08-21T16:46:16.035Z"
   },
   {
    "duration": 773,
    "start_time": "2021-08-21T16:46:39.689Z"
   },
   {
    "duration": 1092,
    "start_time": "2021-08-21T16:46:45.095Z"
   },
   {
    "duration": 793,
    "start_time": "2021-08-21T16:46:53.767Z"
   },
   {
    "duration": 528,
    "start_time": "2021-08-21T16:47:01.659Z"
   },
   {
    "duration": 8156,
    "start_time": "2021-08-21T16:47:49.824Z"
   },
   {
    "duration": 5,
    "start_time": "2021-08-21T16:48:13.089Z"
   },
   {
    "duration": 564,
    "start_time": "2021-08-21T16:48:13.096Z"
   },
   {
    "duration": 32,
    "start_time": "2021-08-21T16:48:13.663Z"
   },
   {
    "duration": 27,
    "start_time": "2021-08-21T16:48:13.698Z"
   },
   {
    "duration": 2426,
    "start_time": "2021-08-21T16:48:13.728Z"
   },
   {
    "duration": 2094,
    "start_time": "2021-08-21T16:48:16.157Z"
   },
   {
    "duration": 1772,
    "start_time": "2021-08-21T16:48:18.254Z"
   },
   {
    "duration": 3225,
    "start_time": "2021-08-21T16:48:20.029Z"
   },
   {
    "duration": 3245,
    "start_time": "2021-08-21T16:48:23.258Z"
   },
   {
    "duration": 6,
    "start_time": "2021-08-21T16:48:26.507Z"
   },
   {
    "duration": 222,
    "start_time": "2021-08-21T16:48:26.516Z"
   },
   {
    "duration": 4,
    "start_time": "2021-08-21T16:48:26.741Z"
   },
   {
    "duration": 359,
    "start_time": "2021-08-21T16:48:26.748Z"
   },
   {
    "duration": 1366,
    "start_time": "2021-08-21T16:48:27.110Z"
   },
   {
    "duration": 48,
    "start_time": "2021-08-21T16:48:28.479Z"
   },
   {
    "duration": 11,
    "start_time": "2021-08-21T16:48:28.529Z"
   },
   {
    "duration": 143,
    "start_time": "2021-08-21T16:48:28.543Z"
   },
   {
    "duration": 66,
    "start_time": "2021-08-21T16:48:28.688Z"
   },
   {
    "duration": 93,
    "start_time": "2021-08-21T16:48:28.757Z"
   },
   {
    "duration": 92,
    "start_time": "2021-08-21T16:48:28.853Z"
   },
   {
    "duration": 97,
    "start_time": "2021-08-21T16:48:28.949Z"
   },
   {
    "duration": 48512,
    "start_time": "2021-08-21T16:48:29.049Z"
   },
   {
    "duration": 81,
    "start_time": "2021-08-21T16:49:17.564Z"
   },
   {
    "duration": 506,
    "start_time": "2021-08-21T16:49:17.648Z"
   },
   {
    "duration": 287,
    "start_time": "2021-08-21T16:49:18.158Z"
   },
   {
    "duration": 5517,
    "start_time": "2021-08-21T16:50:24.112Z"
   },
   {
    "duration": 310,
    "start_time": "2021-08-21T16:50:31.034Z"
   },
   {
    "duration": 6,
    "start_time": "2021-08-21T16:50:50.838Z"
   },
   {
    "duration": 302,
    "start_time": "2021-08-21T16:50:55.929Z"
   },
   {
    "duration": 3496,
    "start_time": "2021-08-21T16:51:37.802Z"
   },
   {
    "duration": 596,
    "start_time": "2021-08-21T16:51:41.302Z"
   },
   {
    "duration": 47,
    "start_time": "2021-08-21T16:51:41.901Z"
   },
   {
    "duration": 11,
    "start_time": "2021-08-21T16:51:41.951Z"
   },
   {
    "duration": 2545,
    "start_time": "2021-08-21T16:51:41.965Z"
   },
   {
    "duration": 2670,
    "start_time": "2021-08-21T16:51:44.512Z"
   },
   {
    "duration": 1475,
    "start_time": "2021-08-21T16:51:47.185Z"
   },
   {
    "duration": 3330,
    "start_time": "2021-08-21T16:51:48.663Z"
   },
   {
    "duration": 3429,
    "start_time": "2021-08-21T16:51:51.997Z"
   },
   {
    "duration": 7,
    "start_time": "2021-08-21T16:51:55.429Z"
   },
   {
    "duration": 271,
    "start_time": "2021-08-21T16:51:55.439Z"
   },
   {
    "duration": 4,
    "start_time": "2021-08-21T16:51:55.713Z"
   },
   {
    "duration": 331,
    "start_time": "2021-08-21T16:51:55.720Z"
   },
   {
    "duration": 950,
    "start_time": "2021-08-21T16:51:56.054Z"
   },
   {
    "duration": 40,
    "start_time": "2021-08-21T16:51:57.007Z"
   },
   {
    "duration": 11,
    "start_time": "2021-08-21T16:51:57.050Z"
   },
   {
    "duration": 175,
    "start_time": "2021-08-21T16:51:57.063Z"
   },
   {
    "duration": 74,
    "start_time": "2021-08-21T16:51:57.241Z"
   },
   {
    "duration": 84,
    "start_time": "2021-08-21T16:51:57.318Z"
   },
   {
    "duration": 51,
    "start_time": "2021-08-21T16:51:57.404Z"
   },
   {
    "duration": 94,
    "start_time": "2021-08-21T16:51:57.457Z"
   },
   {
    "duration": 50163,
    "start_time": "2021-08-21T16:51:57.555Z"
   },
   {
    "duration": 81,
    "start_time": "2021-08-21T16:52:47.722Z"
   },
   {
    "duration": 602,
    "start_time": "2021-08-21T16:52:47.806Z"
   },
   {
    "duration": 302,
    "start_time": "2021-08-21T16:52:48.411Z"
   },
   {
    "duration": 997,
    "start_time": "2021-08-21T16:53:34.840Z"
   },
   {
    "duration": 20,
    "start_time": "2021-08-21T16:53:53.482Z"
   },
   {
    "duration": 18,
    "start_time": "2021-08-21T16:54:01.132Z"
   },
   {
    "duration": 316,
    "start_time": "2021-08-21T16:55:41.450Z"
   },
   {
    "duration": 98,
    "start_time": "2021-08-21T16:56:40.429Z"
   },
   {
    "duration": 3415,
    "start_time": "2021-08-21T16:56:44.621Z"
   },
   {
    "duration": 110,
    "start_time": "2021-08-21T16:58:16.233Z"
   },
   {
    "duration": 316,
    "start_time": "2021-08-21T16:58:20.981Z"
   },
   {
    "duration": 6,
    "start_time": "2021-08-21T16:58:30.012Z"
   },
   {
    "duration": 4395,
    "start_time": "2021-08-21T16:58:33.919Z"
   },
   {
    "duration": 6,
    "start_time": "2021-08-21T16:58:38.318Z"
   },
   {
    "duration": 3829,
    "start_time": "2021-08-21T17:01:44.442Z"
   },
   {
    "duration": 7,
    "start_time": "2021-08-21T17:01:48.276Z"
   },
   {
    "duration": 9,
    "start_time": "2021-08-21T17:01:48.286Z"
   },
   {
    "duration": 5937,
    "start_time": "2021-08-21T17:02:17.324Z"
   },
   {
    "duration": 5,
    "start_time": "2021-08-21T17:02:23.264Z"
   },
   {
    "duration": 15,
    "start_time": "2021-08-21T17:02:23.272Z"
   },
   {
    "duration": 5,
    "start_time": "2021-08-21T17:02:27.496Z"
   },
   {
    "duration": 326,
    "start_time": "2021-08-21T17:02:33.469Z"
   },
   {
    "duration": 14,
    "start_time": "2021-08-21T17:02:36.903Z"
   },
   {
    "duration": 299,
    "start_time": "2021-08-21T17:03:12.543Z"
   },
   {
    "duration": 4617,
    "start_time": "2021-08-21T17:06:12.872Z"
   },
   {
    "duration": 5,
    "start_time": "2021-08-21T17:06:17.493Z"
   },
   {
    "duration": 11,
    "start_time": "2021-08-21T17:06:17.502Z"
   },
   {
    "duration": 4039,
    "start_time": "2021-08-21T17:07:02.226Z"
   },
   {
    "duration": 6,
    "start_time": "2021-08-21T17:07:06.270Z"
   },
   {
    "duration": 7,
    "start_time": "2021-08-21T17:07:06.281Z"
   },
   {
    "duration": 7843,
    "start_time": "2021-08-21T17:13:01.734Z"
   },
   {
    "duration": 4204,
    "start_time": "2021-08-21T17:13:16.641Z"
   },
   {
    "duration": 7,
    "start_time": "2021-08-21T17:13:20.850Z"
   },
   {
    "duration": 14,
    "start_time": "2021-08-21T17:13:20.860Z"
   },
   {
    "duration": 626,
    "start_time": "2021-08-21T17:13:20.877Z"
   },
   {
    "duration": 42,
    "start_time": "2021-08-21T17:13:21.508Z"
   },
   {
    "duration": 8,
    "start_time": "2021-08-21T17:13:21.553Z"
   },
   {
    "duration": 2398,
    "start_time": "2021-08-21T17:13:21.564Z"
   },
   {
    "duration": 2405,
    "start_time": "2021-08-21T17:13:23.965Z"
   },
   {
    "duration": 1964,
    "start_time": "2021-08-21T17:13:26.375Z"
   },
   {
    "duration": 4778,
    "start_time": "2021-08-21T17:13:28.344Z"
   },
   {
    "duration": 3908,
    "start_time": "2021-08-21T17:13:33.125Z"
   },
   {
    "duration": 7,
    "start_time": "2021-08-21T17:13:37.036Z"
   },
   {
    "duration": 266,
    "start_time": "2021-08-21T17:13:37.047Z"
   },
   {
    "duration": 4,
    "start_time": "2021-08-21T17:13:37.316Z"
   },
   {
    "duration": 438,
    "start_time": "2021-08-21T17:13:37.323Z"
   },
   {
    "duration": 1436,
    "start_time": "2021-08-21T17:13:37.765Z"
   },
   {
    "duration": 37,
    "start_time": "2021-08-21T17:13:39.203Z"
   },
   {
    "duration": 11,
    "start_time": "2021-08-21T17:13:39.243Z"
   },
   {
    "duration": 144,
    "start_time": "2021-08-21T17:13:39.257Z"
   },
   {
    "duration": 55,
    "start_time": "2021-08-21T17:13:39.404Z"
   },
   {
    "duration": 74,
    "start_time": "2021-08-21T17:13:39.462Z"
   },
   {
    "duration": 69,
    "start_time": "2021-08-21T17:13:39.539Z"
   },
   {
    "duration": 70,
    "start_time": "2021-08-21T17:13:39.610Z"
   },
   {
    "duration": 38233,
    "start_time": "2021-08-21T17:13:39.683Z"
   },
   {
    "duration": 341,
    "start_time": "2021-08-21T17:14:17.918Z"
   },
   {
    "duration": 979,
    "start_time": "2021-08-21T17:14:17.282Z"
   },
   {
    "duration": 92,
    "start_time": "2021-08-21T17:14:29.800Z"
   },
   {
    "duration": 8503,
    "start_time": "2021-08-21T17:14:30.116Z"
   },
   {
    "duration": 76,
    "start_time": "2021-08-21T17:14:46.300Z"
   },
   {
    "duration": 365,
    "start_time": "2021-08-21T17:14:51.493Z"
   },
   {
    "duration": 4852,
    "start_time": "2021-08-21T17:15:01.108Z"
   },
   {
    "duration": 5,
    "start_time": "2021-08-21T17:15:05.964Z"
   },
   {
    "duration": 22,
    "start_time": "2021-08-21T17:15:05.972Z"
   },
   {
    "duration": 674,
    "start_time": "2021-08-21T17:15:05.998Z"
   },
   {
    "duration": 47,
    "start_time": "2021-08-21T17:15:06.674Z"
   },
   {
    "duration": 40,
    "start_time": "2021-08-21T17:15:06.723Z"
   },
   {
    "duration": 2458,
    "start_time": "2021-08-21T17:15:06.765Z"
   },
   {
    "duration": 2747,
    "start_time": "2021-08-21T17:15:09.226Z"
   },
   {
    "duration": 2127,
    "start_time": "2021-08-21T17:15:11.978Z"
   },
   {
    "duration": 3226,
    "start_time": "2021-08-21T17:15:14.109Z"
   },
   {
    "duration": 3713,
    "start_time": "2021-08-21T17:15:17.338Z"
   },
   {
    "duration": 6,
    "start_time": "2021-08-21T17:15:21.053Z"
   },
   {
    "duration": 197,
    "start_time": "2021-08-21T17:15:21.062Z"
   },
   {
    "duration": 2,
    "start_time": "2021-08-21T17:15:21.262Z"
   },
   {
    "duration": 287,
    "start_time": "2021-08-21T17:15:21.267Z"
   },
   {
    "duration": 1168,
    "start_time": "2021-08-21T17:15:21.557Z"
   },
   {
    "duration": 44,
    "start_time": "2021-08-21T17:15:22.727Z"
   },
   {
    "duration": 31,
    "start_time": "2021-08-21T17:15:22.773Z"
   },
   {
    "duration": 118,
    "start_time": "2021-08-21T17:15:22.806Z"
   },
   {
    "duration": 56,
    "start_time": "2021-08-21T17:15:22.926Z"
   },
   {
    "duration": 61,
    "start_time": "2021-08-21T17:15:22.985Z"
   },
   {
    "duration": 77,
    "start_time": "2021-08-21T17:15:23.048Z"
   },
   {
    "duration": 51,
    "start_time": "2021-08-21T17:15:23.128Z"
   },
   {
    "duration": 33296,
    "start_time": "2021-08-21T17:15:23.182Z"
   },
   {
    "duration": 62,
    "start_time": "2021-08-21T17:15:56.481Z"
   },
   {
    "duration": 541,
    "start_time": "2021-08-21T17:15:56.547Z"
   },
   {
    "duration": 800,
    "start_time": "2021-08-21T17:16:04.055Z"
   },
   {
    "duration": 19,
    "start_time": "2021-08-21T17:16:59.522Z"
   },
   {
    "duration": 39,
    "start_time": "2021-08-21T17:17:04.058Z"
   },
   {
    "duration": 24,
    "start_time": "2021-08-21T17:17:23.351Z"
   },
   {
    "duration": 4453,
    "start_time": "2021-08-21T17:20:24.447Z"
   },
   {
    "duration": 7,
    "start_time": "2021-08-21T17:20:28.904Z"
   },
   {
    "duration": 6,
    "start_time": "2021-08-21T17:20:28.915Z"
   },
   {
    "duration": 726,
    "start_time": "2021-08-21T17:20:28.925Z"
   },
   {
    "duration": 38,
    "start_time": "2021-08-21T17:20:29.653Z"
   },
   {
    "duration": 9,
    "start_time": "2021-08-21T17:20:29.693Z"
   },
   {
    "duration": 2452,
    "start_time": "2021-08-21T17:20:29.706Z"
   },
   {
    "duration": 1997,
    "start_time": "2021-08-21T17:20:32.163Z"
   },
   {
    "duration": 1468,
    "start_time": "2021-08-21T17:20:34.163Z"
   },
   {
    "duration": 3838,
    "start_time": "2021-08-21T17:20:35.633Z"
   },
   {
    "duration": 3853,
    "start_time": "2021-08-21T17:20:39.474Z"
   },
   {
    "duration": 7,
    "start_time": "2021-08-21T17:20:43.330Z"
   },
   {
    "duration": 195,
    "start_time": "2021-08-21T17:20:43.339Z"
   },
   {
    "duration": 3,
    "start_time": "2021-08-21T17:20:43.536Z"
   },
   {
    "duration": 304,
    "start_time": "2021-08-21T17:20:43.542Z"
   },
   {
    "duration": 872,
    "start_time": "2021-08-21T17:20:43.848Z"
   },
   {
    "duration": 44,
    "start_time": "2021-08-21T17:20:44.723Z"
   },
   {
    "duration": 41,
    "start_time": "2021-08-21T17:20:44.769Z"
   },
   {
    "duration": 162,
    "start_time": "2021-08-21T17:20:44.814Z"
   },
   {
    "duration": 82,
    "start_time": "2021-08-21T17:20:44.978Z"
   },
   {
    "duration": 60,
    "start_time": "2021-08-21T17:20:45.062Z"
   },
   {
    "duration": 53,
    "start_time": "2021-08-21T17:20:45.125Z"
   },
   {
    "duration": 59,
    "start_time": "2021-08-21T17:20:45.203Z"
   },
   {
    "duration": 35593,
    "start_time": "2021-08-21T17:20:45.265Z"
   },
   {
    "duration": 70,
    "start_time": "2021-08-21T17:21:20.861Z"
   },
   {
    "duration": 818,
    "start_time": "2021-08-21T17:21:20.934Z"
   },
   {
    "duration": 28,
    "start_time": "2021-08-21T17:21:21.755Z"
   },
   {
    "duration": 31,
    "start_time": "2021-08-21T17:21:21.803Z"
   },
   {
    "duration": 48,
    "start_time": "2021-08-21T17:21:23.389Z"
   },
   {
    "duration": 7692,
    "start_time": "2021-08-21T17:21:56.337Z"
   },
   {
    "duration": 958,
    "start_time": "2021-08-21T17:22:03.075Z"
   },
   {
    "duration": 743,
    "start_time": "2021-08-21T17:22:22.674Z"
   },
   {
    "duration": 43,
    "start_time": "2021-08-21T17:22:35.753Z"
   },
   {
    "duration": 47,
    "start_time": "2021-08-21T17:22:58.607Z"
   },
   {
    "duration": 49,
    "start_time": "2021-08-21T17:23:04.070Z"
   },
   {
    "duration": 72,
    "start_time": "2021-08-21T17:24:00.012Z"
   },
   {
    "duration": 46,
    "start_time": "2021-08-21T17:24:07.384Z"
   },
   {
    "duration": 39,
    "start_time": "2021-08-21T17:24:48.431Z"
   },
   {
    "duration": 45,
    "start_time": "2021-08-21T17:26:25.213Z"
   },
   {
    "duration": 57,
    "start_time": "2021-08-21T17:26:30.591Z"
   },
   {
    "duration": 31,
    "start_time": "2021-08-21T17:29:33.664Z"
   },
   {
    "duration": 33,
    "start_time": "2021-08-21T17:29:38.449Z"
   },
   {
    "duration": 50,
    "start_time": "2021-08-21T17:29:48.310Z"
   },
   {
    "duration": 78,
    "start_time": "2021-08-21T17:30:46.019Z"
   },
   {
    "duration": 78,
    "start_time": "2021-08-21T17:31:07.186Z"
   },
   {
    "duration": 83,
    "start_time": "2021-08-21T17:31:12.396Z"
   },
   {
    "duration": 760,
    "start_time": "2021-08-21T17:32:12.956Z"
   },
   {
    "duration": 98,
    "start_time": "2021-08-21T17:32:13.720Z"
   },
   {
    "duration": 103,
    "start_time": "2021-08-21T17:32:54.147Z"
   },
   {
    "duration": 60,
    "start_time": "2021-08-21T17:33:21.348Z"
   },
   {
    "duration": 96,
    "start_time": "2021-08-21T17:33:24.440Z"
   },
   {
    "duration": 68,
    "start_time": "2021-08-21T17:34:06.008Z"
   },
   {
    "duration": 39,
    "start_time": "2021-08-21T17:38:31.793Z"
   },
   {
    "duration": 7046,
    "start_time": "2021-08-21T17:42:12.146Z"
   },
   {
    "duration": 44,
    "start_time": "2021-08-21T17:42:30.182Z"
   },
   {
    "duration": 7583,
    "start_time": "2021-08-21T17:42:43.112Z"
   },
   {
    "duration": 47,
    "start_time": "2021-08-21T17:42:58.187Z"
   },
   {
    "duration": 39,
    "start_time": "2021-08-21T17:43:14.984Z"
   },
   {
    "duration": 8118,
    "start_time": "2021-08-21T17:43:21.578Z"
   },
   {
    "duration": 5316,
    "start_time": "2021-08-21T17:44:23.648Z"
   },
   {
    "duration": 7,
    "start_time": "2021-08-21T17:44:28.968Z"
   },
   {
    "duration": 18,
    "start_time": "2021-08-21T17:44:28.978Z"
   },
   {
    "duration": 736,
    "start_time": "2021-08-21T17:44:28.999Z"
   },
   {
    "duration": 50,
    "start_time": "2021-08-21T17:44:29.737Z"
   },
   {
    "duration": 20,
    "start_time": "2021-08-21T17:44:29.790Z"
   },
   {
    "duration": 3193,
    "start_time": "2021-08-21T17:44:29.814Z"
   },
   {
    "duration": 2081,
    "start_time": "2021-08-21T17:44:33.012Z"
   },
   {
    "duration": 1975,
    "start_time": "2021-08-21T17:44:35.096Z"
   },
   {
    "duration": 3774,
    "start_time": "2021-08-21T17:44:37.073Z"
   },
   {
    "duration": 3458,
    "start_time": "2021-08-21T17:44:40.851Z"
   },
   {
    "duration": 11,
    "start_time": "2021-08-21T17:44:44.312Z"
   },
   {
    "duration": 283,
    "start_time": "2021-08-21T17:44:44.326Z"
   },
   {
    "duration": 5,
    "start_time": "2021-08-21T17:44:44.615Z"
   },
   {
    "duration": 341,
    "start_time": "2021-08-21T17:44:44.624Z"
   },
   {
    "duration": 902,
    "start_time": "2021-08-21T17:44:44.968Z"
   },
   {
    "duration": 63,
    "start_time": "2021-08-21T17:44:45.873Z"
   },
   {
    "duration": 13,
    "start_time": "2021-08-21T17:44:45.939Z"
   },
   {
    "duration": 131,
    "start_time": "2021-08-21T17:44:45.955Z"
   },
   {
    "duration": 67,
    "start_time": "2021-08-21T17:44:46.089Z"
   },
   {
    "duration": 88,
    "start_time": "2021-08-21T17:44:46.158Z"
   },
   {
    "duration": 74,
    "start_time": "2021-08-21T17:44:46.250Z"
   },
   {
    "duration": 116,
    "start_time": "2021-08-21T17:44:46.331Z"
   },
   {
    "duration": 38661,
    "start_time": "2021-08-21T17:44:46.451Z"
   },
   {
    "duration": 90,
    "start_time": "2021-08-21T17:45:25.116Z"
   },
   {
    "duration": 802,
    "start_time": "2021-08-21T17:45:25.209Z"
   },
   {
    "duration": 157,
    "start_time": "2021-08-21T17:45:26.013Z"
   },
   {
    "duration": 64,
    "start_time": "2021-08-21T17:45:26.173Z"
   },
   {
    "duration": 1118,
    "start_time": "2021-08-21T17:45:26.240Z"
   },
   {
    "duration": 141,
    "start_time": "2021-08-21T17:45:27.361Z"
   },
   {
    "duration": 47,
    "start_time": "2021-08-21T17:45:27.505Z"
   },
   {
    "duration": 90,
    "start_time": "2021-08-21T17:45:51.843Z"
   },
   {
    "duration": 7353,
    "start_time": "2021-08-21T17:45:52.075Z"
   },
   {
    "duration": 985,
    "start_time": "2021-08-21T17:45:58.446Z"
   },
   {
    "duration": 68,
    "start_time": "2021-08-21T17:46:10.702Z"
   },
   {
    "duration": 3934,
    "start_time": "2021-08-21T17:46:17.288Z"
   },
   {
    "duration": 5,
    "start_time": "2021-08-21T17:46:21.226Z"
   },
   {
    "duration": 7,
    "start_time": "2021-08-21T17:46:21.235Z"
   },
   {
    "duration": 620,
    "start_time": "2021-08-21T17:46:21.245Z"
   },
   {
    "duration": 58,
    "start_time": "2021-08-21T17:46:21.867Z"
   },
   {
    "duration": 9,
    "start_time": "2021-08-21T17:46:21.928Z"
   },
   {
    "duration": 2348,
    "start_time": "2021-08-21T17:46:21.939Z"
   },
   {
    "duration": 1981,
    "start_time": "2021-08-21T17:46:24.293Z"
   },
   {
    "duration": 1559,
    "start_time": "2021-08-21T17:46:26.279Z"
   },
   {
    "duration": 3725,
    "start_time": "2021-08-21T17:46:27.840Z"
   },
   {
    "duration": 4807,
    "start_time": "2021-08-21T17:46:31.568Z"
   },
   {
    "duration": 7,
    "start_time": "2021-08-21T17:46:36.379Z"
   },
   {
    "duration": 265,
    "start_time": "2021-08-21T17:46:36.401Z"
   },
   {
    "duration": 4,
    "start_time": "2021-08-21T17:46:36.670Z"
   },
   {
    "duration": 436,
    "start_time": "2021-08-21T17:46:36.677Z"
   },
   {
    "duration": 1368,
    "start_time": "2021-08-21T17:46:37.116Z"
   },
   {
    "duration": 64,
    "start_time": "2021-08-21T17:46:38.488Z"
   },
   {
    "duration": 14,
    "start_time": "2021-08-21T17:46:38.555Z"
   },
   {
    "duration": 192,
    "start_time": "2021-08-21T17:46:38.573Z"
   },
   {
    "duration": 97,
    "start_time": "2021-08-21T17:46:38.769Z"
   },
   {
    "duration": 87,
    "start_time": "2021-08-21T17:46:38.870Z"
   },
   {
    "duration": 99,
    "start_time": "2021-08-21T17:46:38.960Z"
   },
   {
    "duration": 100,
    "start_time": "2021-08-21T17:46:39.065Z"
   },
   {
    "duration": 34882,
    "start_time": "2021-08-21T17:46:39.169Z"
   },
   {
    "duration": 70,
    "start_time": "2021-08-21T17:47:14.053Z"
   },
   {
    "duration": 1093,
    "start_time": "2021-08-21T17:47:14.126Z"
   },
   {
    "duration": 7426,
    "start_time": "2021-08-21T17:47:15.222Z"
   },
   {
    "duration": 8,
    "start_time": "2021-08-21T17:50:00.978Z"
   },
   {
    "duration": 19,
    "start_time": "2021-08-21T17:50:06.828Z"
   },
   {
    "duration": 15,
    "start_time": "2021-08-21T17:51:45.821Z"
   },
   {
    "duration": 27,
    "start_time": "2021-08-21T17:51:53.340Z"
   },
   {
    "duration": 43,
    "start_time": "2021-08-21T17:53:46.198Z"
   },
   {
    "duration": 20,
    "start_time": "2021-08-21T17:54:34.897Z"
   },
   {
    "duration": 28,
    "start_time": "2021-08-21T17:54:43.409Z"
   },
   {
    "duration": 27,
    "start_time": "2021-08-21T17:55:03.038Z"
   },
   {
    "duration": 35,
    "start_time": "2021-08-21T17:55:08.182Z"
   },
   {
    "duration": 27,
    "start_time": "2021-08-21T17:56:38.712Z"
   },
   {
    "duration": 4178,
    "start_time": "2021-08-21T17:57:43.933Z"
   },
   {
    "duration": 7,
    "start_time": "2021-08-21T17:57:48.116Z"
   },
   {
    "duration": 15,
    "start_time": "2021-08-21T17:57:48.127Z"
   },
   {
    "duration": 852,
    "start_time": "2021-08-21T17:57:48.145Z"
   },
   {
    "duration": 65,
    "start_time": "2021-08-21T17:57:49.000Z"
   },
   {
    "duration": 33,
    "start_time": "2021-08-21T17:57:49.068Z"
   },
   {
    "duration": 3551,
    "start_time": "2021-08-21T17:57:49.104Z"
   },
   {
    "duration": 1895,
    "start_time": "2021-08-21T17:57:52.662Z"
   },
   {
    "duration": 1730,
    "start_time": "2021-08-21T17:57:54.560Z"
   },
   {
    "duration": 4676,
    "start_time": "2021-08-21T17:57:56.293Z"
   },
   {
    "duration": 4073,
    "start_time": "2021-08-21T17:58:00.972Z"
   },
   {
    "duration": 5,
    "start_time": "2021-08-21T17:58:05.048Z"
   },
   {
    "duration": 244,
    "start_time": "2021-08-21T17:58:05.056Z"
   },
   {
    "duration": 4,
    "start_time": "2021-08-21T17:58:05.303Z"
   },
   {
    "duration": 367,
    "start_time": "2021-08-21T17:58:05.310Z"
   },
   {
    "duration": 921,
    "start_time": "2021-08-21T17:58:05.680Z"
   },
   {
    "duration": 27,
    "start_time": "2021-08-21T17:58:06.604Z"
   },
   {
    "duration": 6,
    "start_time": "2021-08-21T17:58:06.634Z"
   },
   {
    "duration": 22,
    "start_time": "2021-08-21T17:58:06.643Z"
   },
   {
    "duration": 134,
    "start_time": "2021-08-21T17:58:06.667Z"
   },
   {
    "duration": 53,
    "start_time": "2021-08-21T17:58:06.804Z"
   },
   {
    "duration": 65,
    "start_time": "2021-08-21T17:58:06.860Z"
   },
   {
    "duration": 86,
    "start_time": "2021-08-21T17:58:06.932Z"
   },
   {
    "duration": 54,
    "start_time": "2021-08-21T17:58:07.020Z"
   },
   {
    "duration": 41761,
    "start_time": "2021-08-21T17:58:07.077Z"
   },
   {
    "duration": 27,
    "start_time": "2021-08-21T17:58:48.841Z"
   },
   {
    "duration": 304,
    "start_time": "2021-08-21T17:59:18.961Z"
   },
   {
    "duration": 29,
    "start_time": "2021-08-21T17:59:54.770Z"
   },
   {
    "duration": 83,
    "start_time": "2021-08-21T18:00:16.070Z"
   },
   {
    "duration": 290,
    "start_time": "2021-08-21T18:01:40.793Z"
   },
   {
    "duration": 31,
    "start_time": "2021-08-21T18:01:58.559Z"
   },
   {
    "duration": 71,
    "start_time": "2021-08-21T18:02:13.212Z"
   },
   {
    "duration": 340,
    "start_time": "2021-08-21T18:02:38.688Z"
   },
   {
    "duration": 105,
    "start_time": "2021-08-21T18:03:12.662Z"
   },
   {
    "duration": 73,
    "start_time": "2021-08-21T18:03:27.434Z"
   },
   {
    "duration": 3718,
    "start_time": "2021-08-21T18:03:30.419Z"
   },
   {
    "duration": 5,
    "start_time": "2021-08-21T18:03:34.140Z"
   },
   {
    "duration": 25,
    "start_time": "2021-08-21T18:03:34.148Z"
   },
   {
    "duration": 631,
    "start_time": "2021-08-21T18:03:34.176Z"
   },
   {
    "duration": 40,
    "start_time": "2021-08-21T18:03:34.811Z"
   },
   {
    "duration": 12,
    "start_time": "2021-08-21T18:03:34.853Z"
   },
   {
    "duration": 2421,
    "start_time": "2021-08-21T18:03:34.867Z"
   },
   {
    "duration": 1945,
    "start_time": "2021-08-21T18:03:37.292Z"
   },
   {
    "duration": 1472,
    "start_time": "2021-08-21T18:03:39.240Z"
   },
   {
    "duration": 3568,
    "start_time": "2021-08-21T18:03:40.715Z"
   },
   {
    "duration": 3108,
    "start_time": "2021-08-21T18:03:44.286Z"
   },
   {
    "duration": 9,
    "start_time": "2021-08-21T18:03:47.401Z"
   },
   {
    "duration": 202,
    "start_time": "2021-08-21T18:03:47.415Z"
   },
   {
    "duration": 3,
    "start_time": "2021-08-21T18:03:47.620Z"
   },
   {
    "duration": 340,
    "start_time": "2021-08-21T18:03:47.626Z"
   },
   {
    "duration": 822,
    "start_time": "2021-08-21T18:03:47.969Z"
   },
   {
    "duration": 32,
    "start_time": "2021-08-21T18:03:48.802Z"
   },
   {
    "duration": 3,
    "start_time": "2021-08-21T18:03:48.837Z"
   },
   {
    "duration": 13,
    "start_time": "2021-08-21T18:03:48.842Z"
   },
   {
    "duration": 137,
    "start_time": "2021-08-21T18:03:48.857Z"
   },
   {
    "duration": 58,
    "start_time": "2021-08-21T18:03:49.000Z"
   },
   {
    "duration": 74,
    "start_time": "2021-08-21T18:03:49.061Z"
   },
   {
    "duration": 80,
    "start_time": "2021-08-21T18:03:49.141Z"
   },
   {
    "duration": 53,
    "start_time": "2021-08-21T18:03:49.223Z"
   },
   {
    "duration": 33526,
    "start_time": "2021-08-21T18:03:49.278Z"
   },
   {
    "duration": 71,
    "start_time": "2021-08-21T18:04:22.806Z"
   },
   {
    "duration": 30,
    "start_time": "2021-08-21T18:05:03.883Z"
   },
   {
    "duration": 27,
    "start_time": "2021-08-21T18:06:28.142Z"
   },
   {
    "duration": 523,
    "start_time": "2021-08-21T18:09:43.667Z"
   },
   {
    "duration": 282,
    "start_time": "2021-08-21T18:10:31.400Z"
   },
   {
    "duration": 9,
    "start_time": "2021-08-21T18:10:40.548Z"
   },
   {
    "duration": 609,
    "start_time": "2021-08-21T18:12:27.784Z"
   },
   {
    "duration": 1151,
    "start_time": "2021-08-21T18:12:36.833Z"
   },
   {
    "duration": 1215,
    "start_time": "2021-08-21T18:12:46.813Z"
   },
   {
    "duration": 1690,
    "start_time": "2021-08-21T18:13:09.032Z"
   },
   {
    "duration": 1752,
    "start_time": "2021-08-21T18:13:17.429Z"
   },
   {
    "duration": 1139,
    "start_time": "2021-08-21T18:13:29.297Z"
   },
   {
    "duration": 1174,
    "start_time": "2021-08-21T18:13:37.005Z"
   },
   {
    "duration": 1160,
    "start_time": "2021-08-21T18:13:45.063Z"
   },
   {
    "duration": 1234,
    "start_time": "2021-08-21T18:13:49.855Z"
   },
   {
    "duration": 4288,
    "start_time": "2021-08-21T18:13:56.578Z"
   },
   {
    "duration": 1998,
    "start_time": "2021-08-21T18:14:04.696Z"
   },
   {
    "duration": 1387,
    "start_time": "2021-08-21T18:14:11.958Z"
   },
   {
    "duration": 1142,
    "start_time": "2021-08-21T18:14:28.000Z"
   },
   {
    "duration": 8644,
    "start_time": "2021-08-21T18:18:05.261Z"
   },
   {
    "duration": 1274,
    "start_time": "2021-08-21T18:18:44.515Z"
   },
   {
    "duration": 1795,
    "start_time": "2021-08-21T18:19:49.770Z"
   },
   {
    "duration": 1197,
    "start_time": "2021-08-21T18:20:00.747Z"
   },
   {
    "duration": 1234,
    "start_time": "2021-08-21T18:20:12.236Z"
   },
   {
    "duration": 1305,
    "start_time": "2021-08-21T18:20:30.113Z"
   },
   {
    "duration": 1229,
    "start_time": "2021-08-21T18:20:35.254Z"
   },
   {
    "duration": 1223,
    "start_time": "2021-08-21T18:20:40.177Z"
   },
   {
    "duration": 3708,
    "start_time": "2021-08-21T18:21:32.547Z"
   },
   {
    "duration": 6,
    "start_time": "2021-08-21T18:21:36.258Z"
   },
   {
    "duration": 18,
    "start_time": "2021-08-21T18:21:36.268Z"
   },
   {
    "duration": 609,
    "start_time": "2021-08-21T18:21:36.290Z"
   },
   {
    "duration": 45,
    "start_time": "2021-08-21T18:21:36.903Z"
   },
   {
    "duration": 17,
    "start_time": "2021-08-21T18:21:36.950Z"
   },
   {
    "duration": 2325,
    "start_time": "2021-08-21T18:21:36.969Z"
   },
   {
    "duration": 1936,
    "start_time": "2021-08-21T18:21:39.301Z"
   },
   {
    "duration": 1508,
    "start_time": "2021-08-21T18:21:41.241Z"
   },
   {
    "duration": 3575,
    "start_time": "2021-08-21T18:21:42.752Z"
   },
   {
    "duration": 3409,
    "start_time": "2021-08-21T18:21:46.330Z"
   },
   {
    "duration": 5,
    "start_time": "2021-08-21T18:21:49.741Z"
   },
   {
    "duration": 188,
    "start_time": "2021-08-21T18:21:49.749Z"
   },
   {
    "duration": 3,
    "start_time": "2021-08-21T18:21:49.939Z"
   },
   {
    "duration": 311,
    "start_time": "2021-08-21T18:21:49.945Z"
   },
   {
    "duration": 871,
    "start_time": "2021-08-21T18:21:50.258Z"
   },
   {
    "duration": 28,
    "start_time": "2021-08-21T18:21:51.132Z"
   },
   {
    "duration": 42,
    "start_time": "2021-08-21T18:21:51.163Z"
   },
   {
    "duration": 127,
    "start_time": "2021-08-21T18:21:51.209Z"
   },
   {
    "duration": 64,
    "start_time": "2021-08-21T18:21:51.339Z"
   },
   {
    "duration": 52,
    "start_time": "2021-08-21T18:21:51.406Z"
   },
   {
    "duration": 80,
    "start_time": "2021-08-21T18:21:51.461Z"
   },
   {
    "duration": 78,
    "start_time": "2021-08-21T18:21:51.543Z"
   },
   {
    "duration": 33357,
    "start_time": "2021-08-21T18:21:51.623Z"
   },
   {
    "duration": 38,
    "start_time": "2021-08-21T18:22:24.982Z"
   },
   {
    "duration": 1218,
    "start_time": "2021-08-21T18:22:25.023Z"
   },
   {
    "duration": 7,
    "start_time": "2021-08-21T20:39:04.226Z"
   },
   {
    "duration": 6,
    "start_time": "2021-08-21T20:39:10.116Z"
   },
   {
    "duration": 1143,
    "start_time": "2021-08-21T20:39:21.268Z"
   },
   {
    "duration": 28,
    "start_time": "2021-08-21T20:40:16.970Z"
   },
   {
    "duration": 5854,
    "start_time": "2021-08-22T07:40:14.394Z"
   },
   {
    "duration": 1548,
    "start_time": "2021-08-22T07:40:20.251Z"
   },
   {
    "duration": 5,
    "start_time": "2021-08-22T07:40:21.803Z"
   },
   {
    "duration": 586,
    "start_time": "2021-08-22T07:40:21.811Z"
   },
   {
    "duration": 23,
    "start_time": "2021-08-22T07:40:22.399Z"
   },
   {
    "duration": 10,
    "start_time": "2021-08-22T07:40:22.425Z"
   },
   {
    "duration": 2163,
    "start_time": "2021-08-22T07:40:22.437Z"
   },
   {
    "duration": 1835,
    "start_time": "2021-08-22T07:40:24.604Z"
   },
   {
    "duration": 1357,
    "start_time": "2021-08-22T07:40:26.442Z"
   },
   {
    "duration": 2885,
    "start_time": "2021-08-22T07:40:27.801Z"
   },
   {
    "duration": 2839,
    "start_time": "2021-08-22T07:40:30.688Z"
   },
   {
    "duration": 7,
    "start_time": "2021-08-22T07:40:33.530Z"
   },
   {
    "duration": 185,
    "start_time": "2021-08-22T07:40:33.540Z"
   },
   {
    "duration": 3,
    "start_time": "2021-08-22T07:40:33.727Z"
   },
   {
    "duration": 301,
    "start_time": "2021-08-22T07:40:33.733Z"
   },
   {
    "duration": 866,
    "start_time": "2021-08-22T07:40:34.037Z"
   },
   {
    "duration": 22,
    "start_time": "2021-08-22T07:40:34.905Z"
   },
   {
    "duration": 33,
    "start_time": "2021-08-22T07:40:34.929Z"
   },
   {
    "duration": 124,
    "start_time": "2021-08-22T07:40:34.964Z"
   },
   {
    "duration": 53,
    "start_time": "2021-08-22T07:40:35.090Z"
   },
   {
    "duration": 48,
    "start_time": "2021-08-22T07:40:35.161Z"
   },
   {
    "duration": 78,
    "start_time": "2021-08-22T07:40:35.211Z"
   },
   {
    "duration": 51,
    "start_time": "2021-08-22T07:40:35.293Z"
   },
   {
    "duration": 31008,
    "start_time": "2021-08-22T07:40:35.362Z"
   },
   {
    "duration": 31,
    "start_time": "2021-08-22T07:41:06.372Z"
   },
   {
    "duration": 1326,
    "start_time": "2021-08-22T07:41:06.406Z"
   },
   {
    "duration": 1413,
    "start_time": "2021-08-22T07:42:34.117Z"
   },
   {
    "duration": 1524,
    "start_time": "2021-08-22T07:43:08.961Z"
   },
   {
    "duration": 1569,
    "start_time": "2021-08-22T07:44:04.049Z"
   },
   {
    "duration": 2009,
    "start_time": "2021-08-22T07:45:26.436Z"
   },
   {
    "duration": 4177,
    "start_time": "2021-08-22T07:45:38.739Z"
   },
   {
    "duration": 3681,
    "start_time": "2021-08-22T07:46:30.069Z"
   },
   {
    "duration": 3737,
    "start_time": "2021-08-22T07:46:36.368Z"
   },
   {
    "duration": 5731,
    "start_time": "2021-08-22T07:47:30.200Z"
   },
   {
    "duration": 2912,
    "start_time": "2021-08-22T07:47:46.912Z"
   },
   {
    "duration": 2921,
    "start_time": "2021-08-22T07:49:09.993Z"
   },
   {
    "duration": 2305,
    "start_time": "2021-08-22T07:49:31.837Z"
   },
   {
    "duration": 2276,
    "start_time": "2021-08-22T07:49:40.478Z"
   },
   {
    "duration": 2457,
    "start_time": "2021-08-22T07:49:55.579Z"
   },
   {
    "duration": 1533,
    "start_time": "2021-08-22T07:50:32.829Z"
   },
   {
    "duration": 1465,
    "start_time": "2021-08-22T07:50:49.627Z"
   },
   {
    "duration": 555,
    "start_time": "2021-08-22T07:50:51.095Z"
   },
   {
    "duration": 23,
    "start_time": "2021-08-22T07:50:51.654Z"
   },
   {
    "duration": 8,
    "start_time": "2021-08-22T07:50:51.680Z"
   },
   {
    "duration": 2228,
    "start_time": "2021-08-22T07:50:51.690Z"
   },
   {
    "duration": 1877,
    "start_time": "2021-08-22T07:50:53.920Z"
   },
   {
    "duration": 1574,
    "start_time": "2021-08-22T07:50:55.799Z"
   },
   {
    "duration": 3002,
    "start_time": "2021-08-22T07:50:57.375Z"
   },
   {
    "duration": 2938,
    "start_time": "2021-08-22T07:51:00.381Z"
   },
   {
    "duration": 7,
    "start_time": "2021-08-22T07:51:03.322Z"
   },
   {
    "duration": 197,
    "start_time": "2021-08-22T07:51:03.332Z"
   },
   {
    "duration": 3,
    "start_time": "2021-08-22T07:51:03.532Z"
   },
   {
    "duration": 335,
    "start_time": "2021-08-22T07:51:03.537Z"
   },
   {
    "duration": 965,
    "start_time": "2021-08-22T07:51:03.875Z"
   },
   {
    "duration": 33,
    "start_time": "2021-08-22T07:51:04.843Z"
   },
   {
    "duration": 12,
    "start_time": "2021-08-22T07:51:04.878Z"
   },
   {
    "duration": 145,
    "start_time": "2021-08-22T07:51:04.893Z"
   },
   {
    "duration": 69,
    "start_time": "2021-08-22T07:51:05.041Z"
   },
   {
    "duration": 68,
    "start_time": "2021-08-22T07:51:05.113Z"
   },
   {
    "duration": 58,
    "start_time": "2021-08-22T07:51:05.184Z"
   },
   {
    "duration": 65,
    "start_time": "2021-08-22T07:51:05.245Z"
   },
   {
    "duration": 31473,
    "start_time": "2021-08-22T07:51:05.313Z"
   },
   {
    "duration": 25,
    "start_time": "2021-08-22T07:51:36.789Z"
   },
   {
    "duration": 1325,
    "start_time": "2021-08-22T07:51:36.816Z"
   },
   {
    "duration": 5,
    "start_time": "2021-08-22T07:52:03.905Z"
   },
   {
    "duration": 15,
    "start_time": "2021-08-22T07:53:17.745Z"
   },
   {
    "duration": 4,
    "start_time": "2021-08-22T07:54:01.710Z"
   },
   {
    "duration": 7,
    "start_time": "2021-08-22T07:54:05.258Z"
   },
   {
    "duration": 5,
    "start_time": "2021-08-22T07:54:10.903Z"
   },
   {
    "duration": 9,
    "start_time": "2021-08-22T07:54:11.457Z"
   },
   {
    "duration": 457,
    "start_time": "2021-08-22T07:54:34.504Z"
   },
   {
    "duration": 7,
    "start_time": "2021-08-22T07:54:36.869Z"
   },
   {
    "duration": 7,
    "start_time": "2021-08-22T07:54:37.184Z"
   },
   {
    "duration": 9,
    "start_time": "2021-08-22T07:55:00.534Z"
   },
   {
    "duration": 5,
    "start_time": "2021-08-22T08:19:19.419Z"
   },
   {
    "duration": 6,
    "start_time": "2021-08-22T08:21:25.386Z"
   },
   {
    "duration": 1766,
    "start_time": "2021-08-22T08:21:53.247Z"
   },
   {
    "duration": 16,
    "start_time": "2021-08-22T08:24:08.630Z"
   },
   {
    "duration": 14,
    "start_time": "2021-08-22T08:24:28.359Z"
   },
   {
    "duration": 28,
    "start_time": "2021-08-22T08:24:35.743Z"
   },
   {
    "duration": 32,
    "start_time": "2021-08-22T08:24:45.361Z"
   },
   {
    "duration": 23,
    "start_time": "2021-08-22T08:24:51.987Z"
   },
   {
    "duration": 5,
    "start_time": "2021-08-22T08:25:03.735Z"
   },
   {
    "duration": 595,
    "start_time": "2021-08-22T08:25:03.744Z"
   },
   {
    "duration": 35,
    "start_time": "2021-08-22T08:25:04.343Z"
   },
   {
    "duration": 8,
    "start_time": "2021-08-22T08:25:04.382Z"
   },
   {
    "duration": 2287,
    "start_time": "2021-08-22T08:25:04.393Z"
   },
   {
    "duration": 1879,
    "start_time": "2021-08-22T08:25:06.682Z"
   },
   {
    "duration": 1484,
    "start_time": "2021-08-22T08:25:08.564Z"
   },
   {
    "duration": 2955,
    "start_time": "2021-08-22T08:25:10.050Z"
   },
   {
    "duration": 3166,
    "start_time": "2021-08-22T08:25:13.009Z"
   },
   {
    "duration": 5,
    "start_time": "2021-08-22T08:25:16.179Z"
   },
   {
    "duration": 177,
    "start_time": "2021-08-22T08:25:16.187Z"
   },
   {
    "duration": 3,
    "start_time": "2021-08-22T08:25:16.367Z"
   },
   {
    "duration": 290,
    "start_time": "2021-08-22T08:25:16.372Z"
   },
   {
    "duration": 985,
    "start_time": "2021-08-22T08:25:16.664Z"
   },
   {
    "duration": 27,
    "start_time": "2021-08-22T08:25:17.652Z"
   },
   {
    "duration": 8,
    "start_time": "2021-08-22T08:25:17.682Z"
   },
   {
    "duration": 135,
    "start_time": "2021-08-22T08:25:17.693Z"
   },
   {
    "duration": 68,
    "start_time": "2021-08-22T08:25:17.830Z"
   },
   {
    "duration": 46,
    "start_time": "2021-08-22T08:25:17.901Z"
   },
   {
    "duration": 54,
    "start_time": "2021-08-22T08:25:17.962Z"
   },
   {
    "duration": 71,
    "start_time": "2021-08-22T08:25:18.018Z"
   },
   {
    "duration": 34197,
    "start_time": "2021-08-22T08:25:18.092Z"
   },
   {
    "duration": 24,
    "start_time": "2021-08-22T08:25:52.291Z"
   },
   {
    "duration": 1378,
    "start_time": "2021-08-22T08:25:52.318Z"
   },
   {
    "duration": 7,
    "start_time": "2021-08-22T08:25:53.700Z"
   },
   {
    "duration": 11,
    "start_time": "2021-08-22T08:25:53.710Z"
   },
   {
    "duration": 21,
    "start_time": "2021-08-22T08:25:56.705Z"
   },
   {
    "duration": 326,
    "start_time": "2021-08-22T08:26:39.622Z"
   },
   {
    "duration": 7,
    "start_time": "2021-08-22T08:27:02.047Z"
   },
   {
    "duration": 10,
    "start_time": "2021-08-22T08:27:05.283Z"
   },
   {
    "duration": 6,
    "start_time": "2021-08-22T08:27:09.117Z"
   },
   {
    "duration": 6,
    "start_time": "2021-08-22T08:28:35.117Z"
   },
   {
    "duration": 4,
    "start_time": "2021-08-22T08:28:36.879Z"
   },
   {
    "duration": 6,
    "start_time": "2021-08-22T08:29:10.859Z"
   },
   {
    "duration": 6,
    "start_time": "2021-08-22T08:30:45.521Z"
   },
   {
    "duration": 378,
    "start_time": "2021-08-22T08:31:34.338Z"
   },
   {
    "duration": 536,
    "start_time": "2021-08-22T08:31:44.010Z"
   },
   {
    "duration": 361,
    "start_time": "2021-08-22T08:32:28.883Z"
   },
   {
    "duration": 355,
    "start_time": "2021-08-22T08:32:41.143Z"
   },
   {
    "duration": 4,
    "start_time": "2021-08-22T08:32:47.634Z"
   },
   {
    "duration": 421,
    "start_time": "2021-08-22T08:32:55.402Z"
   },
   {
    "duration": 396,
    "start_time": "2021-08-22T08:33:03.507Z"
   },
   {
    "duration": 3,
    "start_time": "2021-08-22T08:33:17.425Z"
   },
   {
    "duration": 4,
    "start_time": "2021-08-22T08:33:18.101Z"
   },
   {
    "duration": 7,
    "start_time": "2021-08-22T08:33:56.017Z"
   },
   {
    "duration": 366,
    "start_time": "2021-08-22T08:35:10.662Z"
   },
   {
    "duration": 328,
    "start_time": "2021-08-22T08:35:18.075Z"
   },
   {
    "duration": 102,
    "start_time": "2021-08-22T08:36:19.511Z"
   },
   {
    "duration": 6,
    "start_time": "2021-08-22T08:36:23.287Z"
   },
   {
    "duration": 8,
    "start_time": "2021-08-22T08:36:39.536Z"
   },
   {
    "duration": 6,
    "start_time": "2021-08-22T08:36:40.246Z"
   },
   {
    "duration": 6,
    "start_time": "2021-08-22T08:36:48.921Z"
   },
   {
    "duration": 6,
    "start_time": "2021-08-22T08:37:09.743Z"
   },
   {
    "duration": 5037,
    "start_time": "2021-08-22T08:39:06.677Z"
   },
   {
    "duration": 484,
    "start_time": "2021-08-22T08:39:44.487Z"
   },
   {
    "duration": 1450,
    "start_time": "2021-08-22T08:41:39.693Z"
   },
   {
    "duration": 583,
    "start_time": "2021-08-22T08:41:41.146Z"
   },
   {
    "duration": 24,
    "start_time": "2021-08-22T08:41:41.732Z"
   },
   {
    "duration": 8,
    "start_time": "2021-08-22T08:41:41.759Z"
   },
   {
    "duration": 2243,
    "start_time": "2021-08-22T08:41:41.770Z"
   },
   {
    "duration": 1869,
    "start_time": "2021-08-22T08:41:44.016Z"
   },
   {
    "duration": 1411,
    "start_time": "2021-08-22T08:41:45.888Z"
   },
   {
    "duration": 3099,
    "start_time": "2021-08-22T08:41:47.302Z"
   },
   {
    "duration": 3122,
    "start_time": "2021-08-22T08:41:50.405Z"
   },
   {
    "duration": 7,
    "start_time": "2021-08-22T08:41:53.530Z"
   },
   {
    "duration": 187,
    "start_time": "2021-08-22T08:41:53.539Z"
   },
   {
    "duration": 3,
    "start_time": "2021-08-22T08:41:53.729Z"
   },
   {
    "duration": 328,
    "start_time": "2021-08-22T08:41:53.734Z"
   },
   {
    "duration": 897,
    "start_time": "2021-08-22T08:41:54.064Z"
   },
   {
    "duration": 22,
    "start_time": "2021-08-22T08:41:54.964Z"
   },
   {
    "duration": 8,
    "start_time": "2021-08-22T08:41:54.989Z"
   },
   {
    "duration": 140,
    "start_time": "2021-08-22T08:41:54.999Z"
   },
   {
    "duration": 65,
    "start_time": "2021-08-22T08:41:55.141Z"
   },
   {
    "duration": 66,
    "start_time": "2021-08-22T08:41:55.208Z"
   },
   {
    "duration": 61,
    "start_time": "2021-08-22T08:41:55.276Z"
   },
   {
    "duration": 69,
    "start_time": "2021-08-22T08:41:55.339Z"
   },
   {
    "duration": 30883,
    "start_time": "2021-08-22T08:41:55.411Z"
   },
   {
    "duration": 23,
    "start_time": "2021-08-22T08:42:26.297Z"
   },
   {
    "duration": 1343,
    "start_time": "2021-08-22T08:42:26.322Z"
   },
   {
    "duration": 7,
    "start_time": "2021-08-22T08:42:27.668Z"
   },
   {
    "duration": 21,
    "start_time": "2021-08-22T08:42:27.678Z"
   },
   {
    "duration": 24,
    "start_time": "2021-08-22T08:42:27.704Z"
   },
   {
    "duration": 32,
    "start_time": "2021-08-22T08:42:27.732Z"
   },
   {
    "duration": 21,
    "start_time": "2021-08-22T08:42:27.767Z"
   },
   {
    "duration": 1445,
    "start_time": "2021-08-22T10:04:22.858Z"
   },
   {
    "duration": 542,
    "start_time": "2021-08-22T10:04:24.307Z"
   },
   {
    "duration": 23,
    "start_time": "2021-08-22T10:04:24.852Z"
   },
   {
    "duration": 12,
    "start_time": "2021-08-22T10:04:24.878Z"
   },
   {
    "duration": 2228,
    "start_time": "2021-08-22T10:04:24.892Z"
   },
   {
    "duration": 1937,
    "start_time": "2021-08-22T10:04:27.122Z"
   },
   {
    "duration": 1394,
    "start_time": "2021-08-22T10:04:29.061Z"
   },
   {
    "duration": 3000,
    "start_time": "2021-08-22T10:04:30.458Z"
   },
   {
    "duration": 2925,
    "start_time": "2021-08-22T10:04:33.464Z"
   },
   {
    "duration": 7,
    "start_time": "2021-08-22T10:04:36.392Z"
   },
   {
    "duration": 199,
    "start_time": "2021-08-22T10:04:36.402Z"
   },
   {
    "duration": 3,
    "start_time": "2021-08-22T10:04:36.603Z"
   },
   {
    "duration": 326,
    "start_time": "2021-08-22T10:04:36.608Z"
   },
   {
    "duration": 891,
    "start_time": "2021-08-22T10:04:36.937Z"
   },
   {
    "duration": 36,
    "start_time": "2021-08-22T10:04:37.830Z"
   },
   {
    "duration": 10,
    "start_time": "2021-08-22T10:04:37.869Z"
   },
   {
    "duration": 135,
    "start_time": "2021-08-22T10:04:37.882Z"
   },
   {
    "duration": 74,
    "start_time": "2021-08-22T10:04:38.020Z"
   },
   {
    "duration": 66,
    "start_time": "2021-08-22T10:04:38.097Z"
   },
   {
    "duration": 61,
    "start_time": "2021-08-22T10:04:38.166Z"
   },
   {
    "duration": 73,
    "start_time": "2021-08-22T10:04:38.230Z"
   },
   {
    "duration": 32193,
    "start_time": "2021-08-22T10:04:38.305Z"
   },
   {
    "duration": 24,
    "start_time": "2021-08-22T10:05:10.501Z"
   },
   {
    "duration": 1371,
    "start_time": "2021-08-22T10:05:10.527Z"
   },
   {
    "duration": 6,
    "start_time": "2021-08-22T10:05:11.900Z"
   },
   {
    "duration": 60,
    "start_time": "2021-08-22T10:05:11.908Z"
   },
   {
    "duration": 31,
    "start_time": "2021-08-22T10:05:11.973Z"
   },
   {
    "duration": 26,
    "start_time": "2021-08-22T10:05:12.007Z"
   },
   {
    "duration": 44,
    "start_time": "2021-08-22T10:05:12.035Z"
   },
   {
    "duration": 804,
    "start_time": "2021-08-22T10:05:19.820Z"
   },
   {
    "duration": 1445,
    "start_time": "2021-08-22T10:05:32.021Z"
   },
   {
    "duration": 535,
    "start_time": "2021-08-22T10:05:33.469Z"
   },
   {
    "duration": 23,
    "start_time": "2021-08-22T10:05:34.007Z"
   },
   {
    "duration": 8,
    "start_time": "2021-08-22T10:05:34.033Z"
   },
   {
    "duration": 2203,
    "start_time": "2021-08-22T10:05:34.043Z"
   },
   {
    "duration": 2485,
    "start_time": "2021-08-22T10:05:36.249Z"
   },
   {
    "duration": 1738,
    "start_time": "2021-08-22T10:05:38.738Z"
   },
   {
    "duration": 4288,
    "start_time": "2021-08-22T10:05:40.482Z"
   },
   {
    "duration": 2890,
    "start_time": "2021-08-22T10:05:44.774Z"
   },
   {
    "duration": 7,
    "start_time": "2021-08-22T10:05:47.667Z"
   },
   {
    "duration": 186,
    "start_time": "2021-08-22T10:05:47.677Z"
   },
   {
    "duration": 4,
    "start_time": "2021-08-22T10:05:47.865Z"
   },
   {
    "duration": 320,
    "start_time": "2021-08-22T10:05:47.871Z"
   },
   {
    "duration": 880,
    "start_time": "2021-08-22T10:05:48.194Z"
   },
   {
    "duration": 24,
    "start_time": "2021-08-22T10:05:49.076Z"
   },
   {
    "duration": 9,
    "start_time": "2021-08-22T10:05:49.103Z"
   },
   {
    "duration": 139,
    "start_time": "2021-08-22T10:05:49.115Z"
   },
   {
    "duration": 60,
    "start_time": "2021-08-22T10:05:49.256Z"
   },
   {
    "duration": 75,
    "start_time": "2021-08-22T10:05:49.319Z"
   },
   {
    "duration": 73,
    "start_time": "2021-08-22T10:05:49.397Z"
   },
   {
    "duration": 55,
    "start_time": "2021-08-22T10:05:49.473Z"
   },
   {
    "duration": 31692,
    "start_time": "2021-08-22T10:05:49.530Z"
   },
   {
    "duration": 36,
    "start_time": "2021-08-22T10:06:21.227Z"
   },
   {
    "duration": 1334,
    "start_time": "2021-08-22T10:06:21.266Z"
   },
   {
    "duration": 7,
    "start_time": "2021-08-22T10:06:22.602Z"
   },
   {
    "duration": 14,
    "start_time": "2021-08-22T10:06:22.611Z"
   },
   {
    "duration": 44,
    "start_time": "2021-08-22T10:06:22.627Z"
   },
   {
    "duration": 6,
    "start_time": "2021-08-22T10:06:22.674Z"
   },
   {
    "duration": 8,
    "start_time": "2021-08-22T10:06:22.683Z"
   },
   {
    "duration": 40,
    "start_time": "2021-08-22T10:06:24.594Z"
   },
   {
    "duration": 1504,
    "start_time": "2021-08-22T14:42:08.633Z"
   },
   {
    "duration": 651,
    "start_time": "2021-08-22T14:42:10.141Z"
   },
   {
    "duration": 33,
    "start_time": "2021-08-22T14:42:10.796Z"
   },
   {
    "duration": 11,
    "start_time": "2021-08-22T14:42:10.832Z"
   },
   {
    "duration": 2618,
    "start_time": "2021-08-22T14:42:10.845Z"
   },
   {
    "duration": 2049,
    "start_time": "2021-08-22T14:42:13.465Z"
   },
   {
    "duration": 1610,
    "start_time": "2021-08-22T14:42:15.517Z"
   },
   {
    "duration": 2996,
    "start_time": "2021-08-22T14:42:17.132Z"
   },
   {
    "duration": 2859,
    "start_time": "2021-08-22T14:42:20.131Z"
   },
   {
    "duration": 8,
    "start_time": "2021-08-22T14:42:22.992Z"
   },
   {
    "duration": 192,
    "start_time": "2021-08-22T14:42:23.002Z"
   },
   {
    "duration": 387,
    "start_time": "2021-08-22T14:42:23.196Z"
   },
   {
    "duration": 774,
    "start_time": "2021-08-22T14:42:23.586Z"
   },
   {
    "duration": 23,
    "start_time": "2021-08-22T14:42:24.363Z"
   },
   {
    "duration": 9,
    "start_time": "2021-08-22T14:42:24.389Z"
   },
   {
    "duration": 156,
    "start_time": "2021-08-22T14:42:24.400Z"
   },
   {
    "duration": 54,
    "start_time": "2021-08-22T14:42:24.559Z"
   },
   {
    "duration": 67,
    "start_time": "2021-08-22T14:42:24.616Z"
   },
   {
    "duration": 78,
    "start_time": "2021-08-22T14:42:24.686Z"
   },
   {
    "duration": 52,
    "start_time": "2021-08-22T14:42:24.767Z"
   },
   {
    "duration": 31806,
    "start_time": "2021-08-22T14:42:24.821Z"
   },
   {
    "duration": 41,
    "start_time": "2021-08-22T14:42:56.630Z"
   },
   {
    "duration": 1132,
    "start_time": "2021-08-22T14:42:56.677Z"
   },
   {
    "duration": 6,
    "start_time": "2021-08-22T14:42:57.811Z"
   },
   {
    "duration": 10,
    "start_time": "2021-08-22T14:42:57.819Z"
   },
   {
    "duration": 42,
    "start_time": "2021-08-22T14:42:57.831Z"
   },
   {
    "duration": 5,
    "start_time": "2021-08-22T14:42:57.876Z"
   },
   {
    "duration": 8,
    "start_time": "2021-08-22T14:42:57.884Z"
   },
   {
    "duration": 57,
    "start_time": "2021-08-22T14:48:09.299Z"
   },
   {
    "duration": 8,
    "start_time": "2021-08-22T14:50:17.789Z"
   },
   {
    "duration": 413,
    "start_time": "2021-08-22T14:50:25.869Z"
   },
   {
    "duration": 8,
    "start_time": "2021-08-22T14:50:39.442Z"
   },
   {
    "duration": 8,
    "start_time": "2021-08-22T14:50:44.474Z"
   },
   {
    "duration": 7,
    "start_time": "2021-08-22T14:50:48.731Z"
   },
   {
    "duration": 8,
    "start_time": "2021-08-22T14:50:52.700Z"
   },
   {
    "duration": 7,
    "start_time": "2021-08-22T14:51:04.778Z"
   },
   {
    "duration": 8,
    "start_time": "2021-08-22T14:52:45.105Z"
   },
   {
    "duration": 57,
    "start_time": "2021-08-22T14:58:45.084Z"
   },
   {
    "duration": 642,
    "start_time": "2021-08-22T14:59:14.871Z"
   },
   {
    "duration": 19,
    "start_time": "2021-08-22T14:59:18.670Z"
   },
   {
    "duration": 55,
    "start_time": "2021-08-22T15:00:05.197Z"
   },
   {
    "duration": 9086,
    "start_time": "2021-08-22T15:01:24.142Z"
   },
   {
    "duration": 12,
    "start_time": "2021-08-22T15:01:44.818Z"
   },
   {
    "duration": 7,
    "start_time": "2021-08-22T15:01:48.358Z"
   },
   {
    "duration": 13,
    "start_time": "2021-08-22T15:02:04.515Z"
   },
   {
    "duration": 284,
    "start_time": "2021-08-22T15:02:22.993Z"
   },
   {
    "duration": 23,
    "start_time": "2021-08-22T15:02:51.575Z"
   },
   {
    "duration": 18,
    "start_time": "2021-08-22T15:03:21.451Z"
   },
   {
    "duration": 7,
    "start_time": "2021-08-22T15:04:41.621Z"
   },
   {
    "duration": 92,
    "start_time": "2021-08-22T15:04:45.495Z"
   },
   {
    "duration": 8,
    "start_time": "2021-08-22T15:04:54.685Z"
   },
   {
    "duration": 20,
    "start_time": "2021-08-22T15:06:18.782Z"
   },
   {
    "duration": 55,
    "start_time": "2021-08-22T15:07:09.980Z"
   },
   {
    "duration": 64,
    "start_time": "2021-08-22T15:35:50.490Z"
   },
   {
    "duration": 1529,
    "start_time": "2021-08-22T17:22:06.849Z"
   },
   {
    "duration": 620,
    "start_time": "2021-08-22T17:22:08.380Z"
   },
   {
    "duration": 24,
    "start_time": "2021-08-22T17:22:09.003Z"
   },
   {
    "duration": 49,
    "start_time": "2021-08-22T17:22:22.724Z"
   },
   {
    "duration": 1436,
    "start_time": "2021-08-22T17:23:55.594Z"
   },
   {
    "duration": 556,
    "start_time": "2021-08-22T17:23:57.034Z"
   },
   {
    "duration": 52,
    "start_time": "2021-08-22T17:23:57.596Z"
   },
   {
    "duration": 11,
    "start_time": "2021-08-22T17:23:57.650Z"
   },
   {
    "duration": 2061,
    "start_time": "2021-08-22T17:23:57.664Z"
   },
   {
    "duration": 1981,
    "start_time": "2021-08-22T17:23:59.728Z"
   },
   {
    "duration": 1499,
    "start_time": "2021-08-22T17:24:01.714Z"
   },
   {
    "duration": 3055,
    "start_time": "2021-08-22T17:24:03.217Z"
   },
   {
    "duration": 2884,
    "start_time": "2021-08-22T17:24:06.274Z"
   },
   {
    "duration": 7,
    "start_time": "2021-08-22T17:24:09.160Z"
   },
   {
    "duration": 184,
    "start_time": "2021-08-22T17:24:09.169Z"
   },
   {
    "duration": 389,
    "start_time": "2021-08-22T17:24:09.356Z"
   },
   {
    "duration": 870,
    "start_time": "2021-08-22T17:24:09.756Z"
   },
   {
    "duration": 35,
    "start_time": "2021-08-22T17:24:10.628Z"
   },
   {
    "duration": 9,
    "start_time": "2021-08-22T17:24:10.665Z"
   },
   {
    "duration": 147,
    "start_time": "2021-08-22T17:24:10.676Z"
   },
   {
    "duration": 65,
    "start_time": "2021-08-22T17:24:10.826Z"
   },
   {
    "duration": 64,
    "start_time": "2021-08-22T17:24:10.894Z"
   },
   {
    "duration": 58,
    "start_time": "2021-08-22T17:24:10.960Z"
   },
   {
    "duration": 77,
    "start_time": "2021-08-22T17:24:11.020Z"
   },
   {
    "duration": 33808,
    "start_time": "2021-08-22T17:24:11.099Z"
   },
   {
    "duration": 23,
    "start_time": "2021-08-22T17:24:44.912Z"
   },
   {
    "duration": 1164,
    "start_time": "2021-08-22T17:24:44.938Z"
   },
   {
    "duration": 5,
    "start_time": "2021-08-22T17:24:46.105Z"
   },
   {
    "duration": 10,
    "start_time": "2021-08-22T17:24:46.113Z"
   },
   {
    "duration": 46,
    "start_time": "2021-08-22T17:24:46.125Z"
   },
   {
    "duration": 6,
    "start_time": "2021-08-22T17:24:46.174Z"
   },
   {
    "duration": 13,
    "start_time": "2021-08-22T17:24:46.182Z"
   },
   {
    "duration": 8,
    "start_time": "2021-08-22T17:29:00.205Z"
   },
   {
    "duration": 10,
    "start_time": "2021-08-22T17:29:14.067Z"
   },
   {
    "duration": 9,
    "start_time": "2021-08-22T17:29:27.535Z"
   },
   {
    "duration": 8,
    "start_time": "2021-08-22T17:29:40.233Z"
   },
   {
    "duration": 30,
    "start_time": "2021-08-22T17:36:37.142Z"
   },
   {
    "duration": 84,
    "start_time": "2021-08-22T18:30:54.325Z"
   },
   {
    "duration": 71,
    "start_time": "2021-08-22T18:31:16.020Z"
   },
   {
    "duration": 6,
    "start_time": "2021-08-22T18:31:40.605Z"
   },
   {
    "duration": 71,
    "start_time": "2021-08-22T18:32:00.287Z"
   },
   {
    "duration": 5,
    "start_time": "2021-08-22T18:32:01.417Z"
   },
   {
    "duration": 4,
    "start_time": "2021-08-22T18:32:15.270Z"
   },
   {
    "duration": 730,
    "start_time": "2021-08-22T18:32:15.277Z"
   },
   {
    "duration": 55,
    "start_time": "2021-08-22T18:32:16.011Z"
   },
   {
    "duration": 8,
    "start_time": "2021-08-22T18:32:16.070Z"
   },
   {
    "duration": 2100,
    "start_time": "2021-08-22T18:32:16.081Z"
   },
   {
    "duration": 1912,
    "start_time": "2021-08-22T18:32:18.183Z"
   },
   {
    "duration": 1352,
    "start_time": "2021-08-22T18:32:20.097Z"
   },
   {
    "duration": 2907,
    "start_time": "2021-08-22T18:32:21.451Z"
   },
   {
    "duration": 3023,
    "start_time": "2021-08-22T18:32:24.361Z"
   },
   {
    "duration": 6,
    "start_time": "2021-08-22T18:32:27.387Z"
   },
   {
    "duration": 192,
    "start_time": "2021-08-22T18:32:27.396Z"
   },
   {
    "duration": 257,
    "start_time": "2021-08-22T18:32:27.590Z"
   },
   {
    "duration": 770,
    "start_time": "2021-08-22T18:32:27.849Z"
   },
   {
    "duration": 42,
    "start_time": "2021-08-22T18:32:28.622Z"
   },
   {
    "duration": 12,
    "start_time": "2021-08-22T18:32:28.667Z"
   },
   {
    "duration": 75,
    "start_time": "2021-08-22T18:32:57.106Z"
   },
   {
    "duration": 21,
    "start_time": "2021-08-22T18:33:09.499Z"
   },
   {
    "duration": 11,
    "start_time": "2021-08-22T18:33:18.873Z"
   },
   {
    "duration": 8,
    "start_time": "2021-08-22T18:33:33.940Z"
   },
   {
    "duration": 23,
    "start_time": "2021-08-22T18:33:59.173Z"
   },
   {
    "duration": 85,
    "start_time": "2021-08-22T18:34:15.405Z"
   },
   {
    "duration": 81,
    "start_time": "2021-08-22T18:44:56.664Z"
   },
   {
    "duration": 77,
    "start_time": "2021-08-22T18:45:08.114Z"
   },
   {
    "duration": 492,
    "start_time": "2021-08-22T18:45:23.409Z"
   },
   {
    "duration": 77,
    "start_time": "2021-08-22T18:45:36.241Z"
   },
   {
    "duration": 84,
    "start_time": "2021-08-22T18:45:40.105Z"
   },
   {
    "duration": 11,
    "start_time": "2021-08-22T18:46:02.944Z"
   },
   {
    "duration": 305,
    "start_time": "2021-08-22T18:46:53.392Z"
   },
   {
    "duration": 71,
    "start_time": "2021-08-22T18:47:24.771Z"
   },
   {
    "duration": 351,
    "start_time": "2021-08-22T18:47:35.065Z"
   },
   {
    "duration": 81,
    "start_time": "2021-08-22T18:47:51.488Z"
   },
   {
    "duration": 84,
    "start_time": "2021-08-22T18:47:57.206Z"
   },
   {
    "duration": 73,
    "start_time": "2021-08-22T18:48:59.386Z"
   },
   {
    "duration": 69,
    "start_time": "2021-08-22T18:49:34.976Z"
   },
   {
    "duration": 5,
    "start_time": "2021-08-22T18:50:46.746Z"
   },
   {
    "duration": 6,
    "start_time": "2021-08-22T18:50:50.981Z"
   },
   {
    "duration": 8,
    "start_time": "2021-08-22T18:50:58.511Z"
   },
   {
    "duration": 13,
    "start_time": "2021-08-22T18:51:00.309Z"
   },
   {
    "duration": 67,
    "start_time": "2021-08-22T18:53:43.061Z"
   },
   {
    "duration": 54,
    "start_time": "2021-08-22T18:53:50.032Z"
   },
   {
    "duration": 51,
    "start_time": "2021-08-22T18:54:02.029Z"
   },
   {
    "duration": 16,
    "start_time": "2021-08-22T18:54:42.069Z"
   },
   {
    "duration": 4,
    "start_time": "2021-08-22T18:54:46.427Z"
   },
   {
    "duration": 623,
    "start_time": "2021-08-22T18:54:46.434Z"
   },
   {
    "duration": 59,
    "start_time": "2021-08-22T18:54:47.061Z"
   },
   {
    "duration": 48,
    "start_time": "2021-08-22T18:54:47.123Z"
   },
   {
    "duration": 2344,
    "start_time": "2021-08-22T18:54:47.175Z"
   },
   {
    "duration": 1929,
    "start_time": "2021-08-22T18:54:49.521Z"
   },
   {
    "duration": 1541,
    "start_time": "2021-08-22T18:54:51.455Z"
   },
   {
    "duration": 3070,
    "start_time": "2021-08-22T18:54:52.998Z"
   },
   {
    "duration": 3081,
    "start_time": "2021-08-22T18:54:56.071Z"
   },
   {
    "duration": 7,
    "start_time": "2021-08-22T18:54:59.158Z"
   },
   {
    "duration": 187,
    "start_time": "2021-08-22T18:54:59.169Z"
   },
   {
    "duration": 289,
    "start_time": "2021-08-22T18:54:59.359Z"
   },
   {
    "duration": 955,
    "start_time": "2021-08-22T18:54:59.656Z"
   },
   {
    "duration": 24,
    "start_time": "2021-08-22T18:55:00.614Z"
   },
   {
    "duration": 21,
    "start_time": "2021-08-22T18:55:00.640Z"
   },
   {
    "duration": 111,
    "start_time": "2021-08-22T18:55:00.665Z"
   },
   {
    "duration": 4,
    "start_time": "2021-08-22T18:55:00.781Z"
   },
   {
    "duration": 33,
    "start_time": "2021-08-22T18:55:00.788Z"
   },
   {
    "duration": 57,
    "start_time": "2021-08-22T18:55:04.444Z"
   },
   {
    "duration": 34,
    "start_time": "2021-08-22T18:55:28.765Z"
   },
   {
    "duration": 44,
    "start_time": "2021-08-22T18:55:32.874Z"
   },
   {
    "duration": 35,
    "start_time": "2021-08-22T18:56:21.043Z"
   },
   {
    "duration": 30,
    "start_time": "2021-08-22T18:58:38.586Z"
   },
   {
    "duration": 29,
    "start_time": "2021-08-22T18:58:46.465Z"
   },
   {
    "duration": 43,
    "start_time": "2021-08-22T18:58:51.329Z"
   },
   {
    "duration": 7128,
    "start_time": "2021-08-22T18:59:02.047Z"
   },
   {
    "duration": 304,
    "start_time": "2021-08-22T18:59:19.870Z"
   },
   {
    "duration": 28,
    "start_time": "2021-08-22T18:59:21.810Z"
   },
   {
    "duration": 14,
    "start_time": "2021-08-22T18:59:27.269Z"
   },
   {
    "duration": 278,
    "start_time": "2021-08-22T18:59:31.920Z"
   },
   {
    "duration": 6,
    "start_time": "2021-08-22T18:59:40.704Z"
   },
   {
    "duration": 44,
    "start_time": "2021-08-22T18:59:50.752Z"
   },
   {
    "duration": 70,
    "start_time": "2021-08-22T18:59:58.081Z"
   },
   {
    "duration": 30,
    "start_time": "2021-08-22T18:59:59.307Z"
   },
   {
    "duration": 38,
    "start_time": "2021-08-22T19:00:59.131Z"
   },
   {
    "duration": 43,
    "start_time": "2021-08-22T19:01:45.111Z"
   },
   {
    "duration": 47,
    "start_time": "2021-08-22T19:03:40.243Z"
   },
   {
    "duration": 32,
    "start_time": "2021-08-22T19:04:16.429Z"
   },
   {
    "duration": 32,
    "start_time": "2021-08-22T19:04:26.730Z"
   },
   {
    "duration": 346,
    "start_time": "2021-08-22T19:05:46.399Z"
   },
   {
    "duration": 39,
    "start_time": "2021-08-22T19:06:10.240Z"
   },
   {
    "duration": 7,
    "start_time": "2021-08-22T19:07:14.123Z"
   },
   {
    "duration": 7,
    "start_time": "2021-08-22T19:07:21.429Z"
   },
   {
    "duration": 6,
    "start_time": "2021-08-22T19:07:30.286Z"
   },
   {
    "duration": 6,
    "start_time": "2021-08-22T19:07:34.622Z"
   },
   {
    "duration": 9,
    "start_time": "2021-08-22T19:08:32.959Z"
   },
   {
    "duration": 8,
    "start_time": "2021-08-22T19:08:42.195Z"
   },
   {
    "duration": 6,
    "start_time": "2021-08-22T19:08:48.711Z"
   },
   {
    "duration": 18962,
    "start_time": "2021-08-22T19:09:38.541Z"
   },
   {
    "duration": 21,
    "start_time": "2021-08-22T20:11:58.724Z"
   },
   {
    "duration": 19179,
    "start_time": "2021-08-22T20:12:39.152Z"
   },
   {
    "duration": 22,
    "start_time": "2021-08-22T20:13:30.913Z"
   },
   {
    "duration": 16,
    "start_time": "2021-08-22T20:13:43.319Z"
   },
   {
    "duration": 20,
    "start_time": "2021-08-22T20:13:52.043Z"
   },
   {
    "duration": 5,
    "start_time": "2021-08-22T20:14:14.289Z"
   },
   {
    "duration": 1142,
    "start_time": "2021-08-22T20:16:43.690Z"
   },
   {
    "duration": 3142,
    "start_time": "2021-08-22T20:17:03.554Z"
   },
   {
    "duration": 2117,
    "start_time": "2021-08-22T20:17:09.608Z"
   },
   {
    "duration": 1619,
    "start_time": "2021-08-22T20:17:14.691Z"
   },
   {
    "duration": 17,
    "start_time": "2021-08-22T20:17:20.919Z"
   },
   {
    "duration": 1318,
    "start_time": "2021-08-22T20:18:05.359Z"
   },
   {
    "duration": 1486,
    "start_time": "2021-08-22T20:18:52.050Z"
   },
   {
    "duration": 1448,
    "start_time": "2021-08-22T20:19:49.604Z"
   },
   {
    "duration": 573,
    "start_time": "2021-08-22T20:19:51.055Z"
   },
   {
    "duration": 61,
    "start_time": "2021-08-22T20:19:51.633Z"
   },
   {
    "duration": 8,
    "start_time": "2021-08-22T20:19:51.697Z"
   },
   {
    "duration": 2211,
    "start_time": "2021-08-22T20:19:51.708Z"
   },
   {
    "duration": 1835,
    "start_time": "2021-08-22T20:19:53.921Z"
   },
   {
    "duration": 1502,
    "start_time": "2021-08-22T20:19:55.758Z"
   },
   {
    "duration": 2921,
    "start_time": "2021-08-22T20:19:57.263Z"
   },
   {
    "duration": 2873,
    "start_time": "2021-08-22T20:20:00.188Z"
   },
   {
    "duration": 8,
    "start_time": "2021-08-22T20:20:03.064Z"
   },
   {
    "duration": 288,
    "start_time": "2021-08-22T20:20:03.075Z"
   },
   {
    "duration": 426,
    "start_time": "2021-08-22T20:20:03.365Z"
   },
   {
    "duration": 778,
    "start_time": "2021-08-22T20:20:03.793Z"
   },
   {
    "duration": 22,
    "start_time": "2021-08-22T20:20:04.574Z"
   },
   {
    "duration": 9,
    "start_time": "2021-08-22T20:20:04.599Z"
   },
   {
    "duration": 94,
    "start_time": "2021-08-22T20:20:04.610Z"
   },
   {
    "duration": 30,
    "start_time": "2021-08-22T20:20:04.706Z"
   },
   {
    "duration": 47,
    "start_time": "2021-08-22T20:20:04.739Z"
   },
   {
    "duration": 68,
    "start_time": "2021-08-22T20:20:04.788Z"
   },
   {
    "duration": 17073,
    "start_time": "2021-08-22T20:20:04.858Z"
   },
   {
    "duration": 33,
    "start_time": "2021-08-22T20:20:21.933Z"
   },
   {
    "duration": 1293,
    "start_time": "2021-08-22T20:20:21.968Z"
   },
   {
    "duration": 6,
    "start_time": "2021-08-22T20:20:23.264Z"
   },
   {
    "duration": 19,
    "start_time": "2021-08-22T20:20:23.273Z"
   },
   {
    "duration": 29,
    "start_time": "2021-08-22T20:20:23.295Z"
   },
   {
    "duration": 30,
    "start_time": "2021-08-22T20:20:23.326Z"
   },
   {
    "duration": 9,
    "start_time": "2021-08-22T20:20:23.362Z"
   },
   {
    "duration": 7,
    "start_time": "2021-08-22T20:20:32.735Z"
   },
   {
    "duration": 7,
    "start_time": "2021-08-22T20:20:53.978Z"
   },
   {
    "duration": 7,
    "start_time": "2021-08-22T20:21:10.852Z"
   },
   {
    "duration": 19,
    "start_time": "2021-08-22T20:21:18.374Z"
   },
   {
    "duration": 7,
    "start_time": "2021-08-22T20:21:50.240Z"
   },
   {
    "duration": 7,
    "start_time": "2021-08-22T20:21:50.556Z"
   },
   {
    "duration": 10,
    "start_time": "2021-08-22T20:21:59.008Z"
   },
   {
    "duration": 9,
    "start_time": "2021-08-22T20:22:00.006Z"
   },
   {
    "duration": 7,
    "start_time": "2021-08-22T20:22:01.805Z"
   },
   {
    "duration": 12,
    "start_time": "2021-08-22T20:22:12.190Z"
   },
   {
    "duration": 10,
    "start_time": "2021-08-22T20:22:43.952Z"
   },
   {
    "duration": 32,
    "start_time": "2021-08-22T20:22:47.079Z"
   },
   {
    "duration": 23,
    "start_time": "2021-08-22T20:22:54.716Z"
   },
   {
    "duration": 11,
    "start_time": "2021-08-22T20:22:55.682Z"
   },
   {
    "duration": 8,
    "start_time": "2021-08-22T20:22:58.068Z"
   },
   {
    "duration": 1454,
    "start_time": "2021-08-22T20:23:23.182Z"
   },
   {
    "duration": 577,
    "start_time": "2021-08-22T20:23:24.638Z"
   },
   {
    "duration": 56,
    "start_time": "2021-08-22T20:23:25.219Z"
   },
   {
    "duration": 9,
    "start_time": "2021-08-22T20:23:25.279Z"
   },
   {
    "duration": 2230,
    "start_time": "2021-08-22T20:23:25.291Z"
   },
   {
    "duration": 1802,
    "start_time": "2021-08-22T20:23:27.523Z"
   },
   {
    "duration": 1452,
    "start_time": "2021-08-22T20:23:29.327Z"
   },
   {
    "duration": 3096,
    "start_time": "2021-08-22T20:23:30.783Z"
   },
   {
    "duration": 2968,
    "start_time": "2021-08-22T20:23:33.883Z"
   },
   {
    "duration": 6,
    "start_time": "2021-08-22T20:23:36.856Z"
   },
   {
    "duration": 182,
    "start_time": "2021-08-22T20:23:36.865Z"
   },
   {
    "duration": 412,
    "start_time": "2021-08-22T20:23:37.050Z"
   },
   {
    "duration": 768,
    "start_time": "2021-08-22T20:23:37.464Z"
   },
   {
    "duration": 31,
    "start_time": "2021-08-22T20:23:38.234Z"
   },
   {
    "duration": 9,
    "start_time": "2021-08-22T20:23:38.267Z"
   },
   {
    "duration": 93,
    "start_time": "2021-08-22T20:23:38.278Z"
   },
   {
    "duration": 31,
    "start_time": "2021-08-22T20:23:38.374Z"
   },
   {
    "duration": 52,
    "start_time": "2021-08-22T20:23:38.407Z"
   },
   {
    "duration": 42,
    "start_time": "2021-08-22T20:23:38.461Z"
   },
   {
    "duration": 16978,
    "start_time": "2021-08-22T20:23:38.505Z"
   },
   {
    "duration": 20,
    "start_time": "2021-08-22T20:23:55.486Z"
   },
   {
    "duration": 1395,
    "start_time": "2021-08-22T20:23:55.508Z"
   },
   {
    "duration": 10,
    "start_time": "2021-08-22T20:23:56.907Z"
   },
   {
    "duration": 11,
    "start_time": "2021-08-22T20:23:56.919Z"
   },
   {
    "duration": 22,
    "start_time": "2021-08-22T20:23:56.957Z"
   },
   {
    "duration": 10,
    "start_time": "2021-08-22T20:23:56.982Z"
   },
   {
    "duration": 8,
    "start_time": "2021-08-22T20:23:56.995Z"
   },
   {
    "duration": 7,
    "start_time": "2021-08-22T20:28:33.679Z"
   },
   {
    "duration": 9,
    "start_time": "2021-08-22T20:29:57.850Z"
   },
   {
    "duration": 1616,
    "start_time": "2021-08-22T20:31:17.297Z"
   },
   {
    "duration": 542,
    "start_time": "2021-08-22T20:31:18.915Z"
   },
   {
    "duration": 51,
    "start_time": "2021-08-22T20:31:19.460Z"
   },
   {
    "duration": 8,
    "start_time": "2021-08-22T20:31:19.514Z"
   },
   {
    "duration": 2232,
    "start_time": "2021-08-22T20:31:19.524Z"
   },
   {
    "duration": 1875,
    "start_time": "2021-08-22T20:31:21.759Z"
   },
   {
    "duration": 1778,
    "start_time": "2021-08-22T20:31:23.637Z"
   },
   {
    "duration": 4209,
    "start_time": "2021-08-22T20:31:25.419Z"
   },
   {
    "duration": 3765,
    "start_time": "2021-08-22T20:31:29.635Z"
   },
   {
    "duration": 8,
    "start_time": "2021-08-22T20:31:33.403Z"
   },
   {
    "duration": 191,
    "start_time": "2021-08-22T20:31:33.414Z"
   },
   {
    "duration": 414,
    "start_time": "2021-08-22T20:31:33.608Z"
   },
   {
    "duration": 796,
    "start_time": "2021-08-22T20:31:34.025Z"
   },
   {
    "duration": 34,
    "start_time": "2021-08-22T20:31:34.824Z"
   },
   {
    "duration": 10,
    "start_time": "2021-08-22T20:31:34.861Z"
   },
   {
    "duration": 90,
    "start_time": "2021-08-22T20:31:34.873Z"
   },
   {
    "duration": 30,
    "start_time": "2021-08-22T20:31:34.966Z"
   },
   {
    "duration": 58,
    "start_time": "2021-08-22T20:31:34.999Z"
   },
   {
    "duration": 48,
    "start_time": "2021-08-22T20:31:35.060Z"
   },
   {
    "duration": 18146,
    "start_time": "2021-08-22T20:31:35.111Z"
   },
   {
    "duration": 22,
    "start_time": "2021-08-22T20:31:53.260Z"
   },
   {
    "duration": 1444,
    "start_time": "2021-08-22T20:31:53.285Z"
   },
   {
    "duration": 25,
    "start_time": "2021-08-22T20:31:54.732Z"
   },
   {
    "duration": 17,
    "start_time": "2021-08-22T20:31:54.761Z"
   },
   {
    "duration": 28,
    "start_time": "2021-08-22T20:31:54.781Z"
   },
   {
    "duration": 9,
    "start_time": "2021-08-22T20:31:54.811Z"
   },
   {
    "duration": 31,
    "start_time": "2021-08-22T20:31:54.825Z"
   },
   {
    "duration": 2021,
    "start_time": "2021-08-23T16:40:46.266Z"
   },
   {
    "duration": 768,
    "start_time": "2021-08-23T16:40:48.290Z"
   },
   {
    "duration": 97,
    "start_time": "2021-08-23T16:40:49.062Z"
   },
   {
    "duration": 10,
    "start_time": "2021-08-23T16:40:49.163Z"
   },
   {
    "duration": 2854,
    "start_time": "2021-08-23T16:40:49.176Z"
   },
   {
    "duration": 1872,
    "start_time": "2021-08-23T16:40:52.032Z"
   },
   {
    "duration": 1402,
    "start_time": "2021-08-23T16:40:53.907Z"
   },
   {
    "duration": 3134,
    "start_time": "2021-08-23T16:40:55.313Z"
   },
   {
    "duration": 2978,
    "start_time": "2021-08-23T16:40:58.455Z"
   },
   {
    "duration": 20,
    "start_time": "2021-08-23T16:41:01.436Z"
   },
   {
    "duration": 222,
    "start_time": "2021-08-23T16:41:01.458Z"
   },
   {
    "duration": 442,
    "start_time": "2021-08-23T16:41:01.683Z"
   },
   {
    "duration": 850,
    "start_time": "2021-08-23T16:41:02.128Z"
   },
   {
    "duration": 22,
    "start_time": "2021-08-23T16:41:02.980Z"
   },
   {
    "duration": 9,
    "start_time": "2021-08-23T16:41:03.005Z"
   },
   {
    "duration": 100,
    "start_time": "2021-08-23T16:41:03.017Z"
   },
   {
    "duration": 38,
    "start_time": "2021-08-23T16:41:03.119Z"
   },
   {
    "duration": 32,
    "start_time": "2021-08-23T16:41:03.159Z"
   },
   {
    "duration": 66,
    "start_time": "2021-08-23T16:41:03.194Z"
   },
   {
    "duration": 17121,
    "start_time": "2021-08-23T16:41:03.262Z"
   },
   {
    "duration": 23,
    "start_time": "2021-08-23T16:41:20.385Z"
   },
   {
    "duration": 1374,
    "start_time": "2021-08-23T16:41:20.412Z"
   },
   {
    "duration": 10,
    "start_time": "2021-08-23T16:41:21.791Z"
   },
   {
    "duration": 14,
    "start_time": "2021-08-23T16:41:21.804Z"
   },
   {
    "duration": 50,
    "start_time": "2021-08-23T16:41:21.822Z"
   },
   {
    "duration": 10,
    "start_time": "2021-08-23T16:41:21.875Z"
   },
   {
    "duration": 14,
    "start_time": "2021-08-23T16:41:21.887Z"
   },
   {
    "duration": 20,
    "start_time": "2021-08-23T16:44:04.100Z"
   },
   {
    "duration": 23,
    "start_time": "2021-08-23T16:44:18.451Z"
   },
   {
    "duration": 15,
    "start_time": "2021-08-23T16:44:19.120Z"
   },
   {
    "duration": 1338,
    "start_time": "2021-08-23T16:44:29.485Z"
   },
   {
    "duration": 7,
    "start_time": "2021-08-23T16:44:50.136Z"
   },
   {
    "duration": 8,
    "start_time": "2021-08-23T16:44:54.348Z"
   },
   {
    "duration": 1590,
    "start_time": "2021-08-23T16:45:21.730Z"
   },
   {
    "duration": 537,
    "start_time": "2021-08-23T16:45:23.323Z"
   },
   {
    "duration": 93,
    "start_time": "2021-08-23T16:45:23.864Z"
   },
   {
    "duration": 8,
    "start_time": "2021-08-23T16:45:23.960Z"
   },
   {
    "duration": 2269,
    "start_time": "2021-08-23T16:45:23.970Z"
   },
   {
    "duration": 1878,
    "start_time": "2021-08-23T16:45:26.242Z"
   },
   {
    "duration": 1391,
    "start_time": "2021-08-23T16:45:28.123Z"
   },
   {
    "duration": 2917,
    "start_time": "2021-08-23T16:45:29.517Z"
   },
   {
    "duration": 3115,
    "start_time": "2021-08-23T16:45:32.440Z"
   },
   {
    "duration": 9,
    "start_time": "2021-08-23T16:45:35.559Z"
   },
   {
    "duration": 193,
    "start_time": "2021-08-23T16:45:35.571Z"
   },
   {
    "duration": 417,
    "start_time": "2021-08-23T16:45:35.766Z"
   },
   {
    "duration": 791,
    "start_time": "2021-08-23T16:45:36.185Z"
   },
   {
    "duration": 21,
    "start_time": "2021-08-23T16:45:36.979Z"
   },
   {
    "duration": 9,
    "start_time": "2021-08-23T16:45:37.003Z"
   },
   {
    "duration": 99,
    "start_time": "2021-08-23T16:45:37.015Z"
   },
   {
    "duration": 47,
    "start_time": "2021-08-23T16:45:37.116Z"
   },
   {
    "duration": 32,
    "start_time": "2021-08-23T16:45:37.166Z"
   },
   {
    "duration": 67,
    "start_time": "2021-08-23T16:45:37.201Z"
   },
   {
    "duration": 16997,
    "start_time": "2021-08-23T16:45:37.271Z"
   },
   {
    "duration": 23,
    "start_time": "2021-08-23T16:45:54.271Z"
   },
   {
    "duration": 1489,
    "start_time": "2021-08-23T16:45:54.297Z"
   },
   {
    "duration": 9,
    "start_time": "2021-08-23T16:45:55.789Z"
   },
   {
    "duration": 25,
    "start_time": "2021-08-23T16:45:55.801Z"
   },
   {
    "duration": 50,
    "start_time": "2021-08-23T16:45:55.829Z"
   },
   {
    "duration": 8,
    "start_time": "2021-08-23T16:45:55.883Z"
   },
   {
    "duration": 16,
    "start_time": "2021-08-23T16:45:55.897Z"
   },
   {
    "duration": 1376,
    "start_time": "2021-08-23T16:47:24.700Z"
   },
   {
    "duration": 1705,
    "start_time": "2021-08-23T16:47:42.145Z"
   },
   {
    "duration": 2215,
    "start_time": "2021-08-23T16:47:52.976Z"
   },
   {
    "duration": 8,
    "start_time": "2021-08-23T16:47:58.128Z"
   },
   {
    "duration": 1481,
    "start_time": "2021-08-23T16:48:04.275Z"
   },
   {
    "duration": 544,
    "start_time": "2021-08-23T16:48:05.759Z"
   },
   {
    "duration": 56,
    "start_time": "2021-08-23T16:48:06.307Z"
   },
   {
    "duration": 9,
    "start_time": "2021-08-23T16:48:06.367Z"
   },
   {
    "duration": 2344,
    "start_time": "2021-08-23T16:48:06.379Z"
   },
   {
    "duration": 2857,
    "start_time": "2021-08-23T16:48:08.726Z"
   },
   {
    "duration": 1842,
    "start_time": "2021-08-23T16:48:11.586Z"
   },
   {
    "duration": 2936,
    "start_time": "2021-08-23T16:48:13.430Z"
   },
   {
    "duration": 3231,
    "start_time": "2021-08-23T16:48:16.370Z"
   },
   {
    "duration": 9,
    "start_time": "2021-08-23T16:48:19.606Z"
   },
   {
    "duration": 196,
    "start_time": "2021-08-23T16:48:19.618Z"
   },
   {
    "duration": 430,
    "start_time": "2021-08-23T16:48:19.817Z"
   },
   {
    "duration": 784,
    "start_time": "2021-08-23T16:48:20.256Z"
   },
   {
    "duration": 31,
    "start_time": "2021-08-23T16:48:21.043Z"
   },
   {
    "duration": 9,
    "start_time": "2021-08-23T16:48:21.077Z"
   },
   {
    "duration": 103,
    "start_time": "2021-08-23T16:48:21.089Z"
   },
   {
    "duration": 32,
    "start_time": "2021-08-23T16:48:21.195Z"
   },
   {
    "duration": 49,
    "start_time": "2021-08-23T16:48:21.229Z"
   },
   {
    "duration": 38,
    "start_time": "2021-08-23T16:48:21.280Z"
   },
   {
    "duration": 18339,
    "start_time": "2021-08-23T16:48:21.320Z"
   },
   {
    "duration": 20,
    "start_time": "2021-08-23T16:48:39.662Z"
   },
   {
    "duration": 1449,
    "start_time": "2021-08-23T16:48:39.685Z"
   },
   {
    "duration": 6,
    "start_time": "2021-08-23T16:48:41.136Z"
   },
   {
    "duration": 8,
    "start_time": "2021-08-23T16:48:41.156Z"
   },
   {
    "duration": 36,
    "start_time": "2021-08-23T16:48:41.166Z"
   },
   {
    "duration": 6,
    "start_time": "2021-08-23T16:48:41.205Z"
   },
   {
    "duration": 11,
    "start_time": "2021-08-23T16:48:41.217Z"
   },
   {
    "duration": 24,
    "start_time": "2021-08-23T16:49:05.255Z"
   },
   {
    "duration": 7680,
    "start_time": "2021-08-23T16:49:06.044Z"
   },
   {
    "duration": 23,
    "start_time": "2021-08-23T16:49:18.880Z"
   },
   {
    "duration": 7,
    "start_time": "2021-08-23T16:49:19.993Z"
   },
   {
    "duration": 7,
    "start_time": "2021-08-23T16:49:23.968Z"
   },
   {
    "duration": 1816,
    "start_time": "2021-08-23T16:49:35.481Z"
   },
   {
    "duration": 541,
    "start_time": "2021-08-23T16:49:37.301Z"
   },
   {
    "duration": 48,
    "start_time": "2021-08-23T16:49:37.845Z"
   },
   {
    "duration": 7,
    "start_time": "2021-08-23T16:49:37.896Z"
   },
   {
    "duration": 2399,
    "start_time": "2021-08-23T16:49:37.905Z"
   },
   {
    "duration": 1925,
    "start_time": "2021-08-23T16:49:40.306Z"
   },
   {
    "duration": 1417,
    "start_time": "2021-08-23T16:49:42.234Z"
   },
   {
    "duration": 4080,
    "start_time": "2021-08-23T16:49:43.656Z"
   },
   {
    "duration": 2880,
    "start_time": "2021-08-23T16:49:47.740Z"
   },
   {
    "duration": 7,
    "start_time": "2021-08-23T16:49:50.623Z"
   },
   {
    "duration": 189,
    "start_time": "2021-08-23T16:49:50.632Z"
   },
   {
    "duration": 410,
    "start_time": "2021-08-23T16:49:50.824Z"
   },
   {
    "duration": 780,
    "start_time": "2021-08-23T16:49:51.237Z"
   },
   {
    "duration": 36,
    "start_time": "2021-08-23T16:49:52.020Z"
   },
   {
    "duration": 9,
    "start_time": "2021-08-23T16:49:52.058Z"
   },
   {
    "duration": 93,
    "start_time": "2021-08-23T16:49:52.070Z"
   },
   {
    "duration": 30,
    "start_time": "2021-08-23T16:49:52.166Z"
   },
   {
    "duration": 57,
    "start_time": "2021-08-23T16:49:52.199Z"
   },
   {
    "duration": 42,
    "start_time": "2021-08-23T16:49:52.258Z"
   },
   {
    "duration": 20143,
    "start_time": "2021-08-23T16:49:52.303Z"
   },
   {
    "duration": 30,
    "start_time": "2021-08-23T16:50:12.457Z"
   },
   {
    "duration": 1965,
    "start_time": "2021-08-23T16:50:12.490Z"
   },
   {
    "duration": 6,
    "start_time": "2021-08-23T16:50:14.458Z"
   },
   {
    "duration": 18,
    "start_time": "2021-08-23T16:50:14.467Z"
   },
   {
    "duration": 39,
    "start_time": "2021-08-23T16:50:14.487Z"
   },
   {
    "duration": 13,
    "start_time": "2021-08-23T16:50:14.529Z"
   },
   {
    "duration": 21,
    "start_time": "2021-08-23T16:50:14.558Z"
   },
   {
    "duration": 1231,
    "start_time": "2021-08-24T10:06:03.593Z"
   },
   {
    "duration": 436,
    "start_time": "2021-08-24T10:06:04.826Z"
   },
   {
    "duration": 34,
    "start_time": "2021-08-24T10:06:05.264Z"
   },
   {
    "duration": 5,
    "start_time": "2021-08-24T10:06:05.300Z"
   },
   {
    "duration": 1540,
    "start_time": "2021-08-24T10:06:05.307Z"
   },
   {
    "duration": 1231,
    "start_time": "2021-08-24T10:06:06.849Z"
   },
   {
    "duration": 1007,
    "start_time": "2021-08-24T10:06:08.084Z"
   },
   {
    "duration": 1928,
    "start_time": "2021-08-24T10:06:09.094Z"
   },
   {
    "duration": 1961,
    "start_time": "2021-08-24T10:06:11.025Z"
   },
   {
    "duration": 6,
    "start_time": "2021-08-24T10:06:12.988Z"
   },
   {
    "duration": 137,
    "start_time": "2021-08-24T10:06:12.996Z"
   },
   {
    "duration": 320,
    "start_time": "2021-08-24T10:06:13.135Z"
   },
   {
    "duration": 508,
    "start_time": "2021-08-24T10:06:13.456Z"
   },
   {
    "duration": 25,
    "start_time": "2021-08-24T10:06:13.966Z"
   },
   {
    "duration": 7,
    "start_time": "2021-08-24T10:06:13.992Z"
   },
   {
    "duration": 57,
    "start_time": "2021-08-24T10:06:14.001Z"
   },
   {
    "duration": 35,
    "start_time": "2021-08-24T10:06:14.060Z"
   },
   {
    "duration": 21,
    "start_time": "2021-08-24T10:06:14.097Z"
   },
   {
    "duration": 26,
    "start_time": "2021-08-24T10:06:14.120Z"
   },
   {
    "duration": 9680,
    "start_time": "2021-08-24T10:06:14.148Z"
   },
   {
    "duration": 16,
    "start_time": "2021-08-24T10:06:23.830Z"
   },
   {
    "duration": 911,
    "start_time": "2021-08-24T10:06:23.848Z"
   },
   {
    "duration": 5,
    "start_time": "2021-08-24T10:06:24.762Z"
   },
   {
    "duration": 24,
    "start_time": "2021-08-24T10:06:24.769Z"
   },
   {
    "duration": 14,
    "start_time": "2021-08-24T10:06:24.794Z"
   },
   {
    "duration": 5,
    "start_time": "2021-08-24T10:06:24.809Z"
   },
   {
    "duration": 9,
    "start_time": "2021-08-24T10:06:24.815Z"
   },
   {
    "duration": 14,
    "start_time": "2021-08-24T10:08:06.707Z"
   },
   {
    "duration": 5,
    "start_time": "2021-08-24T10:09:05.651Z"
   },
   {
    "duration": 15,
    "start_time": "2021-08-24T10:14:43.614Z"
   }
  ],
  "kernelspec": {
   "display_name": "Python 3 (ipykernel)",
   "language": "python",
   "name": "python3"
  },
  "language_info": {
   "codemirror_mode": {
    "name": "ipython",
    "version": 3
   },
   "file_extension": ".py",
   "mimetype": "text/x-python",
   "name": "python",
   "nbconvert_exporter": "python",
   "pygments_lexer": "ipython3",
   "version": "3.7.6"
  },
  "toc": {
   "base_numbering": 1,
   "nav_menu": {},
   "number_sections": true,
   "sideBar": true,
   "skip_h1_title": true,
   "title_cell": "Table of Contents",
   "title_sidebar": "Contents",
   "toc_cell": false,
   "toc_position": {},
   "toc_section_display": true,
   "toc_window_display": false
  }
 },
 "nbformat": 4,
 "nbformat_minor": 2
}
