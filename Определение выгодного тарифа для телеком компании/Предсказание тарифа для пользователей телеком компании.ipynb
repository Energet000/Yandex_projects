{
 "cells": [
  {
   "cell_type": "markdown",
   "metadata": {},
   "source": [
    "# Рекомендация тарифов"
   ]
  },
  {
   "cell_type": "markdown",
   "metadata": {},
   "source": [
    "Оператор мобильной связи выяснил: многие клиенты пользуются архивными тарифами. Они хотят построить систему, способную проанализировать поведение клиентов и предложить пользователям новый тариф: «Смарт» или «Ультра».\n",
    "\n",
    "В распоряжении данные о поведении клиентов, которые уже перешли на эти тарифы . Нужно построить модель для задачи классификации, которая выберет подходящий тариф. Предобработка данных не понадобится — вы её уже сделали.\n",
    "\n",
    "Постройте модель с максимально большим значением *accuracy*. Чтобы сдать проект успешно, нужно довести долю правильных ответов по крайней мере до 0.75. Проверьте *accuracy* на тестовой выборке самостоятельно."
   ]
  },
  {
   "cell_type": "markdown",
   "metadata": {},
   "source": [
    "## Откройте и изучите файл"
   ]
  },
  {
   "cell_type": "code",
   "execution_count": 1,
   "metadata": {},
   "outputs": [],
   "source": [
    "# Импортируем библиотеки\n",
    "import pandas as pd\n",
    "from sklearn.metrics import accuracy_score\n",
    "from sklearn.model_selection import train_test_split\n",
    "import matplotlib.pyplot as plt\n",
    "from sklearn.tree import DecisionTreeClassifier\n",
    "from sklearn.linear_model import LogisticRegression\n",
    "from sklearn.ensemble import RandomForestClassifier\n",
    "import warnings\n",
    "warnings.filterwarnings('ignore')\n",
    "from sklearn.metrics import recall_score\n",
    "from sklearn.metrics import precision_score\n",
    "from sklearn.dummy import DummyClassifier"
   ]
  },
  {
   "cell_type": "code",
   "execution_count": 2,
   "metadata": {},
   "outputs": [
    {
     "data": {
      "text/html": [
       "<div>\n",
       "<style scoped>\n",
       "    .dataframe tbody tr th:only-of-type {\n",
       "        vertical-align: middle;\n",
       "    }\n",
       "\n",
       "    .dataframe tbody tr th {\n",
       "        vertical-align: top;\n",
       "    }\n",
       "\n",
       "    .dataframe thead th {\n",
       "        text-align: right;\n",
       "    }\n",
       "</style>\n",
       "<table border=\"1\" class=\"dataframe\">\n",
       "  <thead>\n",
       "    <tr style=\"text-align: right;\">\n",
       "      <th></th>\n",
       "      <th>calls</th>\n",
       "      <th>minutes</th>\n",
       "      <th>messages</th>\n",
       "      <th>mb_used</th>\n",
       "      <th>is_ultra</th>\n",
       "    </tr>\n",
       "  </thead>\n",
       "  <tbody>\n",
       "    <tr>\n",
       "      <td>0</td>\n",
       "      <td>40.0</td>\n",
       "      <td>311.90</td>\n",
       "      <td>83.0</td>\n",
       "      <td>19915.42</td>\n",
       "      <td>0</td>\n",
       "    </tr>\n",
       "    <tr>\n",
       "      <td>1</td>\n",
       "      <td>85.0</td>\n",
       "      <td>516.75</td>\n",
       "      <td>56.0</td>\n",
       "      <td>22696.96</td>\n",
       "      <td>0</td>\n",
       "    </tr>\n",
       "    <tr>\n",
       "      <td>2</td>\n",
       "      <td>77.0</td>\n",
       "      <td>467.66</td>\n",
       "      <td>86.0</td>\n",
       "      <td>21060.45</td>\n",
       "      <td>0</td>\n",
       "    </tr>\n",
       "    <tr>\n",
       "      <td>3</td>\n",
       "      <td>106.0</td>\n",
       "      <td>745.53</td>\n",
       "      <td>81.0</td>\n",
       "      <td>8437.39</td>\n",
       "      <td>1</td>\n",
       "    </tr>\n",
       "    <tr>\n",
       "      <td>4</td>\n",
       "      <td>66.0</td>\n",
       "      <td>418.74</td>\n",
       "      <td>1.0</td>\n",
       "      <td>14502.75</td>\n",
       "      <td>0</td>\n",
       "    </tr>\n",
       "  </tbody>\n",
       "</table>\n",
       "</div>"
      ],
      "text/plain": [
       "   calls  minutes  messages   mb_used  is_ultra\n",
       "0   40.0   311.90      83.0  19915.42         0\n",
       "1   85.0   516.75      56.0  22696.96         0\n",
       "2   77.0   467.66      86.0  21060.45         0\n",
       "3  106.0   745.53      81.0   8437.39         1\n",
       "4   66.0   418.74       1.0  14502.75         0"
      ]
     },
     "execution_count": 2,
     "metadata": {},
     "output_type": "execute_result"
    }
   ],
   "source": [
    "# Откроем файл\n",
    "df = pd.read_csv('/datasets/users_behavior.csv')\n",
    "df.head()"
   ]
  },
  {
   "cell_type": "markdown",
   "metadata": {},
   "source": [
    "Посмотрим на распределение значений целевого признака."
   ]
  },
  {
   "cell_type": "code",
   "execution_count": 3,
   "metadata": {},
   "outputs": [
    {
     "name": "stdout",
     "output_type": "stream",
     "text": [
      "Доля пользователей перешедших на тариф Ultra: 31%\n"
     ]
    }
   ],
   "source": [
    "print(f\"Доля пользователей перешедших на тариф Ultra: {len(df.loc[df['is_ultra'] == 1, 'is_ultra']) / df.shape[0]:.0%}\")"
   ]
  },
  {
   "cell_type": "markdown",
   "metadata": {},
   "source": [
    "Набор данных не сбалансирован, с вероятностью 31% пользователь перешел на тариф *ultra*. Минимальная задача модели - достигнуть значение точности больше 31%. Так как предобработка не требуется, то сразу займемся подготовкой к обучению моделей."
   ]
  },
  {
   "cell_type": "markdown",
   "metadata": {},
   "source": [
    "## Разбейте данные на выборки"
   ]
  },
  {
   "cell_type": "code",
   "execution_count": 4,
   "metadata": {},
   "outputs": [
    {
     "name": "stdout",
     "output_type": "stream",
     "text": [
      "Размер тестовой выборки: 20%\n",
      "Размер валидационной выборки: 20%\n",
      "Размер тренировочной выборки: 60%\n"
     ]
    }
   ],
   "source": [
    "# Отделим признаки от целевого признака\n",
    "features = df.drop(columns=['is_ultra'])\n",
    "target = df['is_ultra']\n",
    "# Cначала розобьем датасет на тестовую (20%) и тренировочную выборки (80%)\n",
    "features_train, features_test, target_train, target_test = train_test_split(\n",
    "    features, target, test_size=0.2, random_state=12345\n",
    "    ) \n",
    "# Дополнительно разделим тренировочную выборку на тренировочную (25% от 80%) и валидационную (75% от 80%)\n",
    "features_train, features_valid, target_train, target_valid = train_test_split(\n",
    "    features_train, target_train, test_size=0.25, random_state=12345\n",
    "    )\n",
    "# Проверим разбиение\n",
    "print(f\"Размер тестовой выборки: {(features_test.shape[0] / df.shape[0]):.0%}\")\n",
    "print(f\"Размер валидационной выборки: {(features_valid.shape[0] / df.shape[0]):.0%}\")\n",
    "print(f\"Размер тренировочной выборки: {(features_train.shape[0] / df.shape[0]):.0%}\")"
   ]
  },
  {
   "cell_type": "markdown",
   "metadata": {},
   "source": [
    "## Исследуем модели"
   ]
  },
  {
   "cell_type": "markdown",
   "metadata": {},
   "source": [
    "### Дерево решений"
   ]
  },
  {
   "cell_type": "code",
   "execution_count": 5,
   "metadata": {},
   "outputs": [
    {
     "name": "stdout",
     "output_type": "stream",
     "text": [
      "Accuracy лучшей модели равно 77% с глубиной 7\n"
     ]
    },
    {
     "data": {
      "text/plain": [
       "[<matplotlib.lines.Line2D at 0x7f121e601890>]"
      ]
     },
     "execution_count": 5,
     "metadata": {},
     "output_type": "execute_result"
    },
    {
     "data": {
      "image/png": "[encoded data removed]",
      "text/plain": [
       "<Figure size 1008x360 with 1 Axes>"
      ]
     },
     "metadata": {
      "needs_background": "light"
     },
     "output_type": "display_data"
    }
   ],
   "source": [
    "# Создадим модель класа DecisionTree и обучим ее, меняя гиперпараметры\n",
    "accuracy = []\n",
    "best_acc = 0\n",
    "max_depth = 0\n",
    "best_DTC = None\n",
    "n = 19\n",
    "for depth in range(1,n):\n",
    "    model = DecisionTreeClassifier(random_state=12345, max_depth=depth)\n",
    "    model.fit(features_train, target_train)\n",
    "    predictions = model.predict(features_valid)\n",
    "    acc = accuracy_score(target_valid, predictions)\n",
    "    accuracy.append(acc) \n",
    "    if acc > best_acc:\n",
    "        best_DTC = model\n",
    "        best_acc = acc\n",
    "        max_depth = depth\n",
    "print(f\"Accuracy лучшей модели равно {best_acc:.0%} с глубиной {max_depth}\")\n",
    "plt.figure(figsize=(14,5))\n",
    "plt.title('Изменение точности')\n",
    "plt.xlabel('Глубина дерева')\n",
    "plt.ylabel('Точность модели')\n",
    "plt.xlim(1,n)\n",
    "plt.plot(list(range(1,n)),accuracy)"
   ]
  },
  {
   "cell_type": "markdown",
   "metadata": {},
   "source": [
    "**Вывод:** Максимальную accuracy достигает модель с глубиной 7. После этого начинается переобучение модели"
   ]
  },
  {
   "cell_type": "markdown",
   "metadata": {},
   "source": [
    "### Случайный лес"
   ]
  },
  {
   "cell_type": "code",
   "execution_count": 6,
   "metadata": {},
   "outputs": [
    {
     "name": "stdout",
     "output_type": "stream",
     "text": [
      "Accuracy лучшей модели равно 80% с количеством деревьев 20 и глубиной 15\n"
     ]
    },
    {
     "data": {
      "image/png": "[encoded data removed]",
      "text/plain": [
       "<Figure size 1008x360 with 1 Axes>"
      ]
     },
     "metadata": {
      "needs_background": "light"
     },
     "output_type": "display_data"
    }
   ],
   "source": [
    "# Создадим модель класа RandomForest и обучим ее, меняя гиперпараметры\n",
    "best_acc = 0\n",
    "max_depth = 0\n",
    "estimators = 0\n",
    "best_RFC = None\n",
    "x = 10\n",
    "y = 51\n",
    "n = 19\n",
    "plt.figure(figsize=(14,5))\n",
    "plt.title(f'Изменение точности для случайного леса')\n",
    "plt.xlabel('Глубина дерева')\n",
    "plt.ylabel('Точность модели')\n",
    "plt.xlim(1, n)\n",
    "for n_est in range(x,y,10):\n",
    "    accuracy = []\n",
    "    for depth in range(1,n):\n",
    "        model = RandomForestClassifier(random_state=12345, max_depth=depth, n_estimators=n_est)\n",
    "        model.fit(features_train, target_train)\n",
    "        predictions = model.predict(features_valid)\n",
    "        acc = accuracy_score(target_valid, predictions)\n",
    "        accuracy.append(acc) \n",
    "        if acc > best_acc:\n",
    "            best_RFC = model\n",
    "            best_acc = acc\n",
    "            max_depth = depth \n",
    "            estimators = n_est   \n",
    "    plt.plot(list(range(1, n)),accuracy, label=str(n_est)+' деревьев')\n",
    "plt.legend()\n",
    "print(f\"Accuracy лучшей модели равно {best_acc:.0%} с количеством деревьев {estimators} и глубиной {max_depth}\")"
   ]
  },
  {
   "cell_type": "markdown",
   "metadata": {},
   "source": [
    "**Вывод:** Количество деревьев не сильно влияет на точность (у всех максимальное значение +/- 80%). Наибольшей точностью обладает случайный лес с 20 деревьями глубиной 15."
   ]
  },
  {
   "cell_type": "markdown",
   "metadata": {},
   "source": [
    "### Логистическая регрессия"
   ]
  },
  {
   "cell_type": "code",
   "execution_count": 7,
   "metadata": {},
   "outputs": [
    {
     "name": "stdout",
     "output_type": "stream",
     "text": [
      "Accuracy логистической регрессии равно 73%\n"
     ]
    }
   ],
   "source": [
    "LR = LogisticRegression(random_state=12345, penalty='l1')\n",
    "LR.fit(features_test, target_test)\n",
    "predictions = LR.predict(features_valid)\n",
    "print(f\"Accuracy логистической регрессии равно {accuracy_score(target_valid, predictions):.0%}\")"
   ]
  },
  {
   "cell_type": "markdown",
   "metadata": {},
   "source": [
    "**Вывод:** Изменив тип регуляризации на L1, получили прирост точности на 2% до 73%."
   ]
  },
  {
   "cell_type": "markdown",
   "metadata": {},
   "source": [
    "## Проверим модель на тестовой выборке"
   ]
  },
  {
   "cell_type": "markdown",
   "metadata": {},
   "source": [
    "Сравним точности для всех лучших моделей на тестовой выборке."
   ]
  },
  {
   "cell_type": "code",
   "execution_count": 8,
   "metadata": {},
   "outputs": [
    {
     "name": "stdout",
     "output_type": "stream",
     "text": [
      "Accuracy модели DecisionTreeClassifier на тестовой выборке составляет 79%\n",
      "Accuracy модели RandomForestClassifier на тестовой выборке составляет 79%\n",
      "Accuracy модели LogisticRegression на тестовой выборке составляет 75%\n"
     ]
    }
   ],
   "source": [
    "models = [best_DTC, best_RFC, LR]\n",
    "for model in models:\n",
    "    predictions = model.predict(features_test)\n",
    "    acc = accuracy_score(target_test, predictions)\n",
    "    print(f\"Accuracy модели {type(model).__name__} на тестовой выборке составляет {acc:.0%}\")"
   ]
  },
  {
   "cell_type": "markdown",
   "metadata": {},
   "source": [
    "**Выводы:** На тестовой выборке у дерева решений и логистического регрессора точность повысилась на 2%. Это означает, что модель чуть-чуть не доучилась на тренировочной выборке и не нашла все закономерности, возможно, стоит добавить дополнительные признаки в данныe. \n",
    "\n",
    "Несмотря на лучшие результаты на валидационной выборке, случайный лес выдает на тестовой выборке те же значения точности, что дерево решений. При этом точность упала на 1 % у леса, данный факт означает, что случайный лес не испытал переобучения.\n",
    "\n",
    "Таким образом, дерево решений и случайный лес достигают точности в 75% на всех этапах проверки. Однако, логистическая регрессия на этапе валидации выдает результат ниже порога.\n",
    "\n",
    "Окончательный выбор между деревом решений и случайном лесом зависит от временных требований. Если необходимо быстро и часто дообучать модель, то стоит отсановиться на дереве решений, если же выигрыш в несколько процентов имеет смысл, а время обучения модели нет, то случайный лес подойдет."
   ]
  },
  {
   "cell_type": "markdown",
   "metadata": {},
   "source": [
    "## Проверим модели на адекватность"
   ]
  },
  {
   "cell_type": "markdown",
   "metadata": {},
   "source": [
    "Исследуемы датасет не является сбалансированным, в данных только 31% пользователей с тарифом *Ultra*. Для более детального анализа качества модели можно использовать метрики *recall* и *precision*."
   ]
  },
  {
   "cell_type": "code",
   "execution_count": 9,
   "metadata": {},
   "outputs": [
    {
     "name": "stdout",
     "output_type": "stream",
     "text": [
      "Precision модели DecisionTreeClassifier на тестовой выборке составляет 77%\n",
      "Precision модели RandomForestClassifier на тестовой выборке составляет 70%\n",
      "Precision модели LogisticRegression на тестовой выборке составляет 93%\n"
     ]
    }
   ],
   "source": [
    "# Проанализируем метрику precision\n",
    "models = [best_DTC, best_RFC, LR]\n",
    "for model in models:\n",
    "    predictions = model.predict(features_test)\n",
    "    acc = precision_score(target_test, predictions)\n",
    "    print(f\"Precision модели {type(model).__name__} на тестовой выборке составляет {acc:.0%}\")"
   ]
  },
  {
   "cell_type": "code",
   "execution_count": 10,
   "metadata": {},
   "outputs": [
    {
     "name": "stdout",
     "output_type": "stream",
     "text": [
      "Recall модели DecisionTreeClassifier на тестовой выборке составляет 44%\n",
      "Recall модели RandomForestClassifier на тестовой выборке составляет 52%\n",
      "Recall модели LogisticRegression на тестовой выборке составляет 19%\n"
     ]
    }
   ],
   "source": [
    "# Проанализируем метрику recall\n",
    "models = [best_DTC, best_RFC, LR]\n",
    "for model in models:\n",
    "    predictions = model.predict(features_test)\n",
    "    acc = recall_score(target_test, predictions)\n",
    "    print(f\"Recall модели {type(model).__name__} на тестовой выборке составляет {acc:.0%}\")"
   ]
  },
  {
   "cell_type": "markdown",
   "metadata": {},
   "source": [
    "Сопоставим результаты моделей с моделью, которая выдает одно число. В датасете больше нулевых значений, поэтому создадим модель, заполняюшую все нулями."
   ]
  },
  {
   "cell_type": "code",
   "execution_count": 11,
   "metadata": {},
   "outputs": [
    {
     "name": "stdout",
     "output_type": "stream",
     "text": [
      "Accuracy 'глупой' модели: 70%\n"
     ]
    }
   ],
   "source": [
    "dummy_model = DummyClassifier(strategy='most_frequent')\n",
    "dummy_model.fit(features_train, target_train)\n",
    "predictions = dummy_model.predict(features_test)\n",
    "print(f\"Accuracy 'глупой' модели: {accuracy_score(target_test, predictions):.0%}\")"
   ]
  },
  {
   "cell_type": "markdown",
   "metadata": {},
   "source": [
    "**Вывод:** На основе других метрик ситуация меняется координально. Модель логистической регрессии в большей мере присваивает объектам правильные классы (согласно precision). При этом, логистическая регрессия находит правильно только 19% объектов, принадлежащих к классу пользователей тарифа *Ultra* (согласно *recall*).\n",
    "\n",
    "Также все модели прошли тест на адекватность, имея значения точности свыше 70%"
   ]
  }
 ],
 "metadata": {
  "ExecuteTimeLog": [
   {
    "duration": 740,
    "start_time": "2021-09-17T18:03:28.222Z"
   },
   {
    "duration": 282,
    "start_time": "2021-09-17T18:03:54.816Z"
   },
   {
    "duration": 3,
    "start_time": "2021-09-17T18:03:59.555Z"
   },
   {
    "duration": 3,
    "start_time": "2021-09-17T18:04:02.215Z"
   },
   {
    "duration": 28,
    "start_time": "2021-09-17T18:04:55.640Z"
   },
   {
    "duration": 5,
    "start_time": "2021-09-17T18:05:32.020Z"
   },
   {
    "duration": 4,
    "start_time": "2021-09-17T18:08:22.845Z"
   },
   {
    "duration": 24,
    "start_time": "2021-09-17T18:08:25.127Z"
   },
   {
    "duration": 9,
    "start_time": "2021-09-17T18:18:05.944Z"
   },
   {
    "duration": 9,
    "start_time": "2021-09-17T18:19:59.045Z"
   },
   {
    "duration": 8,
    "start_time": "2021-09-17T18:20:11.031Z"
   },
   {
    "duration": 9,
    "start_time": "2021-09-17T18:20:24.471Z"
   },
   {
    "duration": 9,
    "start_time": "2021-09-17T18:20:58.406Z"
   },
   {
    "duration": 5,
    "start_time": "2021-09-17T18:33:12.709Z"
   },
   {
    "duration": 4,
    "start_time": "2021-09-17T18:33:22.842Z"
   },
   {
    "duration": 5,
    "start_time": "2021-09-17T18:34:24.531Z"
   },
   {
    "duration": 4,
    "start_time": "2021-09-17T18:34:26.923Z"
   },
   {
    "duration": 5,
    "start_time": "2021-09-17T18:39:45.744Z"
   },
   {
    "duration": 256,
    "start_time": "2021-09-17T18:39:55.438Z"
   },
   {
    "duration": 18,
    "start_time": "2021-09-17T18:40:24.195Z"
   },
   {
    "duration": 18,
    "start_time": "2021-09-17T18:40:36.401Z"
   },
   {
    "duration": 45,
    "start_time": "2021-09-17T18:40:43.512Z"
   },
   {
    "duration": 44,
    "start_time": "2021-09-17T18:40:48.630Z"
   },
   {
    "duration": 19,
    "start_time": "2021-09-17T18:40:56.175Z"
   },
   {
    "duration": 45,
    "start_time": "2021-09-17T18:40:59.892Z"
   },
   {
    "duration": 292,
    "start_time": "2021-09-17T18:41:12.060Z"
   },
   {
    "duration": 424,
    "start_time": "2021-09-17T18:41:43.600Z"
   },
   {
    "duration": 429,
    "start_time": "2021-09-17T18:41:52.272Z"
   },
   {
    "duration": 301,
    "start_time": "2021-09-17T18:42:04.646Z"
   },
   {
    "duration": 198,
    "start_time": "2021-09-17T18:42:29.077Z"
   },
   {
    "duration": 266,
    "start_time": "2021-09-17T18:42:53.794Z"
   },
   {
    "duration": 360,
    "start_time": "2021-09-17T18:43:34.499Z"
   },
   {
    "duration": 312,
    "start_time": "2021-09-17T18:43:43.032Z"
   },
   {
    "duration": 599,
    "start_time": "2021-09-17T18:43:50.275Z"
   },
   {
    "duration": 316,
    "start_time": "2021-09-17T18:43:55.099Z"
   },
   {
    "duration": 304,
    "start_time": "2021-09-17T18:46:09.493Z"
   },
   {
    "duration": 320,
    "start_time": "2021-09-17T18:46:42.387Z"
   },
   {
    "duration": 321,
    "start_time": "2021-09-17T18:46:52.489Z"
   },
   {
    "duration": 316,
    "start_time": "2021-09-17T18:47:05.672Z"
   },
   {
    "duration": 6,
    "start_time": "2021-09-17T18:48:37.185Z"
   },
   {
    "duration": 6,
    "start_time": "2021-09-17T18:48:42.019Z"
   },
   {
    "duration": 306,
    "start_time": "2021-09-17T18:48:48.213Z"
   },
   {
    "duration": 313,
    "start_time": "2021-09-17T18:49:21.720Z"
   },
   {
    "duration": 317,
    "start_time": "2021-09-17T18:49:36.696Z"
   },
   {
    "duration": 424,
    "start_time": "2021-09-17T18:49:56.298Z"
   },
   {
    "duration": 640,
    "start_time": "2021-09-17T19:00:21.811Z"
   },
   {
    "duration": 268,
    "start_time": "2021-09-17T19:00:35.817Z"
   },
   {
    "duration": 2244,
    "start_time": "2021-09-17T19:00:42.460Z"
   },
   {
    "duration": 993,
    "start_time": "2021-09-17T19:02:13.502Z"
   },
   {
    "duration": 643,
    "start_time": "2021-09-17T19:02:57.986Z"
   },
   {
    "duration": 2070,
    "start_time": "2021-09-17T19:03:35.943Z"
   },
   {
    "duration": 2132,
    "start_time": "2021-09-17T19:04:11.961Z"
   },
   {
    "duration": 5654,
    "start_time": "2021-09-17T19:04:43.486Z"
   },
   {
    "duration": 5513,
    "start_time": "2021-09-17T19:04:59.287Z"
   },
   {
    "duration": 8298,
    "start_time": "2021-09-17T19:06:23.438Z"
   },
   {
    "duration": 4620,
    "start_time": "2021-09-17T19:08:53.956Z"
   },
   {
    "duration": 329,
    "start_time": "2021-09-17T19:09:09.680Z"
   },
   {
    "duration": 7973,
    "start_time": "2021-09-17T19:09:31.554Z"
   },
   {
    "duration": 1565,
    "start_time": "2021-09-18T06:45:49.165Z"
   },
   {
    "duration": 33,
    "start_time": "2021-09-18T06:45:50.733Z"
   },
   {
    "duration": 15,
    "start_time": "2021-09-18T06:45:50.772Z"
   },
   {
    "duration": 19,
    "start_time": "2021-09-18T06:45:50.790Z"
   },
   {
    "duration": 579,
    "start_time": "2021-09-18T06:45:50.811Z"
   },
   {
    "duration": 13044,
    "start_time": "2021-09-18T06:45:51.392Z"
   },
   {
    "duration": 548,
    "start_time": "2021-09-18T06:46:04.439Z"
   },
   {
    "duration": 12,
    "start_time": "2021-09-18T06:46:14.245Z"
   },
   {
    "duration": 22,
    "start_time": "2021-09-18T06:46:24.174Z"
   },
   {
    "duration": 5,
    "start_time": "2021-09-18T06:47:16.958Z"
   },
   {
    "duration": 11,
    "start_time": "2021-09-18T06:47:19.777Z"
   },
   {
    "duration": 11,
    "start_time": "2021-09-18T06:48:09.647Z"
   },
   {
    "duration": 14,
    "start_time": "2021-09-18T06:49:10.526Z"
   },
   {
    "duration": 331,
    "start_time": "2021-09-18T06:49:18.226Z"
   },
   {
    "duration": 373,
    "start_time": "2021-09-18T06:49:23.404Z"
   },
   {
    "duration": 18,
    "start_time": "2021-09-18T06:49:28.457Z"
   },
   {
    "duration": 1606,
    "start_time": "2021-09-18T06:55:43.323Z"
   },
   {
    "duration": 33,
    "start_time": "2021-09-18T06:55:44.932Z"
   },
   {
    "duration": 14,
    "start_time": "2021-09-18T06:55:44.968Z"
   },
   {
    "duration": 15,
    "start_time": "2021-09-18T06:55:44.985Z"
   },
   {
    "duration": 586,
    "start_time": "2021-09-18T06:55:45.003Z"
   },
   {
    "duration": 12870,
    "start_time": "2021-09-18T06:55:45.592Z"
   },
   {
    "duration": 30,
    "start_time": "2021-09-18T06:55:58.466Z"
   },
   {
    "duration": 12,
    "start_time": "2021-09-18T06:57:58.444Z"
   },
   {
    "duration": 18,
    "start_time": "2021-09-18T06:58:00.606Z"
   },
   {
    "duration": 463,
    "start_time": "2021-09-18T06:59:59.532Z"
   },
   {
    "duration": 333,
    "start_time": "2021-09-18T07:00:03.655Z"
   },
   {
    "duration": 387,
    "start_time": "2021-09-18T07:00:27.946Z"
   },
   {
    "duration": 5,
    "start_time": "2021-09-18T07:01:03.829Z"
   },
   {
    "duration": 671,
    "start_time": "2021-09-18T07:01:29.092Z"
   },
   {
    "duration": 4,
    "start_time": "2021-09-18T07:01:32.247Z"
   },
   {
    "duration": 541,
    "start_time": "2021-09-18T07:01:39.748Z"
   },
   {
    "duration": 20,
    "start_time": "2021-09-18T07:01:43.895Z"
   },
   {
    "duration": 342,
    "start_time": "2021-09-18T07:02:06.840Z"
   },
   {
    "duration": 346,
    "start_time": "2021-09-18T07:02:10.576Z"
   },
   {
    "duration": 19,
    "start_time": "2021-09-18T07:02:14.282Z"
   },
   {
    "duration": 20,
    "start_time": "2021-09-18T07:02:20.306Z"
   },
   {
    "duration": 16,
    "start_time": "2021-09-18T07:02:59.813Z"
   },
   {
    "duration": 6,
    "start_time": "2021-09-18T07:03:19.124Z"
   },
   {
    "duration": 18,
    "start_time": "2021-09-18T07:03:20.042Z"
   },
   {
    "duration": 18,
    "start_time": "2021-09-18T07:03:42.929Z"
   },
   {
    "duration": 1454,
    "start_time": "2021-09-18T07:03:49.775Z"
   },
   {
    "duration": 33,
    "start_time": "2021-09-18T07:03:51.231Z"
   },
   {
    "duration": 15,
    "start_time": "2021-09-18T07:03:51.270Z"
   },
   {
    "duration": 19,
    "start_time": "2021-09-18T07:03:51.288Z"
   },
   {
    "duration": 570,
    "start_time": "2021-09-18T07:03:51.309Z"
   },
   {
    "duration": 12902,
    "start_time": "2021-09-18T07:03:51.883Z"
   },
   {
    "duration": 17,
    "start_time": "2021-09-18T07:04:04.788Z"
   },
   {
    "duration": 15,
    "start_time": "2021-09-18T07:04:04.809Z"
   },
   {
    "duration": 4,
    "start_time": "2021-09-18T12:11:18.739Z"
   },
   {
    "duration": 20,
    "start_time": "2021-09-18T12:12:23.628Z"
   },
   {
    "duration": 20,
    "start_time": "2021-09-18T12:12:24.420Z"
   },
   {
    "duration": 1419,
    "start_time": "2021-09-18T12:20:55.921Z"
   },
   {
    "duration": 34,
    "start_time": "2021-09-18T12:20:57.342Z"
   },
   {
    "duration": 7,
    "start_time": "2021-09-18T12:20:57.379Z"
   },
   {
    "duration": 22,
    "start_time": "2021-09-18T12:20:57.389Z"
   },
   {
    "duration": 637,
    "start_time": "2021-09-18T12:20:57.414Z"
   },
   {
    "duration": 12945,
    "start_time": "2021-09-18T12:20:58.053Z"
   },
   {
    "duration": 17,
    "start_time": "2021-09-18T12:21:11.001Z"
   },
   {
    "duration": 16,
    "start_time": "2021-09-18T12:21:11.021Z"
   },
   {
    "duration": 3,
    "start_time": "2021-09-18T12:21:11.040Z"
   },
   {
    "duration": 54,
    "start_time": "2021-09-18T12:21:11.046Z"
   },
   {
    "duration": 23,
    "start_time": "2021-09-18T12:21:11.103Z"
   },
   {
    "duration": 1595,
    "start_time": "2021-09-18T12:24:30.364Z"
   },
   {
    "duration": 33,
    "start_time": "2021-09-18T12:24:31.962Z"
   },
   {
    "duration": 7,
    "start_time": "2021-09-18T12:24:31.998Z"
   },
   {
    "duration": 21,
    "start_time": "2021-09-18T12:24:32.008Z"
   },
   {
    "duration": 599,
    "start_time": "2021-09-18T12:24:32.032Z"
   },
   {
    "duration": 13022,
    "start_time": "2021-09-18T12:24:32.635Z"
   },
   {
    "duration": 32,
    "start_time": "2021-09-18T12:24:45.660Z"
   },
   {
    "duration": 19,
    "start_time": "2021-09-18T12:24:45.695Z"
   },
   {
    "duration": 4,
    "start_time": "2021-09-18T12:24:45.717Z"
   },
   {
    "duration": 25,
    "start_time": "2021-09-18T12:24:45.723Z"
   },
   {
    "duration": 22,
    "start_time": "2021-09-18T12:24:45.784Z"
   },
   {
    "duration": 392,
    "start_time": "2021-09-18T20:29:59.380Z"
   },
   {
    "duration": 1537,
    "start_time": "2021-09-18T20:30:06.314Z"
   },
   {
    "duration": 33,
    "start_time": "2021-09-18T20:30:07.854Z"
   },
   {
    "duration": 7,
    "start_time": "2021-09-18T20:30:07.891Z"
   },
   {
    "duration": 17,
    "start_time": "2021-09-18T20:30:07.901Z"
   },
   {
    "duration": 604,
    "start_time": "2021-09-18T20:30:07.920Z"
   },
   {
    "duration": 11672,
    "start_time": "2021-09-18T20:30:08.527Z"
   },
   {
    "duration": 3,
    "start_time": "2021-09-18T20:30:20.201Z"
   },
   {
    "duration": 22,
    "start_time": "2021-09-18T20:30:20.207Z"
   },
   {
    "duration": 17,
    "start_time": "2021-09-18T20:30:20.232Z"
   },
   {
    "duration": 42,
    "start_time": "2021-09-18T20:30:20.251Z"
   },
   {
    "duration": 20,
    "start_time": "2021-09-18T20:30:20.295Z"
   },
   {
    "duration": 11525,
    "start_time": "2021-09-18T20:30:42.800Z"
   },
   {
    "duration": 1636,
    "start_time": "2021-09-18T20:31:56.515Z"
   },
   {
    "duration": 13087,
    "start_time": "2021-09-18T20:32:09.051Z"
   },
   {
    "duration": 12170,
    "start_time": "2021-09-18T20:33:19.386Z"
   },
   {
    "duration": 5,
    "start_time": "2021-09-18T20:35:15.897Z"
   },
   {
    "duration": 363,
    "start_time": "2021-09-18T20:41:22.094Z"
   },
   {
    "duration": 8,
    "start_time": "2021-09-18T20:41:51.425Z"
   },
   {
    "duration": 6,
    "start_time": "2021-09-18T20:42:05.812Z"
   },
   {
    "duration": 7,
    "start_time": "2021-09-18T20:42:15.039Z"
   },
   {
    "duration": 8,
    "start_time": "2021-09-18T20:43:16.420Z"
   },
   {
    "duration": 7,
    "start_time": "2021-09-18T20:43:36.559Z"
   },
   {
    "duration": 7,
    "start_time": "2021-09-18T20:44:15.577Z"
   },
   {
    "duration": 1652,
    "start_time": "2021-09-18T20:48:51.176Z"
   },
   {
    "duration": 39,
    "start_time": "2021-09-18T20:48:52.831Z"
   },
   {
    "duration": 8,
    "start_time": "2021-09-18T20:48:52.875Z"
   },
   {
    "duration": 18,
    "start_time": "2021-09-18T20:48:52.887Z"
   },
   {
    "duration": 625,
    "start_time": "2021-09-18T20:48:52.908Z"
   },
   {
    "duration": 12080,
    "start_time": "2021-09-18T20:48:53.536Z"
   },
   {
    "duration": 18,
    "start_time": "2021-09-18T20:49:05.619Z"
   },
   {
    "duration": 40,
    "start_time": "2021-09-18T20:49:05.639Z"
   },
   {
    "duration": 20,
    "start_time": "2021-09-18T20:49:05.682Z"
   },
   {
    "duration": 20,
    "start_time": "2021-09-18T20:49:05.705Z"
   },
   {
    "duration": 40,
    "start_time": "2021-09-18T20:49:05.728Z"
   },
   {
    "duration": 1496,
    "start_time": "2021-09-18T22:11:28.855Z"
   },
   {
    "duration": 40,
    "start_time": "2021-09-18T22:11:30.360Z"
   },
   {
    "duration": 6,
    "start_time": "2021-09-18T22:11:30.403Z"
   },
   {
    "duration": 16,
    "start_time": "2021-09-18T22:11:30.412Z"
   },
   {
    "duration": 597,
    "start_time": "2021-09-18T22:11:30.431Z"
   },
   {
    "duration": 11719,
    "start_time": "2021-09-18T22:11:31.031Z"
   },
   {
    "duration": 28,
    "start_time": "2021-09-18T22:11:42.753Z"
   },
   {
    "duration": 19,
    "start_time": "2021-09-18T22:11:42.784Z"
   },
   {
    "duration": 59,
    "start_time": "2021-09-18T22:11:42.808Z"
   },
   {
    "duration": 24,
    "start_time": "2021-09-18T22:11:42.870Z"
   },
   {
    "duration": 8,
    "start_time": "2021-09-18T22:11:42.897Z"
   }
  ],
  "kernelspec": {
   "display_name": "Python 3 (ipykernel)",
   "language": "python",
   "name": "python3"
  },
  "language_info": {
   "codemirror_mode": {
    "name": "ipython",
    "version": 3
   },
   "file_extension": ".py",
   "mimetype": "text/x-python",
   "name": "python",
   "nbconvert_exporter": "python",
   "pygments_lexer": "ipython3",
   "version": "3.7.6"
  },
  "toc": {
   "base_numbering": 1,
   "nav_menu": {},
   "number_sections": true,
   "sideBar": true,
   "skip_h1_title": true,
   "title_cell": "Table of Contents",
   "title_sidebar": "Contents",
   "toc_cell": false,
   "toc_position": {},
   "toc_section_display": true,
   "toc_window_display": true
  }
 },
 "nbformat": 4,
 "nbformat_minor": 2
}
