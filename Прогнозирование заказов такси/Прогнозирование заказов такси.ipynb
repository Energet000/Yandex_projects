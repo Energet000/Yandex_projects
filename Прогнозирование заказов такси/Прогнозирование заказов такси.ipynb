{
 "cells": [
  {
   "cell_type": "markdown",
   "metadata": {
    "toc": true
   },
   "source": [
    "<h1>Содержание<span class=\"tocSkip\"></span></h1>\n",
    "<div class=\"toc\"><ul class=\"toc-item\"><li><ul class=\"toc-item\"><li><ul class=\"toc-item\"><li><span><a href=\"#Полезные-ссылки:\" data-toc-modified-id=\"Полезные-ссылки:-0.0.1\"><span class=\"toc-item-num\">0.0.1&nbsp;&nbsp;</span><font color=\"orange\">Полезные ссылки:</font></a></span></li></ul></li><li><span><a href=\"#Общее-впечатление\" data-toc-modified-id=\"Общее-впечатление-0.1\"><span class=\"toc-item-num\">0.1&nbsp;&nbsp;</span><font color=\"orange\">Общее впечатление</font></a></span></li><li><span><a href=\"#Общее-впечатление-(ревью-2)\" data-toc-modified-id=\"Общее-впечатление-(ревью-2)-0.2\"><span class=\"toc-item-num\">0.2&nbsp;&nbsp;</span><font color=\"orange\">Общее впечатление (ревью 2)</font></a></span></li></ul></li><li><span><a href=\"#Подготовка\" data-toc-modified-id=\"Подготовка-1\"><span class=\"toc-item-num\">1&nbsp;&nbsp;</span>Подготовка</a></span></li><li><span><a href=\"#Анализ\" data-toc-modified-id=\"Анализ-2\"><span class=\"toc-item-num\">2&nbsp;&nbsp;</span>Анализ</a></span></li><li><span><a href=\"#Обучение\" data-toc-modified-id=\"Обучение-3\"><span class=\"toc-item-num\">3&nbsp;&nbsp;</span>Обучение</a></span></li><li><span><a href=\"#Тестирование\" data-toc-modified-id=\"Тестирование-4\"><span class=\"toc-item-num\">4&nbsp;&nbsp;</span>Тестирование</a></span></li><li><span><a href=\"#Выводы\" data-toc-modified-id=\"Выводы-5\"><span class=\"toc-item-num\">5&nbsp;&nbsp;</span>Выводы</a></span></li><li><span><a href=\"#Чек-лист-проверки\" data-toc-modified-id=\"Чек-лист-проверки-6\"><span class=\"toc-item-num\">6&nbsp;&nbsp;</span>Чек-лист проверки</a></span></li></ul></div>"
   ]
  },
  {
   "cell_type": "markdown",
   "metadata": {},
   "source": [
    "#  Прогнозирование заказов такси"
   ]
  },
  {
   "cell_type": "markdown",
   "metadata": {},
   "source": [
    "Компания «Чётенькое такси» собрала исторические данные о заказах такси в аэропортах. Чтобы привлекать больше водителей в период пиковой нагрузки, нужно спрогнозировать количество заказов такси на следующий час. Постройте модель для такого предсказания.\n",
    "\n",
    "Значение метрики *RMSE* на тестовой выборке должно быть не больше 48.\n",
    "\n",
    "Вам нужно:\n",
    "\n",
    "1. Загрузить данные и выполнить их ресемплирование по одному часу.\n",
    "2. Проанализировать данные.\n",
    "3. Обучить разные модели с различными гиперпараметрами. Сделать тестовую выборку размером 10% от исходных данных.\n",
    "4. Проверить данные на тестовой выборке и сделать выводы.\n",
    "\n",
    "\n",
    "Данные лежат в файле `taxi.csv`. Количество заказов находится в столбце `num_orders` (от англ. *number of orders*, «число заказов»)."
   ]
  },
  {
   "cell_type": "markdown",
   "metadata": {},
   "source": [
    "## Подготовка"
   ]
  },
  {
   "cell_type": "code",
   "execution_count": 1,
   "metadata": {},
   "outputs": [
    {
     "name": "stdout",
     "output_type": "stream",
     "text": [
      "Defaulting to user installation because normal site-packages is not writeable\n",
      "\u001b[33mWARNING: Retrying (Retry(total=4, connect=None, read=None, redirect=None, status=None)) after connection broken by 'ReadTimeoutError(\"HTTPSConnectionPool(host='pypi.org', port=443): Read timed out. (read timeout=15)\")': /simple/scikit-learn/\u001b[0m\n",
      "\u001b[33mWARNING: Retrying (Retry(total=3, connect=None, read=None, redirect=None, status=None)) after connection broken by 'ReadTimeoutError(\"HTTPSConnectionPool(host='pypi.org', port=443): Read timed out. (read timeout=15)\")': /simple/scikit-learn/\u001b[0m\n",
      "\u001b[33mWARNING: Retrying (Retry(total=2, connect=None, read=None, redirect=None, status=None)) after connection broken by 'ReadTimeoutError(\"HTTPSConnectionPool(host='pypi.org', port=443): Read timed out. (read timeout=15)\")': /simple/scikit-learn/\u001b[0m\n",
      "\u001b[33mWARNING: Retrying (Retry(total=1, connect=None, read=None, redirect=None, status=None)) after connection broken by 'ReadTimeoutError(\"HTTPSConnectionPool(host='pypi.org', port=443): Read timed out. (read timeout=15)\")': /simple/scikit-learn/\u001b[0m\n",
      "\u001b[33mWARNING: Retrying (Retry(total=0, connect=None, read=None, redirect=None, status=None)) after connection broken by 'ReadTimeoutError(\"HTTPSConnectionPool(host='pypi.org', port=443): Read timed out. (read timeout=15)\")': /simple/scikit-learn/\u001b[0m\n",
      "Requirement already up-to-date: scikit-learn in /home/jovyan/.local/lib/python3.7/site-packages (1.0.1)\n",
      "Requirement already satisfied, skipping upgrade: joblib>=0.11 in /opt/conda/lib/python3.7/site-packages (from scikit-learn) (1.0.1)\n",
      "Requirement already satisfied, skipping upgrade: scipy>=1.1.0 in /opt/conda/lib/python3.7/site-packages (from scikit-learn) (1.4.1)\n",
      "Requirement already satisfied, skipping upgrade: numpy>=1.14.6 in /opt/conda/lib/python3.7/site-packages (from scikit-learn) (1.19.5)\n",
      "Requirement already satisfied, skipping upgrade: threadpoolctl>=2.0.0 in /home/jovyan/.local/lib/python3.7/site-packages (from scikit-learn) (3.0.0)\n"
     ]
    }
   ],
   "source": [
    "!pip install -U scikit-learn"
   ]
  },
  {
   "cell_type": "code",
   "execution_count": 2,
   "metadata": {},
   "outputs": [],
   "source": [
    "# Импортируем библиотеки\n",
    "import pandas as pd\n",
    "import matplotlib.pyplot as plt\n",
    "from statsmodels.tsa.seasonal import seasonal_decompose\n",
    "from sklearn.metrics import mean_squared_error\n",
    "from sklearn.model_selection import train_test_split, GridSearchCV, TimeSeriesSplit\n",
    "import numpy as np\n",
    "from sklearn.linear_model import LinearRegression\n",
    "from sklearn.ensemble import RandomForestRegressor\n",
    "from sklearn.tree import DecisionTreeRegressor\n",
    "from lightgbm import LGBMRegressor\n",
    "from sklearn.dummy import DummyRegressor\n"
   ]
  },
  {
   "cell_type": "code",
   "execution_count": 3,
   "metadata": {},
   "outputs": [
    {
     "name": "stdout",
     "output_type": "stream",
     "text": [
      "True\n"
     ]
    },
    {
     "data": {
      "text/html": [
       "<div>\n",
       "<style scoped>\n",
       "    .dataframe tbody tr th:only-of-type {\n",
       "        vertical-align: middle;\n",
       "    }\n",
       "\n",
       "    .dataframe tbody tr th {\n",
       "        vertical-align: top;\n",
       "    }\n",
       "\n",
       "    .dataframe thead th {\n",
       "        text-align: right;\n",
       "    }\n",
       "</style>\n",
       "<table border=\"1\" class=\"dataframe\">\n",
       "  <thead>\n",
       "    <tr style=\"text-align: right;\">\n",
       "      <th></th>\n",
       "      <th>num_orders</th>\n",
       "    </tr>\n",
       "    <tr>\n",
       "      <th>datetime</th>\n",
       "      <th></th>\n",
       "    </tr>\n",
       "  </thead>\n",
       "  <tbody>\n",
       "    <tr>\n",
       "      <td>2018-03-01 00:00:00</td>\n",
       "      <td>124</td>\n",
       "    </tr>\n",
       "    <tr>\n",
       "      <td>2018-03-01 01:00:00</td>\n",
       "      <td>85</td>\n",
       "    </tr>\n",
       "    <tr>\n",
       "      <td>2018-03-01 02:00:00</td>\n",
       "      <td>71</td>\n",
       "    </tr>\n",
       "    <tr>\n",
       "      <td>2018-03-01 03:00:00</td>\n",
       "      <td>66</td>\n",
       "    </tr>\n",
       "    <tr>\n",
       "      <td>2018-03-01 04:00:00</td>\n",
       "      <td>43</td>\n",
       "    </tr>\n",
       "  </tbody>\n",
       "</table>\n",
       "</div>"
      ],
      "text/plain": [
       "                     num_orders\n",
       "datetime                       \n",
       "2018-03-01 00:00:00         124\n",
       "2018-03-01 01:00:00          85\n",
       "2018-03-01 02:00:00          71\n",
       "2018-03-01 03:00:00          66\n",
       "2018-03-01 04:00:00          43"
      ]
     },
     "metadata": {},
     "output_type": "display_data"
    },
    {
     "name": "stdout",
     "output_type": "stream",
     "text": [
      "Количество пропусков num_orders    0\n",
      "dtype: int64\n"
     ]
    }
   ],
   "source": [
    "# Познакомимся с данными\n",
    "data = pd.read_csv('/datasets/taxi.csv', index_col=[0], parse_dates=[0])\n",
    "# Отсортируем по времени\n",
    "data.sort_index(ascending=True, inplace=True)\n",
    "print(data.index.is_monotonic)\n",
    "# Проведем ресемблинг\n",
    "data = data.resample('1H').sum()\n",
    "display(data.head())\n",
    "# Проверим на пропуски \n",
    "print(f\"Количество пропусков {data.isnull().sum()}\")"
   ]
  },
  {
   "cell_type": "markdown",
   "metadata": {},
   "source": [
    "## Анализ"
   ]
  },
  {
   "cell_type": "code",
   "execution_count": 4,
   "metadata": {
    "scrolled": true
   },
   "outputs": [
    {
     "name": "stdout",
     "output_type": "stream",
     "text": [
      "<class 'pandas.core.frame.DataFrame'>\n",
      "DatetimeIndex: 4416 entries, 2018-03-01 00:00:00 to 2018-08-31 23:00:00\n",
      "Freq: H\n",
      "Data columns (total 1 columns):\n",
      "num_orders    4416 non-null int64\n",
      "dtypes: int64(1)\n",
      "memory usage: 69.0 KB\n"
     ]
    },
    {
     "data": {
      "text/plain": [
       "None"
      ]
     },
     "metadata": {},
     "output_type": "display_data"
    },
    {
     "data": {
      "image/png": "[encoded data removed]",
      "text/plain": [
       "<Figure size 1152x576 with 1 Axes>"
      ]
     },
     "metadata": {
      "needs_background": "light"
     },
     "output_type": "display_data"
    },
    {
     "data": {
      "image/png": "[encoded data removed]",
      "text/plain": [
       "<Figure size 1152x432 with 1 Axes>"
      ]
     },
     "metadata": {
      "needs_background": "light"
     },
     "output_type": "display_data"
    },
    {
     "data": {
      "image/png": "[encoded data removed]",
      "text/plain": [
       "<Figure size 1152x432 with 1 Axes>"
      ]
     },
     "metadata": {
      "needs_background": "light"
     },
     "output_type": "display_data"
    },
    {
     "data": {
      "image/png": "[encoded data removed]",
      "text/plain": [
       "<Figure size 1152x432 with 1 Axes>"
      ]
     },
     "metadata": {
      "needs_background": "light"
     },
     "output_type": "display_data"
    },
    {
     "data": {
      "image/png": "[encoded data removed]",
      "text/plain": [
       "<Figure size 1152x432 with 1 Axes>"
      ]
     },
     "metadata": {
      "needs_background": "light"
     },
     "output_type": "display_data"
    }
   ],
   "source": [
    "# Напишем функцию для визуализации основных элементов\n",
    "def get_plots(data):\n",
    "    # Визуализируем ряд\n",
    "    data.plot(figsize=(16,8))\n",
    "    plt.title(\"\")\n",
    "    plt.xlabel('Время')\n",
    "    plt.ylabel('Количество заказов')\n",
    "    plt.title('Временная зависимость спроса на такси')\n",
    "    # Разложим ряд на состовляющие\n",
    "    decomposed = seasonal_decompose(data)\n",
    "    decomposed.trend.plot(title='Тренд', figsize=(16,6))\n",
    "    plt.xlabel('Время')\n",
    "    plt.grid()\n",
    "    decomposed.seasonal.iloc[:60].plot(title='Сезонность', figsize=(16,6))\n",
    "    plt.xlabel('Время')\n",
    "    plt.grid()\n",
    "    decomposed.resid.plot(title='Остаток', figsize=(16,6))\n",
    "    plt.xlabel('Время')\n",
    "    plt.grid()\n",
    "    # Посмотри на среднее и дисперсию\n",
    "    plt.figure(figsize=(16, 6))\n",
    "    data['num_orders'].rolling(24).mean().plot(label=\"Среднее\")\n",
    "    data['num_orders'].rolling(24).std().plot(label=\"Дисперсия\")\n",
    "    plt.legend()\n",
    "    plt.grid()\n",
    "    \n",
    "    \n",
    "display(data.info())\n",
    "get_plots(data)"
   ]
  },
  {
   "cell_type": "markdown",
   "metadata": {},
   "source": [
    "**Выводы:**\n",
    "\n",
    "- Датасет имеет данные за полгода, начиная с марта 2018\n",
    "\n",
    "- Исходный ряд нестационарен: и среднее значение, и дисперсия растут со временем. \n",
    "\n",
    "- Зависимость имеет восходящий тренд \n",
    "\n",
    "- Временной ряд имеет сезонность с периодом в 1 день\n"
   ]
  },
  {
   "cell_type": "markdown",
   "metadata": {},
   "source": [
    "## Обучение"
   ]
  },
  {
   "cell_type": "code",
   "execution_count": 6,
   "metadata": {},
   "outputs": [],
   "source": [
    "# Напишем функцию для создания новых признаков\n",
    "def make_features(data, max_lag, rolling_mean_size):\n",
    "    data_new = data.copy()\n",
    "    data_new['month'] = data_new.index.month\n",
    "    data_new['day'] = data_new.index.day\n",
    "    data_new['dayofweek'] = data_new.index.dayofweek\n",
    "    \n",
    "    for lag in range(1, max_lag + 1):\n",
    "        data_new[f'lag_{lag}'] = data_new['num_orders'].shift(lag)\n",
    "\n",
    "    data_new['rolling_mean'] = data_new['num_orders'].shift().rolling(rolling_mean_size).mean()\n",
    "    return data_new"
   ]
  },
  {
   "cell_type": "markdown",
   "metadata": {},
   "source": [
    "Создадим новые признаки. Так как имеется дневная сезонность, то установим max_lag=24, а rolling_mean_size=16"
   ]
  },
  {
   "cell_type": "code",
   "execution_count": 7,
   "metadata": {
    "scrolled": true
   },
   "outputs": [
    {
     "data": {
      "text/html": [
       "<div>\n",
       "<style scoped>\n",
       "    .dataframe tbody tr th:only-of-type {\n",
       "        vertical-align: middle;\n",
       "    }\n",
       "\n",
       "    .dataframe tbody tr th {\n",
       "        vertical-align: top;\n",
       "    }\n",
       "\n",
       "    .dataframe thead th {\n",
       "        text-align: right;\n",
       "    }\n",
       "</style>\n",
       "<table border=\"1\" class=\"dataframe\">\n",
       "  <thead>\n",
       "    <tr style=\"text-align: right;\">\n",
       "      <th></th>\n",
       "      <th>num_orders</th>\n",
       "      <th>month</th>\n",
       "      <th>day</th>\n",
       "      <th>dayofweek</th>\n",
       "      <th>lag_1</th>\n",
       "      <th>lag_2</th>\n",
       "      <th>lag_3</th>\n",
       "      <th>lag_4</th>\n",
       "      <th>lag_5</th>\n",
       "      <th>lag_6</th>\n",
       "      <th>...</th>\n",
       "      <th>lag_16</th>\n",
       "      <th>lag_17</th>\n",
       "      <th>lag_18</th>\n",
       "      <th>lag_19</th>\n",
       "      <th>lag_20</th>\n",
       "      <th>lag_21</th>\n",
       "      <th>lag_22</th>\n",
       "      <th>lag_23</th>\n",
       "      <th>lag_24</th>\n",
       "      <th>rolling_mean</th>\n",
       "    </tr>\n",
       "    <tr>\n",
       "      <th>datetime</th>\n",
       "      <th></th>\n",
       "      <th></th>\n",
       "      <th></th>\n",
       "      <th></th>\n",
       "      <th></th>\n",
       "      <th></th>\n",
       "      <th></th>\n",
       "      <th></th>\n",
       "      <th></th>\n",
       "      <th></th>\n",
       "      <th></th>\n",
       "      <th></th>\n",
       "      <th></th>\n",
       "      <th></th>\n",
       "      <th></th>\n",
       "      <th></th>\n",
       "      <th></th>\n",
       "      <th></th>\n",
       "      <th></th>\n",
       "      <th></th>\n",
       "      <th></th>\n",
       "    </tr>\n",
       "  </thead>\n",
       "  <tbody>\n",
       "    <tr>\n",
       "      <td>2018-03-01 00:00:00</td>\n",
       "      <td>124</td>\n",
       "      <td>3</td>\n",
       "      <td>1</td>\n",
       "      <td>3</td>\n",
       "      <td>NaN</td>\n",
       "      <td>NaN</td>\n",
       "      <td>NaN</td>\n",
       "      <td>NaN</td>\n",
       "      <td>NaN</td>\n",
       "      <td>NaN</td>\n",
       "      <td>...</td>\n",
       "      <td>NaN</td>\n",
       "      <td>NaN</td>\n",
       "      <td>NaN</td>\n",
       "      <td>NaN</td>\n",
       "      <td>NaN</td>\n",
       "      <td>NaN</td>\n",
       "      <td>NaN</td>\n",
       "      <td>NaN</td>\n",
       "      <td>NaN</td>\n",
       "      <td>NaN</td>\n",
       "    </tr>\n",
       "    <tr>\n",
       "      <td>2018-03-01 01:00:00</td>\n",
       "      <td>85</td>\n",
       "      <td>3</td>\n",
       "      <td>1</td>\n",
       "      <td>3</td>\n",
       "      <td>124.0</td>\n",
       "      <td>NaN</td>\n",
       "      <td>NaN</td>\n",
       "      <td>NaN</td>\n",
       "      <td>NaN</td>\n",
       "      <td>NaN</td>\n",
       "      <td>...</td>\n",
       "      <td>NaN</td>\n",
       "      <td>NaN</td>\n",
       "      <td>NaN</td>\n",
       "      <td>NaN</td>\n",
       "      <td>NaN</td>\n",
       "      <td>NaN</td>\n",
       "      <td>NaN</td>\n",
       "      <td>NaN</td>\n",
       "      <td>NaN</td>\n",
       "      <td>NaN</td>\n",
       "    </tr>\n",
       "    <tr>\n",
       "      <td>2018-03-01 02:00:00</td>\n",
       "      <td>71</td>\n",
       "      <td>3</td>\n",
       "      <td>1</td>\n",
       "      <td>3</td>\n",
       "      <td>85.0</td>\n",
       "      <td>124.0</td>\n",
       "      <td>NaN</td>\n",
       "      <td>NaN</td>\n",
       "      <td>NaN</td>\n",
       "      <td>NaN</td>\n",
       "      <td>...</td>\n",
       "      <td>NaN</td>\n",
       "      <td>NaN</td>\n",
       "      <td>NaN</td>\n",
       "      <td>NaN</td>\n",
       "      <td>NaN</td>\n",
       "      <td>NaN</td>\n",
       "      <td>NaN</td>\n",
       "      <td>NaN</td>\n",
       "      <td>NaN</td>\n",
       "      <td>NaN</td>\n",
       "    </tr>\n",
       "    <tr>\n",
       "      <td>2018-03-01 03:00:00</td>\n",
       "      <td>66</td>\n",
       "      <td>3</td>\n",
       "      <td>1</td>\n",
       "      <td>3</td>\n",
       "      <td>71.0</td>\n",
       "      <td>85.0</td>\n",
       "      <td>124.0</td>\n",
       "      <td>NaN</td>\n",
       "      <td>NaN</td>\n",
       "      <td>NaN</td>\n",
       "      <td>...</td>\n",
       "      <td>NaN</td>\n",
       "      <td>NaN</td>\n",
       "      <td>NaN</td>\n",
       "      <td>NaN</td>\n",
       "      <td>NaN</td>\n",
       "      <td>NaN</td>\n",
       "      <td>NaN</td>\n",
       "      <td>NaN</td>\n",
       "      <td>NaN</td>\n",
       "      <td>NaN</td>\n",
       "    </tr>\n",
       "    <tr>\n",
       "      <td>2018-03-01 04:00:00</td>\n",
       "      <td>43</td>\n",
       "      <td>3</td>\n",
       "      <td>1</td>\n",
       "      <td>3</td>\n",
       "      <td>66.0</td>\n",
       "      <td>71.0</td>\n",
       "      <td>85.0</td>\n",
       "      <td>124.0</td>\n",
       "      <td>NaN</td>\n",
       "      <td>NaN</td>\n",
       "      <td>...</td>\n",
       "      <td>NaN</td>\n",
       "      <td>NaN</td>\n",
       "      <td>NaN</td>\n",
       "      <td>NaN</td>\n",
       "      <td>NaN</td>\n",
       "      <td>NaN</td>\n",
       "      <td>NaN</td>\n",
       "      <td>NaN</td>\n",
       "      <td>NaN</td>\n",
       "      <td>NaN</td>\n",
       "    </tr>\n",
       "  </tbody>\n",
       "</table>\n",
       "<p>5 rows × 29 columns</p>\n",
       "</div>"
      ],
      "text/plain": [
       "                     num_orders  month  day  dayofweek  lag_1  lag_2  lag_3  \\\n",
       "datetime                                                                      \n",
       "2018-03-01 00:00:00         124      3    1          3    NaN    NaN    NaN   \n",
       "2018-03-01 01:00:00          85      3    1          3  124.0    NaN    NaN   \n",
       "2018-03-01 02:00:00          71      3    1          3   85.0  124.0    NaN   \n",
       "2018-03-01 03:00:00          66      3    1          3   71.0   85.0  124.0   \n",
       "2018-03-01 04:00:00          43      3    1          3   66.0   71.0   85.0   \n",
       "\n",
       "                     lag_4  lag_5  lag_6  ...  lag_16  lag_17  lag_18  lag_19  \\\n",
       "datetime                                  ...                                   \n",
       "2018-03-01 00:00:00    NaN    NaN    NaN  ...     NaN     NaN     NaN     NaN   \n",
       "2018-03-01 01:00:00    NaN    NaN    NaN  ...     NaN     NaN     NaN     NaN   \n",
       "2018-03-01 02:00:00    NaN    NaN    NaN  ...     NaN     NaN     NaN     NaN   \n",
       "2018-03-01 03:00:00    NaN    NaN    NaN  ...     NaN     NaN     NaN     NaN   \n",
       "2018-03-01 04:00:00  124.0    NaN    NaN  ...     NaN     NaN     NaN     NaN   \n",
       "\n",
       "                     lag_20  lag_21  lag_22  lag_23  lag_24  rolling_mean  \n",
       "datetime                                                                   \n",
       "2018-03-01 00:00:00     NaN     NaN     NaN     NaN     NaN           NaN  \n",
       "2018-03-01 01:00:00     NaN     NaN     NaN     NaN     NaN           NaN  \n",
       "2018-03-01 02:00:00     NaN     NaN     NaN     NaN     NaN           NaN  \n",
       "2018-03-01 03:00:00     NaN     NaN     NaN     NaN     NaN           NaN  \n",
       "2018-03-01 04:00:00     NaN     NaN     NaN     NaN     NaN           NaN  \n",
       "\n",
       "[5 rows x 29 columns]"
      ]
     },
     "metadata": {},
     "output_type": "display_data"
    }
   ],
   "source": [
    "# Создадим новые признаки\n",
    "processed_data = make_features(data, 24, 16)\n",
    "display(processed_data.head(5))\n",
    "# Разобьем данные на тренировочную и тестовую выборки\n",
    "train, test = train_test_split(processed_data, shuffle=False, test_size=0.1)\n",
    "train = train.dropna()\n",
    "features_train = train.drop(columns=['num_orders'])\n",
    "target_train = train['num_orders']\n",
    "features_test = test.drop(columns=['num_orders'])\n",
    "target_test = test['num_orders']"
   ]
  },
  {
   "cell_type": "markdown",
   "metadata": {},
   "source": [
    "Обучим разные модели с различными гипермараметрами"
   ]
  },
  {
   "cell_type": "code",
   "execution_count": 8,
   "metadata": {},
   "outputs": [],
   "source": [
    "# Зададим разбиение для кросс-валидации для случая временного ряда\n",
    "tscv = TimeSeriesSplit(n_splits=3)"
   ]
  },
  {
   "cell_type": "code",
   "execution_count": 9,
   "metadata": {},
   "outputs": [
    {
     "data": {
      "text/plain": [
       "{'max_depth': 6}"
      ]
     },
     "execution_count": 9,
     "metadata": {},
     "output_type": "execute_result"
    }
   ],
   "source": [
    "# Подберем параметры для дерева решений\n",
    "DTR = DecisionTreeRegressor(random_state=12345)\n",
    "params = {'max_depth':list(range(1,32,5))}\n",
    "DTR = GridSearchCV(DTR, params, scoring='neg_root_mean_squared_error', cv=tscv)\n",
    "DTR.fit(features_train, target_train)\n",
    "DTR.best_params_"
   ]
  },
  {
   "cell_type": "code",
   "execution_count": 10,
   "metadata": {
    "scrolled": true
   },
   "outputs": [
    {
     "name": "stdout",
     "output_type": "stream",
     "text": [
      "Fitting 3 folds for each of 28 candidates, totalling 84 fits\n",
      "[CV 1/3; 1/28] START max_depth=1, n_estimators=1................................\n",
      "[CV 1/3; 1/28] END max_depth=1, n_estimators=1;, score=-31.241 total time=   0.0s\n",
      "[CV 2/3; 1/28] START max_depth=1, n_estimators=1................................\n",
      "[CV 2/3; 1/28] END max_depth=1, n_estimators=1;, score=-33.156 total time=   0.0s\n",
      "[CV 3/3; 1/28] START max_depth=1, n_estimators=1................................\n",
      "[CV 3/3; 1/28] END max_depth=1, n_estimators=1;, score=-44.515 total time=   0.0s\n",
      "[CV 1/3; 2/28] START max_depth=1, n_estimators=31...............................\n",
      "[CV 1/3; 2/28] END max_depth=1, n_estimators=31;, score=-30.470 total time=   0.1s\n",
      "[CV 2/3; 2/28] START max_depth=1, n_estimators=31...............................\n",
      "[CV 2/3; 2/28] END max_depth=1, n_estimators=31;, score=-33.539 total time=   0.1s\n",
      "[CV 3/3; 2/28] START max_depth=1, n_estimators=31...............................\n",
      "[CV 3/3; 2/28] END max_depth=1, n_estimators=31;, score=-46.209 total time=   0.1s\n",
      "[CV 1/3; 3/28] START max_depth=1, n_estimators=61...............................\n",
      "[CV 1/3; 3/28] END max_depth=1, n_estimators=61;, score=-30.480 total time=   0.1s\n",
      "[CV 2/3; 3/28] START max_depth=1, n_estimators=61...............................\n",
      "[CV 2/3; 3/28] END max_depth=1, n_estimators=61;, score=-33.450 total time=   0.2s\n",
      "[CV 3/3; 3/28] START max_depth=1, n_estimators=61...............................\n",
      "[CV 3/3; 3/28] END max_depth=1, n_estimators=61;, score=-46.058 total time=   0.2s\n",
      "[CV 1/3; 4/28] START max_depth=1, n_estimators=91...............................\n",
      "[CV 1/3; 4/28] END max_depth=1, n_estimators=91;, score=-30.418 total time=   0.2s\n",
      "[CV 2/3; 4/28] START max_depth=1, n_estimators=91...............................\n",
      "[CV 2/3; 4/28] END max_depth=1, n_estimators=91;, score=-33.354 total time=   0.3s\n",
      "[CV 3/3; 4/28] START max_depth=1, n_estimators=91...............................\n",
      "[CV 3/3; 4/28] END max_depth=1, n_estimators=91;, score=-46.096 total time=   0.3s\n",
      "[CV 1/3; 5/28] START max_depth=1, n_estimators=121..............................\n",
      "[CV 1/3; 5/28] END max_depth=1, n_estimators=121;, score=-30.426 total time=   0.2s\n",
      "[CV 2/3; 5/28] START max_depth=1, n_estimators=121..............................\n",
      "[CV 2/3; 5/28] END max_depth=1, n_estimators=121;, score=-33.330 total time=   0.3s\n",
      "[CV 3/3; 5/28] START max_depth=1, n_estimators=121..............................\n",
      "[CV 3/3; 5/28] END max_depth=1, n_estimators=121;, score=-46.118 total time=   0.4s\n",
      "[CV 1/3; 6/28] START max_depth=1, n_estimators=151..............................\n",
      "[CV 1/3; 6/28] END max_depth=1, n_estimators=151;, score=-30.417 total time=   0.3s\n",
      "[CV 2/3; 6/28] START max_depth=1, n_estimators=151..............................\n",
      "[CV 2/3; 6/28] END max_depth=1, n_estimators=151;, score=-33.304 total time=   0.4s\n",
      "[CV 3/3; 6/28] START max_depth=1, n_estimators=151..............................\n",
      "[CV 3/3; 6/28] END max_depth=1, n_estimators=151;, score=-46.051 total time=   0.5s\n",
      "[CV 1/3; 7/28] START max_depth=1, n_estimators=181..............................\n",
      "[CV 1/3; 7/28] END max_depth=1, n_estimators=181;, score=-30.426 total time=   0.3s\n",
      "[CV 2/3; 7/28] START max_depth=1, n_estimators=181..............................\n",
      "[CV 2/3; 7/28] END max_depth=1, n_estimators=181;, score=-33.315 total time=   0.5s\n",
      "[CV 3/3; 7/28] START max_depth=1, n_estimators=181..............................\n",
      "[CV 3/3; 7/28] END max_depth=1, n_estimators=181;, score=-46.069 total time=   0.6s\n",
      "[CV 1/3; 8/28] START max_depth=11, n_estimators=1...............................\n",
      "[CV 1/3; 8/28] END max_depth=11, n_estimators=1;, score=-32.965 total time=   0.0s\n",
      "[CV 2/3; 8/28] START max_depth=11, n_estimators=1...............................\n",
      "[CV 2/3; 8/28] END max_depth=11, n_estimators=1;, score=-33.707 total time=   0.0s\n",
      "[CV 3/3; 8/28] START max_depth=11, n_estimators=1...............................\n",
      "[CV 3/3; 8/28] END max_depth=11, n_estimators=1;, score=-43.682 total time=   0.0s\n",
      "[CV 1/3; 9/28] START max_depth=11, n_estimators=31..............................\n",
      "[CV 1/3; 9/28] END max_depth=11, n_estimators=31;, score=-24.932 total time=   0.3s\n",
      "[CV 2/3; 9/28] START max_depth=11, n_estimators=31..............................\n",
      "[CV 2/3; 9/28] END max_depth=11, n_estimators=31;, score=-25.575 total time=   0.6s\n",
      "[CV 3/3; 9/28] START max_depth=11, n_estimators=31..............................\n",
      "[CV 3/3; 9/28] END max_depth=11, n_estimators=31;, score=-33.380 total time=   0.9s\n",
      "[CV 1/3; 10/28] START max_depth=11, n_estimators=61.............................\n",
      "[CV 1/3; 10/28] END max_depth=11, n_estimators=61;, score=-24.902 total time=   0.6s\n",
      "[CV 2/3; 10/28] START max_depth=11, n_estimators=61.............................\n",
      "[CV 2/3; 10/28] END max_depth=11, n_estimators=61;, score=-25.269 total time=   1.1s\n",
      "[CV 3/3; 10/28] START max_depth=11, n_estimators=61.............................\n",
      "[CV 3/3; 10/28] END max_depth=11, n_estimators=61;, score=-33.239 total time=   1.7s\n",
      "[CV 1/3; 11/28] START max_depth=11, n_estimators=91.............................\n",
      "[CV 1/3; 11/28] END max_depth=11, n_estimators=91;, score=-24.870 total time=   0.9s\n",
      "[CV 2/3; 11/28] START max_depth=11, n_estimators=91.............................\n",
      "[CV 2/3; 11/28] END max_depth=11, n_estimators=91;, score=-25.050 total time=   1.7s\n",
      "[CV 3/3; 11/28] START max_depth=11, n_estimators=91.............................\n",
      "[CV 3/3; 11/28] END max_depth=11, n_estimators=91;, score=-33.162 total time=   2.6s\n",
      "[CV 1/3; 12/28] START max_depth=11, n_estimators=121............................\n",
      "[CV 1/3; 12/28] END max_depth=11, n_estimators=121;, score=-24.875 total time=   1.2s\n",
      "[CV 2/3; 12/28] START max_depth=11, n_estimators=121............................\n",
      "[CV 2/3; 12/28] END max_depth=11, n_estimators=121;, score=-25.040 total time=   2.2s\n",
      "[CV 3/3; 12/28] START max_depth=11, n_estimators=121............................\n",
      "[CV 3/3; 12/28] END max_depth=11, n_estimators=121;, score=-33.025 total time=   3.5s\n",
      "[CV 1/3; 13/28] START max_depth=11, n_estimators=151............................\n",
      "[CV 1/3; 13/28] END max_depth=11, n_estimators=151;, score=-24.817 total time=   1.5s\n",
      "[CV 2/3; 13/28] START max_depth=11, n_estimators=151............................\n",
      "[CV 2/3; 13/28] END max_depth=11, n_estimators=151;, score=-24.980 total time=   2.8s\n",
      "[CV 3/3; 13/28] START max_depth=11, n_estimators=151............................\n",
      "[CV 3/3; 13/28] END max_depth=11, n_estimators=151;, score=-32.937 total time=   4.3s\n",
      "[CV 1/3; 14/28] START max_depth=11, n_estimators=181............................\n",
      "[CV 1/3; 14/28] END max_depth=11, n_estimators=181;, score=-24.835 total time=   1.8s\n",
      "[CV 2/3; 14/28] START max_depth=11, n_estimators=181............................\n",
      "[CV 2/3; 14/28] END max_depth=11, n_estimators=181;, score=-25.002 total time=   3.5s\n",
      "[CV 3/3; 14/28] START max_depth=11, n_estimators=181............................\n",
      "[CV 3/3; 14/28] END max_depth=11, n_estimators=181;, score=-32.845 total time=   5.1s\n",
      "[CV 1/3; 15/28] START max_depth=21, n_estimators=1..............................\n",
      "[CV 1/3; 15/28] END max_depth=21, n_estimators=1;, score=-33.682 total time=   0.0s\n",
      "[CV 2/3; 15/28] START max_depth=21, n_estimators=1..............................\n",
      "[CV 2/3; 15/28] END max_depth=21, n_estimators=1;, score=-35.399 total time=   0.0s\n",
      "[CV 3/3; 15/28] START max_depth=21, n_estimators=1..............................\n",
      "[CV 3/3; 15/28] END max_depth=21, n_estimators=1;, score=-47.168 total time=   0.0s\n",
      "[CV 1/3; 16/28] START max_depth=21, n_estimators=31.............................\n",
      "[CV 1/3; 16/28] END max_depth=21, n_estimators=31;, score=-24.765 total time=   0.4s\n",
      "[CV 2/3; 16/28] START max_depth=21, n_estimators=31.............................\n",
      "[CV 2/3; 16/28] END max_depth=21, n_estimators=31;, score=-25.711 total time=   0.7s\n",
      "[CV 3/3; 16/28] START max_depth=21, n_estimators=31.............................\n",
      "[CV 3/3; 16/28] END max_depth=21, n_estimators=31;, score=-33.188 total time=   1.1s\n",
      "[CV 1/3; 17/28] START max_depth=21, n_estimators=61.............................\n",
      "[CV 1/3; 17/28] END max_depth=21, n_estimators=61;, score=-24.802 total time=   0.7s\n",
      "[CV 2/3; 17/28] START max_depth=21, n_estimators=61.............................\n"
     ]
    },
    {
     "name": "stdout",
     "output_type": "stream",
     "text": [
      "[CV 2/3; 17/28] END max_depth=21, n_estimators=61;, score=-25.321 total time=   1.4s\n",
      "[CV 3/3; 17/28] START max_depth=21, n_estimators=61.............................\n",
      "[CV 3/3; 17/28] END max_depth=21, n_estimators=61;, score=-33.166 total time=   2.2s\n",
      "[CV 1/3; 18/28] START max_depth=21, n_estimators=91.............................\n",
      "[CV 1/3; 18/28] END max_depth=21, n_estimators=91;, score=-24.794 total time=   1.0s\n",
      "[CV 2/3; 18/28] START max_depth=21, n_estimators=91.............................\n",
      "[CV 2/3; 18/28] END max_depth=21, n_estimators=91;, score=-25.087 total time=   2.2s\n",
      "[CV 3/3; 18/28] START max_depth=21, n_estimators=91.............................\n",
      "[CV 3/3; 18/28] END max_depth=21, n_estimators=91;, score=-33.123 total time=   3.4s\n",
      "[CV 1/3; 19/28] START max_depth=21, n_estimators=121............................\n",
      "[CV 1/3; 19/28] END max_depth=21, n_estimators=121;, score=-24.784 total time=   1.6s\n",
      "[CV 2/3; 19/28] START max_depth=21, n_estimators=121............................\n",
      "[CV 2/3; 19/28] END max_depth=21, n_estimators=121;, score=-24.962 total time=   3.0s\n",
      "[CV 3/3; 19/28] START max_depth=21, n_estimators=121............................\n",
      "[CV 3/3; 19/28] END max_depth=21, n_estimators=121;, score=-32.993 total time=   4.4s\n",
      "[CV 1/3; 20/28] START max_depth=21, n_estimators=151............................\n",
      "[CV 1/3; 20/28] END max_depth=21, n_estimators=151;, score=-24.691 total time=   1.7s\n",
      "[CV 2/3; 20/28] START max_depth=21, n_estimators=151............................\n",
      "[CV 2/3; 20/28] END max_depth=21, n_estimators=151;, score=-24.919 total time=   3.5s\n",
      "[CV 3/3; 20/28] START max_depth=21, n_estimators=151............................\n",
      "[CV 3/3; 20/28] END max_depth=21, n_estimators=151;, score=-32.909 total time=   5.3s\n",
      "[CV 1/3; 21/28] START max_depth=21, n_estimators=181............................\n",
      "[CV 1/3; 21/28] END max_depth=21, n_estimators=181;, score=-24.740 total time=   2.1s\n",
      "[CV 2/3; 21/28] START max_depth=21, n_estimators=181............................\n",
      "[CV 2/3; 21/28] END max_depth=21, n_estimators=181;, score=-24.949 total time=   4.3s\n",
      "[CV 3/3; 21/28] START max_depth=21, n_estimators=181............................\n",
      "[CV 3/3; 21/28] END max_depth=21, n_estimators=181;, score=-32.753 total time=   6.6s\n",
      "[CV 1/3; 22/28] START max_depth=31, n_estimators=1..............................\n",
      "[CV 1/3; 22/28] END max_depth=31, n_estimators=1;, score=-32.599 total time=   0.0s\n",
      "[CV 2/3; 22/28] START max_depth=31, n_estimators=1..............................\n",
      "[CV 2/3; 22/28] END max_depth=31, n_estimators=1;, score=-35.273 total time=   0.0s\n",
      "[CV 3/3; 22/28] START max_depth=31, n_estimators=1..............................\n",
      "[CV 3/3; 22/28] END max_depth=31, n_estimators=1;, score=-45.694 total time=   0.0s\n",
      "[CV 1/3; 23/28] START max_depth=31, n_estimators=31.............................\n",
      "[CV 1/3; 23/28] END max_depth=31, n_estimators=31;, score=-24.644 total time=   0.4s\n",
      "[CV 2/3; 23/28] START max_depth=31, n_estimators=31.............................\n",
      "[CV 2/3; 23/28] END max_depth=31, n_estimators=31;, score=-25.728 total time=   0.8s\n",
      "[CV 3/3; 23/28] START max_depth=31, n_estimators=31.............................\n",
      "[CV 3/3; 23/28] END max_depth=31, n_estimators=31;, score=-33.158 total time=   1.1s\n",
      "[CV 1/3; 24/28] START max_depth=31, n_estimators=61.............................\n",
      "[CV 1/3; 24/28] END max_depth=31, n_estimators=61;, score=-24.764 total time=   0.7s\n",
      "[CV 2/3; 24/28] START max_depth=31, n_estimators=61.............................\n",
      "[CV 2/3; 24/28] END max_depth=31, n_estimators=61;, score=-25.265 total time=   1.5s\n",
      "[CV 3/3; 24/28] START max_depth=31, n_estimators=61.............................\n",
      "[CV 3/3; 24/28] END max_depth=31, n_estimators=61;, score=-32.975 total time=   2.3s\n",
      "[CV 1/3; 25/28] START max_depth=31, n_estimators=91.............................\n",
      "[CV 1/3; 25/28] END max_depth=31, n_estimators=91;, score=-24.749 total time=   1.1s\n",
      "[CV 2/3; 25/28] START max_depth=31, n_estimators=91.............................\n",
      "[CV 2/3; 25/28] END max_depth=31, n_estimators=91;, score=-25.024 total time=   2.1s\n",
      "[CV 3/3; 25/28] START max_depth=31, n_estimators=91.............................\n",
      "[CV 3/3; 25/28] END max_depth=31, n_estimators=91;, score=-32.914 total time=   3.3s\n",
      "[CV 1/3; 26/28] START max_depth=31, n_estimators=121............................\n",
      "[CV 1/3; 26/28] END max_depth=31, n_estimators=121;, score=-24.747 total time=   1.4s\n",
      "[CV 2/3; 26/28] START max_depth=31, n_estimators=121............................\n",
      "[CV 2/3; 26/28] END max_depth=31, n_estimators=121;, score=-24.941 total time=   2.9s\n",
      "[CV 3/3; 26/28] START max_depth=31, n_estimators=121............................\n",
      "[CV 3/3; 26/28] END max_depth=31, n_estimators=121;, score=-32.835 total time=   4.4s\n",
      "[CV 1/3; 27/28] START max_depth=31, n_estimators=151............................\n",
      "[CV 1/3; 27/28] END max_depth=31, n_estimators=151;, score=-24.648 total time=   1.8s\n",
      "[CV 2/3; 27/28] START max_depth=31, n_estimators=151............................\n",
      "[CV 2/3; 27/28] END max_depth=31, n_estimators=151;, score=-24.931 total time=   3.5s\n",
      "[CV 3/3; 27/28] START max_depth=31, n_estimators=151............................\n",
      "[CV 3/3; 27/28] END max_depth=31, n_estimators=151;, score=-32.731 total time=   5.6s\n",
      "[CV 1/3; 28/28] START max_depth=31, n_estimators=181............................\n",
      "[CV 1/3; 28/28] END max_depth=31, n_estimators=181;, score=-24.700 total time=   2.2s\n",
      "[CV 2/3; 28/28] START max_depth=31, n_estimators=181............................\n",
      "[CV 2/3; 28/28] END max_depth=31, n_estimators=181;, score=-24.978 total time=   4.3s\n",
      "[CV 3/3; 28/28] START max_depth=31, n_estimators=181............................\n",
      "[CV 3/3; 28/28] END max_depth=31, n_estimators=181;, score=-32.620 total time=   6.4s\n"
     ]
    },
    {
     "data": {
      "text/plain": [
       "{'max_depth': 31, 'n_estimators': 181}"
      ]
     },
     "execution_count": 10,
     "metadata": {},
     "output_type": "execute_result"
    }
   ],
   "source": [
    "# Подберем параметры для случайного леса\n",
    "RFR = RandomForestRegressor(random_state=12345)\n",
    "params = {'max_depth':list(range(1,32,10)), \n",
    "         'n_estimators': list(range(1,201,30))}\n",
    "RFR = GridSearchCV(RFR, params, scoring='neg_root_mean_squared_error', cv=tscv, verbose=48, n_jobs=-1)\n",
    "RFR.fit(features_train, target_train)\n",
    "RFR.best_params_"
   ]
  },
  {
   "cell_type": "code",
   "execution_count": 11,
   "metadata": {
    "scrolled": true
   },
   "outputs": [
    {
     "name": "stdout",
     "output_type": "stream",
     "text": [
      "Fitting 3 folds for each of 21 candidates, totalling 63 fits\n",
      "[CV 1/3; 1/21] START max_depth=1, n_estimators=1................................\n",
      "[CV 1/3; 1/21] END max_depth=1, n_estimators=1;, score=-34.883 total time=   0.1s\n",
      "[CV 2/3; 1/21] START max_depth=1, n_estimators=1................................\n",
      "[CV 2/3; 1/21] END max_depth=1, n_estimators=1;, score=-38.444 total time=   0.0s\n",
      "[CV 3/3; 1/21] START max_depth=1, n_estimators=1................................\n",
      "[CV 3/3; 1/21] END max_depth=1, n_estimators=1;, score=-52.220 total time=   0.1s\n",
      "[CV 1/3; 2/21] START max_depth=1, n_estimators=31...............................\n",
      "[CV 1/3; 2/21] END max_depth=1, n_estimators=31;, score=-27.427 total time=   0.1s\n",
      "[CV 2/3; 2/21] START max_depth=1, n_estimators=31...............................\n",
      "[CV 2/3; 2/21] END max_depth=1, n_estimators=31;, score=-29.430 total time=   0.1s\n",
      "[CV 3/3; 2/21] START max_depth=1, n_estimators=31...............................\n",
      "[CV 3/3; 2/21] END max_depth=1, n_estimators=31;, score=-40.967 total time=   0.2s\n",
      "[CV 1/3; 3/21] START max_depth=1, n_estimators=61...............................\n",
      "[CV 1/3; 3/21] END max_depth=1, n_estimators=61;, score=-25.868 total time=   0.1s\n",
      "[CV 2/3; 3/21] START max_depth=1, n_estimators=61...............................\n",
      "[CV 2/3; 3/21] END max_depth=1, n_estimators=61;, score=-27.473 total time=   0.2s\n",
      "[CV 3/3; 3/21] START max_depth=1, n_estimators=61...............................\n",
      "[CV 3/3; 3/21] END max_depth=1, n_estimators=61;, score=-38.073 total time=   0.1s\n",
      "[CV 1/3; 4/21] START max_depth=1, n_estimators=91...............................\n",
      "[CV 1/3; 4/21] END max_depth=1, n_estimators=91;, score=-25.217 total time=   0.2s\n",
      "[CV 2/3; 4/21] START max_depth=1, n_estimators=91...............................\n",
      "[CV 2/3; 4/21] END max_depth=1, n_estimators=91;, score=-26.701 total time=   0.2s\n",
      "[CV 3/3; 4/21] START max_depth=1, n_estimators=91...............................\n",
      "[CV 3/3; 4/21] END max_depth=1, n_estimators=91;, score=-36.592 total time=   0.2s\n",
      "[CV 1/3; 5/21] START max_depth=1, n_estimators=121..............................\n",
      "[CV 1/3; 5/21] END max_depth=1, n_estimators=121;, score=-24.900 total time=   0.2s\n",
      "[CV 2/3; 5/21] START max_depth=1, n_estimators=121..............................\n",
      "[CV 2/3; 5/21] END max_depth=1, n_estimators=121;, score=-26.321 total time=   0.2s\n",
      "[CV 3/3; 5/21] START max_depth=1, n_estimators=121..............................\n",
      "[CV 3/3; 5/21] END max_depth=1, n_estimators=121;, score=-35.827 total time=   0.2s\n",
      "[CV 1/3; 6/21] START max_depth=1, n_estimators=151..............................\n",
      "[CV 1/3; 6/21] END max_depth=1, n_estimators=151;, score=-24.753 total time=   0.1s\n",
      "[CV 2/3; 6/21] START max_depth=1, n_estimators=151..............................\n",
      "[CV 2/3; 6/21] END max_depth=1, n_estimators=151;, score=-26.131 total time=   0.3s\n",
      "[CV 3/3; 6/21] START max_depth=1, n_estimators=151..............................\n",
      "[CV 3/3; 6/21] END max_depth=1, n_estimators=151;, score=-35.331 total time=   0.3s\n",
      "[CV 1/3; 7/21] START max_depth=1, n_estimators=181..............................\n",
      "[CV 1/3; 7/21] END max_depth=1, n_estimators=181;, score=-24.676 total time=   0.1s\n",
      "[CV 2/3; 7/21] START max_depth=1, n_estimators=181..............................\n",
      "[CV 2/3; 7/21] END max_depth=1, n_estimators=181;, score=-26.045 total time=   0.2s\n",
      "[CV 3/3; 7/21] START max_depth=1, n_estimators=181..............................\n",
      "[CV 3/3; 7/21] END max_depth=1, n_estimators=181;, score=-35.186 total time=   0.3s\n",
      "[CV 1/3; 8/21] START max_depth=16, n_estimators=1...............................\n",
      "[CV 1/3; 8/21] END max_depth=16, n_estimators=1;, score=-34.254 total time=   0.1s\n",
      "[CV 2/3; 8/21] START max_depth=16, n_estimators=1...............................\n",
      "[CV 2/3; 8/21] END max_depth=16, n_estimators=1;, score=-37.253 total time=   0.1s\n",
      "[CV 3/3; 8/21] START max_depth=16, n_estimators=1...............................\n",
      "[CV 3/3; 8/21] END max_depth=16, n_estimators=1;, score=-51.009 total time=   0.1s\n",
      "[CV 1/3; 9/21] START max_depth=16, n_estimators=31..............................\n",
      "[CV 1/3; 9/21] END max_depth=16, n_estimators=31;, score=-24.017 total time=   0.4s\n",
      "[CV 2/3; 9/21] START max_depth=16, n_estimators=31..............................\n",
      "[CV 2/3; 9/21] END max_depth=16, n_estimators=31;, score=-25.085 total time=   0.6s\n",
      "[CV 3/3; 9/21] START max_depth=16, n_estimators=31..............................\n",
      "[CV 3/3; 9/21] END max_depth=16, n_estimators=31;, score=-33.741 total time=   0.5s\n",
      "[CV 1/3; 10/21] START max_depth=16, n_estimators=61.............................\n",
      "[CV 1/3; 10/21] END max_depth=16, n_estimators=61;, score=-23.942 total time=   0.7s\n",
      "[CV 2/3; 10/21] START max_depth=16, n_estimators=61.............................\n",
      "[CV 2/3; 10/21] END max_depth=16, n_estimators=61;, score=-25.038 total time=   1.1s\n",
      "[CV 3/3; 10/21] START max_depth=16, n_estimators=61.............................\n",
      "[CV 3/3; 10/21] END max_depth=16, n_estimators=61;, score=-32.497 total time=   1.0s\n",
      "[CV 1/3; 11/21] START max_depth=16, n_estimators=91.............................\n",
      "[CV 1/3; 11/21] END max_depth=16, n_estimators=91;, score=-24.077 total time=   1.3s\n",
      "[CV 2/3; 11/21] START max_depth=16, n_estimators=91.............................\n",
      "[CV 2/3; 11/21] END max_depth=16, n_estimators=91;, score=-24.978 total time=   1.1s\n",
      "[CV 3/3; 11/21] START max_depth=16, n_estimators=91.............................\n",
      "[CV 3/3; 11/21] END max_depth=16, n_estimators=91;, score=-32.284 total time=   1.4s\n",
      "[CV 1/3; 12/21] START max_depth=16, n_estimators=121............................\n",
      "[CV 1/3; 12/21] END max_depth=16, n_estimators=121;, score=-24.285 total time=   1.3s\n",
      "[CV 2/3; 12/21] START max_depth=16, n_estimators=121............................\n",
      "[CV 2/3; 12/21] END max_depth=16, n_estimators=121;, score=-25.049 total time=   1.6s\n",
      "[CV 3/3; 12/21] START max_depth=16, n_estimators=121............................\n",
      "[CV 3/3; 12/21] END max_depth=16, n_estimators=121;, score=-32.351 total time=   1.5s\n",
      "[CV 1/3; 13/21] START max_depth=16, n_estimators=151............................\n",
      "[CV 1/3; 13/21] END max_depth=16, n_estimators=151;, score=-24.366 total time=   1.6s\n",
      "[CV 2/3; 13/21] START max_depth=16, n_estimators=151............................\n",
      "[CV 2/3; 13/21] END max_depth=16, n_estimators=151;, score=-25.094 total time=   1.7s\n",
      "[CV 3/3; 13/21] START max_depth=16, n_estimators=151............................\n",
      "[CV 3/3; 13/21] END max_depth=16, n_estimators=151;, score=-32.481 total time=   2.0s\n",
      "[CV 1/3; 14/21] START max_depth=16, n_estimators=181............................\n",
      "[CV 1/3; 14/21] END max_depth=16, n_estimators=181;, score=-24.404 total time=   1.8s\n",
      "[CV 2/3; 14/21] START max_depth=16, n_estimators=181............................\n",
      "[CV 2/3; 14/21] END max_depth=16, n_estimators=181;, score=-25.141 total time=   2.0s\n",
      "[CV 3/3; 14/21] START max_depth=16, n_estimators=181............................\n",
      "[CV 3/3; 14/21] END max_depth=16, n_estimators=181;, score=-32.513 total time=   2.4s\n",
      "[CV 1/3; 15/21] START max_depth=31, n_estimators=1..............................\n",
      "[CV 1/3; 15/21] END max_depth=31, n_estimators=1;, score=-34.254 total time=   0.0s\n",
      "[CV 2/3; 15/21] START max_depth=31, n_estimators=1..............................\n",
      "[CV 2/3; 15/21] END max_depth=31, n_estimators=1;, score=-37.253 total time=   0.1s\n",
      "[CV 3/3; 15/21] START max_depth=31, n_estimators=1..............................\n",
      "[CV 3/3; 15/21] END max_depth=31, n_estimators=1;, score=-51.009 total time=   0.2s\n",
      "[CV 1/3; 16/21] START max_depth=31, n_estimators=31.............................\n",
      "[CV 1/3; 16/21] END max_depth=31, n_estimators=31;, score=-24.017 total time=   0.4s\n",
      "[CV 2/3; 16/21] START max_depth=31, n_estimators=31.............................\n",
      "[CV 2/3; 16/21] END max_depth=31, n_estimators=31;, score=-25.085 total time=   0.5s\n",
      "[CV 3/3; 16/21] START max_depth=31, n_estimators=31.............................\n",
      "[CV 3/3; 16/21] END max_depth=31, n_estimators=31;, score=-33.741 total time=   0.6s\n",
      "[CV 1/3; 17/21] START max_depth=31, n_estimators=61.............................\n",
      "[CV 1/3; 17/21] END max_depth=31, n_estimators=61;, score=-23.988 total time=   0.7s\n",
      "[CV 2/3; 17/21] START max_depth=31, n_estimators=61.............................\n"
     ]
    },
    {
     "name": "stdout",
     "output_type": "stream",
     "text": [
      "[CV 2/3; 17/21] END max_depth=31, n_estimators=61;, score=-25.005 total time=   0.8s\n",
      "[CV 3/3; 17/21] START max_depth=31, n_estimators=61.............................\n",
      "[CV 3/3; 17/21] END max_depth=31, n_estimators=61;, score=-32.497 total time=   1.0s\n",
      "[CV 1/3; 18/21] START max_depth=31, n_estimators=91.............................\n",
      "[CV 1/3; 18/21] END max_depth=31, n_estimators=91;, score=-24.042 total time=   1.1s\n",
      "[CV 2/3; 18/21] START max_depth=31, n_estimators=91.............................\n",
      "[CV 2/3; 18/21] END max_depth=31, n_estimators=91;, score=-24.966 total time=   1.2s\n",
      "[CV 3/3; 18/21] START max_depth=31, n_estimators=91.............................\n",
      "[CV 3/3; 18/21] END max_depth=31, n_estimators=91;, score=-32.175 total time=   1.3s\n",
      "[CV 1/3; 19/21] START max_depth=31, n_estimators=121............................\n",
      "[CV 1/3; 19/21] END max_depth=31, n_estimators=121;, score=-24.151 total time=   1.5s\n",
      "[CV 2/3; 19/21] START max_depth=31, n_estimators=121............................\n",
      "[CV 2/3; 19/21] END max_depth=31, n_estimators=121;, score=-25.048 total time=   1.9s\n",
      "[CV 3/3; 19/21] START max_depth=31, n_estimators=121............................\n",
      "[CV 3/3; 19/21] END max_depth=31, n_estimators=121;, score=-32.265 total time=   1.7s\n",
      "[CV 1/3; 20/21] START max_depth=31, n_estimators=151............................\n",
      "[CV 1/3; 20/21] END max_depth=31, n_estimators=151;, score=-24.221 total time=   1.8s\n",
      "[CV 2/3; 20/21] START max_depth=31, n_estimators=151............................\n",
      "[CV 2/3; 20/21] END max_depth=31, n_estimators=151;, score=-25.066 total time=   1.8s\n",
      "[CV 3/3; 20/21] START max_depth=31, n_estimators=151............................\n",
      "[CV 3/3; 20/21] END max_depth=31, n_estimators=151;, score=-32.166 total time=   2.0s\n",
      "[CV 1/3; 21/21] START max_depth=31, n_estimators=181............................\n",
      "[CV 1/3; 21/21] END max_depth=31, n_estimators=181;, score=-24.319 total time=   1.8s\n",
      "[CV 2/3; 21/21] START max_depth=31, n_estimators=181............................\n",
      "[CV 2/3; 21/21] END max_depth=31, n_estimators=181;, score=-25.085 total time=   2.1s\n",
      "[CV 3/3; 21/21] START max_depth=31, n_estimators=181............................\n",
      "[CV 3/3; 21/21] END max_depth=31, n_estimators=181;, score=-32.123 total time=   2.8s\n"
     ]
    },
    {
     "data": {
      "text/plain": [
       "{'max_depth': 31, 'n_estimators': 91}"
      ]
     },
     "execution_count": 11,
     "metadata": {},
     "output_type": "execute_result"
    }
   ],
   "source": [
    "# Подберем параметры для градиентного бустинга\n",
    "LGBM = LGBMRegressor(random_state=12345)\n",
    "params = {'max_depth':list(range(1,32,15)), \n",
    "         'n_estimators': list(range(1,201,30))}\n",
    "LGBM = GridSearchCV(LGBM, params, scoring='neg_root_mean_squared_error', cv=tscv, verbose=48, n_jobs=-1)\n",
    "LGBM.fit(features_train, target_train)\n",
    "LGBM.best_params_"
   ]
  },
  {
   "cell_type": "markdown",
   "metadata": {},
   "source": [
    "## Тестирование"
   ]
  },
  {
   "cell_type": "code",
   "execution_count": 12,
   "metadata": {},
   "outputs": [
    {
     "data": {
      "text/html": [
       "<div>\n",
       "<style scoped>\n",
       "    .dataframe tbody tr th:only-of-type {\n",
       "        vertical-align: middle;\n",
       "    }\n",
       "\n",
       "    .dataframe tbody tr th {\n",
       "        vertical-align: top;\n",
       "    }\n",
       "\n",
       "    .dataframe thead th {\n",
       "        text-align: right;\n",
       "    }\n",
       "</style>\n",
       "<table border=\"1\" class=\"dataframe\">\n",
       "  <thead>\n",
       "    <tr style=\"text-align: right;\">\n",
       "      <th></th>\n",
       "      <th>Линейная регрессия</th>\n",
       "      <th>Дерево решений</th>\n",
       "      <th>Случайный лес</th>\n",
       "      <th>Градиентный бустинг</th>\n",
       "      <th>Dummy модель</th>\n",
       "    </tr>\n",
       "  </thead>\n",
       "  <tbody>\n",
       "    <tr>\n",
       "      <td>RMSE на тренировочной выборке</td>\n",
       "      <td>25.818602</td>\n",
       "      <td>23.518286</td>\n",
       "      <td>8.621292</td>\n",
       "      <td>12.974374</td>\n",
       "      <td>38.682894</td>\n",
       "    </tr>\n",
       "    <tr>\n",
       "      <td>RMSE на тестовой выборке</td>\n",
       "      <td>45.529337</td>\n",
       "      <td>59.160287</td>\n",
       "      <td>42.760312</td>\n",
       "      <td>42.457885</td>\n",
       "      <td>84.649938</td>\n",
       "    </tr>\n",
       "  </tbody>\n",
       "</table>\n",
       "</div>"
      ],
      "text/plain": [
       "                               Линейная регрессия  Дерево решений  \\\n",
       "RMSE на тренировочной выборке           25.818602       23.518286   \n",
       "RMSE на тестовой выборке                45.529337       59.160287   \n",
       "\n",
       "                               Случайный лес  Градиентный бустинг  \\\n",
       "RMSE на тренировочной выборке       8.621292            12.974374   \n",
       "RMSE на тестовой выборке           42.760312            42.457885   \n",
       "\n",
       "                               Dummy модель  \n",
       "RMSE на тренировочной выборке     38.682894  \n",
       "RMSE на тестовой выборке          84.649938  "
      ]
     },
     "metadata": {},
     "output_type": "display_data"
    }
   ],
   "source": [
    "# Создадим различные модели с оптимальными параметрами, полученными в предыдущем пункте\n",
    "LR = LinearRegression()\n",
    "DTR = DecisionTreeRegressor(random_state=12345, max_depth=DTR.best_params_['max_depth'])\n",
    "RFR = RandomForestRegressor(random_state=12345, max_depth=RFR.best_params_['max_depth'], n_estimators=RFR.best_params_['n_estimators'])\n",
    "LGBM = LGBMRegressor(random_state=12345, max_depth=LGBM.best_params_['max_depth'], n_estimators=LGBM.best_params_['n_estimators'])\n",
    "DR = DummyRegressor(strategy='mean')\n",
    "# Создадим списки, содержащие значения метрики\n",
    "train_rmse = []\n",
    "test_rmse = []\n",
    "predictions = []\n",
    "models = [LR, DTR, RFR, LGBM, DR]\n",
    "# Обучим модели и оценим качество предсказаний\n",
    "for model in models:\n",
    "    model.fit(features_train, target_train)\n",
    "    pred_test = model.predict(features_test)\n",
    "    pred_train = model.predict(features_train)\n",
    "    predictions.append(pred_test)\n",
    "    train_rmse.append(mean_squared_error(target_train, pred_train, squared=False))\n",
    "    test_rmse.append(mean_squared_error(target_test, pred_test, squared=False))\n",
    "    \n",
    "# Создадим датафрейм с результатами\n",
    "df = pd.DataFrame(\n",
    "    [train_rmse,test_rmse], \n",
    "    columns=['Линейная регрессия', \"Дерево решений\", \"Случайный лес\", \"Градиентный бустинг\", 'Dummy модель'], \n",
    "    index=['RMSE на тренировочной выборке','RMSE на тестовой выборке' ])\n",
    "display(df.head())"
   ]
  },
  {
   "cell_type": "code",
   "execution_count": 14,
   "metadata": {},
   "outputs": [
    {
     "data": {
      "text/plain": [
       "<matplotlib.legend.Legend at 0x7f15e9a67810>"
      ]
     },
     "execution_count": 14,
     "metadata": {},
     "output_type": "execute_result"
    },
    {
     "data": {
      "image/png": "[encoded data removed]",
      "text/plain": [
       "<Figure size 1152x576 with 1 Axes>"
      ]
     },
     "metadata": {
      "needs_background": "light"
     },
     "output_type": "display_data"
    }
   ],
   "source": [
    "# Графически сравним предсказания с исходным рядом\n",
    "plt.figure(figsize=(16,8))\n",
    "pd.Series(predictions[3], index=target_test.index).plot(label='Градиентный бустинг')\n",
    "target_test.plot(label='Исходные значения')\n",
    "plt.legend()"
   ]
  },
  {
   "cell_type": "markdown",
   "metadata": {},
   "source": [
    "## Выводы"
   ]
  },
  {
   "cell_type": "markdown",
   "metadata": {},
   "source": [
    "В рамках данного проекта были обучены несколько моделей и получены следующие результаты:\n",
    "\n",
    "- Зависимость спроса на такси имела возрастающий тренд и однодневную сезонность.\n",
    "- Исходный временной ряд был нестационарным, имел возрастающее среднее. \n",
    "- Были обучены 4 модели и сравнены с dummy моделью, которая выдавала значение RMSE=58,9. Все модели были лучше модели-болванки.\n",
    "- Каждая из моделей переобучилась на тренировочной выборке. Наибольшее отклонение в значениях метрики на тестовой и тренировочной выборках были замечены у случайного леса и градиентного бустинга. \n",
    "- Дерево решений не смогло побить требуемое значение метрики\n",
    "- Лучше всех на тестовой выборке себя проявили модели случайного леса бустинга с близкими значениями метрики равной 43. По графику видно, что градиентный бустинг зачастую предсказывал значения ниже реальных, особенно это видно для выбросов с большим количество заказов\n",
    "\n",
    "С точки зрения качетсва побеждает градиентный бустинг. Однако, если важна скорость обучения и степень переобучения, а точностью предсказаний можно немного пренебречь, то стоит выбрать модель линейной регрессии."
   ]
  }
 ],
 "metadata": {
  "ExecuteTimeLog": [
   {
    "duration": 348,
    "start_time": "2021-12-09T18:11:56.542Z"
   },
   {
    "duration": 1072,
    "start_time": "2021-12-09T18:11:58.341Z"
   },
   {
    "duration": 50,
    "start_time": "2021-12-09T18:11:59.417Z"
   },
   {
    "duration": 51,
    "start_time": "2021-12-09T18:12:04.968Z"
   },
   {
    "duration": 323,
    "start_time": "2021-12-09T18:12:29.542Z"
   },
   {
    "duration": 51,
    "start_time": "2021-12-09T18:12:53.563Z"
   },
   {
    "duration": 48,
    "start_time": "2021-12-09T18:12:58.855Z"
   },
   {
    "duration": 48,
    "start_time": "2021-12-09T18:13:42.996Z"
   },
   {
    "duration": 319,
    "start_time": "2021-12-09T18:13:45.912Z"
   },
   {
    "duration": 73,
    "start_time": "2021-12-09T18:13:49.019Z"
   },
   {
    "duration": 86,
    "start_time": "2021-12-09T18:13:52.898Z"
   },
   {
    "duration": 1664,
    "start_time": "2021-12-09T18:14:02.485Z"
   },
   {
    "duration": 1307,
    "start_time": "2021-12-09T18:14:21.863Z"
   },
   {
    "duration": 86,
    "start_time": "2021-12-09T18:14:26.996Z"
   },
   {
    "duration": 81,
    "start_time": "2021-12-09T18:14:31.335Z"
   },
   {
    "duration": 25355,
    "start_time": "2021-12-09T18:14:31.591Z"
   },
   {
    "duration": 643,
    "start_time": "2021-12-09T18:15:07.876Z"
   },
   {
    "duration": 644,
    "start_time": "2021-12-09T18:15:07.877Z"
   },
   {
    "duration": 51,
    "start_time": "2021-12-09T18:15:10.803Z"
   },
   {
    "duration": 466,
    "start_time": "2021-12-09T18:15:11.042Z"
   },
   {
    "duration": 14,
    "start_time": "2021-12-09T18:15:17.143Z"
   },
   {
    "duration": 748,
    "start_time": "2021-12-09T18:15:48.572Z"
   },
   {
    "duration": 478,
    "start_time": "2021-12-09T18:15:59.612Z"
   },
   {
    "duration": 697,
    "start_time": "2021-12-10T17:48:00.770Z"
   },
   {
    "duration": 45,
    "start_time": "2021-12-10T17:48:01.470Z"
   },
   {
    "duration": 362,
    "start_time": "2021-12-10T17:48:01.517Z"
   },
   {
    "duration": 2,
    "start_time": "2021-12-10T17:48:40.808Z"
   },
   {
    "duration": 59,
    "start_time": "2021-12-10T17:48:41.036Z"
   },
   {
    "duration": 332,
    "start_time": "2021-12-10T17:48:41.324Z"
   },
   {
    "duration": 8,
    "start_time": "2021-12-10T17:48:51.975Z"
   },
   {
    "duration": 47,
    "start_time": "2021-12-10T17:49:04.855Z"
   },
   {
    "duration": 45,
    "start_time": "2021-12-10T17:49:21.082Z"
   },
   {
    "duration": 398,
    "start_time": "2021-12-10T17:51:55.914Z"
   },
   {
    "duration": 712,
    "start_time": "2021-12-10T17:52:58.576Z"
   },
   {
    "duration": 2,
    "start_time": "2021-12-10T17:53:12.757Z"
   },
   {
    "duration": 333,
    "start_time": "2021-12-10T17:53:13.012Z"
   },
   {
    "duration": 747,
    "start_time": "2021-12-10T17:53:35.589Z"
   },
   {
    "duration": 359,
    "start_time": "2021-12-10T17:53:54.386Z"
   },
   {
    "duration": 672,
    "start_time": "2021-12-10T17:54:01.506Z"
   },
   {
    "duration": 44,
    "start_time": "2021-12-10T17:54:34.554Z"
   },
   {
    "duration": 465,
    "start_time": "2021-12-10T17:55:05.077Z"
   },
   {
    "duration": 50,
    "start_time": "2021-12-10T17:55:36.822Z"
   },
   {
    "duration": 429,
    "start_time": "2021-12-10T17:56:29.894Z"
   },
   {
    "duration": 566,
    "start_time": "2021-12-10T17:56:55.584Z"
   },
   {
    "duration": 440,
    "start_time": "2021-12-10T17:57:01.203Z"
   },
   {
    "duration": 8,
    "start_time": "2021-12-10T17:57:06.052Z"
   },
   {
    "duration": 510,
    "start_time": "2021-12-10T17:57:18.950Z"
   },
   {
    "duration": 398,
    "start_time": "2021-12-10T20:44:51.655Z"
   },
   {
    "duration": 405,
    "start_time": "2021-12-10T20:44:59.601Z"
   },
   {
    "duration": 7,
    "start_time": "2021-12-10T20:45:03.145Z"
   },
   {
    "duration": 7,
    "start_time": "2021-12-10T20:45:17.848Z"
   },
   {
    "duration": 262,
    "start_time": "2021-12-10T20:45:25.026Z"
   },
   {
    "duration": 707,
    "start_time": "2021-12-10T20:46:01.995Z"
   },
   {
    "duration": 603,
    "start_time": "2021-12-10T20:46:28.126Z"
   },
   {
    "duration": 514,
    "start_time": "2021-12-10T20:46:46.892Z"
   },
   {
    "duration": 472,
    "start_time": "2021-12-10T20:47:09.062Z"
   },
   {
    "duration": 338,
    "start_time": "2021-12-10T20:47:46.817Z"
   },
   {
    "duration": 371,
    "start_time": "2021-12-10T20:47:53.908Z"
   },
   {
    "duration": 544,
    "start_time": "2021-12-10T20:48:01.838Z"
   },
   {
    "duration": 617,
    "start_time": "2021-12-10T20:48:11.294Z"
   },
   {
    "duration": 4,
    "start_time": "2021-12-10T20:49:21.257Z"
   },
   {
    "duration": 58,
    "start_time": "2021-12-10T20:49:21.263Z"
   },
   {
    "duration": 485,
    "start_time": "2021-12-10T20:49:21.324Z"
   },
   {
    "duration": 514,
    "start_time": "2021-12-10T20:49:23.494Z"
   },
   {
    "duration": 733,
    "start_time": "2021-12-10T20:50:48.249Z"
   },
   {
    "duration": 628,
    "start_time": "2021-12-10T20:51:17.472Z"
   },
   {
    "duration": 531,
    "start_time": "2021-12-10T20:51:25.514Z"
   },
   {
    "duration": 550,
    "start_time": "2021-12-10T20:51:42.999Z"
   },
   {
    "duration": 871,
    "start_time": "2021-12-10T20:52:03.101Z"
   },
   {
    "duration": 964,
    "start_time": "2021-12-10T20:52:10.924Z"
   },
   {
    "duration": 277,
    "start_time": "2021-12-10T20:52:18.456Z"
   },
   {
    "duration": 553,
    "start_time": "2021-12-10T20:52:25.213Z"
   },
   {
    "duration": 5,
    "start_time": "2021-12-10T20:53:04.056Z"
   },
   {
    "duration": 10,
    "start_time": "2021-12-10T20:53:11.402Z"
   },
   {
    "duration": 285,
    "start_time": "2021-12-10T20:53:23.192Z"
   },
   {
    "duration": 365,
    "start_time": "2021-12-10T20:53:46.806Z"
   },
   {
    "duration": 321,
    "start_time": "2021-12-10T20:53:55.776Z"
   },
   {
    "duration": 3,
    "start_time": "2021-12-10T20:54:06.832Z"
   },
   {
    "duration": 54,
    "start_time": "2021-12-10T20:54:06.837Z"
   },
   {
    "duration": 653,
    "start_time": "2021-12-10T20:54:06.893Z"
   },
   {
    "duration": 457,
    "start_time": "2021-12-10T20:54:08.795Z"
   },
   {
    "duration": 438,
    "start_time": "2021-12-10T20:54:19.926Z"
   },
   {
    "duration": 581,
    "start_time": "2021-12-10T20:54:36.504Z"
   },
   {
    "duration": 426,
    "start_time": "2021-12-10T20:54:41.897Z"
   },
   {
    "duration": 441,
    "start_time": "2021-12-10T20:54:45.823Z"
   },
   {
    "duration": 720,
    "start_time": "2021-12-10T20:55:13.369Z"
   },
   {
    "duration": 606,
    "start_time": "2021-12-10T20:55:25.687Z"
   },
   {
    "duration": 686,
    "start_time": "2021-12-10T20:55:35.136Z"
   },
   {
    "duration": 1055,
    "start_time": "2021-12-10T20:56:00.929Z"
   },
   {
    "duration": 115,
    "start_time": "2021-12-10T20:56:13.904Z"
   },
   {
    "duration": 720,
    "start_time": "2021-12-10T20:56:23.578Z"
   },
   {
    "duration": 734,
    "start_time": "2021-12-10T20:56:33.042Z"
   },
   {
    "duration": 1172,
    "start_time": "2021-12-10T20:56:59.871Z"
   },
   {
    "duration": 998,
    "start_time": "2021-12-10T20:57:30.180Z"
   },
   {
    "duration": 287,
    "start_time": "2021-12-10T20:58:37.414Z"
   },
   {
    "duration": 301,
    "start_time": "2021-12-10T20:58:54.271Z"
   },
   {
    "duration": 512,
    "start_time": "2021-12-10T20:59:19.802Z"
   },
   {
    "duration": 330,
    "start_time": "2021-12-10T20:59:30.095Z"
   },
   {
    "duration": 336,
    "start_time": "2021-12-10T20:59:38.713Z"
   },
   {
    "duration": 294,
    "start_time": "2021-12-10T20:59:44.014Z"
   },
   {
    "duration": 299,
    "start_time": "2021-12-10T20:59:53.534Z"
   },
   {
    "duration": 392,
    "start_time": "2021-12-10T21:00:33.839Z"
   },
   {
    "duration": 406,
    "start_time": "2021-12-10T21:00:41.095Z"
   },
   {
    "duration": 979,
    "start_time": "2021-12-10T21:00:57.008Z"
   },
   {
    "duration": 455,
    "start_time": "2021-12-11T08:39:05.355Z"
   },
   {
    "duration": 1354,
    "start_time": "2021-12-11T08:39:07.693Z"
   },
   {
    "duration": 726,
    "start_time": "2021-12-11T08:39:09.050Z"
   },
   {
    "duration": 843,
    "start_time": "2021-12-11T08:39:24.349Z"
   },
   {
    "duration": 60,
    "start_time": "2021-12-11T08:39:46.823Z"
   },
   {
    "duration": 558,
    "start_time": "2021-12-11T08:40:09.955Z"
   },
   {
    "duration": 1811,
    "start_time": "2021-12-11T08:40:29.589Z"
   },
   {
    "duration": 842,
    "start_time": "2021-12-11T08:41:07.947Z"
   },
   {
    "duration": 757,
    "start_time": "2021-12-11T08:41:31.791Z"
   },
   {
    "duration": 762,
    "start_time": "2021-12-11T08:41:42.224Z"
   },
   {
    "duration": 760,
    "start_time": "2021-12-11T08:41:48.732Z"
   },
   {
    "duration": 2313,
    "start_time": "2021-12-11T08:59:50.781Z"
   },
   {
    "duration": 2934,
    "start_time": "2021-12-11T09:00:18.611Z"
   },
   {
    "duration": 6,
    "start_time": "2021-12-11T11:00:43.390Z"
   },
   {
    "duration": 13,
    "start_time": "2021-12-11T11:00:48.933Z"
   },
   {
    "duration": 10,
    "start_time": "2021-12-11T11:01:02.250Z"
   },
   {
    "duration": 4,
    "start_time": "2021-12-11T11:01:12.978Z"
   },
   {
    "duration": 59,
    "start_time": "2021-12-11T11:01:12.985Z"
   },
   {
    "duration": 2996,
    "start_time": "2021-12-11T11:01:13.048Z"
   },
   {
    "duration": 21,
    "start_time": "2021-12-11T11:01:16.047Z"
   },
   {
    "duration": 9,
    "start_time": "2021-12-11T11:01:16.071Z"
   },
   {
    "duration": 10,
    "start_time": "2021-12-11T11:01:33.223Z"
   },
   {
    "duration": 62,
    "start_time": "2021-12-11T11:02:35.573Z"
   },
   {
    "duration": 4,
    "start_time": "2021-12-11T11:02:48.993Z"
   },
   {
    "duration": 71,
    "start_time": "2021-12-11T11:02:50.046Z"
   },
   {
    "duration": 8,
    "start_time": "2021-12-11T11:02:57.075Z"
   },
   {
    "duration": 9,
    "start_time": "2021-12-11T11:03:07.079Z"
   },
   {
    "duration": 8,
    "start_time": "2021-12-11T11:03:56.204Z"
   },
   {
    "duration": 9,
    "start_time": "2021-12-11T11:04:01.703Z"
   },
   {
    "duration": 60,
    "start_time": "2021-12-11T11:04:21.091Z"
   },
   {
    "duration": 3278,
    "start_time": "2021-12-11T11:04:24.087Z"
   },
   {
    "duration": 13,
    "start_time": "2021-12-11T11:04:27.368Z"
   },
   {
    "duration": 12,
    "start_time": "2021-12-11T11:04:27.385Z"
   },
   {
    "duration": 6,
    "start_time": "2021-12-11T11:04:27.399Z"
   },
   {
    "duration": 9,
    "start_time": "2021-12-11T11:06:47.056Z"
   },
   {
    "duration": 1891,
    "start_time": "2021-12-11T11:06:57.053Z"
   },
   {
    "duration": 4,
    "start_time": "2021-12-11T11:07:07.388Z"
   },
   {
    "duration": 62,
    "start_time": "2021-12-11T11:07:07.583Z"
   },
   {
    "duration": 4,
    "start_time": "2021-12-11T11:07:07.870Z"
   },
   {
    "duration": 9,
    "start_time": "2021-12-11T11:07:08.217Z"
   },
   {
    "duration": 2905,
    "start_time": "2021-12-11T11:07:08.687Z"
   },
   {
    "duration": 105,
    "start_time": "2021-12-11T11:07:29.182Z"
   },
   {
    "duration": 2986,
    "start_time": "2021-12-11T11:07:36.727Z"
   },
   {
    "duration": 385,
    "start_time": "2021-12-11T11:08:09.852Z"
   },
   {
    "duration": 1845,
    "start_time": "2021-12-11T11:08:15.014Z"
   },
   {
    "duration": 1518,
    "start_time": "2021-12-11T11:08:18.078Z"
   },
   {
    "duration": 3,
    "start_time": "2021-12-11T11:08:30.898Z"
   },
   {
    "duration": 84,
    "start_time": "2021-12-11T11:08:31.050Z"
   },
   {
    "duration": 3045,
    "start_time": "2021-12-11T11:08:31.692Z"
   },
   {
    "duration": 2234,
    "start_time": "2021-12-11T11:08:34.740Z"
   },
   {
    "duration": 1490,
    "start_time": "2021-12-11T11:10:11.732Z"
   },
   {
    "duration": 1418,
    "start_time": "2021-12-11T11:10:26.631Z"
   },
   {
    "duration": 75,
    "start_time": "2021-12-11T11:10:28.052Z"
   },
   {
    "duration": 3028,
    "start_time": "2021-12-11T11:10:28.131Z"
   },
   {
    "duration": 2924,
    "start_time": "2021-12-11T11:10:31.161Z"
   },
   {
    "duration": 6,
    "start_time": "2021-12-11T11:10:34.087Z"
   },
   {
    "duration": 3001,
    "start_time": "2021-12-11T11:11:11.381Z"
   },
   {
    "duration": 3360,
    "start_time": "2021-12-11T11:11:21.453Z"
   },
   {
    "duration": 13,
    "start_time": "2021-12-11T11:11:31.976Z"
   },
   {
    "duration": 11,
    "start_time": "2021-12-11T11:11:43.925Z"
   },
   {
    "duration": 5,
    "start_time": "2021-12-11T11:12:01.949Z"
   },
   {
    "duration": 6,
    "start_time": "2021-12-11T11:12:06.561Z"
   },
   {
    "duration": 3089,
    "start_time": "2021-12-11T11:12:45.082Z"
   },
   {
    "duration": 2948,
    "start_time": "2021-12-11T11:13:02.698Z"
   },
   {
    "duration": 3191,
    "start_time": "2021-12-11T11:13:20.755Z"
   },
   {
    "duration": 2938,
    "start_time": "2021-12-11T11:13:27.668Z"
   },
   {
    "duration": 3294,
    "start_time": "2021-12-11T11:13:53.791Z"
   },
   {
    "duration": 3072,
    "start_time": "2021-12-11T11:14:01.824Z"
   },
   {
    "duration": 3106,
    "start_time": "2021-12-11T11:14:14.972Z"
   },
   {
    "duration": 3127,
    "start_time": "2021-12-11T11:14:23.142Z"
   },
   {
    "duration": 3174,
    "start_time": "2021-12-11T11:14:28.880Z"
   },
   {
    "duration": 1392,
    "start_time": "2021-12-11T11:14:48.008Z"
   },
   {
    "duration": 68,
    "start_time": "2021-12-11T11:14:49.403Z"
   },
   {
    "duration": 3050,
    "start_time": "2021-12-11T11:14:49.474Z"
   },
   {
    "duration": 3045,
    "start_time": "2021-12-11T11:14:52.527Z"
   },
   {
    "duration": 5,
    "start_time": "2021-12-11T11:14:55.575Z"
   },
   {
    "duration": 13,
    "start_time": "2021-12-11T11:23:17.125Z"
   },
   {
    "duration": 15,
    "start_time": "2021-12-11T11:24:16.569Z"
   },
   {
    "duration": 13,
    "start_time": "2021-12-11T11:24:37.625Z"
   },
   {
    "duration": 13254,
    "start_time": "2021-12-11T11:28:36.617Z"
   },
   {
    "duration": 87,
    "start_time": "2021-12-11T11:29:33.143Z"
   },
   {
    "duration": 11574,
    "start_time": "2021-12-11T11:33:37.245Z"
   },
   {
    "duration": 6,
    "start_time": "2021-12-11T11:34:16.034Z"
   },
   {
    "duration": 60,
    "start_time": "2021-12-11T11:34:16.854Z"
   },
   {
    "duration": 59,
    "start_time": "2021-12-11T11:34:27.092Z"
   },
   {
    "duration": 44,
    "start_time": "2021-12-11T11:36:13.373Z"
   },
   {
    "duration": 32,
    "start_time": "2021-12-11T11:38:36.413Z"
   },
   {
    "duration": 39,
    "start_time": "2021-12-11T11:38:43.745Z"
   },
   {
    "duration": 49,
    "start_time": "2021-12-11T11:38:49.143Z"
   },
   {
    "duration": 53,
    "start_time": "2021-12-11T11:39:25.632Z"
   },
   {
    "duration": 6,
    "start_time": "2021-12-11T11:39:43.995Z"
   },
   {
    "duration": 424,
    "start_time": "2021-12-11T11:58:14.568Z"
   },
   {
    "duration": 109,
    "start_time": "2021-12-11T11:58:33.740Z"
   },
   {
    "duration": 1486,
    "start_time": "2021-12-11T11:58:38.047Z"
   },
   {
    "duration": 59128,
    "start_time": "2021-12-11T11:59:22.657Z"
   },
   {
    "duration": 258178,
    "start_time": "2021-12-11T12:00:21.788Z"
   },
   {
    "duration": 71,
    "start_time": "2021-12-11T12:04:40.096Z"
   },
   {
    "duration": 222,
    "start_time": "2021-12-11T12:07:07.553Z"
   },
   {
    "duration": 75,
    "start_time": "2021-12-11T12:07:15.584Z"
   },
   {
    "duration": 7,
    "start_time": "2021-12-11T12:07:28.027Z"
   },
   {
    "duration": 211,
    "start_time": "2021-12-11T12:08:23.349Z"
   },
   {
    "duration": 6,
    "start_time": "2021-12-11T12:08:36.516Z"
   },
   {
    "duration": 4250,
    "start_time": "2021-12-11T12:10:02.254Z"
   },
   {
    "duration": 1471,
    "start_time": "2021-12-11T12:10:06.507Z"
   },
   {
    "duration": 73,
    "start_time": "2021-12-11T12:10:07.986Z"
   },
   {
    "duration": 3111,
    "start_time": "2021-12-11T12:10:08.061Z"
   },
   {
    "duration": 17,
    "start_time": "2021-12-11T12:10:11.175Z"
   },
   {
    "duration": 710,
    "start_time": "2021-12-11T12:10:11.195Z"
   },
   {
    "duration": 1910,
    "start_time": "2021-12-11T12:10:09.998Z"
   },
   {
    "duration": 1908,
    "start_time": "2021-12-11T12:10:10.002Z"
   },
   {
    "duration": 1909,
    "start_time": "2021-12-11T12:10:10.003Z"
   },
   {
    "duration": 1908,
    "start_time": "2021-12-11T12:10:10.005Z"
   },
   {
    "duration": 1907,
    "start_time": "2021-12-11T12:10:10.008Z"
   },
   {
    "duration": 1906,
    "start_time": "2021-12-11T12:10:10.010Z"
   },
   {
    "duration": 1906,
    "start_time": "2021-12-11T12:10:10.012Z"
   },
   {
    "duration": 1904,
    "start_time": "2021-12-11T12:10:10.015Z"
   },
   {
    "duration": 6,
    "start_time": "2021-12-11T12:15:35.943Z"
   },
   {
    "duration": 73,
    "start_time": "2021-12-11T12:15:36.424Z"
   },
   {
    "duration": 1303,
    "start_time": "2021-12-11T12:15:36.756Z"
   },
   {
    "duration": 20773,
    "start_time": "2021-12-11T12:15:38.062Z"
   },
   {
    "duration": 1878,
    "start_time": "2021-12-11T12:15:56.962Z"
   },
   {
    "duration": 1880,
    "start_time": "2021-12-11T12:15:56.963Z"
   },
   {
    "duration": 1881,
    "start_time": "2021-12-11T12:15:56.964Z"
   },
   {
    "duration": 1882,
    "start_time": "2021-12-11T12:15:56.965Z"
   },
   {
    "duration": 4092,
    "start_time": "2021-12-11T12:16:07.476Z"
   },
   {
    "duration": 1545,
    "start_time": "2021-12-11T12:16:11.571Z"
   },
   {
    "duration": 69,
    "start_time": "2021-12-11T12:16:13.120Z"
   },
   {
    "duration": 3033,
    "start_time": "2021-12-11T12:16:13.192Z"
   },
   {
    "duration": 3,
    "start_time": "2021-12-11T12:16:16.228Z"
   },
   {
    "duration": 5,
    "start_time": "2021-12-11T12:16:16.234Z"
   },
   {
    "duration": 7,
    "start_time": "2021-12-11T12:16:16.261Z"
   },
   {
    "duration": 95,
    "start_time": "2021-12-11T12:16:16.271Z"
   },
   {
    "duration": 1466,
    "start_time": "2021-12-11T12:16:16.369Z"
   },
   {
    "duration": 61056,
    "start_time": "2021-12-11T12:16:17.838Z"
   },
   {
    "duration": 46468,
    "start_time": "2021-12-11T12:17:18.897Z"
   },
   {
    "duration": 7,
    "start_time": "2021-12-11T12:18:05.368Z"
   },
   {
    "duration": 183,
    "start_time": "2021-12-11T12:18:05.377Z"
   },
   {
    "duration": 96,
    "start_time": "2021-12-11T12:18:05.564Z"
   },
   {
    "duration": 212,
    "start_time": "2021-12-11T12:18:48.654Z"
   },
   {
    "duration": 6,
    "start_time": "2021-12-11T12:18:48.948Z"
   },
   {
    "duration": 3326,
    "start_time": "2021-12-11T12:19:05.211Z"
   },
   {
    "duration": 4419,
    "start_time": "2021-12-11T12:19:18.617Z"
   },
   {
    "duration": 1532,
    "start_time": "2021-12-11T12:19:23.039Z"
   },
   {
    "duration": 71,
    "start_time": "2021-12-11T12:19:24.574Z"
   },
   {
    "duration": 3053,
    "start_time": "2021-12-11T12:19:24.648Z"
   },
   {
    "duration": 2991,
    "start_time": "2021-12-11T12:19:27.704Z"
   },
   {
    "duration": 4,
    "start_time": "2021-12-11T12:19:30.698Z"
   },
   {
    "duration": 9,
    "start_time": "2021-12-11T12:19:30.704Z"
   },
   {
    "duration": 109,
    "start_time": "2021-12-11T12:19:30.717Z"
   },
   {
    "duration": 1648,
    "start_time": "2021-12-11T12:19:30.829Z"
   },
   {
    "duration": 64230,
    "start_time": "2021-12-11T12:19:32.480Z"
   },
   {
    "duration": 140351,
    "start_time": "2021-12-11T12:20:36.713Z"
   },
   {
    "duration": 8,
    "start_time": "2021-12-11T12:22:57.066Z"
   },
   {
    "duration": 198,
    "start_time": "2021-12-11T12:22:57.076Z"
   },
   {
    "duration": 86,
    "start_time": "2021-12-11T12:22:57.277Z"
   },
   {
    "duration": 8,
    "start_time": "2021-12-11T12:23:41.333Z"
   },
   {
    "duration": 11,
    "start_time": "2021-12-11T12:23:47.279Z"
   },
   {
    "duration": 8,
    "start_time": "2021-12-11T12:24:14.771Z"
   },
   {
    "duration": 14,
    "start_time": "2021-12-11T12:24:26.060Z"
   },
   {
    "duration": 565,
    "start_time": "2021-12-11T12:25:21.846Z"
   },
   {
    "duration": 8,
    "start_time": "2021-12-11T12:25:37.810Z"
   },
   {
    "duration": 550,
    "start_time": "2021-12-11T12:26:11.157Z"
   },
   {
    "duration": 335,
    "start_time": "2021-12-11T12:26:25.179Z"
   },
   {
    "duration": 47,
    "start_time": "2021-12-11T12:26:29.057Z"
   },
   {
    "duration": 13,
    "start_time": "2021-12-11T12:26:43.428Z"
   },
   {
    "duration": 9,
    "start_time": "2021-12-11T12:26:57.674Z"
   },
   {
    "duration": 405,
    "start_time": "2021-12-11T12:27:05.084Z"
   },
   {
    "duration": 7,
    "start_time": "2021-12-11T12:27:10.395Z"
   },
   {
    "duration": 7,
    "start_time": "2021-12-11T12:27:13.425Z"
   },
   {
    "duration": 39,
    "start_time": "2021-12-11T12:27:36.819Z"
   },
   {
    "duration": 10,
    "start_time": "2021-12-11T12:27:49.694Z"
   },
   {
    "duration": 250,
    "start_time": "2021-12-11T12:27:56.280Z"
   },
   {
    "duration": 8,
    "start_time": "2021-12-11T12:28:00.069Z"
   },
   {
    "duration": 7,
    "start_time": "2021-12-11T12:28:14.561Z"
   },
   {
    "duration": 13,
    "start_time": "2021-12-11T12:28:17.471Z"
   },
   {
    "duration": 7,
    "start_time": "2021-12-11T12:28:17.744Z"
   },
   {
    "duration": 8,
    "start_time": "2021-12-11T12:28:24.022Z"
   },
   {
    "duration": 7,
    "start_time": "2021-12-11T12:28:33.117Z"
   },
   {
    "duration": 13,
    "start_time": "2021-12-11T12:28:50.808Z"
   },
   {
    "duration": 8,
    "start_time": "2021-12-11T12:28:55.915Z"
   },
   {
    "duration": 12,
    "start_time": "2021-12-11T12:28:56.335Z"
   },
   {
    "duration": 8,
    "start_time": "2021-12-11T12:28:56.801Z"
   },
   {
    "duration": 7,
    "start_time": "2021-12-11T12:28:57.276Z"
   },
   {
    "duration": 7,
    "start_time": "2021-12-11T12:29:23.398Z"
   },
   {
    "duration": 535,
    "start_time": "2021-12-11T12:31:15.240Z"
   },
   {
    "duration": 34260,
    "start_time": "2021-12-11T12:32:19.407Z"
   },
   {
    "duration": 408,
    "start_time": "2021-12-11T12:33:08.256Z"
   },
   {
    "duration": 21,
    "start_time": "2021-12-11T12:34:13.049Z"
   },
   {
    "duration": 4,
    "start_time": "2021-12-11T12:34:21.341Z"
   },
   {
    "duration": 6,
    "start_time": "2021-12-11T12:34:26.681Z"
   },
   {
    "duration": 30471,
    "start_time": "2021-12-11T12:34:32.893Z"
   },
   {
    "duration": 9,
    "start_time": "2021-12-11T12:35:03.368Z"
   },
   {
    "duration": 17,
    "start_time": "2021-12-11T12:35:03.380Z"
   },
   {
    "duration": 7,
    "start_time": "2021-12-11T12:35:03.400Z"
   },
   {
    "duration": 5,
    "start_time": "2021-12-11T12:35:16.250Z"
   },
   {
    "duration": 5,
    "start_time": "2021-12-11T12:35:23.284Z"
   },
   {
    "duration": 13,
    "start_time": "2021-12-11T12:35:28.858Z"
   },
   {
    "duration": 16,
    "start_time": "2021-12-11T12:35:34.019Z"
   },
   {
    "duration": 24,
    "start_time": "2021-12-11T12:36:36.851Z"
   },
   {
    "duration": 7,
    "start_time": "2021-12-11T12:36:44.993Z"
   },
   {
    "duration": 51727,
    "start_time": "2021-12-11T12:36:53.935Z"
   },
   {
    "duration": 7,
    "start_time": "2021-12-11T12:37:45.665Z"
   },
   {
    "duration": 17,
    "start_time": "2021-12-11T12:37:45.676Z"
   },
   {
    "duration": 65,
    "start_time": "2021-12-11T12:37:45.696Z"
   },
   {
    "duration": 15,
    "start_time": "2021-12-11T12:38:34.619Z"
   },
   {
    "duration": 13,
    "start_time": "2021-12-11T12:38:44.731Z"
   },
   {
    "duration": 5,
    "start_time": "2021-12-11T12:39:19.388Z"
   },
   {
    "duration": 7053,
    "start_time": "2021-12-11T12:39:47.529Z"
   },
   {
    "duration": 5,
    "start_time": "2021-12-11T12:39:54.585Z"
   },
   {
    "duration": 6,
    "start_time": "2021-12-11T12:39:54.661Z"
   },
   {
    "duration": 15,
    "start_time": "2021-12-11T12:39:54.669Z"
   },
   {
    "duration": 126,
    "start_time": "2021-12-11T12:40:13.217Z"
   },
   {
    "duration": 40,
    "start_time": "2021-12-11T12:40:19.821Z"
   },
   {
    "duration": 5,
    "start_time": "2021-12-11T12:42:34.594Z"
   },
   {
    "duration": 12,
    "start_time": "2021-12-11T12:42:38.666Z"
   },
   {
    "duration": 5,
    "start_time": "2021-12-11T12:43:03.035Z"
   },
   {
    "duration": 7,
    "start_time": "2021-12-11T12:45:09.105Z"
   },
   {
    "duration": 7,
    "start_time": "2021-12-11T12:45:27.768Z"
   },
   {
    "duration": 8,
    "start_time": "2021-12-11T12:46:07.684Z"
   },
   {
    "duration": 98941,
    "start_time": "2021-12-11T12:47:15.640Z"
   },
   {
    "duration": 7,
    "start_time": "2021-12-11T12:48:54.587Z"
   },
   {
    "duration": 4278,
    "start_time": "2021-12-11T12:49:44.533Z"
   },
   {
    "duration": 1499,
    "start_time": "2021-12-11T12:49:48.814Z"
   },
   {
    "duration": 66,
    "start_time": "2021-12-11T12:49:50.317Z"
   },
   {
    "duration": 3015,
    "start_time": "2021-12-11T12:49:50.386Z"
   },
   {
    "duration": 2926,
    "start_time": "2021-12-11T12:49:53.404Z"
   },
   {
    "duration": 6,
    "start_time": "2021-12-11T12:49:56.332Z"
   },
   {
    "duration": 74,
    "start_time": "2021-12-11T12:49:56.340Z"
   },
   {
    "duration": 764,
    "start_time": "2021-12-11T12:49:56.417Z"
   },
   {
    "duration": 34222,
    "start_time": "2021-12-11T12:49:57.185Z"
   },
   {
    "duration": 39660,
    "start_time": "2021-12-11T12:50:31.410Z"
   },
   {
    "duration": 3802,
    "start_time": "2021-12-11T12:51:11.073Z"
   },
   {
    "duration": 7,
    "start_time": "2021-12-11T12:51:14.877Z"
   },
   {
    "duration": 73,
    "start_time": "2021-12-11T12:51:14.886Z"
   },
   {
    "duration": 3877,
    "start_time": "2021-12-11T12:52:51.226Z"
   },
   {
    "duration": 1469,
    "start_time": "2021-12-11T12:52:55.106Z"
   },
   {
    "duration": 70,
    "start_time": "2021-12-11T12:52:56.579Z"
   },
   {
    "duration": 3025,
    "start_time": "2021-12-11T12:52:56.652Z"
   },
   {
    "duration": 3057,
    "start_time": "2021-12-11T12:52:59.680Z"
   },
   {
    "duration": 6,
    "start_time": "2021-12-11T12:53:02.740Z"
   },
   {
    "duration": 74,
    "start_time": "2021-12-11T12:53:02.760Z"
   },
   {
    "duration": 1389,
    "start_time": "2021-12-11T12:53:02.838Z"
   },
   {
    "duration": 53447,
    "start_time": "2021-12-11T12:53:04.230Z"
   },
   {
    "duration": 1898,
    "start_time": "2021-12-11T12:53:55.781Z"
   },
   {
    "duration": 1898,
    "start_time": "2021-12-11T12:53:55.783Z"
   },
   {
    "duration": 3917,
    "start_time": "2021-12-11T12:54:17.426Z"
   },
   {
    "duration": 1565,
    "start_time": "2021-12-11T12:54:21.346Z"
   },
   {
    "duration": 70,
    "start_time": "2021-12-11T12:54:22.913Z"
   },
   {
    "duration": 3091,
    "start_time": "2021-12-11T12:54:22.985Z"
   },
   {
    "duration": 2939,
    "start_time": "2021-12-11T12:54:26.079Z"
   },
   {
    "duration": 6,
    "start_time": "2021-12-11T12:54:29.021Z"
   },
   {
    "duration": 90,
    "start_time": "2021-12-11T12:54:29.029Z"
   },
   {
    "duration": 1345,
    "start_time": "2021-12-11T12:54:29.122Z"
   },
   {
    "duration": 62352,
    "start_time": "2021-12-11T12:54:30.469Z"
   },
   {
    "duration": 35240,
    "start_time": "2021-12-11T12:55:32.823Z"
   },
   {
    "duration": 7117,
    "start_time": "2021-12-11T12:56:08.066Z"
   },
   {
    "duration": 557,
    "start_time": "2021-12-11T12:57:19.248Z"
   },
   {
    "duration": 626,
    "start_time": "2021-12-11T12:57:27.311Z"
   },
   {
    "duration": 704,
    "start_time": "2021-12-11T12:57:38.485Z"
   },
   {
    "duration": 513,
    "start_time": "2021-12-11T12:57:41.721Z"
   },
   {
    "duration": 82183,
    "start_time": "2021-12-11T12:57:46.147Z"
   },
   {
    "duration": 1916,
    "start_time": "2021-12-11T12:59:06.418Z"
   },
   {
    "duration": 382,
    "start_time": "2021-12-11T12:59:11.920Z"
   },
   {
    "duration": 1427,
    "start_time": "2021-12-11T12:59:20.834Z"
   },
   {
    "duration": 5,
    "start_time": "2021-12-11T12:59:22.264Z"
   },
   {
    "duration": 5,
    "start_time": "2021-12-11T12:59:31.486Z"
   },
   {
    "duration": 3976,
    "start_time": "2021-12-11T13:01:19.575Z"
   },
   {
    "duration": 1539,
    "start_time": "2021-12-11T13:01:23.554Z"
   },
   {
    "duration": 73,
    "start_time": "2021-12-11T13:01:25.096Z"
   },
   {
    "duration": 3974,
    "start_time": "2021-12-11T13:01:25.171Z"
   },
   {
    "duration": 3051,
    "start_time": "2021-12-11T13:01:29.159Z"
   },
   {
    "duration": 6,
    "start_time": "2021-12-11T13:01:32.212Z"
   },
   {
    "duration": 99,
    "start_time": "2021-12-11T13:01:32.220Z"
   },
   {
    "duration": 1492,
    "start_time": "2021-12-11T13:01:32.322Z"
   },
   {
    "duration": 267596,
    "start_time": "2021-12-11T13:01:33.818Z"
   },
   {
    "duration": 149554,
    "start_time": "2021-12-11T13:06:01.416Z"
   },
   {
    "duration": 136,
    "start_time": "2021-12-11T13:08:30.973Z"
   },
   {
    "duration": 18590,
    "start_time": "2021-12-11T13:14:24.378Z"
   },
   {
    "duration": 4466,
    "start_time": "2021-12-11T16:10:46.530Z"
   },
   {
    "duration": 1598,
    "start_time": "2021-12-11T16:10:51.000Z"
   },
   {
    "duration": 82,
    "start_time": "2021-12-11T16:10:52.605Z"
   },
   {
    "duration": 3345,
    "start_time": "2021-12-11T16:10:52.689Z"
   },
   {
    "duration": 3229,
    "start_time": "2021-12-11T16:10:56.037Z"
   },
   {
    "duration": 8,
    "start_time": "2021-12-11T16:10:59.269Z"
   },
   {
    "duration": 103,
    "start_time": "2021-12-11T16:10:59.280Z"
   },
   {
    "duration": 1439,
    "start_time": "2021-12-11T16:10:59.386Z"
   },
   {
    "duration": 281534,
    "start_time": "2021-12-11T16:11:00.828Z"
   },
   {
    "duration": 766506,
    "start_time": "2021-12-11T16:15:42.365Z"
   },
   {
    "duration": 31796,
    "start_time": "2021-12-11T16:28:28.874Z"
   },
   {
    "duration": 4,
    "start_time": "2021-12-11T19:04:01.757Z"
   },
   {
    "duration": 4383,
    "start_time": "2021-12-11T19:07:45.875Z"
   },
   {
    "duration": 8,
    "start_time": "2021-12-11T19:07:50.263Z"
   },
   {
    "duration": 71,
    "start_time": "2021-12-11T19:07:50.276Z"
   },
   {
    "duration": 3340,
    "start_time": "2021-12-11T19:07:50.349Z"
   },
   {
    "duration": 3293,
    "start_time": "2021-12-11T19:07:53.692Z"
   },
   {
    "duration": 5,
    "start_time": "2021-12-11T19:07:56.988Z"
   },
   {
    "duration": 84,
    "start_time": "2021-12-11T19:07:56.995Z"
   },
   {
    "duration": 4,
    "start_time": "2021-12-11T19:07:57.082Z"
   },
   {
    "duration": 2343,
    "start_time": "2021-12-11T19:07:57.089Z"
   },
   {
    "duration": 4215,
    "start_time": "2021-12-11T19:08:03.456Z"
   },
   {
    "duration": 6,
    "start_time": "2021-12-11T19:08:07.675Z"
   },
   {
    "duration": 73,
    "start_time": "2021-12-11T19:08:07.684Z"
   },
   {
    "duration": 3125,
    "start_time": "2021-12-11T19:08:07.761Z"
   },
   {
    "duration": 3336,
    "start_time": "2021-12-11T19:08:10.889Z"
   },
   {
    "duration": 6,
    "start_time": "2021-12-11T19:08:14.227Z"
   },
   {
    "duration": 95,
    "start_time": "2021-12-11T19:08:14.235Z"
   },
   {
    "duration": 3,
    "start_time": "2021-12-11T19:08:14.333Z"
   },
   {
    "duration": 1120,
    "start_time": "2021-12-11T19:08:14.339Z"
   },
   {
    "duration": 4059,
    "start_time": "2021-12-11T19:10:58.735Z"
   },
   {
    "duration": 6,
    "start_time": "2021-12-11T19:11:02.797Z"
   },
   {
    "duration": 71,
    "start_time": "2021-12-11T19:11:02.806Z"
   },
   {
    "duration": 3413,
    "start_time": "2021-12-11T19:11:02.880Z"
   },
   {
    "duration": 3145,
    "start_time": "2021-12-11T19:11:06.295Z"
   },
   {
    "duration": 16,
    "start_time": "2021-12-11T19:11:09.443Z"
   },
   {
    "duration": 85,
    "start_time": "2021-12-11T19:11:09.462Z"
   },
   {
    "duration": 3,
    "start_time": "2021-12-11T19:11:09.560Z"
   },
   {
    "duration": 1116,
    "start_time": "2021-12-11T19:11:09.566Z"
   },
   {
    "duration": 212947,
    "start_time": "2021-12-11T19:11:10.684Z"
   },
   {
    "duration": 166451,
    "start_time": "2021-12-11T19:14:43.633Z"
   },
   {
    "duration": 4296,
    "start_time": "2021-12-11T19:19:44.618Z"
   },
   {
    "duration": 1632,
    "start_time": "2021-12-11T19:19:48.917Z"
   },
   {
    "duration": 79,
    "start_time": "2021-12-11T19:19:50.552Z"
   },
   {
    "duration": 3256,
    "start_time": "2021-12-11T19:19:50.635Z"
   },
   {
    "duration": 3,
    "start_time": "2021-12-11T19:19:53.894Z"
   },
   {
    "duration": 8,
    "start_time": "2021-12-11T19:19:53.900Z"
   },
   {
    "duration": 111,
    "start_time": "2021-12-11T19:19:53.911Z"
   },
   {
    "duration": 3,
    "start_time": "2021-12-11T19:19:54.025Z"
   },
   {
    "duration": 1097,
    "start_time": "2021-12-11T19:19:54.030Z"
   },
   {
    "duration": 205459,
    "start_time": "2021-12-11T19:19:55.129Z"
   },
   {
    "duration": 817076,
    "start_time": "2021-12-11T19:23:20.591Z"
   },
   {
    "duration": 25204,
    "start_time": "2021-12-11T19:36:57.670Z"
   },
   {
    "duration": 1182,
    "start_time": "2021-12-11T19:37:22.876Z"
   },
   {
    "duration": 6984,
    "start_time": "2021-12-11T19:37:45.926Z"
   },
   {
    "duration": 1298,
    "start_time": "2021-12-11T19:37:55.588Z"
   },
   {
    "duration": 6647,
    "start_time": "2021-12-11T19:38:20.792Z"
   },
   {
    "duration": 666,
    "start_time": "2021-12-11T19:38:33.193Z"
   },
   {
    "duration": 449,
    "start_time": "2021-12-11T19:38:38.525Z"
   },
   {
    "duration": 294,
    "start_time": "2021-12-11T19:38:42.581Z"
   },
   {
    "duration": 1020,
    "start_time": "2021-12-11T19:38:50.432Z"
   },
   {
    "duration": 7,
    "start_time": "2021-12-11T19:40:42.969Z"
   },
   {
    "duration": 12,
    "start_time": "2021-12-11T19:40:45.788Z"
   },
   {
    "duration": 6,
    "start_time": "2021-12-11T19:40:59.349Z"
   },
   {
    "duration": 8,
    "start_time": "2021-12-11T19:41:06.620Z"
   },
   {
    "duration": 404,
    "start_time": "2021-12-11T19:41:19.528Z"
   },
   {
    "duration": 273,
    "start_time": "2021-12-11T19:43:09.680Z"
   },
   {
    "duration": 796,
    "start_time": "2021-12-11T19:43:26.889Z"
   },
   {
    "duration": 9649,
    "start_time": "2021-12-11T19:43:31.625Z"
   },
   {
    "duration": 285,
    "start_time": "2021-12-11T19:43:49.193Z"
   },
   {
    "duration": 11,
    "start_time": "2021-12-11T19:43:55.688Z"
   },
   {
    "duration": 387,
    "start_time": "2021-12-11T19:44:03.023Z"
   },
   {
    "duration": 15,
    "start_time": "2021-12-11T19:44:09.053Z"
   },
   {
    "duration": 406,
    "start_time": "2021-12-11T19:44:13.942Z"
   },
   {
    "duration": 5,
    "start_time": "2021-12-11T19:44:17.703Z"
   },
   {
    "duration": 11771,
    "start_time": "2021-12-11T19:44:49.839Z"
   },
   {
    "duration": 9820,
    "start_time": "2021-12-11T19:45:09.764Z"
   },
   {
    "duration": 159,
    "start_time": "2021-12-11T19:45:22.845Z"
   },
   {
    "duration": 13,
    "start_time": "2021-12-11T19:45:30.942Z"
   },
   {
    "duration": 9848,
    "start_time": "2021-12-11T19:45:56.727Z"
   },
   {
    "duration": 438,
    "start_time": "2021-12-11T19:47:07.476Z"
   },
   {
    "duration": 5,
    "start_time": "2021-12-11T19:47:43.008Z"
   },
   {
    "duration": 493,
    "start_time": "2021-12-11T19:47:55.626Z"
   },
   {
    "duration": 690,
    "start_time": "2021-12-11T19:48:10.351Z"
   },
   {
    "duration": 673,
    "start_time": "2021-12-11T19:48:28.112Z"
   },
   {
    "duration": 701,
    "start_time": "2021-12-11T19:48:55.297Z"
   },
   {
    "duration": 861,
    "start_time": "2021-12-11T19:49:02.351Z"
   },
   {
    "duration": 659,
    "start_time": "2021-12-11T19:49:30.250Z"
   },
   {
    "duration": 56451,
    "start_time": "2021-12-12T08:08:43.970Z"
   },
   {
    "duration": 1107,
    "start_time": "2021-12-12T08:09:40.423Z"
   },
   {
    "duration": 55,
    "start_time": "2021-12-12T08:09:41.532Z"
   },
   {
    "duration": 2015,
    "start_time": "2021-12-12T08:09:41.590Z"
   },
   {
    "duration": 2,
    "start_time": "2021-12-12T08:09:43.606Z"
   },
   {
    "duration": 5,
    "start_time": "2021-12-12T08:09:43.610Z"
   },
   {
    "duration": 50,
    "start_time": "2021-12-12T08:09:43.616Z"
   },
   {
    "duration": 2,
    "start_time": "2021-12-12T08:09:43.668Z"
   },
   {
    "duration": 266,
    "start_time": "2021-12-12T08:09:43.672Z"
   },
   {
    "duration": 358,
    "start_time": "2021-12-12T08:09:43.582Z"
   },
   {
    "duration": 353,
    "start_time": "2021-12-12T08:09:43.588Z"
   },
   {
    "duration": 353,
    "start_time": "2021-12-12T08:09:43.589Z"
   },
   {
    "duration": 349,
    "start_time": "2021-12-12T08:09:43.595Z"
   },
   {
    "duration": 11821,
    "start_time": "2021-12-12T08:09:44.073Z"
   },
   {
    "duration": 4,
    "start_time": "2021-12-12T08:09:57.838Z"
   },
   {
    "duration": 54,
    "start_time": "2021-12-12T08:09:58.158Z"
   },
   {
    "duration": 1900,
    "start_time": "2021-12-12T08:09:58.585Z"
   },
   {
    "duration": 4,
    "start_time": "2021-12-12T08:10:00.487Z"
   },
   {
    "duration": 7,
    "start_time": "2021-12-12T08:10:00.493Z"
   },
   {
    "duration": 51,
    "start_time": "2021-12-12T08:10:00.502Z"
   },
   {
    "duration": 3,
    "start_time": "2021-12-12T08:10:00.554Z"
   },
   {
    "duration": 177,
    "start_time": "2021-12-12T08:10:00.676Z"
   },
   {
    "duration": 165,
    "start_time": "2021-12-12T08:10:01.458Z"
   },
   {
    "duration": 201,
    "start_time": "2021-12-12T08:10:01.633Z"
   },
   {
    "duration": 185,
    "start_time": "2021-12-12T08:10:02.179Z"
   },
   {
    "duration": 182,
    "start_time": "2021-12-12T08:10:02.828Z"
   },
   {
    "duration": 96318,
    "start_time": "2021-12-12T08:13:21.622Z"
   },
   {
    "duration": 7329,
    "start_time": "2021-12-12T08:17:08.843Z"
   },
   {
    "duration": 3,
    "start_time": "2021-12-12T08:18:57.635Z"
   },
   {
    "duration": 54028,
    "start_time": "2021-12-12T08:18:57.640Z"
   },
   {
    "duration": 1147,
    "start_time": "2021-12-12T08:19:51.671Z"
   },
   {
    "duration": 52,
    "start_time": "2021-12-12T08:19:52.821Z"
   },
   {
    "duration": 1906,
    "start_time": "2021-12-12T08:19:52.875Z"
   },
   {
    "duration": 8,
    "start_time": "2021-12-12T08:19:54.783Z"
   },
   {
    "duration": 4,
    "start_time": "2021-12-12T08:19:54.793Z"
   },
   {
    "duration": 64,
    "start_time": "2021-12-12T08:19:54.799Z"
   },
   {
    "duration": 2,
    "start_time": "2021-12-12T08:19:54.865Z"
   },
   {
    "duration": 777,
    "start_time": "2021-12-12T08:19:54.869Z"
   },
   {
    "duration": 144427,
    "start_time": "2021-12-12T08:19:55.649Z"
   },
   {
    "duration": 74980,
    "start_time": "2021-12-12T08:22:20.078Z"
   },
   {
    "duration": 1100,
    "start_time": "2021-12-12T08:23:33.960Z"
   },
   {
    "duration": 1099,
    "start_time": "2021-12-12T08:23:33.963Z"
   },
   {
    "duration": 22467,
    "start_time": "2021-12-12T08:23:42.333Z"
   },
   {
    "duration": 1126,
    "start_time": "2021-12-12T08:24:04.803Z"
   },
   {
    "duration": 54,
    "start_time": "2021-12-12T08:24:05.931Z"
   },
   {
    "duration": 1953,
    "start_time": "2021-12-12T08:24:05.987Z"
   },
   {
    "duration": 2,
    "start_time": "2021-12-12T08:24:07.942Z"
   },
   {
    "duration": 31,
    "start_time": "2021-12-12T08:24:07.946Z"
   },
   {
    "duration": 79,
    "start_time": "2021-12-12T08:24:07.979Z"
   },
   {
    "duration": 3,
    "start_time": "2021-12-12T08:24:08.060Z"
   },
   {
    "duration": 790,
    "start_time": "2021-12-12T08:24:08.064Z"
   },
   {
    "duration": 143811,
    "start_time": "2021-12-12T08:24:08.856Z"
   },
   {
    "duration": 345537,
    "start_time": "2021-12-12T08:26:32.670Z"
   },
   {
    "duration": 1102,
    "start_time": "2021-12-12T08:32:17.108Z"
   },
   {
    "duration": 1101,
    "start_time": "2021-12-12T08:32:17.110Z"
   },
   {
    "duration": 104895,
    "start_time": "2021-12-12T08:32:37.426Z"
   },
   {
    "duration": 1096,
    "start_time": "2021-12-12T08:34:22.323Z"
   },
   {
    "duration": 54,
    "start_time": "2021-12-12T08:34:23.421Z"
   },
   {
    "duration": 1973,
    "start_time": "2021-12-12T08:34:23.476Z"
   },
   {
    "duration": 2,
    "start_time": "2021-12-12T08:34:25.450Z"
   },
   {
    "duration": 6,
    "start_time": "2021-12-12T08:34:25.454Z"
   },
   {
    "duration": 67,
    "start_time": "2021-12-12T08:34:25.461Z"
   },
   {
    "duration": 3,
    "start_time": "2021-12-12T08:34:25.530Z"
   },
   {
    "duration": 781,
    "start_time": "2021-12-12T08:34:25.534Z"
   },
   {
    "duration": 142201,
    "start_time": "2021-12-12T08:34:26.317Z"
   },
   {
    "duration": 55776,
    "start_time": "2021-12-12T08:36:48.520Z"
   },
   {
    "duration": 10809,
    "start_time": "2021-12-12T08:37:44.297Z"
   },
   {
    "duration": 457,
    "start_time": "2021-12-12T08:37:55.108Z"
   },
   {
    "duration": 414,
    "start_time": "2021-12-12T08:38:23.492Z"
   }
  ],
  "kernelspec": {
   "display_name": "Python 3 (ipykernel)",
   "language": "python",
   "name": "python3"
  },
  "language_info": {
   "codemirror_mode": {
    "name": "ipython",
    "version": 3
   },
   "file_extension": ".py",
   "mimetype": "text/x-python",
   "name": "python",
   "nbconvert_exporter": "python",
   "pygments_lexer": "ipython3",
   "version": "3.7.6"
  },
  "toc": {
   "base_numbering": 1,
   "nav_menu": {},
   "number_sections": true,
   "sideBar": true,
   "skip_h1_title": true,
   "title_cell": "Содержание",
   "title_sidebar": "Contents",
   "toc_cell": true,
   "toc_position": {},
   "toc_section_display": true,
   "toc_window_display": false
  }
 },
 "nbformat": 4,
 "nbformat_minor": 2
}
