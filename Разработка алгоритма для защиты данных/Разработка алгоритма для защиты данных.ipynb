{
 "cells": [
  {
   "cell_type": "markdown",
   "metadata": {
    "toc": true
   },
   "source": [
    "<h1>Содержание<span class=\"tocSkip\"></span></h1>\n",
    "<div class=\"toc\"><ul class=\"toc-item\"><li><span><a href=\"#Загрузка-данных\" data-toc-modified-id=\"Загрузка-данных-1\"><span class=\"toc-item-num\">1&nbsp;&nbsp;</span>Загрузка данных</a></span></li><li><span><a href=\"#Умножение-матриц\" data-toc-modified-id=\"Умножение-матриц-2\"><span class=\"toc-item-num\">2&nbsp;&nbsp;</span>Умножение матриц</a></span></li><li><span><a href=\"#Алгоритм-преобразования\" data-toc-modified-id=\"Алгоритм-преобразования-3\"><span class=\"toc-item-num\">3&nbsp;&nbsp;</span>Алгоритм преобразования</a></span></li><li><span><a href=\"#Проверка-алгоритма\" data-toc-modified-id=\"Проверка-алгоритма-4\"><span class=\"toc-item-num\">4&nbsp;&nbsp;</span>Проверка алгоритма</a></span></li><li><span><a href=\"#Выводы\" data-toc-modified-id=\"Выводы-5\"><span class=\"toc-item-num\">5&nbsp;&nbsp;</span>Выводы</a></span></li><li><span><a href=\"#Чек-лист-проверки\" data-toc-modified-id=\"Чек-лист-проверки-6\"><span class=\"toc-item-num\">6&nbsp;&nbsp;</span>Чек-лист проверки</a></span></li></ul></div>"
   ]
  },
  {
   "cell_type": "markdown",
   "metadata": {},
   "source": [
    "# Защита персональных данных клиентов"
   ]
  },
  {
   "cell_type": "markdown",
   "metadata": {},
   "source": [
    "Вам нужно защитить данные клиентов страховой компании «Хоть потоп». Разработайте такой метод преобразования данных, чтобы по ним было сложно восстановить персональную информацию. Обоснуйте корректность его работы.\n",
    "\n",
    "Нужно защитить данные, чтобы при преобразовании качество моделей машинного обучения не ухудшилось. Подбирать наилучшую модель не требуется."
   ]
  },
  {
   "cell_type": "markdown",
   "metadata": {},
   "source": [
    "## Загрузка данных"
   ]
  },
  {
   "cell_type": "code",
   "execution_count": 1,
   "metadata": {},
   "outputs": [],
   "source": [
    "# Импортируем библиотеки\n",
    "import pandas as pd\n",
    "import numpy as np\n",
    "from scipy.spatial import distance\n",
    "from sklearn.model_selection import train_test_split\n",
    "from sklearn.linear_model import LinearRegression\n",
    "from sklearn.preprocessing import StandardScaler\n",
    "from sklearn.metrics import r2_score\n",
    "import matplotlib.pyplot as plt"
   ]
  },
  {
   "cell_type": "code",
   "execution_count": 2,
   "metadata": {},
   "outputs": [
    {
     "data": {
      "text/html": [
       "<div>\n",
       "<style scoped>\n",
       "    .dataframe tbody tr th:only-of-type {\n",
       "        vertical-align: middle;\n",
       "    }\n",
       "\n",
       "    .dataframe tbody tr th {\n",
       "        vertical-align: top;\n",
       "    }\n",
       "\n",
       "    .dataframe thead th {\n",
       "        text-align: right;\n",
       "    }\n",
       "</style>\n",
       "<table border=\"1\" class=\"dataframe\">\n",
       "  <thead>\n",
       "    <tr style=\"text-align: right;\">\n",
       "      <th></th>\n",
       "      <th>Пол</th>\n",
       "      <th>Возраст</th>\n",
       "      <th>Зарплата</th>\n",
       "      <th>Члены семьи</th>\n",
       "      <th>Страховые выплаты</th>\n",
       "    </tr>\n",
       "  </thead>\n",
       "  <tbody>\n",
       "    <tr>\n",
       "      <td>0</td>\n",
       "      <td>1</td>\n",
       "      <td>41.0</td>\n",
       "      <td>49600.0</td>\n",
       "      <td>1</td>\n",
       "      <td>0</td>\n",
       "    </tr>\n",
       "    <tr>\n",
       "      <td>1</td>\n",
       "      <td>0</td>\n",
       "      <td>46.0</td>\n",
       "      <td>38000.0</td>\n",
       "      <td>1</td>\n",
       "      <td>1</td>\n",
       "    </tr>\n",
       "    <tr>\n",
       "      <td>2</td>\n",
       "      <td>0</td>\n",
       "      <td>29.0</td>\n",
       "      <td>21000.0</td>\n",
       "      <td>0</td>\n",
       "      <td>0</td>\n",
       "    </tr>\n",
       "    <tr>\n",
       "      <td>3</td>\n",
       "      <td>0</td>\n",
       "      <td>21.0</td>\n",
       "      <td>41700.0</td>\n",
       "      <td>2</td>\n",
       "      <td>0</td>\n",
       "    </tr>\n",
       "    <tr>\n",
       "      <td>4</td>\n",
       "      <td>1</td>\n",
       "      <td>28.0</td>\n",
       "      <td>26100.0</td>\n",
       "      <td>0</td>\n",
       "      <td>0</td>\n",
       "    </tr>\n",
       "    <tr>\n",
       "      <td>...</td>\n",
       "      <td>...</td>\n",
       "      <td>...</td>\n",
       "      <td>...</td>\n",
       "      <td>...</td>\n",
       "      <td>...</td>\n",
       "    </tr>\n",
       "    <tr>\n",
       "      <td>4995</td>\n",
       "      <td>0</td>\n",
       "      <td>28.0</td>\n",
       "      <td>35700.0</td>\n",
       "      <td>2</td>\n",
       "      <td>0</td>\n",
       "    </tr>\n",
       "    <tr>\n",
       "      <td>4996</td>\n",
       "      <td>0</td>\n",
       "      <td>34.0</td>\n",
       "      <td>52400.0</td>\n",
       "      <td>1</td>\n",
       "      <td>0</td>\n",
       "    </tr>\n",
       "    <tr>\n",
       "      <td>4997</td>\n",
       "      <td>0</td>\n",
       "      <td>20.0</td>\n",
       "      <td>33900.0</td>\n",
       "      <td>2</td>\n",
       "      <td>0</td>\n",
       "    </tr>\n",
       "    <tr>\n",
       "      <td>4998</td>\n",
       "      <td>1</td>\n",
       "      <td>22.0</td>\n",
       "      <td>32700.0</td>\n",
       "      <td>3</td>\n",
       "      <td>0</td>\n",
       "    </tr>\n",
       "    <tr>\n",
       "      <td>4999</td>\n",
       "      <td>1</td>\n",
       "      <td>28.0</td>\n",
       "      <td>40600.0</td>\n",
       "      <td>1</td>\n",
       "      <td>0</td>\n",
       "    </tr>\n",
       "  </tbody>\n",
       "</table>\n",
       "<p>5000 rows × 5 columns</p>\n",
       "</div>"
      ],
      "text/plain": [
       "      Пол  Возраст  Зарплата  Члены семьи  Страховые выплаты\n",
       "0       1     41.0   49600.0            1                  0\n",
       "1       0     46.0   38000.0            1                  1\n",
       "2       0     29.0   21000.0            0                  0\n",
       "3       0     21.0   41700.0            2                  0\n",
       "4       1     28.0   26100.0            0                  0\n",
       "...   ...      ...       ...          ...                ...\n",
       "4995    0     28.0   35700.0            2                  0\n",
       "4996    0     34.0   52400.0            1                  0\n",
       "4997    0     20.0   33900.0            2                  0\n",
       "4998    1     22.0   32700.0            3                  0\n",
       "4999    1     28.0   40600.0            1                  0\n",
       "\n",
       "[5000 rows x 5 columns]"
      ]
     },
     "execution_count": 2,
     "metadata": {},
     "output_type": "execute_result"
    }
   ],
   "source": [
    "# Загрузим данные\n",
    "data = pd.read_csv('/datasets/insurance.csv')\n",
    "data"
   ]
  },
  {
   "cell_type": "markdown",
   "metadata": {},
   "source": [
    "Значения столбцов \"Возраст\" и \"Зарплата\" много больше значений столбцов других признаков, поэтому их необходимо отмасштабировать. "
   ]
  },
  {
   "cell_type": "code",
   "execution_count": 3,
   "metadata": {},
   "outputs": [
    {
     "data": {
      "text/html": [
       "<div>\n",
       "<style scoped>\n",
       "    .dataframe tbody tr th:only-of-type {\n",
       "        vertical-align: middle;\n",
       "    }\n",
       "\n",
       "    .dataframe tbody tr th {\n",
       "        vertical-align: top;\n",
       "    }\n",
       "\n",
       "    .dataframe thead th {\n",
       "        text-align: right;\n",
       "    }\n",
       "</style>\n",
       "<table border=\"1\" class=\"dataframe\">\n",
       "  <thead>\n",
       "    <tr style=\"text-align: right;\">\n",
       "      <th></th>\n",
       "      <th>Пол</th>\n",
       "      <th>Возраст</th>\n",
       "      <th>Зарплата</th>\n",
       "      <th>Члены семьи</th>\n",
       "    </tr>\n",
       "  </thead>\n",
       "  <tbody>\n",
       "    <tr>\n",
       "      <td>0</td>\n",
       "      <td>1</td>\n",
       "      <td>1.190432</td>\n",
       "      <td>0.978235</td>\n",
       "      <td>1</td>\n",
       "    </tr>\n",
       "    <tr>\n",
       "      <td>1</td>\n",
       "      <td>0</td>\n",
       "      <td>1.782851</td>\n",
       "      <td>-0.193589</td>\n",
       "      <td>1</td>\n",
       "    </tr>\n",
       "    <tr>\n",
       "      <td>2</td>\n",
       "      <td>0</td>\n",
       "      <td>-0.231375</td>\n",
       "      <td>-1.910918</td>\n",
       "      <td>0</td>\n",
       "    </tr>\n",
       "    <tr>\n",
       "      <td>3</td>\n",
       "      <td>0</td>\n",
       "      <td>-1.179247</td>\n",
       "      <td>0.180182</td>\n",
       "      <td>2</td>\n",
       "    </tr>\n",
       "    <tr>\n",
       "      <td>4</td>\n",
       "      <td>1</td>\n",
       "      <td>-0.349859</td>\n",
       "      <td>-1.395720</td>\n",
       "      <td>0</td>\n",
       "    </tr>\n",
       "    <tr>\n",
       "      <td>...</td>\n",
       "      <td>...</td>\n",
       "      <td>...</td>\n",
       "      <td>...</td>\n",
       "      <td>...</td>\n",
       "    </tr>\n",
       "    <tr>\n",
       "      <td>4995</td>\n",
       "      <td>0</td>\n",
       "      <td>-0.349859</td>\n",
       "      <td>-0.425934</td>\n",
       "      <td>2</td>\n",
       "    </tr>\n",
       "    <tr>\n",
       "      <td>4996</td>\n",
       "      <td>0</td>\n",
       "      <td>0.361044</td>\n",
       "      <td>1.261089</td>\n",
       "      <td>1</td>\n",
       "    </tr>\n",
       "    <tr>\n",
       "      <td>4997</td>\n",
       "      <td>0</td>\n",
       "      <td>-1.297731</td>\n",
       "      <td>-0.607769</td>\n",
       "      <td>2</td>\n",
       "    </tr>\n",
       "    <tr>\n",
       "      <td>4998</td>\n",
       "      <td>1</td>\n",
       "      <td>-1.060763</td>\n",
       "      <td>-0.728992</td>\n",
       "      <td>3</td>\n",
       "    </tr>\n",
       "    <tr>\n",
       "      <td>4999</td>\n",
       "      <td>1</td>\n",
       "      <td>-0.349859</td>\n",
       "      <td>0.069061</td>\n",
       "      <td>1</td>\n",
       "    </tr>\n",
       "  </tbody>\n",
       "</table>\n",
       "<p>5000 rows × 4 columns</p>\n",
       "</div>"
      ],
      "text/plain": [
       "      Пол   Возраст  Зарплата  Члены семьи\n",
       "0       1  1.190432  0.978235            1\n",
       "1       0  1.782851 -0.193589            1\n",
       "2       0 -0.231375 -1.910918            0\n",
       "3       0 -1.179247  0.180182            2\n",
       "4       1 -0.349859 -1.395720            0\n",
       "...   ...       ...       ...          ...\n",
       "4995    0 -0.349859 -0.425934            2\n",
       "4996    0  0.361044  1.261089            1\n",
       "4997    0 -1.297731 -0.607769            2\n",
       "4998    1 -1.060763 -0.728992            3\n",
       "4999    1 -0.349859  0.069061            1\n",
       "\n",
       "[5000 rows x 4 columns]"
      ]
     },
     "execution_count": 3,
     "metadata": {},
     "output_type": "execute_result"
    }
   ],
   "source": [
    "# Разделим датасет на таблицу с признаками и целевым признаком\n",
    "features = data.drop(columns=['Страховые выплаты'])\n",
    "target = data['Страховые выплаты']\n",
    "# Отмасшатбиреум признаки\n",
    "scaler = StandardScaler()\n",
    "scaler.fit(features.loc[:,['Возраст', 'Зарплата']])\n",
    "features[['Возраст', 'Зарплата']] = scaler.transform(features[['Возраст', 'Зарплата']])\n",
    "# Посмотрим на обновленную таблицу\n",
    "features"
   ]
  },
  {
   "cell_type": "markdown",
   "metadata": {},
   "source": [
    "## Умножение матриц"
   ]
  },
  {
   "cell_type": "markdown",
   "metadata": {},
   "source": [
    "В этом задании вы можете записывать формулы в *Jupyter Notebook.*\n",
    "\n",
    "Чтобы записать формулу внутри текста, окружите её символами доллара \\\\$; если снаружи —  двойными символами \\\\$\\\\$. Эти формулы записываются на языке вёрстки *LaTeX.* \n",
    "\n",
    "Для примера мы записали формулы линейной регрессии. Можете их скопировать и отредактировать, чтобы решить задачу.\n",
    "\n",
    "Работать в *LaTeX* необязательно."
   ]
  },
  {
   "cell_type": "markdown",
   "metadata": {},
   "source": [
    "Обозначения:\n",
    "\n",
    "- $X$ — матрица признаков (нулевой столбец состоит из единиц)\n",
    "\n",
    "- $y$ — вектор целевого признака\n",
    "\n",
    "- $P$ — матрица, на которую умножаются признаки\n",
    "\n",
    "- $w$ — вектор весов линейной регрессии (нулевой элемент равен сдвигу)"
   ]
  },
  {
   "cell_type": "markdown",
   "metadata": {},
   "source": [
    "Предсказания:\n",
    "\n",
    "$$\n",
    "a = Xw\n",
    "$$\n",
    "\n",
    "Задача обучения:\n",
    "\n",
    "$$\n",
    "w = \\arg\\min_w MSE(Xw, y)\n",
    "$$\n",
    "\n",
    "Формула обучения:\n",
    "\n",
    "$$\n",
    "w = (X^T X)^{-1} X^T y\n",
    "$$"
   ]
  },
  {
   "cell_type": "markdown",
   "metadata": {},
   "source": [
    "**Ответ:** Я считаю, что при умножении матрицы признаков на обратимую матрицу качество линейной регрессии не изменится. При этом стоит помнить, что обратимая матрица должна быть квадратной с размерностью *n* x *n*, где *n* - количество признаков.\n",
    "\n",
    "**Обоснование:** \n",
    "Умножим признаки *X* на обратимую матрицу *P* размером *n* x *n*, где *n* - количество признаков и запишем выражение для матрицы коэффициентов линейно регрессии:\n",
    "\n",
    "$$\n",
    "w_{new} = [(X P)^T  X P]^{-1} (X P)^T y\n",
    "$$\n",
    "\n",
    "Раскроем скобки и приведем подобные члены, используя некоторые правила перемножения матриц:\n",
    "\n",
    "$$\n",
    "w_{new} = [(X P)^T  X P]^{-1} (X P)^T y = [P^T X^T X P]^{-1} P^T X^T y =  P^{-1} (X^T X)^{-1} (P^T)^{-1} P^T X^T y =  P^{-1} (X^T X)^{-1} [(P^T)^{-1} P^T] X^T y =  P^{-1} (X^T X)^{-1} E X^T y = P^{-1} (X^T X)^{-1} X^T y = P^{-1} w\n",
    "$$\n",
    "В итоге получаем:\n",
    "$$\n",
    "w_{new} = P^{-1} w\n",
    "$$\n",
    "Обновленные предсказания:\n",
    "$$\n",
    "a_{new} = X P w_{new} = X P P^{-1} w = X w = a\n",
    "$$\n",
    "\n",
    "Таким образом, при умножении матрицы признаков на обратимую матрицу и обучении модели мы получаем те же самые предсказания."
   ]
  },
  {
   "cell_type": "markdown",
   "metadata": {},
   "source": [
    "## Алгоритм преобразования"
   ]
  },
  {
   "cell_type": "markdown",
   "metadata": {},
   "source": [
    "**Алгоритм**\n",
    "\n",
    "1. Создадим квадратную матрицу *P* размером *n* x *n*, где *n* - количество признаков, со случайными значениями\n",
    "2. Провери, что существует обратная ей матрица.\n",
    "3. Умножим датасет с признаками размером *m* x *n* (где *m* - количество объектов) на созданную матрицу и получаем новую матрицу признаков, которая также имеет размер  *m* x *n*.\n",
    "\n",
    "К приемуществам токого алгоритма можно отнести то, что достаточно легко восстановить исходные значения признаков, зная обратимую матрицу. Для восстановления исходных значений достаточно домножить новую матрицу признаков на матрицу обратную созданной.\n",
    "Также этот алгоритм использует все строки и столбцы исходной таблицы, не теряя информации.\n",
    "\n",
    "Матрица с новыми значениями признаков:\n",
    "\n",
    "$$\n",
    "X_{new} = X P\n",
    "$$\n",
    "\n",
    "Домножим матрицу на обратную матрицу $P^{-1}$ и преобразуем выражение:\n",
    "\n",
    "$$\n",
    "X_{new} P^{-1} = X P P^{-1} = X (P P^{-1}) = X E = X\n",
    "$$\n",
    "\n",
    "В итоге мы получаем исходную матрицу признаков X."
   ]
  },
  {
   "cell_type": "markdown",
   "metadata": {},
   "source": [
    "**Обоснование**\n",
    "\n",
    "Качество линейной регрессии не поменяется, так как мы заменили значения элементов матрицы признаков, сохранив размерность. При этом, значение каждого элемента новой матрицы признаков является линейной комбинацей исходных значений признаков, что означает высокую корреляцию значений элементов этих двух матриц.  "
   ]
  },
  {
   "cell_type": "markdown",
   "metadata": {},
   "source": [
    "## Проверка алгоритма"
   ]
  },
  {
   "cell_type": "code",
   "execution_count": 4,
   "metadata": {},
   "outputs": [
    {
     "name": "stdout",
     "output_type": "stream",
     "text": [
      "Значение коэффициента R2 до обработки признаков: 0.424946\n",
      "Создана обратимая матрица:\n",
      "[[23 56 81 54]\n",
      " [71 92 10 92]\n",
      " [12 43 70 33]\n",
      " [84 69 63  6]]\n",
      "Значение коэффициента R2 после обработки признаков: 0.424946\n"
     ]
    }
   ],
   "source": [
    "# Обучим модель со стандартной матрицей признаков\n",
    "model = LinearRegression()\n",
    "model.fit(features, target)\n",
    "pred = model.predict(features)\n",
    "r2 = r2_score(target, pred)\n",
    "print(f\"Значение коэффициента R2 до обработки признаков: {r2:.6f}\")\n",
    "# Сохраним коэффициенты модели\n",
    "coefs_1 = model.coef_\n",
    "\n",
    "# Изменим матрицу признаков и заново обучим модель \n",
    "# # Зафиксируем случайность\n",
    "# np.random.seed(12345) \n",
    "\n",
    "# Созадим матрицу со случайными значениями и проверим, что она обратима\n",
    "i = 0\n",
    "while i == 0:\n",
    "    try:\n",
    "        matrix = np.random.randint(100, size = (features.shape[1], features.shape[1]))\n",
    "        i = 1\n",
    "        print('Создана обратимая матрица:')\n",
    "        print(matrix)\n",
    "    except:\n",
    "        print('Возникла ошибка, матрица необратима. Пробуем еще раз.')\n",
    "\n",
    "# Преобразуем матрицу признаков и обучим модель\n",
    "features_transformed = features @ matrix\n",
    "features_transformed.columns = features.columns\n",
    "model.fit(features_transformed, target)\n",
    "pred = model.predict(features_transformed)\n",
    "r2_transformed = r2_score(target, pred)\n",
    "print(f\"Значение коэффициента R2 после обработки признаков: {r2_transformed:.6f}\")\n",
    "# Сохраним коэффициенты модели\n",
    "coefs_2 = model.coef_"
   ]
  },
  {
   "cell_type": "markdown",
   "metadata": {},
   "source": [
    "**Выводы:** Алгоритм преобразования признаков не оказал влияния на эффективность модели. Значение метрики R2 не изменилось и осталось на уровне 0,42."
   ]
  },
  {
   "cell_type": "markdown",
   "metadata": {},
   "source": [
    "Восстановим исходные значения признаков"
   ]
  },
  {
   "cell_type": "code",
   "execution_count": 5,
   "metadata": {},
   "outputs": [
    {
     "data": {
      "image/png": "[encoded data removed]",
      "text/plain": [
       "<Figure size 432x288 with 1 Axes>"
      ]
     },
     "metadata": {
      "needs_background": "light"
     },
     "output_type": "display_data"
    },
    {
     "data": {
      "image/png": "[encoded data removed]",
      "text/plain": [
       "<Figure size 432x288 with 1 Axes>"
      ]
     },
     "metadata": {
      "needs_background": "light"
     },
     "output_type": "display_data"
    },
    {
     "data": {
      "image/png": "[encoded data removed]",
      "text/plain": [
       "<Figure size 432x288 with 1 Axes>"
      ]
     },
     "metadata": {
      "needs_background": "light"
     },
     "output_type": "display_data"
    },
    {
     "data": {
      "image/png": "[encoded data removed]",
      "text/plain": [
       "<Figure size 432x288 with 1 Axes>"
      ]
     },
     "metadata": {
      "needs_background": "light"
     },
     "output_type": "display_data"
    }
   ],
   "source": [
    "# Найдем обратную матрицу\n",
    "inv_matrix = np.linalg.inv(matrix)\n",
    "features_restored = features_transformed @ inv_matrix\n",
    "features_restored.columns = features.columns\n",
    "# Сравним распределения исходных и восстановленных значений\n",
    "for col in features.columns:\n",
    "    features[col].plot.kde(marker='o', label=\"Исходные значения\")\n",
    "    features_restored[col].plot.kde(label=\"Восстановленные значения\")\n",
    "    plt.title(\"Столбец \" +str(col))\n",
    "    plt.legend()\n",
    "    plt.show()"
   ]
  },
  {
   "cell_type": "markdown",
   "metadata": {},
   "source": [
    "**Вывод:** По распределениям видно, что восстановление исходных значений работает корректно."
   ]
  },
  {
   "cell_type": "markdown",
   "metadata": {},
   "source": [
    "Посмотрим как связаны коэффициенты моделей до и после преобразования"
   ]
  },
  {
   "cell_type": "code",
   "execution_count": 6,
   "metadata": {},
   "outputs": [
    {
     "name": "stdout",
     "output_type": "stream",
     "text": [
      "Коэффициенты модели до преобразования\n",
      "[ 0.00792581  0.30137677 -0.00168364 -0.01356766]\n",
      "Коэффициенты модели после преобразования\n",
      "[-0.00260206  0.00576857 -0.00304932 -0.00015318]\n",
      "Расчитанные значения коэффициентов:\n",
      "[-0.00260206  0.00576857 -0.00304932 -0.00015318]\n"
     ]
    }
   ],
   "source": [
    "print(\"Коэффициенты модели до преобразования\")\n",
    "print(coefs_1)\n",
    "print(\"Коэффициенты модели после преобразования\")\n",
    "print(coefs_2)\n",
    "# Проверим формулу из пункта 2. Выразим коэффиценты новой модели через коээфиценты модели до преобразования и посмотрим на разность\n",
    "print(\"Расчитанные значения коэффициентов:\")\n",
    "print(inv_matrix.dot(coefs_1))"
   ]
  },
  {
   "cell_type": "markdown",
   "metadata": {},
   "source": [
    "**Выводы:** Формула работает, расчитанные значения близки к полученным"
   ]
  },
  {
   "cell_type": "markdown",
   "metadata": {},
   "source": [
    "## Выводы"
   ]
  },
  {
   "cell_type": "markdown",
   "metadata": {},
   "source": [
    "В данном проекты показано, что умножение матрицы признаков на обратимую матрицу не влияет на обучаемость модели линейной регрессии и на значение метрики качества.\n",
    "\n",
    "Был разработан алгоритм кодирования признаков. Приведенный алгоритм позволяет, зная нужную матрицу преобразования, вычислить исходные значения признаков. \n",
    "\n",
    "Были проверены формулы связывающе параметры линейно регрессии до и после преобразования."
   ]
  }
 ],
 "metadata": {
  "ExecuteTimeLog": [
   {
    "duration": 1138,
    "start_time": "2021-11-11T19:05:32.784Z"
   },
   {
    "duration": 133,
    "start_time": "2021-11-11T19:05:42.846Z"
   },
   {
    "duration": 4,
    "start_time": "2021-11-11T19:05:50.070Z"
   },
   {
    "duration": 19,
    "start_time": "2021-11-11T19:05:50.324Z"
   },
   {
    "duration": 419,
    "start_time": "2021-11-13T10:15:54.629Z"
   },
   {
    "duration": 995,
    "start_time": "2021-11-13T10:15:56.928Z"
   },
   {
    "duration": 20,
    "start_time": "2021-11-13T10:15:57.926Z"
   },
   {
    "duration": 49,
    "start_time": "2021-11-13T10:15:57.949Z"
   },
   {
    "duration": 18,
    "start_time": "2021-11-13T10:16:14.725Z"
   },
   {
    "duration": 1514,
    "start_time": "2021-11-13T10:17:38.408Z"
   },
   {
    "duration": 12,
    "start_time": "2021-11-13T10:17:55.789Z"
   },
   {
    "duration": 31,
    "start_time": "2021-11-13T10:18:09.087Z"
   },
   {
    "duration": 8,
    "start_time": "2021-11-13T10:18:30.861Z"
   },
   {
    "duration": 5,
    "start_time": "2021-11-13T10:19:15.260Z"
   },
   {
    "duration": 6,
    "start_time": "2021-11-13T10:19:25.779Z"
   },
   {
    "duration": 17,
    "start_time": "2021-11-13T10:19:29.307Z"
   },
   {
    "duration": 349,
    "start_time": "2021-11-13T10:54:02.213Z"
   },
   {
    "duration": 435,
    "start_time": "2021-11-13T10:55:49.582Z"
   },
   {
    "duration": 473,
    "start_time": "2021-11-13T10:55:53.063Z"
   },
   {
    "duration": 4,
    "start_time": "2021-11-13T10:55:59.034Z"
   },
   {
    "duration": 5,
    "start_time": "2021-11-13T11:01:00.496Z"
   },
   {
    "duration": 937,
    "start_time": "2021-11-13T11:01:56.150Z"
   },
   {
    "duration": 13,
    "start_time": "2021-11-13T11:02:03.854Z"
   },
   {
    "duration": 5,
    "start_time": "2021-11-13T11:02:08.720Z"
   },
   {
    "duration": 38,
    "start_time": "2021-11-13T11:02:59.721Z"
   },
   {
    "duration": 37,
    "start_time": "2021-11-13T11:02:59.763Z"
   },
   {
    "duration": 775,
    "start_time": "2021-11-13T11:03:01.492Z"
   },
   {
    "duration": 1542,
    "start_time": "2021-11-13T11:03:00.728Z"
   },
   {
    "duration": 892,
    "start_time": "2021-11-13T11:03:22.481Z"
   },
   {
    "duration": 1550,
    "start_time": "2021-11-13T11:03:21.825Z"
   },
   {
    "duration": 855,
    "start_time": "2021-11-13T11:03:36.509Z"
   },
   {
    "duration": 17,
    "start_time": "2021-11-13T11:03:46.361Z"
   },
   {
    "duration": 17,
    "start_time": "2021-11-13T11:03:46.934Z"
   },
   {
    "duration": 672,
    "start_time": "2021-11-13T11:04:15.917Z"
   },
   {
    "duration": 9,
    "start_time": "2021-11-13T11:04:26.956Z"
   },
   {
    "duration": 846,
    "start_time": "2021-11-13T11:12:22.804Z"
   },
   {
    "duration": 984,
    "start_time": "2021-11-13T11:12:27.471Z"
   },
   {
    "duration": 741,
    "start_time": "2021-11-13T11:12:33.502Z"
   },
   {
    "duration": 15,
    "start_time": "2021-11-13T11:12:57.209Z"
   },
   {
    "duration": 7,
    "start_time": "2021-11-13T11:13:00.913Z"
   },
   {
    "duration": 8,
    "start_time": "2021-11-13T11:13:04.119Z"
   },
   {
    "duration": 8,
    "start_time": "2021-11-13T11:13:10.001Z"
   },
   {
    "duration": 16,
    "start_time": "2021-11-13T11:14:37.489Z"
   },
   {
    "duration": 8,
    "start_time": "2021-11-13T11:14:40.305Z"
   },
   {
    "duration": 31,
    "start_time": "2021-11-13T11:14:54.785Z"
   },
   {
    "duration": 1597,
    "start_time": "2021-11-13T11:17:05.375Z"
   },
   {
    "duration": 49,
    "start_time": "2021-11-13T11:17:06.974Z"
   },
   {
    "duration": 5,
    "start_time": "2021-11-13T11:17:07.026Z"
   },
   {
    "duration": 72,
    "start_time": "2021-11-13T11:17:07.034Z"
   },
   {
    "duration": 17,
    "start_time": "2021-11-13T11:17:21.455Z"
   },
   {
    "duration": 16,
    "start_time": "2021-11-13T11:17:26.751Z"
   },
   {
    "duration": 16,
    "start_time": "2021-11-13T11:17:27.146Z"
   },
   {
    "duration": 14,
    "start_time": "2021-11-13T11:17:31.749Z"
   },
   {
    "duration": 1138,
    "start_time": "2021-11-13T11:18:08.831Z"
   },
   {
    "duration": 12,
    "start_time": "2021-11-13T11:18:32.837Z"
   },
   {
    "duration": 20,
    "start_time": "2021-11-13T11:18:36.062Z"
   },
   {
    "duration": 20,
    "start_time": "2021-11-13T11:18:38.021Z"
   },
   {
    "duration": 388,
    "start_time": "2021-11-13T12:31:20.891Z"
   },
   {
    "duration": 4,
    "start_time": "2021-11-13T12:31:26.367Z"
   },
   {
    "duration": 379,
    "start_time": "2021-11-13T12:31:29.725Z"
   },
   {
    "duration": 5,
    "start_time": "2021-11-13T12:31:55.693Z"
   },
   {
    "duration": 1809,
    "start_time": "2021-11-13T12:31:58.360Z"
   },
   {
    "duration": 4,
    "start_time": "2021-11-13T12:32:02.836Z"
   },
   {
    "duration": 4,
    "start_time": "2021-11-13T12:32:10.320Z"
   },
   {
    "duration": 383,
    "start_time": "2021-11-13T12:32:25.826Z"
   },
   {
    "duration": 14,
    "start_time": "2021-11-13T12:32:43.647Z"
   },
   {
    "duration": 28,
    "start_time": "2021-11-13T12:33:19.676Z"
   },
   {
    "duration": 12,
    "start_time": "2021-11-13T12:33:21.711Z"
   },
   {
    "duration": 12,
    "start_time": "2021-11-13T12:33:21.956Z"
   },
   {
    "duration": 11,
    "start_time": "2021-11-13T12:33:24.326Z"
   },
   {
    "duration": 21,
    "start_time": "2021-11-13T12:33:24.500Z"
   },
   {
    "duration": 5,
    "start_time": "2021-11-13T12:34:06.817Z"
   },
   {
    "duration": 1349,
    "start_time": "2021-11-13T12:34:20.104Z"
   },
   {
    "duration": 45,
    "start_time": "2021-11-13T12:34:21.456Z"
   },
   {
    "duration": 16,
    "start_time": "2021-11-13T12:34:21.504Z"
   },
   {
    "duration": 79,
    "start_time": "2021-11-13T12:34:21.523Z"
   },
   {
    "duration": 97,
    "start_time": "2021-11-13T12:34:21.605Z"
   },
   {
    "duration": 14,
    "start_time": "2021-11-13T12:34:21.705Z"
   },
   {
    "duration": 6,
    "start_time": "2021-11-13T12:34:21.803Z"
   },
   {
    "duration": 7,
    "start_time": "2021-11-13T12:35:32.028Z"
   },
   {
    "duration": 5,
    "start_time": "2021-11-13T12:35:45.779Z"
   },
   {
    "duration": 13,
    "start_time": "2021-11-13T12:37:56.498Z"
   },
   {
    "duration": 15,
    "start_time": "2021-11-13T12:37:58.568Z"
   },
   {
    "duration": 5,
    "start_time": "2021-11-13T12:37:58.733Z"
   },
   {
    "duration": 14,
    "start_time": "2021-11-13T12:37:58.905Z"
   },
   {
    "duration": 7,
    "start_time": "2021-11-13T12:37:59.721Z"
   },
   {
    "duration": 4,
    "start_time": "2021-11-13T12:41:53.304Z"
   },
   {
    "duration": 5,
    "start_time": "2021-11-13T12:41:56.906Z"
   },
   {
    "duration": 3,
    "start_time": "2021-11-13T12:42:04.893Z"
   },
   {
    "duration": 5,
    "start_time": "2021-11-13T12:42:29.663Z"
   },
   {
    "duration": 6,
    "start_time": "2021-11-13T12:42:38.219Z"
   },
   {
    "duration": 5,
    "start_time": "2021-11-13T12:43:09.010Z"
   },
   {
    "duration": 6,
    "start_time": "2021-11-13T12:43:09.242Z"
   },
   {
    "duration": 6,
    "start_time": "2021-11-13T12:43:12.506Z"
   },
   {
    "duration": 5,
    "start_time": "2021-11-13T12:43:22.141Z"
   },
   {
    "duration": 5,
    "start_time": "2021-11-13T12:43:22.335Z"
   },
   {
    "duration": 2667,
    "start_time": "2021-11-13T12:43:34.970Z"
   },
   {
    "duration": 45,
    "start_time": "2021-11-13T12:43:37.641Z"
   },
   {
    "duration": 22,
    "start_time": "2021-11-13T12:43:37.689Z"
   },
   {
    "duration": 185,
    "start_time": "2021-11-13T12:43:37.715Z"
   },
   {
    "duration": 4,
    "start_time": "2021-11-13T12:43:37.903Z"
   },
   {
    "duration": 96,
    "start_time": "2021-11-13T12:43:37.910Z"
   },
   {
    "duration": 97,
    "start_time": "2021-11-13T12:43:38.009Z"
   },
   {
    "duration": 9,
    "start_time": "2021-11-13T12:43:38.110Z"
   },
   {
    "duration": 10,
    "start_time": "2021-11-13T12:43:38.203Z"
   },
   {
    "duration": 29,
    "start_time": "2021-11-13T12:43:38.217Z"
   },
   {
    "duration": 19,
    "start_time": "2021-11-13T12:43:38.249Z"
   },
   {
    "duration": 10,
    "start_time": "2021-11-13T12:43:38.270Z"
   },
   {
    "duration": 6,
    "start_time": "2021-11-13T12:43:57.686Z"
   },
   {
    "duration": 6,
    "start_time": "2021-11-13T12:44:04.720Z"
   },
   {
    "duration": 6,
    "start_time": "2021-11-13T12:44:11.832Z"
   },
   {
    "duration": 5,
    "start_time": "2021-11-13T12:44:15.781Z"
   },
   {
    "duration": 6,
    "start_time": "2021-11-13T12:44:23.158Z"
   },
   {
    "duration": 5,
    "start_time": "2021-11-13T12:44:27.388Z"
   },
   {
    "duration": 5,
    "start_time": "2021-11-13T12:44:27.589Z"
   },
   {
    "duration": 6,
    "start_time": "2021-11-13T12:44:42.993Z"
   },
   {
    "duration": 6,
    "start_time": "2021-11-13T12:44:44.084Z"
   },
   {
    "duration": 5,
    "start_time": "2021-11-13T12:44:44.501Z"
   },
   {
    "duration": 6,
    "start_time": "2021-11-13T12:45:56.915Z"
   },
   {
    "duration": 5,
    "start_time": "2021-11-13T12:46:01.077Z"
   },
   {
    "duration": 6,
    "start_time": "2021-11-13T12:46:05.989Z"
   },
   {
    "duration": 15,
    "start_time": "2021-11-13T12:46:58.481Z"
   },
   {
    "duration": 15,
    "start_time": "2021-11-13T12:47:04.631Z"
   },
   {
    "duration": 16,
    "start_time": "2021-11-13T12:47:10.841Z"
   },
   {
    "duration": 16,
    "start_time": "2021-11-13T12:47:15.377Z"
   },
   {
    "duration": 1685,
    "start_time": "2021-11-13T12:48:03.544Z"
   },
   {
    "duration": 1623,
    "start_time": "2021-11-13T12:48:03.609Z"
   },
   {
    "duration": 1616,
    "start_time": "2021-11-13T12:48:03.618Z"
   },
   {
    "duration": 1616,
    "start_time": "2021-11-13T12:48:03.619Z"
   },
   {
    "duration": 1617,
    "start_time": "2021-11-13T12:48:03.620Z"
   },
   {
    "duration": 1618,
    "start_time": "2021-11-13T12:48:03.620Z"
   },
   {
    "duration": 1618,
    "start_time": "2021-11-13T12:48:03.621Z"
   },
   {
    "duration": 72,
    "start_time": "2021-11-13T12:49:03.128Z"
   },
   {
    "duration": 5,
    "start_time": "2021-11-13T12:49:09.480Z"
   },
   {
    "duration": 13,
    "start_time": "2021-11-13T12:49:10.896Z"
   },
   {
    "duration": 5,
    "start_time": "2021-11-13T12:49:11.198Z"
   },
   {
    "duration": 19,
    "start_time": "2021-11-13T12:49:14.660Z"
   },
   {
    "duration": 6,
    "start_time": "2021-11-13T12:49:14.972Z"
   },
   {
    "duration": 13,
    "start_time": "2021-11-13T12:49:16.463Z"
   },
   {
    "duration": 5,
    "start_time": "2021-11-13T12:49:16.734Z"
   },
   {
    "duration": 15,
    "start_time": "2021-11-13T12:49:18.176Z"
   },
   {
    "duration": 6,
    "start_time": "2021-11-13T12:49:18.422Z"
   },
   {
    "duration": 14,
    "start_time": "2021-11-13T12:49:21.559Z"
   },
   {
    "duration": 6,
    "start_time": "2021-11-13T12:49:21.792Z"
   },
   {
    "duration": 1305,
    "start_time": "2021-11-13T12:49:31.351Z"
   },
   {
    "duration": 46,
    "start_time": "2021-11-13T12:49:32.659Z"
   },
   {
    "duration": 17,
    "start_time": "2021-11-13T12:49:32.713Z"
   },
   {
    "duration": 69,
    "start_time": "2021-11-13T12:49:32.732Z"
   },
   {
    "duration": 104,
    "start_time": "2021-11-13T12:49:32.805Z"
   },
   {
    "duration": 93,
    "start_time": "2021-11-13T12:49:32.912Z"
   },
   {
    "duration": 118,
    "start_time": "2021-11-13T12:49:33.007Z"
   },
   {
    "duration": 14,
    "start_time": "2021-11-13T12:49:33.129Z"
   },
   {
    "duration": 25,
    "start_time": "2021-11-13T12:49:33.145Z"
   },
   {
    "duration": 28,
    "start_time": "2021-11-13T12:49:33.172Z"
   },
   {
    "duration": 27,
    "start_time": "2021-11-13T12:49:33.202Z"
   },
   {
    "duration": 15,
    "start_time": "2021-11-13T12:49:44.055Z"
   },
   {
    "duration": 16,
    "start_time": "2021-11-13T12:49:46.249Z"
   },
   {
    "duration": 16,
    "start_time": "2021-11-13T12:49:49.139Z"
   },
   {
    "duration": 16,
    "start_time": "2021-11-13T12:49:58.914Z"
   },
   {
    "duration": 16,
    "start_time": "2021-11-13T12:51:38.461Z"
   },
   {
    "duration": 527,
    "start_time": "2021-11-13T12:51:45.350Z"
   },
   {
    "duration": 490,
    "start_time": "2021-11-13T12:51:59.594Z"
   },
   {
    "duration": 30,
    "start_time": "2021-11-13T12:52:15.745Z"
   },
   {
    "duration": 17,
    "start_time": "2021-11-13T12:52:24.449Z"
   },
   {
    "duration": 35,
    "start_time": "2021-11-13T12:54:43.583Z"
   },
   {
    "duration": 16,
    "start_time": "2021-11-13T12:54:56.330Z"
   },
   {
    "duration": 7,
    "start_time": "2021-11-13T12:55:10.372Z"
   },
   {
    "duration": 6,
    "start_time": "2021-11-13T12:55:25.151Z"
   },
   {
    "duration": 7,
    "start_time": "2021-11-13T12:55:29.454Z"
   },
   {
    "duration": 6,
    "start_time": "2021-11-13T12:55:52.473Z"
   },
   {
    "duration": 7,
    "start_time": "2021-11-13T12:56:04.306Z"
   },
   {
    "duration": 7,
    "start_time": "2021-11-13T12:56:17.361Z"
   },
   {
    "duration": 380,
    "start_time": "2021-11-13T12:56:27.967Z"
   },
   {
    "duration": 376,
    "start_time": "2021-11-13T12:56:36.386Z"
   },
   {
    "duration": 529,
    "start_time": "2021-11-13T12:56:48.980Z"
   },
   {
    "duration": 7,
    "start_time": "2021-11-13T12:56:57.728Z"
   },
   {
    "duration": 6,
    "start_time": "2021-11-13T13:00:55.468Z"
   },
   {
    "duration": 650,
    "start_time": "2021-11-13T13:01:16.545Z"
   },
   {
    "duration": 628,
    "start_time": "2021-11-13T13:01:26.191Z"
   },
   {
    "duration": 667,
    "start_time": "2021-11-13T13:01:33.654Z"
   },
   {
    "duration": 13,
    "start_time": "2021-11-13T13:02:32.355Z"
   },
   {
    "duration": 6,
    "start_time": "2021-11-13T14:23:00.729Z"
   },
   {
    "duration": 6,
    "start_time": "2021-11-13T14:23:03.222Z"
   },
   {
    "duration": 6,
    "start_time": "2021-11-13T14:23:03.467Z"
   },
   {
    "duration": 6,
    "start_time": "2021-11-13T14:23:09.503Z"
   },
   {
    "duration": 5,
    "start_time": "2021-11-13T14:23:10.227Z"
   },
   {
    "duration": 5,
    "start_time": "2021-11-13T14:23:10.458Z"
   },
   {
    "duration": 6,
    "start_time": "2021-11-13T14:23:18.127Z"
   },
   {
    "duration": 6,
    "start_time": "2021-11-13T14:23:26.076Z"
   },
   {
    "duration": 5,
    "start_time": "2021-11-13T14:27:08.365Z"
   },
   {
    "duration": 21,
    "start_time": "2021-11-13T14:31:25.379Z"
   },
   {
    "duration": 4,
    "start_time": "2021-11-13T14:35:23.994Z"
   },
   {
    "duration": 93,
    "start_time": "2021-11-13T14:35:24.001Z"
   },
   {
    "duration": 15,
    "start_time": "2021-11-13T14:35:24.097Z"
   },
   {
    "duration": 24,
    "start_time": "2021-11-13T14:35:25.080Z"
   },
   {
    "duration": 37,
    "start_time": "2021-11-13T14:35:37.964Z"
   },
   {
    "duration": 23,
    "start_time": "2021-11-13T14:35:44.792Z"
   },
   {
    "duration": 1378,
    "start_time": "2021-11-13T14:37:57.915Z"
   },
   {
    "duration": 44,
    "start_time": "2021-11-13T14:37:59.295Z"
   },
   {
    "duration": 5,
    "start_time": "2021-11-13T14:37:59.342Z"
   },
   {
    "duration": 58,
    "start_time": "2021-11-13T14:37:59.350Z"
   },
   {
    "duration": 188,
    "start_time": "2021-11-13T14:37:59.414Z"
   },
   {
    "duration": 109,
    "start_time": "2021-11-13T14:37:59.605Z"
   },
   {
    "duration": 13,
    "start_time": "2021-11-13T14:37:59.802Z"
   },
   {
    "duration": 82,
    "start_time": "2021-11-13T14:37:59.821Z"
   },
   {
    "duration": 7,
    "start_time": "2021-11-13T14:37:59.906Z"
   },
   {
    "duration": 8,
    "start_time": "2021-11-13T14:37:59.916Z"
   },
   {
    "duration": 11,
    "start_time": "2021-11-13T14:37:59.926Z"
   },
   {
    "duration": 8,
    "start_time": "2021-11-13T14:37:59.940Z"
   },
   {
    "duration": 64,
    "start_time": "2021-11-13T14:37:59.950Z"
   },
   {
    "duration": 27,
    "start_time": "2021-11-13T14:38:00.017Z"
   },
   {
    "duration": 21,
    "start_time": "2021-11-13T14:38:00.047Z"
   },
   {
    "duration": 18,
    "start_time": "2021-11-13T14:38:00.070Z"
   },
   {
    "duration": 14,
    "start_time": "2021-11-13T14:38:08.943Z"
   },
   {
    "duration": 37,
    "start_time": "2021-11-13T14:38:32.221Z"
   },
   {
    "duration": 16,
    "start_time": "2021-11-13T14:41:12.379Z"
   },
   {
    "duration": 613,
    "start_time": "2021-11-13T14:41:57.195Z"
   },
   {
    "duration": 1688,
    "start_time": "2021-11-13T14:41:56.123Z"
   },
   {
    "duration": 15,
    "start_time": "2021-11-13T14:42:18.050Z"
   },
   {
    "duration": 6,
    "start_time": "2021-11-13T14:42:30.655Z"
   },
   {
    "duration": 15,
    "start_time": "2021-11-13T14:42:31.141Z"
   },
   {
    "duration": 4,
    "start_time": "2021-11-13T14:42:57.970Z"
   },
   {
    "duration": 14,
    "start_time": "2021-11-13T14:42:59.332Z"
   },
   {
    "duration": 5,
    "start_time": "2021-11-13T14:43:16.120Z"
   },
   {
    "duration": 17,
    "start_time": "2021-11-13T14:43:16.204Z"
   },
   {
    "duration": 122,
    "start_time": "2021-11-13T14:43:46.780Z"
   },
   {
    "duration": 15,
    "start_time": "2021-11-13T14:43:51.967Z"
   },
   {
    "duration": 16,
    "start_time": "2021-11-13T14:44:14.298Z"
   },
   {
    "duration": 15,
    "start_time": "2021-11-13T14:44:15.556Z"
   },
   {
    "duration": 118,
    "start_time": "2021-11-13T14:47:56.217Z"
   },
   {
    "duration": 1414,
    "start_time": "2021-11-13T14:47:59.461Z"
   },
   {
    "duration": 1633,
    "start_time": "2021-11-13T14:48:14.882Z"
   },
   {
    "duration": 611,
    "start_time": "2021-11-13T14:48:23.062Z"
   },
   {
    "duration": 115,
    "start_time": "2021-11-13T14:49:10.287Z"
   },
   {
    "duration": 1468,
    "start_time": "2021-11-13T14:49:35.838Z"
   },
   {
    "duration": 1497,
    "start_time": "2021-11-13T14:49:40.397Z"
   },
   {
    "duration": 1678,
    "start_time": "2021-11-13T14:49:53.484Z"
   },
   {
    "duration": 129,
    "start_time": "2021-11-13T14:49:57.171Z"
   },
   {
    "duration": 1338,
    "start_time": "2021-11-13T14:50:00.135Z"
   },
   {
    "duration": 1414,
    "start_time": "2021-11-13T14:50:07.345Z"
   },
   {
    "duration": 1498,
    "start_time": "2021-11-13T14:50:14.776Z"
   },
   {
    "duration": 1497,
    "start_time": "2021-11-13T14:50:41.985Z"
   },
   {
    "duration": 1654,
    "start_time": "2021-11-13T14:50:48.634Z"
   },
   {
    "duration": 1811,
    "start_time": "2021-11-13T14:51:04.752Z"
   },
   {
    "duration": 447,
    "start_time": "2021-11-13T14:51:33.917Z"
   },
   {
    "duration": 2129,
    "start_time": "2021-11-13T14:51:41.519Z"
   },
   {
    "duration": 2693,
    "start_time": "2021-11-13T14:51:53.605Z"
   },
   {
    "duration": 2677,
    "start_time": "2021-11-13T14:52:10.059Z"
   },
   {
    "duration": 2673,
    "start_time": "2021-11-13T14:52:20.718Z"
   },
   {
    "duration": 2669,
    "start_time": "2021-11-13T14:52:28.654Z"
   },
   {
    "duration": 2734,
    "start_time": "2021-11-13T14:52:32.712Z"
   },
   {
    "duration": 912,
    "start_time": "2021-11-13T14:52:55.654Z"
   },
   {
    "duration": 885,
    "start_time": "2021-11-13T14:52:58.449Z"
   },
   {
    "duration": 939,
    "start_time": "2021-11-13T14:53:19.140Z"
   },
   {
    "duration": 973,
    "start_time": "2021-11-13T14:53:27.686Z"
   },
   {
    "duration": 2709,
    "start_time": "2021-11-13T14:53:41.908Z"
   },
   {
    "duration": 995,
    "start_time": "2021-11-13T14:54:00.288Z"
   },
   {
    "duration": 733,
    "start_time": "2021-11-13T14:54:11.550Z"
   },
   {
    "duration": 2636,
    "start_time": "2021-11-13T14:54:20.827Z"
   },
   {
    "duration": 7,
    "start_time": "2021-11-13T16:42:18.099Z"
   },
   {
    "duration": 6,
    "start_time": "2021-11-13T16:42:49.432Z"
   },
   {
    "duration": 7,
    "start_time": "2021-11-13T16:46:02.490Z"
   },
   {
    "duration": 7,
    "start_time": "2021-11-13T16:46:12.962Z"
   },
   {
    "duration": 6,
    "start_time": "2021-11-13T16:46:18.642Z"
   },
   {
    "duration": 8,
    "start_time": "2021-11-13T16:46:25.309Z"
   },
   {
    "duration": 7,
    "start_time": "2021-11-13T16:46:27.757Z"
   },
   {
    "duration": 7,
    "start_time": "2021-11-13T16:46:30.946Z"
   },
   {
    "duration": 8,
    "start_time": "2021-11-13T16:46:33.803Z"
   },
   {
    "duration": 6,
    "start_time": "2021-11-13T16:46:37.916Z"
   },
   {
    "duration": 7,
    "start_time": "2021-11-13T16:47:07.984Z"
   },
   {
    "duration": 7,
    "start_time": "2021-11-13T16:47:11.825Z"
   },
   {
    "duration": 7,
    "start_time": "2021-11-13T16:47:29.678Z"
   },
   {
    "duration": 7,
    "start_time": "2021-11-13T16:47:38.483Z"
   },
   {
    "duration": 1514,
    "start_time": "2021-11-13T16:47:53.656Z"
   },
   {
    "duration": 127,
    "start_time": "2021-11-13T16:47:55.173Z"
   },
   {
    "duration": 30,
    "start_time": "2021-11-13T16:47:55.304Z"
   },
   {
    "duration": 68,
    "start_time": "2021-11-13T16:47:55.337Z"
   },
   {
    "duration": 2755,
    "start_time": "2021-11-13T16:47:55.408Z"
   },
   {
    "duration": 7,
    "start_time": "2021-11-13T16:47:58.166Z"
   },
   {
    "duration": 1587,
    "start_time": "2021-11-13T16:48:12.020Z"
   },
   {
    "duration": 40,
    "start_time": "2021-11-13T16:48:13.610Z"
   },
   {
    "duration": 32,
    "start_time": "2021-11-13T16:48:13.657Z"
   },
   {
    "duration": 21,
    "start_time": "2021-11-13T16:48:13.691Z"
   },
   {
    "duration": 3008,
    "start_time": "2021-11-13T16:48:13.715Z"
   },
   {
    "duration": 8,
    "start_time": "2021-11-13T16:48:16.726Z"
   },
   {
    "duration": 1515,
    "start_time": "2021-11-13T18:20:33.451Z"
   },
   {
    "duration": 38,
    "start_time": "2021-11-13T18:20:34.969Z"
   },
   {
    "duration": 28,
    "start_time": "2021-11-13T18:20:35.010Z"
   },
   {
    "duration": 164,
    "start_time": "2021-11-13T18:20:35.040Z"
   },
   {
    "duration": 2842,
    "start_time": "2021-11-13T18:20:35.208Z"
   },
   {
    "duration": 7,
    "start_time": "2021-11-13T18:20:38.052Z"
   },
   {
    "duration": 138,
    "start_time": "2021-11-13T18:26:18.328Z"
   },
   {
    "duration": 1536,
    "start_time": "2021-11-13T18:29:02.638Z"
   },
   {
    "duration": 37,
    "start_time": "2021-11-13T18:29:04.177Z"
   },
   {
    "duration": 26,
    "start_time": "2021-11-13T18:29:04.217Z"
   },
   {
    "duration": 60,
    "start_time": "2021-11-13T18:29:04.246Z"
   },
   {
    "duration": 2624,
    "start_time": "2021-11-13T18:29:04.309Z"
   },
   {
    "duration": 7,
    "start_time": "2021-11-13T18:29:06.936Z"
   },
   {
    "duration": 98,
    "start_time": "2021-11-14T10:41:13.294Z"
   },
   {
    "duration": 308,
    "start_time": "2021-11-14T10:41:28.319Z"
   },
   {
    "duration": 1130,
    "start_time": "2021-11-14T10:41:32.592Z"
   },
   {
    "duration": 29,
    "start_time": "2021-11-14T10:41:33.723Z"
   },
   {
    "duration": 22,
    "start_time": "2021-11-14T10:41:33.754Z"
   },
   {
    "duration": 70,
    "start_time": "2021-11-14T10:41:33.778Z"
   },
   {
    "duration": 17,
    "start_time": "2021-11-14T10:41:42.800Z"
   },
   {
    "duration": 14,
    "start_time": "2021-11-14T10:41:44.892Z"
   },
   {
    "duration": 15,
    "start_time": "2021-11-14T10:42:06.456Z"
   },
   {
    "duration": 18,
    "start_time": "2021-11-14T10:42:14.784Z"
   },
   {
    "duration": 16,
    "start_time": "2021-11-14T10:42:16.239Z"
   },
   {
    "duration": 17,
    "start_time": "2021-11-14T10:42:17.643Z"
   },
   {
    "duration": 198,
    "start_time": "2021-11-14T10:42:46.565Z"
   },
   {
    "duration": 192,
    "start_time": "2021-11-14T10:42:57.258Z"
   },
   {
    "duration": 21,
    "start_time": "2021-11-14T10:43:06.481Z"
   },
   {
    "duration": 1093,
    "start_time": "2021-11-14T10:44:27.969Z"
   },
   {
    "duration": 30,
    "start_time": "2021-11-14T10:44:29.064Z"
   },
   {
    "duration": 19,
    "start_time": "2021-11-14T10:44:29.096Z"
   },
   {
    "duration": 33,
    "start_time": "2021-11-14T10:44:29.117Z"
   },
   {
    "duration": 1728,
    "start_time": "2021-11-14T10:44:29.153Z"
   },
   {
    "duration": 5,
    "start_time": "2021-11-14T10:44:30.883Z"
   },
   {
    "duration": 1457,
    "start_time": "2021-11-14T23:20:34.272Z"
   },
   {
    "duration": 35,
    "start_time": "2021-11-14T23:20:35.732Z"
   },
   {
    "duration": 30,
    "start_time": "2021-11-14T23:20:35.770Z"
   },
   {
    "duration": 181,
    "start_time": "2021-11-14T23:20:35.802Z"
   },
   {
    "duration": 2670,
    "start_time": "2021-11-14T23:20:35.987Z"
   },
   {
    "duration": 7,
    "start_time": "2021-11-14T23:20:38.660Z"
   }
  ],
  "kernelspec": {
   "display_name": "Python 3 (ipykernel)",
   "language": "python",
   "name": "python3"
  },
  "language_info": {
   "codemirror_mode": {
    "name": "ipython",
    "version": 3
   },
   "file_extension": ".py",
   "mimetype": "text/x-python",
   "name": "python",
   "nbconvert_exporter": "python",
   "pygments_lexer": "ipython3",
   "version": "3.7.6"
  },
  "toc": {
   "base_numbering": 1,
   "nav_menu": {},
   "number_sections": true,
   "sideBar": true,
   "skip_h1_title": true,
   "title_cell": "Содержание",
   "title_sidebar": "Contents",
   "toc_cell": true,
   "toc_position": {},
   "toc_section_display": true,
   "toc_window_display": false
  }
 },
 "nbformat": 4,
 "nbformat_minor": 2
}
