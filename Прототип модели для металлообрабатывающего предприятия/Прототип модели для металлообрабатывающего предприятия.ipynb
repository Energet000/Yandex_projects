{
 "cells": [
  {
   "cell_type": "markdown",
   "metadata": {
    "toc": true
   },
   "source": [
    "<h1>Содержание<span class=\"tocSkip\"></span></h1>\n",
    "<div class=\"toc\"><ul class=\"toc-item\"><li><span><a href=\"#Подготовка-данных\" data-toc-modified-id=\"Подготовка-данных-1\"><span class=\"toc-item-num\">1&nbsp;&nbsp;</span>Подготовка данных</a></span><ul class=\"toc-item\"><li><span><a href=\"#Откроем-файлы-и-изучим-их\" data-toc-modified-id=\"Откроем-файлы-и-изучим-их-1.1\"><span class=\"toc-item-num\">1.1&nbsp;&nbsp;</span>Откроем файлы и изучим их</a></span></li><li><span><a href=\"#Проверим,-что-эффективность-обогащения-рассчитана-правильно\" data-toc-modified-id=\"Проверим,-что-эффективность-обогащения-рассчитана-правильно-1.2\"><span class=\"toc-item-num\">1.2&nbsp;&nbsp;</span>Проверим, что эффективность обогащения рассчитана правильно</a></span></li><li><span><a href=\"#Проанализируем-признаки,-недоступные-в-тестовой-выборке\" data-toc-modified-id=\"Проанализируем-признаки,-недоступные-в-тестовой-выборке-1.3\"><span class=\"toc-item-num\">1.3&nbsp;&nbsp;</span>Проанализируем признаки, недоступные в тестовой выборке</a></span></li><li><span><a href=\"#Проведем-предобработку-данных\" data-toc-modified-id=\"Проведем-предобработку-данных-1.4\"><span class=\"toc-item-num\">1.4&nbsp;&nbsp;</span>Проведем предобработку данных</a></span></li></ul></li><li><span><a href=\"#Анализ-данных\" data-toc-modified-id=\"Анализ-данных-2\"><span class=\"toc-item-num\">2&nbsp;&nbsp;</span>Анализ данных</a></span><ul class=\"toc-item\"><li><span><a href=\"#Посмотрим,-как-меняется-концентрация-металлов-(Au,-Ag,-Pb)-на-различных-этапах-очистки.\" data-toc-modified-id=\"Посмотрим,-как-меняется-концентрация-металлов-(Au,-Ag,-Pb)-на-различных-этапах-очистки.-2.1\"><span class=\"toc-item-num\">2.1&nbsp;&nbsp;</span>Посмотрим, как меняется концентрация металлов (Au, Ag, Pb) на различных этапах очистки.</a></span></li><li><span><a href=\"#Сравним-распределения-размеров-гранул-сырья-на-обучающей-и-тестовой-выборках.\" data-toc-modified-id=\"Сравним-распределения-размеров-гранул-сырья-на-обучающей-и-тестовой-выборках.-2.2\"><span class=\"toc-item-num\">2.2&nbsp;&nbsp;</span>Сравним распределения размеров гранул сырья на обучающей и тестовой выборках.</a></span></li><li><span><a href=\"#Исследуем-суммарную-концентрацию-всех-веществ-на-разных-стадиях:-в-сырье,-в-черновом-и-финальном-концентратах.\" data-toc-modified-id=\"Исследуем-суммарную-концентрацию-всех-веществ-на-разных-стадиях:-в-сырье,-в-черновом-и-финальном-концентратах.-2.3\"><span class=\"toc-item-num\">2.3&nbsp;&nbsp;</span>Исследуем суммарную концентрацию всех веществ на разных стадиях: в сырье, в черновом и финальном концентратах.</a></span></li></ul></li><li><span><a href=\"#Модель\" data-toc-modified-id=\"Модель-3\"><span class=\"toc-item-num\">3&nbsp;&nbsp;</span>Модель</a></span><ul class=\"toc-item\"><li><span><a href=\"#Напишием-функцию-для-вычисления-итоговой-sMAPE.\" data-toc-modified-id=\"Напишием-функцию-для-вычисления-итоговой-sMAPE.-3.1\"><span class=\"toc-item-num\">3.1&nbsp;&nbsp;</span>Напишием функцию для вычисления итоговой sMAPE.</a></span></li><li><span><a href=\"#Обучим-разные-модели-и-оценим-их-качество-кросс-валидацией.-Выберем-лучшую-модель-и-провим-ё-на-тестовой-выборке.\" data-toc-modified-id=\"Обучим-разные-модели-и-оценим-их-качество-кросс-валидацией.-Выберем-лучшую-модель-и-провим-ё-на-тестовой-выборке.-3.2\"><span class=\"toc-item-num\">3.2&nbsp;&nbsp;</span>Обучим разные модели и оценим их качество кросс-валидацией. Выберем лучшую модель и провим ё на тестовой выборке.</a></span><ul class=\"toc-item\"><li><span><a href=\"#Модель-для-предсказания-коэффициента-восстановления-для-флотации\" data-toc-modified-id=\"Модель-для-предсказания-коэффициента-восстановления-для-флотации-3.2.1\"><span class=\"toc-item-num\">3.2.1&nbsp;&nbsp;</span>Модель для предсказания коэффициента восстановления для флотации</a></span></li><li><span><a href=\"#Модель-для-предсказания-коэффициента-восстановления-для-очистки\" data-toc-modified-id=\"Модель-для-предсказания-коэффициента-восстановления-для-очистки-3.2.2\"><span class=\"toc-item-num\">3.2.2&nbsp;&nbsp;</span>Модель для предсказания коэффициента восстановления для очистки</a></span></li></ul></li></ul></li><li><span><a href=\"#Выводы\" data-toc-modified-id=\"Выводы-4\"><span class=\"toc-item-num\">4&nbsp;&nbsp;</span>Выводы</a></span></li><li><span><a href=\"#Чек-лист-готовности-проекта\" data-toc-modified-id=\"Чек-лист-готовности-проекта-5\"><span class=\"toc-item-num\">5&nbsp;&nbsp;</span>Чек-лист готовности проекта</a></span></li></ul></div>"
   ]
  },
  {
   "cell_type": "markdown",
   "metadata": {},
   "source": [
    "# Восстановление золота из руды"
   ]
  },
  {
   "cell_type": "markdown",
   "metadata": {},
   "source": [
    "Подготовьте прототип модели машинного обучения для «Цифры». Компания разрабатывает решения для эффективной работы промышленных предприятий.\n",
    "\n",
    "Модель должна предсказать коэффициент восстановления золота из золотосодержащей руды. Используйте данные с параметрами добычи и очистки. \n",
    "\n",
    "Модель поможет оптимизировать производство, чтобы не запускать предприятие с убыточными характеристиками.\n",
    "\n",
    "Вам нужно:\n",
    "\n",
    "1. Подготовить данные;\n",
    "2. Провести исследовательский анализ данных;\n",
    "3. Построить и обучить модель.\n",
    "\n",
    "Чтобы выполнить проект, обращайтесь к библиотекам *pandas*, *matplotlib* и *sklearn.* Вам поможет их документация."
   ]
  },
  {
   "cell_type": "markdown",
   "metadata": {},
   "source": [
    "## Подготовка данных"
   ]
  },
  {
   "cell_type": "code",
   "execution_count": 1,
   "metadata": {},
   "outputs": [],
   "source": [
    "# Импортируем нужные библиотеки\n",
    "import pandas as pd\n",
    "from sklearn.model_selection import train_test_split, cross_val_score\n",
    "from sklearn.linear_model import LinearRegression\n",
    "from sklearn.tree import DecisionTreeRegressor\n",
    "from sklearn.ensemble import RandomForestRegressor\n",
    "import matplotlib.pyplot as plt\n",
    "from sklearn.metrics import mean_absolute_error, make_scorer\n",
    "from sklearn.dummy import DummyRegressor\n",
    "import warnings\n",
    "warnings.filterwarnings(\"ignore\")"
   ]
  },
  {
   "cell_type": "code",
   "execution_count": 2,
   "metadata": {},
   "outputs": [
    {
     "name": "stdout",
     "output_type": "stream",
     "text": [
      "Defaulting to user installation because normal site-packages is not writeable\n",
      "Requirement already up-to-date: scikit-learn in /home/jovyan/.local/lib/python3.7/site-packages (1.0.1)\n",
      "Requirement already satisfied, skipping upgrade: scipy>=1.1.0 in /opt/conda/lib/python3.7/site-packages (from scikit-learn) (1.4.1)\n",
      "Requirement already satisfied, skipping upgrade: joblib>=0.11 in /opt/conda/lib/python3.7/site-packages (from scikit-learn) (1.0.1)\n",
      "Requirement already satisfied, skipping upgrade: numpy>=1.14.6 in /opt/conda/lib/python3.7/site-packages (from scikit-learn) (1.19.5)\n",
      "Requirement already satisfied, skipping upgrade: threadpoolctl>=2.0.0 in /home/jovyan/.local/lib/python3.7/site-packages (from scikit-learn) (3.0.0)\n"
     ]
    }
   ],
   "source": [
    "!pip install scikit-learn -U"
   ]
  },
  {
   "cell_type": "markdown",
   "metadata": {},
   "source": [
    "### Откроем файлы и изучим их"
   ]
  },
  {
   "cell_type": "code",
   "execution_count": 3,
   "metadata": {},
   "outputs": [
    {
     "data": {
      "text/html": [
       "<div>\n",
       "<style scoped>\n",
       "    .dataframe tbody tr th:only-of-type {\n",
       "        vertical-align: middle;\n",
       "    }\n",
       "\n",
       "    .dataframe tbody tr th {\n",
       "        vertical-align: top;\n",
       "    }\n",
       "\n",
       "    .dataframe thead th {\n",
       "        text-align: right;\n",
       "    }\n",
       "</style>\n",
       "<table border=\"1\" class=\"dataframe\">\n",
       "  <thead>\n",
       "    <tr style=\"text-align: right;\">\n",
       "      <th></th>\n",
       "      <th>date</th>\n",
       "      <th>final.output.concentrate_ag</th>\n",
       "      <th>final.output.concentrate_pb</th>\n",
       "      <th>final.output.concentrate_sol</th>\n",
       "      <th>final.output.concentrate_au</th>\n",
       "      <th>final.output.recovery</th>\n",
       "      <th>final.output.tail_ag</th>\n",
       "      <th>final.output.tail_pb</th>\n",
       "      <th>final.output.tail_sol</th>\n",
       "      <th>final.output.tail_au</th>\n",
       "      <th>...</th>\n",
       "      <th>secondary_cleaner.state.floatbank4_a_air</th>\n",
       "      <th>secondary_cleaner.state.floatbank4_a_level</th>\n",
       "      <th>secondary_cleaner.state.floatbank4_b_air</th>\n",
       "      <th>secondary_cleaner.state.floatbank4_b_level</th>\n",
       "      <th>secondary_cleaner.state.floatbank5_a_air</th>\n",
       "      <th>secondary_cleaner.state.floatbank5_a_level</th>\n",
       "      <th>secondary_cleaner.state.floatbank5_b_air</th>\n",
       "      <th>secondary_cleaner.state.floatbank5_b_level</th>\n",
       "      <th>secondary_cleaner.state.floatbank6_a_air</th>\n",
       "      <th>secondary_cleaner.state.floatbank6_a_level</th>\n",
       "    </tr>\n",
       "  </thead>\n",
       "  <tbody>\n",
       "    <tr>\n",
       "      <td>14144</td>\n",
       "      <td>2018-08-18 06:59:59</td>\n",
       "      <td>3.224920</td>\n",
       "      <td>11.356233</td>\n",
       "      <td>6.803482</td>\n",
       "      <td>46.713954</td>\n",
       "      <td>73.755150</td>\n",
       "      <td>8.769645</td>\n",
       "      <td>3.141541</td>\n",
       "      <td>10.403181</td>\n",
       "      <td>1.529220</td>\n",
       "      <td>...</td>\n",
       "      <td>23.031497</td>\n",
       "      <td>-501.167942</td>\n",
       "      <td>20.007571</td>\n",
       "      <td>-499.740028</td>\n",
       "      <td>18.006038</td>\n",
       "      <td>-499.834374</td>\n",
       "      <td>13.001114</td>\n",
       "      <td>-500.155694</td>\n",
       "      <td>20.007840</td>\n",
       "      <td>-501.296428</td>\n",
       "    </tr>\n",
       "    <tr>\n",
       "      <td>14145</td>\n",
       "      <td>2018-08-18 07:59:59</td>\n",
       "      <td>3.195978</td>\n",
       "      <td>11.349355</td>\n",
       "      <td>6.862249</td>\n",
       "      <td>46.866780</td>\n",
       "      <td>69.049291</td>\n",
       "      <td>8.897321</td>\n",
       "      <td>3.130493</td>\n",
       "      <td>10.549470</td>\n",
       "      <td>1.612542</td>\n",
       "      <td>...</td>\n",
       "      <td>22.960095</td>\n",
       "      <td>-501.612783</td>\n",
       "      <td>20.035660</td>\n",
       "      <td>-500.251357</td>\n",
       "      <td>17.998535</td>\n",
       "      <td>-500.395178</td>\n",
       "      <td>12.954048</td>\n",
       "      <td>-499.895163</td>\n",
       "      <td>19.968498</td>\n",
       "      <td>-501.041608</td>\n",
       "    </tr>\n",
       "    <tr>\n",
       "      <td>14146</td>\n",
       "      <td>2018-08-18 08:59:59</td>\n",
       "      <td>3.109998</td>\n",
       "      <td>11.434366</td>\n",
       "      <td>6.886013</td>\n",
       "      <td>46.795691</td>\n",
       "      <td>67.002189</td>\n",
       "      <td>8.529606</td>\n",
       "      <td>2.911418</td>\n",
       "      <td>11.115147</td>\n",
       "      <td>1.596616</td>\n",
       "      <td>...</td>\n",
       "      <td>23.015718</td>\n",
       "      <td>-501.711599</td>\n",
       "      <td>19.951231</td>\n",
       "      <td>-499.857027</td>\n",
       "      <td>18.019543</td>\n",
       "      <td>-500.451156</td>\n",
       "      <td>13.023431</td>\n",
       "      <td>-499.914391</td>\n",
       "      <td>19.990885</td>\n",
       "      <td>-501.518452</td>\n",
       "    </tr>\n",
       "    <tr>\n",
       "      <td>14147</td>\n",
       "      <td>2018-08-18 09:59:59</td>\n",
       "      <td>3.367241</td>\n",
       "      <td>11.625587</td>\n",
       "      <td>6.799433</td>\n",
       "      <td>46.408188</td>\n",
       "      <td>65.523246</td>\n",
       "      <td>8.777171</td>\n",
       "      <td>2.819214</td>\n",
       "      <td>10.463847</td>\n",
       "      <td>1.602879</td>\n",
       "      <td>...</td>\n",
       "      <td>23.024963</td>\n",
       "      <td>-501.153409</td>\n",
       "      <td>20.054122</td>\n",
       "      <td>-500.314711</td>\n",
       "      <td>17.979515</td>\n",
       "      <td>-499.272871</td>\n",
       "      <td>12.992404</td>\n",
       "      <td>-499.976268</td>\n",
       "      <td>20.013986</td>\n",
       "      <td>-500.625471</td>\n",
       "    </tr>\n",
       "    <tr>\n",
       "      <td>14148</td>\n",
       "      <td>2018-08-18 10:59:59</td>\n",
       "      <td>3.598375</td>\n",
       "      <td>11.737832</td>\n",
       "      <td>6.717509</td>\n",
       "      <td>46.299438</td>\n",
       "      <td>70.281454</td>\n",
       "      <td>8.406690</td>\n",
       "      <td>2.517518</td>\n",
       "      <td>10.652193</td>\n",
       "      <td>1.389434</td>\n",
       "      <td>...</td>\n",
       "      <td>23.018622</td>\n",
       "      <td>-500.492702</td>\n",
       "      <td>20.020205</td>\n",
       "      <td>-500.220296</td>\n",
       "      <td>17.963512</td>\n",
       "      <td>-499.939490</td>\n",
       "      <td>12.990306</td>\n",
       "      <td>-500.080993</td>\n",
       "      <td>19.990336</td>\n",
       "      <td>-499.191575</td>\n",
       "    </tr>\n",
       "  </tbody>\n",
       "</table>\n",
       "<p>5 rows × 87 columns</p>\n",
       "</div>"
      ],
      "text/plain": [
       "                      date  final.output.concentrate_ag  \\\n",
       "14144  2018-08-18 06:59:59                     3.224920   \n",
       "14145  2018-08-18 07:59:59                     3.195978   \n",
       "14146  2018-08-18 08:59:59                     3.109998   \n",
       "14147  2018-08-18 09:59:59                     3.367241   \n",
       "14148  2018-08-18 10:59:59                     3.598375   \n",
       "\n",
       "       final.output.concentrate_pb  final.output.concentrate_sol  \\\n",
       "14144                    11.356233                      6.803482   \n",
       "14145                    11.349355                      6.862249   \n",
       "14146                    11.434366                      6.886013   \n",
       "14147                    11.625587                      6.799433   \n",
       "14148                    11.737832                      6.717509   \n",
       "\n",
       "       final.output.concentrate_au  final.output.recovery  \\\n",
       "14144                    46.713954              73.755150   \n",
       "14145                    46.866780              69.049291   \n",
       "14146                    46.795691              67.002189   \n",
       "14147                    46.408188              65.523246   \n",
       "14148                    46.299438              70.281454   \n",
       "\n",
       "       final.output.tail_ag  final.output.tail_pb  final.output.tail_sol  \\\n",
       "14144              8.769645              3.141541              10.403181   \n",
       "14145              8.897321              3.130493              10.549470   \n",
       "14146              8.529606              2.911418              11.115147   \n",
       "14147              8.777171              2.819214              10.463847   \n",
       "14148              8.406690              2.517518              10.652193   \n",
       "\n",
       "       final.output.tail_au  ...  secondary_cleaner.state.floatbank4_a_air  \\\n",
       "14144              1.529220  ...                                 23.031497   \n",
       "14145              1.612542  ...                                 22.960095   \n",
       "14146              1.596616  ...                                 23.015718   \n",
       "14147              1.602879  ...                                 23.024963   \n",
       "14148              1.389434  ...                                 23.018622   \n",
       "\n",
       "       secondary_cleaner.state.floatbank4_a_level  \\\n",
       "14144                                 -501.167942   \n",
       "14145                                 -501.612783   \n",
       "14146                                 -501.711599   \n",
       "14147                                 -501.153409   \n",
       "14148                                 -500.492702   \n",
       "\n",
       "       secondary_cleaner.state.floatbank4_b_air  \\\n",
       "14144                                 20.007571   \n",
       "14145                                 20.035660   \n",
       "14146                                 19.951231   \n",
       "14147                                 20.054122   \n",
       "14148                                 20.020205   \n",
       "\n",
       "       secondary_cleaner.state.floatbank4_b_level  \\\n",
       "14144                                 -499.740028   \n",
       "14145                                 -500.251357   \n",
       "14146                                 -499.857027   \n",
       "14147                                 -500.314711   \n",
       "14148                                 -500.220296   \n",
       "\n",
       "       secondary_cleaner.state.floatbank5_a_air  \\\n",
       "14144                                 18.006038   \n",
       "14145                                 17.998535   \n",
       "14146                                 18.019543   \n",
       "14147                                 17.979515   \n",
       "14148                                 17.963512   \n",
       "\n",
       "       secondary_cleaner.state.floatbank5_a_level  \\\n",
       "14144                                 -499.834374   \n",
       "14145                                 -500.395178   \n",
       "14146                                 -500.451156   \n",
       "14147                                 -499.272871   \n",
       "14148                                 -499.939490   \n",
       "\n",
       "       secondary_cleaner.state.floatbank5_b_air  \\\n",
       "14144                                 13.001114   \n",
       "14145                                 12.954048   \n",
       "14146                                 13.023431   \n",
       "14147                                 12.992404   \n",
       "14148                                 12.990306   \n",
       "\n",
       "       secondary_cleaner.state.floatbank5_b_level  \\\n",
       "14144                                 -500.155694   \n",
       "14145                                 -499.895163   \n",
       "14146                                 -499.914391   \n",
       "14147                                 -499.976268   \n",
       "14148                                 -500.080993   \n",
       "\n",
       "       secondary_cleaner.state.floatbank6_a_air  \\\n",
       "14144                                 20.007840   \n",
       "14145                                 19.968498   \n",
       "14146                                 19.990885   \n",
       "14147                                 20.013986   \n",
       "14148                                 19.990336   \n",
       "\n",
       "       secondary_cleaner.state.floatbank6_a_level  \n",
       "14144                                 -501.296428  \n",
       "14145                                 -501.041608  \n",
       "14146                                 -501.518452  \n",
       "14147                                 -500.625471  \n",
       "14148                                 -499.191575  \n",
       "\n",
       "[5 rows x 87 columns]"
      ]
     },
     "metadata": {},
     "output_type": "display_data"
    },
    {
     "name": "stdout",
     "output_type": "stream",
     "text": [
      "Размер датасета: (14149, 87)\n"
     ]
    },
    {
     "data": {
      "text/html": [
       "<div>\n",
       "<style scoped>\n",
       "    .dataframe tbody tr th:only-of-type {\n",
       "        vertical-align: middle;\n",
       "    }\n",
       "\n",
       "    .dataframe tbody tr th {\n",
       "        vertical-align: top;\n",
       "    }\n",
       "\n",
       "    .dataframe thead th {\n",
       "        text-align: right;\n",
       "    }\n",
       "</style>\n",
       "<table border=\"1\" class=\"dataframe\">\n",
       "  <thead>\n",
       "    <tr style=\"text-align: right;\">\n",
       "      <th></th>\n",
       "      <th>date</th>\n",
       "      <th>primary_cleaner.input.sulfate</th>\n",
       "      <th>primary_cleaner.input.depressant</th>\n",
       "      <th>primary_cleaner.input.feed_size</th>\n",
       "      <th>primary_cleaner.input.xanthate</th>\n",
       "      <th>primary_cleaner.state.floatbank8_a_air</th>\n",
       "      <th>primary_cleaner.state.floatbank8_a_level</th>\n",
       "      <th>primary_cleaner.state.floatbank8_b_air</th>\n",
       "      <th>primary_cleaner.state.floatbank8_b_level</th>\n",
       "      <th>primary_cleaner.state.floatbank8_c_air</th>\n",
       "      <th>...</th>\n",
       "      <th>secondary_cleaner.state.floatbank4_a_air</th>\n",
       "      <th>secondary_cleaner.state.floatbank4_a_level</th>\n",
       "      <th>secondary_cleaner.state.floatbank4_b_air</th>\n",
       "      <th>secondary_cleaner.state.floatbank4_b_level</th>\n",
       "      <th>secondary_cleaner.state.floatbank5_a_air</th>\n",
       "      <th>secondary_cleaner.state.floatbank5_a_level</th>\n",
       "      <th>secondary_cleaner.state.floatbank5_b_air</th>\n",
       "      <th>secondary_cleaner.state.floatbank5_b_level</th>\n",
       "      <th>secondary_cleaner.state.floatbank6_a_air</th>\n",
       "      <th>secondary_cleaner.state.floatbank6_a_level</th>\n",
       "    </tr>\n",
       "  </thead>\n",
       "  <tbody>\n",
       "    <tr>\n",
       "      <td>5285</td>\n",
       "      <td>2017-12-31 19:59:59</td>\n",
       "      <td>173.957757</td>\n",
       "      <td>15.963399</td>\n",
       "      <td>8.07</td>\n",
       "      <td>0.896701</td>\n",
       "      <td>1401.930554</td>\n",
       "      <td>-499.728848</td>\n",
       "      <td>1401.441445</td>\n",
       "      <td>-499.193423</td>\n",
       "      <td>1399.810313</td>\n",
       "      <td>...</td>\n",
       "      <td>13.995957</td>\n",
       "      <td>-500.157454</td>\n",
       "      <td>12.069155</td>\n",
       "      <td>-499.673279</td>\n",
       "      <td>7.977259</td>\n",
       "      <td>-499.516126</td>\n",
       "      <td>5.933319</td>\n",
       "      <td>-499.965973</td>\n",
       "      <td>8.987171</td>\n",
       "      <td>-499.755909</td>\n",
       "    </tr>\n",
       "    <tr>\n",
       "      <td>5286</td>\n",
       "      <td>2017-12-31 20:59:59</td>\n",
       "      <td>172.910270</td>\n",
       "      <td>16.002605</td>\n",
       "      <td>8.07</td>\n",
       "      <td>0.896519</td>\n",
       "      <td>1447.075722</td>\n",
       "      <td>-494.716823</td>\n",
       "      <td>1448.851892</td>\n",
       "      <td>-465.963026</td>\n",
       "      <td>1443.890424</td>\n",
       "      <td>...</td>\n",
       "      <td>16.749781</td>\n",
       "      <td>-496.031539</td>\n",
       "      <td>13.365371</td>\n",
       "      <td>-499.122723</td>\n",
       "      <td>9.288553</td>\n",
       "      <td>-496.892967</td>\n",
       "      <td>7.372897</td>\n",
       "      <td>-499.942956</td>\n",
       "      <td>8.986832</td>\n",
       "      <td>-499.903761</td>\n",
       "    </tr>\n",
       "    <tr>\n",
       "      <td>5287</td>\n",
       "      <td>2017-12-31 21:59:59</td>\n",
       "      <td>171.135718</td>\n",
       "      <td>15.993669</td>\n",
       "      <td>8.07</td>\n",
       "      <td>1.165996</td>\n",
       "      <td>1498.836182</td>\n",
       "      <td>-501.770403</td>\n",
       "      <td>1499.572353</td>\n",
       "      <td>-495.516347</td>\n",
       "      <td>1502.749213</td>\n",
       "      <td>...</td>\n",
       "      <td>19.994130</td>\n",
       "      <td>-499.791312</td>\n",
       "      <td>15.101425</td>\n",
       "      <td>-499.936252</td>\n",
       "      <td>10.989181</td>\n",
       "      <td>-498.347898</td>\n",
       "      <td>9.020944</td>\n",
       "      <td>-500.040448</td>\n",
       "      <td>8.982038</td>\n",
       "      <td>-497.789882</td>\n",
       "    </tr>\n",
       "    <tr>\n",
       "      <td>5288</td>\n",
       "      <td>2017-12-31 22:59:59</td>\n",
       "      <td>179.697158</td>\n",
       "      <td>15.438979</td>\n",
       "      <td>8.07</td>\n",
       "      <td>1.501068</td>\n",
       "      <td>1498.466243</td>\n",
       "      <td>-500.483984</td>\n",
       "      <td>1497.986986</td>\n",
       "      <td>-519.200340</td>\n",
       "      <td>1496.569047</td>\n",
       "      <td>...</td>\n",
       "      <td>19.958760</td>\n",
       "      <td>-499.958750</td>\n",
       "      <td>15.026853</td>\n",
       "      <td>-499.723143</td>\n",
       "      <td>11.011607</td>\n",
       "      <td>-499.985046</td>\n",
       "      <td>9.009783</td>\n",
       "      <td>-499.937902</td>\n",
       "      <td>9.012660</td>\n",
       "      <td>-500.154284</td>\n",
       "    </tr>\n",
       "    <tr>\n",
       "      <td>5289</td>\n",
       "      <td>2017-12-31 23:59:59</td>\n",
       "      <td>181.556856</td>\n",
       "      <td>14.995850</td>\n",
       "      <td>8.07</td>\n",
       "      <td>1.623454</td>\n",
       "      <td>1498.096303</td>\n",
       "      <td>-499.796922</td>\n",
       "      <td>1501.743791</td>\n",
       "      <td>-505.146931</td>\n",
       "      <td>1499.535978</td>\n",
       "      <td>...</td>\n",
       "      <td>20.034715</td>\n",
       "      <td>-500.728588</td>\n",
       "      <td>14.914199</td>\n",
       "      <td>-499.948518</td>\n",
       "      <td>10.986607</td>\n",
       "      <td>-500.658027</td>\n",
       "      <td>8.989497</td>\n",
       "      <td>-500.337588</td>\n",
       "      <td>8.988632</td>\n",
       "      <td>-500.764937</td>\n",
       "    </tr>\n",
       "  </tbody>\n",
       "</table>\n",
       "<p>5 rows × 53 columns</p>\n",
       "</div>"
      ],
      "text/plain": [
       "                     date  primary_cleaner.input.sulfate  \\\n",
       "5285  2017-12-31 19:59:59                     173.957757   \n",
       "5286  2017-12-31 20:59:59                     172.910270   \n",
       "5287  2017-12-31 21:59:59                     171.135718   \n",
       "5288  2017-12-31 22:59:59                     179.697158   \n",
       "5289  2017-12-31 23:59:59                     181.556856   \n",
       "\n",
       "      primary_cleaner.input.depressant  primary_cleaner.input.feed_size  \\\n",
       "5285                         15.963399                             8.07   \n",
       "5286                         16.002605                             8.07   \n",
       "5287                         15.993669                             8.07   \n",
       "5288                         15.438979                             8.07   \n",
       "5289                         14.995850                             8.07   \n",
       "\n",
       "      primary_cleaner.input.xanthate  primary_cleaner.state.floatbank8_a_air  \\\n",
       "5285                        0.896701                             1401.930554   \n",
       "5286                        0.896519                             1447.075722   \n",
       "5287                        1.165996                             1498.836182   \n",
       "5288                        1.501068                             1498.466243   \n",
       "5289                        1.623454                             1498.096303   \n",
       "\n",
       "      primary_cleaner.state.floatbank8_a_level  \\\n",
       "5285                               -499.728848   \n",
       "5286                               -494.716823   \n",
       "5287                               -501.770403   \n",
       "5288                               -500.483984   \n",
       "5289                               -499.796922   \n",
       "\n",
       "      primary_cleaner.state.floatbank8_b_air  \\\n",
       "5285                             1401.441445   \n",
       "5286                             1448.851892   \n",
       "5287                             1499.572353   \n",
       "5288                             1497.986986   \n",
       "5289                             1501.743791   \n",
       "\n",
       "      primary_cleaner.state.floatbank8_b_level  \\\n",
       "5285                               -499.193423   \n",
       "5286                               -465.963026   \n",
       "5287                               -495.516347   \n",
       "5288                               -519.200340   \n",
       "5289                               -505.146931   \n",
       "\n",
       "      primary_cleaner.state.floatbank8_c_air  ...  \\\n",
       "5285                             1399.810313  ...   \n",
       "5286                             1443.890424  ...   \n",
       "5287                             1502.749213  ...   \n",
       "5288                             1496.569047  ...   \n",
       "5289                             1499.535978  ...   \n",
       "\n",
       "      secondary_cleaner.state.floatbank4_a_air  \\\n",
       "5285                                 13.995957   \n",
       "5286                                 16.749781   \n",
       "5287                                 19.994130   \n",
       "5288                                 19.958760   \n",
       "5289                                 20.034715   \n",
       "\n",
       "      secondary_cleaner.state.floatbank4_a_level  \\\n",
       "5285                                 -500.157454   \n",
       "5286                                 -496.031539   \n",
       "5287                                 -499.791312   \n",
       "5288                                 -499.958750   \n",
       "5289                                 -500.728588   \n",
       "\n",
       "      secondary_cleaner.state.floatbank4_b_air  \\\n",
       "5285                                 12.069155   \n",
       "5286                                 13.365371   \n",
       "5287                                 15.101425   \n",
       "5288                                 15.026853   \n",
       "5289                                 14.914199   \n",
       "\n",
       "      secondary_cleaner.state.floatbank4_b_level  \\\n",
       "5285                                 -499.673279   \n",
       "5286                                 -499.122723   \n",
       "5287                                 -499.936252   \n",
       "5288                                 -499.723143   \n",
       "5289                                 -499.948518   \n",
       "\n",
       "      secondary_cleaner.state.floatbank5_a_air  \\\n",
       "5285                                  7.977259   \n",
       "5286                                  9.288553   \n",
       "5287                                 10.989181   \n",
       "5288                                 11.011607   \n",
       "5289                                 10.986607   \n",
       "\n",
       "      secondary_cleaner.state.floatbank5_a_level  \\\n",
       "5285                                 -499.516126   \n",
       "5286                                 -496.892967   \n",
       "5287                                 -498.347898   \n",
       "5288                                 -499.985046   \n",
       "5289                                 -500.658027   \n",
       "\n",
       "      secondary_cleaner.state.floatbank5_b_air  \\\n",
       "5285                                  5.933319   \n",
       "5286                                  7.372897   \n",
       "5287                                  9.020944   \n",
       "5288                                  9.009783   \n",
       "5289                                  8.989497   \n",
       "\n",
       "      secondary_cleaner.state.floatbank5_b_level  \\\n",
       "5285                                 -499.965973   \n",
       "5286                                 -499.942956   \n",
       "5287                                 -500.040448   \n",
       "5288                                 -499.937902   \n",
       "5289                                 -500.337588   \n",
       "\n",
       "      secondary_cleaner.state.floatbank6_a_air  \\\n",
       "5285                                  8.987171   \n",
       "5286                                  8.986832   \n",
       "5287                                  8.982038   \n",
       "5288                                  9.012660   \n",
       "5289                                  8.988632   \n",
       "\n",
       "      secondary_cleaner.state.floatbank6_a_level  \n",
       "5285                                 -499.755909  \n",
       "5286                                 -499.903761  \n",
       "5287                                 -497.789882  \n",
       "5288                                 -500.154284  \n",
       "5289                                 -500.764937  \n",
       "\n",
       "[5 rows x 53 columns]"
      ]
     },
     "metadata": {},
     "output_type": "display_data"
    },
    {
     "name": "stdout",
     "output_type": "stream",
     "text": [
      "Размер датасета: (5290, 53)\n"
     ]
    },
    {
     "data": {
      "text/html": [
       "<div>\n",
       "<style scoped>\n",
       "    .dataframe tbody tr th:only-of-type {\n",
       "        vertical-align: middle;\n",
       "    }\n",
       "\n",
       "    .dataframe tbody tr th {\n",
       "        vertical-align: top;\n",
       "    }\n",
       "\n",
       "    .dataframe thead th {\n",
       "        text-align: right;\n",
       "    }\n",
       "</style>\n",
       "<table border=\"1\" class=\"dataframe\">\n",
       "  <thead>\n",
       "    <tr style=\"text-align: right;\">\n",
       "      <th></th>\n",
       "      <th>date</th>\n",
       "      <th>final.output.concentrate_ag</th>\n",
       "      <th>final.output.concentrate_pb</th>\n",
       "      <th>final.output.concentrate_sol</th>\n",
       "      <th>final.output.concentrate_au</th>\n",
       "      <th>final.output.recovery</th>\n",
       "      <th>final.output.tail_ag</th>\n",
       "      <th>final.output.tail_pb</th>\n",
       "      <th>final.output.tail_sol</th>\n",
       "      <th>final.output.tail_au</th>\n",
       "      <th>...</th>\n",
       "      <th>secondary_cleaner.state.floatbank4_a_air</th>\n",
       "      <th>secondary_cleaner.state.floatbank4_a_level</th>\n",
       "      <th>secondary_cleaner.state.floatbank4_b_air</th>\n",
       "      <th>secondary_cleaner.state.floatbank4_b_level</th>\n",
       "      <th>secondary_cleaner.state.floatbank5_a_air</th>\n",
       "      <th>secondary_cleaner.state.floatbank5_a_level</th>\n",
       "      <th>secondary_cleaner.state.floatbank5_b_air</th>\n",
       "      <th>secondary_cleaner.state.floatbank5_b_level</th>\n",
       "      <th>secondary_cleaner.state.floatbank6_a_air</th>\n",
       "      <th>secondary_cleaner.state.floatbank6_a_level</th>\n",
       "    </tr>\n",
       "  </thead>\n",
       "  <tbody>\n",
       "    <tr>\n",
       "      <td>19434</td>\n",
       "      <td>2018-08-18 06:59:59</td>\n",
       "      <td>3.224920</td>\n",
       "      <td>11.356233</td>\n",
       "      <td>6.803482</td>\n",
       "      <td>46.713954</td>\n",
       "      <td>73.755150</td>\n",
       "      <td>8.769645</td>\n",
       "      <td>3.141541</td>\n",
       "      <td>10.403181</td>\n",
       "      <td>1.529220</td>\n",
       "      <td>...</td>\n",
       "      <td>23.031497</td>\n",
       "      <td>-501.167942</td>\n",
       "      <td>20.007571</td>\n",
       "      <td>-499.740028</td>\n",
       "      <td>18.006038</td>\n",
       "      <td>-499.834374</td>\n",
       "      <td>13.001114</td>\n",
       "      <td>-500.155694</td>\n",
       "      <td>20.007840</td>\n",
       "      <td>-501.296428</td>\n",
       "    </tr>\n",
       "    <tr>\n",
       "      <td>19435</td>\n",
       "      <td>2018-08-18 07:59:59</td>\n",
       "      <td>3.195978</td>\n",
       "      <td>11.349355</td>\n",
       "      <td>6.862249</td>\n",
       "      <td>46.866780</td>\n",
       "      <td>69.049291</td>\n",
       "      <td>8.897321</td>\n",
       "      <td>3.130493</td>\n",
       "      <td>10.549470</td>\n",
       "      <td>1.612542</td>\n",
       "      <td>...</td>\n",
       "      <td>22.960095</td>\n",
       "      <td>-501.612783</td>\n",
       "      <td>20.035660</td>\n",
       "      <td>-500.251357</td>\n",
       "      <td>17.998535</td>\n",
       "      <td>-500.395178</td>\n",
       "      <td>12.954048</td>\n",
       "      <td>-499.895163</td>\n",
       "      <td>19.968498</td>\n",
       "      <td>-501.041608</td>\n",
       "    </tr>\n",
       "    <tr>\n",
       "      <td>19436</td>\n",
       "      <td>2018-08-18 08:59:59</td>\n",
       "      <td>3.109998</td>\n",
       "      <td>11.434366</td>\n",
       "      <td>6.886013</td>\n",
       "      <td>46.795691</td>\n",
       "      <td>67.002189</td>\n",
       "      <td>8.529606</td>\n",
       "      <td>2.911418</td>\n",
       "      <td>11.115147</td>\n",
       "      <td>1.596616</td>\n",
       "      <td>...</td>\n",
       "      <td>23.015718</td>\n",
       "      <td>-501.711599</td>\n",
       "      <td>19.951231</td>\n",
       "      <td>-499.857027</td>\n",
       "      <td>18.019543</td>\n",
       "      <td>-500.451156</td>\n",
       "      <td>13.023431</td>\n",
       "      <td>-499.914391</td>\n",
       "      <td>19.990885</td>\n",
       "      <td>-501.518452</td>\n",
       "    </tr>\n",
       "    <tr>\n",
       "      <td>19437</td>\n",
       "      <td>2018-08-18 09:59:59</td>\n",
       "      <td>3.367241</td>\n",
       "      <td>11.625587</td>\n",
       "      <td>6.799433</td>\n",
       "      <td>46.408188</td>\n",
       "      <td>65.523246</td>\n",
       "      <td>8.777171</td>\n",
       "      <td>2.819214</td>\n",
       "      <td>10.463847</td>\n",
       "      <td>1.602879</td>\n",
       "      <td>...</td>\n",
       "      <td>23.024963</td>\n",
       "      <td>-501.153409</td>\n",
       "      <td>20.054122</td>\n",
       "      <td>-500.314711</td>\n",
       "      <td>17.979515</td>\n",
       "      <td>-499.272871</td>\n",
       "      <td>12.992404</td>\n",
       "      <td>-499.976268</td>\n",
       "      <td>20.013986</td>\n",
       "      <td>-500.625471</td>\n",
       "    </tr>\n",
       "    <tr>\n",
       "      <td>19438</td>\n",
       "      <td>2018-08-18 10:59:59</td>\n",
       "      <td>3.598375</td>\n",
       "      <td>11.737832</td>\n",
       "      <td>6.717509</td>\n",
       "      <td>46.299438</td>\n",
       "      <td>70.281454</td>\n",
       "      <td>8.406690</td>\n",
       "      <td>2.517518</td>\n",
       "      <td>10.652193</td>\n",
       "      <td>1.389434</td>\n",
       "      <td>...</td>\n",
       "      <td>23.018622</td>\n",
       "      <td>-500.492702</td>\n",
       "      <td>20.020205</td>\n",
       "      <td>-500.220296</td>\n",
       "      <td>17.963512</td>\n",
       "      <td>-499.939490</td>\n",
       "      <td>12.990306</td>\n",
       "      <td>-500.080993</td>\n",
       "      <td>19.990336</td>\n",
       "      <td>-499.191575</td>\n",
       "    </tr>\n",
       "  </tbody>\n",
       "</table>\n",
       "<p>5 rows × 87 columns</p>\n",
       "</div>"
      ],
      "text/plain": [
       "                      date  final.output.concentrate_ag  \\\n",
       "19434  2018-08-18 06:59:59                     3.224920   \n",
       "19435  2018-08-18 07:59:59                     3.195978   \n",
       "19436  2018-08-18 08:59:59                     3.109998   \n",
       "19437  2018-08-18 09:59:59                     3.367241   \n",
       "19438  2018-08-18 10:59:59                     3.598375   \n",
       "\n",
       "       final.output.concentrate_pb  final.output.concentrate_sol  \\\n",
       "19434                    11.356233                      6.803482   \n",
       "19435                    11.349355                      6.862249   \n",
       "19436                    11.434366                      6.886013   \n",
       "19437                    11.625587                      6.799433   \n",
       "19438                    11.737832                      6.717509   \n",
       "\n",
       "       final.output.concentrate_au  final.output.recovery  \\\n",
       "19434                    46.713954              73.755150   \n",
       "19435                    46.866780              69.049291   \n",
       "19436                    46.795691              67.002189   \n",
       "19437                    46.408188              65.523246   \n",
       "19438                    46.299438              70.281454   \n",
       "\n",
       "       final.output.tail_ag  final.output.tail_pb  final.output.tail_sol  \\\n",
       "19434              8.769645              3.141541              10.403181   \n",
       "19435              8.897321              3.130493              10.549470   \n",
       "19436              8.529606              2.911418              11.115147   \n",
       "19437              8.777171              2.819214              10.463847   \n",
       "19438              8.406690              2.517518              10.652193   \n",
       "\n",
       "       final.output.tail_au  ...  secondary_cleaner.state.floatbank4_a_air  \\\n",
       "19434              1.529220  ...                                 23.031497   \n",
       "19435              1.612542  ...                                 22.960095   \n",
       "19436              1.596616  ...                                 23.015718   \n",
       "19437              1.602879  ...                                 23.024963   \n",
       "19438              1.389434  ...                                 23.018622   \n",
       "\n",
       "       secondary_cleaner.state.floatbank4_a_level  \\\n",
       "19434                                 -501.167942   \n",
       "19435                                 -501.612783   \n",
       "19436                                 -501.711599   \n",
       "19437                                 -501.153409   \n",
       "19438                                 -500.492702   \n",
       "\n",
       "       secondary_cleaner.state.floatbank4_b_air  \\\n",
       "19434                                 20.007571   \n",
       "19435                                 20.035660   \n",
       "19436                                 19.951231   \n",
       "19437                                 20.054122   \n",
       "19438                                 20.020205   \n",
       "\n",
       "       secondary_cleaner.state.floatbank4_b_level  \\\n",
       "19434                                 -499.740028   \n",
       "19435                                 -500.251357   \n",
       "19436                                 -499.857027   \n",
       "19437                                 -500.314711   \n",
       "19438                                 -500.220296   \n",
       "\n",
       "       secondary_cleaner.state.floatbank5_a_air  \\\n",
       "19434                                 18.006038   \n",
       "19435                                 17.998535   \n",
       "19436                                 18.019543   \n",
       "19437                                 17.979515   \n",
       "19438                                 17.963512   \n",
       "\n",
       "       secondary_cleaner.state.floatbank5_a_level  \\\n",
       "19434                                 -499.834374   \n",
       "19435                                 -500.395178   \n",
       "19436                                 -500.451156   \n",
       "19437                                 -499.272871   \n",
       "19438                                 -499.939490   \n",
       "\n",
       "       secondary_cleaner.state.floatbank5_b_air  \\\n",
       "19434                                 13.001114   \n",
       "19435                                 12.954048   \n",
       "19436                                 13.023431   \n",
       "19437                                 12.992404   \n",
       "19438                                 12.990306   \n",
       "\n",
       "       secondary_cleaner.state.floatbank5_b_level  \\\n",
       "19434                                 -500.155694   \n",
       "19435                                 -499.895163   \n",
       "19436                                 -499.914391   \n",
       "19437                                 -499.976268   \n",
       "19438                                 -500.080993   \n",
       "\n",
       "       secondary_cleaner.state.floatbank6_a_air  \\\n",
       "19434                                 20.007840   \n",
       "19435                                 19.968498   \n",
       "19436                                 19.990885   \n",
       "19437                                 20.013986   \n",
       "19438                                 19.990336   \n",
       "\n",
       "       secondary_cleaner.state.floatbank6_a_level  \n",
       "19434                                 -501.296428  \n",
       "19435                                 -501.041608  \n",
       "19436                                 -501.518452  \n",
       "19437                                 -500.625471  \n",
       "19438                                 -499.191575  \n",
       "\n",
       "[5 rows x 87 columns]"
      ]
     },
     "metadata": {},
     "output_type": "display_data"
    },
    {
     "name": "stdout",
     "output_type": "stream",
     "text": [
      "Размер датасета: (19439, 87)\n"
     ]
    }
   ],
   "source": [
    "# Посмотрим на данные\n",
    "train = pd.read_csv('/datasets/gold_recovery_train_new.csv')\n",
    "test = pd.read_csv('/datasets/gold_recovery_test_new.csv')\n",
    "full = pd.read_csv('/datasets/gold_recovery_full_new.csv')\n",
    "display(train.tail())\n",
    "print('Размер датасета:',train.shape)\n",
    "display(test.tail())\n",
    "print('Размер датасета:',test.shape)\n",
    "display(full.tail())\n",
    "print('Размер датасета:', full.shape)"
   ]
  },
  {
   "cell_type": "code",
   "execution_count": 4,
   "metadata": {},
   "outputs": [
    {
     "data": {
      "text/plain": [
       "float64    86\n",
       "object      1\n",
       "dtype: int64"
      ]
     },
     "metadata": {},
     "output_type": "display_data"
    },
    {
     "data": {
      "text/plain": [
       "float64    52\n",
       "object      1\n",
       "dtype: int64"
      ]
     },
     "metadata": {},
     "output_type": "display_data"
    },
    {
     "data": {
      "text/plain": [
       "float64    86\n",
       "object      1\n",
       "dtype: int64"
      ]
     },
     "metadata": {},
     "output_type": "display_data"
    }
   ],
   "source": [
    "# Посмотрим на типы данных \n",
    "display(train.dtypes.value_counts())\n",
    "display(test.dtypes.value_counts())\n",
    "display(full.dtypes.value_counts())"
   ]
  },
  {
   "cell_type": "markdown",
   "metadata": {},
   "source": [
    "В основном мы имеем дела с численными признаками, признак с типо \"object\" является столбцом с датой. "
   ]
  },
  {
   "cell_type": "code",
   "execution_count": 5,
   "metadata": {},
   "outputs": [
    {
     "data": {
      "text/html": [
       "<div>\n",
       "<style scoped>\n",
       "    .dataframe tbody tr th:only-of-type {\n",
       "        vertical-align: middle;\n",
       "    }\n",
       "\n",
       "    .dataframe tbody tr th {\n",
       "        vertical-align: top;\n",
       "    }\n",
       "\n",
       "    .dataframe thead th {\n",
       "        text-align: right;\n",
       "    }\n",
       "</style>\n",
       "<table border=\"1\" class=\"dataframe\">\n",
       "  <thead>\n",
       "    <tr style=\"text-align: right;\">\n",
       "      <th></th>\n",
       "      <th>final.output.concentrate_ag</th>\n",
       "      <th>final.output.concentrate_pb</th>\n",
       "      <th>final.output.concentrate_sol</th>\n",
       "      <th>final.output.concentrate_au</th>\n",
       "      <th>final.output.recovery</th>\n",
       "      <th>final.output.tail_ag</th>\n",
       "      <th>final.output.tail_pb</th>\n",
       "      <th>final.output.tail_sol</th>\n",
       "      <th>final.output.tail_au</th>\n",
       "      <th>primary_cleaner.input.sulfate</th>\n",
       "      <th>...</th>\n",
       "      <th>secondary_cleaner.state.floatbank4_a_air</th>\n",
       "      <th>secondary_cleaner.state.floatbank4_a_level</th>\n",
       "      <th>secondary_cleaner.state.floatbank4_b_air</th>\n",
       "      <th>secondary_cleaner.state.floatbank4_b_level</th>\n",
       "      <th>secondary_cleaner.state.floatbank5_a_air</th>\n",
       "      <th>secondary_cleaner.state.floatbank5_a_level</th>\n",
       "      <th>secondary_cleaner.state.floatbank5_b_air</th>\n",
       "      <th>secondary_cleaner.state.floatbank5_b_level</th>\n",
       "      <th>secondary_cleaner.state.floatbank6_a_air</th>\n",
       "      <th>secondary_cleaner.state.floatbank6_a_level</th>\n",
       "    </tr>\n",
       "  </thead>\n",
       "  <tbody>\n",
       "    <tr>\n",
       "      <td>count</td>\n",
       "      <td>19438.000000</td>\n",
       "      <td>19438.000000</td>\n",
       "      <td>19228.000000</td>\n",
       "      <td>19439.000000</td>\n",
       "      <td>19439.000000</td>\n",
       "      <td>19438.000000</td>\n",
       "      <td>19338.000000</td>\n",
       "      <td>19433.000000</td>\n",
       "      <td>19439.000000</td>\n",
       "      <td>19415.000000</td>\n",
       "      <td>...</td>\n",
       "      <td>19433.000000</td>\n",
       "      <td>19438.000000</td>\n",
       "      <td>19438.000000</td>\n",
       "      <td>19438.000000</td>\n",
       "      <td>19438.000000</td>\n",
       "      <td>19438.000000</td>\n",
       "      <td>19438.000000</td>\n",
       "      <td>19438.000000</td>\n",
       "      <td>19437.000000</td>\n",
       "      <td>19438.000000</td>\n",
       "    </tr>\n",
       "    <tr>\n",
       "      <td>mean</td>\n",
       "      <td>5.168470</td>\n",
       "      <td>9.978895</td>\n",
       "      <td>9.501224</td>\n",
       "      <td>44.076513</td>\n",
       "      <td>67.050208</td>\n",
       "      <td>9.688589</td>\n",
       "      <td>2.705795</td>\n",
       "      <td>10.583728</td>\n",
       "      <td>3.042467</td>\n",
       "      <td>144.624774</td>\n",
       "      <td>...</td>\n",
       "      <td>18.987674</td>\n",
       "      <td>-485.894516</td>\n",
       "      <td>15.010366</td>\n",
       "      <td>-461.078636</td>\n",
       "      <td>15.694452</td>\n",
       "      <td>-488.684065</td>\n",
       "      <td>12.198224</td>\n",
       "      <td>-487.149827</td>\n",
       "      <td>18.959024</td>\n",
       "      <td>-505.436305</td>\n",
       "    </tr>\n",
       "    <tr>\n",
       "      <td>std</td>\n",
       "      <td>1.372348</td>\n",
       "      <td>1.669240</td>\n",
       "      <td>2.787537</td>\n",
       "      <td>5.129784</td>\n",
       "      <td>10.125840</td>\n",
       "      <td>2.328642</td>\n",
       "      <td>0.949077</td>\n",
       "      <td>2.868782</td>\n",
       "      <td>0.922808</td>\n",
       "      <td>44.464071</td>\n",
       "      <td>...</td>\n",
       "      <td>5.411058</td>\n",
       "      <td>47.758570</td>\n",
       "      <td>4.890228</td>\n",
       "      <td>67.405524</td>\n",
       "      <td>5.510974</td>\n",
       "      <td>34.533396</td>\n",
       "      <td>5.333024</td>\n",
       "      <td>38.347312</td>\n",
       "      <td>5.550498</td>\n",
       "      <td>37.689057</td>\n",
       "    </tr>\n",
       "    <tr>\n",
       "      <td>min</td>\n",
       "      <td>0.000000</td>\n",
       "      <td>0.000000</td>\n",
       "      <td>0.000000</td>\n",
       "      <td>0.000000</td>\n",
       "      <td>0.000000</td>\n",
       "      <td>0.000000</td>\n",
       "      <td>0.000000</td>\n",
       "      <td>0.000000</td>\n",
       "      <td>0.000000</td>\n",
       "      <td>0.003112</td>\n",
       "      <td>...</td>\n",
       "      <td>0.000000</td>\n",
       "      <td>-799.798523</td>\n",
       "      <td>0.000000</td>\n",
       "      <td>-800.836914</td>\n",
       "      <td>-0.372054</td>\n",
       "      <td>-797.323986</td>\n",
       "      <td>0.528083</td>\n",
       "      <td>-800.220337</td>\n",
       "      <td>-0.079426</td>\n",
       "      <td>-809.741464</td>\n",
       "    </tr>\n",
       "    <tr>\n",
       "      <td>25%</td>\n",
       "      <td>4.251240</td>\n",
       "      <td>9.137262</td>\n",
       "      <td>7.722820</td>\n",
       "      <td>43.402215</td>\n",
       "      <td>63.299712</td>\n",
       "      <td>8.062878</td>\n",
       "      <td>2.040119</td>\n",
       "      <td>8.938947</td>\n",
       "      <td>2.461138</td>\n",
       "      <td>114.107029</td>\n",
       "      <td>...</td>\n",
       "      <td>14.975734</td>\n",
       "      <td>-500.704892</td>\n",
       "      <td>11.940294</td>\n",
       "      <td>-500.187742</td>\n",
       "      <td>10.988606</td>\n",
       "      <td>-500.458467</td>\n",
       "      <td>8.971105</td>\n",
       "      <td>-500.129462</td>\n",
       "      <td>14.983037</td>\n",
       "      <td>-500.728067</td>\n",
       "    </tr>\n",
       "    <tr>\n",
       "      <td>50%</td>\n",
       "      <td>5.066094</td>\n",
       "      <td>10.102433</td>\n",
       "      <td>9.218961</td>\n",
       "      <td>45.011244</td>\n",
       "      <td>68.172738</td>\n",
       "      <td>9.743623</td>\n",
       "      <td>2.748730</td>\n",
       "      <td>10.622456</td>\n",
       "      <td>2.984909</td>\n",
       "      <td>143.232103</td>\n",
       "      <td>...</td>\n",
       "      <td>18.017481</td>\n",
       "      <td>-499.837793</td>\n",
       "      <td>14.971014</td>\n",
       "      <td>-499.459786</td>\n",
       "      <td>15.000036</td>\n",
       "      <td>-499.802605</td>\n",
       "      <td>11.019433</td>\n",
       "      <td>-499.935317</td>\n",
       "      <td>19.960541</td>\n",
       "      <td>-500.048400</td>\n",
       "    </tr>\n",
       "    <tr>\n",
       "      <td>75%</td>\n",
       "      <td>5.895527</td>\n",
       "      <td>11.035769</td>\n",
       "      <td>10.947813</td>\n",
       "      <td>46.275313</td>\n",
       "      <td>72.686642</td>\n",
       "      <td>11.134294</td>\n",
       "      <td>3.333216</td>\n",
       "      <td>12.104271</td>\n",
       "      <td>3.571351</td>\n",
       "      <td>175.075656</td>\n",
       "      <td>...</td>\n",
       "      <td>23.012470</td>\n",
       "      <td>-498.249730</td>\n",
       "      <td>19.034162</td>\n",
       "      <td>-400.118106</td>\n",
       "      <td>18.026190</td>\n",
       "      <td>-498.384187</td>\n",
       "      <td>14.019088</td>\n",
       "      <td>-499.436708</td>\n",
       "      <td>24.003170</td>\n",
       "      <td>-499.495378</td>\n",
       "    </tr>\n",
       "    <tr>\n",
       "      <td>max</td>\n",
       "      <td>16.001945</td>\n",
       "      <td>17.031899</td>\n",
       "      <td>19.615720</td>\n",
       "      <td>52.756638</td>\n",
       "      <td>100.000000</td>\n",
       "      <td>19.552149</td>\n",
       "      <td>5.804178</td>\n",
       "      <td>22.317730</td>\n",
       "      <td>8.245022</td>\n",
       "      <td>265.983123</td>\n",
       "      <td>...</td>\n",
       "      <td>30.115735</td>\n",
       "      <td>-245.239184</td>\n",
       "      <td>31.269706</td>\n",
       "      <td>-6.506986</td>\n",
       "      <td>43.709931</td>\n",
       "      <td>-244.483566</td>\n",
       "      <td>27.926001</td>\n",
       "      <td>-137.740004</td>\n",
       "      <td>32.188906</td>\n",
       "      <td>-104.427459</td>\n",
       "    </tr>\n",
       "  </tbody>\n",
       "</table>\n",
       "<p>8 rows × 86 columns</p>\n",
       "</div>"
      ],
      "text/plain": [
       "       final.output.concentrate_ag  final.output.concentrate_pb  \\\n",
       "count                 19438.000000                 19438.000000   \n",
       "mean                      5.168470                     9.978895   \n",
       "std                       1.372348                     1.669240   \n",
       "min                       0.000000                     0.000000   \n",
       "25%                       4.251240                     9.137262   \n",
       "50%                       5.066094                    10.102433   \n",
       "75%                       5.895527                    11.035769   \n",
       "max                      16.001945                    17.031899   \n",
       "\n",
       "       final.output.concentrate_sol  final.output.concentrate_au  \\\n",
       "count                  19228.000000                 19439.000000   \n",
       "mean                       9.501224                    44.076513   \n",
       "std                        2.787537                     5.129784   \n",
       "min                        0.000000                     0.000000   \n",
       "25%                        7.722820                    43.402215   \n",
       "50%                        9.218961                    45.011244   \n",
       "75%                       10.947813                    46.275313   \n",
       "max                       19.615720                    52.756638   \n",
       "\n",
       "       final.output.recovery  final.output.tail_ag  final.output.tail_pb  \\\n",
       "count           19439.000000          19438.000000          19338.000000   \n",
       "mean               67.050208              9.688589              2.705795   \n",
       "std                10.125840              2.328642              0.949077   \n",
       "min                 0.000000              0.000000              0.000000   \n",
       "25%                63.299712              8.062878              2.040119   \n",
       "50%                68.172738              9.743623              2.748730   \n",
       "75%                72.686642             11.134294              3.333216   \n",
       "max               100.000000             19.552149              5.804178   \n",
       "\n",
       "       final.output.tail_sol  final.output.tail_au  \\\n",
       "count           19433.000000          19439.000000   \n",
       "mean               10.583728              3.042467   \n",
       "std                 2.868782              0.922808   \n",
       "min                 0.000000              0.000000   \n",
       "25%                 8.938947              2.461138   \n",
       "50%                10.622456              2.984909   \n",
       "75%                12.104271              3.571351   \n",
       "max                22.317730              8.245022   \n",
       "\n",
       "       primary_cleaner.input.sulfate  ...  \\\n",
       "count                   19415.000000  ...   \n",
       "mean                      144.624774  ...   \n",
       "std                        44.464071  ...   \n",
       "min                         0.003112  ...   \n",
       "25%                       114.107029  ...   \n",
       "50%                       143.232103  ...   \n",
       "75%                       175.075656  ...   \n",
       "max                       265.983123  ...   \n",
       "\n",
       "       secondary_cleaner.state.floatbank4_a_air  \\\n",
       "count                              19433.000000   \n",
       "mean                                  18.987674   \n",
       "std                                    5.411058   \n",
       "min                                    0.000000   \n",
       "25%                                   14.975734   \n",
       "50%                                   18.017481   \n",
       "75%                                   23.012470   \n",
       "max                                   30.115735   \n",
       "\n",
       "       secondary_cleaner.state.floatbank4_a_level  \\\n",
       "count                                19438.000000   \n",
       "mean                                  -485.894516   \n",
       "std                                     47.758570   \n",
       "min                                   -799.798523   \n",
       "25%                                   -500.704892   \n",
       "50%                                   -499.837793   \n",
       "75%                                   -498.249730   \n",
       "max                                   -245.239184   \n",
       "\n",
       "       secondary_cleaner.state.floatbank4_b_air  \\\n",
       "count                              19438.000000   \n",
       "mean                                  15.010366   \n",
       "std                                    4.890228   \n",
       "min                                    0.000000   \n",
       "25%                                   11.940294   \n",
       "50%                                   14.971014   \n",
       "75%                                   19.034162   \n",
       "max                                   31.269706   \n",
       "\n",
       "       secondary_cleaner.state.floatbank4_b_level  \\\n",
       "count                                19438.000000   \n",
       "mean                                  -461.078636   \n",
       "std                                     67.405524   \n",
       "min                                   -800.836914   \n",
       "25%                                   -500.187742   \n",
       "50%                                   -499.459786   \n",
       "75%                                   -400.118106   \n",
       "max                                     -6.506986   \n",
       "\n",
       "       secondary_cleaner.state.floatbank5_a_air  \\\n",
       "count                              19438.000000   \n",
       "mean                                  15.694452   \n",
       "std                                    5.510974   \n",
       "min                                   -0.372054   \n",
       "25%                                   10.988606   \n",
       "50%                                   15.000036   \n",
       "75%                                   18.026190   \n",
       "max                                   43.709931   \n",
       "\n",
       "       secondary_cleaner.state.floatbank5_a_level  \\\n",
       "count                                19438.000000   \n",
       "mean                                  -488.684065   \n",
       "std                                     34.533396   \n",
       "min                                   -797.323986   \n",
       "25%                                   -500.458467   \n",
       "50%                                   -499.802605   \n",
       "75%                                   -498.384187   \n",
       "max                                   -244.483566   \n",
       "\n",
       "       secondary_cleaner.state.floatbank5_b_air  \\\n",
       "count                              19438.000000   \n",
       "mean                                  12.198224   \n",
       "std                                    5.333024   \n",
       "min                                    0.528083   \n",
       "25%                                    8.971105   \n",
       "50%                                   11.019433   \n",
       "75%                                   14.019088   \n",
       "max                                   27.926001   \n",
       "\n",
       "       secondary_cleaner.state.floatbank5_b_level  \\\n",
       "count                                19438.000000   \n",
       "mean                                  -487.149827   \n",
       "std                                     38.347312   \n",
       "min                                   -800.220337   \n",
       "25%                                   -500.129462   \n",
       "50%                                   -499.935317   \n",
       "75%                                   -499.436708   \n",
       "max                                   -137.740004   \n",
       "\n",
       "       secondary_cleaner.state.floatbank6_a_air  \\\n",
       "count                              19437.000000   \n",
       "mean                                  18.959024   \n",
       "std                                    5.550498   \n",
       "min                                   -0.079426   \n",
       "25%                                   14.983037   \n",
       "50%                                   19.960541   \n",
       "75%                                   24.003170   \n",
       "max                                   32.188906   \n",
       "\n",
       "       secondary_cleaner.state.floatbank6_a_level  \n",
       "count                                19438.000000  \n",
       "mean                                  -505.436305  \n",
       "std                                     37.689057  \n",
       "min                                   -809.741464  \n",
       "25%                                   -500.728067  \n",
       "50%                                   -500.048400  \n",
       "75%                                   -499.495378  \n",
       "max                                   -104.427459  \n",
       "\n",
       "[8 rows x 86 columns]"
      ]
     },
     "metadata": {},
     "output_type": "display_data"
    }
   ],
   "source": [
    "# Посмотрим на характерные численные значения столбцов\n",
    "display(full.describe())"
   ]
  },
  {
   "cell_type": "markdown",
   "metadata": {},
   "source": [
    "**Выводы:** Большинство признаков численные, значит не придется применять кодирование. Значения признаков имеют разные порядки, скорее всего придется их отмасштабировать. Также необходимо решить, что делать со столбцом даты."
   ]
  },
  {
   "cell_type": "markdown",
   "metadata": {},
   "source": [
    "### Проверим, что эффективность обогащения рассчитана правильно"
   ]
  },
  {
   "cell_type": "markdown",
   "metadata": {},
   "source": [
    "Расчитаем эффективность обогащения для процесса флотации в обучающей выборке по формуле ниже"
   ]
  },
  {
   "cell_type": "markdown",
   "metadata": {},
   "source": [
    "![Image of Yaktocat](https://pictures.s3.yandex.net/resources/Recovery_1576238822.jpg)"
   ]
  },
  {
   "cell_type": "markdown",
   "metadata": {},
   "source": [
    "где:\n",
    "- C — доля золота в концентрате после флотации/очистки;\n",
    "- F — доля золота в сырье/концентрате до флотации/очистки;\n",
    "- T — доля золота в отвальных хвостах после флотации/очистки."
   ]
  },
  {
   "cell_type": "code",
   "execution_count": 6,
   "metadata": {},
   "outputs": [
    {
     "name": "stdout",
     "output_type": "stream",
     "text": [
      "Средняя абсолютная ошибка составляет 1.1740602600420795e-14 при среднем значении 82.70\n"
     ]
    }
   ],
   "source": [
    "recovery = 100 * train['rougher.output.concentrate_au'] * (train['rougher.input.feed_au'] - train['rougher.output.tail_au']) \\\n",
    "    / train['rougher.input.feed_au'] / (train['rougher.output.concentrate_au'] - train['rougher.output.tail_au'])\n",
    "# Выведем среднюю абсолютную ошибку и сравним со средним значением\n",
    "mae = mean_absolute_error(train['rougher.output.recovery'], recovery)\n",
    "print(f\"Средняя абсолютная ошибка составляет {mae} при среднем значении {train['rougher.output.recovery'].mean():.2f}\")"
   ]
  },
  {
   "cell_type": "markdown",
   "metadata": {},
   "source": [
    "**Выводы:** Величина ошибки ничтожно мала по сравнению со средним значением столбца. Следовательно, значения в столбце расчитаны правильно и мы можем расценивать столбец как целевой признак. Небольшие отклонения могут быть вызваны особенностями огругления в средах, где расчитывались значения."
   ]
  },
  {
   "cell_type": "markdown",
   "metadata": {},
   "source": [
    "### Проанализируем признаки, недоступные в тестовой выборке"
   ]
  },
  {
   "cell_type": "code",
   "execution_count": 7,
   "metadata": {},
   "outputs": [
    {
     "data": {
      "text/plain": [
       "Index(['final.output.concentrate_ag', 'final.output.concentrate_pb',\n",
       "       'final.output.concentrate_sol', 'final.output.concentrate_au',\n",
       "       'final.output.recovery', 'final.output.tail_ag', 'final.output.tail_pb',\n",
       "       'final.output.tail_sol', 'final.output.tail_au',\n",
       "       'primary_cleaner.output.concentrate_ag',\n",
       "       'primary_cleaner.output.concentrate_pb',\n",
       "       'primary_cleaner.output.concentrate_sol',\n",
       "       'primary_cleaner.output.concentrate_au',\n",
       "       'primary_cleaner.output.tail_ag', 'primary_cleaner.output.tail_pb',\n",
       "       'primary_cleaner.output.tail_sol', 'primary_cleaner.output.tail_au',\n",
       "       'rougher.calculation.sulfate_to_au_concentrate',\n",
       "       'rougher.calculation.floatbank10_sulfate_to_au_feed',\n",
       "       'rougher.calculation.floatbank11_sulfate_to_au_feed',\n",
       "       'rougher.calculation.au_pb_ratio', 'rougher.output.concentrate_ag',\n",
       "       'rougher.output.concentrate_pb', 'rougher.output.concentrate_sol',\n",
       "       'rougher.output.concentrate_au', 'rougher.output.recovery',\n",
       "       'rougher.output.tail_ag', 'rougher.output.tail_pb',\n",
       "       'rougher.output.tail_sol', 'rougher.output.tail_au',\n",
       "       'secondary_cleaner.output.tail_ag', 'secondary_cleaner.output.tail_pb',\n",
       "       'secondary_cleaner.output.tail_sol',\n",
       "       'secondary_cleaner.output.tail_au'],\n",
       "      dtype='object')"
      ]
     },
     "execution_count": 7,
     "metadata": {},
     "output_type": "execute_result"
    }
   ],
   "source": [
    "# Используя метод loc выберем из исходных данных столбцы, которых нет в тестовой выборке\n",
    "full.loc[:, ~full.columns.isin(test.columns)].columns"
   ]
  },
  {
   "cell_type": "code",
   "execution_count": 8,
   "metadata": {},
   "outputs": [
    {
     "data": {
      "text/plain": [
       "{dtype('float64')}"
      ]
     },
     "execution_count": 8,
     "metadata": {},
     "output_type": "execute_result"
    }
   ],
   "source": [
    "# Посмотри на тип данных в столбцах\n",
    "set(full.loc[:, ~full.columns.isin(test.columns)].dtypes)"
   ]
  },
  {
   "cell_type": "markdown",
   "metadata": {},
   "source": [
    "**Выводы:** По сути итоговая модель будет состоять из двух: одна принимать на вход признаки с наименованиями *rougher.input.* и будет прогноизровать эффективность обогащения флотации (*rougher.output.recovery*), а вторая модель будет в себе объединять оба процесса очистки игнорируя промежуточные параметры, принимать на вход признаки с наименованиями *primary_cleaner.input* и будет предсказывать финальное значение величины обогащения всего процесса выделения золота из руды (*final.output.recovery*). \n",
    "\n",
    "В связи с этим в тестовой выборке нет параметров, которые получаются на выходе после процессов (все признаки имеющие *output* в названии), так как мы их не можем знать до начала различных этапов обогащения руды. Столбцы с *calculation* в названии не используются в тестовой выборке, так как рассчитываются из других признаков и сильно с ними коррелируют.\n",
    "\n",
    "Все стоблцы имеют тип данных *float*."
   ]
  },
  {
   "cell_type": "markdown",
   "metadata": {},
   "source": [
    "### Проведем предобработку данных"
   ]
  },
  {
   "cell_type": "code",
   "execution_count": 9,
   "metadata": {},
   "outputs": [
    {
     "data": {
      "text/plain": [
       "0"
      ]
     },
     "execution_count": 9,
     "metadata": {},
     "output_type": "execute_result"
    }
   ],
   "source": [
    "# Проверим исходный датасет на дубли  \n",
    "full.duplicated().sum()"
   ]
  },
  {
   "cell_type": "code",
   "execution_count": 10,
   "metadata": {},
   "outputs": [
    {
     "name": "stdout",
     "output_type": "stream",
     "text": [
      "Доля пропусков в исходной выборке\n"
     ]
    },
    {
     "data": {
      "text/plain": [
       "secondary_cleaner.output.tail_sol             0.089922\n",
       "rougher.input.floatbank11_xanthate            0.023304\n",
       "rougher.state.floatbank10_e_air               0.022429\n",
       "primary_cleaner.output.concentrate_sol        0.019034\n",
       "secondary_cleaner.state.floatbank2_a_air      0.011317\n",
       "                                                ...   \n",
       "secondary_cleaner.state.floatbank5_a_air      0.000051\n",
       "rougher.output.tail_ag                        0.000051\n",
       "secondary_cleaner.state.floatbank5_a_level    0.000051\n",
       "secondary_cleaner.state.floatbank5_b_air      0.000051\n",
       "secondary_cleaner.state.floatbank5_b_level    0.000051\n",
       "Length: 63, dtype: float64"
      ]
     },
     "metadata": {},
     "output_type": "display_data"
    },
    {
     "name": "stdout",
     "output_type": "stream",
     "text": [
      "Доля пропусков в тренировочной выборке\n"
     ]
    },
    {
     "data": {
      "text/plain": [
       "secondary_cleaner.output.tail_sol             0.113436\n",
       "rougher.state.floatbank10_e_air               0.030815\n",
       "rougher.input.floatbank11_xanthate            0.030249\n",
       "primary_cleaner.output.concentrate_sol        0.020213\n",
       "secondary_cleaner.state.floatbank2_a_air      0.015337\n",
       "                                                ...   \n",
       "secondary_cleaner.state.floatbank5_a_air      0.000071\n",
       "rougher.output.tail_ag                        0.000071\n",
       "secondary_cleaner.state.floatbank5_a_level    0.000071\n",
       "secondary_cleaner.state.floatbank5_b_air      0.000071\n",
       "secondary_cleaner.state.floatbank5_b_level    0.000071\n",
       "Length: 62, dtype: float64"
      ]
     },
     "metadata": {},
     "output_type": "display_data"
    },
    {
     "name": "stdout",
     "output_type": "stream",
     "text": [
      "Доля пропусков в тестовой выборке\n"
     ]
    },
    {
     "data": {
      "text/plain": [
       "rougher.input.floatbank11_xanthate          0.004726\n",
       "rougher.input.feed_sol                      0.003970\n",
       "secondary_cleaner.state.floatbank3_a_air    0.001701\n",
       "rougher.input.floatbank11_sulfate           0.001512\n",
       "primary_cleaner.input.depressant            0.000945\n",
       "rougher.input.floatbank10_sulfate           0.000945\n",
       "primary_cleaner.input.sulfate               0.000756\n",
       "primary_cleaner.input.xanthate              0.000756\n",
       "secondary_cleaner.state.floatbank2_a_air    0.000567\n",
       "rougher.input.feed_rate                     0.000567\n",
       "secondary_cleaner.state.floatbank2_b_air    0.000378\n",
       "rougher.input.feed_size                     0.000189\n",
       "dtype: float64"
      ]
     },
     "metadata": {},
     "output_type": "display_data"
    }
   ],
   "source": [
    "# Проверим на пропуски тренировочную и тестовые выборки\n",
    "print('Доля пропусков в исходной выборке')\n",
    "display(full.isnull().mean().sort_values(ascending=False).loc[(full.isnull().mean().sort_values(ascending=False) > 0)])\n",
    "print('Доля пропусков в тренировочной выборке')\n",
    "display(train.isnull().mean().sort_values(ascending=False).loc[(train.isnull().mean().sort_values(ascending=False) > 0)])\n",
    "print('Доля пропусков в тестовой выборке')\n",
    "display(test.isnull().mean().sort_values(ascending=False).loc[(test.isnull().mean().sort_values(ascending=False) > 0)])"
   ]
  },
  {
   "cell_type": "markdown",
   "metadata": {},
   "source": [
    "В основном доли пропусков не превышают долей процентов для тренировочной и тестовой выборки. Можно их просто удалить, но я предлагаю заполнить пропуски предыдущими значениями, так как в описании датасетов сказано, что по времени параметры часто похожи."
   ]
  },
  {
   "cell_type": "code",
   "execution_count": 11,
   "metadata": {},
   "outputs": [
    {
     "name": "stdout",
     "output_type": "stream",
     "text": [
      "Количество пропусков в тренировочной выборке  0\n",
      "Количество пропусков в тренировочной выборке  0\n"
     ]
    }
   ],
   "source": [
    "# Заполним пропуски предыдущими значениями\n",
    "train.ffill(inplace=True)\n",
    "test.ffill(inplace=True)\n",
    "# Проверка\n",
    "print('Количество пропусков в тренировочной выборке ',train.isnull().sum().sum())\n",
    "print('Количество пропусков в тренировочной выборке ', test.isnull().sum().sum())"
   ]
  },
  {
   "cell_type": "markdown",
   "metadata": {},
   "source": [
    "## Анализ данных"
   ]
  },
  {
   "cell_type": "markdown",
   "metadata": {},
   "source": [
    "###  Посмотрим, как меняется концентрация металлов (Au, Ag, Pb) на различных этапах очистки. "
   ]
  },
  {
   "cell_type": "code",
   "execution_count": 12,
   "metadata": {},
   "outputs": [
    {
     "name": "stdout",
     "output_type": "stream",
     "text": [
      "Средняя концентрация Au во время процесса Rougher 19.77\n",
      "Средняя концентрация Au во время процесса Primary_cleaner 32.12\n",
      "Средняя концентрация Au во время процесса Final 44.08\n",
      "Средняя концентрация Ag во время процесса Rougher 11.99\n",
      "Средняя концентрация Ag во время процесса Primary_cleaner 8.44\n",
      "Средняя концентрация Ag во время процесса Final 5.17\n",
      "Средняя концентрация Pb во время процесса Rougher 7.61\n",
      "Средняя концентрация Pb во время процесса Primary_cleaner 9.83\n",
      "Средняя концентрация Pb во время процесса Final 9.98\n"
     ]
    },
    {
     "data": {
      "image/png": "[encoded data removed]",
      "text/plain": [
       "<Figure size 720x576 with 1 Axes>"
      ]
     },
     "metadata": {
      "needs_background": "light"
     },
     "output_type": "display_data"
    },
    {
     "data": {
      "image/png": "[encoded data removed]",
      "text/plain": [
       "<Figure size 720x576 with 1 Axes>"
      ]
     },
     "metadata": {
      "needs_background": "light"
     },
     "output_type": "display_data"
    },
    {
     "data": {
      "image/png": "[encoded data removed]",
      "text/plain": [
       "<Figure size 720x576 with 1 Axes>"
      ]
     },
     "metadata": {
      "needs_background": "light"
     },
     "output_type": "display_data"
    }
   ],
   "source": [
    "metals = ['au', 'ag', 'pb']\n",
    "key_word_1 = '.output.'\n",
    "key_word_2 = 'concentrate_'\n",
    "processes = ['rougher', 'primary_cleaner', 'final']\n",
    "for metal in metals:\n",
    "    plt.figure(figsize=(10, 8))    \n",
    "    for process in processes:\n",
    "        col = process+key_word_1+key_word_2+metal\n",
    "        print(f\"Средняя концентрация {metal.capitalize()} во время процесса {process.capitalize()} {full[col].mean():.2f}\") \n",
    "        full[col].plot.kde(label='Процесс '+process.capitalize())\n",
    "        #plt.hist(full[col], label='Процесс '+process.capitalize(), alpha=0.7)\n",
    "        plt.title(\"Изменение концентрации \" + metal.capitalize() + \" на раздичных этапах очистки\")\n",
    "        plt.legend()\n",
    "        plt.grid()\n",
    "        plt.xlabel(\"Значение концентрации\") \n",
    "        plt.ylabel(\"Плотность значений\") "
   ]
  },
  {
   "cell_type": "markdown",
   "metadata": {},
   "source": [
    "**Выводы:**\n",
    "\n",
    "Золото: С каждым этапом концентрация золота возрастает. После обогащения финальный концентрат имеет в среднем 44% золота. Также присутсвуют выбросы в виде заниженных значений, возможно, в этих случаях размеры зерен породы были слишком большие и процесс обогащения был неэффективен или неправильно подобрали реагенты.\n",
    "\n",
    "Серебро: С каждым этапом доля серебра в концентрате уменьшается, достигая на выходе значения в 5%. Скорее всего, химикаты подобраны так, чтобы взаимодействовать в основном с золотом. При этом догично предположить, что доля серебра в хвостах растет от этапа к этапу и из них можно добыть серебро, используя другие химикаты.\n",
    "\n",
    "Свинец: Доля свинца в концентрате слабо растет, на выходе итоговая порода имеет почти 10% серебра в среднем. Первичная и вторичная очистки слабо изменяют концентрацию серебра. Также имеются выбросы в виде заниженных значений.\n",
    "\n",
    "Также присутсвуют нулевые значения, что свидетельствует о том, что не всегда руда содержит рассматрвиаемые металлы."
   ]
  },
  {
   "cell_type": "markdown",
   "metadata": {},
   "source": [
    "###  Сравним распределения размеров гранул сырья на обучающей и тестовой выборках."
   ]
  },
  {
   "cell_type": "code",
   "execution_count": 13,
   "metadata": {},
   "outputs": [
    {
     "data": {
      "text/plain": [
       "<function matplotlib.pyplot.show(*args, **kw)>"
      ]
     },
     "execution_count": 13,
     "metadata": {},
     "output_type": "execute_result"
    },
    {
     "data": {
      "image/png": "[encoded data removed]",
      "text/plain": [
       "<Figure size 720x432 with 1 Axes>"
      ]
     },
     "metadata": {
      "needs_background": "light"
     },
     "output_type": "display_data"
    },
    {
     "data": {
      "image/png": "[encoded data removed]",
      "text/plain": [
       "<Figure size 720x432 with 1 Axes>"
      ]
     },
     "metadata": {
      "needs_background": "light"
     },
     "output_type": "display_data"
    }
   ],
   "source": [
    "# Распределение размеров гранул для процесса флотации\n",
    "plt.figure(figsize=(10,6))\n",
    "train['rougher.input.feed_size'].plot.kde(label='Тренировочная выборка')\n",
    "test['rougher.input.feed_size'].plot.kde(label='Тестовая выборка')\n",
    "plt.xlabel('Размеры гранул')\n",
    "plt.ylabel('Плотность')\n",
    "plt.title('Распредление размеров гранул сырья для процесса флотации')\n",
    "plt.grid()\n",
    "plt.legend()\n",
    "plt.show\n",
    "# Распределение размеров гранул для процесса очистки\n",
    "plt.figure(figsize=(10,6))\n",
    "train['primary_cleaner.input.feed_size'].plot.kde(label='Тренировочная выборка')\n",
    "test['primary_cleaner.input.feed_size'].plot.kde(label='Тестовая выборка')\n",
    "plt.xlabel('Размеры гранул')\n",
    "plt.ylabel('Плотность')\n",
    "plt.title('Распредление размеров гранул сырья для процесса очистки')\n",
    "plt.grid()\n",
    "plt.legend()\n",
    "plt.show"
   ]
  },
  {
   "cell_type": "markdown",
   "metadata": {},
   "source": [
    "**Выводы:** Распределения размеров зерен для тестовой выборки и тренировочной схожи для процесса флотации и очистки. Следовательно, модель будет давать корректные оценки на тестовый данных "
   ]
  },
  {
   "cell_type": "code",
   "execution_count": null,
   "metadata": {},
   "outputs": [],
   "source": []
  },
  {
   "cell_type": "markdown",
   "metadata": {},
   "source": [
    "### Исследуем суммарную концентрацию всех веществ на разных стадиях: в сырье, в черновом и финальном концентратах."
   ]
  },
  {
   "cell_type": "code",
   "execution_count": 14,
   "metadata": {},
   "outputs": [
    {
     "name": "stdout",
     "output_type": "stream",
     "text": [
      "Среднее значение суммарной концентрации в сырье 57.41\n",
      "Среднее значение суммарной концентрации в черновом концентрате 68.19\n",
      "Среднее значение суммарной концентрации в итоговом концентрате 68.73\n"
     ]
    },
    {
     "data": {
      "image/png": "[encoded data removed]",
      "text/plain": [
       "<Figure size 720x432 with 1 Axes>"
      ]
     },
     "metadata": {
      "needs_background": "light"
     },
     "output_type": "display_data"
    }
   ],
   "source": [
    "plt.figure(figsize=(10, 6))\n",
    "raw = full['rougher.input.feed_au'] + full['rougher.input.feed_ag'] + full['rougher.input.feed_pb'] + full['rougher.input.feed_sol']\n",
    "rough = full['rougher.output.concentrate_au'] + full['rougher.output.concentrate_ag'] + full['rougher.output.concentrate_pb'] + full['rougher.output.concentrate_sol']\n",
    "final = full['final.output.concentrate_au'] + full['final.output.concentrate_ag'] + full['final.output.concentrate_pb'] + full['final.output.concentrate_sol']\n",
    "raw.plot.kde(label='Сырье')\n",
    "rough.plot.kde(label=\"Черновой концентрат\")\n",
    "final.plot.kde(label=\"Финальный концентрат\")\n",
    "plt.xlabel('Концентрация')\n",
    "plt.ylabel('Плотность значений')\n",
    "plt.legend()\n",
    "plt.grid()\n",
    "plt.title('Суммарная концентрация всех веществ на разных стадиях')\n",
    "print(f\"Среднее значение суммарной концентрации в сырье {raw.mean():.2f}\")\n",
    "print(f\"Среднее значение суммарной концентрации в черновом концентрате {rough.mean():.2f}\")\n",
    "print(f\"Среднее значение суммарной концентрации в итоговом концентрате {final.mean():.2f}\")"
   ]
  },
  {
   "cell_type": "markdown",
   "metadata": {},
   "source": [
    "**Выводы:**  Главное, что нужно отметить - то, что присутствуют нулевые значения суммарной концентрации, что маловероятно, так как руда не может ничего содержать. Такие строки явялются аномалиями и их следует удалить из тренировочного и тестового датасета.\n",
    "\n",
    "Можно сказать, что флотация вносит основной вклад в рост концентрации веществ, на этоп этапе происходит основное разделение металлов от ненужной руды. В свою очередь процессы очистки слабо увеличивают концентрацию, скорее всего на этих этапах происходит в основном забор всплывших в результате флотации металлов."
   ]
  },
  {
   "cell_type": "code",
   "execution_count": 15,
   "metadata": {},
   "outputs": [],
   "source": [
    "# Оставим в тренировочной и тестовой выборках нормальные значения\n",
    "train = train.loc[train['date'].isin(full.loc[raw > 0, 'date'].tolist())]\n",
    "train = train.loc[train['date'].isin(full.loc[rough > 0, 'date'].tolist())]      \n",
    "train = train.loc[train['date'].isin(full.loc[final > 0, 'date'].tolist())] \n",
    "test = test.loc[test['date'].isin(full.loc[raw > 0, 'date'].tolist())]\n",
    "test = test.loc[test['date'].isin(full.loc[rough > 0, 'date'].tolist())]      \n",
    "test = test.loc[test['date'].isin(full.loc[final > 0, 'date'].tolist())] "
   ]
  },
  {
   "cell_type": "markdown",
   "metadata": {},
   "source": [
    "## Модель"
   ]
  },
  {
   "cell_type": "markdown",
   "metadata": {},
   "source": [
    "###  Напишием функцию для вычисления итоговой sMAPE."
   ]
  },
  {
   "cell_type": "markdown",
   "metadata": {},
   "source": [
    "![](https://pictures.s3.yandex.net/resources/smape_1576238825.jpg)"
   ]
  },
  {
   "cell_type": "markdown",
   "metadata": {},
   "source": [
    "![](https://pictures.s3.yandex.net/resources/_smape_1576238814.jpg)"
   ]
  },
  {
   "cell_type": "code",
   "execution_count": 16,
   "metadata": {},
   "outputs": [],
   "source": [
    "def calc_sMAPE(target, pred):\n",
    "    \"\"\"\n",
    "    Функция принимает истинные и предсказанные значения и расчитывает sMAPE\n",
    "    \"\"\"\n",
    "    sMAPE = sum(abs(target - pred) * 2 / (abs(target) + abs(pred))) * 100 / len(target)\n",
    "    return sMAPE"
   ]
  },
  {
   "cell_type": "code",
   "execution_count": 17,
   "metadata": {},
   "outputs": [],
   "source": [
    "def calc_final_sMAPE(target_rougher, pred_rougher, target_final, pred_final):\n",
    "    \"\"\"\n",
    "    Функция принимает на вход истинные и предсказанные значения для процессов флотации и очистки,\n",
    "    расчитывает метрики sMAPE для каждого процесса и выдает итоговую sMAPE\n",
    "    \"\"\"\n",
    "    rougher_sMAPE = calc_sMAPE(target_rougher, pred_rougher)\n",
    "    final_sMAPE = calc_sMAPE(target_final, pred_final)\n",
    "    sMAPE = 0.25 * rougher_sMAPE + 0.75 * final_sMAPE\n",
    "    return sMAPE"
   ]
  },
  {
   "cell_type": "markdown",
   "metadata": {},
   "source": [
    "### Обучим разные модели и оценим их качество кросс-валидацией. Выберем лучшую модель и провим ё на тестовой выборке. "
   ]
  },
  {
   "cell_type": "markdown",
   "metadata": {},
   "source": [
    "Так как для рассчета коэффициентов восстановления для флотации и процессов очистки логически используются разные признаки, необходимо разделить тренировочную и тетсовые выборки для обучения и проверки двух моделей. \n",
    "\n",
    "Я считаю, что для моделирования флотации мы должны использовать признаки, содержашие *rougher.input*, признаки имеющие *state* в названии мы не используем, так как они характеризуют текущее состояние процесса и мы не можем их знать заранее."
   ]
  },
  {
   "cell_type": "code",
   "execution_count": 19,
   "metadata": {
    "scrolled": true
   },
   "outputs": [],
   "source": [
    "# Сформируем признаки для моделирования процесса флотации\n",
    "features_train_rougher = train.loc[:,train.columns.str.contains('rougher.input.')]\n",
    "target_train_rougher = train['rougher.output.recovery']\n",
    "features_test_rougher = test.loc[:,test.columns.str.contains('rougher.input.')]\n",
    "# Вытащим из изходного датасета, те значения целевого признака, которые находятся в тестовом датасете\n",
    "target_test_rougher = full.loc[full['date'].isin(test['date'].tolist()), 'rougher.output.recovery']"
   ]
  },
  {
   "cell_type": "markdown",
   "metadata": {},
   "source": [
    "Я считаю, что для моделирования процессов очистки мы должны использовать признаки, содержашие *primary_cleaner.input*, признаки имеющие *state* в названии мы не используем, так как они характеризуют текущее состояние процесса и мы не можем их знать заранее."
   ]
  },
  {
   "cell_type": "code",
   "execution_count": 21,
   "metadata": {},
   "outputs": [],
   "source": [
    "# Сформируем признаки для моделирования процессов очистки\n",
    "features_train_final = train.loc[:,train.columns.str.contains('primary_cleaner.input.')]\n",
    "target_train_final = train['final.output.recovery']\n",
    "features_test_final = test.loc[:,test.columns.str.contains('primary_cleaner.input.')]\n",
    "# Вытащим из изходного датасета, те значения целевого признака, которые находятся в тестовом датасете\n",
    "target_test_final = full.loc[full['date'].isin(test['date'].tolist()), 'final.output.recovery']"
   ]
  },
  {
   "cell_type": "markdown",
   "metadata": {},
   "source": [
    "#### Модель для предсказания коэффициента восстановления для флотации"
   ]
  },
  {
   "cell_type": "code",
   "execution_count": 22,
   "metadata": {},
   "outputs": [
    {
     "name": "stdout",
     "output_type": "stream",
     "text": [
      "Полученные результаты\n",
      "[(8.941481813010974, 'LinearRegression'), (11.37688738506317, 'DecisionTreeRegressor'), (10.106915864075445, 'RandomForestRegressor')]\n",
      "Модель, обладающая меньшей sMAPE: LinearRegression\n"
     ]
    }
   ],
   "source": [
    "# Сравним три модели\n",
    "LR = LinearRegression()\n",
    "DTR = DecisionTreeRegressor(random_state=12345)\n",
    "RFR = RandomForestRegressor(random_state=12345)\n",
    "models = [LR, DTR, RFR]\n",
    "results = []\n",
    "my_scorer = make_scorer(calc_sMAPE, greater_is_better=False)\n",
    "for model in models:\n",
    "    scores = cross_val_score(model,features_train_rougher, target_train_rougher, cv=3, scoring=my_scorer)\n",
    "    result = sum(scores) / len(scores)\n",
    "    results.append((-1 * result,type(model).__name__, model))\n",
    "    \n",
    "# Сохраним лучшую модель\n",
    "best_model_rougher = sorted(results)[0][2]\n",
    "print(\"Полученные результаты\")\n",
    "print([row[0:2] for row in results])\n",
    "print(f\"Модель, обладающая меньшей sMAPE: {sorted(results)[0][1]}\")"
   ]
  },
  {
   "cell_type": "markdown",
   "metadata": {},
   "source": [
    "#### Модель для предсказания коэффициента восстановления для очистки"
   ]
  },
  {
   "cell_type": "code",
   "execution_count": 23,
   "metadata": {},
   "outputs": [
    {
     "name": "stdout",
     "output_type": "stream",
     "text": [
      "Полученные результаты\n",
      "[(9.72992376984879, 'LinearRegression'), (14.9161054415532, 'DecisionTreeRegressor'), (11.101301177689123, 'RandomForestRegressor')]\n",
      "Модель, обладающая меньшей sMAPE: LinearRegression\n"
     ]
    }
   ],
   "source": [
    "# Сравним три модели\n",
    "LR = LinearRegression()\n",
    "DTR = DecisionTreeRegressor(random_state=12345)\n",
    "RFR = RandomForestRegressor(random_state=12345)\n",
    "models = [LR, DTR, RFR]\n",
    "results = []\n",
    "for model in models:\n",
    "    scores = cross_val_score(model,features_train_final, target_train_final, cv=3, scoring=my_scorer)\n",
    "    result = sum(scores) / len(scores)\n",
    "    results.append((-1 * result,type(model).__name__, model))\n",
    "    \n",
    "# Сохраним лучшую модель\n",
    "best_model_final = sorted(results)[0][2]\n",
    "print(\"Полученные результаты\")\n",
    "print([row[0:2] for row in results])\n",
    "print(f\"Модель, обладающая меньшей sMAPE: {sorted(results)[0][1]}\")"
   ]
  },
  {
   "cell_type": "markdown",
   "metadata": {},
   "source": [
    "**Выводы:** В обоих случаях для предсказания значения коэффициента восстановления для процесса флотации и очистки подойдет модель линейной регрессии."
   ]
  },
  {
   "cell_type": "code",
   "execution_count": 24,
   "metadata": {},
   "outputs": [
    {
     "name": "stdout",
     "output_type": "stream",
     "text": [
      "Итоговое sMAPE составляет 7.68%\n"
     ]
    }
   ],
   "source": [
    "# Проверим лучшие модели на тестовой выборке\n",
    "best_model_rougher.fit(features_train_rougher, target_train_rougher)\n",
    "pred_rougher = best_model_rougher.predict(features_test_rougher)\n",
    "best_model_final.fit(features_train_final, target_train_final)\n",
    "pred_final = best_model_final.predict(features_test_final)\n",
    "# Посчитаем итоговое sMAPE\n",
    "sMAPE = calc_final_sMAPE(target_test_rougher, pred_rougher, target_test_final, pred_final)\n",
    "print(f\"Итоговое sMAPE составляет {sMAPE:.2f}%\")"
   ]
  },
  {
   "cell_type": "markdown",
   "metadata": {},
   "source": [
    "Сравним нашу модель с константой моделью"
   ]
  },
  {
   "cell_type": "code",
   "execution_count": 25,
   "metadata": {},
   "outputs": [
    {
     "name": "stdout",
     "output_type": "stream",
     "text": [
      "Итоговое sMAPE константной модели составляет 7.22%\n"
     ]
    }
   ],
   "source": [
    "# Обучим dummy модель\n",
    "DR_rougher = DummyRegressor(strategy=\"median\") \n",
    "DR_rougher.fit(features_train_rougher, target_train_rougher)\n",
    "DR_pred_rougher = DR_rougher.predict(features_test_rougher)\n",
    "DR_final = DummyRegressor(strategy=\"median\") \n",
    "DR_final.fit(features_train_final, target_train_final)\n",
    "DR_pred_final = DR_final.predict(features_test_final)\n",
    "sMAPE = calc_final_sMAPE(target_test_rougher, DR_pred_rougher, target_test_final, DR_pred_final)\n",
    "print(f\"Итоговое sMAPE константной модели составляет {sMAPE:.2f}%\")"
   ]
  },
  {
   "cell_type": "markdown",
   "metadata": {},
   "source": [
    "**Выводы:** Обученную модель не прошла проверку на адекватность, итоговое значение метрики (7,68%) больше, чем у константной модели (7,22%) "
   ]
  },
  {
   "cell_type": "markdown",
   "metadata": {},
   "source": [
    "## Выводы"
   ]
  },
  {
   "cell_type": "markdown",
   "metadata": {},
   "source": [
    "По итогам этого проекта была разработана модель предсказания эффективности процесса обогащения золотой руды. Итоговое значение метрики определялось в два этапа: сначала расчитывалась эффективность процесса флотации, а потом эффективность очистки. \n",
    "\n",
    "Согласно исходным данным, флотация дает основной прирост в увеличении концентрации металлов в руде. Химикаты для флотации подобраны так, что концентрация золота увеличивается значительно, свинца - слабо растет, а серебра падает.\n",
    "\n",
    "Для предсказания коэффициентов восстановления использовались модели линейной регрессии в обоих случаях. Итоговое значение метрики sMAPE составило 7,68%. \n",
    "\n",
    "Также модель не прошла проверку на адекватность, разработанная модель предсказывает значения хуже, чем константная модель (7,68% против 7,22%). Возможно, чтобы улучшить качество модели можно попытаться создать новые признаки или использовать нелинейные зависимости целевого признака от других признаков.  "
   ]
  }
 ],
 "metadata": {
  "ExecuteTimeLog": [
   {
    "duration": 1396,
    "start_time": "2021-10-25T17:57:04.257Z"
   },
   {
    "duration": 139,
    "start_time": "2021-10-25T17:57:21.781Z"
   },
   {
    "duration": 125,
    "start_time": "2021-10-25T17:57:24.758Z"
   },
   {
    "duration": 5020,
    "start_time": "2021-10-25T18:06:31.377Z"
   },
   {
    "duration": 1029,
    "start_time": "2021-10-25T18:07:49.493Z"
   },
   {
    "duration": 1244,
    "start_time": "2021-10-25T18:08:18.420Z"
   },
   {
    "duration": 1007,
    "start_time": "2021-10-25T18:08:42.472Z"
   },
   {
    "duration": 995,
    "start_time": "2021-10-25T18:08:55.738Z"
   },
   {
    "duration": 1456,
    "start_time": "2021-10-25T18:09:09.823Z"
   },
   {
    "duration": 1295,
    "start_time": "2021-10-25T18:09:36.817Z"
   },
   {
    "duration": 988,
    "start_time": "2021-10-25T18:09:56.458Z"
   },
   {
    "duration": 23,
    "start_time": "2021-10-25T19:15:38.858Z"
   },
   {
    "duration": 965,
    "start_time": "2021-10-25T19:16:15.209Z"
   },
   {
    "duration": 939,
    "start_time": "2021-10-25T19:16:48.563Z"
   },
   {
    "duration": 945,
    "start_time": "2021-10-25T19:17:39.406Z"
   },
   {
    "duration": 986,
    "start_time": "2021-10-25T19:18:01.770Z"
   },
   {
    "duration": 7,
    "start_time": "2021-10-25T19:22:44.079Z"
   },
   {
    "duration": 500,
    "start_time": "2021-10-25T19:22:49.440Z"
   },
   {
    "duration": 5,
    "start_time": "2021-10-25T19:22:53.417Z"
   },
   {
    "duration": 7,
    "start_time": "2021-10-25T19:23:00.700Z"
   },
   {
    "duration": 5,
    "start_time": "2021-10-25T19:23:05.576Z"
   },
   {
    "duration": 7,
    "start_time": "2021-10-25T19:23:19.036Z"
   },
   {
    "duration": 366,
    "start_time": "2021-10-25T19:23:31.818Z"
   },
   {
    "duration": 383,
    "start_time": "2021-10-25T19:23:33.775Z"
   },
   {
    "duration": 7,
    "start_time": "2021-10-25T19:23:41.197Z"
   },
   {
    "duration": 456,
    "start_time": "2021-10-25T19:23:57.465Z"
   },
   {
    "duration": 9,
    "start_time": "2021-10-25T19:24:02.937Z"
   },
   {
    "duration": 8,
    "start_time": "2021-10-25T19:24:37.953Z"
   },
   {
    "duration": 16,
    "start_time": "2021-10-25T19:24:57.178Z"
   },
   {
    "duration": 1927,
    "start_time": "2021-10-26T17:14:30.918Z"
   },
   {
    "duration": -291,
    "start_time": "2021-10-26T17:14:33.139Z"
   },
   {
    "duration": -290,
    "start_time": "2021-10-26T17:14:33.140Z"
   },
   {
    "duration": 313,
    "start_time": "2021-10-26T17:15:23.016Z"
   },
   {
    "duration": 295,
    "start_time": "2021-10-26T17:15:26.090Z"
   },
   {
    "duration": 1000,
    "start_time": "2021-10-26T17:15:30.652Z"
   },
   {
    "duration": 38,
    "start_time": "2021-10-26T17:15:31.655Z"
   },
   {
    "duration": 4,
    "start_time": "2021-10-26T17:15:35.936Z"
   },
   {
    "duration": 987,
    "start_time": "2021-10-26T17:15:36.645Z"
   },
   {
    "duration": 16,
    "start_time": "2021-10-26T17:15:37.634Z"
   },
   {
    "duration": 41,
    "start_time": "2021-10-26T17:15:38.702Z"
   },
   {
    "duration": 6,
    "start_time": "2021-10-26T17:19:50.422Z"
   },
   {
    "duration": 13,
    "start_time": "2021-10-26T17:42:14.907Z"
   },
   {
    "duration": 7,
    "start_time": "2021-10-26T17:42:20.057Z"
   },
   {
    "duration": 7,
    "start_time": "2021-10-26T17:42:29.816Z"
   },
   {
    "duration": 8,
    "start_time": "2021-10-26T17:42:33.959Z"
   },
   {
    "duration": 6,
    "start_time": "2021-10-26T17:43:33.351Z"
   },
   {
    "duration": 7,
    "start_time": "2021-10-26T17:43:37.840Z"
   },
   {
    "duration": 8,
    "start_time": "2021-10-26T17:43:46.007Z"
   },
   {
    "duration": 7,
    "start_time": "2021-10-26T17:43:49.552Z"
   },
   {
    "duration": 6,
    "start_time": "2021-10-26T17:45:12.938Z"
   },
   {
    "duration": 6,
    "start_time": "2021-10-26T17:45:14.045Z"
   },
   {
    "duration": 9,
    "start_time": "2021-10-26T17:45:14.429Z"
   },
   {
    "duration": 6,
    "start_time": "2021-10-26T17:45:57.426Z"
   },
   {
    "duration": 7,
    "start_time": "2021-10-26T17:45:57.944Z"
   },
   {
    "duration": 8,
    "start_time": "2021-10-26T17:45:58.426Z"
   },
   {
    "duration": 6,
    "start_time": "2021-10-26T17:46:04.421Z"
   },
   {
    "duration": 7,
    "start_time": "2021-10-26T17:46:08.957Z"
   },
   {
    "duration": 6,
    "start_time": "2021-10-26T17:46:09.457Z"
   },
   {
    "duration": 9,
    "start_time": "2021-10-26T17:46:09.882Z"
   },
   {
    "duration": 6,
    "start_time": "2021-10-26T17:46:14.056Z"
   },
   {
    "duration": 6,
    "start_time": "2021-10-26T17:46:19.561Z"
   },
   {
    "duration": 7,
    "start_time": "2021-10-26T17:46:19.904Z"
   },
   {
    "duration": 8,
    "start_time": "2021-10-26T17:46:20.263Z"
   },
   {
    "duration": 41,
    "start_time": "2021-10-26T17:46:46.904Z"
   },
   {
    "duration": 7767,
    "start_time": "2021-10-26T17:47:41.657Z"
   },
   {
    "duration": 5,
    "start_time": "2021-10-26T17:47:59.974Z"
   },
   {
    "duration": 5,
    "start_time": "2021-10-26T17:48:05.380Z"
   },
   {
    "duration": 6,
    "start_time": "2021-10-26T17:48:18.194Z"
   },
   {
    "duration": 9,
    "start_time": "2021-10-26T17:52:10.104Z"
   },
   {
    "duration": 1139,
    "start_time": "2021-10-26T17:52:16.682Z"
   },
   {
    "duration": 6,
    "start_time": "2021-10-26T17:52:19.250Z"
   },
   {
    "duration": 341,
    "start_time": "2021-10-26T17:52:41.843Z"
   },
   {
    "duration": 905,
    "start_time": "2021-10-26T17:53:59.077Z"
   },
   {
    "duration": 362,
    "start_time": "2021-10-26T17:54:06.809Z"
   },
   {
    "duration": 9,
    "start_time": "2021-10-26T17:57:11.708Z"
   },
   {
    "duration": 11,
    "start_time": "2021-10-26T17:57:16.714Z"
   },
   {
    "duration": 314,
    "start_time": "2021-10-26T18:44:56.026Z"
   },
   {
    "duration": 2708,
    "start_time": "2021-10-26T18:45:11.470Z"
   },
   {
    "duration": 329,
    "start_time": "2021-10-26T18:45:22.956Z"
   },
   {
    "duration": 48,
    "start_time": "2021-10-26T18:45:28.870Z"
   },
   {
    "duration": 39,
    "start_time": "2021-10-26T18:46:17.523Z"
   },
   {
    "duration": 40,
    "start_time": "2021-10-26T18:46:22.230Z"
   },
   {
    "duration": 38,
    "start_time": "2021-10-26T18:46:28.368Z"
   },
   {
    "duration": 9,
    "start_time": "2021-10-26T18:47:54.142Z"
   },
   {
    "duration": 10,
    "start_time": "2021-10-26T18:49:21.770Z"
   },
   {
    "duration": 9,
    "start_time": "2021-10-26T18:49:26.935Z"
   },
   {
    "duration": 9,
    "start_time": "2021-10-26T18:50:17.971Z"
   },
   {
    "duration": 9,
    "start_time": "2021-10-26T18:58:51.883Z"
   },
   {
    "duration": 9,
    "start_time": "2021-10-26T19:05:18.389Z"
   },
   {
    "duration": 7,
    "start_time": "2021-10-26T19:07:49.107Z"
   },
   {
    "duration": 7,
    "start_time": "2021-10-26T19:08:08.841Z"
   },
   {
    "duration": 9,
    "start_time": "2021-10-26T19:08:23.957Z"
   },
   {
    "duration": 7,
    "start_time": "2021-10-26T19:09:15.794Z"
   },
   {
    "duration": 8,
    "start_time": "2021-10-26T19:09:22.870Z"
   },
   {
    "duration": 6,
    "start_time": "2021-10-26T19:09:39.397Z"
   },
   {
    "duration": 6,
    "start_time": "2021-10-26T19:10:35.551Z"
   },
   {
    "duration": 1457,
    "start_time": "2021-10-27T17:42:18.970Z"
   },
   {
    "duration": 984,
    "start_time": "2021-10-27T17:42:20.429Z"
   },
   {
    "duration": 15,
    "start_time": "2021-10-27T17:42:21.416Z"
   },
   {
    "duration": 407,
    "start_time": "2021-10-27T17:42:21.434Z"
   },
   {
    "duration": 16,
    "start_time": "2021-10-27T17:42:21.843Z"
   },
   {
    "duration": 24,
    "start_time": "2021-10-27T17:42:21.862Z"
   },
   {
    "duration": 12,
    "start_time": "2021-10-27T17:42:21.889Z"
   },
   {
    "duration": 38,
    "start_time": "2021-10-27T17:45:56.381Z"
   },
   {
    "duration": 15,
    "start_time": "2021-10-27T17:46:00.946Z"
   },
   {
    "duration": 13,
    "start_time": "2021-10-27T17:46:50.721Z"
   },
   {
    "duration": 14,
    "start_time": "2021-10-27T17:47:09.205Z"
   },
   {
    "duration": 12,
    "start_time": "2021-10-27T17:47:16.288Z"
   },
   {
    "duration": 7,
    "start_time": "2021-10-27T17:56:04.857Z"
   },
   {
    "duration": 6,
    "start_time": "2021-10-27T18:01:13.873Z"
   },
   {
    "duration": 3,
    "start_time": "2021-10-27T18:23:25.072Z"
   },
   {
    "duration": 42,
    "start_time": "2021-10-27T18:23:31.209Z"
   },
   {
    "duration": 42,
    "start_time": "2021-10-27T18:23:35.753Z"
   },
   {
    "duration": 40,
    "start_time": "2021-10-27T18:23:49.941Z"
   },
   {
    "duration": 39,
    "start_time": "2021-10-27T18:23:59.851Z"
   },
   {
    "duration": 640,
    "start_time": "2021-10-27T18:24:59.483Z"
   },
   {
    "duration": 402,
    "start_time": "2021-10-27T18:25:02.684Z"
   },
   {
    "duration": 166,
    "start_time": "2021-10-27T18:25:08.219Z"
   },
   {
    "duration": 177,
    "start_time": "2021-10-27T18:25:16.227Z"
   },
   {
    "duration": 168,
    "start_time": "2021-10-27T18:25:20.636Z"
   },
   {
    "duration": 13,
    "start_time": "2021-10-27T18:26:00.845Z"
   },
   {
    "duration": 13,
    "start_time": "2021-10-27T18:26:10.562Z"
   },
   {
    "duration": 15,
    "start_time": "2021-10-27T18:26:24.347Z"
   },
   {
    "duration": 16,
    "start_time": "2021-10-27T18:26:49.567Z"
   },
   {
    "duration": 15,
    "start_time": "2021-10-27T18:26:53.099Z"
   },
   {
    "duration": 398,
    "start_time": "2021-10-27T18:27:25.744Z"
   },
   {
    "duration": 23,
    "start_time": "2021-10-27T18:27:36.278Z"
   },
   {
    "duration": 22,
    "start_time": "2021-10-27T18:27:47.607Z"
   },
   {
    "duration": 22,
    "start_time": "2021-10-27T18:27:53.877Z"
   },
   {
    "duration": 39,
    "start_time": "2021-10-27T18:28:10.419Z"
   },
   {
    "duration": 9,
    "start_time": "2021-10-27T18:28:20.711Z"
   },
   {
    "duration": 10,
    "start_time": "2021-10-27T18:28:33.590Z"
   },
   {
    "duration": 9,
    "start_time": "2021-10-27T18:28:51.343Z"
   },
   {
    "duration": 22,
    "start_time": "2021-10-27T18:29:19.813Z"
   },
   {
    "duration": 22,
    "start_time": "2021-10-27T18:29:34.662Z"
   },
   {
    "duration": 40,
    "start_time": "2021-10-27T18:29:48.138Z"
   },
   {
    "duration": 54,
    "start_time": "2021-10-27T18:31:02.856Z"
   },
   {
    "duration": 1523,
    "start_time": "2021-10-27T18:38:11.048Z"
   },
   {
    "duration": 969,
    "start_time": "2021-10-27T18:38:12.573Z"
   },
   {
    "duration": 39,
    "start_time": "2021-10-27T18:38:13.545Z"
   },
   {
    "duration": 381,
    "start_time": "2021-10-27T18:38:13.586Z"
   },
   {
    "duration": 23,
    "start_time": "2021-10-27T18:38:13.970Z"
   },
   {
    "duration": 8,
    "start_time": "2021-10-27T18:38:13.995Z"
   },
   {
    "duration": 8,
    "start_time": "2021-10-27T18:38:14.006Z"
   },
   {
    "duration": 196,
    "start_time": "2021-10-27T18:38:14.017Z"
   },
   {
    "duration": 75,
    "start_time": "2021-10-27T18:38:14.218Z"
   },
   {
    "duration": 494,
    "start_time": "2021-10-27T18:38:14.296Z"
   },
   {
    "duration": 10,
    "start_time": "2021-10-27T18:38:29.771Z"
   },
   {
    "duration": 22,
    "start_time": "2021-10-27T18:38:54.708Z"
   },
   {
    "duration": 27,
    "start_time": "2021-10-27T18:39:05.182Z"
   },
   {
    "duration": 41,
    "start_time": "2021-10-27T18:39:14.125Z"
   },
   {
    "duration": 39,
    "start_time": "2021-10-27T18:39:22.520Z"
   },
   {
    "duration": 42,
    "start_time": "2021-10-27T18:39:27.091Z"
   },
   {
    "duration": 18,
    "start_time": "2021-10-27T18:39:35.425Z"
   },
   {
    "duration": 14,
    "start_time": "2021-10-27T18:39:41.617Z"
   },
   {
    "duration": 11,
    "start_time": "2021-10-27T18:39:46.615Z"
   },
   {
    "duration": 12,
    "start_time": "2021-10-27T18:40:11.456Z"
   },
   {
    "duration": 16,
    "start_time": "2021-10-27T18:40:20.058Z"
   },
   {
    "duration": 13,
    "start_time": "2021-10-27T18:40:23.368Z"
   },
   {
    "duration": 24,
    "start_time": "2021-10-27T18:40:27.266Z"
   },
   {
    "duration": 6,
    "start_time": "2021-10-27T19:03:42.325Z"
   },
   {
    "duration": 7,
    "start_time": "2021-10-27T19:04:01.407Z"
   },
   {
    "duration": 1123,
    "start_time": "2021-10-28T18:25:35.373Z"
   },
   {
    "duration": 793,
    "start_time": "2021-10-28T18:25:36.498Z"
   },
   {
    "duration": 12,
    "start_time": "2021-10-28T18:25:37.294Z"
   },
   {
    "duration": 274,
    "start_time": "2021-10-28T18:25:37.308Z"
   },
   {
    "duration": 7,
    "start_time": "2021-10-28T18:25:37.591Z"
   },
   {
    "duration": 8,
    "start_time": "2021-10-28T18:25:37.600Z"
   },
   {
    "duration": 9,
    "start_time": "2021-10-28T18:25:37.609Z"
   },
   {
    "duration": 112,
    "start_time": "2021-10-28T18:25:37.620Z"
   },
   {
    "duration": 35,
    "start_time": "2021-10-28T18:25:37.733Z"
   },
   {
    "duration": 30,
    "start_time": "2021-10-28T18:25:37.770Z"
   },
   {
    "duration": 836,
    "start_time": "2021-10-28T18:30:46.095Z"
   },
   {
    "duration": 6328,
    "start_time": "2021-10-28T18:30:52.338Z"
   },
   {
    "duration": 5,
    "start_time": "2021-10-28T18:33:17.291Z"
   },
   {
    "duration": 4,
    "start_time": "2021-10-28T18:36:21.056Z"
   },
   {
    "duration": 52,
    "start_time": "2021-10-28T18:36:26.312Z"
   },
   {
    "duration": 4,
    "start_time": "2021-10-28T18:36:29.947Z"
   },
   {
    "duration": 5,
    "start_time": "2021-10-28T18:36:36.831Z"
   },
   {
    "duration": 4,
    "start_time": "2021-10-28T18:36:40.935Z"
   },
   {
    "duration": 4,
    "start_time": "2021-10-28T18:36:44.138Z"
   },
   {
    "duration": 4,
    "start_time": "2021-10-28T18:37:08.719Z"
   },
   {
    "duration": 4,
    "start_time": "2021-10-28T18:37:12.918Z"
   },
   {
    "duration": 4,
    "start_time": "2021-10-28T18:37:46.928Z"
   },
   {
    "duration": 169,
    "start_time": "2021-10-28T18:37:54.652Z"
   },
   {
    "duration": 184,
    "start_time": "2021-10-28T18:38:00.231Z"
   },
   {
    "duration": 5,
    "start_time": "2021-10-28T18:38:05.937Z"
   },
   {
    "duration": 5,
    "start_time": "2021-10-28T18:39:55.745Z"
   },
   {
    "duration": 4,
    "start_time": "2021-10-28T18:40:28.548Z"
   },
   {
    "duration": 174,
    "start_time": "2021-10-28T18:40:35.319Z"
   },
   {
    "duration": 5,
    "start_time": "2021-10-28T18:40:38.850Z"
   },
   {
    "duration": 5,
    "start_time": "2021-10-28T18:40:43.300Z"
   },
   {
    "duration": 3,
    "start_time": "2021-10-28T18:46:03.545Z"
   },
   {
    "duration": 3,
    "start_time": "2021-10-28T18:46:27.094Z"
   },
   {
    "duration": 3,
    "start_time": "2021-10-28T18:46:31.412Z"
   },
   {
    "duration": 3,
    "start_time": "2021-10-28T18:46:37.004Z"
   },
   {
    "duration": 849,
    "start_time": "2021-10-28T18:52:29.596Z"
   },
   {
    "duration": 4321,
    "start_time": "2021-10-28T18:56:26.491Z"
   },
   {
    "duration": 4628,
    "start_time": "2021-10-28T18:56:43.793Z"
   },
   {
    "duration": 3443,
    "start_time": "2021-10-28T18:57:00.138Z"
   },
   {
    "duration": 434,
    "start_time": "2021-10-28T18:57:48.070Z"
   },
   {
    "duration": 781,
    "start_time": "2021-10-28T18:57:57.475Z"
   },
   {
    "duration": 951,
    "start_time": "2021-10-28T18:58:16.240Z"
   },
   {
    "duration": 993,
    "start_time": "2021-10-28T18:59:00.821Z"
   },
   {
    "duration": 904,
    "start_time": "2021-10-28T18:59:17.407Z"
   },
   {
    "duration": 914,
    "start_time": "2021-10-28T18:59:24.645Z"
   },
   {
    "duration": 347,
    "start_time": "2021-10-28T19:00:42.619Z"
   },
   {
    "duration": 997,
    "start_time": "2021-10-28T19:00:52.686Z"
   },
   {
    "duration": 180,
    "start_time": "2021-10-28T19:01:01.277Z"
   },
   {
    "duration": 5,
    "start_time": "2021-10-28T19:01:09.932Z"
   },
   {
    "duration": 4,
    "start_time": "2021-10-28T19:01:16.782Z"
   },
   {
    "duration": 4,
    "start_time": "2021-10-28T19:01:27.776Z"
   },
   {
    "duration": 3,
    "start_time": "2021-10-28T19:02:00.804Z"
   },
   {
    "duration": 4,
    "start_time": "2021-10-28T19:02:06.707Z"
   },
   {
    "duration": 901,
    "start_time": "2021-10-28T19:02:12.793Z"
   },
   {
    "duration": 61,
    "start_time": "2021-10-28T19:16:12.789Z"
   },
   {
    "duration": 925,
    "start_time": "2021-10-28T19:16:26.394Z"
   },
   {
    "duration": 950,
    "start_time": "2021-10-28T19:16:47.138Z"
   },
   {
    "duration": 1017,
    "start_time": "2021-10-28T19:16:54.621Z"
   },
   {
    "duration": 933,
    "start_time": "2021-10-28T19:17:11.915Z"
   },
   {
    "duration": 922,
    "start_time": "2021-10-28T19:17:17.944Z"
   },
   {
    "duration": 959,
    "start_time": "2021-10-28T19:17:25.016Z"
   },
   {
    "duration": 446,
    "start_time": "2021-10-28T19:18:20.594Z"
   },
   {
    "duration": 903,
    "start_time": "2021-10-28T19:18:40.159Z"
   },
   {
    "duration": 340,
    "start_time": "2021-10-28T19:19:11.617Z"
   },
   {
    "duration": 354,
    "start_time": "2021-10-28T19:19:28.273Z"
   },
   {
    "duration": 356,
    "start_time": "2021-10-28T19:19:56.563Z"
   },
   {
    "duration": 1026,
    "start_time": "2021-10-28T19:20:01.333Z"
   },
   {
    "duration": 1068,
    "start_time": "2021-10-28T19:20:20.951Z"
   },
   {
    "duration": 907,
    "start_time": "2021-10-28T19:20:28.605Z"
   },
   {
    "duration": 8,
    "start_time": "2021-10-28T19:20:52.508Z"
   },
   {
    "duration": 8,
    "start_time": "2021-10-28T19:21:12.562Z"
   },
   {
    "duration": 7,
    "start_time": "2021-10-28T19:21:49.039Z"
   },
   {
    "duration": 909,
    "start_time": "2021-10-28T19:22:37.949Z"
   },
   {
    "duration": 940,
    "start_time": "2021-10-28T19:22:47.341Z"
   },
   {
    "duration": 1012,
    "start_time": "2021-10-28T19:22:53.601Z"
   },
   {
    "duration": 922,
    "start_time": "2021-10-28T19:25:17.319Z"
   },
   {
    "duration": 918,
    "start_time": "2021-10-28T19:27:51.139Z"
   },
   {
    "duration": 1021,
    "start_time": "2021-10-28T19:28:18.072Z"
   },
   {
    "duration": 1861,
    "start_time": "2021-10-30T08:15:36.924Z"
   },
   {
    "duration": 1141,
    "start_time": "2021-10-30T08:15:38.788Z"
   },
   {
    "duration": 49,
    "start_time": "2021-10-30T08:15:39.933Z"
   },
   {
    "duration": 382,
    "start_time": "2021-10-30T08:15:39.984Z"
   },
   {
    "duration": 18,
    "start_time": "2021-10-30T08:15:40.368Z"
   },
   {
    "duration": 11,
    "start_time": "2021-10-30T08:15:40.389Z"
   },
   {
    "duration": 10,
    "start_time": "2021-10-30T08:15:40.403Z"
   },
   {
    "duration": 196,
    "start_time": "2021-10-30T08:15:40.416Z"
   },
   {
    "duration": 70,
    "start_time": "2021-10-30T08:15:40.615Z"
   },
   {
    "duration": 19,
    "start_time": "2021-10-30T08:15:40.688Z"
   },
   {
    "duration": 7,
    "start_time": "2021-10-30T08:15:40.709Z"
   },
   {
    "duration": 1577,
    "start_time": "2021-10-30T08:15:40.718Z"
   },
   {
    "duration": 7,
    "start_time": "2021-10-30T08:15:51.784Z"
   },
   {
    "duration": 6,
    "start_time": "2021-10-30T08:16:35.196Z"
   },
   {
    "duration": 6,
    "start_time": "2021-10-30T08:17:08.292Z"
   },
   {
    "duration": 894,
    "start_time": "2021-10-30T08:20:34.765Z"
   },
   {
    "duration": 7111,
    "start_time": "2021-10-30T08:20:47.302Z"
   },
   {
    "duration": 548,
    "start_time": "2021-10-30T08:21:07.438Z"
   },
   {
    "duration": 288,
    "start_time": "2021-10-30T08:21:21.749Z"
   },
   {
    "duration": 7719,
    "start_time": "2021-10-30T08:21:52.891Z"
   },
   {
    "duration": 7439,
    "start_time": "2021-10-30T08:22:24.780Z"
   },
   {
    "duration": 8013,
    "start_time": "2021-10-30T08:22:49.072Z"
   },
   {
    "duration": 7383,
    "start_time": "2021-10-30T08:23:05.812Z"
   },
   {
    "duration": 989,
    "start_time": "2021-10-30T08:25:03.954Z"
   },
   {
    "duration": 1018,
    "start_time": "2021-10-30T08:25:14.041Z"
   },
   {
    "duration": 1714,
    "start_time": "2021-10-30T08:26:53.708Z"
   },
   {
    "duration": 2040,
    "start_time": "2021-10-30T08:27:11.790Z"
   },
   {
    "duration": 2115,
    "start_time": "2021-10-30T08:28:45.925Z"
   },
   {
    "duration": 2426,
    "start_time": "2021-10-30T08:28:54.526Z"
   },
   {
    "duration": 7509,
    "start_time": "2021-10-30T08:29:04.287Z"
   },
   {
    "duration": 6,
    "start_time": "2021-10-30T10:17:19.270Z"
   },
   {
    "duration": 8,
    "start_time": "2021-10-30T10:25:01.194Z"
   },
   {
    "duration": 11,
    "start_time": "2021-10-30T10:25:34.481Z"
   },
   {
    "duration": 6,
    "start_time": "2021-10-30T10:26:02.162Z"
   },
   {
    "duration": 996,
    "start_time": "2021-10-30T10:27:40.944Z"
   },
   {
    "duration": 8018,
    "start_time": "2021-10-30T10:28:10.075Z"
   },
   {
    "duration": 1632,
    "start_time": "2021-10-30T10:28:38.014Z"
   },
   {
    "duration": 7609,
    "start_time": "2021-10-30T10:29:08.962Z"
   },
   {
    "duration": 2316,
    "start_time": "2021-10-30T10:30:55.535Z"
   },
   {
    "duration": 2316,
    "start_time": "2021-10-30T10:33:25.327Z"
   },
   {
    "duration": 2456,
    "start_time": "2021-10-30T10:36:55.776Z"
   },
   {
    "duration": 43,
    "start_time": "2021-10-30T10:37:12.665Z"
   },
   {
    "duration": 7,
    "start_time": "2021-10-30T10:37:16.500Z"
   },
   {
    "duration": 2399,
    "start_time": "2021-10-30T10:39:23.337Z"
   },
   {
    "duration": 8,
    "start_time": "2021-10-30T10:56:35.538Z"
   },
   {
    "duration": 8,
    "start_time": "2021-10-30T10:56:38.411Z"
   },
   {
    "duration": 7,
    "start_time": "2021-10-30T12:06:07.215Z"
   },
   {
    "duration": 6,
    "start_time": "2021-10-30T12:06:12.949Z"
   },
   {
    "duration": 8,
    "start_time": "2021-10-30T12:06:40.596Z"
   },
   {
    "duration": 5,
    "start_time": "2021-10-30T12:08:39.113Z"
   },
   {
    "duration": 5,
    "start_time": "2021-10-30T12:09:55.873Z"
   },
   {
    "duration": 6,
    "start_time": "2021-10-30T12:11:53.292Z"
   },
   {
    "duration": 6,
    "start_time": "2021-10-30T12:17:47.569Z"
   },
   {
    "duration": 17,
    "start_time": "2021-10-30T12:19:09.613Z"
   },
   {
    "duration": 317,
    "start_time": "2021-10-30T12:25:56.361Z"
   },
   {
    "duration": 5,
    "start_time": "2021-10-30T12:26:27.166Z"
   },
   {
    "duration": 279,
    "start_time": "2021-10-30T12:26:35.315Z"
   },
   {
    "duration": 8,
    "start_time": "2021-10-30T12:26:41.664Z"
   },
   {
    "duration": 337,
    "start_time": "2021-10-30T12:27:10.220Z"
   },
   {
    "duration": 6,
    "start_time": "2021-10-30T12:27:18.982Z"
   },
   {
    "duration": 8,
    "start_time": "2021-10-30T12:27:23.378Z"
   },
   {
    "duration": 7,
    "start_time": "2021-10-30T12:30:06.230Z"
   },
   {
    "duration": 6,
    "start_time": "2021-10-30T12:30:16.174Z"
   },
   {
    "duration": 22,
    "start_time": "2021-10-30T12:30:19.448Z"
   },
   {
    "duration": 7,
    "start_time": "2021-10-30T12:31:10.034Z"
   },
   {
    "duration": 6,
    "start_time": "2021-10-30T12:31:23.745Z"
   },
   {
    "duration": 5,
    "start_time": "2021-10-30T12:31:31.662Z"
   },
   {
    "duration": 5,
    "start_time": "2021-10-30T12:31:40.775Z"
   },
   {
    "duration": 26,
    "start_time": "2021-10-30T12:31:47.303Z"
   },
   {
    "duration": 21,
    "start_time": "2021-10-30T12:32:19.137Z"
   },
   {
    "duration": 8,
    "start_time": "2021-10-30T12:32:24.917Z"
   },
   {
    "duration": 6,
    "start_time": "2021-10-30T12:33:03.010Z"
   },
   {
    "duration": 40,
    "start_time": "2021-10-30T12:33:18.736Z"
   },
   {
    "duration": 5,
    "start_time": "2021-10-30T12:33:23.018Z"
   },
   {
    "duration": 48,
    "start_time": "2021-10-30T12:33:27.653Z"
   },
   {
    "duration": 43,
    "start_time": "2021-10-30T12:33:32.915Z"
   },
   {
    "duration": 291,
    "start_time": "2021-10-30T12:34:14.640Z"
   },
   {
    "duration": 49,
    "start_time": "2021-10-30T12:34:32.397Z"
   },
   {
    "duration": 1118,
    "start_time": "2021-10-30T12:34:51.425Z"
   },
   {
    "duration": 8,
    "start_time": "2021-10-30T12:34:56.107Z"
   },
   {
    "duration": 8,
    "start_time": "2021-10-30T12:35:00.007Z"
   },
   {
    "duration": 278,
    "start_time": "2021-10-30T12:35:05.101Z"
   },
   {
    "duration": 304,
    "start_time": "2021-10-30T12:35:12.229Z"
   },
   {
    "duration": 284,
    "start_time": "2021-10-30T12:35:25.228Z"
   },
   {
    "duration": 10,
    "start_time": "2021-10-30T12:35:33.781Z"
   },
   {
    "duration": 10,
    "start_time": "2021-10-30T12:35:38.524Z"
   },
   {
    "duration": 9,
    "start_time": "2021-10-30T12:35:47.114Z"
   },
   {
    "duration": 5,
    "start_time": "2021-10-30T12:39:09.956Z"
   },
   {
    "duration": 30,
    "start_time": "2021-10-30T12:39:15.316Z"
   },
   {
    "duration": 1965,
    "start_time": "2021-10-30T12:39:31.713Z"
   },
   {
    "duration": 1977,
    "start_time": "2021-10-30T12:39:42.810Z"
   },
   {
    "duration": 7,
    "start_time": "2021-10-30T12:40:01.612Z"
   },
   {
    "duration": 478,
    "start_time": "2021-10-30T12:40:06.540Z"
   },
   {
    "duration": 301,
    "start_time": "2021-10-30T12:40:13.356Z"
   },
   {
    "duration": 8,
    "start_time": "2021-10-30T12:40:17.805Z"
   },
   {
    "duration": 7,
    "start_time": "2021-10-30T12:40:29.404Z"
   },
   {
    "duration": 326,
    "start_time": "2021-10-30T12:40:58.709Z"
   },
   {
    "duration": 340,
    "start_time": "2021-10-30T12:41:09.424Z"
   },
   {
    "duration": 87,
    "start_time": "2021-10-30T12:41:37.929Z"
   },
   {
    "duration": 8,
    "start_time": "2021-10-30T12:41:40.728Z"
   },
   {
    "duration": 9,
    "start_time": "2021-10-30T12:41:47.728Z"
   },
   {
    "duration": 275,
    "start_time": "2021-10-30T12:41:55.728Z"
   },
   {
    "duration": 8,
    "start_time": "2021-10-30T12:42:06.433Z"
   },
   {
    "duration": 6,
    "start_time": "2021-10-30T12:42:24.416Z"
   },
   {
    "duration": 8,
    "start_time": "2021-10-30T12:42:32.247Z"
   },
   {
    "duration": 8,
    "start_time": "2021-10-30T12:42:40.209Z"
   },
   {
    "duration": 7,
    "start_time": "2021-10-30T12:42:52.634Z"
   },
   {
    "duration": 6,
    "start_time": "2021-10-30T12:43:07.926Z"
   },
   {
    "duration": 7,
    "start_time": "2021-10-30T12:43:13.348Z"
   },
   {
    "duration": 11,
    "start_time": "2021-10-30T12:43:26.176Z"
   },
   {
    "duration": 13,
    "start_time": "2021-10-30T12:43:31.283Z"
   },
   {
    "duration": 29,
    "start_time": "2021-10-30T12:43:48.325Z"
   },
   {
    "duration": 1985,
    "start_time": "2021-10-30T12:45:26.046Z"
   },
   {
    "duration": 274,
    "start_time": "2021-10-30T12:46:04.213Z"
   },
   {
    "duration": 7,
    "start_time": "2021-10-30T12:46:08.562Z"
   },
   {
    "duration": 8,
    "start_time": "2021-10-30T12:48:26.329Z"
   },
   {
    "duration": 9,
    "start_time": "2021-10-30T12:48:29.706Z"
   },
   {
    "duration": 393,
    "start_time": "2021-10-30T12:48:33.818Z"
   },
   {
    "duration": 8,
    "start_time": "2021-10-30T12:48:38.336Z"
   },
   {
    "duration": 9,
    "start_time": "2021-10-30T12:48:42.031Z"
   },
   {
    "duration": 328,
    "start_time": "2021-10-30T12:50:03.417Z"
   },
   {
    "duration": 8,
    "start_time": "2021-10-30T12:50:20.785Z"
   },
   {
    "duration": 7,
    "start_time": "2021-10-30T12:50:29.529Z"
   },
   {
    "duration": 6,
    "start_time": "2021-10-30T12:50:36.738Z"
   },
   {
    "duration": 7,
    "start_time": "2021-10-30T12:51:05.626Z"
   },
   {
    "duration": 7,
    "start_time": "2021-10-30T12:51:09.781Z"
   },
   {
    "duration": 341,
    "start_time": "2021-10-30T12:51:33.833Z"
   },
   {
    "duration": 299,
    "start_time": "2021-10-30T12:52:14.949Z"
   },
   {
    "duration": 8,
    "start_time": "2021-10-30T12:53:13.815Z"
   },
   {
    "duration": 7,
    "start_time": "2021-10-30T12:53:18.047Z"
   },
   {
    "duration": 4638,
    "start_time": "2021-10-30T12:54:06.378Z"
   },
   {
    "duration": 295,
    "start_time": "2021-10-30T12:54:21.899Z"
   },
   {
    "duration": 5380,
    "start_time": "2021-10-30T12:54:23.889Z"
   },
   {
    "duration": 6,
    "start_time": "2021-10-30T12:54:32.143Z"
   },
   {
    "duration": 4443,
    "start_time": "2021-10-30T12:54:39.911Z"
   },
   {
    "duration": 5613,
    "start_time": "2021-10-30T12:54:47.574Z"
   },
   {
    "duration": 6,
    "start_time": "2021-10-30T12:54:57.162Z"
   },
   {
    "duration": 286,
    "start_time": "2021-10-30T12:55:05.833Z"
   },
   {
    "duration": 6,
    "start_time": "2021-10-30T12:55:08.536Z"
   },
   {
    "duration": 13,
    "start_time": "2021-10-30T12:55:22.993Z"
   },
   {
    "duration": 10,
    "start_time": "2021-10-30T12:55:28.655Z"
   },
   {
    "duration": 295,
    "start_time": "2021-10-30T12:55:33.895Z"
   },
   {
    "duration": 8,
    "start_time": "2021-10-30T12:56:04.980Z"
   },
   {
    "duration": 8,
    "start_time": "2021-10-30T12:56:15.924Z"
   },
   {
    "duration": 10,
    "start_time": "2021-10-30T12:56:25.650Z"
   },
   {
    "duration": 307,
    "start_time": "2021-10-30T12:56:39.945Z"
   },
   {
    "duration": 9,
    "start_time": "2021-10-30T12:56:54.025Z"
   },
   {
    "duration": 8,
    "start_time": "2021-10-30T12:56:59.449Z"
   },
   {
    "duration": 7,
    "start_time": "2021-10-30T12:57:01.902Z"
   },
   {
    "duration": 5,
    "start_time": "2021-10-30T12:57:39.546Z"
   },
   {
    "duration": 12,
    "start_time": "2021-10-30T12:58:03.008Z"
   },
   {
    "duration": 8,
    "start_time": "2021-10-30T12:58:06.814Z"
   },
   {
    "duration": 12,
    "start_time": "2021-10-30T12:58:12.797Z"
   },
   {
    "duration": 8,
    "start_time": "2021-10-30T12:58:13.830Z"
   },
   {
    "duration": 11,
    "start_time": "2021-10-30T12:58:54.243Z"
   },
   {
    "duration": 8,
    "start_time": "2021-10-30T12:58:54.486Z"
   },
   {
    "duration": 32,
    "start_time": "2021-10-30T12:59:01.853Z"
   },
   {
    "duration": 40,
    "start_time": "2021-10-30T12:59:10.984Z"
   },
   {
    "duration": 11,
    "start_time": "2021-10-30T13:00:28.866Z"
   },
   {
    "duration": 6,
    "start_time": "2021-10-30T13:01:29.950Z"
   },
   {
    "duration": 7,
    "start_time": "2021-10-30T13:02:20.677Z"
   },
   {
    "duration": 41,
    "start_time": "2021-10-30T13:02:47.029Z"
   },
   {
    "duration": 7307,
    "start_time": "2021-10-30T13:04:01.443Z"
   },
   {
    "duration": 11,
    "start_time": "2021-10-30T13:04:10.381Z"
   },
   {
    "duration": 7412,
    "start_time": "2021-10-30T13:04:12.548Z"
   },
   {
    "duration": 9,
    "start_time": "2021-10-30T13:04:48.002Z"
   },
   {
    "duration": 8,
    "start_time": "2021-10-30T13:04:58.185Z"
   },
   {
    "duration": 6,
    "start_time": "2021-10-30T13:30:27.029Z"
   },
   {
    "duration": 6,
    "start_time": "2021-10-30T13:32:31.562Z"
   },
   {
    "duration": 22,
    "start_time": "2021-10-30T13:32:42.707Z"
   },
   {
    "duration": 15,
    "start_time": "2021-10-30T13:32:57.697Z"
   },
   {
    "duration": 6,
    "start_time": "2021-10-30T13:33:11.147Z"
   },
   {
    "duration": 6,
    "start_time": "2021-10-30T13:33:22.125Z"
   },
   {
    "duration": 7,
    "start_time": "2021-10-30T13:33:58.598Z"
   },
   {
    "duration": 8,
    "start_time": "2021-10-30T13:35:10.825Z"
   },
   {
    "duration": 37,
    "start_time": "2021-10-30T13:35:16.107Z"
   },
   {
    "duration": 10,
    "start_time": "2021-10-30T13:35:23.530Z"
   },
   {
    "duration": 2293,
    "start_time": "2021-10-30T13:37:02.098Z"
   },
   {
    "duration": 578,
    "start_time": "2021-10-30T13:40:29.115Z"
   },
   {
    "duration": 331,
    "start_time": "2021-10-30T13:40:40.557Z"
   },
   {
    "duration": 326,
    "start_time": "2021-10-30T13:40:48.966Z"
   },
   {
    "duration": 279,
    "start_time": "2021-10-30T13:42:01.759Z"
   },
   {
    "duration": 285,
    "start_time": "2021-10-30T13:45:07.678Z"
   },
   {
    "duration": 4297,
    "start_time": "2021-10-30T13:45:17.361Z"
   },
   {
    "duration": 323,
    "start_time": "2021-10-30T13:48:03.431Z"
   },
   {
    "duration": 307,
    "start_time": "2021-10-30T13:48:19.994Z"
   },
   {
    "duration": 4227,
    "start_time": "2021-10-30T13:48:34.855Z"
   },
   {
    "duration": 560,
    "start_time": "2021-10-30T13:49:20.205Z"
   },
   {
    "duration": 8,
    "start_time": "2021-10-30T13:49:26.237Z"
   },
   {
    "duration": 295,
    "start_time": "2021-10-30T13:49:32.509Z"
   },
   {
    "duration": 4906,
    "start_time": "2021-10-30T13:49:59.780Z"
   },
   {
    "duration": 4654,
    "start_time": "2021-10-30T13:50:22.592Z"
   },
   {
    "duration": 499,
    "start_time": "2021-10-30T13:50:47.223Z"
   },
   {
    "duration": 4358,
    "start_time": "2021-10-30T13:51:02.612Z"
   },
   {
    "duration": 317,
    "start_time": "2021-10-30T13:51:17.305Z"
   },
   {
    "duration": 4405,
    "start_time": "2021-10-30T13:51:29.842Z"
   },
   {
    "duration": 7,
    "start_time": "2021-10-30T13:51:38.956Z"
   },
   {
    "duration": 311,
    "start_time": "2021-10-30T13:52:11.251Z"
   },
   {
    "duration": 431,
    "start_time": "2021-10-30T13:52:20.805Z"
   },
   {
    "duration": 5,
    "start_time": "2021-10-30T13:52:23.883Z"
   },
   {
    "duration": 6,
    "start_time": "2021-10-30T13:52:35.263Z"
   },
   {
    "duration": 6,
    "start_time": "2021-10-30T13:52:41.566Z"
   },
   {
    "duration": 6,
    "start_time": "2021-10-30T13:52:52.537Z"
   },
   {
    "duration": 6,
    "start_time": "2021-10-30T13:52:59.380Z"
   },
   {
    "duration": 4197,
    "start_time": "2021-10-30T13:53:07.654Z"
   },
   {
    "duration": 4592,
    "start_time": "2021-10-30T13:53:29.485Z"
   },
   {
    "duration": 4391,
    "start_time": "2021-10-30T13:53:42.877Z"
   },
   {
    "duration": 28626,
    "start_time": "2021-10-30T13:54:32.858Z"
   },
   {
    "duration": 4418,
    "start_time": "2021-10-30T13:55:09.017Z"
   },
   {
    "duration": 4462,
    "start_time": "2021-10-30T13:55:34.439Z"
   },
   {
    "duration": 4589,
    "start_time": "2021-10-30T13:56:07.159Z"
   },
   {
    "duration": 5,
    "start_time": "2021-10-30T13:58:48.465Z"
   },
   {
    "duration": 4266,
    "start_time": "2021-10-30T13:58:52.024Z"
   },
   {
    "duration": 1797,
    "start_time": "2021-10-30T13:59:14.918Z"
   },
   {
    "duration": 322,
    "start_time": "2021-10-30T13:59:46.253Z"
   },
   {
    "duration": 1996,
    "start_time": "2021-10-30T13:59:58.130Z"
   },
   {
    "duration": 2129,
    "start_time": "2021-10-30T14:00:20.941Z"
   },
   {
    "duration": 1833,
    "start_time": "2021-10-30T14:00:32.198Z"
   },
   {
    "duration": 1954,
    "start_time": "2021-10-30T14:00:59.775Z"
   },
   {
    "duration": 5,
    "start_time": "2021-10-30T14:01:03.572Z"
   },
   {
    "duration": 1916,
    "start_time": "2021-10-30T14:03:14.452Z"
   },
   {
    "duration": 1775,
    "start_time": "2021-10-30T14:03:26.941Z"
   },
   {
    "duration": 1820,
    "start_time": "2021-10-30T14:03:39.310Z"
   },
   {
    "duration": 2224,
    "start_time": "2021-10-30T14:03:46.059Z"
   },
   {
    "duration": 1810,
    "start_time": "2021-10-30T14:04:03.208Z"
   },
   {
    "duration": 6,
    "start_time": "2021-10-30T14:04:30.960Z"
   },
   {
    "duration": 6,
    "start_time": "2021-10-30T14:04:35.268Z"
   },
   {
    "duration": 302,
    "start_time": "2021-10-30T14:04:39.084Z"
   },
   {
    "duration": 320,
    "start_time": "2021-10-30T14:04:48.920Z"
   },
   {
    "duration": 274,
    "start_time": "2021-10-30T14:05:03.531Z"
   },
   {
    "duration": 6,
    "start_time": "2021-10-30T14:05:09.735Z"
   },
   {
    "duration": 4,
    "start_time": "2021-10-30T14:07:39.929Z"
   },
   {
    "duration": 6,
    "start_time": "2021-10-30T14:07:43.057Z"
   },
   {
    "duration": 285,
    "start_time": "2021-10-30T14:07:45.921Z"
   },
   {
    "duration": 353,
    "start_time": "2021-10-30T14:07:53.521Z"
   },
   {
    "duration": 1827,
    "start_time": "2021-10-30T14:08:33.469Z"
   },
   {
    "duration": 277,
    "start_time": "2021-10-30T14:13:46.026Z"
   },
   {
    "duration": 4480,
    "start_time": "2021-10-30T14:13:53.598Z"
   },
   {
    "duration": 1176,
    "start_time": "2021-10-30T14:13:56.905Z"
   },
   {
    "duration": 1173,
    "start_time": "2021-10-30T14:13:56.909Z"
   },
   {
    "duration": 270,
    "start_time": "2021-10-30T14:15:11.667Z"
   },
   {
    "duration": 4511,
    "start_time": "2021-10-30T14:15:49.232Z"
   },
   {
    "duration": 2597,
    "start_time": "2021-10-30T14:15:53.745Z"
   },
   {
    "duration": 144,
    "start_time": "2021-10-30T14:15:56.345Z"
   },
   {
    "duration": 1868,
    "start_time": "2021-10-30T14:18:53.245Z"
   },
   {
    "duration": 1303,
    "start_time": "2021-10-30T14:19:08.238Z"
   },
   {
    "duration": 10968,
    "start_time": "2021-10-30T14:19:43.166Z"
   },
   {
    "duration": 297,
    "start_time": "2021-10-30T14:20:34.142Z"
   },
   {
    "duration": 1567,
    "start_time": "2021-10-30T14:20:43.633Z"
   },
   {
    "duration": 3722,
    "start_time": "2021-10-30T14:20:45.202Z"
   },
   {
    "duration": 981,
    "start_time": "2021-10-30T14:20:48.928Z"
   },
   {
    "duration": 16,
    "start_time": "2021-10-30T14:20:49.911Z"
   },
   {
    "duration": 413,
    "start_time": "2021-10-30T14:20:49.929Z"
   },
   {
    "duration": 26,
    "start_time": "2021-10-30T14:20:50.345Z"
   },
   {
    "duration": 12,
    "start_time": "2021-10-30T14:20:50.373Z"
   },
   {
    "duration": 11,
    "start_time": "2021-10-30T14:20:50.388Z"
   },
   {
    "duration": 244,
    "start_time": "2021-10-30T14:20:50.405Z"
   },
   {
    "duration": 87,
    "start_time": "2021-10-30T14:20:50.652Z"
   },
   {
    "duration": 47,
    "start_time": "2021-10-30T14:20:50.742Z"
   },
   {
    "duration": 8339,
    "start_time": "2021-10-30T14:20:50.793Z"
   },
   {
    "duration": 2205,
    "start_time": "2021-10-30T14:20:59.135Z"
   },
   {
    "duration": 2628,
    "start_time": "2021-10-30T14:21:01.342Z"
   },
   {
    "duration": 13,
    "start_time": "2021-10-30T14:21:03.973Z"
   },
   {
    "duration": 26,
    "start_time": "2021-10-30T14:21:03.988Z"
   },
   {
    "duration": 13,
    "start_time": "2021-10-30T14:21:04.016Z"
   },
   {
    "duration": 35572,
    "start_time": "2021-10-30T14:21:04.031Z"
   },
   {
    "duration": 454,
    "start_time": "2021-10-30T14:21:39.605Z"
   },
   {
    "duration": 1184,
    "start_time": "2021-10-30T14:21:38.878Z"
   },
   {
    "duration": 15116,
    "start_time": "2021-10-30T14:21:47.746Z"
   },
   {
    "duration": 35793,
    "start_time": "2021-10-30T14:22:37.154Z"
   },
   {
    "duration": 36164,
    "start_time": "2021-10-30T14:23:22.044Z"
   },
   {
    "duration": 14808,
    "start_time": "2021-10-30T14:23:58.211Z"
   },
   {
    "duration": 114,
    "start_time": "2021-10-30T14:24:15.386Z"
   },
   {
    "duration": 163,
    "start_time": "2021-10-30T14:27:10.420Z"
   },
   {
    "duration": 4,
    "start_time": "2021-10-30T14:27:29.458Z"
   },
   {
    "duration": 419,
    "start_time": "2021-10-30T14:27:29.807Z"
   },
   {
    "duration": 4,
    "start_time": "2021-10-30T14:27:43.992Z"
   },
   {
    "duration": 406,
    "start_time": "2021-10-30T14:27:44.305Z"
   },
   {
    "duration": 4,
    "start_time": "2021-10-30T14:28:02.448Z"
   },
   {
    "duration": 151,
    "start_time": "2021-10-30T14:28:02.832Z"
   },
   {
    "duration": 4,
    "start_time": "2021-10-30T14:28:50.050Z"
   },
   {
    "duration": 24750,
    "start_time": "2021-10-30T14:28:50.250Z"
   },
   {
    "duration": 36261,
    "start_time": "2021-10-30T14:29:39.572Z"
   },
   {
    "duration": 13967,
    "start_time": "2021-10-30T14:30:15.836Z"
   },
   {
    "duration": 180,
    "start_time": "2021-10-30T14:30:29.807Z"
   },
   {
    "duration": 6,
    "start_time": "2021-10-30T14:32:16.386Z"
   },
   {
    "duration": 6,
    "start_time": "2021-10-30T14:34:51.336Z"
   },
   {
    "duration": 6,
    "start_time": "2021-10-30T14:34:59.588Z"
   },
   {
    "duration": 6,
    "start_time": "2021-10-30T14:35:14.328Z"
   },
   {
    "duration": 1461,
    "start_time": "2021-10-30T14:36:50.872Z"
   },
   {
    "duration": 3663,
    "start_time": "2021-10-30T14:36:52.336Z"
   },
   {
    "duration": 995,
    "start_time": "2021-10-30T14:36:56.006Z"
   },
   {
    "duration": 17,
    "start_time": "2021-10-30T14:36:57.003Z"
   },
   {
    "duration": 413,
    "start_time": "2021-10-30T14:36:57.022Z"
   },
   {
    "duration": 15,
    "start_time": "2021-10-30T14:36:57.438Z"
   },
   {
    "duration": 28,
    "start_time": "2021-10-30T14:36:57.456Z"
   },
   {
    "duration": 15,
    "start_time": "2021-10-30T14:36:57.488Z"
   },
   {
    "duration": 191,
    "start_time": "2021-10-30T14:36:57.506Z"
   },
   {
    "duration": 49,
    "start_time": "2021-10-30T14:36:57.699Z"
   },
   {
    "duration": 48,
    "start_time": "2021-10-30T14:36:57.750Z"
   },
   {
    "duration": 7548,
    "start_time": "2021-10-30T14:36:57.801Z"
   },
   {
    "duration": 2110,
    "start_time": "2021-10-30T14:37:05.352Z"
   },
   {
    "duration": 2471,
    "start_time": "2021-10-30T14:37:07.465Z"
   },
   {
    "duration": 6,
    "start_time": "2021-10-30T14:37:09.938Z"
   },
   {
    "duration": 8,
    "start_time": "2021-10-30T14:37:09.947Z"
   },
   {
    "duration": 440,
    "start_time": "2021-10-30T14:37:09.957Z"
   },
   {
    "duration": 1193,
    "start_time": "2021-10-30T14:37:09.206Z"
   },
   {
    "duration": 1193,
    "start_time": "2021-10-30T14:37:09.207Z"
   },
   {
    "duration": 1193,
    "start_time": "2021-10-30T14:37:09.209Z"
   },
   {
    "duration": 1194,
    "start_time": "2021-10-30T14:37:09.210Z"
   },
   {
    "duration": 1194,
    "start_time": "2021-10-30T14:37:09.211Z"
   },
   {
    "duration": 275,
    "start_time": "2021-10-30T14:38:25.569Z"
   },
   {
    "duration": 40,
    "start_time": "2021-10-30T14:38:41.935Z"
   },
   {
    "duration": 1674,
    "start_time": "2021-10-30T14:39:12.751Z"
   },
   {
    "duration": 4452,
    "start_time": "2021-10-30T14:39:14.428Z"
   },
   {
    "duration": 1075,
    "start_time": "2021-10-30T14:39:18.884Z"
   },
   {
    "duration": 19,
    "start_time": "2021-10-30T14:39:19.982Z"
   },
   {
    "duration": 444,
    "start_time": "2021-10-30T14:39:20.003Z"
   },
   {
    "duration": 16,
    "start_time": "2021-10-30T14:39:20.450Z"
   },
   {
    "duration": 20,
    "start_time": "2021-10-30T14:39:20.468Z"
   },
   {
    "duration": 15,
    "start_time": "2021-10-30T14:39:20.490Z"
   },
   {
    "duration": 234,
    "start_time": "2021-10-30T14:39:20.510Z"
   },
   {
    "duration": 72,
    "start_time": "2021-10-30T14:39:20.747Z"
   },
   {
    "duration": 22,
    "start_time": "2021-10-30T14:39:20.821Z"
   },
   {
    "duration": 7795,
    "start_time": "2021-10-30T14:39:20.846Z"
   },
   {
    "duration": 2095,
    "start_time": "2021-10-30T14:39:28.643Z"
   },
   {
    "duration": 2556,
    "start_time": "2021-10-30T14:39:30.741Z"
   },
   {
    "duration": 5,
    "start_time": "2021-10-30T14:39:33.299Z"
   },
   {
    "duration": 9,
    "start_time": "2021-10-30T14:39:33.306Z"
   },
   {
    "duration": 14,
    "start_time": "2021-10-30T14:39:33.318Z"
   },
   {
    "duration": 8,
    "start_time": "2021-10-30T14:39:33.334Z"
   },
   {
    "duration": 11,
    "start_time": "2021-10-30T14:39:33.344Z"
   },
   {
    "duration": 75727,
    "start_time": "2021-10-30T14:39:33.357Z"
   },
   {
    "duration": 39984,
    "start_time": "2021-10-30T14:40:49.086Z"
   },
   {
    "duration": 311,
    "start_time": "2021-10-30T14:41:29.073Z"
   },
   {
    "duration": 864,
    "start_time": "2021-10-30T14:41:42.628Z"
   },
   {
    "duration": 1671,
    "start_time": "2021-10-30T14:42:31.244Z"
   },
   {
    "duration": 3897,
    "start_time": "2021-10-30T14:42:32.918Z"
   },
   {
    "duration": 995,
    "start_time": "2021-10-30T14:42:36.818Z"
   },
   {
    "duration": 17,
    "start_time": "2021-10-30T14:42:37.815Z"
   },
   {
    "duration": 412,
    "start_time": "2021-10-30T14:42:37.835Z"
   },
   {
    "duration": 15,
    "start_time": "2021-10-30T14:42:38.249Z"
   },
   {
    "duration": 22,
    "start_time": "2021-10-30T14:42:38.266Z"
   },
   {
    "duration": 17,
    "start_time": "2021-10-30T14:42:38.291Z"
   },
   {
    "duration": 176,
    "start_time": "2021-10-30T14:42:38.312Z"
   },
   {
    "duration": 53,
    "start_time": "2021-10-30T14:42:38.490Z"
   },
   {
    "duration": 48,
    "start_time": "2021-10-30T14:42:38.545Z"
   },
   {
    "duration": 7540,
    "start_time": "2021-10-30T14:42:38.596Z"
   },
   {
    "duration": 2087,
    "start_time": "2021-10-30T14:42:46.139Z"
   },
   {
    "duration": 2391,
    "start_time": "2021-10-30T14:42:48.229Z"
   },
   {
    "duration": 6,
    "start_time": "2021-10-30T14:42:50.623Z"
   },
   {
    "duration": 16,
    "start_time": "2021-10-30T14:42:50.631Z"
   },
   {
    "duration": 7,
    "start_time": "2021-10-30T14:42:50.650Z"
   },
   {
    "duration": 30,
    "start_time": "2021-10-30T14:42:50.660Z"
   },
   {
    "duration": 8,
    "start_time": "2021-10-30T14:42:50.694Z"
   },
   {
    "duration": 34627,
    "start_time": "2021-10-30T14:42:50.705Z"
   },
   {
    "duration": 13806,
    "start_time": "2021-10-30T14:43:25.335Z"
   },
   {
    "duration": 246,
    "start_time": "2021-10-30T14:43:39.143Z"
   },
   {
    "duration": 36,
    "start_time": "2021-10-30T15:14:07.056Z"
   },
   {
    "duration": 1487,
    "start_time": "2021-10-30T16:14:26.555Z"
   },
   {
    "duration": 3903,
    "start_time": "2021-10-30T16:14:28.045Z"
   },
   {
    "duration": 1032,
    "start_time": "2021-10-30T16:14:31.951Z"
   },
   {
    "duration": 16,
    "start_time": "2021-10-30T16:14:32.986Z"
   },
   {
    "duration": 401,
    "start_time": "2021-10-30T16:14:33.005Z"
   },
   {
    "duration": 15,
    "start_time": "2021-10-30T16:14:33.409Z"
   },
   {
    "duration": 11,
    "start_time": "2021-10-30T16:14:33.426Z"
   },
   {
    "duration": 41,
    "start_time": "2021-10-30T16:14:33.440Z"
   },
   {
    "duration": 172,
    "start_time": "2021-10-30T16:14:33.485Z"
   },
   {
    "duration": 82,
    "start_time": "2021-10-30T16:14:33.660Z"
   },
   {
    "duration": 53,
    "start_time": "2021-10-30T16:14:33.745Z"
   },
   {
    "duration": 7838,
    "start_time": "2021-10-30T16:14:33.802Z"
   },
   {
    "duration": 2097,
    "start_time": "2021-10-30T16:14:41.642Z"
   },
   {
    "duration": 2489,
    "start_time": "2021-10-30T16:14:43.741Z"
   },
   {
    "duration": 7,
    "start_time": "2021-10-30T16:14:46.232Z"
   },
   {
    "duration": 16,
    "start_time": "2021-10-30T16:14:46.241Z"
   },
   {
    "duration": 23,
    "start_time": "2021-10-30T16:14:46.259Z"
   },
   {
    "duration": 14,
    "start_time": "2021-10-30T16:14:46.285Z"
   },
   {
    "duration": 7,
    "start_time": "2021-10-30T16:14:46.302Z"
   },
   {
    "duration": 38130,
    "start_time": "2021-10-30T16:14:46.311Z"
   },
   {
    "duration": 16317,
    "start_time": "2021-10-30T16:15:24.443Z"
   },
   {
    "duration": 127,
    "start_time": "2021-10-30T16:15:40.762Z"
   },
   {
    "duration": 1541,
    "start_time": "2021-10-31T05:38:57.416Z"
   },
   {
    "duration": 11510,
    "start_time": "2021-10-31T05:38:58.959Z"
   },
   {
    "duration": 1008,
    "start_time": "2021-10-31T05:39:10.472Z"
   },
   {
    "duration": 16,
    "start_time": "2021-10-31T05:39:44.838Z"
   },
   {
    "duration": 372,
    "start_time": "2021-10-31T05:39:46.195Z"
   },
   {
    "duration": 11,
    "start_time": "2021-10-31T05:40:03.297Z"
   },
   {
    "duration": 9,
    "start_time": "2021-10-31T05:40:25.942Z"
   },
   {
    "duration": 9,
    "start_time": "2021-10-31T05:40:26.599Z"
   },
   {
    "duration": 169,
    "start_time": "2021-10-31T05:41:00.111Z"
   },
   {
    "duration": 53,
    "start_time": "2021-10-31T05:41:00.821Z"
   },
   {
    "duration": 20,
    "start_time": "2021-10-31T05:41:02.321Z"
   },
   {
    "duration": 7465,
    "start_time": "2021-10-31T05:41:29.619Z"
   },
   {
    "duration": 2101,
    "start_time": "2021-10-31T05:41:57.985Z"
   },
   {
    "duration": 2472,
    "start_time": "2021-10-31T05:42:37.886Z"
   },
   {
    "duration": 6,
    "start_time": "2021-10-31T05:43:24.171Z"
   },
   {
    "duration": 15,
    "start_time": "2021-10-31T05:44:00.286Z"
   },
   {
    "duration": 8,
    "start_time": "2021-10-31T05:44:07.269Z"
   },
   {
    "duration": 6,
    "start_time": "2021-10-31T05:44:49.880Z"
   },
   {
    "duration": 3,
    "start_time": "2021-10-31T05:47:30.746Z"
   },
   {
    "duration": 4528,
    "start_time": "2021-10-31T05:47:31.838Z"
   },
   {
    "duration": 599,
    "start_time": "2021-10-31T07:08:37.993Z"
   },
   {
    "duration": 1327,
    "start_time": "2021-10-31T07:08:44.826Z"
   },
   {
    "duration": 9643,
    "start_time": "2021-10-31T07:08:46.155Z"
   },
   {
    "duration": 843,
    "start_time": "2021-10-31T07:08:55.801Z"
   },
   {
    "duration": 11,
    "start_time": "2021-10-31T07:08:56.646Z"
   },
   {
    "duration": 263,
    "start_time": "2021-10-31T07:08:56.659Z"
   },
   {
    "duration": 22,
    "start_time": "2021-10-31T07:08:56.923Z"
   },
   {
    "duration": 8,
    "start_time": "2021-10-31T07:08:56.947Z"
   },
   {
    "duration": 15,
    "start_time": "2021-10-31T07:08:56.957Z"
   },
   {
    "duration": 102,
    "start_time": "2021-10-31T07:08:56.975Z"
   },
   {
    "duration": 35,
    "start_time": "2021-10-31T07:08:57.079Z"
   },
   {
    "duration": 42,
    "start_time": "2021-10-31T07:08:57.116Z"
   },
   {
    "duration": 5407,
    "start_time": "2021-10-31T07:08:57.160Z"
   },
   {
    "duration": 1387,
    "start_time": "2021-10-31T07:09:02.569Z"
   },
   {
    "duration": 1690,
    "start_time": "2021-10-31T07:09:03.957Z"
   },
   {
    "duration": 6,
    "start_time": "2021-10-31T07:09:05.648Z"
   },
   {
    "duration": 5,
    "start_time": "2021-10-31T07:09:53.431Z"
   },
   {
    "duration": 5,
    "start_time": "2021-10-31T07:09:59.391Z"
   },
   {
    "duration": 5,
    "start_time": "2021-10-31T07:10:09.177Z"
   },
   {
    "duration": 3,
    "start_time": "2021-10-31T07:11:26.666Z"
   },
   {
    "duration": 2690,
    "start_time": "2021-10-31T07:11:26.671Z"
   },
   {
    "duration": 782,
    "start_time": "2021-10-31T07:11:29.364Z"
   },
   {
    "duration": 10,
    "start_time": "2021-10-31T07:11:30.148Z"
   },
   {
    "duration": 249,
    "start_time": "2021-10-31T07:11:30.159Z"
   },
   {
    "duration": 7,
    "start_time": "2021-10-31T07:11:30.409Z"
   },
   {
    "duration": 21,
    "start_time": "2021-10-31T07:11:30.417Z"
   },
   {
    "duration": 16,
    "start_time": "2021-10-31T07:11:30.439Z"
   },
   {
    "duration": 89,
    "start_time": "2021-10-31T07:11:30.458Z"
   },
   {
    "duration": 39,
    "start_time": "2021-10-31T07:11:30.550Z"
   },
   {
    "duration": 16,
    "start_time": "2021-10-31T07:11:30.591Z"
   },
   {
    "duration": 5251,
    "start_time": "2021-10-31T07:11:30.609Z"
   },
   {
    "duration": 1471,
    "start_time": "2021-10-31T07:11:35.862Z"
   },
   {
    "duration": 1609,
    "start_time": "2021-10-31T07:11:37.335Z"
   },
   {
    "duration": 7,
    "start_time": "2021-10-31T07:11:38.946Z"
   },
   {
    "duration": 5,
    "start_time": "2021-10-31T07:11:38.955Z"
   },
   {
    "duration": 12,
    "start_time": "2021-10-31T07:11:38.961Z"
   },
   {
    "duration": 5,
    "start_time": "2021-10-31T07:11:38.974Z"
   },
   {
    "duration": 10,
    "start_time": "2021-10-31T07:11:38.980Z"
   },
   {
    "duration": 5,
    "start_time": "2021-10-31T07:11:38.991Z"
   },
   {
    "duration": 9,
    "start_time": "2021-10-31T07:11:38.998Z"
   },
   {
    "duration": 3390,
    "start_time": "2021-10-31T07:11:39.008Z"
   },
   {
    "duration": 314,
    "start_time": "2021-10-31T07:11:42.400Z"
   },
   {
    "duration": 1396,
    "start_time": "2021-10-31T07:13:15.109Z"
   },
   {
    "duration": 27,
    "start_time": "2021-10-31T07:19:45.959Z"
   },
   {
    "duration": 312,
    "start_time": "2021-10-31T07:19:56.718Z"
   },
   {
    "duration": 249,
    "start_time": "2021-10-31T07:20:33.326Z"
   },
   {
    "duration": 19,
    "start_time": "2021-10-31T07:21:24.732Z"
   },
   {
    "duration": 14,
    "start_time": "2021-10-31T07:21:44.881Z"
   },
   {
    "duration": 28,
    "start_time": "2021-10-31T07:21:55.663Z"
   },
   {
    "duration": 8,
    "start_time": "2021-10-31T07:38:02.485Z"
   },
   {
    "duration": 5,
    "start_time": "2021-10-31T07:38:08.371Z"
   },
   {
    "duration": 26,
    "start_time": "2021-10-31T07:38:13.159Z"
   },
   {
    "duration": 8,
    "start_time": "2021-10-31T07:38:51.967Z"
   },
   {
    "duration": 5,
    "start_time": "2021-10-31T07:38:57.426Z"
   },
   {
    "duration": 209,
    "start_time": "2021-10-31T09:29:05.766Z"
   },
   {
    "duration": 1080,
    "start_time": "2021-10-31T09:29:12.190Z"
   },
   {
    "duration": 9469,
    "start_time": "2021-10-31T09:29:13.272Z"
   },
   {
    "duration": 8080,
    "start_time": "2021-10-31T09:29:22.743Z"
   },
   {
    "duration": 10,
    "start_time": "2021-10-31T09:29:30.825Z"
   },
   {
    "duration": 259,
    "start_time": "2021-10-31T09:29:30.836Z"
   },
   {
    "duration": 25,
    "start_time": "2021-10-31T09:29:31.097Z"
   },
   {
    "duration": 28,
    "start_time": "2021-10-31T09:29:31.123Z"
   },
   {
    "duration": 7,
    "start_time": "2021-10-31T09:29:31.152Z"
   },
   {
    "duration": 32,
    "start_time": "2021-10-31T09:29:31.161Z"
   },
   {
    "duration": 12,
    "start_time": "2021-10-31T09:29:31.195Z"
   },
   {
    "duration": 90,
    "start_time": "2021-10-31T09:29:31.209Z"
   },
   {
    "duration": 35,
    "start_time": "2021-10-31T09:29:31.301Z"
   },
   {
    "duration": 15,
    "start_time": "2021-10-31T09:29:31.337Z"
   },
   {
    "duration": 3482,
    "start_time": "2021-10-31T09:29:31.353Z"
   },
   {
    "duration": 1091,
    "start_time": "2021-10-31T09:29:34.837Z"
   },
   {
    "duration": 1227,
    "start_time": "2021-10-31T09:29:35.929Z"
   },
   {
    "duration": 5,
    "start_time": "2021-10-31T09:29:37.158Z"
   },
   {
    "duration": 12,
    "start_time": "2021-10-31T09:29:41.831Z"
   },
   {
    "duration": 5,
    "start_time": "2021-10-31T09:29:54.463Z"
   },
   {
    "duration": 10,
    "start_time": "2021-10-31T09:29:54.926Z"
   },
   {
    "duration": 5,
    "start_time": "2021-10-31T09:29:57.814Z"
   },
   {
    "duration": 6,
    "start_time": "2021-10-31T09:30:03.890Z"
   },
   {
    "duration": 5,
    "start_time": "2021-10-31T09:30:10.520Z"
   },
   {
    "duration": 6,
    "start_time": "2021-10-31T09:30:13.256Z"
   },
   {
    "duration": 4,
    "start_time": "2021-10-31T09:30:24.240Z"
   },
   {
    "duration": 6,
    "start_time": "2021-10-31T09:30:37.968Z"
   },
   {
    "duration": 260,
    "start_time": "2021-10-31T09:30:46.893Z"
   },
   {
    "duration": 12,
    "start_time": "2021-10-31T09:30:47.158Z"
   },
   {
    "duration": 6,
    "start_time": "2021-10-31T09:31:06.543Z"
   },
   {
    "duration": 29,
    "start_time": "2021-10-31T09:31:28.498Z"
   },
   {
    "duration": 32,
    "start_time": "2021-10-31T09:31:36.816Z"
   },
   {
    "duration": 3,
    "start_time": "2021-10-31T09:31:48.417Z"
   },
   {
    "duration": 2176,
    "start_time": "2021-10-31T09:31:48.422Z"
   },
   {
    "duration": 718,
    "start_time": "2021-10-31T09:31:50.600Z"
   },
   {
    "duration": 11,
    "start_time": "2021-10-31T09:31:51.320Z"
   },
   {
    "duration": 258,
    "start_time": "2021-10-31T09:31:51.332Z"
   },
   {
    "duration": 25,
    "start_time": "2021-10-31T09:31:51.592Z"
   },
   {
    "duration": 26,
    "start_time": "2021-10-31T09:31:51.619Z"
   },
   {
    "duration": 7,
    "start_time": "2021-10-31T09:31:51.646Z"
   },
   {
    "duration": 6,
    "start_time": "2021-10-31T09:31:51.655Z"
   },
   {
    "duration": 34,
    "start_time": "2021-10-31T09:31:51.662Z"
   },
   {
    "duration": 78,
    "start_time": "2021-10-31T09:31:51.698Z"
   },
   {
    "duration": 44,
    "start_time": "2021-10-31T09:31:51.778Z"
   },
   {
    "duration": 14,
    "start_time": "2021-10-31T09:31:51.824Z"
   },
   {
    "duration": 3541,
    "start_time": "2021-10-31T09:31:51.839Z"
   },
   {
    "duration": 1069,
    "start_time": "2021-10-31T09:31:55.382Z"
   },
   {
    "duration": 1197,
    "start_time": "2021-10-31T09:31:56.453Z"
   },
   {
    "duration": 7,
    "start_time": "2021-10-31T09:32:06.396Z"
   },
   {
    "duration": 16,
    "start_time": "2021-10-31T09:32:15.925Z"
   },
   {
    "duration": 11,
    "start_time": "2021-10-31T09:32:42.882Z"
   },
   {
    "duration": 26,
    "start_time": "2021-10-31T09:32:44.136Z"
   },
   {
    "duration": 6,
    "start_time": "2021-10-31T09:32:57.500Z"
   },
   {
    "duration": 5,
    "start_time": "2021-10-31T09:33:15.739Z"
   },
   {
    "duration": 1193,
    "start_time": "2021-10-31T09:33:25.864Z"
   },
   {
    "duration": 4,
    "start_time": "2021-10-31T09:33:38.523Z"
   },
   {
    "duration": 5,
    "start_time": "2021-10-31T09:33:42.887Z"
   },
   {
    "duration": 171,
    "start_time": "2021-10-31T09:33:46.202Z"
   },
   {
    "duration": 4,
    "start_time": "2021-10-31T09:33:48.565Z"
   },
   {
    "duration": 3,
    "start_time": "2021-10-31T09:34:16.655Z"
   },
   {
    "duration": 2257,
    "start_time": "2021-10-31T09:34:16.659Z"
   },
   {
    "duration": 721,
    "start_time": "2021-10-31T09:34:18.918Z"
   },
   {
    "duration": 10,
    "start_time": "2021-10-31T09:34:19.640Z"
   },
   {
    "duration": 255,
    "start_time": "2021-10-31T09:34:19.652Z"
   },
   {
    "duration": 29,
    "start_time": "2021-10-31T09:34:19.909Z"
   },
   {
    "duration": 30,
    "start_time": "2021-10-31T09:34:19.940Z"
   },
   {
    "duration": 8,
    "start_time": "2021-10-31T09:34:19.992Z"
   },
   {
    "duration": 7,
    "start_time": "2021-10-31T09:34:20.003Z"
   },
   {
    "duration": 8,
    "start_time": "2021-10-31T09:34:20.012Z"
   },
   {
    "duration": 125,
    "start_time": "2021-10-31T09:34:20.022Z"
   },
   {
    "duration": 49,
    "start_time": "2021-10-31T09:34:20.149Z"
   },
   {
    "duration": 15,
    "start_time": "2021-10-31T09:34:20.199Z"
   },
   {
    "duration": 3459,
    "start_time": "2021-10-31T09:34:20.216Z"
   },
   {
    "duration": 1177,
    "start_time": "2021-10-31T09:34:23.676Z"
   },
   {
    "duration": 1194,
    "start_time": "2021-10-31T09:34:24.854Z"
   },
   {
    "duration": 4,
    "start_time": "2021-10-31T09:34:26.049Z"
   },
   {
    "duration": 19,
    "start_time": "2021-10-31T09:34:26.055Z"
   },
   {
    "duration": 34,
    "start_time": "2021-10-31T09:34:26.076Z"
   },
   {
    "duration": 27,
    "start_time": "2021-10-31T09:35:02.589Z"
   },
   {
    "duration": 7,
    "start_time": "2021-10-31T09:35:10.767Z"
   },
   {
    "duration": 26,
    "start_time": "2021-10-31T09:35:23.642Z"
   },
   {
    "duration": 5,
    "start_time": "2021-10-31T09:35:31.656Z"
   },
   {
    "duration": 7,
    "start_time": "2021-10-31T09:35:38.796Z"
   },
   {
    "duration": 1373,
    "start_time": "2021-10-31T09:35:50.232Z"
   },
   {
    "duration": 5,
    "start_time": "2021-10-31T09:35:55.132Z"
   },
   {
    "duration": 5,
    "start_time": "2021-10-31T09:36:02.147Z"
   },
   {
    "duration": 5,
    "start_time": "2021-10-31T09:36:12.410Z"
   },
   {
    "duration": 5,
    "start_time": "2021-10-31T09:36:16.621Z"
   },
   {
    "duration": 57,
    "start_time": "2021-10-31T09:36:18.455Z"
   },
   {
    "duration": 5,
    "start_time": "2021-10-31T09:36:20.503Z"
   },
   {
    "duration": 179,
    "start_time": "2021-10-31T09:36:31.059Z"
   },
   {
    "duration": 4,
    "start_time": "2021-10-31T09:36:35.450Z"
   },
   {
    "duration": 5,
    "start_time": "2021-10-31T09:36:41.186Z"
   },
   {
    "duration": 185,
    "start_time": "2021-10-31T09:36:47.396Z"
   },
   {
    "duration": 7,
    "start_time": "2021-10-31T09:37:00.175Z"
   },
   {
    "duration": 7,
    "start_time": "2021-10-31T09:37:07.087Z"
   },
   {
    "duration": 7,
    "start_time": "2021-10-31T09:37:37.605Z"
   },
   {
    "duration": 28,
    "start_time": "2021-10-31T09:38:19.214Z"
   },
   {
    "duration": 10,
    "start_time": "2021-10-31T09:38:21.434Z"
   },
   {
    "duration": 26,
    "start_time": "2021-10-31T09:38:21.649Z"
   },
   {
    "duration": 5,
    "start_time": "2021-10-31T09:38:42.086Z"
   },
   {
    "duration": 4173,
    "start_time": "2021-10-31T09:39:05.193Z"
   },
   {
    "duration": 1157,
    "start_time": "2021-10-31T09:39:11.882Z"
   },
   {
    "duration": 43,
    "start_time": "2021-10-31T09:40:34.356Z"
   },
   {
    "duration": 27,
    "start_time": "2021-10-31T09:40:39.453Z"
   },
   {
    "duration": 26,
    "start_time": "2021-10-31T09:40:59.327Z"
   },
   {
    "duration": 25,
    "start_time": "2021-10-31T09:41:02.368Z"
   },
   {
    "duration": 4,
    "start_time": "2021-10-31T09:41:28.617Z"
   },
   {
    "duration": 181,
    "start_time": "2021-10-31T09:41:43.814Z"
   },
   {
    "duration": 9,
    "start_time": "2021-10-31T09:41:55.148Z"
   },
   {
    "duration": 4,
    "start_time": "2021-10-31T09:41:59.870Z"
   },
   {
    "duration": 1157,
    "start_time": "2021-10-31T09:42:09.085Z"
   },
   {
    "duration": 35,
    "start_time": "2021-10-31T09:42:11.606Z"
   },
   {
    "duration": 4,
    "start_time": "2021-10-31T09:42:14.090Z"
   },
   {
    "duration": 8,
    "start_time": "2021-10-31T09:42:14.742Z"
   },
   {
    "duration": 4,
    "start_time": "2021-10-31T09:42:15.052Z"
   },
   {
    "duration": 8,
    "start_time": "2021-10-31T09:43:12.678Z"
   },
   {
    "duration": 3,
    "start_time": "2021-10-31T09:43:15.154Z"
   },
   {
    "duration": 33,
    "start_time": "2021-10-31T09:43:41.829Z"
   },
   {
    "duration": 3,
    "start_time": "2021-10-31T09:43:42.427Z"
   },
   {
    "duration": 8,
    "start_time": "2021-10-31T09:43:43.144Z"
   },
   {
    "duration": 4,
    "start_time": "2021-10-31T09:43:43.404Z"
   },
   {
    "duration": 5,
    "start_time": "2021-10-31T09:43:48.830Z"
   },
   {
    "duration": 40,
    "start_time": "2021-10-31T09:44:13.443Z"
   },
   {
    "duration": 3,
    "start_time": "2021-10-31T09:44:30.348Z"
   },
   {
    "duration": 3683,
    "start_time": "2021-10-31T09:44:30.353Z"
   },
   {
    "duration": 723,
    "start_time": "2021-10-31T09:44:34.039Z"
   },
   {
    "duration": 10,
    "start_time": "2021-10-31T09:44:34.763Z"
   },
   {
    "duration": 240,
    "start_time": "2021-10-31T09:44:34.791Z"
   },
   {
    "duration": 34,
    "start_time": "2021-10-31T09:44:35.032Z"
   },
   {
    "duration": 44,
    "start_time": "2021-10-31T09:44:35.069Z"
   },
   {
    "duration": 7,
    "start_time": "2021-10-31T09:44:35.116Z"
   },
   {
    "duration": 16,
    "start_time": "2021-10-31T09:44:35.125Z"
   },
   {
    "duration": 7,
    "start_time": "2021-10-31T09:44:35.143Z"
   },
   {
    "duration": 94,
    "start_time": "2021-10-31T09:44:35.152Z"
   },
   {
    "duration": 53,
    "start_time": "2021-10-31T09:44:35.248Z"
   },
   {
    "duration": 14,
    "start_time": "2021-10-31T09:44:35.303Z"
   },
   {
    "duration": 3423,
    "start_time": "2021-10-31T09:44:35.318Z"
   },
   {
    "duration": 983,
    "start_time": "2021-10-31T09:44:38.743Z"
   },
   {
    "duration": 1214,
    "start_time": "2021-10-31T09:44:39.727Z"
   },
   {
    "duration": 35,
    "start_time": "2021-10-31T09:44:40.942Z"
   },
   {
    "duration": 14,
    "start_time": "2021-10-31T09:44:40.978Z"
   },
   {
    "duration": 6,
    "start_time": "2021-10-31T09:44:40.993Z"
   },
   {
    "duration": 34,
    "start_time": "2021-10-31T09:45:42.260Z"
   },
   {
    "duration": 4,
    "start_time": "2021-10-31T09:45:42.674Z"
   },
   {
    "duration": 4,
    "start_time": "2021-10-31T09:45:43.274Z"
   },
   {
    "duration": 26,
    "start_time": "2021-10-31T09:46:19.688Z"
   },
   {
    "duration": 3,
    "start_time": "2021-10-31T09:46:20.283Z"
   },
   {
    "duration": 38,
    "start_time": "2021-10-31T09:47:24.784Z"
   },
   {
    "duration": 4,
    "start_time": "2021-10-31T09:47:25.517Z"
   },
   {
    "duration": 4,
    "start_time": "2021-10-31T09:47:25.911Z"
   },
   {
    "duration": 34,
    "start_time": "2021-10-31T09:47:28.789Z"
   },
   {
    "duration": 4,
    "start_time": "2021-10-31T09:47:29.057Z"
   },
   {
    "duration": 4,
    "start_time": "2021-10-31T09:47:29.418Z"
   },
   {
    "duration": 10,
    "start_time": "2021-10-31T09:47:29.778Z"
   },
   {
    "duration": 35,
    "start_time": "2021-10-31T09:47:31.784Z"
   },
   {
    "duration": 4,
    "start_time": "2021-10-31T09:47:32.130Z"
   },
   {
    "duration": 4,
    "start_time": "2021-10-31T09:47:32.613Z"
   },
   {
    "duration": 9,
    "start_time": "2021-10-31T09:47:33.064Z"
   },
   {
    "duration": 4,
    "start_time": "2021-10-31T09:47:33.446Z"
   },
   {
    "duration": 3,
    "start_time": "2021-10-31T09:52:23.495Z"
   },
   {
    "duration": 3,
    "start_time": "2021-10-31T09:52:24.857Z"
   },
   {
    "duration": 4,
    "start_time": "2021-10-31T09:52:25.117Z"
   },
   {
    "duration": 3,
    "start_time": "2021-10-31T09:52:42.151Z"
   },
   {
    "duration": 1034,
    "start_time": "2021-10-31T09:53:30.949Z"
   },
   {
    "duration": 2176,
    "start_time": "2021-10-31T09:53:31.985Z"
   },
   {
    "duration": 732,
    "start_time": "2021-10-31T09:53:34.164Z"
   },
   {
    "duration": 11,
    "start_time": "2021-10-31T09:53:34.897Z"
   },
   {
    "duration": 277,
    "start_time": "2021-10-31T09:53:34.910Z"
   },
   {
    "duration": 28,
    "start_time": "2021-10-31T09:53:35.190Z"
   },
   {
    "duration": 7,
    "start_time": "2021-10-31T09:53:35.220Z"
   },
   {
    "duration": 8,
    "start_time": "2021-10-31T09:53:35.228Z"
   },
   {
    "duration": 10,
    "start_time": "2021-10-31T09:53:35.239Z"
   },
   {
    "duration": 111,
    "start_time": "2021-10-31T09:53:35.251Z"
   },
   {
    "duration": 42,
    "start_time": "2021-10-31T09:53:35.363Z"
   },
   {
    "duration": 14,
    "start_time": "2021-10-31T09:53:35.407Z"
   },
   {
    "duration": 3539,
    "start_time": "2021-10-31T09:53:35.423Z"
   },
   {
    "duration": 1108,
    "start_time": "2021-10-31T09:53:38.964Z"
   },
   {
    "duration": 1156,
    "start_time": "2021-10-31T09:53:40.074Z"
   },
   {
    "duration": 35,
    "start_time": "2021-10-31T09:53:41.232Z"
   },
   {
    "duration": 3,
    "start_time": "2021-10-31T09:53:41.269Z"
   },
   {
    "duration": 17,
    "start_time": "2021-10-31T09:53:41.274Z"
   },
   {
    "duration": 9,
    "start_time": "2021-10-31T09:53:41.293Z"
   },
   {
    "duration": 4,
    "start_time": "2021-10-31T09:53:41.304Z"
   },
   {
    "duration": 10,
    "start_time": "2021-10-31T09:53:41.310Z"
   },
   {
    "duration": 3,
    "start_time": "2021-10-31T09:53:41.322Z"
   },
   {
    "duration": 20245,
    "start_time": "2021-10-31T09:53:41.327Z"
   },
   {
    "duration": 8870,
    "start_time": "2021-10-31T09:54:01.574Z"
   },
   {
    "duration": 146,
    "start_time": "2021-10-31T09:54:10.446Z"
   },
   {
    "duration": 4,
    "start_time": "2021-10-31T09:55:48.643Z"
   },
   {
    "duration": 8,
    "start_time": "2021-10-31T09:59:47.890Z"
   },
   {
    "duration": 1052,
    "start_time": "2021-10-31T10:00:05.733Z"
   },
   {
    "duration": 2475,
    "start_time": "2021-10-31T10:00:06.787Z"
   },
   {
    "duration": 708,
    "start_time": "2021-10-31T10:00:09.265Z"
   },
   {
    "duration": 25,
    "start_time": "2021-10-31T10:00:09.975Z"
   },
   {
    "duration": 252,
    "start_time": "2021-10-31T10:00:10.002Z"
   },
   {
    "duration": 36,
    "start_time": "2021-10-31T10:00:10.256Z"
   },
   {
    "duration": 9,
    "start_time": "2021-10-31T10:00:10.294Z"
   },
   {
    "duration": 6,
    "start_time": "2021-10-31T10:00:10.304Z"
   },
   {
    "duration": 6,
    "start_time": "2021-10-31T10:00:10.312Z"
   },
   {
    "duration": 103,
    "start_time": "2021-10-31T10:00:10.320Z"
   },
   {
    "duration": 34,
    "start_time": "2021-10-31T10:00:10.425Z"
   },
   {
    "duration": 34,
    "start_time": "2021-10-31T10:00:10.460Z"
   },
   {
    "duration": 3535,
    "start_time": "2021-10-31T10:00:10.496Z"
   },
   {
    "duration": 982,
    "start_time": "2021-10-31T10:00:14.032Z"
   },
   {
    "duration": 1233,
    "start_time": "2021-10-31T10:00:15.016Z"
   },
   {
    "duration": 47,
    "start_time": "2021-10-31T10:00:16.250Z"
   },
   {
    "duration": 4,
    "start_time": "2021-10-31T10:00:16.298Z"
   },
   {
    "duration": 7,
    "start_time": "2021-10-31T10:00:16.304Z"
   },
   {
    "duration": 13,
    "start_time": "2021-10-31T10:00:16.313Z"
   },
   {
    "duration": 19,
    "start_time": "2021-10-31T10:00:16.328Z"
   },
   {
    "duration": 20206,
    "start_time": "2021-10-31T10:00:16.349Z"
   },
   {
    "duration": 8803,
    "start_time": "2021-10-31T10:00:36.557Z"
   },
   {
    "duration": 36,
    "start_time": "2021-10-31T10:00:45.361Z"
   },
   {
    "duration": 101,
    "start_time": "2021-10-31T10:00:45.399Z"
   },
   {
    "duration": 1020,
    "start_time": "2021-10-31T10:00:58.049Z"
   },
   {
    "duration": 2228,
    "start_time": "2021-10-31T10:00:59.071Z"
   },
   {
    "duration": 732,
    "start_time": "2021-10-31T10:01:01.301Z"
   },
   {
    "duration": 12,
    "start_time": "2021-10-31T10:01:02.035Z"
   },
   {
    "duration": 266,
    "start_time": "2021-10-31T10:01:02.048Z"
   },
   {
    "duration": 27,
    "start_time": "2021-10-31T10:01:02.316Z"
   },
   {
    "duration": 7,
    "start_time": "2021-10-31T10:01:02.345Z"
   },
   {
    "duration": 13,
    "start_time": "2021-10-31T10:01:02.353Z"
   },
   {
    "duration": 7,
    "start_time": "2021-10-31T10:01:02.392Z"
   },
   {
    "duration": 96,
    "start_time": "2021-10-31T10:01:02.401Z"
   },
   {
    "duration": 35,
    "start_time": "2021-10-31T10:01:02.499Z"
   },
   {
    "duration": 14,
    "start_time": "2021-10-31T10:01:02.536Z"
   },
   {
    "duration": 3489,
    "start_time": "2021-10-31T10:01:02.551Z"
   },
   {
    "duration": 1035,
    "start_time": "2021-10-31T10:01:06.042Z"
   },
   {
    "duration": 1264,
    "start_time": "2021-10-31T10:01:07.078Z"
   },
   {
    "duration": 2,
    "start_time": "2021-10-31T10:01:08.344Z"
   },
   {
    "duration": 13,
    "start_time": "2021-10-31T10:01:08.348Z"
   },
   {
    "duration": 13,
    "start_time": "2021-10-31T10:01:08.362Z"
   },
   {
    "duration": 13,
    "start_time": "2021-10-31T10:01:08.376Z"
   },
   {
    "duration": 15,
    "start_time": "2021-10-31T10:01:08.390Z"
   },
   {
    "duration": 24909,
    "start_time": "2021-10-31T10:01:08.406Z"
   },
   {
    "duration": 9724,
    "start_time": "2021-10-31T10:01:33.317Z"
   },
   {
    "duration": 150,
    "start_time": "2021-10-31T10:01:43.043Z"
   },
   {
    "duration": 95,
    "start_time": "2021-10-31T10:01:43.197Z"
   },
   {
    "duration": 1080,
    "start_time": "2021-10-31T10:05:43.895Z"
   },
   {
    "duration": 2183,
    "start_time": "2021-10-31T10:05:44.977Z"
   },
   {
    "duration": 733,
    "start_time": "2021-10-31T10:05:47.162Z"
   },
   {
    "duration": 9,
    "start_time": "2021-10-31T10:05:47.897Z"
   },
   {
    "duration": 265,
    "start_time": "2021-10-31T10:05:47.908Z"
   },
   {
    "duration": 38,
    "start_time": "2021-10-31T10:05:48.175Z"
   },
   {
    "duration": 8,
    "start_time": "2021-10-31T10:05:48.214Z"
   },
   {
    "duration": 10,
    "start_time": "2021-10-31T10:05:48.223Z"
   },
   {
    "duration": 7,
    "start_time": "2021-10-31T10:05:48.235Z"
   },
   {
    "duration": 114,
    "start_time": "2021-10-31T10:05:48.244Z"
   },
   {
    "duration": 41,
    "start_time": "2021-10-31T10:05:48.359Z"
   },
   {
    "duration": 14,
    "start_time": "2021-10-31T10:05:48.401Z"
   },
   {
    "duration": 3519,
    "start_time": "2021-10-31T10:05:48.416Z"
   },
   {
    "duration": 991,
    "start_time": "2021-10-31T10:05:51.937Z"
   },
   {
    "duration": 1203,
    "start_time": "2021-10-31T10:05:52.930Z"
   },
   {
    "duration": 36,
    "start_time": "2021-10-31T10:05:54.134Z"
   },
   {
    "duration": 3,
    "start_time": "2021-10-31T10:05:54.171Z"
   },
   {
    "duration": 16,
    "start_time": "2021-10-31T10:05:54.176Z"
   },
   {
    "duration": 9,
    "start_time": "2021-10-31T10:05:54.194Z"
   },
   {
    "duration": 8,
    "start_time": "2021-10-31T10:05:54.205Z"
   },
   {
    "duration": 20512,
    "start_time": "2021-10-31T10:05:54.214Z"
   },
   {
    "duration": 8872,
    "start_time": "2021-10-31T10:06:14.728Z"
   },
   {
    "duration": 97,
    "start_time": "2021-10-31T10:06:23.601Z"
   },
   {
    "duration": 9,
    "start_time": "2021-10-31T10:06:23.791Z"
   },
   {
    "duration": 8,
    "start_time": "2021-10-31T10:08:13.303Z"
   },
   {
    "duration": 3,
    "start_time": "2021-10-31T10:25:07.533Z"
   },
   {
    "duration": 9,
    "start_time": "2021-10-31T10:29:33.333Z"
   },
   {
    "duration": 193,
    "start_time": "2021-10-31T10:29:37.905Z"
   },
   {
    "duration": 9,
    "start_time": "2021-10-31T10:29:38.763Z"
   },
   {
    "duration": 9,
    "start_time": "2021-10-31T10:31:45.485Z"
   },
   {
    "duration": 9,
    "start_time": "2021-10-31T10:32:06.858Z"
   },
   {
    "duration": 61,
    "start_time": "2021-10-31T10:32:14.036Z"
   },
   {
    "duration": 10,
    "start_time": "2021-10-31T10:32:15.336Z"
   },
   {
    "duration": 9,
    "start_time": "2021-10-31T10:32:25.610Z"
   },
   {
    "duration": 27,
    "start_time": "2021-10-31T10:32:27.772Z"
   },
   {
    "duration": 8,
    "start_time": "2021-10-31T10:32:28.234Z"
   },
   {
    "duration": 9,
    "start_time": "2021-10-31T11:01:54.648Z"
   },
   {
    "duration": 144,
    "start_time": "2021-10-31T11:01:59.747Z"
   },
   {
    "duration": 8,
    "start_time": "2021-10-31T11:02:00.625Z"
   },
   {
    "duration": 1041,
    "start_time": "2021-10-31T11:02:45.151Z"
   },
   {
    "duration": 2341,
    "start_time": "2021-10-31T11:02:46.193Z"
   },
   {
    "duration": 722,
    "start_time": "2021-10-31T11:02:48.537Z"
   },
   {
    "duration": 32,
    "start_time": "2021-10-31T11:02:49.262Z"
   },
   {
    "duration": 245,
    "start_time": "2021-10-31T11:02:49.296Z"
   },
   {
    "duration": 7,
    "start_time": "2021-10-31T11:02:49.543Z"
   },
   {
    "duration": 6,
    "start_time": "2021-10-31T11:02:49.552Z"
   },
   {
    "duration": 8,
    "start_time": "2021-10-31T11:02:49.559Z"
   },
   {
    "duration": 100,
    "start_time": "2021-10-31T11:02:49.569Z"
   },
   {
    "duration": 46,
    "start_time": "2021-10-31T11:02:49.671Z"
   },
   {
    "duration": 13,
    "start_time": "2021-10-31T11:02:49.718Z"
   },
   {
    "duration": 3622,
    "start_time": "2021-10-31T11:02:49.733Z"
   },
   {
    "duration": 1078,
    "start_time": "2021-10-31T11:02:53.357Z"
   },
   {
    "duration": 1205,
    "start_time": "2021-10-31T11:02:54.437Z"
   },
   {
    "duration": 2,
    "start_time": "2021-10-31T11:02:55.644Z"
   },
   {
    "duration": 8,
    "start_time": "2021-10-31T11:02:55.647Z"
   },
   {
    "duration": 9,
    "start_time": "2021-10-31T11:02:55.656Z"
   },
   {
    "duration": 24,
    "start_time": "2021-10-31T11:02:55.667Z"
   },
   {
    "duration": 7,
    "start_time": "2021-10-31T11:02:55.693Z"
   },
   {
    "duration": 25023,
    "start_time": "2021-10-31T11:02:55.701Z"
   },
   {
    "duration": 10120,
    "start_time": "2021-10-31T11:03:20.726Z"
   },
   {
    "duration": 148,
    "start_time": "2021-10-31T11:03:30.848Z"
   },
   {
    "duration": 94,
    "start_time": "2021-10-31T11:03:30.998Z"
   },
   {
    "duration": 1089,
    "start_time": "2021-10-31T11:03:47.502Z"
   },
   {
    "duration": 2270,
    "start_time": "2021-10-31T11:03:48.593Z"
   },
   {
    "duration": 737,
    "start_time": "2021-10-31T11:03:50.867Z"
   },
   {
    "duration": 10,
    "start_time": "2021-10-31T11:03:51.606Z"
   },
   {
    "duration": 262,
    "start_time": "2021-10-31T11:03:51.617Z"
   },
   {
    "duration": 11,
    "start_time": "2021-10-31T11:03:51.880Z"
   },
   {
    "duration": 7,
    "start_time": "2021-10-31T11:03:51.893Z"
   },
   {
    "duration": 11,
    "start_time": "2021-10-31T11:03:51.902Z"
   },
   {
    "duration": 104,
    "start_time": "2021-10-31T11:03:51.915Z"
   },
   {
    "duration": 34,
    "start_time": "2021-10-31T11:03:52.021Z"
   },
   {
    "duration": 39,
    "start_time": "2021-10-31T11:03:52.056Z"
   },
   {
    "duration": 3551,
    "start_time": "2021-10-31T11:03:52.097Z"
   },
   {
    "duration": 1100,
    "start_time": "2021-10-31T11:03:55.650Z"
   },
   {
    "duration": 1314,
    "start_time": "2021-10-31T11:03:56.751Z"
   },
   {
    "duration": 57,
    "start_time": "2021-10-31T11:03:58.067Z"
   },
   {
    "duration": 4,
    "start_time": "2021-10-31T11:03:58.126Z"
   },
   {
    "duration": 8,
    "start_time": "2021-10-31T11:03:58.132Z"
   },
   {
    "duration": 10,
    "start_time": "2021-10-31T11:03:58.141Z"
   },
   {
    "duration": 9,
    "start_time": "2021-10-31T11:03:58.153Z"
   },
   {
    "duration": 21242,
    "start_time": "2021-10-31T11:03:58.163Z"
   },
   {
    "duration": 9214,
    "start_time": "2021-10-31T11:04:19.407Z"
   },
   {
    "duration": 172,
    "start_time": "2021-10-31T11:04:28.622Z"
   },
   {
    "duration": 99,
    "start_time": "2021-10-31T11:04:28.797Z"
   },
   {
    "duration": 1201,
    "start_time": "2021-10-31T11:05:12.288Z"
   },
   {
    "duration": 2253,
    "start_time": "2021-10-31T11:05:13.491Z"
   },
   {
    "duration": 725,
    "start_time": "2021-10-31T11:05:15.747Z"
   },
   {
    "duration": 12,
    "start_time": "2021-10-31T11:05:16.492Z"
   },
   {
    "duration": 258,
    "start_time": "2021-10-31T11:05:16.506Z"
   },
   {
    "duration": 8,
    "start_time": "2021-10-31T11:05:16.766Z"
   },
   {
    "duration": 22,
    "start_time": "2021-10-31T11:05:16.775Z"
   },
   {
    "duration": 10,
    "start_time": "2021-10-31T11:05:16.799Z"
   },
   {
    "duration": 101,
    "start_time": "2021-10-31T11:05:16.812Z"
   },
   {
    "duration": 35,
    "start_time": "2021-10-31T11:05:16.915Z"
   },
   {
    "duration": 43,
    "start_time": "2021-10-31T11:05:16.951Z"
   },
   {
    "duration": 3918,
    "start_time": "2021-10-31T11:05:16.995Z"
   },
   {
    "duration": 1035,
    "start_time": "2021-10-31T11:05:20.915Z"
   },
   {
    "duration": 1205,
    "start_time": "2021-10-31T11:05:21.952Z"
   },
   {
    "duration": 51,
    "start_time": "2021-10-31T11:05:23.159Z"
   },
   {
    "duration": 5,
    "start_time": "2021-10-31T11:05:23.211Z"
   },
   {
    "duration": 8,
    "start_time": "2021-10-31T11:05:23.217Z"
   },
   {
    "duration": 272,
    "start_time": "2021-10-31T11:05:23.226Z"
   },
   {
    "duration": -8,
    "start_time": "2021-10-31T11:05:23.509Z"
   },
   {
    "duration": -9,
    "start_time": "2021-10-31T11:05:23.511Z"
   },
   {
    "duration": -14,
    "start_time": "2021-10-31T11:05:23.518Z"
   },
   {
    "duration": -15,
    "start_time": "2021-10-31T11:05:23.520Z"
   },
   {
    "duration": -16,
    "start_time": "2021-10-31T11:05:23.522Z"
   },
   {
    "duration": -16,
    "start_time": "2021-10-31T11:05:23.524Z"
   },
   {
    "duration": -17,
    "start_time": "2021-10-31T11:05:23.526Z"
   },
   {
    "duration": 172,
    "start_time": "2021-10-31T11:06:17.311Z"
   },
   {
    "duration": 5,
    "start_time": "2021-10-31T11:06:28.138Z"
   },
   {
    "duration": 11,
    "start_time": "2021-10-31T11:08:16.069Z"
   },
   {
    "duration": 9,
    "start_time": "2021-10-31T11:08:19.417Z"
   },
   {
    "duration": 3,
    "start_time": "2021-10-31T11:08:21.980Z"
   },
   {
    "duration": 44013,
    "start_time": "2021-10-31T11:08:22.451Z"
   },
   {
    "duration": 25275,
    "start_time": "2021-10-31T11:09:06.466Z"
   },
   {
    "duration": 21350,
    "start_time": "2021-10-31T11:09:31.742Z"
   },
   {
    "duration": 14,
    "start_time": "2021-10-31T11:09:53.095Z"
   },
   {
    "duration": 1089,
    "start_time": "2021-10-31T11:10:56.792Z"
   },
   {
    "duration": 2251,
    "start_time": "2021-10-31T11:10:57.884Z"
   },
   {
    "duration": 791,
    "start_time": "2021-10-31T11:11:00.137Z"
   },
   {
    "duration": 12,
    "start_time": "2021-10-31T11:11:00.930Z"
   },
   {
    "duration": 270,
    "start_time": "2021-10-31T11:11:00.944Z"
   },
   {
    "duration": 8,
    "start_time": "2021-10-31T11:11:01.215Z"
   },
   {
    "duration": 12,
    "start_time": "2021-10-31T11:11:01.225Z"
   },
   {
    "duration": 22,
    "start_time": "2021-10-31T11:11:01.239Z"
   },
   {
    "duration": 87,
    "start_time": "2021-10-31T11:11:01.262Z"
   },
   {
    "duration": 50,
    "start_time": "2021-10-31T11:11:01.351Z"
   },
   {
    "duration": 15,
    "start_time": "2021-10-31T11:11:01.402Z"
   },
   {
    "duration": 3534,
    "start_time": "2021-10-31T11:11:01.419Z"
   },
   {
    "duration": 1094,
    "start_time": "2021-10-31T11:11:04.954Z"
   },
   {
    "duration": 1193,
    "start_time": "2021-10-31T11:11:06.051Z"
   },
   {
    "duration": 48,
    "start_time": "2021-10-31T11:11:07.246Z"
   },
   {
    "duration": 3,
    "start_time": "2021-10-31T11:11:07.296Z"
   },
   {
    "duration": 22,
    "start_time": "2021-10-31T11:11:07.300Z"
   },
   {
    "duration": 5,
    "start_time": "2021-10-31T11:11:07.324Z"
   },
   {
    "duration": 10,
    "start_time": "2021-10-31T11:11:07.331Z"
   },
   {
    "duration": 10,
    "start_time": "2021-10-31T11:11:07.343Z"
   },
   {
    "duration": 9,
    "start_time": "2021-10-31T11:11:07.355Z"
   },
   {
    "duration": 20576,
    "start_time": "2021-10-31T11:11:07.367Z"
   },
   {
    "duration": 8970,
    "start_time": "2021-10-31T11:11:27.945Z"
   },
   {
    "duration": 174,
    "start_time": "2021-10-31T11:11:36.917Z"
   },
   {
    "duration": 98,
    "start_time": "2021-10-31T11:11:37.094Z"
   },
   {
    "duration": 11,
    "start_time": "2021-10-31T11:17:24.458Z"
   },
   {
    "duration": 11,
    "start_time": "2021-10-31T11:17:27.362Z"
   },
   {
    "duration": 9,
    "start_time": "2021-10-31T11:17:42.464Z"
   },
   {
    "duration": 1143,
    "start_time": "2021-10-31T11:21:49.672Z"
   },
   {
    "duration": 1101,
    "start_time": "2021-10-31T11:22:14.496Z"
   },
   {
    "duration": 2217,
    "start_time": "2021-10-31T11:22:15.598Z"
   },
   {
    "duration": 762,
    "start_time": "2021-10-31T11:22:17.817Z"
   },
   {
    "duration": 13,
    "start_time": "2021-10-31T11:22:18.591Z"
   },
   {
    "duration": 242,
    "start_time": "2021-10-31T11:22:18.605Z"
   },
   {
    "duration": 8,
    "start_time": "2021-10-31T11:22:18.848Z"
   },
   {
    "duration": 6,
    "start_time": "2021-10-31T11:22:18.857Z"
   },
   {
    "duration": 8,
    "start_time": "2021-10-31T11:22:18.865Z"
   },
   {
    "duration": 80,
    "start_time": "2021-10-31T11:22:18.893Z"
   },
   {
    "duration": 46,
    "start_time": "2021-10-31T11:22:18.975Z"
   },
   {
    "duration": 15,
    "start_time": "2021-10-31T11:22:19.023Z"
   },
   {
    "duration": 3529,
    "start_time": "2021-10-31T11:22:19.040Z"
   },
   {
    "duration": 1065,
    "start_time": "2021-10-31T11:22:22.571Z"
   },
   {
    "duration": 1206,
    "start_time": "2021-10-31T11:22:23.638Z"
   },
   {
    "duration": 53,
    "start_time": "2021-10-31T11:22:24.846Z"
   },
   {
    "duration": 3,
    "start_time": "2021-10-31T11:22:24.900Z"
   },
   {
    "duration": 8,
    "start_time": "2021-10-31T11:22:24.905Z"
   },
   {
    "duration": 4,
    "start_time": "2021-10-31T11:22:24.915Z"
   },
   {
    "duration": 9,
    "start_time": "2021-10-31T11:22:24.921Z"
   },
   {
    "duration": 6,
    "start_time": "2021-10-31T11:22:24.932Z"
   },
   {
    "duration": 9,
    "start_time": "2021-10-31T11:22:24.940Z"
   },
   {
    "duration": 20084,
    "start_time": "2021-10-31T11:22:24.950Z"
   },
   {
    "duration": 8813,
    "start_time": "2021-10-31T11:22:45.036Z"
   },
   {
    "duration": 141,
    "start_time": "2021-10-31T11:22:53.850Z"
   },
   {
    "duration": 99,
    "start_time": "2021-10-31T11:22:53.996Z"
   },
   {
    "duration": 4,
    "start_time": "2021-10-31T11:24:10.221Z"
   },
   {
    "duration": 4,
    "start_time": "2021-10-31T11:24:15.812Z"
   },
   {
    "duration": 5,
    "start_time": "2021-10-31T11:24:23.052Z"
   }
  ],
  "kernelspec": {
   "display_name": "Python 3 (ipykernel)",
   "language": "python",
   "name": "python3"
  },
  "language_info": {
   "codemirror_mode": {
    "name": "ipython",
    "version": 3
   },
   "file_extension": ".py",
   "mimetype": "text/x-python",
   "name": "python",
   "nbconvert_exporter": "python",
   "pygments_lexer": "ipython3",
   "version": "3.7.6"
  },
  "toc": {
   "base_numbering": 1,
   "nav_menu": {},
   "number_sections": true,
   "sideBar": true,
   "skip_h1_title": true,
   "title_cell": "Содержание",
   "title_sidebar": "Contents",
   "toc_cell": true,
   "toc_position": {},
   "toc_section_display": true,
   "toc_window_display": true
  }
 },
 "nbformat": 4,
 "nbformat_minor": 2
}
