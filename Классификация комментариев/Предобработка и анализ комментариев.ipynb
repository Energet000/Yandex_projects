{
 "cells": [
  {
   "cell_type": "markdown",
   "metadata": {
    "toc": true
   },
   "source": [
    "<h1>Содержание<span class=\"tocSkip\"></span></h1>\n",
    "<div class=\"toc\"><ul class=\"toc-item\"><li><span><a href=\"#Подготовка\" data-toc-modified-id=\"Подготовка-1\"><span class=\"toc-item-num\">1&nbsp;&nbsp;</span>Подготовка</a></span><ul class=\"toc-item\"><li><span><a href=\"#Знакомство-с-данными\" data-toc-modified-id=\"Знакомство-с-данными-1.1\"><span class=\"toc-item-num\">1.1&nbsp;&nbsp;</span>Знакомство с данными</a></span></li><li><span><a href=\"#Предобработка\" data-toc-modified-id=\"Предобработка-1.2\"><span class=\"toc-item-num\">1.2&nbsp;&nbsp;</span>Предобработка</a></span></li></ul></li><li><span><a href=\"#Обучение\" data-toc-modified-id=\"Обучение-2\"><span class=\"toc-item-num\">2&nbsp;&nbsp;</span>Обучение</a></span></li><li><span><a href=\"#Выводы\" data-toc-modified-id=\"Выводы-3\"><span class=\"toc-item-num\">3&nbsp;&nbsp;</span>Выводы</a></span></li><li><span><a href=\"#Чек-лист-проверки\" data-toc-modified-id=\"Чек-лист-проверки-4\"><span class=\"toc-item-num\">4&nbsp;&nbsp;</span>Чек-лист проверки</a></span></li></ul></div>"
   ]
  },
  {
   "cell_type": "markdown",
   "metadata": {},
   "source": [
    "# Проект для «Викишоп»"
   ]
  },
  {
   "cell_type": "markdown",
   "metadata": {},
   "source": [
    "Интернет-магазин «Викишоп» запускает новый сервис. Теперь пользователи могут редактировать и дополнять описания товаров, как в вики-сообществах. То есть клиенты предлагают свои правки и комментируют изменения других. Магазину нужен инструмент, который будет искать токсичные комментарии и отправлять их на модерацию. \n",
    "\n",
    "Обучите модель классифицировать комментарии на позитивные и негативные. В вашем распоряжении набор данных с разметкой о токсичности правок.\n",
    "\n",
    "Постройте модель со значением метрики качества *F1* не меньше 0.75. \n",
    "\n",
    "**Инструкция по выполнению проекта**\n",
    "\n",
    "1. Загрузите и подготовьте данные.\n",
    "2. Обучите разные модели. \n",
    "3. Сделайте выводы.\n",
    "\n",
    "Для выполнения проекта применять *BERT* необязательно, но вы можете попробовать.\n",
    "\n",
    "**Описание данных**\n",
    "\n",
    "Данные находятся в файле `toxic_comments.csv`. Столбец *text* в нём содержит текст комментария, а *toxic* — целевой признак."
   ]
  },
  {
   "cell_type": "markdown",
   "metadata": {},
   "source": [
    "## Подготовка"
   ]
  },
  {
   "cell_type": "code",
   "execution_count": 1,
   "metadata": {},
   "outputs": [
    {
     "name": "stdout",
     "output_type": "stream",
     "text": [
      "Defaulting to user installation because normal site-packages is not writeable\n",
      "Requirement already up-to-date: scikit-learn in /home/jovyan/.local/lib/python3.7/site-packages (1.0.1)\n",
      "Requirement already satisfied, skipping upgrade: numpy>=1.14.6 in /opt/conda/lib/python3.7/site-packages (from scikit-learn) (1.19.5)\n",
      "Requirement already satisfied, skipping upgrade: scipy>=1.1.0 in /opt/conda/lib/python3.7/site-packages (from scikit-learn) (1.4.1)\n",
      "Requirement already satisfied, skipping upgrade: joblib>=0.11 in /opt/conda/lib/python3.7/site-packages (from scikit-learn) (1.0.1)\n",
      "Requirement already satisfied, skipping upgrade: threadpoolctl>=2.0.0 in /home/jovyan/.local/lib/python3.7/site-packages (from scikit-learn) (3.0.0)\n"
     ]
    }
   ],
   "source": [
    "!pip install -U scikit-learn"
   ]
  },
  {
   "cell_type": "code",
   "execution_count": 2,
   "metadata": {},
   "outputs": [],
   "source": [
    "# Импорт библиотек\n",
    "import pandas as pd\n",
    "import numpy as np\n",
    "from sklearn.metrics import f1_score\n",
    "from sklearn.model_selection import train_test_split, GridSearchCV\n",
    "from sklearn.linear_model import LogisticRegression\n",
    "from sklearn.tree import DecisionTreeClassifier\n",
    "from sklearn.ensemble import RandomForestClassifier\n",
    "from lightgbm import LGBMClassifier\n",
    "from sklearn.dummy import DummyClassifier\n",
    "import torch\n",
    "import transformers\n",
    "from tqdm import tqdm\n",
    "from tqdm import notebook\n",
    "import json\n",
    "import nltk\n",
    "from sklearn.feature_extraction.text import TfidfVectorizer\n",
    "from nltk.corpus import stopwords as nltk_stopwords\n",
    "from pymystem3 import Mystem\n",
    "import re\n",
    "from sklearn import decomposition\n",
    "from sklearn.manifold import TSNE\n",
    "\n",
    "import warnings\n",
    "warnings.filterwarnings(\"ignore\")\n",
    "\n",
    "tqdm.pandas()"
   ]
  },
  {
   "cell_type": "markdown",
   "metadata": {},
   "source": [
    "### Знакомство с данными"
   ]
  },
  {
   "cell_type": "code",
   "execution_count": 3,
   "metadata": {},
   "outputs": [
    {
     "data": {
      "text/html": [
       "<div>\n",
       "<style scoped>\n",
       "    .dataframe tbody tr th:only-of-type {\n",
       "        vertical-align: middle;\n",
       "    }\n",
       "\n",
       "    .dataframe tbody tr th {\n",
       "        vertical-align: top;\n",
       "    }\n",
       "\n",
       "    .dataframe thead th {\n",
       "        text-align: right;\n",
       "    }\n",
       "</style>\n",
       "<table border=\"1\" class=\"dataframe\">\n",
       "  <thead>\n",
       "    <tr style=\"text-align: right;\">\n",
       "      <th></th>\n",
       "      <th>text</th>\n",
       "      <th>toxic</th>\n",
       "    </tr>\n",
       "  </thead>\n",
       "  <tbody>\n",
       "    <tr>\n",
       "      <td>0</td>\n",
       "      <td>Explanation\\nWhy the edits made under my usern...</td>\n",
       "      <td>0</td>\n",
       "    </tr>\n",
       "    <tr>\n",
       "      <td>1</td>\n",
       "      <td>D'aww! He matches this background colour I'm s...</td>\n",
       "      <td>0</td>\n",
       "    </tr>\n",
       "    <tr>\n",
       "      <td>2</td>\n",
       "      <td>Hey man, I'm really not trying to edit war. It...</td>\n",
       "      <td>0</td>\n",
       "    </tr>\n",
       "    <tr>\n",
       "      <td>3</td>\n",
       "      <td>\"\\nMore\\nI can't make any real suggestions on ...</td>\n",
       "      <td>0</td>\n",
       "    </tr>\n",
       "    <tr>\n",
       "      <td>4</td>\n",
       "      <td>You, sir, are my hero. Any chance you remember...</td>\n",
       "      <td>0</td>\n",
       "    </tr>\n",
       "  </tbody>\n",
       "</table>\n",
       "</div>"
      ],
      "text/plain": [
       "                                                text  toxic\n",
       "0  Explanation\\nWhy the edits made under my usern...      0\n",
       "1  D'aww! He matches this background colour I'm s...      0\n",
       "2  Hey man, I'm really not trying to edit war. It...      0\n",
       "3  \"\\nMore\\nI can't make any real suggestions on ...      0\n",
       "4  You, sir, are my hero. Any chance you remember...      0"
      ]
     },
     "metadata": {},
     "output_type": "display_data"
    },
    {
     "data": {
      "text/plain": [
       "(159571, 2)"
      ]
     },
     "execution_count": 3,
     "metadata": {},
     "output_type": "execute_result"
    }
   ],
   "source": [
    "# Познакомимся с данными\n",
    "df = pd.read_csv('/datasets/toxic_comments.csv')\n",
    "display(df.head())\n",
    "df.shape"
   ]
  },
  {
   "cell_type": "code",
   "execution_count": 4,
   "metadata": {},
   "outputs": [
    {
     "name": "stdout",
     "output_type": "stream",
     "text": [
      "text     0\n",
      "toxic    0\n",
      "dtype: int64\n",
      "0\n"
     ]
    }
   ],
   "source": [
    "# Проверим на пропуски и дубли\n",
    "print(df.isnull().sum())\n",
    "print(df.duplicated().sum())"
   ]
  },
  {
   "cell_type": "code",
   "execution_count": 5,
   "metadata": {},
   "outputs": [
    {
     "data": {
      "text/plain": [
       "0    143346\n",
       "1     16225\n",
       "Name: toxic, dtype: int64"
      ]
     },
     "execution_count": 5,
     "metadata": {},
     "output_type": "execute_result"
    }
   ],
   "source": [
    "# Посмотрим на балансы классов\n",
    "df['toxic'].value_counts()"
   ]
  },
  {
   "cell_type": "markdown",
   "metadata": {},
   "source": [
    "**Выводы:** Исходный датасет содержит 2 столбца: целевой признак toxic и тексты комментариев на английском языке. Значение целевого признака 0 соотвесвует нетоксичному кооментарию, а 1 - токсичному. Выборка содержит 159571 и является несбалансированной: позицивный комментариев больше"
   ]
  },
  {
   "cell_type": "markdown",
   "metadata": {},
   "source": [
    "### Предобработка"
   ]
  },
  {
   "cell_type": "code",
   "execution_count": 6,
   "metadata": {},
   "outputs": [],
   "source": [
    "# Напишем функции для лемматизации и очистки текста\n",
    "def lemmatize(text):\n",
    "    m = Mystem()\n",
    "    lemm_list = m.lemmatize(' '.join(text))\n",
    "    lemm_text = \"\".join(lemm_list)\n",
    "        \n",
    "    return lemm_text\n",
    "\n",
    "def clear_text(text):    \n",
    "    return ' '.join(re.sub(r'[^a-zA-Z`]', ' ', text).split())\n",
    "\n",
    "def filter_words(text,stopwords): \n",
    "    return ' '.join([w for w in text.split() if not w.lower() in stopwords])"
   ]
  },
  {
   "cell_type": "code",
   "execution_count": 7,
   "metadata": {
    "scrolled": true
   },
   "outputs": [
    {
     "name": "stderr",
     "output_type": "stream",
     "text": [
      "[nltk_data] Downloading package stopwords to /home/jovyan/nltk_data...\n",
      "[nltk_data]   Package stopwords is already up-to-date!\n",
      "100%|██████████| 159571/159571 [00:04<00:00, 38976.99it/s]\n",
      "100%|██████████| 159571/159571 [00:02<00:00, 63155.07it/s]\n"
     ]
    }
   ],
   "source": [
    "# Продем подготовку текста\n",
    "nltk.download('stopwords')\n",
    "stopwords = set(nltk_stopwords.words('english'))\n",
    "\n",
    "df_init = df.copy()\n",
    "df['text'] = df['text'].progress_apply(clear_text)\n",
    "df['text'] = df['text'].progress_apply(filter_words,stopwords=stopwords )\n",
    "# lemm_text = df['text'].progress_apply(lemmatize)"
   ]
  },
  {
   "cell_type": "code",
   "execution_count": 8,
   "metadata": {},
   "outputs": [
    {
     "name": "stdout",
     "output_type": "stream",
     "text": [
      "Размер словаря 148283\n"
     ]
    }
   ],
   "source": [
    "# Токенизируем тексты и созадим тренировочные и тестовые выборки\n",
    "features_train, features_test, target_train, target_test = train_test_split(\n",
    "        df['text'],df['toxic'], test_size=0.2, random_state=12345)\n",
    "\n",
    "tfidf = TfidfVectorizer(stop_words=stopwords, max_df=0.7)\n",
    "tfidf.fit(features_train)\n",
    "features_train = tfidf.transform(features_train)\n",
    "features_test = tfidf.transform(features_test)\n",
    "print(f\"Размер словаря {len(tfidf.vocabulary_)}\")"
   ]
  },
  {
   "cell_type": "markdown",
   "metadata": {},
   "source": [
    "## Обучение"
   ]
  },
  {
   "cell_type": "code",
   "execution_count": 9,
   "metadata": {},
   "outputs": [
    {
     "data": {
      "text/plain": [
       "LogisticRegression(class_weight='balanced')"
      ]
     },
     "execution_count": 9,
     "metadata": {},
     "output_type": "execute_result"
    }
   ],
   "source": [
    "# Обучим логистическую регрессию\n",
    "LR = LogisticRegression(class_weight='balanced')\n",
    "LR.fit(features_train, target_train)"
   ]
  },
  {
   "cell_type": "code",
   "execution_count": 10,
   "metadata": {
    "scrolled": false
   },
   "outputs": [
    {
     "name": "stdout",
     "output_type": "stream",
     "text": [
      "Fitting 3 folds for each of 5 candidates, totalling 15 fits\n",
      "[CV 1/3; 1/5] START max_depth=10................................................\n",
      "[CV 1/3; 1/5] END .................max_depth=10;, score=0.557 total time=  10.4s\n",
      "[CV 2/3; 1/5] START max_depth=10................................................\n",
      "[CV 2/3; 1/5] END .................max_depth=10;, score=0.543 total time=  10.3s\n",
      "[CV 3/3; 1/5] START max_depth=10................................................\n",
      "[CV 3/3; 1/5] END .................max_depth=10;, score=0.566 total time=  10.2s\n",
      "[CV 1/3; 2/5] START max_depth=20................................................\n",
      "[CV 1/3; 2/5] END .................max_depth=20;, score=0.602 total time=  17.9s\n",
      "[CV 2/3; 2/5] START max_depth=20................................................\n",
      "[CV 2/3; 2/5] END .................max_depth=20;, score=0.598 total time=  16.3s\n",
      "[CV 3/3; 2/5] START max_depth=20................................................\n",
      "[CV 3/3; 2/5] END .................max_depth=20;, score=0.613 total time=  16.2s\n",
      "[CV 1/3; 3/5] START max_depth=30................................................\n",
      "[CV 1/3; 3/5] END .................max_depth=30;, score=0.621 total time=  24.3s\n",
      "[CV 2/3; 3/5] START max_depth=30................................................\n",
      "[CV 2/3; 3/5] END .................max_depth=30;, score=0.620 total time=  22.5s\n",
      "[CV 3/3; 3/5] START max_depth=30................................................\n",
      "[CV 3/3; 3/5] END .................max_depth=30;, score=0.632 total time=  22.3s\n",
      "[CV 1/3; 4/5] START max_depth=40................................................\n",
      "[CV 1/3; 4/5] END .................max_depth=40;, score=0.597 total time=  29.3s\n",
      "[CV 2/3; 4/5] START max_depth=40................................................\n",
      "[CV 2/3; 4/5] END .................max_depth=40;, score=0.625 total time=  28.5s\n",
      "[CV 3/3; 4/5] START max_depth=40................................................\n",
      "[CV 3/3; 4/5] END .................max_depth=40;, score=0.651 total time=  29.1s\n",
      "[CV 1/3; 5/5] START max_depth=50................................................\n",
      "[CV 1/3; 5/5] END .................max_depth=50;, score=0.615 total time=  38.7s\n",
      "[CV 2/3; 5/5] START max_depth=50................................................\n",
      "[CV 2/3; 5/5] END .................max_depth=50;, score=0.636 total time=  35.2s\n",
      "[CV 3/3; 5/5] START max_depth=50................................................\n",
      "[CV 3/3; 5/5] END .................max_depth=50;, score=0.616 total time=  36.5s\n"
     ]
    },
    {
     "data": {
      "text/plain": [
       "{'max_depth': 40}"
      ]
     },
     "execution_count": 10,
     "metadata": {},
     "output_type": "execute_result"
    }
   ],
   "source": [
    "# Подберем параметры для дерева решений\n",
    "DTC = DecisionTreeClassifier(random_state=12345,class_weight='balanced')\n",
    "params = {'max_depth':list(range(10,51,10))}\n",
    "DTC = GridSearchCV(DTC, params, scoring='f1', cv=3, verbose=48, n_jobs=-1)\n",
    "DTC.fit(features_train, target_train)\n",
    "DTC.best_params_"
   ]
  },
  {
   "cell_type": "code",
   "execution_count": 11,
   "metadata": {
    "scrolled": true
   },
   "outputs": [
    {
     "name": "stdout",
     "output_type": "stream",
     "text": [
      "Fitting 3 folds for each of 9 candidates, totalling 27 fits\n",
      "[CV 1/3; 1/9] START max_depth=10, n_estimators=80...............................\n",
      "[CV 1/3; 1/9] END max_depth=10, n_estimators=80;, score=0.358 total time=  12.0s\n",
      "[CV 2/3; 1/9] START max_depth=10, n_estimators=80...............................\n",
      "[CV 2/3; 1/9] END max_depth=10, n_estimators=80;, score=0.372 total time=  12.1s\n",
      "[CV 3/3; 1/9] START max_depth=10, n_estimators=80...............................\n",
      "[CV 3/3; 1/9] END max_depth=10, n_estimators=80;, score=0.367 total time=  12.2s\n",
      "[CV 1/3; 2/9] START max_depth=10, n_estimators=100..............................\n",
      "[CV 1/3; 2/9] END max_depth=10, n_estimators=100;, score=0.360 total time=  15.2s\n",
      "[CV 2/3; 2/9] START max_depth=10, n_estimators=100..............................\n",
      "[CV 2/3; 2/9] END max_depth=10, n_estimators=100;, score=0.375 total time=  15.0s\n",
      "[CV 3/3; 2/9] START max_depth=10, n_estimators=100..............................\n",
      "[CV 3/3; 2/9] END max_depth=10, n_estimators=100;, score=0.367 total time=  15.0s\n",
      "[CV 1/3; 3/9] START max_depth=10, n_estimators=120..............................\n",
      "[CV 1/3; 3/9] END max_depth=10, n_estimators=120;, score=0.373 total time=  18.7s\n",
      "[CV 2/3; 3/9] START max_depth=10, n_estimators=120..............................\n",
      "[CV 2/3; 3/9] END max_depth=10, n_estimators=120;, score=0.375 total time=  17.9s\n",
      "[CV 3/3; 3/9] START max_depth=10, n_estimators=120..............................\n",
      "[CV 3/3; 3/9] END max_depth=10, n_estimators=120;, score=0.368 total time=  17.8s\n",
      "[CV 1/3; 4/9] START max_depth=30, n_estimators=80...............................\n",
      "[CV 1/3; 4/9] END max_depth=30, n_estimators=80;, score=0.410 total time=  41.6s\n",
      "[CV 2/3; 4/9] START max_depth=30, n_estimators=80...............................\n",
      "[CV 2/3; 4/9] END max_depth=30, n_estimators=80;, score=0.431 total time=  40.6s\n",
      "[CV 3/3; 4/9] START max_depth=30, n_estimators=80...............................\n",
      "[CV 3/3; 4/9] END max_depth=30, n_estimators=80;, score=0.427 total time=  39.9s\n",
      "[CV 1/3; 5/9] START max_depth=30, n_estimators=100..............................\n",
      "[CV 1/3; 5/9] END max_depth=30, n_estimators=100;, score=0.421 total time=  49.7s\n",
      "[CV 2/3; 5/9] START max_depth=30, n_estimators=100..............................\n",
      "[CV 2/3; 5/9] END max_depth=30, n_estimators=100;, score=0.429 total time=  50.3s\n",
      "[CV 3/3; 5/9] START max_depth=30, n_estimators=100..............................\n",
      "[CV 3/3; 5/9] END max_depth=30, n_estimators=100;, score=0.423 total time=  49.7s\n",
      "[CV 1/3; 6/9] START max_depth=30, n_estimators=120..............................\n",
      "[CV 1/3; 6/9] END max_depth=30, n_estimators=120;, score=0.430 total time=  59.7s\n",
      "[CV 2/3; 6/9] START max_depth=30, n_estimators=120..............................\n",
      "[CV 2/3; 6/9] END max_depth=30, n_estimators=120;, score=0.435 total time=  58.9s\n",
      "[CV 3/3; 6/9] START max_depth=30, n_estimators=120..............................\n",
      "[CV 3/3; 6/9] END max_depth=30, n_estimators=120;, score=0.429 total time=  58.7s\n",
      "[CV 1/3; 7/9] START max_depth=50, n_estimators=80...............................\n",
      "[CV 1/3; 7/9] END max_depth=50, n_estimators=80;, score=0.454 total time= 1.2min\n",
      "[CV 2/3; 7/9] START max_depth=50, n_estimators=80...............................\n",
      "[CV 2/3; 7/9] END max_depth=50, n_estimators=80;, score=0.473 total time= 1.2min\n",
      "[CV 3/3; 7/9] START max_depth=50, n_estimators=80...............................\n",
      "[CV 3/3; 7/9] END max_depth=50, n_estimators=80;, score=0.470 total time= 1.2min\n",
      "[CV 1/3; 8/9] START max_depth=50, n_estimators=100..............................\n",
      "[CV 1/3; 8/9] END max_depth=50, n_estimators=100;, score=0.460 total time= 1.6min\n",
      "[CV 2/3; 8/9] START max_depth=50, n_estimators=100..............................\n",
      "[CV 2/3; 8/9] END max_depth=50, n_estimators=100;, score=0.481 total time= 1.5min\n",
      "[CV 3/3; 8/9] START max_depth=50, n_estimators=100..............................\n",
      "[CV 3/3; 8/9] END max_depth=50, n_estimators=100;, score=0.470 total time= 1.6min\n",
      "[CV 1/3; 9/9] START max_depth=50, n_estimators=120..............................\n",
      "[CV 1/3; 9/9] END max_depth=50, n_estimators=120;, score=0.470 total time= 1.8min\n",
      "[CV 2/3; 9/9] START max_depth=50, n_estimators=120..............................\n",
      "[CV 2/3; 9/9] END max_depth=50, n_estimators=120;, score=0.484 total time= 1.8min\n",
      "[CV 3/3; 9/9] START max_depth=50, n_estimators=120..............................\n",
      "[CV 3/3; 9/9] END max_depth=50, n_estimators=120;, score=0.478 total time= 1.9min\n"
     ]
    },
    {
     "data": {
      "text/plain": [
       "{'max_depth': 50, 'n_estimators': 120}"
      ]
     },
     "execution_count": 11,
     "metadata": {},
     "output_type": "execute_result"
    }
   ],
   "source": [
    "# Подберем параметры для случайного леса\n",
    "RFC = RandomForestClassifier(random_state=12345,class_weight='balanced')\n",
    "params = {'max_depth':list(range(10,51,20)), \n",
    "         'n_estimators': list(range(80,121,20))}\n",
    "RFC = GridSearchCV(RFC, params, scoring='f1', cv=3, verbose=72, n_jobs=-1)\n",
    "RFC.fit(features_train, target_train)\n",
    "RFC.best_params_"
   ]
  },
  {
   "cell_type": "code",
   "execution_count": 12,
   "metadata": {
    "scrolled": true
   },
   "outputs": [
    {
     "name": "stdout",
     "output_type": "stream",
     "text": [
      "Fitting 2 folds for each of 6 candidates, totalling 12 fits\n",
      "[CV 1/2; 1/6] START max_depth=10, n_estimators=100..............................\n",
      "[CV 1/2; 1/6] END max_depth=10, n_estimators=100;, score=0.718 total time= 1.2min\n",
      "[CV 2/2; 1/6] START max_depth=10, n_estimators=100..............................\n",
      "[CV 2/2; 1/6] END max_depth=10, n_estimators=100;, score=0.719 total time= 1.1min\n",
      "[CV 1/2; 2/6] START max_depth=10, n_estimators=120..............................\n",
      "[CV 1/2; 2/6] END max_depth=10, n_estimators=120;, score=0.727 total time= 2.9min\n",
      "[CV 2/2; 2/6] START max_depth=10, n_estimators=120..............................\n",
      "[CV 2/2; 2/6] END max_depth=10, n_estimators=120;, score=0.726 total time= 1.5min\n",
      "[CV 1/2; 3/6] START max_depth=20, n_estimators=100..............................\n",
      "[CV 1/2; 3/6] END max_depth=20, n_estimators=100;, score=0.728 total time= 5.5min\n",
      "[CV 2/2; 3/6] START max_depth=20, n_estimators=100..............................\n",
      "[CV 2/2; 3/6] END max_depth=20, n_estimators=100;, score=0.732 total time= 9.9min\n",
      "[CV 1/2; 4/6] START max_depth=20, n_estimators=120..............................\n",
      "[CV 1/2; 4/6] END max_depth=20, n_estimators=120;, score=0.733 total time= 5.8min\n",
      "[CV 2/2; 4/6] START max_depth=20, n_estimators=120..............................\n",
      "[CV 2/2; 4/6] END max_depth=20, n_estimators=120;, score=0.735 total time= 8.2min\n",
      "[CV 1/2; 5/6] START max_depth=30, n_estimators=100..............................\n",
      "[CV 1/2; 5/6] END max_depth=30, n_estimators=100;, score=0.726 total time= 2.1min\n",
      "[CV 2/2; 5/6] START max_depth=30, n_estimators=100..............................\n",
      "[CV 2/2; 5/6] END max_depth=30, n_estimators=100;, score=0.727 total time= 1.8min\n",
      "[CV 1/2; 6/6] START max_depth=30, n_estimators=120..............................\n",
      "[CV 1/2; 6/6] END max_depth=30, n_estimators=120;, score=0.731 total time= 2.2min\n",
      "[CV 2/2; 6/6] START max_depth=30, n_estimators=120..............................\n",
      "[CV 2/2; 6/6] END max_depth=30, n_estimators=120;, score=0.731 total time= 2.3min\n"
     ]
    },
    {
     "data": {
      "text/plain": [
       "{'max_depth': 20, 'n_estimators': 120}"
      ]
     },
     "execution_count": 12,
     "metadata": {},
     "output_type": "execute_result"
    }
   ],
   "source": [
    "# Подберем параметры для градиентного бустинга\n",
    "LGBM = LGBMClassifier(random_state=12345,class_weight='balanced')\n",
    "params = {'max_depth':list(range(10,31,10)), \n",
    "         'n_estimators': list(range(100,121,20))}\n",
    "LGBM = GridSearchCV(LGBM, params, scoring='f1', cv=2, verbose=48, n_jobs=-1)\n",
    "LGBM.fit(features_train, target_train)\n",
    "LGBM.best_params_"
   ]
  },
  {
   "cell_type": "code",
   "execution_count": 13,
   "metadata": {
    "scrolled": true
   },
   "outputs": [
    {
     "data": {
      "text/plain": [
       "DummyClassifier(strategy='stratified')"
      ]
     },
     "execution_count": 13,
     "metadata": {},
     "output_type": "execute_result"
    }
   ],
   "source": [
    "# Обучим модель-болванку\n",
    "DC = DummyClassifier(strategy='stratified')\n",
    "DC.fit(features_train, target_train)"
   ]
  },
  {
   "cell_type": "code",
   "execution_count": 14,
   "metadata": {
    "scrolled": true
   },
   "outputs": [
    {
     "data": {
      "text/html": [
       "<div>\n",
       "<style scoped>\n",
       "    .dataframe tbody tr th:only-of-type {\n",
       "        vertical-align: middle;\n",
       "    }\n",
       "\n",
       "    .dataframe tbody tr th {\n",
       "        vertical-align: top;\n",
       "    }\n",
       "\n",
       "    .dataframe thead th {\n",
       "        text-align: right;\n",
       "    }\n",
       "</style>\n",
       "<table border=\"1\" class=\"dataframe\">\n",
       "  <thead>\n",
       "    <tr style=\"text-align: right;\">\n",
       "      <th></th>\n",
       "      <th>Линейная регрессия</th>\n",
       "      <th>Дерево решений</th>\n",
       "      <th>Случайный лес</th>\n",
       "      <th>Градиентный бустинг</th>\n",
       "      <th>Dummy модель</th>\n",
       "    </tr>\n",
       "  </thead>\n",
       "  <tbody>\n",
       "    <tr>\n",
       "      <td>F1 на тренировочной выборке</td>\n",
       "      <td>0.841834</td>\n",
       "      <td>0.759848</td>\n",
       "      <td>0.568262</td>\n",
       "      <td>0.776135</td>\n",
       "      <td>0.104965</td>\n",
       "    </tr>\n",
       "    <tr>\n",
       "      <td>F1 на тестовой выборке</td>\n",
       "      <td>0.755283</td>\n",
       "      <td>0.627735</td>\n",
       "      <td>0.476271</td>\n",
       "      <td>0.730095</td>\n",
       "      <td>0.098904</td>\n",
       "    </tr>\n",
       "  </tbody>\n",
       "</table>\n",
       "</div>"
      ],
      "text/plain": [
       "                             Линейная регрессия  Дерево решений  \\\n",
       "F1 на тренировочной выборке            0.841834        0.759848   \n",
       "F1 на тестовой выборке                 0.755283        0.627735   \n",
       "\n",
       "                             Случайный лес  Градиентный бустинг  Dummy модель  \n",
       "F1 на тренировочной выборке       0.568262             0.776135      0.104965  \n",
       "F1 на тестовой выборке            0.476271             0.730095      0.098904  "
      ]
     },
     "metadata": {},
     "output_type": "display_data"
    }
   ],
   "source": [
    "# Создадим списки, содержащие значения метрики\n",
    "models = [LR, DTC, RFC, LGBM, DC]\n",
    "train_f1 = []\n",
    "test_f1 = []\n",
    "# Обучим модели и оценим качество предсказаний\n",
    "for model in models:    \n",
    "    pred_test = model.predict(features_test)\n",
    "    pred_train = model.predict(features_train)\n",
    "    train_f1.append(f1_score(target_train, pred_train))\n",
    "    test_f1.append(f1_score(target_test, pred_test))\n",
    "    \n",
    "# Создадим датафрейм с результатами\n",
    "results = pd.DataFrame(\n",
    "    [train_f1,test_f1], \n",
    "    columns=['Линейная регрессия', \"Дерево решений\", \"Случайный лес\", \"Градиентный бустинг\", 'Dummy модель'], \n",
    "    index=['F1 на тренировочной выборке','F1 на тестовой выборке' ])\n",
    "display(results.head())"
   ]
  },
  {
   "cell_type": "markdown",
   "metadata": {},
   "source": [
    "## Выводы"
   ]
  },
  {
   "cell_type": "markdown",
   "metadata": {},
   "source": [
    "В рамках данного проекта была разработана модель, предсказывающая токсичность комментариев. Исходный датасет был несбалансированным, токсичных комментариев было меньше.\n",
    "\n",
    "По итогу проекта были получены следующие результаты:\n",
    "- Тексты комментариев были обработынны и очишены от лишних символов и частых слов\n",
    "- Было обучено 4 модели и подобраны оптимальные гиперпараметры. Все 4 модели превзошли модель-болванку, но только 1 смогла побить требуемое значение метрики\n",
    "- Лучшим результатом обладала логистическая регрессия со значением F1=0,76, затем идет градиентный бустинг со значением 0,73 и дерево решений с 0,63, замыкает список случайный лес с 0,48\n",
    "\n",
    "Исходя из полученнх результатов, модель логистической регрессии предсказывает значением целевого признака с требуемой точностью и ее можно использовать для определения токсичных комментариев."
   ]
  },
  {
   "cell_type": "code",
   "execution_count": null,
   "metadata": {},
   "outputs": [],
   "source": []
  }
 ],
 "metadata": {
  "ExecuteTimeLog": [
   {
    "duration": 4622,
    "start_time": "2021-12-15T17:42:50.203Z"
   },
   {
    "duration": 3317,
    "start_time": "2021-12-15T17:42:54.827Z"
   },
   {
    "duration": 9,
    "start_time": "2021-12-15T17:42:58.147Z"
   },
   {
    "duration": 301,
    "start_time": "2021-12-15T19:37:37.185Z"
   },
   {
    "duration": 2649,
    "start_time": "2021-12-15T19:37:34.839Z"
   },
   {
    "duration": 4336,
    "start_time": "2021-12-15T19:37:40.149Z"
   },
   {
    "duration": 3175,
    "start_time": "2021-12-15T19:37:44.487Z"
   },
   {
    "duration": 6,
    "start_time": "2021-12-15T19:37:47.664Z"
   },
   {
    "duration": 27,
    "start_time": "2021-12-15T19:37:47.672Z"
   },
   {
    "duration": 6,
    "start_time": "2021-12-15T19:37:57.047Z"
   },
   {
    "duration": 5,
    "start_time": "2021-12-15T19:38:07.235Z"
   },
   {
    "duration": 6,
    "start_time": "2021-12-15T19:38:17.936Z"
   },
   {
    "duration": 158,
    "start_time": "2021-12-15T19:38:39.022Z"
   },
   {
    "duration": 5227,
    "start_time": "2021-12-15T19:42:02.536Z"
   },
   {
    "duration": 659,
    "start_time": "2021-12-15T19:42:07.765Z"
   },
   {
    "duration": 20,
    "start_time": "2021-12-15T19:42:08.427Z"
   },
   {
    "duration": 1006,
    "start_time": "2021-12-15T19:42:08.449Z"
   },
   {
    "duration": 2652,
    "start_time": "2021-12-15T19:42:06.806Z"
   },
   {
    "duration": 324,
    "start_time": "2021-12-15T19:42:27.331Z"
   },
   {
    "duration": 16342,
    "start_time": "2021-12-15T19:42:37.499Z"
   },
   {
    "duration": 270,
    "start_time": "2021-12-15T19:42:53.842Z"
   },
   {
    "duration": 17470,
    "start_time": "2021-12-15T19:43:07.203Z"
   },
   {
    "duration": 17397,
    "start_time": "2021-12-15T19:43:37.427Z"
   },
   {
    "duration": 569438,
    "start_time": "2021-12-15T19:43:57.041Z"
   },
   {
    "duration": 5,
    "start_time": "2021-12-15T19:54:56.409Z"
   },
   {
    "duration": 4,
    "start_time": "2021-12-15T19:55:06.386Z"
   },
   {
    "duration": 4,
    "start_time": "2021-12-15T19:55:10.812Z"
   },
   {
    "duration": 23,
    "start_time": "2021-12-15T19:55:33.485Z"
   },
   {
    "duration": 270,
    "start_time": "2021-12-15T19:57:47.420Z"
   },
   {
    "duration": 4,
    "start_time": "2021-12-15T19:58:06.727Z"
   },
   {
    "duration": 27253,
    "start_time": "2021-12-15T19:58:10.341Z"
   },
   {
    "duration": 18768,
    "start_time": "2021-12-15T19:58:46.040Z"
   },
   {
    "duration": 582372,
    "start_time": "2021-12-15T19:59:07.403Z"
   },
   {
    "duration": 29,
    "start_time": "2021-12-15T20:08:49.776Z"
   },
   {
    "duration": 809715,
    "start_time": "2021-12-15T20:10:14.473Z"
   },
   {
    "duration": 2657,
    "start_time": "2021-12-15T20:23:41.533Z"
   },
   {
    "duration": 7272,
    "start_time": "2021-12-16T16:45:24.280Z"
   },
   {
    "duration": 787,
    "start_time": "2021-12-16T16:45:31.555Z"
   },
   {
    "duration": 8,
    "start_time": "2021-12-16T16:45:32.345Z"
   },
   {
    "duration": 42,
    "start_time": "2021-12-16T16:45:32.355Z"
   },
   {
    "duration": 1116,
    "start_time": "2021-12-16T16:45:32.399Z"
   },
   {
    "duration": 2409,
    "start_time": "2021-12-16T16:45:31.108Z"
   },
   {
    "duration": 12,
    "start_time": "2021-12-16T16:45:51.223Z"
   },
   {
    "duration": 6,
    "start_time": "2021-12-16T16:45:53.717Z"
   },
   {
    "duration": 700,
    "start_time": "2021-12-16T16:45:53.868Z"
   },
   {
    "duration": 564,
    "start_time": "2021-12-16T16:46:12.449Z"
   },
   {
    "duration": 8,
    "start_time": "2021-12-16T16:46:20.088Z"
   },
   {
    "duration": 607049,
    "start_time": "2021-12-16T16:46:56.649Z"
   },
   {
    "duration": 2359,
    "start_time": "2021-12-16T16:57:01.342Z"
   },
   {
    "duration": 792,
    "start_time": "2021-12-16T16:57:17.110Z"
   },
   {
    "duration": 11,
    "start_time": "2021-12-16T16:57:19.806Z"
   },
   {
    "duration": 5,
    "start_time": "2021-12-16T16:57:21.991Z"
   },
   {
    "duration": 281639,
    "start_time": "2021-12-16T16:57:22.250Z"
   },
   {
    "duration": 2389,
    "start_time": "2021-12-16T17:02:01.503Z"
   },
   {
    "duration": 93,
    "start_time": "2021-12-16T17:02:17.632Z"
   },
   {
    "duration": 6,
    "start_time": "2021-12-16T17:02:21.110Z"
   },
   {
    "duration": 8,
    "start_time": "2021-12-16T17:02:30.006Z"
   },
   {
    "duration": 279,
    "start_time": "2021-12-16T17:03:22.540Z"
   },
   {
    "duration": 175264,
    "start_time": "2021-12-16T17:03:44.844Z"
   },
   {
    "duration": 809,
    "start_time": "2021-12-16T17:06:44.090Z"
   },
   {
    "duration": 5,
    "start_time": "2021-12-16T17:06:50.586Z"
   },
   {
    "duration": 52697,
    "start_time": "2021-12-16T17:06:51.058Z"
   },
   {
    "duration": 10,
    "start_time": "2021-12-16T17:07:49.554Z"
   },
   {
    "duration": 736,
    "start_time": "2021-12-16T17:08:46.034Z"
   },
   {
    "duration": 10,
    "start_time": "2021-12-16T17:08:47.866Z"
   },
   {
    "duration": 5,
    "start_time": "2021-12-16T17:08:50.920Z"
   },
   {
    "duration": 3,
    "start_time": "2021-12-16T17:08:51.412Z"
   },
   {
    "duration": 18,
    "start_time": "2021-12-16T17:08:53.170Z"
   },
   {
    "duration": 20089,
    "start_time": "2021-12-16T17:08:53.776Z"
   },
   {
    "duration": 13828,
    "start_time": "2021-12-16T17:09:59.396Z"
   },
   {
    "duration": 7,
    "start_time": "2021-12-16T17:10:31.802Z"
   },
   {
    "duration": 6664,
    "start_time": "2021-12-16T17:11:57.130Z"
   },
   {
    "duration": 834,
    "start_time": "2021-12-16T17:12:03.797Z"
   },
   {
    "duration": 8,
    "start_time": "2021-12-16T17:12:04.635Z"
   },
   {
    "duration": 5,
    "start_time": "2021-12-16T17:12:04.646Z"
   },
   {
    "duration": 14,
    "start_time": "2021-12-16T17:12:04.654Z"
   },
   {
    "duration": 36,
    "start_time": "2021-12-16T17:12:04.670Z"
   },
   {
    "duration": 20830,
    "start_time": "2021-12-16T17:12:04.709Z"
   },
   {
    "duration": 3,
    "start_time": "2021-12-16T17:12:25.542Z"
   },
   {
    "duration": 471005,
    "start_time": "2021-12-16T17:12:25.549Z"
   },
   {
    "duration": 44,
    "start_time": "2021-12-16T17:20:16.557Z"
   },
   {
    "duration": 20750,
    "start_time": "2021-12-16T17:20:16.603Z"
   },
   {
    "duration": 2201,
    "start_time": "2021-12-16T17:20:35.156Z"
   },
   {
    "duration": 2202,
    "start_time": "2021-12-16T17:20:35.157Z"
   },
   {
    "duration": 2204,
    "start_time": "2021-12-16T17:20:35.158Z"
   },
   {
    "duration": 143482,
    "start_time": "2021-12-16T17:21:20.737Z"
   },
   {
    "duration": 2250,
    "start_time": "2021-12-16T17:23:41.972Z"
   },
   {
    "duration": 2251,
    "start_time": "2021-12-16T17:23:41.973Z"
   },
   {
    "duration": 2240,
    "start_time": "2021-12-16T17:23:41.985Z"
   },
   {
    "duration": 890723,
    "start_time": "2021-12-16T17:23:53.161Z"
   },
   {
    "duration": 1006,
    "start_time": "2021-12-16T17:38:43.887Z"
   },
   {
    "duration": 12962,
    "start_time": "2021-12-16T17:38:44.896Z"
   },
   {
    "duration": 2101,
    "start_time": "2021-12-16T17:38:55.760Z"
   },
   {
    "duration": 1896559,
    "start_time": "2021-12-16T17:39:34.062Z"
   },
   {
    "duration": 2180,
    "start_time": "2021-12-16T18:11:08.445Z"
   },
   {
    "duration": 2170,
    "start_time": "2021-12-16T18:11:08.458Z"
   },
   {
    "duration": 2171,
    "start_time": "2021-12-16T18:11:08.459Z"
   },
   {
    "duration": 2160,
    "start_time": "2021-12-16T18:11:08.473Z"
   },
   {
    "duration": 6928,
    "start_time": "2021-12-16T18:11:30.507Z"
   },
   {
    "duration": 878,
    "start_time": "2021-12-16T18:11:37.438Z"
   },
   {
    "duration": 10,
    "start_time": "2021-12-16T18:11:38.323Z"
   },
   {
    "duration": 15,
    "start_time": "2021-12-16T18:11:38.337Z"
   },
   {
    "duration": 6684,
    "start_time": "2021-12-16T18:11:38.354Z"
   },
   {
    "duration": 20103,
    "start_time": "2021-12-16T18:11:45.040Z"
   },
   {
    "duration": 14540,
    "start_time": "2021-12-16T18:12:05.146Z"
   },
   {
    "duration": 5344,
    "start_time": "2021-12-16T18:12:47.470Z"
   },
   {
    "duration": 759,
    "start_time": "2021-12-16T18:12:52.817Z"
   },
   {
    "duration": 11,
    "start_time": "2021-12-16T18:12:53.583Z"
   },
   {
    "duration": 4,
    "start_time": "2021-12-16T18:12:53.625Z"
   },
   {
    "duration": 6079,
    "start_time": "2021-12-16T18:12:53.632Z"
   },
   {
    "duration": 3458,
    "start_time": "2021-12-16T18:12:59.713Z"
   },
   {
    "duration": 2426,
    "start_time": "2021-12-16T18:13:00.749Z"
   },
   {
    "duration": 2427,
    "start_time": "2021-12-16T18:13:00.750Z"
   },
   {
    "duration": 2427,
    "start_time": "2021-12-16T18:13:00.752Z"
   },
   {
    "duration": 2424,
    "start_time": "2021-12-16T18:13:00.756Z"
   },
   {
    "duration": 2405,
    "start_time": "2021-12-16T18:13:00.777Z"
   },
   {
    "duration": 2405,
    "start_time": "2021-12-16T18:13:00.779Z"
   },
   {
    "duration": 2405,
    "start_time": "2021-12-16T18:13:00.780Z"
   },
   {
    "duration": 2395,
    "start_time": "2021-12-16T18:13:00.792Z"
   },
   {
    "duration": 2395,
    "start_time": "2021-12-16T18:13:00.794Z"
   },
   {
    "duration": 2395,
    "start_time": "2021-12-16T18:13:00.795Z"
   },
   {
    "duration": 2387,
    "start_time": "2021-12-16T18:13:00.805Z"
   },
   {
    "duration": 5597,
    "start_time": "2021-12-16T18:13:17.657Z"
   },
   {
    "duration": 752,
    "start_time": "2021-12-16T18:13:23.257Z"
   },
   {
    "duration": 13,
    "start_time": "2021-12-16T18:13:24.013Z"
   },
   {
    "duration": 5,
    "start_time": "2021-12-16T18:13:24.029Z"
   },
   {
    "duration": 7358,
    "start_time": "2021-12-16T18:13:24.036Z"
   },
   {
    "duration": 18813,
    "start_time": "2021-12-16T18:13:31.397Z"
   },
   {
    "duration": 14369,
    "start_time": "2021-12-16T18:13:50.212Z"
   },
   {
    "duration": 21,
    "start_time": "2021-12-16T18:14:04.583Z"
   },
   {
    "duration": 452117,
    "start_time": "2021-12-16T18:14:04.625Z"
   },
   {
    "duration": 40,
    "start_time": "2021-12-16T18:21:36.745Z"
   },
   {
    "duration": 822075,
    "start_time": "2021-12-16T18:21:36.787Z"
   },
   {
    "duration": 648,
    "start_time": "2021-12-16T18:35:18.865Z"
   },
   {
    "duration": 3684565,
    "start_time": "2021-12-16T18:35:19.515Z"
   },
   {
    "duration": 2141,
    "start_time": "2021-12-16T19:36:44.083Z"
   },
   {
    "duration": 11,
    "start_time": "2021-12-16T19:36:46.227Z"
   },
   {
    "duration": 14408,
    "start_time": "2021-12-16T19:36:46.240Z"
   },
   {
    "duration": 582743,
    "start_time": "2021-12-16T19:37:00.651Z"
   },
   {
    "duration": 9016,
    "start_time": "2021-12-16T19:50:32.471Z"
   },
   {
    "duration": 12,
    "start_time": "2021-12-16T19:50:48.097Z"
   },
   {
    "duration": 6,
    "start_time": "2021-12-16T19:51:08.203Z"
   },
   {
    "duration": 1313,
    "start_time": "2021-12-16T19:51:08.212Z"
   },
   {
    "duration": 8,
    "start_time": "2021-12-16T19:51:09.528Z"
   },
   {
    "duration": 22,
    "start_time": "2021-12-16T19:51:09.539Z"
   },
   {
    "duration": 6187,
    "start_time": "2021-12-16T19:51:09.563Z"
   },
   {
    "duration": 12,
    "start_time": "2021-12-16T19:51:15.753Z"
   },
   {
    "duration": 18938,
    "start_time": "2021-12-16T19:51:15.768Z"
   },
   {
    "duration": 19,
    "start_time": "2021-12-16T19:51:34.709Z"
   },
   {
    "duration": 4,
    "start_time": "2021-12-16T19:51:54.559Z"
   },
   {
    "duration": 14,
    "start_time": "2021-12-16T19:52:10.197Z"
   },
   {
    "duration": 678,
    "start_time": "2021-12-16T19:52:52.004Z"
   },
   {
    "duration": 30,
    "start_time": "2021-12-16T19:53:00.873Z"
   },
   {
    "duration": 275,
    "start_time": "2021-12-16T19:53:09.213Z"
   },
   {
    "duration": 253,
    "start_time": "2021-12-16T19:53:36.132Z"
   },
   {
    "duration": 245,
    "start_time": "2021-12-16T19:53:40.793Z"
   },
   {
    "duration": 260,
    "start_time": "2021-12-16T19:53:50.870Z"
   },
   {
    "duration": 257,
    "start_time": "2021-12-16T19:54:04.700Z"
   },
   {
    "duration": 695,
    "start_time": "2021-12-16T19:54:49.931Z"
   },
   {
    "duration": 5,
    "start_time": "2021-12-16T19:54:54.143Z"
   },
   {
    "duration": 12,
    "start_time": "2021-12-16T19:54:54.464Z"
   },
   {
    "duration": 5987,
    "start_time": "2021-12-16T19:54:55.267Z"
   },
   {
    "duration": 13,
    "start_time": "2021-12-16T19:55:01.257Z"
   },
   {
    "duration": 5483,
    "start_time": "2021-12-16T19:55:22.296Z"
   },
   {
    "duration": 30,
    "start_time": "2021-12-16T19:55:27.783Z"
   },
   {
    "duration": 18322,
    "start_time": "2021-12-16T19:55:43.167Z"
   },
   {
    "duration": 7,
    "start_time": "2021-12-16T19:56:01.492Z"
   },
   {
    "duration": 632300,
    "start_time": "2021-12-16T19:56:01.502Z"
   },
   {
    "duration": 58,
    "start_time": "2021-12-16T20:17:04.852Z"
   },
   {
    "duration": 5,
    "start_time": "2021-12-16T20:17:11.629Z"
   },
   {
    "duration": 387,
    "start_time": "2021-12-16T20:19:33.230Z"
   },
   {
    "duration": 327,
    "start_time": "2021-12-16T20:19:48.960Z"
   },
   {
    "duration": 320,
    "start_time": "2021-12-16T20:20:04.867Z"
   },
   {
    "duration": 100,
    "start_time": "2021-12-16T20:20:12.184Z"
   },
   {
    "duration": 332,
    "start_time": "2021-12-16T20:20:14.628Z"
   },
   {
    "duration": 385,
    "start_time": "2021-12-16T20:20:25.270Z"
   },
   {
    "duration": 353,
    "start_time": "2021-12-16T20:20:34.185Z"
   },
   {
    "duration": 359,
    "start_time": "2021-12-16T20:20:58.842Z"
   },
   {
    "duration": 309,
    "start_time": "2021-12-16T20:21:53.260Z"
   },
   {
    "duration": 324,
    "start_time": "2021-12-16T20:22:25.987Z"
   },
   {
    "duration": 313,
    "start_time": "2021-12-16T20:22:47.653Z"
   },
   {
    "duration": 394,
    "start_time": "2021-12-16T20:23:42.800Z"
   },
   {
    "duration": 7995,
    "start_time": "2021-12-16T20:24:12.412Z"
   },
   {
    "duration": 12,
    "start_time": "2021-12-16T20:24:25.743Z"
   },
   {
    "duration": 734,
    "start_time": "2021-12-16T20:24:32.184Z"
   },
   {
    "duration": 5,
    "start_time": "2021-12-16T20:24:35.607Z"
   },
   {
    "duration": 12,
    "start_time": "2021-12-16T20:24:35.877Z"
   },
   {
    "duration": 72760,
    "start_time": "2021-12-16T20:24:36.422Z"
   },
   {
    "duration": 8,
    "start_time": "2021-12-16T20:26:22.179Z"
   },
   {
    "duration": 5,
    "start_time": "2021-12-16T20:26:32.840Z"
   },
   {
    "duration": 4990,
    "start_time": "2021-12-17T16:20:49.188Z"
   },
   {
    "duration": 3471,
    "start_time": "2021-12-17T16:20:54.180Z"
   },
   {
    "duration": 258,
    "start_time": "2021-12-17T16:20:57.653Z"
   },
   {
    "duration": 6,
    "start_time": "2021-12-17T16:20:57.913Z"
   },
   {
    "duration": 3,
    "start_time": "2021-12-17T16:20:57.921Z"
   },
   {
    "duration": 4370,
    "start_time": "2021-12-17T16:20:58.539Z"
   },
   {
    "duration": 986,
    "start_time": "2021-12-17T16:24:36.659Z"
   },
   {
    "duration": 3,
    "start_time": "2021-12-17T16:24:40.395Z"
   },
   {
    "duration": 9485,
    "start_time": "2021-12-17T16:24:47.016Z"
   },
   {
    "duration": 4006,
    "start_time": "2021-12-17T16:25:44.449Z"
   },
   {
    "duration": 634,
    "start_time": "2021-12-17T16:26:09.216Z"
   },
   {
    "duration": 4709,
    "start_time": "2021-12-17T16:26:10.932Z"
   },
   {
    "duration": 9923,
    "start_time": "2021-12-17T16:26:15.642Z"
   },
   {
    "duration": 3,
    "start_time": "2021-12-17T16:26:36.614Z"
   },
   {
    "duration": 9944,
    "start_time": "2021-12-17T16:26:36.965Z"
   },
   {
    "duration": 7,
    "start_time": "2021-12-17T16:26:46.911Z"
   },
   {
    "duration": 9881,
    "start_time": "2021-12-17T16:27:19.518Z"
   },
   {
    "duration": 695,
    "start_time": "2021-12-17T16:27:40.621Z"
   },
   {
    "duration": 4553,
    "start_time": "2021-12-17T16:27:42.911Z"
   },
   {
    "duration": 6,
    "start_time": "2021-12-17T16:27:47.466Z"
   },
   {
    "duration": 4,
    "start_time": "2021-12-17T16:27:47.474Z"
   },
   {
    "duration": 9884,
    "start_time": "2021-12-17T16:27:47.480Z"
   },
   {
    "duration": 8,
    "start_time": "2021-12-17T16:27:57.366Z"
   },
   {
    "duration": 636,
    "start_time": "2021-12-17T16:28:58.308Z"
   },
   {
    "duration": 4,
    "start_time": "2021-12-17T16:29:01.491Z"
   },
   {
    "duration": 4543,
    "start_time": "2021-12-17T16:29:01.695Z"
   },
   {
    "duration": 6,
    "start_time": "2021-12-17T16:29:06.240Z"
   },
   {
    "duration": 3,
    "start_time": "2021-12-17T16:29:06.264Z"
   },
   {
    "duration": 1127,
    "start_time": "2021-12-17T16:29:06.269Z"
   },
   {
    "duration": 2751,
    "start_time": "2021-12-17T16:29:04.647Z"
   },
   {
    "duration": 7,
    "start_time": "2021-12-17T16:29:23.307Z"
   },
   {
    "duration": 5,
    "start_time": "2021-12-17T16:29:25.866Z"
   },
   {
    "duration": 5,
    "start_time": "2021-12-17T16:29:31.263Z"
   },
   {
    "duration": 653,
    "start_time": "2021-12-17T16:29:53.802Z"
   },
   {
    "duration": 4857,
    "start_time": "2021-12-17T16:29:56.917Z"
   },
   {
    "duration": 9,
    "start_time": "2021-12-17T16:30:01.776Z"
   },
   {
    "duration": 7,
    "start_time": "2021-12-17T16:30:03.191Z"
   },
   {
    "duration": 4,
    "start_time": "2021-12-17T16:30:05.270Z"
   },
   {
    "duration": 3681,
    "start_time": "2021-12-17T16:30:05.471Z"
   },
   {
    "duration": 13,
    "start_time": "2021-12-17T16:30:09.154Z"
   },
   {
    "duration": 4,
    "start_time": "2021-12-17T16:31:19.611Z"
   },
   {
    "duration": 1134,
    "start_time": "2021-12-17T16:31:19.910Z"
   },
   {
    "duration": 1178,
    "start_time": "2021-12-17T16:31:26.532Z"
   },
   {
    "duration": 706,
    "start_time": "2021-12-17T16:31:57.863Z"
   },
   {
    "duration": 4,
    "start_time": "2021-12-17T16:31:59.505Z"
   },
   {
    "duration": 5412,
    "start_time": "2021-12-17T16:31:59.785Z"
   },
   {
    "duration": 5,
    "start_time": "2021-12-17T16:32:07.056Z"
   },
   {
    "duration": 8977,
    "start_time": "2021-12-17T16:32:07.301Z"
   },
   {
    "duration": 8,
    "start_time": "2021-12-17T16:32:22.149Z"
   },
   {
    "duration": 4,
    "start_time": "2021-12-17T16:32:51.059Z"
   },
   {
    "duration": 1158,
    "start_time": "2021-12-17T16:32:51.414Z"
   },
   {
    "duration": 604,
    "start_time": "2021-12-17T16:32:59.040Z"
   },
   {
    "duration": 7476,
    "start_time": "2021-12-17T16:33:06.072Z"
   },
   {
    "duration": 9,
    "start_time": "2021-12-17T16:33:18.395Z"
   },
   {
    "duration": 1188,
    "start_time": "2021-12-17T16:33:40.152Z"
   },
   {
    "duration": 2749,
    "start_time": "2021-12-17T16:33:38.594Z"
   },
   {
    "duration": 679,
    "start_time": "2021-12-17T16:33:46.038Z"
   },
   {
    "duration": 10094,
    "start_time": "2021-12-17T16:33:48.328Z"
   },
   {
    "duration": 2751,
    "start_time": "2021-12-17T16:33:55.673Z"
   },
   {
    "duration": 4,
    "start_time": "2021-12-17T16:35:26.970Z"
   },
   {
    "duration": 1139,
    "start_time": "2021-12-17T16:35:28.226Z"
   },
   {
    "duration": 2758,
    "start_time": "2021-12-17T16:35:26.609Z"
   },
   {
    "duration": 581,
    "start_time": "2021-12-17T16:35:34.127Z"
   },
   {
    "duration": 5,
    "start_time": "2021-12-17T16:35:36.575Z"
   },
   {
    "duration": 26902,
    "start_time": "2021-12-17T16:35:36.807Z"
   },
   {
    "duration": 2752,
    "start_time": "2021-12-17T16:36:00.960Z"
   },
   {
    "duration": 1425,
    "start_time": "2021-12-17T16:36:33.792Z"
   },
   {
    "duration": 610,
    "start_time": "2021-12-17T16:36:37.718Z"
   },
   {
    "duration": 5,
    "start_time": "2021-12-17T16:36:39.748Z"
   },
   {
    "duration": 9064,
    "start_time": "2021-12-17T16:36:39.884Z"
   },
   {
    "duration": 7,
    "start_time": "2021-12-17T16:37:04.083Z"
   },
   {
    "duration": 277,
    "start_time": "2021-12-17T16:37:24.015Z"
   },
   {
    "duration": 6,
    "start_time": "2021-12-17T16:37:48.303Z"
   },
   {
    "duration": 688,
    "start_time": "2021-12-17T16:38:12.192Z"
   },
   {
    "duration": 4,
    "start_time": "2021-12-17T16:38:14.761Z"
   },
   {
    "duration": 6856,
    "start_time": "2021-12-17T16:38:15.078Z"
   },
   {
    "duration": 7,
    "start_time": "2021-12-17T16:38:21.937Z"
   },
   {
    "duration": 9427,
    "start_time": "2021-12-17T16:38:21.946Z"
   },
   {
    "duration": 4,
    "start_time": "2021-12-17T16:38:31.375Z"
   },
   {
    "duration": 235,
    "start_time": "2021-12-17T16:38:38.519Z"
   },
   {
    "duration": 498,
    "start_time": "2021-12-17T16:39:14.143Z"
   },
   {
    "duration": 9933,
    "start_time": "2021-12-17T16:39:36.418Z"
   },
   {
    "duration": 222,
    "start_time": "2021-12-17T16:39:46.353Z"
   },
   {
    "duration": 6,
    "start_time": "2021-12-17T16:40:08.345Z"
   },
   {
    "duration": 225,
    "start_time": "2021-12-17T16:40:15.644Z"
   },
   {
    "duration": 6935,
    "start_time": "2021-12-17T16:40:36.007Z"
   },
   {
    "duration": 227,
    "start_time": "2021-12-17T16:40:42.945Z"
   },
   {
    "duration": 238,
    "start_time": "2021-12-17T16:40:50.621Z"
   },
   {
    "duration": 418,
    "start_time": "2021-12-17T16:41:28.936Z"
   },
   {
    "duration": 10030,
    "start_time": "2021-12-17T16:41:37.930Z"
   },
   {
    "duration": 9648,
    "start_time": "2021-12-17T16:41:58.007Z"
   },
   {
    "duration": 26,
    "start_time": "2021-12-17T16:42:36.926Z"
   },
   {
    "duration": 4,
    "start_time": "2021-12-17T16:42:57.250Z"
   },
   {
    "duration": 5,
    "start_time": "2021-12-17T16:43:03.842Z"
   },
   {
    "duration": 7936,
    "start_time": "2021-12-17T16:43:24.580Z"
   },
   {
    "duration": 4,
    "start_time": "2021-12-17T16:43:32.518Z"
   },
   {
    "duration": 4,
    "start_time": "2021-12-17T16:43:40.855Z"
   },
   {
    "duration": 7994,
    "start_time": "2021-12-17T16:43:46.041Z"
   },
   {
    "duration": 5,
    "start_time": "2021-12-17T16:43:54.038Z"
   },
   {
    "duration": 7996,
    "start_time": "2021-12-17T16:44:02.475Z"
   },
   {
    "duration": 8609,
    "start_time": "2021-12-17T16:44:16.938Z"
   },
   {
    "duration": 9978,
    "start_time": "2021-12-17T16:44:30.302Z"
   },
   {
    "duration": 4,
    "start_time": "2021-12-17T16:44:54.911Z"
   },
   {
    "duration": 9932,
    "start_time": "2021-12-17T16:45:00.611Z"
   },
   {
    "duration": 3,
    "start_time": "2021-12-17T16:45:10.545Z"
   },
   {
    "duration": 4,
    "start_time": "2021-12-17T16:45:14.347Z"
   },
   {
    "duration": 10003,
    "start_time": "2021-12-17T16:45:18.206Z"
   },
   {
    "duration": 3,
    "start_time": "2021-12-17T16:45:28.211Z"
   },
   {
    "duration": 9081,
    "start_time": "2021-12-17T16:45:43.076Z"
   },
   {
    "duration": 6,
    "start_time": "2021-12-17T16:45:52.159Z"
   },
   {
    "duration": 10290,
    "start_time": "2021-12-17T16:46:01.588Z"
   },
   {
    "duration": 4,
    "start_time": "2021-12-17T16:46:11.880Z"
   },
   {
    "duration": 13978,
    "start_time": "2021-12-17T16:46:46.304Z"
   },
   {
    "duration": 18,
    "start_time": "2021-12-17T16:47:00.284Z"
   },
   {
    "duration": 186060,
    "start_time": "2021-12-17T16:47:20.192Z"
   },
   {
    "duration": 35,
    "start_time": "2021-12-17T16:50:26.253Z"
   },
   {
    "duration": 337629,
    "start_time": "2021-12-17T16:51:33.493Z"
   },
   {
    "duration": 574,
    "start_time": "2021-12-17T16:57:11.124Z"
   },
   {
    "duration": 258,
    "start_time": "2021-12-17T17:01:58.802Z"
   },
   {
    "duration": 2628,
    "start_time": "2021-12-17T17:02:24.441Z"
   },
   {
    "duration": 7186,
    "start_time": "2021-12-17T17:02:27.071Z"
   },
   {
    "duration": 3437,
    "start_time": "2021-12-17T17:02:34.259Z"
   },
   {
    "duration": 4,
    "start_time": "2021-12-17T17:02:37.698Z"
   },
   {
    "duration": 7173,
    "start_time": "2021-12-17T17:02:37.703Z"
   },
   {
    "duration": 8,
    "start_time": "2021-12-17T17:02:44.878Z"
   },
   {
    "duration": 8971,
    "start_time": "2021-12-17T17:02:44.888Z"
   },
   {
    "duration": 842670,
    "start_time": "2021-12-17T17:02:53.862Z"
   },
   {
    "duration": 2601,
    "start_time": "2021-12-17T17:19:11.893Z"
   },
   {
    "duration": 4479,
    "start_time": "2021-12-17T17:19:14.497Z"
   },
   {
    "duration": 639,
    "start_time": "2021-12-17T17:19:18.978Z"
   },
   {
    "duration": 259,
    "start_time": "2021-12-17T17:19:19.619Z"
   },
   {
    "duration": 6,
    "start_time": "2021-12-17T17:19:19.880Z"
   },
   {
    "duration": 3,
    "start_time": "2021-12-17T17:19:19.888Z"
   },
   {
    "duration": 6653,
    "start_time": "2021-12-17T17:19:19.893Z"
   },
   {
    "duration": 9654,
    "start_time": "2021-12-17T17:19:26.548Z"
   },
   {
    "duration": 56778,
    "start_time": "2021-12-17T17:19:36.205Z"
   },
   {
    "duration": 18,
    "start_time": "2021-12-17T17:20:32.985Z"
   },
   {
    "duration": 384432,
    "start_time": "2021-12-17T17:20:33.005Z"
   },
   {
    "duration": 43,
    "start_time": "2021-12-17T17:26:57.438Z"
   },
   {
    "duration": 2039350,
    "start_time": "2021-12-17T17:26:57.482Z"
   },
   {
    "duration": 1115,
    "start_time": "2021-12-17T18:00:56.834Z"
   },
   {
    "duration": 784680,
    "start_time": "2021-12-17T18:00:57.951Z"
   },
   {
    "duration": 2793,
    "start_time": "2021-12-17T18:13:59.840Z"
   },
   {
    "duration": 2792,
    "start_time": "2021-12-17T18:13:59.842Z"
   },
   {
    "duration": 2791,
    "start_time": "2021-12-17T18:13:59.844Z"
   },
   {
    "duration": 2791,
    "start_time": "2021-12-17T18:13:59.845Z"
   },
   {
    "duration": 1269970,
    "start_time": "2021-12-17T18:14:29.263Z"
   },
   {
    "duration": 1328520,
    "start_time": "2021-12-17T18:36:26.377Z"
   },
   {
    "duration": 8616,
    "start_time": "2021-12-17T19:07:44.837Z"
   },
   {
    "duration": 254148,
    "start_time": "2021-12-17T19:07:54.693Z"
   },
   {
    "duration": 2565,
    "start_time": "2021-12-17T19:12:14.704Z"
   },
   {
    "duration": 6161,
    "start_time": "2021-12-17T19:12:17.271Z"
   },
   {
    "duration": 734,
    "start_time": "2021-12-17T19:12:23.436Z"
   },
   {
    "duration": 279,
    "start_time": "2021-12-17T19:12:24.172Z"
   },
   {
    "duration": 14,
    "start_time": "2021-12-17T19:12:24.453Z"
   },
   {
    "duration": 5,
    "start_time": "2021-12-17T19:12:24.469Z"
   },
   {
    "duration": 7371,
    "start_time": "2021-12-17T19:12:24.477Z"
   },
   {
    "duration": 9952,
    "start_time": "2021-12-17T19:12:31.851Z"
   },
   {
    "duration": 58760,
    "start_time": "2021-12-17T19:12:41.805Z"
   },
   {
    "duration": 380943,
    "start_time": "2021-12-17T19:13:40.567Z"
   },
   {
    "duration": 2311527,
    "start_time": "2021-12-17T19:20:01.512Z"
   },
   {
    "duration": 2877,
    "start_time": "2021-12-17T19:58:30.165Z"
   },
   {
    "duration": 2877,
    "start_time": "2021-12-17T19:58:30.166Z"
   },
   {
    "duration": 2877,
    "start_time": "2021-12-17T19:58:30.167Z"
   },
   {
    "duration": 2877,
    "start_time": "2021-12-17T19:58:30.168Z"
   },
   {
    "duration": 2396,
    "start_time": "2021-12-17T19:59:19.636Z"
   },
   {
    "duration": 4124,
    "start_time": "2021-12-17T19:59:22.034Z"
   },
   {
    "duration": 630,
    "start_time": "2021-12-17T19:59:26.163Z"
   },
   {
    "duration": 253,
    "start_time": "2021-12-17T19:59:26.795Z"
   },
   {
    "duration": 14,
    "start_time": "2021-12-17T19:59:27.050Z"
   },
   {
    "duration": 4,
    "start_time": "2021-12-17T19:59:27.066Z"
   },
   {
    "duration": 6802,
    "start_time": "2021-12-17T19:59:27.071Z"
   },
   {
    "duration": 8681,
    "start_time": "2021-12-17T19:59:33.875Z"
   },
   {
    "duration": 54511,
    "start_time": "2021-12-17T19:59:42.557Z"
   },
   {
    "duration": 388464,
    "start_time": "2021-12-17T20:00:37.070Z"
   },
   {
    "duration": 1465649,
    "start_time": "2021-12-17T20:07:05.535Z"
   },
   {
    "duration": 2841296,
    "start_time": "2021-12-17T20:31:31.185Z"
   },
   {
    "duration": 9,
    "start_time": "2021-12-17T21:18:52.483Z"
   },
   {
    "duration": 17771,
    "start_time": "2021-12-17T21:18:52.493Z"
   },
   {
    "duration": 2,
    "start_time": "2021-12-17T21:19:10.266Z"
   }
  ],
  "kernelspec": {
   "display_name": "Python 3 (ipykernel)",
   "language": "python",
   "name": "python3"
  },
  "language_info": {
   "codemirror_mode": {
    "name": "ipython",
    "version": 3
   },
   "file_extension": ".py",
   "mimetype": "text/x-python",
   "name": "python",
   "nbconvert_exporter": "python",
   "pygments_lexer": "ipython3",
   "version": "3.7.6"
  },
  "toc": {
   "base_numbering": 1,
   "nav_menu": {},
   "number_sections": true,
   "sideBar": true,
   "skip_h1_title": true,
   "title_cell": "Содержание",
   "title_sidebar": "Contents",
   "toc_cell": true,
   "toc_position": {
    "height": "calc(100% - 180px)",
    "left": "10px",
    "top": "150px",
    "width": "302.391px"
   },
   "toc_section_display": true,
   "toc_window_display": true
  }
 },
 "nbformat": 4,
 "nbformat_minor": 2
}
