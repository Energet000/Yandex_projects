{
 "cells": [
  {
   "cell_type": "markdown",
   "metadata": {},
   "source": [
    "# Определение стоимости автомобилей"
   ]
  },
  {
   "cell_type": "markdown",
   "metadata": {},
   "source": [
    "Сервис по продаже автомобилей с пробегом «Не бит, не крашен» разрабатывает приложение для привлечения новых клиентов. В нём можно быстро узнать рыночную стоимость своего автомобиля. В вашем распоряжении исторические данные: технические характеристики, комплектации и цены автомобилей. Вам нужно построить модель для определения стоимости. \n",
    "\n",
    "Заказчику важны:\n",
    "\n",
    "- качество предсказания;\n",
    "- скорость предсказания;\n",
    "- время обучения."
   ]
  },
  {
   "cell_type": "markdown",
   "metadata": {},
   "source": [
    "Признаки\n",
    "\n",
    "- DateCrawled — дата скачивания анкеты из базы\n",
    "- VehicleType — тип автомобильного кузова\n",
    "- RegistrationYear — год регистрации автомобиля\n",
    "- Gearbox — тип коробки передач\n",
    "- Power — мощность (л. с.)\n",
    "- Model — модель автомобиля\n",
    "- Kilometer — пробег (км)\n",
    "- RegistrationMonth — месяц регистрации автомобиля\n",
    "- FuelType — тип топлива\n",
    "- Brand — марка автомобиля\n",
    "- NotRepaired — была машина в ремонте или нет\n",
    "- DateCreated — дата создания анкеты\n",
    "- NumberOfPictures — количество фотографий автомобиля\n",
    "- PostalCode — почтовый индекс владельца анкеты (пользователя)\n",
    "- LastSeen — дата последней активности пользователя\n",
    "\n",
    "Целевой признак\n",
    "- Price — цена (евро)"
   ]
  },
  {
   "cell_type": "markdown",
   "metadata": {},
   "source": [
    "## Подготовка данных"
   ]
  },
  {
   "cell_type": "code",
   "execution_count": 3,
   "metadata": {},
   "outputs": [
    {
     "name": "stdout",
     "output_type": "stream",
     "text": [
      "Defaulting to user installation because normal site-packages is not writeable\n",
      "Requirement already up-to-date: scikit-learn in /home/jovyan/.local/lib/python3.7/site-packages (1.0.1)\n",
      "Requirement already satisfied, skipping upgrade: threadpoolctl>=2.0.0 in /home/jovyan/.local/lib/python3.7/site-packages (from scikit-learn) (3.0.0)\n",
      "Requirement already satisfied, skipping upgrade: joblib>=0.11 in /opt/conda/lib/python3.7/site-packages (from scikit-learn) (1.0.1)\n",
      "Requirement already satisfied, skipping upgrade: scipy>=1.1.0 in /opt/conda/lib/python3.7/site-packages (from scikit-learn) (1.4.1)\n",
      "Requirement already satisfied, skipping upgrade: numpy>=1.14.6 in /opt/conda/lib/python3.7/site-packages (from scikit-learn) (1.19.5)\n"
     ]
    }
   ],
   "source": [
    "!pip install -U scikit-learn"
   ]
  },
  {
   "cell_type": "code",
   "execution_count": 4,
   "metadata": {},
   "outputs": [],
   "source": [
    "# Импортируем библиотеки\n",
    "import pandas as pd\n",
    "import numpy as np\n",
    "from sklearn.linear_model import LinearRegression\n",
    "from sklearn.ensemble import RandomForestRegressor\n",
    "from sklearn.tree import DecisionTreeRegressor\n",
    "from lightgbm import LGBMRegressor\n",
    "from sklearn.model_selection import train_test_split, GridSearchCV, cross_val_score\n",
    "from sklearn.metrics import mean_squared_error\n",
    "import matplotlib.pyplot as plt\n",
    "import seaborn as sns\n",
    "from sklearn.preprocessing import OneHotEncoder, LabelEncoder, StandardScaler\n",
    "import time\n",
    "import sklearn\n",
    "\n",
    "import warnings\n",
    "warnings.filterwarnings(\"ignore\")"
   ]
  },
  {
   "cell_type": "markdown",
   "metadata": {},
   "source": [
    "### Знакомство с данными"
   ]
  },
  {
   "cell_type": "code",
   "execution_count": 5,
   "metadata": {
    "scrolled": false
   },
   "outputs": [
    {
     "data": {
      "text/html": [
       "<div>\n",
       "<style scoped>\n",
       "    .dataframe tbody tr th:only-of-type {\n",
       "        vertical-align: middle;\n",
       "    }\n",
       "\n",
       "    .dataframe tbody tr th {\n",
       "        vertical-align: top;\n",
       "    }\n",
       "\n",
       "    .dataframe thead th {\n",
       "        text-align: right;\n",
       "    }\n",
       "</style>\n",
       "<table border=\"1\" class=\"dataframe\">\n",
       "  <thead>\n",
       "    <tr style=\"text-align: right;\">\n",
       "      <th></th>\n",
       "      <th>DateCrawled</th>\n",
       "      <th>Price</th>\n",
       "      <th>VehicleType</th>\n",
       "      <th>RegistrationYear</th>\n",
       "      <th>Gearbox</th>\n",
       "      <th>Power</th>\n",
       "      <th>Model</th>\n",
       "      <th>Kilometer</th>\n",
       "      <th>RegistrationMonth</th>\n",
       "      <th>FuelType</th>\n",
       "      <th>Brand</th>\n",
       "      <th>NotRepaired</th>\n",
       "      <th>DateCreated</th>\n",
       "      <th>NumberOfPictures</th>\n",
       "      <th>PostalCode</th>\n",
       "      <th>LastSeen</th>\n",
       "    </tr>\n",
       "  </thead>\n",
       "  <tbody>\n",
       "    <tr>\n",
       "      <td>0</td>\n",
       "      <td>2016-03-24 11:52:17</td>\n",
       "      <td>480</td>\n",
       "      <td>NaN</td>\n",
       "      <td>1993</td>\n",
       "      <td>manual</td>\n",
       "      <td>0</td>\n",
       "      <td>golf</td>\n",
       "      <td>150000</td>\n",
       "      <td>0</td>\n",
       "      <td>petrol</td>\n",
       "      <td>volkswagen</td>\n",
       "      <td>NaN</td>\n",
       "      <td>2016-03-24 00:00:00</td>\n",
       "      <td>0</td>\n",
       "      <td>70435</td>\n",
       "      <td>2016-04-07 03:16:57</td>\n",
       "    </tr>\n",
       "    <tr>\n",
       "      <td>1</td>\n",
       "      <td>2016-03-24 10:58:45</td>\n",
       "      <td>18300</td>\n",
       "      <td>coupe</td>\n",
       "      <td>2011</td>\n",
       "      <td>manual</td>\n",
       "      <td>190</td>\n",
       "      <td>NaN</td>\n",
       "      <td>125000</td>\n",
       "      <td>5</td>\n",
       "      <td>gasoline</td>\n",
       "      <td>audi</td>\n",
       "      <td>yes</td>\n",
       "      <td>2016-03-24 00:00:00</td>\n",
       "      <td>0</td>\n",
       "      <td>66954</td>\n",
       "      <td>2016-04-07 01:46:50</td>\n",
       "    </tr>\n",
       "    <tr>\n",
       "      <td>2</td>\n",
       "      <td>2016-03-14 12:52:21</td>\n",
       "      <td>9800</td>\n",
       "      <td>suv</td>\n",
       "      <td>2004</td>\n",
       "      <td>auto</td>\n",
       "      <td>163</td>\n",
       "      <td>grand</td>\n",
       "      <td>125000</td>\n",
       "      <td>8</td>\n",
       "      <td>gasoline</td>\n",
       "      <td>jeep</td>\n",
       "      <td>NaN</td>\n",
       "      <td>2016-03-14 00:00:00</td>\n",
       "      <td>0</td>\n",
       "      <td>90480</td>\n",
       "      <td>2016-04-05 12:47:46</td>\n",
       "    </tr>\n",
       "    <tr>\n",
       "      <td>3</td>\n",
       "      <td>2016-03-17 16:54:04</td>\n",
       "      <td>1500</td>\n",
       "      <td>small</td>\n",
       "      <td>2001</td>\n",
       "      <td>manual</td>\n",
       "      <td>75</td>\n",
       "      <td>golf</td>\n",
       "      <td>150000</td>\n",
       "      <td>6</td>\n",
       "      <td>petrol</td>\n",
       "      <td>volkswagen</td>\n",
       "      <td>no</td>\n",
       "      <td>2016-03-17 00:00:00</td>\n",
       "      <td>0</td>\n",
       "      <td>91074</td>\n",
       "      <td>2016-03-17 17:40:17</td>\n",
       "    </tr>\n",
       "    <tr>\n",
       "      <td>4</td>\n",
       "      <td>2016-03-31 17:25:20</td>\n",
       "      <td>3600</td>\n",
       "      <td>small</td>\n",
       "      <td>2008</td>\n",
       "      <td>manual</td>\n",
       "      <td>69</td>\n",
       "      <td>fabia</td>\n",
       "      <td>90000</td>\n",
       "      <td>7</td>\n",
       "      <td>gasoline</td>\n",
       "      <td>skoda</td>\n",
       "      <td>no</td>\n",
       "      <td>2016-03-31 00:00:00</td>\n",
       "      <td>0</td>\n",
       "      <td>60437</td>\n",
       "      <td>2016-04-06 10:17:21</td>\n",
       "    </tr>\n",
       "    <tr>\n",
       "      <td>...</td>\n",
       "      <td>...</td>\n",
       "      <td>...</td>\n",
       "      <td>...</td>\n",
       "      <td>...</td>\n",
       "      <td>...</td>\n",
       "      <td>...</td>\n",
       "      <td>...</td>\n",
       "      <td>...</td>\n",
       "      <td>...</td>\n",
       "      <td>...</td>\n",
       "      <td>...</td>\n",
       "      <td>...</td>\n",
       "      <td>...</td>\n",
       "      <td>...</td>\n",
       "      <td>...</td>\n",
       "      <td>...</td>\n",
       "    </tr>\n",
       "    <tr>\n",
       "      <td>354364</td>\n",
       "      <td>2016-03-21 09:50:58</td>\n",
       "      <td>0</td>\n",
       "      <td>NaN</td>\n",
       "      <td>2005</td>\n",
       "      <td>manual</td>\n",
       "      <td>0</td>\n",
       "      <td>colt</td>\n",
       "      <td>150000</td>\n",
       "      <td>7</td>\n",
       "      <td>petrol</td>\n",
       "      <td>mitsubishi</td>\n",
       "      <td>yes</td>\n",
       "      <td>2016-03-21 00:00:00</td>\n",
       "      <td>0</td>\n",
       "      <td>2694</td>\n",
       "      <td>2016-03-21 10:42:49</td>\n",
       "    </tr>\n",
       "    <tr>\n",
       "      <td>354365</td>\n",
       "      <td>2016-03-14 17:48:27</td>\n",
       "      <td>2200</td>\n",
       "      <td>NaN</td>\n",
       "      <td>2005</td>\n",
       "      <td>NaN</td>\n",
       "      <td>0</td>\n",
       "      <td>NaN</td>\n",
       "      <td>20000</td>\n",
       "      <td>1</td>\n",
       "      <td>NaN</td>\n",
       "      <td>sonstige_autos</td>\n",
       "      <td>NaN</td>\n",
       "      <td>2016-03-14 00:00:00</td>\n",
       "      <td>0</td>\n",
       "      <td>39576</td>\n",
       "      <td>2016-04-06 00:46:52</td>\n",
       "    </tr>\n",
       "    <tr>\n",
       "      <td>354366</td>\n",
       "      <td>2016-03-05 19:56:21</td>\n",
       "      <td>1199</td>\n",
       "      <td>convertible</td>\n",
       "      <td>2000</td>\n",
       "      <td>auto</td>\n",
       "      <td>101</td>\n",
       "      <td>fortwo</td>\n",
       "      <td>125000</td>\n",
       "      <td>3</td>\n",
       "      <td>petrol</td>\n",
       "      <td>smart</td>\n",
       "      <td>no</td>\n",
       "      <td>2016-03-05 00:00:00</td>\n",
       "      <td>0</td>\n",
       "      <td>26135</td>\n",
       "      <td>2016-03-11 18:17:12</td>\n",
       "    </tr>\n",
       "    <tr>\n",
       "      <td>354367</td>\n",
       "      <td>2016-03-19 18:57:12</td>\n",
       "      <td>9200</td>\n",
       "      <td>bus</td>\n",
       "      <td>1996</td>\n",
       "      <td>manual</td>\n",
       "      <td>102</td>\n",
       "      <td>transporter</td>\n",
       "      <td>150000</td>\n",
       "      <td>3</td>\n",
       "      <td>gasoline</td>\n",
       "      <td>volkswagen</td>\n",
       "      <td>no</td>\n",
       "      <td>2016-03-19 00:00:00</td>\n",
       "      <td>0</td>\n",
       "      <td>87439</td>\n",
       "      <td>2016-04-07 07:15:26</td>\n",
       "    </tr>\n",
       "    <tr>\n",
       "      <td>354368</td>\n",
       "      <td>2016-03-20 19:41:08</td>\n",
       "      <td>3400</td>\n",
       "      <td>wagon</td>\n",
       "      <td>2002</td>\n",
       "      <td>manual</td>\n",
       "      <td>100</td>\n",
       "      <td>golf</td>\n",
       "      <td>150000</td>\n",
       "      <td>6</td>\n",
       "      <td>gasoline</td>\n",
       "      <td>volkswagen</td>\n",
       "      <td>NaN</td>\n",
       "      <td>2016-03-20 00:00:00</td>\n",
       "      <td>0</td>\n",
       "      <td>40764</td>\n",
       "      <td>2016-03-24 12:45:21</td>\n",
       "    </tr>\n",
       "  </tbody>\n",
       "</table>\n",
       "<p>354369 rows × 16 columns</p>\n",
       "</div>"
      ],
      "text/plain": [
       "                DateCrawled  Price  VehicleType  RegistrationYear Gearbox  \\\n",
       "0       2016-03-24 11:52:17    480          NaN              1993  manual   \n",
       "1       2016-03-24 10:58:45  18300        coupe              2011  manual   \n",
       "2       2016-03-14 12:52:21   9800          suv              2004    auto   \n",
       "3       2016-03-17 16:54:04   1500        small              2001  manual   \n",
       "4       2016-03-31 17:25:20   3600        small              2008  manual   \n",
       "...                     ...    ...          ...               ...     ...   \n",
       "354364  2016-03-21 09:50:58      0          NaN              2005  manual   \n",
       "354365  2016-03-14 17:48:27   2200          NaN              2005     NaN   \n",
       "354366  2016-03-05 19:56:21   1199  convertible              2000    auto   \n",
       "354367  2016-03-19 18:57:12   9200          bus              1996  manual   \n",
       "354368  2016-03-20 19:41:08   3400        wagon              2002  manual   \n",
       "\n",
       "        Power        Model  Kilometer  RegistrationMonth  FuelType  \\\n",
       "0           0         golf     150000                  0    petrol   \n",
       "1         190          NaN     125000                  5  gasoline   \n",
       "2         163        grand     125000                  8  gasoline   \n",
       "3          75         golf     150000                  6    petrol   \n",
       "4          69        fabia      90000                  7  gasoline   \n",
       "...       ...          ...        ...                ...       ...   \n",
       "354364      0         colt     150000                  7    petrol   \n",
       "354365      0          NaN      20000                  1       NaN   \n",
       "354366    101       fortwo     125000                  3    petrol   \n",
       "354367    102  transporter     150000                  3  gasoline   \n",
       "354368    100         golf     150000                  6  gasoline   \n",
       "\n",
       "                 Brand NotRepaired          DateCreated  NumberOfPictures  \\\n",
       "0           volkswagen         NaN  2016-03-24 00:00:00                 0   \n",
       "1                 audi         yes  2016-03-24 00:00:00                 0   \n",
       "2                 jeep         NaN  2016-03-14 00:00:00                 0   \n",
       "3           volkswagen          no  2016-03-17 00:00:00                 0   \n",
       "4                skoda          no  2016-03-31 00:00:00                 0   \n",
       "...                ...         ...                  ...               ...   \n",
       "354364      mitsubishi         yes  2016-03-21 00:00:00                 0   \n",
       "354365  sonstige_autos         NaN  2016-03-14 00:00:00                 0   \n",
       "354366           smart          no  2016-03-05 00:00:00                 0   \n",
       "354367      volkswagen          no  2016-03-19 00:00:00                 0   \n",
       "354368      volkswagen         NaN  2016-03-20 00:00:00                 0   \n",
       "\n",
       "        PostalCode             LastSeen  \n",
       "0            70435  2016-04-07 03:16:57  \n",
       "1            66954  2016-04-07 01:46:50  \n",
       "2            90480  2016-04-05 12:47:46  \n",
       "3            91074  2016-03-17 17:40:17  \n",
       "4            60437  2016-04-06 10:17:21  \n",
       "...            ...                  ...  \n",
       "354364        2694  2016-03-21 10:42:49  \n",
       "354365       39576  2016-04-06 00:46:52  \n",
       "354366       26135  2016-03-11 18:17:12  \n",
       "354367       87439  2016-04-07 07:15:26  \n",
       "354368       40764  2016-03-24 12:45:21  \n",
       "\n",
       "[354369 rows x 16 columns]"
      ]
     },
     "metadata": {},
     "output_type": "display_data"
    },
    {
     "name": "stdout",
     "output_type": "stream",
     "text": [
      "<class 'pandas.core.frame.DataFrame'>\n",
      "RangeIndex: 354369 entries, 0 to 354368\n",
      "Data columns (total 16 columns):\n",
      "DateCrawled          354369 non-null object\n",
      "Price                354369 non-null int64\n",
      "VehicleType          316879 non-null object\n",
      "RegistrationYear     354369 non-null int64\n",
      "Gearbox              334536 non-null object\n",
      "Power                354369 non-null int64\n",
      "Model                334664 non-null object\n",
      "Kilometer            354369 non-null int64\n",
      "RegistrationMonth    354369 non-null int64\n",
      "FuelType             321474 non-null object\n",
      "Brand                354369 non-null object\n",
      "NotRepaired          283215 non-null object\n",
      "DateCreated          354369 non-null object\n",
      "NumberOfPictures     354369 non-null int64\n",
      "PostalCode           354369 non-null int64\n",
      "LastSeen             354369 non-null object\n",
      "dtypes: int64(7), object(9)\n",
      "memory usage: 43.3+ MB\n"
     ]
    },
    {
     "data": {
      "text/html": [
       "<div>\n",
       "<style scoped>\n",
       "    .dataframe tbody tr th:only-of-type {\n",
       "        vertical-align: middle;\n",
       "    }\n",
       "\n",
       "    .dataframe tbody tr th {\n",
       "        vertical-align: top;\n",
       "    }\n",
       "\n",
       "    .dataframe thead th {\n",
       "        text-align: right;\n",
       "    }\n",
       "</style>\n",
       "<table border=\"1\" class=\"dataframe\">\n",
       "  <thead>\n",
       "    <tr style=\"text-align: right;\">\n",
       "      <th></th>\n",
       "      <th>Price</th>\n",
       "      <th>RegistrationYear</th>\n",
       "      <th>Power</th>\n",
       "      <th>Kilometer</th>\n",
       "      <th>RegistrationMonth</th>\n",
       "      <th>NumberOfPictures</th>\n",
       "      <th>PostalCode</th>\n",
       "    </tr>\n",
       "  </thead>\n",
       "  <tbody>\n",
       "    <tr>\n",
       "      <td>count</td>\n",
       "      <td>354369.000000</td>\n",
       "      <td>354369.000000</td>\n",
       "      <td>354369.000000</td>\n",
       "      <td>354369.000000</td>\n",
       "      <td>354369.000000</td>\n",
       "      <td>354369.0</td>\n",
       "      <td>354369.000000</td>\n",
       "    </tr>\n",
       "    <tr>\n",
       "      <td>mean</td>\n",
       "      <td>4416.656776</td>\n",
       "      <td>2004.234448</td>\n",
       "      <td>110.094337</td>\n",
       "      <td>128211.172535</td>\n",
       "      <td>5.714645</td>\n",
       "      <td>0.0</td>\n",
       "      <td>50508.689087</td>\n",
       "    </tr>\n",
       "    <tr>\n",
       "      <td>std</td>\n",
       "      <td>4514.158514</td>\n",
       "      <td>90.227958</td>\n",
       "      <td>189.850405</td>\n",
       "      <td>37905.341530</td>\n",
       "      <td>3.726421</td>\n",
       "      <td>0.0</td>\n",
       "      <td>25783.096248</td>\n",
       "    </tr>\n",
       "    <tr>\n",
       "      <td>min</td>\n",
       "      <td>0.000000</td>\n",
       "      <td>1000.000000</td>\n",
       "      <td>0.000000</td>\n",
       "      <td>5000.000000</td>\n",
       "      <td>0.000000</td>\n",
       "      <td>0.0</td>\n",
       "      <td>1067.000000</td>\n",
       "    </tr>\n",
       "    <tr>\n",
       "      <td>25%</td>\n",
       "      <td>1050.000000</td>\n",
       "      <td>1999.000000</td>\n",
       "      <td>69.000000</td>\n",
       "      <td>125000.000000</td>\n",
       "      <td>3.000000</td>\n",
       "      <td>0.0</td>\n",
       "      <td>30165.000000</td>\n",
       "    </tr>\n",
       "    <tr>\n",
       "      <td>50%</td>\n",
       "      <td>2700.000000</td>\n",
       "      <td>2003.000000</td>\n",
       "      <td>105.000000</td>\n",
       "      <td>150000.000000</td>\n",
       "      <td>6.000000</td>\n",
       "      <td>0.0</td>\n",
       "      <td>49413.000000</td>\n",
       "    </tr>\n",
       "    <tr>\n",
       "      <td>75%</td>\n",
       "      <td>6400.000000</td>\n",
       "      <td>2008.000000</td>\n",
       "      <td>143.000000</td>\n",
       "      <td>150000.000000</td>\n",
       "      <td>9.000000</td>\n",
       "      <td>0.0</td>\n",
       "      <td>71083.000000</td>\n",
       "    </tr>\n",
       "    <tr>\n",
       "      <td>max</td>\n",
       "      <td>20000.000000</td>\n",
       "      <td>9999.000000</td>\n",
       "      <td>20000.000000</td>\n",
       "      <td>150000.000000</td>\n",
       "      <td>12.000000</td>\n",
       "      <td>0.0</td>\n",
       "      <td>99998.000000</td>\n",
       "    </tr>\n",
       "  </tbody>\n",
       "</table>\n",
       "</div>"
      ],
      "text/plain": [
       "               Price  RegistrationYear          Power      Kilometer  \\\n",
       "count  354369.000000     354369.000000  354369.000000  354369.000000   \n",
       "mean     4416.656776       2004.234448     110.094337  128211.172535   \n",
       "std      4514.158514         90.227958     189.850405   37905.341530   \n",
       "min         0.000000       1000.000000       0.000000    5000.000000   \n",
       "25%      1050.000000       1999.000000      69.000000  125000.000000   \n",
       "50%      2700.000000       2003.000000     105.000000  150000.000000   \n",
       "75%      6400.000000       2008.000000     143.000000  150000.000000   \n",
       "max     20000.000000       9999.000000   20000.000000  150000.000000   \n",
       "\n",
       "       RegistrationMonth  NumberOfPictures     PostalCode  \n",
       "count      354369.000000          354369.0  354369.000000  \n",
       "mean            5.714645               0.0   50508.689087  \n",
       "std             3.726421               0.0   25783.096248  \n",
       "min             0.000000               0.0    1067.000000  \n",
       "25%             3.000000               0.0   30165.000000  \n",
       "50%             6.000000               0.0   49413.000000  \n",
       "75%             9.000000               0.0   71083.000000  \n",
       "max            12.000000               0.0   99998.000000  "
      ]
     },
     "execution_count": 5,
     "metadata": {},
     "output_type": "execute_result"
    }
   ],
   "source": [
    "# Посмотрим на данные\n",
    "data = pd.read_csv('/datasets/autos.csv')\n",
    "display(data)\n",
    "data.info()\n",
    "data.describe()"
   ]
  },
  {
   "cell_type": "code",
   "execution_count": 6,
   "metadata": {
    "scrolled": true
   },
   "outputs": [
    {
     "data": {
      "image/png": "[encoded data removed]",
      "text/plain": [
       "<Figure size 432x288 with 1 Axes>"
      ]
     },
     "metadata": {
      "needs_background": "light"
     },
     "output_type": "display_data"
    },
    {
     "data": {
      "image/png": "[encoded data removed]",
      "text/plain": [
       "<Figure size 432x288 with 1 Axes>"
      ]
     },
     "metadata": {
      "needs_background": "light"
     },
     "output_type": "display_data"
    },
    {
     "data": {
      "image/png": "[encoded data removed]",
      "text/plain": [
       "<Figure size 432x288 with 1 Axes>"
      ]
     },
     "metadata": {
      "needs_background": "light"
     },
     "output_type": "display_data"
    },
    {
     "data": {
      "image/png": "[encoded data removed]",
      "text/plain": [
       "<Figure size 432x288 with 1 Axes>"
      ]
     },
     "metadata": {
      "needs_background": "light"
     },
     "output_type": "display_data"
    },
    {
     "data": {
      "image/png": "[encoded data removed]",
      "text/plain": [
       "<Figure size 432x288 with 1 Axes>"
      ]
     },
     "metadata": {
      "needs_background": "light"
     },
     "output_type": "display_data"
    }
   ],
   "source": [
    "# Посмотрим на распределение численных признаков\n",
    "numeric_cols = ['Price', 'RegistrationYear', 'Power', 'Kilometer', 'NumberOfPictures']\n",
    "for col in numeric_cols:\n",
    "    data[col].plot.hist()\n",
    "    plt.title(col)\n",
    "    plt.show()"
   ]
  },
  {
   "cell_type": "code",
   "execution_count": 7,
   "metadata": {},
   "outputs": [
    {
     "name": "stdout",
     "output_type": "stream",
     "text": [
      "Количество пропусков по столбцам: DateCrawled           0.000000\n",
      "Price                 0.000000\n",
      "VehicleType          10.579368\n",
      "RegistrationYear      0.000000\n",
      "Gearbox               5.596709\n",
      "Power                 0.000000\n",
      "Model                 5.560588\n",
      "Kilometer             0.000000\n",
      "RegistrationMonth     0.000000\n",
      "FuelType              9.282697\n",
      "Brand                 0.000000\n",
      "NotRepaired          20.079070\n",
      "DateCreated           0.000000\n",
      "NumberOfPictures      0.000000\n",
      "PostalCode            0.000000\n",
      "LastSeen              0.000000\n",
      "dtype: float64\n",
      "Количество дублей: 4\n"
     ]
    }
   ],
   "source": [
    "# Посмотрим на пропуски и дубли\n",
    "print(f'Количество пропусков по столбцам: {data.isnull().mean()*100}')\n",
    "print(f'Количество дублей: {data.duplicated().sum()}')"
   ]
  },
  {
   "cell_type": "code",
   "execution_count": 8,
   "metadata": {},
   "outputs": [],
   "source": [
    "# Удалим дубли\n",
    "data.drop_duplicates(inplace=True)"
   ]
  },
  {
   "cell_type": "markdown",
   "metadata": {},
   "source": [
    "**Выводы:**\n",
    "\n",
    "Столец *DateCrawled* не несет полезной информации для прогнозирования цены. Уберем его из признаков.\n",
    "\n",
    "Столец *VehicleType* имеет пропуски, которые необходимо обработать. Оставим в качестве признака.\n",
    "\n",
    "Столец *RegistrationYear* имеет выбросы, видимо пользователи или не знали дату, или хотели скрыть такую информацию. Оставим в качестве признака. Возможно стоит создать новый столбец, который является разностью года скачивания анкеты из базы и годом регистрации автомобиля.\n",
    "\n",
    "Столец *Gearbox* имеет пропуски, содержит категориальные признаки. Оставим в качестве признака.\n",
    "\n",
    "Столец *Power* имеет выбросы. Оставим в качестве признака.\n",
    "\n",
    "Столбец *Model* имеет пропуски, содержит категориальные признаки. Так как при кодировании получится слишком много признаков, то уберем столбец из признаков.\n",
    "\n",
    "Столбец *Kilometer* имеет не нормальное распределение данных, с явном перекосом в сторону больших значений. Оставим в качестве признака.\n",
    "\n",
    "Столбец *RegistrationMonth* не несет полезной информации для прогнозирования цены. Уберем его из признаков.\n",
    "\n",
    "Столбец *FuelType* имеет пропуски, содержит категориальные признаки. Оставим в качестве признака.\n",
    "\n",
    "Столбец *Brand* содержит категориальные признаки. Оставим в качестве признака.\n",
    "\n",
    "Столбец *NotRepaired* имеет пропуски, содержит категориальные признаки. Скорее всего пропуски вызваны, тем что пользователи хотели скрыть факт ремонта. Основываяь на этой идее, можно заполнить пропуски 1 или посмотреть на зависимость с годом регистрации. Оставим в качестве признака.\n",
    "\n",
    "Столбец *DateCreated* не несет полезной информации для прогнозирования цены. Уберем его из признаков.\n",
    "\n",
    "Столбец *NumberOfPictures* содержит только нули.Уберем его из признаков.\n",
    "\n",
    "Столбец *PostalCode* содержит информацио о местоположении. Так как при кодировании получится слишком много признаков, то уберем столбец из признаков.\n",
    "\n",
    "Столбец *LastSeen* не несет полезной информации для прогнозирования цены. Уберем его из признаков.\n",
    "\n",
    "Численные значения имеют разный масштаб, для улучшения качества модели их стоит отмасштабировать "
   ]
  },
  {
   "cell_type": "markdown",
   "metadata": {},
   "source": [
    "<div class=\"alert alert-block alert-info\">\n",
    "<b>Совет </b>  Советую обратить внимание на библиотеки sweetviz и pandas_profiling помогут в проведении более тщательного EDA анализа. Исследовательский анализ можно делать и с помощью ручного вызова функций дефолтных библиотек. Данные библиотеки хороши для максимизации комфорта презентации результатов анализа бизнес-пользователям. \n",
    "    \n",
    "Очень просты в использоовании, на вход кладется датафрейм: `pandas_profiling.ProfileReport(df)`\n",
    "    "
   ]
  },
  {
   "cell_type": "code",
   "execution_count": 9,
   "metadata": {},
   "outputs": [],
   "source": [
    "# Выделим отдельно целевой признак и признаки для обучения. Затем разделим их на тренировочную и валидационные выборки\n",
    "dropped_cols = [\n",
    "    'DateCrawled', 'Price', 'RegistrationMonth', \n",
    "    'DateCreated', 'NumberOfPictures', 'PostalCode', \n",
    "    'LastSeen','Model']\n",
    "features = data.drop(columns=dropped_cols)\n",
    "target = data['Price']\n",
    "features_train, features_valid, target_train, target_valid = train_test_split(features, target, test_size=0.25, random_state=12345)"
   ]
  },
  {
   "cell_type": "markdown",
   "metadata": {},
   "source": [
    "### Заполнение пропусков"
   ]
  },
  {
   "cell_type": "code",
   "execution_count": 10,
   "metadata": {},
   "outputs": [
    {
     "name": "stdout",
     "output_type": "stream",
     "text": [
      "Количество пропусков в тренировочной выборке:\n",
      "VehicleType         10.530039\n",
      "RegistrationYear     0.000000\n",
      "Gearbox              5.605159\n",
      "Power                0.000000\n",
      "Kilometer            0.000000\n",
      "FuelType             9.257148\n",
      "Brand                0.000000\n",
      "NotRepaired         20.041539\n",
      "dtype: float64\n",
      "==================================================\n",
      "Количество пропусков в валидационой выборке:\n",
      "VehicleType         10.727831\n",
      "RegistrationYear     0.000000\n",
      "Gearbox              5.571609\n",
      "Power                0.000000\n",
      "Kilometer            0.000000\n",
      "FuelType             9.359762\n",
      "Brand                0.000000\n",
      "NotRepaired         20.192568\n",
      "dtype: float64\n"
     ]
    }
   ],
   "source": [
    "# Посмотрим на пропуски в тестовой и валидационной выборках\n",
    "print('Количество пропусков в тренировочной выборке:')\n",
    "print(features_train.isnull().mean()*100)\n",
    "print('='*50)\n",
    "print('Количество пропусков в валидационой выборке:')\n",
    "print(features_valid.isnull().mean()*100)"
   ]
  },
  {
   "cell_type": "code",
   "execution_count": 12,
   "metadata": {},
   "outputs": [],
   "source": [
    "# Пропуски в столбце VehicleType заполним модой\n",
    "features_train['VehicleType'].fillna(features_train['VehicleType'].mode()[0], inplace=True)\n",
    "features_valid['VehicleType'].fillna(features_train['VehicleType'].mode()[0], inplace=True)"
   ]
  },
  {
   "cell_type": "code",
   "execution_count": 13,
   "metadata": {},
   "outputs": [],
   "source": [
    "# Пропуски в столбце Gearbox заполним модой\n",
    "features_train['Gearbox'].fillna(features_train['Gearbox'].mode()[0], inplace=True)\n",
    "features_valid['Gearbox'].fillna(features_train['Gearbox'].mode()[0], inplace=True)"
   ]
  },
  {
   "cell_type": "code",
   "execution_count": 14,
   "metadata": {},
   "outputs": [],
   "source": [
    "# Пропуски в столбце FuelType заполним модой\n",
    "features_train['FuelType'].fillna(features_train['FuelType'].mode()[0], inplace=True)\n",
    "features_valid['FuelType'].fillna(features_train['FuelType'].mode()[0], inplace=True)"
   ]
  },
  {
   "cell_type": "code",
   "execution_count": 15,
   "metadata": {},
   "outputs": [],
   "source": [
    "# Пропуски в столбце NotRepaired заполним модой\n",
    "features_train['NotRepaired'].fillna(features_train['NotRepaired'].mode()[0], inplace=True)\n",
    "features_valid['NotRepaired'].fillna(features_train['NotRepaired'].mode()[0], inplace=True)"
   ]
  },
  {
   "cell_type": "code",
   "execution_count": 16,
   "metadata": {
    "scrolled": true
   },
   "outputs": [
    {
     "name": "stdout",
     "output_type": "stream",
     "text": [
      "Количество пропусков в тренировочной выборке:\n",
      "VehicleType         0.0\n",
      "RegistrationYear    0.0\n",
      "Gearbox             0.0\n",
      "Power               0.0\n",
      "Kilometer           0.0\n",
      "FuelType            0.0\n",
      "Brand               0.0\n",
      "NotRepaired         0.0\n",
      "dtype: float64\n",
      "==================================================\n",
      "Количество пропусков в валидационой выборке:\n",
      "VehicleType         0.0\n",
      "RegistrationYear    0.0\n",
      "Gearbox             0.0\n",
      "Power               0.0\n",
      "Kilometer           0.0\n",
      "FuelType            0.0\n",
      "Brand               0.0\n",
      "NotRepaired         0.0\n",
      "dtype: float64\n"
     ]
    }
   ],
   "source": [
    "# Проверка\n",
    "# Посмотрим на пропуски в тестовой и валидационной выборках\n",
    "print('Количество пропусков в тренировочной выборке:')\n",
    "print(features_train.isnull().mean()*100)\n",
    "print('='*50)\n",
    "print('Количество пропусков в валидационой выборке:')\n",
    "print(features_valid.isnull().mean()*100)"
   ]
  },
  {
   "cell_type": "markdown",
   "metadata": {},
   "source": [
    "### Закодируем категориальные признаки"
   ]
  },
  {
   "cell_type": "code",
   "execution_count": 17,
   "metadata": {},
   "outputs": [
    {
     "data": {
      "text/plain": [
       "True"
      ]
     },
     "execution_count": 17,
     "metadata": {},
     "output_type": "execute_result"
    }
   ],
   "source": [
    "# Закодируем категориальные признаки\n",
    "features_train = pd.get_dummies(features_train, drop_first=True)\n",
    "features_valid = pd.get_dummies(features_valid, drop_first=True)\n",
    "# Проверим, что признаки в обоих выборках равны\n",
    "set(features_train.columns) == set(features_valid.columns)"
   ]
  },
  {
   "cell_type": "markdown",
   "metadata": {},
   "source": [
    "### Отмасштабируем численные признаки"
   ]
  },
  {
   "cell_type": "code",
   "execution_count": 18,
   "metadata": {},
   "outputs": [],
   "source": [
    "scaler = StandardScaler()\n",
    "numeric = ['RegistrationYear', 'Power', 'Kilometer']\n",
    "scaler.fit(features_train[numeric])\n",
    "features_train[numeric] = scaler.transform(features_train[numeric])\n",
    "features_valid[numeric] = scaler.transform(features_valid[numeric]) "
   ]
  },
  {
   "cell_type": "markdown",
   "metadata": {},
   "source": [
    "## Обучение моделей"
   ]
  },
  {
   "cell_type": "markdown",
   "metadata": {},
   "source": [
    "Подберем оптимальные признаки для моделей дерева решений, случайного леса и градиентного бустинга "
   ]
  },
  {
   "cell_type": "code",
   "execution_count": 19,
   "metadata": {},
   "outputs": [
    {
     "data": {
      "text/plain": [
       "{'max_depth': 16}"
      ]
     },
     "execution_count": 19,
     "metadata": {},
     "output_type": "execute_result"
    }
   ],
   "source": [
    "# Подберем параметры для дерева решений\n",
    "DTR = DecisionTreeRegressor(random_state=12345)\n",
    "params = {'max_depth':list(range(1,32,5))}\n",
    "DTR = GridSearchCV(DTR, params, scoring='neg_root_mean_squared_error', cv=3)\n",
    "DTR.fit(features_train, target_train)\n",
    "DTR.best_params_"
   ]
  },
  {
   "cell_type": "code",
   "execution_count": 20,
   "metadata": {
    "scrolled": true
   },
   "outputs": [
    {
     "name": "stdout",
     "output_type": "stream",
     "text": [
      "Fitting 3 folds for each of 16 candidates, totalling 48 fits\n",
      "[CV 1/3; 1/16] START max_depth=1, n_estimators=1................................\n",
      "[CV 1/3; 1/16] END max_depth=1, n_estimators=1;, score=-3799.259 total time=   0.3s\n",
      "[CV 2/3; 1/16] START max_depth=1, n_estimators=1................................\n",
      "[CV 2/3; 1/16] END max_depth=1, n_estimators=1;, score=-3770.587 total time=   0.3s\n",
      "[CV 3/3; 1/16] START max_depth=1, n_estimators=1................................\n",
      "[CV 3/3; 1/16] END max_depth=1, n_estimators=1;, score=-3804.325 total time=   0.3s\n",
      "[CV 1/3; 2/16] START max_depth=1, n_estimators=21...............................\n",
      "[CV 1/3; 2/16] END max_depth=1, n_estimators=21;, score=-3799.235 total time=   2.0s\n",
      "[CV 2/3; 2/16] START max_depth=1, n_estimators=21...............................\n",
      "[CV 2/3; 2/16] END max_depth=1, n_estimators=21;, score=-3770.424 total time=   1.9s\n",
      "[CV 3/3; 2/16] START max_depth=1, n_estimators=21...............................\n",
      "[CV 3/3; 2/16] END max_depth=1, n_estimators=21;, score=-3804.352 total time=   2.0s\n",
      "[CV 1/3; 3/16] START max_depth=1, n_estimators=41...............................\n",
      "[CV 1/3; 3/16] END max_depth=1, n_estimators=41;, score=-3799.241 total time=   3.7s\n",
      "[CV 2/3; 3/16] START max_depth=1, n_estimators=41...............................\n",
      "[CV 2/3; 3/16] END max_depth=1, n_estimators=41;, score=-3770.414 total time=   2.6s\n",
      "[CV 3/3; 3/16] START max_depth=1, n_estimators=41...............................\n",
      "[CV 3/3; 3/16] END max_depth=1, n_estimators=41;, score=-3804.358 total time=   2.4s\n",
      "[CV 1/3; 4/16] START max_depth=1, n_estimators=61...............................\n",
      "[CV 1/3; 4/16] END max_depth=1, n_estimators=61;, score=-3799.234 total time=   3.8s\n",
      "[CV 2/3; 4/16] START max_depth=1, n_estimators=61...............................\n",
      "[CV 2/3; 4/16] END max_depth=1, n_estimators=61;, score=-3770.422 total time=   3.9s\n",
      "[CV 3/3; 4/16] START max_depth=1, n_estimators=61...............................\n",
      "[CV 3/3; 4/16] END max_depth=1, n_estimators=61;, score=-3804.355 total time=   3.8s\n",
      "[CV 1/3; 5/16] START max_depth=11, n_estimators=1...............................\n",
      "[CV 1/3; 5/16] END max_depth=11, n_estimators=1;, score=-2168.552 total time=   1.4s\n",
      "[CV 2/3; 5/16] START max_depth=11, n_estimators=1...............................\n",
      "[CV 2/3; 5/16] END max_depth=11, n_estimators=1;, score=-2176.972 total time=   1.3s\n",
      "[CV 3/3; 5/16] START max_depth=11, n_estimators=1...............................\n",
      "[CV 3/3; 5/16] END max_depth=11, n_estimators=1;, score=-2172.531 total time=   1.0s\n",
      "[CV 1/3; 6/16] START max_depth=11, n_estimators=21..............................\n",
      "[CV 1/3; 6/16] END max_depth=11, n_estimators=21;, score=-2007.198 total time=  15.5s\n",
      "[CV 2/3; 6/16] START max_depth=11, n_estimators=21..............................\n",
      "[CV 2/3; 6/16] END max_depth=11, n_estimators=21;, score=-2010.603 total time=  16.0s\n",
      "[CV 3/3; 6/16] START max_depth=11, n_estimators=21..............................\n",
      "[CV 3/3; 6/16] END max_depth=11, n_estimators=21;, score=-2006.035 total time=  16.5s\n",
      "[CV 1/3; 7/16] START max_depth=11, n_estimators=41..............................\n",
      "[CV 1/3; 7/16] END max_depth=11, n_estimators=41;, score=-2004.740 total time=  30.8s\n",
      "[CV 2/3; 7/16] START max_depth=11, n_estimators=41..............................\n",
      "[CV 2/3; 7/16] END max_depth=11, n_estimators=41;, score=-2004.433 total time=  38.0s\n",
      "[CV 3/3; 7/16] START max_depth=11, n_estimators=41..............................\n",
      "[CV 3/3; 7/16] END max_depth=11, n_estimators=41;, score=-2004.230 total time=  36.4s\n",
      "[CV 1/3; 8/16] START max_depth=11, n_estimators=61..............................\n",
      "[CV 1/3; 8/16] END max_depth=11, n_estimators=61;, score=-2003.318 total time=  53.2s\n",
      "[CV 2/3; 8/16] START max_depth=11, n_estimators=61..............................\n",
      "[CV 2/3; 8/16] END max_depth=11, n_estimators=61;, score=-2001.258 total time=  47.6s\n",
      "[CV 3/3; 8/16] START max_depth=11, n_estimators=61..............................\n",
      "[CV 3/3; 8/16] END max_depth=11, n_estimators=61;, score=-2003.372 total time=  56.0s\n",
      "[CV 1/3; 9/16] START max_depth=21, n_estimators=1...............................\n",
      "[CV 1/3; 9/16] END max_depth=21, n_estimators=1;, score=-2225.600 total time=   1.2s\n",
      "[CV 2/3; 9/16] START max_depth=21, n_estimators=1...............................\n",
      "[CV 2/3; 9/16] END max_depth=21, n_estimators=1;, score=-2257.611 total time=   1.2s\n",
      "[CV 3/3; 9/16] START max_depth=21, n_estimators=1...............................\n",
      "[CV 3/3; 9/16] END max_depth=21, n_estimators=1;, score=-2237.536 total time=   1.2s\n",
      "[CV 1/3; 10/16] START max_depth=21, n_estimators=21.............................\n",
      "[CV 1/3; 10/16] END max_depth=21, n_estimators=21;, score=-1855.076 total time=  23.6s\n",
      "[CV 2/3; 10/16] START max_depth=21, n_estimators=21.............................\n",
      "[CV 2/3; 10/16] END max_depth=21, n_estimators=21;, score=-1855.171 total time=  33.0s\n",
      "[CV 3/3; 10/16] START max_depth=21, n_estimators=21.............................\n",
      "[CV 3/3; 10/16] END max_depth=21, n_estimators=21;, score=-1861.072 total time=  31.9s\n",
      "[CV 1/3; 11/16] START max_depth=21, n_estimators=41.............................\n",
      "[CV 1/3; 11/16] END max_depth=21, n_estimators=41;, score=-1843.100 total time=  52.9s\n",
      "[CV 2/3; 11/16] START max_depth=21, n_estimators=41.............................\n",
      "[CV 2/3; 11/16] END max_depth=21, n_estimators=41;, score=-1841.393 total time= 1.0min\n",
      "[CV 3/3; 11/16] START max_depth=21, n_estimators=41.............................\n",
      "[CV 3/3; 11/16] END max_depth=21, n_estimators=41;, score=-1850.196 total time=  47.6s\n",
      "[CV 1/3; 12/16] START max_depth=21, n_estimators=61.............................\n",
      "[CV 1/3; 12/16] END max_depth=21, n_estimators=61;, score=-1838.339 total time= 1.2min\n",
      "[CV 2/3; 12/16] START max_depth=21, n_estimators=61.............................\n",
      "[CV 2/3; 12/16] END max_depth=21, n_estimators=61;, score=-1837.769 total time= 1.3min\n",
      "[CV 3/3; 12/16] START max_depth=21, n_estimators=61.............................\n",
      "[CV 3/3; 12/16] END max_depth=21, n_estimators=61;, score=-1846.567 total time= 1.2min\n",
      "[CV 1/3; 13/16] START max_depth=31, n_estimators=1..............................\n",
      "[CV 1/3; 13/16] END max_depth=31, n_estimators=1;, score=-2281.191 total time=   1.4s\n",
      "[CV 2/3; 13/16] START max_depth=31, n_estimators=1..............................\n",
      "[CV 2/3; 13/16] END max_depth=31, n_estimators=1;, score=-2318.904 total time=   1.3s\n",
      "[CV 3/3; 13/16] START max_depth=31, n_estimators=1..............................\n",
      "[CV 3/3; 13/16] END max_depth=31, n_estimators=1;, score=-2290.281 total time=   1.3s\n",
      "[CV 1/3; 14/16] START max_depth=31, n_estimators=21.............................\n",
      "[CV 1/3; 14/16] END max_depth=31, n_estimators=21;, score=-1868.392 total time=  29.7s\n",
      "[CV 2/3; 14/16] START max_depth=31, n_estimators=21.............................\n",
      "[CV 2/3; 14/16] END max_depth=31, n_estimators=21;, score=-1869.281 total time=  26.1s\n",
      "[CV 3/3; 14/16] START max_depth=31, n_estimators=21.............................\n",
      "[CV 3/3; 14/16] END max_depth=31, n_estimators=21;, score=-1875.227 total time=  35.6s\n",
      "[CV 1/3; 15/16] START max_depth=31, n_estimators=41.............................\n",
      "[CV 1/3; 15/16] END max_depth=31, n_estimators=41;, score=-1854.754 total time= 1.0min\n",
      "[CV 2/3; 15/16] START max_depth=31, n_estimators=41.............................\n",
      "[CV 2/3; 15/16] END max_depth=31, n_estimators=41;, score=-1854.360 total time=  58.2s\n",
      "[CV 3/3; 15/16] START max_depth=31, n_estimators=41.............................\n",
      "[CV 3/3; 15/16] END max_depth=31, n_estimators=41;, score=-1864.030 total time= 1.1min\n",
      "[CV 1/3; 16/16] START max_depth=31, n_estimators=61.............................\n",
      "[CV 1/3; 16/16] END max_depth=31, n_estimators=61;, score=-1849.759 total time= 1.6min\n",
      "[CV 2/3; 16/16] START max_depth=31, n_estimators=61.............................\n",
      "[CV 2/3; 16/16] END max_depth=31, n_estimators=61;, score=-1850.415 total time= 1.4min\n",
      "[CV 3/3; 16/16] START max_depth=31, n_estimators=61.............................\n",
      "[CV 3/3; 16/16] END max_depth=31, n_estimators=61;, score=-1860.497 total time= 1.3min\n"
     ]
    },
    {
     "data": {
      "text/plain": [
       "{'max_depth': 21, 'n_estimators': 61}"
      ]
     },
     "execution_count": 20,
     "metadata": {},
     "output_type": "execute_result"
    }
   ],
   "source": [
    "# Подберем параметры для случайного леса\n",
    "RFR = RandomForestRegressor(random_state=12345)\n",
    "params = {'max_depth':list(range(1,32,10)), \n",
    "         'n_estimators': list(range(1,80,20))}\n",
    "RFR = GridSearchCV(RFR, params, scoring='neg_root_mean_squared_error', cv=3, verbose=144, n_jobs=-1)\n",
    "RFR.fit(features_train, target_train)\n",
    "RFR.best_params_"
   ]
  },
  {
   "cell_type": "code",
   "execution_count": 21,
   "metadata": {
    "scrolled": true
   },
   "outputs": [
    {
     "name": "stdout",
     "output_type": "stream",
     "text": [
      "Fitting 3 folds for each of 16 candidates, totalling 48 fits\n",
      "[CV 1/3; 1/16] START max_depth=1, n_estimators=1................................\n",
      "[CV 1/3; 1/16] END max_depth=1, n_estimators=1;, score=-4393.346 total time=   1.2s\n",
      "[CV 2/3; 1/16] START max_depth=1, n_estimators=1................................\n",
      "[CV 2/3; 1/16] END max_depth=1, n_estimators=1;, score=-4366.154 total time=   1.4s\n",
      "[CV 3/3; 1/16] START max_depth=1, n_estimators=1................................\n",
      "[CV 3/3; 1/16] END max_depth=1, n_estimators=1;, score=-4403.627 total time=   1.2s\n",
      "[CV 1/3; 2/16] START max_depth=1, n_estimators=21...............................\n",
      "[CV 1/3; 2/16] END max_depth=1, n_estimators=21;, score=-3361.730 total time=   5.7s\n",
      "[CV 2/3; 2/16] START max_depth=1, n_estimators=21...............................\n",
      "[CV 2/3; 2/16] END max_depth=1, n_estimators=21;, score=-3333.511 total time=   5.7s\n",
      "[CV 3/3; 2/16] START max_depth=1, n_estimators=21...............................\n",
      "[CV 3/3; 2/16] END max_depth=1, n_estimators=21;, score=-3368.520 total time=   5.7s\n",
      "[CV 1/3; 3/16] START max_depth=1, n_estimators=41...............................\n",
      "[CV 1/3; 3/16] END max_depth=1, n_estimators=41;, score=-3018.753 total time=  10.0s\n",
      "[CV 2/3; 3/16] START max_depth=1, n_estimators=41...............................\n",
      "[CV 2/3; 3/16] END max_depth=1, n_estimators=41;, score=-2991.427 total time=  10.0s\n",
      "[CV 3/3; 3/16] START max_depth=1, n_estimators=41...............................\n",
      "[CV 3/3; 3/16] END max_depth=1, n_estimators=41;, score=-3021.543 total time=  10.1s\n",
      "[CV 1/3; 4/16] START max_depth=1, n_estimators=61...............................\n",
      "[CV 1/3; 4/16] END max_depth=1, n_estimators=61;, score=-2833.933 total time=  14.5s\n",
      "[CV 2/3; 4/16] START max_depth=1, n_estimators=61...............................\n",
      "[CV 2/3; 4/16] END max_depth=1, n_estimators=61;, score=-2807.569 total time=  14.6s\n",
      "[CV 3/3; 4/16] START max_depth=1, n_estimators=61...............................\n",
      "[CV 3/3; 4/16] END max_depth=1, n_estimators=61;, score=-2834.722 total time=  14.6s\n",
      "[CV 1/3; 5/16] START max_depth=11, n_estimators=1...............................\n",
      "[CV 1/3; 5/16] END max_depth=11, n_estimators=1;, score=-4212.578 total time=   6.5s\n",
      "[CV 2/3; 5/16] START max_depth=11, n_estimators=1...............................\n",
      "[CV 2/3; 5/16] END max_depth=11, n_estimators=1;, score=-4187.173 total time=   6.7s\n",
      "[CV 3/3; 5/16] START max_depth=11, n_estimators=1...............................\n",
      "[CV 3/3; 5/16] END max_depth=11, n_estimators=1;, score=-4223.088 total time=   6.4s\n",
      "[CV 1/3; 6/16] START max_depth=11, n_estimators=21..............................\n",
      "[CV 1/3; 6/16] END max_depth=11, n_estimators=21;, score=-2238.888 total time= 1.6min\n",
      "[CV 2/3; 6/16] START max_depth=11, n_estimators=21..............................\n",
      "[CV 2/3; 6/16] END max_depth=11, n_estimators=21;, score=-2219.093 total time= 1.5min\n",
      "[CV 3/3; 6/16] START max_depth=11, n_estimators=21..............................\n",
      "[CV 3/3; 6/16] END max_depth=11, n_estimators=21;, score=-2236.419 total time= 1.5min\n",
      "[CV 1/3; 7/16] START max_depth=11, n_estimators=41..............................\n",
      "[CV 1/3; 7/16] END max_depth=11, n_estimators=41;, score=-2006.203 total time= 3.3min\n",
      "[CV 2/3; 7/16] START max_depth=11, n_estimators=41..............................\n",
      "[CV 2/3; 7/16] END max_depth=11, n_estimators=41;, score=-1999.581 total time= 2.4min\n",
      "[CV 3/3; 7/16] START max_depth=11, n_estimators=41..............................\n",
      "[CV 3/3; 7/16] END max_depth=11, n_estimators=41;, score=-2005.097 total time= 1.9min\n",
      "[CV 1/3; 8/16] START max_depth=11, n_estimators=61..............................\n",
      "[CV 1/3; 8/16] END max_depth=11, n_estimators=61;, score=-1943.812 total time= 2.5min\n",
      "[CV 2/3; 8/16] START max_depth=11, n_estimators=61..............................\n",
      "[CV 2/3; 8/16] END max_depth=11, n_estimators=61;, score=-1940.266 total time= 2.8min\n",
      "[CV 3/3; 8/16] START max_depth=11, n_estimators=61..............................\n",
      "[CV 3/3; 8/16] END max_depth=11, n_estimators=61;, score=-1946.936 total time= 2.0min\n",
      "[CV 1/3; 9/16] START max_depth=21, n_estimators=1...............................\n",
      "[CV 1/3; 9/16] END max_depth=21, n_estimators=1;, score=-4212.578 total time=   2.3s\n",
      "[CV 2/3; 9/16] START max_depth=21, n_estimators=1...............................\n",
      "[CV 2/3; 9/16] END max_depth=21, n_estimators=1;, score=-4187.173 total time=   1.5s\n",
      "[CV 3/3; 9/16] START max_depth=21, n_estimators=1...............................\n",
      "[CV 3/3; 9/16] END max_depth=21, n_estimators=1;, score=-4223.088 total time=   4.5s\n",
      "[CV 1/3; 10/16] START max_depth=21, n_estimators=21.............................\n",
      "[CV 1/3; 10/16] END max_depth=21, n_estimators=21;, score=-2238.654 total time= 1.4min\n",
      "[CV 2/3; 10/16] START max_depth=21, n_estimators=21.............................\n",
      "[CV 2/3; 10/16] END max_depth=21, n_estimators=21;, score=-2219.093 total time=  26.4s\n",
      "[CV 3/3; 10/16] START max_depth=21, n_estimators=21.............................\n",
      "[CV 3/3; 10/16] END max_depth=21, n_estimators=21;, score=-2236.419 total time=  27.6s\n",
      "[CV 1/3; 11/16] START max_depth=21, n_estimators=41.............................\n",
      "[CV 1/3; 11/16] END max_depth=21, n_estimators=41;, score=-2008.720 total time= 1.4min\n",
      "[CV 2/3; 11/16] START max_depth=21, n_estimators=41.............................\n",
      "[CV 2/3; 11/16] END max_depth=21, n_estimators=41;, score=-1998.408 total time= 2.2min\n",
      "[CV 3/3; 11/16] START max_depth=21, n_estimators=41.............................\n",
      "[CV 3/3; 11/16] END max_depth=21, n_estimators=41;, score=-2004.342 total time= 1.8min\n",
      "[CV 1/3; 12/16] START max_depth=21, n_estimators=61.............................\n",
      "[CV 1/3; 12/16] END max_depth=21, n_estimators=61;, score=-1946.315 total time= 3.2min\n",
      "[CV 2/3; 12/16] START max_depth=21, n_estimators=61.............................\n",
      "[CV 2/3; 12/16] END max_depth=21, n_estimators=61;, score=-1937.850 total time= 2.5min\n",
      "[CV 3/3; 12/16] START max_depth=21, n_estimators=61.............................\n",
      "[CV 3/3; 12/16] END max_depth=21, n_estimators=61;, score=-1943.223 total time= 2.4min\n",
      "[CV 1/3; 13/16] START max_depth=31, n_estimators=1..............................\n",
      "[CV 1/3; 13/16] END max_depth=31, n_estimators=1;, score=-4212.578 total time=   7.0s\n",
      "[CV 2/3; 13/16] START max_depth=31, n_estimators=1..............................\n",
      "[CV 2/3; 13/16] END max_depth=31, n_estimators=1;, score=-4187.173 total time=   5.2s\n",
      "[CV 3/3; 13/16] START max_depth=31, n_estimators=1..............................\n",
      "[CV 3/3; 13/16] END max_depth=31, n_estimators=1;, score=-4223.088 total time=   6.7s\n",
      "[CV 1/3; 14/16] START max_depth=31, n_estimators=21.............................\n",
      "[CV 1/3; 14/16] END max_depth=31, n_estimators=21;, score=-2238.654 total time= 1.4min\n",
      "[CV 2/3; 14/16] START max_depth=31, n_estimators=21.............................\n",
      "[CV 2/3; 14/16] END max_depth=31, n_estimators=21;, score=-2219.093 total time= 1.1min\n",
      "[CV 3/3; 14/16] START max_depth=31, n_estimators=21.............................\n",
      "[CV 3/3; 14/16] END max_depth=31, n_estimators=21;, score=-2236.419 total time=  57.4s\n",
      "[CV 1/3; 15/16] START max_depth=31, n_estimators=41.............................\n",
      "[CV 1/3; 15/16] END max_depth=31, n_estimators=41;, score=-2008.720 total time= 1.4min\n",
      "[CV 2/3; 15/16] START max_depth=31, n_estimators=41.............................\n",
      "[CV 2/3; 15/16] END max_depth=31, n_estimators=41;, score=-1998.408 total time= 1.4min\n",
      "[CV 3/3; 15/16] START max_depth=31, n_estimators=41.............................\n",
      "[CV 3/3; 15/16] END max_depth=31, n_estimators=41;, score=-2004.342 total time= 1.9min\n",
      "[CV 1/3; 16/16] START max_depth=31, n_estimators=61.............................\n",
      "[CV 1/3; 16/16] END max_depth=31, n_estimators=61;, score=-1946.315 total time= 2.4min\n",
      "[CV 2/3; 16/16] START max_depth=31, n_estimators=61.............................\n",
      "[CV 2/3; 16/16] END max_depth=31, n_estimators=61;, score=-1937.850 total time= 1.7min\n",
      "[CV 3/3; 16/16] START max_depth=31, n_estimators=61.............................\n",
      "[CV 3/3; 16/16] END max_depth=31, n_estimators=61;, score=-1943.223 total time= 3.7min\n"
     ]
    },
    {
     "data": {
      "text/plain": [
       "{'max_depth': 21, 'n_estimators': 61}"
      ]
     },
     "execution_count": 21,
     "metadata": {},
     "output_type": "execute_result"
    }
   ],
   "source": [
    "# Подберем параметры для случайного леса\n",
    "LGBM = LGBMRegressor(random_state=12345)\n",
    "params = {'max_depth':list(range(1,32,10)), \n",
    "         'n_estimators': list(range(1,80,20))}\n",
    "LGBM = GridSearchCV(LGBM, params, scoring='neg_root_mean_squared_error', cv=3, verbose=48)\n",
    "LGBM.fit(features_train, target_train)\n",
    "LGBM.best_params_"
   ]
  },
  {
   "cell_type": "markdown",
   "metadata": {},
   "source": [
    "## Анализ моделей"
   ]
  },
  {
   "cell_type": "code",
   "execution_count": 22,
   "metadata": {},
   "outputs": [],
   "source": [
    "# Создадим различные модели с оптимальными параметрами, полученными в предыдущем пункте\n",
    "LR = LinearRegression()\n",
    "DTR = DecisionTreeRegressor(random_state=12345, max_depth=16)\n",
    "RFR = RandomForestRegressor(random_state=12345, max_depth=21, n_estimators=61)\n",
    "LGBM = LGBMRegressor(random_state=12345, max_depth=21, n_estimators=61)\n",
    "# Создадим списки, содержащие время работы и значения метрики\n",
    "train_time = []\n",
    "pred_time = []\n",
    "train_rmse = []\n",
    "valid_rmse = []\n",
    "models = [LR, DTR, RFR, LGBM]\n",
    "# Обучим модели и оценим качество предсказаний\n",
    "for model in models:\n",
    "    start_time = time.time()\n",
    "    model.fit(features_train, target_train)\n",
    "    train_time.append(time.time() - start_time)\n",
    "    start_time = time.time()\n",
    "    pred_valid = model.predict(features_valid)\n",
    "    pred_time.append(time.time() - start_time)\n",
    "    pred_train = model.predict(features_train)\n",
    "    train_rmse.append(mean_squared_error(target_train, pred_train, squared=False))\n",
    "    valid_rmse.append(mean_squared_error(target_valid, pred_valid, squared=False))"
   ]
  },
  {
   "cell_type": "code",
   "execution_count": 23,
   "metadata": {
    "scrolled": true
   },
   "outputs": [
    {
     "data": {
      "text/html": [
       "<div>\n",
       "<style scoped>\n",
       "    .dataframe tbody tr th:only-of-type {\n",
       "        vertical-align: middle;\n",
       "    }\n",
       "\n",
       "    .dataframe tbody tr th {\n",
       "        vertical-align: top;\n",
       "    }\n",
       "\n",
       "    .dataframe thead th {\n",
       "        text-align: right;\n",
       "    }\n",
       "</style>\n",
       "<table border=\"1\" class=\"dataframe\">\n",
       "  <thead>\n",
       "    <tr style=\"text-align: right;\">\n",
       "      <th></th>\n",
       "      <th>Время на обучение</th>\n",
       "      <th>Время на предсказание</th>\n",
       "      <th>RMSE на тренировочной выборке, EUR</th>\n",
       "      <th>RMSE на валидационной выборке, EUR</th>\n",
       "    </tr>\n",
       "  </thead>\n",
       "  <tbody>\n",
       "    <tr>\n",
       "      <td>Линейная регрессия</td>\n",
       "      <td>3.873527</td>\n",
       "      <td>0.193223</td>\n",
       "      <td>3422.370060</td>\n",
       "      <td>3417.270631</td>\n",
       "    </tr>\n",
       "    <tr>\n",
       "      <td>Дерево решений</td>\n",
       "      <td>2.529662</td>\n",
       "      <td>0.038297</td>\n",
       "      <td>1600.968917</td>\n",
       "      <td>2013.634860</td>\n",
       "    </tr>\n",
       "    <tr>\n",
       "      <td>Случайный лес</td>\n",
       "      <td>147.043198</td>\n",
       "      <td>2.206714</td>\n",
       "      <td>1297.824740</td>\n",
       "      <td>1797.434354</td>\n",
       "    </tr>\n",
       "    <tr>\n",
       "      <td>Градиентный бустинг</td>\n",
       "      <td>177.753121</td>\n",
       "      <td>0.533343</td>\n",
       "      <td>1925.535092</td>\n",
       "      <td>1938.759177</td>\n",
       "    </tr>\n",
       "  </tbody>\n",
       "</table>\n",
       "</div>"
      ],
      "text/plain": [
       "                     Время на обучение  Время на предсказание  \\\n",
       "Линейная регрессия            3.873527               0.193223   \n",
       "Дерево решений                2.529662               0.038297   \n",
       "Случайный лес               147.043198               2.206714   \n",
       "Градиентный бустинг         177.753121               0.533343   \n",
       "\n",
       "                     RMSE на тренировочной выборке, EUR  \\\n",
       "Линейная регрессия                          3422.370060   \n",
       "Дерево решений                              1600.968917   \n",
       "Случайный лес                               1297.824740   \n",
       "Градиентный бустинг                         1925.535092   \n",
       "\n",
       "                     RMSE на валидационной выборке, EUR  \n",
       "Линейная регрессия                          3417.270631  \n",
       "Дерево решений                              2013.634860  \n",
       "Случайный лес                               1797.434354  \n",
       "Градиентный бустинг                         1938.759177  "
      ]
     },
     "execution_count": 23,
     "metadata": {},
     "output_type": "execute_result"
    }
   ],
   "source": [
    "# Создадим датафрейм с результатами\n",
    "d = {'Время на обучение':train_time,\n",
    "    'Время на предсказание':pred_time,\n",
    "    'RMSE на тренировочной выборке, EUR':train_rmse,\n",
    "    'RMSE на валидационной выборке, EUR':valid_rmse,\n",
    "    }\n",
    "df = pd.DataFrame(d, index=['Линейная регрессия', \"Дерево решений\", \"Случайный лес\", \"Градиентный бустинг\"])\n",
    "df.head()"
   ]
  },
  {
   "cell_type": "markdown",
   "metadata": {},
   "source": [
    "## Выводы"
   ]
  },
  {
   "cell_type": "markdown",
   "metadata": {},
   "source": [
    "В рамках данного проекта были подготовлены данные и обучены 4 модели для предсказания цен автомобилей. Были получены следующие результаты:\n",
    "\n",
    "- Наибольшей скоростью обучения и предсказания обладает дерево решений, 2,5с и 0,04с соответсвенно. Больше всего времени на обучение требуется градиентному бустингу 178с, затем идет случайный лес с 147с. При этом градиентный бустинг предсказывает в разы быстрее, чем случайный лес, 0,5с протиив 2,2с.\n",
    "- Согласно сравнению значений метрики RMSE для тренировочной и валидационной выборок, дерево решений и случайный лес переобучились. Возможно, стоило уменьшить допустимый диапазон на глубину и количество деревьев.\n",
    "- С учетом переобучения наиболее качественной моделью является градиентный бустинг, так как на тренировочной и валидационной выборках модель выдает схожие и относительной хорошие значения.\n",
    "\n",
    "Таким образом, при заданном диапазоне оптимизации параметров в плане качества и скорости предсказаний модель градиентного бустинга является лучшей. Однако, она обучается намного дольше других моделей.  "
   ]
  },
  {
   "cell_type": "code",
   "execution_count": null,
   "metadata": {},
   "outputs": [],
   "source": []
  }
 ],
 "metadata": {
  "ExecuteTimeLog": [
   {
    "duration": 979,
    "start_time": "2021-11-24T17:16:13.384Z"
   },
   {
    "duration": 357,
    "start_time": "2021-11-24T17:16:16.514Z"
   },
   {
    "duration": 683,
    "start_time": "2021-11-24T17:16:18.880Z"
   },
   {
    "duration": 2,
    "start_time": "2021-11-24T17:16:29.201Z"
   },
   {
    "duration": 3,
    "start_time": "2021-11-24T17:16:31.579Z"
   },
   {
    "duration": 22,
    "start_time": "2021-11-24T17:19:57.730Z"
   },
   {
    "duration": 319,
    "start_time": "2021-11-24T17:20:54.173Z"
   },
   {
    "duration": 3,
    "start_time": "2021-11-24T17:21:13.125Z"
   },
   {
    "duration": 3,
    "start_time": "2021-11-24T17:21:14.765Z"
   },
   {
    "duration": 781,
    "start_time": "2021-11-24T17:21:50.816Z"
   },
   {
    "duration": 791,
    "start_time": "2021-11-24T17:21:56.774Z"
   },
   {
    "duration": 792,
    "start_time": "2021-11-24T17:22:02.097Z"
   },
   {
    "duration": 3,
    "start_time": "2021-11-24T17:24:29.194Z"
   },
   {
    "duration": 3,
    "start_time": "2021-11-24T17:25:31.264Z"
   },
   {
    "duration": 117,
    "start_time": "2021-11-24T17:34:31.327Z"
   },
   {
    "duration": 118,
    "start_time": "2021-11-24T17:34:46.434Z"
   },
   {
    "duration": 204,
    "start_time": "2021-11-24T17:34:52.693Z"
   },
   {
    "duration": 220,
    "start_time": "2021-11-24T17:46:17.422Z"
   },
   {
    "duration": 1314,
    "start_time": "2021-11-24T17:46:22.622Z"
   },
   {
    "duration": 1305,
    "start_time": "2021-11-24T17:46:29.059Z"
   },
   {
    "duration": 12985,
    "start_time": "2021-11-24T17:48:22.960Z"
   },
   {
    "duration": 5,
    "start_time": "2021-11-24T17:48:39.000Z"
   },
   {
    "duration": 8,
    "start_time": "2021-11-24T17:48:46.586Z"
   },
   {
    "duration": 960,
    "start_time": "2021-11-24T17:49:05.921Z"
   },
   {
    "duration": 274,
    "start_time": "2021-11-24T17:50:33.962Z"
   },
   {
    "duration": 7278,
    "start_time": "2021-11-24T17:50:38.955Z"
   },
   {
    "duration": 222,
    "start_time": "2021-11-24T17:50:59.357Z"
   },
   {
    "duration": 211,
    "start_time": "2021-11-24T17:51:19.640Z"
   },
   {
    "duration": 6735,
    "start_time": "2021-11-24T17:51:27.877Z"
   },
   {
    "duration": 227,
    "start_time": "2021-11-24T17:51:43.992Z"
   },
   {
    "duration": 300,
    "start_time": "2021-11-24T19:11:54.680Z"
   },
   {
    "duration": 277,
    "start_time": "2021-11-24T19:12:11.480Z"
   },
   {
    "duration": 222,
    "start_time": "2021-11-24T19:12:14.859Z"
   },
   {
    "duration": 722,
    "start_time": "2021-11-24T19:37:10.545Z"
   },
   {
    "duration": 3,
    "start_time": "2021-11-24T19:37:38.285Z"
   },
   {
    "duration": 502,
    "start_time": "2021-11-24T19:37:42.120Z"
   },
   {
    "duration": 1096,
    "start_time": "2021-11-24T19:37:48.224Z"
   },
   {
    "duration": 1125,
    "start_time": "2021-11-24T19:38:07.634Z"
   },
   {
    "duration": 1033,
    "start_time": "2021-11-24T19:38:19.769Z"
   },
   {
    "duration": 1211,
    "start_time": "2021-11-25T19:08:29.424Z"
   },
   {
    "duration": 1102,
    "start_time": "2021-11-25T19:08:30.637Z"
   },
   {
    "duration": 1069,
    "start_time": "2021-11-25T19:08:31.741Z"
   },
   {
    "duration": 5,
    "start_time": "2021-11-25T19:08:33.975Z"
   },
   {
    "duration": 411,
    "start_time": "2021-11-25T19:27:19.036Z"
   },
   {
    "duration": 69,
    "start_time": "2021-11-25T19:27:28.086Z"
   },
   {
    "duration": 396,
    "start_time": "2021-11-25T19:27:34.263Z"
   },
   {
    "duration": 381,
    "start_time": "2021-11-25T19:27:37.072Z"
   },
   {
    "duration": 389,
    "start_time": "2021-11-25T19:28:01.995Z"
   },
   {
    "duration": 54,
    "start_time": "2021-11-25T19:28:12.736Z"
   },
   {
    "duration": 415,
    "start_time": "2021-11-25T19:29:00.210Z"
   },
   {
    "duration": 84,
    "start_time": "2021-11-25T19:29:55.824Z"
   },
   {
    "duration": 91,
    "start_time": "2021-11-25T19:30:02.973Z"
   },
   {
    "duration": 187,
    "start_time": "2021-11-25T19:31:20.878Z"
   },
   {
    "duration": 4,
    "start_time": "2021-11-25T19:43:58.344Z"
   },
   {
    "duration": 27,
    "start_time": "2021-11-25T19:44:03.216Z"
   },
   {
    "duration": 4,
    "start_time": "2021-11-25T19:44:08.973Z"
   },
   {
    "duration": 48,
    "start_time": "2021-11-25T19:44:13.920Z"
   },
   {
    "duration": 5,
    "start_time": "2021-11-25T19:44:19.409Z"
   },
   {
    "duration": 6,
    "start_time": "2021-11-25T19:45:04.590Z"
   },
   {
    "duration": 5,
    "start_time": "2021-11-25T19:45:07.891Z"
   },
   {
    "duration": 5,
    "start_time": "2021-11-25T19:45:11.193Z"
   },
   {
    "duration": 6,
    "start_time": "2021-11-25T19:47:01.304Z"
   },
   {
    "duration": 292,
    "start_time": "2021-11-27T07:32:32.243Z"
   },
   {
    "duration": 1198,
    "start_time": "2021-11-27T07:32:35.793Z"
   },
   {
    "duration": 1213,
    "start_time": "2021-11-27T07:32:36.993Z"
   },
   {
    "duration": 1093,
    "start_time": "2021-11-27T07:32:38.209Z"
   },
   {
    "duration": 126,
    "start_time": "2021-11-27T07:32:39.304Z"
   },
   {
    "duration": 35,
    "start_time": "2021-11-27T07:32:39.432Z"
   },
   {
    "duration": 18,
    "start_time": "2021-11-27T07:32:41.025Z"
   },
   {
    "duration": 28,
    "start_time": "2021-11-27T07:33:16.540Z"
   },
   {
    "duration": 632,
    "start_time": "2021-11-27T07:35:25.437Z"
   },
   {
    "duration": 662,
    "start_time": "2021-11-27T07:35:42.035Z"
   },
   {
    "duration": 334,
    "start_time": "2021-11-27T07:36:05.747Z"
   },
   {
    "duration": 123,
    "start_time": "2021-11-27T07:36:14.556Z"
   },
   {
    "duration": 164,
    "start_time": "2021-11-27T07:38:06.758Z"
   },
   {
    "duration": 80,
    "start_time": "2021-11-27T07:38:23.289Z"
   },
   {
    "duration": 76,
    "start_time": "2021-11-27T07:38:26.979Z"
   },
   {
    "duration": 85,
    "start_time": "2021-11-27T07:39:19.237Z"
   },
   {
    "duration": 356,
    "start_time": "2021-11-27T10:48:32.546Z"
   },
   {
    "duration": 5,
    "start_time": "2021-11-27T10:48:38.189Z"
   },
   {
    "duration": 1656,
    "start_time": "2021-11-27T10:48:38.196Z"
   },
   {
    "duration": 1750,
    "start_time": "2021-11-27T10:48:39.863Z"
   },
   {
    "duration": 225,
    "start_time": "2021-11-27T10:48:41.615Z"
   },
   {
    "duration": 186,
    "start_time": "2021-11-27T10:48:41.842Z"
   },
   {
    "duration": 156,
    "start_time": "2021-11-27T10:48:42.031Z"
   },
   {
    "duration": 450,
    "start_time": "2021-11-27T10:48:42.189Z"
   },
   {
    "duration": 18,
    "start_time": "2021-11-27T10:48:48.058Z"
   },
   {
    "duration": 81,
    "start_time": "2021-11-27T10:51:15.199Z"
   },
   {
    "duration": 21,
    "start_time": "2021-11-27T10:52:29.050Z"
   },
   {
    "duration": 37,
    "start_time": "2021-11-27T10:52:41.586Z"
   },
   {
    "duration": 80,
    "start_time": "2021-11-27T10:52:54.387Z"
   },
   {
    "duration": 37,
    "start_time": "2021-11-27T10:53:14.177Z"
   },
   {
    "duration": 84,
    "start_time": "2021-11-27T10:53:18.032Z"
   },
   {
    "duration": 28,
    "start_time": "2021-11-27T10:53:21.855Z"
   },
   {
    "duration": 15,
    "start_time": "2021-11-27T10:53:35.544Z"
   },
   {
    "duration": 13,
    "start_time": "2021-11-27T10:53:38.961Z"
   },
   {
    "duration": 89,
    "start_time": "2021-11-27T10:53:46.006Z"
   },
   {
    "duration": 37,
    "start_time": "2021-11-27T10:54:09.545Z"
   },
   {
    "duration": 84,
    "start_time": "2021-11-27T10:54:14.751Z"
   },
   {
    "duration": 36,
    "start_time": "2021-11-27T10:54:21.292Z"
   },
   {
    "duration": 27,
    "start_time": "2021-11-27T10:54:23.137Z"
   },
   {
    "duration": 14,
    "start_time": "2021-11-27T10:54:35.093Z"
   },
   {
    "duration": 40,
    "start_time": "2021-11-27T10:55:09.102Z"
   },
   {
    "duration": 9,
    "start_time": "2021-11-27T10:55:09.396Z"
   },
   {
    "duration": 37,
    "start_time": "2021-11-27T10:55:11.432Z"
   },
   {
    "duration": 8,
    "start_time": "2021-11-27T10:55:11.670Z"
   },
   {
    "duration": 32,
    "start_time": "2021-11-27T10:55:15.646Z"
   },
   {
    "duration": 9,
    "start_time": "2021-11-27T10:55:15.956Z"
   },
   {
    "duration": 31,
    "start_time": "2021-11-27T10:55:22.549Z"
   },
   {
    "duration": 5,
    "start_time": "2021-11-27T10:55:22.760Z"
   },
   {
    "duration": 4,
    "start_time": "2021-11-27T10:55:25.617Z"
   },
   {
    "duration": 1052,
    "start_time": "2021-11-27T10:55:25.623Z"
   },
   {
    "duration": 1187,
    "start_time": "2021-11-27T10:55:26.677Z"
   },
   {
    "duration": 127,
    "start_time": "2021-11-27T10:55:27.866Z"
   },
   {
    "duration": 129,
    "start_time": "2021-11-27T10:55:27.995Z"
   },
   {
    "duration": 104,
    "start_time": "2021-11-27T10:55:28.126Z"
   },
   {
    "duration": 37,
    "start_time": "2021-11-27T10:55:28.336Z"
   },
   {
    "duration": 14,
    "start_time": "2021-11-27T10:55:29.020Z"
   },
   {
    "duration": 19,
    "start_time": "2021-11-27T10:55:50.745Z"
   },
   {
    "duration": 21,
    "start_time": "2021-11-27T10:55:54.587Z"
   },
   {
    "duration": 28,
    "start_time": "2021-11-27T10:56:00.723Z"
   },
   {
    "duration": 14,
    "start_time": "2021-11-27T10:56:01.067Z"
   },
   {
    "duration": 44,
    "start_time": "2021-11-27T10:56:17.987Z"
   },
   {
    "duration": 77,
    "start_time": "2021-11-27T10:56:20.250Z"
   },
   {
    "duration": 20,
    "start_time": "2021-11-27T10:56:31.264Z"
   },
   {
    "duration": 246,
    "start_time": "2021-11-27T10:58:08.588Z"
   },
   {
    "duration": 221,
    "start_time": "2021-11-27T10:58:17.382Z"
   },
   {
    "duration": 4543,
    "start_time": "2021-11-27T10:58:34.847Z"
   },
   {
    "duration": 24,
    "start_time": "2021-11-27T10:58:45.245Z"
   },
   {
    "duration": 20,
    "start_time": "2021-11-27T10:59:13.362Z"
   },
   {
    "duration": 280,
    "start_time": "2021-11-27T10:59:35.408Z"
   },
   {
    "duration": 241,
    "start_time": "2021-11-27T10:59:40.346Z"
   },
   {
    "duration": 396,
    "start_time": "2021-11-27T10:59:44.894Z"
   },
   {
    "duration": 18,
    "start_time": "2021-11-27T11:00:53.466Z"
   },
   {
    "duration": 17,
    "start_time": "2021-11-27T11:01:00.795Z"
   },
   {
    "duration": 13,
    "start_time": "2021-11-27T11:01:09.190Z"
   },
   {
    "duration": 13,
    "start_time": "2021-11-27T11:01:19.741Z"
   },
   {
    "duration": 8131,
    "start_time": "2021-11-27T11:01:49.668Z"
   },
   {
    "duration": 17,
    "start_time": "2021-11-27T11:01:59.213Z"
   },
   {
    "duration": 17,
    "start_time": "2021-11-27T11:05:10.792Z"
   },
   {
    "duration": 25,
    "start_time": "2021-11-27T11:07:53.305Z"
   },
   {
    "duration": 17,
    "start_time": "2021-11-27T11:07:56.769Z"
   },
   {
    "duration": 59,
    "start_time": "2021-11-27T11:08:31.372Z"
   },
   {
    "duration": 151,
    "start_time": "2021-11-27T11:10:40.537Z"
   },
   {
    "duration": 6,
    "start_time": "2021-11-27T11:11:27.742Z"
   },
   {
    "duration": 191,
    "start_time": "2021-11-27T11:13:53.826Z"
   },
   {
    "duration": 1664,
    "start_time": "2021-11-27T11:15:32.936Z"
   },
   {
    "duration": 2466,
    "start_time": "2021-11-27T11:15:49.465Z"
   },
   {
    "duration": 354,
    "start_time": "2021-11-27T11:16:51.013Z"
   },
   {
    "duration": 895,
    "start_time": "2021-11-27T11:18:13.115Z"
   },
   {
    "duration": 13938,
    "start_time": "2021-11-27T11:18:43.798Z"
   },
   {
    "duration": 4914,
    "start_time": "2021-11-27T11:19:52.479Z"
   },
   {
    "duration": 14,
    "start_time": "2021-11-27T11:20:02.720Z"
   },
   {
    "duration": 5509,
    "start_time": "2021-11-27T11:20:06.694Z"
   },
   {
    "duration": 2949,
    "start_time": "2021-11-27T11:20:16.033Z"
   },
   {
    "duration": 4239,
    "start_time": "2021-11-27T11:20:27.079Z"
   },
   {
    "duration": 296,
    "start_time": "2021-11-27T11:21:01.098Z"
   },
   {
    "duration": 3570,
    "start_time": "2021-11-27T11:21:07.971Z"
   },
   {
    "duration": 48,
    "start_time": "2021-11-27T11:22:09.407Z"
   },
   {
    "duration": 48,
    "start_time": "2021-11-27T11:22:13.044Z"
   },
   {
    "duration": 57,
    "start_time": "2021-11-27T11:22:13.523Z"
   },
   {
    "duration": 80,
    "start_time": "2021-11-27T11:22:17.806Z"
   },
   {
    "duration": 19,
    "start_time": "2021-11-27T11:22:35.673Z"
   },
   {
    "duration": 96,
    "start_time": "2021-11-27T11:23:04.248Z"
   },
   {
    "duration": 3,
    "start_time": "2021-11-27T11:23:10.934Z"
   },
   {
    "duration": 1031,
    "start_time": "2021-11-27T11:23:10.939Z"
   },
   {
    "duration": 1102,
    "start_time": "2021-11-27T11:23:11.972Z"
   },
   {
    "duration": 190,
    "start_time": "2021-11-27T11:23:13.077Z"
   },
   {
    "duration": 106,
    "start_time": "2021-11-27T11:23:13.269Z"
   },
   {
    "duration": 71,
    "start_time": "2021-11-27T11:23:13.377Z"
   },
   {
    "duration": 55,
    "start_time": "2021-11-27T11:23:13.464Z"
   },
   {
    "duration": 44,
    "start_time": "2021-11-27T11:23:13.816Z"
   },
   {
    "duration": 17,
    "start_time": "2021-11-27T11:23:16.748Z"
   },
   {
    "duration": 83,
    "start_time": "2021-11-27T11:23:23.510Z"
   },
   {
    "duration": 2499,
    "start_time": "2021-11-27T11:23:47.024Z"
   },
   {
    "duration": 1797,
    "start_time": "2021-11-27T11:23:54.904Z"
   },
   {
    "duration": 24,
    "start_time": "2021-11-27T11:24:13.162Z"
   },
   {
    "duration": 133,
    "start_time": "2021-11-27T11:25:21.677Z"
   },
   {
    "duration": 715,
    "start_time": "2021-11-27T11:25:48.891Z"
   },
   {
    "duration": 530,
    "start_time": "2021-11-27T11:25:58.128Z"
   },
   {
    "duration": 518,
    "start_time": "2021-11-27T11:26:03.663Z"
   },
   {
    "duration": 520,
    "start_time": "2021-11-27T11:26:14.473Z"
   },
   {
    "duration": 460,
    "start_time": "2021-11-27T11:27:08.953Z"
   },
   {
    "duration": 532,
    "start_time": "2021-11-27T11:27:10.977Z"
   },
   {
    "duration": 4,
    "start_time": "2021-11-27T11:27:20.475Z"
   },
   {
    "duration": 1160,
    "start_time": "2021-11-27T11:27:20.482Z"
   },
   {
    "duration": 1087,
    "start_time": "2021-11-27T11:27:21.644Z"
   },
   {
    "duration": 547,
    "start_time": "2021-11-27T11:27:22.733Z"
   },
   {
    "duration": 463,
    "start_time": "2021-11-27T11:27:23.282Z"
   },
   {
    "duration": 99,
    "start_time": "2021-11-27T11:27:23.747Z"
   },
   {
    "duration": 69,
    "start_time": "2021-11-27T11:27:23.848Z"
   },
   {
    "duration": 62,
    "start_time": "2021-11-27T11:27:23.919Z"
   },
   {
    "duration": 57,
    "start_time": "2021-11-27T11:27:23.983Z"
   },
   {
    "duration": 6913,
    "start_time": "2021-11-27T11:28:02.968Z"
   },
   {
    "duration": 1170,
    "start_time": "2021-11-27T11:28:22.062Z"
   },
   {
    "duration": 34,
    "start_time": "2021-11-27T11:28:43.932Z"
   },
   {
    "duration": 3768,
    "start_time": "2021-11-27T11:28:56.475Z"
   },
   {
    "duration": 8,
    "start_time": "2021-11-27T11:29:54.542Z"
   },
   {
    "duration": 46,
    "start_time": "2021-11-27T11:34:41.355Z"
   },
   {
    "duration": 2465,
    "start_time": "2021-11-27T11:35:29.568Z"
   },
   {
    "duration": 1987,
    "start_time": "2021-11-27T11:36:04.408Z"
   },
   {
    "duration": 22,
    "start_time": "2021-11-27T11:36:41.979Z"
   },
   {
    "duration": 45,
    "start_time": "2021-11-27T11:36:52.617Z"
   },
   {
    "duration": 22,
    "start_time": "2021-11-27T11:37:09.646Z"
   },
   {
    "duration": 218,
    "start_time": "2021-11-27T11:37:16.064Z"
   },
   {
    "duration": 200,
    "start_time": "2021-11-27T11:37:34.496Z"
   },
   {
    "duration": 268,
    "start_time": "2021-11-27T11:37:43.326Z"
   },
   {
    "duration": 437,
    "start_time": "2021-11-27T11:37:51.400Z"
   },
   {
    "duration": 264,
    "start_time": "2021-11-27T11:38:02.816Z"
   },
   {
    "duration": 270,
    "start_time": "2021-11-27T11:38:10.581Z"
   },
   {
    "duration": 20,
    "start_time": "2021-11-27T11:38:32.301Z"
   },
   {
    "duration": 25,
    "start_time": "2021-11-27T11:38:40.142Z"
   },
   {
    "duration": 48,
    "start_time": "2021-11-27T11:39:08.332Z"
   },
   {
    "duration": 97,
    "start_time": "2021-11-27T11:39:19.919Z"
   },
   {
    "duration": 4,
    "start_time": "2021-11-27T11:40:20.296Z"
   },
   {
    "duration": 3,
    "start_time": "2021-11-27T11:41:42.493Z"
   },
   {
    "duration": 74,
    "start_time": "2021-11-27T12:15:37.316Z"
   },
   {
    "duration": 60,
    "start_time": "2021-11-27T12:15:37.707Z"
   },
   {
    "duration": 16,
    "start_time": "2021-11-27T12:15:50.849Z"
   },
   {
    "duration": 5200,
    "start_time": "2021-11-27T12:19:25.633Z"
   },
   {
    "duration": 19,
    "start_time": "2021-11-27T12:19:39.150Z"
   },
   {
    "duration": 318,
    "start_time": "2021-11-27T12:20:09.721Z"
   },
   {
    "duration": 4814,
    "start_time": "2021-11-27T12:20:20.984Z"
   },
   {
    "duration": 244,
    "start_time": "2021-11-27T12:20:28.502Z"
   },
   {
    "duration": 15,
    "start_time": "2021-11-27T12:20:34.919Z"
   },
   {
    "duration": 370,
    "start_time": "2021-11-27T12:20:38.234Z"
   },
   {
    "duration": 13,
    "start_time": "2021-11-27T12:20:42.538Z"
   },
   {
    "duration": 466,
    "start_time": "2021-11-27T12:20:50.689Z"
   },
   {
    "duration": 11,
    "start_time": "2021-11-27T12:22:09.899Z"
   },
   {
    "duration": 6241,
    "start_time": "2021-11-27T12:22:19.937Z"
   },
   {
    "duration": 12,
    "start_time": "2021-11-27T12:22:56.341Z"
   },
   {
    "duration": 247,
    "start_time": "2021-11-27T12:23:40.571Z"
   },
   {
    "duration": 331,
    "start_time": "2021-11-27T12:23:53.355Z"
   },
   {
    "duration": 328,
    "start_time": "2021-11-27T12:24:05.856Z"
   },
   {
    "duration": 306,
    "start_time": "2021-11-27T12:24:53.375Z"
   },
   {
    "duration": 4,
    "start_time": "2021-11-27T12:25:00.518Z"
   },
   {
    "duration": 1040,
    "start_time": "2021-11-27T12:25:00.524Z"
   },
   {
    "duration": 1124,
    "start_time": "2021-11-27T12:25:01.566Z"
   },
   {
    "duration": 556,
    "start_time": "2021-11-27T12:25:02.693Z"
   },
   {
    "duration": 458,
    "start_time": "2021-11-27T12:25:03.252Z"
   },
   {
    "duration": 97,
    "start_time": "2021-11-27T12:25:03.712Z"
   },
   {
    "duration": 86,
    "start_time": "2021-11-27T12:25:03.812Z"
   },
   {
    "duration": 34,
    "start_time": "2021-11-27T12:25:03.901Z"
   },
   {
    "duration": 63,
    "start_time": "2021-11-27T12:25:03.939Z"
   },
   {
    "duration": 81,
    "start_time": "2021-11-27T12:25:04.004Z"
   },
   {
    "duration": 103,
    "start_time": "2021-11-27T12:25:04.087Z"
   },
   {
    "duration": 141,
    "start_time": "2021-11-27T12:25:04.193Z"
   },
   {
    "duration": 124,
    "start_time": "2021-11-27T12:25:04.336Z"
   },
   {
    "duration": 25,
    "start_time": "2021-11-27T12:25:04.462Z"
   },
   {
    "duration": 473,
    "start_time": "2021-11-27T12:25:04.489Z"
   },
   {
    "duration": 469,
    "start_time": "2021-11-27T12:25:18.075Z"
   },
   {
    "duration": 261,
    "start_time": "2021-11-27T12:26:07.817Z"
   },
   {
    "duration": 273,
    "start_time": "2021-11-27T12:26:29.982Z"
   },
   {
    "duration": 6,
    "start_time": "2021-11-27T12:26:48.166Z"
   },
   {
    "duration": 6,
    "start_time": "2021-11-27T12:26:55.166Z"
   },
   {
    "duration": 336,
    "start_time": "2021-11-27T12:27:09.263Z"
   },
   {
    "duration": 1714,
    "start_time": "2021-11-27T12:27:57.429Z"
   },
   {
    "duration": 1245,
    "start_time": "2021-11-27T12:27:59.145Z"
   },
   {
    "duration": 1241,
    "start_time": "2021-11-27T12:28:00.394Z"
   },
   {
    "duration": 628,
    "start_time": "2021-11-27T12:28:01.637Z"
   },
   {
    "duration": 525,
    "start_time": "2021-11-27T12:28:02.267Z"
   },
   {
    "duration": 104,
    "start_time": "2021-11-27T12:28:02.794Z"
   },
   {
    "duration": 64,
    "start_time": "2021-11-27T12:28:02.899Z"
   },
   {
    "duration": 16,
    "start_time": "2021-11-27T12:28:02.966Z"
   },
   {
    "duration": 94,
    "start_time": "2021-11-27T12:28:02.986Z"
   },
   {
    "duration": 87,
    "start_time": "2021-11-27T12:28:03.083Z"
   },
   {
    "duration": 80,
    "start_time": "2021-11-27T12:28:03.172Z"
   },
   {
    "duration": 102,
    "start_time": "2021-11-27T12:28:03.262Z"
   },
   {
    "duration": 54,
    "start_time": "2021-11-27T12:28:03.367Z"
   },
   {
    "duration": 14,
    "start_time": "2021-11-27T12:28:03.423Z"
   },
   {
    "duration": 24,
    "start_time": "2021-11-27T12:28:03.440Z"
   },
   {
    "duration": 4,
    "start_time": "2021-11-27T12:28:03.466Z"
   },
   {
    "duration": 21,
    "start_time": "2021-11-27T12:28:03.472Z"
   },
   {
    "duration": 71,
    "start_time": "2021-11-27T12:32:14.953Z"
   },
   {
    "duration": 21,
    "start_time": "2021-11-27T12:32:28.897Z"
   },
   {
    "duration": 429,
    "start_time": "2021-11-27T12:32:38.096Z"
   },
   {
    "duration": 289,
    "start_time": "2021-11-27T12:32:44.936Z"
   },
   {
    "duration": 1237,
    "start_time": "2021-11-27T12:32:55.339Z"
   },
   {
    "duration": 1070,
    "start_time": "2021-11-27T12:32:56.578Z"
   },
   {
    "duration": 1154,
    "start_time": "2021-11-27T12:32:57.651Z"
   },
   {
    "duration": 586,
    "start_time": "2021-11-27T12:32:58.807Z"
   },
   {
    "duration": 582,
    "start_time": "2021-11-27T12:32:59.395Z"
   },
   {
    "duration": 108,
    "start_time": "2021-11-27T12:32:59.979Z"
   },
   {
    "duration": 62,
    "start_time": "2021-11-27T12:33:00.089Z"
   },
   {
    "duration": 19,
    "start_time": "2021-11-27T12:33:00.152Z"
   },
   {
    "duration": 52,
    "start_time": "2021-11-27T12:33:00.174Z"
   },
   {
    "duration": 61,
    "start_time": "2021-11-27T12:33:00.228Z"
   },
   {
    "duration": 72,
    "start_time": "2021-11-27T12:33:00.291Z"
   },
   {
    "duration": 57,
    "start_time": "2021-11-27T12:33:00.365Z"
   },
   {
    "duration": 71,
    "start_time": "2021-11-27T12:33:00.424Z"
   },
   {
    "duration": 16,
    "start_time": "2021-11-27T12:33:00.496Z"
   },
   {
    "duration": 17,
    "start_time": "2021-11-27T12:33:00.514Z"
   },
   {
    "duration": 469,
    "start_time": "2021-11-27T12:33:00.533Z"
   },
   {
    "duration": 2472,
    "start_time": "2021-11-27T12:32:58.532Z"
   },
   {
    "duration": 2469,
    "start_time": "2021-11-27T12:32:58.536Z"
   },
   {
    "duration": 289,
    "start_time": "2021-11-27T12:33:12.173Z"
   },
   {
    "duration": 1270,
    "start_time": "2021-11-27T12:33:22.729Z"
   },
   {
    "duration": 1095,
    "start_time": "2021-11-27T12:33:24.001Z"
   },
   {
    "duration": 1231,
    "start_time": "2021-11-27T12:33:25.101Z"
   },
   {
    "duration": 574,
    "start_time": "2021-11-27T12:33:26.334Z"
   },
   {
    "duration": 562,
    "start_time": "2021-11-27T12:33:26.909Z"
   },
   {
    "duration": 101,
    "start_time": "2021-11-27T12:33:27.473Z"
   },
   {
    "duration": 55,
    "start_time": "2021-11-27T12:33:27.575Z"
   },
   {
    "duration": 33,
    "start_time": "2021-11-27T12:33:27.632Z"
   },
   {
    "duration": 47,
    "start_time": "2021-11-27T12:33:27.667Z"
   },
   {
    "duration": 58,
    "start_time": "2021-11-27T12:33:27.716Z"
   },
   {
    "duration": 49,
    "start_time": "2021-11-27T12:33:27.776Z"
   },
   {
    "duration": 49,
    "start_time": "2021-11-27T12:33:27.826Z"
   },
   {
    "duration": 60,
    "start_time": "2021-11-27T12:33:27.877Z"
   },
   {
    "duration": 25,
    "start_time": "2021-11-27T12:33:27.939Z"
   },
   {
    "duration": 7,
    "start_time": "2021-11-27T12:33:27.967Z"
   },
   {
    "duration": 221,
    "start_time": "2021-11-27T12:33:27.976Z"
   },
   {
    "duration": 21,
    "start_time": "2021-11-27T12:33:28.199Z"
   },
   {
    "duration": 20,
    "start_time": "2021-11-27T12:33:28.222Z"
   },
   {
    "duration": 4,
    "start_time": "2021-11-27T12:33:47.159Z"
   },
   {
    "duration": 1462,
    "start_time": "2021-11-27T12:33:52.974Z"
   },
   {
    "duration": 1127,
    "start_time": "2021-11-27T12:33:54.438Z"
   },
   {
    "duration": 1143,
    "start_time": "2021-11-27T12:33:55.567Z"
   },
   {
    "duration": 847,
    "start_time": "2021-11-27T12:33:56.713Z"
   },
   {
    "duration": 758,
    "start_time": "2021-11-27T12:33:57.564Z"
   },
   {
    "duration": 148,
    "start_time": "2021-11-27T12:33:58.324Z"
   },
   {
    "duration": 106,
    "start_time": "2021-11-27T12:33:58.475Z"
   },
   {
    "duration": 18,
    "start_time": "2021-11-27T12:33:58.585Z"
   },
   {
    "duration": 177,
    "start_time": "2021-11-27T12:33:58.606Z"
   },
   {
    "duration": 143,
    "start_time": "2021-11-27T12:33:58.785Z"
   },
   {
    "duration": 109,
    "start_time": "2021-11-27T12:33:58.930Z"
   },
   {
    "duration": 123,
    "start_time": "2021-11-27T12:33:59.041Z"
   },
   {
    "duration": 145,
    "start_time": "2021-11-27T12:33:59.167Z"
   },
   {
    "duration": 21,
    "start_time": "2021-11-27T12:33:59.314Z"
   },
   {
    "duration": 21,
    "start_time": "2021-11-27T12:33:59.337Z"
   },
   {
    "duration": 215,
    "start_time": "2021-11-27T12:33:59.362Z"
   },
   {
    "duration": 21,
    "start_time": "2021-11-27T12:33:59.580Z"
   },
   {
    "duration": 43,
    "start_time": "2021-11-27T12:33:59.603Z"
   },
   {
    "duration": 24,
    "start_time": "2021-11-27T12:35:26.850Z"
   },
   {
    "duration": 25,
    "start_time": "2021-11-27T12:36:46.407Z"
   },
   {
    "duration": 4,
    "start_time": "2021-11-27T12:37:04.852Z"
   },
   {
    "duration": 1060,
    "start_time": "2021-11-27T12:37:04.858Z"
   },
   {
    "duration": 1174,
    "start_time": "2021-11-27T12:37:05.920Z"
   },
   {
    "duration": 548,
    "start_time": "2021-11-27T12:37:07.096Z"
   },
   {
    "duration": 455,
    "start_time": "2021-11-27T12:37:07.646Z"
   },
   {
    "duration": 95,
    "start_time": "2021-11-27T12:37:08.103Z"
   },
   {
    "duration": 67,
    "start_time": "2021-11-27T12:37:08.200Z"
   },
   {
    "duration": 11,
    "start_time": "2021-11-27T12:37:08.269Z"
   },
   {
    "duration": 46,
    "start_time": "2021-11-27T12:37:08.283Z"
   },
   {
    "duration": 58,
    "start_time": "2021-11-27T12:37:08.332Z"
   },
   {
    "duration": 46,
    "start_time": "2021-11-27T12:37:08.392Z"
   },
   {
    "duration": 58,
    "start_time": "2021-11-27T12:37:08.440Z"
   },
   {
    "duration": 63,
    "start_time": "2021-11-27T12:37:08.500Z"
   },
   {
    "duration": 17,
    "start_time": "2021-11-27T12:37:08.565Z"
   },
   {
    "duration": 440,
    "start_time": "2021-11-27T12:37:08.584Z"
   },
   {
    "duration": 2473,
    "start_time": "2021-11-27T12:37:06.554Z"
   },
   {
    "duration": 2471,
    "start_time": "2021-11-27T12:37:06.557Z"
   },
   {
    "duration": 2471,
    "start_time": "2021-11-27T12:37:06.558Z"
   },
   {
    "duration": 4,
    "start_time": "2021-11-27T12:37:13.776Z"
   },
   {
    "duration": 1086,
    "start_time": "2021-11-27T12:37:13.782Z"
   },
   {
    "duration": 1102,
    "start_time": "2021-11-27T12:37:14.870Z"
   },
   {
    "duration": 618,
    "start_time": "2021-11-27T12:37:15.974Z"
   },
   {
    "duration": 512,
    "start_time": "2021-11-27T12:37:16.594Z"
   },
   {
    "duration": 100,
    "start_time": "2021-11-27T12:37:17.107Z"
   },
   {
    "duration": 63,
    "start_time": "2021-11-27T12:37:17.209Z"
   },
   {
    "duration": 10,
    "start_time": "2021-11-27T12:37:17.273Z"
   },
   {
    "duration": 54,
    "start_time": "2021-11-27T12:37:17.286Z"
   },
   {
    "duration": 75,
    "start_time": "2021-11-27T12:37:17.342Z"
   },
   {
    "duration": 45,
    "start_time": "2021-11-27T12:37:17.419Z"
   },
   {
    "duration": 44,
    "start_time": "2021-11-27T12:37:17.466Z"
   },
   {
    "duration": 67,
    "start_time": "2021-11-27T12:37:17.512Z"
   },
   {
    "duration": 14,
    "start_time": "2021-11-27T12:37:17.581Z"
   },
   {
    "duration": 260,
    "start_time": "2021-11-27T12:37:21.784Z"
   },
   {
    "duration": 262,
    "start_time": "2021-11-27T12:37:49.623Z"
   },
   {
    "duration": 255,
    "start_time": "2021-11-27T12:37:59.959Z"
   },
   {
    "duration": 248,
    "start_time": "2021-11-27T12:38:08.132Z"
   },
   {
    "duration": 477,
    "start_time": "2021-11-27T12:39:28.924Z"
   },
   {
    "duration": 139,
    "start_time": "2021-11-27T12:39:44.219Z"
   },
   {
    "duration": 168,
    "start_time": "2021-11-27T12:39:50.760Z"
   },
   {
    "duration": 6,
    "start_time": "2021-11-27T12:40:43.913Z"
   },
   {
    "duration": 1067,
    "start_time": "2021-11-27T12:40:43.921Z"
   },
   {
    "duration": 1179,
    "start_time": "2021-11-27T12:40:44.991Z"
   },
   {
    "duration": 556,
    "start_time": "2021-11-27T12:40:46.172Z"
   },
   {
    "duration": 474,
    "start_time": "2021-11-27T12:40:46.729Z"
   },
   {
    "duration": 106,
    "start_time": "2021-11-27T12:40:47.205Z"
   },
   {
    "duration": 67,
    "start_time": "2021-11-27T12:40:47.313Z"
   },
   {
    "duration": 10,
    "start_time": "2021-11-27T12:40:47.382Z"
   },
   {
    "duration": 68,
    "start_time": "2021-11-27T12:40:47.395Z"
   },
   {
    "duration": 51,
    "start_time": "2021-11-27T12:40:47.466Z"
   },
   {
    "duration": 63,
    "start_time": "2021-11-27T12:40:47.519Z"
   },
   {
    "duration": 47,
    "start_time": "2021-11-27T12:40:47.584Z"
   },
   {
    "duration": 72,
    "start_time": "2021-11-27T12:40:47.633Z"
   },
   {
    "duration": 18,
    "start_time": "2021-11-27T12:40:47.707Z"
   },
   {
    "duration": 4,
    "start_time": "2021-11-27T12:40:47.727Z"
   },
   {
    "duration": 9,
    "start_time": "2021-11-27T12:40:47.734Z"
   },
   {
    "duration": 260,
    "start_time": "2021-11-27T12:42:11.827Z"
   },
   {
    "duration": 134,
    "start_time": "2021-11-27T12:42:17.613Z"
   },
   {
    "duration": 18,
    "start_time": "2021-11-27T12:42:21.761Z"
   },
   {
    "duration": 241,
    "start_time": "2021-11-27T12:44:32.799Z"
   },
   {
    "duration": 5,
    "start_time": "2021-11-27T12:44:56.220Z"
   },
   {
    "duration": 447,
    "start_time": "2021-11-27T12:44:59.487Z"
   },
   {
    "duration": 146,
    "start_time": "2021-11-27T12:45:05.229Z"
   },
   {
    "duration": 17,
    "start_time": "2021-11-27T12:45:10.418Z"
   },
   {
    "duration": 171,
    "start_time": "2021-11-27T12:45:31.700Z"
   },
   {
    "duration": 16,
    "start_time": "2021-11-27T12:45:31.979Z"
   },
   {
    "duration": 6,
    "start_time": "2021-11-27T12:45:41.840Z"
   },
   {
    "duration": 1125,
    "start_time": "2021-11-27T12:45:41.848Z"
   },
   {
    "duration": 1309,
    "start_time": "2021-11-27T12:45:42.976Z"
   },
   {
    "duration": 569,
    "start_time": "2021-11-27T12:45:44.287Z"
   },
   {
    "duration": 497,
    "start_time": "2021-11-27T12:45:44.858Z"
   },
   {
    "duration": 89,
    "start_time": "2021-11-27T12:45:45.357Z"
   },
   {
    "duration": 147,
    "start_time": "2021-11-27T12:45:45.448Z"
   },
   {
    "duration": 74,
    "start_time": "2021-11-27T12:45:45.598Z"
   },
   {
    "duration": 12,
    "start_time": "2021-11-27T12:45:45.676Z"
   },
   {
    "duration": 86,
    "start_time": "2021-11-27T12:45:45.691Z"
   },
   {
    "duration": 80,
    "start_time": "2021-11-27T12:45:45.779Z"
   },
   {
    "duration": 62,
    "start_time": "2021-11-27T12:45:45.861Z"
   },
   {
    "duration": 65,
    "start_time": "2021-11-27T12:45:45.925Z"
   },
   {
    "duration": 66,
    "start_time": "2021-11-27T12:45:45.991Z"
   },
   {
    "duration": 20,
    "start_time": "2021-11-27T12:45:46.059Z"
   },
   {
    "duration": 309,
    "start_time": "2021-11-27T12:45:46.081Z"
   },
   {
    "duration": 21,
    "start_time": "2021-11-27T12:45:46.393Z"
   },
   {
    "duration": 101,
    "start_time": "2021-11-27T12:47:35.938Z"
   },
   {
    "duration": 18,
    "start_time": "2021-11-27T12:47:40.172Z"
   },
   {
    "duration": 17,
    "start_time": "2021-11-27T12:47:44.512Z"
   },
   {
    "duration": 4,
    "start_time": "2021-11-27T12:48:18.858Z"
   },
   {
    "duration": 30,
    "start_time": "2021-11-27T12:49:09.828Z"
   },
   {
    "duration": 19,
    "start_time": "2021-11-27T12:49:18.676Z"
   },
   {
    "duration": 16,
    "start_time": "2021-11-27T12:49:33.060Z"
   },
   {
    "duration": 141,
    "start_time": "2021-11-27T12:50:09.447Z"
   },
   {
    "duration": 3,
    "start_time": "2021-11-27T13:21:50.426Z"
   },
   {
    "duration": 4,
    "start_time": "2021-11-27T13:21:56.313Z"
   },
   {
    "duration": 5,
    "start_time": "2021-11-27T13:22:03.627Z"
   },
   {
    "duration": 1130,
    "start_time": "2021-11-27T13:22:03.634Z"
   },
   {
    "duration": 1175,
    "start_time": "2021-11-27T13:22:04.766Z"
   },
   {
    "duration": 563,
    "start_time": "2021-11-27T13:22:05.943Z"
   },
   {
    "duration": 485,
    "start_time": "2021-11-27T13:22:06.518Z"
   },
   {
    "duration": 93,
    "start_time": "2021-11-27T13:22:07.005Z"
   },
   {
    "duration": 55,
    "start_time": "2021-11-27T13:22:07.100Z"
   },
   {
    "duration": 9,
    "start_time": "2021-11-27T13:22:07.164Z"
   },
   {
    "duration": 46,
    "start_time": "2021-11-27T13:22:07.175Z"
   },
   {
    "duration": 58,
    "start_time": "2021-11-27T13:22:07.224Z"
   },
   {
    "duration": 45,
    "start_time": "2021-11-27T13:22:07.284Z"
   },
   {
    "duration": 52,
    "start_time": "2021-11-27T13:22:07.331Z"
   },
   {
    "duration": 58,
    "start_time": "2021-11-27T13:22:07.385Z"
   },
   {
    "duration": 118,
    "start_time": "2021-11-27T13:22:07.445Z"
   },
   {
    "duration": 154,
    "start_time": "2021-11-27T13:22:07.565Z"
   },
   {
    "duration": 4,
    "start_time": "2021-11-27T13:22:07.721Z"
   },
   {
    "duration": 4,
    "start_time": "2021-11-27T13:22:22.474Z"
   },
   {
    "duration": 18,
    "start_time": "2021-11-27T13:22:45.105Z"
   },
   {
    "duration": 4,
    "start_time": "2021-11-27T13:32:24.133Z"
   },
   {
    "duration": 5,
    "start_time": "2021-11-27T13:32:29.070Z"
   },
   {
    "duration": 5,
    "start_time": "2021-11-27T13:33:13.096Z"
   },
   {
    "duration": 5,
    "start_time": "2021-11-27T13:34:52.779Z"
   },
   {
    "duration": 275,
    "start_time": "2021-11-27T13:35:33.227Z"
   },
   {
    "duration": 253,
    "start_time": "2021-11-27T13:35:44.573Z"
   },
   {
    "duration": 276,
    "start_time": "2021-11-27T13:35:49.162Z"
   },
   {
    "duration": 4,
    "start_time": "2021-11-27T13:35:56.311Z"
   },
   {
    "duration": 7,
    "start_time": "2021-11-27T13:35:57.020Z"
   },
   {
    "duration": 4,
    "start_time": "2021-11-27T13:37:29.538Z"
   },
   {
    "duration": 298,
    "start_time": "2021-11-27T13:37:48.141Z"
   },
   {
    "duration": 4983,
    "start_time": "2021-11-27T13:37:56.202Z"
   },
   {
    "duration": 270,
    "start_time": "2021-11-27T13:38:08.575Z"
   },
   {
    "duration": 5,
    "start_time": "2021-11-27T13:38:13.336Z"
   },
   {
    "duration": 47,
    "start_time": "2021-11-27T13:38:49.792Z"
   },
   {
    "duration": 46,
    "start_time": "2021-11-27T13:39:00.838Z"
   },
   {
    "duration": 280,
    "start_time": "2021-11-27T13:39:44.769Z"
   },
   {
    "duration": 47,
    "start_time": "2021-11-27T13:39:50.476Z"
   },
   {
    "duration": 300,
    "start_time": "2021-11-27T13:40:21.515Z"
   },
   {
    "duration": 287,
    "start_time": "2021-11-27T13:40:29.567Z"
   },
   {
    "duration": 7212,
    "start_time": "2021-11-27T13:43:35.985Z"
   },
   {
    "duration": 1810,
    "start_time": "2021-11-27T13:43:43.200Z"
   },
   {
    "duration": 1875,
    "start_time": "2021-11-27T13:43:45.014Z"
   },
   {
    "duration": 2257,
    "start_time": "2021-11-27T13:43:46.892Z"
   },
   {
    "duration": 1073,
    "start_time": "2021-11-27T13:43:49.152Z"
   },
   {
    "duration": 867,
    "start_time": "2021-11-27T13:43:50.228Z"
   },
   {
    "duration": 209,
    "start_time": "2021-11-27T13:43:51.098Z"
   },
   {
    "duration": 94,
    "start_time": "2021-11-27T13:43:51.312Z"
   },
   {
    "duration": 23,
    "start_time": "2021-11-27T13:43:51.410Z"
   },
   {
    "duration": 78,
    "start_time": "2021-11-27T13:43:51.436Z"
   },
   {
    "duration": 76,
    "start_time": "2021-11-27T13:43:51.517Z"
   },
   {
    "duration": 73,
    "start_time": "2021-11-27T13:43:51.597Z"
   },
   {
    "duration": 64,
    "start_time": "2021-11-27T13:43:51.673Z"
   },
   {
    "duration": 106,
    "start_time": "2021-11-27T13:43:51.740Z"
   },
   {
    "duration": 197,
    "start_time": "2021-11-27T13:43:51.849Z"
   },
   {
    "duration": 168,
    "start_time": "2021-11-27T13:43:52.049Z"
   },
   {
    "duration": 3,
    "start_time": "2021-11-27T13:43:52.219Z"
   },
   {
    "duration": 41,
    "start_time": "2021-11-27T13:43:52.224Z"
   },
   {
    "duration": 19,
    "start_time": "2021-11-27T13:43:52.268Z"
   },
   {
    "duration": 6,
    "start_time": "2021-11-27T13:43:52.289Z"
   },
   {
    "duration": 8663,
    "start_time": "2021-11-27T13:43:52.297Z"
   },
   {
    "duration": 475,
    "start_time": "2021-11-27T13:44:00.963Z"
   },
   {
    "duration": 2510,
    "start_time": "2021-11-27T13:43:58.931Z"
   },
   {
    "duration": 2507,
    "start_time": "2021-11-27T13:43:58.935Z"
   },
   {
    "duration": 2506,
    "start_time": "2021-11-27T13:43:58.938Z"
   },
   {
    "duration": 303,
    "start_time": "2021-11-27T13:44:18.719Z"
   },
   {
    "duration": 335,
    "start_time": "2021-11-27T13:44:24.725Z"
   },
   {
    "duration": 5,
    "start_time": "2021-11-27T13:44:35.113Z"
   },
   {
    "duration": 4,
    "start_time": "2021-11-27T13:44:37.029Z"
   },
   {
    "duration": 93,
    "start_time": "2021-11-27T13:44:46.551Z"
   },
   {
    "duration": 5,
    "start_time": "2021-11-27T13:44:50.136Z"
   },
   {
    "duration": 94,
    "start_time": "2021-11-27T13:44:53.523Z"
   },
   {
    "duration": 5,
    "start_time": "2021-11-27T13:44:53.809Z"
   },
   {
    "duration": 5,
    "start_time": "2021-11-27T13:45:02.349Z"
   },
   {
    "duration": 5,
    "start_time": "2021-11-27T13:45:11.632Z"
   },
   {
    "duration": 119,
    "start_time": "2021-11-27T13:45:20.522Z"
   },
   {
    "duration": 5,
    "start_time": "2021-11-27T13:45:21.142Z"
   },
   {
    "duration": 4,
    "start_time": "2021-11-27T13:45:21.482Z"
   },
   {
    "duration": 80,
    "start_time": "2021-11-27T13:45:40.166Z"
   },
   {
    "duration": 5,
    "start_time": "2021-11-27T13:45:40.377Z"
   },
   {
    "duration": 4,
    "start_time": "2021-11-27T13:45:53.853Z"
   },
   {
    "duration": 9693,
    "start_time": "2021-11-27T13:45:58.428Z"
   },
   {
    "duration": 88,
    "start_time": "2021-11-27T13:46:08.123Z"
   },
   {
    "duration": 4,
    "start_time": "2021-11-27T13:46:08.213Z"
   },
   {
    "duration": 7,
    "start_time": "2021-11-27T13:46:08.219Z"
   },
   {
    "duration": 910,
    "start_time": "2021-11-27T13:46:46.900Z"
   },
   {
    "duration": 8479,
    "start_time": "2021-11-27T13:47:04.026Z"
   },
   {
    "duration": 4680,
    "start_time": "2021-11-27T13:48:18.843Z"
   },
   {
    "duration": 5,
    "start_time": "2021-11-27T13:48:27.691Z"
   },
   {
    "duration": 608,
    "start_time": "2021-11-27T13:56:29.271Z"
   },
   {
    "duration": 9849,
    "start_time": "2021-11-27T13:56:33.703Z"
   },
   {
    "duration": 117564,
    "start_time": "2021-11-27T13:57:34.455Z"
   },
   {
    "duration": 10732,
    "start_time": "2021-11-27T13:59:38.778Z"
   },
   {
    "duration": 10172,
    "start_time": "2021-11-27T13:59:58.492Z"
   },
   {
    "duration": 278179,
    "start_time": "2021-11-27T14:00:08.666Z"
   },
   {
    "duration": 25823,
    "start_time": "2021-11-27T14:04:47.990Z"
   },
   {
    "duration": 24594,
    "start_time": "2021-11-27T14:05:22.382Z"
   },
   {
    "duration": 1730889,
    "start_time": "2021-11-27T14:05:50.079Z"
   },
   {
    "duration": 251564,
    "start_time": "2021-11-27T14:34:40.971Z"
   },
   {
    "duration": 2511,
    "start_time": "2021-11-27T14:38:50.026Z"
   },
   {
    "duration": 2511,
    "start_time": "2021-11-27T14:38:50.027Z"
   },
   {
    "duration": 4,
    "start_time": "2021-11-27T14:38:54.407Z"
   },
   {
    "duration": 3050391,
    "start_time": "2021-11-27T14:39:17.828Z"
   },
   {
    "duration": 2526,
    "start_time": "2021-11-27T15:30:05.696Z"
   },
   {
    "duration": 33495,
    "start_time": "2021-11-27T15:30:52.443Z"
   },
   {
    "duration": 2232545,
    "start_time": "2021-11-27T15:31:27.107Z"
   },
   {
    "duration": 2942188,
    "start_time": "2021-11-27T16:09:06.089Z"
   },
   {
    "duration": 3,
    "start_time": "2021-11-27T16:58:08.279Z"
   },
   {
    "duration": 4,
    "start_time": "2021-11-27T17:04:07.233Z"
   },
   {
    "duration": 4,
    "start_time": "2021-11-27T17:16:11.110Z"
   },
   {
    "duration": 308446,
    "start_time": "2021-11-27T17:19:26.410Z"
   },
   {
    "duration": -38,
    "start_time": "2021-11-27T17:24:34.897Z"
   },
   {
    "duration": 265,
    "start_time": "2021-11-27T17:25:47.082Z"
   },
   {
    "duration": 341026,
    "start_time": "2021-11-27T17:25:51.664Z"
   },
   {
    "duration": 251,
    "start_time": "2021-11-27T17:31:32.692Z"
   },
   {
    "duration": 4,
    "start_time": "2021-11-27T17:33:43.739Z"
   },
   {
    "duration": 358,
    "start_time": "2021-11-27T17:34:24.021Z"
   },
   {
    "duration": 371,
    "start_time": "2021-11-27T17:34:28.999Z"
   },
   {
    "duration": 340,
    "start_time": "2021-11-27T17:34:30.839Z"
   },
   {
    "duration": 329,
    "start_time": "2021-11-27T17:34:32.150Z"
   },
   {
    "duration": 355,
    "start_time": "2021-11-27T17:34:33.411Z"
   },
   {
    "duration": 340,
    "start_time": "2021-11-27T17:34:34.851Z"
   },
   {
    "duration": 373,
    "start_time": "2021-11-27T17:34:43.206Z"
   },
   {
    "duration": 4,
    "start_time": "2021-11-27T17:34:57.716Z"
   },
   {
    "duration": 365019,
    "start_time": "2021-11-27T17:35:10.685Z"
   },
   {
    "duration": 4,
    "start_time": "2021-11-27T17:41:15.707Z"
   },
   {
    "duration": 4,
    "start_time": "2021-11-27T17:44:26.635Z"
   },
   {
    "duration": 5,
    "start_time": "2021-11-27T17:44:28.675Z"
   },
   {
    "duration": 4,
    "start_time": "2021-11-27T17:44:35.941Z"
   },
   {
    "duration": 4,
    "start_time": "2021-11-27T17:44:44.033Z"
   },
   {
    "duration": 11,
    "start_time": "2021-11-27T17:45:42.288Z"
   },
   {
    "duration": 6,
    "start_time": "2021-11-27T17:46:13.068Z"
   },
   {
    "duration": 237,
    "start_time": "2021-11-27T17:46:25.042Z"
   },
   {
    "duration": 159,
    "start_time": "2021-11-27T18:21:19.481Z"
   },
   {
    "duration": 84,
    "start_time": "2021-11-27T18:21:20.778Z"
   },
   {
    "duration": 11,
    "start_time": "2021-11-27T18:21:21.137Z"
   },
   {
    "duration": 52,
    "start_time": "2021-11-27T18:21:21.450Z"
   },
   {
    "duration": 54,
    "start_time": "2021-11-27T18:21:21.660Z"
   },
   {
    "duration": 53,
    "start_time": "2021-11-27T18:21:21.839Z"
   },
   {
    "duration": 43,
    "start_time": "2021-11-27T18:21:22.005Z"
   },
   {
    "duration": 78,
    "start_time": "2021-11-27T18:21:22.392Z"
   },
   {
    "duration": 106,
    "start_time": "2021-11-27T18:21:34.623Z"
   },
   {
    "duration": 80,
    "start_time": "2021-11-27T18:21:34.959Z"
   },
   {
    "duration": 11,
    "start_time": "2021-11-27T18:21:35.113Z"
   },
   {
    "duration": 55,
    "start_time": "2021-11-27T18:21:35.267Z"
   },
   {
    "duration": 56,
    "start_time": "2021-11-27T18:21:35.559Z"
   },
   {
    "duration": 52,
    "start_time": "2021-11-27T18:21:35.749Z"
   },
   {
    "duration": 60,
    "start_time": "2021-11-27T18:21:35.969Z"
   },
   {
    "duration": 120,
    "start_time": "2021-11-27T18:21:36.305Z"
   },
   {
    "duration": 102,
    "start_time": "2021-11-27T18:21:44.899Z"
   },
   {
    "duration": 121,
    "start_time": "2021-11-27T18:21:46.061Z"
   },
   {
    "duration": 11,
    "start_time": "2021-11-27T18:21:46.601Z"
   },
   {
    "duration": 62,
    "start_time": "2021-11-27T18:21:46.829Z"
   },
   {
    "duration": 101,
    "start_time": "2021-11-27T18:21:57.968Z"
   },
   {
    "duration": 75,
    "start_time": "2021-11-27T18:21:58.314Z"
   },
   {
    "duration": 10,
    "start_time": "2021-11-27T18:21:58.480Z"
   },
   {
    "duration": 55,
    "start_time": "2021-11-27T18:21:58.641Z"
   },
   {
    "duration": 46,
    "start_time": "2021-11-27T18:21:58.876Z"
   },
   {
    "duration": 46,
    "start_time": "2021-11-27T18:21:59.076Z"
   },
   {
    "duration": 45,
    "start_time": "2021-11-27T18:21:59.281Z"
   },
   {
    "duration": 96,
    "start_time": "2021-11-27T18:21:59.648Z"
   },
   {
    "duration": 155,
    "start_time": "2021-11-27T18:22:01.196Z"
   },
   {
    "duration": 171,
    "start_time": "2021-11-27T18:22:02.556Z"
   },
   {
    "duration": 421944,
    "start_time": "2021-11-27T18:22:06.219Z"
   },
   {
    "duration": 13,
    "start_time": "2021-11-27T18:29:08.167Z"
   },
   {
    "duration": 115,
    "start_time": "2021-11-27T18:31:12.364Z"
   },
   {
    "duration": 83,
    "start_time": "2021-11-27T18:31:13.870Z"
   },
   {
    "duration": 18,
    "start_time": "2021-11-27T18:32:06.399Z"
   },
   {
    "duration": 20,
    "start_time": "2021-11-27T18:32:13.835Z"
   },
   {
    "duration": 2823,
    "start_time": "2021-11-27T18:34:11.391Z"
   },
   {
    "duration": 2842,
    "start_time": "2021-11-27T18:34:17.521Z"
   },
   {
    "duration": 5,
    "start_time": "2021-11-27T18:34:20.367Z"
   },
   {
    "duration": 26,
    "start_time": "2021-11-27T18:34:20.374Z"
   },
   {
    "duration": 1109,
    "start_time": "2021-11-27T18:34:20.403Z"
   },
   {
    "duration": 1586,
    "start_time": "2021-11-27T18:34:21.514Z"
   },
   {
    "duration": 764,
    "start_time": "2021-11-27T18:34:23.102Z"
   },
   {
    "duration": 487,
    "start_time": "2021-11-27T18:34:23.868Z"
   },
   {
    "duration": 121,
    "start_time": "2021-11-27T18:34:24.357Z"
   },
   {
    "duration": 101,
    "start_time": "2021-11-27T18:34:24.481Z"
   },
   {
    "duration": 14,
    "start_time": "2021-11-27T18:34:24.586Z"
   },
   {
    "duration": 44,
    "start_time": "2021-11-27T18:34:24.602Z"
   },
   {
    "duration": 63,
    "start_time": "2021-11-27T18:34:24.648Z"
   },
   {
    "duration": 59,
    "start_time": "2021-11-27T18:34:24.713Z"
   },
   {
    "duration": 55,
    "start_time": "2021-11-27T18:34:24.774Z"
   },
   {
    "duration": 18,
    "start_time": "2021-11-27T18:34:24.831Z"
   },
   {
    "duration": 1696,
    "start_time": "2021-11-27T18:34:24.867Z"
   },
   {
    "duration": 85,
    "start_time": "2021-11-27T18:34:26.565Z"
   },
   {
    "duration": 3350,
    "start_time": "2021-11-27T18:35:03.680Z"
   },
   {
    "duration": 5,
    "start_time": "2021-11-27T18:35:07.033Z"
   },
   {
    "duration": 5,
    "start_time": "2021-11-27T18:35:07.040Z"
   },
   {
    "duration": 1103,
    "start_time": "2021-11-27T18:35:07.047Z"
   },
   {
    "duration": 1229,
    "start_time": "2021-11-27T18:35:08.151Z"
   },
   {
    "duration": 568,
    "start_time": "2021-11-27T18:35:09.382Z"
   },
   {
    "duration": 495,
    "start_time": "2021-11-27T18:35:09.951Z"
   },
   {
    "duration": 125,
    "start_time": "2021-11-27T18:35:10.449Z"
   },
   {
    "duration": 77,
    "start_time": "2021-11-27T18:35:10.577Z"
   },
   {
    "duration": 16,
    "start_time": "2021-11-27T18:35:10.667Z"
   },
   {
    "duration": 87,
    "start_time": "2021-11-27T18:35:10.685Z"
   },
   {
    "duration": 74,
    "start_time": "2021-11-27T18:35:10.774Z"
   },
   {
    "duration": 65,
    "start_time": "2021-11-27T18:35:10.850Z"
   },
   {
    "duration": 86,
    "start_time": "2021-11-27T18:35:10.917Z"
   },
   {
    "duration": 2772,
    "start_time": "2021-11-27T18:35:11.005Z"
   },
   {
    "duration": 89,
    "start_time": "2021-11-27T18:35:13.780Z"
   },
   {
    "duration": 761,
    "start_time": "2021-11-27T18:35:13.872Z"
   },
   {
    "duration": 262,
    "start_time": "2021-11-27T18:35:14.635Z"
   },
   {
    "duration": 3,
    "start_time": "2021-11-27T18:35:14.899Z"
   },
   {
    "duration": 6,
    "start_time": "2021-11-27T18:35:14.903Z"
   },
   {
    "duration": 7,
    "start_time": "2021-11-27T18:35:14.910Z"
   },
   {
    "duration": 837876,
    "start_time": "2021-11-27T18:35:14.919Z"
   },
   {
    "duration": 9,
    "start_time": "2021-11-27T18:49:12.798Z"
   },
   {
    "duration": 20,
    "start_time": "2021-11-27T18:54:59.823Z"
   },
   {
    "duration": 280,
    "start_time": "2021-11-27T18:55:46.037Z"
   },
   {
    "duration": 6110,
    "start_time": "2021-11-27T18:55:54.097Z"
   },
   {
    "duration": 294,
    "start_time": "2021-11-27T18:56:00.210Z"
   },
   {
    "duration": 59,
    "start_time": "2021-11-27T18:56:00.448Z"
   },
   {
    "duration": 59,
    "start_time": "2021-11-27T18:56:00.449Z"
   },
   {
    "duration": 61,
    "start_time": "2021-11-27T18:56:00.449Z"
   },
   {
    "duration": 60,
    "start_time": "2021-11-27T18:56:00.451Z"
   },
   {
    "duration": 61,
    "start_time": "2021-11-27T18:56:00.452Z"
   },
   {
    "duration": 61,
    "start_time": "2021-11-27T18:56:00.453Z"
   },
   {
    "duration": 54,
    "start_time": "2021-11-27T18:56:00.462Z"
   },
   {
    "duration": 52,
    "start_time": "2021-11-27T18:56:00.465Z"
   },
   {
    "duration": 52,
    "start_time": "2021-11-27T18:56:00.467Z"
   },
   {
    "duration": 52,
    "start_time": "2021-11-27T18:56:00.468Z"
   },
   {
    "duration": 53,
    "start_time": "2021-11-27T18:56:00.469Z"
   },
   {
    "duration": 53,
    "start_time": "2021-11-27T18:56:00.470Z"
   },
   {
    "duration": 53,
    "start_time": "2021-11-27T18:56:00.471Z"
   },
   {
    "duration": 54,
    "start_time": "2021-11-27T18:56:00.472Z"
   },
   {
    "duration": 55,
    "start_time": "2021-11-27T18:56:00.473Z"
   },
   {
    "duration": 55,
    "start_time": "2021-11-27T18:56:00.474Z"
   },
   {
    "duration": 55,
    "start_time": "2021-11-27T18:56:00.475Z"
   },
   {
    "duration": 55,
    "start_time": "2021-11-27T18:56:00.476Z"
   },
   {
    "duration": 2592,
    "start_time": "2021-11-27T18:56:17.285Z"
   },
   {
    "duration": 1443,
    "start_time": "2021-11-27T18:56:19.878Z"
   },
   {
    "duration": 1643,
    "start_time": "2021-11-27T18:56:21.324Z"
   },
   {
    "duration": 1556,
    "start_time": "2021-11-27T18:56:22.969Z"
   },
   {
    "duration": 629,
    "start_time": "2021-11-27T18:56:24.527Z"
   },
   {
    "duration": 545,
    "start_time": "2021-11-27T18:56:25.158Z"
   },
   {
    "duration": 157,
    "start_time": "2021-11-27T18:56:25.706Z"
   },
   {
    "duration": 79,
    "start_time": "2021-11-27T18:56:25.866Z"
   },
   {
    "duration": 30,
    "start_time": "2021-11-27T18:56:25.948Z"
   },
   {
    "duration": 50,
    "start_time": "2021-11-27T18:56:25.981Z"
   },
   {
    "duration": 72,
    "start_time": "2021-11-27T18:56:26.033Z"
   },
   {
    "duration": 96,
    "start_time": "2021-11-27T18:56:26.107Z"
   },
   {
    "duration": 43,
    "start_time": "2021-11-27T18:56:26.205Z"
   },
   {
    "duration": 122,
    "start_time": "2021-11-27T18:56:26.250Z"
   },
   {
    "duration": 252,
    "start_time": "2021-11-27T18:56:26.374Z"
   },
   {
    "duration": 186,
    "start_time": "2021-11-27T18:56:26.628Z"
   },
   {
    "duration": 35864,
    "start_time": "2021-11-27T18:56:26.816Z"
   },
   {
    "duration": 1469443,
    "start_time": "2021-11-27T18:57:02.683Z"
   },
   {
    "duration": 3501365,
    "start_time": "2021-11-27T19:21:32.128Z"
   },
   {
    "duration": 342292,
    "start_time": "2021-11-27T20:22:25.794Z"
   },
   {
    "duration": 10,
    "start_time": "2021-11-27T20:28:08.088Z"
   }
  ],
  "kernelspec": {
   "display_name": "Python 3 (ipykernel)",
   "language": "python",
   "name": "python3"
  },
  "language_info": {
   "codemirror_mode": {
    "name": "ipython",
    "version": 3
   },
   "file_extension": ".py",
   "mimetype": "text/x-python",
   "name": "python",
   "nbconvert_exporter": "python",
   "pygments_lexer": "ipython3",
   "version": "3.7.6"
  },
  "toc": {
   "base_numbering": 1,
   "nav_menu": {},
   "number_sections": true,
   "sideBar": true,
   "skip_h1_title": true,
   "title_cell": "Table of Contents",
   "title_sidebar": "Contents",
   "toc_cell": false,
   "toc_position": {},
   "toc_section_display": true,
   "toc_window_display": false
  }
 },
 "nbformat": 4,
 "nbformat_minor": 2
}
